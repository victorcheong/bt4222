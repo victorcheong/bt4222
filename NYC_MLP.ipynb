{
 "cells": [
  {
   "cell_type": "code",
   "metadata": {
    "tags": [],
    "cell_id": "efe48291-ba6d-4ffc-9ebc-7dd033999251",
    "deepnote_to_be_reexecuted": false,
    "source_hash": "dd9b15a1",
    "execution_start": 1648080643606,
    "execution_millis": 2683,
    "owner_user_id": "1f1d101d-e727-4110-b86f-42f255a8aee3",
    "deepnote_cell_type": "code",
    "deepnote_cell_height": 585
   },
   "source": "import pickle\nimport numpy as np\nfrom sklearn.svm import SVR\nfrom sklearn.svm import LinearSVR\nfrom sklearn.model_selection import GridSearchCV\nfrom sklearn.metrics import make_scorer\nfrom sklearn.metrics import mean_squared_error\nimport joblib\nfrom sklearn import linear_model\nimport xgboost\nfrom xgboost import XGBRegressor\nfrom sklearn.model_selection import RandomizedSearchCV\nfrom sklearn.ensemble import RandomForestRegressor\n\nscorer = make_scorer(mean_squared_error, greater_is_better=False)\n\ndef calculate_rrmse(model, x_test, y_test, y_train):\n    preds = model.predict(x_test).ravel()\n    y_bar_train = np.mean(y_train)\n    naive_sse = sum((y_bar_train - y_test) ** 2)\n    model_sse = sum((preds - y_test) ** 2)\n    rrmse = 100 * np.sqrt(model_sse / naive_sse)\n    return rrmse\n\ndef get_results(model):\n    print(calculate_rrmse(model, X_train.tocsr(), y_train, y_train))\n    print(calculate_rrmse(model, X_val.tocsr(), y_val, y_train))\n    print(calculate_rrmse(model, X_test.tocsr(), y_test, y_train))\n    return",
   "execution_count": null,
   "outputs": []
  },
  {
   "cell_type": "code",
   "metadata": {
    "cell_id": "9954e1e2-00c6-4de4-b44a-2a94baf1a724",
    "tags": [],
    "deepnote_to_be_reexecuted": false,
    "source_hash": "a2714f78",
    "execution_start": 1648080682309,
    "execution_millis": 883,
    "deepnote_cell_type": "code",
    "deepnote_cell_height": 513
   },
   "source": "with open('pkls/NY_SG_no_review_ratings_x_train.pkl', 'rb') as f:\n    X_train = pickle.load(f)\n\nwith open('pkls/NY_SG_no_review_ratings_y_train.pkl', 'rb') as f:\n    y_train = pickle.load(f)\n\nwith open('pkls/NY_SG_no_review_ratings_x_val.pkl', 'rb') as f:\n    X_val = pickle.load(f)\n\nwith open('pkls/NY_SG_no_review_ratings_y_val.pkl', 'rb') as f:\n    y_val = pickle.load(f)\n\nwith open('pkls/NY_SG_no_review_ratings_x_test.pkl', 'rb') as f:\n    X_test = pickle.load(f)\n\nwith open('pkls/NY_SG_no_review_ratings_y_test.pkl', 'rb') as f:\n    y_test = pickle.load(f)\n\n# with open('feat_dict.pkl', 'rb') as f:\n#     feat_dict = pickle.load(f)\n\n# with open('percent_dict.pkl', 'rb') as f:\n#     percent_dict = pickle.load(f)\n\n# reversed_feat_dict = {v: k for k, v in feat_dict.items()}",
   "execution_count": null,
   "outputs": []
  },
  {
   "cell_type": "code",
   "metadata": {
    "cell_id": "ef4de78b-5eb6-4743-be9f-2c8f8382f12a",
    "tags": [],
    "deepnote_to_be_reexecuted": false,
    "source_hash": "3be44def",
    "execution_start": 1647783621273,
    "execution_millis": 480,
    "deepnote_cell_type": "code",
    "deepnote_cell_height": 423
   },
   "source": "with open('NY_x_train.pkl', 'rb') as f:\n    X_train = pickle.load(f)\n\nwith open('NY_y_train.pkl', 'rb') as f:\n    y_train = pickle.load(f)\n\nwith open('NY_x_val.pkl', 'rb') as f:\n    X_val = pickle.load(f)\n\nwith open('NY_y_val.pkl', 'rb') as f:\n    y_val = pickle.load(f)\n\nwith open('NY_x_test.pkl', 'rb') as f:\n    X_test = pickle.load(f)\n\nwith open('NY_y_test.pkl', 'rb') as f:\n    y_test = pickle.load(f)\n\nwith open('NY_feat_dict.pkl', 'rb') as f:\n    feat_dict = pickle.load(f)",
   "execution_count": null,
   "outputs": []
  },
  {
   "cell_type": "code",
   "metadata": {
    "cell_id": "74c7394f-b6d8-4e70-a6dc-27d1549fe3d4",
    "tags": [],
    "deepnote_to_be_reexecuted": false,
    "source_hash": "38f368cd",
    "execution_start": 1647862590876,
    "execution_millis": 5,
    "deepnote_cell_type": "code",
    "deepnote_cell_height": 118.1875,
    "deepnote_output_heights": [
     21.1875
    ]
   },
   "source": "X_train.shape",
   "execution_count": null,
   "outputs": [
    {
     "output_type": "execute_result",
     "execution_count": 139,
     "data": {
      "text/plain": "(25039, 6763)"
     },
     "metadata": {}
    }
   ]
  },
  {
   "cell_type": "markdown",
   "source": "# Multilayer Perceptron (MLP)",
   "metadata": {
    "cell_id": "1f8a4f09-9c67-491d-b03c-31bf89f7b349",
    "tags": [],
    "is_collapsed": false,
    "deepnote_cell_type": "text-cell-h1"
   }
  },
  {
   "cell_type": "code",
   "metadata": {
    "cell_id": "c1caa2c9-17d3-4af9-afd0-4666ce3b6533",
    "tags": [],
    "deepnote_to_be_reexecuted": false,
    "source_hash": "7c9276b6",
    "execution_start": 1648080902364,
    "execution_millis": 1,
    "deepnote_cell_type": "code",
    "deepnote_cell_height": 207
   },
   "source": "from keras.models import Sequential\nfrom keras.layers import Dense, Dropout\nfrom keras.callbacks import ModelCheckpoint, EarlyStopping\nimport numpy as np\nimport tensorflow as tf\nfrom random import shuffle\nimport math\nimport matplotlib.pyplot as plt",
   "execution_count": null,
   "outputs": []
  },
  {
   "cell_type": "code",
   "metadata": {
    "cell_id": "2c5b844d-f117-41f8-85ee-ec1d93031b4c",
    "tags": [],
    "deepnote_to_be_reexecuted": false,
    "source_hash": "963aa80f",
    "execution_start": 1648080862670,
    "execution_millis": 67,
    "deepnote_cell_type": "code",
    "deepnote_cell_height": 207
   },
   "source": "model = Sequential()\nmodel.add(Dense(128, input_shape=(X_train.shape[1],), activation='relu'))\nmodel.add(Dropout(0.5))\nmodel.add(Dense(16, activation = 'relu'))\nmodel.add(Dense(8, activation = 'relu'))\nmodel.add(Dense(1, activation='linear'))\n\nmodel.compile(loss='mean_squared_error', optimizer='adam')",
   "execution_count": null,
   "outputs": []
  },
  {
   "cell_type": "code",
   "metadata": {
    "cell_id": "e5024ab1-b7f2-489c-843d-95d098c7015f",
    "tags": [],
    "deepnote_to_be_reexecuted": false,
    "source_hash": "f6af112e",
    "execution_start": 1647862610596,
    "execution_millis": 3,
    "deepnote_cell_type": "code",
    "deepnote_cell_height": 117
   },
   "source": "cp = ModelCheckpoint('mlpcurr.h5', monitor='val_loss', \nmode = 'min', save_best_only = True)\nes = EarlyStopping(monitor='val_loss', patience=10, mode = 'min')",
   "execution_count": null,
   "outputs": []
  },
  {
   "cell_type": "code",
   "metadata": {
    "cell_id": "fa5ba09a-dc21-4c8c-970e-e68a0862932f",
    "tags": [],
    "deepnote_to_be_reexecuted": false,
    "source_hash": "f38318b1",
    "execution_start": 1647860443416,
    "execution_millis": 2,
    "deepnote_cell_type": "code",
    "deepnote_cell_height": 333
   },
   "source": "class SparseSequence(tf.keras.utils.Sequence):\n    def __init__(self, x_vals, y_vals, batch_size):\n        self.x_vals = x_vals\n        self.y_vals = y_vals\n        self.inds = list(range(x_vals.shape[0]))\n        shuffle(self.inds)\n        self.batch_size = batch_size\n    def __getitem__(self, item):\n        from_ind = self.batch_size * item\n        to_ind = self.batch_size * (item + 1)\n        return self.x_vals[self.inds[from_ind:to_ind], :].todense(), np.array(self.y_vals)[self.inds[from_ind:to_ind]]\n    def on_epoch_end(self):\n        shuffle(self.inds)\n    def __len__(self):\n        return math.ceil(self.x_vals.shape[0] / self.batch_size)",
   "execution_count": null,
   "outputs": []
  },
  {
   "cell_type": "code",
   "metadata": {
    "cell_id": "12989018-5e68-4d53-b5d1-d32a3e2b92e2",
    "tags": [],
    "deepnote_to_be_reexecuted": false,
    "source_hash": "d3f6683d",
    "execution_start": 1647862613786,
    "execution_millis": 109027,
    "deepnote_cell_type": "code",
    "deepnote_cell_height": 737
   },
   "source": "history = model.fit(SparseSequence(X_train.tocsr(), y_train, 32), epochs=1000,\n          validation_data=(SparseSequence(X_val.tocsr(), y_val, 32)), callbacks=[es, cp], \n          verbose = 1)",
   "execution_count": null,
   "outputs": [
    {
     "name": "stdout",
     "text": "Epoch 1/1000\n783/783 [==============================] - 7s 9ms/step - loss: 0.4711 - val_loss: 0.4220\nEpoch 2/1000\n783/783 [==============================] - 7s 9ms/step - loss: 0.3702 - val_loss: 0.4163\nEpoch 3/1000\n783/783 [==============================] - 7s 8ms/step - loss: 0.3238 - val_loss: 0.4036\nEpoch 4/1000\n783/783 [==============================] - 7s 8ms/step - loss: 0.2958 - val_loss: 0.3879\nEpoch 5/1000\n783/783 [==============================] - 7s 8ms/step - loss: 0.2731 - val_loss: 0.4152\nEpoch 6/1000\n783/783 [==============================] - 6s 8ms/step - loss: 0.2519 - val_loss: 0.3811\nEpoch 7/1000\n783/783 [==============================] - 6s 8ms/step - loss: 0.2283 - val_loss: 0.3801\nEpoch 8/1000\n783/783 [==============================] - 6s 8ms/step - loss: 0.2155 - val_loss: 0.3921\nEpoch 9/1000\n783/783 [==============================] - 6s 8ms/step - loss: 0.1969 - val_loss: 0.3842\nEpoch 10/1000\n783/783 [==============================] - 6s 8ms/step - loss: 0.1867 - val_loss: 0.3913\nEpoch 11/1000\n783/783 [==============================] - 6s 8ms/step - loss: 0.1703 - val_loss: 0.3993\nEpoch 12/1000\n783/783 [==============================] - 6s 8ms/step - loss: 0.1669 - val_loss: 0.3943\nEpoch 13/1000\n783/783 [==============================] - 6s 8ms/step - loss: 0.1595 - val_loss: 0.4244\nEpoch 14/1000\n783/783 [==============================] - 6s 8ms/step - loss: 0.1482 - val_loss: 0.4084\nEpoch 15/1000\n783/783 [==============================] - 6s 8ms/step - loss: 0.1504 - val_loss: 0.4051\nEpoch 16/1000\n783/783 [==============================] - 6s 8ms/step - loss: 0.1297 - val_loss: 0.3867\nEpoch 17/1000\n783/783 [==============================] - 6s 7ms/step - loss: 0.1324 - val_loss: 0.4081\n",
     "output_type": "stream"
    }
   ]
  },
  {
   "cell_type": "code",
   "metadata": {
    "cell_id": "dea86803-37cd-4862-beb7-50b53c65ab12",
    "tags": [],
    "deepnote_to_be_reexecuted": false,
    "source_hash": "a33cde43",
    "execution_start": 1647862732205,
    "execution_millis": 5436,
    "deepnote_cell_type": "code",
    "deepnote_cell_height": 399.1875,
    "deepnote_output_heights": [
     21.1875,
     250
    ]
   },
   "source": "plt.plot(history.history['val_loss'])",
   "execution_count": null,
   "outputs": [
    {
     "output_type": "execute_result",
     "execution_count": 145,
     "data": {
      "text/plain": "[<matplotlib.lines.Line2D at 0x7f48032e25b0>]"
     },
     "metadata": {}
    },
    {
     "data": {
      "text/plain": "<Figure size 432x288 with 1 Axes>",
      "image/png": "[encoded data removed]"
     },
     "metadata": {
      "needs_background": "light",
      "image/png": {
       "width": 378,
       "height": 248
      }
     },
     "output_type": "display_data"
    }
   ]
  },
  {
   "cell_type": "code",
   "metadata": {
    "cell_id": "3dd4060b-7f90-4f98-8f83-d5f239d96cf9",
    "tags": [],
    "deepnote_to_be_reexecuted": false,
    "source_hash": "64fc434a",
    "execution_start": 1647862745044,
    "execution_millis": 146,
    "deepnote_cell_type": "code",
    "deepnote_cell_height": 117
   },
   "source": "from keras.models import load_model\n\nmodel = load_model('mlpcurr.h5')",
   "execution_count": null,
   "outputs": []
  },
  {
   "cell_type": "code",
   "metadata": {
    "cell_id": "1e2955e1-9699-4bf0-a14c-8b62495bb6eb",
    "tags": [],
    "deepnote_to_be_reexecuted": false,
    "source_hash": "7ecb817b",
    "execution_start": 1647862747429,
    "execution_millis": 942,
    "deepnote_cell_type": "code",
    "deepnote_cell_height": 164.046875,
    "deepnote_output_heights": [
     null,
     21.1875
    ]
   },
   "source": "model.evaluate(SparseSequence(X_val.tocsr(), y_val, 32))",
   "execution_count": null,
   "outputs": [
    {
     "name": "stdout",
     "text": "168/168 [==============================] - 1s 3ms/step - loss: 0.3801\n",
     "output_type": "stream"
    },
    {
     "output_type": "execute_result",
     "execution_count": 147,
     "data": {
      "text/plain": "0.38005757331848145"
     },
     "metadata": {}
    }
   ]
  },
  {
   "cell_type": "code",
   "metadata": {
    "cell_id": "278c5644-61c9-4f1d-b0bd-67f616c3e16e",
    "tags": [],
    "deepnote_to_be_reexecuted": false,
    "source_hash": "c189bca7",
    "execution_start": 1647860352083,
    "execution_millis": 0,
    "deepnote_cell_type": "code",
    "deepnote_cell_height": 189
   },
   "source": "def calculate_rrmse(model, x_test, y_test, y_train):\n    preds = model.predict(x_test).ravel()\n    y_bar_train = np.mean(y_train)\n    naive_sse = sum((y_bar_train - y_test) ** 2)\n    model_sse = sum((preds - y_test) ** 2)\n    rrmse = 100 * np.sqrt(model_sse / naive_sse)\n    return rrmse",
   "execution_count": null,
   "outputs": []
  },
  {
   "cell_type": "code",
   "metadata": {
    "cell_id": "10f951f9-5671-46b1-96cd-a60d833c12dc",
    "tags": [],
    "deepnote_to_be_reexecuted": false,
    "source_hash": "91c4e3cd",
    "execution_start": 1647860353355,
    "execution_millis": 6,
    "deepnote_cell_type": "code",
    "deepnote_cell_height": 135
   },
   "source": "def convert_sparse_matrix_to_sparse_tensor(X):\n    coo = X.tocoo()\n    indices = np.mat([coo.row, coo.col]).transpose()\n    return tf.sparse.reorder(tf.SparseTensor(indices, coo.data, coo.shape))",
   "execution_count": null,
   "outputs": []
  },
  {
   "cell_type": "code",
   "metadata": {
    "cell_id": "9328f00d-e66d-41ee-9f90-a0a1dc864ecd",
    "tags": [],
    "deepnote_to_be_reexecuted": false,
    "source_hash": "48687bd",
    "execution_start": 1647862757404,
    "execution_millis": 4632,
    "deepnote_cell_type": "code",
    "deepnote_cell_height": 187.59375
   },
   "source": "print(calculate_rrmse(model, convert_sparse_matrix_to_sparse_tensor(X_train.tocsr()), y_train, y_train))\nprint(calculate_rrmse(model, convert_sparse_matrix_to_sparse_tensor(X_val.tocsr()), y_val, y_train))\nprint(calculate_rrmse(model, convert_sparse_matrix_to_sparse_tensor(X_test.tocsr()), y_test, y_train))",
   "execution_count": null,
   "outputs": [
    {
     "name": "stdout",
     "text": "40.46385594696736\n59.02799789669425\n58.34117356119729\n",
     "output_type": "stream"
    }
   ]
  },
  {
   "cell_type": "code",
   "metadata": {
    "cell_id": "e9e7c282-c5cd-417e-af78-99acaa467d4b",
    "tags": [],
    "deepnote_to_be_reexecuted": false,
    "source_hash": "e371d659",
    "execution_start": 1645666565548,
    "execution_millis": 702,
    "owner_user_id": "68fe6acf-6104-4e2c-afe0-0dd65bc22222",
    "deepnote_cell_type": "code",
    "deepnote_cell_height": 329.71875
   },
   "source": "X = X_train\ny = y_train\nidxs = list(range(X.shape[0]))\nshuffle(idxs)\npred = model.predict(SparseSequence(X.tocsr()[idxs[0]:idxs[0]+1], y[idxs[0]:idxs[0]+1], 1))[0][0]\ny_mean = 159.63618651772958\ny_sd = 282.11837343969637\npred = pred * y_sd + y_mean\nactual = y[idxs[0]:idxs[0]+1].values[0]\nactual = actual * y_sd + y_mean\nprint(\"Predicted: \" + str(pred))\nprint(\"Actual: \" + str(actual))",
   "execution_count": null,
   "outputs": [
    {
     "name": "stdout",
     "text": "Predicted: 31.41874443925539\nActual: 32.0\n",
     "output_type": "stream"
    }
   ]
  },
  {
   "cell_type": "markdown",
   "source": "<a style='text-decoration:none;line-height:16px;display:flex;color:#5B5B62;padding:10px;justify-content:end;' href='https://deepnote.com?utm_source=created-in-deepnote-cell&projectId=2a92d0af-cecf-4cde-96f5-c3db3a7f88f1' target=\"_blank\">\n<img alt='Created in deepnote.com' style='display:inline;max-height:16px;margin:0px;margin-right:7.5px;' src='data:image/svg+xml;base64,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' > </img>\nCreated in <span style='font-weight:600;margin-left:4px;'>Deepnote</span></a>",
   "metadata": {
    "tags": [],
    "created_in_deepnote_cell": true,
    "deepnote_cell_type": "markdown"
   }
  }
 ],
 "nbformat": 4,
 "nbformat_minor": 2,
 "metadata": {
  "orig_nbformat": 2,
  "deepnote": {
   "is_reactive": false
  },
  "deepnote_notebook_id": "9b056b38-783e-43a8-acb4-0d1d630bb835",
  "deepnote_execution_queue": []
 }
}