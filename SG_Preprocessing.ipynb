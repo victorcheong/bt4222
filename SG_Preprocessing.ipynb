{
 "cells": [
  {
   "cell_type": "markdown",
   "source": "## Import Libraries",
   "metadata": {
    "tags": [],
    "cell_id": "b6766863-1b19-4fa4-8b6c-94da8e61b4a5",
    "deepnote_cell_type": "markdown",
    "deepnote_cell_height": 70
   }
  },
  {
   "cell_type": "code",
   "metadata": {
    "deepnote_to_be_reexecuted": false,
    "execution_millis": 1931,
    "execution_start": 1647846490498,
    "source_hash": "5fd510d7",
    "tags": [],
    "cell_id": "00002-164e7c49-66c4-4bbd-ab4e-49a1bbc1be3e",
    "owner_user_id": "1f1d101d-e727-4110-b86f-42f255a8aee3",
    "deepnote_cell_type": "code",
    "deepnote_cell_height": 463.1875
   },
   "source": "import re\nimport string\nimport fasttext\nimport numpy as np\nimport pandas as pd\nfrom datetime import datetime\nfrom langdetect import detect\nimport math\n\nimport nltk\n# nltk.download('stopwords')\nnltk.download('punkt')\nnltk.download('wordnet')\nnltk.download('omw-1.4')\nfrom scipy import sparse",
   "execution_count": null,
   "outputs": [
    {
     "name": "stderr",
     "text": "[nltk_data] Downloading package punkt to /root/nltk_data...\n[nltk_data]   Package punkt is already up-to-date!\n[nltk_data] Downloading package wordnet to /root/nltk_data...\n[nltk_data]   Package wordnet is already up-to-date!\n[nltk_data] Downloading package omw-1.4 to /root/nltk_data...\n[nltk_data]   Package omw-1.4 is already up-to-date!\n",
     "output_type": "stream"
    }
   ]
  },
  {
   "cell_type": "markdown",
   "source": "## Reviews Data",
   "metadata": {
    "tags": [],
    "cell_id": "00003-8d760008-2a98-4107-bd23-581f6905103b",
    "deepnote_cell_type": "markdown",
    "deepnote_cell_height": 70
   }
  },
  {
   "cell_type": "code",
   "metadata": {
    "deepnote_to_be_reexecuted": false,
    "execution_millis": 1151,
    "execution_start": 1647324378133,
    "source_hash": "8454a030",
    "tags": [],
    "cell_id": "00004-2f30928d-df2a-43ad-9444-e507f44467c9",
    "deepnote_cell_type": "code",
    "deepnote_cell_height": 618
   },
   "source": "reviews = pd.read_csv('SG_cleaned_reviews.csv', lineterminator='\\n')\nreviews",
   "execution_count": null,
   "outputs": [
    {
     "output_type": "execute_result",
     "execution_count": 16,
     "data": {
      "application/vnd.deepnote.dataframe.v3+json": {
       "column_count": 2,
       "row_count": 43143,
       "columns": [
        {
         "name": "listing_id",
         "dtype": "int64",
         "stats": {
          "unique_count": 2044,
          "nan_count": 0,
          "min": "50646",
          "max": "53717759",
          "histogram": [
           {
            "bin_start": 50646,
            "bin_end": 5417357.3,
            "count": 6600
           },
           {
            "bin_start": 5417357.3,
            "bin_end": 10784068.6,
            "count": 9222
           },
           {
            "bin_start": 10784068.6,
            "bin_end": 16150779.899999999,
            "count": 6028
           },
           {
            "bin_start": 16150779.899999999,
            "bin_end": 21517491.2,
            "count": 5674
           },
           {
            "bin_start": 21517491.2,
            "bin_end": 26884202.5,
            "count": 5408
           },
           {
            "bin_start": 26884202.5,
            "bin_end": 32250913.799999997,
            "count": 2612
           },
           {
            "bin_start": 32250913.799999997,
            "bin_end": 37617625.1,
            "count": 3645
           },
           {
            "bin_start": 37617625.1,
            "bin_end": 42984336.4,
            "count": 2303
           },
           {
            "bin_start": 42984336.4,
            "bin_end": 48351047.699999996,
            "count": 1396
           },
           {
            "bin_start": 48351047.699999996,
            "bin_end": 53717759,
            "count": 255
           }
          ]
         }
        },
        {
         "name": "comments",
         "dtype": "object",
         "stats": {
          "unique_count": 41240,
          "nan_count": 0,
          "categories": [
           {
            "name": "Good",
            "count": 133
           },
           {
            "name": "Nice place",
            "count": 67
           },
           {
            "name": "41238 others",
            "count": 42943
           }
          ]
         }
        },
        {
         "name": "_deepnote_index_column",
         "dtype": "int64"
        }
       ],
       "rows": [
        {
         "listing_id": 50646,
         "comments": "A comfortable room in a smart condo development. Everything was kept very clean and I had the use o…",
         "_deepnote_index_column": 0
        },
        {
         "listing_id": 50646,
         "comments": "Stayed over at Sujatha's house for 3 good nights with my boyfriend. Sujatha and her husband are gre…",
         "_deepnote_index_column": 1
        },
        {
         "listing_id": 50646,
         "comments": "It's been a lovely stay at Sujatha's. The room is clean and the location is just perfect for a stop…",
         "_deepnote_index_column": 2
        },
        {
         "listing_id": 50646,
         "comments": "We had a great experience. A nice place, an amazing complex and easy access to public transit",
         "_deepnote_index_column": 3
        },
        {
         "listing_id": 50646,
         "comments": "Quiet condo. Comfortable stay and good location.",
         "_deepnote_index_column": 4
        },
        {
         "listing_id": 50646,
         "comments": "Nice room and friendly stay. Kindely and smiling family. ",
         "_deepnote_index_column": 5
        },
        {
         "listing_id": 50646,
         "comments": "Suja and her husband are really nice, amazing, caring people.The room and bathroom was clean. We tr…",
         "_deepnote_index_column": 6
        },
        {
         "listing_id": 50646,
         "comments": "Sujatha is a wonderful host and gives us a lot of help. The bedroom is cozy with a good view of the…",
         "_deepnote_index_column": 7
        },
        {
         "listing_id": 50646,
         "comments": "A wonderful experience & highly recommended! Sujatha has a very comfortable home and really made me…",
         "_deepnote_index_column": 8
        },
        {
         "listing_id": 50646,
         "comments": "Sujatha was extremely good host. Our flight was almost 6 hrs early before the check-in time and we …",
         "_deepnote_index_column": 9
        }
       ]
      },
      "text/plain": "       listing_id                                           comments\n0           50646  A comfortable room in a smart condo developmen...\n1           50646  Stayed over at Sujatha's house for 3 good nigh...\n2           50646  It's been a lovely stay at Sujatha's. The room...\n3           50646  We had a great experience. A nice place, an am...\n4           50646   Quiet condo. Comfortable stay and good location.\n...           ...                                                ...\n43138    53388036  Wei is an amazing host! Quick response from We...\n43139    53408171               Easy to work with and good apartment\n43140    53614218  Thank you Lucas and Sandy for having me! Sandy...\n43141    53679344  Great host and amazing experience. Got the one...\n43142    53717759  Very good location. However, no amenities like...\n\n[43143 rows x 2 columns]",
      "text/html": "<div>\n<style scoped>\n    .dataframe tbody tr th:only-of-type {\n        vertical-align: middle;\n    }\n\n    .dataframe tbody tr th {\n        vertical-align: top;\n    }\n\n    .dataframe thead th {\n        text-align: right;\n    }\n</style>\n<table border=\"1\" class=\"dataframe\">\n  <thead>\n    <tr style=\"text-align: right;\">\n      <th></th>\n      <th>listing_id</th>\n      <th>comments</th>\n    </tr>\n  </thead>\n  <tbody>\n    <tr>\n      <th>0</th>\n      <td>50646</td>\n      <td>A comfortable room in a smart condo developmen...</td>\n    </tr>\n    <tr>\n      <th>1</th>\n      <td>50646</td>\n      <td>Stayed over at Sujatha's house for 3 good nigh...</td>\n    </tr>\n    <tr>\n      <th>2</th>\n      <td>50646</td>\n      <td>It's been a lovely stay at Sujatha's. The room...</td>\n    </tr>\n    <tr>\n      <th>3</th>\n      <td>50646</td>\n      <td>We had a great experience. A nice place, an am...</td>\n    </tr>\n    <tr>\n      <th>4</th>\n      <td>50646</td>\n      <td>Quiet condo. Comfortable stay and good location.</td>\n    </tr>\n    <tr>\n      <th>...</th>\n      <td>...</td>\n      <td>...</td>\n    </tr>\n    <tr>\n      <th>43138</th>\n      <td>53388036</td>\n      <td>Wei is an amazing host! Quick response from We...</td>\n    </tr>\n    <tr>\n      <th>43139</th>\n      <td>53408171</td>\n      <td>Easy to work with and good apartment</td>\n    </tr>\n    <tr>\n      <th>43140</th>\n      <td>53614218</td>\n      <td>Thank you Lucas and Sandy for having me! Sandy...</td>\n    </tr>\n    <tr>\n      <th>43141</th>\n      <td>53679344</td>\n      <td>Great host and amazing experience. Got the one...</td>\n    </tr>\n    <tr>\n      <th>43142</th>\n      <td>53717759</td>\n      <td>Very good location. However, no amenities like...</td>\n    </tr>\n  </tbody>\n</table>\n<p>43143 rows × 2 columns</p>\n</div>"
     },
     "metadata": {}
    }
   ]
  },
  {
   "cell_type": "markdown",
   "source": "## Listings Data",
   "metadata": {
    "tags": [],
    "cell_id": "00005-0c216d8c-714c-4d43-b772-e77adac35916",
    "deepnote_cell_type": "markdown",
    "deepnote_cell_height": 70
   }
  },
  {
   "cell_type": "code",
   "metadata": {
    "deepnote_to_be_reexecuted": false,
    "execution_millis": 1035,
    "execution_start": 1647324384733,
    "source_hash": "171397ea",
    "tags": [],
    "cell_id": "00006-c3ae86f8-6196-4ada-bd42-09af2fa25042",
    "deepnote_cell_type": "code",
    "deepnote_cell_height": 634.65625
   },
   "source": "listings = pd.read_csv('SG_dist_cleaned_listings.csv')\nlistings",
   "execution_count": null,
   "outputs": [
    {
     "output_type": "execute_result",
     "execution_count": 17,
     "data": {
      "application/vnd.deepnote.dataframe.v3+json": {
       "column_count": 46,
       "row_count": 3145,
       "columns": [
        {
         "name": "id",
         "dtype": "int64",
         "stats": {
          "unique_count": 3145,
          "nan_count": 0,
          "min": "50646",
          "max": "53927825",
          "histogram": [
           {
            "bin_start": 50646,
            "bin_end": 5438363.9,
            "count": 153
           },
           {
            "bin_start": 5438363.9,
            "bin_end": 10826081.8,
            "count": 257
           },
           {
            "bin_start": 10826081.8,
            "bin_end": 16213799.700000001,
            "count": 272
           },
           {
            "bin_start": 16213799.700000001,
            "bin_end": 21601517.6,
            "count": 268
           },
           {
            "bin_start": 21601517.6,
            "bin_end": 26989235.5,
            "count": 347
           },
           {
            "bin_start": 26989235.5,
            "bin_end": 32376953.400000002,
            "count": 280
           },
           {
            "bin_start": 32376953.400000002,
            "bin_end": 37764671.300000004,
            "count": 334
           },
           {
            "bin_start": 37764671.300000004,
            "bin_end": 43152389.2,
            "count": 551
           },
           {
            "bin_start": 43152389.2,
            "bin_end": 48540107.1,
            "count": 323
           },
           {
            "bin_start": 48540107.1,
            "bin_end": 53927825,
            "count": 360
           }
          ]
         }
        },
        {
         "name": "name",
         "dtype": "object",
         "stats": {
          "unique_count": 2879,
          "nan_count": 0,
          "categories": [
           {
            "name": "Novena_Serviced Apartment Premium OneBedroomStudio",
            "count": 10
           },
           {
            "name": "Single Capsule For 1",
            "count": 7
           },
           {
            "name": "2877 others",
            "count": 3128
           }
          ]
         }
        },
        {
         "name": "description",
         "dtype": "object",
         "stats": {
          "unique_count": 2422,
          "nan_count": 0,
          "categories": [
           {
            "name": "No Data",
            "count": 90
           },
           {
            "name": "A paradise that says you deserve the best in life. Located minutes from Singapore's city centre in a quiet suburb that is both convenient and charming. Surrounded by open spaces and greenery as well as top-notch medical centres, well-established schools and irresistible entertainment options, all just a short walk or ride away.   The space  A beautiful and spacious apartment equipped with the following room amenities:  - Designer bed frames with Queen Size Mattress and quality linens - Designer dining table with beautiful chairs - Kitchen with full cooking utensils, Rice Cooker, Gas/Induction Stove - Refrigerator and Freezer - Comprehensive Cooking Utensils & Cutlery - Hair Dryer - Iron and Ironing Board - Washing Machine cum Dryer - Air-Conditioning with Individual Controller   Guest access  Arrived SG please text us one hour in advance   - CHECK IN and CHECK OUT TIME Our chec",
            "count": 43
           },
           {
            "name": "2420 others",
            "count": 3012
           }
          ]
         }
        },
        {
         "name": "neighborhood_overview",
         "dtype": "object",
         "stats": {
          "unique_count": 1074,
          "nan_count": 0,
          "categories": [
           {
            "name": "No Data",
            "count": 1050
           },
           {
            "name": "- Apartment is within lavender neighbourhood (horne rd, king george's ave, penhas rd, hamilton rd, cavan rd, french rd), an area of pre-war historical buildings for residential. - Access to TWO MRT lines: 4-5 mins walk from Lavender MRT (green line), or 8-9 mins walk from farrer park MRT (purple line) - Good location! proximity to everything! 24-hours food & drinks outlets - 2 mins walk to Amenities (24-hr food centres / Supermarket such as Mustafa, etc) - 2 mins walk to Jalan Besar Public Swimming Pool, Olympic size. ($1/entry for all) & Gymnasium ($1/entry) - 4 mins walk to lavender MRT, 1-3 stations away from Bugis, City Hall, Raffles Place, Promenade, Dhoby Gaut. - 4 mins walk to major roads bus stops (lavender street, Victoria street, Jalan besar) - 10 to 15 mins bus ride to CBD areas for work, boat quay & clarke quay for night entertainments, etc.",
            "count": 87
           },
           {
            "name": "1072 others",
            "count": 2008
           }
          ]
         }
        },
        {
         "name": "host_since",
         "dtype": "object",
         "stats": {
          "unique_count": 799,
          "nan_count": 0,
          "categories": [
           {
            "name": "2017-07-05",
            "count": 179
           },
           {
            "name": "2017-10-27",
            "count": 160
           },
           {
            "name": "797 others",
            "count": 2806
           }
          ]
         }
        },
        {
         "name": "host_response_time",
         "dtype": "object",
         "stats": {
          "unique_count": 5,
          "nan_count": 0,
          "categories": [
           {
            "name": "within a few hours",
            "count": 1183
           },
           {
            "name": "within an hour",
            "count": 636
           },
           {
            "name": "3 others",
            "count": 1326
           }
          ]
         }
        },
        {
         "name": "host_response_rate",
         "dtype": "float64",
         "stats": {
          "unique_count": 65,
          "nan_count": 404,
          "min": "0.0",
          "max": "100.0",
          "histogram": [
           {
            "bin_start": 0,
            "bin_end": 10,
            "count": 327
           },
           {
            "bin_start": 10,
            "bin_end": 20,
            "count": 18
           },
           {
            "bin_start": 20,
            "bin_end": 30,
            "count": 40
           },
           {
            "bin_start": 30,
            "bin_end": 40,
            "count": 19
           },
           {
            "bin_start": 40,
            "bin_end": 50,
            "count": 126
           },
           {
            "bin_start": 50,
            "bin_end": 60,
            "count": 60
           },
           {
            "bin_start": 60,
            "bin_end": 70,
            "count": 38
           },
           {
            "bin_start": 70,
            "bin_end": 80,
            "count": 78
           },
           {
            "bin_start": 80,
            "bin_end": 90,
            "count": 302
           },
           {
            "bin_start": 90,
            "bin_end": 100,
            "count": 1733
           }
          ]
         }
        },
        {
         "name": "host_acceptance_rate",
         "dtype": "float64",
         "stats": {
          "unique_count": 72,
          "nan_count": 645,
          "min": "0.0",
          "max": "100.0",
          "histogram": [
           {
            "bin_start": 0,
            "bin_end": 10,
            "count": 321
           },
           {
            "bin_start": 10,
            "bin_end": 20,
            "count": 70
           },
           {
            "bin_start": 20,
            "bin_end": 30,
            "count": 61
           },
           {
            "bin_start": 30,
            "bin_end": 40,
            "count": 352
           },
           {
            "bin_start": 40,
            "bin_end": 50,
            "count": 206
           },
           {
            "bin_start": 50,
            "bin_end": 60,
            "count": 87
           },
           {
            "bin_start": 60,
            "bin_end": 70,
            "count": 70
           },
           {
            "bin_start": 70,
            "bin_end": 80,
            "count": 154
           },
           {
            "bin_start": 80,
            "bin_end": 90,
            "count": 347
           },
           {
            "bin_start": 90,
            "bin_end": 100,
            "count": 832
           }
          ]
         }
        },
        {
         "name": "host_is_superhost",
         "dtype": "object",
         "stats": {
          "unique_count": 2,
          "nan_count": 0,
          "categories": [
           {
            "name": "f",
            "count": 2498
           },
           {
            "name": "t",
            "count": 647
           }
          ]
         }
        },
        {
         "name": "host_listings_count",
         "dtype": "float64",
         "stats": {
          "unique_count": 52,
          "nan_count": 0,
          "min": "0.0",
          "max": "467.0",
          "histogram": [
           {
            "bin_start": 0,
            "bin_end": 46.7,
            "count": 2077
           },
           {
            "bin_start": 46.7,
            "bin_end": 93.4,
            "count": 425
           },
           {
            "bin_start": 93.4,
            "bin_end": 140.10000000000002,
            "count": 202
           },
           {
            "bin_start": 140.10000000000002,
            "bin_end": 186.8,
            "count": 7
           },
           {
            "bin_start": 186.8,
            "bin_end": 233.5,
            "count": 160
           },
           {
            "bin_start": 233.5,
            "bin_end": 280.20000000000005,
            "count": 96
           },
           {
            "bin_start": 280.20000000000005,
            "bin_end": 326.90000000000003,
            "count": 0
           },
           {
            "bin_start": 326.90000000000003,
            "bin_end": 373.6,
            "count": 0
           },
           {
            "bin_start": 373.6,
            "bin_end": 420.3,
            "count": 0
           },
           {
            "bin_start": 420.3,
            "bin_end": 467,
            "count": 178
           }
          ]
         }
        },
        {
         "name": "host_has_profile_pic",
         "dtype": "object",
         "stats": {
          "unique_count": 2,
          "nan_count": 0,
          "categories": [
           {
            "name": "t",
            "count": 3132
           },
           {
            "name": "f",
            "count": 13
           }
          ]
         }
        },
        {
         "name": "host_identity_verified",
         "dtype": "object",
         "stats": {
          "unique_count": 2,
          "nan_count": 0,
          "categories": [
           {
            "name": "t",
            "count": 2583
           },
           {
            "name": "f",
            "count": 562
           }
          ]
         }
        },
        {
         "name": "neighbourhood",
         "dtype": "object",
         "stats": {
          "unique_count": 52,
          "nan_count": 0,
          "categories": [
           {
            "name": "Singapore, Singapore",
            "count": 1967
           },
           {
            "name": "No Data",
            "count": 1050
           },
           {
            "name": "50 others",
            "count": 128
           }
          ]
         }
        },
        {
         "name": "neighbourhood_cleansed",
         "dtype": "object",
         "stats": {
          "unique_count": 43,
          "nan_count": 0,
          "categories": [
           {
            "name": "Kallang",
            "count": 375
           },
           {
            "name": "Geylang",
            "count": 321
           },
           {
            "name": "41 others",
            "count": 2449
           }
          ]
         }
        },
        {
         "name": "neighbourhood_group_cleansed",
         "dtype": "object",
         "stats": {
          "unique_count": 5,
          "nan_count": 0,
          "categories": [
           {
            "name": "Central Region",
            "count": 2444
           },
           {
            "name": "West Region",
            "count": 247
           },
           {
            "name": "3 others",
            "count": 454
           }
          ]
         }
        },
        {
         "name": "latitude",
         "dtype": "float64",
         "stats": {
          "unique_count": 2488,
          "nan_count": 0,
          "min": "1.24535",
          "max": "1.45328",
          "histogram": [
           {
            "bin_start": 1.24535,
            "bin_end": 1.266143,
            "count": 21
           },
           {
            "bin_start": 1.266143,
            "bin_end": 1.2869359999999999,
            "count": 570
           },
           {
            "bin_start": 1.2869359999999999,
            "bin_end": 1.307729,
            "count": 840
           },
           {
            "bin_start": 1.307729,
            "bin_end": 1.328522,
            "count": 1154
           },
           {
            "bin_start": 1.328522,
            "bin_end": 1.3493149999999998,
            "count": 225
           },
           {
            "bin_start": 1.3493149999999998,
            "bin_end": 1.3701079999999999,
            "count": 123
           },
           {
            "bin_start": 1.3701079999999999,
            "bin_end": 1.390901,
            "count": 89
           },
           {
            "bin_start": 1.390901,
            "bin_end": 1.411694,
            "count": 39
           },
           {
            "bin_start": 1.411694,
            "bin_end": 1.4324869999999998,
            "count": 34
           },
           {
            "bin_start": 1.4324869999999998,
            "bin_end": 1.45328,
            "count": 50
           }
          ]
         }
        },
        {
         "name": "longitude",
         "dtype": "float64",
         "stats": {
          "unique_count": 2588,
          "nan_count": 0,
          "min": "103.64828",
          "max": "103.96966",
          "histogram": [
           {
            "bin_start": 103.64828,
            "bin_end": 103.680418,
            "count": 2
           },
           {
            "bin_start": 103.680418,
            "bin_end": 103.712556,
            "count": 35
           },
           {
            "bin_start": 103.712556,
            "bin_end": 103.744694,
            "count": 88
           },
           {
            "bin_start": 103.744694,
            "bin_end": 103.776832,
            "count": 147
           },
           {
            "bin_start": 103.776832,
            "bin_end": 103.80897,
            "count": 196
           },
           {
            "bin_start": 103.80897,
            "bin_end": 103.841108,
            "count": 558
           },
           {
            "bin_start": 103.841108,
            "bin_end": 103.87324600000001,
            "count": 1415
           },
           {
            "bin_start": 103.87324600000001,
            "bin_end": 103.905384,
            "count": 463
           },
           {
            "bin_start": 103.905384,
            "bin_end": 103.937522,
            "count": 173
           },
           {
            "bin_start": 103.937522,
            "bin_end": 103.96966,
            "count": 68
           }
          ]
         }
        },
        {
         "name": "property_type",
         "dtype": "object",
         "stats": {
          "unique_count": 47,
          "nan_count": 0,
          "categories": [
           {
            "name": "Private room in rental unit",
            "count": 666
           },
           {
            "name": "Entire condominium (condo)",
            "count": 566
           },
           {
            "name": "45 others",
            "count": 1913
           }
          ]
         }
        },
        {
         "name": "room_type",
         "dtype": "object",
         "stats": {
          "unique_count": 4,
          "nan_count": 0,
          "categories": [
           {
            "name": "Private room",
            "count": 1467
           },
           {
            "name": "Entire home/apt",
            "count": 1394
           },
           {
            "name": "2 others",
            "count": 284
           }
          ]
         }
        },
        {
         "name": "accommodates",
         "dtype": "int64",
         "stats": {
          "unique_count": 15,
          "nan_count": 0,
          "min": "1",
          "max": "16",
          "histogram": [
           {
            "bin_start": 1,
            "bin_end": 2.5,
            "count": 1901
           },
           {
            "bin_start": 2.5,
            "bin_end": 4,
            "count": 278
           },
           {
            "bin_start": 4,
            "bin_end": 5.5,
            "count": 544
           },
           {
            "bin_start": 5.5,
            "bin_end": 7,
            "count": 237
           },
           {
            "bin_start": 7,
            "bin_end": 8.5,
            "count": 105
           },
           {
            "bin_start": 8.5,
            "bin_end": 10,
            "count": 13
           },
           {
            "bin_start": 10,
            "bin_end": 11.5,
            "count": 19
           },
           {
            "bin_start": 11.5,
            "bin_end": 13,
            "count": 13
           },
           {
            "bin_start": 13,
            "bin_end": 14.5,
            "count": 4
           },
           {
            "bin_start": 14.5,
            "bin_end": 16,
            "count": 31
           }
          ]
         }
        },
        {
         "name": "bathrooms_text",
         "dtype": "object",
         "stats": {
          "unique_count": 42,
          "nan_count": 0,
          "categories": [
           {
            "name": "1 bath",
            "count": 917
           },
           {
            "name": "1 private bath",
            "count": 563
           },
           {
            "name": "40 others",
            "count": 1665
           }
          ]
         }
        },
        {
         "name": "bedrooms",
         "dtype": "int64",
         "stats": {
          "unique_count": 7,
          "nan_count": 0,
          "min": "1",
          "max": "8",
          "histogram": [
           {
            "bin_start": 1,
            "bin_end": 1.7,
            "count": 2396
           },
           {
            "bin_start": 1.7,
            "bin_end": 2.4,
            "count": 479
           },
           {
            "bin_start": 2.4,
            "bin_end": 3.0999999999999996,
            "count": 236
           },
           {
            "bin_start": 3.0999999999999996,
            "bin_end": 3.8,
            "count": 0
           },
           {
            "bin_start": 3.8,
            "bin_end": 4.5,
            "count": 26
           },
           {
            "bin_start": 4.5,
            "bin_end": 5.199999999999999,
            "count": 5
           },
           {
            "bin_start": 5.199999999999999,
            "bin_end": 5.8999999999999995,
            "count": 0
           },
           {
            "bin_start": 5.8999999999999995,
            "bin_end": 6.6,
            "count": 2
           },
           {
            "bin_start": 6.6,
            "bin_end": 7.3,
            "count": 0
           },
           {
            "bin_start": 7.3,
            "bin_end": 8,
            "count": 1
           }
          ]
         }
        },
        {
         "name": "beds",
         "dtype": "int64",
         "stats": {
          "unique_count": 19,
          "nan_count": 0,
          "min": "1",
          "max": "46",
          "histogram": [
           {
            "bin_start": 1,
            "bin_end": 5.5,
            "count": 3018
           },
           {
            "bin_start": 5.5,
            "bin_end": 10,
            "count": 67
           },
           {
            "bin_start": 10,
            "bin_end": 14.5,
            "count": 36
           },
           {
            "bin_start": 14.5,
            "bin_end": 19,
            "count": 19
           },
           {
            "bin_start": 19,
            "bin_end": 23.5,
            "count": 1
           },
           {
            "bin_start": 23.5,
            "bin_end": 28,
            "count": 0
           },
           {
            "bin_start": 28,
            "bin_end": 32.5,
            "count": 2
           },
           {
            "bin_start": 32.5,
            "bin_end": 37,
            "count": 1
           },
           {
            "bin_start": 37,
            "bin_end": 41.5,
            "count": 0
           },
           {
            "bin_start": 41.5,
            "bin_end": 46,
            "count": 1
           }
          ]
         }
        },
        {
         "name": "amenities",
         "dtype": "object",
         "stats": {
          "unique_count": 2437,
          "nan_count": 0,
          "categories": [
           {
            "name": "[\"Hangers\", \"Bed linens\", \"Cooking basics\", \"Washer\", \"Single level home\", \"Oven\", \"Dedicated workspace\", \"Pool\", \"Long term stays allowed\", \"Private entrance\", \"Lock on bedroom door\", \"Refrigerator\", \"Dryer\", \"Microwave\", \"Free street parking\", \"Wifi\", \"Luggage dropoff allowed\", \"Extra pillows and blankets\", \"Keypad\", \"Heating\", \"Paid parking off premises\", \"Hot water\", \"Stove\", \"Iron\", \"Essentials\", \"Kitchen\", \"Air conditioning\", \"Dishes and silverware\"]",
            "count": 46
           },
           {
            "name": "[\"Long term stays allowed\"]",
            "count": 20
           },
           {
            "name": "2435 others",
            "count": 3079
           }
          ]
         }
        },
        {
         "name": "price",
         "dtype": "float64",
         "stats": {
          "unique_count": 521,
          "nan_count": 0,
          "min": "13.0",
          "max": "10286.0",
          "histogram": [
           {
            "bin_start": 13,
            "bin_end": 1040.3,
            "count": 3108
           },
           {
            "bin_start": 1040.3,
            "bin_end": 2067.6,
            "count": 21
           },
           {
            "bin_start": 2067.6,
            "bin_end": 3094.8999999999996,
            "count": 4
           },
           {
            "bin_start": 3094.8999999999996,
            "bin_end": 4122.2,
            "count": 6
           },
           {
            "bin_start": 4122.2,
            "bin_end": 5149.5,
            "count": 2
           },
           {
            "bin_start": 5149.5,
            "bin_end": 6176.799999999999,
            "count": 0
           },
           {
            "bin_start": 6176.799999999999,
            "bin_end": 7204.099999999999,
            "count": 1
           },
           {
            "bin_start": 7204.099999999999,
            "bin_end": 8231.4,
            "count": 1
           },
           {
            "bin_start": 8231.4,
            "bin_end": 9258.699999999999,
            "count": 1
           },
           {
            "bin_start": 9258.699999999999,
            "bin_end": 10286,
            "count": 1
           }
          ]
         }
        },
        {
         "name": "minimum_nights",
         "dtype": "int64",
         "stats": {
          "unique_count": 66,
          "nan_count": 0,
          "min": "1",
          "max": "1000",
          "histogram": [
           {
            "bin_start": 1,
            "bin_end": 100.9,
            "count": 2991
           },
           {
            "bin_start": 100.9,
            "bin_end": 200.8,
            "count": 120
           },
           {
            "bin_start": 200.8,
            "bin_end": 300.70000000000005,
            "count": 2
           },
           {
            "bin_start": 300.70000000000005,
            "bin_end": 400.6,
            "count": 28
           },
           {
            "bin_start": 400.6,
            "bin_end": 500.5,
            "count": 0
           },
           {
            "bin_start": 500.5,
            "bin_end": 600.4000000000001,
            "count": 0
           },
           {
            "bin_start": 600.4000000000001,
            "bin_end": 700.3000000000001,
            "count": 0
           },
           {
            "bin_start": 700.3000000000001,
            "bin_end": 800.2,
            "count": 0
           },
           {
            "bin_start": 800.2,
            "bin_end": 900.1,
            "count": 1
           },
           {
            "bin_start": 900.1,
            "bin_end": 1000,
            "count": 3
           }
          ]
         }
        },
        {
         "name": "maximum_nights",
         "dtype": "int64",
         "stats": {
          "unique_count": 74,
          "nan_count": 0,
          "min": "1",
          "max": "100000",
          "histogram": [
           {
            "bin_start": 1,
            "bin_end": 10000.9,
            "count": 3144
           },
           {
            "bin_start": 10000.9,
            "bin_end": 20000.8,
            "count": 0
           },
           {
            "bin_start": 20000.8,
            "bin_end": 30000.699999999997,
            "count": 0
           },
           {
            "bin_start": 30000.699999999997,
            "bin_end": 40000.6,
            "count": 0
           },
           {
            "bin_start": 40000.6,
            "bin_end": 50000.5,
            "count": 0
           },
           {
            "bin_start": 50000.5,
            "bin_end": 60000.399999999994,
            "count": 0
           },
           {
            "bin_start": 60000.399999999994,
            "bin_end": 70000.3,
            "count": 0
           },
           {
            "bin_start": 70000.3,
            "bin_end": 80000.2,
            "count": 0
           },
           {
            "bin_start": 80000.2,
            "bin_end": 90000.09999999999,
            "count": 0
           },
           {
            "bin_start": 90000.09999999999,
            "bin_end": 100000,
            "count": 1
           }
          ]
         }
        },
        {
         "name": "has_availability",
         "dtype": "object",
         "stats": {
          "unique_count": 2,
          "nan_count": 0,
          "categories": [
           {
            "name": "t",
            "count": 2998
           },
           {
            "name": "f",
            "count": 147
           }
          ]
         }
        },
        {
         "name": "availability_30",
         "dtype": "int64",
         "stats": {
          "unique_count": 31,
          "nan_count": 0,
          "min": "0",
          "max": "30",
          "histogram": [
           {
            "bin_start": 0,
            "bin_end": 3,
            "count": 1270
           },
           {
            "bin_start": 3,
            "bin_end": 6,
            "count": 87
           },
           {
            "bin_start": 6,
            "bin_end": 9,
            "count": 89
           },
           {
            "bin_start": 9,
            "bin_end": 12,
            "count": 91
           },
           {
            "bin_start": 12,
            "bin_end": 15,
            "count": 83
           },
           {
            "bin_start": 15,
            "bin_end": 18,
            "count": 67
           },
           {
            "bin_start": 18,
            "bin_end": 21,
            "count": 85
           },
           {
            "bin_start": 21,
            "bin_end": 24,
            "count": 169
           },
           {
            "bin_start": 24,
            "bin_end": 27,
            "count": 224
           },
           {
            "bin_start": 27,
            "bin_end": 30,
            "count": 980
           }
          ]
         }
        },
        {
         "name": "availability_60",
         "dtype": "int64",
         "stats": {
          "unique_count": 61,
          "nan_count": 0,
          "min": "0",
          "max": "60",
          "histogram": [
           {
            "bin_start": 0,
            "bin_end": 6,
            "count": 903
           },
           {
            "bin_start": 6,
            "bin_end": 12,
            "count": 64
           },
           {
            "bin_start": 12,
            "bin_end": 18,
            "count": 82
           },
           {
            "bin_start": 18,
            "bin_end": 24,
            "count": 227
           },
           {
            "bin_start": 24,
            "bin_end": 30,
            "count": 143
           },
           {
            "bin_start": 30,
            "bin_end": 36,
            "count": 75
           },
           {
            "bin_start": 36,
            "bin_end": 42,
            "count": 114
           },
           {
            "bin_start": 42,
            "bin_end": 48,
            "count": 119
           },
           {
            "bin_start": 48,
            "bin_end": 54,
            "count": 233
           },
           {
            "bin_start": 54,
            "bin_end": 60,
            "count": 1185
           }
          ]
         }
        },
        {
         "name": "availability_90",
         "dtype": "int64",
         "stats": {
          "unique_count": 91,
          "nan_count": 0,
          "min": "0",
          "max": "90",
          "histogram": [
           {
            "bin_start": 0,
            "bin_end": 9,
            "count": 801
           },
           {
            "bin_start": 9,
            "bin_end": 18,
            "count": 47
           },
           {
            "bin_start": 18,
            "bin_end": 27,
            "count": 102
           },
           {
            "bin_start": 27,
            "bin_end": 36,
            "count": 52
           },
           {
            "bin_start": 36,
            "bin_end": 45,
            "count": 71
           },
           {
            "bin_start": 45,
            "bin_end": 54,
            "count": 239
           },
           {
            "bin_start": 54,
            "bin_end": 63,
            "count": 171
           },
           {
            "bin_start": 63,
            "bin_end": 72,
            "count": 145
           },
           {
            "bin_start": 72,
            "bin_end": 81,
            "count": 184
           },
           {
            "bin_start": 81,
            "bin_end": 90,
            "count": 1333
           }
          ]
         }
        },
        {
         "name": "availability_365",
         "dtype": "int64"
        },
        {
         "name": "number_of_reviews",
         "dtype": "int64"
        },
        {
         "name": "number_of_reviews_ltm",
         "dtype": "int64"
        },
        {
         "name": "number_of_reviews_l30d",
         "dtype": "int64"
        },
        {
         "name": "review_scores_rating",
         "dtype": "float64"
        },
        {
         "name": "review_scores_accuracy",
         "dtype": "float64"
        },
        {
         "name": "review_scores_cleanliness",
         "dtype": "float64"
        },
        {
         "name": "review_scores_checkin",
         "dtype": "float64"
        },
        {
         "name": "review_scores_communication",
         "dtype": "float64"
        },
        {
         "name": "review_scores_location",
         "dtype": "float64"
        },
        {
         "name": "review_scores_value",
         "dtype": "float64"
        },
        {
         "name": "instant_bookable",
         "dtype": "object"
        },
        {
         "name": "calculated_host_listings_count",
         "dtype": "int64"
        },
        {
         "name": "amenities_str",
         "dtype": "object"
        },
        {
         "name": "dist_to_subway",
         "dtype": "float64"
        },
        {
         "name": "_deepnote_index_column",
         "dtype": "int64"
        }
       ],
       "rows": [
        {
         "id": 50646,
         "name": "Pleasant Room along Bukit Timah",
         "description": "Fully furnished bedroom with a nice view on the 10th floor of a newly built private condominium on …",
         "neighborhood_overview": "The serenity & quiet surrounding makes it an ideal place to come back to after work / play. Lovely …",
         "host_since": "2010-09-08",
         "host_response_time": "No Data",
         "host_response_rate": "nan",
         "host_acceptance_rate": "nan",
         "host_is_superhost": "f",
         "host_listings_count": 1,
         "host_has_profile_pic": "t",
         "host_identity_verified": "t",
         "neighbourhood": "Singapore, Singapore",
         "neighbourhood_cleansed": "Bukit Timah",
         "neighbourhood_group_cleansed": "Central Region",
         "latitude": 1.33432,
         "longitude": 103.78521,
         "property_type": "Private room in rental unit",
         "room_type": "Private room",
         "accommodates": 2,
         "bathrooms_text": "1 bath",
         "bedrooms": 1,
         "beds": 1,
         "amenities": "[\"Shampoo\", \"Essentials\", \"Kitchen\", \"Long term stays allowed\", \"Washer\", \"Cable TV\", \"Elevator\", \"…",
         "price": 80,
         "minimum_nights": 90,
         "maximum_nights": 730,
         "has_availability": "t",
         "availability_30": 30,
         "availability_60": 60,
         "availability_90": 90,
         "availability_365": 365,
         "number_of_reviews": 18,
         "number_of_reviews_ltm": 0,
         "number_of_reviews_l30d": 0,
         "review_scores_rating": 4.56,
         "review_scores_accuracy": 4.72,
         "review_scores_cleanliness": 4.78,
         "review_scores_checkin": 4.78,
         "review_scores_communication": 4.94,
         "review_scores_location": 4.72,
         "review_scores_value": 4.5,
         "instant_bookable": "f",
         "calculated_host_listings_count": 1,
         "amenities_str": "\"Shampoo\", \"Essentials\", \"Kitchen\", \"Long term stays allowed\", \"Washer\", \"Cable TV\", \"Elevator\", \"W…",
         "dist_to_subway": 0.5349951408052672,
         "_deepnote_index_column": 0
        },
        {
         "id": 71609,
         "name": "Ensuite Room (Room 1 & 2) near EXPO",
         "description": "For 3 rooms.Book room 1&2 and room 4   The space  Landed Homestay Room for Rental. Between Simei an…",
         "neighborhood_overview": "No Data",
         "host_since": "2011-01-29",
         "host_response_time": "within a day",
         "host_response_rate": 100,
         "host_acceptance_rate": "nan",
         "host_is_superhost": "f",
         "host_listings_count": 8,
         "host_has_profile_pic": "t",
         "host_identity_verified": "t",
         "neighbourhood": "No Data",
         "neighbourhood_cleansed": "Tampines",
         "neighbourhood_group_cleansed": "East Region",
         "latitude": 1.34537,
         "longitude": 103.95887,
         "property_type": "Private room in villa",
         "room_type": "Private room",
         "accommodates": 6,
         "bathrooms_text": "1 private bath",
         "bedrooms": 2,
         "beds": 3,
         "amenities": "[\"Hangers\", \"Cooking basics\", \"Washer\", \"Hair dryer\", \"Fire pit\", \"Shared hot tub\", \"Outdoor furnit…",
         "price": 179,
         "minimum_nights": 92,
         "maximum_nights": 1125,
         "has_availability": "t",
         "availability_30": 30,
         "availability_60": 60,
         "availability_90": 90,
         "availability_365": 365,
         "number_of_reviews": 20,
         "number_of_reviews_ltm": 0,
         "number_of_reviews_l30d": 0,
         "review_scores_rating": 4.44,
         "review_scores_accuracy": 4.37,
         "review_scores_cleanliness": 4,
         "review_scores_checkin": 4.63,
         "review_scores_communication": 4.78,
         "review_scores_location": 4.26,
         "review_scores_value": 4.32,
         "instant_bookable": "f",
         "calculated_host_listings_count": 5,
         "amenities_str": "\"Hangers\", \"Cooking basics\", \"Washer\", \"Hair dryer\", \"Fire pit\", \"Shared hot tub\", \"Outdoor furnitu…",
         "dist_to_subway": 0.9261668336215994,
         "_deepnote_index_column": 1
        },
        {
         "id": 71896,
         "name": "B&B  Room 1 near Airport & EXPO",
         "description": " The space  Vocational Stay Deluxe Bedroom in Singapore.(Near Airport)    Located Between    - Sime…",
         "neighborhood_overview": "No Data",
         "host_since": "2011-01-29",
         "host_response_time": "within a day",
         "host_response_rate": 100,
         "host_acceptance_rate": "nan",
         "host_is_superhost": "f",
         "host_listings_count": 8,
         "host_has_profile_pic": "t",
         "host_identity_verified": "t",
         "neighbourhood": "No Data",
         "neighbourhood_cleansed": "Tampines",
         "neighbourhood_group_cleansed": "East Region",
         "latitude": 1.34754,
         "longitude": 103.95958,
         "property_type": "Private room in residential home",
         "room_type": "Private room",
         "accommodates": 3,
         "bathrooms_text": "Shared half-bath",
         "bedrooms": 1,
         "beds": 1,
         "amenities": "[\"Coffee maker\", \"Cooking basics\", \"Washer\", \"Hair dryer\", \"Fire pit\", \"Shared hot tub\", \"Outdoor f…",
         "price": 82,
         "minimum_nights": 92,
         "maximum_nights": 1125,
         "has_availability": "t",
         "availability_30": 30,
         "availability_60": 60,
         "availability_90": 90,
         "availability_365": 365,
         "number_of_reviews": 24,
         "number_of_reviews_ltm": 0,
         "number_of_reviews_l30d": 0,
         "review_scores_rating": 4.16,
         "review_scores_accuracy": 4.22,
         "review_scores_cleanliness": 4.09,
         "review_scores_checkin": 4.43,
         "review_scores_communication": 4.43,
         "review_scores_location": 4.17,
         "review_scores_value": 4.04,
         "instant_bookable": "f",
         "calculated_host_listings_count": 5,
         "amenities_str": "\"Coffee maker\", \"Cooking basics\", \"Washer\", \"Hair dryer\", \"Fire pit\", \"Shared hot tub\", \"Outdoor fu…",
         "dist_to_subway": 0.8027395291146818,
         "_deepnote_index_column": 2
        },
        {
         "id": 71903,
         "name": "Room 2-near Airport & EXPO",
         "description": "Like your own home, 24hrs access.   The space  Vocational Stay Deluxe Bedroom in Singapore.(Near Ai…",
         "neighborhood_overview": "Quiet and view of the playground with exercise tracks with access to neighbourhood Simwi Estate.",
         "host_since": "2011-01-29",
         "host_response_time": "within a day",
         "host_response_rate": 100,
         "host_acceptance_rate": "nan",
         "host_is_superhost": "f",
         "host_listings_count": 8,
         "host_has_profile_pic": "t",
         "host_identity_verified": "t",
         "neighbourhood": "Singapore, Singapore",
         "neighbourhood_cleansed": "Tampines",
         "neighbourhood_group_cleansed": "East Region",
         "latitude": 1.34531,
         "longitude": 103.961,
         "property_type": "Private room in residential home",
         "room_type": "Private room",
         "accommodates": 3,
         "bathrooms_text": "Shared half-bath",
         "bedrooms": 1,
         "beds": 2,
         "amenities": "[\"Coffee maker\", \"Cooking basics\", \"Washer\", \"Hair dryer\", \"Fire pit\", \"Shared hot tub\", \"Outdoor f…",
         "price": 82,
         "minimum_nights": 92,
         "maximum_nights": 1125,
         "has_availability": "t",
         "availability_30": 30,
         "availability_60": 60,
         "availability_90": 90,
         "availability_365": 365,
         "number_of_reviews": 47,
         "number_of_reviews_ltm": 0,
         "number_of_reviews_l30d": 0,
         "review_scores_rating": 4.41,
         "review_scores_accuracy": 4.39,
         "review_scores_cleanliness": 4.52,
         "review_scores_checkin": 4.63,
         "review_scores_communication": 4.64,
         "review_scores_location": 4.5,
         "review_scores_value": 4.36,
         "instant_bookable": "f",
         "calculated_host_listings_count": 5,
         "amenities_str": "\"Coffee maker\", \"Cooking basics\", \"Washer\", \"Hair dryer\", \"Fire pit\", \"Shared hot tub\", \"Outdoor fu…",
         "dist_to_subway": 1.0859865627591387,
         "_deepnote_index_column": 3
        },
        {
         "id": 275343,
         "name": "Conveniently located City Room!(1,2,3,4,5,6,7,8)",
         "description": "Awesome location and host  Room near INSEAD, NTU, SMU, NUS   The space  Centrally located between 2…",
         "neighborhood_overview": "No Data",
         "host_since": "2011-11-24",
         "host_response_time": "within a few hours",
         "host_response_rate": 87,
         "host_acceptance_rate": 77,
         "host_is_superhost": "f",
         "host_listings_count": 16,
         "host_has_profile_pic": "t",
         "host_identity_verified": "t",
         "neighbourhood": "No Data",
         "neighbourhood_cleansed": "Bukit Merah",
         "neighbourhood_group_cleansed": "Central Region",
         "latitude": 1.29015,
         "longitude": 103.80814,
         "property_type": "Private room in rental unit",
         "room_type": "Private room",
         "accommodates": 1,
         "bathrooms_text": "No Data",
         "bedrooms": 1,
         "beds": 1,
         "amenities": "[\"Shampoo\", \"Essentials\", \"Keypad\", \"Kitchen\", \"Long term stays allowed\", \"Washer\", \"Hair dryer\", \"…",
         "price": 52,
         "minimum_nights": 14,
         "maximum_nights": 999,
         "has_availability": "t",
         "availability_30": 6,
         "availability_60": 36,
         "availability_90": 66,
         "availability_365": 341,
         "number_of_reviews": 20,
         "number_of_reviews_ltm": 0,
         "number_of_reviews_l30d": 0,
         "review_scores_rating": 4.39,
         "review_scores_accuracy": 4.12,
         "review_scores_cleanliness": 4.24,
         "review_scores_checkin": 4.53,
         "review_scores_communication": 4.47,
         "review_scores_location": 4.53,
         "review_scores_value": 4.59,
         "instant_bookable": "f",
         "calculated_host_listings_count": 16,
         "amenities_str": "\"Shampoo\", \"Essentials\", \"Keypad\", \"Kitchen\", \"Long term stays allowed\", \"Washer\", \"Hair dryer\", \"L…",
         "dist_to_subway": 0.7750468559345586,
         "_deepnote_index_column": 4
        },
        {
         "id": 275344,
         "name": "15 mins to Outram MRT Single Room (B)",
         "description": "Lovely home for the special guest !   The space  Great Location, Great rooms, Great People!  Please…",
         "neighborhood_overview": "Bus stop  Food center  Supermarket",
         "host_since": "2011-11-24",
         "host_response_time": "within a few hours",
         "host_response_rate": 87,
         "host_acceptance_rate": 77,
         "host_is_superhost": "f",
         "host_listings_count": 16,
         "host_has_profile_pic": "t",
         "host_identity_verified": "t",
         "neighbourhood": "Singapore, Singapore",
         "neighbourhood_cleansed": "Bukit Merah",
         "neighbourhood_group_cleansed": "Central Region",
         "latitude": 1.28836,
         "longitude": 103.81144,
         "property_type": "Private room in rental unit",
         "room_type": "Private room",
         "accommodates": 1,
         "bathrooms_text": "Shared half-bath",
         "bedrooms": 1,
         "beds": 1,
         "amenities": "[\"Shampoo\", \"Essentials\", \"Kitchen\", \"Long term stays allowed\", \"Washer\", \"Smart lock\", \"Hair dryer…",
         "price": 40,
         "minimum_nights": 14,
         "maximum_nights": 999,
         "has_availability": "t",
         "availability_30": 3,
         "availability_60": 19,
         "availability_90": 49,
         "availability_365": 324,
         "number_of_reviews": 13,
         "number_of_reviews_ltm": 1,
         "number_of_reviews_l30d": 0,
         "review_scores_rating": 4.55,
         "review_scores_accuracy": 4.67,
         "review_scores_cleanliness": 4.25,
         "review_scores_checkin": 4.67,
         "review_scores_communication": 4.58,
         "review_scores_location": 4.58,
         "review_scores_value": 4.5,
         "instant_bookable": "f",
         "calculated_host_listings_count": 16,
         "amenities_str": "\"Shampoo\", \"Essentials\", \"Kitchen\", \"Long term stays allowed\", \"Washer\", \"Smart lock\", \"Hair dryer\"…",
         "dist_to_subway": 0.7722771726636538,
         "_deepnote_index_column": 5
        },
        {
         "id": 294281,
         "name": "5 mins walk from Newton subway",
         "description": "I have 3 bedrooms  in a charming British style townhouse for you and your family while you are visi…",
         "neighborhood_overview": "No Data",
         "host_since": "2011-12-20",
         "host_response_time": "within a few hours",
         "host_response_rate": 95,
         "host_acceptance_rate": 0,
         "host_is_superhost": "f",
         "host_listings_count": 6,
         "host_has_profile_pic": "t",
         "host_identity_verified": "t",
         "neighbourhood": "No Data",
         "neighbourhood_cleansed": "Newton",
         "neighbourhood_group_cleansed": "Central Region",
         "latitude": 1.31142,
         "longitude": 103.83924,
         "property_type": "Private room in rental unit",
         "room_type": "Private room",
         "accommodates": 2,
         "bathrooms_text": "1 shared bath",
         "bedrooms": 1,
         "beds": 1,
         "amenities": "[\"Hangers\", \"Bed linens\", \"Cooking basics\", \"Washer\", \"Hair dryer\", \"Oven\", \"Dedicated workspace\", …",
         "price": 72,
         "minimum_nights": 90,
         "maximum_nights": 1125,
         "has_availability": "t",
         "availability_30": 30,
         "availability_60": 60,
         "availability_90": 90,
         "availability_365": 365,
         "number_of_reviews": 133,
         "number_of_reviews_ltm": 0,
         "number_of_reviews_l30d": 0,
         "review_scores_rating": 4.43,
         "review_scores_accuracy": 4.33,
         "review_scores_cleanliness": 4.16,
         "review_scores_checkin": 4.5,
         "review_scores_communication": 4.66,
         "review_scores_location": 4.52,
         "review_scores_value": 4.39,
         "instant_bookable": "f",
         "calculated_host_listings_count": 7,
         "amenities_str": "\"Hangers\", \"Bed linens\", \"Cooking basics\", \"Washer\", \"Hair dryer\", \"Oven\", \"Dedicated workspace\", \"…",
         "dist_to_subway": 0.3835062896321209,
         "_deepnote_index_column": 6
        },
        {
         "id": 324945,
         "name": "20 Mins to Sentosa @ Hilltop ! (8)",
         "description": " The space  Great Location, Great people, Great Host .    The 3 greatest statement in our home.  My…",
         "neighborhood_overview": "No Data",
         "host_since": "2011-11-24",
         "host_response_time": "within a few hours",
         "host_response_rate": 87,
         "host_acceptance_rate": 77,
         "host_is_superhost": "f",
         "host_listings_count": 16,
         "host_has_profile_pic": "t",
         "host_identity_verified": "t",
         "neighbourhood": "No Data",
         "neighbourhood_cleansed": "Bukit Merah",
         "neighbourhood_group_cleansed": "Central Region",
         "latitude": 1.28828,
         "longitude": 103.8102,
         "property_type": "Private room in rental unit",
         "room_type": "Private room",
         "accommodates": 1,
         "bathrooms_text": "0 baths",
         "bedrooms": 1,
         "beds": 1,
         "amenities": "[\"Shampoo\", \"Kitchen\", \"Long term stays allowed\", \"Washer\", \"Smart lock\", \"Hair dryer\", \"Dryer\", \"W…",
         "price": 49,
         "minimum_nights": 14,
         "maximum_nights": 999,
         "has_availability": "t",
         "availability_30": 20,
         "availability_60": 50,
         "availability_90": 80,
         "availability_365": 355,
         "number_of_reviews": 14,
         "number_of_reviews_ltm": 0,
         "number_of_reviews_l30d": 0,
         "review_scores_rating": 4.2,
         "review_scores_accuracy": 4.08,
         "review_scores_cleanliness": 4.46,
         "review_scores_checkin": 4.69,
         "review_scores_communication": 4.46,
         "review_scores_location": 4.15,
         "review_scores_value": 4.08,
         "instant_bookable": "f",
         "calculated_host_listings_count": 16,
         "amenities_str": "\"Shampoo\", \"Kitchen\", \"Long term stays allowed\", \"Washer\", \"Smart lock\", \"Hair dryer\", \"Dryer\", \"Wi…",
         "dist_to_subway": 0.9075866697506448,
         "_deepnote_index_column": 7
        },
        {
         "id": 330095,
         "name": "10 mins to Redhill MRT @ Mini Orange Room(5)",
         "description": "Cosy, comfortable, well-renovated & fitted. Great guests, great environment and great host!  This i…",
         "neighborhood_overview": "Near IKEA Alexandra Singapore, Food markets and convenience stores",
         "host_since": "2011-11-24",
         "host_response_time": "within a few hours",
         "host_response_rate": 87,
         "host_acceptance_rate": 77,
         "host_is_superhost": "f",
         "host_listings_count": 16,
         "host_has_profile_pic": "t",
         "host_identity_verified": "t",
         "neighbourhood": "Singapore, Singapore",
         "neighbourhood_cleansed": "Bukit Merah",
         "neighbourhood_group_cleansed": "Central Region",
         "latitude": 1.28636,
         "longitude": 103.81138,
         "property_type": "Private room in rental unit",
         "room_type": "Private room",
         "accommodates": 1,
         "bathrooms_text": "4 shared baths",
         "bedrooms": 1,
         "beds": 1,
         "amenities": "[\"Shampoo\", \"Essentials\", \"Hangers\", \"Kitchen\", \"Long term stays allowed\", \"Washer\", \"Carbon monoxi…",
         "price": 59,
         "minimum_nights": 60,
         "maximum_nights": 999,
         "has_availability": "t",
         "availability_30": 29,
         "availability_60": 59,
         "availability_90": 89,
         "availability_365": 364,
         "number_of_reviews": 3,
         "number_of_reviews_ltm": 0,
         "number_of_reviews_l30d": 0,
         "review_scores_rating": 5,
         "review_scores_accuracy": 5,
         "review_scores_cleanliness": 4.5,
         "review_scores_checkin": 5,
         "review_scores_communication": 5,
         "review_scores_location": 4.5,
         "review_scores_value": 5,
         "instant_bookable": "f",
         "calculated_host_listings_count": 16,
         "amenities_str": "\"Shampoo\", \"Essentials\", \"Hangers\", \"Kitchen\", \"Long term stays allowed\", \"Washer\", \"Carbon monoxid…",
         "dist_to_subway": 0.7772010013702816,
         "_deepnote_index_column": 8
        },
        {
         "id": 344803,
         "name": "Budget short stay room near  EXPO",
         "description": "Direct bus 24 from airport to this place.Walking distance to expo,downtown line3 and east west line…",
         "neighborhood_overview": "A very quiet place .Very near to airport and cannot hear airplane sound",
         "host_since": "2011-01-29",
         "host_response_time": "within a day",
         "host_response_rate": 100,
         "host_acceptance_rate": "nan",
         "host_is_superhost": "f",
         "host_listings_count": 8,
         "host_has_profile_pic": "t",
         "host_identity_verified": "t",
         "neighbourhood": "Singapore, Singapore",
         "neighbourhood_cleansed": "Tampines",
         "neighbourhood_group_cleansed": "East Region",
         "latitude": 1.34917,
         "longitude": 103.9609,
         "property_type": "Private room in residential home",
         "room_type": "Private room",
         "accommodates": 1,
         "bathrooms_text": "1.5 shared baths",
         "bedrooms": 1,
         "beds": 1,
         "amenities": "[\"Hangers\", \"Bed linens\", \"Coffee maker\", \"Cooking basics\", \"Washer\", \"Hair dryer\", \"Fire pit\", \"Ov…",
         "price": 48,
         "minimum_nights": 92,
         "maximum_nights": 365,
         "has_availability": "t",
         "availability_30": 30,
         "availability_60": 60,
         "availability_90": 90,
         "availability_365": 365,
         "number_of_reviews": 58,
         "number_of_reviews_ltm": 0,
         "number_of_reviews_l30d": 0,
         "review_scores_rating": 4.58,
         "review_scores_accuracy": 4.58,
         "review_scores_cleanliness": 4.44,
         "review_scores_checkin": 4.75,
         "review_scores_communication": 4.56,
         "review_scores_location": 4.65,
         "review_scores_value": 4.44,
         "instant_bookable": "f",
         "calculated_host_listings_count": 5,
         "amenities_str": "\"Hangers\", \"Bed linens\", \"Coffee maker\", \"Cooking basics\", \"Washer\", \"Hair dryer\", \"Fire pit\", \"Ove…",
         "dist_to_subway": 0.8336187531711061,
         "_deepnote_index_column": 9
        }
       ]
      },
      "text/plain": "            id                                              name  \\\n0        50646                   Pleasant Room along Bukit Timah   \n1        71609               Ensuite Room (Room 1 & 2) near EXPO   \n2        71896                   B&B  Room 1 near Airport & EXPO   \n3        71903                        Room 2-near Airport & EXPO   \n4       275343  Conveniently located City Room!(1,2,3,4,5,6,7,8)   \n...        ...                                               ...   \n3140  53905492                                     Standard Twin   \n3141  53905653                           Standard Queen & Single   \n3142  53910005      Affordable Office for 8 Pax in Heart of East   \n3143  53910434                  Deluxe Class 2BR Near Marina Bay   \n3144  53927825      Spacious Private Room in Lovely Landed House   \n\n                                            description  \\\n0     Fully furnished bedroom with a nice view on th...   \n1     For 3 rooms.Book room 1&2 and room 4   The spa...   \n2      The space  Vocational Stay Deluxe Bedroom in ...   \n3     Like your own home, 24hrs access.   The space ...   \n4     Awesome location and host  Room near INSEAD, N...   \n...                                                 ...   \n3140   The space  Hotel accommodations have been car...   \n3141   The space  Hotel accommodations have been car...   \n3142  Convenient location in the heart of East Singa...   \n3143  Situated near the bustling neighborhood of Mar...   \n3144  Forget your worries in this spacious and seren...   \n\n                                  neighborhood_overview  host_since  \\\n0     The serenity & quiet surrounding makes it an i...  2010-09-08   \n1                                               No Data  2011-01-29   \n2                                               No Data  2011-01-29   \n3     Quiet and view of the playground with exercise...  2011-01-29   \n4                                               No Data  2011-11-24   \n...                                                 ...         ...   \n3140                                            No Data  2021-12-06   \n3141                                            No Data  2021-12-06   \n3142                                            No Data  2017-04-04   \n3143  Located near the  CBD, enjoy a wide variety of...  2017-10-27   \n3144                                            No Data  2021-11-15   \n\n      host_response_time  host_response_rate  host_acceptance_rate  \\\n0                No Data                 NaN                   NaN   \n1           within a day               100.0                   NaN   \n2           within a day               100.0                   NaN   \n3           within a day               100.0                   NaN   \n4     within a few hours                87.0                  77.0   \n...                  ...                 ...                   ...   \n3140      within an hour               100.0                 100.0   \n3141      within an hour               100.0                 100.0   \n3142  a few days or more                 0.0                   NaN   \n3143  within a few hours                95.0                  30.0   \n3144  within a few hours               100.0                  67.0   \n\n     host_is_superhost  host_listings_count  ... review_scores_accuracy  \\\n0                    f                  1.0  ...                   4.72   \n1                    f                  8.0  ...                   4.37   \n2                    f                  8.0  ...                   4.22   \n3                    f                  8.0  ...                   4.39   \n4                    f                 16.0  ...                   4.12   \n...                ...                  ...  ...                    ...   \n3140                 f                  0.0  ...                   0.00   \n3141                 f                  0.0  ...                   0.00   \n3142                 f                  0.0  ...                   0.00   \n3143                 f                225.0  ...                   0.00   \n3144                 f                  2.0  ...                   0.00   \n\n     review_scores_cleanliness review_scores_checkin  \\\n0                         4.78                  4.78   \n1                         4.00                  4.63   \n2                         4.09                  4.43   \n3                         4.52                  4.63   \n4                         4.24                  4.53   \n...                        ...                   ...   \n3140                      0.00                  0.00   \n3141                      0.00                  0.00   \n3142                      0.00                  0.00   \n3143                      0.00                  0.00   \n3144                      0.00                  0.00   \n\n     review_scores_communication review_scores_location  review_scores_value  \\\n0                           4.94                   4.72                 4.50   \n1                           4.78                   4.26                 4.32   \n2                           4.43                   4.17                 4.04   \n3                           4.64                   4.50                 4.36   \n4                           4.47                   4.53                 4.59   \n...                          ...                    ...                  ...   \n3140                        0.00                   0.00                 0.00   \n3141                        0.00                   0.00                 0.00   \n3142                        0.00                   0.00                 0.00   \n3143                        0.00                   0.00                 0.00   \n3144                        0.00                   0.00                 0.00   \n\n      instant_bookable calculated_host_listings_count  \\\n0                    f                              1   \n1                    f                              5   \n2                    f                              5   \n3                    f                              5   \n4                    f                             16   \n...                ...                            ...   \n3140                 t                              4   \n3141                 t                              4   \n3142                 t                              1   \n3143                 f                            179   \n3144                 f                              2   \n\n                                          amenities_str  dist_to_subway  \n0     \"Shampoo\", \"Essentials\", \"Kitchen\", \"Long term...        0.534995  \n1     \"Hangers\", \"Cooking basics\", \"Washer\", \"Hair d...        0.926167  \n2     \"Coffee maker\", \"Cooking basics\", \"Washer\", \"H...        0.802740  \n3     \"Coffee maker\", \"Cooking basics\", \"Washer\", \"H...        1.085987  \n4     \"Shampoo\", \"Essentials\", \"Keypad\", \"Kitchen\", ...        0.775047  \n...                                                 ...             ...  \n3140  \"Security cameras on property\", \"Hangers\", \"Lo...        0.474254  \n3141  \"Security cameras on property\", \"Hangers\", \"Lo...        0.259387  \n3142  \"Long term stays allowed\", \"Air conditioning\",...        1.328809  \n3143  \"Cleaning before checkout\", \"Safe\", \"Hangers\",...        0.242125  \n3144  \"Kitchen\", \"Long term stays allowed\", \"Washer\"...        1.210329  \n\n[3145 rows x 46 columns]",
      "text/html": "<div>\n<style scoped>\n    .dataframe tbody tr th:only-of-type {\n        vertical-align: middle;\n    }\n\n    .dataframe tbody tr th {\n        vertical-align: top;\n    }\n\n    .dataframe thead th {\n        text-align: right;\n    }\n</style>\n<table border=\"1\" class=\"dataframe\">\n  <thead>\n    <tr style=\"text-align: right;\">\n      <th></th>\n      <th>id</th>\n      <th>name</th>\n      <th>description</th>\n      <th>neighborhood_overview</th>\n      <th>host_since</th>\n      <th>host_response_time</th>\n      <th>host_response_rate</th>\n      <th>host_acceptance_rate</th>\n      <th>host_is_superhost</th>\n      <th>host_listings_count</th>\n      <th>...</th>\n      <th>review_scores_accuracy</th>\n      <th>review_scores_cleanliness</th>\n      <th>review_scores_checkin</th>\n      <th>review_scores_communication</th>\n      <th>review_scores_location</th>\n      <th>review_scores_value</th>\n      <th>instant_bookable</th>\n      <th>calculated_host_listings_count</th>\n      <th>amenities_str</th>\n      <th>dist_to_subway</th>\n    </tr>\n  </thead>\n  <tbody>\n    <tr>\n      <th>0</th>\n      <td>50646</td>\n      <td>Pleasant Room along Bukit Timah</td>\n      <td>Fully furnished bedroom with a nice view on th...</td>\n      <td>The serenity &amp; quiet surrounding makes it an i...</td>\n      <td>2010-09-08</td>\n      <td>No Data</td>\n      <td>NaN</td>\n      <td>NaN</td>\n      <td>f</td>\n      <td>1.0</td>\n      <td>...</td>\n      <td>4.72</td>\n      <td>4.78</td>\n      <td>4.78</td>\n      <td>4.94</td>\n      <td>4.72</td>\n      <td>4.50</td>\n      <td>f</td>\n      <td>1</td>\n      <td>\"Shampoo\", \"Essentials\", \"Kitchen\", \"Long term...</td>\n      <td>0.534995</td>\n    </tr>\n    <tr>\n      <th>1</th>\n      <td>71609</td>\n      <td>Ensuite Room (Room 1 &amp; 2) near EXPO</td>\n      <td>For 3 rooms.Book room 1&amp;2 and room 4   The spa...</td>\n      <td>No Data</td>\n      <td>2011-01-29</td>\n      <td>within a day</td>\n      <td>100.0</td>\n      <td>NaN</td>\n      <td>f</td>\n      <td>8.0</td>\n      <td>...</td>\n      <td>4.37</td>\n      <td>4.00</td>\n      <td>4.63</td>\n      <td>4.78</td>\n      <td>4.26</td>\n      <td>4.32</td>\n      <td>f</td>\n      <td>5</td>\n      <td>\"Hangers\", \"Cooking basics\", \"Washer\", \"Hair d...</td>\n      <td>0.926167</td>\n    </tr>\n    <tr>\n      <th>2</th>\n      <td>71896</td>\n      <td>B&amp;B  Room 1 near Airport &amp; EXPO</td>\n      <td>The space  Vocational Stay Deluxe Bedroom in ...</td>\n      <td>No Data</td>\n      <td>2011-01-29</td>\n      <td>within a day</td>\n      <td>100.0</td>\n      <td>NaN</td>\n      <td>f</td>\n      <td>8.0</td>\n      <td>...</td>\n      <td>4.22</td>\n      <td>4.09</td>\n      <td>4.43</td>\n      <td>4.43</td>\n      <td>4.17</td>\n      <td>4.04</td>\n      <td>f</td>\n      <td>5</td>\n      <td>\"Coffee maker\", \"Cooking basics\", \"Washer\", \"H...</td>\n      <td>0.802740</td>\n    </tr>\n    <tr>\n      <th>3</th>\n      <td>71903</td>\n      <td>Room 2-near Airport &amp; EXPO</td>\n      <td>Like your own home, 24hrs access.   The space ...</td>\n      <td>Quiet and view of the playground with exercise...</td>\n      <td>2011-01-29</td>\n      <td>within a day</td>\n      <td>100.0</td>\n      <td>NaN</td>\n      <td>f</td>\n      <td>8.0</td>\n      <td>...</td>\n      <td>4.39</td>\n      <td>4.52</td>\n      <td>4.63</td>\n      <td>4.64</td>\n      <td>4.50</td>\n      <td>4.36</td>\n      <td>f</td>\n      <td>5</td>\n      <td>\"Coffee maker\", \"Cooking basics\", \"Washer\", \"H...</td>\n      <td>1.085987</td>\n    </tr>\n    <tr>\n      <th>4</th>\n      <td>275343</td>\n      <td>Conveniently located City Room!(1,2,3,4,5,6,7,8)</td>\n      <td>Awesome location and host  Room near INSEAD, N...</td>\n      <td>No Data</td>\n      <td>2011-11-24</td>\n      <td>within a few hours</td>\n      <td>87.0</td>\n      <td>77.0</td>\n      <td>f</td>\n      <td>16.0</td>\n      <td>...</td>\n      <td>4.12</td>\n      <td>4.24</td>\n      <td>4.53</td>\n      <td>4.47</td>\n      <td>4.53</td>\n      <td>4.59</td>\n      <td>f</td>\n      <td>16</td>\n      <td>\"Shampoo\", \"Essentials\", \"Keypad\", \"Kitchen\", ...</td>\n      <td>0.775047</td>\n    </tr>\n    <tr>\n      <th>...</th>\n      <td>...</td>\n      <td>...</td>\n      <td>...</td>\n      <td>...</td>\n      <td>...</td>\n      <td>...</td>\n      <td>...</td>\n      <td>...</td>\n      <td>...</td>\n      <td>...</td>\n      <td>...</td>\n      <td>...</td>\n      <td>...</td>\n      <td>...</td>\n      <td>...</td>\n      <td>...</td>\n      <td>...</td>\n      <td>...</td>\n      <td>...</td>\n      <td>...</td>\n      <td>...</td>\n    </tr>\n    <tr>\n      <th>3140</th>\n      <td>53905492</td>\n      <td>Standard Twin</td>\n      <td>The space  Hotel accommodations have been car...</td>\n      <td>No Data</td>\n      <td>2021-12-06</td>\n      <td>within an hour</td>\n      <td>100.0</td>\n      <td>100.0</td>\n      <td>f</td>\n      <td>0.0</td>\n      <td>...</td>\n      <td>0.00</td>\n      <td>0.00</td>\n      <td>0.00</td>\n      <td>0.00</td>\n      <td>0.00</td>\n      <td>0.00</td>\n      <td>t</td>\n      <td>4</td>\n      <td>\"Security cameras on property\", \"Hangers\", \"Lo...</td>\n      <td>0.474254</td>\n    </tr>\n    <tr>\n      <th>3141</th>\n      <td>53905653</td>\n      <td>Standard Queen &amp; Single</td>\n      <td>The space  Hotel accommodations have been car...</td>\n      <td>No Data</td>\n      <td>2021-12-06</td>\n      <td>within an hour</td>\n      <td>100.0</td>\n      <td>100.0</td>\n      <td>f</td>\n      <td>0.0</td>\n      <td>...</td>\n      <td>0.00</td>\n      <td>0.00</td>\n      <td>0.00</td>\n      <td>0.00</td>\n      <td>0.00</td>\n      <td>0.00</td>\n      <td>t</td>\n      <td>4</td>\n      <td>\"Security cameras on property\", \"Hangers\", \"Lo...</td>\n      <td>0.259387</td>\n    </tr>\n    <tr>\n      <th>3142</th>\n      <td>53910005</td>\n      <td>Affordable Office for 8 Pax in Heart of East</td>\n      <td>Convenient location in the heart of East Singa...</td>\n      <td>No Data</td>\n      <td>2017-04-04</td>\n      <td>a few days or more</td>\n      <td>0.0</td>\n      <td>NaN</td>\n      <td>f</td>\n      <td>0.0</td>\n      <td>...</td>\n      <td>0.00</td>\n      <td>0.00</td>\n      <td>0.00</td>\n      <td>0.00</td>\n      <td>0.00</td>\n      <td>0.00</td>\n      <td>t</td>\n      <td>1</td>\n      <td>\"Long term stays allowed\", \"Air conditioning\",...</td>\n      <td>1.328809</td>\n    </tr>\n    <tr>\n      <th>3143</th>\n      <td>53910434</td>\n      <td>Deluxe Class 2BR Near Marina Bay</td>\n      <td>Situated near the bustling neighborhood of Mar...</td>\n      <td>Located near the  CBD, enjoy a wide variety of...</td>\n      <td>2017-10-27</td>\n      <td>within a few hours</td>\n      <td>95.0</td>\n      <td>30.0</td>\n      <td>f</td>\n      <td>225.0</td>\n      <td>...</td>\n      <td>0.00</td>\n      <td>0.00</td>\n      <td>0.00</td>\n      <td>0.00</td>\n      <td>0.00</td>\n      <td>0.00</td>\n      <td>f</td>\n      <td>179</td>\n      <td>\"Cleaning before checkout\", \"Safe\", \"Hangers\",...</td>\n      <td>0.242125</td>\n    </tr>\n    <tr>\n      <th>3144</th>\n      <td>53927825</td>\n      <td>Spacious Private Room in Lovely Landed House</td>\n      <td>Forget your worries in this spacious and seren...</td>\n      <td>No Data</td>\n      <td>2021-11-15</td>\n      <td>within a few hours</td>\n      <td>100.0</td>\n      <td>67.0</td>\n      <td>f</td>\n      <td>2.0</td>\n      <td>...</td>\n      <td>0.00</td>\n      <td>0.00</td>\n      <td>0.00</td>\n      <td>0.00</td>\n      <td>0.00</td>\n      <td>0.00</td>\n      <td>f</td>\n      <td>2</td>\n      <td>\"Kitchen\", \"Long term stays allowed\", \"Washer\"...</td>\n      <td>1.210329</td>\n    </tr>\n  </tbody>\n</table>\n<p>3145 rows × 46 columns</p>\n</div>"
     },
     "metadata": {}
    }
   ]
  },
  {
   "cell_type": "markdown",
   "source": "## Detect Language",
   "metadata": {
    "tags": [],
    "cell_id": "00007-71e05738-3e5e-432e-9932-8dbe0a015194",
    "deepnote_cell_type": "markdown",
    "deepnote_cell_height": 70
   }
  },
  {
   "cell_type": "code",
   "metadata": {
    "deepnote_to_be_reexecuted": false,
    "execution_millis": 15,
    "execution_start": 1647324395512,
    "source_hash": "62b461fe",
    "tags": [],
    "cell_id": "00008-49caf934-b11b-43a6-b482-1662d710df4c",
    "deepnote_cell_type": "code",
    "deepnote_cell_height": 188.53125
   },
   "source": "model = fasttext.load_model('lid.176.ftz')\n\ndef detect_lang(x):\n    lang = model.predict(x, k=1)[0][0].split('__')[-1]\n    return lang",
   "execution_count": null,
   "outputs": [
    {
     "name": "stderr",
     "text": "Warning : `load_model` does not return WordVectorModel or SupervisedModel any more, but a `FastText` object which is very similar.\n",
     "output_type": "stream"
    }
   ]
  },
  {
   "cell_type": "code",
   "metadata": {
    "deepnote_to_be_reexecuted": false,
    "execution_millis": 6543,
    "execution_start": 1647324399514,
    "source_hash": "bbdd47dd",
    "tags": [],
    "cell_id": "00009-1e16f757-9bc0-470a-beb1-df85df8f3398",
    "deepnote_cell_type": "code",
    "deepnote_cell_height": 431
   },
   "source": "# Check if reviews are in English\nreviews['language'] = reviews['comments'].apply(lambda x: detect_lang(x))\nreviews.head()",
   "execution_count": null,
   "outputs": [
    {
     "output_type": "execute_result",
     "execution_count": 19,
     "data": {
      "application/vnd.deepnote.dataframe.v3+json": {
       "column_count": 3,
       "row_count": 5,
       "columns": [
        {
         "name": "listing_id",
         "dtype": "int64",
         "stats": {
          "unique_count": 1,
          "nan_count": 0,
          "min": "50646",
          "max": "50646",
          "histogram": [
           {
            "bin_start": 50645.5,
            "bin_end": 50645.6,
            "count": 0
           },
           {
            "bin_start": 50645.6,
            "bin_end": 50645.7,
            "count": 0
           },
           {
            "bin_start": 50645.7,
            "bin_end": 50645.8,
            "count": 0
           },
           {
            "bin_start": 50645.8,
            "bin_end": 50645.9,
            "count": 0
           },
           {
            "bin_start": 50645.9,
            "bin_end": 50646,
            "count": 0
           },
           {
            "bin_start": 50646,
            "bin_end": 50646.1,
            "count": 5
           },
           {
            "bin_start": 50646.1,
            "bin_end": 50646.2,
            "count": 0
           },
           {
            "bin_start": 50646.2,
            "bin_end": 50646.3,
            "count": 0
           },
           {
            "bin_start": 50646.3,
            "bin_end": 50646.4,
            "count": 0
           },
           {
            "bin_start": 50646.4,
            "bin_end": 50646.5,
            "count": 0
           }
          ]
         }
        },
        {
         "name": "comments",
         "dtype": "object",
         "stats": {
          "unique_count": 5,
          "nan_count": 0,
          "categories": [
           {
            "name": "A comfortable room in a smart condo development. Everything was kept very clean and I had the use of my own bathroom. Sujatha and her husband are great hosts - very friendly and accommodating. I'll be staying here again.",
            "count": 1
           },
           {
            "name": "Stayed over at Sujatha's house for 3 good nights with my boyfriend. Sujatha and her husband are great hosts, very welcoming and friendly. The room is comfortable and clean. I'm happy to have my own bathroom as i'm particular with shared bathroom. \r The location is accessible. A few minutes walk from the house to nearest bus stop which can bring you to town.\r Good place, good hosts, good price.\r Highly recommended!",
            "count": 1
           },
           {
            "name": "3 others",
            "count": 3
           }
          ]
         }
        },
        {
         "name": "language",
         "dtype": "object",
         "stats": {
          "unique_count": 1,
          "nan_count": 0,
          "categories": [
           {
            "name": "en",
            "count": 5
           }
          ]
         }
        },
        {
         "name": "_deepnote_index_column",
         "dtype": "int64"
        }
       ],
       "rows": [
        {
         "listing_id": 50646,
         "comments": "A comfortable room in a smart condo development. Everything was kept very clean and I had the use o…",
         "language": "en",
         "_deepnote_index_column": 0
        },
        {
         "listing_id": 50646,
         "comments": "Stayed over at Sujatha's house for 3 good nights with my boyfriend. Sujatha and her husband are gre…",
         "language": "en",
         "_deepnote_index_column": 1
        },
        {
         "listing_id": 50646,
         "comments": "It's been a lovely stay at Sujatha's. The room is clean and the location is just perfect for a stop…",
         "language": "en",
         "_deepnote_index_column": 2
        },
        {
         "listing_id": 50646,
         "comments": "We had a great experience. A nice place, an amazing complex and easy access to public transit",
         "language": "en",
         "_deepnote_index_column": 3
        },
        {
         "listing_id": 50646,
         "comments": "Quiet condo. Comfortable stay and good location.",
         "language": "en",
         "_deepnote_index_column": 4
        }
       ]
      },
      "text/plain": "   listing_id                                           comments language\n0       50646  A comfortable room in a smart condo developmen...       en\n1       50646  Stayed over at Sujatha's house for 3 good nigh...       en\n2       50646  It's been a lovely stay at Sujatha's. The room...       en\n3       50646  We had a great experience. A nice place, an am...       en\n4       50646   Quiet condo. Comfortable stay and good location.       en",
      "text/html": "<div>\n<style scoped>\n    .dataframe tbody tr th:only-of-type {\n        vertical-align: middle;\n    }\n\n    .dataframe tbody tr th {\n        vertical-align: top;\n    }\n\n    .dataframe thead th {\n        text-align: right;\n    }\n</style>\n<table border=\"1\" class=\"dataframe\">\n  <thead>\n    <tr style=\"text-align: right;\">\n      <th></th>\n      <th>listing_id</th>\n      <th>comments</th>\n      <th>language</th>\n    </tr>\n  </thead>\n  <tbody>\n    <tr>\n      <th>0</th>\n      <td>50646</td>\n      <td>A comfortable room in a smart condo developmen...</td>\n      <td>en</td>\n    </tr>\n    <tr>\n      <th>1</th>\n      <td>50646</td>\n      <td>Stayed over at Sujatha's house for 3 good nigh...</td>\n      <td>en</td>\n    </tr>\n    <tr>\n      <th>2</th>\n      <td>50646</td>\n      <td>It's been a lovely stay at Sujatha's. The room...</td>\n      <td>en</td>\n    </tr>\n    <tr>\n      <th>3</th>\n      <td>50646</td>\n      <td>We had a great experience. A nice place, an am...</td>\n      <td>en</td>\n    </tr>\n    <tr>\n      <th>4</th>\n      <td>50646</td>\n      <td>Quiet condo. Comfortable stay and good location.</td>\n      <td>en</td>\n    </tr>\n  </tbody>\n</table>\n</div>"
     },
     "metadata": {}
    }
   ]
  },
  {
   "cell_type": "code",
   "metadata": {
    "deepnote_to_be_reexecuted": false,
    "execution_millis": 1070,
    "execution_start": 1647324413117,
    "source_hash": "da36b1ce",
    "tags": [],
    "cell_id": "00010-9bb62924-84fd-4ba5-a5de-4e6a8e31cad5",
    "deepnote_cell_type": "code",
    "deepnote_cell_height": 537.65625
   },
   "source": "# Check if listings' name and description are in English\ncheck_language = ['name', 'description']\ncheck_language_new_col= ['name_lang', 'description_lang']\n\nfor i in range(len(check_language)):\n    listings[check_language_new_col[i]] = listings[check_language[i]].apply(lambda x: detect_lang(x))\n\nlistings.head()",
   "execution_count": null,
   "outputs": [
    {
     "output_type": "execute_result",
     "execution_count": 20,
     "data": {
      "application/vnd.deepnote.dataframe.v3+json": {
       "column_count": 48,
       "row_count": 5,
       "columns": [
        {
         "name": "id",
         "dtype": "int64",
         "stats": {
          "unique_count": 5,
          "nan_count": 0,
          "min": "50646",
          "max": "275343",
          "histogram": [
           {
            "bin_start": 50646,
            "bin_end": 73115.7,
            "count": 4
           },
           {
            "bin_start": 73115.7,
            "bin_end": 95585.4,
            "count": 0
           },
           {
            "bin_start": 95585.4,
            "bin_end": 118055.1,
            "count": 0
           },
           {
            "bin_start": 118055.1,
            "bin_end": 140524.8,
            "count": 0
           },
           {
            "bin_start": 140524.8,
            "bin_end": 162994.5,
            "count": 0
           },
           {
            "bin_start": 162994.5,
            "bin_end": 185464.2,
            "count": 0
           },
           {
            "bin_start": 185464.2,
            "bin_end": 207933.9,
            "count": 0
           },
           {
            "bin_start": 207933.9,
            "bin_end": 230403.6,
            "count": 0
           },
           {
            "bin_start": 230403.6,
            "bin_end": 252873.30000000002,
            "count": 0
           },
           {
            "bin_start": 252873.30000000002,
            "bin_end": 275343,
            "count": 1
           }
          ]
         }
        },
        {
         "name": "name",
         "dtype": "object",
         "stats": {
          "unique_count": 5,
          "nan_count": 0,
          "categories": [
           {
            "name": "Pleasant Room along Bukit Timah",
            "count": 1
           },
           {
            "name": "Ensuite Room (Room 1 & 2) near EXPO",
            "count": 1
           },
           {
            "name": "3 others",
            "count": 3
           }
          ]
         }
        },
        {
         "name": "description",
         "dtype": "object",
         "stats": {
          "unique_count": 5,
          "nan_count": 0,
          "categories": [
           {
            "name": "Fully furnished bedroom with a nice view on the 10th floor of a newly built private condominium on one of the  most preferred residential estates in Singapore.   The space  Good Condition room, bright & windy. Comes with TV, Aircon, Bed, wardrobe. Can accommodate couples or 2 ladies or students for long-term rental only.   Guest access  Kitchen, washing facilities, gym, swimming pool, etc.   Other things to note  Accommodation has a queen size bed.  Suitable for Single, couples. The room cannot accommodate more than 2 adults.",
            "count": 1
           },
           {
            "name": "For 3 rooms.Book room 1&2 and room 4   The space  Landed Homestay Room for Rental. Between Simei and Expo Mrt. 2 bustop distance or 10-15min walking distant to Simei MRT.Bus n(phone number hidden).Clean and well maintain aircon room. We also provide Short and Long term room rental .Free 24 hrs Wireless Internet Access Available. Rates are inclusive of utilities & wifi internet. Both room can accomodate up to 6 max. Complimentary: Use of washer, iron with ironing board, hairdryer, towels, toiletries & change of bedding for extended stay. For use of Dryer additional charge of $10 will be imposed. Light cooking is allowed.Use of Gas subject to cooking not for use of drying clothes or misuse will be charged at $10 per min  Neighbourhood: A residential area, with schools, shopping malls, sports facilities such as gym, basketball & badminton courts at Changi Simei CC. Food Courts/Coffee Shop At least 5 of them in the vicin",
            "count": 1
           },
           {
            "name": "3 others",
            "count": 3
           }
          ]
         }
        },
        {
         "name": "neighborhood_overview",
         "dtype": "object",
         "stats": {
          "unique_count": 3,
          "nan_count": 0,
          "categories": [
           {
            "name": "No Data",
            "count": 3
           },
           {
            "name": "The serenity & quiet surrounding makes it an ideal place to come back to after work / play. Lovely birds chirping for a nice morning wake up (if you leave the windows open) are a pleasure to wake up to.  Located on the main road but at just a short walk in makes it an ideal neighbourhood with excellent transport facilities & food, supermarket, etc, all as required for a convenient living.",
            "count": 1
           },
           {
            "name": "Quiet and view of the playground with exercise tracks with access to neighbourhood Simwi Estate.",
            "count": 1
           }
          ]
         }
        },
        {
         "name": "host_since",
         "dtype": "object",
         "stats": {
          "unique_count": 3,
          "nan_count": 0,
          "categories": [
           {
            "name": "2011-01-29",
            "count": 3
           },
           {
            "name": "2010-09-08",
            "count": 1
           },
           {
            "name": "2011-11-24",
            "count": 1
           }
          ]
         }
        },
        {
         "name": "host_response_time",
         "dtype": "object",
         "stats": {
          "unique_count": 3,
          "nan_count": 0,
          "categories": [
           {
            "name": "within a day",
            "count": 3
           },
           {
            "name": "No Data",
            "count": 1
           },
           {
            "name": "within a few hours",
            "count": 1
           }
          ]
         }
        },
        {
         "name": "host_response_rate",
         "dtype": "float64",
         "stats": {
          "unique_count": 2,
          "nan_count": 1,
          "min": "87.0",
          "max": "100.0",
          "histogram": [
           {
            "bin_start": 87,
            "bin_end": 88.3,
            "count": 1
           },
           {
            "bin_start": 88.3,
            "bin_end": 89.6,
            "count": 0
           },
           {
            "bin_start": 89.6,
            "bin_end": 90.9,
            "count": 0
           },
           {
            "bin_start": 90.9,
            "bin_end": 92.2,
            "count": 0
           },
           {
            "bin_start": 92.2,
            "bin_end": 93.5,
            "count": 0
           },
           {
            "bin_start": 93.5,
            "bin_end": 94.8,
            "count": 0
           },
           {
            "bin_start": 94.8,
            "bin_end": 96.1,
            "count": 0
           },
           {
            "bin_start": 96.1,
            "bin_end": 97.4,
            "count": 0
           },
           {
            "bin_start": 97.4,
            "bin_end": 98.7,
            "count": 0
           },
           {
            "bin_start": 98.7,
            "bin_end": 100,
            "count": 3
           }
          ]
         }
        },
        {
         "name": "host_acceptance_rate",
         "dtype": "float64",
         "stats": {
          "unique_count": 1,
          "nan_count": 4,
          "min": "77.0",
          "max": "77.0",
          "histogram": [
           {
            "bin_start": 76.5,
            "bin_end": 76.6,
            "count": 0
           },
           {
            "bin_start": 76.6,
            "bin_end": 76.7,
            "count": 0
           },
           {
            "bin_start": 76.7,
            "bin_end": 76.8,
            "count": 0
           },
           {
            "bin_start": 76.8,
            "bin_end": 76.9,
            "count": 0
           },
           {
            "bin_start": 76.9,
            "bin_end": 77,
            "count": 0
           },
           {
            "bin_start": 77,
            "bin_end": 77.1,
            "count": 1
           },
           {
            "bin_start": 77.1,
            "bin_end": 77.2,
            "count": 0
           },
           {
            "bin_start": 77.2,
            "bin_end": 77.3,
            "count": 0
           },
           {
            "bin_start": 77.3,
            "bin_end": 77.4,
            "count": 0
           },
           {
            "bin_start": 77.4,
            "bin_end": 77.5,
            "count": 0
           }
          ]
         }
        },
        {
         "name": "host_is_superhost",
         "dtype": "object",
         "stats": {
          "unique_count": 1,
          "nan_count": 0,
          "categories": [
           {
            "name": "f",
            "count": 5
           }
          ]
         }
        },
        {
         "name": "host_listings_count",
         "dtype": "float64",
         "stats": {
          "unique_count": 3,
          "nan_count": 0,
          "min": "1.0",
          "max": "16.0",
          "histogram": [
           {
            "bin_start": 1,
            "bin_end": 2.5,
            "count": 1
           },
           {
            "bin_start": 2.5,
            "bin_end": 4,
            "count": 0
           },
           {
            "bin_start": 4,
            "bin_end": 5.5,
            "count": 0
           },
           {
            "bin_start": 5.5,
            "bin_end": 7,
            "count": 0
           },
           {
            "bin_start": 7,
            "bin_end": 8.5,
            "count": 3
           },
           {
            "bin_start": 8.5,
            "bin_end": 10,
            "count": 0
           },
           {
            "bin_start": 10,
            "bin_end": 11.5,
            "count": 0
           },
           {
            "bin_start": 11.5,
            "bin_end": 13,
            "count": 0
           },
           {
            "bin_start": 13,
            "bin_end": 14.5,
            "count": 0
           },
           {
            "bin_start": 14.5,
            "bin_end": 16,
            "count": 1
           }
          ]
         }
        },
        {
         "name": "host_has_profile_pic",
         "dtype": "object",
         "stats": {
          "unique_count": 1,
          "nan_count": 0,
          "categories": [
           {
            "name": "t",
            "count": 5
           }
          ]
         }
        },
        {
         "name": "host_identity_verified",
         "dtype": "object",
         "stats": {
          "unique_count": 1,
          "nan_count": 0,
          "categories": [
           {
            "name": "t",
            "count": 5
           }
          ]
         }
        },
        {
         "name": "neighbourhood",
         "dtype": "object",
         "stats": {
          "unique_count": 2,
          "nan_count": 0,
          "categories": [
           {
            "name": "No Data",
            "count": 3
           },
           {
            "name": "Singapore, Singapore",
            "count": 2
           }
          ]
         }
        },
        {
         "name": "neighbourhood_cleansed",
         "dtype": "object",
         "stats": {
          "unique_count": 3,
          "nan_count": 0,
          "categories": [
           {
            "name": "Tampines",
            "count": 3
           },
           {
            "name": "Bukit Timah",
            "count": 1
           },
           {
            "name": "Bukit Merah",
            "count": 1
           }
          ]
         }
        },
        {
         "name": "neighbourhood_group_cleansed",
         "dtype": "object",
         "stats": {
          "unique_count": 2,
          "nan_count": 0,
          "categories": [
           {
            "name": "East Region",
            "count": 3
           },
           {
            "name": "Central Region",
            "count": 2
           }
          ]
         }
        },
        {
         "name": "latitude",
         "dtype": "float64",
         "stats": {
          "unique_count": 5,
          "nan_count": 0,
          "min": "1.29015",
          "max": "1.34754",
          "histogram": [
           {
            "bin_start": 1.29015,
            "bin_end": 1.2958889999999998,
            "count": 1
           },
           {
            "bin_start": 1.2958889999999998,
            "bin_end": 1.301628,
            "count": 0
           },
           {
            "bin_start": 1.301628,
            "bin_end": 1.307367,
            "count": 0
           },
           {
            "bin_start": 1.307367,
            "bin_end": 1.3131059999999999,
            "count": 0
           },
           {
            "bin_start": 1.3131059999999999,
            "bin_end": 1.318845,
            "count": 0
           },
           {
            "bin_start": 1.318845,
            "bin_end": 1.324584,
            "count": 0
           },
           {
            "bin_start": 1.324584,
            "bin_end": 1.330323,
            "count": 0
           },
           {
            "bin_start": 1.330323,
            "bin_end": 1.3360619999999999,
            "count": 1
           },
           {
            "bin_start": 1.3360619999999999,
            "bin_end": 1.341801,
            "count": 0
           },
           {
            "bin_start": 1.341801,
            "bin_end": 1.34754,
            "count": 3
           }
          ]
         }
        },
        {
         "name": "longitude",
         "dtype": "float64",
         "stats": {
          "unique_count": 5,
          "nan_count": 0,
          "min": "103.78521",
          "max": "103.961",
          "histogram": [
           {
            "bin_start": 103.78521,
            "bin_end": 103.802789,
            "count": 1
           },
           {
            "bin_start": 103.802789,
            "bin_end": 103.820368,
            "count": 1
           },
           {
            "bin_start": 103.820368,
            "bin_end": 103.837947,
            "count": 0
           },
           {
            "bin_start": 103.837947,
            "bin_end": 103.855526,
            "count": 0
           },
           {
            "bin_start": 103.855526,
            "bin_end": 103.87310500000001,
            "count": 0
           },
           {
            "bin_start": 103.87310500000001,
            "bin_end": 103.89068400000001,
            "count": 0
           },
           {
            "bin_start": 103.89068400000001,
            "bin_end": 103.908263,
            "count": 0
           },
           {
            "bin_start": 103.908263,
            "bin_end": 103.925842,
            "count": 0
           },
           {
            "bin_start": 103.925842,
            "bin_end": 103.943421,
            "count": 0
           },
           {
            "bin_start": 103.943421,
            "bin_end": 103.961,
            "count": 3
           }
          ]
         }
        },
        {
         "name": "property_type",
         "dtype": "object",
         "stats": {
          "unique_count": 3,
          "nan_count": 0,
          "categories": [
           {
            "name": "Private room in rental unit",
            "count": 2
           },
           {
            "name": "Private room in residential home",
            "count": 2
           },
           {
            "name": "Private room in villa",
            "count": 1
           }
          ]
         }
        },
        {
         "name": "room_type",
         "dtype": "object",
         "stats": {
          "unique_count": 1,
          "nan_count": 0,
          "categories": [
           {
            "name": "Private room",
            "count": 5
           }
          ]
         }
        },
        {
         "name": "accommodates",
         "dtype": "int64",
         "stats": {
          "unique_count": 4,
          "nan_count": 0,
          "min": "1",
          "max": "6",
          "histogram": [
           {
            "bin_start": 1,
            "bin_end": 1.5,
            "count": 1
           },
           {
            "bin_start": 1.5,
            "bin_end": 2,
            "count": 0
           },
           {
            "bin_start": 2,
            "bin_end": 2.5,
            "count": 1
           },
           {
            "bin_start": 2.5,
            "bin_end": 3,
            "count": 0
           },
           {
            "bin_start": 3,
            "bin_end": 3.5,
            "count": 2
           },
           {
            "bin_start": 3.5,
            "bin_end": 4,
            "count": 0
           },
           {
            "bin_start": 4,
            "bin_end": 4.5,
            "count": 0
           },
           {
            "bin_start": 4.5,
            "bin_end": 5,
            "count": 0
           },
           {
            "bin_start": 5,
            "bin_end": 5.5,
            "count": 0
           },
           {
            "bin_start": 5.5,
            "bin_end": 6,
            "count": 1
           }
          ]
         }
        },
        {
         "name": "bathrooms_text",
         "dtype": "object",
         "stats": {
          "unique_count": 4,
          "nan_count": 0,
          "categories": [
           {
            "name": "Shared half-bath",
            "count": 2
           },
           {
            "name": "1 bath",
            "count": 1
           },
           {
            "name": "2 others",
            "count": 2
           }
          ]
         }
        },
        {
         "name": "bedrooms",
         "dtype": "int64",
         "stats": {
          "unique_count": 2,
          "nan_count": 0,
          "min": "1",
          "max": "2",
          "histogram": [
           {
            "bin_start": 1,
            "bin_end": 1.1,
            "count": 4
           },
           {
            "bin_start": 1.1,
            "bin_end": 1.2,
            "count": 0
           },
           {
            "bin_start": 1.2,
            "bin_end": 1.3,
            "count": 0
           },
           {
            "bin_start": 1.3,
            "bin_end": 1.4,
            "count": 0
           },
           {
            "bin_start": 1.4,
            "bin_end": 1.5,
            "count": 0
           },
           {
            "bin_start": 1.5,
            "bin_end": 1.6,
            "count": 0
           },
           {
            "bin_start": 1.6,
            "bin_end": 1.7000000000000002,
            "count": 0
           },
           {
            "bin_start": 1.7000000000000002,
            "bin_end": 1.8,
            "count": 0
           },
           {
            "bin_start": 1.8,
            "bin_end": 1.9,
            "count": 0
           },
           {
            "bin_start": 1.9,
            "bin_end": 2,
            "count": 1
           }
          ]
         }
        },
        {
         "name": "beds",
         "dtype": "int64",
         "stats": {
          "unique_count": 3,
          "nan_count": 0,
          "min": "1",
          "max": "3",
          "histogram": [
           {
            "bin_start": 1,
            "bin_end": 1.2,
            "count": 3
           },
           {
            "bin_start": 1.2,
            "bin_end": 1.4,
            "count": 0
           },
           {
            "bin_start": 1.4,
            "bin_end": 1.6,
            "count": 0
           },
           {
            "bin_start": 1.6,
            "bin_end": 1.8,
            "count": 0
           },
           {
            "bin_start": 1.8,
            "bin_end": 2,
            "count": 0
           },
           {
            "bin_start": 2,
            "bin_end": 2.2,
            "count": 1
           },
           {
            "bin_start": 2.2,
            "bin_end": 2.4000000000000004,
            "count": 0
           },
           {
            "bin_start": 2.4000000000000004,
            "bin_end": 2.6,
            "count": 0
           },
           {
            "bin_start": 2.6,
            "bin_end": 2.8,
            "count": 0
           },
           {
            "bin_start": 2.8,
            "bin_end": 3,
            "count": 1
           }
          ]
         }
        },
        {
         "name": "amenities",
         "dtype": "object",
         "stats": {
          "unique_count": 5,
          "nan_count": 0,
          "categories": [
           {
            "name": "[\"Shampoo\", \"Essentials\", \"Kitchen\", \"Long term stays allowed\", \"Washer\", \"Cable TV\", \"Elevator\", \"Wifi\", \"Gym\", \"Air conditioning\", \"Pool\", \"TV with standard cable\"]",
            "count": 1
           },
           {
            "name": "[\"Hangers\", \"Cooking basics\", \"Washer\", \"Hair dryer\", \"Fire pit\", \"Shared hot tub\", \"Outdoor furniture\", \"TV\", \"Dedicated workspace\", \"Children\\u2019s books and toys\", \"Long term stays allowed\", \"Outdoor dining area\", \"Private entrance\", \"Lock on bedroom door\", \"Refrigerator\", \"Dryer\", \"Free street parking\", \"Wifi\", \"Smoke alarm\", \"Luggage dropoff allowed\", \"Shampoo\", \"Keypad\", \"Hot water\", \"BBQ grill\", \"Iron\", \"Essentials\", \"Kitchen\", \"Private fenced garden or backyard\", \"Air conditioning\", \"Fire extinguisher\"]",
            "count": 1
           },
           {
            "name": "3 others",
            "count": 3
           }
          ]
         }
        },
        {
         "name": "price",
         "dtype": "float64",
         "stats": {
          "unique_count": 4,
          "nan_count": 0,
          "min": "52.0",
          "max": "179.0",
          "histogram": [
           {
            "bin_start": 52,
            "bin_end": 64.7,
            "count": 1
           },
           {
            "bin_start": 64.7,
            "bin_end": 77.4,
            "count": 0
           },
           {
            "bin_start": 77.4,
            "bin_end": 90.1,
            "count": 3
           },
           {
            "bin_start": 90.1,
            "bin_end": 102.8,
            "count": 0
           },
           {
            "bin_start": 102.8,
            "bin_end": 115.5,
            "count": 0
           },
           {
            "bin_start": 115.5,
            "bin_end": 128.2,
            "count": 0
           },
           {
            "bin_start": 128.2,
            "bin_end": 140.89999999999998,
            "count": 0
           },
           {
            "bin_start": 140.89999999999998,
            "bin_end": 153.6,
            "count": 0
           },
           {
            "bin_start": 153.6,
            "bin_end": 166.3,
            "count": 0
           },
           {
            "bin_start": 166.3,
            "bin_end": 179,
            "count": 1
           }
          ]
         }
        },
        {
         "name": "minimum_nights",
         "dtype": "int64",
         "stats": {
          "unique_count": 3,
          "nan_count": 0,
          "min": "14",
          "max": "92",
          "histogram": [
           {
            "bin_start": 14,
            "bin_end": 21.8,
            "count": 1
           },
           {
            "bin_start": 21.8,
            "bin_end": 29.6,
            "count": 0
           },
           {
            "bin_start": 29.6,
            "bin_end": 37.4,
            "count": 0
           },
           {
            "bin_start": 37.4,
            "bin_end": 45.2,
            "count": 0
           },
           {
            "bin_start": 45.2,
            "bin_end": 53,
            "count": 0
           },
           {
            "bin_start": 53,
            "bin_end": 60.8,
            "count": 0
           },
           {
            "bin_start": 60.8,
            "bin_end": 68.6,
            "count": 0
           },
           {
            "bin_start": 68.6,
            "bin_end": 76.4,
            "count": 0
           },
           {
            "bin_start": 76.4,
            "bin_end": 84.2,
            "count": 0
           },
           {
            "bin_start": 84.2,
            "bin_end": 92,
            "count": 4
           }
          ]
         }
        },
        {
         "name": "maximum_nights",
         "dtype": "int64",
         "stats": {
          "unique_count": 3,
          "nan_count": 0,
          "min": "730",
          "max": "1125",
          "histogram": [
           {
            "bin_start": 730,
            "bin_end": 769.5,
            "count": 1
           },
           {
            "bin_start": 769.5,
            "bin_end": 809,
            "count": 0
           },
           {
            "bin_start": 809,
            "bin_end": 848.5,
            "count": 0
           },
           {
            "bin_start": 848.5,
            "bin_end": 888,
            "count": 0
           },
           {
            "bin_start": 888,
            "bin_end": 927.5,
            "count": 0
           },
           {
            "bin_start": 927.5,
            "bin_end": 967,
            "count": 0
           },
           {
            "bin_start": 967,
            "bin_end": 1006.5,
            "count": 1
           },
           {
            "bin_start": 1006.5,
            "bin_end": 1046,
            "count": 0
           },
           {
            "bin_start": 1046,
            "bin_end": 1085.5,
            "count": 0
           },
           {
            "bin_start": 1085.5,
            "bin_end": 1125,
            "count": 3
           }
          ]
         }
        },
        {
         "name": "has_availability",
         "dtype": "object",
         "stats": {
          "unique_count": 1,
          "nan_count": 0,
          "categories": [
           {
            "name": "t",
            "count": 5
           }
          ]
         }
        },
        {
         "name": "availability_30",
         "dtype": "int64",
         "stats": {
          "unique_count": 2,
          "nan_count": 0,
          "min": "6",
          "max": "30",
          "histogram": [
           {
            "bin_start": 6,
            "bin_end": 8.4,
            "count": 1
           },
           {
            "bin_start": 8.4,
            "bin_end": 10.8,
            "count": 0
           },
           {
            "bin_start": 10.8,
            "bin_end": 13.2,
            "count": 0
           },
           {
            "bin_start": 13.2,
            "bin_end": 15.6,
            "count": 0
           },
           {
            "bin_start": 15.6,
            "bin_end": 18,
            "count": 0
           },
           {
            "bin_start": 18,
            "bin_end": 20.4,
            "count": 0
           },
           {
            "bin_start": 20.4,
            "bin_end": 22.8,
            "count": 0
           },
           {
            "bin_start": 22.8,
            "bin_end": 25.2,
            "count": 0
           },
           {
            "bin_start": 25.2,
            "bin_end": 27.599999999999998,
            "count": 0
           },
           {
            "bin_start": 27.599999999999998,
            "bin_end": 30,
            "count": 4
           }
          ]
         }
        },
        {
         "name": "availability_60",
         "dtype": "int64",
         "stats": {
          "unique_count": 2,
          "nan_count": 0,
          "min": "36",
          "max": "60",
          "histogram": [
           {
            "bin_start": 36,
            "bin_end": 38.4,
            "count": 1
           },
           {
            "bin_start": 38.4,
            "bin_end": 40.8,
            "count": 0
           },
           {
            "bin_start": 40.8,
            "bin_end": 43.2,
            "count": 0
           },
           {
            "bin_start": 43.2,
            "bin_end": 45.6,
            "count": 0
           },
           {
            "bin_start": 45.6,
            "bin_end": 48,
            "count": 0
           },
           {
            "bin_start": 48,
            "bin_end": 50.4,
            "count": 0
           },
           {
            "bin_start": 50.4,
            "bin_end": 52.8,
            "count": 0
           },
           {
            "bin_start": 52.8,
            "bin_end": 55.2,
            "count": 0
           },
           {
            "bin_start": 55.2,
            "bin_end": 57.599999999999994,
            "count": 0
           },
           {
            "bin_start": 57.599999999999994,
            "bin_end": 60,
            "count": 4
           }
          ]
         }
        },
        {
         "name": "availability_90",
         "dtype": "int64",
         "stats": {
          "unique_count": 2,
          "nan_count": 0,
          "min": "66",
          "max": "90",
          "histogram": [
           {
            "bin_start": 66,
            "bin_end": 68.4,
            "count": 1
           },
           {
            "bin_start": 68.4,
            "bin_end": 70.8,
            "count": 0
           },
           {
            "bin_start": 70.8,
            "bin_end": 73.2,
            "count": 0
           },
           {
            "bin_start": 73.2,
            "bin_end": 75.6,
            "count": 0
           },
           {
            "bin_start": 75.6,
            "bin_end": 78,
            "count": 0
           },
           {
            "bin_start": 78,
            "bin_end": 80.4,
            "count": 0
           },
           {
            "bin_start": 80.4,
            "bin_end": 82.8,
            "count": 0
           },
           {
            "bin_start": 82.8,
            "bin_end": 85.2,
            "count": 0
           },
           {
            "bin_start": 85.2,
            "bin_end": 87.6,
            "count": 0
           },
           {
            "bin_start": 87.6,
            "bin_end": 90,
            "count": 4
           }
          ]
         }
        },
        {
         "name": "availability_365",
         "dtype": "int64",
         "stats": {
          "unique_count": 2,
          "nan_count": 0,
          "min": "341",
          "max": "365",
          "histogram": [
           {
            "bin_start": 341,
            "bin_end": 343.4,
            "count": 1
           },
           {
            "bin_start": 343.4,
            "bin_end": 345.8,
            "count": 0
           },
           {
            "bin_start": 345.8,
            "bin_end": 348.2,
            "count": 0
           },
           {
            "bin_start": 348.2,
            "bin_end": 350.6,
            "count": 0
           },
           {
            "bin_start": 350.6,
            "bin_end": 353,
            "count": 0
           },
           {
            "bin_start": 353,
            "bin_end": 355.4,
            "count": 0
           },
           {
            "bin_start": 355.4,
            "bin_end": 357.8,
            "count": 0
           },
           {
            "bin_start": 357.8,
            "bin_end": 360.2,
            "count": 0
           },
           {
            "bin_start": 360.2,
            "bin_end": 362.6,
            "count": 0
           },
           {
            "bin_start": 362.6,
            "bin_end": 365,
            "count": 4
           }
          ]
         }
        },
        {
         "name": "number_of_reviews",
         "dtype": "int64",
         "stats": {
          "unique_count": 4,
          "nan_count": 0,
          "min": "18",
          "max": "47",
          "histogram": [
           {
            "bin_start": 18,
            "bin_end": 20.9,
            "count": 3
           },
           {
            "bin_start": 20.9,
            "bin_end": 23.8,
            "count": 0
           },
           {
            "bin_start": 23.8,
            "bin_end": 26.7,
            "count": 1
           },
           {
            "bin_start": 26.7,
            "bin_end": 29.6,
            "count": 0
           },
           {
            "bin_start": 29.6,
            "bin_end": 32.5,
            "count": 0
           },
           {
            "bin_start": 32.5,
            "bin_end": 35.4,
            "count": 0
           },
           {
            "bin_start": 35.4,
            "bin_end": 38.3,
            "count": 0
           },
           {
            "bin_start": 38.3,
            "bin_end": 41.2,
            "count": 0
           },
           {
            "bin_start": 41.2,
            "bin_end": 44.099999999999994,
            "count": 0
           },
           {
            "bin_start": 44.099999999999994,
            "bin_end": 47,
            "count": 1
           }
          ]
         }
        },
        {
         "name": "number_of_reviews_ltm",
         "dtype": "int64",
         "stats": {
          "unique_count": 1,
          "nan_count": 0,
          "min": "0",
          "max": "0",
          "histogram": [
           {
            "bin_start": -0.5,
            "bin_end": -0.4,
            "count": 0
           },
           {
            "bin_start": -0.4,
            "bin_end": -0.3,
            "count": 0
           },
           {
            "bin_start": -0.3,
            "bin_end": -0.19999999999999996,
            "count": 0
           },
           {
            "bin_start": -0.19999999999999996,
            "bin_end": -0.09999999999999998,
            "count": 0
           },
           {
            "bin_start": -0.09999999999999998,
            "bin_end": 0,
            "count": 0
           },
           {
            "bin_start": 0,
            "bin_end": 0.10000000000000009,
            "count": 5
           },
           {
            "bin_start": 0.10000000000000009,
            "bin_end": 0.20000000000000007,
            "count": 0
           },
           {
            "bin_start": 0.20000000000000007,
            "bin_end": 0.30000000000000004,
            "count": 0
           },
           {
            "bin_start": 0.30000000000000004,
            "bin_end": 0.4,
            "count": 0
           },
           {
            "bin_start": 0.4,
            "bin_end": 0.5,
            "count": 0
           }
          ]
         }
        },
        {
         "name": "number_of_reviews_l30d",
         "dtype": "int64",
         "stats": {
          "unique_count": 1,
          "nan_count": 0,
          "min": "0",
          "max": "0",
          "histogram": [
           {
            "bin_start": -0.5,
            "bin_end": -0.4,
            "count": 0
           },
           {
            "bin_start": -0.4,
            "bin_end": -0.3,
            "count": 0
           },
           {
            "bin_start": -0.3,
            "bin_end": -0.19999999999999996,
            "count": 0
           },
           {
            "bin_start": -0.19999999999999996,
            "bin_end": -0.09999999999999998,
            "count": 0
           },
           {
            "bin_start": -0.09999999999999998,
            "bin_end": 0,
            "count": 0
           },
           {
            "bin_start": 0,
            "bin_end": 0.10000000000000009,
            "count": 5
           },
           {
            "bin_start": 0.10000000000000009,
            "bin_end": 0.20000000000000007,
            "count": 0
           },
           {
            "bin_start": 0.20000000000000007,
            "bin_end": 0.30000000000000004,
            "count": 0
           },
           {
            "bin_start": 0.30000000000000004,
            "bin_end": 0.4,
            "count": 0
           },
           {
            "bin_start": 0.4,
            "bin_end": 0.5,
            "count": 0
           }
          ]
         }
        },
        {
         "name": "review_scores_rating",
         "dtype": "float64",
         "stats": {
          "unique_count": 5,
          "nan_count": 0,
          "min": "4.16",
          "max": "4.56",
          "histogram": [
           {
            "bin_start": 4.16,
            "bin_end": 4.2,
            "count": 1
           },
           {
            "bin_start": 4.2,
            "bin_end": 4.24,
            "count": 0
           },
           {
            "bin_start": 4.24,
            "bin_end": 4.28,
            "count": 0
           },
           {
            "bin_start": 4.28,
            "bin_end": 4.32,
            "count": 0
           },
           {
            "bin_start": 4.32,
            "bin_end": 4.359999999999999,
            "count": 0
           },
           {
            "bin_start": 4.359999999999999,
            "bin_end": 4.3999999999999995,
            "count": 1
           },
           {
            "bin_start": 4.3999999999999995,
            "bin_end": 4.4399999999999995,
            "count": 1
           },
           {
            "bin_start": 4.4399999999999995,
            "bin_end": 4.4799999999999995,
            "count": 1
           },
           {
            "bin_start": 4.4799999999999995,
            "bin_end": 4.52,
            "count": 0
           },
           {
            "bin_start": 4.52,
            "bin_end": 4.56,
            "count": 1
           }
          ]
         }
        },
        {
         "name": "review_scores_accuracy",
         "dtype": "float64",
         "stats": {
          "unique_count": 5,
          "nan_count": 0,
          "min": "4.12",
          "max": "4.72",
          "histogram": [
           {
            "bin_start": 4.12,
            "bin_end": 4.18,
            "count": 1
           },
           {
            "bin_start": 4.18,
            "bin_end": 4.24,
            "count": 1
           },
           {
            "bin_start": 4.24,
            "bin_end": 4.3,
            "count": 0
           },
           {
            "bin_start": 4.3,
            "bin_end": 4.36,
            "count": 0
           },
           {
            "bin_start": 4.36,
            "bin_end": 4.42,
            "count": 2
           },
           {
            "bin_start": 4.42,
            "bin_end": 4.4799999999999995,
            "count": 0
           },
           {
            "bin_start": 4.4799999999999995,
            "bin_end": 4.54,
            "count": 0
           },
           {
            "bin_start": 4.54,
            "bin_end": 4.6,
            "count": 0
           },
           {
            "bin_start": 4.6,
            "bin_end": 4.66,
            "count": 0
           },
           {
            "bin_start": 4.66,
            "bin_end": 4.72,
            "count": 1
           }
          ]
         }
        },
        {
         "name": "review_scores_cleanliness",
         "dtype": "float64",
         "stats": {
          "unique_count": 5,
          "nan_count": 0,
          "min": "4.0",
          "max": "4.78",
          "histogram": [
           {
            "bin_start": 4,
            "bin_end": 4.078,
            "count": 1
           },
           {
            "bin_start": 4.078,
            "bin_end": 4.156,
            "count": 1
           },
           {
            "bin_start": 4.156,
            "bin_end": 4.234,
            "count": 0
           },
           {
            "bin_start": 4.234,
            "bin_end": 4.312,
            "count": 1
           },
           {
            "bin_start": 4.312,
            "bin_end": 4.390000000000001,
            "count": 0
           },
           {
            "bin_start": 4.390000000000001,
            "bin_end": 4.468,
            "count": 0
           },
           {
            "bin_start": 4.468,
            "bin_end": 4.546,
            "count": 1
           },
           {
            "bin_start": 4.546,
            "bin_end": 4.6240000000000006,
            "count": 0
           },
           {
            "bin_start": 4.6240000000000006,
            "bin_end": 4.702,
            "count": 0
           },
           {
            "bin_start": 4.702,
            "bin_end": 4.78,
            "count": 1
           }
          ]
         }
        },
        {
         "name": "review_scores_checkin",
         "dtype": "float64",
         "stats": {
          "unique_count": 4,
          "nan_count": 0,
          "min": "4.43",
          "max": "4.78",
          "histogram": [
           {
            "bin_start": 4.43,
            "bin_end": 4.465,
            "count": 1
           },
           {
            "bin_start": 4.465,
            "bin_end": 4.5,
            "count": 0
           },
           {
            "bin_start": 4.5,
            "bin_end": 4.535,
            "count": 1
           },
           {
            "bin_start": 4.535,
            "bin_end": 4.57,
            "count": 0
           },
           {
            "bin_start": 4.57,
            "bin_end": 4.605,
            "count": 0
           },
           {
            "bin_start": 4.605,
            "bin_end": 4.64,
            "count": 2
           },
           {
            "bin_start": 4.64,
            "bin_end": 4.675,
            "count": 0
           },
           {
            "bin_start": 4.675,
            "bin_end": 4.71,
            "count": 0
           },
           {
            "bin_start": 4.71,
            "bin_end": 4.745,
            "count": 0
           },
           {
            "bin_start": 4.745,
            "bin_end": 4.78,
            "count": 1
           }
          ]
         }
        },
        {
         "name": "review_scores_communication",
         "dtype": "float64",
         "stats": {
          "unique_count": 5,
          "nan_count": 0,
          "min": "4.43",
          "max": "4.94",
          "histogram": [
           {
            "bin_start": 4.43,
            "bin_end": 4.481,
            "count": 2
           },
           {
            "bin_start": 4.481,
            "bin_end": 4.532,
            "count": 0
           },
           {
            "bin_start": 4.532,
            "bin_end": 4.583,
            "count": 0
           },
           {
            "bin_start": 4.583,
            "bin_end": 4.634,
            "count": 0
           },
           {
            "bin_start": 4.634,
            "bin_end": 4.6850000000000005,
            "count": 1
           },
           {
            "bin_start": 4.6850000000000005,
            "bin_end": 4.736,
            "count": 0
           },
           {
            "bin_start": 4.736,
            "bin_end": 4.787,
            "count": 1
           },
           {
            "bin_start": 4.787,
            "bin_end": 4.838,
            "count": 0
           },
           {
            "bin_start": 4.838,
            "bin_end": 4.889,
            "count": 0
           },
           {
            "bin_start": 4.889,
            "bin_end": 4.94,
            "count": 1
           }
          ]
         }
        },
        {
         "name": "review_scores_location",
         "dtype": "float64",
         "stats": {
          "unique_count": 5,
          "nan_count": 0,
          "min": "4.17",
          "max": "4.72",
          "histogram": [
           {
            "bin_start": 4.17,
            "bin_end": 4.225,
            "count": 1
           },
           {
            "bin_start": 4.225,
            "bin_end": 4.28,
            "count": 1
           },
           {
            "bin_start": 4.28,
            "bin_end": 4.335,
            "count": 0
           },
           {
            "bin_start": 4.335,
            "bin_end": 4.39,
            "count": 0
           },
           {
            "bin_start": 4.39,
            "bin_end": 4.445,
            "count": 0
           },
           {
            "bin_start": 4.445,
            "bin_end": 4.5,
            "count": 0
           },
           {
            "bin_start": 4.5,
            "bin_end": 4.555,
            "count": 2
           },
           {
            "bin_start": 4.555,
            "bin_end": 4.609999999999999,
            "count": 0
           },
           {
            "bin_start": 4.609999999999999,
            "bin_end": 4.665,
            "count": 0
           },
           {
            "bin_start": 4.665,
            "bin_end": 4.72,
            "count": 1
           }
          ]
         }
        },
        {
         "name": "review_scores_value",
         "dtype": "float64",
         "stats": {
          "unique_count": 5,
          "nan_count": 0,
          "min": "4.04",
          "max": "4.59",
          "histogram": [
           {
            "bin_start": 4.04,
            "bin_end": 4.095,
            "count": 1
           },
           {
            "bin_start": 4.095,
            "bin_end": 4.15,
            "count": 0
           },
           {
            "bin_start": 4.15,
            "bin_end": 4.205,
            "count": 0
           },
           {
            "bin_start": 4.205,
            "bin_end": 4.26,
            "count": 0
           },
           {
            "bin_start": 4.26,
            "bin_end": 4.3149999999999995,
            "count": 0
           },
           {
            "bin_start": 4.3149999999999995,
            "bin_end": 4.37,
            "count": 2
           },
           {
            "bin_start": 4.37,
            "bin_end": 4.425,
            "count": 0
           },
           {
            "bin_start": 4.425,
            "bin_end": 4.4799999999999995,
            "count": 0
           },
           {
            "bin_start": 4.4799999999999995,
            "bin_end": 4.535,
            "count": 1
           },
           {
            "bin_start": 4.535,
            "bin_end": 4.59,
            "count": 1
           }
          ]
         }
        },
        {
         "name": "instant_bookable",
         "dtype": "object",
         "stats": {
          "unique_count": 1,
          "nan_count": 0,
          "categories": [
           {
            "name": "f",
            "count": 5
           }
          ]
         }
        },
        {
         "name": "calculated_host_listings_count",
         "dtype": "int64",
         "stats": {
          "unique_count": 3,
          "nan_count": 0,
          "min": "1",
          "max": "16",
          "histogram": [
           {
            "bin_start": 1,
            "bin_end": 2.5,
            "count": 1
           },
           {
            "bin_start": 2.5,
            "bin_end": 4,
            "count": 0
           },
           {
            "bin_start": 4,
            "bin_end": 5.5,
            "count": 3
           },
           {
            "bin_start": 5.5,
            "bin_end": 7,
            "count": 0
           },
           {
            "bin_start": 7,
            "bin_end": 8.5,
            "count": 0
           },
           {
            "bin_start": 8.5,
            "bin_end": 10,
            "count": 0
           },
           {
            "bin_start": 10,
            "bin_end": 11.5,
            "count": 0
           },
           {
            "bin_start": 11.5,
            "bin_end": 13,
            "count": 0
           },
           {
            "bin_start": 13,
            "bin_end": 14.5,
            "count": 0
           },
           {
            "bin_start": 14.5,
            "bin_end": 16,
            "count": 1
           }
          ]
         }
        },
        {
         "name": "amenities_str",
         "dtype": "object",
         "stats": {
          "unique_count": 5,
          "nan_count": 0,
          "categories": [
           {
            "name": "\"Shampoo\", \"Essentials\", \"Kitchen\", \"Long term stays allowed\", \"Washer\", \"Cable TV\", \"Elevator\", \"Wifi\", \"Gym\", \"Air conditioning\", \"Pool\", \"TV with standard cable\"",
            "count": 1
           },
           {
            "name": "\"Hangers\", \"Cooking basics\", \"Washer\", \"Hair dryer\", \"Fire pit\", \"Shared hot tub\", \"Outdoor furniture\", \"TV\", \"Dedicated workspace\", \"Children\\u2019s books and toys\", \"Long term stays allowed\", \"Outdoor dining area\", \"Private entrance\", \"Lock on bedroom door\", \"Refrigerator\", \"Dryer\", \"Free street parking\", \"Wifi\", \"Smoke alarm\", \"Luggage dropoff allowed\", \"Shampoo\", \"Keypad\", \"Hot water\", \"BBQ grill\", \"Iron\", \"Essentials\", \"Kitchen\", \"Private fenced garden or backyard\", \"Air conditioning\", \"Fire extinguisher\"",
            "count": 1
           },
           {
            "name": "3 others",
            "count": 3
           }
          ]
         }
        },
        {
         "name": "dist_to_subway",
         "dtype": "float64",
         "stats": {
          "unique_count": 5,
          "nan_count": 0,
          "min": "0.5349951408052672",
          "max": "1.0859865627591387",
          "histogram": [
           {
            "bin_start": 0.5349951408052672,
            "bin_end": 0.5900942830006544,
            "count": 1
           },
           {
            "bin_start": 0.5900942830006544,
            "bin_end": 0.6451934251960415,
            "count": 0
           },
           {
            "bin_start": 0.6451934251960415,
            "bin_end": 0.7002925673914286,
            "count": 0
           },
           {
            "bin_start": 0.7002925673914286,
            "bin_end": 0.7553917095868159,
            "count": 0
           },
           {
            "bin_start": 0.7553917095868159,
            "bin_end": 0.8104908517822029,
            "count": 2
           },
           {
            "bin_start": 0.8104908517822029,
            "bin_end": 0.8655899939775902,
            "count": 0
           },
           {
            "bin_start": 0.8655899939775902,
            "bin_end": 0.9206891361729773,
            "count": 0
           },
           {
            "bin_start": 0.9206891361729773,
            "bin_end": 0.9757882783683645,
            "count": 1
           },
           {
            "bin_start": 0.9757882783683645,
            "bin_end": 1.0308874205637517,
            "count": 0
           },
           {
            "bin_start": 1.0308874205637517,
            "bin_end": 1.0859865627591387,
            "count": 1
           }
          ]
         }
        },
        {
         "name": "name_lang",
         "dtype": "object",
         "stats": {
          "unique_count": 1,
          "nan_count": 0,
          "categories": [
           {
            "name": "en",
            "count": 5
           }
          ]
         }
        },
        {
         "name": "description_lang",
         "dtype": "object",
         "stats": {
          "unique_count": 1,
          "nan_count": 0,
          "categories": [
           {
            "name": "en",
            "count": 5
           }
          ]
         }
        },
        {
         "name": "_deepnote_index_column",
         "dtype": "int64"
        }
       ],
       "rows": [
        {
         "id": 50646,
         "name": "Pleasant Room along Bukit Timah",
         "description": "Fully furnished bedroom with a nice view on the 10th floor of a newly built private condominium on …",
         "neighborhood_overview": "The serenity & quiet surrounding makes it an ideal place to come back to after work / play. Lovely …",
         "host_since": "2010-09-08",
         "host_response_time": "No Data",
         "host_response_rate": "nan",
         "host_acceptance_rate": "nan",
         "host_is_superhost": "f",
         "host_listings_count": 1,
         "host_has_profile_pic": "t",
         "host_identity_verified": "t",
         "neighbourhood": "Singapore, Singapore",
         "neighbourhood_cleansed": "Bukit Timah",
         "neighbourhood_group_cleansed": "Central Region",
         "latitude": 1.33432,
         "longitude": 103.78521,
         "property_type": "Private room in rental unit",
         "room_type": "Private room",
         "accommodates": 2,
         "bathrooms_text": "1 bath",
         "bedrooms": 1,
         "beds": 1,
         "amenities": "[\"Shampoo\", \"Essentials\", \"Kitchen\", \"Long term stays allowed\", \"Washer\", \"Cable TV\", \"Elevator\", \"…",
         "price": 80,
         "minimum_nights": 90,
         "maximum_nights": 730,
         "has_availability": "t",
         "availability_30": 30,
         "availability_60": 60,
         "availability_90": 90,
         "availability_365": 365,
         "number_of_reviews": 18,
         "number_of_reviews_ltm": 0,
         "number_of_reviews_l30d": 0,
         "review_scores_rating": 4.56,
         "review_scores_accuracy": 4.72,
         "review_scores_cleanliness": 4.78,
         "review_scores_checkin": 4.78,
         "review_scores_communication": 4.94,
         "review_scores_location": 4.72,
         "review_scores_value": 4.5,
         "instant_bookable": "f",
         "calculated_host_listings_count": 1,
         "amenities_str": "\"Shampoo\", \"Essentials\", \"Kitchen\", \"Long term stays allowed\", \"Washer\", \"Cable TV\", \"Elevator\", \"W…",
         "dist_to_subway": 0.5349951408052672,
         "name_lang": "en",
         "description_lang": "en",
         "_deepnote_index_column": 0
        },
        {
         "id": 71609,
         "name": "Ensuite Room (Room 1 & 2) near EXPO",
         "description": "For 3 rooms.Book room 1&2 and room 4   The space  Landed Homestay Room for Rental. Between Simei an…",
         "neighborhood_overview": "No Data",
         "host_since": "2011-01-29",
         "host_response_time": "within a day",
         "host_response_rate": 100,
         "host_acceptance_rate": "nan",
         "host_is_superhost": "f",
         "host_listings_count": 8,
         "host_has_profile_pic": "t",
         "host_identity_verified": "t",
         "neighbourhood": "No Data",
         "neighbourhood_cleansed": "Tampines",
         "neighbourhood_group_cleansed": "East Region",
         "latitude": 1.34537,
         "longitude": 103.95887,
         "property_type": "Private room in villa",
         "room_type": "Private room",
         "accommodates": 6,
         "bathrooms_text": "1 private bath",
         "bedrooms": 2,
         "beds": 3,
         "amenities": "[\"Hangers\", \"Cooking basics\", \"Washer\", \"Hair dryer\", \"Fire pit\", \"Shared hot tub\", \"Outdoor furnit…",
         "price": 179,
         "minimum_nights": 92,
         "maximum_nights": 1125,
         "has_availability": "t",
         "availability_30": 30,
         "availability_60": 60,
         "availability_90": 90,
         "availability_365": 365,
         "number_of_reviews": 20,
         "number_of_reviews_ltm": 0,
         "number_of_reviews_l30d": 0,
         "review_scores_rating": 4.44,
         "review_scores_accuracy": 4.37,
         "review_scores_cleanliness": 4,
         "review_scores_checkin": 4.63,
         "review_scores_communication": 4.78,
         "review_scores_location": 4.26,
         "review_scores_value": 4.32,
         "instant_bookable": "f",
         "calculated_host_listings_count": 5,
         "amenities_str": "\"Hangers\", \"Cooking basics\", \"Washer\", \"Hair dryer\", \"Fire pit\", \"Shared hot tub\", \"Outdoor furnitu…",
         "dist_to_subway": 0.9261668336215994,
         "name_lang": "en",
         "description_lang": "en",
         "_deepnote_index_column": 1
        },
        {
         "id": 71896,
         "name": "B&B  Room 1 near Airport & EXPO",
         "description": " The space  Vocational Stay Deluxe Bedroom in Singapore.(Near Airport)    Located Between    - Sime…",
         "neighborhood_overview": "No Data",
         "host_since": "2011-01-29",
         "host_response_time": "within a day",
         "host_response_rate": 100,
         "host_acceptance_rate": "nan",
         "host_is_superhost": "f",
         "host_listings_count": 8,
         "host_has_profile_pic": "t",
         "host_identity_verified": "t",
         "neighbourhood": "No Data",
         "neighbourhood_cleansed": "Tampines",
         "neighbourhood_group_cleansed": "East Region",
         "latitude": 1.34754,
         "longitude": 103.95958,
         "property_type": "Private room in residential home",
         "room_type": "Private room",
         "accommodates": 3,
         "bathrooms_text": "Shared half-bath",
         "bedrooms": 1,
         "beds": 1,
         "amenities": "[\"Coffee maker\", \"Cooking basics\", \"Washer\", \"Hair dryer\", \"Fire pit\", \"Shared hot tub\", \"Outdoor f…",
         "price": 82,
         "minimum_nights": 92,
         "maximum_nights": 1125,
         "has_availability": "t",
         "availability_30": 30,
         "availability_60": 60,
         "availability_90": 90,
         "availability_365": 365,
         "number_of_reviews": 24,
         "number_of_reviews_ltm": 0,
         "number_of_reviews_l30d": 0,
         "review_scores_rating": 4.16,
         "review_scores_accuracy": 4.22,
         "review_scores_cleanliness": 4.09,
         "review_scores_checkin": 4.43,
         "review_scores_communication": 4.43,
         "review_scores_location": 4.17,
         "review_scores_value": 4.04,
         "instant_bookable": "f",
         "calculated_host_listings_count": 5,
         "amenities_str": "\"Coffee maker\", \"Cooking basics\", \"Washer\", \"Hair dryer\", \"Fire pit\", \"Shared hot tub\", \"Outdoor fu…",
         "dist_to_subway": 0.8027395291146818,
         "name_lang": "en",
         "description_lang": "en",
         "_deepnote_index_column": 2
        },
        {
         "id": 71903,
         "name": "Room 2-near Airport & EXPO",
         "description": "Like your own home, 24hrs access.   The space  Vocational Stay Deluxe Bedroom in Singapore.(Near Ai…",
         "neighborhood_overview": "Quiet and view of the playground with exercise tracks with access to neighbourhood Simwi Estate.",
         "host_since": "2011-01-29",
         "host_response_time": "within a day",
         "host_response_rate": 100,
         "host_acceptance_rate": "nan",
         "host_is_superhost": "f",
         "host_listings_count": 8,
         "host_has_profile_pic": "t",
         "host_identity_verified": "t",
         "neighbourhood": "Singapore, Singapore",
         "neighbourhood_cleansed": "Tampines",
         "neighbourhood_group_cleansed": "East Region",
         "latitude": 1.34531,
         "longitude": 103.961,
         "property_type": "Private room in residential home",
         "room_type": "Private room",
         "accommodates": 3,
         "bathrooms_text": "Shared half-bath",
         "bedrooms": 1,
         "beds": 2,
         "amenities": "[\"Coffee maker\", \"Cooking basics\", \"Washer\", \"Hair dryer\", \"Fire pit\", \"Shared hot tub\", \"Outdoor f…",
         "price": 82,
         "minimum_nights": 92,
         "maximum_nights": 1125,
         "has_availability": "t",
         "availability_30": 30,
         "availability_60": 60,
         "availability_90": 90,
         "availability_365": 365,
         "number_of_reviews": 47,
         "number_of_reviews_ltm": 0,
         "number_of_reviews_l30d": 0,
         "review_scores_rating": 4.41,
         "review_scores_accuracy": 4.39,
         "review_scores_cleanliness": 4.52,
         "review_scores_checkin": 4.63,
         "review_scores_communication": 4.64,
         "review_scores_location": 4.5,
         "review_scores_value": 4.36,
         "instant_bookable": "f",
         "calculated_host_listings_count": 5,
         "amenities_str": "\"Coffee maker\", \"Cooking basics\", \"Washer\", \"Hair dryer\", \"Fire pit\", \"Shared hot tub\", \"Outdoor fu…",
         "dist_to_subway": 1.0859865627591387,
         "name_lang": "en",
         "description_lang": "en",
         "_deepnote_index_column": 3
        },
        {
         "id": 275343,
         "name": "Conveniently located City Room!(1,2,3,4,5,6,7,8)",
         "description": "Awesome location and host  Room near INSEAD, NTU, SMU, NUS   The space  Centrally located between 2…",
         "neighborhood_overview": "No Data",
         "host_since": "2011-11-24",
         "host_response_time": "within a few hours",
         "host_response_rate": 87,
         "host_acceptance_rate": 77,
         "host_is_superhost": "f",
         "host_listings_count": 16,
         "host_has_profile_pic": "t",
         "host_identity_verified": "t",
         "neighbourhood": "No Data",
         "neighbourhood_cleansed": "Bukit Merah",
         "neighbourhood_group_cleansed": "Central Region",
         "latitude": 1.29015,
         "longitude": 103.80814,
         "property_type": "Private room in rental unit",
         "room_type": "Private room",
         "accommodates": 1,
         "bathrooms_text": "No Data",
         "bedrooms": 1,
         "beds": 1,
         "amenities": "[\"Shampoo\", \"Essentials\", \"Keypad\", \"Kitchen\", \"Long term stays allowed\", \"Washer\", \"Hair dryer\", \"…",
         "price": 52,
         "minimum_nights": 14,
         "maximum_nights": 999,
         "has_availability": "t",
         "availability_30": 6,
         "availability_60": 36,
         "availability_90": 66,
         "availability_365": 341,
         "number_of_reviews": 20,
         "number_of_reviews_ltm": 0,
         "number_of_reviews_l30d": 0,
         "review_scores_rating": 4.39,
         "review_scores_accuracy": 4.12,
         "review_scores_cleanliness": 4.24,
         "review_scores_checkin": 4.53,
         "review_scores_communication": 4.47,
         "review_scores_location": 4.53,
         "review_scores_value": 4.59,
         "instant_bookable": "f",
         "calculated_host_listings_count": 16,
         "amenities_str": "\"Shampoo\", \"Essentials\", \"Keypad\", \"Kitchen\", \"Long term stays allowed\", \"Washer\", \"Hair dryer\", \"L…",
         "dist_to_subway": 0.7750468559345586,
         "name_lang": "en",
         "description_lang": "en",
         "_deepnote_index_column": 4
        }
       ]
      },
      "text/plain": "       id                                              name  \\\n0   50646                   Pleasant Room along Bukit Timah   \n1   71609               Ensuite Room (Room 1 & 2) near EXPO   \n2   71896                   B&B  Room 1 near Airport & EXPO   \n3   71903                        Room 2-near Airport & EXPO   \n4  275343  Conveniently located City Room!(1,2,3,4,5,6,7,8)   \n\n                                         description  \\\n0  Fully furnished bedroom with a nice view on th...   \n1  For 3 rooms.Book room 1&2 and room 4   The spa...   \n2   The space  Vocational Stay Deluxe Bedroom in ...   \n3  Like your own home, 24hrs access.   The space ...   \n4  Awesome location and host  Room near INSEAD, N...   \n\n                               neighborhood_overview  host_since  \\\n0  The serenity & quiet surrounding makes it an i...  2010-09-08   \n1                                            No Data  2011-01-29   \n2                                            No Data  2011-01-29   \n3  Quiet and view of the playground with exercise...  2011-01-29   \n4                                            No Data  2011-11-24   \n\n   host_response_time  host_response_rate  host_acceptance_rate  \\\n0             No Data                 NaN                   NaN   \n1        within a day               100.0                   NaN   \n2        within a day               100.0                   NaN   \n3        within a day               100.0                   NaN   \n4  within a few hours                87.0                  77.0   \n\n  host_is_superhost  host_listings_count  ... review_scores_checkin  \\\n0                 f                  1.0  ...                  4.78   \n1                 f                  8.0  ...                  4.63   \n2                 f                  8.0  ...                  4.43   \n3                 f                  8.0  ...                  4.63   \n4                 f                 16.0  ...                  4.53   \n\n  review_scores_communication review_scores_location review_scores_value  \\\n0                        4.94                   4.72                4.50   \n1                        4.78                   4.26                4.32   \n2                        4.43                   4.17                4.04   \n3                        4.64                   4.50                4.36   \n4                        4.47                   4.53                4.59   \n\n  instant_bookable  calculated_host_listings_count  \\\n0                f                               1   \n1                f                               5   \n2                f                               5   \n3                f                               5   \n4                f                              16   \n\n                                       amenities_str dist_to_subway name_lang  \\\n0  \"Shampoo\", \"Essentials\", \"Kitchen\", \"Long term...       0.534995        en   \n1  \"Hangers\", \"Cooking basics\", \"Washer\", \"Hair d...       0.926167        en   \n2  \"Coffee maker\", \"Cooking basics\", \"Washer\", \"H...       0.802740        en   \n3  \"Coffee maker\", \"Cooking basics\", \"Washer\", \"H...       1.085987        en   \n4  \"Shampoo\", \"Essentials\", \"Keypad\", \"Kitchen\", ...       0.775047        en   \n\n   description_lang  \n0                en  \n1                en  \n2                en  \n3                en  \n4                en  \n\n[5 rows x 48 columns]",
      "text/html": "<div>\n<style scoped>\n    .dataframe tbody tr th:only-of-type {\n        vertical-align: middle;\n    }\n\n    .dataframe tbody tr th {\n        vertical-align: top;\n    }\n\n    .dataframe thead th {\n        text-align: right;\n    }\n</style>\n<table border=\"1\" class=\"dataframe\">\n  <thead>\n    <tr style=\"text-align: right;\">\n      <th></th>\n      <th>id</th>\n      <th>name</th>\n      <th>description</th>\n      <th>neighborhood_overview</th>\n      <th>host_since</th>\n      <th>host_response_time</th>\n      <th>host_response_rate</th>\n      <th>host_acceptance_rate</th>\n      <th>host_is_superhost</th>\n      <th>host_listings_count</th>\n      <th>...</th>\n      <th>review_scores_checkin</th>\n      <th>review_scores_communication</th>\n      <th>review_scores_location</th>\n      <th>review_scores_value</th>\n      <th>instant_bookable</th>\n      <th>calculated_host_listings_count</th>\n      <th>amenities_str</th>\n      <th>dist_to_subway</th>\n      <th>name_lang</th>\n      <th>description_lang</th>\n    </tr>\n  </thead>\n  <tbody>\n    <tr>\n      <th>0</th>\n      <td>50646</td>\n      <td>Pleasant Room along Bukit Timah</td>\n      <td>Fully furnished bedroom with a nice view on th...</td>\n      <td>The serenity &amp; quiet surrounding makes it an i...</td>\n      <td>2010-09-08</td>\n      <td>No Data</td>\n      <td>NaN</td>\n      <td>NaN</td>\n      <td>f</td>\n      <td>1.0</td>\n      <td>...</td>\n      <td>4.78</td>\n      <td>4.94</td>\n      <td>4.72</td>\n      <td>4.50</td>\n      <td>f</td>\n      <td>1</td>\n      <td>\"Shampoo\", \"Essentials\", \"Kitchen\", \"Long term...</td>\n      <td>0.534995</td>\n      <td>en</td>\n      <td>en</td>\n    </tr>\n    <tr>\n      <th>1</th>\n      <td>71609</td>\n      <td>Ensuite Room (Room 1 &amp; 2) near EXPO</td>\n      <td>For 3 rooms.Book room 1&amp;2 and room 4   The spa...</td>\n      <td>No Data</td>\n      <td>2011-01-29</td>\n      <td>within a day</td>\n      <td>100.0</td>\n      <td>NaN</td>\n      <td>f</td>\n      <td>8.0</td>\n      <td>...</td>\n      <td>4.63</td>\n      <td>4.78</td>\n      <td>4.26</td>\n      <td>4.32</td>\n      <td>f</td>\n      <td>5</td>\n      <td>\"Hangers\", \"Cooking basics\", \"Washer\", \"Hair d...</td>\n      <td>0.926167</td>\n      <td>en</td>\n      <td>en</td>\n    </tr>\n    <tr>\n      <th>2</th>\n      <td>71896</td>\n      <td>B&amp;B  Room 1 near Airport &amp; EXPO</td>\n      <td>The space  Vocational Stay Deluxe Bedroom in ...</td>\n      <td>No Data</td>\n      <td>2011-01-29</td>\n      <td>within a day</td>\n      <td>100.0</td>\n      <td>NaN</td>\n      <td>f</td>\n      <td>8.0</td>\n      <td>...</td>\n      <td>4.43</td>\n      <td>4.43</td>\n      <td>4.17</td>\n      <td>4.04</td>\n      <td>f</td>\n      <td>5</td>\n      <td>\"Coffee maker\", \"Cooking basics\", \"Washer\", \"H...</td>\n      <td>0.802740</td>\n      <td>en</td>\n      <td>en</td>\n    </tr>\n    <tr>\n      <th>3</th>\n      <td>71903</td>\n      <td>Room 2-near Airport &amp; EXPO</td>\n      <td>Like your own home, 24hrs access.   The space ...</td>\n      <td>Quiet and view of the playground with exercise...</td>\n      <td>2011-01-29</td>\n      <td>within a day</td>\n      <td>100.0</td>\n      <td>NaN</td>\n      <td>f</td>\n      <td>8.0</td>\n      <td>...</td>\n      <td>4.63</td>\n      <td>4.64</td>\n      <td>4.50</td>\n      <td>4.36</td>\n      <td>f</td>\n      <td>5</td>\n      <td>\"Coffee maker\", \"Cooking basics\", \"Washer\", \"H...</td>\n      <td>1.085987</td>\n      <td>en</td>\n      <td>en</td>\n    </tr>\n    <tr>\n      <th>4</th>\n      <td>275343</td>\n      <td>Conveniently located City Room!(1,2,3,4,5,6,7,8)</td>\n      <td>Awesome location and host  Room near INSEAD, N...</td>\n      <td>No Data</td>\n      <td>2011-11-24</td>\n      <td>within a few hours</td>\n      <td>87.0</td>\n      <td>77.0</td>\n      <td>f</td>\n      <td>16.0</td>\n      <td>...</td>\n      <td>4.53</td>\n      <td>4.47</td>\n      <td>4.53</td>\n      <td>4.59</td>\n      <td>f</td>\n      <td>16</td>\n      <td>\"Shampoo\", \"Essentials\", \"Keypad\", \"Kitchen\", ...</td>\n      <td>0.775047</td>\n      <td>en</td>\n      <td>en</td>\n    </tr>\n  </tbody>\n</table>\n<p>5 rows × 48 columns</p>\n</div>"
     },
     "metadata": {}
    }
   ]
  },
  {
   "cell_type": "markdown",
   "source": "## Remove Non-English Records",
   "metadata": {
    "tags": [],
    "cell_id": "00011-b80a8848-a83b-44f6-8b01-7ef11f0652fc",
    "deepnote_cell_type": "markdown",
    "deepnote_cell_height": 70
   }
  },
  {
   "cell_type": "markdown",
   "source": "We are aware that detect_lang model used is not 100% accurate. Since we have much fewer listings than reviews, we will further inspect listings with non-English names and descriptions. We will manually check through the names and descriptions of such listings and only remove those that are correctly labelled as non-English. For reviews, we will drop those which have been identified by the model as non-English.",
   "metadata": {
    "tags": [],
    "cell_id": "00012-a4b9d131-220b-41d5-af2b-f859aea60875",
    "deepnote_cell_type": "markdown",
    "deepnote_cell_height": 141.96875
   }
  },
  {
   "cell_type": "code",
   "metadata": {
    "deepnote_table_loading": false,
    "deepnote_table_state": {
     "pageSize": 50,
     "pageIndex": 0,
     "filters": [],
     "sortBy": []
    },
    "deepnote_to_be_reexecuted": false,
    "execution_millis": 473,
    "execution_start": 1647324418918,
    "source_hash": "9fa84b7a",
    "tags": [],
    "cell_id": "00013-a272f0c7-3a17-48d9-87b0-db1507d58aad",
    "deepnote_cell_type": "code",
    "deepnote_cell_height": 1823.65625
   },
   "source": "listings[(listings['name_lang'] != 'en') & (listings['description_lang'] != 'en')]\n# 39 listings with non-English name and description",
   "execution_count": null,
   "outputs": [
    {
     "output_type": "execute_result",
     "execution_count": 21,
     "data": {
      "application/vnd.deepnote.dataframe.v3+json": {
       "column_count": 48,
       "row_count": 39,
       "columns": [
        {
         "name": "id",
         "dtype": "int64",
         "stats": {
          "unique_count": 39,
          "nan_count": 0,
          "min": "4640273",
          "max": "52216017",
          "histogram": [
           {
            "bin_start": 4640273,
            "bin_end": 9397847.4,
            "count": 4
           },
           {
            "bin_start": 9397847.4,
            "bin_end": 14155421.8,
            "count": 6
           },
           {
            "bin_start": 14155421.8,
            "bin_end": 18912996.200000003,
            "count": 3
           },
           {
            "bin_start": 18912996.200000003,
            "bin_end": 23670570.6,
            "count": 5
           },
           {
            "bin_start": 23670570.6,
            "bin_end": 28428145,
            "count": 1
           },
           {
            "bin_start": 28428145,
            "bin_end": 33185719.400000002,
            "count": 1
           },
           {
            "bin_start": 33185719.400000002,
            "bin_end": 37943293.800000004,
            "count": 3
           },
           {
            "bin_start": 37943293.800000004,
            "bin_end": 42700868.2,
            "count": 7
           },
           {
            "bin_start": 42700868.2,
            "bin_end": 47458442.6,
            "count": 2
           },
           {
            "bin_start": 47458442.6,
            "bin_end": 52216017,
            "count": 7
           }
          ]
         }
        },
        {
         "name": "name",
         "dtype": "object",
         "stats": {
          "unique_count": 39,
          "nan_count": 0,
          "categories": [
           {
            "name": "索美赛River Valley",
            "count": 1
           },
           {
            "name": "新加坡传统祖屋 客厅大 通风好",
            "count": 1
           },
           {
            "name": "37 others",
            "count": 37
           }
          ]
         }
        },
        {
         "name": "description",
         "dtype": "object",
         "stats": {
          "unique_count": 37,
          "nan_count": 0,
          "categories": [
           {
            "name": "享受都市生活和无与伦比的便利住在悠邸服务式公寓. 位于新加坡市中心，我们的服务式公寓适合短期和长期住宿. 购物商场，超级市场, 新加坡优美景点在步行距离之内. 百胜和武吉士和政府大厦地铁站介于三到五分钟行走.   Enjoy the urban life and unparalleled convenience of staying at our Serviced Apartments. Located in the heart of Singapore, our apartments are suitable for short-term and long-term stays. Shopping malls, supermarkets, major attractions in Singapore are within walking distance. Bras Basah and Bugis and City Hall MRT station is between three to five minutes walk away.   The space  面积为280平方英尺，我们的服务式公寓是短期或长期旅行者的理想住宿。位于市中心，享有新加坡无敌美景，设有一张雙人床，设备齐全的厨房和洗衣机。  以下我们提供给客人的物品清单: -每层楼的电梯 ·卧室1：雙人床 -新鲜的毛巾 / 家政服务 -空调 / 维修服务 ⁃液晶电视+有线频道+ WIFI +高速局域网 - 设备齐全的小厨房，配有现代电器，例如冰箱，微波炉，洗衣机和烘干机，水壶，炊具，全套晚餐等 - 带浴缸和淋浴的浴室 - 提供毛巾，卫生纸，肥皂，洗手液和吹风机 -熨斗和烫衣板 -婴儿床和床单（视情况而定）  注意：您的健康是我们的重中之重。 自2020年2月11日起，我们对所有进入服务式公寓的人员实施了强制性温度筛查。温度为37.5度及以上的任何人都不允许进入。安全距离措施遍及整个服务式公寓。我们已经并将继续加强对我们设施的清洁和消毒。 如果您有任何疑问，请告诉我们，我们将很乐意回答您的问题！ 让",
            "count": 2
           },
           {
            "name": "享受都市生活和无与伦比的便利住在悠邸服务式公寓. 位于新加坡市中心，我们的服务式公寓适合短期和长期住宿. 购物商场，超级市场, 新加坡优美景点在步行距离之内. 百胜和武吉士和政府大厦地铁站介于三到五分钟行走.   Enjoy the urban life and unparalleled convenience of staying at our Serviced Apartments. Located in the heart of Singapore, our apartments are suitable for short-term and long-term stays. Shopping malls, supermarkets, major attractions in Singapore are within walking distance. Bras Basah and Bugis and City Hall MRT station is between three to five minutes walk away.   The space  面积为416平方英尺，我们的服务式公寓是短期或长期旅行者的理想住宿。位于市中心，享有新加坡无敌美景，设有一张雙人床，设备齐全的厨房和洗衣机。  以下我们提供给客人的物品清单: -每层楼的电梯 ·卧室1：雙人床 -新鲜的毛巾 / 家政服务 -空调 / 维修服务 ⁃液晶电视+有线频道+ WIFI +高速局域网 - 设备齐全的小厨房，配有现代电器，例如冰箱，微波炉，洗衣机和烘干机，水壶，炊具，全套晚餐等 - 带浴缸和淋浴的浴室 - 提供毛巾，卫生纸，肥皂，洗手液和吹风机 -熨斗和烫衣板 -婴儿床和床单（视情况而定）  注意：您的健康是我们的重中之重。 自2020年2月11日起，我们对所有进入服务式公寓的人员实施了强制性温度筛查。温度为37.5度及以上的任何人都不允许进入。安全距离措施遍及整个服务式公寓。我们已经并将继续加强对我们设施的清洁和消毒。 如果您有任何疑问，请告诉我们，我们将很乐意回答您的问题！ 让",
            "count": 2
           },
           {
            "name": "35 others",
            "count": 35
           }
          ]
         }
        },
        {
         "name": "neighborhood_overview",
         "dtype": "object",
         "stats": {
          "unique_count": 17,
          "nan_count": 0,
          "categories": [
           {
            "name": "No Data",
            "count": 19
           },
           {
            "name": "我们的公寓四周环绕着大型购物中心，博物馆和餐饮场所，可让您在新加坡步行范围内最便捷地前往各个名胜古迹。 距离3个地铁站，即Bugis，Bras basah和Cityhall站只有数分钟的路程，您可以轻松探索新加坡。  Shopping malls 购物广场 Bugis Junction | Bugis+ | Raffles City | Suntec City | Marina Square | Millenia walk | Plaza Singapura | many more  Others 其他 Singapore Art Museum | National Museum of Singapore | Esplanade | Chijmes | South Beach | Shaw Towers | Liang Seah street | Arab street and Haji Lane | Fort canning | Liang Court | Clarke Quay | Boat Quay | Chinatown | Little India | The Cathay | Orchard",
            "count": 5
           },
           {
            "name": "15 others",
            "count": 15
           }
          ]
         }
        },
        {
         "name": "host_since",
         "dtype": "object",
         "stats": {
          "unique_count": 31,
          "nan_count": 0,
          "categories": [
           {
            "name": "2017-08-29",
            "count": 5
           },
           {
            "name": "2018-01-28",
            "count": 3
           },
           {
            "name": "29 others",
            "count": 31
           }
          ]
         }
        },
        {
         "name": "host_response_time",
         "dtype": "object",
         "stats": {
          "unique_count": 5,
          "nan_count": 0,
          "categories": [
           {
            "name": "a few days or more",
            "count": 16
           },
           {
            "name": "No Data",
            "count": 9
           },
           {
            "name": "3 others",
            "count": 14
           }
          ]
         }
        },
        {
         "name": "host_response_rate",
         "dtype": "float64",
         "stats": {
          "unique_count": 11,
          "nan_count": 9,
          "min": "0.0",
          "max": "100.0",
          "histogram": [
           {
            "bin_start": 0,
            "bin_end": 10,
            "count": 12
           },
           {
            "bin_start": 10,
            "bin_end": 20,
            "count": 2
           },
           {
            "bin_start": 20,
            "bin_end": 30,
            "count": 2
           },
           {
            "bin_start": 30,
            "bin_end": 40,
            "count": 0
           },
           {
            "bin_start": 40,
            "bin_end": 50,
            "count": 0
           },
           {
            "bin_start": 50,
            "bin_end": 60,
            "count": 0
           },
           {
            "bin_start": 60,
            "bin_end": 70,
            "count": 0
           },
           {
            "bin_start": 70,
            "bin_end": 80,
            "count": 2
           },
           {
            "bin_start": 80,
            "bin_end": 90,
            "count": 2
           },
           {
            "bin_start": 90,
            "bin_end": 100,
            "count": 10
           }
          ]
         }
        },
        {
         "name": "host_acceptance_rate",
         "dtype": "float64",
         "stats": {
          "unique_count": 8,
          "nan_count": 15,
          "min": "0.0",
          "max": "100.0",
          "histogram": [
           {
            "bin_start": 0,
            "bin_end": 10,
            "count": 4
           },
           {
            "bin_start": 10,
            "bin_end": 20,
            "count": 0
           },
           {
            "bin_start": 20,
            "bin_end": 30,
            "count": 1
           },
           {
            "bin_start": 30,
            "bin_end": 40,
            "count": 0
           },
           {
            "bin_start": 40,
            "bin_end": 50,
            "count": 5
           },
           {
            "bin_start": 50,
            "bin_end": 60,
            "count": 0
           },
           {
            "bin_start": 60,
            "bin_end": 70,
            "count": 2
           },
           {
            "bin_start": 70,
            "bin_end": 80,
            "count": 0
           },
           {
            "bin_start": 80,
            "bin_end": 90,
            "count": 0
           },
           {
            "bin_start": 90,
            "bin_end": 100,
            "count": 12
           }
          ]
         }
        },
        {
         "name": "host_is_superhost",
         "dtype": "object",
         "stats": {
          "unique_count": 2,
          "nan_count": 0,
          "categories": [
           {
            "name": "f",
            "count": 32
           },
           {
            "name": "t",
            "count": 7
           }
          ]
         }
        },
        {
         "name": "host_listings_count",
         "dtype": "float64",
         "stats": {
          "unique_count": 9,
          "nan_count": 0,
          "min": "0.0",
          "max": "12.0",
          "histogram": [
           {
            "bin_start": 0,
            "bin_end": 1.2,
            "count": 20
           },
           {
            "bin_start": 1.2,
            "bin_end": 2.4,
            "count": 5
           },
           {
            "bin_start": 2.4,
            "bin_end": 3.5999999999999996,
            "count": 1
           },
           {
            "bin_start": 3.5999999999999996,
            "bin_end": 4.8,
            "count": 2
           },
           {
            "bin_start": 4.8,
            "bin_end": 6,
            "count": 2
           },
           {
            "bin_start": 6,
            "bin_end": 7.199999999999999,
            "count": 1
           },
           {
            "bin_start": 7.199999999999999,
            "bin_end": 8.4,
            "count": 0
           },
           {
            "bin_start": 8.4,
            "bin_end": 9.6,
            "count": 0
           },
           {
            "bin_start": 9.6,
            "bin_end": 10.799999999999999,
            "count": 5
           },
           {
            "bin_start": 10.799999999999999,
            "bin_end": 12,
            "count": 3
           }
          ]
         }
        },
        {
         "name": "host_has_profile_pic",
         "dtype": "object",
         "stats": {
          "unique_count": 1,
          "nan_count": 0,
          "categories": [
           {
            "name": "t",
            "count": 39
           }
          ]
         }
        },
        {
         "name": "host_identity_verified",
         "dtype": "object",
         "stats": {
          "unique_count": 2,
          "nan_count": 0,
          "categories": [
           {
            "name": "f",
            "count": 26
           },
           {
            "name": "t",
            "count": 13
           }
          ]
         }
        },
        {
         "name": "neighbourhood",
         "dtype": "object",
         "stats": {
          "unique_count": 2,
          "nan_count": 0,
          "categories": [
           {
            "name": "Singapore, Singapore",
            "count": 20
           },
           {
            "name": "No Data",
            "count": 19
           }
          ]
         }
        },
        {
         "name": "neighbourhood_cleansed",
         "dtype": "object",
         "stats": {
          "unique_count": 20,
          "nan_count": 0,
          "categories": [
           {
            "name": "Rochor",
            "count": 6
           },
           {
            "name": "Sembawang",
            "count": 4
           },
           {
            "name": "18 others",
            "count": 29
           }
          ]
         }
        },
        {
         "name": "neighbourhood_group_cleansed",
         "dtype": "object",
         "stats": {
          "unique_count": 5,
          "nan_count": 0,
          "categories": [
           {
            "name": "Central Region",
            "count": 22
           },
           {
            "name": "North Region",
            "count": 6
           },
           {
            "name": "3 others",
            "count": 11
           }
          ]
         }
        },
        {
         "name": "latitude",
         "dtype": "float64",
         "stats": {
          "unique_count": 38,
          "nan_count": 0,
          "min": "1.25807",
          "max": "1.44372",
          "histogram": [
           {
            "bin_start": 1.25807,
            "bin_end": 1.276635,
            "count": 1
           },
           {
            "bin_start": 1.276635,
            "bin_end": 1.2952,
            "count": 2
           },
           {
            "bin_start": 1.2952,
            "bin_end": 1.313765,
            "count": 10
           },
           {
            "bin_start": 1.313765,
            "bin_end": 1.33233,
            "count": 7
           },
           {
            "bin_start": 1.33233,
            "bin_end": 1.350895,
            "count": 5
           },
           {
            "bin_start": 1.350895,
            "bin_end": 1.36946,
            "count": 4
           },
           {
            "bin_start": 1.36946,
            "bin_end": 1.3880249999999998,
            "count": 3
           },
           {
            "bin_start": 1.3880249999999998,
            "bin_end": 1.40659,
            "count": 1
           },
           {
            "bin_start": 1.40659,
            "bin_end": 1.425155,
            "count": 0
           },
           {
            "bin_start": 1.425155,
            "bin_end": 1.44372,
            "count": 6
           }
          ]
         }
        },
        {
         "name": "longitude",
         "dtype": "float64",
         "stats": {
          "unique_count": 39,
          "nan_count": 0,
          "min": "103.70071",
          "max": "103.9471",
          "histogram": [
           {
            "bin_start": 103.70071,
            "bin_end": 103.725349,
            "count": 1
           },
           {
            "bin_start": 103.725349,
            "bin_end": 103.749988,
            "count": 2
           },
           {
            "bin_start": 103.749988,
            "bin_end": 103.77462700000001,
            "count": 2
           },
           {
            "bin_start": 103.77462700000001,
            "bin_end": 103.799266,
            "count": 0
           },
           {
            "bin_start": 103.799266,
            "bin_end": 103.823905,
            "count": 7
           },
           {
            "bin_start": 103.823905,
            "bin_end": 103.848544,
            "count": 8
           },
           {
            "bin_start": 103.848544,
            "bin_end": 103.87318300000001,
            "count": 10
           },
           {
            "bin_start": 103.87318300000001,
            "bin_end": 103.897822,
            "count": 5
           },
           {
            "bin_start": 103.897822,
            "bin_end": 103.922461,
            "count": 1
           },
           {
            "bin_start": 103.922461,
            "bin_end": 103.9471,
            "count": 3
           }
          ]
         }
        },
        {
         "name": "property_type",
         "dtype": "object",
         "stats": {
          "unique_count": 12,
          "nan_count": 0,
          "categories": [
           {
            "name": "Private room in rental unit",
            "count": 13
           },
           {
            "name": "Private room in condominium (condo)",
            "count": 5
           },
           {
            "name": "10 others",
            "count": 21
           }
          ]
         }
        },
        {
         "name": "room_type",
         "dtype": "object",
         "stats": {
          "unique_count": 3,
          "nan_count": 0,
          "categories": [
           {
            "name": "Private room",
            "count": 27
           },
           {
            "name": "Entire home/apt",
            "count": 10
           },
           {
            "name": "Shared room",
            "count": 2
           }
          ]
         }
        },
        {
         "name": "accommodates",
         "dtype": "int64",
         "stats": {
          "unique_count": 6,
          "nan_count": 0,
          "min": "1",
          "max": "6",
          "histogram": [
           {
            "bin_start": 1,
            "bin_end": 1.5,
            "count": 9
           },
           {
            "bin_start": 1.5,
            "bin_end": 2,
            "count": 0
           },
           {
            "bin_start": 2,
            "bin_end": 2.5,
            "count": 25
           },
           {
            "bin_start": 2.5,
            "bin_end": 3,
            "count": 0
           },
           {
            "bin_start": 3,
            "bin_end": 3.5,
            "count": 1
           },
           {
            "bin_start": 3.5,
            "bin_end": 4,
            "count": 0
           },
           {
            "bin_start": 4,
            "bin_end": 4.5,
            "count": 1
           },
           {
            "bin_start": 4.5,
            "bin_end": 5,
            "count": 0
           },
           {
            "bin_start": 5,
            "bin_end": 5.5,
            "count": 1
           },
           {
            "bin_start": 5.5,
            "bin_end": 6,
            "count": 2
           }
          ]
         }
        },
        {
         "name": "bathrooms_text",
         "dtype": "object",
         "stats": {
          "unique_count": 10,
          "nan_count": 0,
          "categories": [
           {
            "name": "1 bath",
            "count": 14
           },
           {
            "name": "1 private bath",
            "count": 7
           },
           {
            "name": "8 others",
            "count": 18
           }
          ]
         }
        },
        {
         "name": "bedrooms",
         "dtype": "int64",
         "stats": {
          "unique_count": 3,
          "nan_count": 0,
          "min": "1",
          "max": "3",
          "histogram": [
           {
            "bin_start": 1,
            "bin_end": 1.2,
            "count": 35
           },
           {
            "bin_start": 1.2,
            "bin_end": 1.4,
            "count": 0
           },
           {
            "bin_start": 1.4,
            "bin_end": 1.6,
            "count": 0
           },
           {
            "bin_start": 1.6,
            "bin_end": 1.8,
            "count": 0
           },
           {
            "bin_start": 1.8,
            "bin_end": 2,
            "count": 0
           },
           {
            "bin_start": 2,
            "bin_end": 2.2,
            "count": 3
           },
           {
            "bin_start": 2.2,
            "bin_end": 2.4000000000000004,
            "count": 0
           },
           {
            "bin_start": 2.4000000000000004,
            "bin_end": 2.6,
            "count": 0
           },
           {
            "bin_start": 2.6,
            "bin_end": 2.8,
            "count": 0
           },
           {
            "bin_start": 2.8,
            "bin_end": 3,
            "count": 1
           }
          ]
         }
        },
        {
         "name": "beds",
         "dtype": "int64",
         "stats": {
          "unique_count": 4,
          "nan_count": 0,
          "min": "1",
          "max": "5",
          "histogram": [
           {
            "bin_start": 1,
            "bin_end": 1.4,
            "count": 29
           },
           {
            "bin_start": 1.4,
            "bin_end": 1.8,
            "count": 0
           },
           {
            "bin_start": 1.8,
            "bin_end": 2.2,
            "count": 6
           },
           {
            "bin_start": 2.2,
            "bin_end": 2.6,
            "count": 0
           },
           {
            "bin_start": 2.6,
            "bin_end": 3,
            "count": 0
           },
           {
            "bin_start": 3,
            "bin_end": 3.4000000000000004,
            "count": 3
           },
           {
            "bin_start": 3.4000000000000004,
            "bin_end": 3.8000000000000003,
            "count": 0
           },
           {
            "bin_start": 3.8000000000000003,
            "bin_end": 4.2,
            "count": 0
           },
           {
            "bin_start": 4.2,
            "bin_end": 4.6,
            "count": 0
           },
           {
            "bin_start": 4.6,
            "bin_end": 5,
            "count": 1
           }
          ]
         }
        },
        {
         "name": "amenities",
         "dtype": "object",
         "stats": {
          "unique_count": 37,
          "nan_count": 0,
          "categories": [
           {
            "name": "[\"Long term stays allowed\"]",
            "count": 2
           },
           {
            "name": "[\"Cleaning before checkout\", \"Backyard\", \"Hangers\", \"Bed linens\", \"Coffee maker\", \"Cooking basics\", \"Washer\", \"Single level home\", \"Hair dryer\", \"Ethernet connection\", \"Paid parking on premises\", \"Dedicated workspace\", \"Free parking on premises\", \"Crib\", \"Long term stays allowed\", \"Private entrance\", \"Elevator\", \"Refrigerator\", \"Dryer\", \"Microwave\", \"Gym\", \"Wifi\", \"Smoke alarm\", \"Luggage dropoff allowed\", \"Shampoo\", \"Breakfast\", \"Extra pillows and blankets\", \"Heating\", \"Cable TV\", \"Hot tub\", \"Hot water\", \"Stove\", \"Iron\", \"Building staff\", \"Essentials\", \"Kitchen\", \"Dishes and silverware\", \"Air conditioning\", \"Shower gel\", \"TV with standard cable\"]",
            "count": 2
           },
           {
            "name": "35 others",
            "count": 35
           }
          ]
         }
        },
        {
         "name": "price",
         "dtype": "float64",
         "stats": {
          "unique_count": 28,
          "nan_count": 0,
          "min": "30.0",
          "max": "1300.0",
          "histogram": [
           {
            "bin_start": 30,
            "bin_end": 157,
            "count": 28
           },
           {
            "bin_start": 157,
            "bin_end": 284,
            "count": 7
           },
           {
            "bin_start": 284,
            "bin_end": 411,
            "count": 1
           },
           {
            "bin_start": 411,
            "bin_end": 538,
            "count": 1
           },
           {
            "bin_start": 538,
            "bin_end": 665,
            "count": 1
           },
           {
            "bin_start": 665,
            "bin_end": 792,
            "count": 0
           },
           {
            "bin_start": 792,
            "bin_end": 919,
            "count": 0
           },
           {
            "bin_start": 919,
            "bin_end": 1046,
            "count": 0
           },
           {
            "bin_start": 1046,
            "bin_end": 1173,
            "count": 0
           },
           {
            "bin_start": 1173,
            "bin_end": 1300,
            "count": 1
           }
          ]
         }
        },
        {
         "name": "minimum_nights",
         "dtype": "int64",
         "stats": {
          "unique_count": 15,
          "nan_count": 0,
          "min": "1",
          "max": "366",
          "histogram": [
           {
            "bin_start": 1,
            "bin_end": 37.5,
            "count": 30
           },
           {
            "bin_start": 37.5,
            "bin_end": 74,
            "count": 0
           },
           {
            "bin_start": 74,
            "bin_end": 110.5,
            "count": 4
           },
           {
            "bin_start": 110.5,
            "bin_end": 147,
            "count": 0
           },
           {
            "bin_start": 147,
            "bin_end": 183.5,
            "count": 2
           },
           {
            "bin_start": 183.5,
            "bin_end": 220,
            "count": 0
           },
           {
            "bin_start": 220,
            "bin_end": 256.5,
            "count": 1
           },
           {
            "bin_start": 256.5,
            "bin_end": 293,
            "count": 0
           },
           {
            "bin_start": 293,
            "bin_end": 329.5,
            "count": 0
           },
           {
            "bin_start": 329.5,
            "bin_end": 366,
            "count": 2
           }
          ]
         }
        },
        {
         "name": "maximum_nights",
         "dtype": "int64",
         "stats": {
          "unique_count": 8,
          "nan_count": 0,
          "min": "1",
          "max": "1125",
          "histogram": [
           {
            "bin_start": 1,
            "bin_end": 113.4,
            "count": 10
           },
           {
            "bin_start": 113.4,
            "bin_end": 225.8,
            "count": 1
           },
           {
            "bin_start": 225.8,
            "bin_end": 338.20000000000005,
            "count": 0
           },
           {
            "bin_start": 338.20000000000005,
            "bin_end": 450.6,
            "count": 6
           },
           {
            "bin_start": 450.6,
            "bin_end": 563,
            "count": 0
           },
           {
            "bin_start": 563,
            "bin_end": 675.4000000000001,
            "count": 0
           },
           {
            "bin_start": 675.4000000000001,
            "bin_end": 787.8000000000001,
            "count": 0
           },
           {
            "bin_start": 787.8000000000001,
            "bin_end": 900.2,
            "count": 0
           },
           {
            "bin_start": 900.2,
            "bin_end": 1012.6,
            "count": 0
           },
           {
            "bin_start": 1012.6,
            "bin_end": 1125,
            "count": 22
           }
          ]
         }
        },
        {
         "name": "has_availability",
         "dtype": "object",
         "stats": {
          "unique_count": 2,
          "nan_count": 0,
          "categories": [
           {
            "name": "t",
            "count": 32
           },
           {
            "name": "f",
            "count": 7
           }
          ]
         }
        },
        {
         "name": "availability_30",
         "dtype": "int64",
         "stats": {
          "unique_count": 14,
          "nan_count": 0,
          "min": "0",
          "max": "30",
          "histogram": [
           {
            "bin_start": 0,
            "bin_end": 3,
            "count": 15
           },
           {
            "bin_start": 3,
            "bin_end": 6,
            "count": 0
           },
           {
            "bin_start": 6,
            "bin_end": 9,
            "count": 0
           },
           {
            "bin_start": 9,
            "bin_end": 12,
            "count": 4
           },
           {
            "bin_start": 12,
            "bin_end": 15,
            "count": 0
           },
           {
            "bin_start": 15,
            "bin_end": 18,
            "count": 2
           },
           {
            "bin_start": 18,
            "bin_end": 21,
            "count": 1
           },
           {
            "bin_start": 21,
            "bin_end": 24,
            "count": 4
           },
           {
            "bin_start": 24,
            "bin_end": 27,
            "count": 2
           },
           {
            "bin_start": 27,
            "bin_end": 30,
            "count": 11
           }
          ]
         }
        },
        {
         "name": "availability_60",
         "dtype": "int64",
         "stats": {
          "unique_count": 16,
          "nan_count": 0,
          "min": "0",
          "max": "60",
          "histogram": [
           {
            "bin_start": 0,
            "bin_end": 6,
            "count": 11
           },
           {
            "bin_start": 6,
            "bin_end": 12,
            "count": 1
           },
           {
            "bin_start": 12,
            "bin_end": 18,
            "count": 1
           },
           {
            "bin_start": 18,
            "bin_end": 24,
            "count": 3
           },
           {
            "bin_start": 24,
            "bin_end": 30,
            "count": 1
           },
           {
            "bin_start": 30,
            "bin_end": 36,
            "count": 0
           },
           {
            "bin_start": 36,
            "bin_end": 42,
            "count": 3
           },
           {
            "bin_start": 42,
            "bin_end": 48,
            "count": 1
           },
           {
            "bin_start": 48,
            "bin_end": 54,
            "count": 5
           },
           {
            "bin_start": 54,
            "bin_end": 60,
            "count": 13
           }
          ]
         }
        },
        {
         "name": "availability_90",
         "dtype": "int64",
         "stats": {
          "unique_count": 17,
          "nan_count": 0,
          "min": "0",
          "max": "90",
          "histogram": [
           {
            "bin_start": 0,
            "bin_end": 9,
            "count": 11
           },
           {
            "bin_start": 9,
            "bin_end": 18,
            "count": 1
           },
           {
            "bin_start": 18,
            "bin_end": 27,
            "count": 1
           },
           {
            "bin_start": 27,
            "bin_end": 36,
            "count": 1
           },
           {
            "bin_start": 36,
            "bin_end": 45,
            "count": 0
           },
           {
            "bin_start": 45,
            "bin_end": 54,
            "count": 2
           },
           {
            "bin_start": 54,
            "bin_end": 63,
            "count": 1
           },
           {
            "bin_start": 63,
            "bin_end": 72,
            "count": 3
           },
           {
            "bin_start": 72,
            "bin_end": 81,
            "count": 2
           },
           {
            "bin_start": 81,
            "bin_end": 90,
            "count": 17
           }
          ]
         }
        },
        {
         "name": "availability_365",
         "dtype": "int64",
         "stats": {
          "unique_count": 23,
          "nan_count": 0,
          "min": "0",
          "max": "365",
          "histogram": [
           {
            "bin_start": 0,
            "bin_end": 36.5,
            "count": 13
           },
           {
            "bin_start": 36.5,
            "bin_end": 73,
            "count": 2
           },
           {
            "bin_start": 73,
            "bin_end": 109.5,
            "count": 5
           },
           {
            "bin_start": 109.5,
            "bin_end": 146,
            "count": 0
           },
           {
            "bin_start": 146,
            "bin_end": 182.5,
            "count": 5
           },
           {
            "bin_start": 182.5,
            "bin_end": 219,
            "count": 0
           },
           {
            "bin_start": 219,
            "bin_end": 255.5,
            "count": 0
           },
           {
            "bin_start": 255.5,
            "bin_end": 292,
            "count": 0
           },
           {
            "bin_start": 292,
            "bin_end": 328.5,
            "count": 2
           },
           {
            "bin_start": 328.5,
            "bin_end": 365,
            "count": 12
           }
          ]
         }
        },
        {
         "name": "number_of_reviews",
         "dtype": "int64",
         "stats": {
          "unique_count": 8,
          "nan_count": 0,
          "min": "0",
          "max": "30",
          "histogram": [
           {
            "bin_start": 0,
            "bin_end": 3,
            "count": 33
           },
           {
            "bin_start": 3,
            "bin_end": 6,
            "count": 2
           },
           {
            "bin_start": 6,
            "bin_end": 9,
            "count": 3
           },
           {
            "bin_start": 9,
            "bin_end": 12,
            "count": 0
           },
           {
            "bin_start": 12,
            "bin_end": 15,
            "count": 0
           },
           {
            "bin_start": 15,
            "bin_end": 18,
            "count": 0
           },
           {
            "bin_start": 18,
            "bin_end": 21,
            "count": 0
           },
           {
            "bin_start": 21,
            "bin_end": 24,
            "count": 0
           },
           {
            "bin_start": 24,
            "bin_end": 27,
            "count": 0
           },
           {
            "bin_start": 27,
            "bin_end": 30,
            "count": 1
           }
          ]
         }
        },
        {
         "name": "number_of_reviews_ltm",
         "dtype": "int64",
         "stats": {
          "unique_count": 4,
          "nan_count": 0,
          "min": "0",
          "max": "4",
          "histogram": [
           {
            "bin_start": 0,
            "bin_end": 0.4,
            "count": 34
           },
           {
            "bin_start": 0.4,
            "bin_end": 0.8,
            "count": 0
           },
           {
            "bin_start": 0.8,
            "bin_end": 1.2000000000000002,
            "count": 3
           },
           {
            "bin_start": 1.2000000000000002,
            "bin_end": 1.6,
            "count": 0
           },
           {
            "bin_start": 1.6,
            "bin_end": 2,
            "count": 0
           },
           {
            "bin_start": 2,
            "bin_end": 2.4000000000000004,
            "count": 1
           },
           {
            "bin_start": 2.4000000000000004,
            "bin_end": 2.8000000000000003,
            "count": 0
           },
           {
            "bin_start": 2.8000000000000003,
            "bin_end": 3.2,
            "count": 0
           },
           {
            "bin_start": 3.2,
            "bin_end": 3.6,
            "count": 0
           },
           {
            "bin_start": 3.6,
            "bin_end": 4,
            "count": 1
           }
          ]
         }
        },
        {
         "name": "number_of_reviews_l30d",
         "dtype": "int64",
         "stats": {
          "unique_count": 2,
          "nan_count": 0,
          "min": "0",
          "max": "1",
          "histogram": [
           {
            "bin_start": 0,
            "bin_end": 0.1,
            "count": 37
           },
           {
            "bin_start": 0.1,
            "bin_end": 0.2,
            "count": 0
           },
           {
            "bin_start": 0.2,
            "bin_end": 0.30000000000000004,
            "count": 0
           },
           {
            "bin_start": 0.30000000000000004,
            "bin_end": 0.4,
            "count": 0
           },
           {
            "bin_start": 0.4,
            "bin_end": 0.5,
            "count": 0
           },
           {
            "bin_start": 0.5,
            "bin_end": 0.6000000000000001,
            "count": 0
           },
           {
            "bin_start": 0.6000000000000001,
            "bin_end": 0.7000000000000001,
            "count": 0
           },
           {
            "bin_start": 0.7000000000000001,
            "bin_end": 0.8,
            "count": 0
           },
           {
            "bin_start": 0.8,
            "bin_end": 0.9,
            "count": 0
           },
           {
            "bin_start": 0.9,
            "bin_end": 1,
            "count": 2
           }
          ]
         }
        },
        {
         "name": "review_scores_rating",
         "dtype": "float64",
         "stats": {
          "unique_count": 6,
          "nan_count": 0,
          "min": "0.0",
          "max": "5.0",
          "histogram": [
           {
            "bin_start": 0,
            "bin_end": 0.5,
            "count": 28
           },
           {
            "bin_start": 0.5,
            "bin_end": 1,
            "count": 0
           },
           {
            "bin_start": 1,
            "bin_end": 1.5,
            "count": 0
           },
           {
            "bin_start": 1.5,
            "bin_end": 2,
            "count": 0
           },
           {
            "bin_start": 2,
            "bin_end": 2.5,
            "count": 0
           },
           {
            "bin_start": 2.5,
            "bin_end": 3,
            "count": 0
           },
           {
            "bin_start": 3,
            "bin_end": 3.5,
            "count": 0
           },
           {
            "bin_start": 3.5,
            "bin_end": 4,
            "count": 0
           },
           {
            "bin_start": 4,
            "bin_end": 4.5,
            "count": 1
           },
           {
            "bin_start": 4.5,
            "bin_end": 5,
            "count": 10
           }
          ]
         }
        },
        {
         "name": "review_scores_accuracy",
         "dtype": "float64",
         "stats": {
          "unique_count": 6,
          "nan_count": 0,
          "min": "0.0",
          "max": "5.0",
          "histogram": [
           {
            "bin_start": 0,
            "bin_end": 0.5,
            "count": 28
           },
           {
            "bin_start": 0.5,
            "bin_end": 1,
            "count": 0
           },
           {
            "bin_start": 1,
            "bin_end": 1.5,
            "count": 0
           },
           {
            "bin_start": 1.5,
            "bin_end": 2,
            "count": 0
           },
           {
            "bin_start": 2,
            "bin_end": 2.5,
            "count": 0
           },
           {
            "bin_start": 2.5,
            "bin_end": 3,
            "count": 0
           },
           {
            "bin_start": 3,
            "bin_end": 3.5,
            "count": 1
           },
           {
            "bin_start": 3.5,
            "bin_end": 4,
            "count": 0
           },
           {
            "bin_start": 4,
            "bin_end": 4.5,
            "count": 0
           },
           {
            "bin_start": 4.5,
            "bin_end": 5,
            "count": 10
           }
          ]
         }
        },
        {
         "name": "review_scores_cleanliness",
         "dtype": "float64",
         "stats": {
          "unique_count": 6,
          "nan_count": 0,
          "min": "0.0",
          "max": "5.0",
          "histogram": [
           {
            "bin_start": 0,
            "bin_end": 0.5,
            "count": 28
           },
           {
            "bin_start": 0.5,
            "bin_end": 1,
            "count": 0
           },
           {
            "bin_start": 1,
            "bin_end": 1.5,
            "count": 0
           },
           {
            "bin_start": 1.5,
            "bin_end": 2,
            "count": 0
           },
           {
            "bin_start": 2,
            "bin_end": 2.5,
            "count": 0
           },
           {
            "bin_start": 2.5,
            "bin_end": 3,
            "count": 0
           },
           {
            "bin_start": 3,
            "bin_end": 3.5,
            "count": 0
           },
           {
            "bin_start": 3.5,
            "bin_end": 4,
            "count": 0
           },
           {
            "bin_start": 4,
            "bin_end": 4.5,
            "count": 2
           },
           {
            "bin_start": 4.5,
            "bin_end": 5,
            "count": 9
           }
          ]
         }
        },
        {
         "name": "review_scores_checkin",
         "dtype": "float64",
         "stats": {
          "unique_count": 5,
          "nan_count": 0,
          "min": "0.0",
          "max": "5.0",
          "histogram": [
           {
            "bin_start": 0,
            "bin_end": 0.5,
            "count": 28
           },
           {
            "bin_start": 0.5,
            "bin_end": 1,
            "count": 0
           },
           {
            "bin_start": 1,
            "bin_end": 1.5,
            "count": 0
           },
           {
            "bin_start": 1.5,
            "bin_end": 2,
            "count": 0
           },
           {
            "bin_start": 2,
            "bin_end": 2.5,
            "count": 0
           },
           {
            "bin_start": 2.5,
            "bin_end": 3,
            "count": 0
           },
           {
            "bin_start": 3,
            "bin_end": 3.5,
            "count": 0
           },
           {
            "bin_start": 3.5,
            "bin_end": 4,
            "count": 0
           },
           {
            "bin_start": 4,
            "bin_end": 4.5,
            "count": 0
           },
           {
            "bin_start": 4.5,
            "bin_end": 5,
            "count": 11
           }
          ]
         }
        },
        {
         "name": "review_scores_communication",
         "dtype": "float64",
         "stats": {
          "unique_count": 5,
          "nan_count": 0,
          "min": "0.0",
          "max": "5.0",
          "histogram": [
           {
            "bin_start": 0,
            "bin_end": 0.5,
            "count": 28
           },
           {
            "bin_start": 0.5,
            "bin_end": 1,
            "count": 0
           },
           {
            "bin_start": 1,
            "bin_end": 1.5,
            "count": 0
           },
           {
            "bin_start": 1.5,
            "bin_end": 2,
            "count": 0
           },
           {
            "bin_start": 2,
            "bin_end": 2.5,
            "count": 0
           },
           {
            "bin_start": 2.5,
            "bin_end": 3,
            "count": 0
           },
           {
            "bin_start": 3,
            "bin_end": 3.5,
            "count": 0
           },
           {
            "bin_start": 3.5,
            "bin_end": 4,
            "count": 0
           },
           {
            "bin_start": 4,
            "bin_end": 4.5,
            "count": 1
           },
           {
            "bin_start": 4.5,
            "bin_end": 5,
            "count": 10
           }
          ]
         }
        },
        {
         "name": "review_scores_location",
         "dtype": "float64",
         "stats": {
          "unique_count": 7,
          "nan_count": 0,
          "min": "0.0",
          "max": "5.0",
          "histogram": [
           {
            "bin_start": 0,
            "bin_end": 0.5,
            "count": 28
           },
           {
            "bin_start": 0.5,
            "bin_end": 1,
            "count": 0
           },
           {
            "bin_start": 1,
            "bin_end": 1.5,
            "count": 0
           },
           {
            "bin_start": 1.5,
            "bin_end": 2,
            "count": 0
           },
           {
            "bin_start": 2,
            "bin_end": 2.5,
            "count": 0
           },
           {
            "bin_start": 2.5,
            "bin_end": 3,
            "count": 0
           },
           {
            "bin_start": 3,
            "bin_end": 3.5,
            "count": 0
           },
           {
            "bin_start": 3.5,
            "bin_end": 4,
            "count": 0
           },
           {
            "bin_start": 4,
            "bin_end": 4.5,
            "count": 2
           },
           {
            "bin_start": 4.5,
            "bin_end": 5,
            "count": 9
           }
          ]
         }
        },
        {
         "name": "review_scores_value",
         "dtype": "float64",
         "stats": {
          "unique_count": 6,
          "nan_count": 0,
          "min": "0.0",
          "max": "5.0",
          "histogram": [
           {
            "bin_start": 0,
            "bin_end": 0.5,
            "count": 28
           },
           {
            "bin_start": 0.5,
            "bin_end": 1,
            "count": 0
           },
           {
            "bin_start": 1,
            "bin_end": 1.5,
            "count": 0
           },
           {
            "bin_start": 1.5,
            "bin_end": 2,
            "count": 0
           },
           {
            "bin_start": 2,
            "bin_end": 2.5,
            "count": 0
           },
           {
            "bin_start": 2.5,
            "bin_end": 3,
            "count": 0
           },
           {
            "bin_start": 3,
            "bin_end": 3.5,
            "count": 0
           },
           {
            "bin_start": 3.5,
            "bin_end": 4,
            "count": 1
           },
           {
            "bin_start": 4,
            "bin_end": 4.5,
            "count": 0
           },
           {
            "bin_start": 4.5,
            "bin_end": 5,
            "count": 10
           }
          ]
         }
        },
        {
         "name": "instant_bookable",
         "dtype": "object",
         "stats": {
          "unique_count": 2,
          "nan_count": 0,
          "categories": [
           {
            "name": "f",
            "count": 25
           },
           {
            "name": "t",
            "count": 14
           }
          ]
         }
        },
        {
         "name": "calculated_host_listings_count",
         "dtype": "int64",
         "stats": {
          "unique_count": 7,
          "nan_count": 0,
          "min": "1",
          "max": "30",
          "histogram": [
           {
            "bin_start": 1,
            "bin_end": 3.9,
            "count": 27
           },
           {
            "bin_start": 3.9,
            "bin_end": 6.8,
            "count": 3
           },
           {
            "bin_start": 6.8,
            "bin_end": 9.7,
            "count": 4
           },
           {
            "bin_start": 9.7,
            "bin_end": 12.6,
            "count": 0
           },
           {
            "bin_start": 12.6,
            "bin_end": 15.5,
            "count": 0
           },
           {
            "bin_start": 15.5,
            "bin_end": 18.4,
            "count": 0
           },
           {
            "bin_start": 18.4,
            "bin_end": 21.3,
            "count": 0
           },
           {
            "bin_start": 21.3,
            "bin_end": 24.2,
            "count": 0
           },
           {
            "bin_start": 24.2,
            "bin_end": 27.099999999999998,
            "count": 0
           },
           {
            "bin_start": 27.099999999999998,
            "bin_end": 30,
            "count": 5
           }
          ]
         }
        },
        {
         "name": "amenities_str",
         "dtype": "object",
         "stats": {
          "unique_count": 37,
          "nan_count": 0,
          "categories": [
           {
            "name": "\"Long term stays allowed\"",
            "count": 2
           },
           {
            "name": "\"Cleaning before checkout\", \"Backyard\", \"Hangers\", \"Bed linens\", \"Coffee maker\", \"Cooking basics\", \"Washer\", \"Single level home\", \"Hair dryer\", \"Ethernet connection\", \"Paid parking on premises\", \"Dedicated workspace\", \"Free parking on premises\", \"Crib\", \"Long term stays allowed\", \"Private entrance\", \"Elevator\", \"Refrigerator\", \"Dryer\", \"Microwave\", \"Gym\", \"Wifi\", \"Smoke alarm\", \"Luggage dropoff allowed\", \"Shampoo\", \"Breakfast\", \"Extra pillows and blankets\", \"Heating\", \"Cable TV\", \"Hot tub\", \"Hot water\", \"Stove\", \"Iron\", \"Building staff\", \"Essentials\", \"Kitchen\", \"Dishes and silverware\", \"Air conditioning\", \"Shower gel\", \"TV with standard cable\"",
            "count": 2
           },
           {
            "name": "35 others",
            "count": 35
           }
          ]
         }
        },
        {
         "name": "dist_to_subway",
         "dtype": "float64",
         "stats": {
          "unique_count": 39,
          "nan_count": 0,
          "min": "0.1670679636630379",
          "max": "1.9478101980246465",
          "histogram": [
           {
            "bin_start": 0.1670679636630379,
            "bin_end": 0.34514218709919875,
            "count": 6
           },
           {
            "bin_start": 0.34514218709919875,
            "bin_end": 0.5232164105353596,
            "count": 8
           },
           {
            "bin_start": 0.5232164105353596,
            "bin_end": 0.7012906339715205,
            "count": 7
           },
           {
            "bin_start": 0.7012906339715205,
            "bin_end": 0.8793648574076813,
            "count": 5
           },
           {
            "bin_start": 0.8793648574076813,
            "bin_end": 1.0574390808438423,
            "count": 2
           },
           {
            "bin_start": 1.0574390808438423,
            "bin_end": 1.235513304280003,
            "count": 4
           },
           {
            "bin_start": 1.235513304280003,
            "bin_end": 1.413587527716164,
            "count": 0
           },
           {
            "bin_start": 1.413587527716164,
            "bin_end": 1.5916617511523248,
            "count": 2
           },
           {
            "bin_start": 1.5916617511523248,
            "bin_end": 1.7697359745884855,
            "count": 3
           },
           {
            "bin_start": 1.7697359745884855,
            "bin_end": 1.9478101980246465,
            "count": 2
           }
          ]
         }
        },
        {
         "name": "name_lang",
         "dtype": "object",
         "stats": {
          "unique_count": 6,
          "nan_count": 0,
          "categories": [
           {
            "name": "zh",
            "count": 26
           },
           {
            "name": "ja",
            "count": 7
           },
           {
            "name": "4 others",
            "count": 6
           }
          ]
         }
        },
        {
         "name": "description_lang",
         "dtype": "object",
         "stats": {
          "unique_count": 5,
          "nan_count": 0,
          "categories": [
           {
            "name": "zh",
            "count": 34
           },
           {
            "name": "ja",
            "count": 2
           },
           {
            "name": "3 others",
            "count": 3
           }
          ]
         }
        },
        {
         "name": "_deepnote_index_column",
         "dtype": "int64"
        }
       ],
       "rows": [
        {
         "id": 4640273,
         "name": "索美赛River Valley",
         "description": "索美赛River Valley，泳池公寓小主人房出租！超快无线网 空调洗衣机厨房可煮。公车站只需5分钟 直达kaplan等有名私立学院 步行15分钟到达313 百利宫 乌节等豪华商业购物中心。附近有…",
         "neighborhood_overview": "No Data",
         "host_since": "2014-11-22",
         "host_response_time": "No Data",
         "host_response_rate": "nan",
         "host_acceptance_rate": "nan",
         "host_is_superhost": "f",
         "host_listings_count": 1,
         "host_has_profile_pic": "t",
         "host_identity_verified": "f",
         "neighbourhood": "No Data",
         "neighbourhood_cleansed": "River Valley",
         "neighbourhood_group_cleansed": "Central Region",
         "latitude": 1.29887,
         "longitude": 103.83603,
         "property_type": "Private room in rental unit",
         "room_type": "Private room",
         "accommodates": 1,
         "bathrooms_text": "1 bath",
         "bedrooms": 1,
         "beds": 1,
         "amenities": "[\"Kitchen\", \"Long term stays allowed\", \"Washer\", \"Wifi\", \"Air conditioning\", \"Pool\", \"Fire extingui…",
         "price": 160,
         "minimum_nights": 1,
         "maximum_nights": 1125,
         "has_availability": "f",
         "availability_30": 0,
         "availability_60": 0,
         "availability_90": 0,
         "availability_365": 0,
         "number_of_reviews": 0,
         "number_of_reviews_ltm": 0,
         "number_of_reviews_l30d": 0,
         "review_scores_rating": 0,
         "review_scores_accuracy": 0,
         "review_scores_cleanliness": 0,
         "review_scores_checkin": 0,
         "review_scores_communication": 0,
         "review_scores_location": 0,
         "review_scores_value": 0,
         "instant_bookable": "f",
         "calculated_host_listings_count": 1,
         "amenities_str": "\"Kitchen\", \"Long term stays allowed\", \"Washer\", \"Wifi\", \"Air conditioning\", \"Pool\", \"Fire extinguis…",
         "dist_to_subway": 1.0555236625860496,
         "name_lang": "zh",
         "description_lang": "zh",
         "_deepnote_index_column": 123
        },
        {
         "id": 6663672,
         "name": "新加坡传统祖屋 客厅大 通风好",
         "description": "有空调 有wifi 近bus 近地铁 近吃饭的地方 明亮 干净",
         "neighborhood_overview": "No Data",
         "host_since": "2015-04-22",
         "host_response_time": "No Data",
         "host_response_rate": "nan",
         "host_acceptance_rate": "nan",
         "host_is_superhost": "f",
         "host_listings_count": 1,
         "host_has_profile_pic": "t",
         "host_identity_verified": "f",
         "neighbourhood": "No Data",
         "neighbourhood_cleansed": "Downtown Core",
         "neighbourhood_group_cleansed": "Central Region",
         "latitude": 1.27914,
         "longitude": 103.85002,
         "property_type": "Private room in residential home",
         "room_type": "Private room",
         "accommodates": 2,
         "bathrooms_text": "0 baths",
         "bedrooms": 1,
         "beds": 2,
         "amenities": "[\"Kitchen\", \"Long term stays allowed\", \"Washer\", \"Wifi\", \"Air conditioning\"]",
         "price": 98,
         "minimum_nights": 90,
         "maximum_nights": 120,
         "has_availability": "f",
         "availability_30": 0,
         "availability_60": 0,
         "availability_90": 0,
         "availability_365": 0,
         "number_of_reviews": 0,
         "number_of_reviews_ltm": 0,
         "number_of_reviews_l30d": 0,
         "review_scores_rating": 0,
         "review_scores_accuracy": 0,
         "review_scores_cleanliness": 0,
         "review_scores_checkin": 0,
         "review_scores_communication": 0,
         "review_scores_location": 0,
         "review_scores_value": 0,
         "instant_bookable": "f",
         "calculated_host_listings_count": 1,
         "amenities_str": "\"Kitchen\", \"Long term stays allowed\", \"Washer\", \"Wifi\", \"Air conditioning\"",
         "dist_to_subway": 0.3446820412181773,
         "name_lang": "zh",
         "description_lang": "zh",
         "_deepnote_index_column": 209
        },
        {
         "id": 8957363,
         "name": "Blk 210 Bukit Batok St 21",
         "description": "Blk 210 Bukit Batok St 21,nearby MRT,Coffee Shop,Foodcourt,supermarket,Library 靠近武吉巴督地铁站，走路7分钟，有盖走廊…",
         "neighborhood_overview": "No Data",
         "host_since": "2015-10-18",
         "host_response_time": "No Data",
         "host_response_rate": "nan",
         "host_acceptance_rate": "nan",
         "host_is_superhost": "f",
         "host_listings_count": 1,
         "host_has_profile_pic": "t",
         "host_identity_verified": "f",
         "neighbourhood": "No Data",
         "neighbourhood_cleansed": "Bukit Batok",
         "neighbourhood_group_cleansed": "West Region",
         "latitude": 1.34589,
         "longitude": 103.74904,
         "property_type": "Entire place",
         "room_type": "Entire home/apt",
         "accommodates": 6,
         "bathrooms_text": "2 baths",
         "bedrooms": 3,
         "beds": 5,
         "amenities": "[\"Essentials\", \"Cleaning before checkout\", \"Kitchen\", \"Long term stays allowed\", \"Washer\", \"Elevato…",
         "price": 80,
         "minimum_nights": 366,
         "maximum_nights": 1125,
         "has_availability": "f",
         "availability_30": 0,
         "availability_60": 0,
         "availability_90": 0,
         "availability_365": 0,
         "number_of_reviews": 0,
         "number_of_reviews_ltm": 0,
         "number_of_reviews_l30d": 0,
         "review_scores_rating": 0,
         "review_scores_accuracy": 0,
         "review_scores_cleanliness": 0,
         "review_scores_checkin": 0,
         "review_scores_communication": 0,
         "review_scores_location": 0,
         "review_scores_value": 0,
         "instant_bookable": "f",
         "calculated_host_listings_count": 1,
         "amenities_str": "\"Essentials\", \"Cleaning before checkout\", \"Kitchen\", \"Long term stays allowed\", \"Washer\", \"Elevator…",
         "dist_to_subway": 0.4764478976071816,
         "name_lang": "hu",
         "description_lang": "zh",
         "_deepnote_index_column": 325
        },
        {
         "id": 9282668,
         "name": "COMFORTABLE SUITE WITH A VIEW.(2)",
         "description": "PEACEFUL, TRANQUIL ENVIRONMENTAL SURROUNDINGS WITH A QUEEN-SIZED BED, GIVES WONDERFUL ATMOSPHERE FO…",
         "neighborhood_overview": "No Data",
         "host_since": "2015-06-05",
         "host_response_time": "within a few hours",
         "host_response_rate": 71,
         "host_acceptance_rate": 100,
         "host_is_superhost": "f",
         "host_listings_count": 5,
         "host_has_profile_pic": "t",
         "host_identity_verified": "f",
         "neighbourhood": "No Data",
         "neighbourhood_cleansed": "Sembawang",
         "neighbourhood_group_cleansed": "North Region",
         "latitude": 1.43965,
         "longitude": 103.82345,
         "property_type": "Private room in rental unit",
         "room_type": "Private room",
         "accommodates": 2,
         "bathrooms_text": "1 private bath",
         "bedrooms": 1,
         "beds": 1,
         "amenities": "[\"Long term stays allowed\", \"Private entrance\", \"Lock on bedroom door\", \"Hot tub\", \"Wifi\", \"Air con…",
         "price": 135,
         "minimum_nights": 7,
         "maximum_nights": 100,
         "has_availability": "t",
         "availability_30": 30,
         "availability_60": 60,
         "availability_90": 90,
         "availability_365": 365,
         "number_of_reviews": 0,
         "number_of_reviews_ltm": 0,
         "number_of_reviews_l30d": 0,
         "review_scores_rating": 0,
         "review_scores_accuracy": 0,
         "review_scores_cleanliness": 0,
         "review_scores_checkin": 0,
         "review_scores_communication": 0,
         "review_scores_location": 0,
         "review_scores_value": 0,
         "instant_bookable": "t",
         "calculated_host_listings_count": 3,
         "amenities_str": "\"Long term stays allowed\", \"Private entrance\", \"Lock on bedroom door\", \"Hot tub\", \"Wifi\", \"Air cond…",
         "dist_to_subway": 1.783559015729407,
         "name_lang": "ja",
         "description_lang": "ja",
         "_deepnote_index_column": 343
        },
        {
         "id": 10936529,
         "name": "出租夫妻房长期居住每月新币700，有意者请拨新加坡号码81370968",
         "description": "环境好,出行方便",
         "neighborhood_overview": "No Data",
         "host_since": "2016-01-30",
         "host_response_time": "No Data",
         "host_response_rate": "nan",
         "host_acceptance_rate": "nan",
         "host_is_superhost": "f",
         "host_listings_count": 1,
         "host_has_profile_pic": "t",
         "host_identity_verified": "f",
         "neighbourhood": "No Data",
         "neighbourhood_cleansed": "Woodlands",
         "neighbourhood_group_cleansed": "North Region",
         "latitude": 1.44347,
         "longitude": 103.80081,
         "property_type": "Private room",
         "room_type": "Private room",
         "accommodates": 2,
         "bathrooms_text": "0 baths",
         "bedrooms": 1,
         "beds": 1,
         "amenities": "[\"Kitchen\", \"Long term stays allowed\", \"Washer\", \"Elevator\", \"Wifi\", \"Hot tub\", \"Air conditioning\"]",
         "price": 30,
         "minimum_nights": 365,
         "maximum_nights": 1125,
         "has_availability": "f",
         "availability_30": 0,
         "availability_60": 0,
         "availability_90": 0,
         "availability_365": 0,
         "number_of_reviews": 0,
         "number_of_reviews_ltm": 0,
         "number_of_reviews_l30d": 0,
         "review_scores_rating": 0,
         "review_scores_accuracy": 0,
         "review_scores_cleanliness": 0,
         "review_scores_checkin": 0,
         "review_scores_communication": 0,
         "review_scores_location": 0,
         "review_scores_value": 0,
         "instant_bookable": "f",
         "calculated_host_listings_count": 1,
         "amenities_str": "\"Kitchen\", \"Long term stays allowed\", \"Washer\", \"Elevator\", \"Wifi\", \"Hot tub\", \"Air conditioning\"",
         "dist_to_subway": 0.6766670643492414,
         "name_lang": "zh",
         "description_lang": "zh",
         "_deepnote_index_column": 411
        },
        {
         "id": 11126190,
         "name": "FAMILY-FRIENDLY EN-SUITE",
         "description": "THIS AMAZING. FAMILY-FRIENDLY SUITE COMES WITH ATTACHED, PRIVATE BATHROOM FOR TOTAL PRIVACY. THE DE…",
         "neighborhood_overview": "No Data",
         "host_since": "2016-02-07",
         "host_response_time": "within a day",
         "host_response_rate": 100,
         "host_acceptance_rate": 0,
         "host_is_superhost": "f",
         "host_listings_count": 7,
         "host_has_profile_pic": "t",
         "host_identity_verified": "f",
         "neighbourhood": "No Data",
         "neighbourhood_cleansed": "Sembawang",
         "neighbourhood_group_cleansed": "North Region",
         "latitude": 1.44347,
         "longitude": 103.8235,
         "property_type": "Private room in townhouse",
         "room_type": "Private room",
         "accommodates": 2,
         "bathrooms_text": "1 private bath",
         "bedrooms": 1,
         "beds": 1,
         "amenities": "[\"Long term stays allowed\", \"Hair dryer\", \"First aid kit\", \"Wifi\", \"Air conditioning\", \"Iron\"]",
         "price": 204,
         "minimum_nights": 7,
         "maximum_nights": 92,
         "has_availability": "t",
         "availability_30": 29,
         "availability_60": 59,
         "availability_90": 89,
         "availability_365": 364,
         "number_of_reviews": 0,
         "number_of_reviews_ltm": 0,
         "number_of_reviews_l30d": 0,
         "review_scores_rating": 0,
         "review_scores_accuracy": 0,
         "review_scores_cleanliness": 0,
         "review_scores_checkin": 0,
         "review_scores_communication": 0,
         "review_scores_location": 0,
         "review_scores_value": 0,
         "instant_bookable": "f",
         "calculated_host_listings_count": 4,
         "amenities_str": "\"Long term stays allowed\", \"Hair dryer\", \"First aid kit\", \"Wifi\", \"Air conditioning\", \"Iron\"",
         "dist_to_subway": 1.9478101980246465,
         "name_lang": "zh",
         "description_lang": "nl",
         "_deepnote_index_column": 414
        },
        {
         "id": 11442336,
         "name": "文庆地铁站全新公寓出租",
         "description": "地铁站旁全新公寓，距离CBD地铁四站路，交通生活便利，一房一厅位于高层，景观无敌，前后没遮挡，十分通风，全新家具家电。   The space  无敌景观，全新家具家电   Guest access…",
         "neighborhood_overview": "距离地铁站100米",
         "host_since": "2016-02-23",
         "host_response_time": "a few days or more",
         "host_response_rate": 0,
         "host_acceptance_rate": "nan",
         "host_is_superhost": "f",
         "host_listings_count": 1,
         "host_has_profile_pic": "t",
         "host_identity_verified": "f",
         "neighbourhood": "Singapore, Singapore",
         "neighbourhood_cleansed": "Kallang",
         "neighbourhood_group_cleansed": "Central Region",
         "latitude": 1.32092,
         "longitude": 103.86291,
         "property_type": "Entire rental unit",
         "room_type": "Entire home/apt",
         "accommodates": 2,
         "bathrooms_text": "1 bath",
         "bedrooms": 1,
         "beds": 1,
         "amenities": "[\"Long term stays allowed\"]",
         "price": 100,
         "minimum_nights": 180,
         "maximum_nights": 365,
         "has_availability": "t",
         "availability_30": 30,
         "availability_60": 60,
         "availability_90": 90,
         "availability_365": 365,
         "number_of_reviews": 0,
         "number_of_reviews_ltm": 0,
         "number_of_reviews_l30d": 0,
         "review_scores_rating": 0,
         "review_scores_accuracy": 0,
         "review_scores_cleanliness": 0,
         "review_scores_checkin": 0,
         "review_scores_communication": 0,
         "review_scores_location": 0,
         "review_scores_value": 0,
         "instant_bookable": "f",
         "calculated_host_listings_count": 1,
         "amenities_str": "\"Long term stays allowed\"",
         "dist_to_subway": 0.639707271465752,
         "name_lang": "id",
         "description_lang": "zh",
         "_deepnote_index_column": 426
        },
        {
         "id": 12583148,
         "name": "geylang 14 主人房 master room1300sgd",
         "description": "geylang14巷 主人房出租 1个人1300 2个人1400 包水电网 空调 床（可以换上下床也可以双人床） 欢迎热爱干净 作息时间规律人士入住 现在住的都是学生！学生！欢迎学生入住！ 我们可以…",
         "neighborhood_overview": "No Data",
         "host_since": "2015-11-07",
         "host_response_time": "No Data",
         "host_response_rate": "nan",
         "host_acceptance_rate": "nan",
         "host_is_superhost": "f",
         "host_listings_count": 1,
         "host_has_profile_pic": "t",
         "host_identity_verified": "t",
         "neighbourhood": "No Data",
         "neighbourhood_cleansed": "Geylang",
         "neighbourhood_group_cleansed": "Central Region",
         "latitude": 1.3138,
         "longitude": 103.88099,
         "property_type": "Private room in rental unit",
         "room_type": "Private room",
         "accommodates": 2,
         "bathrooms_text": "1 bath",
         "bedrooms": 1,
         "beds": 2,
         "amenities": "[\"Shampoo\", \"Essentials\", \"Extra pillows and blankets\", \"Hangers\", \"Bed linens\", \"Kitchen\", \"Long t…",
         "price": 1300,
         "minimum_nights": 1,
         "maximum_nights": 1125,
         "has_availability": "f",
         "availability_30": 0,
         "availability_60": 0,
         "availability_90": 0,
         "availability_365": 0,
         "number_of_reviews": 0,
         "number_of_reviews_ltm": 0,
         "number_of_reviews_l30d": 0,
         "review_scores_rating": 0,
         "review_scores_accuracy": 0,
         "review_scores_cleanliness": 0,
         "review_scores_checkin": 0,
         "review_scores_communication": 0,
         "review_scores_location": 0,
         "review_scores_value": 0,
         "instant_bookable": "f",
         "calculated_host_listings_count": 1,
         "amenities_str": "\"Shampoo\", \"Essentials\", \"Extra pillows and blankets\", \"Hangers\", \"Bed linens\", \"Kitchen\", \"Long te…",
         "dist_to_subway": 0.5803395028517553,
         "name_lang": "ja",
         "description_lang": "zh",
         "_deepnote_index_column": 478
        },
        {
         "id": 12815967,
         "name": "阿裕尼公寓普通房急需女搭房一名联系人:郑小姐 电话：",
         "description": "阿裕尼高级公寓普通房寻求女搭房 450／月，包水电网，拎包即可入住（冰箱，洗衣机，微波炉，热水器） 希望能跟一名生活作息规律（本人正常上班作息），爱干净的女搭房合租，房东也是很好相处的一家人（有时候…",
         "neighborhood_overview": "No Data",
         "host_since": "2016-05-02",
         "host_response_time": "No Data",
         "host_response_rate": "nan",
         "host_acceptance_rate": "nan",
         "host_is_superhost": "f",
         "host_listings_count": 1,
         "host_has_profile_pic": "t",
         "host_identity_verified": "f",
         "neighbourhood": "No Data",
         "neighbourhood_cleansed": "Geylang",
         "neighbourhood_group_cleansed": "Central Region",
         "latitude": 1.3157,
         "longitude": 103.88303,
         "property_type": "Shared room in rental unit",
         "room_type": "Shared room",
         "accommodates": 1,
         "bathrooms_text": "1 shared bath",
         "bedrooms": 1,
         "beds": 1,
         "amenities": "[\"Essentials\", \"Hangers\", \"Kitchen\", \"Long term stays allowed\", \"Washer\", \"Hair dryer\", \"Elevator\",…",
         "price": 450,
         "minimum_nights": 1,
         "maximum_nights": 1125,
         "has_availability": "t",
         "availability_30": 30,
         "availability_60": 60,
         "availability_90": 90,
         "availability_365": 365,
         "number_of_reviews": 0,
         "number_of_reviews_ltm": 0,
         "number_of_reviews_l30d": 0,
         "review_scores_rating": 0,
         "review_scores_accuracy": 0,
         "review_scores_cleanliness": 0,
         "review_scores_checkin": 0,
         "review_scores_communication": 0,
         "review_scores_location": 0,
         "review_scores_value": 0,
         "instant_bookable": "f",
         "calculated_host_listings_count": 1,
         "amenities_str": "\"Essentials\", \"Hangers\", \"Kitchen\", \"Long term stays allowed\", \"Washer\", \"Hair dryer\", \"Elevator\", …",
         "dist_to_subway": 0.8255946220670771,
         "name_lang": "zh",
         "description_lang": "zh",
         "_deepnote_index_column": 488
        },
        {
         "id": 13540021,
         "name": "Boonlay MRT 1",
         "description": "我的房源靠近夜生活和公共交通。因为户外空间、街区、氛围,您一定会爱上我的房源。我的房源适合孤独的冒险家和商务旅行者。",
         "neighborhood_overview": "No Data",
         "host_since": "2015-12-16",
         "host_response_time": "within a day",
         "host_response_rate": 100,
         "host_acceptance_rate": "nan",
         "host_is_superhost": "f",
         "host_listings_count": 1,
         "host_has_profile_pic": "t",
         "host_identity_verified": "t",
         "neighbourhood": "No Data",
         "neighbourhood_cleansed": "Jurong West",
         "neighbourhood_group_cleansed": "West Region",
         "latitude": 1.33906,
         "longitude": 103.70071,
         "property_type": "Private room",
         "room_type": "Private room",
         "accommodates": 1,
         "bathrooms_text": "1 bath",
         "bedrooms": 1,
         "beds": 1,
         "amenities": "[\"Essentials\", \"Hangers\", \"Kitchen\", \"Long term stays allowed\", \"Washer\", \"Elevator\", \"Lock on bedr…",
         "price": 100,
         "minimum_nights": 180,
         "maximum_nights": 365,
         "has_availability": "f",
         "availability_30": 0,
         "availability_60": 0,
         "availability_90": 0,
         "availability_365": 0,
         "number_of_reviews": 0,
         "number_of_reviews_ltm": 0,
         "number_of_reviews_l30d": 0,
         "review_scores_rating": 0,
         "review_scores_accuracy": 0,
         "review_scores_cleanliness": 0,
         "review_scores_checkin": 0,
         "review_scores_communication": 0,
         "review_scores_location": 0,
         "review_scores_value": 0,
         "instant_bookable": "f",
         "calculated_host_listings_count": 2,
         "amenities_str": "\"Essentials\", \"Hangers\", \"Kitchen\", \"Long term stays allowed\", \"Washer\", \"Elevator\", \"Lock on bedro…",
         "dist_to_subway": 0.5163687208616098,
         "name_lang": "hu",
         "description_lang": "zh",
         "_deepnote_index_column": 525
        },
        {
         "id": 15722252,
         "name": "夏威夷式度假公寓",
         "description": "位置 : 五分钟步行到海边。十分钟车程到机场。十五分钟公共交通到市区。 活动:户外活动及各球类设备齐全。",
         "neighborhood_overview": "No Data",
         "host_since": "2015-03-10",
         "host_response_time": "a few days or more",
         "host_response_rate": 0,
         "host_acceptance_rate": 0,
         "host_is_superhost": "f",
         "host_listings_count": 2,
         "host_has_profile_pic": "t",
         "host_identity_verified": "f",
         "neighbourhood": "No Data",
         "neighbourhood_cleansed": "Bedok",
         "neighbourhood_group_cleansed": "East Region",
         "latitude": 1.31204,
         "longitude": 103.93769,
         "property_type": "Private room in rental unit",
         "room_type": "Private room",
         "accommodates": 2,
         "bathrooms_text": "1 bath",
         "bedrooms": 1,
         "beds": 1,
         "amenities": "[\"Long term stays allowed\"]",
         "price": 100,
         "minimum_nights": 2,
         "maximum_nights": 1125,
         "has_availability": "t",
         "availability_30": 22,
         "availability_60": 52,
         "availability_90": 82,
         "availability_365": 357,
         "number_of_reviews": 0,
         "number_of_reviews_ltm": 0,
         "number_of_reviews_l30d": 0,
         "review_scores_rating": 0,
         "review_scores_accuracy": 0,
         "review_scores_cleanliness": 0,
         "review_scores_checkin": 0,
         "review_scores_communication": 0,
         "review_scores_location": 0,
         "review_scores_value": 0,
         "instant_bookable": "f",
         "calculated_host_listings_count": 2,
         "amenities_str": "\"Long term stays allowed\"",
         "dist_to_subway": 1.7599854463568168,
         "name_lang": "zh",
         "description_lang": "zh",
         "_deepnote_index_column": 631
        },
        {
         "id": 15765810,
         "name": "无中介，主卧招租，地段极佳",
         "description": "我的房源靠近临近大巴窑MRT，附近各种便利超市食阁，方便采购。因为地段、户外空间、景观，您一定会爱上我的房源。我的房源适合情侣和商务旅行者。",
         "neighborhood_overview": "No Data",
         "host_since": "2016-10-31",
         "host_response_time": "a few days or more",
         "host_response_rate": 0,
         "host_acceptance_rate": "nan",
         "host_is_superhost": "f",
         "host_listings_count": 1,
         "host_has_profile_pic": "t",
         "host_identity_verified": "f",
         "neighbourhood": "No Data",
         "neighbourhood_cleansed": "Toa Payoh",
         "neighbourhood_group_cleansed": "Central Region",
         "latitude": 1.33537,
         "longitude": 103.84462,
         "property_type": "Shared room in rental unit",
         "room_type": "Shared room",
         "accommodates": 2,
         "bathrooms_text": "1 shared bath",
         "bedrooms": 1,
         "beds": 1,
         "amenities": "[\"Hangers\", \"Kitchen\", \"Long term stays allowed\", \"Washer\", \"Elevator\", \"Wifi\", \"Gym\", \"Air conditi…",
         "price": 50,
         "minimum_nights": 240,
         "maximum_nights": 1125,
         "has_availability": "t",
         "availability_30": 29,
         "availability_60": 59,
         "availability_90": 89,
         "availability_365": 364,
         "number_of_reviews": 0,
         "number_of_reviews_ltm": 0,
         "number_of_reviews_l30d": 0,
         "review_scores_rating": 0,
         "review_scores_accuracy": 0,
         "review_scores_cleanliness": 0,
         "review_scores_checkin": 0,
         "review_scores_communication": 0,
         "review_scores_location": 0,
         "review_scores_value": 0,
         "instant_bookable": "t",
         "calculated_host_listings_count": 1,
         "amenities_str": "\"Hangers\", \"Kitchen\", \"Long term stays allowed\", \"Washer\", \"Elevator\", \"Wifi\", \"Gym\", \"Air conditio…",
         "dist_to_subway": 1.1436130752999871,
         "name_lang": "zh",
         "description_lang": "zh",
         "_deepnote_index_column": 636
        },
        {
         "id": 15978100,
         "name": "清幽宁静、整洁干净的公寓房间。包水电网煮饭游泳桑拿健身房。",
         "description": "宾至如归,房间整洁舒适,设施齐全,交通便利!出家门一分钟就到巴士站,多趟巴士直通全岛。如果坐巴士三个站就到bedok MRT 。   The space  清幽、宁静!交通便利!   Guest a…",
         "neighborhood_overview": "我家位于新加坡的东部。从樟宜机场只需10分钟车程。步行东海岸只需15分钟，是步行哦！！！",
         "host_since": "2016-11-07",
         "host_response_time": "a few days or more",
         "host_response_rate": 8,
         "host_acceptance_rate": 40,
         "host_is_superhost": "f",
         "host_listings_count": 1,
         "host_has_profile_pic": "t",
         "host_identity_verified": "f",
         "neighbourhood": "Singapore, Singapore",
         "neighbourhood_cleansed": "Bedok",
         "neighbourhood_group_cleansed": "East Region",
         "latitude": 1.31708,
         "longitude": 103.93429,
         "property_type": "Private room in rental unit",
         "room_type": "Private room",
         "accommodates": 2,
         "bathrooms_text": "1 private bath",
         "bedrooms": 1,
         "beds": 1,
         "amenities": "[\"Cleaning before checkout\", \"Hangers\", \"Bed linens\", \"Cooking basics\", \"Washer\", \"Hair dryer\", \"Ov…",
         "price": 89,
         "minimum_nights": 3,
         "maximum_nights": 1125,
         "has_availability": "t",
         "availability_30": 0,
         "availability_60": 0,
         "availability_90": 0,
         "availability_365": 0,
         "number_of_reviews": 6,
         "number_of_reviews_ltm": 0,
         "number_of_reviews_l30d": 0,
         "review_scores_rating": 4,
         "review_scores_accuracy": 3.4,
         "review_scores_cleanliness": 4,
         "review_scores_checkin": 4.6,
         "review_scores_communication": 4.8,
         "review_scores_location": 4.4,
         "review_scores_value": 3.8,
         "instant_bookable": "f",
         "calculated_host_listings_count": 1,
         "amenities_str": "\"Cleaning before checkout\", \"Hangers\", \"Bed linens\", \"Cooking basics\", \"Washer\", \"Hair dryer\", \"Ove…",
         "dist_to_subway": 1.0873427560074098,
         "name_lang": "zh",
         "description_lang": "zh",
         "_deepnote_index_column": 655
        },
        {
         "id": 20774506,
         "name": "SPACIOUS  MASTER-SUITE-ROOM  WITH  KING-SIZED BED",
         "description": "LARGE, SPACIOUS  MASTER-SUITE-ROOM  WITH  KING-SIZED  BED  &  EXCLUSIVE  PRIVATE  BATHROOM  ATTACHED",
         "neighborhood_overview": "No Data",
         "host_since": "2017-09-02",
         "host_response_time": "a few days or more",
         "host_response_rate": 28,
         "host_acceptance_rate": 67,
         "host_is_superhost": "f",
         "host_listings_count": 4,
         "host_has_profile_pic": "t",
         "host_identity_verified": "f",
         "neighbourhood": "No Data",
         "neighbourhood_cleansed": "Sembawang",
         "neighbourhood_group_cleansed": "North Region",
         "latitude": 1.43979,
         "longitude": 103.82187,
         "property_type": "Private room in townhouse",
         "room_type": "Private room",
         "accommodates": 2,
         "bathrooms_text": "1 private bath",
         "bedrooms": 1,
         "beds": 1,
         "amenities": "[\"Essentials\", \"Hangers\", \"Heating\", \"Kitchen\", \"Long term stays allowed\", \"Lock on bedroom door\", …",
         "price": 204,
         "minimum_nights": 7,
         "maximum_nights": 99,
         "has_availability": "t",
         "availability_30": 30,
         "availability_60": 60,
         "availability_90": 90,
         "availability_365": 365,
         "number_of_reviews": 0,
         "number_of_reviews_ltm": 0,
         "number_of_reviews_l30d": 0,
         "review_scores_rating": 0,
         "review_scores_accuracy": 0,
         "review_scores_cleanliness": 0,
         "review_scores_checkin": 0,
         "review_scores_communication": 0,
         "review_scores_location": 0,
         "review_scores_value": 0,
         "instant_bookable": "f",
         "calculated_host_listings_count": 4,
         "amenities_str": "\"Essentials\", \"Hangers\", \"Heating\", \"Kitchen\", \"Long term stays allowed\", \"Lock on bedroom door\", \"…",
         "dist_to_subway": 1.74349648138629,
         "name_lang": "ja",
         "description_lang": "ja",
         "_deepnote_index_column": 893
        },
        {
         "id": 20774607,
         "name": "PRIVATE COSY ROOM FOR  BASIC SINGLE OR COUPLE !!!",
         "description": "PRIVATE, COSY BEDROOM FOR THE QUIET, PRIVATE, EXCLUSIVE SINGLE OR COUPLE !!!",
         "neighborhood_overview": "No Data",
         "host_since": "2017-09-02",
         "host_response_time": "a few days or more",
         "host_response_rate": 28,
         "host_acceptance_rate": 67,
         "host_is_superhost": "f",
         "host_listings_count": 4,
         "host_has_profile_pic": "t",
         "host_identity_verified": "f",
         "neighbourhood": "No Data",
         "neighbourhood_cleansed": "Sembawang",
         "neighbourhood_group_cleansed": "North Region",
         "latitude": 1.4406,
         "longitude": 103.82203,
         "property_type": "Private room in townhouse",
         "room_type": "Private room",
         "accommodates": 1,
         "bathrooms_text": "1 private bath",
         "bedrooms": 1,
         "beds": 1,
         "amenities": "[\"Essentials\", \"Hangers\", \"Heating\", \"Kitchen\", \"Long term stays allowed\", \"Washer\", \"Lock on bedro…",
         "price": 89,
         "minimum_nights": 7,
         "maximum_nights": 100,
         "has_availability": "t",
         "availability_30": 30,
         "availability_60": 60,
         "availability_90": 90,
         "availability_365": 365,
         "number_of_reviews": 1,
         "number_of_reviews_ltm": 0,
         "number_of_reviews_l30d": 0,
         "review_scores_rating": 5,
         "review_scores_accuracy": 5,
         "review_scores_cleanliness": 4,
         "review_scores_checkin": 5,
         "review_scores_communication": 5,
         "review_scores_location": 5,
         "review_scores_value": 5,
         "instant_bookable": "f",
         "calculated_host_listings_count": 4,
         "amenities_str": "\"Essentials\", \"Hangers\", \"Heating\", \"Kitchen\", \"Long term stays allowed\", \"Washer\", \"Lock on bedroo…",
         "dist_to_subway": 1.758773569554973,
         "name_lang": "zh",
         "description_lang": "zh",
         "_deepnote_index_column": 894
        },
        {
         "id": 23211763,
         "name": "善美 之家 Niven road 9号房",
         "description": "房间有冷气，全新床，床单，床头柜，有大衣柜，两个人共用一个洗手间和洗衣机，有独立小冰箱，走路可以到乌节路，附近有超市，食阁，星巴克，很方便",
         "neighborhood_overview": "No Data",
         "host_since": "2018-01-28",
         "host_response_time": "a few days or more",
         "host_response_rate": 4,
         "host_acceptance_rate": 41,
         "host_is_superhost": "f",
         "host_listings_count": 12,
         "host_has_profile_pic": "t",
         "host_identity_verified": "f",
         "neighbourhood": "No Data",
         "neighbourhood_cleansed": "Newton",
         "neighbourhood_group_cleansed": "Central Region",
         "latitude": 1.31237,
         "longitude": 103.83167,
         "property_type": "Private room in residential home",
         "room_type": "Private room",
         "accommodates": 2,
         "bathrooms_text": "Shared half-bath",
         "bedrooms": 1,
         "beds": 1,
         "amenities": "[\"Shampoo\", \"Essentials\", \"Security cameras on property\", \"Hangers\", \"Kitchen\", \"Long term stays al…",
         "price": 50,
         "minimum_nights": 7,
         "maximum_nights": 1125,
         "has_availability": "t",
         "availability_30": 0,
         "availability_60": 19,
         "availability_90": 49,
         "availability_365": 324,
         "number_of_reviews": 1,
         "number_of_reviews_ltm": 0,
         "number_of_reviews_l30d": 0,
         "review_scores_rating": 5,
         "review_scores_accuracy": 5,
         "review_scores_cleanliness": 5,
         "review_scores_checkin": 5,
         "review_scores_communication": 5,
         "review_scores_location": 5,
         "review_scores_value": 5,
         "instant_bookable": "f",
         "calculated_host_listings_count": 9,
         "amenities_str": "\"Shampoo\", \"Essentials\", \"Security cameras on property\", \"Hangers\", \"Kitchen\", \"Long term stays all…",
         "dist_to_subway": 0.7687284350787356,
         "name_lang": "zh",
         "description_lang": "zh",
         "_deepnote_index_column": 1062
        },
        {
         "id": 23245969,
         "name": "善美 之家 Niven road Afour 号房",
         "description": "房间内有大衣柜，大床，小冰箱，桌子椅子，Wi-Fi，距离小印度地铁站约300米，距离乌节路，走路约1200米，附近有超市，食阁，巴萨，星巴克，很方便",
         "neighborhood_overview": "No Data",
         "host_since": "2018-01-28",
         "host_response_time": "a few days or more",
         "host_response_rate": 4,
         "host_acceptance_rate": 41,
         "host_is_superhost": "f",
         "host_listings_count": 12,
         "host_has_profile_pic": "t",
         "host_identity_verified": "f",
         "neighbourhood": "No Data",
         "neighbourhood_cleansed": "Rochor",
         "neighbourhood_group_cleansed": "Central Region",
         "latitude": 1.30245,
         "longitude": 103.84828,
         "property_type": "Private room in guest suite",
         "room_type": "Private room",
         "accommodates": 2,
         "bathrooms_text": "Shared half-bath",
         "bedrooms": 1,
         "beds": 1,
         "amenities": "[\"Shampoo\", \"Essentials\", \"Security cameras on property\", \"Hangers\", \"Long term stays allowed\", \"Wa…",
         "price": 55,
         "minimum_nights": 7,
         "maximum_nights": 1125,
         "has_availability": "t",
         "availability_30": 15,
         "availability_60": 45,
         "availability_90": 75,
         "availability_365": 76,
         "number_of_reviews": 0,
         "number_of_reviews_ltm": 0,
         "number_of_reviews_l30d": 0,
         "review_scores_rating": 0,
         "review_scores_accuracy": 0,
         "review_scores_cleanliness": 0,
         "review_scores_checkin": 0,
         "review_scores_communication": 0,
         "review_scores_location": 0,
         "review_scores_value": 0,
         "instant_bookable": "t",
         "calculated_host_listings_count": 9,
         "amenities_str": "\"Shampoo\", \"Essentials\", \"Security cameras on property\", \"Hangers\", \"Long term stays allowed\", \"Was…",
         "dist_to_subway": 0.4123824986127807,
         "name_lang": "zh",
         "description_lang": "zh",
         "_deepnote_index_column": 1063
        },
        {
         "id": 23285759,
         "name": "Wilkie 3号房",
         "description": "房间地点在市区,房间内有1.5/1.8米新床,床头柜,书桌,椅子,衣柜,冷气,风扇,走路5分钟到小印度地铁站,坐车10分钟到金沙赌场滨海湾大酒店,20分钟到圣淘沙名胜世界,走路8分钟到多美歌地铁站,…",
         "neighborhood_overview": "市区，距离乌节路走路10分钟，距离小印度地铁站3分钟，距离乌节路多美歌地铁站步行8分钟，距离金沙打车8分钟即可达到，地点好",
         "host_since": "2018-01-28",
         "host_response_time": "a few days or more",
         "host_response_rate": 4,
         "host_acceptance_rate": 41,
         "host_is_superhost": "f",
         "host_listings_count": 12,
         "host_has_profile_pic": "t",
         "host_identity_verified": "f",
         "neighbourhood": "Singapore, Singapore",
         "neighbourhood_cleansed": "Rochor",
         "neighbourhood_group_cleansed": "Central Region",
         "latitude": 1.30371,
         "longitude": 103.8471,
         "property_type": "Private room in condominium (condo)",
         "room_type": "Private room",
         "accommodates": 1,
         "bathrooms_text": "Shared half-bath",
         "bedrooms": 1,
         "beds": 1,
         "amenities": "[\"Hangers\", \"Kitchen\", \"Long term stays allowed\", \"Washer\", \"Elevator\", \"Dryer\", \"Wifi\", \"Air condi…",
         "price": 68,
         "minimum_nights": 30,
         "maximum_nights": 365,
         "has_availability": "t",
         "availability_30": 1,
         "availability_60": 29,
         "availability_90": 59,
         "availability_365": 334,
         "number_of_reviews": 0,
         "number_of_reviews_ltm": 0,
         "number_of_reviews_l30d": 0,
         "review_scores_rating": 0,
         "review_scores_accuracy": 0,
         "review_scores_cleanliness": 0,
         "review_scores_checkin": 0,
         "review_scores_communication": 0,
         "review_scores_location": 0,
         "review_scores_value": 0,
         "instant_bookable": "t",
         "calculated_host_listings_count": 9,
         "amenities_str": "\"Hangers\", \"Kitchen\", \"Long term stays allowed\", \"Washer\", \"Elevator\", \"Dryer\", \"Wifi\", \"Air condit…",
         "dist_to_subway": 0.5100044664186368,
         "name_lang": "ja",
         "description_lang": "zh",
         "_deepnote_index_column": 1068
        },
        {
         "id": 25768720,
         "name": "test test",
         "description": "test",
         "neighborhood_overview": "No Data",
         "host_since": "2013-11-27",
         "host_response_time": "No Data",
         "host_response_rate": "nan",
         "host_acceptance_rate": "nan",
         "host_is_superhost": "f",
         "host_listings_count": 1,
         "host_has_profile_pic": "t",
         "host_identity_verified": "f",
         "neighbourhood": "No Data",
         "neighbourhood_cleansed": "Hougang",
         "neighbourhood_group_cleansed": "North-East Region",
         "latitude": 1.35699,
         "longitude": 103.89315,
         "property_type": "Private room in rental unit",
         "room_type": "Private room",
         "accommodates": 2,
         "bathrooms_text": "1 private bath",
         "bedrooms": 1,
         "beds": 1,
         "amenities": "[\"Shampoo\", \"Essentials\", \"Hangers\", \"Heating\", \"Kitchen\", \"Long term stays allowed\", \"Washer\", \"Dr…",
         "price": 41,
         "minimum_nights": 22,
         "maximum_nights": 1125,
         "has_availability": "f",
         "availability_30": 0,
         "availability_60": 0,
         "availability_90": 0,
         "availability_365": 0,
         "number_of_reviews": 0,
         "number_of_reviews_ltm": 0,
         "number_of_reviews_l30d": 0,
         "review_scores_rating": 0,
         "review_scores_accuracy": 0,
         "review_scores_cleanliness": 0,
         "review_scores_checkin": 0,
         "review_scores_communication": 0,
         "review_scores_location": 0,
         "review_scores_value": 0,
         "instant_bookable": "f",
         "calculated_host_listings_count": 1,
         "amenities_str": "\"Shampoo\", \"Essentials\", \"Hangers\", \"Heating\", \"Kitchen\", \"Long term stays allowed\", \"Washer\", \"Dry…",
         "dist_to_subway": 0.4769028142280513,
         "name_lang": "hu",
         "description_lang": "hu",
         "_deepnote_index_column": 1245
        },
        {
         "id": 32031648,
         "name": "市中心1分钟地铁海景房周边设施全1min MRT CBD high flr seaview 7pax",
         "description": "-spacious and newly decorated 2 BR 2bathroom apartment on high floor with sea view in the middle of…",
         "neighborhood_overview": "There are 24-hour convenience stores and Japanese restaurants below the apartment.There are local c…",
         "host_since": "2018-12-03",
         "host_response_time": "No Data",
         "host_response_rate": "nan",
         "host_acceptance_rate": 0,
         "host_is_superhost": "f",
         "host_listings_count": 2,
         "host_has_profile_pic": "t",
         "host_identity_verified": "f",
         "neighbourhood": "Singapore, Singapore",
         "neighbourhood_cleansed": "Downtown Core",
         "neighbourhood_group_cleansed": "Central Region",
         "latitude": 1.27948,
         "longitude": 103.85406,
         "property_type": "Entire rental unit",
         "room_type": "Entire home/apt",
         "accommodates": 6,
         "bathrooms_text": "2.5 baths",
         "bedrooms": 2,
         "beds": 3,
         "amenities": "[\"Hangers\", \"Coffee maker\", \"Cooking basics\", \"Washer\", \"Carbon monoxide alarm\", \"Hair dryer\", \"TV\"…",
         "price": 328,
         "minimum_nights": 2,
         "maximum_nights": 1125,
         "has_availability": "t",
         "availability_30": 0,
         "availability_60": 0,
         "availability_90": 0,
         "availability_365": 0,
         "number_of_reviews": 8,
         "number_of_reviews_ltm": 0,
         "number_of_reviews_l30d": 0,
         "review_scores_rating": 4.88,
         "review_scores_accuracy": 4.75,
         "review_scores_cleanliness": 4.5,
         "review_scores_checkin": 5,
         "review_scores_communication": 5,
         "review_scores_location": 4.88,
         "review_scores_value": 4.88,
         "instant_bookable": "f",
         "calculated_host_listings_count": 2,
         "amenities_str": "\"Hangers\", \"Coffee maker\", \"Cooking basics\", \"Washer\", \"Carbon monoxide alarm\", \"Hair dryer\", \"TV\",…",
         "dist_to_subway": 0.5728306806808436,
         "name_lang": "zh",
         "description_lang": "zh",
         "_deepnote_index_column": 1554
        },
        {
         "id": 36054582,
         "name": "红线NS18，步行3分钟到braddell MRT。市中心，超方便！！！",
         "description": "走路去布莱德MRT3分钟，超级方便。楼下吃饭的食阁、便利店、水果店、理发店应有尽有。   Other things to note  沐浴露，洗发水，浴巾都有。 牙刷需要自己准备。 房子不可以大炒，…",
         "neighborhood_overview": "No Data",
         "host_since": "2019-02-24",
         "host_response_time": "a few days or more",
         "host_response_rate": 0,
         "host_acceptance_rate": "nan",
         "host_is_superhost": "f",
         "host_listings_count": 1,
         "host_has_profile_pic": "t",
         "host_identity_verified": "f",
         "neighbourhood": "No Data",
         "neighbourhood_cleansed": "Toa Payoh",
         "neighbourhood_group_cleansed": "Central Region",
         "latitude": 1.34,
         "longitude": 103.84396,
         "property_type": "Private room in condominium (condo)",
         "room_type": "Private room",
         "accommodates": 2,
         "bathrooms_text": "1.5 shared baths",
         "bedrooms": 1,
         "beds": 1,
         "amenities": "[\"Shampoo\", \"Essentials\", \"Hangers\", \"Long term stays allowed\", \"Washer\", \"Hair dryer\", \"Lock on be…",
         "price": 80,
         "minimum_nights": 5,
         "maximum_nights": 1125,
         "has_availability": "t",
         "availability_30": 0,
         "availability_60": 0,
         "availability_90": 0,
         "availability_365": 0,
         "number_of_reviews": 0,
         "number_of_reviews_ltm": 0,
         "number_of_reviews_l30d": 0,
         "review_scores_rating": 0,
         "review_scores_accuracy": 0,
         "review_scores_cleanliness": 0,
         "review_scores_checkin": 0,
         "review_scores_communication": 0,
         "review_scores_location": 0,
         "review_scores_value": 0,
         "instant_bookable": "t",
         "calculated_host_listings_count": 1,
         "amenities_str": "\"Shampoo\", \"Essentials\", \"Hangers\", \"Long term stays allowed\", \"Washer\", \"Hair dryer\", \"Lock on bed…",
         "dist_to_subway": 1.0764329401066026,
         "name_lang": "zh",
         "description_lang": "zh",
         "_deepnote_index_column": 1816
        },
        {
         "id": 36185551,
         "name": "李白曰",
         "description": "美丽的设计单位 没有早晨或下午太阳 步行至Pasir Ris地铁站 是在樟宜商业园或樟宜机场或东部工作的理想地点  家具齐全 租金包括1GBPS互联网和公用事业和每周清洁女佣。  和一个年轻的友好家…",
         "neighborhood_overview": "巴西立MRT nearby",
         "host_since": "2017-11-07",
         "host_response_time": "a few days or more",
         "host_response_rate": 0,
         "host_acceptance_rate": "nan",
         "host_is_superhost": "f",
         "host_listings_count": 3,
         "host_has_profile_pic": "t",
         "host_identity_verified": "t",
         "neighbourhood": "Singapore, Singapore",
         "neighbourhood_cleansed": "Pasir Ris",
         "neighbourhood_group_cleansed": "East Region",
         "latitude": 1.37129,
         "longitude": 103.9471,
         "property_type": "Private room in rental unit",
         "room_type": "Private room",
         "accommodates": 2,
         "bathrooms_text": "1 shared bath",
         "bedrooms": 1,
         "beds": 1,
         "amenities": "[\"Essentials\", \"Hangers\", \"Long term stays allowed\", \"Washer\", \"Hair dryer\", \"Lock on bedroom door\"…",
         "price": 49,
         "minimum_nights": 90,
         "maximum_nights": 365,
         "has_availability": "t",
         "availability_30": 29,
         "availability_60": 59,
         "availability_90": 89,
         "availability_365": 179,
         "number_of_reviews": 0,
         "number_of_reviews_ltm": 0,
         "number_of_reviews_l30d": 0,
         "review_scores_rating": 0,
         "review_scores_accuracy": 0,
         "review_scores_cleanliness": 0,
         "review_scores_checkin": 0,
         "review_scores_communication": 0,
         "review_scores_location": 0,
         "review_scores_value": 0,
         "instant_bookable": "t",
         "calculated_host_listings_count": 2,
         "amenities_str": "\"Essentials\", \"Hangers\", \"Long term stays allowed\", \"Washer\", \"Hair dryer\", \"Lock on bedroom door\",…",
         "dist_to_subway": 1.0807540346487785,
         "name_lang": "zh",
         "description_lang": "zh",
         "_deepnote_index_column": 1824
        },
        {
         "id": 37353696,
         "name": "度假公寓房",
         "description": "如果你喜欢大自然，这里是你在新加坡理想之地，武吉知马自然保护区和自然公园都能走到。环浇热带雨林，空气清新。地铁市区线到植物园11分钟，到市区15-25分钟。 生活便利，5-7分钟走去对面有餐厅，咖啡…",
         "neighborhood_overview": "No Data",
         "host_since": "2017-04-11",
         "host_response_time": "a few days or more",
         "host_response_rate": 12,
         "host_acceptance_rate": 40,
         "host_is_superhost": "f",
         "host_listings_count": 2,
         "host_has_profile_pic": "t",
         "host_identity_verified": "f",
         "neighbourhood": "No Data",
         "neighbourhood_cleansed": "Bukit Panjang",
         "neighbourhood_group_cleansed": "West Region",
         "latitude": 1.35519,
         "longitude": 103.76903,
         "property_type": "Private room in rental unit",
         "room_type": "Private room",
         "accommodates": 2,
         "bathrooms_text": "1 shared bath",
         "bedrooms": 1,
         "beds": 2,
         "amenities": "[\"Shampoo\", \"Essentials\", \"Hangers\", \"Bed linens\", \"Long term stays allowed\", \"Washer\", \"Elevator\",…",
         "price": 63,
         "minimum_nights": 10,
         "maximum_nights": 1125,
         "has_availability": "t",
         "availability_30": 30,
         "availability_60": 60,
         "availability_90": 90,
         "availability_365": 365,
         "number_of_reviews": 6,
         "number_of_reviews_ltm": 1,
         "number_of_reviews_l30d": 0,
         "review_scores_rating": 4.67,
         "review_scores_accuracy": 4.83,
         "review_scores_cleanliness": 4.83,
         "review_scores_checkin": 4.83,
         "review_scores_communication": 4.33,
         "review_scores_location": 4.33,
         "review_scores_value": 4.83,
         "instant_bookable": "f",
         "calculated_host_listings_count": 2,
         "amenities_str": "\"Shampoo\", \"Essentials\", \"Hangers\", \"Bed linens\", \"Long term stays allowed\", \"Washer\", \"Elevator\", …",
         "dist_to_subway": 0.8986195997420248,
         "name_lang": "ja",
         "description_lang": "zh",
         "_deepnote_index_column": 1885
        },
        {
         "id": 39158146,
         "name": "绿和园",
         "description": "独立房间25平方米，两张单人床，一个衣柜，一个空调，5-8分钟步行到裕廊东地铁站/公交总站。靠近JEM/WESTGATE/JCUBE/CPF BUILDING   The space  短期/长期均可",
         "neighborhood_overview": "靠近购物中心 JEM/WESTGATE/IMM/JCUBE; 靠近CPF 大楼和图书馆",
         "host_since": "2017-05-08",
         "host_response_time": "within a few hours",
         "host_response_rate": 75,
         "host_acceptance_rate": "nan",
         "host_is_superhost": "f",
         "host_listings_count": 0,
         "host_has_profile_pic": "t",
         "host_identity_verified": "f",
         "neighbourhood": "Singapore, Singapore",
         "neighbourhood_cleansed": "Jurong East",
         "neighbourhood_group_cleansed": "West Region",
         "latitude": 1.33358,
         "longitude": 103.73832,
         "property_type": "Private room in condominium (condo)",
         "room_type": "Private room",
         "accommodates": 1,
         "bathrooms_text": "1 bath",
         "bedrooms": 1,
         "beds": 2,
         "amenities": "[\"Hangers\", \"Long term stays allowed\", \"Washer\", \"Elevator\", \"Lock on bedroom door\", \"Wifi\", \"Air c…",
         "price": 65,
         "minimum_nights": 1,
         "maximum_nights": 365,
         "has_availability": "t",
         "availability_30": 16,
         "availability_60": 16,
         "availability_90": 24,
         "availability_365": 299,
         "number_of_reviews": 2,
         "number_of_reviews_ltm": 0,
         "number_of_reviews_l30d": 0,
         "review_scores_rating": 5,
         "review_scores_accuracy": 5,
         "review_scores_cleanliness": 5,
         "review_scores_checkin": 5,
         "review_scores_communication": 5,
         "review_scores_location": 5,
         "review_scores_value": 5,
         "instant_bookable": "f",
         "calculated_host_listings_count": 1,
         "amenities_str": "\"Hangers\", \"Long term stays allowed\", \"Washer\", \"Elevator\", \"Lock on bedroom door\", \"Wifi\", \"Air co…",
         "dist_to_subway": 0.5398550609554237,
         "name_lang": "zh",
         "description_lang": "zh",
         "_deepnote_index_column": 2038
        },
        {
         "id": 39308924,
         "name": "阿狸",
         "description": "舒适时尚的两室公寓位于新加坡芽笼中心，芽笼是一个饮食天堂，咖啡店、食阁和餐馆比比皆是，有各式佳肴、素食、补品、泰国菜式、北方饺子、南方点心、粤菜、潮州粥、福建菜、咖喱鱼头、油条豆酱、各种面食甜品应有…",
         "neighborhood_overview": "芽笼(Geylang)新加坡的一个社区，在新加坡金融区以东，位于新加坡河东部。芽笼是一个复杂的地区，它是一个庙宇多、会馆多、美食多、风月场所也多的地区。如果你愿意拨出一个周末到芽笼走走，可以感受到道…",
         "host_since": "2018-11-25",
         "host_response_time": "a few days or more",
         "host_response_rate": 10,
         "host_acceptance_rate": 100,
         "host_is_superhost": "f",
         "host_listings_count": 1,
         "host_has_profile_pic": "t",
         "host_identity_verified": "f",
         "neighbourhood": "Singapore, Singapore",
         "neighbourhood_cleansed": "Geylang",
         "neighbourhood_group_cleansed": "Central Region",
         "latitude": 1.317,
         "longitude": 103.8789,
         "property_type": "Entire rental unit",
         "room_type": "Entire home/apt",
         "accommodates": 5,
         "bathrooms_text": "1.5 baths",
         "bedrooms": 2,
         "beds": 3,
         "amenities": "[\"Hangers\", \"Cooking basics\", \"Washer\", \"Hair dryer\", \"Host greets you\", \"TV\", \"Pool\", \"Long term s…",
         "price": 160,
         "minimum_nights": 30,
         "maximum_nights": 1125,
         "has_availability": "t",
         "availability_30": 23,
         "availability_60": 53,
         "availability_90": 83,
         "availability_365": 174,
         "number_of_reviews": 30,
         "number_of_reviews_ltm": 0,
         "number_of_reviews_l30d": 0,
         "review_scores_rating": 4.7,
         "review_scores_accuracy": 4.97,
         "review_scores_cleanliness": 4.67,
         "review_scores_checkin": 4.77,
         "review_scores_communication": 4.77,
         "review_scores_location": 4.77,
         "review_scores_value": 4.7,
         "instant_bookable": "f",
         "calculated_host_listings_count": 1,
         "amenities_str": "\"Hangers\", \"Cooking basics\", \"Washer\", \"Hair dryer\", \"Host greets you\", \"TV\", \"Pool\", \"Long term st…",
         "dist_to_subway": 0.8597491214240498,
         "name_lang": "zh",
         "description_lang": "zh",
         "_deepnote_index_column": 2046
        },
        {
         "id": 40142529,
         "name": "暂时无法入住请不要看了",
         "description": "房子是在一个公寓里面的房间 位置在于新坡sengkang fernvale close   The space  自己的房子里面的一间   Guest access  全都可以使用   Other …",
         "neighborhood_overview": "fernvale close",
         "host_since": "2014-08-12",
         "host_response_time": "No Data",
         "host_response_rate": "nan",
         "host_acceptance_rate": "nan",
         "host_is_superhost": "f",
         "host_listings_count": 1,
         "host_has_profile_pic": "t",
         "host_identity_verified": "f",
         "neighbourhood": "Singapore, Singapore",
         "neighbourhood_cleansed": "Sengkang",
         "neighbourhood_group_cleansed": "North-East Region",
         "latitude": 1.39501,
         "longitude": 103.87866,
         "property_type": "Private room in rental unit",
         "room_type": "Private room",
         "accommodates": 1,
         "bathrooms_text": "1 shared bath",
         "bedrooms": 1,
         "beds": 1,
         "amenities": "[\"Essentials\", \"Security cameras on property\", \"Hangers\", \"Kitchen\", \"Washer\", \"Elevator\", \"Wifi\", …",
         "price": 220,
         "minimum_nights": 1,
         "maximum_nights": 1,
         "has_availability": "t",
         "availability_30": 23,
         "availability_60": 53,
         "availability_90": 83,
         "availability_365": 83,
         "number_of_reviews": 0,
         "number_of_reviews_ltm": 0,
         "number_of_reviews_l30d": 0,
         "review_scores_rating": 0,
         "review_scores_accuracy": 0,
         "review_scores_cleanliness": 0,
         "review_scores_checkin": 0,
         "review_scores_communication": 0,
         "review_scores_location": 0,
         "review_scores_value": 0,
         "instant_bookable": "f",
         "calculated_host_listings_count": 1,
         "amenities_str": "\"Essentials\", \"Security cameras on property\", \"Hangers\", \"Kitchen\", \"Washer\", \"Elevator\", \"Wifi\", \"…",
         "dist_to_subway": 0.3594095028418934,
         "name_lang": "zh",
         "description_lang": "zh",
         "_deepnote_index_column": 2107
        },
        {
         "id": 40723858,
         "name": "新加坡金沙酒店同款设计师精品公寓",
         "description": "这个房间装修别致交通便利，环境特别好，吃饭方便开心居住   The space  新加坡中部走路到地铁口五分钟吃饭购物都是很方便名校区   Guest access  游泳池烧烤BBQ网球场健身房 …",
         "neighborhood_overview": "新加坡繁华地区",
         "host_since": "2019-12-10",
         "host_response_time": "within an hour",
         "host_response_rate": 88,
         "host_acceptance_rate": 100,
         "host_is_superhost": "f",
         "host_listings_count": 2,
         "host_has_profile_pic": "t",
         "host_identity_verified": "t",
         "neighbourhood": "Singapore, Singapore",
         "neighbourhood_cleansed": "Bishan",
         "neighbourhood_group_cleansed": "Central Region",
         "latitude": 1.35222,
         "longitude": 103.84995,
         "property_type": "Private room in rental unit",
         "room_type": "Private room",
         "accommodates": 2,
         "bathrooms_text": "1.5 baths",
         "bedrooms": 1,
         "beds": 1,
         "amenities": "[\"Cleaning before checkout\", \"Hangers\", \"Bed linens\", \"Hot water kettle\", \"Coffee maker\", \"Cooking …",
         "price": 107,
         "minimum_nights": 10,
         "maximum_nights": 1125,
         "has_availability": "t",
         "availability_30": 25,
         "availability_60": 55,
         "availability_90": 85,
         "availability_365": 175,
         "number_of_reviews": 0,
         "number_of_reviews_ltm": 0,
         "number_of_reviews_l30d": 0,
         "review_scores_rating": 0,
         "review_scores_accuracy": 0,
         "review_scores_cleanliness": 0,
         "review_scores_checkin": 0,
         "review_scores_communication": 0,
         "review_scores_location": 0,
         "review_scores_value": 0,
         "instant_bookable": "f",
         "calculated_host_listings_count": 2,
         "amenities_str": "\"Cleaning before checkout\", \"Hangers\", \"Bed linens\", \"Hot water kettle\", \"Coffee maker\", \"Cooking b…",
         "dist_to_subway": 1.529830328350581,
         "name_lang": "zh",
         "description_lang": "zh",
         "_deepnote_index_column": 2181
        },
        {
         "id": 40752825,
         "name": "新加坡中部名校区金沙酒店同款设计师精典作品",
         "description": " The space  位于新加坡中部交通方便风景美丽，小区物业管理优秀，为碧山No1的公寓   License number  Authorised Serviced Apartment",
         "neighborhood_overview": "浪漫的东南亚公寓风格",
         "host_since": "2019-12-10",
         "host_response_time": "within an hour",
         "host_response_rate": 88,
         "host_acceptance_rate": 100,
         "host_is_superhost": "f",
         "host_listings_count": 2,
         "host_has_profile_pic": "t",
         "host_identity_verified": "t",
         "neighbourhood": "Singapore, Singapore",
         "neighbourhood_cleansed": "Bishan",
         "neighbourhood_group_cleansed": "Central Region",
         "latitude": 1.35209,
         "longitude": 103.85085,
         "property_type": "Private room in rental unit",
         "room_type": "Private room",
         "accommodates": 3,
         "bathrooms_text": "2.5 baths",
         "bedrooms": 2,
         "beds": 3,
         "amenities": "[\"Hangers\", \"Washer\", \"Hair dryer\", \"TV\", \"Dedicated workspace\", \"Pool\", \"Long term stays allowed\",…",
         "price": 118,
         "minimum_nights": 10,
         "maximum_nights": 1125,
         "has_availability": "t",
         "availability_30": 20,
         "availability_60": 50,
         "availability_90": 80,
         "availability_365": 170,
         "number_of_reviews": 0,
         "number_of_reviews_ltm": 0,
         "number_of_reviews_l30d": 0,
         "review_scores_rating": 0,
         "review_scores_accuracy": 0,
         "review_scores_cleanliness": 0,
         "review_scores_checkin": 0,
         "review_scores_communication": 0,
         "review_scores_location": 0,
         "review_scores_value": 0,
         "instant_bookable": "t",
         "calculated_host_listings_count": 2,
         "amenities_str": "\"Hangers\", \"Washer\", \"Hair dryer\", \"TV\", \"Dedicated workspace\", \"Pool\", \"Long term stays allowed\", …",
         "dist_to_subway": 1.4679462840681112,
         "name_lang": "zh",
         "description_lang": "zh",
         "_deepnote_index_column": 2188
        },
        {
         "id": 41112238,
         "name": "Zimmer nah der MRT (Downtown Line)",
         "description": "Das Zimmer befindet sich in einer Wohnanlage und bietet neben einem Super-Single Bett ein weiteres …",
         "neighborhood_overview": "Durch den Seiteneingang kommt man direkt zu einem beliebten Seafood Restaurant (im Freien) und ein …",
         "host_since": "2016-01-08",
         "host_response_time": "within a day",
         "host_response_rate": 100,
         "host_acceptance_rate": 100,
         "host_is_superhost": "t",
         "host_listings_count": 1,
         "host_has_profile_pic": "t",
         "host_identity_verified": "f",
         "neighbourhood": "Singapore, Singapore",
         "neighbourhood_cleansed": "Bukit Panjang",
         "neighbourhood_group_cleansed": "West Region",
         "latitude": 1.37214,
         "longitude": 103.76667,
         "property_type": "Private room in condominium (condo)",
         "room_type": "Private room",
         "accommodates": 2,
         "bathrooms_text": "1 bath",
         "bedrooms": 1,
         "beds": 2,
         "amenities": "[\"Hangers\", \"Bed linens\", \"Washer\", \"Carbon monoxide alarm\", \"Hair dryer\", \"Clothing storage\", \"Hos…",
         "price": 49,
         "minimum_nights": 92,
         "maximum_nights": 1125,
         "has_availability": "t",
         "availability_30": 11,
         "availability_60": 41,
         "availability_90": 71,
         "availability_365": 161,
         "number_of_reviews": 3,
         "number_of_reviews_ltm": 2,
         "number_of_reviews_l30d": 0,
         "review_scores_rating": 5,
         "review_scores_accuracy": 5,
         "review_scores_cleanliness": 5,
         "review_scores_checkin": 5,
         "review_scores_communication": 5,
         "review_scores_location": 4.67,
         "review_scores_value": 5,
         "instant_bookable": "f",
         "calculated_host_listings_count": 1,
         "amenities_str": "\"Hangers\", \"Bed linens\", \"Washer\", \"Carbon monoxide alarm\", \"Hair dryer\", \"Clothing storage\", \"Host…",
         "dist_to_subway": 0.2984976802870186,
         "name_lang": "de",
         "description_lang": "de",
         "_deepnote_index_column": 2250
        },
        {
         "id": 41610819,
         "name": "会让你感觉到自己家一样的舒适",
         "description": " The space  公寓式房子  楼下有  免费提供…健身房…汗蒸房  泳池 很方便  旁边24小时超市🏪   Guest access  独立卫生间和房间   厨房客厅共用   Other t…",
         "neighborhood_overview": "No Data",
         "host_since": "2020-01-16",
         "host_response_time": "a few days or more",
         "host_response_rate": 0,
         "host_acceptance_rate": 0,
         "host_is_superhost": "f",
         "host_listings_count": 1,
         "host_has_profile_pic": "t",
         "host_identity_verified": "f",
         "neighbourhood": "No Data",
         "neighbourhood_cleansed": "Woodlands",
         "neighbourhood_group_cleansed": "North Region",
         "latitude": 1.44372,
         "longitude": 103.80708,
         "property_type": "Private room in rental unit",
         "room_type": "Private room",
         "accommodates": 2,
         "bathrooms_text": "1 private bath",
         "bedrooms": 1,
         "beds": 1,
         "amenities": "[\"Shampoo\", \"Essentials\", \"Hangers\", \"Kitchen\", \"Long term stays allowed\", \"Washer\", \"Hair dryer\", …",
         "price": 113,
         "minimum_nights": 1,
         "maximum_nights": 1125,
         "has_availability": "t",
         "availability_30": 23,
         "availability_60": 53,
         "availability_90": 83,
         "availability_365": 358,
         "number_of_reviews": 0,
         "number_of_reviews_ltm": 0,
         "number_of_reviews_l30d": 0,
         "review_scores_rating": 0,
         "review_scores_accuracy": 0,
         "review_scores_cleanliness": 0,
         "review_scores_checkin": 0,
         "review_scores_communication": 0,
         "review_scores_location": 0,
         "review_scores_value": 0,
         "instant_bookable": "t",
         "calculated_host_listings_count": 1,
         "amenities_str": "\"Shampoo\", \"Essentials\", \"Hangers\", \"Kitchen\", \"Long term stays allowed\", \"Washer\", \"Hair dryer\", \"…",
         "dist_to_subway": 0.3570887543113746,
         "name_lang": "zh",
         "description_lang": "zh",
         "_deepnote_index_column": 2303
        },
        {
         "id": 44255450,
         "name": "近市区CBD 豪华公寓一房一卫",
         "description": "豪华公寓 有泳池健身房 走路2分钟有便利店 5分钟可以到中山公园 大型商场 附近有许多餐厅 生活便利 靠近Novena 地铁站",
         "neighborhood_overview": "靠近Novena地铁站 旁边有中山公园， 去市区很便利 环境优美 不二之选",
         "host_since": "2017-12-17",
         "host_response_time": "a few days or more",
         "host_response_rate": 0,
         "host_acceptance_rate": "nan",
         "host_is_superhost": "f",
         "host_listings_count": 1,
         "host_has_profile_pic": "t",
         "host_identity_verified": "f",
         "neighbourhood": "Singapore, Singapore",
         "neighbourhood_cleansed": "Novena",
         "neighbourhood_group_cleansed": "Central Region",
         "latitude": 1.32899,
         "longitude": 103.84263,
         "property_type": "Entire condominium (condo)",
         "room_type": "Entire home/apt",
         "accommodates": 4,
         "bathrooms_text": "1 bath",
         "bedrooms": 1,
         "beds": 2,
         "amenities": "[\"Shampoo\", \"Essentials\", \"Hangers\", \"Kitchen\", \"Long term stays allowed\", \"Washer\", \"Private entra…",
         "price": 113,
         "minimum_nights": 90,
         "maximum_nights": 1125,
         "has_availability": "t",
         "availability_30": 30,
         "availability_60": 60,
         "availability_90": 90,
         "availability_365": 91,
         "number_of_reviews": 0,
         "number_of_reviews_ltm": 0,
         "number_of_reviews_l30d": 0,
         "review_scores_rating": 0,
         "review_scores_accuracy": 0,
         "review_scores_cleanliness": 0,
         "review_scores_checkin": 0,
         "review_scores_communication": 0,
         "review_scores_location": 0,
         "review_scores_value": 0,
         "instant_bookable": "t",
         "calculated_host_listings_count": 1,
         "amenities_str": "\"Shampoo\", \"Essentials\", \"Hangers\", \"Kitchen\", \"Long term stays allowed\", \"Washer\", \"Private entran…",
         "dist_to_subway": 0.8120438506442189,
         "name_lang": "ja",
         "description_lang": "zh",
         "_deepnote_index_column": 2575
        },
        {
         "id": 47295571,
         "name": "舒适小屋！快捷方便。",
         "description": "屋内: 床衣柜，学习桌，空调，电扇全部都有。 屋外: 洗衣间，全自动晾衣架，洗手间。 厨房: 电磁炉，电烤箱，微波炉，冰箱，基本操作全部都可以",
         "neighborhood_overview": "诺维娜地铁站步行15分。 公交车，131. 141. 56. 57. 166. 851. 980 超市，食阁等小商店步行10分钟全部包含！",
         "host_since": "2020-02-19",
         "host_response_time": "within an hour",
         "host_response_rate": 92,
         "host_acceptance_rate": 100,
         "host_is_superhost": "f",
         "host_listings_count": 1,
         "host_has_profile_pic": "t",
         "host_identity_verified": "t",
         "neighbourhood": "Singapore, Singapore",
         "neighbourhood_cleansed": "Kallang",
         "neighbourhood_group_cleansed": "Central Region",
         "latitude": 1.3145,
         "longitude": 103.84687,
         "property_type": "Private room in rental unit",
         "room_type": "Private room",
         "accommodates": 1,
         "bathrooms_text": "1 shared bath",
         "bedrooms": 1,
         "beds": 1,
         "amenities": "[\"Essentials\", \"Hangers\", \"Kitchen\", \"Long term stays allowed\", \"Washer\", \"Carbon monoxide alarm\", …",
         "price": 82,
         "minimum_nights": 1,
         "maximum_nights": 365,
         "has_availability": "t",
         "availability_30": 24,
         "availability_60": 54,
         "availability_90": 84,
         "availability_365": 359,
         "number_of_reviews": 0,
         "number_of_reviews_ltm": 0,
         "number_of_reviews_l30d": 0,
         "review_scores_rating": 0,
         "review_scores_accuracy": 0,
         "review_scores_cleanliness": 0,
         "review_scores_checkin": 0,
         "review_scores_communication": 0,
         "review_scores_location": 0,
         "review_scores_value": 0,
         "instant_bookable": "f",
         "calculated_host_listings_count": 1,
         "amenities_str": "\"Essentials\", \"Hangers\", \"Kitchen\", \"Long term stays allowed\", \"Washer\", \"Carbon monoxide alarm\", \"…",
         "dist_to_subway": 0.5829619842193209,
         "name_lang": "ja",
         "description_lang": "zh",
         "_deepnote_index_column": 2738
        },
        {
         "id": 49209267,
         "name": "新公寓普通房长期出租，付款前先发信息咨询，可能和屋主同住",
         "description": "公共设施 俱乐部 • 水景 • 健身房 • 桑拿房 • 停车场 • 户外用餐 • 欢乐池 • 多功能厅 • 凉亭 • 游泳池 • 浅水池 • 水力按摩池 • 玩乐场 • 健身角 • 保安 • 窄长泳…",
         "neighborhood_overview": "maybe stay with owner",
         "host_since": "2018-07-04",
         "host_response_time": "a few days or more",
         "host_response_rate": 0,
         "host_acceptance_rate": 29,
         "host_is_superhost": "f",
         "host_listings_count": 0,
         "host_has_profile_pic": "t",
         "host_identity_verified": "t",
         "neighbourhood": "Singapore, Singapore",
         "neighbourhood_cleansed": "Hougang",
         "neighbourhood_group_cleansed": "North-East Region",
         "latitude": 1.37364,
         "longitude": 103.90219,
         "property_type": "Private room in condominium (condo)",
         "room_type": "Private room",
         "accommodates": 1,
         "bathrooms_text": "1 bath",
         "bedrooms": 1,
         "beds": 1,
         "amenities": "[\"Shampoo\", \"Bed linens\", \"Long term stays allowed\", \"Washer\", \"Outdoor dining area\", \"Hair dryer\",…",
         "price": 62,
         "minimum_nights": 1,
         "maximum_nights": 1125,
         "has_availability": "t",
         "availability_30": 11,
         "availability_60": 41,
         "availability_90": 71,
         "availability_365": 71,
         "number_of_reviews": 1,
         "number_of_reviews_ltm": 1,
         "number_of_reviews_l30d": 0,
         "review_scores_rating": 5,
         "review_scores_accuracy": 5,
         "review_scores_cleanliness": 5,
         "review_scores_checkin": 5,
         "review_scores_communication": 5,
         "review_scores_location": 5,
         "review_scores_value": 5,
         "instant_bookable": "f",
         "calculated_host_listings_count": 1,
         "amenities_str": "\"Shampoo\", \"Bed linens\", \"Long term stays allowed\", \"Washer\", \"Outdoor dining area\", \"Hair dryer\", …",
         "dist_to_subway": 0.7945106325682209,
         "name_lang": "zh",
         "description_lang": "zh",
         "_deepnote_index_column": 2806
        },
        {
         "id": 50707898,
         "name": "新加坡市中心 SGClean apartment 现代服务式公寓 | 配备齐全 | 靠近百胜地铁站",
         "description": "享受都市生活和无与伦比的便利住在悠邸服务式公寓. 位于新加坡市中心，我们的服务式公寓适合短期和长期住宿. 购物商场，超级市场, 新加坡优美景点在步行距离之内. 百胜和武吉士和政府大厦地铁站介于三到五…",
         "neighborhood_overview": "我们的公寓四周环绕着大型购物中心，博物馆和餐饮场所，可让您在新加坡步行范围内最便捷地前往各个名胜古迹。 距离3个地铁站，即Bugis，Bras basah和Cityhall站只有数分钟的路程，您可以…",
         "host_since": "2017-08-29",
         "host_response_time": "within an hour",
         "host_response_rate": 100,
         "host_acceptance_rate": 99,
         "host_is_superhost": "t",
         "host_listings_count": 10,
         "host_has_profile_pic": "t",
         "host_identity_verified": "t",
         "neighbourhood": "Singapore, Singapore",
         "neighbourhood_cleansed": "Rochor",
         "neighbourhood_group_cleansed": "Central Region",
         "latitude": 1.29889,
         "longitude": 103.85178,
         "property_type": "Entire serviced apartment",
         "room_type": "Entire home/apt",
         "accommodates": 2,
         "bathrooms_text": "1 bath",
         "bedrooms": 1,
         "beds": 1,
         "amenities": "[\"Bidet\", \"Safe\", \"Backyard\", \"Cleaning before checkout\", \"Hangers\", \"Bed linens\", \"Hot water kettl…",
         "price": 155,
         "minimum_nights": 6,
         "maximum_nights": 90,
         "has_availability": "t",
         "availability_30": 0,
         "availability_60": 0,
         "availability_90": 0,
         "availability_365": 0,
         "number_of_reviews": 1,
         "number_of_reviews_ltm": 1,
         "number_of_reviews_l30d": 1,
         "review_scores_rating": 5,
         "review_scores_accuracy": 5,
         "review_scores_cleanliness": 5,
         "review_scores_checkin": 5,
         "review_scores_communication": 5,
         "review_scores_location": 5,
         "review_scores_value": 5,
         "instant_bookable": "t",
         "calculated_host_listings_count": 30,
         "amenities_str": "\"Bidet\", \"Safe\", \"Backyard\", \"Cleaning before checkout\", \"Hangers\", \"Bed linens\", \"Hot water kettle…",
         "dist_to_subway": 0.1670679636630379,
         "name_lang": "zh",
         "description_lang": "zh",
         "_deepnote_index_column": 2856
        },
        {
         "id": 50737006,
         "name": "SG Serviced Apartment | 悠邸服务式公寓 | 位于市中心 | 步行3分钟到地铁",
         "description": "享受都市生活和无与伦比的便利住在悠邸服务式公寓. 位于新加坡市中心，我们的服务式公寓适合短期和长期住宿. 购物商场，超级市场, 新加坡优美景点在步行距离之内. 百胜和武吉士和政府大厦地铁站介于三到五…",
         "neighborhood_overview": "我们的公寓四周环绕着大型购物中心，博物馆和餐饮场所，可让您在新加坡步行范围内最便捷地前往各个名胜古迹。 距离3个地铁站，即Bugis，Bras basah和Cityhall站只有数分钟的路程，您可以…",
         "host_since": "2017-08-29",
         "host_response_time": "within an hour",
         "host_response_rate": 100,
         "host_acceptance_rate": 99,
         "host_is_superhost": "t",
         "host_listings_count": 10,
         "host_has_profile_pic": "t",
         "host_identity_verified": "t",
         "neighbourhood": "Singapore, Singapore",
         "neighbourhood_cleansed": "Rochor",
         "neighbourhood_group_cleansed": "Central Region",
         "latitude": 1.29726,
         "longitude": 103.85199,
         "property_type": "Entire serviced apartment",
         "room_type": "Entire home/apt",
         "accommodates": 2,
         "bathrooms_text": "1 bath",
         "bedrooms": 1,
         "beds": 1,
         "amenities": "[\"Cleaning before checkout\", \"Hangers\", \"Bed linens\", \"Cooking basics\", \"Washer\", \"Single level hom…",
         "price": 135,
         "minimum_nights": 6,
         "maximum_nights": 90,
         "has_availability": "t",
         "availability_30": 9,
         "availability_60": 9,
         "availability_90": 9,
         "availability_365": 10,
         "number_of_reviews": 4,
         "number_of_reviews_ltm": 4,
         "number_of_reviews_l30d": 1,
         "review_scores_rating": 5,
         "review_scores_accuracy": 5,
         "review_scores_cleanliness": 5,
         "review_scores_checkin": 5,
         "review_scores_communication": 5,
         "review_scores_location": 5,
         "review_scores_value": 5,
         "instant_bookable": "t",
         "calculated_host_listings_count": 30,
         "amenities_str": "\"Cleaning before checkout\", \"Hangers\", \"Bed linens\", \"Cooking basics\", \"Washer\", \"Single level home…",
         "dist_to_subway": 0.2964921672452844,
         "name_lang": "zh",
         "description_lang": "zh",
         "_deepnote_index_column": 2864
        },
        {
         "id": 50823263,
         "name": "Cosy Clean Studio 物有所值优质服务式公寓 | 完美住宿 | 免费家政服务和无线网",
         "description": "享受都市生活和无与伦比的便利住在悠邸服务式公寓. 位于新加坡市中心，我们的服务式公寓适合短期和长期住宿. 购物商场，超级市场, 新加坡优美景点在步行距离之内. 百胜和武吉士和政府大厦地铁站介于三到五…",
         "neighborhood_overview": "我们的公寓四周环绕着大型购物中心，博物馆和餐饮场所，可让您在新加坡步行范围内最便捷地前往各个名胜古迹。 距离3个地铁站，即Bugis，Bras basah和Cityhall站只有数分钟的路程，您可以…",
         "host_since": "2017-08-29",
         "host_response_time": "within an hour",
         "host_response_rate": 100,
         "host_acceptance_rate": 99,
         "host_is_superhost": "t",
         "host_listings_count": 10,
         "host_has_profile_pic": "t",
         "host_identity_verified": "t",
         "neighbourhood": "Singapore, Singapore",
         "neighbourhood_cleansed": "Downtown Core",
         "neighbourhood_group_cleansed": "Central Region",
         "latitude": 1.29692,
         "longitude": 103.85279,
         "property_type": "Entire serviced apartment",
         "room_type": "Entire home/apt",
         "accommodates": 2,
         "bathrooms_text": "1 bath",
         "bedrooms": 1,
         "beds": 1,
         "amenities": "[\"Bidet\", \"Safe\", \"Backyard\", \"Hangers\", \"Bed linens\", \"Hot water kettle\", \"Freezer\", \"Coffee maker…",
         "price": 155,
         "minimum_nights": 6,
         "maximum_nights": 90,
         "has_availability": "t",
         "availability_30": 11,
         "availability_60": 41,
         "availability_90": 71,
         "availability_365": 77,
         "number_of_reviews": 0,
         "number_of_reviews_ltm": 0,
         "number_of_reviews_l30d": 0,
         "review_scores_rating": 0,
         "review_scores_accuracy": 0,
         "review_scores_cleanliness": 0,
         "review_scores_checkin": 0,
         "review_scores_communication": 0,
         "review_scores_location": 0,
         "review_scores_value": 0,
         "instant_bookable": "t",
         "calculated_host_listings_count": 30,
         "amenities_str": "\"Bidet\", \"Safe\", \"Backyard\", \"Hangers\", \"Bed linens\", \"Hot water kettle\", \"Freezer\", \"Coffee maker\"…",
         "dist_to_subway": 0.3840100662085497,
         "name_lang": "zh",
         "description_lang": "zh",
         "_deepnote_index_column": 2871
        },
        {
         "id": 50823476,
         "name": "SG Clean Studio 舒适宽敞干净平静服务式公寓带有城市景观 | 免费无线网络和家政服务",
         "description": "享受都市生活和无与伦比的便利住在悠邸服务式公寓. 位于新加坡市中心，我们的服务式公寓适合短期和长期住宿. 购物商场，超级市场, 新加坡优美景点在步行距离之内. 百胜和武吉士和政府大厦地铁站介于三到五…",
         "neighborhood_overview": "我们的公寓四周环绕着大型购物中心，博物馆和餐饮场所，可让您在新加坡步行范围内最便捷地前往各个名胜古迹。 距离3个地铁站，即Bugis，Bras basah和Cityhall站只有数分钟的路程，您可以…",
         "host_since": "2017-08-29",
         "host_response_time": "within an hour",
         "host_response_rate": 100,
         "host_acceptance_rate": 99,
         "host_is_superhost": "t",
         "host_listings_count": 10,
         "host_has_profile_pic": "t",
         "host_identity_verified": "t",
         "neighbourhood": "Singapore, Singapore",
         "neighbourhood_cleansed": "Rochor",
         "neighbourhood_group_cleansed": "Central Region",
         "latitude": 1.29888,
         "longitude": 103.85315,
         "property_type": "Entire serviced apartment",
         "room_type": "Entire home/apt",
         "accommodates": 2,
         "bathrooms_text": "1 bath",
         "bedrooms": 1,
         "beds": 1,
         "amenities": "[\"Cleaning before checkout\", \"Backyard\", \"Hangers\", \"Bed linens\", \"Coffee maker\", \"Cooking basics\",…",
         "price": 201,
         "minimum_nights": 6,
         "maximum_nights": 90,
         "has_availability": "t",
         "availability_30": 0,
         "availability_60": 23,
         "availability_90": 28,
         "availability_365": 28,
         "number_of_reviews": 0,
         "number_of_reviews_ltm": 0,
         "number_of_reviews_l30d": 0,
         "review_scores_rating": 0,
         "review_scores_accuracy": 0,
         "review_scores_cleanliness": 0,
         "review_scores_checkin": 0,
         "review_scores_communication": 0,
         "review_scores_location": 0,
         "review_scores_value": 0,
         "instant_bookable": "t",
         "calculated_host_listings_count": 30,
         "amenities_str": "\"Cleaning before checkout\", \"Backyard\", \"Hangers\", \"Bed linens\", \"Coffee maker\", \"Cooking basics\", …",
         "dist_to_subway": 0.3093344603414982,
         "name_lang": "nds",
         "description_lang": "zh",
         "_deepnote_index_column": 2872
        },
        {
         "id": 50823783,
         "name": "Modern Spacious 拥有城市景观 | 配备高速互联网适合居家办公 | 悠邸服务式公寓",
         "description": "享受都市生活和无与伦比的便利住在悠邸服务式公寓. 位于新加坡市中心，我们的服务式公寓适合短期和长期住宿. 购物商场，超级市场, 新加坡优美景点在步行距离之内. 百胜和武吉士和政府大厦地铁站介于三到五…",
         "neighborhood_overview": "我们的公寓四周环绕着大型购物中心，博物馆和餐饮场所，可让您在新加坡步行范围内最便捷地前往各个名胜古迹。 距离3个地铁站，即Bugis，Bras basah和Cityhall站只有数分钟的路程，您可以…",
         "host_since": "2017-08-29",
         "host_response_time": "within an hour",
         "host_response_rate": 100,
         "host_acceptance_rate": 99,
         "host_is_superhost": "t",
         "host_listings_count": 10,
         "host_has_profile_pic": "t",
         "host_identity_verified": "t",
         "neighbourhood": "Singapore, Singapore",
         "neighbourhood_cleansed": "Rochor",
         "neighbourhood_group_cleansed": "Central Region",
         "latitude": 1.29686,
         "longitude": 103.85213,
         "property_type": "Entire serviced apartment",
         "room_type": "Entire home/apt",
         "accommodates": 2,
         "bathrooms_text": "1 bath",
         "bedrooms": 1,
         "beds": 1,
         "amenities": "[\"Cleaning before checkout\", \"Backyard\", \"Hangers\", \"Bed linens\", \"Coffee maker\", \"Cooking basics\",…",
         "price": 195,
         "minimum_nights": 6,
         "maximum_nights": 90,
         "has_availability": "t",
         "availability_30": 0,
         "availability_60": 23,
         "availability_90": 53,
         "availability_365": 59,
         "number_of_reviews": 0,
         "number_of_reviews_ltm": 0,
         "number_of_reviews_l30d": 0,
         "review_scores_rating": 0,
         "review_scores_accuracy": 0,
         "review_scores_cleanliness": 0,
         "review_scores_checkin": 0,
         "review_scores_communication": 0,
         "review_scores_location": 0,
         "review_scores_value": 0,
         "instant_bookable": "t",
         "calculated_host_listings_count": 30,
         "amenities_str": "\"Cleaning before checkout\", \"Backyard\", \"Hangers\", \"Bed linens\", \"Coffee maker\", \"Cooking basics\", …",
         "dist_to_subway": 0.3364625987073696,
         "name_lang": "zh",
         "description_lang": "zh",
         "_deepnote_index_column": 2873
        },
        {
         "id": 52216017,
         "name": "新加坡圣淘沙逸豪酒店特价预定",
         "description": "下单之前需要先联系我们，各种房型都有。",
         "neighborhood_overview": "圣淘沙。",
         "host_since": "2020-08-06",
         "host_response_time": "within an hour",
         "host_response_rate": 100,
         "host_acceptance_rate": 96,
         "host_is_superhost": "t",
         "host_listings_count": 5,
         "host_has_profile_pic": "t",
         "host_identity_verified": "t",
         "neighbourhood": "Singapore, Singapore",
         "neighbourhood_cleansed": "Southern Islands",
         "neighbourhood_group_cleansed": "Central Region",
         "latitude": 1.25807,
         "longitude": 103.81952,
         "property_type": "Room in hotel",
         "room_type": "Private room",
         "accommodates": 2,
         "bathrooms_text": "No Data",
         "bedrooms": 1,
         "beds": 1,
         "amenities": "[\"Shampoo\", \"Essentials\", \"Long term stays allowed\", \"Hair dryer\", \"Wifi\", \"Hot water\", \"TV\", \"Air …",
         "price": 596,
         "minimum_nights": 2,
         "maximum_nights": 1125,
         "has_availability": "t",
         "availability_30": 27,
         "availability_60": 57,
         "availability_90": 87,
         "availability_365": 87,
         "number_of_reviews": 0,
         "number_of_reviews_ltm": 0,
         "number_of_reviews_l30d": 0,
         "review_scores_rating": 0,
         "review_scores_accuracy": 0,
         "review_scores_cleanliness": 0,
         "review_scores_checkin": 0,
         "review_scores_communication": 0,
         "review_scores_location": 0,
         "review_scores_value": 0,
         "instant_bookable": "f",
         "calculated_host_listings_count": 7,
         "amenities_str": "\"Shampoo\", \"Essentials\", \"Long term stays allowed\", \"Hair dryer\", \"Wifi\", \"Hot water\", \"TV\", \"Air c…",
         "dist_to_subway": 0.6605348600045131,
         "name_lang": "zh",
         "description_lang": "zh",
         "_deepnote_index_column": 2973
        }
       ]
      },
      "text/plain": "            id                                               name  \\\n123    4640273                                    索美赛River Valley   \n209    6663672                                    新加坡传统祖屋 客厅大 通风好   \n325    8957363                          Blk 210 Bukit Batok St 21   \n343    9282668                  COMFORTABLE SUITE WITH A VIEW.(2)   \n411   10936529                出租夫妻房长期居住每月新币700，有意者请拨新加坡号码81370968   \n414   11126190                           FAMILY-FRIENDLY EN-SUITE   \n426   11442336                                        文庆地铁站全新公寓出租   \n478   12583148                  geylang 14 主人房 master room1300sgd   \n488   12815967                         阿裕尼公寓普通房急需女搭房一名联系人:郑小姐 电话：   \n525   13540021                                      Boonlay MRT 1   \n631   15722252                                           夏威夷式度假公寓   \n636   15765810                                      无中介，主卧招租，地段极佳   \n655   15978100                      清幽宁静、整洁干净的公寓房间。包水电网煮饭游泳桑拿健身房。   \n893   20774506  SPACIOUS  MASTER-SUITE-ROOM  WITH  KING-SIZED BED   \n894   20774607  PRIVATE COSY ROOM FOR  BASIC SINGLE OR COUPLE !!!   \n1062  23211763                               善美 之家 Niven road 9号房   \n1063  23245969                          善美 之家 Niven road Afour 号房   \n1068  23285759                                         Wilkie 3号房   \n1245  25768720                                          test test   \n1554  32031648  市中心1分钟地铁海景房周边设施全1min MRT CBD high flr seaview ...   \n1816  36054582               红线NS18，步行3分钟到braddell MRT。市中心，超方便！！！   \n1824  36185551                                                李白曰   \n1885  37353696                                              度假公寓房   \n2038  39158146                                                绿和园   \n2046  39308924                                                 阿狸   \n2107  40142529                                        暂时无法入住请不要看了   \n2181  40723858                                   新加坡金沙酒店同款设计师精品公寓   \n2188  40752825                              新加坡中部名校区金沙酒店同款设计师精典作品   \n2250  41112238                 Zimmer nah der MRT (Downtown Line)   \n2303  41610819                                     会让你感觉到自己家一样的舒适   \n2575  44255450                                    近市区CBD 豪华公寓一房一卫   \n2738  47295571                                         舒适小屋！快捷方便。   \n2806  49209267                       新公寓普通房长期出租，付款前先发信息咨询，可能和屋主同住   \n2856  50707898  新加坡市中心 SGClean apartment 现代服务式公寓 | 配备齐全 | 靠近百胜地铁站   \n2864  50737006  SG Serviced Apartment | 悠邸服务式公寓 | 位于市中心 | 步行3分...   \n2871  50823263  Cosy Clean Studio 物有所值优质服务式公寓 | 完美住宿 | 免费家政服务和无线网   \n2872  50823476  SG Clean Studio 舒适宽敞干净平静服务式公寓带有城市景观 | 免费无线网络和家政服务   \n2873  50823783   Modern Spacious 拥有城市景观 | 配备高速互联网适合居家办公 | 悠邸服务式公寓   \n2973  52216017                                     新加坡圣淘沙逸豪酒店特价预定   \n\n                                            description  \\\n123   索美赛River Valley，泳池公寓小主人房出租！超快无线网 空调洗衣机厨房可煮。公车站...   \n209                     有空调 有wifi 近bus 近地铁 近吃饭的地方 明亮 干净   \n325   Blk 210 Bukit Batok St 21,nearby MRT,Coffee Sh...   \n343   PEACEFUL, TRANQUIL ENVIRONMENTAL SURROUNDINGS ...   \n411                                            环境好,出行方便   \n414   THIS AMAZING. FAMILY-FRIENDLY SUITE COMES WITH...   \n426   地铁站旁全新公寓，距离CBD地铁四站路，交通生活便利，一房一厅位于高层，景观无敌，前后没遮挡...   \n478   geylang14巷 主人房出租 1个人1300 2个人1400 包水电网 空调 床（可以换...   \n488   阿裕尼高级公寓普通房寻求女搭房 450／月，包水电网，拎包即可入住（冰箱，洗衣机，微波炉，热...   \n525   我的房源靠近夜生活和公共交通。因为户外空间、街区、氛围,您一定会爱上我的房源。我的房源适合孤...   \n631   位置 : 五分钟步行到海边。十分钟车程到机场。十五分钟公共交通到市区。 活动:户外活动及各球...   \n636   我的房源靠近临近大巴窑MRT，附近各种便利超市食阁，方便采购。因为地段、户外空间、景观，您一...   \n655   宾至如归,房间整洁舒适,设施齐全,交通便利!出家门一分钟就到巴士站,多趟巴士直通全岛。如果坐...   \n893   LARGE, SPACIOUS  MASTER-SUITE-ROOM  WITH  KING...   \n894   PRIVATE, COSY BEDROOM FOR THE QUIET, PRIVATE, ...   \n1062  房间有冷气，全新床，床单，床头柜，有大衣柜，两个人共用一个洗手间和洗衣机，有独立小冰箱，走路...   \n1063  房间内有大衣柜，大床，小冰箱，桌子椅子，Wi-Fi，距离小印度地铁站约300米，距离乌节路，...   \n1068  房间地点在市区,房间内有1.5/1.8米新床,床头柜,书桌,椅子,衣柜,冷气,风扇,走路5分...   \n1245                                               test   \n1554  -spacious and newly decorated 2 BR 2bathroom a...   \n1816  走路去布莱德MRT3分钟，超级方便。楼下吃饭的食阁、便利店、水果店、理发店应有尽有。   O...   \n1824  美丽的设计单位 没有早晨或下午太阳 步行至Pasir Ris地铁站 是在樟宜商业园或樟宜机场...   \n1885  如果你喜欢大自然，这里是你在新加坡理想之地，武吉知马自然保护区和自然公园都能走到。环浇热带雨...   \n2038  独立房间25平方米，两张单人床，一个衣柜，一个空调，5-8分钟步行到裕廊东地铁站/公交总站。...   \n2046  舒适时尚的两室公寓位于新加坡芽笼中心，芽笼是一个饮食天堂，咖啡店、食阁和餐馆比比皆是，有各式...   \n2107  房子是在一个公寓里面的房间 位置在于新坡sengkang fernvale close   ...   \n2181  这个房间装修别致交通便利，环境特别好，吃饭方便开心居住   The space  新加坡中部...   \n2188   The space  位于新加坡中部交通方便风景美丽，小区物业管理优秀，为碧山No1的公寓...   \n2250  Das Zimmer befindet sich in einer Wohnanlage u...   \n2303   The space  公寓式房子  楼下有  免费提供…健身房…汗蒸房  泳池 很方便  ...   \n2575  豪华公寓 有泳池健身房 走路2分钟有便利店 5分钟可以到中山公园 大型商场 附近有许多餐厅 ...   \n2738  屋内: 床衣柜，学习桌，空调，电扇全部都有。 屋外: 洗衣间，全自动晾衣架，洗手间。 厨房:...   \n2806  公共设施 俱乐部 • 水景 • 健身房 • 桑拿房 • 停车场 • 户外用餐 • 欢乐池 •...   \n2856  享受都市生活和无与伦比的便利住在悠邸服务式公寓. 位于新加坡市中心，我们的服务式公寓适合短期...   \n2864  享受都市生活和无与伦比的便利住在悠邸服务式公寓. 位于新加坡市中心，我们的服务式公寓适合短期...   \n2871  享受都市生活和无与伦比的便利住在悠邸服务式公寓. 位于新加坡市中心，我们的服务式公寓适合短期...   \n2872  享受都市生活和无与伦比的便利住在悠邸服务式公寓. 位于新加坡市中心，我们的服务式公寓适合短期...   \n2873  享受都市生活和无与伦比的便利住在悠邸服务式公寓. 位于新加坡市中心，我们的服务式公寓适合短期...   \n2973                                下单之前需要先联系我们，各种房型都有。   \n\n                                  neighborhood_overview  host_since  \\\n123                                             No Data  2014-11-22   \n209                                             No Data  2015-04-22   \n325                                             No Data  2015-10-18   \n343                                             No Data  2015-06-05   \n411                                             No Data  2016-01-30   \n414                                             No Data  2016-02-07   \n426                                           距离地铁站100米  2016-02-23   \n478                                             No Data  2015-11-07   \n488                                             No Data  2016-05-02   \n525                                             No Data  2015-12-16   \n631                                             No Data  2015-03-10   \n636                                             No Data  2016-10-31   \n655        我家位于新加坡的东部。从樟宜机场只需10分钟车程。步行东海岸只需15分钟，是步行哦！！！  2016-11-07   \n893                                             No Data  2017-09-02   \n894                                             No Data  2017-09-02   \n1062                                            No Data  2018-01-28   \n1063                                            No Data  2018-01-28   \n1068  市区，距离乌节路走路10分钟，距离小印度地铁站3分钟，距离乌节路多美歌地铁站步行8分钟，距离...  2018-01-28   \n1245                                            No Data  2013-11-27   \n1554  There are 24-hour convenience stores and Japan...  2018-12-03   \n1816                                            No Data  2019-02-24   \n1824                                      巴西立MRT nearby  2017-11-07   \n1885                                            No Data  2017-04-11   \n2038        靠近购物中心 JEM/WESTGATE/IMM/JCUBE; 靠近CPF 大楼和图书馆  2017-05-08   \n2046  芽笼(Geylang)新加坡的一个社区，在新加坡金融区以东，位于新加坡河东部。芽笼是一个复杂...  2018-11-25   \n2107                                     fernvale close  2014-08-12   \n2181                                            新加坡繁华地区  2019-12-10   \n2188                                         浪漫的东南亚公寓风格  2019-12-10   \n2250  Durch den Seiteneingang kommt man direkt zu ei...  2016-01-08   \n2303                                            No Data  2020-01-16   \n2575              靠近Novena地铁站 旁边有中山公园， 去市区很便利 环境优美 不二之选  2017-12-17   \n2738  诺维娜地铁站步行15分。 公交车，131. 141. 56. 57. 166. 851. 9...  2020-02-19   \n2806                              maybe stay with owner  2018-07-04   \n2856  我们的公寓四周环绕着大型购物中心，博物馆和餐饮场所，可让您在新加坡步行范围内最便捷地前往各个...  2017-08-29   \n2864  我们的公寓四周环绕着大型购物中心，博物馆和餐饮场所，可让您在新加坡步行范围内最便捷地前往各个...  2017-08-29   \n2871  我们的公寓四周环绕着大型购物中心，博物馆和餐饮场所，可让您在新加坡步行范围内最便捷地前往各个...  2017-08-29   \n2872  我们的公寓四周环绕着大型购物中心，博物馆和餐饮场所，可让您在新加坡步行范围内最便捷地前往各个...  2017-08-29   \n2873  我们的公寓四周环绕着大型购物中心，博物馆和餐饮场所，可让您在新加坡步行范围内最便捷地前往各个...  2017-08-29   \n2973                                               圣淘沙。  2020-08-06   \n\n      host_response_time  host_response_rate  host_acceptance_rate  \\\n123              No Data                 NaN                   NaN   \n209              No Data                 NaN                   NaN   \n325              No Data                 NaN                   NaN   \n343   within a few hours                71.0                 100.0   \n411              No Data                 NaN                   NaN   \n414         within a day               100.0                   0.0   \n426   a few days or more                 0.0                   NaN   \n478              No Data                 NaN                   NaN   \n488              No Data                 NaN                   NaN   \n525         within a day               100.0                   NaN   \n631   a few days or more                 0.0                   0.0   \n636   a few days or more                 0.0                   NaN   \n655   a few days or more                 8.0                  40.0   \n893   a few days or more                28.0                  67.0   \n894   a few days or more                28.0                  67.0   \n1062  a few days or more                 4.0                  41.0   \n1063  a few days or more                 4.0                  41.0   \n1068  a few days or more                 4.0                  41.0   \n1245             No Data                 NaN                   NaN   \n1554             No Data                 NaN                   0.0   \n1816  a few days or more                 0.0                   NaN   \n1824  a few days or more                 0.0                   NaN   \n1885  a few days or more                12.0                  40.0   \n2038  within a few hours                75.0                   NaN   \n2046  a few days or more                10.0                 100.0   \n2107             No Data                 NaN                   NaN   \n2181      within an hour                88.0                 100.0   \n2188      within an hour                88.0                 100.0   \n2250        within a day               100.0                 100.0   \n2303  a few days or more                 0.0                   0.0   \n2575  a few days or more                 0.0                   NaN   \n2738      within an hour                92.0                 100.0   \n2806  a few days or more                 0.0                  29.0   \n2856      within an hour               100.0                  99.0   \n2864      within an hour               100.0                  99.0   \n2871      within an hour               100.0                  99.0   \n2872      within an hour               100.0                  99.0   \n2873      within an hour               100.0                  99.0   \n2973      within an hour               100.0                  96.0   \n\n     host_is_superhost  host_listings_count  ... review_scores_checkin  \\\n123                  f                  1.0  ...                  0.00   \n209                  f                  1.0  ...                  0.00   \n325                  f                  1.0  ...                  0.00   \n343                  f                  5.0  ...                  0.00   \n411                  f                  1.0  ...                  0.00   \n414                  f                  7.0  ...                  0.00   \n426                  f                  1.0  ...                  0.00   \n478                  f                  1.0  ...                  0.00   \n488                  f                  1.0  ...                  0.00   \n525                  f                  1.0  ...                  0.00   \n631                  f                  2.0  ...                  0.00   \n636                  f                  1.0  ...                  0.00   \n655                  f                  1.0  ...                  4.60   \n893                  f                  4.0  ...                  0.00   \n894                  f                  4.0  ...                  5.00   \n1062                 f                 12.0  ...                  5.00   \n1063                 f                 12.0  ...                  0.00   \n1068                 f                 12.0  ...                  0.00   \n1245                 f                  1.0  ...                  0.00   \n1554                 f                  2.0  ...                  5.00   \n1816                 f                  1.0  ...                  0.00   \n1824                 f                  3.0  ...                  0.00   \n1885                 f                  2.0  ...                  4.83   \n2038                 f                  0.0  ...                  5.00   \n2046                 f                  1.0  ...                  4.77   \n2107                 f                  1.0  ...                  0.00   \n2181                 f                  2.0  ...                  0.00   \n2188                 f                  2.0  ...                  0.00   \n2250                 t                  1.0  ...                  5.00   \n2303                 f                  1.0  ...                  0.00   \n2575                 f                  1.0  ...                  0.00   \n2738                 f                  1.0  ...                  0.00   \n2806                 f                  0.0  ...                  5.00   \n2856                 t                 10.0  ...                  5.00   \n2864                 t                 10.0  ...                  5.00   \n2871                 t                 10.0  ...                  0.00   \n2872                 t                 10.0  ...                  0.00   \n2873                 t                 10.0  ...                  0.00   \n2973                 t                  5.0  ...                  0.00   \n\n     review_scores_communication review_scores_location review_scores_value  \\\n123                         0.00                   0.00                0.00   \n209                         0.00                   0.00                0.00   \n325                         0.00                   0.00                0.00   \n343                         0.00                   0.00                0.00   \n411                         0.00                   0.00                0.00   \n414                         0.00                   0.00                0.00   \n426                         0.00                   0.00                0.00   \n478                         0.00                   0.00                0.00   \n488                         0.00                   0.00                0.00   \n525                         0.00                   0.00                0.00   \n631                         0.00                   0.00                0.00   \n636                         0.00                   0.00                0.00   \n655                         4.80                   4.40                3.80   \n893                         0.00                   0.00                0.00   \n894                         5.00                   5.00                5.00   \n1062                        5.00                   5.00                5.00   \n1063                        0.00                   0.00                0.00   \n1068                        0.00                   0.00                0.00   \n1245                        0.00                   0.00                0.00   \n1554                        5.00                   4.88                4.88   \n1816                        0.00                   0.00                0.00   \n1824                        0.00                   0.00                0.00   \n1885                        4.33                   4.33                4.83   \n2038                        5.00                   5.00                5.00   \n2046                        4.77                   4.77                4.70   \n2107                        0.00                   0.00                0.00   \n2181                        0.00                   0.00                0.00   \n2188                        0.00                   0.00                0.00   \n2250                        5.00                   4.67                5.00   \n2303                        0.00                   0.00                0.00   \n2575                        0.00                   0.00                0.00   \n2738                        0.00                   0.00                0.00   \n2806                        5.00                   5.00                5.00   \n2856                        5.00                   5.00                5.00   \n2864                        5.00                   5.00                5.00   \n2871                        0.00                   0.00                0.00   \n2872                        0.00                   0.00                0.00   \n2873                        0.00                   0.00                0.00   \n2973                        0.00                   0.00                0.00   \n\n     instant_bookable  calculated_host_listings_count  \\\n123                 f                               1   \n209                 f                               1   \n325                 f                               1   \n343                 t                               3   \n411                 f                               1   \n414                 f                               4   \n426                 f                               1   \n478                 f                               1   \n488                 f                               1   \n525                 f                               2   \n631                 f                               2   \n636                 t                               1   \n655                 f                               1   \n893                 f                               4   \n894                 f                               4   \n1062                f                               9   \n1063                t                               9   \n1068                t                               9   \n1245                f                               1   \n1554                f                               2   \n1816                t                               1   \n1824                t                               2   \n1885                f                               2   \n2038                f                               1   \n2046                f                               1   \n2107                f                               1   \n2181                f                               2   \n2188                t                               2   \n2250                f                               1   \n2303                t                               1   \n2575                t                               1   \n2738                f                               1   \n2806                f                               1   \n2856                t                              30   \n2864                t                              30   \n2871                t                              30   \n2872                t                              30   \n2873                t                              30   \n2973                f                               7   \n\n                                          amenities_str dist_to_subway  \\\n123   \"Kitchen\", \"Long term stays allowed\", \"Washer\"...       1.055524   \n209   \"Kitchen\", \"Long term stays allowed\", \"Washer\"...       0.344682   \n325   \"Essentials\", \"Cleaning before checkout\", \"Kit...       0.476448   \n343   \"Long term stays allowed\", \"Private entrance\",...       1.783559   \n411   \"Kitchen\", \"Long term stays allowed\", \"Washer\"...       0.676667   \n414   \"Long term stays allowed\", \"Hair dryer\", \"Firs...       1.947810   \n426                           \"Long term stays allowed\"       0.639707   \n478   \"Shampoo\", \"Essentials\", \"Extra pillows and bl...       0.580340   \n488   \"Essentials\", \"Hangers\", \"Kitchen\", \"Long term...       0.825595   \n525   \"Essentials\", \"Hangers\", \"Kitchen\", \"Long term...       0.516369   \n631                           \"Long term stays allowed\"       1.759985   \n636   \"Hangers\", \"Kitchen\", \"Long term stays allowed...       1.143613   \n655   \"Cleaning before checkout\", \"Hangers\", \"Bed li...       1.087343   \n893   \"Essentials\", \"Hangers\", \"Heating\", \"Kitchen\",...       1.743496   \n894   \"Essentials\", \"Hangers\", \"Heating\", \"Kitchen\",...       1.758774   \n1062  \"Shampoo\", \"Essentials\", \"Security cameras on ...       0.768728   \n1063  \"Shampoo\", \"Essentials\", \"Security cameras on ...       0.412382   \n1068  \"Hangers\", \"Kitchen\", \"Long term stays allowed...       0.510004   \n1245  \"Shampoo\", \"Essentials\", \"Hangers\", \"Heating\",...       0.476903   \n1554  \"Hangers\", \"Coffee maker\", \"Cooking basics\", \"...       0.572831   \n1816  \"Shampoo\", \"Essentials\", \"Hangers\", \"Long term...       1.076433   \n1824  \"Essentials\", \"Hangers\", \"Long term stays allo...       1.080754   \n1885  \"Shampoo\", \"Essentials\", \"Hangers\", \"Bed linen...       0.898620   \n2038  \"Hangers\", \"Long term stays allowed\", \"Washer\"...       0.539855   \n2046  \"Hangers\", \"Cooking basics\", \"Washer\", \"Hair d...       0.859749   \n2107  \"Essentials\", \"Security cameras on property\", ...       0.359410   \n2181  \"Cleaning before checkout\", \"Hangers\", \"Bed li...       1.529830   \n2188  \"Hangers\", \"Washer\", \"Hair dryer\", \"TV\", \"Dedi...       1.467946   \n2250  \"Hangers\", \"Bed linens\", \"Washer\", \"Carbon mon...       0.298498   \n2303  \"Shampoo\", \"Essentials\", \"Hangers\", \"Kitchen\",...       0.357089   \n2575  \"Shampoo\", \"Essentials\", \"Hangers\", \"Kitchen\",...       0.812044   \n2738  \"Essentials\", \"Hangers\", \"Kitchen\", \"Long term...       0.582962   \n2806  \"Shampoo\", \"Bed linens\", \"Long term stays allo...       0.794511   \n2856  \"Bidet\", \"Safe\", \"Backyard\", \"Cleaning before ...       0.167068   \n2864  \"Cleaning before checkout\", \"Hangers\", \"Bed li...       0.296492   \n2871  \"Bidet\", \"Safe\", \"Backyard\", \"Hangers\", \"Bed l...       0.384010   \n2872  \"Cleaning before checkout\", \"Backyard\", \"Hange...       0.309334   \n2873  \"Cleaning before checkout\", \"Backyard\", \"Hange...       0.336463   \n2973  \"Shampoo\", \"Essentials\", \"Long term stays allo...       0.660535   \n\n     name_lang  description_lang  \n123         zh                zh  \n209         zh                zh  \n325         hu                zh  \n343         ja                ja  \n411         zh                zh  \n414         zh                nl  \n426         id                zh  \n478         ja                zh  \n488         zh                zh  \n525         hu                zh  \n631         zh                zh  \n636         zh                zh  \n655         zh                zh  \n893         ja                ja  \n894         zh                zh  \n1062        zh                zh  \n1063        zh                zh  \n1068        ja                zh  \n1245        hu                hu  \n1554        zh                zh  \n1816        zh                zh  \n1824        zh                zh  \n1885        ja                zh  \n2038        zh                zh  \n2046        zh                zh  \n2107        zh                zh  \n2181        zh                zh  \n2188        zh                zh  \n2250        de                de  \n2303        zh                zh  \n2575        ja                zh  \n2738        ja                zh  \n2806        zh                zh  \n2856        zh                zh  \n2864        zh                zh  \n2871        zh                zh  \n2872       nds                zh  \n2873        zh                zh  \n2973        zh                zh  \n\n[39 rows x 48 columns]",
      "text/html": "<div>\n<style scoped>\n    .dataframe tbody tr th:only-of-type {\n        vertical-align: middle;\n    }\n\n    .dataframe tbody tr th {\n        vertical-align: top;\n    }\n\n    .dataframe thead th {\n        text-align: right;\n    }\n</style>\n<table border=\"1\" class=\"dataframe\">\n  <thead>\n    <tr style=\"text-align: right;\">\n      <th></th>\n      <th>id</th>\n      <th>name</th>\n      <th>description</th>\n      <th>neighborhood_overview</th>\n      <th>host_since</th>\n      <th>host_response_time</th>\n      <th>host_response_rate</th>\n      <th>host_acceptance_rate</th>\n      <th>host_is_superhost</th>\n      <th>host_listings_count</th>\n      <th>...</th>\n      <th>review_scores_checkin</th>\n      <th>review_scores_communication</th>\n      <th>review_scores_location</th>\n      <th>review_scores_value</th>\n      <th>instant_bookable</th>\n      <th>calculated_host_listings_count</th>\n      <th>amenities_str</th>\n      <th>dist_to_subway</th>\n      <th>name_lang</th>\n      <th>description_lang</th>\n    </tr>\n  </thead>\n  <tbody>\n    <tr>\n      <th>123</th>\n      <td>4640273</td>\n      <td>索美赛River Valley</td>\n      <td>索美赛River Valley，泳池公寓小主人房出租！超快无线网 空调洗衣机厨房可煮。公车站...</td>\n      <td>No Data</td>\n      <td>2014-11-22</td>\n      <td>No Data</td>\n      <td>NaN</td>\n      <td>NaN</td>\n      <td>f</td>\n      <td>1.0</td>\n      <td>...</td>\n      <td>0.00</td>\n      <td>0.00</td>\n      <td>0.00</td>\n      <td>0.00</td>\n      <td>f</td>\n      <td>1</td>\n      <td>\"Kitchen\", \"Long term stays allowed\", \"Washer\"...</td>\n      <td>1.055524</td>\n      <td>zh</td>\n      <td>zh</td>\n    </tr>\n    <tr>\n      <th>209</th>\n      <td>6663672</td>\n      <td>新加坡传统祖屋 客厅大 通风好</td>\n      <td>有空调 有wifi 近bus 近地铁 近吃饭的地方 明亮 干净</td>\n      <td>No Data</td>\n      <td>2015-04-22</td>\n      <td>No Data</td>\n      <td>NaN</td>\n      <td>NaN</td>\n      <td>f</td>\n      <td>1.0</td>\n      <td>...</td>\n      <td>0.00</td>\n      <td>0.00</td>\n      <td>0.00</td>\n      <td>0.00</td>\n      <td>f</td>\n      <td>1</td>\n      <td>\"Kitchen\", \"Long term stays allowed\", \"Washer\"...</td>\n      <td>0.344682</td>\n      <td>zh</td>\n      <td>zh</td>\n    </tr>\n    <tr>\n      <th>325</th>\n      <td>8957363</td>\n      <td>Blk 210 Bukit Batok St 21</td>\n      <td>Blk 210 Bukit Batok St 21,nearby MRT,Coffee Sh...</td>\n      <td>No Data</td>\n      <td>2015-10-18</td>\n      <td>No Data</td>\n      <td>NaN</td>\n      <td>NaN</td>\n      <td>f</td>\n      <td>1.0</td>\n      <td>...</td>\n      <td>0.00</td>\n      <td>0.00</td>\n      <td>0.00</td>\n      <td>0.00</td>\n      <td>f</td>\n      <td>1</td>\n      <td>\"Essentials\", \"Cleaning before checkout\", \"Kit...</td>\n      <td>0.476448</td>\n      <td>hu</td>\n      <td>zh</td>\n    </tr>\n    <tr>\n      <th>343</th>\n      <td>9282668</td>\n      <td>COMFORTABLE SUITE WITH A VIEW.(2)</td>\n      <td>PEACEFUL, TRANQUIL ENVIRONMENTAL SURROUNDINGS ...</td>\n      <td>No Data</td>\n      <td>2015-06-05</td>\n      <td>within a few hours</td>\n      <td>71.0</td>\n      <td>100.0</td>\n      <td>f</td>\n      <td>5.0</td>\n      <td>...</td>\n      <td>0.00</td>\n      <td>0.00</td>\n      <td>0.00</td>\n      <td>0.00</td>\n      <td>t</td>\n      <td>3</td>\n      <td>\"Long term stays allowed\", \"Private entrance\",...</td>\n      <td>1.783559</td>\n      <td>ja</td>\n      <td>ja</td>\n    </tr>\n    <tr>\n      <th>411</th>\n      <td>10936529</td>\n      <td>出租夫妻房长期居住每月新币700，有意者请拨新加坡号码81370968</td>\n      <td>环境好,出行方便</td>\n      <td>No Data</td>\n      <td>2016-01-30</td>\n      <td>No Data</td>\n      <td>NaN</td>\n      <td>NaN</td>\n      <td>f</td>\n      <td>1.0</td>\n      <td>...</td>\n      <td>0.00</td>\n      <td>0.00</td>\n      <td>0.00</td>\n      <td>0.00</td>\n      <td>f</td>\n      <td>1</td>\n      <td>\"Kitchen\", \"Long term stays allowed\", \"Washer\"...</td>\n      <td>0.676667</td>\n      <td>zh</td>\n      <td>zh</td>\n    </tr>\n    <tr>\n      <th>414</th>\n      <td>11126190</td>\n      <td>FAMILY-FRIENDLY EN-SUITE</td>\n      <td>THIS AMAZING. FAMILY-FRIENDLY SUITE COMES WITH...</td>\n      <td>No Data</td>\n      <td>2016-02-07</td>\n      <td>within a day</td>\n      <td>100.0</td>\n      <td>0.0</td>\n      <td>f</td>\n      <td>7.0</td>\n      <td>...</td>\n      <td>0.00</td>\n      <td>0.00</td>\n      <td>0.00</td>\n      <td>0.00</td>\n      <td>f</td>\n      <td>4</td>\n      <td>\"Long term stays allowed\", \"Hair dryer\", \"Firs...</td>\n      <td>1.947810</td>\n      <td>zh</td>\n      <td>nl</td>\n    </tr>\n    <tr>\n      <th>426</th>\n      <td>11442336</td>\n      <td>文庆地铁站全新公寓出租</td>\n      <td>地铁站旁全新公寓，距离CBD地铁四站路，交通生活便利，一房一厅位于高层，景观无敌，前后没遮挡...</td>\n      <td>距离地铁站100米</td>\n      <td>2016-02-23</td>\n      <td>a few days or more</td>\n      <td>0.0</td>\n      <td>NaN</td>\n      <td>f</td>\n      <td>1.0</td>\n      <td>...</td>\n      <td>0.00</td>\n      <td>0.00</td>\n      <td>0.00</td>\n      <td>0.00</td>\n      <td>f</td>\n      <td>1</td>\n      <td>\"Long term stays allowed\"</td>\n      <td>0.639707</td>\n      <td>id</td>\n      <td>zh</td>\n    </tr>\n    <tr>\n      <th>478</th>\n      <td>12583148</td>\n      <td>geylang 14 主人房 master room1300sgd</td>\n      <td>geylang14巷 主人房出租 1个人1300 2个人1400 包水电网 空调 床（可以换...</td>\n      <td>No Data</td>\n      <td>2015-11-07</td>\n      <td>No Data</td>\n      <td>NaN</td>\n      <td>NaN</td>\n      <td>f</td>\n      <td>1.0</td>\n      <td>...</td>\n      <td>0.00</td>\n      <td>0.00</td>\n      <td>0.00</td>\n      <td>0.00</td>\n      <td>f</td>\n      <td>1</td>\n      <td>\"Shampoo\", \"Essentials\", \"Extra pillows and bl...</td>\n      <td>0.580340</td>\n      <td>ja</td>\n      <td>zh</td>\n    </tr>\n    <tr>\n      <th>488</th>\n      <td>12815967</td>\n      <td>阿裕尼公寓普通房急需女搭房一名联系人:郑小姐 电话：</td>\n      <td>阿裕尼高级公寓普通房寻求女搭房 450／月，包水电网，拎包即可入住（冰箱，洗衣机，微波炉，热...</td>\n      <td>No Data</td>\n      <td>2016-05-02</td>\n      <td>No Data</td>\n      <td>NaN</td>\n      <td>NaN</td>\n      <td>f</td>\n      <td>1.0</td>\n      <td>...</td>\n      <td>0.00</td>\n      <td>0.00</td>\n      <td>0.00</td>\n      <td>0.00</td>\n      <td>f</td>\n      <td>1</td>\n      <td>\"Essentials\", \"Hangers\", \"Kitchen\", \"Long term...</td>\n      <td>0.825595</td>\n      <td>zh</td>\n      <td>zh</td>\n    </tr>\n    <tr>\n      <th>525</th>\n      <td>13540021</td>\n      <td>Boonlay MRT 1</td>\n      <td>我的房源靠近夜生活和公共交通。因为户外空间、街区、氛围,您一定会爱上我的房源。我的房源适合孤...</td>\n      <td>No Data</td>\n      <td>2015-12-16</td>\n      <td>within a day</td>\n      <td>100.0</td>\n      <td>NaN</td>\n      <td>f</td>\n      <td>1.0</td>\n      <td>...</td>\n      <td>0.00</td>\n      <td>0.00</td>\n      <td>0.00</td>\n      <td>0.00</td>\n      <td>f</td>\n      <td>2</td>\n      <td>\"Essentials\", \"Hangers\", \"Kitchen\", \"Long term...</td>\n      <td>0.516369</td>\n      <td>hu</td>\n      <td>zh</td>\n    </tr>\n    <tr>\n      <th>631</th>\n      <td>15722252</td>\n      <td>夏威夷式度假公寓</td>\n      <td>位置 : 五分钟步行到海边。十分钟车程到机场。十五分钟公共交通到市区。 活动:户外活动及各球...</td>\n      <td>No Data</td>\n      <td>2015-03-10</td>\n      <td>a few days or more</td>\n      <td>0.0</td>\n      <td>0.0</td>\n      <td>f</td>\n      <td>2.0</td>\n      <td>...</td>\n      <td>0.00</td>\n      <td>0.00</td>\n      <td>0.00</td>\n      <td>0.00</td>\n      <td>f</td>\n      <td>2</td>\n      <td>\"Long term stays allowed\"</td>\n      <td>1.759985</td>\n      <td>zh</td>\n      <td>zh</td>\n    </tr>\n    <tr>\n      <th>636</th>\n      <td>15765810</td>\n      <td>无中介，主卧招租，地段极佳</td>\n      <td>我的房源靠近临近大巴窑MRT，附近各种便利超市食阁，方便采购。因为地段、户外空间、景观，您一...</td>\n      <td>No Data</td>\n      <td>2016-10-31</td>\n      <td>a few days or more</td>\n      <td>0.0</td>\n      <td>NaN</td>\n      <td>f</td>\n      <td>1.0</td>\n      <td>...</td>\n      <td>0.00</td>\n      <td>0.00</td>\n      <td>0.00</td>\n      <td>0.00</td>\n      <td>t</td>\n      <td>1</td>\n      <td>\"Hangers\", \"Kitchen\", \"Long term stays allowed...</td>\n      <td>1.143613</td>\n      <td>zh</td>\n      <td>zh</td>\n    </tr>\n    <tr>\n      <th>655</th>\n      <td>15978100</td>\n      <td>清幽宁静、整洁干净的公寓房间。包水电网煮饭游泳桑拿健身房。</td>\n      <td>宾至如归,房间整洁舒适,设施齐全,交通便利!出家门一分钟就到巴士站,多趟巴士直通全岛。如果坐...</td>\n      <td>我家位于新加坡的东部。从樟宜机场只需10分钟车程。步行东海岸只需15分钟，是步行哦！！！</td>\n      <td>2016-11-07</td>\n      <td>a few days or more</td>\n      <td>8.0</td>\n      <td>40.0</td>\n      <td>f</td>\n      <td>1.0</td>\n      <td>...</td>\n      <td>4.60</td>\n      <td>4.80</td>\n      <td>4.40</td>\n      <td>3.80</td>\n      <td>f</td>\n      <td>1</td>\n      <td>\"Cleaning before checkout\", \"Hangers\", \"Bed li...</td>\n      <td>1.087343</td>\n      <td>zh</td>\n      <td>zh</td>\n    </tr>\n    <tr>\n      <th>893</th>\n      <td>20774506</td>\n      <td>SPACIOUS  MASTER-SUITE-ROOM  WITH  KING-SIZED BED</td>\n      <td>LARGE, SPACIOUS  MASTER-SUITE-ROOM  WITH  KING...</td>\n      <td>No Data</td>\n      <td>2017-09-02</td>\n      <td>a few days or more</td>\n      <td>28.0</td>\n      <td>67.0</td>\n      <td>f</td>\n      <td>4.0</td>\n      <td>...</td>\n      <td>0.00</td>\n      <td>0.00</td>\n      <td>0.00</td>\n      <td>0.00</td>\n      <td>f</td>\n      <td>4</td>\n      <td>\"Essentials\", \"Hangers\", \"Heating\", \"Kitchen\",...</td>\n      <td>1.743496</td>\n      <td>ja</td>\n      <td>ja</td>\n    </tr>\n    <tr>\n      <th>894</th>\n      <td>20774607</td>\n      <td>PRIVATE COSY ROOM FOR  BASIC SINGLE OR COUPLE !!!</td>\n      <td>PRIVATE, COSY BEDROOM FOR THE QUIET, PRIVATE, ...</td>\n      <td>No Data</td>\n      <td>2017-09-02</td>\n      <td>a few days or more</td>\n      <td>28.0</td>\n      <td>67.0</td>\n      <td>f</td>\n      <td>4.0</td>\n      <td>...</td>\n      <td>5.00</td>\n      <td>5.00</td>\n      <td>5.00</td>\n      <td>5.00</td>\n      <td>f</td>\n      <td>4</td>\n      <td>\"Essentials\", \"Hangers\", \"Heating\", \"Kitchen\",...</td>\n      <td>1.758774</td>\n      <td>zh</td>\n      <td>zh</td>\n    </tr>\n    <tr>\n      <th>1062</th>\n      <td>23211763</td>\n      <td>善美 之家 Niven road 9号房</td>\n      <td>房间有冷气，全新床，床单，床头柜，有大衣柜，两个人共用一个洗手间和洗衣机，有独立小冰箱，走路...</td>\n      <td>No Data</td>\n      <td>2018-01-28</td>\n      <td>a few days or more</td>\n      <td>4.0</td>\n      <td>41.0</td>\n      <td>f</td>\n      <td>12.0</td>\n      <td>...</td>\n      <td>5.00</td>\n      <td>5.00</td>\n      <td>5.00</td>\n      <td>5.00</td>\n      <td>f</td>\n      <td>9</td>\n      <td>\"Shampoo\", \"Essentials\", \"Security cameras on ...</td>\n      <td>0.768728</td>\n      <td>zh</td>\n      <td>zh</td>\n    </tr>\n    <tr>\n      <th>1063</th>\n      <td>23245969</td>\n      <td>善美 之家 Niven road Afour 号房</td>\n      <td>房间内有大衣柜，大床，小冰箱，桌子椅子，Wi-Fi，距离小印度地铁站约300米，距离乌节路，...</td>\n      <td>No Data</td>\n      <td>2018-01-28</td>\n      <td>a few days or more</td>\n      <td>4.0</td>\n      <td>41.0</td>\n      <td>f</td>\n      <td>12.0</td>\n      <td>...</td>\n      <td>0.00</td>\n      <td>0.00</td>\n      <td>0.00</td>\n      <td>0.00</td>\n      <td>t</td>\n      <td>9</td>\n      <td>\"Shampoo\", \"Essentials\", \"Security cameras on ...</td>\n      <td>0.412382</td>\n      <td>zh</td>\n      <td>zh</td>\n    </tr>\n    <tr>\n      <th>1068</th>\n      <td>23285759</td>\n      <td>Wilkie 3号房</td>\n      <td>房间地点在市区,房间内有1.5/1.8米新床,床头柜,书桌,椅子,衣柜,冷气,风扇,走路5分...</td>\n      <td>市区，距离乌节路走路10分钟，距离小印度地铁站3分钟，距离乌节路多美歌地铁站步行8分钟，距离...</td>\n      <td>2018-01-28</td>\n      <td>a few days or more</td>\n      <td>4.0</td>\n      <td>41.0</td>\n      <td>f</td>\n      <td>12.0</td>\n      <td>...</td>\n      <td>0.00</td>\n      <td>0.00</td>\n      <td>0.00</td>\n      <td>0.00</td>\n      <td>t</td>\n      <td>9</td>\n      <td>\"Hangers\", \"Kitchen\", \"Long term stays allowed...</td>\n      <td>0.510004</td>\n      <td>ja</td>\n      <td>zh</td>\n    </tr>\n    <tr>\n      <th>1245</th>\n      <td>25768720</td>\n      <td>test test</td>\n      <td>test</td>\n      <td>No Data</td>\n      <td>2013-11-27</td>\n      <td>No Data</td>\n      <td>NaN</td>\n      <td>NaN</td>\n      <td>f</td>\n      <td>1.0</td>\n      <td>...</td>\n      <td>0.00</td>\n      <td>0.00</td>\n      <td>0.00</td>\n      <td>0.00</td>\n      <td>f</td>\n      <td>1</td>\n      <td>\"Shampoo\", \"Essentials\", \"Hangers\", \"Heating\",...</td>\n      <td>0.476903</td>\n      <td>hu</td>\n      <td>hu</td>\n    </tr>\n    <tr>\n      <th>1554</th>\n      <td>32031648</td>\n      <td>市中心1分钟地铁海景房周边设施全1min MRT CBD high flr seaview ...</td>\n      <td>-spacious and newly decorated 2 BR 2bathroom a...</td>\n      <td>There are 24-hour convenience stores and Japan...</td>\n      <td>2018-12-03</td>\n      <td>No Data</td>\n      <td>NaN</td>\n      <td>0.0</td>\n      <td>f</td>\n      <td>2.0</td>\n      <td>...</td>\n      <td>5.00</td>\n      <td>5.00</td>\n      <td>4.88</td>\n      <td>4.88</td>\n      <td>f</td>\n      <td>2</td>\n      <td>\"Hangers\", \"Coffee maker\", \"Cooking basics\", \"...</td>\n      <td>0.572831</td>\n      <td>zh</td>\n      <td>zh</td>\n    </tr>\n    <tr>\n      <th>1816</th>\n      <td>36054582</td>\n      <td>红线NS18，步行3分钟到braddell MRT。市中心，超方便！！！</td>\n      <td>走路去布莱德MRT3分钟，超级方便。楼下吃饭的食阁、便利店、水果店、理发店应有尽有。   O...</td>\n      <td>No Data</td>\n      <td>2019-02-24</td>\n      <td>a few days or more</td>\n      <td>0.0</td>\n      <td>NaN</td>\n      <td>f</td>\n      <td>1.0</td>\n      <td>...</td>\n      <td>0.00</td>\n      <td>0.00</td>\n      <td>0.00</td>\n      <td>0.00</td>\n      <td>t</td>\n      <td>1</td>\n      <td>\"Shampoo\", \"Essentials\", \"Hangers\", \"Long term...</td>\n      <td>1.076433</td>\n      <td>zh</td>\n      <td>zh</td>\n    </tr>\n    <tr>\n      <th>1824</th>\n      <td>36185551</td>\n      <td>李白曰</td>\n      <td>美丽的设计单位 没有早晨或下午太阳 步行至Pasir Ris地铁站 是在樟宜商业园或樟宜机场...</td>\n      <td>巴西立MRT nearby</td>\n      <td>2017-11-07</td>\n      <td>a few days or more</td>\n      <td>0.0</td>\n      <td>NaN</td>\n      <td>f</td>\n      <td>3.0</td>\n      <td>...</td>\n      <td>0.00</td>\n      <td>0.00</td>\n      <td>0.00</td>\n      <td>0.00</td>\n      <td>t</td>\n      <td>2</td>\n      <td>\"Essentials\", \"Hangers\", \"Long term stays allo...</td>\n      <td>1.080754</td>\n      <td>zh</td>\n      <td>zh</td>\n    </tr>\n    <tr>\n      <th>1885</th>\n      <td>37353696</td>\n      <td>度假公寓房</td>\n      <td>如果你喜欢大自然，这里是你在新加坡理想之地，武吉知马自然保护区和自然公园都能走到。环浇热带雨...</td>\n      <td>No Data</td>\n      <td>2017-04-11</td>\n      <td>a few days or more</td>\n      <td>12.0</td>\n      <td>40.0</td>\n      <td>f</td>\n      <td>2.0</td>\n      <td>...</td>\n      <td>4.83</td>\n      <td>4.33</td>\n      <td>4.33</td>\n      <td>4.83</td>\n      <td>f</td>\n      <td>2</td>\n      <td>\"Shampoo\", \"Essentials\", \"Hangers\", \"Bed linen...</td>\n      <td>0.898620</td>\n      <td>ja</td>\n      <td>zh</td>\n    </tr>\n    <tr>\n      <th>2038</th>\n      <td>39158146</td>\n      <td>绿和园</td>\n      <td>独立房间25平方米，两张单人床，一个衣柜，一个空调，5-8分钟步行到裕廊东地铁站/公交总站。...</td>\n      <td>靠近购物中心 JEM/WESTGATE/IMM/JCUBE; 靠近CPF 大楼和图书馆</td>\n      <td>2017-05-08</td>\n      <td>within a few hours</td>\n      <td>75.0</td>\n      <td>NaN</td>\n      <td>f</td>\n      <td>0.0</td>\n      <td>...</td>\n      <td>5.00</td>\n      <td>5.00</td>\n      <td>5.00</td>\n      <td>5.00</td>\n      <td>f</td>\n      <td>1</td>\n      <td>\"Hangers\", \"Long term stays allowed\", \"Washer\"...</td>\n      <td>0.539855</td>\n      <td>zh</td>\n      <td>zh</td>\n    </tr>\n    <tr>\n      <th>2046</th>\n      <td>39308924</td>\n      <td>阿狸</td>\n      <td>舒适时尚的两室公寓位于新加坡芽笼中心，芽笼是一个饮食天堂，咖啡店、食阁和餐馆比比皆是，有各式...</td>\n      <td>芽笼(Geylang)新加坡的一个社区，在新加坡金融区以东，位于新加坡河东部。芽笼是一个复杂...</td>\n      <td>2018-11-25</td>\n      <td>a few days or more</td>\n      <td>10.0</td>\n      <td>100.0</td>\n      <td>f</td>\n      <td>1.0</td>\n      <td>...</td>\n      <td>4.77</td>\n      <td>4.77</td>\n      <td>4.77</td>\n      <td>4.70</td>\n      <td>f</td>\n      <td>1</td>\n      <td>\"Hangers\", \"Cooking basics\", \"Washer\", \"Hair d...</td>\n      <td>0.859749</td>\n      <td>zh</td>\n      <td>zh</td>\n    </tr>\n    <tr>\n      <th>2107</th>\n      <td>40142529</td>\n      <td>暂时无法入住请不要看了</td>\n      <td>房子是在一个公寓里面的房间 位置在于新坡sengkang fernvale close   ...</td>\n      <td>fernvale close</td>\n      <td>2014-08-12</td>\n      <td>No Data</td>\n      <td>NaN</td>\n      <td>NaN</td>\n      <td>f</td>\n      <td>1.0</td>\n      <td>...</td>\n      <td>0.00</td>\n      <td>0.00</td>\n      <td>0.00</td>\n      <td>0.00</td>\n      <td>f</td>\n      <td>1</td>\n      <td>\"Essentials\", \"Security cameras on property\", ...</td>\n      <td>0.359410</td>\n      <td>zh</td>\n      <td>zh</td>\n    </tr>\n    <tr>\n      <th>2181</th>\n      <td>40723858</td>\n      <td>新加坡金沙酒店同款设计师精品公寓</td>\n      <td>这个房间装修别致交通便利，环境特别好，吃饭方便开心居住   The space  新加坡中部...</td>\n      <td>新加坡繁华地区</td>\n      <td>2019-12-10</td>\n      <td>within an hour</td>\n      <td>88.0</td>\n      <td>100.0</td>\n      <td>f</td>\n      <td>2.0</td>\n      <td>...</td>\n      <td>0.00</td>\n      <td>0.00</td>\n      <td>0.00</td>\n      <td>0.00</td>\n      <td>f</td>\n      <td>2</td>\n      <td>\"Cleaning before checkout\", \"Hangers\", \"Bed li...</td>\n      <td>1.529830</td>\n      <td>zh</td>\n      <td>zh</td>\n    </tr>\n    <tr>\n      <th>2188</th>\n      <td>40752825</td>\n      <td>新加坡中部名校区金沙酒店同款设计师精典作品</td>\n      <td>The space  位于新加坡中部交通方便风景美丽，小区物业管理优秀，为碧山No1的公寓...</td>\n      <td>浪漫的东南亚公寓风格</td>\n      <td>2019-12-10</td>\n      <td>within an hour</td>\n      <td>88.0</td>\n      <td>100.0</td>\n      <td>f</td>\n      <td>2.0</td>\n      <td>...</td>\n      <td>0.00</td>\n      <td>0.00</td>\n      <td>0.00</td>\n      <td>0.00</td>\n      <td>t</td>\n      <td>2</td>\n      <td>\"Hangers\", \"Washer\", \"Hair dryer\", \"TV\", \"Dedi...</td>\n      <td>1.467946</td>\n      <td>zh</td>\n      <td>zh</td>\n    </tr>\n    <tr>\n      <th>2250</th>\n      <td>41112238</td>\n      <td>Zimmer nah der MRT (Downtown Line)</td>\n      <td>Das Zimmer befindet sich in einer Wohnanlage u...</td>\n      <td>Durch den Seiteneingang kommt man direkt zu ei...</td>\n      <td>2016-01-08</td>\n      <td>within a day</td>\n      <td>100.0</td>\n      <td>100.0</td>\n      <td>t</td>\n      <td>1.0</td>\n      <td>...</td>\n      <td>5.00</td>\n      <td>5.00</td>\n      <td>4.67</td>\n      <td>5.00</td>\n      <td>f</td>\n      <td>1</td>\n      <td>\"Hangers\", \"Bed linens\", \"Washer\", \"Carbon mon...</td>\n      <td>0.298498</td>\n      <td>de</td>\n      <td>de</td>\n    </tr>\n    <tr>\n      <th>2303</th>\n      <td>41610819</td>\n      <td>会让你感觉到自己家一样的舒适</td>\n      <td>The space  公寓式房子  楼下有  免费提供…健身房…汗蒸房  泳池 很方便  ...</td>\n      <td>No Data</td>\n      <td>2020-01-16</td>\n      <td>a few days or more</td>\n      <td>0.0</td>\n      <td>0.0</td>\n      <td>f</td>\n      <td>1.0</td>\n      <td>...</td>\n      <td>0.00</td>\n      <td>0.00</td>\n      <td>0.00</td>\n      <td>0.00</td>\n      <td>t</td>\n      <td>1</td>\n      <td>\"Shampoo\", \"Essentials\", \"Hangers\", \"Kitchen\",...</td>\n      <td>0.357089</td>\n      <td>zh</td>\n      <td>zh</td>\n    </tr>\n    <tr>\n      <th>2575</th>\n      <td>44255450</td>\n      <td>近市区CBD 豪华公寓一房一卫</td>\n      <td>豪华公寓 有泳池健身房 走路2分钟有便利店 5分钟可以到中山公园 大型商场 附近有许多餐厅 ...</td>\n      <td>靠近Novena地铁站 旁边有中山公园， 去市区很便利 环境优美 不二之选</td>\n      <td>2017-12-17</td>\n      <td>a few days or more</td>\n      <td>0.0</td>\n      <td>NaN</td>\n      <td>f</td>\n      <td>1.0</td>\n      <td>...</td>\n      <td>0.00</td>\n      <td>0.00</td>\n      <td>0.00</td>\n      <td>0.00</td>\n      <td>t</td>\n      <td>1</td>\n      <td>\"Shampoo\", \"Essentials\", \"Hangers\", \"Kitchen\",...</td>\n      <td>0.812044</td>\n      <td>ja</td>\n      <td>zh</td>\n    </tr>\n    <tr>\n      <th>2738</th>\n      <td>47295571</td>\n      <td>舒适小屋！快捷方便。</td>\n      <td>屋内: 床衣柜，学习桌，空调，电扇全部都有。 屋外: 洗衣间，全自动晾衣架，洗手间。 厨房:...</td>\n      <td>诺维娜地铁站步行15分。 公交车，131. 141. 56. 57. 166. 851. 9...</td>\n      <td>2020-02-19</td>\n      <td>within an hour</td>\n      <td>92.0</td>\n      <td>100.0</td>\n      <td>f</td>\n      <td>1.0</td>\n      <td>...</td>\n      <td>0.00</td>\n      <td>0.00</td>\n      <td>0.00</td>\n      <td>0.00</td>\n      <td>f</td>\n      <td>1</td>\n      <td>\"Essentials\", \"Hangers\", \"Kitchen\", \"Long term...</td>\n      <td>0.582962</td>\n      <td>ja</td>\n      <td>zh</td>\n    </tr>\n    <tr>\n      <th>2806</th>\n      <td>49209267</td>\n      <td>新公寓普通房长期出租，付款前先发信息咨询，可能和屋主同住</td>\n      <td>公共设施 俱乐部 • 水景 • 健身房 • 桑拿房 • 停车场 • 户外用餐 • 欢乐池 •...</td>\n      <td>maybe stay with owner</td>\n      <td>2018-07-04</td>\n      <td>a few days or more</td>\n      <td>0.0</td>\n      <td>29.0</td>\n      <td>f</td>\n      <td>0.0</td>\n      <td>...</td>\n      <td>5.00</td>\n      <td>5.00</td>\n      <td>5.00</td>\n      <td>5.00</td>\n      <td>f</td>\n      <td>1</td>\n      <td>\"Shampoo\", \"Bed linens\", \"Long term stays allo...</td>\n      <td>0.794511</td>\n      <td>zh</td>\n      <td>zh</td>\n    </tr>\n    <tr>\n      <th>2856</th>\n      <td>50707898</td>\n      <td>新加坡市中心 SGClean apartment 现代服务式公寓 | 配备齐全 | 靠近百胜地铁站</td>\n      <td>享受都市生活和无与伦比的便利住在悠邸服务式公寓. 位于新加坡市中心，我们的服务式公寓适合短期...</td>\n      <td>我们的公寓四周环绕着大型购物中心，博物馆和餐饮场所，可让您在新加坡步行范围内最便捷地前往各个...</td>\n      <td>2017-08-29</td>\n      <td>within an hour</td>\n      <td>100.0</td>\n      <td>99.0</td>\n      <td>t</td>\n      <td>10.0</td>\n      <td>...</td>\n      <td>5.00</td>\n      <td>5.00</td>\n      <td>5.00</td>\n      <td>5.00</td>\n      <td>t</td>\n      <td>30</td>\n      <td>\"Bidet\", \"Safe\", \"Backyard\", \"Cleaning before ...</td>\n      <td>0.167068</td>\n      <td>zh</td>\n      <td>zh</td>\n    </tr>\n    <tr>\n      <th>2864</th>\n      <td>50737006</td>\n      <td>SG Serviced Apartment | 悠邸服务式公寓 | 位于市中心 | 步行3分...</td>\n      <td>享受都市生活和无与伦比的便利住在悠邸服务式公寓. 位于新加坡市中心，我们的服务式公寓适合短期...</td>\n      <td>我们的公寓四周环绕着大型购物中心，博物馆和餐饮场所，可让您在新加坡步行范围内最便捷地前往各个...</td>\n      <td>2017-08-29</td>\n      <td>within an hour</td>\n      <td>100.0</td>\n      <td>99.0</td>\n      <td>t</td>\n      <td>10.0</td>\n      <td>...</td>\n      <td>5.00</td>\n      <td>5.00</td>\n      <td>5.00</td>\n      <td>5.00</td>\n      <td>t</td>\n      <td>30</td>\n      <td>\"Cleaning before checkout\", \"Hangers\", \"Bed li...</td>\n      <td>0.296492</td>\n      <td>zh</td>\n      <td>zh</td>\n    </tr>\n    <tr>\n      <th>2871</th>\n      <td>50823263</td>\n      <td>Cosy Clean Studio 物有所值优质服务式公寓 | 完美住宿 | 免费家政服务和无线网</td>\n      <td>享受都市生活和无与伦比的便利住在悠邸服务式公寓. 位于新加坡市中心，我们的服务式公寓适合短期...</td>\n      <td>我们的公寓四周环绕着大型购物中心，博物馆和餐饮场所，可让您在新加坡步行范围内最便捷地前往各个...</td>\n      <td>2017-08-29</td>\n      <td>within an hour</td>\n      <td>100.0</td>\n      <td>99.0</td>\n      <td>t</td>\n      <td>10.0</td>\n      <td>...</td>\n      <td>0.00</td>\n      <td>0.00</td>\n      <td>0.00</td>\n      <td>0.00</td>\n      <td>t</td>\n      <td>30</td>\n      <td>\"Bidet\", \"Safe\", \"Backyard\", \"Hangers\", \"Bed l...</td>\n      <td>0.384010</td>\n      <td>zh</td>\n      <td>zh</td>\n    </tr>\n    <tr>\n      <th>2872</th>\n      <td>50823476</td>\n      <td>SG Clean Studio 舒适宽敞干净平静服务式公寓带有城市景观 | 免费无线网络和家政服务</td>\n      <td>享受都市生活和无与伦比的便利住在悠邸服务式公寓. 位于新加坡市中心，我们的服务式公寓适合短期...</td>\n      <td>我们的公寓四周环绕着大型购物中心，博物馆和餐饮场所，可让您在新加坡步行范围内最便捷地前往各个...</td>\n      <td>2017-08-29</td>\n      <td>within an hour</td>\n      <td>100.0</td>\n      <td>99.0</td>\n      <td>t</td>\n      <td>10.0</td>\n      <td>...</td>\n      <td>0.00</td>\n      <td>0.00</td>\n      <td>0.00</td>\n      <td>0.00</td>\n      <td>t</td>\n      <td>30</td>\n      <td>\"Cleaning before checkout\", \"Backyard\", \"Hange...</td>\n      <td>0.309334</td>\n      <td>nds</td>\n      <td>zh</td>\n    </tr>\n    <tr>\n      <th>2873</th>\n      <td>50823783</td>\n      <td>Modern Spacious 拥有城市景观 | 配备高速互联网适合居家办公 | 悠邸服务式公寓</td>\n      <td>享受都市生活和无与伦比的便利住在悠邸服务式公寓. 位于新加坡市中心，我们的服务式公寓适合短期...</td>\n      <td>我们的公寓四周环绕着大型购物中心，博物馆和餐饮场所，可让您在新加坡步行范围内最便捷地前往各个...</td>\n      <td>2017-08-29</td>\n      <td>within an hour</td>\n      <td>100.0</td>\n      <td>99.0</td>\n      <td>t</td>\n      <td>10.0</td>\n      <td>...</td>\n      <td>0.00</td>\n      <td>0.00</td>\n      <td>0.00</td>\n      <td>0.00</td>\n      <td>t</td>\n      <td>30</td>\n      <td>\"Cleaning before checkout\", \"Backyard\", \"Hange...</td>\n      <td>0.336463</td>\n      <td>zh</td>\n      <td>zh</td>\n    </tr>\n    <tr>\n      <th>2973</th>\n      <td>52216017</td>\n      <td>新加坡圣淘沙逸豪酒店特价预定</td>\n      <td>下单之前需要先联系我们，各种房型都有。</td>\n      <td>圣淘沙。</td>\n      <td>2020-08-06</td>\n      <td>within an hour</td>\n      <td>100.0</td>\n      <td>96.0</td>\n      <td>t</td>\n      <td>5.0</td>\n      <td>...</td>\n      <td>0.00</td>\n      <td>0.00</td>\n      <td>0.00</td>\n      <td>0.00</td>\n      <td>f</td>\n      <td>7</td>\n      <td>\"Shampoo\", \"Essentials\", \"Long term stays allo...</td>\n      <td>0.660535</td>\n      <td>zh</td>\n      <td>zh</td>\n    </tr>\n  </tbody>\n</table>\n<p>39 rows × 48 columns</p>\n</div>"
     },
     "metadata": {}
    }
   ]
  },
  {
   "cell_type": "code",
   "metadata": {
    "deepnote_to_be_reexecuted": false,
    "execution_millis": 1,
    "execution_start": 1647324520516,
    "source_hash": "302477b",
    "tags": [],
    "cell_id": "00014-e51d1fa1-5df4-45b4-9ef1-80d0f0766cbe",
    "deepnote_cell_type": "code",
    "deepnote_cell_height": 153
   },
   "source": "# By manual inspection, some listings were incorrectly labelled as non-English\neng_listings = [11126190, 8957363, 9282668, 20774506, 20774607]\n\nfor l in eng_listings:\n    listings.loc[listings['id'] == l, ['name_lang', 'description_lang']] = 'en'",
   "execution_count": null,
   "outputs": []
  },
  {
   "cell_type": "code",
   "metadata": {
    "deepnote_to_be_reexecuted": false,
    "execution_millis": 28,
    "execution_start": 1647324522652,
    "source_hash": "5265a1ae",
    "tags": [],
    "cell_id": "00015-f53a89bb-eeb0-41bf-967f-2eaae91b4bd5",
    "deepnote_cell_type": "code",
    "deepnote_cell_height": 99
   },
   "source": "# Drop listings with non-English names and descriptions\nlistings = listings[~((listings['name_lang'] != 'en') & (listings['description_lang'] != 'en'))]",
   "execution_count": null,
   "outputs": []
  },
  {
   "cell_type": "code",
   "metadata": {
    "deepnote_table_loading": false,
    "deepnote_table_state": {
     "filters": [],
     "pageIndex": 6,
     "pageSize": 10,
     "sortBy": []
    },
    "deepnote_to_be_reexecuted": false,
    "execution_millis": 11,
    "execution_start": 1647324526259,
    "source_hash": "3aa0e158",
    "tags": [],
    "cell_id": "00016-5ce47f9f-5a65-4a54-96a6-1b0742d1ac15",
    "deepnote_cell_type": "code",
    "deepnote_cell_height": 99
   },
   "source": "# Drop 34 reviews which are non-English\nreviews = reviews[~(reviews['language'] != 'en')]",
   "execution_count": null,
   "outputs": []
  },
  {
   "cell_type": "markdown",
   "source": "## Remove Web Links",
   "metadata": {
    "tags": [],
    "cell_id": "00017-a2ec8c32-5dc0-414d-a33a-cb33a0fce402",
    "deepnote_cell_type": "markdown",
    "deepnote_cell_height": 70
   }
  },
  {
   "cell_type": "code",
   "metadata": {
    "deepnote_to_be_reexecuted": false,
    "execution_millis": 8,
    "execution_start": 1647324530705,
    "source_hash": "e554824d",
    "tags": [],
    "cell_id": "00018-d0cf403b-4c34-4901-808c-4bfc3a5a4cdf",
    "deepnote_cell_type": "code",
    "deepnote_cell_height": 207
   },
   "source": "def remove_weblinks(txt):\n    txt = re.sub(r'https\\S+', '', txt)\n    txt = re.sub(r'http\\S+', '', txt)\n    txt = re.sub(r'www\\S+', '', txt)\n    txt = txt.replace('https', '')\n    txt = txt.replace('http', '')\n    txt = txt.replace('www', '')\n    return txt",
   "execution_count": null,
   "outputs": []
  },
  {
   "cell_type": "code",
   "metadata": {
    "deepnote_to_be_reexecuted": false,
    "execution_millis": 822,
    "execution_start": 1647324534400,
    "source_hash": "a190c0b3",
    "tags": [],
    "cell_id": "00019-b1b57b9f-d8e1-46ab-941a-b407da86aea8",
    "deepnote_cell_type": "code",
    "deepnote_cell_height": 371.03125
   },
   "source": "# Remove from listing descriptions and reviews\nlistings['description'] = listings['description'].apply(remove_weblinks)\nreviews['comments'] = reviews['comments'].apply(remove_weblinks)",
   "execution_count": null,
   "outputs": [
    {
     "name": "stderr",
     "text": "<ipython-input-26-f12a8d00fec3>:2: SettingWithCopyWarning: \nA value is trying to be set on a copy of a slice from a DataFrame.\nTry using .loc[row_indexer,col_indexer] = value instead\n\nSee the caveats in the documentation: https://pandas.pydata.org/pandas-docs/stable/user_guide/indexing.html#returning-a-view-versus-a-copy\n  listings['description'] = listings['description'].apply(remove_weblinks)\n<ipython-input-26-f12a8d00fec3>:3: SettingWithCopyWarning: \nA value is trying to be set on a copy of a slice from a DataFrame.\nTry using .loc[row_indexer,col_indexer] = value instead\n\nSee the caveats in the documentation: https://pandas.pydata.org/pandas-docs/stable/user_guide/indexing.html#returning-a-view-versus-a-copy\n  reviews['comments'] = reviews['comments'].apply(remove_weblinks)\n",
     "output_type": "stream"
    }
   ]
  },
  {
   "cell_type": "markdown",
   "source": "## Length of Words in Reviews",
   "metadata": {
    "tags": [],
    "cell_id": "00020-511a33dc-d01d-4173-bae5-ba5a448fde83",
    "deepnote_cell_type": "markdown",
    "deepnote_cell_height": 70
   }
  },
  {
   "cell_type": "code",
   "metadata": {
    "deepnote_to_be_reexecuted": false,
    "execution_millis": 1209,
    "execution_start": 1647324540661,
    "source_hash": "60a77ca7",
    "tags": [],
    "cell_id": "00021-7dc62c77-cb37-42f4-9ff0-cfcfde48c92c",
    "deepnote_cell_type": "code",
    "deepnote_cell_height": 580.84375
   },
   "source": "# Count the number of words in review comments\nreviews['num_words'] = reviews['comments'].apply(lambda x: sum([i.strip(string.punctuation).isalpha() for i in x.split()]))\nreviews.head()",
   "execution_count": null,
   "outputs": [
    {
     "name": "stderr",
     "text": "<ipython-input-27-9ca1fa855049>:2: SettingWithCopyWarning: \nA value is trying to be set on a copy of a slice from a DataFrame.\nTry using .loc[row_indexer,col_indexer] = value instead\n\nSee the caveats in the documentation: https://pandas.pydata.org/pandas-docs/stable/user_guide/indexing.html#returning-a-view-versus-a-copy\n  reviews['num_words'] = reviews['comments'].apply(lambda x: sum([i.strip(string.punctuation).isalpha() for i in x.split()]))\n",
     "output_type": "stream"
    },
    {
     "output_type": "execute_result",
     "execution_count": 27,
     "data": {
      "application/vnd.deepnote.dataframe.v3+json": {
       "column_count": 4,
       "row_count": 5,
       "columns": [
        {
         "name": "listing_id",
         "dtype": "int64",
         "stats": {
          "unique_count": 1,
          "nan_count": 0,
          "min": "50646",
          "max": "50646",
          "histogram": [
           {
            "bin_start": 50645.5,
            "bin_end": 50645.6,
            "count": 0
           },
           {
            "bin_start": 50645.6,
            "bin_end": 50645.7,
            "count": 0
           },
           {
            "bin_start": 50645.7,
            "bin_end": 50645.8,
            "count": 0
           },
           {
            "bin_start": 50645.8,
            "bin_end": 50645.9,
            "count": 0
           },
           {
            "bin_start": 50645.9,
            "bin_end": 50646,
            "count": 0
           },
           {
            "bin_start": 50646,
            "bin_end": 50646.1,
            "count": 5
           },
           {
            "bin_start": 50646.1,
            "bin_end": 50646.2,
            "count": 0
           },
           {
            "bin_start": 50646.2,
            "bin_end": 50646.3,
            "count": 0
           },
           {
            "bin_start": 50646.3,
            "bin_end": 50646.4,
            "count": 0
           },
           {
            "bin_start": 50646.4,
            "bin_end": 50646.5,
            "count": 0
           }
          ]
         }
        },
        {
         "name": "comments",
         "dtype": "object",
         "stats": {
          "unique_count": 5,
          "nan_count": 0,
          "categories": [
           {
            "name": "A comfortable room in a smart condo development. Everything was kept very clean and I had the use of my own bathroom. Sujatha and her husband are great hosts - very friendly and accommodating. I'll be staying here again.",
            "count": 1
           },
           {
            "name": "Stayed over at Sujatha's house for 3 good nights with my boyfriend. Sujatha and her husband are great hosts, very welcoming and friendly. The room is comfortable and clean. I'm happy to have my own bathroom as i'm particular with shared bathroom. \r The location is accessible. A few minutes walk from the house to nearest bus stop which can bring you to town.\r Good place, good hosts, good price.\r Highly recommended!",
            "count": 1
           },
           {
            "name": "3 others",
            "count": 3
           }
          ]
         }
        },
        {
         "name": "language",
         "dtype": "object",
         "stats": {
          "unique_count": 1,
          "nan_count": 0,
          "categories": [
           {
            "name": "en",
            "count": 5
           }
          ]
         }
        },
        {
         "name": "num_words",
         "dtype": "int64",
         "stats": {
          "unique_count": 5,
          "nan_count": 0,
          "min": "7",
          "max": "67",
          "histogram": [
           {
            "bin_start": 7,
            "bin_end": 13,
            "count": 1
           },
           {
            "bin_start": 13,
            "bin_end": 19,
            "count": 1
           },
           {
            "bin_start": 19,
            "bin_end": 25,
            "count": 0
           },
           {
            "bin_start": 25,
            "bin_end": 31,
            "count": 0
           },
           {
            "bin_start": 31,
            "bin_end": 37,
            "count": 0
           },
           {
            "bin_start": 37,
            "bin_end": 43,
            "count": 2
           },
           {
            "bin_start": 43,
            "bin_end": 49,
            "count": 0
           },
           {
            "bin_start": 49,
            "bin_end": 55,
            "count": 0
           },
           {
            "bin_start": 55,
            "bin_end": 61,
            "count": 0
           },
           {
            "bin_start": 61,
            "bin_end": 67,
            "count": 1
           }
          ]
         }
        },
        {
         "name": "_deepnote_index_column",
         "dtype": "int64"
        }
       ],
       "rows": [
        {
         "listing_id": 50646,
         "comments": "A comfortable room in a smart condo development. Everything was kept very clean and I had the use o…",
         "language": "en",
         "num_words": 37,
         "_deepnote_index_column": 0
        },
        {
         "listing_id": 50646,
         "comments": "Stayed over at Sujatha's house for 3 good nights with my boyfriend. Sujatha and her husband are gre…",
         "language": "en",
         "num_words": 67,
         "_deepnote_index_column": 1
        },
        {
         "listing_id": 50646,
         "comments": "It's been a lovely stay at Sujatha's. The room is clean and the location is just perfect for a stop…",
         "language": "en",
         "num_words": 39,
         "_deepnote_index_column": 2
        },
        {
         "listing_id": 50646,
         "comments": "We had a great experience. A nice place, an amazing complex and easy access to public transit",
         "language": "en",
         "num_words": 17,
         "_deepnote_index_column": 3
        },
        {
         "listing_id": 50646,
         "comments": "Quiet condo. Comfortable stay and good location.",
         "language": "en",
         "num_words": 7,
         "_deepnote_index_column": 4
        }
       ]
      },
      "text/plain": "   listing_id                                           comments language  \\\n0       50646  A comfortable room in a smart condo developmen...       en   \n1       50646  Stayed over at Sujatha's house for 3 good nigh...       en   \n2       50646  It's been a lovely stay at Sujatha's. The room...       en   \n3       50646  We had a great experience. A nice place, an am...       en   \n4       50646   Quiet condo. Comfortable stay and good location.       en   \n\n   num_words  \n0         37  \n1         67  \n2         39  \n3         17  \n4          7  ",
      "text/html": "<div>\n<style scoped>\n    .dataframe tbody tr th:only-of-type {\n        vertical-align: middle;\n    }\n\n    .dataframe tbody tr th {\n        vertical-align: top;\n    }\n\n    .dataframe thead th {\n        text-align: right;\n    }\n</style>\n<table border=\"1\" class=\"dataframe\">\n  <thead>\n    <tr style=\"text-align: right;\">\n      <th></th>\n      <th>listing_id</th>\n      <th>comments</th>\n      <th>language</th>\n      <th>num_words</th>\n    </tr>\n  </thead>\n  <tbody>\n    <tr>\n      <th>0</th>\n      <td>50646</td>\n      <td>A comfortable room in a smart condo developmen...</td>\n      <td>en</td>\n      <td>37</td>\n    </tr>\n    <tr>\n      <th>1</th>\n      <td>50646</td>\n      <td>Stayed over at Sujatha's house for 3 good nigh...</td>\n      <td>en</td>\n      <td>67</td>\n    </tr>\n    <tr>\n      <th>2</th>\n      <td>50646</td>\n      <td>It's been a lovely stay at Sujatha's. The room...</td>\n      <td>en</td>\n      <td>39</td>\n    </tr>\n    <tr>\n      <th>3</th>\n      <td>50646</td>\n      <td>We had a great experience. A nice place, an am...</td>\n      <td>en</td>\n      <td>17</td>\n    </tr>\n    <tr>\n      <th>4</th>\n      <td>50646</td>\n      <td>Quiet condo. Comfortable stay and good location.</td>\n      <td>en</td>\n      <td>7</td>\n    </tr>\n  </tbody>\n</table>\n</div>"
     },
     "metadata": {}
    }
   ]
  },
  {
   "cell_type": "markdown",
   "source": "## Calculate Number of Months Since Joining Airbnb as Host",
   "metadata": {
    "tags": [],
    "cell_id": "00022-118676b7-750d-45b8-8da2-d2ab1b5e7f96",
    "deepnote_cell_type": "markdown",
    "deepnote_cell_height": 110
   }
  },
  {
   "cell_type": "code",
   "metadata": {
    "deepnote_to_be_reexecuted": false,
    "execution_millis": 1398,
    "execution_start": 1647324547981,
    "source_hash": "b3764e2a",
    "tags": [],
    "cell_id": "00023-930af9c3-48ff-44d8-a613-c1814e5a849a",
    "deepnote_cell_type": "code",
    "deepnote_cell_height": 1063.078125
   },
   "source": "# Calculate the number of months since host was registered onto Airbnb based on 'host_since'\ndate_scraped = datetime.fromisoformat('2022-01-03')\nlistings['host_since'] = pd.to_datetime(listings['host_since'])\nlistings['host_months'] = date_scraped - listings['host_since']\nlistings['host_months'] = (listings['host_months'] / np.timedelta64(1,'M'))\n\n# Round up the number of months since host registered on Airbnb\nlistings['host_months'] = np.ceil(listings['host_months']).astype(int)\nlistings.head()",
   "execution_count": null,
   "outputs": [
    {
     "name": "stderr",
     "text": "<ipython-input-28-57c9b43a1d1b>:3: SettingWithCopyWarning: \nA value is trying to be set on a copy of a slice from a DataFrame.\nTry using .loc[row_indexer,col_indexer] = value instead\n\nSee the caveats in the documentation: https://pandas.pydata.org/pandas-docs/stable/user_guide/indexing.html#returning-a-view-versus-a-copy\n  listings['host_since'] = pd.to_datetime(listings['host_since'])\n<ipython-input-28-57c9b43a1d1b>:4: SettingWithCopyWarning: \nA value is trying to be set on a copy of a slice from a DataFrame.\nTry using .loc[row_indexer,col_indexer] = value instead\n\nSee the caveats in the documentation: https://pandas.pydata.org/pandas-docs/stable/user_guide/indexing.html#returning-a-view-versus-a-copy\n  listings['host_months'] = date_scraped - listings['host_since']\n<ipython-input-28-57c9b43a1d1b>:5: SettingWithCopyWarning: \nA value is trying to be set on a copy of a slice from a DataFrame.\nTry using .loc[row_indexer,col_indexer] = value instead\n\nSee the caveats in the documentation: https://pandas.pydata.org/pandas-docs/stable/user_guide/indexing.html#returning-a-view-versus-a-copy\n  listings['host_months'] = (listings['host_months'] / np.timedelta64(1,'M'))\n<ipython-input-28-57c9b43a1d1b>:8: SettingWithCopyWarning: \nA value is trying to be set on a copy of a slice from a DataFrame.\nTry using .loc[row_indexer,col_indexer] = value instead\n\nSee the caveats in the documentation: https://pandas.pydata.org/pandas-docs/stable/user_guide/indexing.html#returning-a-view-versus-a-copy\n  listings['host_months'] = np.ceil(listings['host_months']).astype(int)\n",
     "output_type": "stream"
    },
    {
     "output_type": "execute_result",
     "execution_count": 28,
     "data": {
      "application/vnd.deepnote.dataframe.v3+json": {
       "column_count": 49,
       "row_count": 5,
       "columns": [
        {
         "name": "id",
         "dtype": "int64",
         "stats": {
          "unique_count": 5,
          "nan_count": 0,
          "min": "50646",
          "max": "275343",
          "histogram": [
           {
            "bin_start": 50646,
            "bin_end": 73115.7,
            "count": 4
           },
           {
            "bin_start": 73115.7,
            "bin_end": 95585.4,
            "count": 0
           },
           {
            "bin_start": 95585.4,
            "bin_end": 118055.1,
            "count": 0
           },
           {
            "bin_start": 118055.1,
            "bin_end": 140524.8,
            "count": 0
           },
           {
            "bin_start": 140524.8,
            "bin_end": 162994.5,
            "count": 0
           },
           {
            "bin_start": 162994.5,
            "bin_end": 185464.2,
            "count": 0
           },
           {
            "bin_start": 185464.2,
            "bin_end": 207933.9,
            "count": 0
           },
           {
            "bin_start": 207933.9,
            "bin_end": 230403.6,
            "count": 0
           },
           {
            "bin_start": 230403.6,
            "bin_end": 252873.30000000002,
            "count": 0
           },
           {
            "bin_start": 252873.30000000002,
            "bin_end": 275343,
            "count": 1
           }
          ]
         }
        },
        {
         "name": "name",
         "dtype": "object",
         "stats": {
          "unique_count": 5,
          "nan_count": 0,
          "categories": [
           {
            "name": "Pleasant Room along Bukit Timah",
            "count": 1
           },
           {
            "name": "Ensuite Room (Room 1 & 2) near EXPO",
            "count": 1
           },
           {
            "name": "3 others",
            "count": 3
           }
          ]
         }
        },
        {
         "name": "description",
         "dtype": "object",
         "stats": {
          "unique_count": 5,
          "nan_count": 0,
          "categories": [
           {
            "name": "Fully furnished bedroom with a nice view on the 10th floor of a newly built private condominium on one of the  most preferred residential estates in Singapore.   The space  Good Condition room, bright & windy. Comes with TV, Aircon, Bed, wardrobe. Can accommodate couples or 2 ladies or students for long-term rental only.   Guest access  Kitchen, washing facilities, gym, swimming pool, etc.   Other things to note  Accommodation has a queen size bed.  Suitable for Single, couples. The room cannot accommodate more than 2 adults.",
            "count": 1
           },
           {
            "name": "For 3 rooms.Book room 1&2 and room 4   The space  Landed Homestay Room for Rental. Between Simei and Expo Mrt. 2 bustop distance or 10-15min walking distant to Simei MRT.Bus n(phone number hidden).Clean and well maintain aircon room. We also provide Short and Long term room rental .Free 24 hrs Wireless Internet Access Available. Rates are inclusive of utilities & wifi internet. Both room can accomodate up to 6 max. Complimentary: Use of washer, iron with ironing board, hairdryer, towels, toiletries & change of bedding for extended stay. For use of Dryer additional charge of $10 will be imposed. Light cooking is allowed.Use of Gas subject to cooking not for use of drying clothes or misuse will be charged at $10 per min  Neighbourhood: A residential area, with schools, shopping malls, sports facilities such as gym, basketball & badminton courts at Changi Simei CC. Food Courts/Coffee Shop At least 5 of them in the vicin",
            "count": 1
           },
           {
            "name": "3 others",
            "count": 3
           }
          ]
         }
        },
        {
         "name": "neighborhood_overview",
         "dtype": "object",
         "stats": {
          "unique_count": 3,
          "nan_count": 0,
          "categories": [
           {
            "name": "No Data",
            "count": 3
           },
           {
            "name": "The serenity & quiet surrounding makes it an ideal place to come back to after work / play. Lovely birds chirping for a nice morning wake up (if you leave the windows open) are a pleasure to wake up to.  Located on the main road but at just a short walk in makes it an ideal neighbourhood with excellent transport facilities & food, supermarket, etc, all as required for a convenient living.",
            "count": 1
           },
           {
            "name": "Quiet and view of the playground with exercise tracks with access to neighbourhood Simwi Estate.",
            "count": 1
           }
          ]
         }
        },
        {
         "name": "host_since",
         "dtype": "datetime64[ns]",
         "stats": {
          "unique_count": 3,
          "nan_count": 0,
          "min": "2010-09-08 00:00:00",
          "max": "2011-11-24 00:00:00",
          "histogram": [
           {
            "bin_start": 1283904000000000000,
            "bin_end": 1287722880000000000,
            "count": 1
           },
           {
            "bin_start": 1287722880000000000,
            "bin_end": 1291541760000000000,
            "count": 0
           },
           {
            "bin_start": 1291541760000000000,
            "bin_end": 1295360640000000000,
            "count": 0
           },
           {
            "bin_start": 1295360640000000000,
            "bin_end": 1299179520000000000,
            "count": 3
           },
           {
            "bin_start": 1299179520000000000,
            "bin_end": 1302998400000000000,
            "count": 0
           },
           {
            "bin_start": 1302998400000000000,
            "bin_end": 1306817280000000000,
            "count": 0
           },
           {
            "bin_start": 1306817280000000000,
            "bin_end": 1310636160000000000,
            "count": 0
           },
           {
            "bin_start": 1310636160000000000,
            "bin_end": 1314455040000000000,
            "count": 0
           },
           {
            "bin_start": 1314455040000000000,
            "bin_end": 1318273920000000000,
            "count": 0
           },
           {
            "bin_start": 1318273920000000000,
            "bin_end": 1322092800000000000,
            "count": 1
           }
          ]
         }
        },
        {
         "name": "host_response_time",
         "dtype": "object",
         "stats": {
          "unique_count": 3,
          "nan_count": 0,
          "categories": [
           {
            "name": "within a day",
            "count": 3
           },
           {
            "name": "No Data",
            "count": 1
           },
           {
            "name": "within a few hours",
            "count": 1
           }
          ]
         }
        },
        {
         "name": "host_response_rate",
         "dtype": "float64",
         "stats": {
          "unique_count": 2,
          "nan_count": 1,
          "min": "87.0",
          "max": "100.0",
          "histogram": [
           {
            "bin_start": 87,
            "bin_end": 88.3,
            "count": 1
           },
           {
            "bin_start": 88.3,
            "bin_end": 89.6,
            "count": 0
           },
           {
            "bin_start": 89.6,
            "bin_end": 90.9,
            "count": 0
           },
           {
            "bin_start": 90.9,
            "bin_end": 92.2,
            "count": 0
           },
           {
            "bin_start": 92.2,
            "bin_end": 93.5,
            "count": 0
           },
           {
            "bin_start": 93.5,
            "bin_end": 94.8,
            "count": 0
           },
           {
            "bin_start": 94.8,
            "bin_end": 96.1,
            "count": 0
           },
           {
            "bin_start": 96.1,
            "bin_end": 97.4,
            "count": 0
           },
           {
            "bin_start": 97.4,
            "bin_end": 98.7,
            "count": 0
           },
           {
            "bin_start": 98.7,
            "bin_end": 100,
            "count": 3
           }
          ]
         }
        },
        {
         "name": "host_acceptance_rate",
         "dtype": "float64",
         "stats": {
          "unique_count": 1,
          "nan_count": 4,
          "min": "77.0",
          "max": "77.0",
          "histogram": [
           {
            "bin_start": 76.5,
            "bin_end": 76.6,
            "count": 0
           },
           {
            "bin_start": 76.6,
            "bin_end": 76.7,
            "count": 0
           },
           {
            "bin_start": 76.7,
            "bin_end": 76.8,
            "count": 0
           },
           {
            "bin_start": 76.8,
            "bin_end": 76.9,
            "count": 0
           },
           {
            "bin_start": 76.9,
            "bin_end": 77,
            "count": 0
           },
           {
            "bin_start": 77,
            "bin_end": 77.1,
            "count": 1
           },
           {
            "bin_start": 77.1,
            "bin_end": 77.2,
            "count": 0
           },
           {
            "bin_start": 77.2,
            "bin_end": 77.3,
            "count": 0
           },
           {
            "bin_start": 77.3,
            "bin_end": 77.4,
            "count": 0
           },
           {
            "bin_start": 77.4,
            "bin_end": 77.5,
            "count": 0
           }
          ]
         }
        },
        {
         "name": "host_is_superhost",
         "dtype": "object",
         "stats": {
          "unique_count": 1,
          "nan_count": 0,
          "categories": [
           {
            "name": "f",
            "count": 5
           }
          ]
         }
        },
        {
         "name": "host_listings_count",
         "dtype": "float64",
         "stats": {
          "unique_count": 3,
          "nan_count": 0,
          "min": "1.0",
          "max": "16.0",
          "histogram": [
           {
            "bin_start": 1,
            "bin_end": 2.5,
            "count": 1
           },
           {
            "bin_start": 2.5,
            "bin_end": 4,
            "count": 0
           },
           {
            "bin_start": 4,
            "bin_end": 5.5,
            "count": 0
           },
           {
            "bin_start": 5.5,
            "bin_end": 7,
            "count": 0
           },
           {
            "bin_start": 7,
            "bin_end": 8.5,
            "count": 3
           },
           {
            "bin_start": 8.5,
            "bin_end": 10,
            "count": 0
           },
           {
            "bin_start": 10,
            "bin_end": 11.5,
            "count": 0
           },
           {
            "bin_start": 11.5,
            "bin_end": 13,
            "count": 0
           },
           {
            "bin_start": 13,
            "bin_end": 14.5,
            "count": 0
           },
           {
            "bin_start": 14.5,
            "bin_end": 16,
            "count": 1
           }
          ]
         }
        },
        {
         "name": "host_has_profile_pic",
         "dtype": "object",
         "stats": {
          "unique_count": 1,
          "nan_count": 0,
          "categories": [
           {
            "name": "t",
            "count": 5
           }
          ]
         }
        },
        {
         "name": "host_identity_verified",
         "dtype": "object",
         "stats": {
          "unique_count": 1,
          "nan_count": 0,
          "categories": [
           {
            "name": "t",
            "count": 5
           }
          ]
         }
        },
        {
         "name": "neighbourhood",
         "dtype": "object",
         "stats": {
          "unique_count": 2,
          "nan_count": 0,
          "categories": [
           {
            "name": "No Data",
            "count": 3
           },
           {
            "name": "Singapore, Singapore",
            "count": 2
           }
          ]
         }
        },
        {
         "name": "neighbourhood_cleansed",
         "dtype": "object",
         "stats": {
          "unique_count": 3,
          "nan_count": 0,
          "categories": [
           {
            "name": "Tampines",
            "count": 3
           },
           {
            "name": "Bukit Timah",
            "count": 1
           },
           {
            "name": "Bukit Merah",
            "count": 1
           }
          ]
         }
        },
        {
         "name": "neighbourhood_group_cleansed",
         "dtype": "object",
         "stats": {
          "unique_count": 2,
          "nan_count": 0,
          "categories": [
           {
            "name": "East Region",
            "count": 3
           },
           {
            "name": "Central Region",
            "count": 2
           }
          ]
         }
        },
        {
         "name": "latitude",
         "dtype": "float64",
         "stats": {
          "unique_count": 5,
          "nan_count": 0,
          "min": "1.29015",
          "max": "1.34754",
          "histogram": [
           {
            "bin_start": 1.29015,
            "bin_end": 1.2958889999999998,
            "count": 1
           },
           {
            "bin_start": 1.2958889999999998,
            "bin_end": 1.301628,
            "count": 0
           },
           {
            "bin_start": 1.301628,
            "bin_end": 1.307367,
            "count": 0
           },
           {
            "bin_start": 1.307367,
            "bin_end": 1.3131059999999999,
            "count": 0
           },
           {
            "bin_start": 1.3131059999999999,
            "bin_end": 1.318845,
            "count": 0
           },
           {
            "bin_start": 1.318845,
            "bin_end": 1.324584,
            "count": 0
           },
           {
            "bin_start": 1.324584,
            "bin_end": 1.330323,
            "count": 0
           },
           {
            "bin_start": 1.330323,
            "bin_end": 1.3360619999999999,
            "count": 1
           },
           {
            "bin_start": 1.3360619999999999,
            "bin_end": 1.341801,
            "count": 0
           },
           {
            "bin_start": 1.341801,
            "bin_end": 1.34754,
            "count": 3
           }
          ]
         }
        },
        {
         "name": "longitude",
         "dtype": "float64",
         "stats": {
          "unique_count": 5,
          "nan_count": 0,
          "min": "103.78521",
          "max": "103.961",
          "histogram": [
           {
            "bin_start": 103.78521,
            "bin_end": 103.802789,
            "count": 1
           },
           {
            "bin_start": 103.802789,
            "bin_end": 103.820368,
            "count": 1
           },
           {
            "bin_start": 103.820368,
            "bin_end": 103.837947,
            "count": 0
           },
           {
            "bin_start": 103.837947,
            "bin_end": 103.855526,
            "count": 0
           },
           {
            "bin_start": 103.855526,
            "bin_end": 103.87310500000001,
            "count": 0
           },
           {
            "bin_start": 103.87310500000001,
            "bin_end": 103.89068400000001,
            "count": 0
           },
           {
            "bin_start": 103.89068400000001,
            "bin_end": 103.908263,
            "count": 0
           },
           {
            "bin_start": 103.908263,
            "bin_end": 103.925842,
            "count": 0
           },
           {
            "bin_start": 103.925842,
            "bin_end": 103.943421,
            "count": 0
           },
           {
            "bin_start": 103.943421,
            "bin_end": 103.961,
            "count": 3
           }
          ]
         }
        },
        {
         "name": "property_type",
         "dtype": "object",
         "stats": {
          "unique_count": 3,
          "nan_count": 0,
          "categories": [
           {
            "name": "Private room in rental unit",
            "count": 2
           },
           {
            "name": "Private room in residential home",
            "count": 2
           },
           {
            "name": "Private room in villa",
            "count": 1
           }
          ]
         }
        },
        {
         "name": "room_type",
         "dtype": "object",
         "stats": {
          "unique_count": 1,
          "nan_count": 0,
          "categories": [
           {
            "name": "Private room",
            "count": 5
           }
          ]
         }
        },
        {
         "name": "accommodates",
         "dtype": "int64",
         "stats": {
          "unique_count": 4,
          "nan_count": 0,
          "min": "1",
          "max": "6",
          "histogram": [
           {
            "bin_start": 1,
            "bin_end": 1.5,
            "count": 1
           },
           {
            "bin_start": 1.5,
            "bin_end": 2,
            "count": 0
           },
           {
            "bin_start": 2,
            "bin_end": 2.5,
            "count": 1
           },
           {
            "bin_start": 2.5,
            "bin_end": 3,
            "count": 0
           },
           {
            "bin_start": 3,
            "bin_end": 3.5,
            "count": 2
           },
           {
            "bin_start": 3.5,
            "bin_end": 4,
            "count": 0
           },
           {
            "bin_start": 4,
            "bin_end": 4.5,
            "count": 0
           },
           {
            "bin_start": 4.5,
            "bin_end": 5,
            "count": 0
           },
           {
            "bin_start": 5,
            "bin_end": 5.5,
            "count": 0
           },
           {
            "bin_start": 5.5,
            "bin_end": 6,
            "count": 1
           }
          ]
         }
        },
        {
         "name": "bathrooms_text",
         "dtype": "object",
         "stats": {
          "unique_count": 4,
          "nan_count": 0,
          "categories": [
           {
            "name": "Shared half-bath",
            "count": 2
           },
           {
            "name": "1 bath",
            "count": 1
           },
           {
            "name": "2 others",
            "count": 2
           }
          ]
         }
        },
        {
         "name": "bedrooms",
         "dtype": "int64",
         "stats": {
          "unique_count": 2,
          "nan_count": 0,
          "min": "1",
          "max": "2",
          "histogram": [
           {
            "bin_start": 1,
            "bin_end": 1.1,
            "count": 4
           },
           {
            "bin_start": 1.1,
            "bin_end": 1.2,
            "count": 0
           },
           {
            "bin_start": 1.2,
            "bin_end": 1.3,
            "count": 0
           },
           {
            "bin_start": 1.3,
            "bin_end": 1.4,
            "count": 0
           },
           {
            "bin_start": 1.4,
            "bin_end": 1.5,
            "count": 0
           },
           {
            "bin_start": 1.5,
            "bin_end": 1.6,
            "count": 0
           },
           {
            "bin_start": 1.6,
            "bin_end": 1.7000000000000002,
            "count": 0
           },
           {
            "bin_start": 1.7000000000000002,
            "bin_end": 1.8,
            "count": 0
           },
           {
            "bin_start": 1.8,
            "bin_end": 1.9,
            "count": 0
           },
           {
            "bin_start": 1.9,
            "bin_end": 2,
            "count": 1
           }
          ]
         }
        },
        {
         "name": "beds",
         "dtype": "int64",
         "stats": {
          "unique_count": 3,
          "nan_count": 0,
          "min": "1",
          "max": "3",
          "histogram": [
           {
            "bin_start": 1,
            "bin_end": 1.2,
            "count": 3
           },
           {
            "bin_start": 1.2,
            "bin_end": 1.4,
            "count": 0
           },
           {
            "bin_start": 1.4,
            "bin_end": 1.6,
            "count": 0
           },
           {
            "bin_start": 1.6,
            "bin_end": 1.8,
            "count": 0
           },
           {
            "bin_start": 1.8,
            "bin_end": 2,
            "count": 0
           },
           {
            "bin_start": 2,
            "bin_end": 2.2,
            "count": 1
           },
           {
            "bin_start": 2.2,
            "bin_end": 2.4000000000000004,
            "count": 0
           },
           {
            "bin_start": 2.4000000000000004,
            "bin_end": 2.6,
            "count": 0
           },
           {
            "bin_start": 2.6,
            "bin_end": 2.8,
            "count": 0
           },
           {
            "bin_start": 2.8,
            "bin_end": 3,
            "count": 1
           }
          ]
         }
        },
        {
         "name": "amenities",
         "dtype": "object",
         "stats": {
          "unique_count": 5,
          "nan_count": 0,
          "categories": [
           {
            "name": "[\"Shampoo\", \"Essentials\", \"Kitchen\", \"Long term stays allowed\", \"Washer\", \"Cable TV\", \"Elevator\", \"Wifi\", \"Gym\", \"Air conditioning\", \"Pool\", \"TV with standard cable\"]",
            "count": 1
           },
           {
            "name": "[\"Hangers\", \"Cooking basics\", \"Washer\", \"Hair dryer\", \"Fire pit\", \"Shared hot tub\", \"Outdoor furniture\", \"TV\", \"Dedicated workspace\", \"Children\\u2019s books and toys\", \"Long term stays allowed\", \"Outdoor dining area\", \"Private entrance\", \"Lock on bedroom door\", \"Refrigerator\", \"Dryer\", \"Free street parking\", \"Wifi\", \"Smoke alarm\", \"Luggage dropoff allowed\", \"Shampoo\", \"Keypad\", \"Hot water\", \"BBQ grill\", \"Iron\", \"Essentials\", \"Kitchen\", \"Private fenced garden or backyard\", \"Air conditioning\", \"Fire extinguisher\"]",
            "count": 1
           },
           {
            "name": "3 others",
            "count": 3
           }
          ]
         }
        },
        {
         "name": "price",
         "dtype": "float64",
         "stats": {
          "unique_count": 4,
          "nan_count": 0,
          "min": "52.0",
          "max": "179.0",
          "histogram": [
           {
            "bin_start": 52,
            "bin_end": 64.7,
            "count": 1
           },
           {
            "bin_start": 64.7,
            "bin_end": 77.4,
            "count": 0
           },
           {
            "bin_start": 77.4,
            "bin_end": 90.1,
            "count": 3
           },
           {
            "bin_start": 90.1,
            "bin_end": 102.8,
            "count": 0
           },
           {
            "bin_start": 102.8,
            "bin_end": 115.5,
            "count": 0
           },
           {
            "bin_start": 115.5,
            "bin_end": 128.2,
            "count": 0
           },
           {
            "bin_start": 128.2,
            "bin_end": 140.89999999999998,
            "count": 0
           },
           {
            "bin_start": 140.89999999999998,
            "bin_end": 153.6,
            "count": 0
           },
           {
            "bin_start": 153.6,
            "bin_end": 166.3,
            "count": 0
           },
           {
            "bin_start": 166.3,
            "bin_end": 179,
            "count": 1
           }
          ]
         }
        },
        {
         "name": "minimum_nights",
         "dtype": "int64",
         "stats": {
          "unique_count": 3,
          "nan_count": 0,
          "min": "14",
          "max": "92",
          "histogram": [
           {
            "bin_start": 14,
            "bin_end": 21.8,
            "count": 1
           },
           {
            "bin_start": 21.8,
            "bin_end": 29.6,
            "count": 0
           },
           {
            "bin_start": 29.6,
            "bin_end": 37.4,
            "count": 0
           },
           {
            "bin_start": 37.4,
            "bin_end": 45.2,
            "count": 0
           },
           {
            "bin_start": 45.2,
            "bin_end": 53,
            "count": 0
           },
           {
            "bin_start": 53,
            "bin_end": 60.8,
            "count": 0
           },
           {
            "bin_start": 60.8,
            "bin_end": 68.6,
            "count": 0
           },
           {
            "bin_start": 68.6,
            "bin_end": 76.4,
            "count": 0
           },
           {
            "bin_start": 76.4,
            "bin_end": 84.2,
            "count": 0
           },
           {
            "bin_start": 84.2,
            "bin_end": 92,
            "count": 4
           }
          ]
         }
        },
        {
         "name": "maximum_nights",
         "dtype": "int64",
         "stats": {
          "unique_count": 3,
          "nan_count": 0,
          "min": "730",
          "max": "1125",
          "histogram": [
           {
            "bin_start": 730,
            "bin_end": 769.5,
            "count": 1
           },
           {
            "bin_start": 769.5,
            "bin_end": 809,
            "count": 0
           },
           {
            "bin_start": 809,
            "bin_end": 848.5,
            "count": 0
           },
           {
            "bin_start": 848.5,
            "bin_end": 888,
            "count": 0
           },
           {
            "bin_start": 888,
            "bin_end": 927.5,
            "count": 0
           },
           {
            "bin_start": 927.5,
            "bin_end": 967,
            "count": 0
           },
           {
            "bin_start": 967,
            "bin_end": 1006.5,
            "count": 1
           },
           {
            "bin_start": 1006.5,
            "bin_end": 1046,
            "count": 0
           },
           {
            "bin_start": 1046,
            "bin_end": 1085.5,
            "count": 0
           },
           {
            "bin_start": 1085.5,
            "bin_end": 1125,
            "count": 3
           }
          ]
         }
        },
        {
         "name": "has_availability",
         "dtype": "object",
         "stats": {
          "unique_count": 1,
          "nan_count": 0,
          "categories": [
           {
            "name": "t",
            "count": 5
           }
          ]
         }
        },
        {
         "name": "availability_30",
         "dtype": "int64",
         "stats": {
          "unique_count": 2,
          "nan_count": 0,
          "min": "6",
          "max": "30",
          "histogram": [
           {
            "bin_start": 6,
            "bin_end": 8.4,
            "count": 1
           },
           {
            "bin_start": 8.4,
            "bin_end": 10.8,
            "count": 0
           },
           {
            "bin_start": 10.8,
            "bin_end": 13.2,
            "count": 0
           },
           {
            "bin_start": 13.2,
            "bin_end": 15.6,
            "count": 0
           },
           {
            "bin_start": 15.6,
            "bin_end": 18,
            "count": 0
           },
           {
            "bin_start": 18,
            "bin_end": 20.4,
            "count": 0
           },
           {
            "bin_start": 20.4,
            "bin_end": 22.8,
            "count": 0
           },
           {
            "bin_start": 22.8,
            "bin_end": 25.2,
            "count": 0
           },
           {
            "bin_start": 25.2,
            "bin_end": 27.599999999999998,
            "count": 0
           },
           {
            "bin_start": 27.599999999999998,
            "bin_end": 30,
            "count": 4
           }
          ]
         }
        },
        {
         "name": "availability_60",
         "dtype": "int64",
         "stats": {
          "unique_count": 2,
          "nan_count": 0,
          "min": "36",
          "max": "60",
          "histogram": [
           {
            "bin_start": 36,
            "bin_end": 38.4,
            "count": 1
           },
           {
            "bin_start": 38.4,
            "bin_end": 40.8,
            "count": 0
           },
           {
            "bin_start": 40.8,
            "bin_end": 43.2,
            "count": 0
           },
           {
            "bin_start": 43.2,
            "bin_end": 45.6,
            "count": 0
           },
           {
            "bin_start": 45.6,
            "bin_end": 48,
            "count": 0
           },
           {
            "bin_start": 48,
            "bin_end": 50.4,
            "count": 0
           },
           {
            "bin_start": 50.4,
            "bin_end": 52.8,
            "count": 0
           },
           {
            "bin_start": 52.8,
            "bin_end": 55.2,
            "count": 0
           },
           {
            "bin_start": 55.2,
            "bin_end": 57.599999999999994,
            "count": 0
           },
           {
            "bin_start": 57.599999999999994,
            "bin_end": 60,
            "count": 4
           }
          ]
         }
        },
        {
         "name": "availability_90",
         "dtype": "int64",
         "stats": {
          "unique_count": 2,
          "nan_count": 0,
          "min": "66",
          "max": "90",
          "histogram": [
           {
            "bin_start": 66,
            "bin_end": 68.4,
            "count": 1
           },
           {
            "bin_start": 68.4,
            "bin_end": 70.8,
            "count": 0
           },
           {
            "bin_start": 70.8,
            "bin_end": 73.2,
            "count": 0
           },
           {
            "bin_start": 73.2,
            "bin_end": 75.6,
            "count": 0
           },
           {
            "bin_start": 75.6,
            "bin_end": 78,
            "count": 0
           },
           {
            "bin_start": 78,
            "bin_end": 80.4,
            "count": 0
           },
           {
            "bin_start": 80.4,
            "bin_end": 82.8,
            "count": 0
           },
           {
            "bin_start": 82.8,
            "bin_end": 85.2,
            "count": 0
           },
           {
            "bin_start": 85.2,
            "bin_end": 87.6,
            "count": 0
           },
           {
            "bin_start": 87.6,
            "bin_end": 90,
            "count": 4
           }
          ]
         }
        },
        {
         "name": "availability_365",
         "dtype": "int64",
         "stats": {
          "unique_count": 2,
          "nan_count": 0,
          "min": "341",
          "max": "365",
          "histogram": [
           {
            "bin_start": 341,
            "bin_end": 343.4,
            "count": 1
           },
           {
            "bin_start": 343.4,
            "bin_end": 345.8,
            "count": 0
           },
           {
            "bin_start": 345.8,
            "bin_end": 348.2,
            "count": 0
           },
           {
            "bin_start": 348.2,
            "bin_end": 350.6,
            "count": 0
           },
           {
            "bin_start": 350.6,
            "bin_end": 353,
            "count": 0
           },
           {
            "bin_start": 353,
            "bin_end": 355.4,
            "count": 0
           },
           {
            "bin_start": 355.4,
            "bin_end": 357.8,
            "count": 0
           },
           {
            "bin_start": 357.8,
            "bin_end": 360.2,
            "count": 0
           },
           {
            "bin_start": 360.2,
            "bin_end": 362.6,
            "count": 0
           },
           {
            "bin_start": 362.6,
            "bin_end": 365,
            "count": 4
           }
          ]
         }
        },
        {
         "name": "number_of_reviews",
         "dtype": "int64",
         "stats": {
          "unique_count": 4,
          "nan_count": 0,
          "min": "18",
          "max": "47",
          "histogram": [
           {
            "bin_start": 18,
            "bin_end": 20.9,
            "count": 3
           },
           {
            "bin_start": 20.9,
            "bin_end": 23.8,
            "count": 0
           },
           {
            "bin_start": 23.8,
            "bin_end": 26.7,
            "count": 1
           },
           {
            "bin_start": 26.7,
            "bin_end": 29.6,
            "count": 0
           },
           {
            "bin_start": 29.6,
            "bin_end": 32.5,
            "count": 0
           },
           {
            "bin_start": 32.5,
            "bin_end": 35.4,
            "count": 0
           },
           {
            "bin_start": 35.4,
            "bin_end": 38.3,
            "count": 0
           },
           {
            "bin_start": 38.3,
            "bin_end": 41.2,
            "count": 0
           },
           {
            "bin_start": 41.2,
            "bin_end": 44.099999999999994,
            "count": 0
           },
           {
            "bin_start": 44.099999999999994,
            "bin_end": 47,
            "count": 1
           }
          ]
         }
        },
        {
         "name": "number_of_reviews_ltm",
         "dtype": "int64",
         "stats": {
          "unique_count": 1,
          "nan_count": 0,
          "min": "0",
          "max": "0",
          "histogram": [
           {
            "bin_start": -0.5,
            "bin_end": -0.4,
            "count": 0
           },
           {
            "bin_start": -0.4,
            "bin_end": -0.3,
            "count": 0
           },
           {
            "bin_start": -0.3,
            "bin_end": -0.19999999999999996,
            "count": 0
           },
           {
            "bin_start": -0.19999999999999996,
            "bin_end": -0.09999999999999998,
            "count": 0
           },
           {
            "bin_start": -0.09999999999999998,
            "bin_end": 0,
            "count": 0
           },
           {
            "bin_start": 0,
            "bin_end": 0.10000000000000009,
            "count": 5
           },
           {
            "bin_start": 0.10000000000000009,
            "bin_end": 0.20000000000000007,
            "count": 0
           },
           {
            "bin_start": 0.20000000000000007,
            "bin_end": 0.30000000000000004,
            "count": 0
           },
           {
            "bin_start": 0.30000000000000004,
            "bin_end": 0.4,
            "count": 0
           },
           {
            "bin_start": 0.4,
            "bin_end": 0.5,
            "count": 0
           }
          ]
         }
        },
        {
         "name": "number_of_reviews_l30d",
         "dtype": "int64",
         "stats": {
          "unique_count": 1,
          "nan_count": 0,
          "min": "0",
          "max": "0",
          "histogram": [
           {
            "bin_start": -0.5,
            "bin_end": -0.4,
            "count": 0
           },
           {
            "bin_start": -0.4,
            "bin_end": -0.3,
            "count": 0
           },
           {
            "bin_start": -0.3,
            "bin_end": -0.19999999999999996,
            "count": 0
           },
           {
            "bin_start": -0.19999999999999996,
            "bin_end": -0.09999999999999998,
            "count": 0
           },
           {
            "bin_start": -0.09999999999999998,
            "bin_end": 0,
            "count": 0
           },
           {
            "bin_start": 0,
            "bin_end": 0.10000000000000009,
            "count": 5
           },
           {
            "bin_start": 0.10000000000000009,
            "bin_end": 0.20000000000000007,
            "count": 0
           },
           {
            "bin_start": 0.20000000000000007,
            "bin_end": 0.30000000000000004,
            "count": 0
           },
           {
            "bin_start": 0.30000000000000004,
            "bin_end": 0.4,
            "count": 0
           },
           {
            "bin_start": 0.4,
            "bin_end": 0.5,
            "count": 0
           }
          ]
         }
        },
        {
         "name": "review_scores_rating",
         "dtype": "float64",
         "stats": {
          "unique_count": 5,
          "nan_count": 0,
          "min": "4.16",
          "max": "4.56",
          "histogram": [
           {
            "bin_start": 4.16,
            "bin_end": 4.2,
            "count": 1
           },
           {
            "bin_start": 4.2,
            "bin_end": 4.24,
            "count": 0
           },
           {
            "bin_start": 4.24,
            "bin_end": 4.28,
            "count": 0
           },
           {
            "bin_start": 4.28,
            "bin_end": 4.32,
            "count": 0
           },
           {
            "bin_start": 4.32,
            "bin_end": 4.359999999999999,
            "count": 0
           },
           {
            "bin_start": 4.359999999999999,
            "bin_end": 4.3999999999999995,
            "count": 1
           },
           {
            "bin_start": 4.3999999999999995,
            "bin_end": 4.4399999999999995,
            "count": 1
           },
           {
            "bin_start": 4.4399999999999995,
            "bin_end": 4.4799999999999995,
            "count": 1
           },
           {
            "bin_start": 4.4799999999999995,
            "bin_end": 4.52,
            "count": 0
           },
           {
            "bin_start": 4.52,
            "bin_end": 4.56,
            "count": 1
           }
          ]
         }
        },
        {
         "name": "review_scores_accuracy",
         "dtype": "float64",
         "stats": {
          "unique_count": 5,
          "nan_count": 0,
          "min": "4.12",
          "max": "4.72",
          "histogram": [
           {
            "bin_start": 4.12,
            "bin_end": 4.18,
            "count": 1
           },
           {
            "bin_start": 4.18,
            "bin_end": 4.24,
            "count": 1
           },
           {
            "bin_start": 4.24,
            "bin_end": 4.3,
            "count": 0
           },
           {
            "bin_start": 4.3,
            "bin_end": 4.36,
            "count": 0
           },
           {
            "bin_start": 4.36,
            "bin_end": 4.42,
            "count": 2
           },
           {
            "bin_start": 4.42,
            "bin_end": 4.4799999999999995,
            "count": 0
           },
           {
            "bin_start": 4.4799999999999995,
            "bin_end": 4.54,
            "count": 0
           },
           {
            "bin_start": 4.54,
            "bin_end": 4.6,
            "count": 0
           },
           {
            "bin_start": 4.6,
            "bin_end": 4.66,
            "count": 0
           },
           {
            "bin_start": 4.66,
            "bin_end": 4.72,
            "count": 1
           }
          ]
         }
        },
        {
         "name": "review_scores_cleanliness",
         "dtype": "float64",
         "stats": {
          "unique_count": 5,
          "nan_count": 0,
          "min": "4.0",
          "max": "4.78",
          "histogram": [
           {
            "bin_start": 4,
            "bin_end": 4.078,
            "count": 1
           },
           {
            "bin_start": 4.078,
            "bin_end": 4.156,
            "count": 1
           },
           {
            "bin_start": 4.156,
            "bin_end": 4.234,
            "count": 0
           },
           {
            "bin_start": 4.234,
            "bin_end": 4.312,
            "count": 1
           },
           {
            "bin_start": 4.312,
            "bin_end": 4.390000000000001,
            "count": 0
           },
           {
            "bin_start": 4.390000000000001,
            "bin_end": 4.468,
            "count": 0
           },
           {
            "bin_start": 4.468,
            "bin_end": 4.546,
            "count": 1
           },
           {
            "bin_start": 4.546,
            "bin_end": 4.6240000000000006,
            "count": 0
           },
           {
            "bin_start": 4.6240000000000006,
            "bin_end": 4.702,
            "count": 0
           },
           {
            "bin_start": 4.702,
            "bin_end": 4.78,
            "count": 1
           }
          ]
         }
        },
        {
         "name": "review_scores_checkin",
         "dtype": "float64",
         "stats": {
          "unique_count": 4,
          "nan_count": 0,
          "min": "4.43",
          "max": "4.78",
          "histogram": [
           {
            "bin_start": 4.43,
            "bin_end": 4.465,
            "count": 1
           },
           {
            "bin_start": 4.465,
            "bin_end": 4.5,
            "count": 0
           },
           {
            "bin_start": 4.5,
            "bin_end": 4.535,
            "count": 1
           },
           {
            "bin_start": 4.535,
            "bin_end": 4.57,
            "count": 0
           },
           {
            "bin_start": 4.57,
            "bin_end": 4.605,
            "count": 0
           },
           {
            "bin_start": 4.605,
            "bin_end": 4.64,
            "count": 2
           },
           {
            "bin_start": 4.64,
            "bin_end": 4.675,
            "count": 0
           },
           {
            "bin_start": 4.675,
            "bin_end": 4.71,
            "count": 0
           },
           {
            "bin_start": 4.71,
            "bin_end": 4.745,
            "count": 0
           },
           {
            "bin_start": 4.745,
            "bin_end": 4.78,
            "count": 1
           }
          ]
         }
        },
        {
         "name": "review_scores_communication",
         "dtype": "float64",
         "stats": {
          "unique_count": 5,
          "nan_count": 0,
          "min": "4.43",
          "max": "4.94",
          "histogram": [
           {
            "bin_start": 4.43,
            "bin_end": 4.481,
            "count": 2
           },
           {
            "bin_start": 4.481,
            "bin_end": 4.532,
            "count": 0
           },
           {
            "bin_start": 4.532,
            "bin_end": 4.583,
            "count": 0
           },
           {
            "bin_start": 4.583,
            "bin_end": 4.634,
            "count": 0
           },
           {
            "bin_start": 4.634,
            "bin_end": 4.6850000000000005,
            "count": 1
           },
           {
            "bin_start": 4.6850000000000005,
            "bin_end": 4.736,
            "count": 0
           },
           {
            "bin_start": 4.736,
            "bin_end": 4.787,
            "count": 1
           },
           {
            "bin_start": 4.787,
            "bin_end": 4.838,
            "count": 0
           },
           {
            "bin_start": 4.838,
            "bin_end": 4.889,
            "count": 0
           },
           {
            "bin_start": 4.889,
            "bin_end": 4.94,
            "count": 1
           }
          ]
         }
        },
        {
         "name": "review_scores_location",
         "dtype": "float64",
         "stats": {
          "unique_count": 5,
          "nan_count": 0,
          "min": "4.17",
          "max": "4.72",
          "histogram": [
           {
            "bin_start": 4.17,
            "bin_end": 4.225,
            "count": 1
           },
           {
            "bin_start": 4.225,
            "bin_end": 4.28,
            "count": 1
           },
           {
            "bin_start": 4.28,
            "bin_end": 4.335,
            "count": 0
           },
           {
            "bin_start": 4.335,
            "bin_end": 4.39,
            "count": 0
           },
           {
            "bin_start": 4.39,
            "bin_end": 4.445,
            "count": 0
           },
           {
            "bin_start": 4.445,
            "bin_end": 4.5,
            "count": 0
           },
           {
            "bin_start": 4.5,
            "bin_end": 4.555,
            "count": 2
           },
           {
            "bin_start": 4.555,
            "bin_end": 4.609999999999999,
            "count": 0
           },
           {
            "bin_start": 4.609999999999999,
            "bin_end": 4.665,
            "count": 0
           },
           {
            "bin_start": 4.665,
            "bin_end": 4.72,
            "count": 1
           }
          ]
         }
        },
        {
         "name": "review_scores_value",
         "dtype": "float64",
         "stats": {
          "unique_count": 5,
          "nan_count": 0,
          "min": "4.04",
          "max": "4.59",
          "histogram": [
           {
            "bin_start": 4.04,
            "bin_end": 4.095,
            "count": 1
           },
           {
            "bin_start": 4.095,
            "bin_end": 4.15,
            "count": 0
           },
           {
            "bin_start": 4.15,
            "bin_end": 4.205,
            "count": 0
           },
           {
            "bin_start": 4.205,
            "bin_end": 4.26,
            "count": 0
           },
           {
            "bin_start": 4.26,
            "bin_end": 4.3149999999999995,
            "count": 0
           },
           {
            "bin_start": 4.3149999999999995,
            "bin_end": 4.37,
            "count": 2
           },
           {
            "bin_start": 4.37,
            "bin_end": 4.425,
            "count": 0
           },
           {
            "bin_start": 4.425,
            "bin_end": 4.4799999999999995,
            "count": 0
           },
           {
            "bin_start": 4.4799999999999995,
            "bin_end": 4.535,
            "count": 1
           },
           {
            "bin_start": 4.535,
            "bin_end": 4.59,
            "count": 1
           }
          ]
         }
        },
        {
         "name": "instant_bookable",
         "dtype": "object",
         "stats": {
          "unique_count": 1,
          "nan_count": 0,
          "categories": [
           {
            "name": "f",
            "count": 5
           }
          ]
         }
        },
        {
         "name": "calculated_host_listings_count",
         "dtype": "int64",
         "stats": {
          "unique_count": 3,
          "nan_count": 0,
          "min": "1",
          "max": "16",
          "histogram": [
           {
            "bin_start": 1,
            "bin_end": 2.5,
            "count": 1
           },
           {
            "bin_start": 2.5,
            "bin_end": 4,
            "count": 0
           },
           {
            "bin_start": 4,
            "bin_end": 5.5,
            "count": 3
           },
           {
            "bin_start": 5.5,
            "bin_end": 7,
            "count": 0
           },
           {
            "bin_start": 7,
            "bin_end": 8.5,
            "count": 0
           },
           {
            "bin_start": 8.5,
            "bin_end": 10,
            "count": 0
           },
           {
            "bin_start": 10,
            "bin_end": 11.5,
            "count": 0
           },
           {
            "bin_start": 11.5,
            "bin_end": 13,
            "count": 0
           },
           {
            "bin_start": 13,
            "bin_end": 14.5,
            "count": 0
           },
           {
            "bin_start": 14.5,
            "bin_end": 16,
            "count": 1
           }
          ]
         }
        },
        {
         "name": "amenities_str",
         "dtype": "object",
         "stats": {
          "unique_count": 5,
          "nan_count": 0,
          "categories": [
           {
            "name": "\"Shampoo\", \"Essentials\", \"Kitchen\", \"Long term stays allowed\", \"Washer\", \"Cable TV\", \"Elevator\", \"Wifi\", \"Gym\", \"Air conditioning\", \"Pool\", \"TV with standard cable\"",
            "count": 1
           },
           {
            "name": "\"Hangers\", \"Cooking basics\", \"Washer\", \"Hair dryer\", \"Fire pit\", \"Shared hot tub\", \"Outdoor furniture\", \"TV\", \"Dedicated workspace\", \"Children\\u2019s books and toys\", \"Long term stays allowed\", \"Outdoor dining area\", \"Private entrance\", \"Lock on bedroom door\", \"Refrigerator\", \"Dryer\", \"Free street parking\", \"Wifi\", \"Smoke alarm\", \"Luggage dropoff allowed\", \"Shampoo\", \"Keypad\", \"Hot water\", \"BBQ grill\", \"Iron\", \"Essentials\", \"Kitchen\", \"Private fenced garden or backyard\", \"Air conditioning\", \"Fire extinguisher\"",
            "count": 1
           },
           {
            "name": "3 others",
            "count": 3
           }
          ]
         }
        },
        {
         "name": "dist_to_subway",
         "dtype": "float64",
         "stats": {
          "unique_count": 5,
          "nan_count": 0,
          "min": "0.5349951408052672",
          "max": "1.0859865627591387",
          "histogram": [
           {
            "bin_start": 0.5349951408052672,
            "bin_end": 0.5900942830006544,
            "count": 1
           },
           {
            "bin_start": 0.5900942830006544,
            "bin_end": 0.6451934251960415,
            "count": 0
           },
           {
            "bin_start": 0.6451934251960415,
            "bin_end": 0.7002925673914286,
            "count": 0
           },
           {
            "bin_start": 0.7002925673914286,
            "bin_end": 0.7553917095868159,
            "count": 0
           },
           {
            "bin_start": 0.7553917095868159,
            "bin_end": 0.8104908517822029,
            "count": 2
           },
           {
            "bin_start": 0.8104908517822029,
            "bin_end": 0.8655899939775902,
            "count": 0
           },
           {
            "bin_start": 0.8655899939775902,
            "bin_end": 0.9206891361729773,
            "count": 0
           },
           {
            "bin_start": 0.9206891361729773,
            "bin_end": 0.9757882783683645,
            "count": 1
           },
           {
            "bin_start": 0.9757882783683645,
            "bin_end": 1.0308874205637517,
            "count": 0
           },
           {
            "bin_start": 1.0308874205637517,
            "bin_end": 1.0859865627591387,
            "count": 1
           }
          ]
         }
        },
        {
         "name": "name_lang",
         "dtype": "object",
         "stats": {
          "unique_count": 1,
          "nan_count": 0,
          "categories": [
           {
            "name": "en",
            "count": 5
           }
          ]
         }
        },
        {
         "name": "description_lang",
         "dtype": "object",
         "stats": {
          "unique_count": 1,
          "nan_count": 0,
          "categories": [
           {
            "name": "en",
            "count": 5
           }
          ]
         }
        },
        {
         "name": "host_months",
         "dtype": "int64",
         "stats": {
          "unique_count": 3,
          "nan_count": 0,
          "min": "122",
          "max": "136",
          "histogram": [
           {
            "bin_start": 122,
            "bin_end": 123.4,
            "count": 1
           },
           {
            "bin_start": 123.4,
            "bin_end": 124.8,
            "count": 0
           },
           {
            "bin_start": 124.8,
            "bin_end": 126.2,
            "count": 0
           },
           {
            "bin_start": 126.2,
            "bin_end": 127.6,
            "count": 0
           },
           {
            "bin_start": 127.6,
            "bin_end": 129,
            "count": 0
           },
           {
            "bin_start": 129,
            "bin_end": 130.4,
            "count": 0
           },
           {
            "bin_start": 130.4,
            "bin_end": 131.8,
            "count": 0
           },
           {
            "bin_start": 131.8,
            "bin_end": 133.2,
            "count": 3
           },
           {
            "bin_start": 133.2,
            "bin_end": 134.6,
            "count": 0
           },
           {
            "bin_start": 134.6,
            "bin_end": 136,
            "count": 1
           }
          ]
         }
        },
        {
         "name": "_deepnote_index_column",
         "dtype": "int64"
        }
       ],
       "rows": [
        {
         "id": 50646,
         "name": "Pleasant Room along Bukit Timah",
         "description": "Fully furnished bedroom with a nice view on the 10th floor of a newly built private condominium on …",
         "neighborhood_overview": "The serenity & quiet surrounding makes it an ideal place to come back to after work / play. Lovely …",
         "host_since": "2010-09-08T00:00:00.000000",
         "host_response_time": "No Data",
         "host_response_rate": "nan",
         "host_acceptance_rate": "nan",
         "host_is_superhost": "f",
         "host_listings_count": 1,
         "host_has_profile_pic": "t",
         "host_identity_verified": "t",
         "neighbourhood": "Singapore, Singapore",
         "neighbourhood_cleansed": "Bukit Timah",
         "neighbourhood_group_cleansed": "Central Region",
         "latitude": 1.33432,
         "longitude": 103.78521,
         "property_type": "Private room in rental unit",
         "room_type": "Private room",
         "accommodates": 2,
         "bathrooms_text": "1 bath",
         "bedrooms": 1,
         "beds": 1,
         "amenities": "[\"Shampoo\", \"Essentials\", \"Kitchen\", \"Long term stays allowed\", \"Washer\", \"Cable TV\", \"Elevator\", \"…",
         "price": 80,
         "minimum_nights": 90,
         "maximum_nights": 730,
         "has_availability": "t",
         "availability_30": 30,
         "availability_60": 60,
         "availability_90": 90,
         "availability_365": 365,
         "number_of_reviews": 18,
         "number_of_reviews_ltm": 0,
         "number_of_reviews_l30d": 0,
         "review_scores_rating": 4.56,
         "review_scores_accuracy": 4.72,
         "review_scores_cleanliness": 4.78,
         "review_scores_checkin": 4.78,
         "review_scores_communication": 4.94,
         "review_scores_location": 4.72,
         "review_scores_value": 4.5,
         "instant_bookable": "f",
         "calculated_host_listings_count": 1,
         "amenities_str": "\"Shampoo\", \"Essentials\", \"Kitchen\", \"Long term stays allowed\", \"Washer\", \"Cable TV\", \"Elevator\", \"W…",
         "dist_to_subway": 0.5349951408052672,
         "name_lang": "en",
         "description_lang": "en",
         "host_months": 136,
         "_deepnote_index_column": 0
        },
        {
         "id": 71609,
         "name": "Ensuite Room (Room 1 & 2) near EXPO",
         "description": "For 3 rooms.Book room 1&2 and room 4   The space  Landed Homestay Room for Rental. Between Simei an…",
         "neighborhood_overview": "No Data",
         "host_since": "2011-01-29T00:00:00.000000",
         "host_response_time": "within a day",
         "host_response_rate": 100,
         "host_acceptance_rate": "nan",
         "host_is_superhost": "f",
         "host_listings_count": 8,
         "host_has_profile_pic": "t",
         "host_identity_verified": "t",
         "neighbourhood": "No Data",
         "neighbourhood_cleansed": "Tampines",
         "neighbourhood_group_cleansed": "East Region",
         "latitude": 1.34537,
         "longitude": 103.95887,
         "property_type": "Private room in villa",
         "room_type": "Private room",
         "accommodates": 6,
         "bathrooms_text": "1 private bath",
         "bedrooms": 2,
         "beds": 3,
         "amenities": "[\"Hangers\", \"Cooking basics\", \"Washer\", \"Hair dryer\", \"Fire pit\", \"Shared hot tub\", \"Outdoor furnit…",
         "price": 179,
         "minimum_nights": 92,
         "maximum_nights": 1125,
         "has_availability": "t",
         "availability_30": 30,
         "availability_60": 60,
         "availability_90": 90,
         "availability_365": 365,
         "number_of_reviews": 20,
         "number_of_reviews_ltm": 0,
         "number_of_reviews_l30d": 0,
         "review_scores_rating": 4.44,
         "review_scores_accuracy": 4.37,
         "review_scores_cleanliness": 4,
         "review_scores_checkin": 4.63,
         "review_scores_communication": 4.78,
         "review_scores_location": 4.26,
         "review_scores_value": 4.32,
         "instant_bookable": "f",
         "calculated_host_listings_count": 5,
         "amenities_str": "\"Hangers\", \"Cooking basics\", \"Washer\", \"Hair dryer\", \"Fire pit\", \"Shared hot tub\", \"Outdoor furnitu…",
         "dist_to_subway": 0.9261668336215994,
         "name_lang": "en",
         "description_lang": "en",
         "host_months": 132,
         "_deepnote_index_column": 1
        },
        {
         "id": 71896,
         "name": "B&B  Room 1 near Airport & EXPO",
         "description": " The space  Vocational Stay Deluxe Bedroom in Singapore.(Near Airport)    Located Between    - Sime…",
         "neighborhood_overview": "No Data",
         "host_since": "2011-01-29T00:00:00.000000",
         "host_response_time": "within a day",
         "host_response_rate": 100,
         "host_acceptance_rate": "nan",
         "host_is_superhost": "f",
         "host_listings_count": 8,
         "host_has_profile_pic": "t",
         "host_identity_verified": "t",
         "neighbourhood": "No Data",
         "neighbourhood_cleansed": "Tampines",
         "neighbourhood_group_cleansed": "East Region",
         "latitude": 1.34754,
         "longitude": 103.95958,
         "property_type": "Private room in residential home",
         "room_type": "Private room",
         "accommodates": 3,
         "bathrooms_text": "Shared half-bath",
         "bedrooms": 1,
         "beds": 1,
         "amenities": "[\"Coffee maker\", \"Cooking basics\", \"Washer\", \"Hair dryer\", \"Fire pit\", \"Shared hot tub\", \"Outdoor f…",
         "price": 82,
         "minimum_nights": 92,
         "maximum_nights": 1125,
         "has_availability": "t",
         "availability_30": 30,
         "availability_60": 60,
         "availability_90": 90,
         "availability_365": 365,
         "number_of_reviews": 24,
         "number_of_reviews_ltm": 0,
         "number_of_reviews_l30d": 0,
         "review_scores_rating": 4.16,
         "review_scores_accuracy": 4.22,
         "review_scores_cleanliness": 4.09,
         "review_scores_checkin": 4.43,
         "review_scores_communication": 4.43,
         "review_scores_location": 4.17,
         "review_scores_value": 4.04,
         "instant_bookable": "f",
         "calculated_host_listings_count": 5,
         "amenities_str": "\"Coffee maker\", \"Cooking basics\", \"Washer\", \"Hair dryer\", \"Fire pit\", \"Shared hot tub\", \"Outdoor fu…",
         "dist_to_subway": 0.8027395291146818,
         "name_lang": "en",
         "description_lang": "en",
         "host_months": 132,
         "_deepnote_index_column": 2
        },
        {
         "id": 71903,
         "name": "Room 2-near Airport & EXPO",
         "description": "Like your own home, 24hrs access.   The space  Vocational Stay Deluxe Bedroom in Singapore.(Near Ai…",
         "neighborhood_overview": "Quiet and view of the playground with exercise tracks with access to neighbourhood Simwi Estate.",
         "host_since": "2011-01-29T00:00:00.000000",
         "host_response_time": "within a day",
         "host_response_rate": 100,
         "host_acceptance_rate": "nan",
         "host_is_superhost": "f",
         "host_listings_count": 8,
         "host_has_profile_pic": "t",
         "host_identity_verified": "t",
         "neighbourhood": "Singapore, Singapore",
         "neighbourhood_cleansed": "Tampines",
         "neighbourhood_group_cleansed": "East Region",
         "latitude": 1.34531,
         "longitude": 103.961,
         "property_type": "Private room in residential home",
         "room_type": "Private room",
         "accommodates": 3,
         "bathrooms_text": "Shared half-bath",
         "bedrooms": 1,
         "beds": 2,
         "amenities": "[\"Coffee maker\", \"Cooking basics\", \"Washer\", \"Hair dryer\", \"Fire pit\", \"Shared hot tub\", \"Outdoor f…",
         "price": 82,
         "minimum_nights": 92,
         "maximum_nights": 1125,
         "has_availability": "t",
         "availability_30": 30,
         "availability_60": 60,
         "availability_90": 90,
         "availability_365": 365,
         "number_of_reviews": 47,
         "number_of_reviews_ltm": 0,
         "number_of_reviews_l30d": 0,
         "review_scores_rating": 4.41,
         "review_scores_accuracy": 4.39,
         "review_scores_cleanliness": 4.52,
         "review_scores_checkin": 4.63,
         "review_scores_communication": 4.64,
         "review_scores_location": 4.5,
         "review_scores_value": 4.36,
         "instant_bookable": "f",
         "calculated_host_listings_count": 5,
         "amenities_str": "\"Coffee maker\", \"Cooking basics\", \"Washer\", \"Hair dryer\", \"Fire pit\", \"Shared hot tub\", \"Outdoor fu…",
         "dist_to_subway": 1.0859865627591387,
         "name_lang": "en",
         "description_lang": "en",
         "host_months": 132,
         "_deepnote_index_column": 3
        },
        {
         "id": 275343,
         "name": "Conveniently located City Room!(1,2,3,4,5,6,7,8)",
         "description": "Awesome location and host  Room near INSEAD, NTU, SMU, NUS   The space  Centrally located between 2…",
         "neighborhood_overview": "No Data",
         "host_since": "2011-11-24T00:00:00.000000",
         "host_response_time": "within a few hours",
         "host_response_rate": 87,
         "host_acceptance_rate": 77,
         "host_is_superhost": "f",
         "host_listings_count": 16,
         "host_has_profile_pic": "t",
         "host_identity_verified": "t",
         "neighbourhood": "No Data",
         "neighbourhood_cleansed": "Bukit Merah",
         "neighbourhood_group_cleansed": "Central Region",
         "latitude": 1.29015,
         "longitude": 103.80814,
         "property_type": "Private room in rental unit",
         "room_type": "Private room",
         "accommodates": 1,
         "bathrooms_text": "No Data",
         "bedrooms": 1,
         "beds": 1,
         "amenities": "[\"Shampoo\", \"Essentials\", \"Keypad\", \"Kitchen\", \"Long term stays allowed\", \"Washer\", \"Hair dryer\", \"…",
         "price": 52,
         "minimum_nights": 14,
         "maximum_nights": 999,
         "has_availability": "t",
         "availability_30": 6,
         "availability_60": 36,
         "availability_90": 66,
         "availability_365": 341,
         "number_of_reviews": 20,
         "number_of_reviews_ltm": 0,
         "number_of_reviews_l30d": 0,
         "review_scores_rating": 4.39,
         "review_scores_accuracy": 4.12,
         "review_scores_cleanliness": 4.24,
         "review_scores_checkin": 4.53,
         "review_scores_communication": 4.47,
         "review_scores_location": 4.53,
         "review_scores_value": 4.59,
         "instant_bookable": "f",
         "calculated_host_listings_count": 16,
         "amenities_str": "\"Shampoo\", \"Essentials\", \"Keypad\", \"Kitchen\", \"Long term stays allowed\", \"Washer\", \"Hair dryer\", \"L…",
         "dist_to_subway": 0.7750468559345586,
         "name_lang": "en",
         "description_lang": "en",
         "host_months": 122,
         "_deepnote_index_column": 4
        }
       ]
      },
      "text/plain": "       id                                              name  \\\n0   50646                   Pleasant Room along Bukit Timah   \n1   71609               Ensuite Room (Room 1 & 2) near EXPO   \n2   71896                   B&B  Room 1 near Airport & EXPO   \n3   71903                        Room 2-near Airport & EXPO   \n4  275343  Conveniently located City Room!(1,2,3,4,5,6,7,8)   \n\n                                         description  \\\n0  Fully furnished bedroom with a nice view on th...   \n1  For 3 rooms.Book room 1&2 and room 4   The spa...   \n2   The space  Vocational Stay Deluxe Bedroom in ...   \n3  Like your own home, 24hrs access.   The space ...   \n4  Awesome location and host  Room near INSEAD, N...   \n\n                               neighborhood_overview host_since  \\\n0  The serenity & quiet surrounding makes it an i... 2010-09-08   \n1                                            No Data 2011-01-29   \n2                                            No Data 2011-01-29   \n3  Quiet and view of the playground with exercise... 2011-01-29   \n4                                            No Data 2011-11-24   \n\n   host_response_time  host_response_rate  host_acceptance_rate  \\\n0             No Data                 NaN                   NaN   \n1        within a day               100.0                   NaN   \n2        within a day               100.0                   NaN   \n3        within a day               100.0                   NaN   \n4  within a few hours                87.0                  77.0   \n\n  host_is_superhost  host_listings_count  ... review_scores_communication  \\\n0                 f                  1.0  ...                        4.94   \n1                 f                  8.0  ...                        4.78   \n2                 f                  8.0  ...                        4.43   \n3                 f                  8.0  ...                        4.64   \n4                 f                 16.0  ...                        4.47   \n\n  review_scores_location review_scores_value instant_bookable  \\\n0                   4.72                4.50                f   \n1                   4.26                4.32                f   \n2                   4.17                4.04                f   \n3                   4.50                4.36                f   \n4                   4.53                4.59                f   \n\n  calculated_host_listings_count  \\\n0                              1   \n1                              5   \n2                              5   \n3                              5   \n4                             16   \n\n                                       amenities_str  dist_to_subway  \\\n0  \"Shampoo\", \"Essentials\", \"Kitchen\", \"Long term...        0.534995   \n1  \"Hangers\", \"Cooking basics\", \"Washer\", \"Hair d...        0.926167   \n2  \"Coffee maker\", \"Cooking basics\", \"Washer\", \"H...        0.802740   \n3  \"Coffee maker\", \"Cooking basics\", \"Washer\", \"H...        1.085987   \n4  \"Shampoo\", \"Essentials\", \"Keypad\", \"Kitchen\", ...        0.775047   \n\n  name_lang description_lang  host_months  \n0        en               en          136  \n1        en               en          132  \n2        en               en          132  \n3        en               en          132  \n4        en               en          122  \n\n[5 rows x 49 columns]",
      "text/html": "<div>\n<style scoped>\n    .dataframe tbody tr th:only-of-type {\n        vertical-align: middle;\n    }\n\n    .dataframe tbody tr th {\n        vertical-align: top;\n    }\n\n    .dataframe thead th {\n        text-align: right;\n    }\n</style>\n<table border=\"1\" class=\"dataframe\">\n  <thead>\n    <tr style=\"text-align: right;\">\n      <th></th>\n      <th>id</th>\n      <th>name</th>\n      <th>description</th>\n      <th>neighborhood_overview</th>\n      <th>host_since</th>\n      <th>host_response_time</th>\n      <th>host_response_rate</th>\n      <th>host_acceptance_rate</th>\n      <th>host_is_superhost</th>\n      <th>host_listings_count</th>\n      <th>...</th>\n      <th>review_scores_communication</th>\n      <th>review_scores_location</th>\n      <th>review_scores_value</th>\n      <th>instant_bookable</th>\n      <th>calculated_host_listings_count</th>\n      <th>amenities_str</th>\n      <th>dist_to_subway</th>\n      <th>name_lang</th>\n      <th>description_lang</th>\n      <th>host_months</th>\n    </tr>\n  </thead>\n  <tbody>\n    <tr>\n      <th>0</th>\n      <td>50646</td>\n      <td>Pleasant Room along Bukit Timah</td>\n      <td>Fully furnished bedroom with a nice view on th...</td>\n      <td>The serenity &amp; quiet surrounding makes it an i...</td>\n      <td>2010-09-08</td>\n      <td>No Data</td>\n      <td>NaN</td>\n      <td>NaN</td>\n      <td>f</td>\n      <td>1.0</td>\n      <td>...</td>\n      <td>4.94</td>\n      <td>4.72</td>\n      <td>4.50</td>\n      <td>f</td>\n      <td>1</td>\n      <td>\"Shampoo\", \"Essentials\", \"Kitchen\", \"Long term...</td>\n      <td>0.534995</td>\n      <td>en</td>\n      <td>en</td>\n      <td>136</td>\n    </tr>\n    <tr>\n      <th>1</th>\n      <td>71609</td>\n      <td>Ensuite Room (Room 1 &amp; 2) near EXPO</td>\n      <td>For 3 rooms.Book room 1&amp;2 and room 4   The spa...</td>\n      <td>No Data</td>\n      <td>2011-01-29</td>\n      <td>within a day</td>\n      <td>100.0</td>\n      <td>NaN</td>\n      <td>f</td>\n      <td>8.0</td>\n      <td>...</td>\n      <td>4.78</td>\n      <td>4.26</td>\n      <td>4.32</td>\n      <td>f</td>\n      <td>5</td>\n      <td>\"Hangers\", \"Cooking basics\", \"Washer\", \"Hair d...</td>\n      <td>0.926167</td>\n      <td>en</td>\n      <td>en</td>\n      <td>132</td>\n    </tr>\n    <tr>\n      <th>2</th>\n      <td>71896</td>\n      <td>B&amp;B  Room 1 near Airport &amp; EXPO</td>\n      <td>The space  Vocational Stay Deluxe Bedroom in ...</td>\n      <td>No Data</td>\n      <td>2011-01-29</td>\n      <td>within a day</td>\n      <td>100.0</td>\n      <td>NaN</td>\n      <td>f</td>\n      <td>8.0</td>\n      <td>...</td>\n      <td>4.43</td>\n      <td>4.17</td>\n      <td>4.04</td>\n      <td>f</td>\n      <td>5</td>\n      <td>\"Coffee maker\", \"Cooking basics\", \"Washer\", \"H...</td>\n      <td>0.802740</td>\n      <td>en</td>\n      <td>en</td>\n      <td>132</td>\n    </tr>\n    <tr>\n      <th>3</th>\n      <td>71903</td>\n      <td>Room 2-near Airport &amp; EXPO</td>\n      <td>Like your own home, 24hrs access.   The space ...</td>\n      <td>Quiet and view of the playground with exercise...</td>\n      <td>2011-01-29</td>\n      <td>within a day</td>\n      <td>100.0</td>\n      <td>NaN</td>\n      <td>f</td>\n      <td>8.0</td>\n      <td>...</td>\n      <td>4.64</td>\n      <td>4.50</td>\n      <td>4.36</td>\n      <td>f</td>\n      <td>5</td>\n      <td>\"Coffee maker\", \"Cooking basics\", \"Washer\", \"H...</td>\n      <td>1.085987</td>\n      <td>en</td>\n      <td>en</td>\n      <td>132</td>\n    </tr>\n    <tr>\n      <th>4</th>\n      <td>275343</td>\n      <td>Conveniently located City Room!(1,2,3,4,5,6,7,8)</td>\n      <td>Awesome location and host  Room near INSEAD, N...</td>\n      <td>No Data</td>\n      <td>2011-11-24</td>\n      <td>within a few hours</td>\n      <td>87.0</td>\n      <td>77.0</td>\n      <td>f</td>\n      <td>16.0</td>\n      <td>...</td>\n      <td>4.47</td>\n      <td>4.53</td>\n      <td>4.59</td>\n      <td>f</td>\n      <td>16</td>\n      <td>\"Shampoo\", \"Essentials\", \"Keypad\", \"Kitchen\", ...</td>\n      <td>0.775047</td>\n      <td>en</td>\n      <td>en</td>\n      <td>122</td>\n    </tr>\n  </tbody>\n</table>\n<p>5 rows × 49 columns</p>\n</div>"
     },
     "metadata": {}
    }
   ]
  },
  {
   "cell_type": "code",
   "metadata": {
    "deepnote_to_be_reexecuted": false,
    "execution_millis": 1522,
    "execution_start": 1647324554390,
    "source_hash": "f2924313",
    "tags": [],
    "cell_id": "00024-bea0a733-85ad-4c0f-8a8c-6834c7a75ca4",
    "deepnote_cell_type": "code",
    "deepnote_cell_height": 117
   },
   "source": "# Store processed listings and reviews as csv\nlistings.to_csv('SG_processed_listings.csv', index=False)\nreviews.to_csv('SG_processed_reviews.csv', index=False)",
   "execution_count": null,
   "outputs": []
  },
  {
   "cell_type": "markdown",
   "source": "## Combining Listings & Reviews",
   "metadata": {
    "tags": [],
    "cell_id": "00025-7aa0635a-a07e-40e7-90de-a4a2244d1112",
    "deepnote_cell_type": "markdown",
    "deepnote_cell_height": 70
   }
  },
  {
   "cell_type": "code",
   "metadata": {
    "deepnote_to_be_reexecuted": false,
    "execution_millis": 635,
    "execution_start": 1647324562448,
    "source_hash": "7d3d423b",
    "tags": [],
    "cell_id": "00026-65346fdb-22b0-4c36-9def-48893972d612",
    "deepnote_cell_type": "code",
    "deepnote_cell_height": 99
   },
   "source": "listings = pd.read_csv('SG_processed_listings.csv')\nreviews = pd.read_csv('SG_processed_reviews.csv', lineterminator='\\n')",
   "execution_count": null,
   "outputs": []
  },
  {
   "cell_type": "code",
   "metadata": {
    "deepnote_table_loading": false,
    "deepnote_table_state": {
     "filters": [],
     "pageIndex": 0,
     "pageSize": 10,
     "sortBy": []
    },
    "deepnote_to_be_reexecuted": false,
    "execution_millis": 1540,
    "execution_start": 1647324582826,
    "source_hash": "a5e68d13",
    "tags": [],
    "cell_id": "00027-81fe8af1-1a5e-4192-8a68-bd891b4a644e",
    "deepnote_cell_type": "code",
    "deepnote_cell_height": 760.65625
   },
   "source": "reviews.columns = ['id', 'comments', 'num_words', 'language']\n\ncombined = pd.merge(listings, reviews, on='id', how='left')\ncombined = combined.drop(['num_words', 'language'], axis=1)\ncombined_comments = combined.groupby('id')['comments'].apply(lambda x: list(x)).reset_index()\ncombined_comments['comments'] = combined_comments['comments'].apply(lambda x: [] if x[0] != x[0] else x)\ncombined = pd.merge(listings, combined_comments, on='id', how='left')\n\ncombined",
   "execution_count": null,
   "outputs": [
    {
     "output_type": "execute_result",
     "execution_count": 31,
     "data": {
      "application/vnd.deepnote.dataframe.v3+json": {
       "column_count": 50,
       "row_count": 3111,
       "columns": [
        {
         "name": "id",
         "dtype": "int64",
         "stats": {
          "unique_count": 3111,
          "nan_count": 0,
          "min": "50646",
          "max": "53927825",
          "histogram": [
           {
            "bin_start": 50646,
            "bin_end": 5438363.9,
            "count": 152
           },
           {
            "bin_start": 5438363.9,
            "bin_end": 10826081.8,
            "count": 256
           },
           {
            "bin_start": 10826081.8,
            "bin_end": 16213799.700000001,
            "count": 264
           },
           {
            "bin_start": 16213799.700000001,
            "bin_end": 21601517.6,
            "count": 268
           },
           {
            "bin_start": 21601517.6,
            "bin_end": 26989235.5,
            "count": 343
           },
           {
            "bin_start": 26989235.5,
            "bin_end": 32376953.400000002,
            "count": 279
           },
           {
            "bin_start": 32376953.400000002,
            "bin_end": 37764671.300000004,
            "count": 331
           },
           {
            "bin_start": 37764671.300000004,
            "bin_end": 43152389.2,
            "count": 544
           },
           {
            "bin_start": 43152389.2,
            "bin_end": 48540107.1,
            "count": 321
           },
           {
            "bin_start": 48540107.1,
            "bin_end": 53927825,
            "count": 353
           }
          ]
         }
        },
        {
         "name": "name",
         "dtype": "object",
         "stats": {
          "unique_count": 2846,
          "nan_count": 0,
          "categories": [
           {
            "name": "Novena_Serviced Apartment Premium OneBedroomStudio",
            "count": 10
           },
           {
            "name": "Single Capsule For 1",
            "count": 7
           },
           {
            "name": "2844 others",
            "count": 3094
           }
          ]
         }
        },
        {
         "name": "description",
         "dtype": "object",
         "stats": {
          "unique_count": 2391,
          "nan_count": 0,
          "categories": [
           {
            "name": "No Data",
            "count": 90
           },
           {
            "name": "A paradise that says you deserve the best in life. Located minutes from Singapore's city centre in a quiet suburb that is both convenient and charming. Surrounded by open spaces and greenery as well as top-notch medical centres, well-established schools and irresistible entertainment options, all just a short walk or ride away.   The space  A beautiful and spacious apartment equipped with the following room amenities:  - Designer bed frames with Queen Size Mattress and quality linens - Designer dining table with beautiful chairs - Kitchen with full cooking utensils, Rice Cooker, Gas/Induction Stove - Refrigerator and Freezer - Comprehensive Cooking Utensils & Cutlery - Hair Dryer - Iron and Ironing Board - Washing Machine cum Dryer - Air-Conditioning with Individual Controller   Guest access  Arrived SG please text us one hour in advance   - CHECK IN and CHECK OUT TIME Our chec",
            "count": 43
           },
           {
            "name": "2389 others",
            "count": 2978
           }
          ]
         }
        },
        {
         "name": "neighborhood_overview",
         "dtype": "object",
         "stats": {
          "unique_count": 1059,
          "nan_count": 0,
          "categories": [
           {
            "name": "No Data",
            "count": 1036
           },
           {
            "name": "- Apartment is within lavender neighbourhood (horne rd, king george's ave, penhas rd, hamilton rd, cavan rd, french rd), an area of pre-war historical buildings for residential. - Access to TWO MRT lines: 4-5 mins walk from Lavender MRT (green line), or 8-9 mins walk from farrer park MRT (purple line) - Good location! proximity to everything! 24-hours food & drinks outlets - 2 mins walk to Amenities (24-hr food centres / Supermarket such as Mustafa, etc) - 2 mins walk to Jalan Besar Public Swimming Pool, Olympic size. ($1/entry for all) & Gymnasium ($1/entry) - 4 mins walk to lavender MRT, 1-3 stations away from Bugis, City Hall, Raffles Place, Promenade, Dhoby Gaut. - 4 mins walk to major roads bus stops (lavender street, Victoria street, Jalan besar) - 10 to 15 mins bus ride to CBD areas for work, boat quay & clarke quay for night entertainments, etc.",
            "count": 87
           },
           {
            "name": "1057 others",
            "count": 1988
           }
          ]
         }
        },
        {
         "name": "host_since",
         "dtype": "object",
         "stats": {
          "unique_count": 784,
          "nan_count": 0,
          "categories": [
           {
            "name": "2017-07-05",
            "count": 179
           },
           {
            "name": "2017-10-27",
            "count": 160
           },
           {
            "name": "782 others",
            "count": 2772
           }
          ]
         }
        },
        {
         "name": "host_response_time",
         "dtype": "object",
         "stats": {
          "unique_count": 5,
          "nan_count": 0,
          "categories": [
           {
            "name": "within a few hours",
            "count": 1182
           },
           {
            "name": "within an hour",
            "count": 627
           },
           {
            "name": "3 others",
            "count": 1302
           }
          ]
         }
        },
        {
         "name": "host_response_rate",
         "dtype": "float64",
         "stats": {
          "unique_count": 64,
          "nan_count": 396,
          "min": "0.0",
          "max": "100.0",
          "histogram": [
           {
            "bin_start": 0,
            "bin_end": 10,
            "count": 315
           },
           {
            "bin_start": 10,
            "bin_end": 20,
            "count": 16
           },
           {
            "bin_start": 20,
            "bin_end": 30,
            "count": 40
           },
           {
            "bin_start": 30,
            "bin_end": 40,
            "count": 19
           },
           {
            "bin_start": 40,
            "bin_end": 50,
            "count": 126
           },
           {
            "bin_start": 50,
            "bin_end": 60,
            "count": 60
           },
           {
            "bin_start": 60,
            "bin_end": 70,
            "count": 38
           },
           {
            "bin_start": 70,
            "bin_end": 80,
            "count": 77
           },
           {
            "bin_start": 80,
            "bin_end": 90,
            "count": 300
           },
           {
            "bin_start": 90,
            "bin_end": 100,
            "count": 1724
           }
          ]
         }
        },
        {
         "name": "host_acceptance_rate",
         "dtype": "float64",
         "stats": {
          "unique_count": 72,
          "nan_count": 631,
          "min": "0.0",
          "max": "100.0",
          "histogram": [
           {
            "bin_start": 0,
            "bin_end": 10,
            "count": 318
           },
           {
            "bin_start": 10,
            "bin_end": 20,
            "count": 70
           },
           {
            "bin_start": 20,
            "bin_end": 30,
            "count": 60
           },
           {
            "bin_start": 30,
            "bin_end": 40,
            "count": 352
           },
           {
            "bin_start": 40,
            "bin_end": 50,
            "count": 201
           },
           {
            "bin_start": 50,
            "bin_end": 60,
            "count": 87
           },
           {
            "bin_start": 60,
            "bin_end": 70,
            "count": 70
           },
           {
            "bin_start": 70,
            "bin_end": 80,
            "count": 154
           },
           {
            "bin_start": 80,
            "bin_end": 90,
            "count": 347
           },
           {
            "bin_start": 90,
            "bin_end": 100,
            "count": 821
           }
          ]
         }
        },
        {
         "name": "host_is_superhost",
         "dtype": "object",
         "stats": {
          "unique_count": 2,
          "nan_count": 0,
          "categories": [
           {
            "name": "f",
            "count": 2471
           },
           {
            "name": "t",
            "count": 640
           }
          ]
         }
        },
        {
         "name": "host_listings_count",
         "dtype": "float64",
         "stats": {
          "unique_count": 52,
          "nan_count": 0,
          "min": "0.0",
          "max": "467.0",
          "histogram": [
           {
            "bin_start": 0,
            "bin_end": 46.7,
            "count": 2043
           },
           {
            "bin_start": 46.7,
            "bin_end": 93.4,
            "count": 425
           },
           {
            "bin_start": 93.4,
            "bin_end": 140.10000000000002,
            "count": 202
           },
           {
            "bin_start": 140.10000000000002,
            "bin_end": 186.8,
            "count": 7
           },
           {
            "bin_start": 186.8,
            "bin_end": 233.5,
            "count": 160
           },
           {
            "bin_start": 233.5,
            "bin_end": 280.20000000000005,
            "count": 96
           },
           {
            "bin_start": 280.20000000000005,
            "bin_end": 326.90000000000003,
            "count": 0
           },
           {
            "bin_start": 326.90000000000003,
            "bin_end": 373.6,
            "count": 0
           },
           {
            "bin_start": 373.6,
            "bin_end": 420.3,
            "count": 0
           },
           {
            "bin_start": 420.3,
            "bin_end": 467,
            "count": 178
           }
          ]
         }
        },
        {
         "name": "host_has_profile_pic",
         "dtype": "object",
         "stats": {
          "unique_count": 2,
          "nan_count": 0,
          "categories": [
           {
            "name": "t",
            "count": 3098
           },
           {
            "name": "f",
            "count": 13
           }
          ]
         }
        },
        {
         "name": "host_identity_verified",
         "dtype": "object",
         "stats": {
          "unique_count": 2,
          "nan_count": 0,
          "categories": [
           {
            "name": "t",
            "count": 2570
           },
           {
            "name": "f",
            "count": 541
           }
          ]
         }
        },
        {
         "name": "neighbourhood",
         "dtype": "object",
         "stats": {
          "unique_count": 52,
          "nan_count": 0,
          "categories": [
           {
            "name": "Singapore, Singapore",
            "count": 1947
           },
           {
            "name": "No Data",
            "count": 1036
           },
           {
            "name": "50 others",
            "count": 128
           }
          ]
         }
        },
        {
         "name": "neighbourhood_cleansed",
         "dtype": "object",
         "stats": {
          "unique_count": 43,
          "nan_count": 0,
          "categories": [
           {
            "name": "Kallang",
            "count": 373
           },
           {
            "name": "Geylang",
            "count": 318
           },
           {
            "name": "41 others",
            "count": 2420
           }
          ]
         }
        },
        {
         "name": "neighbourhood_group_cleansed",
         "dtype": "object",
         "stats": {
          "unique_count": 5,
          "nan_count": 0,
          "categories": [
           {
            "name": "Central Region",
            "count": 2422
           },
           {
            "name": "West Region",
            "count": 243
           },
           {
            "name": "3 others",
            "count": 446
           }
          ]
         }
        },
        {
         "name": "latitude",
         "dtype": "float64",
         "stats": {
          "unique_count": 2462,
          "nan_count": 0,
          "min": "1.24535",
          "max": "1.45328",
          "histogram": [
           {
            "bin_start": 1.24535,
            "bin_end": 1.266143,
            "count": 20
           },
           {
            "bin_start": 1.266143,
            "bin_end": 1.2869359999999999,
            "count": 568
           },
           {
            "bin_start": 1.2869359999999999,
            "bin_end": 1.307729,
            "count": 832
           },
           {
            "bin_start": 1.307729,
            "bin_end": 1.328522,
            "count": 1146
           },
           {
            "bin_start": 1.328522,
            "bin_end": 1.3493149999999998,
            "count": 220
           },
           {
            "bin_start": 1.3493149999999998,
            "bin_end": 1.3701079999999999,
            "count": 119
           },
           {
            "bin_start": 1.3701079999999999,
            "bin_end": 1.390901,
            "count": 86
           },
           {
            "bin_start": 1.390901,
            "bin_end": 1.411694,
            "count": 38
           },
           {
            "bin_start": 1.411694,
            "bin_end": 1.4324869999999998,
            "count": 34
           },
           {
            "bin_start": 1.4324869999999998,
            "bin_end": 1.45328,
            "count": 48
           }
          ]
         }
        },
        {
         "name": "longitude",
         "dtype": "float64",
         "stats": {
          "unique_count": 2561,
          "nan_count": 0,
          "min": "103.64828",
          "max": "103.96966",
          "histogram": [
           {
            "bin_start": 103.64828,
            "bin_end": 103.680418,
            "count": 2
           },
           {
            "bin_start": 103.680418,
            "bin_end": 103.712556,
            "count": 34
           },
           {
            "bin_start": 103.712556,
            "bin_end": 103.744694,
            "count": 87
           },
           {
            "bin_start": 103.744694,
            "bin_end": 103.776832,
            "count": 145
           },
           {
            "bin_start": 103.776832,
            "bin_end": 103.80897,
            "count": 194
           },
           {
            "bin_start": 103.80897,
            "bin_end": 103.841108,
            "count": 555
           },
           {
            "bin_start": 103.841108,
            "bin_end": 103.87324600000001,
            "count": 1399
           },
           {
            "bin_start": 103.87324600000001,
            "bin_end": 103.905384,
            "count": 457
           },
           {
            "bin_start": 103.905384,
            "bin_end": 103.937522,
            "count": 172
           },
           {
            "bin_start": 103.937522,
            "bin_end": 103.96966,
            "count": 66
           }
          ]
         }
        },
        {
         "name": "property_type",
         "dtype": "object",
         "stats": {
          "unique_count": 47,
          "nan_count": 0,
          "categories": [
           {
            "name": "Private room in rental unit",
            "count": 654
           },
           {
            "name": "Entire condominium (condo)",
            "count": 565
           },
           {
            "name": "45 others",
            "count": 1892
           }
          ]
         }
        },
        {
         "name": "room_type",
         "dtype": "object",
         "stats": {
          "unique_count": 4,
          "nan_count": 0,
          "categories": [
           {
            "name": "Private room",
            "count": 1444
           },
           {
            "name": "Entire home/apt",
            "count": 1385
           },
           {
            "name": "2 others",
            "count": 282
           }
          ]
         }
        },
        {
         "name": "accommodates",
         "dtype": "int64",
         "stats": {
          "unique_count": 15,
          "nan_count": 0,
          "min": "1",
          "max": "16",
          "histogram": [
           {
            "bin_start": 1,
            "bin_end": 2.5,
            "count": 1871
           },
           {
            "bin_start": 2.5,
            "bin_end": 4,
            "count": 277
           },
           {
            "bin_start": 4,
            "bin_end": 5.5,
            "count": 542
           },
           {
            "bin_start": 5.5,
            "bin_end": 7,
            "count": 236
           },
           {
            "bin_start": 7,
            "bin_end": 8.5,
            "count": 105
           },
           {
            "bin_start": 8.5,
            "bin_end": 10,
            "count": 13
           },
           {
            "bin_start": 10,
            "bin_end": 11.5,
            "count": 19
           },
           {
            "bin_start": 11.5,
            "bin_end": 13,
            "count": 13
           },
           {
            "bin_start": 13,
            "bin_end": 14.5,
            "count": 4
           },
           {
            "bin_start": 14.5,
            "bin_end": 16,
            "count": 31
           }
          ]
         }
        },
        {
         "name": "bathrooms_text",
         "dtype": "object",
         "stats": {
          "unique_count": 42,
          "nan_count": 0,
          "categories": [
           {
            "name": "1 bath",
            "count": 903
           },
           {
            "name": "1 private bath",
            "count": 560
           },
           {
            "name": "40 others",
            "count": 1648
           }
          ]
         }
        },
        {
         "name": "bedrooms",
         "dtype": "int64",
         "stats": {
          "unique_count": 7,
          "nan_count": 0,
          "min": "1",
          "max": "8",
          "histogram": [
           {
            "bin_start": 1,
            "bin_end": 1.7,
            "count": 2365
           },
           {
            "bin_start": 1.7,
            "bin_end": 2.4,
            "count": 476
           },
           {
            "bin_start": 2.4,
            "bin_end": 3.0999999999999996,
            "count": 236
           },
           {
            "bin_start": 3.0999999999999996,
            "bin_end": 3.8,
            "count": 0
           },
           {
            "bin_start": 3.8,
            "bin_end": 4.5,
            "count": 26
           },
           {
            "bin_start": 4.5,
            "bin_end": 5.199999999999999,
            "count": 5
           },
           {
            "bin_start": 5.199999999999999,
            "bin_end": 5.8999999999999995,
            "count": 0
           },
           {
            "bin_start": 5.8999999999999995,
            "bin_end": 6.6,
            "count": 2
           },
           {
            "bin_start": 6.6,
            "bin_end": 7.3,
            "count": 0
           },
           {
            "bin_start": 7.3,
            "bin_end": 8,
            "count": 1
           }
          ]
         }
        },
        {
         "name": "beds",
         "dtype": "int64",
         "stats": {
          "unique_count": 19,
          "nan_count": 0,
          "min": "1",
          "max": "46",
          "histogram": [
           {
            "bin_start": 1,
            "bin_end": 5.5,
            "count": 2984
           },
           {
            "bin_start": 5.5,
            "bin_end": 10,
            "count": 67
           },
           {
            "bin_start": 10,
            "bin_end": 14.5,
            "count": 36
           },
           {
            "bin_start": 14.5,
            "bin_end": 19,
            "count": 19
           },
           {
            "bin_start": 19,
            "bin_end": 23.5,
            "count": 1
           },
           {
            "bin_start": 23.5,
            "bin_end": 28,
            "count": 0
           },
           {
            "bin_start": 28,
            "bin_end": 32.5,
            "count": 2
           },
           {
            "bin_start": 32.5,
            "bin_end": 37,
            "count": 1
           },
           {
            "bin_start": 37,
            "bin_end": 41.5,
            "count": 0
           },
           {
            "bin_start": 41.5,
            "bin_end": 46,
            "count": 1
           }
          ]
         }
        },
        {
         "name": "amenities",
         "dtype": "object",
         "stats": {
          "unique_count": 2409,
          "nan_count": 0,
          "categories": [
           {
            "name": "[\"Hangers\", \"Bed linens\", \"Cooking basics\", \"Washer\", \"Single level home\", \"Oven\", \"Dedicated workspace\", \"Pool\", \"Long term stays allowed\", \"Private entrance\", \"Lock on bedroom door\", \"Refrigerator\", \"Dryer\", \"Microwave\", \"Free street parking\", \"Wifi\", \"Luggage dropoff allowed\", \"Extra pillows and blankets\", \"Keypad\", \"Heating\", \"Paid parking off premises\", \"Hot water\", \"Stove\", \"Iron\", \"Essentials\", \"Kitchen\", \"Air conditioning\", \"Dishes and silverware\"]",
            "count": 46
           },
           {
            "name": "[\"Shampoo\", \"Building staff\", \"Essentials\", \"Long term stays allowed\", \"Hair dryer\", \"Lock on bedroom door\", \"Wifi\", \"TV\", \"Air conditioning\", \"Dedicated workspace\", \"Smoke alarm\", \"Fire extinguisher\"]",
            "count": 20
           },
           {
            "name": "2407 others",
            "count": 3045
           }
          ]
         }
        },
        {
         "name": "price",
         "dtype": "float64",
         "stats": {
          "unique_count": 519,
          "nan_count": 0,
          "min": "13.0",
          "max": "10286.0",
          "histogram": [
           {
            "bin_start": 13,
            "bin_end": 1040.3,
            "count": 3075
           },
           {
            "bin_start": 1040.3,
            "bin_end": 2067.6,
            "count": 20
           },
           {
            "bin_start": 2067.6,
            "bin_end": 3094.8999999999996,
            "count": 4
           },
           {
            "bin_start": 3094.8999999999996,
            "bin_end": 4122.2,
            "count": 6
           },
           {
            "bin_start": 4122.2,
            "bin_end": 5149.5,
            "count": 2
           },
           {
            "bin_start": 5149.5,
            "bin_end": 6176.799999999999,
            "count": 0
           },
           {
            "bin_start": 6176.799999999999,
            "bin_end": 7204.099999999999,
            "count": 1
           },
           {
            "bin_start": 7204.099999999999,
            "bin_end": 8231.4,
            "count": 1
           },
           {
            "bin_start": 8231.4,
            "bin_end": 9258.699999999999,
            "count": 1
           },
           {
            "bin_start": 9258.699999999999,
            "bin_end": 10286,
            "count": 1
           }
          ]
         }
        },
        {
         "name": "minimum_nights",
         "dtype": "int64",
         "stats": {
          "unique_count": 64,
          "nan_count": 0,
          "min": "1",
          "max": "1000",
          "histogram": [
           {
            "bin_start": 1,
            "bin_end": 100.9,
            "count": 2961
           },
           {
            "bin_start": 100.9,
            "bin_end": 200.8,
            "count": 118
           },
           {
            "bin_start": 200.8,
            "bin_end": 300.70000000000005,
            "count": 1
           },
           {
            "bin_start": 300.70000000000005,
            "bin_end": 400.6,
            "count": 27
           },
           {
            "bin_start": 400.6,
            "bin_end": 500.5,
            "count": 0
           },
           {
            "bin_start": 500.5,
            "bin_end": 600.4000000000001,
            "count": 0
           },
           {
            "bin_start": 600.4000000000001,
            "bin_end": 700.3000000000001,
            "count": 0
           },
           {
            "bin_start": 700.3000000000001,
            "bin_end": 800.2,
            "count": 0
           },
           {
            "bin_start": 800.2,
            "bin_end": 900.1,
            "count": 1
           },
           {
            "bin_start": 900.1,
            "bin_end": 1000,
            "count": 3
           }
          ]
         }
        },
        {
         "name": "maximum_nights",
         "dtype": "int64",
         "stats": {
          "unique_count": 74,
          "nan_count": 0,
          "min": "1",
          "max": "100000",
          "histogram": [
           {
            "bin_start": 1,
            "bin_end": 10000.9,
            "count": 3110
           },
           {
            "bin_start": 10000.9,
            "bin_end": 20000.8,
            "count": 0
           },
           {
            "bin_start": 20000.8,
            "bin_end": 30000.699999999997,
            "count": 0
           },
           {
            "bin_start": 30000.699999999997,
            "bin_end": 40000.6,
            "count": 0
           },
           {
            "bin_start": 40000.6,
            "bin_end": 50000.5,
            "count": 0
           },
           {
            "bin_start": 50000.5,
            "bin_end": 60000.399999999994,
            "count": 0
           },
           {
            "bin_start": 60000.399999999994,
            "bin_end": 70000.3,
            "count": 0
           },
           {
            "bin_start": 70000.3,
            "bin_end": 80000.2,
            "count": 0
           },
           {
            "bin_start": 80000.2,
            "bin_end": 90000.09999999999,
            "count": 0
           },
           {
            "bin_start": 90000.09999999999,
            "bin_end": 100000,
            "count": 1
           }
          ]
         }
        },
        {
         "name": "has_availability",
         "dtype": "object",
         "stats": {
          "unique_count": 2,
          "nan_count": 0,
          "categories": [
           {
            "name": "t",
            "count": 2970
           },
           {
            "name": "f",
            "count": 141
           }
          ]
         }
        },
        {
         "name": "availability_30",
         "dtype": "int64",
         "stats": {
          "unique_count": 31,
          "nan_count": 0,
          "min": "0",
          "max": "30",
          "histogram": [
           {
            "bin_start": 0,
            "bin_end": 3,
            "count": 1256
           },
           {
            "bin_start": 3,
            "bin_end": 6,
            "count": 87
           },
           {
            "bin_start": 6,
            "bin_end": 9,
            "count": 89
           },
           {
            "bin_start": 9,
            "bin_end": 12,
            "count": 87
           },
           {
            "bin_start": 12,
            "bin_end": 15,
            "count": 83
           },
           {
            "bin_start": 15,
            "bin_end": 18,
            "count": 65
           },
           {
            "bin_start": 18,
            "bin_end": 21,
            "count": 84
           },
           {
            "bin_start": 21,
            "bin_end": 24,
            "count": 165
           },
           {
            "bin_start": 24,
            "bin_end": 27,
            "count": 222
           },
           {
            "bin_start": 27,
            "bin_end": 30,
            "count": 973
           }
          ]
         }
        },
        {
         "name": "availability_60",
         "dtype": "int64",
         "stats": {
          "unique_count": 61,
          "nan_count": 0,
          "min": "0",
          "max": "60",
          "histogram": [
           {
            "bin_start": 0,
            "bin_end": 6,
            "count": 893
           },
           {
            "bin_start": 6,
            "bin_end": 12,
            "count": 63
           },
           {
            "bin_start": 12,
            "bin_end": 18,
            "count": 81
           },
           {
            "bin_start": 18,
            "bin_end": 24,
            "count": 224
           },
           {
            "bin_start": 24,
            "bin_end": 30,
            "count": 142
           },
           {
            "bin_start": 30,
            "bin_end": 36,
            "count": 75
           },
           {
            "bin_start": 36,
            "bin_end": 42,
            "count": 111
           },
           {
            "bin_start": 42,
            "bin_end": 48,
            "count": 118
           },
           {
            "bin_start": 48,
            "bin_end": 54,
            "count": 228
           },
           {
            "bin_start": 54,
            "bin_end": 60,
            "count": 1176
           }
          ]
         }
        },
        {
         "name": "availability_90",
         "dtype": "int64",
         "stats": {
          "unique_count": 91,
          "nan_count": 0,
          "min": "0",
          "max": "90",
          "histogram": [
           {
            "bin_start": 0,
            "bin_end": 9,
            "count": 791
           },
           {
            "bin_start": 9,
            "bin_end": 18,
            "count": 46
           },
           {
            "bin_start": 18,
            "bin_end": 27,
            "count": 101
           },
           {
            "bin_start": 27,
            "bin_end": 36,
            "count": 51
           },
           {
            "bin_start": 36,
            "bin_end": 45,
            "count": 71
           },
           {
            "bin_start": 45,
            "bin_end": 54,
            "count": 237
           },
           {
            "bin_start": 54,
            "bin_end": 63,
            "count": 170
           },
           {
            "bin_start": 63,
            "bin_end": 72,
            "count": 142
           },
           {
            "bin_start": 72,
            "bin_end": 81,
            "count": 182
           },
           {
            "bin_start": 81,
            "bin_end": 90,
            "count": 1320
           }
          ]
         }
        },
        {
         "name": "availability_365",
         "dtype": "int64",
         "stats": {
          "unique_count": 308,
          "nan_count": 0,
          "min": "0",
          "max": "365",
          "histogram": [
           {
            "bin_start": 0,
            "bin_end": 36.5,
            "count": 593
           },
           {
            "bin_start": 36.5,
            "bin_end": 73,
            "count": 133
           },
           {
            "bin_start": 73,
            "bin_end": 109.5,
            "count": 219
           },
           {
            "bin_start": 109.5,
            "bin_end": 146,
            "count": 135
           },
           {
            "bin_start": 146,
            "bin_end": 182.5,
            "count": 203
           },
           {
            "bin_start": 182.5,
            "bin_end": 219,
            "count": 37
           },
           {
            "bin_start": 219,
            "bin_end": 255.5,
            "count": 79
           },
           {
            "bin_start": 255.5,
            "bin_end": 292,
            "count": 90
           },
           {
            "bin_start": 292,
            "bin_end": 328.5,
            "count": 286
           },
           {
            "bin_start": 328.5,
            "bin_end": 365,
            "count": 1336
           }
          ]
         }
        },
        {
         "name": "number_of_reviews",
         "dtype": "int64"
        },
        {
         "name": "number_of_reviews_ltm",
         "dtype": "int64"
        },
        {
         "name": "number_of_reviews_l30d",
         "dtype": "int64"
        },
        {
         "name": "review_scores_rating",
         "dtype": "float64"
        },
        {
         "name": "review_scores_accuracy",
         "dtype": "float64"
        },
        {
         "name": "review_scores_cleanliness",
         "dtype": "float64"
        },
        {
         "name": "review_scores_checkin",
         "dtype": "float64"
        },
        {
         "name": "review_scores_communication",
         "dtype": "float64"
        },
        {
         "name": "review_scores_location",
         "dtype": "float64"
        },
        {
         "name": "review_scores_value",
         "dtype": "float64"
        },
        {
         "name": "instant_bookable",
         "dtype": "object"
        },
        {
         "name": "calculated_host_listings_count",
         "dtype": "int64"
        },
        {
         "name": "amenities_str",
         "dtype": "object"
        },
        {
         "name": "dist_to_subway",
         "dtype": "float64"
        },
        {
         "name": "name_lang",
         "dtype": "object"
        },
        {
         "name": "description_lang",
         "dtype": "object"
        },
        {
         "name": "host_months",
         "dtype": "int64"
        },
        {
         "name": "comments",
         "dtype": "object"
        },
        {
         "name": "_deepnote_index_column",
         "dtype": "int64"
        }
       ],
       "rows": [
        {
         "id": 50646,
         "name": "Pleasant Room along Bukit Timah",
         "description": "Fully furnished bedroom with a nice view on the 10th floor of a newly built private condominium on …",
         "neighborhood_overview": "The serenity & quiet surrounding makes it an ideal place to come back to after work / play. Lovely …",
         "host_since": "2010-09-08",
         "host_response_time": "No Data",
         "host_response_rate": "nan",
         "host_acceptance_rate": "nan",
         "host_is_superhost": "f",
         "host_listings_count": 1,
         "host_has_profile_pic": "t",
         "host_identity_verified": "t",
         "neighbourhood": "Singapore, Singapore",
         "neighbourhood_cleansed": "Bukit Timah",
         "neighbourhood_group_cleansed": "Central Region",
         "latitude": 1.33432,
         "longitude": 103.78521,
         "property_type": "Private room in rental unit",
         "room_type": "Private room",
         "accommodates": 2,
         "bathrooms_text": "1 bath",
         "bedrooms": 1,
         "beds": 1,
         "amenities": "[\"Shampoo\", \"Essentials\", \"Kitchen\", \"Long term stays allowed\", \"Washer\", \"Cable TV\", \"Elevator\", \"…",
         "price": 80,
         "minimum_nights": 90,
         "maximum_nights": 730,
         "has_availability": "t",
         "availability_30": 30,
         "availability_60": 60,
         "availability_90": 90,
         "availability_365": 365,
         "number_of_reviews": 18,
         "number_of_reviews_ltm": 0,
         "number_of_reviews_l30d": 0,
         "review_scores_rating": 4.56,
         "review_scores_accuracy": 4.72,
         "review_scores_cleanliness": 4.78,
         "review_scores_checkin": 4.78,
         "review_scores_communication": 4.94,
         "review_scores_location": 4.72,
         "review_scores_value": 4.5,
         "instant_bookable": "f",
         "calculated_host_listings_count": 1,
         "amenities_str": "\"Shampoo\", \"Essentials\", \"Kitchen\", \"Long term stays allowed\", \"Washer\", \"Cable TV\", \"Elevator\", \"W…",
         "dist_to_subway": 0.5349951408052672,
         "name_lang": "en",
         "description_lang": "en",
         "host_months": 136,
         "comments": "[\"A comfortable room in a smart condo development. Everything was kept very clean and I had the use…",
         "_deepnote_index_column": 0
        },
        {
         "id": 71609,
         "name": "Ensuite Room (Room 1 & 2) near EXPO",
         "description": "For 3 rooms.Book room 1&2 and room 4   The space  Landed Homestay Room for Rental. Between Simei an…",
         "neighborhood_overview": "No Data",
         "host_since": "2011-01-29",
         "host_response_time": "within a day",
         "host_response_rate": 100,
         "host_acceptance_rate": "nan",
         "host_is_superhost": "f",
         "host_listings_count": 8,
         "host_has_profile_pic": "t",
         "host_identity_verified": "t",
         "neighbourhood": "No Data",
         "neighbourhood_cleansed": "Tampines",
         "neighbourhood_group_cleansed": "East Region",
         "latitude": 1.34537,
         "longitude": 103.95887,
         "property_type": "Private room in villa",
         "room_type": "Private room",
         "accommodates": 6,
         "bathrooms_text": "1 private bath",
         "bedrooms": 2,
         "beds": 3,
         "amenities": "[\"Hangers\", \"Cooking basics\", \"Washer\", \"Hair dryer\", \"Fire pit\", \"Shared hot tub\", \"Outdoor furnit…",
         "price": 179,
         "minimum_nights": 92,
         "maximum_nights": 1125,
         "has_availability": "t",
         "availability_30": 30,
         "availability_60": 60,
         "availability_90": 90,
         "availability_365": 365,
         "number_of_reviews": 20,
         "number_of_reviews_ltm": 0,
         "number_of_reviews_l30d": 0,
         "review_scores_rating": 4.44,
         "review_scores_accuracy": 4.37,
         "review_scores_cleanliness": 4,
         "review_scores_checkin": 4.63,
         "review_scores_communication": 4.78,
         "review_scores_location": 4.26,
         "review_scores_value": 4.32,
         "instant_bookable": "f",
         "calculated_host_listings_count": 5,
         "amenities_str": "\"Hangers\", \"Cooking basics\", \"Washer\", \"Hair dryer\", \"Fire pit\", \"Shared hot tub\", \"Outdoor furnitu…",
         "dist_to_subway": 0.9261668336215994,
         "name_lang": "en",
         "description_lang": "en",
         "host_months": 132,
         "comments": "['The rooms were clean and tidy. Beds very comfortable.\\r Thank you Belinda.', 'Good space and quit…",
         "_deepnote_index_column": 1
        },
        {
         "id": 71896,
         "name": "B&B  Room 1 near Airport & EXPO",
         "description": " The space  Vocational Stay Deluxe Bedroom in Singapore.(Near Airport)    Located Between    - Sime…",
         "neighborhood_overview": "No Data",
         "host_since": "2011-01-29",
         "host_response_time": "within a day",
         "host_response_rate": 100,
         "host_acceptance_rate": "nan",
         "host_is_superhost": "f",
         "host_listings_count": 8,
         "host_has_profile_pic": "t",
         "host_identity_verified": "t",
         "neighbourhood": "No Data",
         "neighbourhood_cleansed": "Tampines",
         "neighbourhood_group_cleansed": "East Region",
         "latitude": 1.34754,
         "longitude": 103.95958,
         "property_type": "Private room in residential home",
         "room_type": "Private room",
         "accommodates": 3,
         "bathrooms_text": "Shared half-bath",
         "bedrooms": 1,
         "beds": 1,
         "amenities": "[\"Coffee maker\", \"Cooking basics\", \"Washer\", \"Hair dryer\", \"Fire pit\", \"Shared hot tub\", \"Outdoor f…",
         "price": 82,
         "minimum_nights": 92,
         "maximum_nights": 1125,
         "has_availability": "t",
         "availability_30": 30,
         "availability_60": 60,
         "availability_90": 90,
         "availability_365": 365,
         "number_of_reviews": 24,
         "number_of_reviews_ltm": 0,
         "number_of_reviews_l30d": 0,
         "review_scores_rating": 4.16,
         "review_scores_accuracy": 4.22,
         "review_scores_cleanliness": 4.09,
         "review_scores_checkin": 4.43,
         "review_scores_communication": 4.43,
         "review_scores_location": 4.17,
         "review_scores_value": 4.04,
         "instant_bookable": "f",
         "calculated_host_listings_count": 5,
         "amenities_str": "\"Coffee maker\", \"Cooking basics\", \"Washer\", \"Hair dryer\", \"Fire pit\", \"Shared hot tub\", \"Outdoor fu…",
         "dist_to_subway": 0.8027395291146818,
         "name_lang": "en",
         "description_lang": "en",
         "host_months": 132,
         "comments": "[\"Belinda is a kind host who certainly tries to accommodate your needs.  We didn't see her much, bu…",
         "_deepnote_index_column": 2
        },
        {
         "id": 71903,
         "name": "Room 2-near Airport & EXPO",
         "description": "Like your own home, 24hrs access.   The space  Vocational Stay Deluxe Bedroom in Singapore.(Near Ai…",
         "neighborhood_overview": "Quiet and view of the playground with exercise tracks with access to neighbourhood Simwi Estate.",
         "host_since": "2011-01-29",
         "host_response_time": "within a day",
         "host_response_rate": 100,
         "host_acceptance_rate": "nan",
         "host_is_superhost": "f",
         "host_listings_count": 8,
         "host_has_profile_pic": "t",
         "host_identity_verified": "t",
         "neighbourhood": "Singapore, Singapore",
         "neighbourhood_cleansed": "Tampines",
         "neighbourhood_group_cleansed": "East Region",
         "latitude": 1.34531,
         "longitude": 103.961,
         "property_type": "Private room in residential home",
         "room_type": "Private room",
         "accommodates": 3,
         "bathrooms_text": "Shared half-bath",
         "bedrooms": 1,
         "beds": 2,
         "amenities": "[\"Coffee maker\", \"Cooking basics\", \"Washer\", \"Hair dryer\", \"Fire pit\", \"Shared hot tub\", \"Outdoor f…",
         "price": 82,
         "minimum_nights": 92,
         "maximum_nights": 1125,
         "has_availability": "t",
         "availability_30": 30,
         "availability_60": 60,
         "availability_90": 90,
         "availability_365": 365,
         "number_of_reviews": 47,
         "number_of_reviews_ltm": 0,
         "number_of_reviews_l30d": 0,
         "review_scores_rating": 4.41,
         "review_scores_accuracy": 4.39,
         "review_scores_cleanliness": 4.52,
         "review_scores_checkin": 4.63,
         "review_scores_communication": 4.64,
         "review_scores_location": 4.5,
         "review_scores_value": 4.36,
         "instant_bookable": "f",
         "calculated_host_listings_count": 5,
         "amenities_str": "\"Coffee maker\", \"Cooking basics\", \"Washer\", \"Hair dryer\", \"Fire pit\", \"Shared hot tub\", \"Outdoor fu…",
         "dist_to_subway": 1.0859865627591387,
         "name_lang": "en",
         "description_lang": "en",
         "host_months": 132,
         "comments": "[\"I stayed at Belinda's place for 4 nights during my vacation. Seeing the location on the map I had…",
         "_deepnote_index_column": 3
        },
        {
         "id": 275343,
         "name": "Conveniently located City Room!(1,2,3,4,5,6,7,8)",
         "description": "Awesome location and host  Room near INSEAD, NTU, SMU, NUS   The space  Centrally located between 2…",
         "neighborhood_overview": "No Data",
         "host_since": "2011-11-24",
         "host_response_time": "within a few hours",
         "host_response_rate": 87,
         "host_acceptance_rate": 77,
         "host_is_superhost": "f",
         "host_listings_count": 16,
         "host_has_profile_pic": "t",
         "host_identity_verified": "t",
         "neighbourhood": "No Data",
         "neighbourhood_cleansed": "Bukit Merah",
         "neighbourhood_group_cleansed": "Central Region",
         "latitude": 1.29015,
         "longitude": 103.80814,
         "property_type": "Private room in rental unit",
         "room_type": "Private room",
         "accommodates": 1,
         "bathrooms_text": "No Data",
         "bedrooms": 1,
         "beds": 1,
         "amenities": "[\"Shampoo\", \"Essentials\", \"Keypad\", \"Kitchen\", \"Long term stays allowed\", \"Washer\", \"Hair dryer\", \"…",
         "price": 52,
         "minimum_nights": 14,
         "maximum_nights": 999,
         "has_availability": "t",
         "availability_30": 6,
         "availability_60": 36,
         "availability_90": 66,
         "availability_365": 341,
         "number_of_reviews": 20,
         "number_of_reviews_ltm": 0,
         "number_of_reviews_l30d": 0,
         "review_scores_rating": 4.39,
         "review_scores_accuracy": 4.12,
         "review_scores_cleanliness": 4.24,
         "review_scores_checkin": 4.53,
         "review_scores_communication": 4.47,
         "review_scores_location": 4.53,
         "review_scores_value": 4.59,
         "instant_bookable": "f",
         "calculated_host_listings_count": 16,
         "amenities_str": "\"Shampoo\", \"Essentials\", \"Keypad\", \"Kitchen\", \"Long term stays allowed\", \"Washer\", \"Hair dryer\", \"L…",
         "dist_to_subway": 0.7750468559345586,
         "name_lang": "en",
         "description_lang": "en",
         "host_months": 122,
         "comments": "['A newly renovated and clean apartment. Conveniently located to Redhill station. The other guests …",
         "_deepnote_index_column": 4
        },
        {
         "id": 275344,
         "name": "15 mins to Outram MRT Single Room (B)",
         "description": "Lovely home for the special guest !   The space  Great Location, Great rooms, Great People!  Please…",
         "neighborhood_overview": "Bus stop  Food center  Supermarket",
         "host_since": "2011-11-24",
         "host_response_time": "within a few hours",
         "host_response_rate": 87,
         "host_acceptance_rate": 77,
         "host_is_superhost": "f",
         "host_listings_count": 16,
         "host_has_profile_pic": "t",
         "host_identity_verified": "t",
         "neighbourhood": "Singapore, Singapore",
         "neighbourhood_cleansed": "Bukit Merah",
         "neighbourhood_group_cleansed": "Central Region",
         "latitude": 1.28836,
         "longitude": 103.81144,
         "property_type": "Private room in rental unit",
         "room_type": "Private room",
         "accommodates": 1,
         "bathrooms_text": "Shared half-bath",
         "bedrooms": 1,
         "beds": 1,
         "amenities": "[\"Shampoo\", \"Essentials\", \"Kitchen\", \"Long term stays allowed\", \"Washer\", \"Smart lock\", \"Hair dryer…",
         "price": 40,
         "minimum_nights": 14,
         "maximum_nights": 999,
         "has_availability": "t",
         "availability_30": 3,
         "availability_60": 19,
         "availability_90": 49,
         "availability_365": 324,
         "number_of_reviews": 13,
         "number_of_reviews_ltm": 1,
         "number_of_reviews_l30d": 0,
         "review_scores_rating": 4.55,
         "review_scores_accuracy": 4.67,
         "review_scores_cleanliness": 4.25,
         "review_scores_checkin": 4.67,
         "review_scores_communication": 4.58,
         "review_scores_location": 4.58,
         "review_scores_value": 4.5,
         "instant_bookable": "f",
         "calculated_host_listings_count": 16,
         "amenities_str": "\"Shampoo\", \"Essentials\", \"Kitchen\", \"Long term stays allowed\", \"Washer\", \"Smart lock\", \"Hair dryer\"…",
         "dist_to_subway": 0.7722771726636538,
         "name_lang": "en",
         "description_lang": "en",
         "host_months": 122,
         "comments": "['If I could rate my experience here more than 5 stars, I would do it for sure.  Joyce and David ar…",
         "_deepnote_index_column": 5
        },
        {
         "id": 294281,
         "name": "5 mins walk from Newton subway",
         "description": "I have 3 bedrooms  in a charming British style townhouse for you and your family while you are visi…",
         "neighborhood_overview": "No Data",
         "host_since": "2011-12-20",
         "host_response_time": "within a few hours",
         "host_response_rate": 95,
         "host_acceptance_rate": 0,
         "host_is_superhost": "f",
         "host_listings_count": 6,
         "host_has_profile_pic": "t",
         "host_identity_verified": "t",
         "neighbourhood": "No Data",
         "neighbourhood_cleansed": "Newton",
         "neighbourhood_group_cleansed": "Central Region",
         "latitude": 1.31142,
         "longitude": 103.83924,
         "property_type": "Private room in rental unit",
         "room_type": "Private room",
         "accommodates": 2,
         "bathrooms_text": "1 shared bath",
         "bedrooms": 1,
         "beds": 1,
         "amenities": "[\"Hangers\", \"Bed linens\", \"Cooking basics\", \"Washer\", \"Hair dryer\", \"Oven\", \"Dedicated workspace\", …",
         "price": 72,
         "minimum_nights": 90,
         "maximum_nights": 1125,
         "has_availability": "t",
         "availability_30": 30,
         "availability_60": 60,
         "availability_90": 90,
         "availability_365": 365,
         "number_of_reviews": 133,
         "number_of_reviews_ltm": 0,
         "number_of_reviews_l30d": 0,
         "review_scores_rating": 4.43,
         "review_scores_accuracy": 4.33,
         "review_scores_cleanliness": 4.16,
         "review_scores_checkin": 4.5,
         "review_scores_communication": 4.66,
         "review_scores_location": 4.52,
         "review_scores_value": 4.39,
         "instant_bookable": "f",
         "calculated_host_listings_count": 7,
         "amenities_str": "\"Hangers\", \"Bed linens\", \"Cooking basics\", \"Washer\", \"Hair dryer\", \"Oven\", \"Dedicated workspace\", \"…",
         "dist_to_subway": 0.3835062896321209,
         "name_lang": "en",
         "description_lang": "en",
         "host_months": 121,
         "comments": "[\"Elizabeth's place is fantastic! great location with lots of character. As a host, she is extremel…",
         "_deepnote_index_column": 6
        },
        {
         "id": 324945,
         "name": "20 Mins to Sentosa @ Hilltop ! (8)",
         "description": " The space  Great Location, Great people, Great Host .    The 3 greatest statement in our home.  My…",
         "neighborhood_overview": "No Data",
         "host_since": "2011-11-24",
         "host_response_time": "within a few hours",
         "host_response_rate": 87,
         "host_acceptance_rate": 77,
         "host_is_superhost": "f",
         "host_listings_count": 16,
         "host_has_profile_pic": "t",
         "host_identity_verified": "t",
         "neighbourhood": "No Data",
         "neighbourhood_cleansed": "Bukit Merah",
         "neighbourhood_group_cleansed": "Central Region",
         "latitude": 1.28828,
         "longitude": 103.8102,
         "property_type": "Private room in rental unit",
         "room_type": "Private room",
         "accommodates": 1,
         "bathrooms_text": "0 baths",
         "bedrooms": 1,
         "beds": 1,
         "amenities": "[\"Shampoo\", \"Kitchen\", \"Long term stays allowed\", \"Washer\", \"Smart lock\", \"Hair dryer\", \"Dryer\", \"W…",
         "price": 49,
         "minimum_nights": 14,
         "maximum_nights": 999,
         "has_availability": "t",
         "availability_30": 20,
         "availability_60": 50,
         "availability_90": 80,
         "availability_365": 355,
         "number_of_reviews": 14,
         "number_of_reviews_ltm": 0,
         "number_of_reviews_l30d": 0,
         "review_scores_rating": 4.2,
         "review_scores_accuracy": 4.08,
         "review_scores_cleanliness": 4.46,
         "review_scores_checkin": 4.69,
         "review_scores_communication": 4.46,
         "review_scores_location": 4.15,
         "review_scores_value": 4.08,
         "instant_bookable": "f",
         "calculated_host_listings_count": 16,
         "amenities_str": "\"Shampoo\", \"Kitchen\", \"Long term stays allowed\", \"Washer\", \"Smart lock\", \"Hair dryer\", \"Dryer\", \"Wi…",
         "dist_to_subway": 0.9075866697506448,
         "name_lang": "en",
         "description_lang": "en",
         "host_months": 122,
         "comments": "[\"I love the family here :D Super welcoming and friendly people. The apartment itself has just been…",
         "_deepnote_index_column": 7
        },
        {
         "id": 330095,
         "name": "10 mins to Redhill MRT @ Mini Orange Room(5)",
         "description": "Cosy, comfortable, well-renovated & fitted. Great guests, great environment and great host!  This i…",
         "neighborhood_overview": "Near IKEA Alexandra Singapore, Food markets and convenience stores",
         "host_since": "2011-11-24",
         "host_response_time": "within a few hours",
         "host_response_rate": 87,
         "host_acceptance_rate": 77,
         "host_is_superhost": "f",
         "host_listings_count": 16,
         "host_has_profile_pic": "t",
         "host_identity_verified": "t",
         "neighbourhood": "Singapore, Singapore",
         "neighbourhood_cleansed": "Bukit Merah",
         "neighbourhood_group_cleansed": "Central Region",
         "latitude": 1.28636,
         "longitude": 103.81138,
         "property_type": "Private room in rental unit",
         "room_type": "Private room",
         "accommodates": 1,
         "bathrooms_text": "4 shared baths",
         "bedrooms": 1,
         "beds": 1,
         "amenities": "[\"Shampoo\", \"Essentials\", \"Hangers\", \"Kitchen\", \"Long term stays allowed\", \"Washer\", \"Carbon monoxi…",
         "price": 59,
         "minimum_nights": 60,
         "maximum_nights": 999,
         "has_availability": "t",
         "availability_30": 29,
         "availability_60": 59,
         "availability_90": 89,
         "availability_365": 364,
         "number_of_reviews": 3,
         "number_of_reviews_ltm": 0,
         "number_of_reviews_l30d": 0,
         "review_scores_rating": 5,
         "review_scores_accuracy": 5,
         "review_scores_cleanliness": 4.5,
         "review_scores_checkin": 5,
         "review_scores_communication": 5,
         "review_scores_location": 4.5,
         "review_scores_value": 5,
         "instant_bookable": "f",
         "calculated_host_listings_count": 16,
         "amenities_str": "\"Shampoo\", \"Essentials\", \"Hangers\", \"Kitchen\", \"Long term stays allowed\", \"Washer\", \"Carbon monoxid…",
         "dist_to_subway": 0.7772010013702816,
         "name_lang": "en",
         "description_lang": "en",
         "host_months": 122,
         "comments": "['The reservation was canceled the day before arrival. This is an automated posting.', 'I really lo…",
         "_deepnote_index_column": 8
        },
        {
         "id": 344803,
         "name": "Budget short stay room near  EXPO",
         "description": "Direct bus 24 from airport to this place.Walking distance to expo,downtown line3 and east west line…",
         "neighborhood_overview": "A very quiet place .Very near to airport and cannot hear airplane sound",
         "host_since": "2011-01-29",
         "host_response_time": "within a day",
         "host_response_rate": 100,
         "host_acceptance_rate": "nan",
         "host_is_superhost": "f",
         "host_listings_count": 8,
         "host_has_profile_pic": "t",
         "host_identity_verified": "t",
         "neighbourhood": "Singapore, Singapore",
         "neighbourhood_cleansed": "Tampines",
         "neighbourhood_group_cleansed": "East Region",
         "latitude": 1.34917,
         "longitude": 103.9609,
         "property_type": "Private room in residential home",
         "room_type": "Private room",
         "accommodates": 1,
         "bathrooms_text": "1.5 shared baths",
         "bedrooms": 1,
         "beds": 1,
         "amenities": "[\"Hangers\", \"Bed linens\", \"Coffee maker\", \"Cooking basics\", \"Washer\", \"Hair dryer\", \"Fire pit\", \"Ov…",
         "price": 48,
         "minimum_nights": 92,
         "maximum_nights": 365,
         "has_availability": "t",
         "availability_30": 30,
         "availability_60": 60,
         "availability_90": 90,
         "availability_365": 365,
         "number_of_reviews": 58,
         "number_of_reviews_ltm": 0,
         "number_of_reviews_l30d": 0,
         "review_scores_rating": 4.58,
         "review_scores_accuracy": 4.58,
         "review_scores_cleanliness": 4.44,
         "review_scores_checkin": 4.75,
         "review_scores_communication": 4.56,
         "review_scores_location": 4.65,
         "review_scores_value": 4.44,
         "instant_bookable": "f",
         "calculated_host_listings_count": 5,
         "amenities_str": "\"Hangers\", \"Bed linens\", \"Coffee maker\", \"Cooking basics\", \"Washer\", \"Hair dryer\", \"Fire pit\", \"Ove…",
         "dist_to_subway": 0.8336187531711061,
         "name_lang": "en",
         "description_lang": "en",
         "host_months": 132,
         "comments": "[\"My 18 days stay in Singapore at Belinda's place was just great.  Not only that the place is only …",
         "_deepnote_index_column": 9
        }
       ]
      },
      "text/plain": "            id                                              name  \\\n0        50646                   Pleasant Room along Bukit Timah   \n1        71609               Ensuite Room (Room 1 & 2) near EXPO   \n2        71896                   B&B  Room 1 near Airport & EXPO   \n3        71903                        Room 2-near Airport & EXPO   \n4       275343  Conveniently located City Room!(1,2,3,4,5,6,7,8)   \n...        ...                                               ...   \n3106  53905492                                     Standard Twin   \n3107  53905653                           Standard Queen & Single   \n3108  53910005      Affordable Office for 8 Pax in Heart of East   \n3109  53910434                  Deluxe Class 2BR Near Marina Bay   \n3110  53927825      Spacious Private Room in Lovely Landed House   \n\n                                            description  \\\n0     Fully furnished bedroom with a nice view on th...   \n1     For 3 rooms.Book room 1&2 and room 4   The spa...   \n2      The space  Vocational Stay Deluxe Bedroom in ...   \n3     Like your own home, 24hrs access.   The space ...   \n4     Awesome location and host  Room near INSEAD, N...   \n...                                                 ...   \n3106   The space  Hotel accommodations have been car...   \n3107   The space  Hotel accommodations have been car...   \n3108  Convenient location in the heart of East Singa...   \n3109  Situated near the bustling neighborhood of Mar...   \n3110  Forget your worries in this spacious and seren...   \n\n                                  neighborhood_overview  host_since  \\\n0     The serenity & quiet surrounding makes it an i...  2010-09-08   \n1                                               No Data  2011-01-29   \n2                                               No Data  2011-01-29   \n3     Quiet and view of the playground with exercise...  2011-01-29   \n4                                               No Data  2011-11-24   \n...                                                 ...         ...   \n3106                                            No Data  2021-12-06   \n3107                                            No Data  2021-12-06   \n3108                                            No Data  2017-04-04   \n3109  Located near the  CBD, enjoy a wide variety of...  2017-10-27   \n3110                                            No Data  2021-11-15   \n\n      host_response_time  host_response_rate  host_acceptance_rate  \\\n0                No Data                 NaN                   NaN   \n1           within a day               100.0                   NaN   \n2           within a day               100.0                   NaN   \n3           within a day               100.0                   NaN   \n4     within a few hours                87.0                  77.0   \n...                  ...                 ...                   ...   \n3106      within an hour               100.0                 100.0   \n3107      within an hour               100.0                 100.0   \n3108  a few days or more                 0.0                   NaN   \n3109  within a few hours                95.0                  30.0   \n3110  within a few hours               100.0                  67.0   \n\n     host_is_superhost  host_listings_count  ... review_scores_location  \\\n0                    f                  1.0  ...                   4.72   \n1                    f                  8.0  ...                   4.26   \n2                    f                  8.0  ...                   4.17   \n3                    f                  8.0  ...                   4.50   \n4                    f                 16.0  ...                   4.53   \n...                ...                  ...  ...                    ...   \n3106                 f                  0.0  ...                   0.00   \n3107                 f                  0.0  ...                   0.00   \n3108                 f                  0.0  ...                   0.00   \n3109                 f                225.0  ...                   0.00   \n3110                 f                  2.0  ...                   0.00   \n\n     review_scores_value instant_bookable calculated_host_listings_count  \\\n0                   4.50                f                              1   \n1                   4.32                f                              5   \n2                   4.04                f                              5   \n3                   4.36                f                              5   \n4                   4.59                f                             16   \n...                  ...              ...                            ...   \n3106                0.00                t                              4   \n3107                0.00                t                              4   \n3108                0.00                t                              1   \n3109                0.00                f                            179   \n3110                0.00                f                              2   \n\n                                          amenities_str  dist_to_subway  \\\n0     \"Shampoo\", \"Essentials\", \"Kitchen\", \"Long term...        0.534995   \n1     \"Hangers\", \"Cooking basics\", \"Washer\", \"Hair d...        0.926167   \n2     \"Coffee maker\", \"Cooking basics\", \"Washer\", \"H...        0.802740   \n3     \"Coffee maker\", \"Cooking basics\", \"Washer\", \"H...        1.085987   \n4     \"Shampoo\", \"Essentials\", \"Keypad\", \"Kitchen\", ...        0.775047   \n...                                                 ...             ...   \n3106  \"Security cameras on property\", \"Hangers\", \"Lo...        0.474254   \n3107  \"Security cameras on property\", \"Hangers\", \"Lo...        0.259387   \n3108  \"Long term stays allowed\", \"Air conditioning\",...        1.328809   \n3109  \"Cleaning before checkout\", \"Safe\", \"Hangers\",...        0.242125   \n3110  \"Kitchen\", \"Long term stays allowed\", \"Washer\"...        1.210329   \n\n      name_lang description_lang host_months  \\\n0            en               en         136   \n1            en               en         132   \n2            en               en         132   \n3            en               en         132   \n4            en               en         122   \n...         ...              ...         ...   \n3106         en               en           1   \n3107         en               en           1   \n3108         en               en          58   \n3109         en               en          51   \n3110         en               en           2   \n\n                                               comments  \n0     [A comfortable room in a smart condo developme...  \n1     [The rooms were clean and tidy. Beds very comf...  \n2     [Belinda is a kind host who certainly tries to...  \n3     [I stayed at Belinda's place for 4 nights duri...  \n4     [A newly renovated and clean apartment. Conven...  \n...                                                 ...  \n3106                                                 []  \n3107                                                 []  \n3108                                                 []  \n3109                                                 []  \n3110                                                 []  \n\n[3111 rows x 50 columns]",
      "text/html": "<div>\n<style scoped>\n    .dataframe tbody tr th:only-of-type {\n        vertical-align: middle;\n    }\n\n    .dataframe tbody tr th {\n        vertical-align: top;\n    }\n\n    .dataframe thead th {\n        text-align: right;\n    }\n</style>\n<table border=\"1\" class=\"dataframe\">\n  <thead>\n    <tr style=\"text-align: right;\">\n      <th></th>\n      <th>id</th>\n      <th>name</th>\n      <th>description</th>\n      <th>neighborhood_overview</th>\n      <th>host_since</th>\n      <th>host_response_time</th>\n      <th>host_response_rate</th>\n      <th>host_acceptance_rate</th>\n      <th>host_is_superhost</th>\n      <th>host_listings_count</th>\n      <th>...</th>\n      <th>review_scores_location</th>\n      <th>review_scores_value</th>\n      <th>instant_bookable</th>\n      <th>calculated_host_listings_count</th>\n      <th>amenities_str</th>\n      <th>dist_to_subway</th>\n      <th>name_lang</th>\n      <th>description_lang</th>\n      <th>host_months</th>\n      <th>comments</th>\n    </tr>\n  </thead>\n  <tbody>\n    <tr>\n      <th>0</th>\n      <td>50646</td>\n      <td>Pleasant Room along Bukit Timah</td>\n      <td>Fully furnished bedroom with a nice view on th...</td>\n      <td>The serenity &amp; quiet surrounding makes it an i...</td>\n      <td>2010-09-08</td>\n      <td>No Data</td>\n      <td>NaN</td>\n      <td>NaN</td>\n      <td>f</td>\n      <td>1.0</td>\n      <td>...</td>\n      <td>4.72</td>\n      <td>4.50</td>\n      <td>f</td>\n      <td>1</td>\n      <td>\"Shampoo\", \"Essentials\", \"Kitchen\", \"Long term...</td>\n      <td>0.534995</td>\n      <td>en</td>\n      <td>en</td>\n      <td>136</td>\n      <td>[A comfortable room in a smart condo developme...</td>\n    </tr>\n    <tr>\n      <th>1</th>\n      <td>71609</td>\n      <td>Ensuite Room (Room 1 &amp; 2) near EXPO</td>\n      <td>For 3 rooms.Book room 1&amp;2 and room 4   The spa...</td>\n      <td>No Data</td>\n      <td>2011-01-29</td>\n      <td>within a day</td>\n      <td>100.0</td>\n      <td>NaN</td>\n      <td>f</td>\n      <td>8.0</td>\n      <td>...</td>\n      <td>4.26</td>\n      <td>4.32</td>\n      <td>f</td>\n      <td>5</td>\n      <td>\"Hangers\", \"Cooking basics\", \"Washer\", \"Hair d...</td>\n      <td>0.926167</td>\n      <td>en</td>\n      <td>en</td>\n      <td>132</td>\n      <td>[The rooms were clean and tidy. Beds very comf...</td>\n    </tr>\n    <tr>\n      <th>2</th>\n      <td>71896</td>\n      <td>B&amp;B  Room 1 near Airport &amp; EXPO</td>\n      <td>The space  Vocational Stay Deluxe Bedroom in ...</td>\n      <td>No Data</td>\n      <td>2011-01-29</td>\n      <td>within a day</td>\n      <td>100.0</td>\n      <td>NaN</td>\n      <td>f</td>\n      <td>8.0</td>\n      <td>...</td>\n      <td>4.17</td>\n      <td>4.04</td>\n      <td>f</td>\n      <td>5</td>\n      <td>\"Coffee maker\", \"Cooking basics\", \"Washer\", \"H...</td>\n      <td>0.802740</td>\n      <td>en</td>\n      <td>en</td>\n      <td>132</td>\n      <td>[Belinda is a kind host who certainly tries to...</td>\n    </tr>\n    <tr>\n      <th>3</th>\n      <td>71903</td>\n      <td>Room 2-near Airport &amp; EXPO</td>\n      <td>Like your own home, 24hrs access.   The space ...</td>\n      <td>Quiet and view of the playground with exercise...</td>\n      <td>2011-01-29</td>\n      <td>within a day</td>\n      <td>100.0</td>\n      <td>NaN</td>\n      <td>f</td>\n      <td>8.0</td>\n      <td>...</td>\n      <td>4.50</td>\n      <td>4.36</td>\n      <td>f</td>\n      <td>5</td>\n      <td>\"Coffee maker\", \"Cooking basics\", \"Washer\", \"H...</td>\n      <td>1.085987</td>\n      <td>en</td>\n      <td>en</td>\n      <td>132</td>\n      <td>[I stayed at Belinda's place for 4 nights duri...</td>\n    </tr>\n    <tr>\n      <th>4</th>\n      <td>275343</td>\n      <td>Conveniently located City Room!(1,2,3,4,5,6,7,8)</td>\n      <td>Awesome location and host  Room near INSEAD, N...</td>\n      <td>No Data</td>\n      <td>2011-11-24</td>\n      <td>within a few hours</td>\n      <td>87.0</td>\n      <td>77.0</td>\n      <td>f</td>\n      <td>16.0</td>\n      <td>...</td>\n      <td>4.53</td>\n      <td>4.59</td>\n      <td>f</td>\n      <td>16</td>\n      <td>\"Shampoo\", \"Essentials\", \"Keypad\", \"Kitchen\", ...</td>\n      <td>0.775047</td>\n      <td>en</td>\n      <td>en</td>\n      <td>122</td>\n      <td>[A newly renovated and clean apartment. Conven...</td>\n    </tr>\n    <tr>\n      <th>...</th>\n      <td>...</td>\n      <td>...</td>\n      <td>...</td>\n      <td>...</td>\n      <td>...</td>\n      <td>...</td>\n      <td>...</td>\n      <td>...</td>\n      <td>...</td>\n      <td>...</td>\n      <td>...</td>\n      <td>...</td>\n      <td>...</td>\n      <td>...</td>\n      <td>...</td>\n      <td>...</td>\n      <td>...</td>\n      <td>...</td>\n      <td>...</td>\n      <td>...</td>\n      <td>...</td>\n    </tr>\n    <tr>\n      <th>3106</th>\n      <td>53905492</td>\n      <td>Standard Twin</td>\n      <td>The space  Hotel accommodations have been car...</td>\n      <td>No Data</td>\n      <td>2021-12-06</td>\n      <td>within an hour</td>\n      <td>100.0</td>\n      <td>100.0</td>\n      <td>f</td>\n      <td>0.0</td>\n      <td>...</td>\n      <td>0.00</td>\n      <td>0.00</td>\n      <td>t</td>\n      <td>4</td>\n      <td>\"Security cameras on property\", \"Hangers\", \"Lo...</td>\n      <td>0.474254</td>\n      <td>en</td>\n      <td>en</td>\n      <td>1</td>\n      <td>[]</td>\n    </tr>\n    <tr>\n      <th>3107</th>\n      <td>53905653</td>\n      <td>Standard Queen &amp; Single</td>\n      <td>The space  Hotel accommodations have been car...</td>\n      <td>No Data</td>\n      <td>2021-12-06</td>\n      <td>within an hour</td>\n      <td>100.0</td>\n      <td>100.0</td>\n      <td>f</td>\n      <td>0.0</td>\n      <td>...</td>\n      <td>0.00</td>\n      <td>0.00</td>\n      <td>t</td>\n      <td>4</td>\n      <td>\"Security cameras on property\", \"Hangers\", \"Lo...</td>\n      <td>0.259387</td>\n      <td>en</td>\n      <td>en</td>\n      <td>1</td>\n      <td>[]</td>\n    </tr>\n    <tr>\n      <th>3108</th>\n      <td>53910005</td>\n      <td>Affordable Office for 8 Pax in Heart of East</td>\n      <td>Convenient location in the heart of East Singa...</td>\n      <td>No Data</td>\n      <td>2017-04-04</td>\n      <td>a few days or more</td>\n      <td>0.0</td>\n      <td>NaN</td>\n      <td>f</td>\n      <td>0.0</td>\n      <td>...</td>\n      <td>0.00</td>\n      <td>0.00</td>\n      <td>t</td>\n      <td>1</td>\n      <td>\"Long term stays allowed\", \"Air conditioning\",...</td>\n      <td>1.328809</td>\n      <td>en</td>\n      <td>en</td>\n      <td>58</td>\n      <td>[]</td>\n    </tr>\n    <tr>\n      <th>3109</th>\n      <td>53910434</td>\n      <td>Deluxe Class 2BR Near Marina Bay</td>\n      <td>Situated near the bustling neighborhood of Mar...</td>\n      <td>Located near the  CBD, enjoy a wide variety of...</td>\n      <td>2017-10-27</td>\n      <td>within a few hours</td>\n      <td>95.0</td>\n      <td>30.0</td>\n      <td>f</td>\n      <td>225.0</td>\n      <td>...</td>\n      <td>0.00</td>\n      <td>0.00</td>\n      <td>f</td>\n      <td>179</td>\n      <td>\"Cleaning before checkout\", \"Safe\", \"Hangers\",...</td>\n      <td>0.242125</td>\n      <td>en</td>\n      <td>en</td>\n      <td>51</td>\n      <td>[]</td>\n    </tr>\n    <tr>\n      <th>3110</th>\n      <td>53927825</td>\n      <td>Spacious Private Room in Lovely Landed House</td>\n      <td>Forget your worries in this spacious and seren...</td>\n      <td>No Data</td>\n      <td>2021-11-15</td>\n      <td>within a few hours</td>\n      <td>100.0</td>\n      <td>67.0</td>\n      <td>f</td>\n      <td>2.0</td>\n      <td>...</td>\n      <td>0.00</td>\n      <td>0.00</td>\n      <td>f</td>\n      <td>2</td>\n      <td>\"Kitchen\", \"Long term stays allowed\", \"Washer\"...</td>\n      <td>1.210329</td>\n      <td>en</td>\n      <td>en</td>\n      <td>2</td>\n      <td>[]</td>\n    </tr>\n  </tbody>\n</table>\n<p>3111 rows × 50 columns</p>\n</div>"
     },
     "metadata": {}
    }
   ]
  },
  {
   "cell_type": "code",
   "metadata": {
    "deepnote_to_be_reexecuted": false,
    "execution_millis": 11,
    "execution_start": 1647324588562,
    "source_hash": "eeb4578f",
    "tags": [],
    "cell_id": "00028-936abe9a-33d0-4422-9010-daf685618a10",
    "deepnote_cell_type": "code",
    "deepnote_cell_height": 425.34375,
    "deepnote_output_heights": [
     328.359375
    ]
   },
   "source": "combined.columns",
   "execution_count": null,
   "outputs": [
    {
     "output_type": "execute_result",
     "execution_count": 32,
     "data": {
      "text/plain": "Index(['id', 'name', 'description', 'neighborhood_overview', 'host_since',\n       'host_response_time', 'host_response_rate', 'host_acceptance_rate',\n       'host_is_superhost', 'host_listings_count', 'host_has_profile_pic',\n       'host_identity_verified', 'neighbourhood', 'neighbourhood_cleansed',\n       'neighbourhood_group_cleansed', 'latitude', 'longitude',\n       'property_type', 'room_type', 'accommodates', 'bathrooms_text',\n       'bedrooms', 'beds', 'amenities', 'price', 'minimum_nights',\n       'maximum_nights', 'has_availability', 'availability_30',\n       'availability_60', 'availability_90', 'availability_365',\n       'number_of_reviews', 'number_of_reviews_ltm', 'number_of_reviews_l30d',\n       'review_scores_rating', 'review_scores_accuracy',\n       'review_scores_cleanliness', 'review_scores_checkin',\n       'review_scores_communication', 'review_scores_location',\n       'review_scores_value', 'instant_bookable',\n       'calculated_host_listings_count', 'amenities_str', 'dist_to_subway',\n       'name_lang', 'description_lang', 'host_months', 'comments'],\n      dtype='object')"
     },
     "metadata": {}
    }
   ]
  },
  {
   "cell_type": "markdown",
   "source": "# Further processing of cols",
   "metadata": {
    "is_collapsed": false,
    "tags": [],
    "cell_id": "00029-35cefc39-b60a-4d1f-aa63-6ed4a86c83a1",
    "deepnote_cell_type": "text-cell-h1"
   }
  },
  {
   "cell_type": "code",
   "metadata": {
    "deepnote_to_be_reexecuted": false,
    "execution_millis": 0,
    "execution_start": 1647324591966,
    "source_hash": "d231060a",
    "tags": [],
    "cell_id": "00030-e08768c1-e612-4ff9-ae5f-59d9d46460b3",
    "deepnote_cell_type": "code",
    "deepnote_cell_height": 135
   },
   "source": "combined['availability_30'] = combined['availability_30'].apply(lambda x: float(x) / 30)\ncombined['availability_60'] = combined['availability_60'].apply(lambda x: float(x) / 60)\ncombined['availability_90'] = combined['availability_90'].apply(lambda x: float(x) / 90)\ncombined['availability_365'] = combined['availability_365'].apply(lambda x: float(x) / 365)",
   "execution_count": null,
   "outputs": []
  },
  {
   "cell_type": "code",
   "metadata": {
    "deepnote_to_be_reexecuted": false,
    "execution_millis": 2083,
    "execution_start": 1647324594130,
    "source_hash": "1cca5c8",
    "tags": [],
    "cell_id": "00031-f1ae779c-2190-458d-9947-5f76d3e86b6a",
    "deepnote_cell_type": "code",
    "deepnote_cell_height": 81
   },
   "source": "combined.to_csv('SG_reviews_listings.csv', index=False)",
   "execution_count": null,
   "outputs": []
  },
  {
   "cell_type": "markdown",
   "source": "## Text Cleaning",
   "metadata": {
    "tags": [],
    "cell_id": "00032-b2754df7-8716-431d-948a-538acd849f3d",
    "deepnote_cell_type": "markdown",
    "deepnote_cell_height": 70
   }
  },
  {
   "cell_type": "code",
   "metadata": {
    "deepnote_to_be_reexecuted": false,
    "execution_millis": 258,
    "execution_start": 1647408866768,
    "source_hash": "fe884ee0",
    "tags": [],
    "cell_id": "00033-fc9af766-36dd-488d-9009-7d2067843476",
    "deepnote_cell_type": "code",
    "deepnote_cell_height": 81
   },
   "source": "combined = pd.read_csv('./SG_reviews_listings.csv')",
   "execution_count": null,
   "outputs": []
  },
  {
   "cell_type": "code",
   "metadata": {
    "deepnote_to_be_reexecuted": false,
    "execution_millis": 5,
    "execution_start": 1647408870936,
    "source_hash": "63ddd068",
    "tags": [],
    "cell_id": "00034-293b1c79-edee-4e2b-898e-ba7dd6faaa1d",
    "deepnote_cell_type": "code",
    "deepnote_cell_height": 315
   },
   "source": "# from nltk.corpus import stopwords\nfrom nltk.stem import WordNetLemmatizer\nfrom nltk import word_tokenize\n\nlemmatizer = WordNetLemmatizer()\n# pattern = re.compile(r'\\b(' + r'|'.join(stopwords.words('english')) + r')\\b\\s*')\n# txt = pattern.sub('', txt)\ndef clean_text(txt):\n    txt = txt.translate(str.maketrans('', '', string.punctuation))\n    txt = re.sub(r'[^\\w\\s]','',txt)\n    txt = txt.lower()\n    txt = nltk.word_tokenize(txt)\n    txt = ' '.join(lemmatizer.lemmatize(w) for w in txt) #remove stopwords later\n    return txt",
   "execution_count": null,
   "outputs": []
  },
  {
   "cell_type": "code",
   "metadata": {
    "deepnote_to_be_reexecuted": false,
    "execution_millis": 26357,
    "execution_start": 1647408874261,
    "source_hash": "b660e66a",
    "tags": [],
    "cell_id": "00035-ad317411-4e0b-4a1d-b17b-80d1566519a1",
    "deepnote_cell_type": "code",
    "deepnote_cell_height": 171
   },
   "source": "combined['processed_name'] = combined['name'].apply(clean_text)\ncombined['processed_description'] = combined['description'].apply(clean_text)\ncombined['processed_neighborhood_overview'] = combined['neighborhood_overview'].apply(clean_text)\ncombined['comments'] = combined['comments'].apply(clean_text)\ncombined['combined_text'] = combined['processed_name'] + ' ' + combined['processed_description'] + ' ' + combined['processed_neighborhood_overview'] + \" \" + combined['comments']\n# combined['combined_text'] = combined['processed_name'] + ' ' + combined['processed_description'] + ' ' + combined['processed_neighborhood_overview']",
   "execution_count": null,
   "outputs": []
  },
  {
   "cell_type": "markdown",
   "source": "# Train Test Split",
   "metadata": {
    "is_collapsed": false,
    "tags": [],
    "cell_id": "00036-2877509a-15f5-4fbe-8eab-c44b78b6416d",
    "deepnote_cell_type": "text-cell-h1"
   }
  },
  {
   "cell_type": "code",
   "metadata": {
    "deepnote_to_be_reexecuted": false,
    "execution_millis": 57,
    "execution_start": 1647324736408,
    "source_hash": "e363897",
    "tags": [],
    "cell_id": "00037-2f2227a9-96ba-46c4-9989-c806e790e2f8",
    "deepnote_cell_type": "code",
    "deepnote_cell_height": 201.859375
   },
   "source": "from sklearn.model_selection import train_test_split\n\ncombined_train, combined_test = train_test_split(combined, test_size = 0.3, random_state = 2022)\ncombined_val, combined_test = train_test_split(combined_test, test_size = 0.5, random_state = 2023)\n\nprint([combined_train.shape, combined_val.shape, combined_test.shape])",
   "execution_count": null,
   "outputs": [
    {
     "name": "stdout",
     "text": "[(2177, 54), (467, 54), (467, 54)]\n",
     "output_type": "stream"
    }
   ]
  },
  {
   "cell_type": "code",
   "metadata": {
    "deepnote_to_be_reexecuted": false,
    "execution_millis": 2326,
    "execution_start": 1647324741314,
    "source_hash": "ef628e0b",
    "tags": [],
    "cell_id": "00038-860adbd4-385f-4a57-a0df-a2032e3766a1",
    "deepnote_cell_type": "code",
    "deepnote_cell_height": 117
   },
   "source": "combined_train.to_csv('SG_combined_train.csv', index = False)\ncombined_val.to_csv('SG_combined_val.csv', index = False)\ncombined_test.to_csv('SG_combined_test.csv', index = False)",
   "execution_count": null,
   "outputs": []
  },
  {
   "cell_type": "markdown",
   "source": "# Transforming data to features",
   "metadata": {
    "is_collapsed": false,
    "tags": [],
    "cell_id": "00039-48aee6b4-364d-4381-a1bc-b98b2fd43b63",
    "deepnote_cell_type": "text-cell-h1"
   }
  },
  {
   "cell_type": "code",
   "metadata": {
    "deepnote_to_be_reexecuted": false,
    "execution_millis": 444,
    "execution_start": 1647847082260,
    "source_hash": "1424b0b0",
    "tags": [],
    "cell_id": "00040-bb657e4f-744c-432a-9a4d-f030a0776928",
    "deepnote_cell_type": "code",
    "deepnote_cell_height": 117
   },
   "source": "train = pd.read_csv('SG_combined_train.csv')\nval = pd.read_csv('SG_combined_val.csv')\ntest = pd.read_csv('SG_combined_test.csv')",
   "execution_count": null,
   "outputs": []
  },
  {
   "cell_type": "code",
   "metadata": {
    "deepnote_to_be_reexecuted": false,
    "execution_millis": 1,
    "execution_start": 1647847085930,
    "source_hash": "5fa2c964",
    "tags": [],
    "cell_id": "00041-53152379-5b75-4cfe-8b3e-4ca509eb5330",
    "deepnote_cell_type": "code",
    "deepnote_cell_height": 225
   },
   "source": "def get_float(txt):\n    lst = re.findall(r\"[-+]?(?:\\d*\\.\\d+|\\d+)\", txt)\n    if len(lst) == 0:\n        return 'No Data'\n    return float(lst[0])\n\ntrain['bathrooms_text'] = train['bathrooms_text'].apply(get_float)\nval['bathrooms_text'] = val['bathrooms_text'].apply(get_float)\ntest['bathrooms_text'] = test['bathrooms_text'].apply(get_float)",
   "execution_count": null,
   "outputs": []
  },
  {
   "cell_type": "code",
   "metadata": {
    "deepnote_to_be_reexecuted": false,
    "execution_millis": 2963,
    "execution_start": 1645832530245,
    "source_hash": "cf25d9c2",
    "tags": [],
    "cell_id": "00042-d6cf8c3d-4e84-4d5d-8c27-3a84304c6a2f",
    "deepnote_cell_type": "code",
    "deepnote_cell_height": 661.640625,
    "deepnote_output_heights": [
     null,
     250
    ]
   },
   "source": "import seaborn as sns\n\nvals = train['accommodates'].values\n\nprint(sns.histplot(vals))\nprint(pd.Series(vals).describe())",
   "execution_count": null,
   "outputs": [
    {
     "name": "stdout",
     "output_type": "stream",
     "text": "AxesSubplot(0.125,0.125;0.775x0.755)\ncount    23097.000000\nmean         2.856778\nstd          1.886802\nmin          1.000000\n25%          2.000000\n50%          2.000000\n75%          4.000000\nmax         16.000000\ndtype: float64\n"
    },
    {
     "data": {
      "image/png": "[encoded data removed]",
      "text/plain": "<Figure size 432x288 with 1 Axes>"
     },
     "metadata": {
      "image/png": {
       "width": 401,
       "height": 248
      },
      "needs_background": "light"
     },
     "output_type": "display_data"
    }
   ]
  },
  {
   "cell_type": "code",
   "metadata": {
    "deepnote_to_be_reexecuted": false,
    "execution_millis": 51,
    "execution_start": 1645832540052,
    "source_hash": "11cb1a0f",
    "tags": [],
    "cell_id": "00043-ca502096-06bb-482f-8314-8ca32d327718",
    "deepnote_cell_type": "code",
    "deepnote_cell_height": 570.59375,
    "deepnote_output_heights": [
     59.59375
    ]
   },
   "source": "#bins: 1-2, 3-4, 5-6, everything else\ndef get_bins_mean(df):\n    vals = df['accommodates'].values\n    bathrooms = df['bathrooms_text'].values\n    bins_dct = {'1-4':[], '5-6':[], 'else':[]}\n    for j in range(len(vals)):\n        i = vals[j]\n        currb = bathrooms[j]\n        if type(currb) != float or currb != currb:\n            continue\n        if i >= 1 and i <= 4:\n            bins_dct['1-4'].append(currb)\n        elif i >= 5 and i <= 6:\n            bins_dct['5-6'].append(currb)\n        else:\n            bins_dct['else'].append(currb)\n\n    for i in bins_dct:\n        bins_dct[i] = np.mean(bins_dct[i])\n\n    return bins_dct\n\nbathroom_bins_dct = get_bins_mean(train)\nbathroom_bins_dct",
   "execution_count": null,
   "outputs": [
    {
     "data": {
      "text/plain": "{'1-4': 1.111844416562108,\n '5-6': 1.3925638686131387,\n 'else': 1.9763736263736265}"
     },
     "execution_count": 5,
     "metadata": {},
     "output_type": "execute_result"
    }
   ]
  },
  {
   "cell_type": "code",
   "metadata": {
    "deepnote_to_be_reexecuted": false,
    "execution_millis": 124,
    "execution_start": 1647847092881,
    "source_hash": "c6987b5f",
    "tags": [],
    "cell_id": "00044-0b913e53-a41b-4605-b877-59c28f78659d",
    "deepnote_cell_type": "code",
    "deepnote_cell_height": 333
   },
   "source": "#fill up with corresponding means\ndef bin_bathrooms(row):\n    if type(row['bathrooms_text']) == float and row['bathrooms_text'] == row['bathrooms_text']:\n        return row['bathrooms_text']  \n    currac = row['accommodates']\n    if currac >= 1 and currac <= 4:\n        return 1\n    elif currac >= 5 and currac <= 6:\n        return 1.5\n    else:\n        return 2\n\ntrain['bathrooms_text'] = train.apply(bin_bathrooms, axis = 1)\nval['bathrooms_text'] = val.apply(bin_bathrooms, axis = 1)\ntest['bathrooms_text'] = test.apply(bin_bathrooms, axis = 1)",
   "execution_count": null,
   "outputs": []
  },
  {
   "cell_type": "code",
   "metadata": {
    "deepnote_to_be_reexecuted": false,
    "execution_millis": 211,
    "execution_start": 1645756864206,
    "source_hash": "cdf02124",
    "tags": [],
    "cell_id": "00045-3a2e1c05-67ff-4e94-ab9b-1f9c2258f114",
    "deepnote_cell_type": "code",
    "deepnote_cell_height": 523.578125,
    "deepnote_output_heights": [
     null,
     21.1875,
     250
    ]
   },
   "source": "#to decide cut off value for price to remove extreme listings\nimport seaborn as sns\n\nsns.boxplot(train['price'].values)",
   "execution_count": null,
   "outputs": [
    {
     "name": "stderr",
     "output_type": "stream",
     "text": "/shared-libs/python3.9/py/lib/python3.9/site-packages/seaborn/_decorators.py:36: FutureWarning: Pass the following variable as a keyword arg: x. From version 0.12, the only valid positional argument will be `data`, and passing other arguments without an explicit keyword will result in an error or misinterpretation.\n  warnings.warn(\n"
    },
    {
     "data": {
      "text/plain": "<AxesSubplot:>"
     },
     "execution_count": 18,
     "metadata": {},
     "output_type": "execute_result"
    },
    {
     "data": {
      "image/png": "[encoded data removed]",
      "text/plain": "<Figure size 432x288 with 1 Axes>"
     },
     "metadata": {
      "image/png": {
       "width": 353,
       "height": 248
      },
      "needs_background": "light"
     },
     "output_type": "display_data"
    }
   ]
  },
  {
   "cell_type": "code",
   "metadata": {
    "deepnote_to_be_reexecuted": false,
    "execution_millis": 20,
    "execution_start": 1647324864201,
    "source_hash": "f6d25a75",
    "tags": [],
    "cell_id": "00046-a17e548b-209e-45c5-9524-3694c66ba198",
    "deepnote_cell_type": "code",
    "deepnote_cell_height": 271.78125
   },
   "source": "train['price'].describe()",
   "execution_count": null,
   "outputs": [
    {
     "output_type": "execute_result",
     "execution_count": 44,
     "data": {
      "text/plain": "count    2177.000000\nmean      201.136886\nstd       303.899621\nmin        13.000000\n25%        68.000000\n50%       136.000000\n75%       228.000000\nmax      7000.000000\nName: price, dtype: float64"
     },
     "metadata": {}
    }
   ]
  },
  {
   "cell_type": "code",
   "metadata": {
    "deepnote_to_be_reexecuted": false,
    "execution_millis": 20,
    "execution_start": 1645756914453,
    "source_hash": "6c1cd971",
    "tags": [],
    "cell_id": "00047-1545edc4-5948-4280-9396-1dbca6b59d29",
    "deepnote_cell_type": "code",
    "deepnote_cell_height": 188.53125
   },
   "source": "from matplotlib.cbook import boxplot_stats  \n\noutliers = list(boxplot_stats(train['price'])[0]['fliers'])\noutliers.sort()\nprint(outliers)",
   "execution_count": null,
   "outputs": [
    {
     "name": "stdout",
     "output_type": "stream",
     "text": "[346.0, 346.0, 346.0, 347.0, 347.0, 347.0, 347.0, 347.0, 347.0, 348.0, 348.0, 348.0, 348.0, 348.0, 348.0, 348.0, 349.0, 349.0, 349.0, 349.0, 349.0, 349.0, 349.0, 349.0, 349.0, 349.0, 349.0, 349.0, 349.0, 349.0, 349.0, 349.0, 349.0, 349.0, 349.0, 349.0, 349.0, 349.0, 349.0, 349.0, 349.0, 349.0, 349.0, 349.0, 349.0, 350.0, 350.0, 350.0, 350.0, 350.0, 350.0, 350.0, 350.0, 350.0, 350.0, 350.0, 350.0, 350.0, 350.0, 350.0, 350.0, 350.0, 350.0, 350.0, 350.0, 350.0, 350.0, 350.0, 350.0, 350.0, 350.0, 350.0, 350.0, 350.0, 350.0, 350.0, 350.0, 350.0, 350.0, 350.0, 350.0, 350.0, 350.0, 350.0, 350.0, 350.0, 350.0, 350.0, 350.0, 350.0, 350.0, 350.0, 350.0, 350.0, 350.0, 350.0, 350.0, 350.0, 350.0, 350.0, 350.0, 350.0, 350.0, 350.0, 350.0, 350.0, 350.0, 350.0, 350.0, 350.0, 350.0, 350.0, 350.0, 350.0, 350.0, 350.0, 350.0, 350.0, 350.0, 350.0, 350.0, 350.0, 350.0, 350.0, 350.0, 350.0, 350.0, 350.0, 350.0, 350.0, 350.0, 350.0, 350.0, 350.0, 350.0, 350.0, 350.0, 350.0, 350.0, 350.0, 350.0, 350.0, 350.0, 350.0, 350.0, 350.0, 350.0, 350.0, 350.0, 350.0, 350.0, 350.0, 350.0, 350.0, 350.0, 350.0, 350.0, 350.0, 350.0, 350.0, 350.0, 350.0, 350.0, 350.0, 350.0, 350.0, 350.0, 350.0, 350.0, 350.0, 350.0, 350.0, 350.0, 350.0, 350.0, 350.0, 350.0, 350.0, 350.0, 350.0, 350.0, 350.0, 350.0, 350.0, 350.0, 350.0, 350.0, 351.0, 351.0, 351.0, 351.0, 351.0, 352.0, 353.0, 353.0, 353.0, 353.0, 353.0, 353.0, 353.0, 353.0, 353.0, 353.0, 354.0, 354.0, 354.0, 355.0, 355.0, 355.0, 355.0, 355.0, 355.0, 355.0, 355.0, 355.0, 355.0, 356.0, 356.0, 356.0, 356.0, 356.0, 357.0, 357.0, 357.0, 357.0, 357.0, 357.0, 358.0, 358.0, 358.0, 359.0, 359.0, 359.0, 359.0, 359.0, 360.0, 360.0, 360.0, 360.0, 360.0, 360.0, 360.0, 361.0, 361.0, 362.0, 363.0, 363.0, 363.0, 363.0, 364.0, 364.0, 364.0, 364.0, 364.0, 364.0, 364.0, 364.0, 364.0, 364.0, 364.0, 364.0, 364.0, 364.0, 364.0, 364.0, 364.0, 364.0, 365.0, 365.0, 365.0, 366.0, 366.0, 366.0, 366.0, 368.0, 368.0, 368.0, 368.0, 368.0, 368.0, 368.0, 369.0, 369.0, 369.0, 369.0, 369.0, 369.0, 369.0, 369.0, 369.0, 369.0, 369.0, 369.0, 369.0, 370.0, 370.0, 370.0, 370.0, 370.0, 370.0, 371.0, 371.0, 371.0, 371.0, 372.0, 372.0, 372.0, 373.0, 374.0, 374.0, 374.0, 375.0, 375.0, 375.0, 375.0, 375.0, 375.0, 375.0, 375.0, 375.0, 375.0, 375.0, 375.0, 375.0, 375.0, 375.0, 375.0, 375.0, 375.0, 375.0, 375.0, 375.0, 375.0, 375.0, 375.0, 375.0, 375.0, 376.0, 376.0, 376.0, 377.0, 377.0, 378.0, 378.0, 378.0, 378.0, 379.0, 379.0, 379.0, 379.0, 379.0, 379.0, 379.0, 380.0, 380.0, 380.0, 380.0, 380.0, 380.0, 380.0, 380.0, 380.0, 381.0, 382.0, 382.0, 383.0, 383.0, 383.0, 383.0, 384.0, 385.0, 385.0, 385.0, 385.0, 385.0, 385.0, 385.0, 385.0, 385.0, 385.0, 385.0, 385.0, 385.0, 385.0, 386.0, 386.0, 386.0, 386.0, 387.0, 387.0, 388.0, 388.0, 388.0, 388.0, 389.0, 389.0, 389.0, 389.0, 389.0, 389.0, 389.0, 390.0, 390.0, 390.0, 390.0, 390.0, 390.0, 390.0, 390.0, 391.0, 391.0, 392.0, 392.0, 392.0, 393.0, 393.0, 393.0, 393.0, 394.0, 394.0, 394.0, 395.0, 395.0, 395.0, 395.0, 395.0, 395.0, 395.0, 395.0, 395.0, 395.0, 395.0, 395.0, 395.0, 395.0, 395.0, 395.0, 395.0, 395.0, 395.0, 395.0, 395.0, 396.0, 396.0, 396.0, 396.0, 396.0, 397.0, 397.0, 397.0, 398.0, 398.0, 398.0, 398.0, 398.0, 398.0, 398.0, 398.0, 399.0, 399.0, 399.0, 399.0, 399.0, 399.0, 399.0, 399.0, 399.0, 399.0, 399.0, 399.0, 399.0, 399.0, 399.0, 399.0, 399.0, 399.0, 399.0, 399.0, 399.0, 399.0, 399.0, 399.0, 399.0, 399.0, 399.0, 399.0, 399.0, 399.0, 399.0, 399.0, 400.0, 400.0, 400.0, 400.0, 400.0, 400.0, 400.0, 400.0, 400.0, 400.0, 400.0, 400.0, 400.0, 400.0, 400.0, 400.0, 400.0, 400.0, 400.0, 400.0, 400.0, 400.0, 400.0, 400.0, 400.0, 400.0, 400.0, 400.0, 400.0, 400.0, 400.0, 400.0, 400.0, 400.0, 400.0, 400.0, 400.0, 400.0, 400.0, 400.0, 400.0, 400.0, 400.0, 400.0, 400.0, 400.0, 400.0, 400.0, 400.0, 400.0, 400.0, 400.0, 400.0, 400.0, 400.0, 400.0, 400.0, 400.0, 400.0, 400.0, 400.0, 400.0, 400.0, 400.0, 400.0, 400.0, 400.0, 400.0, 400.0, 400.0, 400.0, 400.0, 400.0, 400.0, 400.0, 400.0, 400.0, 400.0, 400.0, 400.0, 400.0, 400.0, 400.0, 400.0, 400.0, 401.0, 401.0, 402.0, 403.0, 403.0, 403.0, 403.0, 403.0, 404.0, 405.0, 405.0, 405.0, 405.0, 406.0, 407.0, 407.0, 407.0, 407.0, 408.0, 408.0, 409.0, 409.0, 409.0, 409.0, 410.0, 410.0, 410.0, 410.0, 410.0, 410.0, 410.0, 413.0, 413.0, 413.0, 413.0, 414.0, 414.0, 414.0, 414.0, 414.0, 414.0, 414.0, 414.0, 414.0, 414.0, 415.0, 415.0, 416.0, 417.0, 418.0, 419.0, 419.0, 419.0, 420.0, 420.0, 420.0, 420.0, 420.0, 420.0, 420.0, 420.0, 420.0, 420.0, 421.0, 421.0, 421.0, 421.0, 423.0, 424.0, 424.0, 424.0, 425.0, 425.0, 425.0, 425.0, 425.0, 425.0, 425.0, 425.0, 425.0, 425.0, 425.0, 425.0, 425.0, 425.0, 425.0, 425.0, 425.0, 425.0, 425.0, 425.0, 426.0, 427.0, 427.0, 428.0, 428.0, 429.0, 429.0, 429.0, 429.0, 429.0, 429.0, 429.0, 429.0, 430.0, 430.0, 430.0, 431.0, 431.0, 432.0, 433.0, 433.0, 435.0, 436.0, 436.0, 438.0, 438.0, 439.0, 440.0, 440.0, 443.0, 445.0, 445.0, 445.0, 445.0, 445.0, 446.0, 449.0, 449.0, 449.0, 449.0, 449.0, 449.0, 449.0, 450.0, 450.0, 450.0, 450.0, 450.0, 450.0, 450.0, 450.0, 450.0, 450.0, 450.0, 450.0, 450.0, 450.0, 450.0, 450.0, 450.0, 450.0, 450.0, 450.0, 450.0, 450.0, 450.0, 450.0, 450.0, 450.0, 450.0, 450.0, 450.0, 450.0, 450.0, 450.0, 450.0, 450.0, 450.0, 450.0, 450.0, 450.0, 450.0, 450.0, 450.0, 450.0, 450.0, 450.0, 450.0, 450.0, 450.0, 450.0, 450.0, 450.0, 450.0, 450.0, 450.0, 450.0, 450.0, 450.0, 450.0, 450.0, 450.0, 450.0, 451.0, 453.0, 454.0, 455.0, 456.0, 457.0, 457.0, 457.0, 457.0, 457.0, 458.0, 458.0, 458.0, 458.0, 459.0, 459.0, 459.0, 460.0, 460.0, 460.0, 460.0, 460.0, 460.0, 461.0, 462.0, 464.0, 464.0, 465.0, 465.0, 466.0, 468.0, 468.0, 469.0, 471.0, 473.0, 473.0, 475.0, 475.0, 475.0, 475.0, 475.0, 475.0, 475.0, 475.0, 475.0, 476.0, 476.0, 477.0, 478.0, 479.0, 480.0, 480.0, 480.0, 480.0, 481.0, 481.0, 481.0, 482.0, 482.0, 482.0, 483.0, 484.0, 485.0, 485.0, 485.0, 486.0, 487.0, 490.0, 490.0, 490.0, 490.0, 490.0, 490.0, 491.0, 491.0, 491.0, 491.0, 491.0, 491.0, 492.0, 492.0, 495.0, 495.0, 495.0, 495.0, 495.0, 495.0, 495.0, 495.0, 495.0, 495.0, 496.0, 496.0, 497.0, 498.0, 498.0, 499.0, 499.0, 499.0, 499.0, 499.0, 499.0, 499.0, 499.0, 499.0, 499.0, 499.0, 499.0, 499.0, 499.0, 499.0, 499.0, 499.0, 500.0, 500.0, 500.0, 500.0, 500.0, 500.0, 500.0, 500.0, 500.0, 500.0, 500.0, 500.0, 500.0, 500.0, 500.0, 500.0, 500.0, 500.0, 500.0, 500.0, 500.0, 500.0, 500.0, 500.0, 500.0, 500.0, 500.0, 500.0, 500.0, 500.0, 500.0, 500.0, 500.0, 500.0, 500.0, 500.0, 500.0, 500.0, 500.0, 500.0, 500.0, 500.0, 500.0, 500.0, 500.0, 500.0, 500.0, 500.0, 500.0, 500.0, 500.0, 500.0, 500.0, 500.0, 500.0, 500.0, 500.0, 500.0, 500.0, 500.0, 500.0, 500.0, 500.0, 500.0, 500.0, 500.0, 500.0, 500.0, 500.0, 500.0, 500.0, 500.0, 500.0, 500.0, 500.0, 500.0, 503.0, 503.0, 503.0, 506.0, 506.0, 506.0, 506.0, 507.0, 507.0, 508.0, 508.0, 510.0, 510.0, 513.0, 513.0, 514.0, 515.0, 518.0, 520.0, 521.0, 523.0, 525.0, 525.0, 525.0, 526.0, 527.0, 528.0, 529.0, 530.0, 532.0, 540.0, 540.0, 542.0, 544.0, 546.0, 547.0, 547.0, 549.0, 549.0, 549.0, 549.0, 550.0, 550.0, 550.0, 550.0, 550.0, 550.0, 550.0, 550.0, 550.0, 550.0, 550.0, 550.0, 550.0, 550.0, 552.0, 556.0, 557.0, 557.0, 558.0, 559.0, 560.0, 560.0, 560.0, 566.0, 567.0, 567.0, 567.0, 569.0, 570.0, 572.0, 574.0, 575.0, 575.0, 579.0, 580.0, 581.0, 584.0, 585.0, 585.0, 586.0, 587.0, 588.0, 589.0, 589.0, 590.0, 590.0, 590.0, 590.0, 594.0, 594.0, 595.0, 595.0, 595.0, 595.0, 595.0, 595.0, 595.0, 599.0, 599.0, 599.0, 599.0, 599.0, 599.0, 599.0, 599.0, 599.0, 599.0, 599.0, 599.0, 599.0, 600.0, 600.0, 600.0, 600.0, 600.0, 600.0, 600.0, 600.0, 600.0, 600.0, 600.0, 600.0, 600.0, 600.0, 600.0, 600.0, 600.0, 600.0, 600.0, 600.0, 600.0, 600.0, 600.0, 600.0, 600.0, 600.0, 600.0, 600.0, 600.0, 600.0, 600.0, 600.0, 600.0, 600.0, 600.0, 600.0, 600.0, 600.0, 600.0, 600.0, 600.0, 600.0, 600.0, 600.0, 600.0, 607.0, 613.0, 614.0, 614.0, 616.0, 616.0, 617.0, 619.0, 621.0, 621.0, 622.0, 628.0, 628.0, 628.0, 633.0, 634.0, 635.0, 635.0, 635.0, 635.0, 639.0, 643.0, 643.0, 645.0, 646.0, 646.0, 647.0, 649.0, 649.0, 650.0, 650.0, 650.0, 650.0, 650.0, 650.0, 650.0, 650.0, 650.0, 650.0, 650.0, 650.0, 650.0, 650.0, 650.0, 650.0, 650.0, 650.0, 650.0, 650.0, 650.0, 650.0, 652.0, 654.0, 655.0, 658.0, 663.0, 664.0, 664.0, 665.0, 665.0, 668.0, 672.0, 675.0, 675.0, 675.0, 675.0, 675.0, 677.0, 678.0, 680.0, 682.0, 685.0, 685.0, 686.0, 687.0, 688.0, 690.0, 693.0, 695.0, 699.0, 699.0, 699.0, 700.0, 700.0, 700.0, 700.0, 700.0, 700.0, 700.0, 700.0, 700.0, 700.0, 700.0, 700.0, 700.0, 700.0, 700.0, 713.0, 713.0, 714.0, 716.0, 720.0, 724.0, 725.0, 725.0, 728.0, 729.0, 733.0, 739.0, 743.0, 748.0, 749.0, 749.0, 749.0, 750.0, 750.0, 750.0, 750.0, 750.0, 750.0, 750.0, 750.0, 750.0, 750.0, 750.0, 750.0, 750.0, 750.0, 750.0, 750.0, 750.0, 750.0, 755.0, 757.0, 758.0, 759.0, 765.0, 769.0, 771.0, 771.0, 775.0, 779.0, 785.0, 786.0, 786.0, 789.0, 790.0, 790.0, 791.0, 792.0, 792.0, 793.0, 794.0, 795.0, 795.0, 799.0, 799.0, 799.0, 799.0, 799.0, 800.0, 800.0, 800.0, 800.0, 800.0, 800.0, 800.0, 800.0, 800.0, 800.0, 800.0, 800.0, 800.0, 800.0, 800.0, 800.0, 800.0, 800.0, 800.0, 800.0, 800.0, 800.0, 800.0, 800.0, 800.0, 800.0, 800.0, 800.0, 800.0, 800.0, 800.0, 800.0, 800.0, 800.0, 800.0, 800.0, 800.0, 807.0, 808.0, 814.0, 818.0, 833.0, 833.0, 840.0, 840.0, 843.0, 850.0, 850.0, 850.0, 850.0, 850.0, 850.0, 850.0, 850.0, 850.0, 851.0, 861.0, 864.0, 868.0, 871.0, 875.0, 882.0, 893.0, 899.0, 899.0, 899.0, 900.0, 900.0, 900.0, 900.0, 900.0, 900.0, 900.0, 900.0, 900.0, 900.0, 900.0, 900.0, 900.0, 900.0, 900.0, 900.0, 900.0, 909.0, 914.0, 914.0, 924.0, 925.0, 928.0, 930.0, 935.0, 935.0, 940.0, 946.0, 950.0, 950.0, 950.0, 950.0, 950.0, 956.0, 957.0, 957.0, 968.0, 971.0, 980.0, 980.0, 980.0, 980.0, 986.0, 987.0, 989.0, 992.0, 995.0, 995.0, 995.0, 995.0, 998.0, 999.0, 999.0, 999.0, 999.0, 999.0, 999.0, 1000.0, 1000.0, 1000.0, 1000.0, 1000.0, 1000.0, 1000.0, 1000.0, 1000.0, 1000.0, 1000.0, 1000.0, 1000.0, 1000.0, 1000.0, 1000.0, 1000.0, 1000.0, 1000.0, 1000.0, 1000.0, 1000.0, 1000.0, 1000.0, 1000.0, 1000.0, 1000.0, 1000.0, 1000.0, 1011.0, 1016.0, 1025.0, 1025.0, 1057.0, 1057.0, 1074.0, 1085.0, 1099.0, 1100.0, 1100.0, 1100.0, 1100.0, 1100.0, 1100.0, 1100.0, 1113.0, 1115.0, 1120.0, 1137.0, 1138.0, 1138.0, 1199.0, 1199.0, 1200.0, 1200.0, 1200.0, 1200.0, 1200.0, 1200.0, 1200.0, 1200.0, 1200.0, 1200.0, 1204.0, 1225.0, 1225.0, 1245.0, 1250.0, 1250.0, 1250.0, 1250.0, 1250.0, 1250.0, 1250.0, 1250.0, 1270.0, 1280.0, 1290.0, 1295.0, 1296.0, 1299.0, 1300.0, 1300.0, 1300.0, 1300.0, 1312.0, 1328.0, 1342.0, 1350.0, 1351.0, 1355.0, 1357.0, 1386.0, 1393.0, 1399.0, 1400.0, 1400.0, 1400.0, 1400.0, 1413.0, 1430.0, 1474.0, 1495.0, 1500.0, 1500.0, 1500.0, 1500.0, 1500.0, 1500.0, 1500.0, 1500.0, 1500.0, 1500.0, 1500.0, 1500.0, 1500.0, 1500.0, 1500.0, 1500.0, 1500.0, 1529.0, 1550.0, 1575.0, 1600.0, 1600.0, 1600.0, 1635.0, 1653.0, 1654.0, 1742.0, 1750.0, 1763.0, 1847.0, 1852.0, 1856.0, 1871.0, 1871.0, 1899.0, 1950.0, 1995.0, 1999.0, 1999.0, 2000.0, 2000.0, 2000.0, 2000.0, 2000.0, 2000.0, 2000.0, 2000.0, 2000.0, 2000.0, 2015.0, 2046.0, 2100.0, 2100.0, 2160.0, 2249.0, 2299.0, 2350.0, 2371.0, 2499.0, 2500.0, 2500.0, 2500.0, 2500.0, 2500.0, 2500.0, 2500.0, 2500.0, 2600.0, 2600.0, 2614.0, 2614.0, 2666.0, 2695.0, 2714.0, 2750.0, 2750.0, 2850.0, 2850.0, 2850.0, 2914.0, 3200.0, 3500.0, 3500.0, 3750.0, 3974.0, 4000.0, 4000.0, 4929.0, 5000.0, 5000.0, 5250.0, 6500.0, 7000.0, 7314.0, 9990.0, 9999.0, 10000.0, 10000.0, 10000.0, 10000.0, 10000.0, 10000.0]\n"
    }
   ]
  },
  {
   "cell_type": "code",
   "metadata": {
    "deepnote_to_be_reexecuted": false,
    "execution_millis": 24,
    "execution_start": 1647847098551,
    "source_hash": "a626e3a1",
    "tags": [],
    "cell_id": "00048-d28de8b7-2ad8-4d7d-ab85-f5bba5e1aecb",
    "deepnote_cell_type": "code",
    "deepnote_cell_height": 527.71875
   },
   "source": "threshold = 1000\ntrain_vals = train['price'].values\nval_vals = val['price'].values\ntest_vals = test['price'].values\ntrain_left = 0\nval_left = 0\ntest_left = 0\nfor i in train_vals:\n    if i < threshold:\n        train_left += 1\nfor i in val_vals:\n    if i < threshold:\n        val_left += 1\nfor i in test_vals:\n    if i < threshold:\n        test_left += 1\nprint([train_left, val_left, test_left])\n\ntrain = train[train['price'] < threshold]\nval = val[val['price'] < threshold]\ntest = test[test['price'] < threshold]\n\nprint([train.shape, val.shape, test.shape])",
   "execution_count": null,
   "outputs": [
    {
     "name": "stdout",
     "text": "[2151, 459, 458]\n[(2151, 54), (459, 54), (458, 54)]\n",
     "output_type": "stream"
    }
   ]
  },
  {
   "cell_type": "code",
   "metadata": {
    "deepnote_to_be_reexecuted": false,
    "execution_millis": 2,
    "execution_start": 1647847103408,
    "source_hash": "63ddd068",
    "tags": [],
    "cell_id": "00049-f2756ed8-74bd-410e-bb38-415bf6bf24fd",
    "deepnote_cell_type": "code",
    "deepnote_cell_height": 315
   },
   "source": "# from nltk.corpus import stopwords\nfrom nltk.stem import WordNetLemmatizer\nfrom nltk import word_tokenize\n\nlemmatizer = WordNetLemmatizer()\n# pattern = re.compile(r'\\b(' + r'|'.join(stopwords.words('english')) + r')\\b\\s*')\n# txt = pattern.sub('', txt)\ndef clean_text(txt):\n    txt = txt.translate(str.maketrans('', '', string.punctuation))\n    txt = re.sub(r'[^\\w\\s]','',txt)\n    txt = txt.lower()\n    txt = nltk.word_tokenize(txt)\n    txt = ' '.join(lemmatizer.lemmatize(w) for w in txt) #remove stopwords later\n    return txt",
   "execution_count": null,
   "outputs": []
  },
  {
   "cell_type": "code",
   "metadata": {
    "deepnote_to_be_reexecuted": false,
    "execution_millis": 4,
    "execution_start": 1647847106593,
    "source_hash": "ed870043",
    "tags": [],
    "cell_id": "00050-bd7dbc87-0143-4df5-baf9-02b4847be783",
    "deepnote_cell_type": "code",
    "deepnote_cell_height": 603
   },
   "source": "#fill in missing values\n# def fill_mean(df, col_name):\n#     tot = 0\n#     for i in df[col_name]:\n#         if i != 'No Data' and i == i:\n#             tot += float(i)\n#     mean = float(tot) / df.shape[0]\n#     df[col_name] = df[col_name].apply(lambda x: mean if x == 'No Data' or x != x else float(x))\n#     return mean, df\n\n# def fill_mean_val_test(df, col_name, mean):\n#     df[col_name] = df[col_name].apply(lambda x: mean if x == 'No Data' or x != x else float(x))\n#     return df\n\n# mean, train = fill_mean(train, 'host_response_rate')\n# val = fill_mean_val_test(val, 'host_response_rate', mean)\n# test = fill_mean_val_test(test, 'host_response_rate', mean)\n# mean, train = fill_mean(train, 'host_acceptance_rate')\n# val = fill_mean_val_test(val, 'host_acceptance_rate', mean)\n# test = fill_mean_val_test(test, 'host_acceptance_rate', mean)\ndef fill_zeroes(df, col_name):\n    df[col_name] = df[col_name].apply(lambda x: 0 if x == 'No Data' or x != x else float(x))\n    return df\n\ntrain = fill_zeroes(train, 'host_response_rate')\nval = fill_zeroes(val, 'host_response_rate')\ntest = fill_zeroes(test, 'host_response_rate')\ntrain = fill_zeroes(train, 'host_acceptance_rate')\nval = fill_zeroes(val, 'host_acceptance_rate')\ntest = fill_zeroes(test, 'host_acceptance_rate')",
   "execution_count": null,
   "outputs": []
  },
  {
   "cell_type": "code",
   "metadata": {
    "deepnote_to_be_reexecuted": false,
    "execution_millis": 100,
    "execution_start": 1647847127106,
    "source_hash": "847b3a11",
    "tags": [],
    "cell_id": "00051-3fc9b47f-8940-4a2c-8f93-d39dfff94743",
    "deepnote_cell_type": "code",
    "deepnote_cell_height": 531
   },
   "source": "#Standardising the numerical columns\nmeans_sd_dict = {} #to recover the means and sd used to standardise each feature\ndef standardise_train(df, col_name):\n    mean = np.mean(df[col_name])\n    sd = np.std(df[col_name])\n    df[col_name] = df[col_name].apply(lambda x: (x - mean) / sd)\n    means_sd_dict[col_name] = [mean, sd]\n    return df\n\ndef standardise_val_test(df, col_name):\n    mean = means_sd_dict[col_name][0]\n    sd = means_sd_dict[col_name][1]\n    df[col_name] = df[col_name].apply(lambda x: (x - mean) / sd)\n    return df\n\nnumerical_features = ['host_months', 'host_response_rate', 'host_acceptance_rate', \n'host_listings_count', 'accommodates', 'bedrooms', 'beds', 'price', \n'minimum_nights', 'maximum_nights', 'availability_30', 'availability_60', 'availability_90', \n'availability_365', 'number_of_reviews', 'number_of_reviews_ltm', 'number_of_reviews_l30d', \n'review_scores_rating', 'review_scores_accuracy', 'review_scores_cleanliness', \n'review_scores_checkin', 'review_scores_communication', 'review_scores_location', \n'review_scores_value', 'calculated_host_listings_count', 'dist_to_subway']\nfor feat in numerical_features:\n    train = standardise_train(train, feat)\n    val = standardise_val_test(val, feat)\n    test = standardise_val_test(test, feat)",
   "execution_count": null,
   "outputs": []
  },
  {
   "cell_type": "code",
   "metadata": {
    "deepnote_to_be_reexecuted": false,
    "execution_millis": 3999,
    "execution_start": 1647847135597,
    "source_hash": "4583f220",
    "tags": [],
    "cell_id": "00052-41982927-3125-4197-8897-426f33f25358",
    "deepnote_cell_type": "code",
    "deepnote_cell_height": 981
   },
   "source": "#One hot encoding the categorical columns\nfrom sklearn.preprocessing import OneHotEncoder\nohe_dict = {} #store the ohes to transform the val and test correctly\nfeat_train_dict = {} #store all sparse matrices from the ohe. Will do hstack later\nfeat_val_dict = {}\nfeat_test_dict = {}\ndef one_hot_train(df, col_name):\n    enc = OneHotEncoder(drop = 'first')\n    vals = df[col_name].values.reshape(-1, 1)\n    if 'no data' not in df[col_name].unique():\n        label_to_change = df[col_name].value_counts().index[-1]\n        for i in range(len(vals)):\n            if vals[i] == label_to_change:\n                vals[i] = 'no data'\n    trf = enc.fit_transform(vals)\n    feat_train_dict[col_name] = trf\n    ohe_dict[col_name] = enc\n    return\n\ndef one_hot_val(df, col_name):\n    enc = ohe_dict[col_name]\n    curr_cats = enc.categories_[0]\n    vals = df[col_name].values.reshape(-1, 1)\n    for i in range(len(vals)):\n        if vals[i] not in curr_cats:\n            vals[i] = 'no data'\n    trf = enc.transform(vals)\n    feat_val_dict[col_name] = trf\n    return\n\ndef one_hot_test(df, col_name):\n    enc = ohe_dict[col_name]\n    curr_cats = enc.categories_[0]\n    vals = df[col_name].values.reshape(-1, 1)\n    for i in range(len(vals)):\n        if vals[i] not in curr_cats:\n            vals[i] = 'no data'\n    trf = enc.transform(vals)\n    feat_test_dict[col_name] = trf\n    return \n\ncategorical_features = ['host_response_time', 'host_is_superhost', 'host_has_profile_pic', \n'host_identity_verified', 'neighbourhood', 'neighbourhood_cleansed', 'neighbourhood_group_cleansed', \n'property_type', 'room_type', 'has_availability', 'instant_bookable']\nfor feat in categorical_features:\n    train[feat] = train[feat].apply(clean_text)\n    one_hot_train(train, feat)\n    val[feat] = val[feat].apply(clean_text)\n    one_hot_val(val, feat)\n    test[feat] = test[feat].apply(clean_text)\n    one_hot_test(test, feat)",
   "execution_count": null,
   "outputs": []
  },
  {
   "cell_type": "code",
   "metadata": {
    "deepnote_to_be_reexecuted": false,
    "execution_millis": 0,
    "execution_start": 1647847143545,
    "source_hash": "d56b8a61",
    "tags": [],
    "cell_id": "00053-d786c987-511b-4212-ae64-9b3699951265",
    "deepnote_cell_type": "code",
    "deepnote_cell_height": 316.1875
   },
   "source": "tot = 0\n\n#ohe_encs = list(ohe_dict.keys())\nfor i in feat_train_dict:\n    tot += feat_train_dict[i].shape[1]\n    #tot += len(ohe_dict[i].categories_[0])\n    # print(feat_train_dict[i].shape[1])\n    # print(len(ohe_dict[ohe_encs[0]].categories_[0]) - 1)\n    # print(ohe_dict[ohe_encs[0]].categories_)\n    # break\n\ntot",
   "execution_count": null,
   "outputs": [
    {
     "output_type": "execute_result",
     "execution_count": 50,
     "data": {
      "text/plain": "136"
     },
     "metadata": {}
    }
   ]
  },
  {
   "cell_type": "code",
   "metadata": {
    "deepnote_to_be_reexecuted": false,
    "execution_millis": 25,
    "execution_start": 1647847147992,
    "source_hash": "8e03e65b",
    "tags": [],
    "cell_id": "00054-7a014bc0-b935-4e1a-b941-5250a8ff5233",
    "owner_user_id": "315afcd7-a118-46e5-87f7-a2d98fa8d565",
    "deepnote_cell_type": "code",
    "deepnote_cell_height": 1269
   },
   "source": "#handle bathrooms_text (apply thermometer encoding)\ndef thermometer_encoding_train(df, col_name):\n    vals = df[col_name].values\n    unique = sorted(df[col_name].unique())\n    full = np.zeros((df.shape[0], len(unique)))\n    for i in range(len(vals)):\n        curr = vals[i]\n        idx = np.where(curr == unique)[0][0] + 1\n        full[i,:idx] = 1\n    full = full[:,1:]\n    full = sparse.csr_matrix(full)\n    feat_train_dict[col_name] = full\n    return unique\n\ndef thermometer_encoding_val(df, col_name, unique):\n    vals = df[col_name].values\n    full = np.zeros((df.shape[0], len(unique)))\n    for i in range(len(vals)):\n        curr = vals[i]\n        idx = np.where(curr == unique)[0][0] + 1\n        full[i,:idx] = 1\n    full = full[:,1:]\n    full = sparse.csr_matrix(full)\n    feat_val_dict[col_name] = full\n    return\n\ndef find_index(arr, num):\n    idx = 0\n    while idx < len(arr):\n        if arr[idx] > num:\n            return idx\n        idx += 1\n    idx -= 1\n    return idx\n\ndef thermometer_encoding_test(df, col_name, unique):\n    vals = df[col_name].values\n    full = np.zeros((df.shape[0], len(unique)))\n    for i in range(len(vals)):\n        curr = vals[i]\n        try:\n            idx = np.where(curr == unique)[0][0] + 1\n        except Exception: #unseen number, have to round up, cannot have 'Others' as a category\n            idx = find_index(unique, curr) + 1\n        full[i,:idx] = 1\n    full = full[:,1:]\n    full = sparse.csr_matrix(full)\n    feat_test_dict[col_name] = full\n    return\n\nunique = thermometer_encoding_train(train, 'bathrooms_text')\nthermometer_encoding_val(val, 'bathrooms_text', unique)\nthermometer_encoding_test(test, 'bathrooms_text', unique)\n\n# train['bathrooms_text'] = train['bathrooms_text'].apply(str)\n# val['bathrooms_text'] = val['bathrooms_text'].apply(str)\n# test['bathrooms_text'] = test['bathrooms_text'].apply(str)\n# one_hot_train(train, 'bathrooms_text')\n# one_hot_val(val, 'bathrooms_text')\n# one_hot_test(test, 'bathrooms_text')\n\n# mean, train = fill_mean(train, 'bathrooms_text')\n# val = fill_mean_val_test(val, 'bathrooms_text', mean)\n# test = fill_mean_val_test(test, 'bathrooms_text', mean)\n# train = standardise_train(train, 'bathrooms_text')\n# val = standardise_val_test(val, 'bathrooms_text')\n# test = standardise_val_test(test, 'bathrooms_text')",
   "execution_count": null,
   "outputs": []
  },
  {
   "cell_type": "code",
   "metadata": {
    "deepnote_to_be_reexecuted": false,
    "execution_millis": 5,
    "execution_start": 1647847151933,
    "source_hash": "3ea5283f",
    "tags": [],
    "cell_id": "00055-37747f77-8cb1-4ee4-8446-5e0b73be2e52",
    "deepnote_cell_type": "code",
    "deepnote_cell_height": 118.1875
   },
   "source": "feat_train_dict['bathrooms_text'].shape",
   "execution_count": null,
   "outputs": [
    {
     "output_type": "execute_result",
     "execution_count": 52,
     "data": {
      "text/plain": "(2151, 19)"
     },
     "metadata": {}
    }
   ]
  },
  {
   "cell_type": "code",
   "metadata": {
    "deepnote_to_be_reexecuted": false,
    "execution_millis": 5,
    "execution_start": 1647847154570,
    "source_hash": "1765285a",
    "tags": [],
    "cell_id": "00056-33ca2070-55c6-4860-b454-f35e5c04be20",
    "deepnote_cell_type": "code",
    "deepnote_cell_height": 207
   },
   "source": "#clean amenities_str first\ndef clean_amenities(txt):\n    if txt != txt:\n        return []\n    lst = []\n    for i in txt[1:-1].split(','):\n        lst.append(clean_text(i))\n    return lst",
   "execution_count": null,
   "outputs": []
  },
  {
   "cell_type": "code",
   "metadata": {
    "deepnote_to_be_reexecuted": false,
    "execution_millis": 8375,
    "execution_start": 1647847159186,
    "output_cleared": false,
    "source_hash": "5f90d7c5",
    "tags": [],
    "cell_id": "00057-4f38e49d-59c7-4e9c-9085-e000ffaa9c88",
    "deepnote_cell_type": "code",
    "deepnote_cell_height": 860.125
   },
   "source": "from sklearn.preprocessing import MultiLabelBinarizer\n#Multi hot encoded vector for amenities\nmhe_dict = {} #store the mhes to transform the val and test correctly\nmhe_train_dict = {} #store all sparse matrices from the mhe. Will do hstack later\nmhe_val_dict = {}\nmhe_test_dict = {}\n\ndef multi_hot_train(df, col_name):\n    mlb = MultiLabelBinarizer(sparse_output = True)\n    vals = df[col_name].values\n    for i in range(len(vals)):\n        # if type(vals[i]) != list:\n        vals[i] = clean_amenities(vals[i])\n    trf = mlb.fit_transform(vals)\n    mhe_dict[col_name] = mlb\n    mhe_train_dict[col_name] = trf\n    return\n\ndef multi_hot_val(df, col_name):\n    mlb = mhe_dict[col_name]\n    vals = df[col_name].values\n    for i in range(len(vals)):\n        vals[i] = clean_amenities(vals[i])\n    trf = mlb.transform(vals)\n    mhe_val_dict[col_name] = trf\n    return\n\ndef multi_hot_test(df, col_name):\n    mlb = mhe_dict[col_name]\n    vals = df[col_name].values\n    for i in range(len(vals)):\n        vals[i] = clean_amenities(vals[i])\n    trf = mlb.transform(vals)\n    mhe_test_dict[col_name] = trf\n    return\n\nmulti_hot_train(train, 'amenities_str')\nmulti_hot_val(val, 'amenities_str')\nmulti_hot_test(test, 'amenities_str')",
   "execution_count": null,
   "outputs": [
    {
     "name": "stderr",
     "text": "/shared-libs/python3.9/py/lib/python3.9/site-packages/sklearn/preprocessing/_label.py:875: UserWarning: unknown class(es) ['43 hdtv with amazon prime video', 'body soap body soap', 'bosch stainless steel oven', 'childrenu2019s book and toy for age 02 year old and 25 year old', 'clothing storage dresser', 'clothing storage dresser and wardrobe', 'dove conditioner', 'dove shampoo', 'fast wifi u2013 366 mbps', 'hitachi refrigerator', 'mitsubishi conditioner', 'neutrogena body soap', 'piano', 'ping pong table', 'portable stove gas stove', 'samsung bluetooth sound system', 'samsung refrigerator', 'shared gym nearby', 'shokubutsu body soap', 'sound bar bose bluetooth speaker bluetooth sound system', 'stainless steel gas stove', 'trash compactor', 'tv with hbo max', 'window ac unit'] will be ignored\n  warnings.warn(\n/shared-libs/python3.9/py/lib/python3.9/site-packages/sklearn/preprocessing/_label.py:875: UserWarning: unknown class(es) ['clothing storage closet and walkin closet', 'ping pong table', 'trash compactor'] will be ignored\n  warnings.warn(\n",
     "output_type": "stream"
    }
   ]
  },
  {
   "cell_type": "code",
   "metadata": {
    "deepnote_to_be_reexecuted": false,
    "execution_millis": 5,
    "execution_start": 1647847172923,
    "source_hash": "db4fa8e7",
    "tags": [],
    "cell_id": "00058-b336c9b4-0ee9-40c7-84f1-4d1515a66e52",
    "deepnote_cell_type": "code",
    "deepnote_cell_height": 118.1875
   },
   "source": "len(mhe_dict['amenities_str'].classes_)",
   "execution_count": null,
   "outputs": [
    {
     "output_type": "execute_result",
     "execution_count": 55,
     "data": {
      "text/plain": "227"
     },
     "metadata": {}
    }
   ]
  },
  {
   "cell_type": "code",
   "metadata": {
    "deepnote_to_be_reexecuted": false,
    "execution_millis": 1650,
    "execution_start": 1647847177185,
    "source_hash": "842ea4a7",
    "tags": [],
    "cell_id": "00059-5907ea90-d95f-40f6-afd0-654567daf9b8",
    "deepnote_cell_type": "code",
    "deepnote_cell_height": 189
   },
   "source": "#transform the text col\nfrom sklearn.feature_extraction.text import TfidfVectorizer\n\ntext_vec = TfidfVectorizer(max_df = 0.5, min_df = 0.005)\ntext_train = text_vec.fit_transform(train['combined_text'])\ntext_val = text_vec.transform(val['combined_text'])\ntext_test = text_vec.transform(test['combined_text'])",
   "execution_count": null,
   "outputs": []
  },
  {
   "cell_type": "code",
   "metadata": {
    "deepnote_to_be_reexecuted": false,
    "execution_millis": 4,
    "execution_start": 1647847180943,
    "source_hash": "73f89838",
    "tags": [],
    "cell_id": "00060-ac51fb7e-0f91-43af-b29d-c264e787cbf7",
    "deepnote_cell_type": "code",
    "deepnote_cell_height": 118.1875
   },
   "source": "len(text_vec.vocabulary_)",
   "execution_count": null,
   "outputs": [
    {
     "output_type": "execute_result",
     "execution_count": 57,
     "data": {
      "text/plain": "3761"
     },
     "metadata": {}
    }
   ]
  },
  {
   "cell_type": "code",
   "metadata": {
    "deepnote_to_be_reexecuted": false,
    "execution_millis": 1,
    "execution_start": 1647847318164,
    "source_hash": "50d343f7",
    "tags": [],
    "cell_id": "00061-fcd73f24-fc4e-43e3-bebb-750d53d2048b",
    "deepnote_cell_type": "code",
    "deepnote_cell_height": 711
   },
   "source": "import pickle\n\nall_features = list(text_vec.get_feature_names_out())\nall_features = list(map(lambda x: 'Word ' + str(x), all_features))\n# all_features = []\n\nfor i in numerical_features:\n    if i == 'price':\n        continue\n    all_features.append('Numerical ' + i)\n\nfor i in categorical_features:\n    num_cats = feat_train_dict[i].shape[1]\n    curr_ohe = ohe_dict[i].categories_[0][1:]\n    for j in range(num_cats):\n        curr = \"Categorical \" + i + \" \" + str(curr_ohe[j])\n        all_features.append(curr)\n\nnum_cats = feat_train_dict['bathrooms_text'].shape[1]\nunique = sorted(train['bathrooms_text'].unique())[1:]\nfor j in range(num_cats):\n    curr = 'Categorical bathrooms_text '+ str(unique[j])\n    all_features.append(curr)\n\nnum_cats = mhe_train_dict['amenities_str'].shape[1]\ncurr_mhe = mhe_dict['amenities_str'].classes_\nfor j in range(num_cats):\n    curr = 'Categorical amenities_str '+str(curr_mhe[j])\n    all_features.append(curr)\n\nfeatures_dict = {}\nfor i in range(len(all_features)):\n    features_dict[i] = all_features[i]\n\nwith open('SG_no_review_ratings_feat_dict.pkl', 'wb') as f:\n    pickle.dump(features_dict, f)",
   "execution_count": null,
   "outputs": []
  },
  {
   "cell_type": "code",
   "metadata": {
    "deepnote_to_be_reexecuted": false,
    "execution_millis": 347,
    "execution_start": 1647847232357,
    "source_hash": "f4bcea3b",
    "tags": [],
    "cell_id": "00062-bebde09f-1f5a-4ca0-a4b1-fd6911775c07",
    "deepnote_cell_type": "code",
    "deepnote_cell_height": 949.828125
   },
   "source": "#stacking everything together\ndef get_X(text, df, feat_dict, mhe_dict):\n    X = text\n    # X = sparse.csr_matrix(np.array(df[numerical_features[0]]).reshape(df.shape[0], 1))\n    print(X.shape)\n    for i in numerical_features:\n        if i == 'price':\n            continue\n        X = sparse.hstack((X, np.array(df[i]).reshape(-1, 1)))\n    print(X.shape)\n    for i in categorical_features:\n        X = sparse.hstack((X, feat_dict[i]))\n    print(X.shape)\n    # X = sparse.hstack((X, np.array(df['bathrooms_text']).reshape(-1, 1)))\n    X = sparse.hstack((X, feat_dict['bathrooms_text']))\n    print(X.shape)\n    X = sparse.hstack((X, mhe_dict['amenities_str']))\n    print(X.shape)\n    return X\n\ndef get_Y(df):\n    return df['price']\n\nX_train = get_X(text_train, train, feat_train_dict, mhe_train_dict)\ny_train = get_Y(train)\nX_val = get_X(text_val, val, feat_val_dict, mhe_val_dict)\ny_val = get_Y(val)\nX_test = get_X(text_test, test, feat_test_dict, mhe_test_dict)\ny_test = get_Y(test)\n\nprint([X_train.shape, y_train.shape, X_val.shape, y_val.shape, X_test.shape, y_test.shape])",
   "execution_count": null,
   "outputs": [
    {
     "name": "stdout",
     "text": "(2151, 3761)\n(2151, 3785)\n(2151, 3921)\n(2151, 3940)\n(2151, 4167)\n(459, 3761)\n(459, 3785)\n(459, 3921)\n(459, 3940)\n(459, 4167)\n(458, 3761)\n(458, 3785)\n(458, 3921)\n(458, 3940)\n(458, 4167)\n[(2151, 4167), (2151,), (459, 4167), (459,), (458, 4167), (458,)]\n",
     "output_type": "stream"
    }
   ]
  },
  {
   "cell_type": "markdown",
   "source": "text = combined_text\n\nnumerical = host_months, host_response_rate, host_acceptance_rate, host_listings_count, latitude, longitude, accommodates, bedrooms, beds, price, minimum_nights, maximum_nights, availability_30, availability_60, availability_90, availability_365, number_of_reviews, number_of_reviews_ltm, number_of_reviews_l30d, review_scores_rating, review_scores_accuracy, review_scores_cleanliness, review_scores_checkin, review_scores_communication, review_scores_location, review_scores_value, calculated_host_listings_count\n\ncategorical = host_response_time, host_is_superhost, host_has_profile_pic, host_identity_verified, neighbourhood, neighbourhood_cleansed, neighbourhood_group_cleansed, property_type, room_type, has_availability, instant_bookable\n\nspecial treatment: bathrooms_text (fill in with mean), amenities_str (categorical, multi-hot vector)",
   "metadata": {
    "tags": [],
    "cell_id": "00063-240c1a2d-3e8b-4918-af6f-162a445e0d3a",
    "deepnote_cell_type": "markdown",
    "deepnote_cell_height": 318.34375
   }
  },
  {
   "cell_type": "code",
   "metadata": {
    "deepnote_to_be_reexecuted": false,
    "execution_millis": 17,
    "execution_start": 1647847261157,
    "source_hash": "9a5c0bd9",
    "tags": [],
    "cell_id": "00064-473387b8-1d34-4c84-bd13-b64a77855df2",
    "deepnote_cell_type": "code",
    "deepnote_cell_height": 405
   },
   "source": "import pickle\n\nwith open('SG_no_review_ratings_x_train.pkl', 'wb') as f:\n    pickle.dump(X_train, f)\n\nwith open('SG_no_review_ratings_y_train.pkl', 'wb') as f:\n    pickle.dump(y_train, f)\n\nwith open('SG_no_review_ratings_x_val.pkl', 'wb') as f:\n    pickle.dump(X_val, f)\n\nwith open('SG_no_review_ratings_y_val.pkl', 'wb') as f:\n    pickle.dump(y_val, f)\n\nwith open('SG_no_review_ratings_x_test.pkl', 'wb') as f:\n    pickle.dump(X_test, f)\n\nwith open('SG_no_review_ratings_y_test.pkl', 'wb') as f:\n    pickle.dump(y_test, f)",
   "execution_count": null,
   "outputs": []
  },
  {
   "cell_type": "code",
   "metadata": {
    "deepnote_to_be_reexecuted": false,
    "execution_millis": 21,
    "execution_start": 1647325974063,
    "source_hash": "1999ea77",
    "tags": [],
    "cell_id": "00065-8a6e892a-f39a-437f-8128-3597da8408d9",
    "deepnote_cell_type": "code",
    "deepnote_cell_height": 118.1875
   },
   "source": "means_sd_dict['price'] #to recover the predictions after modelling",
   "execution_count": null,
   "outputs": [
    {
     "output_type": "execute_result",
     "execution_count": 70,
     "data": {
      "text/plain": "[178.59181775918177, 160.159729103757]"
     },
     "metadata": {}
    }
   ]
  },
  {
   "cell_type": "markdown",
   "source": "<a style='text-decoration:none;line-height:16px;display:flex;color:#5B5B62;padding:10px;justify-content:end;' href='https://deepnote.com?utm_source=created-in-deepnote-cell&projectId=2a92d0af-cecf-4cde-96f5-c3db3a7f88f1' target=\"_blank\">\n<img alt='Created in deepnote.com' style='display:inline;max-height:16px;margin:0px;margin-right:7.5px;' src='data:image/svg+xml;base64,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' > </img>\nCreated in <span style='font-weight:600;margin-left:4px;'>Deepnote</span></a>",
   "metadata": {
    "tags": [],
    "created_in_deepnote_cell": true,
    "deepnote_cell_type": "markdown"
   }
  }
 ],
 "nbformat": 4,
 "nbformat_minor": 2,
 "metadata": {
  "deepnote": {
   "is_reactive": false
  },
  "deepnote_execution_queue": [],
  "deepnote_notebook_id": "8831855d-5a2f-48a3-badb-3a3bff5c8962",
  "kernelspec": {
   "display_name": "Python 3 (ipykernel)",
   "language": "python",
   "name": "python3"
  },
  "language_info": {
   "codemirror_mode": {
    "name": "ipython",
    "version": 3
   },
   "file_extension": ".py",
   "mimetype": "text/x-python",
   "name": "python",
   "nbconvert_exporter": "python",
   "pygments_lexer": "ipython3",
   "version": "3.9.7"
  }
 }
}