{
 "cells": [
  {
   "cell_type": "code",
   "metadata": {
    "tags": [],
    "cell_id": "efbb43bf-2683-4927-91a1-4047e90edb1c",
    "deepnote_to_be_reexecuted": false,
    "source_hash": "5721b85e",
    "execution_start": 1649189288006,
    "execution_millis": 2338,
    "owner_user_id": "315afcd7-a118-46e5-87f7-a2d98fa8d565",
    "deepnote_cell_type": "code",
    "deepnote_cell_height": 1845
   },
   "source": "import pickle\nimport numpy as np\nfrom sklearn.svm import SVR\nfrom sklearn.svm import LinearSVR\nfrom sklearn.model_selection import GridSearchCV\nfrom sklearn.metrics import make_scorer\nfrom sklearn.metrics import mean_squared_error\nimport joblib\nfrom sklearn import linear_model\nimport xgboost\nfrom xgboost import XGBRegressor\nfrom sklearn.model_selection import RandomizedSearchCV\nfrom sklearn.ensemble import RandomForestRegressor\n\nscorer = make_scorer(mean_squared_error, greater_is_better=False)\n\ndef calculate_rrmse(model, x_test, y_test, y_train):\n    preds = model.predict(x_test).ravel()\n    y_bar_train = np.mean(y_train)\n    naive_sse = sum((y_bar_train - y_test) ** 2)\n    model_sse = sum((preds - y_test) ** 2)\n    rrmse = 100 * np.sqrt(model_sse / naive_sse)\n    return rrmse\n\ndef get_results(model):\n    print(calculate_rrmse(model, X_train.tocsr(), y_train, y_train))\n    print(calculate_rrmse(model, X_val.tocsr(), y_val, y_train))\n    print(calculate_rrmse(model, X_test.tocsr(), y_test, y_train))\n    return\n\ndef train_model(location,data_version):\n    with open('pkls/{}_{}x_train.pkl'.format(location,data_version), 'rb') as f:\n        X_train = pickle.load(f)\n\n    with open('pkls/{}_{}y_train.pkl'.format(location,data_version), 'rb') as f:\n        y_train = pickle.load(f)\n\n    with open('pkls/{}_{}x_val.pkl'.format(location,data_version), 'rb') as f:\n        X_val = pickle.load(f)\n\n    with open('pkls/{}_{}y_val.pkl'.format(location,data_version), 'rb') as f:\n        y_val = pickle.load(f)\n\n    with open('pkls/{}_{}x_test.pkl'.format(location,data_version), 'rb') as f:\n        X_test = pickle.load(f)\n\n    with open('pkls/{}_{}y_test.pkl'.format(location,data_version), 'rb') as f:\n        y_test = pickle.load(f)\n    \n    def get_model(model):\n        if model == 'SVR':\n            return LinearSVR()\n        if model == 'Linear_Regression':\n            return linear_model.LinearRegression()\n        if model == 'XGBoost':\n            return XGBRegressor()\n        if model == 'RandomForest':\n            return RandomForestRegressor()\n    \n    for mod in ['SVR','Linear_Regression','XGBoost','RandomForest']:\n        if mod != 'RandomForest':\n            continue\n        train_model = get_model(mod)\n        train_model.fit(X_train,y_train)\n        joblib.dump(train_model, 'model_results/{}_{}_{}.pkl'.format(location,data_version,mod))\n\n        print('training model {}'.format(mod))\n        print(\"training location {}\".format(location))\n        if data_version != '':\n            print(\"dataset version {}\".format(data_version))\n        else:\n            print(\"dataset all in\")\n        print(calculate_rrmse(train_model, X_train.tocsr(), y_train, y_train))\n        print(calculate_rrmse(train_model, X_val.tocsr(), y_val, y_train))\n        print(calculate_rrmse(train_model, X_test.tocsr(), y_test, y_train))\n        \ndef get_feature_impt(model,feat_dict):\n    \n    importance = model.feature_importances_\n    #get array of index of element with highest feature importance to lowest\n    idx = (-importance).argsort()\n    sorted_values = list(map(model.feature_importances_.__getitem__, idx))\n    ls = []\n    for element in idx:\n        ls.append([feat_dict[element],importance[element]])\n    return ls\n    \ndef get_coef_impt(model,feat_dict):\n    \n    importance = model.coef_\n    #get array of index of element with highest feature importance to lowest\n    idx = (-importance).argsort()\n    sorted_values = list(map(model.coef_.__getitem__, idx))\n    ls = []\n    for element in idx:\n        ls.append([feat_dict[element],importance[element]])\n    return ls\n\n        ",
   "execution_count": null,
   "outputs": []
  },
  {
   "cell_type": "markdown",
   "source": "### Version 1: All in",
   "metadata": {
    "cell_id": "0737a63c216843778585b67257b109e0",
    "tags": [],
    "is_collapsed": false,
    "deepnote_cell_type": "text-cell-h3"
   }
  },
  {
   "cell_type": "code",
   "metadata": {
    "cell_id": "8fb2a5c12e264d798377893c8a6e6871",
    "tags": [],
    "deepnote_to_be_reexecuted": false,
    "source_hash": "d450e7b4",
    "execution_start": 1648213728780,
    "execution_millis": 238258,
    "deepnote_cell_type": "code",
    "deepnote_cell_height": 572
   },
   "source": "train_model('SG','')",
   "execution_count": null,
   "outputs": [
    {
     "name": "stdout",
     "text": "training model SVR\ntraining location SG\ndataset all in\n42.69876455233248\n52.834251553219346\n58.25940223406434\ntraining model Linear_Regression\ntraining location SG\ndataset all in\n1.1536587972911667\n140.73588736873003\n124.56726525746191\ntraining model XGBoost\ntraining location SG\ndataset all in\n7.930099790663078\n54.03484930159609\n55.77631643540513\ntraining model RandomForest\ntraining location SG\ndataset all in\n21.984807612421996\n53.05741847998628\n58.38612143086532\n",
     "output_type": "stream"
    }
   ]
  },
  {
   "cell_type": "code",
   "metadata": {
    "cell_id": "7ce14472daa44e39b4b1e9abc8ce0d74",
    "tags": [],
    "deepnote_to_be_reexecuted": false,
    "source_hash": "6bdf5037",
    "execution_start": 1648978680091,
    "execution_millis": 204,
    "deepnote_cell_type": "code",
    "deepnote_cell_height": 432.796875
   },
   "source": "with open('pkls/SG_feat_dict.pkl', 'rb') as f:\n    feat_dict = pickle.load(f)\n\n\nprint(\"SVR top 10 features\")\nmodel = joblib.load('model_results/SG__SVR.pkl')\nprint(get_coef_impt(model,feat_dict)[:10])\nprint(\"XGBoost top 10 features\")\nmodel = joblib.load('model_results/SG__XGBoost.pkl')\nprint(get_feature_impt(model,feat_dict)[:10])\nprint(\"RandomForest top 10 features\")\nmodel = joblib.load('model_results/SG__RandomForest.pkl')\nprint(get_feature_impt(model,feat_dict)[:10])",
   "execution_count": null,
   "outputs": [
    {
     "name": "stdout",
     "text": "SVR top 10 features\n[['Categorical property_type entire villa', 1.946479745140088], ['Word bathtub', 1.3257295491073855], ['Word threebedroom', 1.2709613953755985], ['Categorical neighbourhood_cleansed southern island', 1.2700201489225331], ['Word universal', 1.213768451044867], ['Word holiday', 1.0981101564649631], ['Word rice', 1.0745539762402585], ['Word wisma', 1.0263933600324604], ['Categorical neighbourhood_cleansed marina south', 1.0], ['Word sqm', 0.9901574507109934]]\nXGBoost top 10 features\n[['Numerical bedrooms', 0.10920517], ['Categorical amenities_str gym', 0.04094915], ['Categorical amenities_str shower gel', 0.037675034], ['Word shared', 0.028727882], ['Word temperature', 0.023702735], ['Word mattress', 0.022554306], ['Numerical minimum_nights', 0.020395033], ['Categorical amenities_str conditioner', 0.016125493], ['Categorical amenities_str high chair', 0.01588239], ['Categorical amenities_str pool', 0.0150096845]]\nRandomForest top 10 features\n[['Numerical bedrooms', 0.22487369689749456], ['Numerical minimum_nights', 0.07994884411160932], ['Numerical latitude', 0.04657911140459772], ['Numerical accommodates', 0.034010528348816925], ['Categorical amenities_str shower gel', 0.019753762692805137], ['Word suite', 0.018354510864876585], ['Numerical host_months', 0.01587757661997925], ['Numerical host_response_rate', 0.012079265165274253], ['Categorical amenities_str high chair', 0.01105473911889989], ['Categorical amenities_str gym', 0.010815829448068314]]\n",
     "output_type": "stream"
    }
   ]
  },
  {
   "cell_type": "code",
   "metadata": {
    "cell_id": "a966c1a9043547ca84644aab3ea3ee32",
    "tags": [],
    "deepnote_to_be_reexecuted": false,
    "source_hash": "9492355b",
    "execution_start": 1648213971996,
    "execution_millis": 11014970,
    "deepnote_cell_type": "code",
    "deepnote_cell_height": 642.796875
   },
   "source": "train_model('NY','')",
   "execution_count": null,
   "outputs": [
    {
     "name": "stderr",
     "text": "/shared-libs/python3.9/py/lib/python3.9/site-packages/sklearn/svm/_base.py:1206: ConvergenceWarning: Liblinear failed to converge, increase the number of iterations.\n  warnings.warn(\ntraining model SVR\ntraining location NY\ndataset all in\n61.85768001519122\n65.93770235493153\n66.4723869981451\ntraining model Linear_Regression\ntraining location NY\ndataset all in\n52.50263484948599\n70.361566644142\n71.6748231969928\ntraining model XGBoost\ntraining location NY\ndataset all in\n34.69684430400049\n59.9712056339329\n61.64000617018348\n",
     "output_type": "stream"
    },
    {
     "name": "stdout",
     "text": "training model RandomForest\ntraining location NY\ndataset all in\n24.006821043434616\n60.900017307575105\n63.20602957719934\n",
     "output_type": "stream"
    }
   ]
  },
  {
   "cell_type": "code",
   "metadata": {
    "cell_id": "58538c7b2298497980dfa5e9627f7a56",
    "tags": [],
    "deepnote_to_be_reexecuted": false,
    "source_hash": "dcaac2a8",
    "execution_start": 1648978725300,
    "execution_millis": 1368,
    "deepnote_cell_type": "code",
    "deepnote_cell_height": 414.796875
   },
   "source": "with open('pkls/NY_feat_dict.pkl', 'rb') as f:\n    feat_dict = pickle.load(f)\n\nprint(\"SVR top 10 features\")\nmodel = joblib.load('model_results/NY__SVR.pkl')\nprint(get_coef_impt(model,feat_dict)[:10])\nprint(\"XGBoost top 10 features\")\nmodel = joblib.load('model_results/NY__XGBoost.pkl')\nprint(get_feature_impt(model,feat_dict)[:10])\nprint(\"RandomForest top 10 features\")\nmodel = joblib.load('model_results/NY__RandomForest.pkl')\nprint(get_feature_impt(model,feat_dict)[:10])",
   "execution_count": null,
   "outputs": [
    {
     "name": "stdout",
     "text": "SVR top 10 features\n[['Categorical amenities_str 48 hdtv with hbo max', 2.0], ['Word blueground', 1.8986937997247548], ['Categorical amenities_str sauna', 1.5529511422270246], ['Categorical bathrooms_text 3.5', 1.5380230848709413], ['Categorical amenities_str paid valet parking on premise u2013 1 space', 1.4593436568273437], ['Categorical property_type entire villa', 1.4466212067988897], ['Categorical property_type private room in resort', 1.4453824158477557], ['Categorical amenities_str miele stainless steel stove', 1.2980077428360492], ['Word sale', 1.2253652068935263], ['Categorical amenities_str luxury body soap', 1.2127110667309107]]\nXGBoost top 10 features\n[['Categorical room_type private room', 0.07873815], ['Categorical bathrooms_text 1.5', 0.04275509], ['Categorical bathrooms_text 2.0', 0.028340925], ['Word complimentary', 0.01638157], ['Word madison', 0.01490174], ['Categorical bathrooms_text 2.5', 0.013573806], ['Categorical neighbourhood_group_cleansed manhattan', 0.012538397], ['Numerical accommodates', 0.009410551], ['Categorical bathrooms_text 3.0', 0.008829368], ['Categorical amenities_str dishwasher', 0.008617144]]\nRandomForest top 10 features\n[['Categorical room_type private room', 0.2079622214981588], ['Categorical bathrooms_text 1.5', 0.05878120699168072], ['Categorical bathrooms_text 2.0', 0.054331852509116485], ['Numerical longitude', 0.04753071215796375], ['Numerical accommodates', 0.044452058436063785], ['Numerical latitude', 0.0181832859900167], ['Numerical bedrooms', 0.012035472819236998], ['Categorical neighbourhood_group_cleansed manhattan', 0.011429002534069596], ['Categorical room_type shared room', 0.00949257845303502], ['Numerical host_listings_count', 0.00935679841454109]]\n",
     "output_type": "stream"
    }
   ]
  },
  {
   "cell_type": "markdown",
   "source": "## Hyper parameter tuning",
   "metadata": {
    "cell_id": "52797e6b25ba4a7fa0364e44f0a81024",
    "tags": [],
    "is_collapsed": false,
    "deepnote_cell_type": "text-cell-h2"
   }
  },
  {
   "cell_type": "code",
   "metadata": {
    "cell_id": "ecae07a7c08e4eae980056c58f6e9000",
    "tags": [],
    "deepnote_to_be_reexecuted": false,
    "source_hash": "f88ab26b",
    "execution_start": 1649189787699,
    "execution_millis": 117,
    "deepnote_cell_type": "code",
    "deepnote_cell_height": 405
   },
   "source": "location = 'NY'\ndata_version = ''\nwith open('pkls/{}_{}x_train.pkl'.format(location,data_version), 'rb') as f:\n    X_train = pickle.load(f)\n\nwith open('pkls/{}_{}y_train.pkl'.format(location,data_version), 'rb') as f:\n    y_train = pickle.load(f)\n\nwith open('pkls/{}_{}x_val.pkl'.format(location,data_version), 'rb') as f:\n    X_val = pickle.load(f)\n\nwith open('pkls/{}_{}y_val.pkl'.format(location,data_version), 'rb') as f:\n    y_val = pickle.load(f)\n\nwith open('pkls/{}_{}x_test.pkl'.format(location,data_version), 'rb') as f:\n    X_test = pickle.load(f)\n\nwith open('pkls/{}_{}y_test.pkl'.format(location,data_version), 'rb') as f:\n    y_test = pickle.load(f)",
   "execution_count": null,
   "outputs": []
  },
  {
   "cell_type": "code",
   "metadata": {
    "cell_id": "ae56f33287294d7ab79d88e90f6a8dbb",
    "tags": [],
    "deepnote_to_be_reexecuted": false,
    "source_hash": "adc35488",
    "execution_start": 1649190361606,
    "execution_millis": 1372444,
    "deepnote_cell_type": "code",
    "deepnote_cell_height": 845
   },
   "source": "svr = LinearSVR()\nparams = {'C': [1, 10, 100], 'epsilon': [1,0.1,0.01,0]}\nclf = GridSearchCV(svr,\n                  params,\n                  scoring='neg_mean_squared_error',\n                  verbose=1)\nclf.fit(X_train, y_train)\nprint(\"Best parameters:\", clf.best_params_)\nprint(\"Lowest RMSE: \", (-clf.best_score_)**(1/2))",
   "execution_count": null,
   "outputs": [
    {
     "name": "stdout",
     "text": "Fitting 5 folds for each of 12 candidates, totalling 60 fits\n/shared-libs/python3.9/py/lib/python3.9/site-packages/sklearn/svm/_base.py:1206: ConvergenceWarning: Liblinear failed to converge, increase the number of iterations.\n  warnings.warn(\n/shared-libs/python3.9/py/lib/python3.9/site-packages/sklearn/svm/_base.py:1206: ConvergenceWarning: Liblinear failed to converge, increase the number of iterations.\n  warnings.warn(\n/shared-libs/python3.9/py/lib/python3.9/site-packages/sklearn/svm/_base.py:1206: ConvergenceWarning: Liblinear failed to converge, increase the number of iterations.\n  warnings.warn(\n/shared-libs/python3.9/py/lib/python3.9/site-packages/sklearn/svm/_base.py:1206: ConvergenceWarning: Liblinear failed to converge, increase the number of iterations.\n  warnings.warn(\n/shared-libs/python3.9/py/lib/python3.9/site-packages/sklearn/svm/_base.py:1206: ConvergenceWarning: Liblinear failed to converge, increase the number of iterations.\n  warnings.warn(\n/shared-libs/python3.9/py/lib/python3.9/site-packages/sklearn/svm/_base.py:1206: ConvergenceWarning: Liblinear failed to converge, increase the number of iterations.\n  warnings.warn(\n/shared-libs/python3.9/py/lib/python3.9/site-packages/sklearn/svm/_base.py:1206: ConvergenceWarning: Liblinear failed to converge, increase the number of iterations.\n  warnings.warn(\n/shared-libs/python3.9/py/lib/python3.9/site-packages/sklearn/svm/_base.py:1206: ConvergenceWarning: Liblinear failed to converge, increase the number of iterations.\n  warnings.warn(\n/shared-libs/python3.9/py/lib/python3.9/site-packages/sklearn/svm/_base.py:1206: ConvergenceWarning: Liblinear failed to converge, increase the number of iterations.\n  warnings.warn(\n/shared-libs/python3.9/py/lib/python3.9/site-packages/sklearn/svm/_base.py:1206: ConvergenceWarning: Liblinear failed to converge, increase the number of iterations.\n  warnings.warn(\n/shared-libs/python3.9/py/lib/python3.9/site-packages/sklearn/svm/_base.py:1206: ConvergenceWarning: Liblinear failed to converge, increase the number of iterations.\n  warnings.warn(\n/shared-libs/python3.9/py/lib/python3.9/site-packages/sklearn/svm/_base.py:1206: ConvergenceWarning: Liblinear failed to converge, increase the number of iterations.\n  warnings.warn(\n/shared-libs/python3.9/py/lib/python3.9/site-packages/sklearn/svm/_base.py:1206: ConvergenceWarning: Liblinear failed to converge, increase the number of iterations.\n  warnings.warn(\n/shared-libs/python3.9/py/lib/python3.9/site-packages/sklearn/svm/_base.py:1206: ConvergenceWarning: Liblinear failed to converge, increase the number of iterations.\n  warnings.warn(\n/shared-libs/python3.9/py/lib/python3.9/site-packages/sklearn/svm/_base.py:1206: ConvergenceWarning: Liblinear failed to converge, increase the number of iterations.\n  warnings.warn(\n/shared-libs/python3.9/py/lib/python3.9/site-packages/sklearn/svm/_base.py:1206: ConvergenceWarning: Liblinear failed to converge, increase the number of iterations.\n  warnings.warn(\n/shared-libs/python3.9/py/lib/python3.9/site-packages/sklearn/svm/_base.py:1206: ConvergenceWarning: Liblinear failed to converge, increase the number of iterations.\n  warnings.warn(\n/shared-libs/python3.9/py/lib/python3.9/site-packages/sklearn/svm/_base.py:1206: ConvergenceWarning: Liblinear failed to converge, increase the number of iterations.\n  warnings.warn(\n/shared-libs/python3.9/py/lib/python3.9/site-packages/sklearn/svm/_base.py:1206: ConvergenceWarning: Liblinear failed to converge, increase the number of iterations.\n  warnings.warn(\n/shared-libs/python3.9/py/lib/python3.9/site-packages/sklearn/svm/_base.py:1206: ConvergenceWarning: Liblinear failed to converge, increase the number of iterations.\n  warnings.warn(\n/shared-libs/python3.9/py/lib/python3.9/site-packages/sklearn/svm/_base.py:1206: ConvergenceWarning: Liblinear failed to converge, increase the number of iterations.\n  warnings.warn(\n/shared-libs/python3.9/py/lib/python3.9/site-packages/sklearn/svm/_base.py:1206: ConvergenceWarning: Liblinear failed to converge, increase the number of iterations.\n  warnings.warn(\n/shared-libs/python3.9/py/lib/python3.9/site-packages/sklearn/svm/_base.py:1206: ConvergenceWarning: Liblinear failed to converge, increase the number of iterations.\n  warnings.warn(\n/shared-libs/python3.9/py/lib/python3.9/site-packages/sklearn/svm/_base.py:1206: ConvergenceWarning: Liblinear failed to converge, increase the number of iterations.\n  warnings.warn(\n/shared-libs/python3.9/py/lib/python3.9/site-packages/sklearn/svm/_base.py:1206: ConvergenceWarning: Liblinear failed to converge, increase the number of iterations.\n  warnings.warn(\n/shared-libs/python3.9/py/lib/python3.9/site-packages/sklearn/svm/_base.py:1206: ConvergenceWarning: Liblinear failed to converge, increase the number of iterations.\n  warnings.warn(\n/shared-libs/python3.9/py/lib/python3.9/site-packages/sklearn/svm/_base.py:1206: ConvergenceWarning: Liblinear failed to converge, increase the number of iterations.\n  warnings.warn(\n/shared-libs/python3.9/py/lib/python3.9/site-packages/sklearn/svm/_base.py:1206: ConvergenceWarning: Liblinear failed to converge, increase the number of iterations.\n  warnings.warn(\n/shared-libs/python3.9/py/lib/python3.9/site-packages/sklearn/svm/_base.py:1206: ConvergenceWarning: Liblinear failed to converge, increase the number of iterations.\n  warnings.warn(\n/shared-libs/python3.9/py/lib/python3.9/site-packages/sklearn/svm/_base.py:1206: ConvergenceWarning: Liblinear failed to converge, increase the number of iterations.\n  warnings.warn(\n/shared-libs/python3.9/py/lib/python3.9/site-packages/sklearn/svm/_base.py:1206: ConvergenceWarning: Liblinear failed to converge, increase the number of iterations.\n  warnings.warn(\n/shared-libs/python3.9/py/lib/python3.9/site-packages/sklearn/svm/_base.py:1206: ConvergenceWarning: Liblinear failed to converge, increase the number of iterations.\n  warnings.warn(\n/shared-libs/python3.9/py/lib/python3.9/site-packages/sklearn/svm/_base.py:1206: ConvergenceWarning: Liblinear failed to converge, increase the number of iterations.\n  warnings.warn(\n/shared-libs/python3.9/py/lib/python3.9/site-packages/sklearn/svm/_base.py:1206: ConvergenceWarning: Liblinear failed to converge, increase the number of iterations.\n  warnings.warn(\n/shared-libs/python3.9/py/lib/python3.9/site-packages/sklearn/svm/_base.py:1206: ConvergenceWarning: Liblinear failed to converge, increase the number of iterations.\n  warnings.warn(\n/shared-libs/python3.9/py/lib/python3.9/site-packages/sklearn/svm/_base.py:1206: ConvergenceWarning: Liblinear failed to converge, increase the number of iterations.\n  warnings.warn(\n/shared-libs/python3.9/py/lib/python3.9/site-packages/sklearn/svm/_base.py:1206: ConvergenceWarning: Liblinear failed to converge, increase the number of iterations.\n  warnings.warn(\n/shared-libs/python3.9/py/lib/python3.9/site-packages/sklearn/svm/_base.py:1206: ConvergenceWarning: Liblinear failed to converge, increase the number of iterations.\n  warnings.warn(\n/shared-libs/python3.9/py/lib/python3.9/site-packages/sklearn/svm/_base.py:1206: ConvergenceWarning: Liblinear failed to converge, increase the number of iterations.\n  warnings.warn(\n/shared-libs/python3.9/py/lib/python3.9/site-packages/sklearn/svm/_base.py:1206: ConvergenceWarning: Liblinear failed to converge, increase the number of iterations.\n  warnings.warn(\n/shared-libs/python3.9/py/lib/python3.9/site-packages/sklearn/svm/_base.py:1206: ConvergenceWarning: Liblinear failed to converge, increase the number of iterations.\n  warnings.warn(\n/shared-libs/python3.9/py/lib/python3.9/site-packages/sklearn/svm/_base.py:1206: ConvergenceWarning: Liblinear failed to converge, increase the number of iterations.\n  warnings.warn(\n/shared-libs/python3.9/py/lib/python3.9/site-packages/sklearn/svm/_base.py:1206: ConvergenceWarning: Liblinear failed to converge, increase the number of iterations.\n  warnings.warn(\n/shared-libs/python3.9/py/lib/python3.9/site-packages/sklearn/svm/_base.py:1206: ConvergenceWarning: Liblinear failed to converge, increase the number of iterations.\n  warnings.warn(\n/shared-libs/python3.9/py/lib/python3.9/site-packages/sklearn/svm/_base.py:1206: ConvergenceWarning: Liblinear failed to converge, increase the number of iterations.\n  warnings.warn(\n/shared-libs/python3.9/py/lib/python3.9/site-packages/sklearn/svm/_base.py:1206: ConvergenceWarning: Liblinear failed to converge, increase the number of iterations.\n  warnings.warn(\n/shared-libs/python3.9/py/lib/python3.9/site-packages/sklearn/svm/_base.py:1206: ConvergenceWarning: Liblinear failed to converge, increase the number of iterations.\n  warnings.warn(\n/shared-libs/python3.9/py/lib/python3.9/site-packages/sklearn/svm/_base.py:1206: ConvergenceWarning: Liblinear failed to converge, increase the number of iterations.\n  warnings.warn(\n/shared-libs/python3.9/py/lib/python3.9/site-packages/sklearn/svm/_base.py:1206: ConvergenceWarning: Liblinear failed to converge, increase the number of iterations.\n  warnings.warn(\n/shared-libs/python3.9/py/lib/python3.9/site-packages/sklearn/svm/_base.py:1206: ConvergenceWarning: Liblinear failed to converge, increase the number of iterations.\n  warnings.warn(\n/shared-libs/python3.9/py/lib/python3.9/site-packages/sklearn/svm/_base.py:1206: ConvergenceWarning: Liblinear failed to converge, increase the number of iterations.\n  warnings.warn(\n/shared-libs/python3.9/py/lib/python3.9/site-packages/sklearn/svm/_base.py:1206: ConvergenceWarning: Liblinear failed to converge, increase the number of iterations.\n  warnings.warn(\n/shared-libs/python3.9/py/lib/python3.9/site-packages/sklearn/svm/_base.py:1206: ConvergenceWarning: Liblinear failed to converge, increase the number of iterations.\n  warnings.warn(\n/shared-libs/python3.9/py/lib/python3.9/site-packages/sklearn/svm/_base.py:1206: ConvergenceWarning: Liblinear failed to converge, increase the number of iterations.\n  warnings.warn(\n/shared-libs/python3.9/py/lib/python3.9/site-packages/sklearn/svm/_base.py:1206: ConvergenceWarning: Liblinear failed to converge, increase the number of iterations.\n  warnings.warn(\n/shared-libs/python3.9/py/lib/python3.9/site-packages/sklearn/svm/_base.py:1206: ConvergenceWarning: Liblinear failed to converge, increase the number of iterations.\n  warnings.warn(\n/shared-libs/python3.9/py/lib/python3.9/site-packages/sklearn/svm/_base.py:1206: ConvergenceWarning: Liblinear failed to converge, increase the number of iterations.\n  warnings.warn(\n/shared-libs/python3.9/py/lib/python3.9/site-packages/sklearn/svm/_base.py:1206: ConvergenceWarning: Liblinear failed to converge, increase the number of iterations.\n  warnings.warn(\n/shared-libs/python3.9/py/lib/python3.9/site-packages/sklearn/svm/_base.py:1206: ConvergenceWarning: Liblinear failed to converge, increase the number of iterations.\n  warnings.warn(\n/shared-libs/python3.9/py/lib/python3.9/site-packages/sklearn/svm/_base.py:1206: ConvergenceWarning: Liblinear failed to converge, increase the number of iterations.\n  warnings.warn(\nBest parameters: {'C': 1, 'epsilon': 1}\nLowest RMSE:  0.7444353860313172\n/shared-libs/python3.9/py/lib/python3.9/site-packages/sklearn/svm/_base.py:1206: ConvergenceWarning: Liblinear failed to converge, increase the number of iterations.\n  warnings.warn(\n",
     "output_type": "stream"
    }
   ]
  },
  {
   "cell_type": "code",
   "metadata": {
    "cell_id": "9859b28ce5374de78832c7d3afc81719",
    "tags": [],
    "deepnote_to_be_reexecuted": false,
    "source_hash": "29fe7358",
    "execution_start": 1649191733613,
    "execution_millis": 669,
    "deepnote_cell_type": "code",
    "deepnote_cell_height": 152
   },
   "source": "get_results(clf.best_estimator_)",
   "execution_count": null,
   "outputs": [
    {
     "name": "stdout",
     "text": "63.65518440079796\n69.62225276046067\n70.41916833808116\n",
     "output_type": "stream"
    }
   ]
  },
  {
   "cell_type": "code",
   "metadata": {
    "cell_id": "a53215f0485f43708eda8d615f362b8b",
    "tags": [],
    "deepnote_cell_type": "code",
    "deepnote_cell_height": 102
   },
   "source": "svregressor = LinearSVR()\nsvregressor.fit(X_train, y_train)\nget_results(svregressor)",
   "execution_count": null,
   "outputs": []
  },
  {
   "cell_type": "code",
   "metadata": {
    "cell_id": "0e8109cb7e964b6882444bcaad6e7abe",
    "tags": [],
    "deepnote_to_be_reexecuted": false,
    "source_hash": "5eeb56e0",
    "execution_start": 1648979319411,
    "execution_millis": 3847314,
    "owner_user_id": "5845a558-7921-4d19-a388-d69dc34c42ba",
    "deepnote_cell_type": "code",
    "deepnote_cell_height": 1079
   },
   "source": "\n'''\nparams = { 'max_depth': [3, 5, 6, 10, 15, 20],\n           'learning_rate': [0.01, 0.1, 0.2, 0.3],\n           'subsample': np.arange(0.5, 1.0, 0.1),\n           'colsample_bytree': np.arange(0.4, 1.0, 0.1),\n           'colsample_bylevel': np.arange(0.4, 1.0, 0.1),\n           'n_estimators': [100,250,500]}\nxgbr = XGBRegressor()\nclf = RandomizedSearchCV(estimator=xgbr,\n                         param_distributions=params,\n                         scoring='neg_mean_squared_error',\n                         n_iter=10,\n                         verbose=1)\nclf.fit(X_train, y_train)\n'''\n\nxgboost_tuned = XGBRegressor(subsample= 0.5, n_estimators= 1000, max_depth= 20, learning_rate= 0.01, colsample_bytree= 0.4, colsample_bylevel= 0.8999999999999999)\neval_set = [(X_val, y_val)]\nxgboost_tuned.fit(X_train, y_train, early_stopping_rounds=10, eval_metric=\"rmse\", eval_set=eval_set, verbose=True)\n\nget_results(xgboost_tuned)",
   "execution_count": null,
   "outputs": [
    {
     "name": "stdout",
     "text": "[0]\tvalidation_0-rmse:1.10642\n[1]\tvalidation_0-rmse:1.10020\n[2]\tvalidation_0-rmse:1.09401\n[3]\tvalidation_0-rmse:1.08801\n[4]\tvalidation_0-rmse:1.08193\n[5]\tvalidation_0-rmse:1.07516\n[6]\tvalidation_0-rmse:1.06918\n[7]\tvalidation_0-rmse:1.06291\n[8]\tvalidation_0-rmse:1.05681\n[9]\tvalidation_0-rmse:1.05191\n[10]\tvalidation_0-rmse:1.04591\n[11]\tvalidation_0-rmse:1.04080\n[12]\tvalidation_0-rmse:1.03524\n[13]\tvalidation_0-rmse:1.02968\n[14]\tvalidation_0-rmse:1.02400\n[15]\tvalidation_0-rmse:1.01825\n[16]\tvalidation_0-rmse:1.01259\n[17]\tvalidation_0-rmse:1.00704\n[18]\tvalidation_0-rmse:1.00144\n[19]\tvalidation_0-rmse:0.99643\n[20]\tvalidation_0-rmse:0.99102\n[21]\tvalidation_0-rmse:0.98631\n[22]\tvalidation_0-rmse:0.98181\n[23]\tvalidation_0-rmse:0.97699\n[24]\tvalidation_0-rmse:0.97194\n[25]\tvalidation_0-rmse:0.96685\n[26]\tvalidation_0-rmse:0.96182\n[27]\tvalidation_0-rmse:0.95722\n[28]\tvalidation_0-rmse:0.95229\n[29]\tvalidation_0-rmse:0.94724\n[30]\tvalidation_0-rmse:0.94301\n[31]\tvalidation_0-rmse:0.93815\n[32]\tvalidation_0-rmse:0.93318\n[33]\tvalidation_0-rmse:0.92867\n[34]\tvalidation_0-rmse:0.92422\n[35]\tvalidation_0-rmse:0.91939\n[36]\tvalidation_0-rmse:0.91510\n[37]\tvalidation_0-rmse:0.91023\n[38]\tvalidation_0-rmse:0.90580\n[39]\tvalidation_0-rmse:0.90165\n[40]\tvalidation_0-rmse:0.89740\n[41]\tvalidation_0-rmse:0.89341\n[42]\tvalidation_0-rmse:0.88923\n[43]\tvalidation_0-rmse:0.88563\n[44]\tvalidation_0-rmse:0.88158\n[45]\tvalidation_0-rmse:0.87748\n[46]\tvalidation_0-rmse:0.87376\n[47]\tvalidation_0-rmse:0.86986\n[48]\tvalidation_0-rmse:0.86604\n[49]\tvalidation_0-rmse:0.86265\n[50]\tvalidation_0-rmse:0.85880\n[51]\tvalidation_0-rmse:0.85506\n[52]\tvalidation_0-rmse:0.85167\n[53]\tvalidation_0-rmse:0.84845\n[54]\tvalidation_0-rmse:0.84494\n[55]\tvalidation_0-rmse:0.84132\n[56]\tvalidation_0-rmse:0.83867\n[57]\tvalidation_0-rmse:0.83545\n[58]\tvalidation_0-rmse:0.83204\n[59]\tvalidation_0-rmse:0.82863\n[60]\tvalidation_0-rmse:0.82532\n[61]\tvalidation_0-rmse:0.82218\n[62]\tvalidation_0-rmse:0.81909\n[63]\tvalidation_0-rmse:0.81608\n[64]\tvalidation_0-rmse:0.81322\n[65]\tvalidation_0-rmse:0.81063\n[66]\tvalidation_0-rmse:0.80756\n[67]\tvalidation_0-rmse:0.80453\n[68]\tvalidation_0-rmse:0.80173\n[69]\tvalidation_0-rmse:0.79881\n[70]\tvalidation_0-rmse:0.79618\n[71]\tvalidation_0-rmse:0.79384\n[72]\tvalidation_0-rmse:0.79102\n[73]\tvalidation_0-rmse:0.78843\n[74]\tvalidation_0-rmse:0.78571\n[75]\tvalidation_0-rmse:0.78304\n[76]\tvalidation_0-rmse:0.78048\n[77]\tvalidation_0-rmse:0.77794\n[78]\tvalidation_0-rmse:0.77527\n[79]\tvalidation_0-rmse:0.77305\n[80]\tvalidation_0-rmse:0.77049\n[81]\tvalidation_0-rmse:0.76816\n[82]\tvalidation_0-rmse:0.76563\n[83]\tvalidation_0-rmse:0.76287\n[84]\tvalidation_0-rmse:0.76061\n[85]\tvalidation_0-rmse:0.75819\n[86]\tvalidation_0-rmse:0.75572\n[87]\tvalidation_0-rmse:0.75352\n[88]\tvalidation_0-rmse:0.75141\n[89]\tvalidation_0-rmse:0.74916\n[90]\tvalidation_0-rmse:0.74673\n[91]\tvalidation_0-rmse:0.74466\n[92]\tvalidation_0-rmse:0.74281\n[93]\tvalidation_0-rmse:0.74094\n[94]\tvalidation_0-rmse:0.73891\n[95]\tvalidation_0-rmse:0.73723\n[96]\tvalidation_0-rmse:0.73521\n[97]\tvalidation_0-rmse:0.73328\n[98]\tvalidation_0-rmse:0.73182\n[99]\tvalidation_0-rmse:0.72996\n[100]\tvalidation_0-rmse:0.72807\n[101]\tvalidation_0-rmse:0.72593\n[102]\tvalidation_0-rmse:0.72418\n[103]\tvalidation_0-rmse:0.72241\n[104]\tvalidation_0-rmse:0.72082\n[105]\tvalidation_0-rmse:0.71896\n[106]\tvalidation_0-rmse:0.71727\n[107]\tvalidation_0-rmse:0.71554\n[108]\tvalidation_0-rmse:0.71399\n[109]\tvalidation_0-rmse:0.71257\n[110]\tvalidation_0-rmse:0.71106\n[111]\tvalidation_0-rmse:0.70941\n[112]\tvalidation_0-rmse:0.70751\n[113]\tvalidation_0-rmse:0.70628\n[114]\tvalidation_0-rmse:0.70471\n[115]\tvalidation_0-rmse:0.70308\n[116]\tvalidation_0-rmse:0.70141\n[117]\tvalidation_0-rmse:0.70010\n[118]\tvalidation_0-rmse:0.69864\n[119]\tvalidation_0-rmse:0.69724\n[120]\tvalidation_0-rmse:0.69579\n[121]\tvalidation_0-rmse:0.69411\n[122]\tvalidation_0-rmse:0.69272\n[123]\tvalidation_0-rmse:0.69131\n[124]\tvalidation_0-rmse:0.69028\n[125]\tvalidation_0-rmse:0.68895\n[126]\tvalidation_0-rmse:0.68774\n[127]\tvalidation_0-rmse:0.68669\n[128]\tvalidation_0-rmse:0.68547\n[129]\tvalidation_0-rmse:0.68426\n[130]\tvalidation_0-rmse:0.68300\n[131]\tvalidation_0-rmse:0.68179\n[132]\tvalidation_0-rmse:0.68040\n[133]\tvalidation_0-rmse:0.67930\n[134]\tvalidation_0-rmse:0.67828\n[135]\tvalidation_0-rmse:0.67696\n[136]\tvalidation_0-rmse:0.67582\n[137]\tvalidation_0-rmse:0.67483\n[138]\tvalidation_0-rmse:0.67353\n[139]\tvalidation_0-rmse:0.67237\n[140]\tvalidation_0-rmse:0.67133\n[141]\tvalidation_0-rmse:0.67022\n[142]\tvalidation_0-rmse:0.66939\n[143]\tvalidation_0-rmse:0.66815\n[144]\tvalidation_0-rmse:0.66700\n[145]\tvalidation_0-rmse:0.66602\n[146]\tvalidation_0-rmse:0.66507\n[147]\tvalidation_0-rmse:0.66425\n[148]\tvalidation_0-rmse:0.66319\n[149]\tvalidation_0-rmse:0.66223\n[150]\tvalidation_0-rmse:0.66124\n[151]\tvalidation_0-rmse:0.66025\n[152]\tvalidation_0-rmse:0.65928\n[153]\tvalidation_0-rmse:0.65835\n[154]\tvalidation_0-rmse:0.65750\n[155]\tvalidation_0-rmse:0.65675\n[156]\tvalidation_0-rmse:0.65591\n[157]\tvalidation_0-rmse:0.65495\n[158]\tvalidation_0-rmse:0.65421\n[159]\tvalidation_0-rmse:0.65339\n[160]\tvalidation_0-rmse:0.65254\n[161]\tvalidation_0-rmse:0.65169\n[162]\tvalidation_0-rmse:0.65092\n[163]\tvalidation_0-rmse:0.65004\n[164]\tvalidation_0-rmse:0.64925\n[165]\tvalidation_0-rmse:0.64851\n[166]\tvalidation_0-rmse:0.64765\n[167]\tvalidation_0-rmse:0.64689\n[168]\tvalidation_0-rmse:0.64601\n[169]\tvalidation_0-rmse:0.64530\n[170]\tvalidation_0-rmse:0.64459\n[171]\tvalidation_0-rmse:0.64400\n[172]\tvalidation_0-rmse:0.64334\n[173]\tvalidation_0-rmse:0.64270\n[174]\tvalidation_0-rmse:0.64201\n[175]\tvalidation_0-rmse:0.64142\n[176]\tvalidation_0-rmse:0.64060\n[177]\tvalidation_0-rmse:0.63997\n[178]\tvalidation_0-rmse:0.63934\n[179]\tvalidation_0-rmse:0.63863\n[180]\tvalidation_0-rmse:0.63802\n[181]\tvalidation_0-rmse:0.63740\n[182]\tvalidation_0-rmse:0.63667\n[183]\tvalidation_0-rmse:0.63625\n[184]\tvalidation_0-rmse:0.63553\n[185]\tvalidation_0-rmse:0.63489\n[186]\tvalidation_0-rmse:0.63446\n[187]\tvalidation_0-rmse:0.63376\n[188]\tvalidation_0-rmse:0.63323\n[189]\tvalidation_0-rmse:0.63258\n[190]\tvalidation_0-rmse:0.63197\n[191]\tvalidation_0-rmse:0.63147\n[192]\tvalidation_0-rmse:0.63097\n[193]\tvalidation_0-rmse:0.63047\n[194]\tvalidation_0-rmse:0.62991\n[195]\tvalidation_0-rmse:0.62921\n[196]\tvalidation_0-rmse:0.62868\n[197]\tvalidation_0-rmse:0.62823\n[198]\tvalidation_0-rmse:0.62775\n[199]\tvalidation_0-rmse:0.62724\n[200]\tvalidation_0-rmse:0.62657\n[201]\tvalidation_0-rmse:0.62624\n[202]\tvalidation_0-rmse:0.62576\n[203]\tvalidation_0-rmse:0.62524\n[204]\tvalidation_0-rmse:0.62478\n[205]\tvalidation_0-rmse:0.62416\n[206]\tvalidation_0-rmse:0.62374\n[207]\tvalidation_0-rmse:0.62314\n[208]\tvalidation_0-rmse:0.62254\n[209]\tvalidation_0-rmse:0.62213\n[210]\tvalidation_0-rmse:0.62151\n[211]\tvalidation_0-rmse:0.62102\n[212]\tvalidation_0-rmse:0.62065\n[213]\tvalidation_0-rmse:0.62030\n[214]\tvalidation_0-rmse:0.61989\n[215]\tvalidation_0-rmse:0.61947\n[216]\tvalidation_0-rmse:0.61920\n[217]\tvalidation_0-rmse:0.61889\n[218]\tvalidation_0-rmse:0.61854\n[219]\tvalidation_0-rmse:0.61808\n[220]\tvalidation_0-rmse:0.61781\n[221]\tvalidation_0-rmse:0.61735\n[222]\tvalidation_0-rmse:0.61690\n[223]\tvalidation_0-rmse:0.61652\n[224]\tvalidation_0-rmse:0.61627\n[225]\tvalidation_0-rmse:0.61593\n[226]\tvalidation_0-rmse:0.61555\n[227]\tvalidation_0-rmse:0.61520\n[228]\tvalidation_0-rmse:0.61498\n[229]\tvalidation_0-rmse:0.61466\n[230]\tvalidation_0-rmse:0.61424\n[231]\tvalidation_0-rmse:0.61400\n[232]\tvalidation_0-rmse:0.61364\n[233]\tvalidation_0-rmse:0.61337\n[234]\tvalidation_0-rmse:0.61305\n[235]\tvalidation_0-rmse:0.61275\n[236]\tvalidation_0-rmse:0.61246\n[237]\tvalidation_0-rmse:0.61210\n[238]\tvalidation_0-rmse:0.61167\n[239]\tvalidation_0-rmse:0.61141\n[240]\tvalidation_0-rmse:0.61109\n[241]\tvalidation_0-rmse:0.61071\n[242]\tvalidation_0-rmse:0.61041\n[243]\tvalidation_0-rmse:0.61010\n[244]\tvalidation_0-rmse:0.60980\n[245]\tvalidation_0-rmse:0.60951\n[246]\tvalidation_0-rmse:0.60926\n[247]\tvalidation_0-rmse:0.60885\n[248]\tvalidation_0-rmse:0.60859\n[249]\tvalidation_0-rmse:0.60818\n[250]\tvalidation_0-rmse:0.60800\n[251]\tvalidation_0-rmse:0.60778\n[252]\tvalidation_0-rmse:0.60753\n[253]\tvalidation_0-rmse:0.60728\n[254]\tvalidation_0-rmse:0.60702\n[255]\tvalidation_0-rmse:0.60677\n[256]\tvalidation_0-rmse:0.60642\n[257]\tvalidation_0-rmse:0.60614\n[258]\tvalidation_0-rmse:0.60591\n[259]\tvalidation_0-rmse:0.60556\n[260]\tvalidation_0-rmse:0.60523\n[261]\tvalidation_0-rmse:0.60494\n[262]\tvalidation_0-rmse:0.60471\n[263]\tvalidation_0-rmse:0.60444\n[264]\tvalidation_0-rmse:0.60413\n[265]\tvalidation_0-rmse:0.60390\n[266]\tvalidation_0-rmse:0.60371\n[267]\tvalidation_0-rmse:0.60345\n[268]\tvalidation_0-rmse:0.60316\n[269]\tvalidation_0-rmse:0.60294\n[270]\tvalidation_0-rmse:0.60272\n[271]\tvalidation_0-rmse:0.60242\n[272]\tvalidation_0-rmse:0.60213\n[273]\tvalidation_0-rmse:0.60199\n[274]\tvalidation_0-rmse:0.60180\n[275]\tvalidation_0-rmse:0.60160\n[276]\tvalidation_0-rmse:0.60145\n[277]\tvalidation_0-rmse:0.60121\n[278]\tvalidation_0-rmse:0.60090\n[279]\tvalidation_0-rmse:0.60073\n[280]\tvalidation_0-rmse:0.60046\n[281]\tvalidation_0-rmse:0.60027\n[282]\tvalidation_0-rmse:0.60005\n[283]\tvalidation_0-rmse:0.59989\n[284]\tvalidation_0-rmse:0.59968\n[285]\tvalidation_0-rmse:0.59941\n[286]\tvalidation_0-rmse:0.59921\n[287]\tvalidation_0-rmse:0.59905\n[288]\tvalidation_0-rmse:0.59884\n[289]\tvalidation_0-rmse:0.59866\n[290]\tvalidation_0-rmse:0.59845\n[291]\tvalidation_0-rmse:0.59814\n[292]\tvalidation_0-rmse:0.59799\n[293]\tvalidation_0-rmse:0.59787\n[294]\tvalidation_0-rmse:0.59765\n[295]\tvalidation_0-rmse:0.59750\n[296]\tvalidation_0-rmse:0.59730\n[297]\tvalidation_0-rmse:0.59713\n[298]\tvalidation_0-rmse:0.59695\n[299]\tvalidation_0-rmse:0.59672\n[300]\tvalidation_0-rmse:0.59655\n[301]\tvalidation_0-rmse:0.59637\n[302]\tvalidation_0-rmse:0.59625\n[303]\tvalidation_0-rmse:0.59608\n[304]\tvalidation_0-rmse:0.59587\n[305]\tvalidation_0-rmse:0.59566\n[306]\tvalidation_0-rmse:0.59552\n[307]\tvalidation_0-rmse:0.59532\n[308]\tvalidation_0-rmse:0.59520\n[309]\tvalidation_0-rmse:0.59504\n[310]\tvalidation_0-rmse:0.59488\n[311]\tvalidation_0-rmse:0.59473\n[312]\tvalidation_0-rmse:0.59459\n[313]\tvalidation_0-rmse:0.59435\n[314]\tvalidation_0-rmse:0.59418\n[315]\tvalidation_0-rmse:0.59403\n[316]\tvalidation_0-rmse:0.59387\n[317]\tvalidation_0-rmse:0.59376\n[318]\tvalidation_0-rmse:0.59366\n[319]\tvalidation_0-rmse:0.59359\n[320]\tvalidation_0-rmse:0.59339\n[321]\tvalidation_0-rmse:0.59327\n[322]\tvalidation_0-rmse:0.59308\n[323]\tvalidation_0-rmse:0.59286\n[324]\tvalidation_0-rmse:0.59270\n[325]\tvalidation_0-rmse:0.59254\n[326]\tvalidation_0-rmse:0.59236\n[327]\tvalidation_0-rmse:0.59221\n[328]\tvalidation_0-rmse:0.59208\n[329]\tvalidation_0-rmse:0.59195\n[330]\tvalidation_0-rmse:0.59186\n[331]\tvalidation_0-rmse:0.59174\n[332]\tvalidation_0-rmse:0.59159\n[333]\tvalidation_0-rmse:0.59140\n[334]\tvalidation_0-rmse:0.59125\n[335]\tvalidation_0-rmse:0.59108\n[336]\tvalidation_0-rmse:0.59098\n[337]\tvalidation_0-rmse:0.59093\n[338]\tvalidation_0-rmse:0.59077\n[339]\tvalidation_0-rmse:0.59066\n[340]\tvalidation_0-rmse:0.59058\n[341]\tvalidation_0-rmse:0.59051\n[342]\tvalidation_0-rmse:0.59043\n[343]\tvalidation_0-rmse:0.59033\n[344]\tvalidation_0-rmse:0.59026\n[345]\tvalidation_0-rmse:0.59012\n[346]\tvalidation_0-rmse:0.59008\n[347]\tvalidation_0-rmse:0.59001\n[348]\tvalidation_0-rmse:0.58994\n[349]\tvalidation_0-rmse:0.58980\n[350]\tvalidation_0-rmse:0.58965\n[351]\tvalidation_0-rmse:0.58958\n[352]\tvalidation_0-rmse:0.58944\n[353]\tvalidation_0-rmse:0.58934\n[354]\tvalidation_0-rmse:0.58924\n[355]\tvalidation_0-rmse:0.58915\n[356]\tvalidation_0-rmse:0.58893\n[357]\tvalidation_0-rmse:0.58885\n[358]\tvalidation_0-rmse:0.58870\n[359]\tvalidation_0-rmse:0.58847\n[360]\tvalidation_0-rmse:0.58838\n[361]\tvalidation_0-rmse:0.58832\n[362]\tvalidation_0-rmse:0.58821\n[363]\tvalidation_0-rmse:0.58816\n[364]\tvalidation_0-rmse:0.58800\n[365]\tvalidation_0-rmse:0.58786\n[366]\tvalidation_0-rmse:0.58778\n[367]\tvalidation_0-rmse:0.58767\n[368]\tvalidation_0-rmse:0.58756\n[369]\tvalidation_0-rmse:0.58745\n[370]\tvalidation_0-rmse:0.58740\n[371]\tvalidation_0-rmse:0.58732\n[372]\tvalidation_0-rmse:0.58723\n[373]\tvalidation_0-rmse:0.58712\n[374]\tvalidation_0-rmse:0.58700\n[375]\tvalidation_0-rmse:0.58685\n[376]\tvalidation_0-rmse:0.58675\n[377]\tvalidation_0-rmse:0.58666\n[378]\tvalidation_0-rmse:0.58652\n[379]\tvalidation_0-rmse:0.58637\n[380]\tvalidation_0-rmse:0.58629\n[381]\tvalidation_0-rmse:0.58623\n[382]\tvalidation_0-rmse:0.58607\n[383]\tvalidation_0-rmse:0.58603\n[384]\tvalidation_0-rmse:0.58591\n[385]\tvalidation_0-rmse:0.58579\n[386]\tvalidation_0-rmse:0.58571\n[387]\tvalidation_0-rmse:0.58556\n[388]\tvalidation_0-rmse:0.58545\n[389]\tvalidation_0-rmse:0.58541\n[390]\tvalidation_0-rmse:0.58528\n[391]\tvalidation_0-rmse:0.58516\n[392]\tvalidation_0-rmse:0.58508\n[393]\tvalidation_0-rmse:0.58500\n[394]\tvalidation_0-rmse:0.58484\n[395]\tvalidation_0-rmse:0.58474\n[396]\tvalidation_0-rmse:0.58469\n[397]\tvalidation_0-rmse:0.58463\n[398]\tvalidation_0-rmse:0.58458\n[399]\tvalidation_0-rmse:0.58446\n[400]\tvalidation_0-rmse:0.58440\n[401]\tvalidation_0-rmse:0.58438\n[402]\tvalidation_0-rmse:0.58433\n[403]\tvalidation_0-rmse:0.58427\n[404]\tvalidation_0-rmse:0.58424\n[405]\tvalidation_0-rmse:0.58418\n[406]\tvalidation_0-rmse:0.58410\n[407]\tvalidation_0-rmse:0.58405\n[408]\tvalidation_0-rmse:0.58396\n[409]\tvalidation_0-rmse:0.58393\n[410]\tvalidation_0-rmse:0.58381\n[411]\tvalidation_0-rmse:0.58363\n[412]\tvalidation_0-rmse:0.58354\n[413]\tvalidation_0-rmse:0.58348\n[414]\tvalidation_0-rmse:0.58341\n[415]\tvalidation_0-rmse:0.58333\n[416]\tvalidation_0-rmse:0.58327\n[417]\tvalidation_0-rmse:0.58319\n[418]\tvalidation_0-rmse:0.58314\n[419]\tvalidation_0-rmse:0.58309\n[420]\tvalidation_0-rmse:0.58302\n[421]\tvalidation_0-rmse:0.58293\n[422]\tvalidation_0-rmse:0.58281\n[423]\tvalidation_0-rmse:0.58271\n[424]\tvalidation_0-rmse:0.58265\n[425]\tvalidation_0-rmse:0.58255\n[426]\tvalidation_0-rmse:0.58252\n[427]\tvalidation_0-rmse:0.58248\n[428]\tvalidation_0-rmse:0.58242\n[429]\tvalidation_0-rmse:0.58236\n[430]\tvalidation_0-rmse:0.58231\n[431]\tvalidation_0-rmse:0.58216\n[432]\tvalidation_0-rmse:0.58213\n[433]\tvalidation_0-rmse:0.58207\n[434]\tvalidation_0-rmse:0.58201\n[435]\tvalidation_0-rmse:0.58192\n[436]\tvalidation_0-rmse:0.58185\n[437]\tvalidation_0-rmse:0.58176\n[438]\tvalidation_0-rmse:0.58168\n[439]\tvalidation_0-rmse:0.58163\n[440]\tvalidation_0-rmse:0.58162\n[441]\tvalidation_0-rmse:0.58155\n[442]\tvalidation_0-rmse:0.58149\n[443]\tvalidation_0-rmse:0.58141\n[444]\tvalidation_0-rmse:0.58134\n[445]\tvalidation_0-rmse:0.58127\n[446]\tvalidation_0-rmse:0.58121\n[447]\tvalidation_0-rmse:0.58109\n[448]\tvalidation_0-rmse:0.58108\n[449]\tvalidation_0-rmse:0.58104\n[450]\tvalidation_0-rmse:0.58096\n[451]\tvalidation_0-rmse:0.58093\n[452]\tvalidation_0-rmse:0.58089\n[453]\tvalidation_0-rmse:0.58078\n[454]\tvalidation_0-rmse:0.58072\n[455]\tvalidation_0-rmse:0.58067\n[456]\tvalidation_0-rmse:0.58063\n[457]\tvalidation_0-rmse:0.58062\n[458]\tvalidation_0-rmse:0.58058\n[459]\tvalidation_0-rmse:0.58057\n[460]\tvalidation_0-rmse:0.58051\n[461]\tvalidation_0-rmse:0.58044\n[462]\tvalidation_0-rmse:0.58037\n[463]\tvalidation_0-rmse:0.58032\n[464]\tvalidation_0-rmse:0.58026\n[465]\tvalidation_0-rmse:0.58020\n[466]\tvalidation_0-rmse:0.58014\n[467]\tvalidation_0-rmse:0.58007\n[468]\tvalidation_0-rmse:0.57999\n[469]\tvalidation_0-rmse:0.57993\n[470]\tvalidation_0-rmse:0.57989\n[471]\tvalidation_0-rmse:0.57985\n[472]\tvalidation_0-rmse:0.57978\n[473]\tvalidation_0-rmse:0.57969\n[474]\tvalidation_0-rmse:0.57961\n[475]\tvalidation_0-rmse:0.57959\n[476]\tvalidation_0-rmse:0.57946\n[477]\tvalidation_0-rmse:0.57942\n[478]\tvalidation_0-rmse:0.57933\n[479]\tvalidation_0-rmse:0.57928\n[480]\tvalidation_0-rmse:0.57920\n[481]\tvalidation_0-rmse:0.57910\n[482]\tvalidation_0-rmse:0.57906\n[483]\tvalidation_0-rmse:0.57903\n[484]\tvalidation_0-rmse:0.57897\n[485]\tvalidation_0-rmse:0.57892\n[486]\tvalidation_0-rmse:0.57886\n[487]\tvalidation_0-rmse:0.57885\n[488]\tvalidation_0-rmse:0.57875\n[489]\tvalidation_0-rmse:0.57868\n[490]\tvalidation_0-rmse:0.57863\n[491]\tvalidation_0-rmse:0.57855\n[492]\tvalidation_0-rmse:0.57849\n[493]\tvalidation_0-rmse:0.57846\n[494]\tvalidation_0-rmse:0.57839\n[495]\tvalidation_0-rmse:0.57833\n[496]\tvalidation_0-rmse:0.57822\n[497]\tvalidation_0-rmse:0.57820\n[498]\tvalidation_0-rmse:0.57816\n[499]\tvalidation_0-rmse:0.57816\n[500]\tvalidation_0-rmse:0.57817\n[501]\tvalidation_0-rmse:0.57813\n[502]\tvalidation_0-rmse:0.57809\n[503]\tvalidation_0-rmse:0.57800\n[504]\tvalidation_0-rmse:0.57795\n[505]\tvalidation_0-rmse:0.57790\n[506]\tvalidation_0-rmse:0.57784\n[507]\tvalidation_0-rmse:0.57777\n[508]\tvalidation_0-rmse:0.57772\n[509]\tvalidation_0-rmse:0.57766\n[510]\tvalidation_0-rmse:0.57765\n[511]\tvalidation_0-rmse:0.57756\n[512]\tvalidation_0-rmse:0.57751\n[513]\tvalidation_0-rmse:0.57746\n[514]\tvalidation_0-rmse:0.57745\n[515]\tvalidation_0-rmse:0.57742\n[516]\tvalidation_0-rmse:0.57741\n[517]\tvalidation_0-rmse:0.57738\n[518]\tvalidation_0-rmse:0.57735\n[519]\tvalidation_0-rmse:0.57733\n[520]\tvalidation_0-rmse:0.57724\n[521]\tvalidation_0-rmse:0.57714\n[522]\tvalidation_0-rmse:0.57706\n[523]\tvalidation_0-rmse:0.57705\n[524]\tvalidation_0-rmse:0.57702\n[525]\tvalidation_0-rmse:0.57696\n[526]\tvalidation_0-rmse:0.57693\n[527]\tvalidation_0-rmse:0.57686\n[528]\tvalidation_0-rmse:0.57680\n[529]\tvalidation_0-rmse:0.57679\n[530]\tvalidation_0-rmse:0.57675\n[531]\tvalidation_0-rmse:0.57670\n[532]\tvalidation_0-rmse:0.57669\n[533]\tvalidation_0-rmse:0.57667\n[534]\tvalidation_0-rmse:0.57660\n[535]\tvalidation_0-rmse:0.57656\n[536]\tvalidation_0-rmse:0.57654\n[537]\tvalidation_0-rmse:0.57650\n[538]\tvalidation_0-rmse:0.57642\n[539]\tvalidation_0-rmse:0.57637\n[540]\tvalidation_0-rmse:0.57632\n[541]\tvalidation_0-rmse:0.57629\n[542]\tvalidation_0-rmse:0.57625\n[543]\tvalidation_0-rmse:0.57624\n[544]\tvalidation_0-rmse:0.57619\n[545]\tvalidation_0-rmse:0.57620\n[546]\tvalidation_0-rmse:0.57616\n[547]\tvalidation_0-rmse:0.57615\n[548]\tvalidation_0-rmse:0.57607\n[549]\tvalidation_0-rmse:0.57603\n[550]\tvalidation_0-rmse:0.57598\n[551]\tvalidation_0-rmse:0.57598\n[552]\tvalidation_0-rmse:0.57594\n[553]\tvalidation_0-rmse:0.57586\n[554]\tvalidation_0-rmse:0.57582\n[555]\tvalidation_0-rmse:0.57577\n[556]\tvalidation_0-rmse:0.57574\n[557]\tvalidation_0-rmse:0.57572\n[558]\tvalidation_0-rmse:0.57571\n[559]\tvalidation_0-rmse:0.57568\n[560]\tvalidation_0-rmse:0.57562\n[561]\tvalidation_0-rmse:0.57561\n[562]\tvalidation_0-rmse:0.57559\n[563]\tvalidation_0-rmse:0.57556\n[564]\tvalidation_0-rmse:0.57551\n[565]\tvalidation_0-rmse:0.57547\n[566]\tvalidation_0-rmse:0.57542\n[567]\tvalidation_0-rmse:0.57541\n[568]\tvalidation_0-rmse:0.57542\n[569]\tvalidation_0-rmse:0.57538\n[570]\tvalidation_0-rmse:0.57534\n[571]\tvalidation_0-rmse:0.57531\n[572]\tvalidation_0-rmse:0.57530\n[573]\tvalidation_0-rmse:0.57526\n[574]\tvalidation_0-rmse:0.57523\n[575]\tvalidation_0-rmse:0.57519\n[576]\tvalidation_0-rmse:0.57515\n[577]\tvalidation_0-rmse:0.57514\n[578]\tvalidation_0-rmse:0.57513\n[579]\tvalidation_0-rmse:0.57506\n[580]\tvalidation_0-rmse:0.57504\n[581]\tvalidation_0-rmse:0.57501\n[582]\tvalidation_0-rmse:0.57497\n[583]\tvalidation_0-rmse:0.57492\n[584]\tvalidation_0-rmse:0.57486\n[585]\tvalidation_0-rmse:0.57481\n[586]\tvalidation_0-rmse:0.57474\n[587]\tvalidation_0-rmse:0.57474\n[588]\tvalidation_0-rmse:0.57469\n[589]\tvalidation_0-rmse:0.57465\n[590]\tvalidation_0-rmse:0.57460\n[591]\tvalidation_0-rmse:0.57461\n[592]\tvalidation_0-rmse:0.57458\n[593]\tvalidation_0-rmse:0.57457\n[594]\tvalidation_0-rmse:0.57453\n[595]\tvalidation_0-rmse:0.57449\n[596]\tvalidation_0-rmse:0.57447\n[597]\tvalidation_0-rmse:0.57446\n[598]\tvalidation_0-rmse:0.57442\n[599]\tvalidation_0-rmse:0.57437\n[600]\tvalidation_0-rmse:0.57436\n[601]\tvalidation_0-rmse:0.57434\n[602]\tvalidation_0-rmse:0.57432\n[603]\tvalidation_0-rmse:0.57428\n[604]\tvalidation_0-rmse:0.57426\n[605]\tvalidation_0-rmse:0.57424\n[606]\tvalidation_0-rmse:0.57422\n[607]\tvalidation_0-rmse:0.57418\n[608]\tvalidation_0-rmse:0.57414\n[609]\tvalidation_0-rmse:0.57414\n[610]\tvalidation_0-rmse:0.57411\n[611]\tvalidation_0-rmse:0.57410\n[612]\tvalidation_0-rmse:0.57408\n[613]\tvalidation_0-rmse:0.57405\n[614]\tvalidation_0-rmse:0.57402\n[615]\tvalidation_0-rmse:0.57399\n[616]\tvalidation_0-rmse:0.57396\n[617]\tvalidation_0-rmse:0.57391\n[618]\tvalidation_0-rmse:0.57389\n[619]\tvalidation_0-rmse:0.57387\n[620]\tvalidation_0-rmse:0.57381\n[621]\tvalidation_0-rmse:0.57376\n[622]\tvalidation_0-rmse:0.57375\n[623]\tvalidation_0-rmse:0.57371\n[624]\tvalidation_0-rmse:0.57370\n[625]\tvalidation_0-rmse:0.57365\n[626]\tvalidation_0-rmse:0.57364\n[627]\tvalidation_0-rmse:0.57361\n[628]\tvalidation_0-rmse:0.57359\n[629]\tvalidation_0-rmse:0.57354\n[630]\tvalidation_0-rmse:0.57350\n[631]\tvalidation_0-rmse:0.57345\n[632]\tvalidation_0-rmse:0.57346\n[633]\tvalidation_0-rmse:0.57344\n[634]\tvalidation_0-rmse:0.57343\n[635]\tvalidation_0-rmse:0.57341\n[636]\tvalidation_0-rmse:0.57343\n[637]\tvalidation_0-rmse:0.57337\n[638]\tvalidation_0-rmse:0.57337\n[639]\tvalidation_0-rmse:0.57334\n[640]\tvalidation_0-rmse:0.57333\n[641]\tvalidation_0-rmse:0.57335\n[642]\tvalidation_0-rmse:0.57332\n[643]\tvalidation_0-rmse:0.57331\n[644]\tvalidation_0-rmse:0.57332\n[645]\tvalidation_0-rmse:0.57332\n[646]\tvalidation_0-rmse:0.57331\n[647]\tvalidation_0-rmse:0.57328\n[648]\tvalidation_0-rmse:0.57327\n[649]\tvalidation_0-rmse:0.57325\n[650]\tvalidation_0-rmse:0.57325\n[651]\tvalidation_0-rmse:0.57324\n[652]\tvalidation_0-rmse:0.57325\n[653]\tvalidation_0-rmse:0.57322\n[654]\tvalidation_0-rmse:0.57321\n[655]\tvalidation_0-rmse:0.57318\n[656]\tvalidation_0-rmse:0.57316\n[657]\tvalidation_0-rmse:0.57318\n[658]\tvalidation_0-rmse:0.57317\n[659]\tvalidation_0-rmse:0.57316\n[660]\tvalidation_0-rmse:0.57314\n[661]\tvalidation_0-rmse:0.57313\n[662]\tvalidation_0-rmse:0.57311\n[663]\tvalidation_0-rmse:0.57309\n[664]\tvalidation_0-rmse:0.57309\n[665]\tvalidation_0-rmse:0.57307\n[666]\tvalidation_0-rmse:0.57307\n[667]\tvalidation_0-rmse:0.57306\n[668]\tvalidation_0-rmse:0.57305\n[669]\tvalidation_0-rmse:0.57303\n[670]\tvalidation_0-rmse:0.57300\n[671]\tvalidation_0-rmse:0.57300\n[672]\tvalidation_0-rmse:0.57290\n[673]\tvalidation_0-rmse:0.57288\n[674]\tvalidation_0-rmse:0.57285\n[675]\tvalidation_0-rmse:0.57282\n[676]\tvalidation_0-rmse:0.57278\n[677]\tvalidation_0-rmse:0.57277\n[678]\tvalidation_0-rmse:0.57276\n[679]\tvalidation_0-rmse:0.57274\n[680]\tvalidation_0-rmse:0.57272\n[681]\tvalidation_0-rmse:0.57271\n[682]\tvalidation_0-rmse:0.57270\n[683]\tvalidation_0-rmse:0.57266\n[684]\tvalidation_0-rmse:0.57265\n[685]\tvalidation_0-rmse:0.57262\n[686]\tvalidation_0-rmse:0.57261\n[687]\tvalidation_0-rmse:0.57258\n[688]\tvalidation_0-rmse:0.57255\n[689]\tvalidation_0-rmse:0.57251\n[690]\tvalidation_0-rmse:0.57252\n[691]\tvalidation_0-rmse:0.57252\n[692]\tvalidation_0-rmse:0.57247\n[693]\tvalidation_0-rmse:0.57246\n[694]\tvalidation_0-rmse:0.57240\n[695]\tvalidation_0-rmse:0.57239\n[696]\tvalidation_0-rmse:0.57238\n[697]\tvalidation_0-rmse:0.57238\n[698]\tvalidation_0-rmse:0.57235\n[699]\tvalidation_0-rmse:0.57232\n[700]\tvalidation_0-rmse:0.57232\n[701]\tvalidation_0-rmse:0.57231\n[702]\tvalidation_0-rmse:0.57227\n[703]\tvalidation_0-rmse:0.57227\n[704]\tvalidation_0-rmse:0.57228\n[705]\tvalidation_0-rmse:0.57225\n[706]\tvalidation_0-rmse:0.57220\n[707]\tvalidation_0-rmse:0.57220\n[708]\tvalidation_0-rmse:0.57219\n[709]\tvalidation_0-rmse:0.57219\n[710]\tvalidation_0-rmse:0.57217\n[711]\tvalidation_0-rmse:0.57213\n[712]\tvalidation_0-rmse:0.57211\n[713]\tvalidation_0-rmse:0.57210\n[714]\tvalidation_0-rmse:0.57210\n[715]\tvalidation_0-rmse:0.57207\n[716]\tvalidation_0-rmse:0.57208\n[717]\tvalidation_0-rmse:0.57205\n[718]\tvalidation_0-rmse:0.57203\n[719]\tvalidation_0-rmse:0.57204\n[720]\tvalidation_0-rmse:0.57202\n[721]\tvalidation_0-rmse:0.57201\n[722]\tvalidation_0-rmse:0.57199\n[723]\tvalidation_0-rmse:0.57196\n[724]\tvalidation_0-rmse:0.57193\n[725]\tvalidation_0-rmse:0.57193\n[726]\tvalidation_0-rmse:0.57188\n[727]\tvalidation_0-rmse:0.57187\n[728]\tvalidation_0-rmse:0.57183\n[729]\tvalidation_0-rmse:0.57180\n[730]\tvalidation_0-rmse:0.57180\n[731]\tvalidation_0-rmse:0.57180\n[732]\tvalidation_0-rmse:0.57179\n[733]\tvalidation_0-rmse:0.57177\n[734]\tvalidation_0-rmse:0.57174\n[735]\tvalidation_0-rmse:0.57173\n[736]\tvalidation_0-rmse:0.57170\n[737]\tvalidation_0-rmse:0.57171\n[738]\tvalidation_0-rmse:0.57168\n[739]\tvalidation_0-rmse:0.57166\n[740]\tvalidation_0-rmse:0.57165\n[741]\tvalidation_0-rmse:0.57164\n[742]\tvalidation_0-rmse:0.57164\n[743]\tvalidation_0-rmse:0.57161\n[744]\tvalidation_0-rmse:0.57162\n[745]\tvalidation_0-rmse:0.57160\n[746]\tvalidation_0-rmse:0.57161\n[747]\tvalidation_0-rmse:0.57160\n[748]\tvalidation_0-rmse:0.57158\n[749]\tvalidation_0-rmse:0.57158\n[750]\tvalidation_0-rmse:0.57155\n[751]\tvalidation_0-rmse:0.57153\n[752]\tvalidation_0-rmse:0.57151\n[753]\tvalidation_0-rmse:0.57151\n[754]\tvalidation_0-rmse:0.57149\n[755]\tvalidation_0-rmse:0.57148\n[756]\tvalidation_0-rmse:0.57148\n[757]\tvalidation_0-rmse:0.57146\n[758]\tvalidation_0-rmse:0.57146\n[759]\tvalidation_0-rmse:0.57145\n[760]\tvalidation_0-rmse:0.57144\n[761]\tvalidation_0-rmse:0.57146\n[762]\tvalidation_0-rmse:0.57144\n[763]\tvalidation_0-rmse:0.57144\n[764]\tvalidation_0-rmse:0.57144\n[765]\tvalidation_0-rmse:0.57144\n[766]\tvalidation_0-rmse:0.57144\n[767]\tvalidation_0-rmse:0.57143\n[768]\tvalidation_0-rmse:0.57141\n[769]\tvalidation_0-rmse:0.57139\n[770]\tvalidation_0-rmse:0.57139\n[771]\tvalidation_0-rmse:0.57139\n[772]\tvalidation_0-rmse:0.57136\n[773]\tvalidation_0-rmse:0.57136\n[774]\tvalidation_0-rmse:0.57136\n[775]\tvalidation_0-rmse:0.57134\n[776]\tvalidation_0-rmse:0.57132\n[777]\tvalidation_0-rmse:0.57131\n[778]\tvalidation_0-rmse:0.57129\n[779]\tvalidation_0-rmse:0.57129\n[780]\tvalidation_0-rmse:0.57127\n[781]\tvalidation_0-rmse:0.57126\n[782]\tvalidation_0-rmse:0.57127\n[783]\tvalidation_0-rmse:0.57127\n[784]\tvalidation_0-rmse:0.57127\n[785]\tvalidation_0-rmse:0.57126\n[786]\tvalidation_0-rmse:0.57126\n[787]\tvalidation_0-rmse:0.57126\n[788]\tvalidation_0-rmse:0.57126\n[789]\tvalidation_0-rmse:0.57126\n[790]\tvalidation_0-rmse:0.57125\n[791]\tvalidation_0-rmse:0.57123\n[792]\tvalidation_0-rmse:0.57126\n[793]\tvalidation_0-rmse:0.57126\n[794]\tvalidation_0-rmse:0.57123\n[795]\tvalidation_0-rmse:0.57122\n[796]\tvalidation_0-rmse:0.57119\n[797]\tvalidation_0-rmse:0.57117\n[798]\tvalidation_0-rmse:0.57116\n[799]\tvalidation_0-rmse:0.57115\n[800]\tvalidation_0-rmse:0.57115\n[801]\tvalidation_0-rmse:0.57113\n[802]\tvalidation_0-rmse:0.57111\n[803]\tvalidation_0-rmse:0.57113\n[804]\tvalidation_0-rmse:0.57109\n[805]\tvalidation_0-rmse:0.57109\n[806]\tvalidation_0-rmse:0.57108\n[807]\tvalidation_0-rmse:0.57108\n[808]\tvalidation_0-rmse:0.57108\n[809]\tvalidation_0-rmse:0.57107\n[810]\tvalidation_0-rmse:0.57104\n[811]\tvalidation_0-rmse:0.57104\n[812]\tvalidation_0-rmse:0.57103\n[813]\tvalidation_0-rmse:0.57102\n[814]\tvalidation_0-rmse:0.57100\n[815]\tvalidation_0-rmse:0.57096\n[816]\tvalidation_0-rmse:0.57095\n[817]\tvalidation_0-rmse:0.57092\n[818]\tvalidation_0-rmse:0.57092\n[819]\tvalidation_0-rmse:0.57091\n[820]\tvalidation_0-rmse:0.57090\n[821]\tvalidation_0-rmse:0.57091\n[822]\tvalidation_0-rmse:0.57090\n[823]\tvalidation_0-rmse:0.57089\n[824]\tvalidation_0-rmse:0.57090\n[825]\tvalidation_0-rmse:0.57088\n[826]\tvalidation_0-rmse:0.57083\n[827]\tvalidation_0-rmse:0.57078\n[828]\tvalidation_0-rmse:0.57076\n[829]\tvalidation_0-rmse:0.57074\n[830]\tvalidation_0-rmse:0.57073\n[831]\tvalidation_0-rmse:0.57072\n[832]\tvalidation_0-rmse:0.57070\n[833]\tvalidation_0-rmse:0.57067\n[834]\tvalidation_0-rmse:0.57064\n[835]\tvalidation_0-rmse:0.57064\n[836]\tvalidation_0-rmse:0.57065\n[837]\tvalidation_0-rmse:0.57064\n[838]\tvalidation_0-rmse:0.57064\n[839]\tvalidation_0-rmse:0.57061\n[840]\tvalidation_0-rmse:0.57059\n[841]\tvalidation_0-rmse:0.57061\n[842]\tvalidation_0-rmse:0.57059\n[843]\tvalidation_0-rmse:0.57059\n[844]\tvalidation_0-rmse:0.57057\n[845]\tvalidation_0-rmse:0.57055\n[846]\tvalidation_0-rmse:0.57054\n[847]\tvalidation_0-rmse:0.57054\n[848]\tvalidation_0-rmse:0.57053\n[849]\tvalidation_0-rmse:0.57051\n[850]\tvalidation_0-rmse:0.57052\n[851]\tvalidation_0-rmse:0.57051\n[852]\tvalidation_0-rmse:0.57047\n[853]\tvalidation_0-rmse:0.57046\n[854]\tvalidation_0-rmse:0.57044\n[855]\tvalidation_0-rmse:0.57041\n[856]\tvalidation_0-rmse:0.57041\n[857]\tvalidation_0-rmse:0.57041\n[858]\tvalidation_0-rmse:0.57042\n[859]\tvalidation_0-rmse:0.57041\n[860]\tvalidation_0-rmse:0.57038\n[861]\tvalidation_0-rmse:0.57037\n[862]\tvalidation_0-rmse:0.57039\n[863]\tvalidation_0-rmse:0.57037\n[864]\tvalidation_0-rmse:0.57035\n[865]\tvalidation_0-rmse:0.57036\n[866]\tvalidation_0-rmse:0.57034\n[867]\tvalidation_0-rmse:0.57034\n[868]\tvalidation_0-rmse:0.57035\n[869]\tvalidation_0-rmse:0.57033\n[870]\tvalidation_0-rmse:0.57030\n[871]\tvalidation_0-rmse:0.57029\n[872]\tvalidation_0-rmse:0.57026\n[873]\tvalidation_0-rmse:0.57025\n[874]\tvalidation_0-rmse:0.57023\n[875]\tvalidation_0-rmse:0.57021\n[876]\tvalidation_0-rmse:0.57018\n[877]\tvalidation_0-rmse:0.57017\n[878]\tvalidation_0-rmse:0.57015\n[879]\tvalidation_0-rmse:0.57013\n[880]\tvalidation_0-rmse:0.57013\n[881]\tvalidation_0-rmse:0.57011\n[882]\tvalidation_0-rmse:0.57009\n[883]\tvalidation_0-rmse:0.57007\n[884]\tvalidation_0-rmse:0.57006\n[885]\tvalidation_0-rmse:0.57005\n[886]\tvalidation_0-rmse:0.57002\n[887]\tvalidation_0-rmse:0.56999\n[888]\tvalidation_0-rmse:0.56997\n[889]\tvalidation_0-rmse:0.56995\n[890]\tvalidation_0-rmse:0.56995\n[891]\tvalidation_0-rmse:0.56994\n[892]\tvalidation_0-rmse:0.56995\n[893]\tvalidation_0-rmse:0.56994\n[894]\tvalidation_0-rmse:0.56994\n[895]\tvalidation_0-rmse:0.56992\n[896]\tvalidation_0-rmse:0.56988\n[897]\tvalidation_0-rmse:0.56989\n[898]\tvalidation_0-rmse:0.56987\n[899]\tvalidation_0-rmse:0.56987\n[900]\tvalidation_0-rmse:0.56986\n[901]\tvalidation_0-rmse:0.56983\n[902]\tvalidation_0-rmse:0.56983\n[903]\tvalidation_0-rmse:0.56984\n[904]\tvalidation_0-rmse:0.56984\n[905]\tvalidation_0-rmse:0.56984\n[906]\tvalidation_0-rmse:0.56983\n[907]\tvalidation_0-rmse:0.56983\n[908]\tvalidation_0-rmse:0.56984\n[909]\tvalidation_0-rmse:0.56985\n[910]\tvalidation_0-rmse:0.56984\n[911]\tvalidation_0-rmse:0.56980\n[912]\tvalidation_0-rmse:0.56978\n[913]\tvalidation_0-rmse:0.56977\n[914]\tvalidation_0-rmse:0.56976\n[915]\tvalidation_0-rmse:0.56977\n[916]\tvalidation_0-rmse:0.56976\n[917]\tvalidation_0-rmse:0.56976\n[918]\tvalidation_0-rmse:0.56978\n[919]\tvalidation_0-rmse:0.56978\n[920]\tvalidation_0-rmse:0.56979\n[921]\tvalidation_0-rmse:0.56978\n[922]\tvalidation_0-rmse:0.56976\n[923]\tvalidation_0-rmse:0.56975\n[924]\tvalidation_0-rmse:0.56975\n[925]\tvalidation_0-rmse:0.56975\n[926]\tvalidation_0-rmse:0.56973\n[927]\tvalidation_0-rmse:0.56971\n[928]\tvalidation_0-rmse:0.56970\n[929]\tvalidation_0-rmse:0.56970\n[930]\tvalidation_0-rmse:0.56968\n[931]\tvalidation_0-rmse:0.56966\n[932]\tvalidation_0-rmse:0.56968\n[933]\tvalidation_0-rmse:0.56969\n[934]\tvalidation_0-rmse:0.56970\n[935]\tvalidation_0-rmse:0.56969\n[936]\tvalidation_0-rmse:0.56968\n[937]\tvalidation_0-rmse:0.56967\n[938]\tvalidation_0-rmse:0.56966\n[939]\tvalidation_0-rmse:0.56965\n[940]\tvalidation_0-rmse:0.56965\n[941]\tvalidation_0-rmse:0.56965\n[942]\tvalidation_0-rmse:0.56966\n[943]\tvalidation_0-rmse:0.56965\n[944]\tvalidation_0-rmse:0.56964\n[945]\tvalidation_0-rmse:0.56965\n[946]\tvalidation_0-rmse:0.56964\n[947]\tvalidation_0-rmse:0.56964\n[948]\tvalidation_0-rmse:0.56965\n[949]\tvalidation_0-rmse:0.56965\n[950]\tvalidation_0-rmse:0.56963\n[951]\tvalidation_0-rmse:0.56963\n[952]\tvalidation_0-rmse:0.56964\n[953]\tvalidation_0-rmse:0.56964\n[954]\tvalidation_0-rmse:0.56965\n[955]\tvalidation_0-rmse:0.56965\n[956]\tvalidation_0-rmse:0.56964\n[957]\tvalidation_0-rmse:0.56964\n[958]\tvalidation_0-rmse:0.56965\n[959]\tvalidation_0-rmse:0.56964\n[960]\tvalidation_0-rmse:0.56963\n17.166595595870053\n57.429806566861416\n59.195073622349994\n",
     "output_type": "stream"
    }
   ]
  },
  {
   "cell_type": "code",
   "metadata": {
    "cell_id": "ce941f822c444842ae888b310e967cd9",
    "tags": [],
    "deepnote_cell_type": "code",
    "deepnote_cell_height": 138
   },
   "source": "#save your model or results\njoblib.dump(clf, 'model_results/xgboost_tuned.pkl')\n\n#load your model for further usage\njoblib.load(\"model_results/xgboost_tuned.pkl\")",
   "execution_count": null,
   "outputs": []
  },
  {
   "cell_type": "code",
   "metadata": {
    "cell_id": "358760c7b86b4636a18ad0996a543141",
    "tags": [],
    "deepnote_to_be_reexecuted": false,
    "source_hash": "7578a400",
    "execution_start": 1649191734283,
    "execution_millis": 139562,
    "deepnote_cell_type": "code",
    "deepnote_cell_height": 1136.578125,
    "deepnote_output_heights": [
     null,
     40.390625
    ]
   },
   "source": "location = 'NY'\ndata_version = ''\nwith open('pkls/{}_{}x_train.pkl'.format(location,data_version), 'rb') as f:\n    X_train = pickle.load(f)\n\nwith open('pkls/{}_{}y_train.pkl'.format(location,data_version), 'rb') as f:\n    y_train = pickle.load(f)\n\nwith open('pkls/{}_{}x_val.pkl'.format(location,data_version), 'rb') as f:\n    X_val = pickle.load(f)\n\nwith open('pkls/{}_{}y_val.pkl'.format(location,data_version), 'rb') as f:\n    y_val = pickle.load(f)\n\nwith open('pkls/{}_{}x_test.pkl'.format(location,data_version), 'rb') as f:\n    X_test = pickle.load(f)\n\nwith open('pkls/{}_{}y_test.pkl'.format(location,data_version), 'rb') as f:\n    y_test = pickle.load(f)\n# Number of trees in random forest\nn_estimators = [int(x) for x in np.linspace(start = 200, stop = 2000, num = 10)]\n# Number of features to consider at every split\nmax_features = ['auto', 'sqrt']\n# Maximum number of levels in tree\nmax_depth = [int(x) for x in np.linspace(10, 110, num = 11)]\nmax_depth.append(None)\n# Minimum number of samples required to split a node\nmin_samples_split = [2, 5, 10]\n# Minimum number of samples required at each leaf node\nmin_samples_leaf = [1, 2, 4]\n# Method of selecting samples for training each tree\nbootstrap = [True, False]\n# Create the random grid\nparams = {'n_estimators': n_estimators,\n               'max_features': max_features,\n               'max_depth': max_depth,\n               'min_samples_split': min_samples_split,\n               'min_samples_leaf': min_samples_leaf,\n               'bootstrap': bootstrap}\nrf = RandomForestRegressor()\nclf = RandomizedSearchCV(estimator=rf,\n                         param_distributions=params,\n                         scoring='neg_mean_squared_error',\n                         n_iter=5,\n                         verbose=1)\nclf.fit(X_train, y_train)\nprint(\"Best parameters:\", clf.best_params_)\nprint(\"Lowest RMSE: \", (-clf.best_score_)**(1/2))",
   "execution_count": null,
   "outputs": [
    {
     "name": "stdout",
     "text": "Fitting 5 folds for each of 5 candidates, totalling 25 fits\n",
     "output_type": "stream"
    },
    {
     "output_type": "error",
     "ename": "KernelInterrupted",
     "evalue": "Execution interrupted by the Jupyter kernel.",
     "traceback": [
      "\u001b[0;31m---------------------------------------------------------------------------\u001b[0m",
      "\u001b[0;31mKernelInterrupted\u001b[0m: Execution interrupted by the Jupyter kernel."
     ]
    }
   ]
  },
  {
   "cell_type": "code",
   "metadata": {
    "cell_id": "c215fa7e2a26418198e27682cfb32dcb",
    "tags": [],
    "deepnote_to_be_reexecuted": true,
    "source_hash": "29fe7358",
    "owner_user_id": "68fe6acf-6104-4e2c-afe0-0dd65bc22222",
    "deepnote_cell_type": "code",
    "deepnote_cell_height": 81
   },
   "source": "get_results(clf.best_estimator_)",
   "execution_count": null,
   "outputs": []
  },
  {
   "cell_type": "code",
   "metadata": {
    "cell_id": "1ae06b09a163486486771b606d8dea30",
    "tags": [],
    "deepnote_cell_type": "code",
    "deepnote_cell_height": 138
   },
   "source": "rf_tuned = RandomForestRegressor()\neval_set = [(X_val, y_val)]\nrf.fit(X_train, y_train, early_stopping_rounds=10, eval_metric=\"rmse\", eval_set=eval_set, verbose=True)\n\nget_results(rf)",
   "execution_count": null,
   "outputs": []
  },
  {
   "cell_type": "code",
   "metadata": {
    "cell_id": "b1d73b826c804ec1be92e144938fa432",
    "tags": [],
    "deepnote_to_be_reexecuted": false,
    "source_hash": "3c3aff78",
    "execution_start": 1648224986969,
    "execution_millis": 11942329,
    "deepnote_cell_type": "code",
    "deepnote_cell_height": 642.796875
   },
   "source": "train_model('NY_SG','')",
   "execution_count": null,
   "outputs": [
    {
     "name": "stderr",
     "text": "/shared-libs/python3.9/py/lib/python3.9/site-packages/sklearn/svm/_base.py:1206: ConvergenceWarning: Liblinear failed to converge, increase the number of iterations.\n  warnings.warn(\ntraining model SVR\ntraining location NY_SG\ndataset all in\n60.81667843809415\n68.08456169934476\n66.90917831893171\ntraining model Linear_Regression\ntraining location NY_SG\ndataset all in\n52.19104621722007\n71.4445904817389\n71.60209955998475\ntraining model XGBoost\ntraining location NY_SG\ndataset all in\n35.50519137170655\n63.129515819727054\n63.287806683101344\n",
     "output_type": "stream"
    },
    {
     "name": "stdout",
     "text": "training model RandomForest\ntraining location NY_SG\ndataset all in\n23.11030338158052\n64.60016790265293\n63.781575881205846\n",
     "output_type": "stream"
    }
   ]
  },
  {
   "cell_type": "code",
   "metadata": {
    "cell_id": "ad41ee653c8d4269accb330979f521a2",
    "tags": [],
    "deepnote_to_be_reexecuted": false,
    "source_hash": "e3e1ca30",
    "execution_start": 1648978766475,
    "execution_millis": 1792,
    "deepnote_cell_type": "code",
    "deepnote_cell_height": 414.796875
   },
   "source": "with open('pkls/NY_SG_feat_dict.pkl', 'rb') as f:\n    feat_dict = pickle.load(f)\n\nprint(\"SVR top 10 features\")\nmodel = joblib.load('model_results/NY_SG__SVR.pkl')\nprint(get_coef_impt(model,feat_dict)[:10])\nprint(\"XGBoost top 10 features\")\nmodel = joblib.load('model_results/NY_SG__XGBoost.pkl')\nprint(get_feature_impt(model,feat_dict)[:10])\nprint(\"RandomForest top 10 features\")\nmodel = joblib.load('model_results/NY_SG__RandomForest.pkl')\nprint(get_feature_impt(model,feat_dict)[:10])",
   "execution_count": null,
   "outputs": [
    {
     "name": "stdout",
     "text": "SVR top 10 features\n[['Word blueground', 2.1987163763482687], ['Categorical amenities_str 48 hdtv with hbo max', 1.9999999999999987], ['Categorical neighbourhood_cleansed marina south', 1.8481027831916612], ['Categorical amenities_str miele stainless steel stove', 1.385922474958555], ['Word induction', 1.351699965418099], ['Word spread', 1.3034772461691728], ['Word procedure', 1.2126009649946934], ['Categorical amenities_str 60 hdtv', 1.2123466682899036], ['Word perspective', 1.2077096630566229], ['Word entertaining', 1.165944724683502]]\nXGBoost top 10 features\n[['Categorical room_type private room', 0.07031396], ['Categorical bathrooms_text 1.5', 0.03797805], ['Categorical bathrooms_text 2.0', 0.028847337], ['Numerical bedrooms', 0.017944638], ['Categorical neighbourhood_group_cleansed manhattan', 0.014313521], ['Categorical amenities_str gym', 0.010753754], ['Categorical bathrooms_text 2.5', 0.008986365], ['Categorical amenities_str dishwasher', 0.0083546275], ['Categorical amenities_str bbq grill', 0.008092867], ['Categorical neighbourhood_group_cleansed central region', 0.007963521]]\nRandomForest top 10 features\n[['Categorical room_type private room', 0.2072413929650363], ['Categorical bathrooms_text 2.0', 0.08181355905366802], ['Numerical longitude', 0.03946575063266801], ['Numerical accommodates', 0.034779904684952234], ['Numerical latitude', 0.03022824522206986], ['Categorical bathrooms_text 1.5', 0.026291213221233532], ['Numerical bedrooms', 0.022278204989989326], ['Numerical minimum_nights', 0.013893505457395046], ['Numerical host_listings_count', 0.011245010152851755], ['Word luxury', 0.00957782934414283]]\n",
     "output_type": "stream"
    }
   ]
  },
  {
   "cell_type": "markdown",
   "source": "### Version 2:No Lat Lon",
   "metadata": {
    "cell_id": "ff338a100f7b4dadb2fd61b9d735b8e9",
    "tags": [],
    "is_collapsed": false,
    "deepnote_cell_type": "text-cell-h3"
   }
  },
  {
   "cell_type": "code",
   "metadata": {
    "cell_id": "e9c051eda8ac4f109c73174ba000c0f4",
    "tags": [],
    "deepnote_to_be_reexecuted": false,
    "source_hash": "f1def036",
    "execution_start": 1648240393459,
    "execution_millis": 222676,
    "deepnote_cell_type": "code",
    "deepnote_cell_height": 616.796875
   },
   "source": "train_model('SG','no_lat_lon_')",
   "execution_count": null,
   "outputs": [
    {
     "name": "stderr",
     "text": "/shared-libs/python3.9/py/lib/python3.9/site-packages/sklearn/svm/_base.py:1206: ConvergenceWarning: Liblinear failed to converge, increase the number of iterations.\n  warnings.warn(\ntraining model SVR\ntraining location SG\ndataset version no_lat_lon_\n43.0847982567231\n53.00265179971617\n58.44134663943078\ntraining model Linear_Regression\ntraining location SG\ndataset version no_lat_lon_\n1.1639541253527321\n138.92163831337535\n124.20811317080029\ntraining model XGBoost\ntraining location SG\ndataset version no_lat_lon_\n7.9082292725189545\n59.14051255685292\n57.855613693758244\ntraining model RandomForest\ntraining location SG\ndataset version no_lat_lon_\n22.047291022043687\n53.9057690772574\n57.42011007385977\n",
     "output_type": "stream"
    }
   ]
  },
  {
   "cell_type": "code",
   "metadata": {
    "cell_id": "4784eefad7a745a2a4d43bb28127581e",
    "tags": [],
    "deepnote_to_be_reexecuted": false,
    "source_hash": "62fe2297",
    "execution_start": 1648240708475,
    "execution_millis": 9854631,
    "deepnote_cell_type": "code",
    "deepnote_cell_height": 616.796875
   },
   "source": "train_model('NY','no_lat_lon_')",
   "execution_count": null,
   "outputs": [
    {
     "name": "stderr",
     "text": "/shared-libs/python3.9/py/lib/python3.9/site-packages/sklearn/svm/_base.py:1206: ConvergenceWarning: Liblinear failed to converge, increase the number of iterations.\n  warnings.warn(\ntraining model SVR\ntraining location NY\ndataset version no_lat_lon_\n62.17113363104643\n66.11980082501023\n66.74867230038566\ntraining model Linear_Regression\ntraining location NY\ndataset version no_lat_lon_\n52.5490662760493\n70.40614606634824\n71.70870855163417\ntraining model XGBoost\ntraining location NY\ndataset version no_lat_lon_\n35.001012439452595\n62.03804559686136\n61.645015265569135\ntraining model RandomForest\ntraining location NY\ndataset version no_lat_lon_\n24.359332858575467\n62.835992950969654\n64.02984111084167\n",
     "output_type": "stream"
    }
   ]
  },
  {
   "cell_type": "code",
   "metadata": {
    "cell_id": "fb36b6ed40064c5e937bcaa9e1f4637d",
    "tags": [],
    "deepnote_to_be_reexecuted": false,
    "source_hash": "714ba2cc",
    "execution_start": 1648250563105,
    "execution_millis": 11028140,
    "deepnote_cell_type": "code",
    "deepnote_cell_height": 616.796875
   },
   "source": "train_model('NY_SG','no_lat_lon_')",
   "execution_count": null,
   "outputs": [
    {
     "name": "stderr",
     "text": "/shared-libs/python3.9/py/lib/python3.9/site-packages/sklearn/svm/_base.py:1206: ConvergenceWarning: Liblinear failed to converge, increase the number of iterations.\n  warnings.warn(\ntraining model SVR\ntraining location NY_SG\ndataset version no_lat_lon_\n61.257913495873915\n68.43850029447975\n67.3328875274818\ntraining model Linear_Regression\ntraining location NY_SG\ndataset version no_lat_lon_\n52.19188056224119\n71.46521052814506\n71.59896217256112\ntraining model XGBoost\ntraining location NY_SG\ndataset version no_lat_lon_\n35.865580910054604\n63.41456111540573\n63.357634651859584\ntraining model RandomForest\ntraining location NY_SG\ndataset version no_lat_lon_\n23.552517416081674\n64.97591309186123\n64.27510190730207\n",
     "output_type": "stream"
    }
   ]
  },
  {
   "cell_type": "markdown",
   "source": "### Version 3:No Superhost",
   "metadata": {
    "cell_id": "388ae8d8b9e94143a6463db7a7c9956b",
    "tags": [],
    "is_collapsed": false,
    "deepnote_cell_type": "text-cell-h3"
   }
  },
  {
   "cell_type": "code",
   "metadata": {
    "cell_id": "6498a82b134f41f4a81d1aed58f6f2db",
    "tags": [],
    "deepnote_to_be_reexecuted": false,
    "source_hash": "5f482208",
    "execution_start": 1648261591240,
    "execution_millis": 209663,
    "deepnote_cell_type": "code",
    "deepnote_cell_height": 616.796875
   },
   "source": "train_model('SG','no_superhost_')",
   "execution_count": null,
   "outputs": [
    {
     "name": "stderr",
     "text": "/shared-libs/python3.9/py/lib/python3.9/site-packages/sklearn/svm/_base.py:1206: ConvergenceWarning: Liblinear failed to converge, increase the number of iterations.\n  warnings.warn(\ntraining model SVR\ntraining location SG\ndataset version no_superhost_\n42.93095739008736\n52.758903995340624\n58.36604048913898\ntraining model Linear_Regression\ntraining location SG\ndataset version no_superhost_\n1.1645736334927346\n138.88856677602314\n124.05474291799523\ntraining model XGBoost\ntraining location SG\ndataset version no_superhost_\n7.9082292725189545\n59.14051255685292\n57.855613693758244\ntraining model RandomForest\ntraining location SG\ndataset version no_superhost_\n21.8446150936419\n54.78734072628492\n58.104896513355165\n",
     "output_type": "stream"
    }
   ]
  },
  {
   "cell_type": "code",
   "metadata": {
    "cell_id": "b271ab3922c9480e8773a1283a4aa160",
    "tags": [],
    "deepnote_to_be_reexecuted": false,
    "source_hash": "31a1cd03",
    "execution_start": 1648261800623,
    "execution_millis": 10096785,
    "deepnote_cell_type": "code",
    "deepnote_cell_height": 616.796875
   },
   "source": "train_model('NY','no_superhost_')",
   "execution_count": null,
   "outputs": [
    {
     "name": "stderr",
     "text": "/shared-libs/python3.9/py/lib/python3.9/site-packages/sklearn/svm/_base.py:1206: ConvergenceWarning: Liblinear failed to converge, increase the number of iterations.\n  warnings.warn(\ntraining model SVR\ntraining location NY\ndataset version no_superhost_\n61.71925639458053\n65.82348371479051\n66.37503025809669\ntraining model Linear_Regression\ntraining location NY\ndataset version no_superhost_\n52.54908603287253\n70.40858055398755\n71.71648577159111\ntraining model XGBoost\ntraining location NY\ndataset version no_superhost_\n35.001012439452595\n62.03804559686136\n61.645015265569135\ntraining model RandomForest\ntraining location NY\ndataset version no_superhost_\n24.389507662539586\n62.90617203077535\n63.99815012849519\n",
     "output_type": "stream"
    }
   ]
  },
  {
   "cell_type": "code",
   "metadata": {
    "cell_id": "640ac4aba3254fc6b6fd14ba00fe7db9",
    "tags": [],
    "deepnote_to_be_reexecuted": false,
    "source_hash": "82b3d742",
    "execution_start": 1648271897409,
    "deepnote_cell_type": "code",
    "deepnote_cell_height": 620
   },
   "source": "train_model('NY_SG','no_superhost_')",
   "execution_count": null,
   "outputs": [
    {
     "name": "stderr",
     "text": "/shared-libs/python3.9/py/lib/python3.9/site-packages/sklearn/svm/_base.py:1206: ConvergenceWarning: Liblinear failed to converge, increase the number of iterations.\n  warnings.warn(\ntraining model SVR\ntraining location NY_SG\ndataset version no_superhost_\n60.72064139026018\n67.8842639871028\n66.75043201447434\ntraining model Linear_Regression\ntraining location NY_SG\ndataset version no_superhost_\n52.19213433629538\n71.45703207028652\n71.59272939965427\ntraining model XGBoost\ntraining location NY_SG\ndataset version no_superhost_\n35.865580910054604\n63.41456111540573\n63.357634651859584\n",
     "output_type": "stream"
    },
    {
     "output_type": "error",
     "ename": "KernelInterrupted",
     "evalue": "Execution interrupted by the Jupyter kernel.",
     "traceback": [
      "\u001b[0;31m---------------------------------------------------------------------------\u001b[0m",
      "\u001b[0;31mKernelInterrupted\u001b[0m: Execution interrupted by the Jupyter kernel."
     ]
    }
   ]
  },
  {
   "cell_type": "code",
   "metadata": {
    "cell_id": "96e2ba9677b7449a926bda685e86833e",
    "tags": [],
    "deepnote_to_be_reexecuted": false,
    "source_hash": "bd018e72",
    "execution_start": 1648934048137,
    "execution_millis": 11145132,
    "deepnote_cell_type": "code",
    "deepnote_cell_height": 230
   },
   "source": "#with randomforest\ntrain_model('NY_SG','no_superhost_')",
   "execution_count": null,
   "outputs": [
    {
     "name": "stdout",
     "text": "training model RandomForest\ntraining location NY_SG\ndataset version no_superhost_\n23.54541053019607\n64.60992175336425\n64.2919548615404\n",
     "output_type": "stream"
    }
   ]
  },
  {
   "cell_type": "markdown",
   "source": "### Version 4:No words",
   "metadata": {
    "cell_id": "72afe30d78064f3b9245347732035e40",
    "tags": [],
    "is_collapsed": false,
    "deepnote_cell_type": "text-cell-h3"
   }
  },
  {
   "cell_type": "code",
   "metadata": {
    "cell_id": "89475c7cb5334086bcb4a7e64354d22c",
    "tags": [],
    "deepnote_to_be_reexecuted": false,
    "source_hash": "e1b1ec37",
    "execution_start": 1648279722759,
    "execution_millis": 24253,
    "deepnote_cell_type": "code",
    "deepnote_cell_height": 616.796875
   },
   "source": "train_model('SG','no_words_')",
   "execution_count": null,
   "outputs": [
    {
     "name": "stderr",
     "text": "/shared-libs/python3.9/py/lib/python3.9/site-packages/sklearn/svm/_base.py:1206: ConvergenceWarning: Liblinear failed to converge, increase the number of iterations.\n  warnings.warn(\ntraining model SVR\ntraining location SG\ndataset version no_words_\n62.134427730404575\n63.6603558509257\n70.4977275171625\ntraining model Linear_Regression\ntraining location SG\ndataset version no_words_\n55.67077375066558\n68.87666599781882\n70.3841491003544\ntraining model XGBoost\ntraining location SG\ndataset version no_words_\n9.483573593350668\n53.468412184486766\n56.081155588992004\ntraining model RandomForest\ntraining location SG\ndataset version no_words_\n21.674135051934694\n51.40658283095234\n60.24829803573428\n",
     "output_type": "stream"
    }
   ]
  },
  {
   "cell_type": "code",
   "metadata": {
    "cell_id": "442a0808ef4c49f3bcf3c72e084131f7",
    "tags": [],
    "deepnote_to_be_reexecuted": false,
    "source_hash": "cc940869",
    "execution_start": 1648279763435,
    "execution_millis": 984371,
    "deepnote_cell_type": "code",
    "deepnote_cell_height": 616.796875
   },
   "source": "train_model('NY','no_words_')",
   "execution_count": null,
   "outputs": [
    {
     "name": "stderr",
     "text": "/shared-libs/python3.9/py/lib/python3.9/site-packages/sklearn/svm/_base.py:1206: ConvergenceWarning: Liblinear failed to converge, increase the number of iterations.\n  warnings.warn(\ntraining model SVR\ntraining location NY\ndataset version no_words_\n67.62215202126886\n68.82143515868844\n69.29955617767305\ntraining model Linear_Regression\ntraining location NY\ndataset version no_words_\n63.573453571136504\n67.56886981327392\n67.85954589814381\ntraining model XGBoost\ntraining location NY\ndataset version no_words_\n43.22045273966367\n60.59507721062355\n60.58867581004117\ntraining model RandomForest\ntraining location NY\ndataset version no_words_\n23.86686719734384\n62.14639920597554\n63.41828203685695\n",
     "output_type": "stream"
    }
   ]
  },
  {
   "cell_type": "code",
   "metadata": {
    "cell_id": "13ef3f9ed4d74ea0821d379c2caa760e",
    "tags": [],
    "deepnote_to_be_reexecuted": false,
    "source_hash": "5dca2977",
    "execution_start": 1648280747771,
    "execution_millis": 1235044,
    "deepnote_cell_type": "code",
    "deepnote_cell_height": 616.796875
   },
   "source": "train_model('NY_SG','no_words_')",
   "execution_count": null,
   "outputs": [
    {
     "name": "stderr",
     "text": "/shared-libs/python3.9/py/lib/python3.9/site-packages/sklearn/svm/_base.py:1206: ConvergenceWarning: Liblinear failed to converge, increase the number of iterations.\n  warnings.warn(\ntraining model SVR\ntraining location NY_SG\ndataset version no_words_\n67.8625029358394\n71.01858683793377\n70.00560175600336\ntraining model Linear_Regression\ntraining location NY_SG\ndataset version no_words_\n63.53330488406742\n69.32029997399228\n68.3478430910069\ntraining model XGBoost\ntraining location NY_SG\ndataset version no_words_\n43.53274683176059\n62.853529564812696\n60.6726770225955\ntraining model RandomForest\ntraining location NY_SG\ndataset version no_words_\n23.32982094625235\n63.34540875886814\n62.17937366085229\n",
     "output_type": "stream"
    }
   ]
  },
  {
   "cell_type": "markdown",
   "source": "### Version 5:No review_scores_ratings",
   "metadata": {
    "cell_id": "24ed4563b0164090a9b9a8e082e392f2",
    "tags": [],
    "is_collapsed": false,
    "deepnote_cell_type": "text-cell-h3"
   }
  },
  {
   "cell_type": "code",
   "metadata": {
    "cell_id": "cb194c4fe39f4d888468b6e2349c73ee",
    "tags": [],
    "deepnote_to_be_reexecuted": false,
    "source_hash": "e3523bc4",
    "execution_start": 1648281982872,
    "execution_millis": 35954,
    "deepnote_cell_type": "code",
    "deepnote_cell_height": 496.796875
   },
   "source": "train_model('SG','no_review_ratings_')",
   "execution_count": null,
   "outputs": [
    {
     "name": "stderr",
     "text": "/shared-libs/python3.9/py/lib/python3.9/site-packages/sklearn/svm/_base.py:1206: ConvergenceWarning: Liblinear failed to converge, increase the number of iterations.\n  warnings.warn(\ntraining model SVR\ntraining location SG\ndataset version no_review_ratings_\n42.8157826341687\n53.124278897989655\n58.3003215190529\ntraining model Linear_Regression\ntraining location SG\ndataset version no_review_ratings_\n1.1563439970644698\n140.01566820062536\n124.44509659347096\ntraining model XGBoost\ntraining location SG\ndataset version no_review_ratings_\n7.745404239492099\n58.93251615842421\n57.22923053637348\n",
     "output_type": "stream"
    }
   ]
  },
  {
   "cell_type": "code",
   "metadata": {
    "cell_id": "31c227f4080748adab6bc90747fe7beb",
    "tags": [],
    "deepnote_to_be_reexecuted": false,
    "source_hash": "8400a6b5",
    "execution_start": 1648282018831,
    "execution_millis": 343658,
    "deepnote_cell_type": "code",
    "deepnote_cell_height": 496.796875
   },
   "source": "train_model('NY','no_review_ratings_')",
   "execution_count": null,
   "outputs": [
    {
     "name": "stderr",
     "text": "/shared-libs/python3.9/py/lib/python3.9/site-packages/sklearn/svm/_base.py:1206: ConvergenceWarning: Liblinear failed to converge, increase the number of iterations.\n  warnings.warn(\ntraining model SVR\ntraining location NY\ndataset version no_review_ratings_\n62.027075210278134\n66.08175882357939\n66.56001958048716\ntraining model Linear_Regression\ntraining location NY\ndataset version no_review_ratings_\n52.555717197587\n70.41672155953637\n71.7140428691645\ntraining model XGBoost\ntraining location NY\ndataset version no_review_ratings_\n35.169024682144965\n62.00666835134327\n61.98630464846041\n",
     "output_type": "stream"
    }
   ]
  },
  {
   "cell_type": "code",
   "metadata": {
    "cell_id": "fd1272a30958496e9fb3848053b91976",
    "tags": [],
    "deepnote_to_be_reexecuted": false,
    "source_hash": "9cf51833",
    "execution_start": 1648282960143,
    "execution_millis": 376224,
    "deepnote_cell_type": "code",
    "deepnote_cell_height": 496.796875
   },
   "source": "train_model('NY_SG','no_review_ratings_')",
   "execution_count": null,
   "outputs": [
    {
     "name": "stderr",
     "text": "/shared-libs/python3.9/py/lib/python3.9/site-packages/sklearn/svm/_base.py:1206: ConvergenceWarning: Liblinear failed to converge, increase the number of iterations.\n  warnings.warn(\ntraining model SVR\ntraining location NY_SG\ndataset version no_review_ratings_\n60.78902643938995\n67.96130867261448\n66.83291689590567\ntraining model Linear_Regression\ntraining location NY_SG\ndataset version no_review_ratings_\n52.19366013108762\n71.4742592545006\n71.60707968246871\ntraining model XGBoost\ntraining location NY_SG\ndataset version no_review_ratings_\n35.59691781214302\n63.42998021585662\n63.43590675163636\n",
     "output_type": "stream"
    }
   ]
  },
  {
   "cell_type": "code",
   "metadata": {
    "cell_id": "3a5d259f5bb04837aa2dc4616778de43",
    "tags": [],
    "deepnote_to_be_reexecuted": false,
    "source_hash": "92c330c3",
    "execution_start": 1648290221055,
    "execution_millis": 376625,
    "deepnote_cell_type": "code",
    "deepnote_cell_height": 230
   },
   "source": "train_model('SG','no_review_ratings_')\n",
   "execution_count": null,
   "outputs": [
    {
     "name": "stdout",
     "text": "training model RandomForest\ntraining location SG\ndataset version no_review_ratings_\n22.53093987586526\n54.323544008338786\n58.17196123239702\n",
     "output_type": "stream"
    }
   ]
  },
  {
   "cell_type": "code",
   "metadata": {
    "cell_id": "74c7be0823504f7d843340d2209cdd09",
    "tags": [],
    "deepnote_to_be_reexecuted": false,
    "source_hash": "9da6c275",
    "execution_start": 1648290597693,
    "execution_millis": 20832246,
    "deepnote_cell_type": "code",
    "deepnote_cell_height": 230
   },
   "source": "train_model('NY','no_review_ratings_')\n",
   "execution_count": null,
   "outputs": [
    {
     "name": "stdout",
     "text": "training model RandomForest\ntraining location NY\ndataset version no_review_ratings_\n24.352629100961877\n63.30279291497174\n63.99974164372381\n",
     "output_type": "stream"
    }
   ]
  },
  {
   "cell_type": "code",
   "metadata": {
    "cell_id": "0479cc48acfc44c4b41008953d6e693d",
    "tags": [],
    "deepnote_to_be_reexecuted": false,
    "source_hash": "5dca2977",
    "execution_start": 1648311429921,
    "execution_millis": 2484594,
    "deepnote_cell_type": "code",
    "deepnote_cell_height": 212
   },
   "source": "train_model('NY_SG','no_review_ratings')",
   "execution_count": null,
   "outputs": [
    {
     "name": "stdout",
     "text": "training model RandomForest\ntraining location NY_SG\ndataset version no_words_\n23.13547074185266\n63.166623545461356\n61.99505800135846\n",
     "output_type": "stream"
    }
   ]
  },
  {
   "cell_type": "markdown",
   "source": "<a style='text-decoration:none;line-height:16px;display:flex;color:#5B5B62;padding:10px;justify-content:end;' href='https://deepnote.com?utm_source=created-in-deepnote-cell&projectId=2a92d0af-cecf-4cde-96f5-c3db3a7f88f1' target=\"_blank\">\n<img alt='Created in deepnote.com' style='display:inline;max-height:16px;margin:0px;margin-right:7.5px;' src='data:image/svg+xml;base64,PD94bWwgdmVyc2lvbj0iMS4wIiBlbmNvZGluZz0iVVRGLTgiPz4KPHN2ZyB3aWR0aD0iODBweCIgaGVpZ2h0PSI4MHB4IiB2aWV3Qm94PSIwIDAgODAgODAiIHZlcnNpb249IjEuMSIgeG1sbnM9Imh0dHA6Ly93d3cudzMub3JnLzIwMDAvc3ZnIiB4bWxuczp4bGluaz0iaHR0cDovL3d3dy53My5vcmcvMTk5OS94bGluayI+CiAgICA8IS0tIEdlbmVyYXRvcjogU2tldGNoIDU0LjEgKDc2NDkwKSAtIGh0dHBzOi8vc2tldGNoYXBwLmNvbSAtLT4KICAgIDx0aXRsZT5Hcm91cCAzPC90aXRsZT4KICAgIDxkZXNjPkNyZWF0ZWQgd2l0aCBTa2V0Y2guPC9kZXNjPgogICAgPGcgaWQ9IkxhbmRpbmciIHN0cm9rZT0ibm9uZSIgc3Ryb2tlLXdpZHRoPSIxIiBmaWxsPSJub25lIiBmaWxsLXJ1bGU9ImV2ZW5vZGQiPgogICAgICAgIDxnIGlkPSJBcnRib2FyZCIgdHJhbnNmb3JtPSJ0cmFuc2xhdGUoLTEyMzUuMDAwMDAwLCAtNzkuMDAwMDAwKSI+CiAgICAgICAgICAgIDxnIGlkPSJHcm91cC0zIiB0cmFuc2Zvcm09InRyYW5zbGF0ZSgxMjM1LjAwMDAwMCwgNzkuMDAwMDAwKSI+CiAgICAgICAgICAgICAgICA8cG9seWdvbiBpZD0iUGF0aC0yMCIgZmlsbD0iIzAyNjVCNCIgcG9pbnRzPSIyLjM3NjIzNzYyIDgwIDM4LjA0NzY2NjcgODAgNTcuODIxNzgyMiA3My44MDU3NTkyIDU3LjgyMTc4MjIgMzIuNzU5MjczOSAzOS4xNDAyMjc4IDMxLjY4MzE2ODMiPjwvcG9seWdvbj4KICAgICAgICAgICAgICAgIDxwYXRoIGQ9Ik0zNS4wMDc3MTgsODAgQzQyLjkwNjIwMDcsNzYuNDU0OTM1OCA0Ny41NjQ5MTY3LDcxLjU0MjI2NzEgNDguOTgzODY2LDY1LjI2MTk5MzkgQzUxLjExMjI4OTksNTUuODQxNTg0MiA0MS42NzcxNzk1LDQ5LjIxMjIyODQgMjUuNjIzOTg0Niw0OS4yMTIyMjg0IEMyNS40ODQ5Mjg5LDQ5LjEyNjg0NDggMjkuODI2MTI5Niw0My4yODM4MjQ4IDM4LjY0NzU4NjksMzEuNjgzMTY4MyBMNzIuODcxMjg3MSwzMi41NTQ0MjUgTDY1LjI4MDk3Myw2Ny42NzYzNDIxIEw1MS4xMTIyODk5LDc3LjM3NjE0NCBMMzUuMDA3NzE4LDgwIFoiIGlkPSJQYXRoLTIyIiBmaWxsPSIjMDAyODY4Ij48L3BhdGg+CiAgICAgICAgICAgICAgICA8cGF0aCBkPSJNMCwzNy43MzA0NDA1IEwyNy4xMTQ1MzcsMC4yNTcxMTE0MzYgQzYyLjM3MTUxMjMsLTEuOTkwNzE3MDEgODAsMTAuNTAwMzkyNyA4MCwzNy43MzA0NDA1IEM4MCw2NC45NjA0ODgyIDY0Ljc3NjUwMzgsNzkuMDUwMzQxNCAzNC4zMjk1MTEzLDgwIEM0Ny4wNTUzNDg5LDc3LjU2NzA4MDggNTMuNDE4MjY3Nyw3MC4zMTM2MTAzIDUzLjQxODI2NzcsNTguMjM5NTg4NSBDNTMuNDE4MjY3Nyw0MC4xMjg1NTU3IDM2LjMwMzk1NDQsMzcuNzMwNDQwNSAyNS4yMjc0MTcsMzcuNzMwNDQwNSBDMTcuODQzMDU4NiwzNy43MzA0NDA1IDkuNDMzOTE5NjYsMzcuNzMwNDQwNSAwLDM3LjczMDQ0MDUgWiIgaWQ9IlBhdGgtMTkiIGZpbGw9IiMzNzkzRUYiPjwvcGF0aD4KICAgICAgICAgICAgPC9nPgogICAgICAgIDwvZz4KICAgIDwvZz4KPC9zdmc+' > </img>\nCreated in <span style='font-weight:600;margin-left:4px;'>Deepnote</span></a>",
   "metadata": {
    "tags": [],
    "created_in_deepnote_cell": true,
    "deepnote_cell_type": "markdown"
   }
  }
 ],
 "nbformat": 4,
 "nbformat_minor": 2,
 "metadata": {
  "orig_nbformat": 2,
  "deepnote": {
   "is_reactive": false
  },
  "deepnote_notebook_id": "90f93a80-1815-46d1-b035-fe1bb4b08a62",
  "deepnote_execution_queue": []
 }
}