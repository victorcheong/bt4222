{
 "cells": [
  {
   "cell_type": "code",
   "metadata": {
    "tags": [],
    "cell_id": "fab217f1-670b-47c7-804a-5b0448a954be",
    "deepnote_to_be_reexecuted": false,
    "source_hash": "db6538e",
    "execution_start": 1647320187932,
    "execution_millis": 6488,
    "deepnote_cell_type": "code",
    "deepnote_cell_height": 495.171875
   },
   "source": "\nimport numpy as np\nimport pandas as pd\nimport random\nfrom sklearn import metrics\n\n# Plots\nfrom matplotlib import pyplot\nimport matplotlib.pyplot as plt\nimport seaborn as sns\n\n# Training Models\nfrom sklearn.preprocessing import OneHotEncoder\nfrom sklearn.preprocessing import LabelEncoder\nfrom sklearn.neighbors import KNeighborsClassifier\nfrom sklearn.linear_model import LogisticRegression\nfrom sklearn.model_selection import train_test_split\nfrom sklearn.naive_bayes import MultinomialNB\nfrom sklearn.svm import SVC\nfrom sklearn import linear_model, tree, model_selection,ensemble\nfrom sklearn.model_selection import learning_curve\nfrom sklearn.neighbors import BallTree, DistanceMetric\n\n",
   "execution_count": null,
   "outputs": []
  },
  {
   "cell_type": "markdown",
   "source": "### Subway Data",
   "metadata": {
    "cell_id": "3fcc47c8-c9d1-4457-9913-e68504cde4e8",
    "tags": [],
    "deepnote_cell_type": "markdown",
    "deepnote_cell_height": 62.15625
   }
  },
  {
   "cell_type": "code",
   "metadata": {
    "cell_id": "0685052b-242a-498d-99e2-6d4c28782a07",
    "tags": [],
    "deepnote_to_be_reexecuted": false,
    "source_hash": "b079e76d",
    "execution_start": 1647320194431,
    "execution_millis": 292,
    "deepnote_cell_type": "code",
    "deepnote_cell_height": 438.515625
   },
   "source": "subway = pd.read_csv(\"NYC_Transit_Subway_Entrance_And_Exit_Data.csv\")\nsubway.head(5)\n",
   "execution_count": null,
   "outputs": [
    {
     "output_type": "execute_result",
     "execution_count": 2,
     "data": {
      "application/vnd.deepnote.dataframe.v3+json": {
       "column_count": 32,
       "row_count": 5,
       "columns": [
        {
         "name": "Division",
         "dtype": "object",
         "stats": {
          "unique_count": 1,
          "nan_count": 0,
          "categories": [
           {
            "name": "BMT",
            "count": 5
           }
          ]
         }
        },
        {
         "name": "Line",
         "dtype": "object",
         "stats": {
          "unique_count": 1,
          "nan_count": 0,
          "categories": [
           {
            "name": "4 Avenue",
            "count": 5
           }
          ]
         }
        },
        {
         "name": "Station Name",
         "dtype": "object",
         "stats": {
          "unique_count": 2,
          "nan_count": 0,
          "categories": [
           {
            "name": "36th St",
            "count": 3
           },
           {
            "name": "25th St",
            "count": 2
           }
          ]
         }
        },
        {
         "name": "Station Latitude",
         "dtype": "float64",
         "stats": {
          "unique_count": 2,
          "nan_count": 0,
          "min": "40.655144",
          "max": "40.660397",
          "histogram": [
           {
            "bin_start": 40.655144,
            "bin_end": 40.6556693,
            "count": 3
           },
           {
            "bin_start": 40.6556693,
            "bin_end": 40.6561946,
            "count": 0
           },
           {
            "bin_start": 40.6561946,
            "bin_end": 40.6567199,
            "count": 0
           },
           {
            "bin_start": 40.6567199,
            "bin_end": 40.6572452,
            "count": 0
           },
           {
            "bin_start": 40.6572452,
            "bin_end": 40.6577705,
            "count": 0
           },
           {
            "bin_start": 40.6577705,
            "bin_end": 40.658295800000005,
            "count": 0
           },
           {
            "bin_start": 40.658295800000005,
            "bin_end": 40.658821100000004,
            "count": 0
           },
           {
            "bin_start": 40.658821100000004,
            "bin_end": 40.659346400000004,
            "count": 0
           },
           {
            "bin_start": 40.659346400000004,
            "bin_end": 40.659871700000004,
            "count": 0
           },
           {
            "bin_start": 40.659871700000004,
            "bin_end": 40.660397,
            "count": 2
           }
          ]
         }
        },
        {
         "name": "Station Longitude",
         "dtype": "float64",
         "stats": {
          "unique_count": 2,
          "nan_count": 0,
          "min": "-74.003549",
          "max": "-73.998091",
          "histogram": [
           {
            "bin_start": -74.003549,
            "bin_end": -74.00300320000001,
            "count": 3
           },
           {
            "bin_start": -74.00300320000001,
            "bin_end": -74.00245740000001,
            "count": 0
           },
           {
            "bin_start": -74.00245740000001,
            "bin_end": -74.0019116,
            "count": 0
           },
           {
            "bin_start": -74.0019116,
            "bin_end": -74.0013658,
            "count": 0
           },
           {
            "bin_start": -74.0013658,
            "bin_end": -74.00082,
            "count": 0
           },
           {
            "bin_start": -74.00082,
            "bin_end": -74.0002742,
            "count": 0
           },
           {
            "bin_start": -74.0002742,
            "bin_end": -73.99972840000001,
            "count": 0
           },
           {
            "bin_start": -73.99972840000001,
            "bin_end": -73.9991826,
            "count": 0
           },
           {
            "bin_start": -73.9991826,
            "bin_end": -73.9986368,
            "count": 0
           },
           {
            "bin_start": -73.9986368,
            "bin_end": -73.998091,
            "count": 2
           }
          ]
         }
        },
        {
         "name": "Route1",
         "dtype": "object",
         "stats": {
          "unique_count": 2,
          "nan_count": 0,
          "categories": [
           {
            "name": "N",
            "count": 3
           },
           {
            "name": "R",
            "count": 2
           }
          ]
         }
        },
        {
         "name": "Route2",
         "dtype": "object",
         "stats": {
          "unique_count": 1,
          "nan_count": 2,
          "categories": [
           {
            "name": "R",
            "count": 3
           },
           {
            "name": "Missing",
            "count": 2
           }
          ]
         }
        },
        {
         "name": "Route3",
         "dtype": "object",
         "stats": {
          "unique_count": 0,
          "nan_count": 5,
          "categories": [
           {
            "name": "Missing",
            "count": 5
           }
          ]
         }
        },
        {
         "name": "Route4",
         "dtype": "object",
         "stats": {
          "unique_count": 0,
          "nan_count": 5,
          "categories": [
           {
            "name": "Missing",
            "count": 5
           }
          ]
         }
        },
        {
         "name": "Route5",
         "dtype": "object",
         "stats": {
          "unique_count": 0,
          "nan_count": 5,
          "categories": [
           {
            "name": "Missing",
            "count": 5
           }
          ]
         }
        },
        {
         "name": "Route6",
         "dtype": "object",
         "stats": {
          "unique_count": 0,
          "nan_count": 5,
          "categories": [
           {
            "name": "Missing",
            "count": 5
           }
          ]
         }
        },
        {
         "name": "Route7",
         "dtype": "object",
         "stats": {
          "unique_count": 0,
          "nan_count": 5,
          "categories": [
           {
            "name": "Missing",
            "count": 5
           }
          ]
         }
        },
        {
         "name": "Route8",
         "dtype": "float64",
         "stats": {
          "unique_count": 0,
          "nan_count": 5,
          "min": null,
          "max": null,
          "histogram": [
           {
            "bin_start": 0,
            "bin_end": 0.1,
            "count": 0
           },
           {
            "bin_start": 0.1,
            "bin_end": 0.2,
            "count": 0
           },
           {
            "bin_start": 0.2,
            "bin_end": 0.30000000000000004,
            "count": 0
           },
           {
            "bin_start": 0.30000000000000004,
            "bin_end": 0.4,
            "count": 0
           },
           {
            "bin_start": 0.4,
            "bin_end": 0.5,
            "count": 0
           },
           {
            "bin_start": 0.5,
            "bin_end": 0.6000000000000001,
            "count": 0
           },
           {
            "bin_start": 0.6000000000000001,
            "bin_end": 0.7000000000000001,
            "count": 0
           },
           {
            "bin_start": 0.7000000000000001,
            "bin_end": 0.8,
            "count": 0
           },
           {
            "bin_start": 0.8,
            "bin_end": 0.9,
            "count": 0
           },
           {
            "bin_start": 0.9,
            "bin_end": 1,
            "count": 0
           }
          ]
         }
        },
        {
         "name": "Route9",
         "dtype": "float64",
         "stats": {
          "unique_count": 0,
          "nan_count": 5,
          "min": null,
          "max": null,
          "histogram": [
           {
            "bin_start": 0,
            "bin_end": 0.1,
            "count": 0
           },
           {
            "bin_start": 0.1,
            "bin_end": 0.2,
            "count": 0
           },
           {
            "bin_start": 0.2,
            "bin_end": 0.30000000000000004,
            "count": 0
           },
           {
            "bin_start": 0.30000000000000004,
            "bin_end": 0.4,
            "count": 0
           },
           {
            "bin_start": 0.4,
            "bin_end": 0.5,
            "count": 0
           },
           {
            "bin_start": 0.5,
            "bin_end": 0.6000000000000001,
            "count": 0
           },
           {
            "bin_start": 0.6000000000000001,
            "bin_end": 0.7000000000000001,
            "count": 0
           },
           {
            "bin_start": 0.7000000000000001,
            "bin_end": 0.8,
            "count": 0
           },
           {
            "bin_start": 0.8,
            "bin_end": 0.9,
            "count": 0
           },
           {
            "bin_start": 0.9,
            "bin_end": 1,
            "count": 0
           }
          ]
         }
        },
        {
         "name": "Route10",
         "dtype": "float64",
         "stats": {
          "unique_count": 0,
          "nan_count": 5,
          "min": null,
          "max": null,
          "histogram": [
           {
            "bin_start": 0,
            "bin_end": 0.1,
            "count": 0
           },
           {
            "bin_start": 0.1,
            "bin_end": 0.2,
            "count": 0
           },
           {
            "bin_start": 0.2,
            "bin_end": 0.30000000000000004,
            "count": 0
           },
           {
            "bin_start": 0.30000000000000004,
            "bin_end": 0.4,
            "count": 0
           },
           {
            "bin_start": 0.4,
            "bin_end": 0.5,
            "count": 0
           },
           {
            "bin_start": 0.5,
            "bin_end": 0.6000000000000001,
            "count": 0
           },
           {
            "bin_start": 0.6000000000000001,
            "bin_end": 0.7000000000000001,
            "count": 0
           },
           {
            "bin_start": 0.7000000000000001,
            "bin_end": 0.8,
            "count": 0
           },
           {
            "bin_start": 0.8,
            "bin_end": 0.9,
            "count": 0
           },
           {
            "bin_start": 0.9,
            "bin_end": 1,
            "count": 0
           }
          ]
         }
        },
        {
         "name": "Route11",
         "dtype": "float64",
         "stats": {
          "unique_count": 0,
          "nan_count": 5,
          "min": null,
          "max": null,
          "histogram": [
           {
            "bin_start": 0,
            "bin_end": 0.1,
            "count": 0
           },
           {
            "bin_start": 0.1,
            "bin_end": 0.2,
            "count": 0
           },
           {
            "bin_start": 0.2,
            "bin_end": 0.30000000000000004,
            "count": 0
           },
           {
            "bin_start": 0.30000000000000004,
            "bin_end": 0.4,
            "count": 0
           },
           {
            "bin_start": 0.4,
            "bin_end": 0.5,
            "count": 0
           },
           {
            "bin_start": 0.5,
            "bin_end": 0.6000000000000001,
            "count": 0
           },
           {
            "bin_start": 0.6000000000000001,
            "bin_end": 0.7000000000000001,
            "count": 0
           },
           {
            "bin_start": 0.7000000000000001,
            "bin_end": 0.8,
            "count": 0
           },
           {
            "bin_start": 0.8,
            "bin_end": 0.9,
            "count": 0
           },
           {
            "bin_start": 0.9,
            "bin_end": 1,
            "count": 0
           }
          ]
         }
        },
        {
         "name": "Entrance Type",
         "dtype": "object",
         "stats": {
          "unique_count": 1,
          "nan_count": 0,
          "categories": [
           {
            "name": "Stair",
            "count": 5
           }
          ]
         }
        },
        {
         "name": "Entry",
         "dtype": "object",
         "stats": {
          "unique_count": 1,
          "nan_count": 0,
          "categories": [
           {
            "name": "YES",
            "count": 5
           }
          ]
         }
        },
        {
         "name": "Exit Only",
         "dtype": "object",
         "stats": {
          "unique_count": 0,
          "nan_count": 5,
          "categories": [
           {
            "name": "Missing",
            "count": 5
           }
          ]
         }
        },
        {
         "name": "Vending",
         "dtype": "object",
         "stats": {
          "unique_count": 1,
          "nan_count": 0,
          "categories": [
           {
            "name": "YES",
            "count": 5
           }
          ]
         }
        },
        {
         "name": "Staffing",
         "dtype": "object",
         "stats": {
          "unique_count": 2,
          "nan_count": 0,
          "categories": [
           {
            "name": "FULL",
            "count": 4
           },
           {
            "name": "NONE",
            "count": 1
           }
          ]
         }
        },
        {
         "name": "Staff Hours",
         "dtype": "object",
         "stats": {
          "unique_count": 0,
          "nan_count": 5,
          "categories": [
           {
            "name": "Missing",
            "count": 5
           }
          ]
         }
        },
        {
         "name": "ADA",
         "dtype": "bool",
         "stats": {
          "unique_count": 1,
          "nan_count": 0,
          "categories": [
           {
            "name": "False",
            "count": 5
           }
          ]
         }
        },
        {
         "name": "ADA Notes",
         "dtype": "object",
         "stats": {
          "unique_count": 0,
          "nan_count": 5,
          "categories": [
           {
            "name": "Missing",
            "count": 5
           }
          ]
         }
        },
        {
         "name": "Free Crossover",
         "dtype": "bool",
         "stats": {
          "unique_count": 2,
          "nan_count": 0,
          "categories": [
           {
            "name": "True",
            "count": 3
           },
           {
            "name": "False",
            "count": 2
           }
          ]
         }
        },
        {
         "name": "North South Street",
         "dtype": "object",
         "stats": {
          "unique_count": 1,
          "nan_count": 0,
          "categories": [
           {
            "name": "4th Ave",
            "count": 5
           }
          ]
         }
        },
        {
         "name": "East West Street",
         "dtype": "object",
         "stats": {
          "unique_count": 2,
          "nan_count": 0,
          "categories": [
           {
            "name": "36th St",
            "count": 3
           },
           {
            "name": "25th St",
            "count": 2
           }
          ]
         }
        },
        {
         "name": "Corner",
         "dtype": "object",
         "stats": {
          "unique_count": 4,
          "nan_count": 0,
          "categories": [
           {
            "name": "NW",
            "count": 2
           },
           {
            "name": "SW",
            "count": 1
           },
           {
            "name": "2 others",
            "count": 2
           }
          ]
         }
        },
        {
         "name": "Entrance Latitude",
         "dtype": "float64",
         "stats": {
          "unique_count": 5,
          "nan_count": 0,
          "min": "40.654365",
          "max": "40.660489",
          "histogram": [
           {
            "bin_start": 40.654365,
            "bin_end": 40.6549774,
            "count": 3
           },
           {
            "bin_start": 40.6549774,
            "bin_end": 40.6555898,
            "count": 0
           },
           {
            "bin_start": 40.6555898,
            "bin_end": 40.656202199999996,
            "count": 0
           },
           {
            "bin_start": 40.656202199999996,
            "bin_end": 40.6568146,
            "count": 0
           },
           {
            "bin_start": 40.6568146,
            "bin_end": 40.657427,
            "count": 0
           },
           {
            "bin_start": 40.657427,
            "bin_end": 40.6580394,
            "count": 0
           },
           {
            "bin_start": 40.6580394,
            "bin_end": 40.6586518,
            "count": 0
           },
           {
            "bin_start": 40.6586518,
            "bin_end": 40.659264199999996,
            "count": 0
           },
           {
            "bin_start": 40.659264199999996,
            "bin_end": 40.6598766,
            "count": 0
           },
           {
            "bin_start": 40.6598766,
            "bin_end": 40.660489,
            "count": 2
           }
          ]
         }
        },
        {
         "name": "Entrance Longitude",
         "dtype": "float64",
         "stats": {
          "unique_count": 5,
          "nan_count": 0,
          "min": "-74.004499",
          "max": "-73.997952",
          "histogram": [
           {
            "bin_start": -74.004499,
            "bin_end": -74.0038443,
            "count": 3
           },
           {
            "bin_start": -74.0038443,
            "bin_end": -74.0031896,
            "count": 0
           },
           {
            "bin_start": -74.0031896,
            "bin_end": -74.0025349,
            "count": 0
           },
           {
            "bin_start": -74.0025349,
            "bin_end": -74.0018802,
            "count": 0
           },
           {
            "bin_start": -74.0018802,
            "bin_end": -74.0012255,
            "count": 0
           },
           {
            "bin_start": -74.0012255,
            "bin_end": -74.00057079999999,
            "count": 0
           },
           {
            "bin_start": -74.00057079999999,
            "bin_end": -73.9999161,
            "count": 0
           },
           {
            "bin_start": -73.9999161,
            "bin_end": -73.9992614,
            "count": 0
           },
           {
            "bin_start": -73.9992614,
            "bin_end": -73.9986067,
            "count": 0
           },
           {
            "bin_start": -73.9986067,
            "bin_end": -73.997952,
            "count": 2
           }
          ]
         }
        },
        {
         "name": "Station Location",
         "dtype": "object",
         "stats": {
          "unique_count": 2,
          "nan_count": 0,
          "categories": [
           {
            "name": "(40.655144, -74.003549)",
            "count": 3
           },
           {
            "name": "(40.660397, -73.998091)",
            "count": 2
           }
          ]
         }
        },
        {
         "name": "Entrance Location",
         "dtype": "object",
         "stats": {
          "unique_count": 5,
          "nan_count": 0,
          "categories": [
           {
            "name": "(40.660489, -73.99822)",
            "count": 1
           },
           {
            "name": "(40.660323, -73.997952)",
            "count": 1
           },
           {
            "name": "3 others",
            "count": 3
           }
          ]
         }
        },
        {
         "name": "_deepnote_index_column",
         "dtype": "int64"
        }
       ],
       "rows": [
        {
         "Division": "BMT",
         "Line": "4 Avenue",
         "Station Name": "25th St",
         "Station Latitude": 40.660397,
         "Station Longitude": -73.998091,
         "Route1": "R",
         "Route2": "nan",
         "Route3": "nan",
         "Route4": "nan",
         "Route5": "nan",
         "Route6": "nan",
         "Route7": "nan",
         "Route8": "nan",
         "Route9": "nan",
         "Route10": "nan",
         "Route11": "nan",
         "Entrance Type": "Stair",
         "Entry": "YES",
         "Exit Only": "nan",
         "Vending": "YES",
         "Staffing": "NONE",
         "Staff Hours": "nan",
         "ADA": false,
         "ADA Notes": "nan",
         "Free Crossover": false,
         "North South Street": "4th Ave",
         "East West Street": "25th St",
         "Corner": "SW",
         "Entrance Latitude": 40.660489,
         "Entrance Longitude": -73.99822,
         "Station Location": "(40.660397, -73.998091)",
         "Entrance Location": "(40.660489, -73.99822)",
         "_deepnote_index_column": 0
        },
        {
         "Division": "BMT",
         "Line": "4 Avenue",
         "Station Name": "25th St",
         "Station Latitude": 40.660397,
         "Station Longitude": -73.998091,
         "Route1": "R",
         "Route2": "nan",
         "Route3": "nan",
         "Route4": "nan",
         "Route5": "nan",
         "Route6": "nan",
         "Route7": "nan",
         "Route8": "nan",
         "Route9": "nan",
         "Route10": "nan",
         "Route11": "nan",
         "Entrance Type": "Stair",
         "Entry": "YES",
         "Exit Only": "nan",
         "Vending": "YES",
         "Staffing": "FULL",
         "Staff Hours": "nan",
         "ADA": false,
         "ADA Notes": "nan",
         "Free Crossover": false,
         "North South Street": "4th Ave",
         "East West Street": "25th St",
         "Corner": "SE",
         "Entrance Latitude": 40.660323,
         "Entrance Longitude": -73.997952,
         "Station Location": "(40.660397, -73.998091)",
         "Entrance Location": "(40.660323, -73.997952)",
         "_deepnote_index_column": 1
        },
        {
         "Division": "BMT",
         "Line": "4 Avenue",
         "Station Name": "36th St",
         "Station Latitude": 40.655144,
         "Station Longitude": -74.003549,
         "Route1": "N",
         "Route2": "R",
         "Route3": "nan",
         "Route4": "nan",
         "Route5": "nan",
         "Route6": "nan",
         "Route7": "nan",
         "Route8": "nan",
         "Route9": "nan",
         "Route10": "nan",
         "Route11": "nan",
         "Entrance Type": "Stair",
         "Entry": "YES",
         "Exit Only": "nan",
         "Vending": "YES",
         "Staffing": "FULL",
         "Staff Hours": "nan",
         "ADA": false,
         "ADA Notes": "nan",
         "Free Crossover": true,
         "North South Street": "4th Ave",
         "East West Street": "36th St",
         "Corner": "NW",
         "Entrance Latitude": 40.654676,
         "Entrance Longitude": -74.004306,
         "Station Location": "(40.655144, -74.003549)",
         "Entrance Location": "(40.654676, -74.004306)",
         "_deepnote_index_column": 2
        },
        {
         "Division": "BMT",
         "Line": "4 Avenue",
         "Station Name": "36th St",
         "Station Latitude": 40.655144,
         "Station Longitude": -74.003549,
         "Route1": "N",
         "Route2": "R",
         "Route3": "nan",
         "Route4": "nan",
         "Route5": "nan",
         "Route6": "nan",
         "Route7": "nan",
         "Route8": "nan",
         "Route9": "nan",
         "Route10": "nan",
         "Route11": "nan",
         "Entrance Type": "Stair",
         "Entry": "YES",
         "Exit Only": "nan",
         "Vending": "YES",
         "Staffing": "FULL",
         "Staff Hours": "nan",
         "ADA": false,
         "ADA Notes": "nan",
         "Free Crossover": true,
         "North South Street": "4th Ave",
         "East West Street": "36th St",
         "Corner": "NE",
         "Entrance Latitude": 40.654365,
         "Entrance Longitude": -74.004113,
         "Station Location": "(40.655144, -74.003549)",
         "Entrance Location": "(40.654365, -74.004113)",
         "_deepnote_index_column": 3
        },
        {
         "Division": "BMT",
         "Line": "4 Avenue",
         "Station Name": "36th St",
         "Station Latitude": 40.655144,
         "Station Longitude": -74.003549,
         "Route1": "N",
         "Route2": "R",
         "Route3": "nan",
         "Route4": "nan",
         "Route5": "nan",
         "Route6": "nan",
         "Route7": "nan",
         "Route8": "nan",
         "Route9": "nan",
         "Route10": "nan",
         "Route11": "nan",
         "Entrance Type": "Stair",
         "Entry": "YES",
         "Exit Only": "nan",
         "Vending": "YES",
         "Staffing": "FULL",
         "Staff Hours": "nan",
         "ADA": false,
         "ADA Notes": "nan",
         "Free Crossover": true,
         "North South Street": "4th Ave",
         "East West Street": "36th St",
         "Corner": "NW",
         "Entrance Latitude": 40.65449,
         "Entrance Longitude": -74.004499,
         "Station Location": "(40.655144, -74.003549)",
         "Entrance Location": "(40.65449, -74.004499)",
         "_deepnote_index_column": 4
        }
       ]
      },
      "text/plain": "  Division      Line Station Name  Station Latitude  Station Longitude Route1  \\\n0      BMT  4 Avenue      25th St         40.660397         -73.998091      R   \n1      BMT  4 Avenue      25th St         40.660397         -73.998091      R   \n2      BMT  4 Avenue      36th St         40.655144         -74.003549      N   \n3      BMT  4 Avenue      36th St         40.655144         -74.003549      N   \n4      BMT  4 Avenue      36th St         40.655144         -74.003549      N   \n\n  Route2 Route3 Route4 Route5  ...    ADA ADA Notes  Free Crossover  \\\n0    NaN    NaN    NaN    NaN  ...  False       NaN           False   \n1    NaN    NaN    NaN    NaN  ...  False       NaN           False   \n2      R    NaN    NaN    NaN  ...  False       NaN            True   \n3      R    NaN    NaN    NaN  ...  False       NaN            True   \n4      R    NaN    NaN    NaN  ...  False       NaN            True   \n\n   North South Street  East West Street  Corner Entrance Latitude  \\\n0             4th Ave           25th St      SW         40.660489   \n1             4th Ave           25th St      SE         40.660323   \n2             4th Ave           36th St      NW         40.654676   \n3             4th Ave           36th St      NE         40.654365   \n4             4th Ave           36th St      NW         40.654490   \n\n  Entrance Longitude         Station Location        Entrance Location  \n0         -73.998220  (40.660397, -73.998091)   (40.660489, -73.99822)  \n1         -73.997952  (40.660397, -73.998091)  (40.660323, -73.997952)  \n2         -74.004306  (40.655144, -74.003549)  (40.654676, -74.004306)  \n3         -74.004113  (40.655144, -74.003549)  (40.654365, -74.004113)  \n4         -74.004499  (40.655144, -74.003549)   (40.65449, -74.004499)  \n\n[5 rows x 32 columns]",
      "text/html": "<div>\n<style scoped>\n    .dataframe tbody tr th:only-of-type {\n        vertical-align: middle;\n    }\n\n    .dataframe tbody tr th {\n        vertical-align: top;\n    }\n\n    .dataframe thead th {\n        text-align: right;\n    }\n</style>\n<table border=\"1\" class=\"dataframe\">\n  <thead>\n    <tr style=\"text-align: right;\">\n      <th></th>\n      <th>Division</th>\n      <th>Line</th>\n      <th>Station Name</th>\n      <th>Station Latitude</th>\n      <th>Station Longitude</th>\n      <th>Route1</th>\n      <th>Route2</th>\n      <th>Route3</th>\n      <th>Route4</th>\n      <th>Route5</th>\n      <th>...</th>\n      <th>ADA</th>\n      <th>ADA Notes</th>\n      <th>Free Crossover</th>\n      <th>North South Street</th>\n      <th>East West Street</th>\n      <th>Corner</th>\n      <th>Entrance Latitude</th>\n      <th>Entrance Longitude</th>\n      <th>Station Location</th>\n      <th>Entrance Location</th>\n    </tr>\n  </thead>\n  <tbody>\n    <tr>\n      <th>0</th>\n      <td>BMT</td>\n      <td>4 Avenue</td>\n      <td>25th St</td>\n      <td>40.660397</td>\n      <td>-73.998091</td>\n      <td>R</td>\n      <td>NaN</td>\n      <td>NaN</td>\n      <td>NaN</td>\n      <td>NaN</td>\n      <td>...</td>\n      <td>False</td>\n      <td>NaN</td>\n      <td>False</td>\n      <td>4th Ave</td>\n      <td>25th St</td>\n      <td>SW</td>\n      <td>40.660489</td>\n      <td>-73.998220</td>\n      <td>(40.660397, -73.998091)</td>\n      <td>(40.660489, -73.99822)</td>\n    </tr>\n    <tr>\n      <th>1</th>\n      <td>BMT</td>\n      <td>4 Avenue</td>\n      <td>25th St</td>\n      <td>40.660397</td>\n      <td>-73.998091</td>\n      <td>R</td>\n      <td>NaN</td>\n      <td>NaN</td>\n      <td>NaN</td>\n      <td>NaN</td>\n      <td>...</td>\n      <td>False</td>\n      <td>NaN</td>\n      <td>False</td>\n      <td>4th Ave</td>\n      <td>25th St</td>\n      <td>SE</td>\n      <td>40.660323</td>\n      <td>-73.997952</td>\n      <td>(40.660397, -73.998091)</td>\n      <td>(40.660323, -73.997952)</td>\n    </tr>\n    <tr>\n      <th>2</th>\n      <td>BMT</td>\n      <td>4 Avenue</td>\n      <td>36th St</td>\n      <td>40.655144</td>\n      <td>-74.003549</td>\n      <td>N</td>\n      <td>R</td>\n      <td>NaN</td>\n      <td>NaN</td>\n      <td>NaN</td>\n      <td>...</td>\n      <td>False</td>\n      <td>NaN</td>\n      <td>True</td>\n      <td>4th Ave</td>\n      <td>36th St</td>\n      <td>NW</td>\n      <td>40.654676</td>\n      <td>-74.004306</td>\n      <td>(40.655144, -74.003549)</td>\n      <td>(40.654676, -74.004306)</td>\n    </tr>\n    <tr>\n      <th>3</th>\n      <td>BMT</td>\n      <td>4 Avenue</td>\n      <td>36th St</td>\n      <td>40.655144</td>\n      <td>-74.003549</td>\n      <td>N</td>\n      <td>R</td>\n      <td>NaN</td>\n      <td>NaN</td>\n      <td>NaN</td>\n      <td>...</td>\n      <td>False</td>\n      <td>NaN</td>\n      <td>True</td>\n      <td>4th Ave</td>\n      <td>36th St</td>\n      <td>NE</td>\n      <td>40.654365</td>\n      <td>-74.004113</td>\n      <td>(40.655144, -74.003549)</td>\n      <td>(40.654365, -74.004113)</td>\n    </tr>\n    <tr>\n      <th>4</th>\n      <td>BMT</td>\n      <td>4 Avenue</td>\n      <td>36th St</td>\n      <td>40.655144</td>\n      <td>-74.003549</td>\n      <td>N</td>\n      <td>R</td>\n      <td>NaN</td>\n      <td>NaN</td>\n      <td>NaN</td>\n      <td>...</td>\n      <td>False</td>\n      <td>NaN</td>\n      <td>True</td>\n      <td>4th Ave</td>\n      <td>36th St</td>\n      <td>NW</td>\n      <td>40.654490</td>\n      <td>-74.004499</td>\n      <td>(40.655144, -74.003549)</td>\n      <td>(40.65449, -74.004499)</td>\n    </tr>\n  </tbody>\n</table>\n<p>5 rows × 32 columns</p>\n</div>"
     },
     "metadata": {}
    }
   ]
  },
  {
   "cell_type": "code",
   "metadata": {
    "cell_id": "91d167fa-e351-4103-9e6d-06c05b5fa570",
    "tags": [],
    "deepnote_to_be_reexecuted": false,
    "source_hash": "e1b5b49c",
    "execution_start": 1647320194726,
    "execution_millis": 18,
    "deepnote_cell_type": "code",
    "deepnote_cell_height": 252.71875,
    "deepnote_output_heights": [
     155.453125
    ]
   },
   "source": "subway.columns",
   "execution_count": null,
   "outputs": [
    {
     "output_type": "execute_result",
     "execution_count": 3,
     "data": {
      "text/plain": "Index(['Division', 'Line', 'Station Name', 'Station Latitude',\n       'Station Longitude', 'Route1', 'Route2', 'Route3', 'Route4', 'Route5',\n       'Route6', 'Route7', 'Route8', 'Route9', 'Route10', 'Route11',\n       'Entrance Type', 'Entry', 'Exit Only', 'Vending', 'Staffing',\n       'Staff Hours', 'ADA', 'ADA Notes', 'Free Crossover',\n       'North South Street', 'East West Street', 'Corner', 'Entrance Latitude',\n       'Entrance Longitude', 'Station Location', 'Entrance Location'],\n      dtype='object')"
     },
     "metadata": {}
    }
   ]
  },
  {
   "cell_type": "code",
   "metadata": {
    "cell_id": "dfeecb5e-deb6-4874-8c2d-482aa9b41d0e",
    "tags": [],
    "deepnote_to_be_reexecuted": false,
    "source_hash": "c6142adc",
    "execution_start": 1647320194795,
    "execution_millis": 0,
    "deepnote_cell_type": "code",
    "deepnote_cell_height": 81.15625
   },
   "source": "subway =subway [['Line',\"Station Name\", \"Station Longitude\", \"Station Latitude\"]]",
   "execution_count": null,
   "outputs": []
  },
  {
   "cell_type": "code",
   "metadata": {
    "cell_id": "eec484bf-eadd-4d3f-8994-8567645822f7",
    "tags": [],
    "deepnote_to_be_reexecuted": false,
    "source_hash": "e0a1e77",
    "execution_start": 1647320194796,
    "execution_millis": 550,
    "deepnote_cell_type": "code",
    "deepnote_cell_height": 588.5625
   },
   "source": "subway.drop_duplicates(subset=['Station Name'])",
   "execution_count": null,
   "outputs": [
    {
     "output_type": "execute_result",
     "execution_count": 5,
     "data": {
      "application/vnd.deepnote.dataframe.v3+json": {
       "column_count": 4,
       "row_count": 356,
       "columns": [
        {
         "name": "Line",
         "dtype": "object",
         "stats": {
          "unique_count": 35,
          "nan_count": 0,
          "categories": [
           {
            "name": "8 Avenue",
            "count": 22
           },
           {
            "name": "Broadway Jamaica",
            "count": 21
           },
           {
            "name": "33 others",
            "count": 313
           }
          ]
         }
        },
        {
         "name": "Station Name",
         "dtype": "object",
         "stats": {
          "unique_count": 356,
          "nan_count": 0,
          "categories": [
           {
            "name": "25th St",
            "count": 1
           },
           {
            "name": "36th St",
            "count": 1
           },
           {
            "name": "354 others",
            "count": 354
           }
          ]
         }
        },
        {
         "name": "Station Longitude",
         "dtype": "float64",
         "stats": {
          "unique_count": 355,
          "nan_count": 0,
          "min": "-74.030876",
          "max": "-73.755405",
          "histogram": [
           {
            "bin_start": -74.030876,
            "bin_end": -74.0033289,
            "count": 25
           },
           {
            "bin_start": -74.0033289,
            "bin_end": -73.97578180000001,
            "count": 78
           },
           {
            "bin_start": -73.97578180000001,
            "bin_end": -73.9482347,
            "count": 58
           },
           {
            "bin_start": -73.9482347,
            "bin_end": -73.92068760000001,
            "count": 48
           },
           {
            "bin_start": -73.92068760000001,
            "bin_end": -73.8931405,
            "count": 55
           },
           {
            "bin_start": -73.8931405,
            "bin_end": -73.8655934,
            "count": 34
           },
           {
            "bin_start": -73.8655934,
            "bin_end": -73.8380463,
            "count": 24
           },
           {
            "bin_start": -73.8380463,
            "bin_end": -73.8104992,
            "count": 23
           },
           {
            "bin_start": -73.8104992,
            "bin_end": -73.7829521,
            "count": 7
           },
           {
            "bin_start": -73.7829521,
            "bin_end": -73.755405,
            "count": 4
           }
          ]
         }
        },
        {
         "name": "Station Latitude",
         "dtype": "float64",
         "stats": {
          "unique_count": 355,
          "nan_count": 0,
          "min": "40.576127",
          "max": "40.903125",
          "histogram": [
           {
            "bin_start": 40.576127,
            "bin_end": 40.6088268,
            "count": 24
           },
           {
            "bin_start": 40.6088268,
            "bin_end": 40.6415266,
            "count": 25
           },
           {
            "bin_start": 40.6415266,
            "bin_end": 40.6742264,
            "count": 32
           },
           {
            "bin_start": 40.6742264,
            "bin_end": 40.7069262,
            "count": 80
           },
           {
            "bin_start": 40.7069262,
            "bin_end": 40.739626,
            "count": 49
           },
           {
            "bin_start": 40.739626,
            "bin_end": 40.772325800000004,
            "count": 54
           },
           {
            "bin_start": 40.772325800000004,
            "bin_end": 40.8050256,
            "count": 9
           },
           {
            "bin_start": 40.8050256,
            "bin_end": 40.837725400000004,
            "count": 34
           },
           {
            "bin_start": 40.837725400000004,
            "bin_end": 40.8704252,
            "count": 32
           },
           {
            "bin_start": 40.8704252,
            "bin_end": 40.903125,
            "count": 17
           }
          ]
         }
        },
        {
         "name": "_deepnote_index_column",
         "dtype": "int64"
        }
       ],
       "rows": [
        {
         "Line": "4 Avenue",
         "Station Name": "25th St",
         "Station Longitude": -73.998091,
         "Station Latitude": 40.660397,
         "_deepnote_index_column": 0
        },
        {
         "Line": "4 Avenue",
         "Station Name": "36th St",
         "Station Longitude": -74.003549,
         "Station Latitude": 40.655144,
         "_deepnote_index_column": 2
        },
        {
         "Line": "4 Avenue",
         "Station Name": "45th St",
         "Station Longitude": -74.010006,
         "Station Latitude": 40.648939,
         "_deepnote_index_column": 5
        },
        {
         "Line": "4 Avenue",
         "Station Name": "53rd St",
         "Station Longitude": -74.014034,
         "Station Latitude": 40.645069,
         "_deepnote_index_column": 9
        },
        {
         "Line": "4 Avenue",
         "Station Name": "59th St",
         "Station Longitude": -74.017881,
         "Station Latitude": 40.641362,
         "_deepnote_index_column": 14
        },
        {
         "Line": "4 Avenue",
         "Station Name": "77th St",
         "Station Longitude": -74.02551,
         "Station Latitude": 40.629742,
         "_deepnote_index_column": 20
        },
        {
         "Line": "4 Avenue",
         "Station Name": "86th St",
         "Station Longitude": -74.028398,
         "Station Latitude": 40.622687,
         "_deepnote_index_column": 23
        },
        {
         "Line": "4 Avenue",
         "Station Name": "95th St",
         "Station Longitude": -74.030876,
         "Station Latitude": 40.616622,
         "_deepnote_index_column": 26
        },
        {
         "Line": "4 Avenue",
         "Station Name": "9th St",
         "Station Longitude": -73.988302,
         "Station Latitude": 40.670847,
         "_deepnote_index_column": 31
        },
        {
         "Line": "4 Avenue",
         "Station Name": "Atlantic Av-Barclays Ctr",
         "Station Longitude": -73.97881,
         "Station Latitude": 40.683666,
         "_deepnote_index_column": 33
        }
       ]
      },
      "text/plain": "                   Line        Station Name  Station Longitude  \\\n0              4 Avenue             25th St         -73.998091   \n2              4 Avenue             36th St         -74.003549   \n5              4 Avenue             45th St         -74.010006   \n9              4 Avenue             53rd St         -74.014034   \n14             4 Avenue             59th St         -74.017881   \n...                 ...                 ...                ...   \n1837  White Plains Road          Freeman St         -73.891865   \n1843  White Plains Road        Intervale Av         -73.896736   \n1846  White Plains Road          Jackson Av         -73.907807   \n1860  White Plains Road          Simpson St         -73.893064   \n1865  White Plains Road  Wakefield-241st St         -73.850620   \n\n      Station Latitude  \n0            40.660397  \n2            40.655144  \n5            40.648939  \n9            40.645069  \n14           40.641362  \n...                ...  \n1837         40.829993  \n1843         40.822181  \n1846         40.816490  \n1860         40.824073  \n1865         40.903125  \n\n[356 rows x 4 columns]",
      "text/html": "<div>\n<style scoped>\n    .dataframe tbody tr th:only-of-type {\n        vertical-align: middle;\n    }\n\n    .dataframe tbody tr th {\n        vertical-align: top;\n    }\n\n    .dataframe thead th {\n        text-align: right;\n    }\n</style>\n<table border=\"1\" class=\"dataframe\">\n  <thead>\n    <tr style=\"text-align: right;\">\n      <th></th>\n      <th>Line</th>\n      <th>Station Name</th>\n      <th>Station Longitude</th>\n      <th>Station Latitude</th>\n    </tr>\n  </thead>\n  <tbody>\n    <tr>\n      <th>0</th>\n      <td>4 Avenue</td>\n      <td>25th St</td>\n      <td>-73.998091</td>\n      <td>40.660397</td>\n    </tr>\n    <tr>\n      <th>2</th>\n      <td>4 Avenue</td>\n      <td>36th St</td>\n      <td>-74.003549</td>\n      <td>40.655144</td>\n    </tr>\n    <tr>\n      <th>5</th>\n      <td>4 Avenue</td>\n      <td>45th St</td>\n      <td>-74.010006</td>\n      <td>40.648939</td>\n    </tr>\n    <tr>\n      <th>9</th>\n      <td>4 Avenue</td>\n      <td>53rd St</td>\n      <td>-74.014034</td>\n      <td>40.645069</td>\n    </tr>\n    <tr>\n      <th>14</th>\n      <td>4 Avenue</td>\n      <td>59th St</td>\n      <td>-74.017881</td>\n      <td>40.641362</td>\n    </tr>\n    <tr>\n      <th>...</th>\n      <td>...</td>\n      <td>...</td>\n      <td>...</td>\n      <td>...</td>\n    </tr>\n    <tr>\n      <th>1837</th>\n      <td>White Plains Road</td>\n      <td>Freeman St</td>\n      <td>-73.891865</td>\n      <td>40.829993</td>\n    </tr>\n    <tr>\n      <th>1843</th>\n      <td>White Plains Road</td>\n      <td>Intervale Av</td>\n      <td>-73.896736</td>\n      <td>40.822181</td>\n    </tr>\n    <tr>\n      <th>1846</th>\n      <td>White Plains Road</td>\n      <td>Jackson Av</td>\n      <td>-73.907807</td>\n      <td>40.816490</td>\n    </tr>\n    <tr>\n      <th>1860</th>\n      <td>White Plains Road</td>\n      <td>Simpson St</td>\n      <td>-73.893064</td>\n      <td>40.824073</td>\n    </tr>\n    <tr>\n      <th>1865</th>\n      <td>White Plains Road</td>\n      <td>Wakefield-241st St</td>\n      <td>-73.850620</td>\n      <td>40.903125</td>\n    </tr>\n  </tbody>\n</table>\n<p>356 rows × 4 columns</p>\n</div>"
     },
     "metadata": {}
    }
   ]
  },
  {
   "cell_type": "markdown",
   "source": "### Listings Data",
   "metadata": {
    "cell_id": "f47f0b23-0def-4683-91dd-eb7bed974914",
    "tags": [],
    "deepnote_cell_type": "markdown",
    "deepnote_cell_height": 62.15625
   }
  },
  {
   "cell_type": "code",
   "metadata": {
    "cell_id": "975453c9-81e7-45ce-b869-7fcefdcd6e47",
    "tags": [],
    "deepnote_to_be_reexecuted": false,
    "source_hash": "74bdcaa5",
    "execution_start": 1647320195397,
    "execution_millis": 4574,
    "deepnote_cell_type": "code",
    "deepnote_cell_height": 625.46875
   },
   "source": "listings = pd.read_csv('cleaned_listings.csv')\nlistings",
   "execution_count": null,
   "outputs": [
    {
     "output_type": "execute_result",
     "execution_count": 6,
     "data": {
      "application/vnd.deepnote.dataframe.v3+json": {
       "column_count": 45,
       "row_count": 33150,
       "columns": [
        {
         "name": "id",
         "dtype": "int64",
         "stats": {
          "unique_count": 33150,
          "nan_count": 0,
          "min": "3831",
          "max": "54161645",
          "histogram": [
           {
            "bin_start": 3831,
            "bin_end": 5419612.4,
            "count": 3719
           },
           {
            "bin_start": 5419612.4,
            "bin_end": 10835393.8,
            "count": 3457
           },
           {
            "bin_start": 10835393.8,
            "bin_end": 16251175.200000001,
            "count": 2645
           },
           {
            "bin_start": 16251175.200000001,
            "bin_end": 21666956.6,
            "count": 2735
           },
           {
            "bin_start": 21666956.6,
            "bin_end": 27082738,
            "count": 2384
           },
           {
            "bin_start": 27082738,
            "bin_end": 32498519.400000002,
            "count": 2415
           },
           {
            "bin_start": 32498519.400000002,
            "bin_end": 37914300.800000004,
            "count": 2364
           },
           {
            "bin_start": 37914300.800000004,
            "bin_end": 43330082.2,
            "count": 3085
           },
           {
            "bin_start": 43330082.2,
            "bin_end": 48745863.6,
            "count": 3414
           },
           {
            "bin_start": 48745863.6,
            "bin_end": 54161645,
            "count": 6932
           }
          ]
         }
        },
        {
         "name": "name",
         "dtype": "object",
         "stats": {
          "unique_count": 32051,
          "nan_count": 0,
          "categories": [
           {
            "name": "Water View King Bed Hotel Room",
            "count": 30
           },
           {
            "name": "Cozy room@Queens! Same area W/Target,Costco, IKEA",
            "count": 29
           },
           {
            "name": "32049 others",
            "count": 33091
           }
          ]
         }
        },
        {
         "name": "description",
         "dtype": "object",
         "stats": {
          "unique_count": 29859,
          "nan_count": 0,
          "categories": [
           {
            "name": "No Data",
            "count": 862
           },
           {
            "name": "Welcome to UNTITLED (Adj.) at 3 Freeman Alley!  Charming Studio's located in the heart of Lower East Side of Manhattan.  Building entrance located off a historic alley way that has many street art from street artists all around the world.  This location is the best place to relax and unwind after exploring and venturing out in the city.  @freemanalley3untitled   The space  Cozy studio that has been newly renovated and smartly furnished including a queen size bed.  Studio is equipped with all necessary amenities needed, shampoo/soap, conditioner, towels, linens, basic tableware, coffee, AC, heat, Bluetooth speaker, Smart TV for Android devices.  * Additional housekeeping service and for replenishing is available for scheduling and for a fee.  * We are doing light renovations throughout the building (Expect minor to no noise resulting from these renovations), please excuse our appearance. <br /",
            "count": 58
           },
           {
            "name": "29857 others",
            "count": 32230
           }
          ]
         }
        },
        {
         "name": "neighborhood_overview",
         "dtype": "object"
        },
        {
         "name": "host_since",
         "dtype": "object"
        },
        {
         "name": "host_response_time",
         "dtype": "object"
        },
        {
         "name": "host_response_rate",
         "dtype": "float64"
        },
        {
         "name": "host_acceptance_rate",
         "dtype": "float64"
        },
        {
         "name": "host_is_superhost",
         "dtype": "object"
        },
        {
         "name": "host_listings_count",
         "dtype": "float64"
        },
        {
         "name": "host_has_profile_pic",
         "dtype": "object"
        },
        {
         "name": "host_identity_verified",
         "dtype": "object"
        },
        {
         "name": "neighbourhood",
         "dtype": "object"
        },
        {
         "name": "neighbourhood_cleansed",
         "dtype": "object"
        },
        {
         "name": "neighbourhood_group_cleansed",
         "dtype": "object"
        },
        {
         "name": "latitude",
         "dtype": "float64"
        },
        {
         "name": "longitude",
         "dtype": "float64"
        },
        {
         "name": "property_type",
         "dtype": "object"
        },
        {
         "name": "room_type",
         "dtype": "object"
        },
        {
         "name": "accommodates",
         "dtype": "int64"
        },
        {
         "name": "bathrooms_text",
         "dtype": "object"
        },
        {
         "name": "bedrooms",
         "dtype": "int64"
        },
        {
         "name": "beds",
         "dtype": "int64"
        },
        {
         "name": "amenities",
         "dtype": "object"
        },
        {
         "name": "price",
         "dtype": "float64"
        },
        {
         "name": "minimum_nights",
         "dtype": "int64"
        },
        {
         "name": "maximum_nights",
         "dtype": "int64"
        },
        {
         "name": "has_availability",
         "dtype": "object"
        },
        {
         "name": "availability_30",
         "dtype": "int64"
        },
        {
         "name": "availability_60",
         "dtype": "int64"
        },
        {
         "name": "availability_90",
         "dtype": "int64"
        },
        {
         "name": "availability_365",
         "dtype": "int64"
        },
        {
         "name": "number_of_reviews",
         "dtype": "int64"
        },
        {
         "name": "number_of_reviews_ltm",
         "dtype": "int64"
        },
        {
         "name": "number_of_reviews_l30d",
         "dtype": "int64"
        },
        {
         "name": "review_scores_rating",
         "dtype": "float64"
        },
        {
         "name": "review_scores_accuracy",
         "dtype": "float64"
        },
        {
         "name": "review_scores_cleanliness",
         "dtype": "float64"
        },
        {
         "name": "review_scores_checkin",
         "dtype": "float64"
        },
        {
         "name": "review_scores_communication",
         "dtype": "float64"
        },
        {
         "name": "review_scores_location",
         "dtype": "float64"
        },
        {
         "name": "review_scores_value",
         "dtype": "float64"
        },
        {
         "name": "instant_bookable",
         "dtype": "object"
        },
        {
         "name": "calculated_host_listings_count",
         "dtype": "int64"
        },
        {
         "name": "amenities_str",
         "dtype": "object"
        },
        {
         "name": "_deepnote_index_column",
         "dtype": "int64"
        }
       ],
       "rows": [
        {
         "id": 3831,
         "name": "Whole flr w/private bdrm, bath & kitchen(pls read)",
         "description": "Enjoy 500 s.f. top floor in 1899 brownstone, w/ wood & ceramic flooring throughout, roomy bdrm, & u…",
         "neighborhood_overview": "Just the right mix of urban center and local neighborhood; close to all but enough quiet for a calm…",
         "host_since": "2008-12-07",
         "host_response_time": "a few days or more",
         "host_response_rate": 0,
         "host_acceptance_rate": 64,
         "host_is_superhost": "f",
         "host_listings_count": 1,
         "host_has_profile_pic": "t",
         "host_identity_verified": "t",
         "neighbourhood": "Brooklyn, New York, United States",
         "neighbourhood_cleansed": "Bedford-Stuyvesant",
         "neighbourhood_group_cleansed": "Brooklyn",
         "latitude": 40.68494,
         "longitude": -73.95765,
         "property_type": "Entire guest suite",
         "room_type": "Entire home/apt",
         "accommodates": 3,
         "bathrooms_text": "1 bath",
         "bedrooms": 1,
         "beds": 3,
         "amenities": "[\"Hot water\", \"Iron\", \"Children\\u2019s books and toys\", \"Refrigerator\", \"Kitchen\", \"Cable TV\", \"Fir…",
         "price": 73,
         "minimum_nights": 1,
         "maximum_nights": 730,
         "has_availability": "t",
         "availability_30": 3,
         "availability_60": 15,
         "availability_90": 26,
         "availability_365": 214,
         "number_of_reviews": 409,
         "number_of_reviews_ltm": 26,
         "number_of_reviews_l30d": 0,
         "review_scores_rating": 4.45,
         "review_scores_accuracy": 4.58,
         "review_scores_cleanliness": 4.49,
         "review_scores_checkin": 4.78,
         "review_scores_communication": 4.8,
         "review_scores_location": 4.71,
         "review_scores_value": 4.64,
         "instant_bookable": "f",
         "calculated_host_listings_count": 1,
         "amenities_str": "\"Hot water\", \"Iron\", \"Children\\u2019s books and toys\", \"Refrigerator\", \"Kitchen\", \"Cable TV\", \"Fire…",
         "_deepnote_index_column": 0
        },
        {
         "id": 5121,
         "name": "BlissArtsSpace!",
         "description": " The space  HELLO EVERYONE AND THANKS FOR VISITING BLISS ART SPACE!   Thank you all for your suppor…",
         "neighborhood_overview": "No Data",
         "host_since": "2009-02-03",
         "host_response_time": "within an hour",
         "host_response_rate": 100,
         "host_acceptance_rate": 100,
         "host_is_superhost": "f",
         "host_listings_count": 1,
         "host_has_profile_pic": "t",
         "host_identity_verified": "t",
         "neighbourhood": "No Data",
         "neighbourhood_cleansed": "Bedford-Stuyvesant",
         "neighbourhood_group_cleansed": "Brooklyn",
         "latitude": 40.68535,
         "longitude": -73.95512,
         "property_type": "Private room in rental unit",
         "room_type": "Private room",
         "accommodates": 2,
         "bathrooms_text": "No Data",
         "bedrooms": 1,
         "beds": 1,
         "amenities": "[\"Heating\", \"Air conditioning\", \"Long term stays allowed\", \"Wifi\", \"Kitchen\"]",
         "price": 60,
         "minimum_nights": 30,
         "maximum_nights": 730,
         "has_availability": "t",
         "availability_30": 30,
         "availability_60": 60,
         "availability_90": 90,
         "availability_365": 365,
         "number_of_reviews": 50,
         "number_of_reviews_ltm": 0,
         "number_of_reviews_l30d": 0,
         "review_scores_rating": 4.52,
         "review_scores_accuracy": 4.22,
         "review_scores_cleanliness": 4.09,
         "review_scores_checkin": 4.91,
         "review_scores_communication": 4.91,
         "review_scores_location": 4.47,
         "review_scores_value": 4.52,
         "instant_bookable": "f",
         "calculated_host_listings_count": 2,
         "amenities_str": "\"Heating\", \"Air conditioning\", \"Long term stays allowed\", \"Wifi\", \"Kitchen\"",
         "_deepnote_index_column": 1
        },
        {
         "id": 5136,
         "name": "Spacious Brooklyn Duplex, Patio + Garden",
         "description": "We welcome you to stay in our lovely 2 br duplex in South Slope, Brooklyn.  Our home is a truly spa…",
         "neighborhood_overview": "No Data",
         "host_since": "2009-02-03",
         "host_response_time": "No Data",
         "host_response_rate": "nan",
         "host_acceptance_rate": 25,
         "host_is_superhost": "f",
         "host_listings_count": 1,
         "host_has_profile_pic": "t",
         "host_identity_verified": "t",
         "neighbourhood": "No Data",
         "neighbourhood_cleansed": "Sunset Park",
         "neighbourhood_group_cleansed": "Brooklyn",
         "latitude": 40.66265,
         "longitude": -73.99454,
         "property_type": "Entire rental unit",
         "room_type": "Entire home/apt",
         "accommodates": 4,
         "bathrooms_text": "1.5 baths",
         "bedrooms": 2,
         "beds": 2,
         "amenities": "[\"Cable TV\", \"TV with standard cable\", \"Outdoor furniture\", \"Carbon monoxide alarm\", \"Smoke alarm\",…",
         "price": 275,
         "minimum_nights": 5,
         "maximum_nights": 1125,
         "has_availability": "t",
         "availability_30": 0,
         "availability_60": 9,
         "availability_90": 9,
         "availability_365": 152,
         "number_of_reviews": 2,
         "number_of_reviews_ltm": 1,
         "number_of_reviews_l30d": 0,
         "review_scores_rating": 5,
         "review_scores_accuracy": 5,
         "review_scores_cleanliness": 5,
         "review_scores_checkin": 5,
         "review_scores_communication": 5,
         "review_scores_location": 4.5,
         "review_scores_value": 5,
         "instant_bookable": "f",
         "calculated_host_listings_count": 1,
         "amenities_str": "\"Cable TV\", \"TV with standard cable\", \"Outdoor furniture\", \"Carbon monoxide alarm\", \"Smoke alarm\", …",
         "_deepnote_index_column": 2
        },
        {
         "id": 5178,
         "name": "Large Furnished Room Near B'way　",
         "description": "Please don’t expect the luxury here just a basic room in the center of Manhattan.   The space  You …",
         "neighborhood_overview": "Theater district, many restaurants around here.",
         "host_since": "2009-03-03",
         "host_response_time": "within a few hours",
         "host_response_rate": 100,
         "host_acceptance_rate": 100,
         "host_is_superhost": "f",
         "host_listings_count": 1,
         "host_has_profile_pic": "t",
         "host_identity_verified": "f",
         "neighbourhood": "New York, United States",
         "neighbourhood_cleansed": "Midtown",
         "neighbourhood_group_cleansed": "Manhattan",
         "latitude": 40.76457,
         "longitude": -73.98317,
         "property_type": "Private room in rental unit",
         "room_type": "Private room",
         "accommodates": 2,
         "bathrooms_text": "1 bath",
         "bedrooms": 1,
         "beds": 1,
         "amenities": "[\"Hot water\", \"Body soap\", \"Iron\", \"Lock on bedroom door\", \"Refrigerator\", \"Conditioner\", \"Laundrom…",
         "price": 68,
         "minimum_nights": 2,
         "maximum_nights": 14,
         "has_availability": "t",
         "availability_30": 9,
         "availability_60": 24,
         "availability_90": 34,
         "availability_365": 198,
         "number_of_reviews": 514,
         "number_of_reviews_ltm": 40,
         "number_of_reviews_l30d": 4,
         "review_scores_rating": 4.22,
         "review_scores_accuracy": 4.21,
         "review_scores_cleanliness": 3.73,
         "review_scores_checkin": 4.66,
         "review_scores_communication": 4.42,
         "review_scores_location": 4.87,
         "review_scores_value": 4.36,
         "instant_bookable": "f",
         "calculated_host_listings_count": 1,
         "amenities_str": "\"Hot water\", \"Body soap\", \"Iron\", \"Lock on bedroom door\", \"Refrigerator\", \"Conditioner\", \"Laundroma…",
         "_deepnote_index_column": 3
        },
        {
         "id": 5203,
         "name": "Cozy Clean Guest Room - Family Apt",
         "description": "Our best guests are seeking a safe, clean, spare room in a family apartment.  They are comfortable …",
         "neighborhood_overview": "Our neighborhood is full of restaurants and cafes.  There is plenty to do.",
         "host_since": "2009-02-05",
         "host_response_time": "No Data",
         "host_response_rate": "nan",
         "host_acceptance_rate": "nan",
         "host_is_superhost": "f",
         "host_listings_count": 1,
         "host_has_profile_pic": "t",
         "host_identity_verified": "t",
         "neighbourhood": "New York, United States",
         "neighbourhood_cleansed": "Upper West Side",
         "neighbourhood_group_cleansed": "Manhattan",
         "latitude": 40.8038,
         "longitude": -73.96751,
         "property_type": "Private room in rental unit",
         "room_type": "Private room",
         "accommodates": 1,
         "bathrooms_text": "1 shared bath",
         "bedrooms": 1,
         "beds": 1,
         "amenities": "[\"Fire extinguisher\", \"Hot water\", \"Carbon monoxide alarm\", \"Smoke alarm\", \"Elevator\", \"Free street…",
         "price": 75,
         "minimum_nights": 2,
         "maximum_nights": 14,
         "has_availability": "t",
         "availability_30": 0,
         "availability_60": 0,
         "availability_90": 0,
         "availability_365": 0,
         "number_of_reviews": 118,
         "number_of_reviews_ltm": 0,
         "number_of_reviews_l30d": 0,
         "review_scores_rating": 4.91,
         "review_scores_accuracy": 4.83,
         "review_scores_cleanliness": 4.82,
         "review_scores_checkin": 4.97,
         "review_scores_communication": 4.95,
         "review_scores_location": 4.94,
         "review_scores_value": 4.92,
         "instant_bookable": "f",
         "calculated_host_listings_count": 1,
         "amenities_str": "\"Fire extinguisher\", \"Hot water\", \"Carbon monoxide alarm\", \"Smoke alarm\", \"Elevator\", \"Free street …",
         "_deepnote_index_column": 4
        },
        {
         "id": 5803,
         "name": "Lovely Room 1 in BEST AREA; Legal Rental, Spotless",
         "description": "Beautiful house, gorgeous garden, large patio, cozy room,  helpful host!    Super safe and quiet in…",
         "neighborhood_overview": "Neighborhood is amazing! Best subways to Manhattan, Williamsburg, Lower East Side (20 mins); *  Exc…",
         "host_since": "2009-03-10",
         "host_response_time": "within a few hours",
         "host_response_rate": 100,
         "host_acceptance_rate": 100,
         "host_is_superhost": "t",
         "host_listings_count": 3,
         "host_has_profile_pic": "t",
         "host_identity_verified": "t",
         "neighbourhood": "Brooklyn, New York, United States",
         "neighbourhood_cleansed": "South Slope",
         "neighbourhood_group_cleansed": "Brooklyn",
         "latitude": 40.66801,
         "longitude": -73.98784,
         "property_type": "Private room in townhouse",
         "room_type": "Private room",
         "accommodates": 2,
         "bathrooms_text": "1.5 baths",
         "bedrooms": 1,
         "beds": 1,
         "amenities": "[\"Free washer \\u2013 In building\", \"Hot water\", \"Body soap\", \"Iron\", \"Pool\", \"Shower gel\", \"Conditi…",
         "price": 110,
         "minimum_nights": 4,
         "maximum_nights": 21,
         "has_availability": "t",
         "availability_30": 19,
         "availability_60": 49,
         "availability_90": 79,
         "availability_365": 354,
         "number_of_reviews": 205,
         "number_of_reviews_ltm": 24,
         "number_of_reviews_l30d": 1,
         "review_scores_rating": 4.7,
         "review_scores_accuracy": 4.7,
         "review_scores_cleanliness": 4.61,
         "review_scores_checkin": 4.79,
         "review_scores_communication": 4.82,
         "review_scores_location": 4.87,
         "review_scores_value": 4.73,
         "instant_bookable": "f",
         "calculated_host_listings_count": 3,
         "amenities_str": "\"Free washer \\u2013 In building\", \"Hot water\", \"Body soap\", \"Iron\", \"Pool\", \"Shower gel\", \"Conditio…",
         "_deepnote_index_column": 5
        },
        {
         "id": 6872,
         "name": "Uptown Sanctuary w/ Private Bath (Month to Month)",
         "description": "A charming month-to-month home away from home located in Historic Harlem, Uptown Sanctuary is ideal…",
         "neighborhood_overview": "This sweet Harlem sanctuary is a 10-20 minute ride from downtown Manhattan, a 20-25 minute ride fro…",
         "host_since": "2009-05-07",
         "host_response_time": "within a day",
         "host_response_rate": 100,
         "host_acceptance_rate": "nan",
         "host_is_superhost": "f",
         "host_listings_count": 0,
         "host_has_profile_pic": "t",
         "host_identity_verified": "t",
         "neighbourhood": "New York, United States",
         "neighbourhood_cleansed": "East Harlem",
         "neighbourhood_group_cleansed": "Manhattan",
         "latitude": 40.80107,
         "longitude": -73.94255,
         "property_type": "Private room in condominium (condo)",
         "room_type": "Private room",
         "accommodates": 1,
         "bathrooms_text": "1 shared bath",
         "bedrooms": 1,
         "beds": 1,
         "amenities": "[\"Fire extinguisher\", \"Hot water\", \"Carbon monoxide alarm\", \"Luggage dropoff allowed\", \"Smoke alarm…",
         "price": 65,
         "minimum_nights": 30,
         "maximum_nights": 180,
         "has_availability": "t",
         "availability_30": 30,
         "availability_60": 60,
         "availability_90": 90,
         "availability_365": 365,
         "number_of_reviews": 0,
         "number_of_reviews_ltm": 0,
         "number_of_reviews_l30d": 0,
         "review_scores_rating": 0,
         "review_scores_accuracy": 0,
         "review_scores_cleanliness": 0,
         "review_scores_checkin": 0,
         "review_scores_communication": 0,
         "review_scores_location": 0,
         "review_scores_value": 0,
         "instant_bookable": "f",
         "calculated_host_listings_count": 2,
         "amenities_str": "\"Fire extinguisher\", \"Hot water\", \"Carbon monoxide alarm\", \"Luggage dropoff allowed\", \"Smoke alarm\"…",
         "_deepnote_index_column": 6
        },
        {
         "id": 6990,
         "name": "UES Beautiful Blue Room",
         "description": "Beautiful peaceful healthy home   The space  Home is fun healthy.  Your Night’s Sleep: 100% cotton …",
         "neighborhood_overview": "Location: Five minutes to Central Park, Museum Mile (Guggenheim Museum, Metropolitan Museum, Whitne…",
         "host_since": "2009-05-12",
         "host_response_time": "within an hour",
         "host_response_rate": 100,
         "host_acceptance_rate": 100,
         "host_is_superhost": "t",
         "host_listings_count": 3,
         "host_has_profile_pic": "t",
         "host_identity_verified": "t",
         "neighbourhood": "New York, United States",
         "neighbourhood_cleansed": "East Harlem",
         "neighbourhood_group_cleansed": "Manhattan",
         "latitude": 40.78778,
         "longitude": -73.94759,
         "property_type": "Private room in rental unit",
         "room_type": "Private room",
         "accommodates": 1,
         "bathrooms_text": "1 shared bath",
         "bedrooms": 1,
         "beds": 1,
         "amenities": "[\"Fire extinguisher\", \"Hot water\", \"Stove\", \"Carbon monoxide alarm\", \"Coffee maker\", \"Smoke alarm\",…",
         "price": 62,
         "minimum_nights": 30,
         "maximum_nights": 700,
         "has_availability": "t",
         "availability_30": 4,
         "availability_60": 6,
         "availability_90": 35,
         "availability_365": 308,
         "number_of_reviews": 235,
         "number_of_reviews_ltm": 2,
         "number_of_reviews_l30d": 1,
         "review_scores_rating": 4.88,
         "review_scores_accuracy": 4.82,
         "review_scores_cleanliness": 4.96,
         "review_scores_checkin": 4.96,
         "review_scores_communication": 4.95,
         "review_scores_location": 4.84,
         "review_scores_value": 4.84,
         "instant_bookable": "t",
         "calculated_host_listings_count": 1,
         "amenities_str": "\"Fire extinguisher\", \"Hot water\", \"Stove\", \"Carbon monoxide alarm\", \"Coffee maker\", \"Smoke alarm\", …",
         "_deepnote_index_column": 7
        },
        {
         "id": 7064,
         "name": "Amazing location! Wburg. Large, bright & tranquil",
         "description": "Large, private loft-like room in a spacious 2-story apt in the heart of Williamsburg, Brooklyn. The…",
         "neighborhood_overview": "- One stop from the East Village, Lower East Side, and an easy ride to other parts of Brooklyn and …",
         "host_since": "2009-05-15",
         "host_response_time": "within a few hours",
         "host_response_rate": 100,
         "host_acceptance_rate": 0,
         "host_is_superhost": "f",
         "host_listings_count": 2,
         "host_has_profile_pic": "t",
         "host_identity_verified": "t",
         "neighbourhood": "Brooklyn, New York, United States",
         "neighbourhood_cleansed": "Williamsburg",
         "neighbourhood_group_cleansed": "Brooklyn",
         "latitude": 40.71248,
         "longitude": -73.95881,
         "property_type": "Private room in loft",
         "room_type": "Private room",
         "accommodates": 1,
         "bathrooms_text": "1 shared bath",
         "bedrooms": 1,
         "beds": 1,
         "amenities": "[\"Iron\", \"Smoke alarm\", \"Air conditioning\", \"Shampoo\", \"Essentials\", \"Hangers\", \"Dedicated workspac…",
         "price": 90,
         "minimum_nights": 27,
         "maximum_nights": 45,
         "has_availability": "t",
         "availability_30": 10,
         "availability_60": 23,
         "availability_90": 29,
         "availability_365": 304,
         "number_of_reviews": 9,
         "number_of_reviews_ltm": 0,
         "number_of_reviews_l30d": 0,
         "review_scores_rating": 4.86,
         "review_scores_accuracy": 5,
         "review_scores_cleanliness": 4.86,
         "review_scores_checkin": 5,
         "review_scores_communication": 5,
         "review_scores_location": 5,
         "review_scores_value": 5,
         "instant_bookable": "f",
         "calculated_host_listings_count": 2,
         "amenities_str": "\"Iron\", \"Smoke alarm\", \"Air conditioning\", \"Shampoo\", \"Essentials\", \"Hangers\", \"Dedicated workspace…",
         "_deepnote_index_column": 8
        },
        {
         "id": 7097,
         "name": "Perfect for Your Parents:  Privacy + Garden",
         "description": "Parents/grandparents coming to town, or are you just here for work or play? You'll love this Victor…",
         "neighborhood_overview": "Residential, village-like atmosphere. Lots of restaurants. They are unfortunately limited to outdoo…",
         "host_since": "2009-05-17",
         "host_response_time": "within an hour",
         "host_response_rate": 100,
         "host_acceptance_rate": 99,
         "host_is_superhost": "t",
         "host_listings_count": 1,
         "host_has_profile_pic": "t",
         "host_identity_verified": "t",
         "neighbourhood": "Brooklyn, New York, United States",
         "neighbourhood_cleansed": "Fort Greene",
         "neighbourhood_group_cleansed": "Brooklyn",
         "latitude": 40.69121,
         "longitude": -73.97277,
         "property_type": "Entire guest suite",
         "room_type": "Entire home/apt",
         "accommodates": 4,
         "bathrooms_text": "1 bath",
         "bedrooms": 1,
         "beds": 2,
         "amenities": "[\"Hot water\", \"Iron\", \"Shower gel\", \"Refrigerator\", \"Private patio or balcony\", \"Single level home\"…",
         "price": 199,
         "minimum_nights": 2,
         "maximum_nights": 1125,
         "has_availability": "t",
         "availability_30": 22,
         "availability_60": 52,
         "availability_90": 78,
         "availability_365": 353,
         "number_of_reviews": 284,
         "number_of_reviews_ltm": 44,
         "number_of_reviews_l30d": 4,
         "review_scores_rating": 4.88,
         "review_scores_accuracy": 4.89,
         "review_scores_cleanliness": 4.9,
         "review_scores_checkin": 4.96,
         "review_scores_communication": 4.92,
         "review_scores_location": 4.93,
         "review_scores_value": 4.79,
         "instant_bookable": "t",
         "calculated_host_listings_count": 2,
         "amenities_str": "\"Hot water\", \"Iron\", \"Shower gel\", \"Refrigerator\", \"Private patio or balcony\", \"Single level home\",…",
         "_deepnote_index_column": 9
        }
       ]
      },
      "text/plain": "             id                                               name  \\\n0          3831  Whole flr w/private bdrm, bath & kitchen(pls r...   \n1          5121                                    BlissArtsSpace!   \n2          5136           Spacious Brooklyn Duplex, Patio + Garden   \n3          5178                   Large Furnished Room Near B'way　   \n4          5203                 Cozy Clean Guest Room - Family Apt   \n...         ...                                                ...   \n33145  54146235      Micro Hostel in The Heart of Chelsea New York   \n33146  54146364   Hermoso apartamento en el centro de williamsburg   \n33147  54148518                   Time Square New York -Share Room   \n33148  54150715  Private PATIO in PRIVATE Room | 5mins to Manha...   \n33149  54161645  Escape to Haven in Manhattan-West 57th Street-...   \n\n                                             description  \\\n0      Enjoy 500 s.f. top floor in 1899 brownstone, w...   \n1       The space  HELLO EVERYONE AND THANKS FOR VISI...   \n2      We welcome you to stay in our lovely 2 br dupl...   \n3      Please don’t expect the luxury here just a bas...   \n4      Our best guests are seeking a safe, clean, spa...   \n...                                                  ...   \n33145  Everything you want to explore is right outsid...   \n33146  Disfruta de la sencillez de este alojamiento t...   \n33147  New York!!! The trendiest city in the world.  ...   \n33148                                            No Data   \n33149  Live your dream in the city that doesn't sleep...   \n\n                                   neighborhood_overview  host_since  \\\n0      Just the right mix of urban center and local n...  2008-12-07   \n1                                                No Data  2009-02-03   \n2                                                No Data  2009-02-03   \n3        Theater district, many restaurants around here.  2009-03-03   \n4      Our neighborhood is full of restaurants and ca...  2009-02-05   \n...                                                  ...         ...   \n33145                                            No Data  2017-10-20   \n33146                                            No Data  2018-12-12   \n33147  The center of Manhattan!  There are many uniqu...  2021-12-16   \n33148                                            No Data  2020-03-05   \n33149                                            No Data  2020-07-10   \n\n       host_response_time  host_response_rate  host_acceptance_rate  \\\n0      a few days or more                 0.0                  64.0   \n1          within an hour               100.0                 100.0   \n2                 No Data                 NaN                  25.0   \n3      within a few hours               100.0                 100.0   \n4                 No Data                 NaN                   NaN   \n...                   ...                 ...                   ...   \n33145        within a day               100.0                 100.0   \n33146  within a few hours               100.0                  72.0   \n33147  within a few hours               100.0                 100.0   \n33148             No Data                 NaN                   NaN   \n33149      within an hour                99.0                  94.0   \n\n      host_is_superhost  host_listings_count  ... review_scores_rating  \\\n0                     f                  1.0  ...                 4.45   \n1                     f                  1.0  ...                 4.52   \n2                     f                  1.0  ...                 5.00   \n3                     f                  1.0  ...                 4.22   \n4                     f                  1.0  ...                 4.91   \n...                 ...                  ...  ...                  ...   \n33145                 f                  0.0  ...                 0.00   \n33146                 f                  0.0  ...                 0.00   \n33147                 f                  1.0  ...                 0.00   \n33148                 f                 12.0  ...                 0.00   \n33149                 f                320.0  ...                 0.00   \n\n      review_scores_accuracy review_scores_cleanliness review_scores_checkin  \\\n0                       4.58                      4.49                  4.78   \n1                       4.22                      4.09                  4.91   \n2                       5.00                      5.00                  5.00   \n3                       4.21                      3.73                  4.66   \n4                       4.83                      4.82                  4.97   \n...                      ...                       ...                   ...   \n33145                   0.00                      0.00                  0.00   \n33146                   0.00                      0.00                  0.00   \n33147                   0.00                      0.00                  0.00   \n33148                   0.00                      0.00                  0.00   \n33149                   0.00                      0.00                  0.00   \n\n      review_scores_communication  review_scores_location  \\\n0                            4.80                    4.71   \n1                            4.91                    4.47   \n2                            5.00                    4.50   \n3                            4.42                    4.87   \n4                            4.95                    4.94   \n...                           ...                     ...   \n33145                        0.00                    0.00   \n33146                        0.00                    0.00   \n33147                        0.00                    0.00   \n33148                        0.00                    0.00   \n33149                        0.00                    0.00   \n\n       review_scores_value instant_bookable calculated_host_listings_count  \\\n0                     4.64                f                              1   \n1                     4.52                f                              2   \n2                     5.00                f                              1   \n3                     4.36                f                              1   \n4                     4.92                f                              1   \n...                    ...              ...                            ...   \n33145                 0.00                t                              4   \n33146                 0.00                f                              2   \n33147                 0.00                t                              2   \n33148                 0.00                f                              1   \n33149                 0.00                f                              4   \n\n                                           amenities_str  \n0      \"Hot water\", \"Iron\", \"Children\\u2019s books an...  \n1      \"Heating\", \"Air conditioning\", \"Long term stay...  \n2      \"Cable TV\", \"TV with standard cable\", \"Outdoor...  \n3      \"Hot water\", \"Body soap\", \"Iron\", \"Lock on bed...  \n4      \"Fire extinguisher\", \"Hot water\", \"Carbon mono...  \n...                                                  ...  \n33145  \"Wifi\", \"Building staff\", \"Long term stays all...  \n33146  \"Hot water\", \"Body soap\", \"Iron\", \"Window AC u...  \n33147  \"Hot water\", \"Ceiling fan\", \"Shower gel\", \"Ref...  \n33148  \"Fire extinguisher\", \"Hot water\", \"Carbon mono...  \n33149  \"Cable TV\", \"Fire extinguisher\", \"Hot water\", ...  \n\n[33150 rows x 45 columns]",
      "text/html": "<div>\n<style scoped>\n    .dataframe tbody tr th:only-of-type {\n        vertical-align: middle;\n    }\n\n    .dataframe tbody tr th {\n        vertical-align: top;\n    }\n\n    .dataframe thead th {\n        text-align: right;\n    }\n</style>\n<table border=\"1\" class=\"dataframe\">\n  <thead>\n    <tr style=\"text-align: right;\">\n      <th></th>\n      <th>id</th>\n      <th>name</th>\n      <th>description</th>\n      <th>neighborhood_overview</th>\n      <th>host_since</th>\n      <th>host_response_time</th>\n      <th>host_response_rate</th>\n      <th>host_acceptance_rate</th>\n      <th>host_is_superhost</th>\n      <th>host_listings_count</th>\n      <th>...</th>\n      <th>review_scores_rating</th>\n      <th>review_scores_accuracy</th>\n      <th>review_scores_cleanliness</th>\n      <th>review_scores_checkin</th>\n      <th>review_scores_communication</th>\n      <th>review_scores_location</th>\n      <th>review_scores_value</th>\n      <th>instant_bookable</th>\n      <th>calculated_host_listings_count</th>\n      <th>amenities_str</th>\n    </tr>\n  </thead>\n  <tbody>\n    <tr>\n      <th>0</th>\n      <td>3831</td>\n      <td>Whole flr w/private bdrm, bath &amp; kitchen(pls r...</td>\n      <td>Enjoy 500 s.f. top floor in 1899 brownstone, w...</td>\n      <td>Just the right mix of urban center and local n...</td>\n      <td>2008-12-07</td>\n      <td>a few days or more</td>\n      <td>0.0</td>\n      <td>64.0</td>\n      <td>f</td>\n      <td>1.0</td>\n      <td>...</td>\n      <td>4.45</td>\n      <td>4.58</td>\n      <td>4.49</td>\n      <td>4.78</td>\n      <td>4.80</td>\n      <td>4.71</td>\n      <td>4.64</td>\n      <td>f</td>\n      <td>1</td>\n      <td>\"Hot water\", \"Iron\", \"Children\\u2019s books an...</td>\n    </tr>\n    <tr>\n      <th>1</th>\n      <td>5121</td>\n      <td>BlissArtsSpace!</td>\n      <td>The space  HELLO EVERYONE AND THANKS FOR VISI...</td>\n      <td>No Data</td>\n      <td>2009-02-03</td>\n      <td>within an hour</td>\n      <td>100.0</td>\n      <td>100.0</td>\n      <td>f</td>\n      <td>1.0</td>\n      <td>...</td>\n      <td>4.52</td>\n      <td>4.22</td>\n      <td>4.09</td>\n      <td>4.91</td>\n      <td>4.91</td>\n      <td>4.47</td>\n      <td>4.52</td>\n      <td>f</td>\n      <td>2</td>\n      <td>\"Heating\", \"Air conditioning\", \"Long term stay...</td>\n    </tr>\n    <tr>\n      <th>2</th>\n      <td>5136</td>\n      <td>Spacious Brooklyn Duplex, Patio + Garden</td>\n      <td>We welcome you to stay in our lovely 2 br dupl...</td>\n      <td>No Data</td>\n      <td>2009-02-03</td>\n      <td>No Data</td>\n      <td>NaN</td>\n      <td>25.0</td>\n      <td>f</td>\n      <td>1.0</td>\n      <td>...</td>\n      <td>5.00</td>\n      <td>5.00</td>\n      <td>5.00</td>\n      <td>5.00</td>\n      <td>5.00</td>\n      <td>4.50</td>\n      <td>5.00</td>\n      <td>f</td>\n      <td>1</td>\n      <td>\"Cable TV\", \"TV with standard cable\", \"Outdoor...</td>\n    </tr>\n    <tr>\n      <th>3</th>\n      <td>5178</td>\n      <td>Large Furnished Room Near B'way</td>\n      <td>Please don’t expect the luxury here just a bas...</td>\n      <td>Theater district, many restaurants around here.</td>\n      <td>2009-03-03</td>\n      <td>within a few hours</td>\n      <td>100.0</td>\n      <td>100.0</td>\n      <td>f</td>\n      <td>1.0</td>\n      <td>...</td>\n      <td>4.22</td>\n      <td>4.21</td>\n      <td>3.73</td>\n      <td>4.66</td>\n      <td>4.42</td>\n      <td>4.87</td>\n      <td>4.36</td>\n      <td>f</td>\n      <td>1</td>\n      <td>\"Hot water\", \"Body soap\", \"Iron\", \"Lock on bed...</td>\n    </tr>\n    <tr>\n      <th>4</th>\n      <td>5203</td>\n      <td>Cozy Clean Guest Room - Family Apt</td>\n      <td>Our best guests are seeking a safe, clean, spa...</td>\n      <td>Our neighborhood is full of restaurants and ca...</td>\n      <td>2009-02-05</td>\n      <td>No Data</td>\n      <td>NaN</td>\n      <td>NaN</td>\n      <td>f</td>\n      <td>1.0</td>\n      <td>...</td>\n      <td>4.91</td>\n      <td>4.83</td>\n      <td>4.82</td>\n      <td>4.97</td>\n      <td>4.95</td>\n      <td>4.94</td>\n      <td>4.92</td>\n      <td>f</td>\n      <td>1</td>\n      <td>\"Fire extinguisher\", \"Hot water\", \"Carbon mono...</td>\n    </tr>\n    <tr>\n      <th>...</th>\n      <td>...</td>\n      <td>...</td>\n      <td>...</td>\n      <td>...</td>\n      <td>...</td>\n      <td>...</td>\n      <td>...</td>\n      <td>...</td>\n      <td>...</td>\n      <td>...</td>\n      <td>...</td>\n      <td>...</td>\n      <td>...</td>\n      <td>...</td>\n      <td>...</td>\n      <td>...</td>\n      <td>...</td>\n      <td>...</td>\n      <td>...</td>\n      <td>...</td>\n      <td>...</td>\n    </tr>\n    <tr>\n      <th>33145</th>\n      <td>54146235</td>\n      <td>Micro Hostel in The Heart of Chelsea New York</td>\n      <td>Everything you want to explore is right outsid...</td>\n      <td>No Data</td>\n      <td>2017-10-20</td>\n      <td>within a day</td>\n      <td>100.0</td>\n      <td>100.0</td>\n      <td>f</td>\n      <td>0.0</td>\n      <td>...</td>\n      <td>0.00</td>\n      <td>0.00</td>\n      <td>0.00</td>\n      <td>0.00</td>\n      <td>0.00</td>\n      <td>0.00</td>\n      <td>0.00</td>\n      <td>t</td>\n      <td>4</td>\n      <td>\"Wifi\", \"Building staff\", \"Long term stays all...</td>\n    </tr>\n    <tr>\n      <th>33146</th>\n      <td>54146364</td>\n      <td>Hermoso apartamento en el centro de williamsburg</td>\n      <td>Disfruta de la sencillez de este alojamiento t...</td>\n      <td>No Data</td>\n      <td>2018-12-12</td>\n      <td>within a few hours</td>\n      <td>100.0</td>\n      <td>72.0</td>\n      <td>f</td>\n      <td>0.0</td>\n      <td>...</td>\n      <td>0.00</td>\n      <td>0.00</td>\n      <td>0.00</td>\n      <td>0.00</td>\n      <td>0.00</td>\n      <td>0.00</td>\n      <td>0.00</td>\n      <td>f</td>\n      <td>2</td>\n      <td>\"Hot water\", \"Body soap\", \"Iron\", \"Window AC u...</td>\n    </tr>\n    <tr>\n      <th>33147</th>\n      <td>54148518</td>\n      <td>Time Square New York -Share Room</td>\n      <td>New York!!! The trendiest city in the world.  ...</td>\n      <td>The center of Manhattan!  There are many uniqu...</td>\n      <td>2021-12-16</td>\n      <td>within a few hours</td>\n      <td>100.0</td>\n      <td>100.0</td>\n      <td>f</td>\n      <td>1.0</td>\n      <td>...</td>\n      <td>0.00</td>\n      <td>0.00</td>\n      <td>0.00</td>\n      <td>0.00</td>\n      <td>0.00</td>\n      <td>0.00</td>\n      <td>0.00</td>\n      <td>t</td>\n      <td>2</td>\n      <td>\"Hot water\", \"Ceiling fan\", \"Shower gel\", \"Ref...</td>\n    </tr>\n    <tr>\n      <th>33148</th>\n      <td>54150715</td>\n      <td>Private PATIO in PRIVATE Room | 5mins to Manha...</td>\n      <td>No Data</td>\n      <td>No Data</td>\n      <td>2020-03-05</td>\n      <td>No Data</td>\n      <td>NaN</td>\n      <td>NaN</td>\n      <td>f</td>\n      <td>12.0</td>\n      <td>...</td>\n      <td>0.00</td>\n      <td>0.00</td>\n      <td>0.00</td>\n      <td>0.00</td>\n      <td>0.00</td>\n      <td>0.00</td>\n      <td>0.00</td>\n      <td>f</td>\n      <td>1</td>\n      <td>\"Fire extinguisher\", \"Hot water\", \"Carbon mono...</td>\n    </tr>\n    <tr>\n      <th>33149</th>\n      <td>54161645</td>\n      <td>Escape to Haven in Manhattan-West 57th Street-...</td>\n      <td>Live your dream in the city that doesn't sleep...</td>\n      <td>No Data</td>\n      <td>2020-07-10</td>\n      <td>within an hour</td>\n      <td>99.0</td>\n      <td>94.0</td>\n      <td>f</td>\n      <td>320.0</td>\n      <td>...</td>\n      <td>0.00</td>\n      <td>0.00</td>\n      <td>0.00</td>\n      <td>0.00</td>\n      <td>0.00</td>\n      <td>0.00</td>\n      <td>0.00</td>\n      <td>f</td>\n      <td>4</td>\n      <td>\"Cable TV\", \"Fire extinguisher\", \"Hot water\", ...</td>\n    </tr>\n  </tbody>\n</table>\n<p>33150 rows × 45 columns</p>\n</div>"
     },
     "metadata": {}
    }
   ]
  },
  {
   "cell_type": "code",
   "metadata": {
    "cell_id": "70dfe567-010b-4f2a-8641-3d2525a3e580",
    "tags": [],
    "deepnote_to_be_reexecuted": false,
    "source_hash": "3c0540f",
    "execution_start": 1647320199961,
    "execution_millis": 36,
    "deepnote_cell_type": "code",
    "deepnote_cell_height": 189.078125
   },
   "source": "# Build k-d tree with haversine distance metric, which expects\n# (lat, lon) in radians and returns distances in radians\ndist = DistanceMetric.get_metric('haversine')\ntree = BallTree(np.radians(subway[['Station Latitude', 'Station Longitude']]), metric=dist)",
   "execution_count": null,
   "outputs": [
    {
     "name": "stderr",
     "text": "/shared-libs/python3.9/py/lib/python3.9/site-packages/sklearn/neighbors/_distance_metric.py:10: FutureWarning: sklearn.neighbors.DistanceMetric has been moved to sklearn.metrics.DistanceMetric in 1.0. This import path will be removed in 1.3\n  warnings.warn(\n",
     "output_type": "stream"
    }
   ]
  },
  {
   "cell_type": "code",
   "metadata": {
    "cell_id": "cd5df44a-72d5-4c97-a411-e1b938fa9301",
    "tags": [],
    "deepnote_to_be_reexecuted": false,
    "source_hash": "a07bc98f",
    "execution_start": 1647320199998,
    "execution_millis": 927,
    "deepnote_cell_type": "code",
    "deepnote_cell_height": 135.171875
   },
   "source": "coords = np.radians(listings[['latitude', 'longitude']])\ndists, ilocs = tree.query(coords)\n# dists is in rad; convert to km\nlistings['dist_to_subway'] = dists.flatten() * 6367",
   "execution_count": null,
   "outputs": []
  },
  {
   "cell_type": "code",
   "metadata": {
    "cell_id": "c75841ab-0ca5-4362-af93-b5e18165734b",
    "tags": [],
    "deepnote_to_be_reexecuted": false,
    "source_hash": "f2b7b283",
    "execution_start": 1647320200925,
    "execution_millis": 1197,
    "deepnote_cell_type": "code",
    "deepnote_cell_height": 607.453125
   },
   "source": "listings",
   "execution_count": null,
   "outputs": [
    {
     "output_type": "execute_result",
     "execution_count": 9,
     "data": {
      "application/vnd.deepnote.dataframe.v3+json": {
       "column_count": 46,
       "row_count": 33150,
       "columns": [
        {
         "name": "id",
         "dtype": "int64",
         "stats": {
          "unique_count": 33150,
          "nan_count": 0,
          "min": "3831",
          "max": "54161645",
          "histogram": [
           {
            "bin_start": 3831,
            "bin_end": 5419612.4,
            "count": 3719
           },
           {
            "bin_start": 5419612.4,
            "bin_end": 10835393.8,
            "count": 3457
           },
           {
            "bin_start": 10835393.8,
            "bin_end": 16251175.200000001,
            "count": 2645
           },
           {
            "bin_start": 16251175.200000001,
            "bin_end": 21666956.6,
            "count": 2735
           },
           {
            "bin_start": 21666956.6,
            "bin_end": 27082738,
            "count": 2384
           },
           {
            "bin_start": 27082738,
            "bin_end": 32498519.400000002,
            "count": 2415
           },
           {
            "bin_start": 32498519.400000002,
            "bin_end": 37914300.800000004,
            "count": 2364
           },
           {
            "bin_start": 37914300.800000004,
            "bin_end": 43330082.2,
            "count": 3085
           },
           {
            "bin_start": 43330082.2,
            "bin_end": 48745863.6,
            "count": 3414
           },
           {
            "bin_start": 48745863.6,
            "bin_end": 54161645,
            "count": 6932
           }
          ]
         }
        },
        {
         "name": "name",
         "dtype": "object",
         "stats": {
          "unique_count": 32051,
          "nan_count": 0,
          "categories": [
           {
            "name": "Water View King Bed Hotel Room",
            "count": 30
           },
           {
            "name": "Cozy room@Queens! Same area W/Target,Costco, IKEA",
            "count": 29
           },
           {
            "name": "32049 others",
            "count": 33091
           }
          ]
         }
        },
        {
         "name": "description",
         "dtype": "object",
         "stats": {
          "unique_count": 29859,
          "nan_count": 0,
          "categories": [
           {
            "name": "No Data",
            "count": 862
           },
           {
            "name": "Welcome to UNTITLED (Adj.) at 3 Freeman Alley!  Charming Studio's located in the heart of Lower East Side of Manhattan.  Building entrance located off a historic alley way that has many street art from street artists all around the world.  This location is the best place to relax and unwind after exploring and venturing out in the city.  @freemanalley3untitled   The space  Cozy studio that has been newly renovated and smartly furnished including a queen size bed.  Studio is equipped with all necessary amenities needed, shampoo/soap, conditioner, towels, linens, basic tableware, coffee, AC, heat, Bluetooth speaker, Smart TV for Android devices.  * Additional housekeeping service and for replenishing is available for scheduling and for a fee.  * We are doing light renovations throughout the building (Expect minor to no noise resulting from these renovations), please excuse our appearance. <br /",
            "count": 58
           },
           {
            "name": "29857 others",
            "count": 32230
           }
          ]
         }
        },
        {
         "name": "neighborhood_overview",
         "dtype": "object"
        },
        {
         "name": "host_since",
         "dtype": "object"
        },
        {
         "name": "host_response_time",
         "dtype": "object"
        },
        {
         "name": "host_response_rate",
         "dtype": "float64"
        },
        {
         "name": "host_acceptance_rate",
         "dtype": "float64"
        },
        {
         "name": "host_is_superhost",
         "dtype": "object"
        },
        {
         "name": "host_listings_count",
         "dtype": "float64"
        },
        {
         "name": "host_has_profile_pic",
         "dtype": "object"
        },
        {
         "name": "host_identity_verified",
         "dtype": "object"
        },
        {
         "name": "neighbourhood",
         "dtype": "object"
        },
        {
         "name": "neighbourhood_cleansed",
         "dtype": "object"
        },
        {
         "name": "neighbourhood_group_cleansed",
         "dtype": "object"
        },
        {
         "name": "latitude",
         "dtype": "float64"
        },
        {
         "name": "longitude",
         "dtype": "float64"
        },
        {
         "name": "property_type",
         "dtype": "object"
        },
        {
         "name": "room_type",
         "dtype": "object"
        },
        {
         "name": "accommodates",
         "dtype": "int64"
        },
        {
         "name": "bathrooms_text",
         "dtype": "object"
        },
        {
         "name": "bedrooms",
         "dtype": "int64"
        },
        {
         "name": "beds",
         "dtype": "int64"
        },
        {
         "name": "amenities",
         "dtype": "object"
        },
        {
         "name": "price",
         "dtype": "float64"
        },
        {
         "name": "minimum_nights",
         "dtype": "int64"
        },
        {
         "name": "maximum_nights",
         "dtype": "int64"
        },
        {
         "name": "has_availability",
         "dtype": "object"
        },
        {
         "name": "availability_30",
         "dtype": "int64"
        },
        {
         "name": "availability_60",
         "dtype": "int64"
        },
        {
         "name": "availability_90",
         "dtype": "int64"
        },
        {
         "name": "availability_365",
         "dtype": "int64"
        },
        {
         "name": "number_of_reviews",
         "dtype": "int64"
        },
        {
         "name": "number_of_reviews_ltm",
         "dtype": "int64"
        },
        {
         "name": "number_of_reviews_l30d",
         "dtype": "int64"
        },
        {
         "name": "review_scores_rating",
         "dtype": "float64"
        },
        {
         "name": "review_scores_accuracy",
         "dtype": "float64"
        },
        {
         "name": "review_scores_cleanliness",
         "dtype": "float64"
        },
        {
         "name": "review_scores_checkin",
         "dtype": "float64"
        },
        {
         "name": "review_scores_communication",
         "dtype": "float64"
        },
        {
         "name": "review_scores_location",
         "dtype": "float64"
        },
        {
         "name": "review_scores_value",
         "dtype": "float64"
        },
        {
         "name": "instant_bookable",
         "dtype": "object"
        },
        {
         "name": "calculated_host_listings_count",
         "dtype": "int64"
        },
        {
         "name": "amenities_str",
         "dtype": "object"
        },
        {
         "name": "dist_to_subway",
         "dtype": "float64"
        },
        {
         "name": "_deepnote_index_column",
         "dtype": "int64"
        }
       ],
       "rows": [
        {
         "id": 3831,
         "name": "Whole flr w/private bdrm, bath & kitchen(pls read)",
         "description": "Enjoy 500 s.f. top floor in 1899 brownstone, w/ wood & ceramic flooring throughout, roomy bdrm, & u…",
         "neighborhood_overview": "Just the right mix of urban center and local neighborhood; close to all but enough quiet for a calm…",
         "host_since": "2008-12-07",
         "host_response_time": "a few days or more",
         "host_response_rate": 0,
         "host_acceptance_rate": 64,
         "host_is_superhost": "f",
         "host_listings_count": 1,
         "host_has_profile_pic": "t",
         "host_identity_verified": "t",
         "neighbourhood": "Brooklyn, New York, United States",
         "neighbourhood_cleansed": "Bedford-Stuyvesant",
         "neighbourhood_group_cleansed": "Brooklyn",
         "latitude": 40.68494,
         "longitude": -73.95765,
         "property_type": "Entire guest suite",
         "room_type": "Entire home/apt",
         "accommodates": 3,
         "bathrooms_text": "1 bath",
         "bedrooms": 1,
         "beds": 3,
         "amenities": "[\"Hot water\", \"Iron\", \"Children\\u2019s books and toys\", \"Refrigerator\", \"Kitchen\", \"Cable TV\", \"Fir…",
         "price": 73,
         "minimum_nights": 1,
         "maximum_nights": 730,
         "has_availability": "t",
         "availability_30": 3,
         "availability_60": 15,
         "availability_90": 26,
         "availability_365": 214,
         "number_of_reviews": 409,
         "number_of_reviews_ltm": 26,
         "number_of_reviews_l30d": 0,
         "review_scores_rating": 4.45,
         "review_scores_accuracy": 4.58,
         "review_scores_cleanliness": 4.49,
         "review_scores_checkin": 4.78,
         "review_scores_communication": 4.8,
         "review_scores_location": 4.71,
         "review_scores_value": 4.64,
         "instant_bookable": "f",
         "calculated_host_listings_count": 1,
         "amenities_str": "\"Hot water\", \"Iron\", \"Children\\u2019s books and toys\", \"Refrigerator\", \"Kitchen\", \"Cable TV\", \"Fire…",
         "dist_to_subway": 0.4013367708798816,
         "_deepnote_index_column": 0
        },
        {
         "id": 5121,
         "name": "BlissArtsSpace!",
         "description": " The space  HELLO EVERYONE AND THANKS FOR VISITING BLISS ART SPACE!   Thank you all for your suppor…",
         "neighborhood_overview": "No Data",
         "host_since": "2009-02-03",
         "host_response_time": "within an hour",
         "host_response_rate": 100,
         "host_acceptance_rate": 100,
         "host_is_superhost": "f",
         "host_listings_count": 1,
         "host_has_profile_pic": "t",
         "host_identity_verified": "t",
         "neighbourhood": "No Data",
         "neighbourhood_cleansed": "Bedford-Stuyvesant",
         "neighbourhood_group_cleansed": "Brooklyn",
         "latitude": 40.68535,
         "longitude": -73.95512,
         "property_type": "Private room in rental unit",
         "room_type": "Private room",
         "accommodates": 2,
         "bathrooms_text": "No Data",
         "bedrooms": 1,
         "beds": 1,
         "amenities": "[\"Heating\", \"Air conditioning\", \"Long term stays allowed\", \"Wifi\", \"Kitchen\"]",
         "price": 60,
         "minimum_nights": 30,
         "maximum_nights": 730,
         "has_availability": "t",
         "availability_30": 30,
         "availability_60": 60,
         "availability_90": 90,
         "availability_365": 365,
         "number_of_reviews": 50,
         "number_of_reviews_ltm": 0,
         "number_of_reviews_l30d": 0,
         "review_scores_rating": 4.52,
         "review_scores_accuracy": 4.22,
         "review_scores_cleanliness": 4.09,
         "review_scores_checkin": 4.91,
         "review_scores_communication": 4.91,
         "review_scores_location": 4.47,
         "review_scores_value": 4.52,
         "instant_bookable": "f",
         "calculated_host_listings_count": 2,
         "amenities_str": "\"Heating\", \"Air conditioning\", \"Long term stays allowed\", \"Wifi\", \"Kitchen\"",
         "dist_to_subway": 0.46457746233640795,
         "_deepnote_index_column": 1
        },
        {
         "id": 5136,
         "name": "Spacious Brooklyn Duplex, Patio + Garden",
         "description": "We welcome you to stay in our lovely 2 br duplex in South Slope, Brooklyn.  Our home is a truly spa…",
         "neighborhood_overview": "No Data",
         "host_since": "2009-02-03",
         "host_response_time": "No Data",
         "host_response_rate": "nan",
         "host_acceptance_rate": 25,
         "host_is_superhost": "f",
         "host_listings_count": 1,
         "host_has_profile_pic": "t",
         "host_identity_verified": "t",
         "neighbourhood": "No Data",
         "neighbourhood_cleansed": "Sunset Park",
         "neighbourhood_group_cleansed": "Brooklyn",
         "latitude": 40.66265,
         "longitude": -73.99454,
         "property_type": "Entire rental unit",
         "room_type": "Entire home/apt",
         "accommodates": 4,
         "bathrooms_text": "1.5 baths",
         "bedrooms": 2,
         "beds": 2,
         "amenities": "[\"Cable TV\", \"TV with standard cable\", \"Outdoor furniture\", \"Carbon monoxide alarm\", \"Smoke alarm\",…",
         "price": 275,
         "minimum_nights": 5,
         "maximum_nights": 1125,
         "has_availability": "t",
         "availability_30": 0,
         "availability_60": 9,
         "availability_90": 9,
         "availability_365": 152,
         "number_of_reviews": 2,
         "number_of_reviews_ltm": 1,
         "number_of_reviews_l30d": 0,
         "review_scores_rating": 5,
         "review_scores_accuracy": 5,
         "review_scores_cleanliness": 5,
         "review_scores_checkin": 5,
         "review_scores_communication": 5,
         "review_scores_location": 4.5,
         "review_scores_value": 5,
         "instant_bookable": "f",
         "calculated_host_listings_count": 1,
         "amenities_str": "\"Cable TV\", \"TV with standard cable\", \"Outdoor furniture\", \"Carbon monoxide alarm\", \"Smoke alarm\", …",
         "dist_to_subway": 0.3378012480192298,
         "_deepnote_index_column": 2
        },
        {
         "id": 5178,
         "name": "Large Furnished Room Near B'way　",
         "description": "Please don’t expect the luxury here just a basic room in the center of Manhattan.   The space  You …",
         "neighborhood_overview": "Theater district, many restaurants around here.",
         "host_since": "2009-03-03",
         "host_response_time": "within a few hours",
         "host_response_rate": 100,
         "host_acceptance_rate": 100,
         "host_is_superhost": "f",
         "host_listings_count": 1,
         "host_has_profile_pic": "t",
         "host_identity_verified": "f",
         "neighbourhood": "New York, United States",
         "neighbourhood_cleansed": "Midtown",
         "neighbourhood_group_cleansed": "Manhattan",
         "latitude": 40.76457,
         "longitude": -73.98317,
         "property_type": "Private room in rental unit",
         "room_type": "Private room",
         "accommodates": 2,
         "bathrooms_text": "1 bath",
         "bedrooms": 1,
         "beds": 1,
         "amenities": "[\"Hot water\", \"Body soap\", \"Iron\", \"Lock on bedroom door\", \"Refrigerator\", \"Conditioner\", \"Laundrom…",
         "price": 68,
         "minimum_nights": 2,
         "maximum_nights": 14,
         "has_availability": "t",
         "availability_30": 9,
         "availability_60": 24,
         "availability_90": 34,
         "availability_365": 198,
         "number_of_reviews": 514,
         "number_of_reviews_ltm": 40,
         "number_of_reviews_l30d": 4,
         "review_scores_rating": 4.22,
         "review_scores_accuracy": 4.21,
         "review_scores_cleanliness": 3.73,
         "review_scores_checkin": 4.66,
         "review_scores_communication": 4.42,
         "review_scores_location": 4.87,
         "review_scores_value": 4.36,
         "instant_bookable": "f",
         "calculated_host_listings_count": 1,
         "amenities_str": "\"Hot water\", \"Body soap\", \"Iron\", \"Lock on bedroom door\", \"Refrigerator\", \"Conditioner\", \"Laundroma…",
         "dist_to_subway": 0.2116828451243103,
         "_deepnote_index_column": 3
        },
        {
         "id": 5203,
         "name": "Cozy Clean Guest Room - Family Apt",
         "description": "Our best guests are seeking a safe, clean, spare room in a family apartment.  They are comfortable …",
         "neighborhood_overview": "Our neighborhood is full of restaurants and cafes.  There is plenty to do.",
         "host_since": "2009-02-05",
         "host_response_time": "No Data",
         "host_response_rate": "nan",
         "host_acceptance_rate": "nan",
         "host_is_superhost": "f",
         "host_listings_count": 1,
         "host_has_profile_pic": "t",
         "host_identity_verified": "t",
         "neighbourhood": "New York, United States",
         "neighbourhood_cleansed": "Upper West Side",
         "neighbourhood_group_cleansed": "Manhattan",
         "latitude": 40.8038,
         "longitude": -73.96751,
         "property_type": "Private room in rental unit",
         "room_type": "Private room",
         "accommodates": 1,
         "bathrooms_text": "1 shared bath",
         "bedrooms": 1,
         "beds": 1,
         "amenities": "[\"Fire extinguisher\", \"Hot water\", \"Carbon monoxide alarm\", \"Smoke alarm\", \"Elevator\", \"Free street…",
         "price": 75,
         "minimum_nights": 2,
         "maximum_nights": 14,
         "has_availability": "t",
         "availability_30": 0,
         "availability_60": 0,
         "availability_90": 0,
         "availability_365": 0,
         "number_of_reviews": 118,
         "number_of_reviews_ltm": 0,
         "number_of_reviews_l30d": 0,
         "review_scores_rating": 4.91,
         "review_scores_accuracy": 4.83,
         "review_scores_cleanliness": 4.82,
         "review_scores_checkin": 4.97,
         "review_scores_communication": 4.95,
         "review_scores_location": 4.94,
         "review_scores_value": 4.92,
         "instant_bookable": "f",
         "calculated_host_listings_count": 1,
         "amenities_str": "\"Fire extinguisher\", \"Hot water\", \"Carbon monoxide alarm\", \"Smoke alarm\", \"Elevator\", \"Free street …",
         "dist_to_subway": 0.05877571140411198,
         "_deepnote_index_column": 4
        },
        {
         "id": 5803,
         "name": "Lovely Room 1 in BEST AREA; Legal Rental, Spotless",
         "description": "Beautiful house, gorgeous garden, large patio, cozy room,  helpful host!    Super safe and quiet in…",
         "neighborhood_overview": "Neighborhood is amazing! Best subways to Manhattan, Williamsburg, Lower East Side (20 mins); *  Exc…",
         "host_since": "2009-03-10",
         "host_response_time": "within a few hours",
         "host_response_rate": 100,
         "host_acceptance_rate": 100,
         "host_is_superhost": "t",
         "host_listings_count": 3,
         "host_has_profile_pic": "t",
         "host_identity_verified": "t",
         "neighbourhood": "Brooklyn, New York, United States",
         "neighbourhood_cleansed": "South Slope",
         "neighbourhood_group_cleansed": "Brooklyn",
         "latitude": 40.66801,
         "longitude": -73.98784,
         "property_type": "Private room in townhouse",
         "room_type": "Private room",
         "accommodates": 2,
         "bathrooms_text": "1.5 baths",
         "bedrooms": 1,
         "beds": 1,
         "amenities": "[\"Free washer \\u2013 In building\", \"Hot water\", \"Body soap\", \"Iron\", \"Pool\", \"Shower gel\", \"Conditi…",
         "price": 110,
         "minimum_nights": 4,
         "maximum_nights": 21,
         "has_availability": "t",
         "availability_30": 19,
         "availability_60": 49,
         "availability_90": 79,
         "availability_365": 354,
         "number_of_reviews": 205,
         "number_of_reviews_ltm": 24,
         "number_of_reviews_l30d": 1,
         "review_scores_rating": 4.7,
         "review_scores_accuracy": 4.7,
         "review_scores_cleanliness": 4.61,
         "review_scores_checkin": 4.79,
         "review_scores_communication": 4.82,
         "review_scores_location": 4.87,
         "review_scores_value": 4.73,
         "instant_bookable": "f",
         "calculated_host_listings_count": 3,
         "amenities_str": "\"Free washer \\u2013 In building\", \"Hot water\", \"Body soap\", \"Iron\", \"Pool\", \"Shower gel\", \"Conditio…",
         "dist_to_subway": 0.29982396055554833,
         "_deepnote_index_column": 5
        },
        {
         "id": 6872,
         "name": "Uptown Sanctuary w/ Private Bath (Month to Month)",
         "description": "A charming month-to-month home away from home located in Historic Harlem, Uptown Sanctuary is ideal…",
         "neighborhood_overview": "This sweet Harlem sanctuary is a 10-20 minute ride from downtown Manhattan, a 20-25 minute ride fro…",
         "host_since": "2009-05-07",
         "host_response_time": "within a day",
         "host_response_rate": 100,
         "host_acceptance_rate": "nan",
         "host_is_superhost": "f",
         "host_listings_count": 0,
         "host_has_profile_pic": "t",
         "host_identity_verified": "t",
         "neighbourhood": "New York, United States",
         "neighbourhood_cleansed": "East Harlem",
         "neighbourhood_group_cleansed": "Manhattan",
         "latitude": 40.80107,
         "longitude": -73.94255,
         "property_type": "Private room in condominium (condo)",
         "room_type": "Private room",
         "accommodates": 1,
         "bathrooms_text": "1 shared bath",
         "bedrooms": 1,
         "beds": 1,
         "amenities": "[\"Fire extinguisher\", \"Hot water\", \"Carbon monoxide alarm\", \"Luggage dropoff allowed\", \"Smoke alarm…",
         "price": 65,
         "minimum_nights": 30,
         "maximum_nights": 180,
         "has_availability": "t",
         "availability_30": 30,
         "availability_60": 60,
         "availability_90": 90,
         "availability_365": 365,
         "number_of_reviews": 0,
         "number_of_reviews_ltm": 0,
         "number_of_reviews_l30d": 0,
         "review_scores_rating": 0,
         "review_scores_accuracy": 0,
         "review_scores_cleanliness": 0,
         "review_scores_checkin": 0,
         "review_scores_communication": 0,
         "review_scores_location": 0,
         "review_scores_value": 0,
         "instant_bookable": "f",
         "calculated_host_listings_count": 2,
         "amenities_str": "\"Fire extinguisher\", \"Hot water\", \"Carbon monoxide alarm\", \"Luggage dropoff allowed\", \"Smoke alarm\"…",
         "dist_to_subway": 0.28238265815483354,
         "_deepnote_index_column": 6
        },
        {
         "id": 6990,
         "name": "UES Beautiful Blue Room",
         "description": "Beautiful peaceful healthy home   The space  Home is fun healthy.  Your Night’s Sleep: 100% cotton …",
         "neighborhood_overview": "Location: Five minutes to Central Park, Museum Mile (Guggenheim Museum, Metropolitan Museum, Whitne…",
         "host_since": "2009-05-12",
         "host_response_time": "within an hour",
         "host_response_rate": 100,
         "host_acceptance_rate": 100,
         "host_is_superhost": "t",
         "host_listings_count": 3,
         "host_has_profile_pic": "t",
         "host_identity_verified": "t",
         "neighbourhood": "New York, United States",
         "neighbourhood_cleansed": "East Harlem",
         "neighbourhood_group_cleansed": "Manhattan",
         "latitude": 40.78778,
         "longitude": -73.94759,
         "property_type": "Private room in rental unit",
         "room_type": "Private room",
         "accommodates": 1,
         "bathrooms_text": "1 shared bath",
         "bedrooms": 1,
         "beds": 1,
         "amenities": "[\"Fire extinguisher\", \"Hot water\", \"Stove\", \"Carbon monoxide alarm\", \"Coffee maker\", \"Smoke alarm\",…",
         "price": 62,
         "minimum_nights": 30,
         "maximum_nights": 700,
         "has_availability": "t",
         "availability_30": 4,
         "availability_60": 6,
         "availability_90": 35,
         "availability_365": 308,
         "number_of_reviews": 235,
         "number_of_reviews_ltm": 2,
         "number_of_reviews_l30d": 1,
         "review_scores_rating": 4.88,
         "review_scores_accuracy": 4.82,
         "review_scores_cleanliness": 4.96,
         "review_scores_checkin": 4.96,
         "review_scores_communication": 4.95,
         "review_scores_location": 4.84,
         "review_scores_value": 4.84,
         "instant_bookable": "t",
         "calculated_host_listings_count": 1,
         "amenities_str": "\"Fire extinguisher\", \"Hot water\", \"Stove\", \"Carbon monoxide alarm\", \"Coffee maker\", \"Smoke alarm\", …",
         "dist_to_subway": 0.313514464112136,
         "_deepnote_index_column": 7
        },
        {
         "id": 7064,
         "name": "Amazing location! Wburg. Large, bright & tranquil",
         "description": "Large, private loft-like room in a spacious 2-story apt in the heart of Williamsburg, Brooklyn. The…",
         "neighborhood_overview": "- One stop from the East Village, Lower East Side, and an easy ride to other parts of Brooklyn and …",
         "host_since": "2009-05-15",
         "host_response_time": "within a few hours",
         "host_response_rate": 100,
         "host_acceptance_rate": 0,
         "host_is_superhost": "f",
         "host_listings_count": 2,
         "host_has_profile_pic": "t",
         "host_identity_verified": "t",
         "neighbourhood": "Brooklyn, New York, United States",
         "neighbourhood_cleansed": "Williamsburg",
         "neighbourhood_group_cleansed": "Brooklyn",
         "latitude": 40.71248,
         "longitude": -73.95881,
         "property_type": "Private room in loft",
         "room_type": "Private room",
         "accommodates": 1,
         "bathrooms_text": "1 shared bath",
         "bedrooms": 1,
         "beds": 1,
         "amenities": "[\"Iron\", \"Smoke alarm\", \"Air conditioning\", \"Shampoo\", \"Essentials\", \"Hangers\", \"Dedicated workspac…",
         "price": 90,
         "minimum_nights": 27,
         "maximum_nights": 45,
         "has_availability": "t",
         "availability_30": 10,
         "availability_60": 23,
         "availability_90": 29,
         "availability_365": 304,
         "number_of_reviews": 9,
         "number_of_reviews_ltm": 0,
         "number_of_reviews_l30d": 0,
         "review_scores_rating": 4.86,
         "review_scores_accuracy": 5,
         "review_scores_cleanliness": 4.86,
         "review_scores_checkin": 5,
         "review_scores_communication": 5,
         "review_scores_location": 5,
         "review_scores_value": 5,
         "instant_bookable": "f",
         "calculated_host_listings_count": 2,
         "amenities_str": "\"Iron\", \"Smoke alarm\", \"Air conditioning\", \"Shampoo\", \"Essentials\", \"Hangers\", \"Dedicated workspace…",
         "dist_to_subway": 0.46645749799560454,
         "_deepnote_index_column": 8
        },
        {
         "id": 7097,
         "name": "Perfect for Your Parents:  Privacy + Garden",
         "description": "Parents/grandparents coming to town, or are you just here for work or play? You'll love this Victor…",
         "neighborhood_overview": "Residential, village-like atmosphere. Lots of restaurants. They are unfortunately limited to outdoo…",
         "host_since": "2009-05-17",
         "host_response_time": "within an hour",
         "host_response_rate": 100,
         "host_acceptance_rate": 99,
         "host_is_superhost": "t",
         "host_listings_count": 1,
         "host_has_profile_pic": "t",
         "host_identity_verified": "t",
         "neighbourhood": "Brooklyn, New York, United States",
         "neighbourhood_cleansed": "Fort Greene",
         "neighbourhood_group_cleansed": "Brooklyn",
         "latitude": 40.69121,
         "longitude": -73.97277,
         "property_type": "Entire guest suite",
         "room_type": "Entire home/apt",
         "accommodates": 4,
         "bathrooms_text": "1 bath",
         "bedrooms": 1,
         "beds": 2,
         "amenities": "[\"Hot water\", \"Iron\", \"Shower gel\", \"Refrigerator\", \"Private patio or balcony\", \"Single level home\"…",
         "price": 199,
         "minimum_nights": 2,
         "maximum_nights": 1125,
         "has_availability": "t",
         "availability_30": 22,
         "availability_60": 52,
         "availability_90": 78,
         "availability_365": 353,
         "number_of_reviews": 284,
         "number_of_reviews_ltm": 44,
         "number_of_reviews_l30d": 4,
         "review_scores_rating": 4.88,
         "review_scores_accuracy": 4.89,
         "review_scores_cleanliness": 4.9,
         "review_scores_checkin": 4.96,
         "review_scores_communication": 4.92,
         "review_scores_location": 4.93,
         "review_scores_value": 4.79,
         "instant_bookable": "t",
         "calculated_host_listings_count": 2,
         "amenities_str": "\"Hot water\", \"Iron\", \"Shower gel\", \"Refrigerator\", \"Private patio or balcony\", \"Single level home\",…",
         "dist_to_subway": 0.5048302443480678,
         "_deepnote_index_column": 9
        }
       ]
      },
      "text/plain": "             id                                               name  \\\n0          3831  Whole flr w/private bdrm, bath & kitchen(pls r...   \n1          5121                                    BlissArtsSpace!   \n2          5136           Spacious Brooklyn Duplex, Patio + Garden   \n3          5178                   Large Furnished Room Near B'way　   \n4          5203                 Cozy Clean Guest Room - Family Apt   \n...         ...                                                ...   \n33145  54146235      Micro Hostel in The Heart of Chelsea New York   \n33146  54146364   Hermoso apartamento en el centro de williamsburg   \n33147  54148518                   Time Square New York -Share Room   \n33148  54150715  Private PATIO in PRIVATE Room | 5mins to Manha...   \n33149  54161645  Escape to Haven in Manhattan-West 57th Street-...   \n\n                                             description  \\\n0      Enjoy 500 s.f. top floor in 1899 brownstone, w...   \n1       The space  HELLO EVERYONE AND THANKS FOR VISI...   \n2      We welcome you to stay in our lovely 2 br dupl...   \n3      Please don’t expect the luxury here just a bas...   \n4      Our best guests are seeking a safe, clean, spa...   \n...                                                  ...   \n33145  Everything you want to explore is right outsid...   \n33146  Disfruta de la sencillez de este alojamiento t...   \n33147  New York!!! The trendiest city in the world.  ...   \n33148                                            No Data   \n33149  Live your dream in the city that doesn't sleep...   \n\n                                   neighborhood_overview  host_since  \\\n0      Just the right mix of urban center and local n...  2008-12-07   \n1                                                No Data  2009-02-03   \n2                                                No Data  2009-02-03   \n3        Theater district, many restaurants around here.  2009-03-03   \n4      Our neighborhood is full of restaurants and ca...  2009-02-05   \n...                                                  ...         ...   \n33145                                            No Data  2017-10-20   \n33146                                            No Data  2018-12-12   \n33147  The center of Manhattan!  There are many uniqu...  2021-12-16   \n33148                                            No Data  2020-03-05   \n33149                                            No Data  2020-07-10   \n\n       host_response_time  host_response_rate  host_acceptance_rate  \\\n0      a few days or more                 0.0                  64.0   \n1          within an hour               100.0                 100.0   \n2                 No Data                 NaN                  25.0   \n3      within a few hours               100.0                 100.0   \n4                 No Data                 NaN                   NaN   \n...                   ...                 ...                   ...   \n33145        within a day               100.0                 100.0   \n33146  within a few hours               100.0                  72.0   \n33147  within a few hours               100.0                 100.0   \n33148             No Data                 NaN                   NaN   \n33149      within an hour                99.0                  94.0   \n\n      host_is_superhost  host_listings_count  ... review_scores_accuracy  \\\n0                     f                  1.0  ...                   4.58   \n1                     f                  1.0  ...                   4.22   \n2                     f                  1.0  ...                   5.00   \n3                     f                  1.0  ...                   4.21   \n4                     f                  1.0  ...                   4.83   \n...                 ...                  ...  ...                    ...   \n33145                 f                  0.0  ...                   0.00   \n33146                 f                  0.0  ...                   0.00   \n33147                 f                  1.0  ...                   0.00   \n33148                 f                 12.0  ...                   0.00   \n33149                 f                320.0  ...                   0.00   \n\n      review_scores_cleanliness review_scores_checkin  \\\n0                          4.49                  4.78   \n1                          4.09                  4.91   \n2                          5.00                  5.00   \n3                          3.73                  4.66   \n4                          4.82                  4.97   \n...                         ...                   ...   \n33145                      0.00                  0.00   \n33146                      0.00                  0.00   \n33147                      0.00                  0.00   \n33148                      0.00                  0.00   \n33149                      0.00                  0.00   \n\n      review_scores_communication review_scores_location  review_scores_value  \\\n0                            4.80                   4.71                 4.64   \n1                            4.91                   4.47                 4.52   \n2                            5.00                   4.50                 5.00   \n3                            4.42                   4.87                 4.36   \n4                            4.95                   4.94                 4.92   \n...                           ...                    ...                  ...   \n33145                        0.00                   0.00                 0.00   \n33146                        0.00                   0.00                 0.00   \n33147                        0.00                   0.00                 0.00   \n33148                        0.00                   0.00                 0.00   \n33149                        0.00                   0.00                 0.00   \n\n       instant_bookable calculated_host_listings_count  \\\n0                     f                              1   \n1                     f                              2   \n2                     f                              1   \n3                     f                              1   \n4                     f                              1   \n...                 ...                            ...   \n33145                 t                              4   \n33146                 f                              2   \n33147                 t                              2   \n33148                 f                              1   \n33149                 f                              4   \n\n                                           amenities_str  dist_to_subway  \n0      \"Hot water\", \"Iron\", \"Children\\u2019s books an...        0.401337  \n1      \"Heating\", \"Air conditioning\", \"Long term stay...        0.464577  \n2      \"Cable TV\", \"TV with standard cable\", \"Outdoor...        0.337801  \n3      \"Hot water\", \"Body soap\", \"Iron\", \"Lock on bed...        0.211683  \n4      \"Fire extinguisher\", \"Hot water\", \"Carbon mono...        0.058776  \n...                                                  ...             ...  \n33145  \"Wifi\", \"Building staff\", \"Long term stays all...        0.218969  \n33146  \"Hot water\", \"Body soap\", \"Iron\", \"Window AC u...        0.443880  \n33147  \"Hot water\", \"Ceiling fan\", \"Shower gel\", \"Ref...        0.230963  \n33148  \"Fire extinguisher\", \"Hot water\", \"Carbon mono...        0.436309  \n33149  \"Cable TV\", \"Fire extinguisher\", \"Hot water\", ...        0.064068  \n\n[33150 rows x 46 columns]",
      "text/html": "<div>\n<style scoped>\n    .dataframe tbody tr th:only-of-type {\n        vertical-align: middle;\n    }\n\n    .dataframe tbody tr th {\n        vertical-align: top;\n    }\n\n    .dataframe thead th {\n        text-align: right;\n    }\n</style>\n<table border=\"1\" class=\"dataframe\">\n  <thead>\n    <tr style=\"text-align: right;\">\n      <th></th>\n      <th>id</th>\n      <th>name</th>\n      <th>description</th>\n      <th>neighborhood_overview</th>\n      <th>host_since</th>\n      <th>host_response_time</th>\n      <th>host_response_rate</th>\n      <th>host_acceptance_rate</th>\n      <th>host_is_superhost</th>\n      <th>host_listings_count</th>\n      <th>...</th>\n      <th>review_scores_accuracy</th>\n      <th>review_scores_cleanliness</th>\n      <th>review_scores_checkin</th>\n      <th>review_scores_communication</th>\n      <th>review_scores_location</th>\n      <th>review_scores_value</th>\n      <th>instant_bookable</th>\n      <th>calculated_host_listings_count</th>\n      <th>amenities_str</th>\n      <th>dist_to_subway</th>\n    </tr>\n  </thead>\n  <tbody>\n    <tr>\n      <th>0</th>\n      <td>3831</td>\n      <td>Whole flr w/private bdrm, bath &amp; kitchen(pls r...</td>\n      <td>Enjoy 500 s.f. top floor in 1899 brownstone, w...</td>\n      <td>Just the right mix of urban center and local n...</td>\n      <td>2008-12-07</td>\n      <td>a few days or more</td>\n      <td>0.0</td>\n      <td>64.0</td>\n      <td>f</td>\n      <td>1.0</td>\n      <td>...</td>\n      <td>4.58</td>\n      <td>4.49</td>\n      <td>4.78</td>\n      <td>4.80</td>\n      <td>4.71</td>\n      <td>4.64</td>\n      <td>f</td>\n      <td>1</td>\n      <td>\"Hot water\", \"Iron\", \"Children\\u2019s books an...</td>\n      <td>0.401337</td>\n    </tr>\n    <tr>\n      <th>1</th>\n      <td>5121</td>\n      <td>BlissArtsSpace!</td>\n      <td>The space  HELLO EVERYONE AND THANKS FOR VISI...</td>\n      <td>No Data</td>\n      <td>2009-02-03</td>\n      <td>within an hour</td>\n      <td>100.0</td>\n      <td>100.0</td>\n      <td>f</td>\n      <td>1.0</td>\n      <td>...</td>\n      <td>4.22</td>\n      <td>4.09</td>\n      <td>4.91</td>\n      <td>4.91</td>\n      <td>4.47</td>\n      <td>4.52</td>\n      <td>f</td>\n      <td>2</td>\n      <td>\"Heating\", \"Air conditioning\", \"Long term stay...</td>\n      <td>0.464577</td>\n    </tr>\n    <tr>\n      <th>2</th>\n      <td>5136</td>\n      <td>Spacious Brooklyn Duplex, Patio + Garden</td>\n      <td>We welcome you to stay in our lovely 2 br dupl...</td>\n      <td>No Data</td>\n      <td>2009-02-03</td>\n      <td>No Data</td>\n      <td>NaN</td>\n      <td>25.0</td>\n      <td>f</td>\n      <td>1.0</td>\n      <td>...</td>\n      <td>5.00</td>\n      <td>5.00</td>\n      <td>5.00</td>\n      <td>5.00</td>\n      <td>4.50</td>\n      <td>5.00</td>\n      <td>f</td>\n      <td>1</td>\n      <td>\"Cable TV\", \"TV with standard cable\", \"Outdoor...</td>\n      <td>0.337801</td>\n    </tr>\n    <tr>\n      <th>3</th>\n      <td>5178</td>\n      <td>Large Furnished Room Near B'way</td>\n      <td>Please don’t expect the luxury here just a bas...</td>\n      <td>Theater district, many restaurants around here.</td>\n      <td>2009-03-03</td>\n      <td>within a few hours</td>\n      <td>100.0</td>\n      <td>100.0</td>\n      <td>f</td>\n      <td>1.0</td>\n      <td>...</td>\n      <td>4.21</td>\n      <td>3.73</td>\n      <td>4.66</td>\n      <td>4.42</td>\n      <td>4.87</td>\n      <td>4.36</td>\n      <td>f</td>\n      <td>1</td>\n      <td>\"Hot water\", \"Body soap\", \"Iron\", \"Lock on bed...</td>\n      <td>0.211683</td>\n    </tr>\n    <tr>\n      <th>4</th>\n      <td>5203</td>\n      <td>Cozy Clean Guest Room - Family Apt</td>\n      <td>Our best guests are seeking a safe, clean, spa...</td>\n      <td>Our neighborhood is full of restaurants and ca...</td>\n      <td>2009-02-05</td>\n      <td>No Data</td>\n      <td>NaN</td>\n      <td>NaN</td>\n      <td>f</td>\n      <td>1.0</td>\n      <td>...</td>\n      <td>4.83</td>\n      <td>4.82</td>\n      <td>4.97</td>\n      <td>4.95</td>\n      <td>4.94</td>\n      <td>4.92</td>\n      <td>f</td>\n      <td>1</td>\n      <td>\"Fire extinguisher\", \"Hot water\", \"Carbon mono...</td>\n      <td>0.058776</td>\n    </tr>\n    <tr>\n      <th>...</th>\n      <td>...</td>\n      <td>...</td>\n      <td>...</td>\n      <td>...</td>\n      <td>...</td>\n      <td>...</td>\n      <td>...</td>\n      <td>...</td>\n      <td>...</td>\n      <td>...</td>\n      <td>...</td>\n      <td>...</td>\n      <td>...</td>\n      <td>...</td>\n      <td>...</td>\n      <td>...</td>\n      <td>...</td>\n      <td>...</td>\n      <td>...</td>\n      <td>...</td>\n      <td>...</td>\n    </tr>\n    <tr>\n      <th>33145</th>\n      <td>54146235</td>\n      <td>Micro Hostel in The Heart of Chelsea New York</td>\n      <td>Everything you want to explore is right outsid...</td>\n      <td>No Data</td>\n      <td>2017-10-20</td>\n      <td>within a day</td>\n      <td>100.0</td>\n      <td>100.0</td>\n      <td>f</td>\n      <td>0.0</td>\n      <td>...</td>\n      <td>0.00</td>\n      <td>0.00</td>\n      <td>0.00</td>\n      <td>0.00</td>\n      <td>0.00</td>\n      <td>0.00</td>\n      <td>t</td>\n      <td>4</td>\n      <td>\"Wifi\", \"Building staff\", \"Long term stays all...</td>\n      <td>0.218969</td>\n    </tr>\n    <tr>\n      <th>33146</th>\n      <td>54146364</td>\n      <td>Hermoso apartamento en el centro de williamsburg</td>\n      <td>Disfruta de la sencillez de este alojamiento t...</td>\n      <td>No Data</td>\n      <td>2018-12-12</td>\n      <td>within a few hours</td>\n      <td>100.0</td>\n      <td>72.0</td>\n      <td>f</td>\n      <td>0.0</td>\n      <td>...</td>\n      <td>0.00</td>\n      <td>0.00</td>\n      <td>0.00</td>\n      <td>0.00</td>\n      <td>0.00</td>\n      <td>0.00</td>\n      <td>f</td>\n      <td>2</td>\n      <td>\"Hot water\", \"Body soap\", \"Iron\", \"Window AC u...</td>\n      <td>0.443880</td>\n    </tr>\n    <tr>\n      <th>33147</th>\n      <td>54148518</td>\n      <td>Time Square New York -Share Room</td>\n      <td>New York!!! The trendiest city in the world.  ...</td>\n      <td>The center of Manhattan!  There are many uniqu...</td>\n      <td>2021-12-16</td>\n      <td>within a few hours</td>\n      <td>100.0</td>\n      <td>100.0</td>\n      <td>f</td>\n      <td>1.0</td>\n      <td>...</td>\n      <td>0.00</td>\n      <td>0.00</td>\n      <td>0.00</td>\n      <td>0.00</td>\n      <td>0.00</td>\n      <td>0.00</td>\n      <td>t</td>\n      <td>2</td>\n      <td>\"Hot water\", \"Ceiling fan\", \"Shower gel\", \"Ref...</td>\n      <td>0.230963</td>\n    </tr>\n    <tr>\n      <th>33148</th>\n      <td>54150715</td>\n      <td>Private PATIO in PRIVATE Room | 5mins to Manha...</td>\n      <td>No Data</td>\n      <td>No Data</td>\n      <td>2020-03-05</td>\n      <td>No Data</td>\n      <td>NaN</td>\n      <td>NaN</td>\n      <td>f</td>\n      <td>12.0</td>\n      <td>...</td>\n      <td>0.00</td>\n      <td>0.00</td>\n      <td>0.00</td>\n      <td>0.00</td>\n      <td>0.00</td>\n      <td>0.00</td>\n      <td>f</td>\n      <td>1</td>\n      <td>\"Fire extinguisher\", \"Hot water\", \"Carbon mono...</td>\n      <td>0.436309</td>\n    </tr>\n    <tr>\n      <th>33149</th>\n      <td>54161645</td>\n      <td>Escape to Haven in Manhattan-West 57th Street-...</td>\n      <td>Live your dream in the city that doesn't sleep...</td>\n      <td>No Data</td>\n      <td>2020-07-10</td>\n      <td>within an hour</td>\n      <td>99.0</td>\n      <td>94.0</td>\n      <td>f</td>\n      <td>320.0</td>\n      <td>...</td>\n      <td>0.00</td>\n      <td>0.00</td>\n      <td>0.00</td>\n      <td>0.00</td>\n      <td>0.00</td>\n      <td>0.00</td>\n      <td>f</td>\n      <td>4</td>\n      <td>\"Cable TV\", \"Fire extinguisher\", \"Hot water\", ...</td>\n      <td>0.064068</td>\n    </tr>\n  </tbody>\n</table>\n<p>33150 rows × 46 columns</p>\n</div>"
     },
     "metadata": {}
    }
   ]
  },
  {
   "cell_type": "code",
   "metadata": {
    "cell_id": "63d0ec62-dcb1-4c19-b60d-8eeae4e664c7",
    "tags": [],
    "deepnote_to_be_reexecuted": false,
    "source_hash": "cd6991af",
    "execution_start": 1647320202121,
    "execution_millis": 5932,
    "deepnote_cell_type": "code",
    "deepnote_cell_height": 81.15625
   },
   "source": "listings.to_csv('dist_cleaned_listings.csv', index = False)",
   "execution_count": null,
   "outputs": []
  },
  {
   "cell_type": "markdown",
   "source": "<a style='text-decoration:none;line-height:16px;display:flex;color:#5B5B62;padding:10px;justify-content:end;' href='https://deepnote.com?utm_source=created-in-deepnote-cell&projectId=2a92d0af-cecf-4cde-96f5-c3db3a7f88f1' target=\"_blank\">\n<img alt='Created in deepnote.com' style='display:inline;max-height:16px;margin:0px;margin-right:7.5px;' src='data:image/svg+xml;base64,PD94bWwgdmVyc2lvbj0iMS4wIiBlbmNvZGluZz0iVVRGLTgiPz4KPHN2ZyB3aWR0aD0iODBweCIgaGVpZ2h0PSI4MHB4IiB2aWV3Qm94PSIwIDAgODAgODAiIHZlcnNpb249IjEuMSIgeG1sbnM9Imh0dHA6Ly93d3cudzMub3JnLzIwMDAvc3ZnIiB4bWxuczp4bGluaz0iaHR0cDovL3d3dy53My5vcmcvMTk5OS94bGluayI+CiAgICA8IS0tIEdlbmVyYXRvcjogU2tldGNoIDU0LjEgKDc2NDkwKSAtIGh0dHBzOi8vc2tldGNoYXBwLmNvbSAtLT4KICAgIDx0aXRsZT5Hcm91cCAzPC90aXRsZT4KICAgIDxkZXNjPkNyZWF0ZWQgd2l0aCBTa2V0Y2guPC9kZXNjPgogICAgPGcgaWQ9IkxhbmRpbmciIHN0cm9rZT0ibm9uZSIgc3Ryb2tlLXdpZHRoPSIxIiBmaWxsPSJub25lIiBmaWxsLXJ1bGU9ImV2ZW5vZGQiPgogICAgICAgIDxnIGlkPSJBcnRib2FyZCIgdHJhbnNmb3JtPSJ0cmFuc2xhdGUoLTEyMzUuMDAwMDAwLCAtNzkuMDAwMDAwKSI+CiAgICAgICAgICAgIDxnIGlkPSJHcm91cC0zIiB0cmFuc2Zvcm09InRyYW5zbGF0ZSgxMjM1LjAwMDAwMCwgNzkuMDAwMDAwKSI+CiAgICAgICAgICAgICAgICA8cG9seWdvbiBpZD0iUGF0aC0yMCIgZmlsbD0iIzAyNjVCNCIgcG9pbnRzPSIyLjM3NjIzNzYyIDgwIDM4LjA0NzY2NjcgODAgNTcuODIxNzgyMiA3My44MDU3NTkyIDU3LjgyMTc4MjIgMzIuNzU5MjczOSAzOS4xNDAyMjc4IDMxLjY4MzE2ODMiPjwvcG9seWdvbj4KICAgICAgICAgICAgICAgIDxwYXRoIGQ9Ik0zNS4wMDc3MTgsODAgQzQyLjkwNjIwMDcsNzYuNDU0OTM1OCA0Ny41NjQ5MTY3LDcxLjU0MjI2NzEgNDguOTgzODY2LDY1LjI2MTk5MzkgQzUxLjExMjI4OTksNTUuODQxNTg0MiA0MS42NzcxNzk1LDQ5LjIxMjIyODQgMjUuNjIzOTg0Niw0OS4yMTIyMjg0IEMyNS40ODQ5Mjg5LDQ5LjEyNjg0NDggMjkuODI2MTI5Niw0My4yODM4MjQ4IDM4LjY0NzU4NjksMzEuNjgzMTY4MyBMNzIuODcxMjg3MSwzMi41NTQ0MjUgTDY1LjI4MDk3Myw2Ny42NzYzNDIxIEw1MS4xMTIyODk5LDc3LjM3NjE0NCBMMzUuMDA3NzE4LDgwIFoiIGlkPSJQYXRoLTIyIiBmaWxsPSIjMDAyODY4Ij48L3BhdGg+CiAgICAgICAgICAgICAgICA8cGF0aCBkPSJNMCwzNy43MzA0NDA1IEwyNy4xMTQ1MzcsMC4yNTcxMTE0MzYgQzYyLjM3MTUxMjMsLTEuOTkwNzE3MDEgODAsMTAuNTAwMzkyNyA4MCwzNy43MzA0NDA1IEM4MCw2NC45NjA0ODgyIDY0Ljc3NjUwMzgsNzkuMDUwMzQxNCAzNC4zMjk1MTEzLDgwIEM0Ny4wNTUzNDg5LDc3LjU2NzA4MDggNTMuNDE4MjY3Nyw3MC4zMTM2MTAzIDUzLjQxODI2NzcsNTguMjM5NTg4NSBDNTMuNDE4MjY3Nyw0MC4xMjg1NTU3IDM2LjMwMzk1NDQsMzcuNzMwNDQwNSAyNS4yMjc0MTcsMzcuNzMwNDQwNSBDMTcuODQzMDU4NiwzNy43MzA0NDA1IDkuNDMzOTE5NjYsMzcuNzMwNDQwNSAwLDM3LjczMDQ0MDUgWiIgaWQ9IlBhdGgtMTkiIGZpbGw9IiMzNzkzRUYiPjwvcGF0aD4KICAgICAgICAgICAgPC9nPgogICAgICAgIDwvZz4KICAgIDwvZz4KPC9zdmc+' > </img>\nCreated in <span style='font-weight:600;margin-left:4px;'>Deepnote</span></a>",
   "metadata": {
    "tags": [],
    "created_in_deepnote_cell": true,
    "deepnote_cell_type": "markdown"
   }
  }
 ],
 "nbformat": 4,
 "nbformat_minor": 2,
 "metadata": {
  "orig_nbformat": 2,
  "deepnote": {
   "is_reactive": false
  },
  "deepnote_notebook_id": "e511e1a2-c9b8-427a-8e1c-d93b9d31cee9",
  "deepnote_execution_queue": []
 }
}