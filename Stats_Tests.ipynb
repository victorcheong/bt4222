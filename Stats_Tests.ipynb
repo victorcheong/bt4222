{
 "cells": [
  {
   "cell_type": "code",
   "metadata": {
    "cell_id": "37dacc78d9bc4f94b6f4e7d2e04713f0",
    "tags": [],
    "deepnote_to_be_reexecuted": false,
    "source_hash": "f87d221f",
    "execution_start": 1649632228094,
    "execution_millis": 3608,
    "deepnote_cell_type": "code",
    "deepnote_cell_height": 153
   },
   "source": "import pandas as pd\nimport matplotlib.pyplot as plt\nfrom scipy.stats import boxcox, ttest_ind, spearmanr\nimport numpy as np\nfrom nltk.sentiment import SentimentIntensityAnalyzer",
   "execution_count": null,
   "outputs": []
  },
  {
   "cell_type": "markdown",
   "source": "# Welch's Test For Hypo 1",
   "metadata": {
    "cell_id": "ad096d19d7c74afd9ee23f4a15e97d79",
    "tags": [],
    "is_collapsed": false,
    "deepnote_cell_type": "text-cell-h1"
   }
  },
  {
   "cell_type": "code",
   "metadata": {
    "cell_id": "f33d13ca4c814e8fa9a65aa45cf15ccd",
    "tags": [],
    "deepnote_to_be_reexecuted": false,
    "source_hash": "6b348074",
    "execution_start": 1649632242364,
    "execution_millis": 6583,
    "deepnote_cell_type": "code",
    "deepnote_cell_height": 117
   },
   "source": "train = pd.read_csv('combined_train.csv')\nval = pd.read_csv('combined_val.csv')\ntest = pd.read_csv('combined_test.csv')",
   "execution_count": null,
   "outputs": []
  },
  {
   "cell_type": "code",
   "metadata": {
    "cell_id": "a35e655c18574b13b9364aff013d3d1e",
    "tags": [],
    "deepnote_to_be_reexecuted": false,
    "source_hash": "40020b0c",
    "execution_start": 1649344040021,
    "execution_millis": 112,
    "deepnote_cell_type": "code",
    "deepnote_cell_height": 183.859375
   },
   "source": "price = train.price\ntrain_superhost_t = train[train['host_is_superhost'] == 't']\ntrain_superhost_f = train[train['host_is_superhost'] == 'f']\n\nprint(price.shape, train_superhost_t.shape, train_superhost_f.shape)",
   "execution_count": null,
   "outputs": [
    {
     "name": "stdout",
     "text": "(23097,) (4975, 54) (18122, 54)\n",
     "output_type": "stream"
    }
   ]
  },
  {
   "cell_type": "code",
   "metadata": {
    "cell_id": "fc038bd27ad4474c89c0d60f8d6c856f",
    "tags": [],
    "deepnote_to_be_reexecuted": false,
    "source_hash": "cb662f71",
    "execution_start": 1649344042796,
    "execution_millis": 135,
    "deepnote_cell_type": "code",
    "deepnote_cell_height": 99
   },
   "source": "pricet,_= boxcox(train_superhost_t.price)\npricef,_=boxcox(train_superhost_f.price)",
   "execution_count": null,
   "outputs": []
  },
  {
   "cell_type": "code",
   "metadata": {
    "cell_id": "455b2ca02b34493b9ac448600b7674b6",
    "tags": [],
    "deepnote_to_be_reexecuted": false,
    "source_hash": "8cd78145",
    "execution_start": 1649344046304,
    "execution_millis": 10,
    "deepnote_cell_type": "code",
    "deepnote_cell_height": 154.1875,
    "deepnote_output_heights": [
     21.1875
    ]
   },
   "source": "ttest_ind(pricet, pricef, equal_var = False)\n\n#reject, means not equal",
   "execution_count": null,
   "outputs": [
    {
     "output_type": "execute_result",
     "execution_count": 6,
     "data": {
      "text/plain": "Ttest_indResult(statistic=91.61210276917123, pvalue=0.0)"
     },
     "metadata": {}
    }
   ]
  },
  {
   "cell_type": "markdown",
   "source": "# Spearman For Hypo 2",
   "metadata": {
    "cell_id": "c01fd887df6545f6917d0e3ebfedbeaf",
    "tags": [],
    "is_collapsed": false,
    "deepnote_cell_type": "text-cell-h1"
   }
  },
  {
   "cell_type": "code",
   "metadata": {
    "cell_id": "3c9dfa1563764115b2c4e4bb3e70db14",
    "tags": [],
    "deepnote_to_be_reexecuted": false,
    "source_hash": "2f58c99c",
    "execution_start": 1648467880848,
    "execution_millis": 55,
    "deepnote_cell_type": "code",
    "deepnote_cell_height": 182.046875,
    "deepnote_output_heights": [
     null,
     21.1875
    ]
   },
   "source": "import nltk\nnltk.download('vader_lexicon')",
   "execution_count": null,
   "outputs": [
    {
     "name": "stderr",
     "text": "[nltk_data] Downloading package vader_lexicon to /root/nltk_data...\n",
     "output_type": "stream"
    },
    {
     "output_type": "execute_result",
     "execution_count": 4,
     "data": {
      "text/plain": "True"
     },
     "metadata": {}
    }
   ]
  },
  {
   "cell_type": "code",
   "metadata": {
    "cell_id": "e5918aa68fd24f00be78f81109ed0a25",
    "tags": [],
    "deepnote_to_be_reexecuted": false,
    "source_hash": "70d550d4",
    "execution_start": 1648467900327,
    "execution_millis": 576581,
    "deepnote_cell_type": "code",
    "deepnote_cell_height": 117
   },
   "source": "sia = SentimentIntensityAnalyzer()\ntrain['polarity'] = train['combined_text'].apply(lambda x: sia.polarity_scores(x)['compound'])\n#takes arnd 13 mins",
   "execution_count": null,
   "outputs": []
  },
  {
   "cell_type": "code",
   "metadata": {
    "cell_id": "9a3ea7c4b21e4990a60dd454df5c2cfa",
    "tags": [],
    "deepnote_to_be_reexecuted": false,
    "source_hash": "f85fb2ee",
    "execution_start": 1648468476909,
    "execution_millis": 0,
    "deepnote_cell_type": "code",
    "deepnote_cell_height": 99
   },
   "source": "x = train['price'].values\ny = train['polarity'].values",
   "execution_count": null,
   "outputs": []
  },
  {
   "cell_type": "code",
   "metadata": {
    "cell_id": "2c58edda781e44a9962a228279e8b387",
    "tags": [],
    "deepnote_to_be_reexecuted": false,
    "source_hash": "bf4b2d8e",
    "execution_start": 1648468476910,
    "execution_millis": 341,
    "deepnote_cell_type": "code",
    "deepnote_cell_height": 415,
    "deepnote_output_heights": [
     264
    ]
   },
   "source": "plt.scatter(y, x)\nplt.xlabel('Polarity')\nplt.ylabel(\"Price\")\nplt.show()",
   "execution_count": null,
   "outputs": [
    {
     "data": {
      "text/plain": "<Figure size 432x288 with 1 Axes>",
      "image/png": "[encoded data removed]"
     },
     "metadata": {
      "needs_background": "light",
      "image/png": {
       "width": 401,
       "height": 262
      }
     },
     "output_type": "display_data"
    }
   ]
  },
  {
   "cell_type": "code",
   "metadata": {
    "cell_id": "cad2480d0af34117b84c79598c39e5e3",
    "tags": [],
    "deepnote_to_be_reexecuted": false,
    "source_hash": "56c02f8",
    "execution_start": 1648468601032,
    "execution_millis": 454,
    "deepnote_cell_type": "code",
    "deepnote_cell_height": 118.1875,
    "deepnote_output_heights": [
     21.1875
    ]
   },
   "source": "spearmanr(x, y)",
   "execution_count": null,
   "outputs": [
    {
     "output_type": "execute_result",
     "execution_count": 13,
     "data": {
      "text/plain": "SpearmanrResult(correlation=0.05050822868544489, pvalue=1.5837692410500415e-14)"
     },
     "metadata": {}
    }
   ]
  },
  {
   "cell_type": "markdown",
   "source": "# Spearman For Hypo 3",
   "metadata": {
    "cell_id": "b2c53b63af63451db591e91f32d75c59",
    "tags": [],
    "is_collapsed": false,
    "owner_user_id": "1f1d101d-e727-4110-b86f-42f255a8aee3",
    "deepnote_cell_type": "text-cell-h1"
   }
  },
  {
   "cell_type": "code",
   "metadata": {
    "cell_id": "7c59da53e20c4de68412d2dd56ca008c",
    "tags": [],
    "deepnote_to_be_reexecuted": false,
    "source_hash": "3784628b",
    "execution_start": 1649632275334,
    "execution_millis": 56,
    "deepnote_cell_type": "code",
    "deepnote_cell_height": 81
   },
   "source": "sub_train = train[train['review_scores_rating'] > 0]",
   "execution_count": null,
   "outputs": []
  },
  {
   "cell_type": "code",
   "metadata": {
    "cell_id": "6043919dd38441afa114744a76e1f8e8",
    "tags": [],
    "deepnote_to_be_reexecuted": false,
    "source_hash": "c7675c39",
    "execution_start": 1649632279868,
    "execution_millis": 3,
    "deepnote_cell_type": "code",
    "deepnote_cell_height": 99
   },
   "source": "x = sub_train['price'].values\ny = sub_train['review_scores_rating'].values",
   "execution_count": null,
   "outputs": []
  },
  {
   "cell_type": "code",
   "metadata": {
    "cell_id": "0b42162d89a946eab9979c9fa70c1684",
    "tags": [],
    "deepnote_to_be_reexecuted": false,
    "source_hash": "cd2117c4",
    "execution_start": 1649632281895,
    "execution_millis": 305,
    "deepnote_cell_type": "code",
    "deepnote_cell_height": 415,
    "deepnote_output_heights": [
     264
    ]
   },
   "source": "plt.scatter(y, x)\nplt.xlabel('Review Scores Rating')\nplt.ylabel(\"Price\")\nplt.show()",
   "execution_count": null,
   "outputs": [
    {
     "data": {
      "text/plain": "<Figure size 432x288 with 1 Axes>",
      "image/png": "[encoded data removed]"
     },
     "metadata": {
      "needs_background": "light",
      "image/png": {
       "width": 401,
       "height": 262
      }
     },
     "output_type": "display_data"
    }
   ]
  },
  {
   "cell_type": "code",
   "metadata": {
    "cell_id": "145c9ea0755c466d86f298c9fd14e3f2",
    "tags": [],
    "deepnote_to_be_reexecuted": false,
    "source_hash": "56c02f8",
    "execution_start": 1649632286939,
    "execution_millis": 142,
    "owner_user_id": "315afcd7-a118-46e5-87f7-a2d98fa8d565",
    "deepnote_cell_type": "code",
    "deepnote_cell_height": 118.1875,
    "deepnote_output_heights": [
     21.1875
    ]
   },
   "source": "spearmanr(x, y)",
   "execution_count": null,
   "outputs": [
    {
     "output_type": "execute_result",
     "execution_count": 6,
     "data": {
      "text/plain": "SpearmanrResult(correlation=0.12636506413992835, pvalue=9.649841274708159e-63)"
     },
     "metadata": {}
    }
   ]
  },
  {
   "cell_type": "markdown",
   "source": "<a style='text-decoration:none;line-height:16px;display:flex;color:#5B5B62;padding:10px;justify-content:end;' href='https://deepnote.com?utm_source=created-in-deepnote-cell&projectId=2a92d0af-cecf-4cde-96f5-c3db3a7f88f1' target=\"_blank\">\n<img alt='Created in deepnote.com' style='display:inline;max-height:16px;margin:0px;margin-right:7.5px;' src='data:image/svg+xml;base64,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' > </img>\nCreated in <span style='font-weight:600;margin-left:4px;'>Deepnote</span></a>",
   "metadata": {
    "tags": [],
    "created_in_deepnote_cell": true,
    "deepnote_cell_type": "markdown"
   }
  }
 ],
 "nbformat": 4,
 "nbformat_minor": 2,
 "metadata": {
  "orig_nbformat": 2,
  "deepnote": {
   "is_reactive": false
  },
  "deepnote_notebook_id": "7951b3d1-f70a-4d1e-89f3-44968754c8f1",
  "deepnote_execution_queue": []
 }
}