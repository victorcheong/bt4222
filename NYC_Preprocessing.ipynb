{
 "cells": [
  {
   "cell_type": "markdown",
   "source": "## Import Libraries",
   "metadata": {
    "cell_id": "f096f130-9146-4719-92e7-a08fcc865110",
    "tags": [],
    "deepnote_cell_type": "markdown",
    "deepnote_cell_height": 70
   }
  },
  {
   "cell_type": "code",
   "metadata": {
    "cell_id": "deaee758-52ed-446a-adbd-cbe7826ffbae",
    "tags": [],
    "deepnote_to_be_reexecuted": false,
    "source_hash": "5fd510d7",
    "execution_start": 1649591972293,
    "execution_millis": 6195,
    "owner_user_id": "1f1d101d-e727-4110-b86f-42f255a8aee3",
    "deepnote_cell_type": "code",
    "deepnote_cell_height": 463.1875
   },
   "source": "import re\nimport string\nimport fasttext\nimport numpy as np\nimport pandas as pd\nfrom datetime import datetime\nfrom langdetect import detect\nimport math\n\nimport nltk\n# nltk.download('stopwords')\nnltk.download('punkt')\nnltk.download('wordnet')\nnltk.download('omw-1.4')\nfrom scipy import sparse",
   "execution_count": null,
   "outputs": [
    {
     "name": "stderr",
     "text": "[nltk_data] Downloading package punkt to /root/nltk_data...\n[nltk_data]   Unzipping tokenizers/punkt.zip.\n[nltk_data] Downloading package wordnet to /root/nltk_data...\n[nltk_data]   Unzipping corpora/wordnet.zip.\n[nltk_data] Downloading package omw-1.4 to /root/nltk_data...\n[nltk_data]   Unzipping corpora/omw-1.4.zip.\n",
     "output_type": "stream"
    }
   ]
  },
  {
   "cell_type": "markdown",
   "source": "## Reviews Data",
   "metadata": {
    "cell_id": "94608640-55d9-4e4a-b161-caea432b0bdb",
    "tags": [],
    "deepnote_cell_type": "markdown",
    "deepnote_cell_height": 70
   }
  },
  {
   "cell_type": "code",
   "metadata": {
    "cell_id": "0edaa4f7-57ae-4aef-89d2-43b645917f95",
    "tags": [],
    "deepnote_to_be_reexecuted": false,
    "source_hash": "47e05f8c",
    "execution_start": 1647055510485,
    "execution_millis": 6201,
    "deepnote_cell_type": "code",
    "deepnote_cell_height": 618
   },
   "source": "reviews = pd.read_csv('cleaned_reviews.csv', lineterminator='\\n')\nreviews",
   "execution_count": null,
   "outputs": [
    {
     "output_type": "execute_result",
     "execution_count": 2,
     "data": {
      "application/vnd.deepnote.dataframe.v3+json": {
       "column_count": 2,
       "row_count": 908638,
       "columns": [
        {
         "name": "listing_id",
         "dtype": "int64"
        },
        {
         "name": "comments",
         "dtype": "object"
        },
        {
         "name": "_deepnote_index_column",
         "dtype": "int64"
        }
       ],
       "rows": [
        {
         "listing_id": 2595,
         "comments": "Notre séjour de trois nuits.\r Nous avons apprécier L'appartement qui est très bien situé. Agréable,…",
         "_deepnote_index_column": 0
        },
        {
         "listing_id": 2595,
         "comments": "Great experience.",
         "_deepnote_index_column": 1
        },
        {
         "listing_id": 2595,
         "comments": "I've stayed with my friend at the Midtown Castle for six days and it was a lovely place to be. A bi…",
         "_deepnote_index_column": 2
        },
        {
         "listing_id": 2595,
         "comments": "We've been staying here for about 9 nights, enjoying to be in the center of the city, that never sl…",
         "_deepnote_index_column": 3
        },
        {
         "listing_id": 2595,
         "comments": "We had a wonderful stay at Jennifer's charming apartment! They were very organized and helpful; I w…",
         "_deepnote_index_column": 4
        },
        {
         "listing_id": 2595,
         "comments": "Hi to everyone!\r Would say our greatest compliments to Jennifer, the host of Midtown Castle. We spe…",
         "_deepnote_index_column": 5
        },
        {
         "listing_id": 2595,
         "comments": "Jennifer was very friendly and helpful, and her place is exactly as advertised. The location is ver…",
         "_deepnote_index_column": 6
        },
        {
         "listing_id": 2595,
         "comments": "This apartment is like a real castle old and unique. The age- related stains on the bathroom floor …",
         "_deepnote_index_column": 7
        },
        {
         "listing_id": 2595,
         "comments": "Jennifer's place was in a great midtown location, close to the subway, Bryant Park and Times Square…",
         "_deepnote_index_column": 8
        },
        {
         "listing_id": 2595,
         "comments": "Jennifer is a very nice host. Everything is clean and she really takes care of her guests. We can o…",
         "_deepnote_index_column": 9
        }
       ]
      },
      "text/plain": "        listing_id                                           comments\n0             2595  Notre séjour de trois nuits.\\r Nous avons appr...\n1             2595                                  Great experience.\n2             2595  I've stayed with my friend at the Midtown Cast...\n3             2595  We've been staying here for about 9 nights, en...\n4             2595  We had a wonderful stay at Jennifer's charming...\n...            ...                                                ...\n908633    54068505  This accommodation is really spacious and cozy...\n908634    54068618  Trenton is a very polite, supportive and nice ...\n908635    54069262  The place looks nothing like the way it looks ...\n908636    54070458  I will recommend this place to anyone going to...\n908637    54133579  Nice building, super convenient location, the ...\n\n[908638 rows x 2 columns]",
      "text/html": "<div>\n<style scoped>\n    .dataframe tbody tr th:only-of-type {\n        vertical-align: middle;\n    }\n\n    .dataframe tbody tr th {\n        vertical-align: top;\n    }\n\n    .dataframe thead th {\n        text-align: right;\n    }\n</style>\n<table border=\"1\" class=\"dataframe\">\n  <thead>\n    <tr style=\"text-align: right;\">\n      <th></th>\n      <th>listing_id</th>\n      <th>comments</th>\n    </tr>\n  </thead>\n  <tbody>\n    <tr>\n      <th>0</th>\n      <td>2595</td>\n      <td>Notre séjour de trois nuits.\\r Nous avons appr...</td>\n    </tr>\n    <tr>\n      <th>1</th>\n      <td>2595</td>\n      <td>Great experience.</td>\n    </tr>\n    <tr>\n      <th>2</th>\n      <td>2595</td>\n      <td>I've stayed with my friend at the Midtown Cast...</td>\n    </tr>\n    <tr>\n      <th>3</th>\n      <td>2595</td>\n      <td>We've been staying here for about 9 nights, en...</td>\n    </tr>\n    <tr>\n      <th>4</th>\n      <td>2595</td>\n      <td>We had a wonderful stay at Jennifer's charming...</td>\n    </tr>\n    <tr>\n      <th>...</th>\n      <td>...</td>\n      <td>...</td>\n    </tr>\n    <tr>\n      <th>908633</th>\n      <td>54068505</td>\n      <td>This accommodation is really spacious and cozy...</td>\n    </tr>\n    <tr>\n      <th>908634</th>\n      <td>54068618</td>\n      <td>Trenton is a very polite, supportive and nice ...</td>\n    </tr>\n    <tr>\n      <th>908635</th>\n      <td>54069262</td>\n      <td>The place looks nothing like the way it looks ...</td>\n    </tr>\n    <tr>\n      <th>908636</th>\n      <td>54070458</td>\n      <td>I will recommend this place to anyone going to...</td>\n    </tr>\n    <tr>\n      <th>908637</th>\n      <td>54133579</td>\n      <td>Nice building, super convenient location, the ...</td>\n    </tr>\n  </tbody>\n</table>\n<p>908638 rows × 2 columns</p>\n</div>"
     },
     "metadata": {}
    }
   ]
  },
  {
   "cell_type": "markdown",
   "source": "## Listings Data",
   "metadata": {
    "cell_id": "90b75cd7-ebb2-47ef-86cf-1bdd6d367246",
    "tags": [],
    "deepnote_cell_type": "markdown",
    "deepnote_cell_height": 70
   }
  },
  {
   "cell_type": "code",
   "metadata": {
    "cell_id": "ffed6e0b-f0ec-4b82-94fa-9a410f278166",
    "tags": [],
    "deepnote_to_be_reexecuted": false,
    "source_hash": "7ee43949",
    "execution_start": 1647055519768,
    "execution_millis": 1525,
    "deepnote_cell_type": "code",
    "deepnote_cell_height": 634.65625
   },
   "source": "listings = pd.read_csv('dist_cleaned_listings.csv')\nlistings",
   "execution_count": null,
   "outputs": [
    {
     "output_type": "execute_result",
     "execution_count": 3,
     "data": {
      "application/vnd.deepnote.dataframe.v3+json": {
       "column_count": 49,
       "row_count": 32996,
       "columns": [
        {
         "name": "id",
         "dtype": "int64",
         "stats": {
          "unique_count": 32996,
          "nan_count": 0,
          "min": "3831",
          "max": "54161645",
          "histogram": [
           {
            "bin_start": 3831,
            "bin_end": 5419612.4,
            "count": 3714
           },
           {
            "bin_start": 5419612.4,
            "bin_end": 10835393.8,
            "count": 3443
           },
           {
            "bin_start": 10835393.8,
            "bin_end": 16251175.200000001,
            "count": 2631
           },
           {
            "bin_start": 16251175.200000001,
            "bin_end": 21666956.6,
            "count": 2725
           },
           {
            "bin_start": 21666956.6,
            "bin_end": 27082738,
            "count": 2365
           },
           {
            "bin_start": 27082738,
            "bin_end": 32498519.400000002,
            "count": 2404
           },
           {
            "bin_start": 32498519.400000002,
            "bin_end": 37914300.800000004,
            "count": 2352
           },
           {
            "bin_start": 37914300.800000004,
            "bin_end": 43330082.2,
            "count": 3067
           },
           {
            "bin_start": 43330082.2,
            "bin_end": 48745863.6,
            "count": 3404
           },
           {
            "bin_start": 48745863.6,
            "bin_end": 54161645,
            "count": 6891
           }
          ]
         }
        },
        {
         "name": "name",
         "dtype": "object",
         "stats": {
          "unique_count": 31897,
          "nan_count": 0,
          "categories": [
           {
            "name": "Water View King Bed Hotel Room",
            "count": 30
           },
           {
            "name": "Cozy room@Queens! Same area W/Target,Costco, IKEA",
            "count": 29
           },
           {
            "name": "31895 others",
            "count": 32937
           }
          ]
         }
        },
        {
         "name": "description",
         "dtype": "object",
         "stats": {
          "unique_count": 29710,
          "nan_count": 0,
          "categories": [
           {
            "name": "No Data",
            "count": 862
           },
           {
            "name": "Welcome to UNTITLED (Adj.) at 3 Freeman Alley!  Charming Studio's located in the heart of Lower East Side of Manhattan.  Building entrance located off a historic alley way that has many street art from street artists all around the world.  This location is the best place to relax and unwind after exploring and venturing out in the city.  @freemanalley3untitled   The space  Cozy studio that has been newly renovated and smartly furnished including a queen size bed.  Studio is equipped with all necessary amenities needed, shampoo/soap, conditioner, towels, linens, basic tableware, coffee, AC, heat, Bluetooth speaker, Smart TV for Android devices.  * Additional housekeeping service and for replenishing is available for scheduling and for a fee.  * We are doing light renovations throughout the building (Expect minor to no noise resulting from these renovations), please excuse our appearance. <br /",
            "count": 58
           },
           {
            "name": "29708 others",
            "count": 32076
           }
          ]
         }
        },
        {
         "name": "neighborhood_overview",
         "dtype": "object"
        },
        {
         "name": "host_since",
         "dtype": "object"
        },
        {
         "name": "host_response_time",
         "dtype": "object"
        },
        {
         "name": "host_response_rate",
         "dtype": "float64"
        },
        {
         "name": "host_acceptance_rate",
         "dtype": "float64"
        },
        {
         "name": "host_is_superhost",
         "dtype": "object"
        },
        {
         "name": "host_listings_count",
         "dtype": "float64"
        },
        {
         "name": "host_has_profile_pic",
         "dtype": "object"
        },
        {
         "name": "host_identity_verified",
         "dtype": "object"
        },
        {
         "name": "neighbourhood",
         "dtype": "object"
        },
        {
         "name": "neighbourhood_cleansed",
         "dtype": "object"
        },
        {
         "name": "neighbourhood_group_cleansed",
         "dtype": "object"
        },
        {
         "name": "latitude",
         "dtype": "float64"
        },
        {
         "name": "longitude",
         "dtype": "float64"
        },
        {
         "name": "property_type",
         "dtype": "object"
        },
        {
         "name": "room_type",
         "dtype": "object"
        },
        {
         "name": "accommodates",
         "dtype": "int64"
        },
        {
         "name": "bathrooms_text",
         "dtype": "object"
        },
        {
         "name": "bedrooms",
         "dtype": "int64"
        },
        {
         "name": "beds",
         "dtype": "int64"
        },
        {
         "name": "amenities",
         "dtype": "object"
        },
        {
         "name": "price",
         "dtype": "float64"
        },
        {
         "name": "minimum_nights",
         "dtype": "int64"
        },
        {
         "name": "maximum_nights",
         "dtype": "int64"
        },
        {
         "name": "has_availability",
         "dtype": "object"
        },
        {
         "name": "availability_30",
         "dtype": "int64"
        },
        {
         "name": "availability_60",
         "dtype": "int64"
        },
        {
         "name": "availability_90",
         "dtype": "int64"
        },
        {
         "name": "availability_365",
         "dtype": "int64"
        },
        {
         "name": "number_of_reviews",
         "dtype": "int64"
        },
        {
         "name": "number_of_reviews_ltm",
         "dtype": "int64"
        },
        {
         "name": "number_of_reviews_l30d",
         "dtype": "int64"
        },
        {
         "name": "review_scores_rating",
         "dtype": "float64"
        },
        {
         "name": "review_scores_accuracy",
         "dtype": "float64"
        },
        {
         "name": "review_scores_cleanliness",
         "dtype": "float64"
        },
        {
         "name": "review_scores_checkin",
         "dtype": "float64"
        },
        {
         "name": "review_scores_communication",
         "dtype": "float64"
        },
        {
         "name": "review_scores_location",
         "dtype": "float64"
        },
        {
         "name": "review_scores_value",
         "dtype": "float64"
        },
        {
         "name": "instant_bookable",
         "dtype": "object"
        },
        {
         "name": "calculated_host_listings_count",
         "dtype": "int64"
        },
        {
         "name": "amenities_str",
         "dtype": "object"
        },
        {
         "name": "name_lang",
         "dtype": "object"
        },
        {
         "name": "description_lang",
         "dtype": "object"
        },
        {
         "name": "host_months",
         "dtype": "int64"
        },
        {
         "name": "dist_to_subway",
         "dtype": "float64"
        },
        {
         "name": "_deepnote_index_column",
         "dtype": "int64"
        }
       ],
       "rows": [
        {
         "id": 3831,
         "name": "Whole flr w/private bdrm, bath & kitchen(pls read)",
         "description": "Enjoy 500 s.f. top floor in 1899 brownstone, w/ wood & ceramic flooring throughout, roomy bdrm, & u…",
         "neighborhood_overview": "Just the right mix of urban center and local neighborhood; close to all but enough quiet for a calm…",
         "host_since": "2008-12-07",
         "host_response_time": "a few days or more",
         "host_response_rate": 0,
         "host_acceptance_rate": 64,
         "host_is_superhost": "f",
         "host_listings_count": 1,
         "host_has_profile_pic": "t",
         "host_identity_verified": "t",
         "neighbourhood": "Brooklyn, New York, United States",
         "neighbourhood_cleansed": "Bedford-Stuyvesant",
         "neighbourhood_group_cleansed": "Brooklyn",
         "latitude": 40.68494,
         "longitude": -73.95765,
         "property_type": "Entire guest suite",
         "room_type": "Entire home/apt",
         "accommodates": 3,
         "bathrooms_text": "1 bath",
         "bedrooms": 1,
         "beds": 3,
         "amenities": "[\"Hot water\", \"Iron\", \"Children\\u2019s books and toys\", \"Refrigerator\", \"Kitchen\", \"Cable TV\", \"Fir…",
         "price": 73,
         "minimum_nights": 1,
         "maximum_nights": 730,
         "has_availability": "t",
         "availability_30": 3,
         "availability_60": 15,
         "availability_90": 26,
         "availability_365": 214,
         "number_of_reviews": 409,
         "number_of_reviews_ltm": 26,
         "number_of_reviews_l30d": 0,
         "review_scores_rating": 4.45,
         "review_scores_accuracy": 4.58,
         "review_scores_cleanliness": 4.49,
         "review_scores_checkin": 4.78,
         "review_scores_communication": 4.8,
         "review_scores_location": 4.71,
         "review_scores_value": 4.64,
         "instant_bookable": "f",
         "calculated_host_listings_count": 1,
         "amenities_str": "\"Hot water\", \"Iron\", \"Children\\u2019s books and toys\", \"Refrigerator\", \"Kitchen\", \"Cable TV\", \"Fire…",
         "name_lang": "en",
         "description_lang": "en",
         "host_months": 157,
         "dist_to_subway": 0.4013367708798816,
         "_deepnote_index_column": 0
        },
        {
         "id": 5121,
         "name": "BlissArtsSpace!",
         "description": " The space  HELLO EVERYONE AND THANKS FOR VISITING BLISS ART SPACE!   Thank you all for your suppor…",
         "neighborhood_overview": "No Data",
         "host_since": "2009-02-03",
         "host_response_time": "within an hour",
         "host_response_rate": 100,
         "host_acceptance_rate": 100,
         "host_is_superhost": "f",
         "host_listings_count": 1,
         "host_has_profile_pic": "t",
         "host_identity_verified": "t",
         "neighbourhood": "No Data",
         "neighbourhood_cleansed": "Bedford-Stuyvesant",
         "neighbourhood_group_cleansed": "Brooklyn",
         "latitude": 40.68535,
         "longitude": -73.95512,
         "property_type": "Private room in rental unit",
         "room_type": "Private room",
         "accommodates": 2,
         "bathrooms_text": "No Data",
         "bedrooms": 1,
         "beds": 1,
         "amenities": "[\"Heating\", \"Air conditioning\", \"Long term stays allowed\", \"Wifi\", \"Kitchen\"]",
         "price": 60,
         "minimum_nights": 30,
         "maximum_nights": 730,
         "has_availability": "t",
         "availability_30": 30,
         "availability_60": 60,
         "availability_90": 90,
         "availability_365": 365,
         "number_of_reviews": 50,
         "number_of_reviews_ltm": 0,
         "number_of_reviews_l30d": 0,
         "review_scores_rating": 4.52,
         "review_scores_accuracy": 4.22,
         "review_scores_cleanliness": 4.09,
         "review_scores_checkin": 4.91,
         "review_scores_communication": 4.91,
         "review_scores_location": 4.47,
         "review_scores_value": 4.52,
         "instant_bookable": "f",
         "calculated_host_listings_count": 2,
         "amenities_str": "\"Heating\", \"Air conditioning\", \"Long term stays allowed\", \"Wifi\", \"Kitchen\"",
         "name_lang": "en",
         "description_lang": "en",
         "host_months": 155,
         "dist_to_subway": 0.4645774623364079,
         "_deepnote_index_column": 1
        },
        {
         "id": 5136,
         "name": "Spacious Brooklyn Duplex, Patio + Garden",
         "description": "We welcome you to stay in our lovely 2 br duplex in South Slope, Brooklyn.  Our home is a truly spa…",
         "neighborhood_overview": "No Data",
         "host_since": "2009-02-03",
         "host_response_time": "No Data",
         "host_response_rate": "nan",
         "host_acceptance_rate": 25,
         "host_is_superhost": "f",
         "host_listings_count": 1,
         "host_has_profile_pic": "t",
         "host_identity_verified": "t",
         "neighbourhood": "No Data",
         "neighbourhood_cleansed": "Sunset Park",
         "neighbourhood_group_cleansed": "Brooklyn",
         "latitude": 40.66265,
         "longitude": -73.99454,
         "property_type": "Entire rental unit",
         "room_type": "Entire home/apt",
         "accommodates": 4,
         "bathrooms_text": "1.5 baths",
         "bedrooms": 2,
         "beds": 2,
         "amenities": "[\"Cable TV\", \"TV with standard cable\", \"Outdoor furniture\", \"Carbon monoxide alarm\", \"Smoke alarm\",…",
         "price": 275,
         "minimum_nights": 5,
         "maximum_nights": 1125,
         "has_availability": "t",
         "availability_30": 0,
         "availability_60": 9,
         "availability_90": 9,
         "availability_365": 152,
         "number_of_reviews": 2,
         "number_of_reviews_ltm": 1,
         "number_of_reviews_l30d": 0,
         "review_scores_rating": 5,
         "review_scores_accuracy": 5,
         "review_scores_cleanliness": 5,
         "review_scores_checkin": 5,
         "review_scores_communication": 5,
         "review_scores_location": 4.5,
         "review_scores_value": 5,
         "instant_bookable": "f",
         "calculated_host_listings_count": 1,
         "amenities_str": "\"Cable TV\", \"TV with standard cable\", \"Outdoor furniture\", \"Carbon monoxide alarm\", \"Smoke alarm\", …",
         "name_lang": "en",
         "description_lang": "en",
         "host_months": 155,
         "dist_to_subway": 0.3378012480192298,
         "_deepnote_index_column": 2
        },
        {
         "id": 5178,
         "name": "Large Furnished Room Near B'way　",
         "description": "Please don’t expect the luxury here just a basic room in the center of Manhattan.   The space  You …",
         "neighborhood_overview": "Theater district, many restaurants around here.",
         "host_since": "2009-03-03",
         "host_response_time": "within a few hours",
         "host_response_rate": 100,
         "host_acceptance_rate": 100,
         "host_is_superhost": "f",
         "host_listings_count": 1,
         "host_has_profile_pic": "t",
         "host_identity_verified": "f",
         "neighbourhood": "New York, United States",
         "neighbourhood_cleansed": "Midtown",
         "neighbourhood_group_cleansed": "Manhattan",
         "latitude": 40.76457,
         "longitude": -73.98317,
         "property_type": "Private room in rental unit",
         "room_type": "Private room",
         "accommodates": 2,
         "bathrooms_text": "1 bath",
         "bedrooms": 1,
         "beds": 1,
         "amenities": "[\"Hot water\", \"Body soap\", \"Iron\", \"Lock on bedroom door\", \"Refrigerator\", \"Conditioner\", \"Laundrom…",
         "price": 68,
         "minimum_nights": 2,
         "maximum_nights": 14,
         "has_availability": "t",
         "availability_30": 9,
         "availability_60": 24,
         "availability_90": 34,
         "availability_365": 198,
         "number_of_reviews": 514,
         "number_of_reviews_ltm": 40,
         "number_of_reviews_l30d": 4,
         "review_scores_rating": 4.22,
         "review_scores_accuracy": 4.21,
         "review_scores_cleanliness": 3.73,
         "review_scores_checkin": 4.66,
         "review_scores_communication": 4.42,
         "review_scores_location": 4.87,
         "review_scores_value": 4.36,
         "instant_bookable": "f",
         "calculated_host_listings_count": 1,
         "amenities_str": "\"Hot water\", \"Body soap\", \"Iron\", \"Lock on bedroom door\", \"Refrigerator\", \"Conditioner\", \"Laundroma…",
         "name_lang": "ja",
         "description_lang": "en",
         "host_months": 155,
         "dist_to_subway": 0.2116828451243103,
         "_deepnote_index_column": 3
        },
        {
         "id": 5203,
         "name": "Cozy Clean Guest Room - Family Apt",
         "description": "Our best guests are seeking a safe, clean, spare room in a family apartment.  They are comfortable …",
         "neighborhood_overview": "Our neighborhood is full of restaurants and cafes.  There is plenty to do.",
         "host_since": "2009-02-05",
         "host_response_time": "No Data",
         "host_response_rate": "nan",
         "host_acceptance_rate": "nan",
         "host_is_superhost": "f",
         "host_listings_count": 1,
         "host_has_profile_pic": "t",
         "host_identity_verified": "t",
         "neighbourhood": "New York, United States",
         "neighbourhood_cleansed": "Upper West Side",
         "neighbourhood_group_cleansed": "Manhattan",
         "latitude": 40.8038,
         "longitude": -73.96751,
         "property_type": "Private room in rental unit",
         "room_type": "Private room",
         "accommodates": 1,
         "bathrooms_text": "1 shared bath",
         "bedrooms": 1,
         "beds": 1,
         "amenities": "[\"Fire extinguisher\", \"Hot water\", \"Carbon monoxide alarm\", \"Smoke alarm\", \"Elevator\", \"Free street…",
         "price": 75,
         "minimum_nights": 2,
         "maximum_nights": 14,
         "has_availability": "t",
         "availability_30": 0,
         "availability_60": 0,
         "availability_90": 0,
         "availability_365": 0,
         "number_of_reviews": 118,
         "number_of_reviews_ltm": 0,
         "number_of_reviews_l30d": 0,
         "review_scores_rating": 4.91,
         "review_scores_accuracy": 4.83,
         "review_scores_cleanliness": 4.82,
         "review_scores_checkin": 4.97,
         "review_scores_communication": 4.95,
         "review_scores_location": 4.94,
         "review_scores_value": 4.92,
         "instant_bookable": "f",
         "calculated_host_listings_count": 1,
         "amenities_str": "\"Fire extinguisher\", \"Hot water\", \"Carbon monoxide alarm\", \"Smoke alarm\", \"Elevator\", \"Free street …",
         "name_lang": "en",
         "description_lang": "en",
         "host_months": 155,
         "dist_to_subway": 0.0587757114041119,
         "_deepnote_index_column": 4
        },
        {
         "id": 5803,
         "name": "Lovely Room 1 in BEST AREA; Legal Rental, Spotless",
         "description": "Beautiful house, gorgeous garden, large patio, cozy room,  helpful host!    Super safe and quiet in…",
         "neighborhood_overview": "Neighborhood is amazing! Best subways to Manhattan, Williamsburg, Lower East Side (20 mins); *  Exc…",
         "host_since": "2009-03-10",
         "host_response_time": "within a few hours",
         "host_response_rate": 100,
         "host_acceptance_rate": 100,
         "host_is_superhost": "t",
         "host_listings_count": 3,
         "host_has_profile_pic": "t",
         "host_identity_verified": "t",
         "neighbourhood": "Brooklyn, New York, United States",
         "neighbourhood_cleansed": "South Slope",
         "neighbourhood_group_cleansed": "Brooklyn",
         "latitude": 40.66801,
         "longitude": -73.98784,
         "property_type": "Private room in townhouse",
         "room_type": "Private room",
         "accommodates": 2,
         "bathrooms_text": "1.5 baths",
         "bedrooms": 1,
         "beds": 1,
         "amenities": "[\"Free washer \\u2013 In building\", \"Hot water\", \"Body soap\", \"Iron\", \"Pool\", \"Shower gel\", \"Conditi…",
         "price": 110,
         "minimum_nights": 4,
         "maximum_nights": 21,
         "has_availability": "t",
         "availability_30": 19,
         "availability_60": 49,
         "availability_90": 79,
         "availability_365": 354,
         "number_of_reviews": 205,
         "number_of_reviews_ltm": 24,
         "number_of_reviews_l30d": 1,
         "review_scores_rating": 4.7,
         "review_scores_accuracy": 4.7,
         "review_scores_cleanliness": 4.61,
         "review_scores_checkin": 4.79,
         "review_scores_communication": 4.82,
         "review_scores_location": 4.87,
         "review_scores_value": 4.73,
         "instant_bookable": "f",
         "calculated_host_listings_count": 3,
         "amenities_str": "\"Free washer \\u2013 In building\", \"Hot water\", \"Body soap\", \"Iron\", \"Pool\", \"Shower gel\", \"Conditio…",
         "name_lang": "en",
         "description_lang": "en",
         "host_months": 154,
         "dist_to_subway": 0.2998239605555483,
         "_deepnote_index_column": 5
        },
        {
         "id": 6872,
         "name": "Uptown Sanctuary w/ Private Bath (Month to Month)",
         "description": "A charming month-to-month home away from home located in Historic Harlem, Uptown Sanctuary is ideal…",
         "neighborhood_overview": "This sweet Harlem sanctuary is a 10-20 minute ride from downtown Manhattan, a 20-25 minute ride fro…",
         "host_since": "2009-05-07",
         "host_response_time": "within a day",
         "host_response_rate": 100,
         "host_acceptance_rate": "nan",
         "host_is_superhost": "f",
         "host_listings_count": 0,
         "host_has_profile_pic": "t",
         "host_identity_verified": "t",
         "neighbourhood": "New York, United States",
         "neighbourhood_cleansed": "East Harlem",
         "neighbourhood_group_cleansed": "Manhattan",
         "latitude": 40.80107,
         "longitude": -73.94255,
         "property_type": "Private room in condominium (condo)",
         "room_type": "Private room",
         "accommodates": 1,
         "bathrooms_text": "1 shared bath",
         "bedrooms": 1,
         "beds": 1,
         "amenities": "[\"Fire extinguisher\", \"Hot water\", \"Carbon monoxide alarm\", \"Luggage dropoff allowed\", \"Smoke alarm…",
         "price": 65,
         "minimum_nights": 30,
         "maximum_nights": 180,
         "has_availability": "t",
         "availability_30": 30,
         "availability_60": 60,
         "availability_90": 90,
         "availability_365": 365,
         "number_of_reviews": 0,
         "number_of_reviews_ltm": 0,
         "number_of_reviews_l30d": 0,
         "review_scores_rating": 0,
         "review_scores_accuracy": 0,
         "review_scores_cleanliness": 0,
         "review_scores_checkin": 0,
         "review_scores_communication": 0,
         "review_scores_location": 0,
         "review_scores_value": 0,
         "instant_bookable": "f",
         "calculated_host_listings_count": 2,
         "amenities_str": "\"Fire extinguisher\", \"Hot water\", \"Carbon monoxide alarm\", \"Luggage dropoff allowed\", \"Smoke alarm\"…",
         "name_lang": "en",
         "description_lang": "en",
         "host_months": 152,
         "dist_to_subway": 0.2823826581548335,
         "_deepnote_index_column": 6
        },
        {
         "id": 6990,
         "name": "UES Beautiful Blue Room",
         "description": "Beautiful peaceful healthy home   The space  Home is fun healthy.  Your Night’s Sleep: 100% cotton …",
         "neighborhood_overview": "Location: Five minutes to Central Park, Museum Mile (Guggenheim Museum, Metropolitan Museum, Whitne…",
         "host_since": "2009-05-12",
         "host_response_time": "within an hour",
         "host_response_rate": 100,
         "host_acceptance_rate": 100,
         "host_is_superhost": "t",
         "host_listings_count": 3,
         "host_has_profile_pic": "t",
         "host_identity_verified": "t",
         "neighbourhood": "New York, United States",
         "neighbourhood_cleansed": "East Harlem",
         "neighbourhood_group_cleansed": "Manhattan",
         "latitude": 40.78778,
         "longitude": -73.94759,
         "property_type": "Private room in rental unit",
         "room_type": "Private room",
         "accommodates": 1,
         "bathrooms_text": "1 shared bath",
         "bedrooms": 1,
         "beds": 1,
         "amenities": "[\"Fire extinguisher\", \"Hot water\", \"Stove\", \"Carbon monoxide alarm\", \"Coffee maker\", \"Smoke alarm\",…",
         "price": 62,
         "minimum_nights": 30,
         "maximum_nights": 700,
         "has_availability": "t",
         "availability_30": 4,
         "availability_60": 6,
         "availability_90": 35,
         "availability_365": 308,
         "number_of_reviews": 235,
         "number_of_reviews_ltm": 2,
         "number_of_reviews_l30d": 1,
         "review_scores_rating": 4.88,
         "review_scores_accuracy": 4.82,
         "review_scores_cleanliness": 4.96,
         "review_scores_checkin": 4.96,
         "review_scores_communication": 4.95,
         "review_scores_location": 4.84,
         "review_scores_value": 4.84,
         "instant_bookable": "t",
         "calculated_host_listings_count": 1,
         "amenities_str": "\"Fire extinguisher\", \"Hot water\", \"Stove\", \"Carbon monoxide alarm\", \"Coffee maker\", \"Smoke alarm\", …",
         "name_lang": "en",
         "description_lang": "en",
         "host_months": 152,
         "dist_to_subway": 0.313514464112136,
         "_deepnote_index_column": 7
        },
        {
         "id": 7064,
         "name": "Amazing location! Wburg. Large, bright & tranquil",
         "description": "Large, private loft-like room in a spacious 2-story apt in the heart of Williamsburg, Brooklyn. The…",
         "neighborhood_overview": "- One stop from the East Village, Lower East Side, and an easy ride to other parts of Brooklyn and …",
         "host_since": "2009-05-15",
         "host_response_time": "within a few hours",
         "host_response_rate": 100,
         "host_acceptance_rate": 0,
         "host_is_superhost": "f",
         "host_listings_count": 2,
         "host_has_profile_pic": "t",
         "host_identity_verified": "t",
         "neighbourhood": "Brooklyn, New York, United States",
         "neighbourhood_cleansed": "Williamsburg",
         "neighbourhood_group_cleansed": "Brooklyn",
         "latitude": 40.71248,
         "longitude": -73.95881,
         "property_type": "Private room in loft",
         "room_type": "Private room",
         "accommodates": 1,
         "bathrooms_text": "1 shared bath",
         "bedrooms": 1,
         "beds": 1,
         "amenities": "[\"Iron\", \"Smoke alarm\", \"Air conditioning\", \"Shampoo\", \"Essentials\", \"Hangers\", \"Dedicated workspac…",
         "price": 90,
         "minimum_nights": 27,
         "maximum_nights": 45,
         "has_availability": "t",
         "availability_30": 10,
         "availability_60": 23,
         "availability_90": 29,
         "availability_365": 304,
         "number_of_reviews": 9,
         "number_of_reviews_ltm": 0,
         "number_of_reviews_l30d": 0,
         "review_scores_rating": 4.86,
         "review_scores_accuracy": 5,
         "review_scores_cleanliness": 4.86,
         "review_scores_checkin": 5,
         "review_scores_communication": 5,
         "review_scores_location": 5,
         "review_scores_value": 5,
         "instant_bookable": "f",
         "calculated_host_listings_count": 2,
         "amenities_str": "\"Iron\", \"Smoke alarm\", \"Air conditioning\", \"Shampoo\", \"Essentials\", \"Hangers\", \"Dedicated workspace…",
         "name_lang": "en",
         "description_lang": "en",
         "host_months": 152,
         "dist_to_subway": 0.4664574979956045,
         "_deepnote_index_column": 8
        },
        {
         "id": 7097,
         "name": "Perfect for Your Parents:  Privacy + Garden",
         "description": "Parents/grandparents coming to town, or are you just here for work or play? You'll love this Victor…",
         "neighborhood_overview": "Residential, village-like atmosphere. Lots of restaurants. They are unfortunately limited to outdoo…",
         "host_since": "2009-05-17",
         "host_response_time": "within an hour",
         "host_response_rate": 100,
         "host_acceptance_rate": 99,
         "host_is_superhost": "t",
         "host_listings_count": 1,
         "host_has_profile_pic": "t",
         "host_identity_verified": "t",
         "neighbourhood": "Brooklyn, New York, United States",
         "neighbourhood_cleansed": "Fort Greene",
         "neighbourhood_group_cleansed": "Brooklyn",
         "latitude": 40.69121,
         "longitude": -73.97277,
         "property_type": "Entire guest suite",
         "room_type": "Entire home/apt",
         "accommodates": 4,
         "bathrooms_text": "1 bath",
         "bedrooms": 1,
         "beds": 2,
         "amenities": "[\"Hot water\", \"Iron\", \"Shower gel\", \"Refrigerator\", \"Private patio or balcony\", \"Single level home\"…",
         "price": 199,
         "minimum_nights": 2,
         "maximum_nights": 1125,
         "has_availability": "t",
         "availability_30": 22,
         "availability_60": 52,
         "availability_90": 78,
         "availability_365": 353,
         "number_of_reviews": 284,
         "number_of_reviews_ltm": 44,
         "number_of_reviews_l30d": 4,
         "review_scores_rating": 4.88,
         "review_scores_accuracy": 4.89,
         "review_scores_cleanliness": 4.9,
         "review_scores_checkin": 4.96,
         "review_scores_communication": 4.92,
         "review_scores_location": 4.93,
         "review_scores_value": 4.79,
         "instant_bookable": "t",
         "calculated_host_listings_count": 2,
         "amenities_str": "\"Hot water\", \"Iron\", \"Shower gel\", \"Refrigerator\", \"Private patio or balcony\", \"Single level home\",…",
         "name_lang": "en",
         "description_lang": "en",
         "host_months": 152,
         "dist_to_subway": 0.5048302443480678,
         "_deepnote_index_column": 9
        }
       ]
      },
      "text/plain": "             id                                               name  \\\n0          3831  Whole flr w/private bdrm, bath & kitchen(pls r...   \n1          5121                                    BlissArtsSpace!   \n2          5136           Spacious Brooklyn Duplex, Patio + Garden   \n3          5178                   Large Furnished Room Near B'way　   \n4          5203                 Cozy Clean Guest Room - Family Apt   \n...         ...                                                ...   \n32991  54144941     *NEW* Private Room near Prospect Park Brooklyn   \n32992  54146235      Micro Hostel in The Heart of Chelsea New York   \n32993  54148518                   Time Square New York -Share Room   \n32994  54150715  Private PATIO in PRIVATE Room | 5mins to Manha...   \n32995  54161645  Escape to Haven in Manhattan-West 57th Street-...   \n\n                                             description  \\\n0      Enjoy 500 s.f. top floor in 1899 brownstone, w...   \n1       The space  HELLO EVERYONE AND THANKS FOR VISI...   \n2      We welcome you to stay in our lovely 2 br dupl...   \n3      Please don’t expect the luxury here just a bas...   \n4      Our best guests are seeking a safe, clean, spa...   \n...                                                  ...   \n32991  Take it easy at this unique and tranquil getaw...   \n32992  Everything you want to explore is right outsid...   \n32993  New York!!! The trendiest city in the world.  ...   \n32994                                            No Data   \n32995  Live your dream in the city that doesn't sleep...   \n\n                                   neighborhood_overview  host_since  \\\n0      Just the right mix of urban center and local n...  2008-12-07   \n1                                                No Data  2009-02-03   \n2                                                No Data  2009-02-03   \n3        Theater district, many restaurants around here.  2009-03-03   \n4      Our neighborhood is full of restaurants and ca...  2009-02-05   \n...                                                  ...         ...   \n32991                                            No Data  2021-10-28   \n32992                                            No Data  2017-10-20   \n32993  The center of Manhattan!  There are many uniqu...  2021-12-16   \n32994                                            No Data  2020-03-05   \n32995                                            No Data  2020-07-10   \n\n       host_response_time  host_response_rate  host_acceptance_rate  \\\n0      a few days or more                 0.0                  64.0   \n1          within an hour               100.0                 100.0   \n2                 No Data                 NaN                  25.0   \n3      within a few hours               100.0                 100.0   \n4                 No Data                 NaN                   NaN   \n...                   ...                 ...                   ...   \n32991      within an hour               100.0                 100.0   \n32992        within a day               100.0                 100.0   \n32993  within a few hours               100.0                 100.0   \n32994             No Data                 NaN                   NaN   \n32995      within an hour                99.0                  94.0   \n\n      host_is_superhost  host_listings_count  ... review_scores_communication  \\\n0                     f                  1.0  ...                        4.80   \n1                     f                  1.0  ...                        4.91   \n2                     f                  1.0  ...                        5.00   \n3                     f                  1.0  ...                        4.42   \n4                     f                  1.0  ...                        4.95   \n...                 ...                  ...  ...                         ...   \n32991                 f                 10.0  ...                        0.00   \n32992                 f                  0.0  ...                        0.00   \n32993                 f                  1.0  ...                        0.00   \n32994                 f                 12.0  ...                        0.00   \n32995                 f                320.0  ...                        0.00   \n\n      review_scores_location review_scores_value instant_bookable  \\\n0                       4.71                4.64                f   \n1                       4.47                4.52                f   \n2                       4.50                5.00                f   \n3                       4.87                4.36                f   \n4                       4.94                4.92                f   \n...                      ...                 ...              ...   \n32991                   0.00                0.00                t   \n32992                   0.00                0.00                t   \n32993                   0.00                0.00                t   \n32994                   0.00                0.00                f   \n32995                   0.00                0.00                f   \n\n      calculated_host_listings_count  \\\n0                                  1   \n1                                  2   \n2                                  1   \n3                                  1   \n4                                  1   \n...                              ...   \n32991                             13   \n32992                              4   \n32993                              2   \n32994                              1   \n32995                              4   \n\n                                           amenities_str  name_lang  \\\n0      \"Hot water\", \"Iron\", \"Children\\u2019s books an...         en   \n1      \"Heating\", \"Air conditioning\", \"Long term stay...         en   \n2      \"Cable TV\", \"TV with standard cable\", \"Outdoor...         en   \n3      \"Hot water\", \"Body soap\", \"Iron\", \"Lock on bed...         ja   \n4      \"Fire extinguisher\", \"Hot water\", \"Carbon mono...         en   \n...                                                  ...        ...   \n32991  \"Free parking on premises\", \"Lock on bedroom d...         en   \n32992  \"Wifi\", \"Building staff\", \"Long term stays all...         en   \n32993  \"Hot water\", \"Ceiling fan\", \"Shower gel\", \"Ref...         en   \n32994  \"Fire extinguisher\", \"Hot water\", \"Carbon mono...         en   \n32995  \"Cable TV\", \"Fire extinguisher\", \"Hot water\", ...         en   \n\n      description_lang host_months  dist_to_subway  \n0                   en         157        0.401337  \n1                   en         155        0.464577  \n2                   en         155        0.337801  \n3                   en         155        0.211683  \n4                   en         155        0.058776  \n...                ...         ...             ...  \n32991               en           3        0.857660  \n32992               en          51        0.218969  \n32993               en           1        0.230963  \n32994               en          22        0.436309  \n32995               en          18        0.064068  \n\n[32996 rows x 49 columns]",
      "text/html": "<div>\n<style scoped>\n    .dataframe tbody tr th:only-of-type {\n        vertical-align: middle;\n    }\n\n    .dataframe tbody tr th {\n        vertical-align: top;\n    }\n\n    .dataframe thead th {\n        text-align: right;\n    }\n</style>\n<table border=\"1\" class=\"dataframe\">\n  <thead>\n    <tr style=\"text-align: right;\">\n      <th></th>\n      <th>id</th>\n      <th>name</th>\n      <th>description</th>\n      <th>neighborhood_overview</th>\n      <th>host_since</th>\n      <th>host_response_time</th>\n      <th>host_response_rate</th>\n      <th>host_acceptance_rate</th>\n      <th>host_is_superhost</th>\n      <th>host_listings_count</th>\n      <th>...</th>\n      <th>review_scores_communication</th>\n      <th>review_scores_location</th>\n      <th>review_scores_value</th>\n      <th>instant_bookable</th>\n      <th>calculated_host_listings_count</th>\n      <th>amenities_str</th>\n      <th>name_lang</th>\n      <th>description_lang</th>\n      <th>host_months</th>\n      <th>dist_to_subway</th>\n    </tr>\n  </thead>\n  <tbody>\n    <tr>\n      <th>0</th>\n      <td>3831</td>\n      <td>Whole flr w/private bdrm, bath &amp; kitchen(pls r...</td>\n      <td>Enjoy 500 s.f. top floor in 1899 brownstone, w...</td>\n      <td>Just the right mix of urban center and local n...</td>\n      <td>2008-12-07</td>\n      <td>a few days or more</td>\n      <td>0.0</td>\n      <td>64.0</td>\n      <td>f</td>\n      <td>1.0</td>\n      <td>...</td>\n      <td>4.80</td>\n      <td>4.71</td>\n      <td>4.64</td>\n      <td>f</td>\n      <td>1</td>\n      <td>\"Hot water\", \"Iron\", \"Children\\u2019s books an...</td>\n      <td>en</td>\n      <td>en</td>\n      <td>157</td>\n      <td>0.401337</td>\n    </tr>\n    <tr>\n      <th>1</th>\n      <td>5121</td>\n      <td>BlissArtsSpace!</td>\n      <td>The space  HELLO EVERYONE AND THANKS FOR VISI...</td>\n      <td>No Data</td>\n      <td>2009-02-03</td>\n      <td>within an hour</td>\n      <td>100.0</td>\n      <td>100.0</td>\n      <td>f</td>\n      <td>1.0</td>\n      <td>...</td>\n      <td>4.91</td>\n      <td>4.47</td>\n      <td>4.52</td>\n      <td>f</td>\n      <td>2</td>\n      <td>\"Heating\", \"Air conditioning\", \"Long term stay...</td>\n      <td>en</td>\n      <td>en</td>\n      <td>155</td>\n      <td>0.464577</td>\n    </tr>\n    <tr>\n      <th>2</th>\n      <td>5136</td>\n      <td>Spacious Brooklyn Duplex, Patio + Garden</td>\n      <td>We welcome you to stay in our lovely 2 br dupl...</td>\n      <td>No Data</td>\n      <td>2009-02-03</td>\n      <td>No Data</td>\n      <td>NaN</td>\n      <td>25.0</td>\n      <td>f</td>\n      <td>1.0</td>\n      <td>...</td>\n      <td>5.00</td>\n      <td>4.50</td>\n      <td>5.00</td>\n      <td>f</td>\n      <td>1</td>\n      <td>\"Cable TV\", \"TV with standard cable\", \"Outdoor...</td>\n      <td>en</td>\n      <td>en</td>\n      <td>155</td>\n      <td>0.337801</td>\n    </tr>\n    <tr>\n      <th>3</th>\n      <td>5178</td>\n      <td>Large Furnished Room Near B'way</td>\n      <td>Please don’t expect the luxury here just a bas...</td>\n      <td>Theater district, many restaurants around here.</td>\n      <td>2009-03-03</td>\n      <td>within a few hours</td>\n      <td>100.0</td>\n      <td>100.0</td>\n      <td>f</td>\n      <td>1.0</td>\n      <td>...</td>\n      <td>4.42</td>\n      <td>4.87</td>\n      <td>4.36</td>\n      <td>f</td>\n      <td>1</td>\n      <td>\"Hot water\", \"Body soap\", \"Iron\", \"Lock on bed...</td>\n      <td>ja</td>\n      <td>en</td>\n      <td>155</td>\n      <td>0.211683</td>\n    </tr>\n    <tr>\n      <th>4</th>\n      <td>5203</td>\n      <td>Cozy Clean Guest Room - Family Apt</td>\n      <td>Our best guests are seeking a safe, clean, spa...</td>\n      <td>Our neighborhood is full of restaurants and ca...</td>\n      <td>2009-02-05</td>\n      <td>No Data</td>\n      <td>NaN</td>\n      <td>NaN</td>\n      <td>f</td>\n      <td>1.0</td>\n      <td>...</td>\n      <td>4.95</td>\n      <td>4.94</td>\n      <td>4.92</td>\n      <td>f</td>\n      <td>1</td>\n      <td>\"Fire extinguisher\", \"Hot water\", \"Carbon mono...</td>\n      <td>en</td>\n      <td>en</td>\n      <td>155</td>\n      <td>0.058776</td>\n    </tr>\n    <tr>\n      <th>...</th>\n      <td>...</td>\n      <td>...</td>\n      <td>...</td>\n      <td>...</td>\n      <td>...</td>\n      <td>...</td>\n      <td>...</td>\n      <td>...</td>\n      <td>...</td>\n      <td>...</td>\n      <td>...</td>\n      <td>...</td>\n      <td>...</td>\n      <td>...</td>\n      <td>...</td>\n      <td>...</td>\n      <td>...</td>\n      <td>...</td>\n      <td>...</td>\n      <td>...</td>\n      <td>...</td>\n    </tr>\n    <tr>\n      <th>32991</th>\n      <td>54144941</td>\n      <td>*NEW* Private Room near Prospect Park Brooklyn</td>\n      <td>Take it easy at this unique and tranquil getaw...</td>\n      <td>No Data</td>\n      <td>2021-10-28</td>\n      <td>within an hour</td>\n      <td>100.0</td>\n      <td>100.0</td>\n      <td>f</td>\n      <td>10.0</td>\n      <td>...</td>\n      <td>0.00</td>\n      <td>0.00</td>\n      <td>0.00</td>\n      <td>t</td>\n      <td>13</td>\n      <td>\"Free parking on premises\", \"Lock on bedroom d...</td>\n      <td>en</td>\n      <td>en</td>\n      <td>3</td>\n      <td>0.857660</td>\n    </tr>\n    <tr>\n      <th>32992</th>\n      <td>54146235</td>\n      <td>Micro Hostel in The Heart of Chelsea New York</td>\n      <td>Everything you want to explore is right outsid...</td>\n      <td>No Data</td>\n      <td>2017-10-20</td>\n      <td>within a day</td>\n      <td>100.0</td>\n      <td>100.0</td>\n      <td>f</td>\n      <td>0.0</td>\n      <td>...</td>\n      <td>0.00</td>\n      <td>0.00</td>\n      <td>0.00</td>\n      <td>t</td>\n      <td>4</td>\n      <td>\"Wifi\", \"Building staff\", \"Long term stays all...</td>\n      <td>en</td>\n      <td>en</td>\n      <td>51</td>\n      <td>0.218969</td>\n    </tr>\n    <tr>\n      <th>32993</th>\n      <td>54148518</td>\n      <td>Time Square New York -Share Room</td>\n      <td>New York!!! The trendiest city in the world.  ...</td>\n      <td>The center of Manhattan!  There are many uniqu...</td>\n      <td>2021-12-16</td>\n      <td>within a few hours</td>\n      <td>100.0</td>\n      <td>100.0</td>\n      <td>f</td>\n      <td>1.0</td>\n      <td>...</td>\n      <td>0.00</td>\n      <td>0.00</td>\n      <td>0.00</td>\n      <td>t</td>\n      <td>2</td>\n      <td>\"Hot water\", \"Ceiling fan\", \"Shower gel\", \"Ref...</td>\n      <td>en</td>\n      <td>en</td>\n      <td>1</td>\n      <td>0.230963</td>\n    </tr>\n    <tr>\n      <th>32994</th>\n      <td>54150715</td>\n      <td>Private PATIO in PRIVATE Room | 5mins to Manha...</td>\n      <td>No Data</td>\n      <td>No Data</td>\n      <td>2020-03-05</td>\n      <td>No Data</td>\n      <td>NaN</td>\n      <td>NaN</td>\n      <td>f</td>\n      <td>12.0</td>\n      <td>...</td>\n      <td>0.00</td>\n      <td>0.00</td>\n      <td>0.00</td>\n      <td>f</td>\n      <td>1</td>\n      <td>\"Fire extinguisher\", \"Hot water\", \"Carbon mono...</td>\n      <td>en</td>\n      <td>en</td>\n      <td>22</td>\n      <td>0.436309</td>\n    </tr>\n    <tr>\n      <th>32995</th>\n      <td>54161645</td>\n      <td>Escape to Haven in Manhattan-West 57th Street-...</td>\n      <td>Live your dream in the city that doesn't sleep...</td>\n      <td>No Data</td>\n      <td>2020-07-10</td>\n      <td>within an hour</td>\n      <td>99.0</td>\n      <td>94.0</td>\n      <td>f</td>\n      <td>320.0</td>\n      <td>...</td>\n      <td>0.00</td>\n      <td>0.00</td>\n      <td>0.00</td>\n      <td>f</td>\n      <td>4</td>\n      <td>\"Cable TV\", \"Fire extinguisher\", \"Hot water\", ...</td>\n      <td>en</td>\n      <td>en</td>\n      <td>18</td>\n      <td>0.064068</td>\n    </tr>\n  </tbody>\n</table>\n<p>32996 rows × 49 columns</p>\n</div>"
     },
     "metadata": {}
    }
   ]
  },
  {
   "cell_type": "markdown",
   "source": "## Detect Language",
   "metadata": {
    "cell_id": "3829baf6-3517-48bf-a05f-85b23e43cb83",
    "tags": [],
    "deepnote_cell_type": "markdown",
    "deepnote_cell_height": 70
   }
  },
  {
   "cell_type": "code",
   "metadata": {
    "cell_id": "e0143dae-1a50-481d-b229-ee5d96b41c4e",
    "tags": [],
    "deepnote_to_be_reexecuted": false,
    "source_hash": "62b461fe",
    "execution_start": 1647055534136,
    "execution_millis": 6,
    "deepnote_cell_type": "code",
    "deepnote_cell_height": 188.53125
   },
   "source": "model = fasttext.load_model('lid.176.ftz')\n\ndef detect_lang(x):\n    lang = model.predict(x, k=1)[0][0].split('__')[-1]\n    return lang",
   "execution_count": null,
   "outputs": [
    {
     "name": "stderr",
     "text": "Warning : `load_model` does not return WordVectorModel or SupervisedModel any more, but a `FastText` object which is very similar.\n",
     "output_type": "stream"
    }
   ]
  },
  {
   "cell_type": "code",
   "metadata": {
    "cell_id": "77edb000-2b00-4c64-a4c6-7a5965ee66f6",
    "tags": [],
    "deepnote_to_be_reexecuted": false,
    "source_hash": "bbdd47dd",
    "execution_start": 1647055537800,
    "execution_millis": 64623,
    "deepnote_cell_type": "code",
    "deepnote_cell_height": 431
   },
   "source": "# Check if reviews are in English\nreviews['language'] = reviews['comments'].apply(lambda x: detect_lang(x))\nreviews.head()",
   "execution_count": null,
   "outputs": [
    {
     "output_type": "execute_result",
     "execution_count": 5,
     "data": {
      "application/vnd.deepnote.dataframe.v3+json": {
       "column_count": 3,
       "row_count": 5,
       "columns": [
        {
         "name": "listing_id",
         "dtype": "int64",
         "stats": {
          "unique_count": 1,
          "nan_count": 0,
          "min": "2595",
          "max": "2595",
          "histogram": [
           {
            "bin_start": 2594.5,
            "bin_end": 2594.6,
            "count": 0
           },
           {
            "bin_start": 2594.6,
            "bin_end": 2594.7,
            "count": 0
           },
           {
            "bin_start": 2594.7,
            "bin_end": 2594.8,
            "count": 0
           },
           {
            "bin_start": 2594.8,
            "bin_end": 2594.9,
            "count": 0
           },
           {
            "bin_start": 2594.9,
            "bin_end": 2595,
            "count": 0
           },
           {
            "bin_start": 2595,
            "bin_end": 2595.1,
            "count": 5
           },
           {
            "bin_start": 2595.1,
            "bin_end": 2595.2,
            "count": 0
           },
           {
            "bin_start": 2595.2,
            "bin_end": 2595.3,
            "count": 0
           },
           {
            "bin_start": 2595.3,
            "bin_end": 2595.4,
            "count": 0
           },
           {
            "bin_start": 2595.4,
            "bin_end": 2595.5,
            "count": 0
           }
          ]
         }
        },
        {
         "name": "comments",
         "dtype": "object",
         "stats": {
          "unique_count": 5,
          "nan_count": 0,
          "categories": [
           {
            "name": "Notre séjour de trois nuits.\r Nous avons apprécier L'appartement qui est très bien situé. Agréable, propre et bien soigné. C'est idéal pour une famille de 3 ou 4 personnes.\r Petits soucis en arrivant il y avait personne pour nous recevoir, et il manquait le savon pour la douche, le liquide vaisselle, nous les avons reçu de surlendemain. Il y a aussi le bruit du Métro de NY, donc une première nuit difficile si on est pas habitué. Jennifer est correcte le remboursement de la caution était très rapide.  A part ces petits détails notre court séjour c'est bien passé. \r Si j'ai la possibilité de revenir sur NY pour les vacances, je reprendrai à \"The Midtown Castle\"\r Jean\r Possession - Ile de La Réunion\r ",
            "count": 1
           },
           {
            "name": "Great experience.",
            "count": 1
           },
           {
            "name": "3 others",
            "count": 3
           }
          ]
         }
        },
        {
         "name": "language",
         "dtype": "object",
         "stats": {
          "unique_count": 2,
          "nan_count": 0,
          "categories": [
           {
            "name": "en",
            "count": 4
           },
           {
            "name": "fr",
            "count": 1
           }
          ]
         }
        },
        {
         "name": "_deepnote_index_column",
         "dtype": "int64"
        }
       ],
       "rows": [
        {
         "listing_id": 2595,
         "comments": "Notre séjour de trois nuits.\r Nous avons apprécier L'appartement qui est très bien situé. Agréable,…",
         "language": "fr",
         "_deepnote_index_column": 0
        },
        {
         "listing_id": 2595,
         "comments": "Great experience.",
         "language": "en",
         "_deepnote_index_column": 1
        },
        {
         "listing_id": 2595,
         "comments": "I've stayed with my friend at the Midtown Castle for six days and it was a lovely place to be. A bi…",
         "language": "en",
         "_deepnote_index_column": 2
        },
        {
         "listing_id": 2595,
         "comments": "We've been staying here for about 9 nights, enjoying to be in the center of the city, that never sl…",
         "language": "en",
         "_deepnote_index_column": 3
        },
        {
         "listing_id": 2595,
         "comments": "We had a wonderful stay at Jennifer's charming apartment! They were very organized and helpful; I w…",
         "language": "en",
         "_deepnote_index_column": 4
        }
       ]
      },
      "text/plain": "   listing_id                                           comments language\n0        2595  Notre séjour de trois nuits.\\r Nous avons appr...       fr\n1        2595                                  Great experience.       en\n2        2595  I've stayed with my friend at the Midtown Cast...       en\n3        2595  We've been staying here for about 9 nights, en...       en\n4        2595  We had a wonderful stay at Jennifer's charming...       en",
      "text/html": "<div>\n<style scoped>\n    .dataframe tbody tr th:only-of-type {\n        vertical-align: middle;\n    }\n\n    .dataframe tbody tr th {\n        vertical-align: top;\n    }\n\n    .dataframe thead th {\n        text-align: right;\n    }\n</style>\n<table border=\"1\" class=\"dataframe\">\n  <thead>\n    <tr style=\"text-align: right;\">\n      <th></th>\n      <th>listing_id</th>\n      <th>comments</th>\n      <th>language</th>\n    </tr>\n  </thead>\n  <tbody>\n    <tr>\n      <th>0</th>\n      <td>2595</td>\n      <td>Notre séjour de trois nuits.\\r Nous avons appr...</td>\n      <td>fr</td>\n    </tr>\n    <tr>\n      <th>1</th>\n      <td>2595</td>\n      <td>Great experience.</td>\n      <td>en</td>\n    </tr>\n    <tr>\n      <th>2</th>\n      <td>2595</td>\n      <td>I've stayed with my friend at the Midtown Cast...</td>\n      <td>en</td>\n    </tr>\n    <tr>\n      <th>3</th>\n      <td>2595</td>\n      <td>We've been staying here for about 9 nights, en...</td>\n      <td>en</td>\n    </tr>\n    <tr>\n      <th>4</th>\n      <td>2595</td>\n      <td>We had a wonderful stay at Jennifer's charming...</td>\n      <td>en</td>\n    </tr>\n  </tbody>\n</table>\n</div>"
     },
     "metadata": {}
    }
   ]
  },
  {
   "cell_type": "code",
   "metadata": {
    "cell_id": "7a76991f-dd0f-4e4b-ad8a-25d1ef68b54f",
    "tags": [],
    "deepnote_to_be_reexecuted": false,
    "source_hash": "da36b1ce",
    "execution_start": 1647055618875,
    "execution_millis": 5983,
    "deepnote_cell_type": "code",
    "deepnote_cell_height": 537.65625
   },
   "source": "# Check if listings' name and description are in English\ncheck_language = ['name', 'description']\ncheck_language_new_col= ['name_lang', 'description_lang']\n\nfor i in range(len(check_language)):\n    listings[check_language_new_col[i]] = listings[check_language[i]].apply(lambda x: detect_lang(x))\n\nlistings.head()",
   "execution_count": null,
   "outputs": [
    {
     "output_type": "execute_result",
     "execution_count": 6,
     "data": {
      "application/vnd.deepnote.dataframe.v3+json": {
       "column_count": 49,
       "row_count": 5,
       "columns": [
        {
         "name": "id",
         "dtype": "int64",
         "stats": {
          "unique_count": 5,
          "nan_count": 0,
          "min": "3831",
          "max": "5203",
          "histogram": [
           {
            "bin_start": 3831,
            "bin_end": 3968.2,
            "count": 1
           },
           {
            "bin_start": 3968.2,
            "bin_end": 4105.4,
            "count": 0
           },
           {
            "bin_start": 4105.4,
            "bin_end": 4242.6,
            "count": 0
           },
           {
            "bin_start": 4242.6,
            "bin_end": 4379.8,
            "count": 0
           },
           {
            "bin_start": 4379.8,
            "bin_end": 4517,
            "count": 0
           },
           {
            "bin_start": 4517,
            "bin_end": 4654.2,
            "count": 0
           },
           {
            "bin_start": 4654.2,
            "bin_end": 4791.4,
            "count": 0
           },
           {
            "bin_start": 4791.4,
            "bin_end": 4928.6,
            "count": 0
           },
           {
            "bin_start": 4928.6,
            "bin_end": 5065.8,
            "count": 0
           },
           {
            "bin_start": 5065.8,
            "bin_end": 5203,
            "count": 4
           }
          ]
         }
        },
        {
         "name": "name",
         "dtype": "object",
         "stats": {
          "unique_count": 5,
          "nan_count": 0,
          "categories": [
           {
            "name": "Whole flr w/private bdrm, bath & kitchen(pls read)",
            "count": 1
           },
           {
            "name": "BlissArtsSpace!",
            "count": 1
           },
           {
            "name": "3 others",
            "count": 3
           }
          ]
         }
        },
        {
         "name": "description",
         "dtype": "object",
         "stats": {
          "unique_count": 5,
          "nan_count": 0,
          "categories": [
           {
            "name": "Enjoy 500 s.f. top floor in 1899 brownstone, w/ wood & ceramic flooring throughout, roomy bdrm, & upgraded kitchen & bathroom.  This space is unique but one of the few legal AirBnbs with a totally private bedroom, private full bathroom and private eat-in kitchen, SO PLEASE READ \"THE SPACE\" CAREFULLY.  It's sunny & loaded with everything you need! Your floor, and the common staircase/hallway/entryway are cleaned/sanitized per Airbnb's Enhanced Cleaning Protocol.   The space  We host on the entire top floor of our double-duplex brownstone in Clinton Hill on Gates near Classon Avenue - (7 blocks to C train, 5 blocks to G train, minutes to downtown Brooklyn & lower Manhattan).  It is not an apartment in the traditional sense, it is more of an efficiency set-up and is TOTALLY LEGAL with all short-term rental laws. The top floor for our guests consists of a sizable bedroom, full bath and eat-in kitchen for your exclusive use - you get the amenities of a private apartment ",
            "count": 1
           },
           {
            "name": " The space  HELLO EVERYONE AND THANKS FOR VISITING BLISS ART SPACE!   Thank you all for your support. I've traveled a lot in the last year few years, to the  U.K. Germany, Italy and France! Loved Paris, Berlin and Calabria! Highly recommend all these places.    One room available for rent in a 2 bedroom apt in Bklyn. We share a common space with kitchen. I am an artist(painter, filmmaker) and curator who is working in the film industry while I'm building my art event production businesses.  Price above is nightly for one person. Monthly rates available.  Price is $900 per month for one person. Utilities not included, they are about 50 bucks, payable when the bill arrives mid month.   Couples rates are slightly more for monthly and 90$ per night short term. If you are a couple please Iet me know and I’ll give you the monthly rate for that. Room rental is on a temporary basis, perfect from 2- 6 months - no long term requests please! ",
            "count": 1
           },
           {
            "name": "3 others",
            "count": 3
           }
          ]
         }
        },
        {
         "name": "neighborhood_overview",
         "dtype": "object",
         "stats": {
          "unique_count": 4,
          "nan_count": 0,
          "categories": [
           {
            "name": "No Data",
            "count": 2
           },
           {
            "name": "Just the right mix of urban center and local neighborhood; close to all but enough quiet for a calming walk. 15 to 45 minutes to most parts of Manhattan; 10 to 30 minutes to most Brooklyn points of interest; 45 minutes to 60 minutes to historic Coney Island.",
            "count": 1
           },
           {
            "name": "2 others",
            "count": 2
           }
          ]
         }
        },
        {
         "name": "host_since",
         "dtype": "object",
         "stats": {
          "unique_count": 4,
          "nan_count": 0,
          "categories": [
           {
            "name": "2009-02-03",
            "count": 2
           },
           {
            "name": "2008-12-07",
            "count": 1
           },
           {
            "name": "2 others",
            "count": 2
           }
          ]
         }
        },
        {
         "name": "host_response_time",
         "dtype": "object",
         "stats": {
          "unique_count": 4,
          "nan_count": 0,
          "categories": [
           {
            "name": "No Data",
            "count": 2
           },
           {
            "name": "a few days or more",
            "count": 1
           },
           {
            "name": "2 others",
            "count": 2
           }
          ]
         }
        },
        {
         "name": "host_response_rate",
         "dtype": "float64",
         "stats": {
          "unique_count": 2,
          "nan_count": 2,
          "min": "0.0",
          "max": "100.0",
          "histogram": [
           {
            "bin_start": 0,
            "bin_end": 10,
            "count": 1
           },
           {
            "bin_start": 10,
            "bin_end": 20,
            "count": 0
           },
           {
            "bin_start": 20,
            "bin_end": 30,
            "count": 0
           },
           {
            "bin_start": 30,
            "bin_end": 40,
            "count": 0
           },
           {
            "bin_start": 40,
            "bin_end": 50,
            "count": 0
           },
           {
            "bin_start": 50,
            "bin_end": 60,
            "count": 0
           },
           {
            "bin_start": 60,
            "bin_end": 70,
            "count": 0
           },
           {
            "bin_start": 70,
            "bin_end": 80,
            "count": 0
           },
           {
            "bin_start": 80,
            "bin_end": 90,
            "count": 0
           },
           {
            "bin_start": 90,
            "bin_end": 100,
            "count": 2
           }
          ]
         }
        },
        {
         "name": "host_acceptance_rate",
         "dtype": "float64",
         "stats": {
          "unique_count": 3,
          "nan_count": 1,
          "min": "25.0",
          "max": "100.0",
          "histogram": [
           {
            "bin_start": 25,
            "bin_end": 32.5,
            "count": 1
           },
           {
            "bin_start": 32.5,
            "bin_end": 40,
            "count": 0
           },
           {
            "bin_start": 40,
            "bin_end": 47.5,
            "count": 0
           },
           {
            "bin_start": 47.5,
            "bin_end": 55,
            "count": 0
           },
           {
            "bin_start": 55,
            "bin_end": 62.5,
            "count": 0
           },
           {
            "bin_start": 62.5,
            "bin_end": 70,
            "count": 1
           },
           {
            "bin_start": 70,
            "bin_end": 77.5,
            "count": 0
           },
           {
            "bin_start": 77.5,
            "bin_end": 85,
            "count": 0
           },
           {
            "bin_start": 85,
            "bin_end": 92.5,
            "count": 0
           },
           {
            "bin_start": 92.5,
            "bin_end": 100,
            "count": 2
           }
          ]
         }
        },
        {
         "name": "host_is_superhost",
         "dtype": "object",
         "stats": {
          "unique_count": 1,
          "nan_count": 0,
          "categories": [
           {
            "name": "f",
            "count": 5
           }
          ]
         }
        },
        {
         "name": "host_listings_count",
         "dtype": "float64",
         "stats": {
          "unique_count": 1,
          "nan_count": 0,
          "min": "1.0",
          "max": "1.0",
          "histogram": [
           {
            "bin_start": 0.5,
            "bin_end": 0.6,
            "count": 0
           },
           {
            "bin_start": 0.6,
            "bin_end": 0.7,
            "count": 0
           },
           {
            "bin_start": 0.7,
            "bin_end": 0.8,
            "count": 0
           },
           {
            "bin_start": 0.8,
            "bin_end": 0.9,
            "count": 0
           },
           {
            "bin_start": 0.9,
            "bin_end": 1,
            "count": 0
           },
           {
            "bin_start": 1,
            "bin_end": 1.1,
            "count": 5
           },
           {
            "bin_start": 1.1,
            "bin_end": 1.2000000000000002,
            "count": 0
           },
           {
            "bin_start": 1.2000000000000002,
            "bin_end": 1.3,
            "count": 0
           },
           {
            "bin_start": 1.3,
            "bin_end": 1.4,
            "count": 0
           },
           {
            "bin_start": 1.4,
            "bin_end": 1.5,
            "count": 0
           }
          ]
         }
        },
        {
         "name": "host_has_profile_pic",
         "dtype": "object",
         "stats": {
          "unique_count": 1,
          "nan_count": 0,
          "categories": [
           {
            "name": "t",
            "count": 5
           }
          ]
         }
        },
        {
         "name": "host_identity_verified",
         "dtype": "object",
         "stats": {
          "unique_count": 2,
          "nan_count": 0,
          "categories": [
           {
            "name": "t",
            "count": 4
           },
           {
            "name": "f",
            "count": 1
           }
          ]
         }
        },
        {
         "name": "neighbourhood",
         "dtype": "object",
         "stats": {
          "unique_count": 3,
          "nan_count": 0,
          "categories": [
           {
            "name": "No Data",
            "count": 2
           },
           {
            "name": "New York, United States",
            "count": 2
           },
           {
            "name": "Brooklyn, New York, United States",
            "count": 1
           }
          ]
         }
        },
        {
         "name": "neighbourhood_cleansed",
         "dtype": "object",
         "stats": {
          "unique_count": 4,
          "nan_count": 0,
          "categories": [
           {
            "name": "Bedford-Stuyvesant",
            "count": 2
           },
           {
            "name": "Sunset Park",
            "count": 1
           },
           {
            "name": "2 others",
            "count": 2
           }
          ]
         }
        },
        {
         "name": "neighbourhood_group_cleansed",
         "dtype": "object",
         "stats": {
          "unique_count": 2,
          "nan_count": 0,
          "categories": [
           {
            "name": "Brooklyn",
            "count": 3
           },
           {
            "name": "Manhattan",
            "count": 2
           }
          ]
         }
        },
        {
         "name": "latitude",
         "dtype": "float64",
         "stats": {
          "unique_count": 5,
          "nan_count": 0,
          "min": "40.66265",
          "max": "40.8038",
          "histogram": [
           {
            "bin_start": 40.66265,
            "bin_end": 40.676765,
            "count": 1
           },
           {
            "bin_start": 40.676765,
            "bin_end": 40.69088,
            "count": 2
           },
           {
            "bin_start": 40.69088,
            "bin_end": 40.704995,
            "count": 0
           },
           {
            "bin_start": 40.704995,
            "bin_end": 40.71911,
            "count": 0
           },
           {
            "bin_start": 40.71911,
            "bin_end": 40.733225000000004,
            "count": 0
           },
           {
            "bin_start": 40.733225000000004,
            "bin_end": 40.74734,
            "count": 0
           },
           {
            "bin_start": 40.74734,
            "bin_end": 40.761455,
            "count": 0
           },
           {
            "bin_start": 40.761455,
            "bin_end": 40.77557,
            "count": 1
           },
           {
            "bin_start": 40.77557,
            "bin_end": 40.789685000000006,
            "count": 0
           },
           {
            "bin_start": 40.789685000000006,
            "bin_end": 40.8038,
            "count": 1
           }
          ]
         }
        },
        {
         "name": "longitude",
         "dtype": "float64",
         "stats": {
          "unique_count": 5,
          "nan_count": 0,
          "min": "-73.99454",
          "max": "-73.95512",
          "histogram": [
           {
            "bin_start": -73.99454,
            "bin_end": -73.990598,
            "count": 1
           },
           {
            "bin_start": -73.990598,
            "bin_end": -73.986656,
            "count": 0
           },
           {
            "bin_start": -73.986656,
            "bin_end": -73.982714,
            "count": 1
           },
           {
            "bin_start": -73.982714,
            "bin_end": -73.97877199999999,
            "count": 0
           },
           {
            "bin_start": -73.97877199999999,
            "bin_end": -73.97483,
            "count": 0
           },
           {
            "bin_start": -73.97483,
            "bin_end": -73.970888,
            "count": 0
           },
           {
            "bin_start": -73.970888,
            "bin_end": -73.966946,
            "count": 1
           },
           {
            "bin_start": -73.966946,
            "bin_end": -73.963004,
            "count": 0
           },
           {
            "bin_start": -73.963004,
            "bin_end": -73.95906199999999,
            "count": 0
           },
           {
            "bin_start": -73.95906199999999,
            "bin_end": -73.95512,
            "count": 2
           }
          ]
         }
        },
        {
         "name": "property_type",
         "dtype": "object",
         "stats": {
          "unique_count": 3,
          "nan_count": 0,
          "categories": [
           {
            "name": "Private room in rental unit",
            "count": 3
           },
           {
            "name": "Entire guest suite",
            "count": 1
           },
           {
            "name": "Entire rental unit",
            "count": 1
           }
          ]
         }
        },
        {
         "name": "room_type",
         "dtype": "object",
         "stats": {
          "unique_count": 2,
          "nan_count": 0,
          "categories": [
           {
            "name": "Private room",
            "count": 3
           },
           {
            "name": "Entire home/apt",
            "count": 2
           }
          ]
         }
        },
        {
         "name": "accommodates",
         "dtype": "int64",
         "stats": {
          "unique_count": 4,
          "nan_count": 0,
          "min": "1",
          "max": "4",
          "histogram": [
           {
            "bin_start": 1,
            "bin_end": 1.3,
            "count": 1
           },
           {
            "bin_start": 1.3,
            "bin_end": 1.6,
            "count": 0
           },
           {
            "bin_start": 1.6,
            "bin_end": 1.9,
            "count": 0
           },
           {
            "bin_start": 1.9,
            "bin_end": 2.2,
            "count": 2
           },
           {
            "bin_start": 2.2,
            "bin_end": 2.5,
            "count": 0
           },
           {
            "bin_start": 2.5,
            "bin_end": 2.8,
            "count": 0
           },
           {
            "bin_start": 2.8,
            "bin_end": 3.1,
            "count": 1
           },
           {
            "bin_start": 3.1,
            "bin_end": 3.4,
            "count": 0
           },
           {
            "bin_start": 3.4,
            "bin_end": 3.6999999999999997,
            "count": 0
           },
           {
            "bin_start": 3.6999999999999997,
            "bin_end": 4,
            "count": 1
           }
          ]
         }
        },
        {
         "name": "bathrooms_text",
         "dtype": "object",
         "stats": {
          "unique_count": 4,
          "nan_count": 0,
          "categories": [
           {
            "name": "1 bath",
            "count": 2
           },
           {
            "name": "No Data",
            "count": 1
           },
           {
            "name": "2 others",
            "count": 2
           }
          ]
         }
        },
        {
         "name": "bedrooms",
         "dtype": "int64",
         "stats": {
          "unique_count": 2,
          "nan_count": 0,
          "min": "1",
          "max": "2",
          "histogram": [
           {
            "bin_start": 1,
            "bin_end": 1.1,
            "count": 4
           },
           {
            "bin_start": 1.1,
            "bin_end": 1.2,
            "count": 0
           },
           {
            "bin_start": 1.2,
            "bin_end": 1.3,
            "count": 0
           },
           {
            "bin_start": 1.3,
            "bin_end": 1.4,
            "count": 0
           },
           {
            "bin_start": 1.4,
            "bin_end": 1.5,
            "count": 0
           },
           {
            "bin_start": 1.5,
            "bin_end": 1.6,
            "count": 0
           },
           {
            "bin_start": 1.6,
            "bin_end": 1.7000000000000002,
            "count": 0
           },
           {
            "bin_start": 1.7000000000000002,
            "bin_end": 1.8,
            "count": 0
           },
           {
            "bin_start": 1.8,
            "bin_end": 1.9,
            "count": 0
           },
           {
            "bin_start": 1.9,
            "bin_end": 2,
            "count": 1
           }
          ]
         }
        },
        {
         "name": "beds",
         "dtype": "int64",
         "stats": {
          "unique_count": 3,
          "nan_count": 0,
          "min": "1",
          "max": "3",
          "histogram": [
           {
            "bin_start": 1,
            "bin_end": 1.2,
            "count": 3
           },
           {
            "bin_start": 1.2,
            "bin_end": 1.4,
            "count": 0
           },
           {
            "bin_start": 1.4,
            "bin_end": 1.6,
            "count": 0
           },
           {
            "bin_start": 1.6,
            "bin_end": 1.8,
            "count": 0
           },
           {
            "bin_start": 1.8,
            "bin_end": 2,
            "count": 0
           },
           {
            "bin_start": 2,
            "bin_end": 2.2,
            "count": 1
           },
           {
            "bin_start": 2.2,
            "bin_end": 2.4000000000000004,
            "count": 0
           },
           {
            "bin_start": 2.4000000000000004,
            "bin_end": 2.6,
            "count": 0
           },
           {
            "bin_start": 2.6,
            "bin_end": 2.8,
            "count": 0
           },
           {
            "bin_start": 2.8,
            "bin_end": 3,
            "count": 1
           }
          ]
         }
        },
        {
         "name": "amenities",
         "dtype": "object",
         "stats": {
          "unique_count": 5,
          "nan_count": 0,
          "categories": [
           {
            "name": "[\"Hot water\", \"Iron\", \"Children\\u2019s books and toys\", \"Refrigerator\", \"Kitchen\", \"Cable TV\", \"Fire extinguisher\", \"Oven\", \"Extra pillows and blankets\", \"Microwave\", \"Coffee maker\", \"Luggage dropoff allowed\", \"Pack \\u2019n play/Travel crib\", \"Free street parking\", \"Air conditioning\", \"Baby safety gates\", \"Lockbox\", \"Bed linens\", \"Free parking on premises\", \"Heating\", \"Carbon monoxide alarm\", \"Stove\", \"Bathtub\", \"TV with standard cable\", \"High chair\", \"Smoke alarm\", \"Hair dryer\", \"Shampoo\", \"Essentials\", \"Cooking basics\", \"Hangers\", \"Dedicated workspace\", \"Dishes and silverware\", \"Long term stays allowed\", \"Wifi\"]",
            "count": 1
           },
           {
            "name": "[\"Heating\", \"Air conditioning\", \"Long term stays allowed\", \"Wifi\", \"Kitchen\"]",
            "count": 1
           },
           {
            "name": "3 others",
            "count": 3
           }
          ]
         }
        },
        {
         "name": "price",
         "dtype": "float64",
         "stats": {
          "unique_count": 5,
          "nan_count": 0,
          "min": "60.0",
          "max": "275.0",
          "histogram": [
           {
            "bin_start": 60,
            "bin_end": 81.5,
            "count": 4
           },
           {
            "bin_start": 81.5,
            "bin_end": 103,
            "count": 0
           },
           {
            "bin_start": 103,
            "bin_end": 124.5,
            "count": 0
           },
           {
            "bin_start": 124.5,
            "bin_end": 146,
            "count": 0
           },
           {
            "bin_start": 146,
            "bin_end": 167.5,
            "count": 0
           },
           {
            "bin_start": 167.5,
            "bin_end": 189,
            "count": 0
           },
           {
            "bin_start": 189,
            "bin_end": 210.5,
            "count": 0
           },
           {
            "bin_start": 210.5,
            "bin_end": 232,
            "count": 0
           },
           {
            "bin_start": 232,
            "bin_end": 253.5,
            "count": 0
           },
           {
            "bin_start": 253.5,
            "bin_end": 275,
            "count": 1
           }
          ]
         }
        },
        {
         "name": "minimum_nights",
         "dtype": "int64",
         "stats": {
          "unique_count": 4,
          "nan_count": 0,
          "min": "1",
          "max": "30",
          "histogram": [
           {
            "bin_start": 1,
            "bin_end": 3.9,
            "count": 3
           },
           {
            "bin_start": 3.9,
            "bin_end": 6.8,
            "count": 1
           },
           {
            "bin_start": 6.8,
            "bin_end": 9.7,
            "count": 0
           },
           {
            "bin_start": 9.7,
            "bin_end": 12.6,
            "count": 0
           },
           {
            "bin_start": 12.6,
            "bin_end": 15.5,
            "count": 0
           },
           {
            "bin_start": 15.5,
            "bin_end": 18.4,
            "count": 0
           },
           {
            "bin_start": 18.4,
            "bin_end": 21.3,
            "count": 0
           },
           {
            "bin_start": 21.3,
            "bin_end": 24.2,
            "count": 0
           },
           {
            "bin_start": 24.2,
            "bin_end": 27.099999999999998,
            "count": 0
           },
           {
            "bin_start": 27.099999999999998,
            "bin_end": 30,
            "count": 1
           }
          ]
         }
        },
        {
         "name": "maximum_nights",
         "dtype": "int64",
         "stats": {
          "unique_count": 3,
          "nan_count": 0,
          "min": "14",
          "max": "1125",
          "histogram": [
           {
            "bin_start": 14,
            "bin_end": 125.1,
            "count": 2
           },
           {
            "bin_start": 125.1,
            "bin_end": 236.2,
            "count": 0
           },
           {
            "bin_start": 236.2,
            "bin_end": 347.29999999999995,
            "count": 0
           },
           {
            "bin_start": 347.29999999999995,
            "bin_end": 458.4,
            "count": 0
           },
           {
            "bin_start": 458.4,
            "bin_end": 569.5,
            "count": 0
           },
           {
            "bin_start": 569.5,
            "bin_end": 680.5999999999999,
            "count": 0
           },
           {
            "bin_start": 680.5999999999999,
            "bin_end": 791.6999999999999,
            "count": 2
           },
           {
            "bin_start": 791.6999999999999,
            "bin_end": 902.8,
            "count": 0
           },
           {
            "bin_start": 902.8,
            "bin_end": 1013.9,
            "count": 0
           },
           {
            "bin_start": 1013.9,
            "bin_end": 1125,
            "count": 1
           }
          ]
         }
        },
        {
         "name": "has_availability",
         "dtype": "object",
         "stats": {
          "unique_count": 1,
          "nan_count": 0,
          "categories": [
           {
            "name": "t",
            "count": 5
           }
          ]
         }
        },
        {
         "name": "availability_30",
         "dtype": "int64",
         "stats": {
          "unique_count": 4,
          "nan_count": 0,
          "min": "0",
          "max": "30",
          "histogram": [
           {
            "bin_start": 0,
            "bin_end": 3,
            "count": 2
           },
           {
            "bin_start": 3,
            "bin_end": 6,
            "count": 1
           },
           {
            "bin_start": 6,
            "bin_end": 9,
            "count": 0
           },
           {
            "bin_start": 9,
            "bin_end": 12,
            "count": 1
           },
           {
            "bin_start": 12,
            "bin_end": 15,
            "count": 0
           },
           {
            "bin_start": 15,
            "bin_end": 18,
            "count": 0
           },
           {
            "bin_start": 18,
            "bin_end": 21,
            "count": 0
           },
           {
            "bin_start": 21,
            "bin_end": 24,
            "count": 0
           },
           {
            "bin_start": 24,
            "bin_end": 27,
            "count": 0
           },
           {
            "bin_start": 27,
            "bin_end": 30,
            "count": 1
           }
          ]
         }
        },
        {
         "name": "availability_60",
         "dtype": "int64",
         "stats": {
          "unique_count": 5,
          "nan_count": 0,
          "min": "0",
          "max": "60",
          "histogram": [
           {
            "bin_start": 0,
            "bin_end": 6,
            "count": 1
           },
           {
            "bin_start": 6,
            "bin_end": 12,
            "count": 1
           },
           {
            "bin_start": 12,
            "bin_end": 18,
            "count": 1
           },
           {
            "bin_start": 18,
            "bin_end": 24,
            "count": 0
           },
           {
            "bin_start": 24,
            "bin_end": 30,
            "count": 1
           },
           {
            "bin_start": 30,
            "bin_end": 36,
            "count": 0
           },
           {
            "bin_start": 36,
            "bin_end": 42,
            "count": 0
           },
           {
            "bin_start": 42,
            "bin_end": 48,
            "count": 0
           },
           {
            "bin_start": 48,
            "bin_end": 54,
            "count": 0
           },
           {
            "bin_start": 54,
            "bin_end": 60,
            "count": 1
           }
          ]
         }
        },
        {
         "name": "availability_90",
         "dtype": "int64",
         "stats": {
          "unique_count": 5,
          "nan_count": 0,
          "min": "0",
          "max": "90",
          "histogram": [
           {
            "bin_start": 0,
            "bin_end": 9,
            "count": 1
           },
           {
            "bin_start": 9,
            "bin_end": 18,
            "count": 1
           },
           {
            "bin_start": 18,
            "bin_end": 27,
            "count": 1
           },
           {
            "bin_start": 27,
            "bin_end": 36,
            "count": 1
           },
           {
            "bin_start": 36,
            "bin_end": 45,
            "count": 0
           },
           {
            "bin_start": 45,
            "bin_end": 54,
            "count": 0
           },
           {
            "bin_start": 54,
            "bin_end": 63,
            "count": 0
           },
           {
            "bin_start": 63,
            "bin_end": 72,
            "count": 0
           },
           {
            "bin_start": 72,
            "bin_end": 81,
            "count": 0
           },
           {
            "bin_start": 81,
            "bin_end": 90,
            "count": 1
           }
          ]
         }
        },
        {
         "name": "availability_365",
         "dtype": "int64",
         "stats": {
          "unique_count": 5,
          "nan_count": 0,
          "min": "0",
          "max": "365",
          "histogram": [
           {
            "bin_start": 0,
            "bin_end": 36.5,
            "count": 1
           },
           {
            "bin_start": 36.5,
            "bin_end": 73,
            "count": 0
           },
           {
            "bin_start": 73,
            "bin_end": 109.5,
            "count": 0
           },
           {
            "bin_start": 109.5,
            "bin_end": 146,
            "count": 0
           },
           {
            "bin_start": 146,
            "bin_end": 182.5,
            "count": 1
           },
           {
            "bin_start": 182.5,
            "bin_end": 219,
            "count": 2
           },
           {
            "bin_start": 219,
            "bin_end": 255.5,
            "count": 0
           },
           {
            "bin_start": 255.5,
            "bin_end": 292,
            "count": 0
           },
           {
            "bin_start": 292,
            "bin_end": 328.5,
            "count": 0
           },
           {
            "bin_start": 328.5,
            "bin_end": 365,
            "count": 1
           }
          ]
         }
        },
        {
         "name": "number_of_reviews",
         "dtype": "int64",
         "stats": {
          "unique_count": 5,
          "nan_count": 0,
          "min": "2",
          "max": "514",
          "histogram": [
           {
            "bin_start": 2,
            "bin_end": 53.2,
            "count": 2
           },
           {
            "bin_start": 53.2,
            "bin_end": 104.4,
            "count": 0
           },
           {
            "bin_start": 104.4,
            "bin_end": 155.60000000000002,
            "count": 1
           },
           {
            "bin_start": 155.60000000000002,
            "bin_end": 206.8,
            "count": 0
           },
           {
            "bin_start": 206.8,
            "bin_end": 258,
            "count": 0
           },
           {
            "bin_start": 258,
            "bin_end": 309.20000000000005,
            "count": 0
           },
           {
            "bin_start": 309.20000000000005,
            "bin_end": 360.40000000000003,
            "count": 0
           },
           {
            "bin_start": 360.40000000000003,
            "bin_end": 411.6,
            "count": 1
           },
           {
            "bin_start": 411.6,
            "bin_end": 462.8,
            "count": 0
           },
           {
            "bin_start": 462.8,
            "bin_end": 514,
            "count": 1
           }
          ]
         }
        },
        {
         "name": "number_of_reviews_ltm",
         "dtype": "int64",
         "stats": {
          "unique_count": 4,
          "nan_count": 0,
          "min": "0",
          "max": "40",
          "histogram": [
           {
            "bin_start": 0,
            "bin_end": 4,
            "count": 3
           },
           {
            "bin_start": 4,
            "bin_end": 8,
            "count": 0
           },
           {
            "bin_start": 8,
            "bin_end": 12,
            "count": 0
           },
           {
            "bin_start": 12,
            "bin_end": 16,
            "count": 0
           },
           {
            "bin_start": 16,
            "bin_end": 20,
            "count": 0
           },
           {
            "bin_start": 20,
            "bin_end": 24,
            "count": 0
           },
           {
            "bin_start": 24,
            "bin_end": 28,
            "count": 1
           },
           {
            "bin_start": 28,
            "bin_end": 32,
            "count": 0
           },
           {
            "bin_start": 32,
            "bin_end": 36,
            "count": 0
           },
           {
            "bin_start": 36,
            "bin_end": 40,
            "count": 1
           }
          ]
         }
        },
        {
         "name": "number_of_reviews_l30d",
         "dtype": "int64",
         "stats": {
          "unique_count": 2,
          "nan_count": 0,
          "min": "0",
          "max": "4",
          "histogram": [
           {
            "bin_start": 0,
            "bin_end": 0.4,
            "count": 4
           },
           {
            "bin_start": 0.4,
            "bin_end": 0.8,
            "count": 0
           },
           {
            "bin_start": 0.8,
            "bin_end": 1.2000000000000002,
            "count": 0
           },
           {
            "bin_start": 1.2000000000000002,
            "bin_end": 1.6,
            "count": 0
           },
           {
            "bin_start": 1.6,
            "bin_end": 2,
            "count": 0
           },
           {
            "bin_start": 2,
            "bin_end": 2.4000000000000004,
            "count": 0
           },
           {
            "bin_start": 2.4000000000000004,
            "bin_end": 2.8000000000000003,
            "count": 0
           },
           {
            "bin_start": 2.8000000000000003,
            "bin_end": 3.2,
            "count": 0
           },
           {
            "bin_start": 3.2,
            "bin_end": 3.6,
            "count": 0
           },
           {
            "bin_start": 3.6,
            "bin_end": 4,
            "count": 1
           }
          ]
         }
        },
        {
         "name": "review_scores_rating",
         "dtype": "float64",
         "stats": {
          "unique_count": 5,
          "nan_count": 0,
          "min": "4.22",
          "max": "5.0",
          "histogram": [
           {
            "bin_start": 4.22,
            "bin_end": 4.298,
            "count": 1
           },
           {
            "bin_start": 4.298,
            "bin_end": 4.3759999999999994,
            "count": 0
           },
           {
            "bin_start": 4.3759999999999994,
            "bin_end": 4.454,
            "count": 1
           },
           {
            "bin_start": 4.454,
            "bin_end": 4.532,
            "count": 1
           },
           {
            "bin_start": 4.532,
            "bin_end": 4.609999999999999,
            "count": 0
           },
           {
            "bin_start": 4.609999999999999,
            "bin_end": 4.688,
            "count": 0
           },
           {
            "bin_start": 4.688,
            "bin_end": 4.766,
            "count": 0
           },
           {
            "bin_start": 4.766,
            "bin_end": 4.844,
            "count": 0
           },
           {
            "bin_start": 4.844,
            "bin_end": 4.922,
            "count": 1
           },
           {
            "bin_start": 4.922,
            "bin_end": 5,
            "count": 1
           }
          ]
         }
        },
        {
         "name": "review_scores_accuracy",
         "dtype": "float64",
         "stats": {
          "unique_count": 5,
          "nan_count": 0,
          "min": "4.21",
          "max": "5.0",
          "histogram": [
           {
            "bin_start": 4.21,
            "bin_end": 4.289,
            "count": 2
           },
           {
            "bin_start": 4.289,
            "bin_end": 4.368,
            "count": 0
           },
           {
            "bin_start": 4.368,
            "bin_end": 4.447,
            "count": 0
           },
           {
            "bin_start": 4.447,
            "bin_end": 4.526,
            "count": 0
           },
           {
            "bin_start": 4.526,
            "bin_end": 4.605,
            "count": 1
           },
           {
            "bin_start": 4.605,
            "bin_end": 4.684,
            "count": 0
           },
           {
            "bin_start": 4.684,
            "bin_end": 4.763,
            "count": 0
           },
           {
            "bin_start": 4.763,
            "bin_end": 4.842,
            "count": 1
           },
           {
            "bin_start": 4.842,
            "bin_end": 4.921,
            "count": 0
           },
           {
            "bin_start": 4.921,
            "bin_end": 5,
            "count": 1
           }
          ]
         }
        },
        {
         "name": "review_scores_cleanliness",
         "dtype": "float64",
         "stats": {
          "unique_count": 5,
          "nan_count": 0,
          "min": "3.73",
          "max": "5.0",
          "histogram": [
           {
            "bin_start": 3.73,
            "bin_end": 3.857,
            "count": 1
           },
           {
            "bin_start": 3.857,
            "bin_end": 3.984,
            "count": 0
           },
           {
            "bin_start": 3.984,
            "bin_end": 4.111,
            "count": 1
           },
           {
            "bin_start": 4.111,
            "bin_end": 4.2379999999999995,
            "count": 0
           },
           {
            "bin_start": 4.2379999999999995,
            "bin_end": 4.365,
            "count": 0
           },
           {
            "bin_start": 4.365,
            "bin_end": 4.492,
            "count": 1
           },
           {
            "bin_start": 4.492,
            "bin_end": 4.619,
            "count": 0
           },
           {
            "bin_start": 4.619,
            "bin_end": 4.746,
            "count": 0
           },
           {
            "bin_start": 4.746,
            "bin_end": 4.873,
            "count": 1
           },
           {
            "bin_start": 4.873,
            "bin_end": 5,
            "count": 1
           }
          ]
         }
        },
        {
         "name": "review_scores_checkin",
         "dtype": "float64",
         "stats": {
          "unique_count": 5,
          "nan_count": 0,
          "min": "4.66",
          "max": "5.0",
          "histogram": [
           {
            "bin_start": 4.66,
            "bin_end": 4.694,
            "count": 1
           },
           {
            "bin_start": 4.694,
            "bin_end": 4.728,
            "count": 0
           },
           {
            "bin_start": 4.728,
            "bin_end": 4.7620000000000005,
            "count": 0
           },
           {
            "bin_start": 4.7620000000000005,
            "bin_end": 4.796,
            "count": 1
           },
           {
            "bin_start": 4.796,
            "bin_end": 4.83,
            "count": 0
           },
           {
            "bin_start": 4.83,
            "bin_end": 4.864,
            "count": 0
           },
           {
            "bin_start": 4.864,
            "bin_end": 4.898,
            "count": 0
           },
           {
            "bin_start": 4.898,
            "bin_end": 4.932,
            "count": 1
           },
           {
            "bin_start": 4.932,
            "bin_end": 4.966,
            "count": 0
           },
           {
            "bin_start": 4.966,
            "bin_end": 5,
            "count": 2
           }
          ]
         }
        },
        {
         "name": "review_scores_communication",
         "dtype": "float64",
         "stats": {
          "unique_count": 5,
          "nan_count": 0,
          "min": "4.42",
          "max": "5.0",
          "histogram": [
           {
            "bin_start": 4.42,
            "bin_end": 4.478,
            "count": 1
           },
           {
            "bin_start": 4.478,
            "bin_end": 4.536,
            "count": 0
           },
           {
            "bin_start": 4.536,
            "bin_end": 4.594,
            "count": 0
           },
           {
            "bin_start": 4.594,
            "bin_end": 4.652,
            "count": 0
           },
           {
            "bin_start": 4.652,
            "bin_end": 4.71,
            "count": 0
           },
           {
            "bin_start": 4.71,
            "bin_end": 4.768,
            "count": 0
           },
           {
            "bin_start": 4.768,
            "bin_end": 4.826,
            "count": 1
           },
           {
            "bin_start": 4.826,
            "bin_end": 4.884,
            "count": 0
           },
           {
            "bin_start": 4.884,
            "bin_end": 4.942,
            "count": 1
           },
           {
            "bin_start": 4.942,
            "bin_end": 5,
            "count": 2
           }
          ]
         }
        },
        {
         "name": "review_scores_location",
         "dtype": "float64",
         "stats": {
          "unique_count": 5,
          "nan_count": 0,
          "min": "4.47",
          "max": "4.94",
          "histogram": [
           {
            "bin_start": 4.47,
            "bin_end": 4.5169999999999995,
            "count": 2
           },
           {
            "bin_start": 4.5169999999999995,
            "bin_end": 4.564,
            "count": 0
           },
           {
            "bin_start": 4.564,
            "bin_end": 4.611,
            "count": 0
           },
           {
            "bin_start": 4.611,
            "bin_end": 4.658,
            "count": 0
           },
           {
            "bin_start": 4.658,
            "bin_end": 4.705,
            "count": 0
           },
           {
            "bin_start": 4.705,
            "bin_end": 4.752,
            "count": 1
           },
           {
            "bin_start": 4.752,
            "bin_end": 4.799,
            "count": 0
           },
           {
            "bin_start": 4.799,
            "bin_end": 4.846,
            "count": 0
           },
           {
            "bin_start": 4.846,
            "bin_end": 4.893000000000001,
            "count": 1
           },
           {
            "bin_start": 4.893000000000001,
            "bin_end": 4.94,
            "count": 1
           }
          ]
         }
        },
        {
         "name": "review_scores_value",
         "dtype": "float64",
         "stats": {
          "unique_count": 5,
          "nan_count": 0,
          "min": "4.36",
          "max": "5.0",
          "histogram": [
           {
            "bin_start": 4.36,
            "bin_end": 4.424,
            "count": 1
           },
           {
            "bin_start": 4.424,
            "bin_end": 4.488,
            "count": 0
           },
           {
            "bin_start": 4.488,
            "bin_end": 4.5520000000000005,
            "count": 1
           },
           {
            "bin_start": 4.5520000000000005,
            "bin_end": 4.6160000000000005,
            "count": 0
           },
           {
            "bin_start": 4.6160000000000005,
            "bin_end": 4.68,
            "count": 1
           },
           {
            "bin_start": 4.68,
            "bin_end": 4.744,
            "count": 0
           },
           {
            "bin_start": 4.744,
            "bin_end": 4.808,
            "count": 0
           },
           {
            "bin_start": 4.808,
            "bin_end": 4.872,
            "count": 0
           },
           {
            "bin_start": 4.872,
            "bin_end": 4.936,
            "count": 1
           },
           {
            "bin_start": 4.936,
            "bin_end": 5,
            "count": 1
           }
          ]
         }
        },
        {
         "name": "instant_bookable",
         "dtype": "object",
         "stats": {
          "unique_count": 1,
          "nan_count": 0,
          "categories": [
           {
            "name": "f",
            "count": 5
           }
          ]
         }
        },
        {
         "name": "calculated_host_listings_count",
         "dtype": "int64",
         "stats": {
          "unique_count": 2,
          "nan_count": 0,
          "min": "1",
          "max": "2",
          "histogram": [
           {
            "bin_start": 1,
            "bin_end": 1.1,
            "count": 4
           },
           {
            "bin_start": 1.1,
            "bin_end": 1.2,
            "count": 0
           },
           {
            "bin_start": 1.2,
            "bin_end": 1.3,
            "count": 0
           },
           {
            "bin_start": 1.3,
            "bin_end": 1.4,
            "count": 0
           },
           {
            "bin_start": 1.4,
            "bin_end": 1.5,
            "count": 0
           },
           {
            "bin_start": 1.5,
            "bin_end": 1.6,
            "count": 0
           },
           {
            "bin_start": 1.6,
            "bin_end": 1.7000000000000002,
            "count": 0
           },
           {
            "bin_start": 1.7000000000000002,
            "bin_end": 1.8,
            "count": 0
           },
           {
            "bin_start": 1.8,
            "bin_end": 1.9,
            "count": 0
           },
           {
            "bin_start": 1.9,
            "bin_end": 2,
            "count": 1
           }
          ]
         }
        },
        {
         "name": "amenities_str",
         "dtype": "object",
         "stats": {
          "unique_count": 5,
          "nan_count": 0,
          "categories": [
           {
            "name": "\"Hot water\", \"Iron\", \"Children\\u2019s books and toys\", \"Refrigerator\", \"Kitchen\", \"Cable TV\", \"Fire extinguisher\", \"Oven\", \"Extra pillows and blankets\", \"Microwave\", \"Coffee maker\", \"Luggage dropoff allowed\", \"Pack \\u2019n play/Travel crib\", \"Free street parking\", \"Air conditioning\", \"Baby safety gates\", \"Lockbox\", \"Bed linens\", \"Free parking on premises\", \"Heating\", \"Carbon monoxide alarm\", \"Stove\", \"Bathtub\", \"TV with standard cable\", \"High chair\", \"Smoke alarm\", \"Hair dryer\", \"Shampoo\", \"Essentials\", \"Cooking basics\", \"Hangers\", \"Dedicated workspace\", \"Dishes and silverware\", \"Long term stays allowed\", \"Wifi\"",
            "count": 1
           },
           {
            "name": "\"Heating\", \"Air conditioning\", \"Long term stays allowed\", \"Wifi\", \"Kitchen\"",
            "count": 1
           },
           {
            "name": "3 others",
            "count": 3
           }
          ]
         }
        },
        {
         "name": "name_lang",
         "dtype": "object",
         "stats": {
          "unique_count": 2,
          "nan_count": 0,
          "categories": [
           {
            "name": "en",
            "count": 4
           },
           {
            "name": "ja",
            "count": 1
           }
          ]
         }
        },
        {
         "name": "description_lang",
         "dtype": "object",
         "stats": {
          "unique_count": 1,
          "nan_count": 0,
          "categories": [
           {
            "name": "en",
            "count": 5
           }
          ]
         }
        },
        {
         "name": "host_months",
         "dtype": "int64",
         "stats": {
          "unique_count": 2,
          "nan_count": 0,
          "min": "155",
          "max": "157",
          "histogram": [
           {
            "bin_start": 155,
            "bin_end": 155.2,
            "count": 4
           },
           {
            "bin_start": 155.2,
            "bin_end": 155.4,
            "count": 0
           },
           {
            "bin_start": 155.4,
            "bin_end": 155.6,
            "count": 0
           },
           {
            "bin_start": 155.6,
            "bin_end": 155.8,
            "count": 0
           },
           {
            "bin_start": 155.8,
            "bin_end": 156,
            "count": 0
           },
           {
            "bin_start": 156,
            "bin_end": 156.2,
            "count": 0
           },
           {
            "bin_start": 156.2,
            "bin_end": 156.4,
            "count": 0
           },
           {
            "bin_start": 156.4,
            "bin_end": 156.6,
            "count": 0
           },
           {
            "bin_start": 156.6,
            "bin_end": 156.8,
            "count": 0
           },
           {
            "bin_start": 156.8,
            "bin_end": 157,
            "count": 1
           }
          ]
         }
        },
        {
         "name": "dist_to_subway",
         "dtype": "float64",
         "stats": {
          "unique_count": 5,
          "nan_count": 0,
          "min": "0.0587757114041119",
          "max": "0.4645774623364079",
          "histogram": [
           {
            "bin_start": 0.0587757114041119,
            "bin_end": 0.0993558864973415,
            "count": 1
           },
           {
            "bin_start": 0.0993558864973415,
            "bin_end": 0.1399360615905711,
            "count": 0
           },
           {
            "bin_start": 0.1399360615905711,
            "bin_end": 0.1805162366838007,
            "count": 0
           },
           {
            "bin_start": 0.1805162366838007,
            "bin_end": 0.2210964117770303,
            "count": 1
           },
           {
            "bin_start": 0.2210964117770303,
            "bin_end": 0.2616765868702599,
            "count": 0
           },
           {
            "bin_start": 0.2616765868702599,
            "bin_end": 0.3022567619634895,
            "count": 0
           },
           {
            "bin_start": 0.3022567619634895,
            "bin_end": 0.34283693705671914,
            "count": 1
           },
           {
            "bin_start": 0.34283693705671914,
            "bin_end": 0.3834171121499487,
            "count": 0
           },
           {
            "bin_start": 0.3834171121499487,
            "bin_end": 0.4239972872431783,
            "count": 1
           },
           {
            "bin_start": 0.4239972872431783,
            "bin_end": 0.4645774623364079,
            "count": 1
           }
          ]
         }
        },
        {
         "name": "_deepnote_index_column",
         "dtype": "int64"
        }
       ],
       "rows": [
        {
         "id": 3831,
         "name": "Whole flr w/private bdrm, bath & kitchen(pls read)",
         "description": "Enjoy 500 s.f. top floor in 1899 brownstone, w/ wood & ceramic flooring throughout, roomy bdrm, & u…",
         "neighborhood_overview": "Just the right mix of urban center and local neighborhood; close to all but enough quiet for a calm…",
         "host_since": "2008-12-07",
         "host_response_time": "a few days or more",
         "host_response_rate": 0,
         "host_acceptance_rate": 64,
         "host_is_superhost": "f",
         "host_listings_count": 1,
         "host_has_profile_pic": "t",
         "host_identity_verified": "t",
         "neighbourhood": "Brooklyn, New York, United States",
         "neighbourhood_cleansed": "Bedford-Stuyvesant",
         "neighbourhood_group_cleansed": "Brooklyn",
         "latitude": 40.68494,
         "longitude": -73.95765,
         "property_type": "Entire guest suite",
         "room_type": "Entire home/apt",
         "accommodates": 3,
         "bathrooms_text": "1 bath",
         "bedrooms": 1,
         "beds": 3,
         "amenities": "[\"Hot water\", \"Iron\", \"Children\\u2019s books and toys\", \"Refrigerator\", \"Kitchen\", \"Cable TV\", \"Fir…",
         "price": 73,
         "minimum_nights": 1,
         "maximum_nights": 730,
         "has_availability": "t",
         "availability_30": 3,
         "availability_60": 15,
         "availability_90": 26,
         "availability_365": 214,
         "number_of_reviews": 409,
         "number_of_reviews_ltm": 26,
         "number_of_reviews_l30d": 0,
         "review_scores_rating": 4.45,
         "review_scores_accuracy": 4.58,
         "review_scores_cleanliness": 4.49,
         "review_scores_checkin": 4.78,
         "review_scores_communication": 4.8,
         "review_scores_location": 4.71,
         "review_scores_value": 4.64,
         "instant_bookable": "f",
         "calculated_host_listings_count": 1,
         "amenities_str": "\"Hot water\", \"Iron\", \"Children\\u2019s books and toys\", \"Refrigerator\", \"Kitchen\", \"Cable TV\", \"Fire…",
         "name_lang": "en",
         "description_lang": "en",
         "host_months": 157,
         "dist_to_subway": 0.4013367708798816,
         "_deepnote_index_column": 0
        },
        {
         "id": 5121,
         "name": "BlissArtsSpace!",
         "description": " The space  HELLO EVERYONE AND THANKS FOR VISITING BLISS ART SPACE!   Thank you all for your suppor…",
         "neighborhood_overview": "No Data",
         "host_since": "2009-02-03",
         "host_response_time": "within an hour",
         "host_response_rate": 100,
         "host_acceptance_rate": 100,
         "host_is_superhost": "f",
         "host_listings_count": 1,
         "host_has_profile_pic": "t",
         "host_identity_verified": "t",
         "neighbourhood": "No Data",
         "neighbourhood_cleansed": "Bedford-Stuyvesant",
         "neighbourhood_group_cleansed": "Brooklyn",
         "latitude": 40.68535,
         "longitude": -73.95512,
         "property_type": "Private room in rental unit",
         "room_type": "Private room",
         "accommodates": 2,
         "bathrooms_text": "No Data",
         "bedrooms": 1,
         "beds": 1,
         "amenities": "[\"Heating\", \"Air conditioning\", \"Long term stays allowed\", \"Wifi\", \"Kitchen\"]",
         "price": 60,
         "minimum_nights": 30,
         "maximum_nights": 730,
         "has_availability": "t",
         "availability_30": 30,
         "availability_60": 60,
         "availability_90": 90,
         "availability_365": 365,
         "number_of_reviews": 50,
         "number_of_reviews_ltm": 0,
         "number_of_reviews_l30d": 0,
         "review_scores_rating": 4.52,
         "review_scores_accuracy": 4.22,
         "review_scores_cleanliness": 4.09,
         "review_scores_checkin": 4.91,
         "review_scores_communication": 4.91,
         "review_scores_location": 4.47,
         "review_scores_value": 4.52,
         "instant_bookable": "f",
         "calculated_host_listings_count": 2,
         "amenities_str": "\"Heating\", \"Air conditioning\", \"Long term stays allowed\", \"Wifi\", \"Kitchen\"",
         "name_lang": "en",
         "description_lang": "en",
         "host_months": 155,
         "dist_to_subway": 0.4645774623364079,
         "_deepnote_index_column": 1
        },
        {
         "id": 5136,
         "name": "Spacious Brooklyn Duplex, Patio + Garden",
         "description": "We welcome you to stay in our lovely 2 br duplex in South Slope, Brooklyn.  Our home is a truly spa…",
         "neighborhood_overview": "No Data",
         "host_since": "2009-02-03",
         "host_response_time": "No Data",
         "host_response_rate": "nan",
         "host_acceptance_rate": 25,
         "host_is_superhost": "f",
         "host_listings_count": 1,
         "host_has_profile_pic": "t",
         "host_identity_verified": "t",
         "neighbourhood": "No Data",
         "neighbourhood_cleansed": "Sunset Park",
         "neighbourhood_group_cleansed": "Brooklyn",
         "latitude": 40.66265,
         "longitude": -73.99454,
         "property_type": "Entire rental unit",
         "room_type": "Entire home/apt",
         "accommodates": 4,
         "bathrooms_text": "1.5 baths",
         "bedrooms": 2,
         "beds": 2,
         "amenities": "[\"Cable TV\", \"TV with standard cable\", \"Outdoor furniture\", \"Carbon monoxide alarm\", \"Smoke alarm\",…",
         "price": 275,
         "minimum_nights": 5,
         "maximum_nights": 1125,
         "has_availability": "t",
         "availability_30": 0,
         "availability_60": 9,
         "availability_90": 9,
         "availability_365": 152,
         "number_of_reviews": 2,
         "number_of_reviews_ltm": 1,
         "number_of_reviews_l30d": 0,
         "review_scores_rating": 5,
         "review_scores_accuracy": 5,
         "review_scores_cleanliness": 5,
         "review_scores_checkin": 5,
         "review_scores_communication": 5,
         "review_scores_location": 4.5,
         "review_scores_value": 5,
         "instant_bookable": "f",
         "calculated_host_listings_count": 1,
         "amenities_str": "\"Cable TV\", \"TV with standard cable\", \"Outdoor furniture\", \"Carbon monoxide alarm\", \"Smoke alarm\", …",
         "name_lang": "en",
         "description_lang": "en",
         "host_months": 155,
         "dist_to_subway": 0.3378012480192298,
         "_deepnote_index_column": 2
        },
        {
         "id": 5178,
         "name": "Large Furnished Room Near B'way　",
         "description": "Please don’t expect the luxury here just a basic room in the center of Manhattan.   The space  You …",
         "neighborhood_overview": "Theater district, many restaurants around here.",
         "host_since": "2009-03-03",
         "host_response_time": "within a few hours",
         "host_response_rate": 100,
         "host_acceptance_rate": 100,
         "host_is_superhost": "f",
         "host_listings_count": 1,
         "host_has_profile_pic": "t",
         "host_identity_verified": "f",
         "neighbourhood": "New York, United States",
         "neighbourhood_cleansed": "Midtown",
         "neighbourhood_group_cleansed": "Manhattan",
         "latitude": 40.76457,
         "longitude": -73.98317,
         "property_type": "Private room in rental unit",
         "room_type": "Private room",
         "accommodates": 2,
         "bathrooms_text": "1 bath",
         "bedrooms": 1,
         "beds": 1,
         "amenities": "[\"Hot water\", \"Body soap\", \"Iron\", \"Lock on bedroom door\", \"Refrigerator\", \"Conditioner\", \"Laundrom…",
         "price": 68,
         "minimum_nights": 2,
         "maximum_nights": 14,
         "has_availability": "t",
         "availability_30": 9,
         "availability_60": 24,
         "availability_90": 34,
         "availability_365": 198,
         "number_of_reviews": 514,
         "number_of_reviews_ltm": 40,
         "number_of_reviews_l30d": 4,
         "review_scores_rating": 4.22,
         "review_scores_accuracy": 4.21,
         "review_scores_cleanliness": 3.73,
         "review_scores_checkin": 4.66,
         "review_scores_communication": 4.42,
         "review_scores_location": 4.87,
         "review_scores_value": 4.36,
         "instant_bookable": "f",
         "calculated_host_listings_count": 1,
         "amenities_str": "\"Hot water\", \"Body soap\", \"Iron\", \"Lock on bedroom door\", \"Refrigerator\", \"Conditioner\", \"Laundroma…",
         "name_lang": "ja",
         "description_lang": "en",
         "host_months": 155,
         "dist_to_subway": 0.2116828451243103,
         "_deepnote_index_column": 3
        },
        {
         "id": 5203,
         "name": "Cozy Clean Guest Room - Family Apt",
         "description": "Our best guests are seeking a safe, clean, spare room in a family apartment.  They are comfortable …",
         "neighborhood_overview": "Our neighborhood is full of restaurants and cafes.  There is plenty to do.",
         "host_since": "2009-02-05",
         "host_response_time": "No Data",
         "host_response_rate": "nan",
         "host_acceptance_rate": "nan",
         "host_is_superhost": "f",
         "host_listings_count": 1,
         "host_has_profile_pic": "t",
         "host_identity_verified": "t",
         "neighbourhood": "New York, United States",
         "neighbourhood_cleansed": "Upper West Side",
         "neighbourhood_group_cleansed": "Manhattan",
         "latitude": 40.8038,
         "longitude": -73.96751,
         "property_type": "Private room in rental unit",
         "room_type": "Private room",
         "accommodates": 1,
         "bathrooms_text": "1 shared bath",
         "bedrooms": 1,
         "beds": 1,
         "amenities": "[\"Fire extinguisher\", \"Hot water\", \"Carbon monoxide alarm\", \"Smoke alarm\", \"Elevator\", \"Free street…",
         "price": 75,
         "minimum_nights": 2,
         "maximum_nights": 14,
         "has_availability": "t",
         "availability_30": 0,
         "availability_60": 0,
         "availability_90": 0,
         "availability_365": 0,
         "number_of_reviews": 118,
         "number_of_reviews_ltm": 0,
         "number_of_reviews_l30d": 0,
         "review_scores_rating": 4.91,
         "review_scores_accuracy": 4.83,
         "review_scores_cleanliness": 4.82,
         "review_scores_checkin": 4.97,
         "review_scores_communication": 4.95,
         "review_scores_location": 4.94,
         "review_scores_value": 4.92,
         "instant_bookable": "f",
         "calculated_host_listings_count": 1,
         "amenities_str": "\"Fire extinguisher\", \"Hot water\", \"Carbon monoxide alarm\", \"Smoke alarm\", \"Elevator\", \"Free street …",
         "name_lang": "en",
         "description_lang": "en",
         "host_months": 155,
         "dist_to_subway": 0.0587757114041119,
         "_deepnote_index_column": 4
        }
       ]
      },
      "text/plain": "     id                                               name  \\\n0  3831  Whole flr w/private bdrm, bath & kitchen(pls r...   \n1  5121                                    BlissArtsSpace!   \n2  5136           Spacious Brooklyn Duplex, Patio + Garden   \n3  5178                   Large Furnished Room Near B'way　   \n4  5203                 Cozy Clean Guest Room - Family Apt   \n\n                                         description  \\\n0  Enjoy 500 s.f. top floor in 1899 brownstone, w...   \n1   The space  HELLO EVERYONE AND THANKS FOR VISI...   \n2  We welcome you to stay in our lovely 2 br dupl...   \n3  Please don’t expect the luxury here just a bas...   \n4  Our best guests are seeking a safe, clean, spa...   \n\n                               neighborhood_overview  host_since  \\\n0  Just the right mix of urban center and local n...  2008-12-07   \n1                                            No Data  2009-02-03   \n2                                            No Data  2009-02-03   \n3    Theater district, many restaurants around here.  2009-03-03   \n4  Our neighborhood is full of restaurants and ca...  2009-02-05   \n\n   host_response_time  host_response_rate  host_acceptance_rate  \\\n0  a few days or more                 0.0                  64.0   \n1      within an hour               100.0                 100.0   \n2             No Data                 NaN                  25.0   \n3  within a few hours               100.0                 100.0   \n4             No Data                 NaN                   NaN   \n\n  host_is_superhost  host_listings_count  ... review_scores_communication  \\\n0                 f                  1.0  ...                        4.80   \n1                 f                  1.0  ...                        4.91   \n2                 f                  1.0  ...                        5.00   \n3                 f                  1.0  ...                        4.42   \n4                 f                  1.0  ...                        4.95   \n\n  review_scores_location review_scores_value instant_bookable  \\\n0                   4.71                4.64                f   \n1                   4.47                4.52                f   \n2                   4.50                5.00                f   \n3                   4.87                4.36                f   \n4                   4.94                4.92                f   \n\n  calculated_host_listings_count  \\\n0                              1   \n1                              2   \n2                              1   \n3                              1   \n4                              1   \n\n                                       amenities_str  name_lang  \\\n0  \"Hot water\", \"Iron\", \"Children\\u2019s books an...         en   \n1  \"Heating\", \"Air conditioning\", \"Long term stay...         en   \n2  \"Cable TV\", \"TV with standard cable\", \"Outdoor...         en   \n3  \"Hot water\", \"Body soap\", \"Iron\", \"Lock on bed...         ja   \n4  \"Fire extinguisher\", \"Hot water\", \"Carbon mono...         en   \n\n  description_lang host_months  dist_to_subway  \n0               en         157        0.401337  \n1               en         155        0.464577  \n2               en         155        0.337801  \n3               en         155        0.211683  \n4               en         155        0.058776  \n\n[5 rows x 49 columns]",
      "text/html": "<div>\n<style scoped>\n    .dataframe tbody tr th:only-of-type {\n        vertical-align: middle;\n    }\n\n    .dataframe tbody tr th {\n        vertical-align: top;\n    }\n\n    .dataframe thead th {\n        text-align: right;\n    }\n</style>\n<table border=\"1\" class=\"dataframe\">\n  <thead>\n    <tr style=\"text-align: right;\">\n      <th></th>\n      <th>id</th>\n      <th>name</th>\n      <th>description</th>\n      <th>neighborhood_overview</th>\n      <th>host_since</th>\n      <th>host_response_time</th>\n      <th>host_response_rate</th>\n      <th>host_acceptance_rate</th>\n      <th>host_is_superhost</th>\n      <th>host_listings_count</th>\n      <th>...</th>\n      <th>review_scores_communication</th>\n      <th>review_scores_location</th>\n      <th>review_scores_value</th>\n      <th>instant_bookable</th>\n      <th>calculated_host_listings_count</th>\n      <th>amenities_str</th>\n      <th>name_lang</th>\n      <th>description_lang</th>\n      <th>host_months</th>\n      <th>dist_to_subway</th>\n    </tr>\n  </thead>\n  <tbody>\n    <tr>\n      <th>0</th>\n      <td>3831</td>\n      <td>Whole flr w/private bdrm, bath &amp; kitchen(pls r...</td>\n      <td>Enjoy 500 s.f. top floor in 1899 brownstone, w...</td>\n      <td>Just the right mix of urban center and local n...</td>\n      <td>2008-12-07</td>\n      <td>a few days or more</td>\n      <td>0.0</td>\n      <td>64.0</td>\n      <td>f</td>\n      <td>1.0</td>\n      <td>...</td>\n      <td>4.80</td>\n      <td>4.71</td>\n      <td>4.64</td>\n      <td>f</td>\n      <td>1</td>\n      <td>\"Hot water\", \"Iron\", \"Children\\u2019s books an...</td>\n      <td>en</td>\n      <td>en</td>\n      <td>157</td>\n      <td>0.401337</td>\n    </tr>\n    <tr>\n      <th>1</th>\n      <td>5121</td>\n      <td>BlissArtsSpace!</td>\n      <td>The space  HELLO EVERYONE AND THANKS FOR VISI...</td>\n      <td>No Data</td>\n      <td>2009-02-03</td>\n      <td>within an hour</td>\n      <td>100.0</td>\n      <td>100.0</td>\n      <td>f</td>\n      <td>1.0</td>\n      <td>...</td>\n      <td>4.91</td>\n      <td>4.47</td>\n      <td>4.52</td>\n      <td>f</td>\n      <td>2</td>\n      <td>\"Heating\", \"Air conditioning\", \"Long term stay...</td>\n      <td>en</td>\n      <td>en</td>\n      <td>155</td>\n      <td>0.464577</td>\n    </tr>\n    <tr>\n      <th>2</th>\n      <td>5136</td>\n      <td>Spacious Brooklyn Duplex, Patio + Garden</td>\n      <td>We welcome you to stay in our lovely 2 br dupl...</td>\n      <td>No Data</td>\n      <td>2009-02-03</td>\n      <td>No Data</td>\n      <td>NaN</td>\n      <td>25.0</td>\n      <td>f</td>\n      <td>1.0</td>\n      <td>...</td>\n      <td>5.00</td>\n      <td>4.50</td>\n      <td>5.00</td>\n      <td>f</td>\n      <td>1</td>\n      <td>\"Cable TV\", \"TV with standard cable\", \"Outdoor...</td>\n      <td>en</td>\n      <td>en</td>\n      <td>155</td>\n      <td>0.337801</td>\n    </tr>\n    <tr>\n      <th>3</th>\n      <td>5178</td>\n      <td>Large Furnished Room Near B'way</td>\n      <td>Please don’t expect the luxury here just a bas...</td>\n      <td>Theater district, many restaurants around here.</td>\n      <td>2009-03-03</td>\n      <td>within a few hours</td>\n      <td>100.0</td>\n      <td>100.0</td>\n      <td>f</td>\n      <td>1.0</td>\n      <td>...</td>\n      <td>4.42</td>\n      <td>4.87</td>\n      <td>4.36</td>\n      <td>f</td>\n      <td>1</td>\n      <td>\"Hot water\", \"Body soap\", \"Iron\", \"Lock on bed...</td>\n      <td>ja</td>\n      <td>en</td>\n      <td>155</td>\n      <td>0.211683</td>\n    </tr>\n    <tr>\n      <th>4</th>\n      <td>5203</td>\n      <td>Cozy Clean Guest Room - Family Apt</td>\n      <td>Our best guests are seeking a safe, clean, spa...</td>\n      <td>Our neighborhood is full of restaurants and ca...</td>\n      <td>2009-02-05</td>\n      <td>No Data</td>\n      <td>NaN</td>\n      <td>NaN</td>\n      <td>f</td>\n      <td>1.0</td>\n      <td>...</td>\n      <td>4.95</td>\n      <td>4.94</td>\n      <td>4.92</td>\n      <td>f</td>\n      <td>1</td>\n      <td>\"Fire extinguisher\", \"Hot water\", \"Carbon mono...</td>\n      <td>en</td>\n      <td>en</td>\n      <td>155</td>\n      <td>0.058776</td>\n    </tr>\n  </tbody>\n</table>\n<p>5 rows × 49 columns</p>\n</div>"
     },
     "metadata": {}
    }
   ]
  },
  {
   "cell_type": "markdown",
   "source": "## Remove Non-English Records",
   "metadata": {
    "cell_id": "35b15756-bb24-46f4-b157-bb3077b89fd3",
    "tags": [],
    "deepnote_cell_type": "markdown",
    "deepnote_cell_height": 70
   }
  },
  {
   "cell_type": "markdown",
   "source": "We are aware that detect_lang model used is not 100% accurate. Since we have much fewer listings than reviews, we will further inspect listings with non-English names and descriptions. We will manually check through the names and descriptions of such listings and only remove those that are correctly labelled as non-English. For reviews, we will drop those which have been identified by the model as non-English.",
   "metadata": {
    "cell_id": "9d011cbe-51ac-4fe8-a3d2-9f655f307255",
    "tags": [],
    "deepnote_cell_type": "markdown",
    "deepnote_cell_height": 141.96875
   }
  },
  {
   "cell_type": "code",
   "metadata": {
    "cell_id": "0361e7ee-32b8-41b0-a528-8ee4b4c0b11a",
    "tags": [],
    "deepnote_to_be_reexecuted": false,
    "source_hash": "9026a90",
    "execution_start": 1647055628154,
    "execution_millis": 304,
    "deepnote_table_state": {
     "pageSize": 10,
     "pageIndex": 16,
     "filters": [],
     "sortBy": []
    },
    "deepnote_table_loading": false,
    "deepnote_cell_type": "code",
    "deepnote_cell_height": 593.65625
   },
   "source": "listings[(listings['name_lang'] != 'en') & (listings['description_lang'] != 'en')]\n# 163 listings with non-English name and description",
   "execution_count": null,
   "outputs": [
    {
     "output_type": "execute_result",
     "execution_count": 7,
     "data": {
      "application/vnd.deepnote.dataframe.v3+json": {
       "column_count": 49,
       "row_count": 9,
       "columns": [
        {
         "name": "id",
         "dtype": "int64",
         "stats": {
          "unique_count": 9,
          "nan_count": 0,
          "min": "4948928",
          "max": "48506346",
          "histogram": [
           {
            "bin_start": 4948928,
            "bin_end": 9304669.8,
            "count": 2
           },
           {
            "bin_start": 9304669.8,
            "bin_end": 13660411.6,
            "count": 2
           },
           {
            "bin_start": 13660411.6,
            "bin_end": 18016153.4,
            "count": 0
           },
           {
            "bin_start": 18016153.4,
            "bin_end": 22371895.2,
            "count": 0
           },
           {
            "bin_start": 22371895.2,
            "bin_end": 26727637,
            "count": 0
           },
           {
            "bin_start": 26727637,
            "bin_end": 31083378.799999997,
            "count": 1
           },
           {
            "bin_start": 31083378.799999997,
            "bin_end": 35439120.599999994,
            "count": 1
           },
           {
            "bin_start": 35439120.599999994,
            "bin_end": 39794862.4,
            "count": 0
           },
           {
            "bin_start": 39794862.4,
            "bin_end": 44150604.199999996,
            "count": 1
           },
           {
            "bin_start": 44150604.199999996,
            "bin_end": 48506346,
            "count": 2
           }
          ]
         }
        },
        {
         "name": "name",
         "dtype": "object",
         "stats": {
          "unique_count": 9,
          "nan_count": 0,
          "categories": [
           {
            "name": "HUGE 1 BED@TIMES SQUARE@BRAND NEW!!",
            "count": 1
           },
           {
            "name": "HUGE ONE BED APARTMENT! TIMES SQ!!!WEST 39TH!!!",
            "count": 1
           },
           {
            "name": "7 others",
            "count": 7
           }
          ]
         }
        },
        {
         "name": "description",
         "dtype": "object",
         "stats": {
          "unique_count": 8,
          "nan_count": 0,
          "categories": [
           {
            "name": "This apartment is located 3min from subway \"Grand Ave-Newtown\" station. This room is on 2nd floor.  The apartment is built in 2015 and we are the first tenant in this building. Everything was new at that time. We clean apartment often so we successfully keep that condition. Its floor is still shiny and appliances looks nice.   5bedroom 2bathroom apartment. You will share 1 bathroom with 3 other rooms and share kitchen 4 other rooms.   The space  The apartment is built in 2015 and we are the first tenant in this building. Everything was new at that time. Room size is about 100sqft It has twin size bed, closet, desk, chair, and window AC.  Small Kitchen and  No dining & living area  最近注目を集めているElmhurstの中でも人気のエリア。 23時間であいているTargetがあったり、モールが近くにあるから買い物にも便利。 24hrオープンのドラッグストアも1ブロック先にあります。 夜の雰囲気もマイルドなので、女性にも安心です。   ６畳　南向き窓で前も開けているので、陽射し抜群で開放的です☆ 備え付け家具：ツインサイズベット・デスク・イス・簡易クローゼット　 ☆アパート リ",
            "count": 2
           },
           {
            "name": "PLEASE DON'T TRY TO BOOK THE APARTMENT BEFORE CONTACTING ME FIRST, THANKS!  NO PETS ALLOWED   THE BEST MIDTOWN/TIMES SQUARE LOCATION JUST A SHORT WALK TO SHOPPING, DINING AND TRANSPORTATION**  OUTRAGEOUSLY BEAUTIFUL!  COMPLETELY NEW RENOVATIONS!  A FOYER!  2 HUGE CLOSETS!  BRAND NEW!  BRAND NEW KITCHEN!  MARBLE BATH!  NEW HARDWOOD FLOORS!   The space  OUTRAGEOUSLY BEAUTIFUL! COMPLETELY NEW RENOVATIONS! 1 HUGE CLOSET! BRAND NEW KITCHEN! MARBLE BATH!  HARDWOOD FLOORS!  UTILITIES INCLUDED IN THE RENT! (INTERNET!! CABLE!! ELECTRICITY!! GAS AND ELECTRIC!!)  FULLY FURNISHED WITH A QUEEN SIZE BED, A COFFEE TABLE, A SOFA, AND MORE!!!!  - 2 COZY ARMCHAIRS IN THE LIVING ROOM!!! - 2 SETS OF BEDDING/PILLOWS - FULLY STOCKED KITCHEN (STOVE, OVEN, MICROWAVE, REFRIGERATOR, POTS, PANS, GLASSES PLATES, TEAS AND COFFEES, ETC) -BATHROOM INCLUDES 2 SETS OF TO",
            "count": 1
           },
           {
            "name": "6 others",
            "count": 6
           }
          ]
         }
        },
        {
         "name": "neighborhood_overview",
         "dtype": "object",
         "stats": {
          "unique_count": 4,
          "nan_count": 0,
          "categories": [
           {
            "name": "No Data",
            "count": 5
           },
           {
            "name": "Grand Ave is asian oriented community. You can find almost everything you need in this neighborhood. You have 24hr-open drug store, 2 Laundromat are  1-2 block away, 99c store, Target(open until midnight), best buy, and banks, and etc. Starbucks is just above a subway station. Queens mall is 10min walk.  What I really want to recommend is restaurant in this neighborhood. If you love Asian cuisine, you can have nice food with extremely reasonable price comparing with manhattan.  ◆◇◆　アパート周辺　◆◇◆ アパートは駅から3分、駅の周りも賑やかで開発が進んでいるので、すごく便利です。 駅には、スターバックスやランドリー、中華系スーパーもあるので、生活に便利。 23時まで開いているTargetもあって、近くにはモールもあるので買い物も楽々!  クイーンズのMR線 グランドアヴェニュー駅から徒歩３分の距離！立地も超便利！この近辺や大型モールや新しいキレイな建物も増えてきており、New townとも呼ばれております☆駅から徒歩３分と駅近なだけでなく、大型ショッピングモールのクイーンズモールまでも、徒歩5分程とNYライフが充実すること間違いなしです♪",
            "count": 2
           },
           {
            "name": "2 others",
            "count": 2
           }
          ]
         }
        },
        {
         "name": "host_since",
         "dtype": "object",
         "stats": {
          "unique_count": 7,
          "nan_count": 0,
          "categories": [
           {
            "name": "2011-08-03",
            "count": 2
           },
           {
            "name": "2014-08-01",
            "count": 2
           },
           {
            "name": "5 others",
            "count": 5
           }
          ]
         }
        },
        {
         "name": "host_response_time",
         "dtype": "object",
         "stats": {
          "unique_count": 4,
          "nan_count": 0,
          "categories": [
           {
            "name": "within an hour",
            "count": 4
           },
           {
            "name": "within a few hours",
            "count": 2
           },
           {
            "name": "2 others",
            "count": 3
           }
          ]
         }
        },
        {
         "name": "host_response_rate",
         "dtype": "float64",
         "stats": {
          "unique_count": 3,
          "nan_count": 2,
          "min": "17.0",
          "max": "100.0",
          "histogram": [
           {
            "bin_start": 17,
            "bin_end": 25.3,
            "count": 1
           },
           {
            "bin_start": 25.3,
            "bin_end": 33.6,
            "count": 0
           },
           {
            "bin_start": 33.6,
            "bin_end": 41.900000000000006,
            "count": 0
           },
           {
            "bin_start": 41.900000000000006,
            "bin_end": 50.2,
            "count": 0
           },
           {
            "bin_start": 50.2,
            "bin_end": 58.5,
            "count": 0
           },
           {
            "bin_start": 58.5,
            "bin_end": 66.80000000000001,
            "count": 0
           },
           {
            "bin_start": 66.80000000000001,
            "bin_end": 75.10000000000001,
            "count": 0
           },
           {
            "bin_start": 75.10000000000001,
            "bin_end": 83.4,
            "count": 0
           },
           {
            "bin_start": 83.4,
            "bin_end": 91.7,
            "count": 2
           },
           {
            "bin_start": 91.7,
            "bin_end": 100,
            "count": 4
           }
          ]
         }
        },
        {
         "name": "host_acceptance_rate",
         "dtype": "float64",
         "stats": {
          "unique_count": 6,
          "nan_count": 1,
          "min": "9.0",
          "max": "100.0",
          "histogram": [
           {
            "bin_start": 9,
            "bin_end": 18.1,
            "count": 1
           },
           {
            "bin_start": 18.1,
            "bin_end": 27.2,
            "count": 0
           },
           {
            "bin_start": 27.2,
            "bin_end": 36.3,
            "count": 0
           },
           {
            "bin_start": 36.3,
            "bin_end": 45.4,
            "count": 2
           },
           {
            "bin_start": 45.4,
            "bin_end": 54.5,
            "count": 0
           },
           {
            "bin_start": 54.5,
            "bin_end": 63.599999999999994,
            "count": 0
           },
           {
            "bin_start": 63.599999999999994,
            "bin_end": 72.69999999999999,
            "count": 0
           },
           {
            "bin_start": 72.69999999999999,
            "bin_end": 81.8,
            "count": 1
           },
           {
            "bin_start": 81.8,
            "bin_end": 90.89999999999999,
            "count": 2
           },
           {
            "bin_start": 90.89999999999999,
            "bin_end": 100,
            "count": 2
           }
          ]
         }
        },
        {
         "name": "host_is_superhost",
         "dtype": "object",
         "stats": {
          "unique_count": 2,
          "nan_count": 0,
          "categories": [
           {
            "name": "f",
            "count": 8
           },
           {
            "name": "t",
            "count": 1
           }
          ]
         }
        },
        {
         "name": "host_listings_count",
         "dtype": "float64",
         "stats": {
          "unique_count": 5,
          "nan_count": 0,
          "min": "1.0",
          "max": "190.0",
          "histogram": [
           {
            "bin_start": 1,
            "bin_end": 19.9,
            "count": 7
           },
           {
            "bin_start": 19.9,
            "bin_end": 38.8,
            "count": 0
           },
           {
            "bin_start": 38.8,
            "bin_end": 57.699999999999996,
            "count": 0
           },
           {
            "bin_start": 57.699999999999996,
            "bin_end": 76.6,
            "count": 0
           },
           {
            "bin_start": 76.6,
            "bin_end": 95.5,
            "count": 0
           },
           {
            "bin_start": 95.5,
            "bin_end": 114.39999999999999,
            "count": 0
           },
           {
            "bin_start": 114.39999999999999,
            "bin_end": 133.29999999999998,
            "count": 0
           },
           {
            "bin_start": 133.29999999999998,
            "bin_end": 152.2,
            "count": 0
           },
           {
            "bin_start": 152.2,
            "bin_end": 171.1,
            "count": 0
           },
           {
            "bin_start": 171.1,
            "bin_end": 190,
            "count": 2
           }
          ]
         }
        },
        {
         "name": "host_has_profile_pic",
         "dtype": "object",
         "stats": {
          "unique_count": 1,
          "nan_count": 0,
          "categories": [
           {
            "name": "t",
            "count": 9
           }
          ]
         }
        },
        {
         "name": "host_identity_verified",
         "dtype": "object",
         "stats": {
          "unique_count": 1,
          "nan_count": 0,
          "categories": [
           {
            "name": "t",
            "count": 9
           }
          ]
         }
        },
        {
         "name": "neighbourhood",
         "dtype": "object",
         "stats": {
          "unique_count": 3,
          "nan_count": 0,
          "categories": [
           {
            "name": "No Data",
            "count": 5
           },
           {
            "name": "New York, United States",
            "count": 2
           },
           {
            "name": "Queens, New York, United States",
            "count": 2
           }
          ]
         }
        },
        {
         "name": "neighbourhood_cleansed",
         "dtype": "object",
         "stats": {
          "unique_count": 7,
          "nan_count": 0,
          "categories": [
           {
            "name": "Hell's Kitchen",
            "count": 2
           },
           {
            "name": "Elmhurst",
            "count": 2
           },
           {
            "name": "5 others",
            "count": 5
           }
          ]
         }
        },
        {
         "name": "neighbourhood_group_cleansed",
         "dtype": "object",
         "stats": {
          "unique_count": 3,
          "nan_count": 0,
          "categories": [
           {
            "name": "Manhattan",
            "count": 4
           },
           {
            "name": "Queens",
            "count": 3
           },
           {
            "name": "Brooklyn",
            "count": 2
           }
          ]
         }
        },
        {
         "name": "latitude",
         "dtype": "float64",
         "stats": {
          "unique_count": 8,
          "nan_count": 0,
          "min": "40.62763",
          "max": "40.82048",
          "histogram": [
           {
            "bin_start": 40.62763,
            "bin_end": 40.64691500000001,
            "count": 1
           },
           {
            "bin_start": 40.64691500000001,
            "bin_end": 40.6662,
            "count": 1
           },
           {
            "bin_start": 40.6662,
            "bin_end": 40.685485,
            "count": 1
           },
           {
            "bin_start": 40.685485,
            "bin_end": 40.70477,
            "count": 0
           },
           {
            "bin_start": 40.70477,
            "bin_end": 40.72405500000001,
            "count": 0
           },
           {
            "bin_start": 40.72405500000001,
            "bin_end": 40.74334,
            "count": 2
           },
           {
            "bin_start": 40.74334,
            "bin_end": 40.762625,
            "count": 1
           },
           {
            "bin_start": 40.762625,
            "bin_end": 40.78191,
            "count": 2
           },
           {
            "bin_start": 40.78191,
            "bin_end": 40.80119500000001,
            "count": 0
           },
           {
            "bin_start": 40.80119500000001,
            "bin_end": 40.82048,
            "count": 1
           }
          ]
         }
        },
        {
         "name": "longitude",
         "dtype": "float64",
         "stats": {
          "unique_count": 9,
          "nan_count": 0,
          "min": "-73.99501",
          "max": "-73.76782",
          "histogram": [
           {
            "bin_start": -73.99501,
            "bin_end": -73.972291,
            "count": 2
           },
           {
            "bin_start": -73.972291,
            "bin_end": -73.94957199999999,
            "count": 3
           },
           {
            "bin_start": -73.94957199999999,
            "bin_end": -73.926853,
            "count": 1
           },
           {
            "bin_start": -73.926853,
            "bin_end": -73.904134,
            "count": 0
           },
           {
            "bin_start": -73.904134,
            "bin_end": -73.881415,
            "count": 0
           },
           {
            "bin_start": -73.881415,
            "bin_end": -73.858696,
            "count": 2
           },
           {
            "bin_start": -73.858696,
            "bin_end": -73.835977,
            "count": 0
           },
           {
            "bin_start": -73.835977,
            "bin_end": -73.813258,
            "count": 0
           },
           {
            "bin_start": -73.813258,
            "bin_end": -73.790539,
            "count": 0
           },
           {
            "bin_start": -73.790539,
            "bin_end": -73.76782,
            "count": 1
           }
          ]
         }
        },
        {
         "name": "property_type",
         "dtype": "object",
         "stats": {
          "unique_count": 4,
          "nan_count": 0,
          "categories": [
           {
            "name": "Entire rental unit",
            "count": 4
           },
           {
            "name": "Private room in residential home",
            "count": 2
           },
           {
            "name": "2 others",
            "count": 3
           }
          ]
         }
        },
        {
         "name": "room_type",
         "dtype": "object",
         "stats": {
          "unique_count": 2,
          "nan_count": 0,
          "categories": [
           {
            "name": "Entire home/apt",
            "count": 5
           },
           {
            "name": "Private room",
            "count": 4
           }
          ]
         }
        },
        {
         "name": "accommodates",
         "dtype": "int64",
         "stats": {
          "unique_count": 4,
          "nan_count": 0,
          "min": "1",
          "max": "4",
          "histogram": [
           {
            "bin_start": 1,
            "bin_end": 1.3,
            "count": 3
           },
           {
            "bin_start": 1.3,
            "bin_end": 1.6,
            "count": 0
           },
           {
            "bin_start": 1.6,
            "bin_end": 1.9,
            "count": 0
           },
           {
            "bin_start": 1.9,
            "bin_end": 2.2,
            "count": 4
           },
           {
            "bin_start": 2.2,
            "bin_end": 2.5,
            "count": 0
           },
           {
            "bin_start": 2.5,
            "bin_end": 2.8,
            "count": 0
           },
           {
            "bin_start": 2.8,
            "bin_end": 3.1,
            "count": 1
           },
           {
            "bin_start": 3.1,
            "bin_end": 3.4,
            "count": 0
           },
           {
            "bin_start": 3.4,
            "bin_end": 3.6999999999999997,
            "count": 0
           },
           {
            "bin_start": 3.6999999999999997,
            "bin_end": 4,
            "count": 1
           }
          ]
         }
        },
        {
         "name": "bathrooms_text",
         "dtype": "object",
         "stats": {
          "unique_count": 2,
          "nan_count": 0,
          "categories": [
           {
            "name": "1 bath",
            "count": 6
           },
           {
            "name": "1 shared bath",
            "count": 3
           }
          ]
         }
        },
        {
         "name": "bedrooms",
         "dtype": "int64",
         "stats": {
          "unique_count": 2,
          "nan_count": 0,
          "min": "1",
          "max": "2",
          "histogram": [
           {
            "bin_start": 1,
            "bin_end": 1.1,
            "count": 8
           },
           {
            "bin_start": 1.1,
            "bin_end": 1.2,
            "count": 0
           },
           {
            "bin_start": 1.2,
            "bin_end": 1.3,
            "count": 0
           },
           {
            "bin_start": 1.3,
            "bin_end": 1.4,
            "count": 0
           },
           {
            "bin_start": 1.4,
            "bin_end": 1.5,
            "count": 0
           },
           {
            "bin_start": 1.5,
            "bin_end": 1.6,
            "count": 0
           },
           {
            "bin_start": 1.6,
            "bin_end": 1.7000000000000002,
            "count": 0
           },
           {
            "bin_start": 1.7000000000000002,
            "bin_end": 1.8,
            "count": 0
           },
           {
            "bin_start": 1.8,
            "bin_end": 1.9,
            "count": 0
           },
           {
            "bin_start": 1.9,
            "bin_end": 2,
            "count": 1
           }
          ]
         }
        },
        {
         "name": "beds",
         "dtype": "int64",
         "stats": {
          "unique_count": 2,
          "nan_count": 0,
          "min": "1",
          "max": "2",
          "histogram": [
           {
            "bin_start": 1,
            "bin_end": 1.1,
            "count": 8
           },
           {
            "bin_start": 1.1,
            "bin_end": 1.2,
            "count": 0
           },
           {
            "bin_start": 1.2,
            "bin_end": 1.3,
            "count": 0
           },
           {
            "bin_start": 1.3,
            "bin_end": 1.4,
            "count": 0
           },
           {
            "bin_start": 1.4,
            "bin_end": 1.5,
            "count": 0
           },
           {
            "bin_start": 1.5,
            "bin_end": 1.6,
            "count": 0
           },
           {
            "bin_start": 1.6,
            "bin_end": 1.7000000000000002,
            "count": 0
           },
           {
            "bin_start": 1.7000000000000002,
            "bin_end": 1.8,
            "count": 0
           },
           {
            "bin_start": 1.8,
            "bin_end": 1.9,
            "count": 0
           },
           {
            "bin_start": 1.9,
            "bin_end": 2,
            "count": 1
           }
          ]
         }
        },
        {
         "name": "amenities",
         "dtype": "object",
         "stats": {
          "unique_count": 9,
          "nan_count": 0,
          "categories": [
           {
            "name": "[\"Cable TV\", \"Fire extinguisher\", \"TV with standard cable\", \"Hot water\", \"Carbon monoxide alarm\", \"Smoke alarm\", \"Air conditioning\", \"Host greets you\", \"Essentials\", \"Dedicated workspace\", \"Long term stays allowed\", \"Wifi\", \"Heating\", \"Kitchen\"]",
            "count": 1
           },
           {
            "name": "[\"Cable TV\", \"Fire extinguisher\", \"TV with standard cable\", \"Carbon monoxide alarm\", \"Smoke alarm\", \"Air conditioning\", \"Essentials\", \"Long term stays allowed\", \"Bed linens\", \"Wifi\", \"Heating\", \"Kitchen\"]",
            "count": 1
           },
           {
            "name": "7 others",
            "count": 7
           }
          ]
         }
        },
        {
         "name": "price",
         "dtype": "float64",
         "stats": {
          "unique_count": 9,
          "nan_count": 0,
          "min": "34.0",
          "max": "270.0",
          "histogram": [
           {
            "bin_start": 34,
            "bin_end": 57.6,
            "count": 2
           },
           {
            "bin_start": 57.6,
            "bin_end": 81.2,
            "count": 4
           },
           {
            "bin_start": 81.2,
            "bin_end": 104.80000000000001,
            "count": 0
           },
           {
            "bin_start": 104.80000000000001,
            "bin_end": 128.4,
            "count": 0
           },
           {
            "bin_start": 128.4,
            "bin_end": 152,
            "count": 1
           },
           {
            "bin_start": 152,
            "bin_end": 175.60000000000002,
            "count": 1
           },
           {
            "bin_start": 175.60000000000002,
            "bin_end": 199.20000000000002,
            "count": 0
           },
           {
            "bin_start": 199.20000000000002,
            "bin_end": 222.8,
            "count": 0
           },
           {
            "bin_start": 222.8,
            "bin_end": 246.4,
            "count": 0
           },
           {
            "bin_start": 246.4,
            "bin_end": 270,
            "count": 1
           }
          ]
         }
        },
        {
         "name": "minimum_nights",
         "dtype": "int64",
         "stats": {
          "unique_count": 4,
          "nan_count": 0,
          "min": "1",
          "max": "30",
          "histogram": [
           {
            "bin_start": 1,
            "bin_end": 3.9,
            "count": 3
           },
           {
            "bin_start": 3.9,
            "bin_end": 6.8,
            "count": 0
           },
           {
            "bin_start": 6.8,
            "bin_end": 9.7,
            "count": 0
           },
           {
            "bin_start": 9.7,
            "bin_end": 12.6,
            "count": 0
           },
           {
            "bin_start": 12.6,
            "bin_end": 15.5,
            "count": 1
           },
           {
            "bin_start": 15.5,
            "bin_end": 18.4,
            "count": 0
           },
           {
            "bin_start": 18.4,
            "bin_end": 21.3,
            "count": 0
           },
           {
            "bin_start": 21.3,
            "bin_end": 24.2,
            "count": 0
           },
           {
            "bin_start": 24.2,
            "bin_end": 27.099999999999998,
            "count": 0
           },
           {
            "bin_start": 27.099999999999998,
            "bin_end": 30,
            "count": 5
           }
          ]
         }
        },
        {
         "name": "maximum_nights",
         "dtype": "int64",
         "stats": {
          "unique_count": 3,
          "nan_count": 0,
          "min": "6",
          "max": "1125",
          "histogram": [
           {
            "bin_start": 6,
            "bin_end": 117.9,
            "count": 1
           },
           {
            "bin_start": 117.9,
            "bin_end": 229.8,
            "count": 0
           },
           {
            "bin_start": 229.8,
            "bin_end": 341.70000000000005,
            "count": 0
           },
           {
            "bin_start": 341.70000000000005,
            "bin_end": 453.6,
            "count": 3
           },
           {
            "bin_start": 453.6,
            "bin_end": 565.5,
            "count": 0
           },
           {
            "bin_start": 565.5,
            "bin_end": 677.4000000000001,
            "count": 0
           },
           {
            "bin_start": 677.4000000000001,
            "bin_end": 789.3000000000001,
            "count": 0
           },
           {
            "bin_start": 789.3000000000001,
            "bin_end": 901.2,
            "count": 0
           },
           {
            "bin_start": 901.2,
            "bin_end": 1013.1,
            "count": 0
           },
           {
            "bin_start": 1013.1,
            "bin_end": 1125,
            "count": 5
           }
          ]
         }
        },
        {
         "name": "has_availability",
         "dtype": "object",
         "stats": {
          "unique_count": 1,
          "nan_count": 0,
          "categories": [
           {
            "name": "t",
            "count": 9
           }
          ]
         }
        },
        {
         "name": "availability_30",
         "dtype": "int64",
         "stats": {
          "unique_count": 4,
          "nan_count": 0,
          "min": "0",
          "max": "30",
          "histogram": [
           {
            "bin_start": 0,
            "bin_end": 3,
            "count": 4
           },
           {
            "bin_start": 3,
            "bin_end": 6,
            "count": 1
           },
           {
            "bin_start": 6,
            "bin_end": 9,
            "count": 0
           },
           {
            "bin_start": 9,
            "bin_end": 12,
            "count": 0
           },
           {
            "bin_start": 12,
            "bin_end": 15,
            "count": 0
           },
           {
            "bin_start": 15,
            "bin_end": 18,
            "count": 0
           },
           {
            "bin_start": 18,
            "bin_end": 21,
            "count": 1
           },
           {
            "bin_start": 21,
            "bin_end": 24,
            "count": 0
           },
           {
            "bin_start": 24,
            "bin_end": 27,
            "count": 0
           },
           {
            "bin_start": 27,
            "bin_end": 30,
            "count": 3
           }
          ]
         }
        },
        {
         "name": "availability_60",
         "dtype": "int64",
         "stats": {
          "unique_count": 4,
          "nan_count": 0,
          "min": "0",
          "max": "60",
          "histogram": [
           {
            "bin_start": 0,
            "bin_end": 6,
            "count": 4
           },
           {
            "bin_start": 6,
            "bin_end": 12,
            "count": 0
           },
           {
            "bin_start": 12,
            "bin_end": 18,
            "count": 0
           },
           {
            "bin_start": 18,
            "bin_end": 24,
            "count": 0
           },
           {
            "bin_start": 24,
            "bin_end": 30,
            "count": 0
           },
           {
            "bin_start": 30,
            "bin_end": 36,
            "count": 1
           },
           {
            "bin_start": 36,
            "bin_end": 42,
            "count": 0
           },
           {
            "bin_start": 42,
            "bin_end": 48,
            "count": 1
           },
           {
            "bin_start": 48,
            "bin_end": 54,
            "count": 0
           },
           {
            "bin_start": 54,
            "bin_end": 60,
            "count": 3
           }
          ]
         }
        },
        {
         "name": "availability_90",
         "dtype": "int64",
         "stats": {
          "unique_count": 4,
          "nan_count": 0,
          "min": "0",
          "max": "90",
          "histogram": [
           {
            "bin_start": 0,
            "bin_end": 9,
            "count": 4
           },
           {
            "bin_start": 9,
            "bin_end": 18,
            "count": 0
           },
           {
            "bin_start": 18,
            "bin_end": 27,
            "count": 0
           },
           {
            "bin_start": 27,
            "bin_end": 36,
            "count": 0
           },
           {
            "bin_start": 36,
            "bin_end": 45,
            "count": 1
           },
           {
            "bin_start": 45,
            "bin_end": 54,
            "count": 0
           },
           {
            "bin_start": 54,
            "bin_end": 63,
            "count": 1
           },
           {
            "bin_start": 63,
            "bin_end": 72,
            "count": 0
           },
           {
            "bin_start": 72,
            "bin_end": 81,
            "count": 0
           },
           {
            "bin_start": 81,
            "bin_end": 90,
            "count": 3
           }
          ]
         }
        },
        {
         "name": "availability_365",
         "dtype": "int64",
         "stats": {
          "unique_count": 5,
          "nan_count": 0,
          "min": "0",
          "max": "365",
          "histogram": [
           {
            "bin_start": 0,
            "bin_end": 36.5,
            "count": 3
           },
           {
            "bin_start": 36.5,
            "bin_end": 73,
            "count": 2
           },
           {
            "bin_start": 73,
            "bin_end": 109.5,
            "count": 0
           },
           {
            "bin_start": 109.5,
            "bin_end": 146,
            "count": 0
           },
           {
            "bin_start": 146,
            "bin_end": 182.5,
            "count": 0
           },
           {
            "bin_start": 182.5,
            "bin_end": 219,
            "count": 0
           },
           {
            "bin_start": 219,
            "bin_end": 255.5,
            "count": 1
           },
           {
            "bin_start": 255.5,
            "bin_end": 292,
            "count": 0
           },
           {
            "bin_start": 292,
            "bin_end": 328.5,
            "count": 0
           },
           {
            "bin_start": 328.5,
            "bin_end": 365,
            "count": 3
           }
          ]
         }
        },
        {
         "name": "number_of_reviews",
         "dtype": "int64",
         "stats": {
          "unique_count": 6,
          "nan_count": 0,
          "min": "0",
          "max": "27",
          "histogram": [
           {
            "bin_start": 0,
            "bin_end": 2.7,
            "count": 5
           },
           {
            "bin_start": 2.7,
            "bin_end": 5.4,
            "count": 1
           },
           {
            "bin_start": 5.4,
            "bin_end": 8.100000000000001,
            "count": 1
           },
           {
            "bin_start": 8.100000000000001,
            "bin_end": 10.8,
            "count": 1
           },
           {
            "bin_start": 10.8,
            "bin_end": 13.5,
            "count": 0
           },
           {
            "bin_start": 13.5,
            "bin_end": 16.200000000000003,
            "count": 0
           },
           {
            "bin_start": 16.200000000000003,
            "bin_end": 18.900000000000002,
            "count": 0
           },
           {
            "bin_start": 18.900000000000002,
            "bin_end": 21.6,
            "count": 0
           },
           {
            "bin_start": 21.6,
            "bin_end": 24.3,
            "count": 0
           },
           {
            "bin_start": 24.3,
            "bin_end": 27,
            "count": 1
           }
          ]
         }
        },
        {
         "name": "number_of_reviews_ltm",
         "dtype": "int64",
         "stats": {
          "unique_count": 3,
          "nan_count": 0,
          "min": "0",
          "max": "27",
          "histogram": [
           {
            "bin_start": 0,
            "bin_end": 2.7,
            "count": 8
           },
           {
            "bin_start": 2.7,
            "bin_end": 5.4,
            "count": 0
           },
           {
            "bin_start": 5.4,
            "bin_end": 8.100000000000001,
            "count": 0
           },
           {
            "bin_start": 8.100000000000001,
            "bin_end": 10.8,
            "count": 0
           },
           {
            "bin_start": 10.8,
            "bin_end": 13.5,
            "count": 0
           },
           {
            "bin_start": 13.5,
            "bin_end": 16.200000000000003,
            "count": 0
           },
           {
            "bin_start": 16.200000000000003,
            "bin_end": 18.900000000000002,
            "count": 0
           },
           {
            "bin_start": 18.900000000000002,
            "bin_end": 21.6,
            "count": 0
           },
           {
            "bin_start": 21.6,
            "bin_end": 24.3,
            "count": 0
           },
           {
            "bin_start": 24.3,
            "bin_end": 27,
            "count": 1
           }
          ]
         }
        },
        {
         "name": "number_of_reviews_l30d",
         "dtype": "int64",
         "stats": {
          "unique_count": 1,
          "nan_count": 0,
          "min": "0",
          "max": "0",
          "histogram": [
           {
            "bin_start": -0.5,
            "bin_end": -0.4,
            "count": 0
           },
           {
            "bin_start": -0.4,
            "bin_end": -0.3,
            "count": 0
           },
           {
            "bin_start": -0.3,
            "bin_end": -0.19999999999999996,
            "count": 0
           },
           {
            "bin_start": -0.19999999999999996,
            "bin_end": -0.09999999999999998,
            "count": 0
           },
           {
            "bin_start": -0.09999999999999998,
            "bin_end": 0,
            "count": 0
           },
           {
            "bin_start": 0,
            "bin_end": 0.10000000000000009,
            "count": 9
           },
           {
            "bin_start": 0.10000000000000009,
            "bin_end": 0.20000000000000007,
            "count": 0
           },
           {
            "bin_start": 0.20000000000000007,
            "bin_end": 0.30000000000000004,
            "count": 0
           },
           {
            "bin_start": 0.30000000000000004,
            "bin_end": 0.4,
            "count": 0
           },
           {
            "bin_start": 0.4,
            "bin_end": 0.5,
            "count": 0
           }
          ]
         }
        },
        {
         "name": "review_scores_rating",
         "dtype": "float64",
         "stats": {
          "unique_count": 6,
          "nan_count": 0,
          "min": "0.0",
          "max": "5.0",
          "histogram": [
           {
            "bin_start": 0,
            "bin_end": 0.5,
            "count": 3
           },
           {
            "bin_start": 0.5,
            "bin_end": 1,
            "count": 0
           },
           {
            "bin_start": 1,
            "bin_end": 1.5,
            "count": 1
           },
           {
            "bin_start": 1.5,
            "bin_end": 2,
            "count": 0
           },
           {
            "bin_start": 2,
            "bin_end": 2.5,
            "count": 0
           },
           {
            "bin_start": 2.5,
            "bin_end": 3,
            "count": 0
           },
           {
            "bin_start": 3,
            "bin_end": 3.5,
            "count": 0
           },
           {
            "bin_start": 3.5,
            "bin_end": 4,
            "count": 1
           },
           {
            "bin_start": 4,
            "bin_end": 4.5,
            "count": 0
           },
           {
            "bin_start": 4.5,
            "bin_end": 5,
            "count": 4
           }
          ]
         }
        },
        {
         "name": "review_scores_accuracy",
         "dtype": "float64",
         "stats": {
          "unique_count": 6,
          "nan_count": 0,
          "min": "0.0",
          "max": "5.0",
          "histogram": [
           {
            "bin_start": 0,
            "bin_end": 0.5,
            "count": 3
           },
           {
            "bin_start": 0.5,
            "bin_end": 1,
            "count": 0
           },
           {
            "bin_start": 1,
            "bin_end": 1.5,
            "count": 1
           },
           {
            "bin_start": 1.5,
            "bin_end": 2,
            "count": 1
           },
           {
            "bin_start": 2,
            "bin_end": 2.5,
            "count": 0
           },
           {
            "bin_start": 2.5,
            "bin_end": 3,
            "count": 0
           },
           {
            "bin_start": 3,
            "bin_end": 3.5,
            "count": 0
           },
           {
            "bin_start": 3.5,
            "bin_end": 4,
            "count": 0
           },
           {
            "bin_start": 4,
            "bin_end": 4.5,
            "count": 0
           },
           {
            "bin_start": 4.5,
            "bin_end": 5,
            "count": 4
           }
          ]
         }
        },
        {
         "name": "review_scores_cleanliness",
         "dtype": "float64",
         "stats": {
          "unique_count": 5,
          "nan_count": 0,
          "min": "0.0",
          "max": "4.86",
          "histogram": [
           {
            "bin_start": 0,
            "bin_end": 0.48600000000000004,
            "count": 3
           },
           {
            "bin_start": 0.48600000000000004,
            "bin_end": 0.9720000000000001,
            "count": 0
           },
           {
            "bin_start": 0.9720000000000001,
            "bin_end": 1.4580000000000002,
            "count": 1
           },
           {
            "bin_start": 1.4580000000000002,
            "bin_end": 1.9440000000000002,
            "count": 0
           },
           {
            "bin_start": 1.9440000000000002,
            "bin_end": 2.43,
            "count": 0
           },
           {
            "bin_start": 2.43,
            "bin_end": 2.9160000000000004,
            "count": 0
           },
           {
            "bin_start": 2.9160000000000004,
            "bin_end": 3.402,
            "count": 2
           },
           {
            "bin_start": 3.402,
            "bin_end": 3.8880000000000003,
            "count": 0
           },
           {
            "bin_start": 3.8880000000000003,
            "bin_end": 4.3740000000000006,
            "count": 0
           },
           {
            "bin_start": 4.3740000000000006,
            "bin_end": 4.86,
            "count": 3
           }
          ]
         }
        },
        {
         "name": "review_scores_checkin",
         "dtype": "float64",
         "stats": {
          "unique_count": 6,
          "nan_count": 0,
          "min": "0.0",
          "max": "5.0",
          "histogram": [
           {
            "bin_start": 0,
            "bin_end": 0.5,
            "count": 3
           },
           {
            "bin_start": 0.5,
            "bin_end": 1,
            "count": 0
           },
           {
            "bin_start": 1,
            "bin_end": 1.5,
            "count": 1
           },
           {
            "bin_start": 1.5,
            "bin_end": 2,
            "count": 0
           },
           {
            "bin_start": 2,
            "bin_end": 2.5,
            "count": 0
           },
           {
            "bin_start": 2.5,
            "bin_end": 3,
            "count": 0
           },
           {
            "bin_start": 3,
            "bin_end": 3.5,
            "count": 0
           },
           {
            "bin_start": 3.5,
            "bin_end": 4,
            "count": 1
           },
           {
            "bin_start": 4,
            "bin_end": 4.5,
            "count": 0
           },
           {
            "bin_start": 4.5,
            "bin_end": 5,
            "count": 4
           }
          ]
         }
        },
        {
         "name": "review_scores_communication",
         "dtype": "float64",
         "stats": {
          "unique_count": 6,
          "nan_count": 0,
          "min": "0.0",
          "max": "5.0",
          "histogram": [
           {
            "bin_start": 0,
            "bin_end": 0.5,
            "count": 3
           },
           {
            "bin_start": 0.5,
            "bin_end": 1,
            "count": 0
           },
           {
            "bin_start": 1,
            "bin_end": 1.5,
            "count": 1
           },
           {
            "bin_start": 1.5,
            "bin_end": 2,
            "count": 0
           },
           {
            "bin_start": 2,
            "bin_end": 2.5,
            "count": 0
           },
           {
            "bin_start": 2.5,
            "bin_end": 3,
            "count": 0
           },
           {
            "bin_start": 3,
            "bin_end": 3.5,
            "count": 0
           },
           {
            "bin_start": 3.5,
            "bin_end": 4,
            "count": 0
           },
           {
            "bin_start": 4,
            "bin_end": 4.5,
            "count": 0
           },
           {
            "bin_start": 4.5,
            "bin_end": 5,
            "count": 5
           }
          ]
         }
        },
        {
         "name": "review_scores_location",
         "dtype": "float64",
         "stats": {
          "unique_count": 7,
          "nan_count": 0,
          "min": "0.0",
          "max": "5.0",
          "histogram": [
           {
            "bin_start": 0,
            "bin_end": 0.5,
            "count": 3
           },
           {
            "bin_start": 0.5,
            "bin_end": 1,
            "count": 0
           },
           {
            "bin_start": 1,
            "bin_end": 1.5,
            "count": 1
           },
           {
            "bin_start": 1.5,
            "bin_end": 2,
            "count": 0
           },
           {
            "bin_start": 2,
            "bin_end": 2.5,
            "count": 0
           },
           {
            "bin_start": 2.5,
            "bin_end": 3,
            "count": 0
           },
           {
            "bin_start": 3,
            "bin_end": 3.5,
            "count": 0
           },
           {
            "bin_start": 3.5,
            "bin_end": 4,
            "count": 0
           },
           {
            "bin_start": 4,
            "bin_end": 4.5,
            "count": 2
           },
           {
            "bin_start": 4.5,
            "bin_end": 5,
            "count": 3
           }
          ]
         }
        },
        {
         "name": "review_scores_value",
         "dtype": "float64",
         "stats": {
          "unique_count": 6,
          "nan_count": 0,
          "min": "0.0",
          "max": "4.81",
          "histogram": [
           {
            "bin_start": 0,
            "bin_end": 0.481,
            "count": 3
           },
           {
            "bin_start": 0.481,
            "bin_end": 0.962,
            "count": 0
           },
           {
            "bin_start": 0.962,
            "bin_end": 1.443,
            "count": 1
           },
           {
            "bin_start": 1.443,
            "bin_end": 1.924,
            "count": 0
           },
           {
            "bin_start": 1.924,
            "bin_end": 2.405,
            "count": 0
           },
           {
            "bin_start": 2.405,
            "bin_end": 2.886,
            "count": 0
           },
           {
            "bin_start": 2.886,
            "bin_end": 3.367,
            "count": 0
           },
           {
            "bin_start": 3.367,
            "bin_end": 3.848,
            "count": 0
           },
           {
            "bin_start": 3.848,
            "bin_end": 4.329,
            "count": 2
           },
           {
            "bin_start": 4.329,
            "bin_end": 4.81,
            "count": 3
           }
          ]
         }
        },
        {
         "name": "instant_bookable",
         "dtype": "object",
         "stats": {
          "unique_count": 2,
          "nan_count": 0,
          "categories": [
           {
            "name": "f",
            "count": 8
           },
           {
            "name": "t",
            "count": 1
           }
          ]
         }
        },
        {
         "name": "calculated_host_listings_count",
         "dtype": "int64",
         "stats": {
          "unique_count": 4,
          "nan_count": 0,
          "min": "1",
          "max": "150",
          "histogram": [
           {
            "bin_start": 1,
            "bin_end": 15.9,
            "count": 7
           },
           {
            "bin_start": 15.9,
            "bin_end": 30.8,
            "count": 0
           },
           {
            "bin_start": 30.8,
            "bin_end": 45.7,
            "count": 0
           },
           {
            "bin_start": 45.7,
            "bin_end": 60.6,
            "count": 0
           },
           {
            "bin_start": 60.6,
            "bin_end": 75.5,
            "count": 0
           },
           {
            "bin_start": 75.5,
            "bin_end": 90.4,
            "count": 0
           },
           {
            "bin_start": 90.4,
            "bin_end": 105.3,
            "count": 0
           },
           {
            "bin_start": 105.3,
            "bin_end": 120.2,
            "count": 0
           },
           {
            "bin_start": 120.2,
            "bin_end": 135.1,
            "count": 0
           },
           {
            "bin_start": 135.1,
            "bin_end": 150,
            "count": 2
           }
          ]
         }
        },
        {
         "name": "amenities_str",
         "dtype": "object",
         "stats": {
          "unique_count": 9,
          "nan_count": 0,
          "categories": [
           {
            "name": "\"Cable TV\", \"Fire extinguisher\", \"TV with standard cable\", \"Hot water\", \"Carbon monoxide alarm\", \"Smoke alarm\", \"Air conditioning\", \"Host greets you\", \"Essentials\", \"Dedicated workspace\", \"Long term stays allowed\", \"Wifi\", \"Heating\", \"Kitchen\"",
            "count": 1
           },
           {
            "name": "\"Cable TV\", \"Fire extinguisher\", \"TV with standard cable\", \"Carbon monoxide alarm\", \"Smoke alarm\", \"Air conditioning\", \"Essentials\", \"Long term stays allowed\", \"Bed linens\", \"Wifi\", \"Heating\", \"Kitchen\"",
            "count": 1
           },
           {
            "name": "7 others",
            "count": 7
           }
          ]
         }
        },
        {
         "name": "name_lang",
         "dtype": "object",
         "stats": {
          "unique_count": 7,
          "nan_count": 0,
          "categories": [
           {
            "name": "pt",
            "count": 3
           },
           {
            "name": "it",
            "count": 1
           },
           {
            "name": "5 others",
            "count": 5
           }
          ]
         }
        },
        {
         "name": "description_lang",
         "dtype": "object",
         "stats": {
          "unique_count": 6,
          "nan_count": 0,
          "categories": [
           {
            "name": "ja",
            "count": 3
           },
           {
            "name": "de",
            "count": 2
           },
           {
            "name": "4 others",
            "count": 4
           }
          ]
         }
        },
        {
         "name": "host_months",
         "dtype": "int64",
         "stats": {
          "unique_count": 7,
          "nan_count": 0,
          "min": "33",
          "max": "133",
          "histogram": [
           {
            "bin_start": 33,
            "bin_end": 43,
            "count": 2
           },
           {
            "bin_start": 43,
            "bin_end": 53,
            "count": 0
           },
           {
            "bin_start": 53,
            "bin_end": 63,
            "count": 1
           },
           {
            "bin_start": 63,
            "bin_end": 73,
            "count": 0
           },
           {
            "bin_start": 73,
            "bin_end": 83,
            "count": 0
           },
           {
            "bin_start": 83,
            "bin_end": 93,
            "count": 2
           },
           {
            "bin_start": 93,
            "bin_end": 103,
            "count": 1
           },
           {
            "bin_start": 103,
            "bin_end": 113,
            "count": 0
           },
           {
            "bin_start": 113,
            "bin_end": 123,
            "count": 0
           },
           {
            "bin_start": 123,
            "bin_end": 133,
            "count": 3
           }
          ]
         }
        },
        {
         "name": "dist_to_subway",
         "dtype": "float64",
         "stats": {
          "unique_count": 9,
          "nan_count": 0,
          "min": "0.1788204546144773",
          "max": "4.9414008670576335",
          "histogram": [
           {
            "bin_start": 0.1788204546144773,
            "bin_end": 0.6550784958587929,
            "count": 6
           },
           {
            "bin_start": 0.6550784958587929,
            "bin_end": 1.1313365371031086,
            "count": 2
           },
           {
            "bin_start": 1.1313365371031086,
            "bin_end": 1.6075945783474241,
            "count": 0
           },
           {
            "bin_start": 1.6075945783474241,
            "bin_end": 2.0838526195917395,
            "count": 0
           },
           {
            "bin_start": 2.0838526195917395,
            "bin_end": 2.560110660836055,
            "count": 0
           },
           {
            "bin_start": 2.560110660836055,
            "bin_end": 3.0363687020803707,
            "count": 0
           },
           {
            "bin_start": 3.0363687020803707,
            "bin_end": 3.5126267433246863,
            "count": 0
           },
           {
            "bin_start": 3.5126267433246863,
            "bin_end": 3.988884784569002,
            "count": 0
           },
           {
            "bin_start": 3.988884784569002,
            "bin_end": 4.465142825813318,
            "count": 0
           },
           {
            "bin_start": 4.465142825813318,
            "bin_end": 4.9414008670576335,
            "count": 1
           }
          ]
         }
        },
        {
         "name": "_deepnote_index_column",
         "dtype": "int64"
        }
       ],
       "rows": [
        {
         "id": 4948928,
         "name": "HUGE 1 BED@TIMES SQUARE@BRAND NEW!!",
         "description": "PLEASE DON'T TRY TO BOOK THE APARTMENT BEFORE CONTACTING ME FIRST, THANKS!  NO PETS ALLOWED   THE B…",
         "neighborhood_overview": "No Data",
         "host_since": "2011-08-03",
         "host_response_time": "within a few hours",
         "host_response_rate": 84,
         "host_acceptance_rate": 38,
         "host_is_superhost": "f",
         "host_listings_count": 7,
         "host_has_profile_pic": "t",
         "host_identity_verified": "t",
         "neighbourhood": "No Data",
         "neighbourhood_cleansed": "Hell's Kitchen",
         "neighbourhood_group_cleansed": "Manhattan",
         "latitude": 40.76555,
         "longitude": -73.9945,
         "property_type": "Entire rental unit",
         "room_type": "Entire home/apt",
         "accommodates": 2,
         "bathrooms_text": "1 bath",
         "bedrooms": 1,
         "beds": 1,
         "amenities": "[\"Cable TV\", \"Fire extinguisher\", \"TV with standard cable\", \"Hot water\", \"Carbon monoxide alarm\", \"…",
         "price": 80,
         "minimum_nights": 30,
         "maximum_nights": 365,
         "has_availability": "t",
         "availability_30": 30,
         "availability_60": 60,
         "availability_90": 90,
         "availability_365": 365,
         "number_of_reviews": 5,
         "number_of_reviews_ltm": 0,
         "number_of_reviews_l30d": 0,
         "review_scores_rating": 3.5,
         "review_scores_accuracy": 1.5,
         "review_scores_cleanliness": 3,
         "review_scores_checkin": 3.5,
         "review_scores_communication": 4.5,
         "review_scores_location": 4.5,
         "review_scores_value": 4,
         "instant_bookable": "f",
         "calculated_host_listings_count": 8,
         "amenities_str": "\"Cable TV\", \"Fire extinguisher\", \"TV with standard cable\", \"Hot water\", \"Carbon monoxide alarm\", \"S…",
         "name_lang": "it",
         "description_lang": "de",
         "host_months": 126,
         "dist_to_subway": 0.7949615179387909,
         "_deepnote_index_column": 3518
        },
        {
         "id": 5637556,
         "name": "HUGE ONE BED APARTMENT! TIMES SQ!!!WEST 39TH!!!",
         "description": "THIS APARTMENT IS LOCATED AT WEST 39TH AND NOT WEST 48TH !  PLEASE DON'T TRY TO BOOK THE APARTMENT …",
         "neighborhood_overview": "No Data",
         "host_since": "2011-08-03",
         "host_response_time": "within a few hours",
         "host_response_rate": 84,
         "host_acceptance_rate": 38,
         "host_is_superhost": "f",
         "host_listings_count": 7,
         "host_has_profile_pic": "t",
         "host_identity_verified": "t",
         "neighbourhood": "No Data",
         "neighbourhood_cleansed": "Hell's Kitchen",
         "neighbourhood_group_cleansed": "Manhattan",
         "latitude": 40.76381,
         "longitude": -73.99501,
         "property_type": "Entire rental unit",
         "room_type": "Entire home/apt",
         "accommodates": 2,
         "bathrooms_text": "1 bath",
         "bedrooms": 1,
         "beds": 1,
         "amenities": "[\"Cable TV\", \"Fire extinguisher\", \"TV with standard cable\", \"Carbon monoxide alarm\", \"Smoke alarm\",…",
         "price": 79,
         "minimum_nights": 30,
         "maximum_nights": 365,
         "has_availability": "t",
         "availability_30": 30,
         "availability_60": 60,
         "availability_90": 90,
         "availability_365": 365,
         "number_of_reviews": 1,
         "number_of_reviews_ltm": 0,
         "number_of_reviews_l30d": 0,
         "review_scores_rating": 0,
         "review_scores_accuracy": 0,
         "review_scores_cleanliness": 0,
         "review_scores_checkin": 0,
         "review_scores_communication": 0,
         "review_scores_location": 0,
         "review_scores_value": 0,
         "instant_bookable": "f",
         "calculated_host_listings_count": 8,
         "amenities_str": "\"Cable TV\", \"Fire extinguisher\", \"TV with standard cable\", \"Carbon monoxide alarm\", \"Smoke alarm\", …",
         "name_lang": "ja",
         "description_lang": "de",
         "host_months": 126,
         "dist_to_subway": 0.7744559674136968,
         "_deepnote_index_column": 3802
        },
        {
         "id": 9765944,
         "name": "SUNNY BEDROOM IN BROOKLYN BROWNSTON",
         "description": "PRIVATE BEDROOM ON THE TOP FLOOR OF A THREE STORY PRE-WAR BROWNSTONE. THE BEDROOM IS SUPER CUTE, FA…",
         "neighborhood_overview": "No Data",
         "host_since": "2013-12-01",
         "host_response_time": "No Data",
         "host_response_rate": "nan",
         "host_acceptance_rate": "nan",
         "host_is_superhost": "f",
         "host_listings_count": 3,
         "host_has_profile_pic": "t",
         "host_identity_verified": "t",
         "neighbourhood": "No Data",
         "neighbourhood_cleansed": "Clinton Hill",
         "neighbourhood_group_cleansed": "Brooklyn",
         "latitude": 40.68487,
         "longitude": -73.96401,
         "property_type": "Private room in residential home",
         "room_type": "Private room",
         "accommodates": 1,
         "bathrooms_text": "1 bath",
         "bedrooms": 1,
         "beds": 1,
         "amenities": "[\"Fire extinguisher\", \"Smoke alarm\", \"Essentials\", \"Washer\", \"Dryer\", \"Long term stays allowed\", \"W…",
         "price": 75,
         "minimum_nights": 30,
         "maximum_nights": 1125,
         "has_availability": "t",
         "availability_30": 0,
         "availability_60": 0,
         "availability_90": 0,
         "availability_365": 0,
         "number_of_reviews": 0,
         "number_of_reviews_ltm": 0,
         "number_of_reviews_l30d": 0,
         "review_scores_rating": 0,
         "review_scores_accuracy": 0,
         "review_scores_cleanliness": 0,
         "review_scores_checkin": 0,
         "review_scores_communication": 0,
         "review_scores_location": 0,
         "review_scores_value": 0,
         "instant_bookable": "f",
         "calculated_host_listings_count": 1,
         "amenities_str": "\"Fire extinguisher\", \"Smoke alarm\", \"Essentials\", \"Washer\", \"Dryer\", \"Long term stays allowed\", \"Wi…",
         "name_lang": "de",
         "description_lang": "ja",
         "host_months": 98,
         "dist_to_subway": 0.2358367689225115,
         "_deepnote_index_column": 6474
        },
        {
         "id": 9866039,
         "name": "Modern, Large & Cozy 1 BR NYC Apt",
         "description": "Spacious, modern & quiet apartment in doormen luxury building, ideal for a couple /small family.   …",
         "neighborhood_overview": "Midtown East is extremely convenient as it is the most central in Manhattan. The apartment is just …",
         "host_since": "2010-12-09",
         "host_response_time": "No Data",
         "host_response_rate": "nan",
         "host_acceptance_rate": 100,
         "host_is_superhost": "f",
         "host_listings_count": 1,
         "host_has_profile_pic": "t",
         "host_identity_verified": "t",
         "neighbourhood": "New York, United States",
         "neighbourhood_cleansed": "Midtown",
         "neighbourhood_group_cleansed": "Manhattan",
         "latitude": 40.75319,
         "longitude": -73.97223,
         "property_type": "Entire condominium (condo)",
         "room_type": "Entire home/apt",
         "accommodates": 3,
         "bathrooms_text": "1 bath",
         "bedrooms": 1,
         "beds": 2,
         "amenities": "[\"Hot water\", \"Body soap\", \"Iron\", \"Refrigerator\", \"Single level home\", \"Wine glasses\", \"Hot water …",
         "price": 270,
         "minimum_nights": 14,
         "maximum_nights": 1125,
         "has_availability": "t",
         "availability_30": 0,
         "availability_60": 0,
         "availability_90": 0,
         "availability_365": 0,
         "number_of_reviews": 9,
         "number_of_reviews_ltm": 1,
         "number_of_reviews_l30d": 0,
         "review_scores_rating": 5,
         "review_scores_accuracy": 5,
         "review_scores_cleanliness": 4.78,
         "review_scores_checkin": 5,
         "review_scores_communication": 5,
         "review_scores_location": 5,
         "review_scores_value": 4.78,
         "instant_bookable": "f",
         "calculated_host_listings_count": 1,
         "amenities_str": "\"Hot water\", \"Body soap\", \"Iron\", \"Refrigerator\", \"Single level home\", \"Wine glasses\", \"Hot water k…",
         "name_lang": "pl",
         "description_lang": "fr",
         "host_months": 133,
         "dist_to_subway": 0.375674114716666,
         "_deepnote_index_column": 6601
        },
        {
         "id": 27141191,
         "name": "NewlyBuilt+Terrace 3min▶︎Subway 30min Manhattan",
         "description": "This apartment is located 3min from subway \"Grand Ave-Newtown\" station. This room is on 2nd floor. …",
         "neighborhood_overview": "Grand Ave is asian oriented community. You can find almost everything you need in this neighborhood…",
         "host_since": "2014-08-01",
         "host_response_time": "within an hour",
         "host_response_rate": 100,
         "host_acceptance_rate": 85,
         "host_is_superhost": "f",
         "host_listings_count": 190,
         "host_has_profile_pic": "t",
         "host_identity_verified": "t",
         "neighbourhood": "Queens, New York, United States",
         "neighbourhood_cleansed": "Elmhurst",
         "neighbourhood_group_cleansed": "Queens",
         "latitude": 40.73862,
         "longitude": -73.87707,
         "property_type": "Private room in townhouse",
         "room_type": "Private room",
         "accommodates": 1,
         "bathrooms_text": "1 shared bath",
         "bedrooms": 1,
         "beds": 1,
         "amenities": "[\"Lock on bedroom door\", \"Heating\", \"Air conditioning\", \"Hangers\", \"Dedicated workspace\", \"Long ter…",
         "price": 41,
         "minimum_nights": 30,
         "maximum_nights": 1125,
         "has_availability": "t",
         "availability_30": 20,
         "availability_60": 44,
         "availability_90": 44,
         "availability_365": 44,
         "number_of_reviews": 1,
         "number_of_reviews_ltm": 1,
         "number_of_reviews_l30d": 0,
         "review_scores_rating": 5,
         "review_scores_accuracy": 5,
         "review_scores_cleanliness": 3,
         "review_scores_checkin": 5,
         "review_scores_communication": 5,
         "review_scores_location": 4,
         "review_scores_value": 4,
         "instant_bookable": "f",
         "calculated_host_listings_count": 150,
         "amenities_str": "\"Lock on bedroom door\", \"Heating\", \"Air conditioning\", \"Hangers\", \"Dedicated workspace\", \"Long term…",
         "name_lang": "pt",
         "description_lang": "ja",
         "host_months": 90,
         "dist_to_subway": 0.1788204546144773,
         "_deepnote_index_column": 14899
        },
        {
         "id": 32591771,
         "name": "Room with a Terrace + 3min ➡︎ SubwayM/R Grand Ave",
         "description": "This apartment is located 3min from subway \"Grand Ave-Newtown\" station. This room is on 2nd floor. …",
         "neighborhood_overview": "Grand Ave is asian oriented community. You can find almost everything you need in this neighborhood…",
         "host_since": "2014-08-01",
         "host_response_time": "within an hour",
         "host_response_rate": 100,
         "host_acceptance_rate": 85,
         "host_is_superhost": "f",
         "host_listings_count": 190,
         "host_has_profile_pic": "t",
         "host_identity_verified": "t",
         "neighbourhood": "Queens, New York, United States",
         "neighbourhood_cleansed": "Elmhurst",
         "neighbourhood_group_cleansed": "Queens",
         "latitude": 40.73862,
         "longitude": -73.87586,
         "property_type": "Private room in townhouse",
         "room_type": "Private room",
         "accommodates": 1,
         "bathrooms_text": "1 shared bath",
         "bedrooms": 1,
         "beds": 1,
         "amenities": "[\"Fire extinguisher\", \"Lock on bedroom door\", \"Heating\", \"Hangers\", \"Dedicated workspace\", \"Long te…",
         "price": 34,
         "minimum_nights": 30,
         "maximum_nights": 1125,
         "has_availability": "t",
         "availability_30": 4,
         "availability_60": 34,
         "availability_90": 59,
         "availability_365": 59,
         "number_of_reviews": 0,
         "number_of_reviews_ltm": 0,
         "number_of_reviews_l30d": 0,
         "review_scores_rating": 0,
         "review_scores_accuracy": 0,
         "review_scores_cleanliness": 0,
         "review_scores_checkin": 0,
         "review_scores_communication": 0,
         "review_scores_location": 0,
         "review_scores_value": 0,
         "instant_bookable": "f",
         "calculated_host_listings_count": 150,
         "amenities_str": "\"Fire extinguisher\", \"Lock on bedroom door\", \"Heating\", \"Hangers\", \"Dedicated workspace\", \"Long ter…",
         "name_lang": "pt",
         "description_lang": "ja",
         "host_months": 90,
         "dist_to_subway": 0.2120888520595019,
         "_deepnote_index_column": 17330
        },
        {
         "id": 39982698,
         "name": "SPACIOUS 1 BEDROOM APT IN HARLEM",
         "description": "1 BEDROOM FULLY FURNISHED AVAILABLE FOR WEEK TO WEEK, MONTH TO MONTH, OR 6 MONTH TO A YEAR IN HARLE…",
         "neighborhood_overview": "HARLEM NEIGHBORHOOD WALKING DISTANCE TO COFFEE SHOPS & STORES",
         "host_since": "2017-04-30",
         "host_response_time": "within an hour",
         "host_response_rate": 100,
         "host_acceptance_rate": 94,
         "host_is_superhost": "f",
         "host_listings_count": 1,
         "host_has_profile_pic": "t",
         "host_identity_verified": "t",
         "neighbourhood": "New York, United States",
         "neighbourhood_cleansed": "Harlem",
         "neighbourhood_group_cleansed": "Manhattan",
         "latitude": 40.82048,
         "longitude": -73.9389,
         "property_type": "Entire rental unit",
         "room_type": "Entire home/apt",
         "accommodates": 2,
         "bathrooms_text": "1 bath",
         "bedrooms": 1,
         "beds": 1,
         "amenities": "[\"Hot water\", \"Iron\", \"Refrigerator\", \"Outdoor dining area\", \"Kitchen\", \"Microwave\", \"Free street p…",
         "price": 150,
         "minimum_nights": 1,
         "maximum_nights": 1125,
         "has_availability": "t",
         "availability_30": 0,
         "availability_60": 0,
         "availability_90": 0,
         "availability_365": 251,
         "number_of_reviews": 7,
         "number_of_reviews_ltm": 0,
         "number_of_reviews_l30d": 0,
         "review_scores_rating": 4.86,
         "review_scores_accuracy": 4.86,
         "review_scores_cleanliness": 4.86,
         "review_scores_checkin": 4.86,
         "review_scores_communication": 4.71,
         "review_scores_location": 4.29,
         "review_scores_value": 4.71,
         "instant_bookable": "f",
         "calculated_host_listings_count": 1,
         "amenities_str": "\"Hot water\", \"Iron\", \"Refrigerator\", \"Outdoor dining area\", \"Kitchen\", \"Microwave\", \"Free street pa…",
         "name_lang": "pt",
         "description_lang": "uk",
         "host_months": 57,
         "dist_to_subway": 0.2233691025015241,
         "_deepnote_index_column": 20740
        },
        {
         "id": 47276663,
         "name": "SPACIOUS PRIVATE ROOM!!!, 30 mins to Manhattan",
         "description": "NO GUEST ALLOW  ONLY REGISTER PEOPLE CAN ENTER  PLEASE LET ME KNOW AT LEAST ONE HOUR BEFORE YOU COM…",
         "neighborhood_overview": "No Data",
         "host_since": "2019-04-23",
         "host_response_time": "within an hour",
         "host_response_rate": 100,
         "host_acceptance_rate": 78,
         "host_is_superhost": "t",
         "host_listings_count": 2,
         "host_has_profile_pic": "t",
         "host_identity_verified": "t",
         "neighbourhood": "No Data",
         "neighbourhood_cleansed": "Midwood",
         "neighbourhood_group_cleansed": "Brooklyn",
         "latitude": 40.62763,
         "longitude": -73.96342,
         "property_type": "Private room in residential home",
         "room_type": "Private room",
         "accommodates": 2,
         "bathrooms_text": "1 shared bath",
         "bedrooms": 1,
         "beds": 1,
         "amenities": "[\"Hot water\", \"Body soap\", \"Shower gel\", \"Refrigerator\", \"Wine glasses\", \"Laundromat nearby\", \"Clot…",
         "price": 68,
         "minimum_nights": 1,
         "maximum_nights": 365,
         "has_availability": "t",
         "availability_30": 0,
         "availability_60": 0,
         "availability_90": 0,
         "availability_365": 0,
         "number_of_reviews": 27,
         "number_of_reviews_ltm": 27,
         "number_of_reviews_l30d": 0,
         "review_scores_rating": 4.81,
         "review_scores_accuracy": 4.85,
         "review_scores_cleanliness": 4.78,
         "review_scores_checkin": 4.89,
         "review_scores_communication": 4.96,
         "review_scores_location": 4.89,
         "review_scores_value": 4.81,
         "instant_bookable": "f",
         "calculated_host_listings_count": 2,
         "amenities_str": "\"Hot water\", \"Body soap\", \"Shower gel\", \"Refrigerator\", \"Wine glasses\", \"Laundromat nearby\", \"Cloth…",
         "name_lang": "es",
         "description_lang": "hu",
         "host_months": 33,
         "dist_to_subway": 0.2361678339719705,
         "_deepnote_index_column": 25090
        },
        {
         "id": 48506346,
         "name": "COZY,  COMFORT AT SPRINGFIELD GARDENS",
         "description": "2 BEDROOM APARTMENT  NEAR JFK AIRPORT. COZY!  WITH CABLE AND WIFI.   PRIVATE ENTRANCE TO PRIVATE BA…",
         "neighborhood_overview": "No Data",
         "host_since": "2018-07-25",
         "host_response_time": "a few days or more",
         "host_response_rate": 17,
         "host_acceptance_rate": 9,
         "host_is_superhost": "f",
         "host_listings_count": 1,
         "host_has_profile_pic": "t",
         "host_identity_verified": "t",
         "neighbourhood": "No Data",
         "neighbourhood_cleansed": "Springfield Gardens",
         "neighbourhood_group_cleansed": "Queens",
         "latitude": 40.66554,
         "longitude": -73.76782,
         "property_type": "Entire rental unit",
         "room_type": "Entire home/apt",
         "accommodates": 4,
         "bathrooms_text": "1 bath",
         "bedrooms": 2,
         "beds": 1,
         "amenities": "[\"Iron\", \"KENMORE refrigerator\", \"Hot water kettle\", \"Laundromat nearby\", \"Kitchen\", \"Cable TV\", \"F…",
         "price": 175,
         "minimum_nights": 3,
         "maximum_nights": 6,
         "has_availability": "t",
         "availability_30": 30,
         "availability_60": 60,
         "availability_90": 90,
         "availability_365": 365,
         "number_of_reviews": 1,
         "number_of_reviews_ltm": 1,
         "number_of_reviews_l30d": 0,
         "review_scores_rating": 1,
         "review_scores_accuracy": 1,
         "review_scores_cleanliness": 1,
         "review_scores_checkin": 1,
         "review_scores_communication": 1,
         "review_scores_location": 1,
         "review_scores_value": 1,
         "instant_bookable": "t",
         "calculated_host_listings_count": 1,
         "amenities_str": "\"Iron\", \"KENMORE refrigerator\", \"Hot water kettle\", \"Laundromat nearby\", \"Kitchen\", \"Cable TV\", \"Fi…",
         "name_lang": "tr",
         "description_lang": "it",
         "host_months": 42,
         "dist_to_subway": 4.9414008670576335,
         "_deepnote_index_column": 25956
        }
       ]
      },
      "text/plain": "             id                                               name  \\\n3518    4948928                HUGE 1 BED@TIMES SQUARE@BRAND NEW!!   \n3802    5637556    HUGE ONE BED APARTMENT! TIMES SQ!!!WEST 39TH!!!   \n6474    9765944                SUNNY BEDROOM IN BROOKLYN BROWNSTON   \n6601    9866039                  Modern, Large & Cozy 1 BR NYC Apt   \n14899  27141191    NewlyBuilt+Terrace 3min▶︎Subway 30min Manhattan   \n17330  32591771  Room with a Terrace + 3min ➡︎ SubwayM/R Grand Ave   \n20740  39982698                   SPACIOUS 1 BEDROOM APT IN HARLEM   \n25090  47276663     SPACIOUS PRIVATE ROOM!!!, 30 mins to Manhattan   \n25956  48506346              COZY,  COMFORT AT SPRINGFIELD GARDENS   \n\n                                             description  \\\n3518   PLEASE DON'T TRY TO BOOK THE APARTMENT BEFORE ...   \n3802   THIS APARTMENT IS LOCATED AT WEST 39TH AND NOT...   \n6474   PRIVATE BEDROOM ON THE TOP FLOOR OF A THREE ST...   \n6601   Spacious, modern & quiet apartment in doormen ...   \n14899  This apartment is located 3min from subway \"Gr...   \n17330  This apartment is located 3min from subway \"Gr...   \n20740  1 BEDROOM FULLY FURNISHED AVAILABLE FOR WEEK T...   \n25090  NO GUEST ALLOW  ONLY REGISTER PEOPLE CAN ENTER...   \n25956  2 BEDROOM APARTMENT  NEAR JFK AIRPORT. COZY!  ...   \n\n                                   neighborhood_overview  host_since  \\\n3518                                             No Data  2011-08-03   \n3802                                             No Data  2011-08-03   \n6474                                             No Data  2013-12-01   \n6601   Midtown East is extremely convenient as it is ...  2010-12-09   \n14899  Grand Ave is asian oriented community. You can...  2014-08-01   \n17330  Grand Ave is asian oriented community. You can...  2014-08-01   \n20740  HARLEM NEIGHBORHOOD WALKING DISTANCE TO COFFEE...  2017-04-30   \n25090                                            No Data  2019-04-23   \n25956                                            No Data  2018-07-25   \n\n       host_response_time  host_response_rate  host_acceptance_rate  \\\n3518   within a few hours                84.0                  38.0   \n3802   within a few hours                84.0                  38.0   \n6474              No Data                 NaN                   NaN   \n6601              No Data                 NaN                 100.0   \n14899      within an hour               100.0                  85.0   \n17330      within an hour               100.0                  85.0   \n20740      within an hour               100.0                  94.0   \n25090      within an hour               100.0                  78.0   \n25956  a few days or more                17.0                   9.0   \n\n      host_is_superhost  host_listings_count  ... review_scores_communication  \\\n3518                  f                  7.0  ...                        4.50   \n3802                  f                  7.0  ...                        0.00   \n6474                  f                  3.0  ...                        0.00   \n6601                  f                  1.0  ...                        5.00   \n14899                 f                190.0  ...                        5.00   \n17330                 f                190.0  ...                        0.00   \n20740                 f                  1.0  ...                        4.71   \n25090                 t                  2.0  ...                        4.96   \n25956                 f                  1.0  ...                        1.00   \n\n      review_scores_location review_scores_value instant_bookable  \\\n3518                    4.50                4.00                f   \n3802                    0.00                0.00                f   \n6474                    0.00                0.00                f   \n6601                    5.00                4.78                f   \n14899                   4.00                4.00                f   \n17330                   0.00                0.00                f   \n20740                   4.29                4.71                f   \n25090                   4.89                4.81                f   \n25956                   1.00                1.00                t   \n\n      calculated_host_listings_count  \\\n3518                               8   \n3802                               8   \n6474                               1   \n6601                               1   \n14899                            150   \n17330                            150   \n20740                              1   \n25090                              2   \n25956                              1   \n\n                                           amenities_str  name_lang  \\\n3518   \"Cable TV\", \"Fire extinguisher\", \"TV with stan...         it   \n3802   \"Cable TV\", \"Fire extinguisher\", \"TV with stan...         ja   \n6474   \"Fire extinguisher\", \"Smoke alarm\", \"Essential...         de   \n6601   \"Hot water\", \"Body soap\", \"Iron\", \"Refrigerato...         pl   \n14899  \"Lock on bedroom door\", \"Heating\", \"Air condit...         pt   \n17330  \"Fire extinguisher\", \"Lock on bedroom door\", \"...         pt   \n20740  \"Hot water\", \"Iron\", \"Refrigerator\", \"Outdoor ...         pt   \n25090  \"Hot water\", \"Body soap\", \"Shower gel\", \"Refri...         es   \n25956  \"Iron\", \"KENMORE refrigerator\", \"Hot water ket...         tr   \n\n      description_lang host_months  dist_to_subway  \n3518                de         126        0.794962  \n3802                de         126        0.774456  \n6474                ja          98        0.235837  \n6601                fr         133        0.375674  \n14899               ja          90        0.178820  \n17330               ja          90        0.212089  \n20740               uk          57        0.223369  \n25090               hu          33        0.236168  \n25956               it          42        4.941401  \n\n[9 rows x 49 columns]",
      "text/html": "<div>\n<style scoped>\n    .dataframe tbody tr th:only-of-type {\n        vertical-align: middle;\n    }\n\n    .dataframe tbody tr th {\n        vertical-align: top;\n    }\n\n    .dataframe thead th {\n        text-align: right;\n    }\n</style>\n<table border=\"1\" class=\"dataframe\">\n  <thead>\n    <tr style=\"text-align: right;\">\n      <th></th>\n      <th>id</th>\n      <th>name</th>\n      <th>description</th>\n      <th>neighborhood_overview</th>\n      <th>host_since</th>\n      <th>host_response_time</th>\n      <th>host_response_rate</th>\n      <th>host_acceptance_rate</th>\n      <th>host_is_superhost</th>\n      <th>host_listings_count</th>\n      <th>...</th>\n      <th>review_scores_communication</th>\n      <th>review_scores_location</th>\n      <th>review_scores_value</th>\n      <th>instant_bookable</th>\n      <th>calculated_host_listings_count</th>\n      <th>amenities_str</th>\n      <th>name_lang</th>\n      <th>description_lang</th>\n      <th>host_months</th>\n      <th>dist_to_subway</th>\n    </tr>\n  </thead>\n  <tbody>\n    <tr>\n      <th>3518</th>\n      <td>4948928</td>\n      <td>HUGE 1 BED@TIMES SQUARE@BRAND NEW!!</td>\n      <td>PLEASE DON'T TRY TO BOOK THE APARTMENT BEFORE ...</td>\n      <td>No Data</td>\n      <td>2011-08-03</td>\n      <td>within a few hours</td>\n      <td>84.0</td>\n      <td>38.0</td>\n      <td>f</td>\n      <td>7.0</td>\n      <td>...</td>\n      <td>4.50</td>\n      <td>4.50</td>\n      <td>4.00</td>\n      <td>f</td>\n      <td>8</td>\n      <td>\"Cable TV\", \"Fire extinguisher\", \"TV with stan...</td>\n      <td>it</td>\n      <td>de</td>\n      <td>126</td>\n      <td>0.794962</td>\n    </tr>\n    <tr>\n      <th>3802</th>\n      <td>5637556</td>\n      <td>HUGE ONE BED APARTMENT! TIMES SQ!!!WEST 39TH!!!</td>\n      <td>THIS APARTMENT IS LOCATED AT WEST 39TH AND NOT...</td>\n      <td>No Data</td>\n      <td>2011-08-03</td>\n      <td>within a few hours</td>\n      <td>84.0</td>\n      <td>38.0</td>\n      <td>f</td>\n      <td>7.0</td>\n      <td>...</td>\n      <td>0.00</td>\n      <td>0.00</td>\n      <td>0.00</td>\n      <td>f</td>\n      <td>8</td>\n      <td>\"Cable TV\", \"Fire extinguisher\", \"TV with stan...</td>\n      <td>ja</td>\n      <td>de</td>\n      <td>126</td>\n      <td>0.774456</td>\n    </tr>\n    <tr>\n      <th>6474</th>\n      <td>9765944</td>\n      <td>SUNNY BEDROOM IN BROOKLYN BROWNSTON</td>\n      <td>PRIVATE BEDROOM ON THE TOP FLOOR OF A THREE ST...</td>\n      <td>No Data</td>\n      <td>2013-12-01</td>\n      <td>No Data</td>\n      <td>NaN</td>\n      <td>NaN</td>\n      <td>f</td>\n      <td>3.0</td>\n      <td>...</td>\n      <td>0.00</td>\n      <td>0.00</td>\n      <td>0.00</td>\n      <td>f</td>\n      <td>1</td>\n      <td>\"Fire extinguisher\", \"Smoke alarm\", \"Essential...</td>\n      <td>de</td>\n      <td>ja</td>\n      <td>98</td>\n      <td>0.235837</td>\n    </tr>\n    <tr>\n      <th>6601</th>\n      <td>9866039</td>\n      <td>Modern, Large &amp; Cozy 1 BR NYC Apt</td>\n      <td>Spacious, modern &amp; quiet apartment in doormen ...</td>\n      <td>Midtown East is extremely convenient as it is ...</td>\n      <td>2010-12-09</td>\n      <td>No Data</td>\n      <td>NaN</td>\n      <td>100.0</td>\n      <td>f</td>\n      <td>1.0</td>\n      <td>...</td>\n      <td>5.00</td>\n      <td>5.00</td>\n      <td>4.78</td>\n      <td>f</td>\n      <td>1</td>\n      <td>\"Hot water\", \"Body soap\", \"Iron\", \"Refrigerato...</td>\n      <td>pl</td>\n      <td>fr</td>\n      <td>133</td>\n      <td>0.375674</td>\n    </tr>\n    <tr>\n      <th>14899</th>\n      <td>27141191</td>\n      <td>NewlyBuilt+Terrace 3min▶︎Subway 30min Manhattan</td>\n      <td>This apartment is located 3min from subway \"Gr...</td>\n      <td>Grand Ave is asian oriented community. You can...</td>\n      <td>2014-08-01</td>\n      <td>within an hour</td>\n      <td>100.0</td>\n      <td>85.0</td>\n      <td>f</td>\n      <td>190.0</td>\n      <td>...</td>\n      <td>5.00</td>\n      <td>4.00</td>\n      <td>4.00</td>\n      <td>f</td>\n      <td>150</td>\n      <td>\"Lock on bedroom door\", \"Heating\", \"Air condit...</td>\n      <td>pt</td>\n      <td>ja</td>\n      <td>90</td>\n      <td>0.178820</td>\n    </tr>\n    <tr>\n      <th>17330</th>\n      <td>32591771</td>\n      <td>Room with a Terrace + 3min ➡︎ SubwayM/R Grand Ave</td>\n      <td>This apartment is located 3min from subway \"Gr...</td>\n      <td>Grand Ave is asian oriented community. You can...</td>\n      <td>2014-08-01</td>\n      <td>within an hour</td>\n      <td>100.0</td>\n      <td>85.0</td>\n      <td>f</td>\n      <td>190.0</td>\n      <td>...</td>\n      <td>0.00</td>\n      <td>0.00</td>\n      <td>0.00</td>\n      <td>f</td>\n      <td>150</td>\n      <td>\"Fire extinguisher\", \"Lock on bedroom door\", \"...</td>\n      <td>pt</td>\n      <td>ja</td>\n      <td>90</td>\n      <td>0.212089</td>\n    </tr>\n    <tr>\n      <th>20740</th>\n      <td>39982698</td>\n      <td>SPACIOUS 1 BEDROOM APT IN HARLEM</td>\n      <td>1 BEDROOM FULLY FURNISHED AVAILABLE FOR WEEK T...</td>\n      <td>HARLEM NEIGHBORHOOD WALKING DISTANCE TO COFFEE...</td>\n      <td>2017-04-30</td>\n      <td>within an hour</td>\n      <td>100.0</td>\n      <td>94.0</td>\n      <td>f</td>\n      <td>1.0</td>\n      <td>...</td>\n      <td>4.71</td>\n      <td>4.29</td>\n      <td>4.71</td>\n      <td>f</td>\n      <td>1</td>\n      <td>\"Hot water\", \"Iron\", \"Refrigerator\", \"Outdoor ...</td>\n      <td>pt</td>\n      <td>uk</td>\n      <td>57</td>\n      <td>0.223369</td>\n    </tr>\n    <tr>\n      <th>25090</th>\n      <td>47276663</td>\n      <td>SPACIOUS PRIVATE ROOM!!!, 30 mins to Manhattan</td>\n      <td>NO GUEST ALLOW  ONLY REGISTER PEOPLE CAN ENTER...</td>\n      <td>No Data</td>\n      <td>2019-04-23</td>\n      <td>within an hour</td>\n      <td>100.0</td>\n      <td>78.0</td>\n      <td>t</td>\n      <td>2.0</td>\n      <td>...</td>\n      <td>4.96</td>\n      <td>4.89</td>\n      <td>4.81</td>\n      <td>f</td>\n      <td>2</td>\n      <td>\"Hot water\", \"Body soap\", \"Shower gel\", \"Refri...</td>\n      <td>es</td>\n      <td>hu</td>\n      <td>33</td>\n      <td>0.236168</td>\n    </tr>\n    <tr>\n      <th>25956</th>\n      <td>48506346</td>\n      <td>COZY,  COMFORT AT SPRINGFIELD GARDENS</td>\n      <td>2 BEDROOM APARTMENT  NEAR JFK AIRPORT. COZY!  ...</td>\n      <td>No Data</td>\n      <td>2018-07-25</td>\n      <td>a few days or more</td>\n      <td>17.0</td>\n      <td>9.0</td>\n      <td>f</td>\n      <td>1.0</td>\n      <td>...</td>\n      <td>1.00</td>\n      <td>1.00</td>\n      <td>1.00</td>\n      <td>t</td>\n      <td>1</td>\n      <td>\"Iron\", \"KENMORE refrigerator\", \"Hot water ket...</td>\n      <td>tr</td>\n      <td>it</td>\n      <td>42</td>\n      <td>4.941401</td>\n    </tr>\n  </tbody>\n</table>\n<p>9 rows × 49 columns</p>\n</div>"
     },
     "metadata": {}
    }
   ]
  },
  {
   "cell_type": "code",
   "metadata": {
    "cell_id": "5ef3acca-a4d5-41ef-8764-4ba3ca6082de",
    "tags": [],
    "deepnote_to_be_reexecuted": false,
    "source_hash": "2b96d1be",
    "execution_start": 1647055632046,
    "execution_millis": 0,
    "deepnote_cell_type": "code",
    "deepnote_cell_height": 171
   },
   "source": "# By manual inspection, some listings were incorrectly labelled as non-English\neng_listings = [4948928, 5637556, 9765944, 9866039, 27141191, 32591771, \n                39982698, 47276663, 48506346]\n\nfor l in eng_listings:\n    listings.loc[listings['id'] == l, ['name_lang', 'description_lang']] = 'en'",
   "execution_count": null,
   "outputs": []
  },
  {
   "cell_type": "code",
   "metadata": {
    "cell_id": "92fbefe4-a7b6-4a54-ab60-dc0770702c98",
    "tags": [],
    "deepnote_to_be_reexecuted": false,
    "source_hash": "5265a1ae",
    "execution_start": 1647055633750,
    "execution_millis": 41,
    "deepnote_cell_type": "code",
    "deepnote_cell_height": 99
   },
   "source": "# Drop listings with non-English names and descriptions\nlistings = listings[~((listings['name_lang'] != 'en') & (listings['description_lang'] != 'en'))]",
   "execution_count": null,
   "outputs": []
  },
  {
   "cell_type": "code",
   "metadata": {
    "cell_id": "1d2ba337-4909-450d-8190-4aba9b572464",
    "tags": [],
    "deepnote_to_be_reexecuted": false,
    "source_hash": "f45ff08d",
    "execution_start": 1647055636006,
    "execution_millis": 191,
    "deepnote_table_state": {
     "pageSize": 10,
     "pageIndex": 6,
     "filters": [],
     "sortBy": []
    },
    "deepnote_table_loading": false,
    "deepnote_cell_type": "code",
    "deepnote_cell_height": 99
   },
   "source": "# Drop 81019 reviews which are non-English\nreviews = reviews[~(reviews['language'] != 'en')]",
   "execution_count": null,
   "outputs": []
  },
  {
   "cell_type": "markdown",
   "source": "## Remove Web Links",
   "metadata": {
    "cell_id": "3a0f6753-b687-4650-8802-763fbbbb9ba5",
    "tags": [],
    "deepnote_cell_type": "markdown",
    "deepnote_cell_height": 70
   }
  },
  {
   "cell_type": "code",
   "metadata": {
    "cell_id": "a62aec47-fabf-4928-8b72-70e429ef542d",
    "tags": [],
    "deepnote_to_be_reexecuted": false,
    "source_hash": "e554824d",
    "execution_start": 1647055648985,
    "execution_millis": 2,
    "deepnote_cell_type": "code",
    "deepnote_cell_height": 207
   },
   "source": "def remove_weblinks(txt):\n    txt = re.sub(r'https\\S+', '', txt)\n    txt = re.sub(r'http\\S+', '', txt)\n    txt = re.sub(r'www\\S+', '', txt)\n    txt = txt.replace('https', '')\n    txt = txt.replace('http', '')\n    txt = txt.replace('www', '')\n    return txt",
   "execution_count": null,
   "outputs": []
  },
  {
   "cell_type": "code",
   "metadata": {
    "cell_id": "9cf82755-a5a4-4234-b294-571e41a57697",
    "tags": [],
    "deepnote_to_be_reexecuted": false,
    "source_hash": "a190c0b3",
    "execution_start": 1647055650492,
    "execution_millis": 6447,
    "deepnote_cell_type": "code",
    "deepnote_cell_height": 251.84375
   },
   "source": "# Remove from listing descriptions and reviews\nlistings['description'] = listings['description'].apply(remove_weblinks)\nreviews['comments'] = reviews['comments'].apply(remove_weblinks)",
   "execution_count": null,
   "outputs": [
    {
     "name": "stderr",
     "text": "<ipython-input-12-f12a8d00fec3>:3: SettingWithCopyWarning: \nA value is trying to be set on a copy of a slice from a DataFrame.\nTry using .loc[row_indexer,col_indexer] = value instead\n\nSee the caveats in the documentation: https://pandas.pydata.org/pandas-docs/stable/user_guide/indexing.html#returning-a-view-versus-a-copy\n  reviews['comments'] = reviews['comments'].apply(remove_weblinks)\n",
     "output_type": "stream"
    }
   ]
  },
  {
   "cell_type": "markdown",
   "source": "## Length of Words in Reviews",
   "metadata": {
    "cell_id": "5a04bc23-3f14-4f8b-bd8b-eab52e17b27c",
    "tags": [],
    "deepnote_cell_type": "markdown",
    "deepnote_cell_height": 70
   }
  },
  {
   "cell_type": "code",
   "metadata": {
    "cell_id": "5999aeb7-dfd1-478c-a2b1-af7a48b33ad0",
    "tags": [],
    "deepnote_to_be_reexecuted": false,
    "source_hash": "60a77ca7",
    "execution_start": 1647055659658,
    "execution_millis": 18211,
    "deepnote_cell_type": "code",
    "deepnote_cell_height": 580.84375
   },
   "source": "# Count the number of words in review comments\nreviews['num_words'] = reviews['comments'].apply(lambda x: sum([i.strip(string.punctuation).isalpha() for i in x.split()]))\nreviews.head()",
   "execution_count": null,
   "outputs": [
    {
     "name": "stderr",
     "text": "<ipython-input-13-9ca1fa855049>:2: SettingWithCopyWarning: \nA value is trying to be set on a copy of a slice from a DataFrame.\nTry using .loc[row_indexer,col_indexer] = value instead\n\nSee the caveats in the documentation: https://pandas.pydata.org/pandas-docs/stable/user_guide/indexing.html#returning-a-view-versus-a-copy\n  reviews['num_words'] = reviews['comments'].apply(lambda x: sum([i.strip(string.punctuation).isalpha() for i in x.split()]))\n",
     "output_type": "stream"
    },
    {
     "output_type": "execute_result",
     "execution_count": 13,
     "data": {
      "application/vnd.deepnote.dataframe.v3+json": {
       "column_count": 4,
       "row_count": 5,
       "columns": [
        {
         "name": "listing_id",
         "dtype": "int64",
         "stats": {
          "unique_count": 1,
          "nan_count": 0,
          "min": "2595",
          "max": "2595",
          "histogram": [
           {
            "bin_start": 2594.5,
            "bin_end": 2594.6,
            "count": 0
           },
           {
            "bin_start": 2594.6,
            "bin_end": 2594.7,
            "count": 0
           },
           {
            "bin_start": 2594.7,
            "bin_end": 2594.8,
            "count": 0
           },
           {
            "bin_start": 2594.8,
            "bin_end": 2594.9,
            "count": 0
           },
           {
            "bin_start": 2594.9,
            "bin_end": 2595,
            "count": 0
           },
           {
            "bin_start": 2595,
            "bin_end": 2595.1,
            "count": 5
           },
           {
            "bin_start": 2595.1,
            "bin_end": 2595.2,
            "count": 0
           },
           {
            "bin_start": 2595.2,
            "bin_end": 2595.3,
            "count": 0
           },
           {
            "bin_start": 2595.3,
            "bin_end": 2595.4,
            "count": 0
           },
           {
            "bin_start": 2595.4,
            "bin_end": 2595.5,
            "count": 0
           }
          ]
         }
        },
        {
         "name": "comments",
         "dtype": "object",
         "stats": {
          "unique_count": 5,
          "nan_count": 0,
          "categories": [
           {
            "name": "Great experience.",
            "count": 1
           },
           {
            "name": "I've stayed with my friend at the Midtown Castle for six days and it was a lovely place to be. A big spacious room with a pointy roof, which really makes you feel like staying in a castle. The location is perfect. It is just a few steps from Macy's Time Square and Theatre District. Everything worked just perfect with the keys etc. Thank you so much Jennifer, we had a great time in New York.\r Attention: it's on the 4th floor without a lift :-) but definetely worth it!",
            "count": 1
           },
           {
            "name": "3 others",
            "count": 3
           }
          ]
         }
        },
        {
         "name": "language",
         "dtype": "object",
         "stats": {
          "unique_count": 1,
          "nan_count": 0,
          "categories": [
           {
            "name": "en",
            "count": 5
           }
          ]
         }
        },
        {
         "name": "num_words",
         "dtype": "int64",
         "stats": {
          "unique_count": 5,
          "nan_count": 0,
          "min": "2",
          "max": "96",
          "histogram": [
           {
            "bin_start": 2,
            "bin_end": 11.4,
            "count": 1
           },
           {
            "bin_start": 11.4,
            "bin_end": 20.8,
            "count": 0
           },
           {
            "bin_start": 20.8,
            "bin_end": 30.200000000000003,
            "count": 1
           },
           {
            "bin_start": 30.200000000000003,
            "bin_end": 39.6,
            "count": 0
           },
           {
            "bin_start": 39.6,
            "bin_end": 49,
            "count": 0
           },
           {
            "bin_start": 49,
            "bin_end": 58.400000000000006,
            "count": 0
           },
           {
            "bin_start": 58.400000000000006,
            "bin_end": 67.8,
            "count": 1
           },
           {
            "bin_start": 67.8,
            "bin_end": 77.2,
            "count": 0
           },
           {
            "bin_start": 77.2,
            "bin_end": 86.60000000000001,
            "count": 1
           },
           {
            "bin_start": 86.60000000000001,
            "bin_end": 96,
            "count": 1
           }
          ]
         }
        },
        {
         "name": "_deepnote_index_column",
         "dtype": "int64"
        }
       ],
       "rows": [
        {
         "listing_id": 2595,
         "comments": "Great experience.",
         "language": "en",
         "num_words": 2,
         "_deepnote_index_column": 1
        },
        {
         "listing_id": 2595,
         "comments": "I've stayed with my friend at the Midtown Castle for six days and it was a lovely place to be. A bi…",
         "language": "en",
         "num_words": 85,
         "_deepnote_index_column": 2
        },
        {
         "listing_id": 2595,
         "comments": "We've been staying here for about 9 nights, enjoying to be in the center of the city, that never sl…",
         "language": "en",
         "num_words": 60,
         "_deepnote_index_column": 3
        },
        {
         "listing_id": 2595,
         "comments": "We had a wonderful stay at Jennifer's charming apartment! They were very organized and helpful; I w…",
         "language": "en",
         "num_words": 23,
         "_deepnote_index_column": 4
        },
        {
         "listing_id": 2595,
         "comments": "Hi to everyone!\r Would say our greatest compliments to Jennifer, the host of Midtown Castle. We spe…",
         "language": "en",
         "num_words": 96,
         "_deepnote_index_column": 5
        }
       ]
      },
      "text/plain": "   listing_id                                           comments language  \\\n1        2595                                  Great experience.       en   \n2        2595  I've stayed with my friend at the Midtown Cast...       en   \n3        2595  We've been staying here for about 9 nights, en...       en   \n4        2595  We had a wonderful stay at Jennifer's charming...       en   \n5        2595  Hi to everyone!\\r Would say our greatest compl...       en   \n\n   num_words  \n1          2  \n2         85  \n3         60  \n4         23  \n5         96  ",
      "text/html": "<div>\n<style scoped>\n    .dataframe tbody tr th:only-of-type {\n        vertical-align: middle;\n    }\n\n    .dataframe tbody tr th {\n        vertical-align: top;\n    }\n\n    .dataframe thead th {\n        text-align: right;\n    }\n</style>\n<table border=\"1\" class=\"dataframe\">\n  <thead>\n    <tr style=\"text-align: right;\">\n      <th></th>\n      <th>listing_id</th>\n      <th>comments</th>\n      <th>language</th>\n      <th>num_words</th>\n    </tr>\n  </thead>\n  <tbody>\n    <tr>\n      <th>1</th>\n      <td>2595</td>\n      <td>Great experience.</td>\n      <td>en</td>\n      <td>2</td>\n    </tr>\n    <tr>\n      <th>2</th>\n      <td>2595</td>\n      <td>I've stayed with my friend at the Midtown Cast...</td>\n      <td>en</td>\n      <td>85</td>\n    </tr>\n    <tr>\n      <th>3</th>\n      <td>2595</td>\n      <td>We've been staying here for about 9 nights, en...</td>\n      <td>en</td>\n      <td>60</td>\n    </tr>\n    <tr>\n      <th>4</th>\n      <td>2595</td>\n      <td>We had a wonderful stay at Jennifer's charming...</td>\n      <td>en</td>\n      <td>23</td>\n    </tr>\n    <tr>\n      <th>5</th>\n      <td>2595</td>\n      <td>Hi to everyone!\\r Would say our greatest compl...</td>\n      <td>en</td>\n      <td>96</td>\n    </tr>\n  </tbody>\n</table>\n</div>"
     },
     "metadata": {}
    }
   ]
  },
  {
   "cell_type": "markdown",
   "source": "## Calculate Number of Months Since Joining Airbnb as Host",
   "metadata": {
    "cell_id": "0ec6b5fe-22da-42c3-9385-f72414519fb7",
    "tags": [],
    "deepnote_cell_type": "markdown",
    "deepnote_cell_height": 110
   }
  },
  {
   "cell_type": "code",
   "metadata": {
    "cell_id": "75c2f535-271d-4201-85ae-dd3f505c91fe",
    "tags": [],
    "deepnote_to_be_reexecuted": false,
    "source_hash": "b3764e2a",
    "execution_start": 1647055742895,
    "execution_millis": 310,
    "deepnote_cell_type": "code",
    "deepnote_cell_height": 555.65625
   },
   "source": "# Calculate the number of months since host was registered onto Airbnb based on 'host_since'\ndate_scraped = datetime.fromisoformat('2022-01-03')\nlistings['host_since'] = pd.to_datetime(listings['host_since'])\nlistings['host_months'] = date_scraped - listings['host_since']\nlistings['host_months'] = (listings['host_months'] / np.timedelta64(1,'M'))\n\n# Round up the number of months since host registered on Airbnb\nlistings['host_months'] = np.ceil(listings['host_months']).astype(int)\nlistings.head()",
   "execution_count": null,
   "outputs": [
    {
     "output_type": "execute_result",
     "execution_count": 14,
     "data": {
      "application/vnd.deepnote.dataframe.v3+json": {
       "column_count": 49,
       "row_count": 5,
       "columns": [
        {
         "name": "id",
         "dtype": "int64",
         "stats": {
          "unique_count": 5,
          "nan_count": 0,
          "min": "3831",
          "max": "5203",
          "histogram": [
           {
            "bin_start": 3831,
            "bin_end": 3968.2,
            "count": 1
           },
           {
            "bin_start": 3968.2,
            "bin_end": 4105.4,
            "count": 0
           },
           {
            "bin_start": 4105.4,
            "bin_end": 4242.6,
            "count": 0
           },
           {
            "bin_start": 4242.6,
            "bin_end": 4379.8,
            "count": 0
           },
           {
            "bin_start": 4379.8,
            "bin_end": 4517,
            "count": 0
           },
           {
            "bin_start": 4517,
            "bin_end": 4654.2,
            "count": 0
           },
           {
            "bin_start": 4654.2,
            "bin_end": 4791.4,
            "count": 0
           },
           {
            "bin_start": 4791.4,
            "bin_end": 4928.6,
            "count": 0
           },
           {
            "bin_start": 4928.6,
            "bin_end": 5065.8,
            "count": 0
           },
           {
            "bin_start": 5065.8,
            "bin_end": 5203,
            "count": 4
           }
          ]
         }
        },
        {
         "name": "name",
         "dtype": "object",
         "stats": {
          "unique_count": 5,
          "nan_count": 0,
          "categories": [
           {
            "name": "Whole flr w/private bdrm, bath & kitchen(pls read)",
            "count": 1
           },
           {
            "name": "BlissArtsSpace!",
            "count": 1
           },
           {
            "name": "3 others",
            "count": 3
           }
          ]
         }
        },
        {
         "name": "description",
         "dtype": "object",
         "stats": {
          "unique_count": 5,
          "nan_count": 0,
          "categories": [
           {
            "name": "Enjoy 500 s.f. top floor in 1899 brownstone, w/ wood & ceramic flooring throughout, roomy bdrm, & upgraded kitchen & bathroom.  This space is unique but one of the few legal AirBnbs with a totally private bedroom, private full bathroom and private eat-in kitchen, SO PLEASE READ \"THE SPACE\" CAREFULLY.  It's sunny & loaded with everything you need! Your floor, and the common staircase/hallway/entryway are cleaned/sanitized per Airbnb's Enhanced Cleaning Protocol.   The space  We host on the entire top floor of our double-duplex brownstone in Clinton Hill on Gates near Classon Avenue - (7 blocks to C train, 5 blocks to G train, minutes to downtown Brooklyn & lower Manhattan).  It is not an apartment in the traditional sense, it is more of an efficiency set-up and is TOTALLY LEGAL with all short-term rental laws. The top floor for our guests consists of a sizable bedroom, full bath and eat-in kitchen for your exclusive use - you get the amenities of a private apartment ",
            "count": 1
           },
           {
            "name": " The space  HELLO EVERYONE AND THANKS FOR VISITING BLISS ART SPACE!   Thank you all for your support. I've traveled a lot in the last year few years, to the  U.K. Germany, Italy and France! Loved Paris, Berlin and Calabria! Highly recommend all these places.    One room available for rent in a 2 bedroom apt in Bklyn. We share a common space with kitchen. I am an artist(painter, filmmaker) and curator who is working in the film industry while I'm building my art event production businesses.  Price above is nightly for one person. Monthly rates available.  Price is $900 per month for one person. Utilities not included, they are about 50 bucks, payable when the bill arrives mid month.   Couples rates are slightly more for monthly and 90$ per night short term. If you are a couple please Iet me know and I’ll give you the monthly rate for that. Room rental is on a temporary basis, perfect from 2- 6 months - no long term requests please! ",
            "count": 1
           },
           {
            "name": "3 others",
            "count": 3
           }
          ]
         }
        },
        {
         "name": "neighborhood_overview",
         "dtype": "object",
         "stats": {
          "unique_count": 4,
          "nan_count": 0,
          "categories": [
           {
            "name": "No Data",
            "count": 2
           },
           {
            "name": "Just the right mix of urban center and local neighborhood; close to all but enough quiet for a calming walk. 15 to 45 minutes to most parts of Manhattan; 10 to 30 minutes to most Brooklyn points of interest; 45 minutes to 60 minutes to historic Coney Island.",
            "count": 1
           },
           {
            "name": "2 others",
            "count": 2
           }
          ]
         }
        },
        {
         "name": "host_since",
         "dtype": "datetime64[ns]",
         "stats": {
          "unique_count": 4,
          "nan_count": 0,
          "min": "2008-12-07 00:00:00",
          "max": "2009-03-03 00:00:00",
          "histogram": [
           {
            "bin_start": 1228608000000000000,
            "bin_end": 1229351040000000000,
            "count": 1
           },
           {
            "bin_start": 1229351040000000000,
            "bin_end": 1230094080000000000,
            "count": 0
           },
           {
            "bin_start": 1230094080000000000,
            "bin_end": 1230837120000000000,
            "count": 0
           },
           {
            "bin_start": 1230837120000000000,
            "bin_end": 1231580160000000000,
            "count": 0
           },
           {
            "bin_start": 1231580160000000000,
            "bin_end": 1232323200000000000,
            "count": 0
           },
           {
            "bin_start": 1232323200000000000,
            "bin_end": 1233066240000000000,
            "count": 0
           },
           {
            "bin_start": 1233066240000000000,
            "bin_end": 1233809280000000000,
            "count": 3
           },
           {
            "bin_start": 1233809280000000000,
            "bin_end": 1234552320000000000,
            "count": 0
           },
           {
            "bin_start": 1234552320000000000,
            "bin_end": 1235295360000000000,
            "count": 0
           },
           {
            "bin_start": 1235295360000000000,
            "bin_end": 1236038400000000000,
            "count": 1
           }
          ]
         }
        },
        {
         "name": "host_response_time",
         "dtype": "object",
         "stats": {
          "unique_count": 4,
          "nan_count": 0,
          "categories": [
           {
            "name": "No Data",
            "count": 2
           },
           {
            "name": "a few days or more",
            "count": 1
           },
           {
            "name": "2 others",
            "count": 2
           }
          ]
         }
        },
        {
         "name": "host_response_rate",
         "dtype": "float64",
         "stats": {
          "unique_count": 2,
          "nan_count": 2,
          "min": "0.0",
          "max": "100.0",
          "histogram": [
           {
            "bin_start": 0,
            "bin_end": 10,
            "count": 1
           },
           {
            "bin_start": 10,
            "bin_end": 20,
            "count": 0
           },
           {
            "bin_start": 20,
            "bin_end": 30,
            "count": 0
           },
           {
            "bin_start": 30,
            "bin_end": 40,
            "count": 0
           },
           {
            "bin_start": 40,
            "bin_end": 50,
            "count": 0
           },
           {
            "bin_start": 50,
            "bin_end": 60,
            "count": 0
           },
           {
            "bin_start": 60,
            "bin_end": 70,
            "count": 0
           },
           {
            "bin_start": 70,
            "bin_end": 80,
            "count": 0
           },
           {
            "bin_start": 80,
            "bin_end": 90,
            "count": 0
           },
           {
            "bin_start": 90,
            "bin_end": 100,
            "count": 2
           }
          ]
         }
        },
        {
         "name": "host_acceptance_rate",
         "dtype": "float64",
         "stats": {
          "unique_count": 3,
          "nan_count": 1,
          "min": "25.0",
          "max": "100.0",
          "histogram": [
           {
            "bin_start": 25,
            "bin_end": 32.5,
            "count": 1
           },
           {
            "bin_start": 32.5,
            "bin_end": 40,
            "count": 0
           },
           {
            "bin_start": 40,
            "bin_end": 47.5,
            "count": 0
           },
           {
            "bin_start": 47.5,
            "bin_end": 55,
            "count": 0
           },
           {
            "bin_start": 55,
            "bin_end": 62.5,
            "count": 0
           },
           {
            "bin_start": 62.5,
            "bin_end": 70,
            "count": 1
           },
           {
            "bin_start": 70,
            "bin_end": 77.5,
            "count": 0
           },
           {
            "bin_start": 77.5,
            "bin_end": 85,
            "count": 0
           },
           {
            "bin_start": 85,
            "bin_end": 92.5,
            "count": 0
           },
           {
            "bin_start": 92.5,
            "bin_end": 100,
            "count": 2
           }
          ]
         }
        },
        {
         "name": "host_is_superhost",
         "dtype": "object",
         "stats": {
          "unique_count": 1,
          "nan_count": 0,
          "categories": [
           {
            "name": "f",
            "count": 5
           }
          ]
         }
        },
        {
         "name": "host_listings_count",
         "dtype": "float64",
         "stats": {
          "unique_count": 1,
          "nan_count": 0,
          "min": "1.0",
          "max": "1.0",
          "histogram": [
           {
            "bin_start": 0.5,
            "bin_end": 0.6,
            "count": 0
           },
           {
            "bin_start": 0.6,
            "bin_end": 0.7,
            "count": 0
           },
           {
            "bin_start": 0.7,
            "bin_end": 0.8,
            "count": 0
           },
           {
            "bin_start": 0.8,
            "bin_end": 0.9,
            "count": 0
           },
           {
            "bin_start": 0.9,
            "bin_end": 1,
            "count": 0
           },
           {
            "bin_start": 1,
            "bin_end": 1.1,
            "count": 5
           },
           {
            "bin_start": 1.1,
            "bin_end": 1.2000000000000002,
            "count": 0
           },
           {
            "bin_start": 1.2000000000000002,
            "bin_end": 1.3,
            "count": 0
           },
           {
            "bin_start": 1.3,
            "bin_end": 1.4,
            "count": 0
           },
           {
            "bin_start": 1.4,
            "bin_end": 1.5,
            "count": 0
           }
          ]
         }
        },
        {
         "name": "host_has_profile_pic",
         "dtype": "object",
         "stats": {
          "unique_count": 1,
          "nan_count": 0,
          "categories": [
           {
            "name": "t",
            "count": 5
           }
          ]
         }
        },
        {
         "name": "host_identity_verified",
         "dtype": "object",
         "stats": {
          "unique_count": 2,
          "nan_count": 0,
          "categories": [
           {
            "name": "t",
            "count": 4
           },
           {
            "name": "f",
            "count": 1
           }
          ]
         }
        },
        {
         "name": "neighbourhood",
         "dtype": "object",
         "stats": {
          "unique_count": 3,
          "nan_count": 0,
          "categories": [
           {
            "name": "No Data",
            "count": 2
           },
           {
            "name": "New York, United States",
            "count": 2
           },
           {
            "name": "Brooklyn, New York, United States",
            "count": 1
           }
          ]
         }
        },
        {
         "name": "neighbourhood_cleansed",
         "dtype": "object",
         "stats": {
          "unique_count": 4,
          "nan_count": 0,
          "categories": [
           {
            "name": "Bedford-Stuyvesant",
            "count": 2
           },
           {
            "name": "Sunset Park",
            "count": 1
           },
           {
            "name": "2 others",
            "count": 2
           }
          ]
         }
        },
        {
         "name": "neighbourhood_group_cleansed",
         "dtype": "object",
         "stats": {
          "unique_count": 2,
          "nan_count": 0,
          "categories": [
           {
            "name": "Brooklyn",
            "count": 3
           },
           {
            "name": "Manhattan",
            "count": 2
           }
          ]
         }
        },
        {
         "name": "latitude",
         "dtype": "float64",
         "stats": {
          "unique_count": 5,
          "nan_count": 0,
          "min": "40.66265",
          "max": "40.8038",
          "histogram": [
           {
            "bin_start": 40.66265,
            "bin_end": 40.676765,
            "count": 1
           },
           {
            "bin_start": 40.676765,
            "bin_end": 40.69088,
            "count": 2
           },
           {
            "bin_start": 40.69088,
            "bin_end": 40.704995,
            "count": 0
           },
           {
            "bin_start": 40.704995,
            "bin_end": 40.71911,
            "count": 0
           },
           {
            "bin_start": 40.71911,
            "bin_end": 40.733225000000004,
            "count": 0
           },
           {
            "bin_start": 40.733225000000004,
            "bin_end": 40.74734,
            "count": 0
           },
           {
            "bin_start": 40.74734,
            "bin_end": 40.761455,
            "count": 0
           },
           {
            "bin_start": 40.761455,
            "bin_end": 40.77557,
            "count": 1
           },
           {
            "bin_start": 40.77557,
            "bin_end": 40.789685000000006,
            "count": 0
           },
           {
            "bin_start": 40.789685000000006,
            "bin_end": 40.8038,
            "count": 1
           }
          ]
         }
        },
        {
         "name": "longitude",
         "dtype": "float64",
         "stats": {
          "unique_count": 5,
          "nan_count": 0,
          "min": "-73.99454",
          "max": "-73.95512",
          "histogram": [
           {
            "bin_start": -73.99454,
            "bin_end": -73.990598,
            "count": 1
           },
           {
            "bin_start": -73.990598,
            "bin_end": -73.986656,
            "count": 0
           },
           {
            "bin_start": -73.986656,
            "bin_end": -73.982714,
            "count": 1
           },
           {
            "bin_start": -73.982714,
            "bin_end": -73.97877199999999,
            "count": 0
           },
           {
            "bin_start": -73.97877199999999,
            "bin_end": -73.97483,
            "count": 0
           },
           {
            "bin_start": -73.97483,
            "bin_end": -73.970888,
            "count": 0
           },
           {
            "bin_start": -73.970888,
            "bin_end": -73.966946,
            "count": 1
           },
           {
            "bin_start": -73.966946,
            "bin_end": -73.963004,
            "count": 0
           },
           {
            "bin_start": -73.963004,
            "bin_end": -73.95906199999999,
            "count": 0
           },
           {
            "bin_start": -73.95906199999999,
            "bin_end": -73.95512,
            "count": 2
           }
          ]
         }
        },
        {
         "name": "property_type",
         "dtype": "object",
         "stats": {
          "unique_count": 3,
          "nan_count": 0,
          "categories": [
           {
            "name": "Private room in rental unit",
            "count": 3
           },
           {
            "name": "Entire guest suite",
            "count": 1
           },
           {
            "name": "Entire rental unit",
            "count": 1
           }
          ]
         }
        },
        {
         "name": "room_type",
         "dtype": "object",
         "stats": {
          "unique_count": 2,
          "nan_count": 0,
          "categories": [
           {
            "name": "Private room",
            "count": 3
           },
           {
            "name": "Entire home/apt",
            "count": 2
           }
          ]
         }
        },
        {
         "name": "accommodates",
         "dtype": "int64",
         "stats": {
          "unique_count": 4,
          "nan_count": 0,
          "min": "1",
          "max": "4",
          "histogram": [
           {
            "bin_start": 1,
            "bin_end": 1.3,
            "count": 1
           },
           {
            "bin_start": 1.3,
            "bin_end": 1.6,
            "count": 0
           },
           {
            "bin_start": 1.6,
            "bin_end": 1.9,
            "count": 0
           },
           {
            "bin_start": 1.9,
            "bin_end": 2.2,
            "count": 2
           },
           {
            "bin_start": 2.2,
            "bin_end": 2.5,
            "count": 0
           },
           {
            "bin_start": 2.5,
            "bin_end": 2.8,
            "count": 0
           },
           {
            "bin_start": 2.8,
            "bin_end": 3.1,
            "count": 1
           },
           {
            "bin_start": 3.1,
            "bin_end": 3.4,
            "count": 0
           },
           {
            "bin_start": 3.4,
            "bin_end": 3.6999999999999997,
            "count": 0
           },
           {
            "bin_start": 3.6999999999999997,
            "bin_end": 4,
            "count": 1
           }
          ]
         }
        },
        {
         "name": "bathrooms_text",
         "dtype": "object",
         "stats": {
          "unique_count": 4,
          "nan_count": 0,
          "categories": [
           {
            "name": "1 bath",
            "count": 2
           },
           {
            "name": "No Data",
            "count": 1
           },
           {
            "name": "2 others",
            "count": 2
           }
          ]
         }
        },
        {
         "name": "bedrooms",
         "dtype": "int64",
         "stats": {
          "unique_count": 2,
          "nan_count": 0,
          "min": "1",
          "max": "2",
          "histogram": [
           {
            "bin_start": 1,
            "bin_end": 1.1,
            "count": 4
           },
           {
            "bin_start": 1.1,
            "bin_end": 1.2,
            "count": 0
           },
           {
            "bin_start": 1.2,
            "bin_end": 1.3,
            "count": 0
           },
           {
            "bin_start": 1.3,
            "bin_end": 1.4,
            "count": 0
           },
           {
            "bin_start": 1.4,
            "bin_end": 1.5,
            "count": 0
           },
           {
            "bin_start": 1.5,
            "bin_end": 1.6,
            "count": 0
           },
           {
            "bin_start": 1.6,
            "bin_end": 1.7000000000000002,
            "count": 0
           },
           {
            "bin_start": 1.7000000000000002,
            "bin_end": 1.8,
            "count": 0
           },
           {
            "bin_start": 1.8,
            "bin_end": 1.9,
            "count": 0
           },
           {
            "bin_start": 1.9,
            "bin_end": 2,
            "count": 1
           }
          ]
         }
        },
        {
         "name": "beds",
         "dtype": "int64",
         "stats": {
          "unique_count": 3,
          "nan_count": 0,
          "min": "1",
          "max": "3",
          "histogram": [
           {
            "bin_start": 1,
            "bin_end": 1.2,
            "count": 3
           },
           {
            "bin_start": 1.2,
            "bin_end": 1.4,
            "count": 0
           },
           {
            "bin_start": 1.4,
            "bin_end": 1.6,
            "count": 0
           },
           {
            "bin_start": 1.6,
            "bin_end": 1.8,
            "count": 0
           },
           {
            "bin_start": 1.8,
            "bin_end": 2,
            "count": 0
           },
           {
            "bin_start": 2,
            "bin_end": 2.2,
            "count": 1
           },
           {
            "bin_start": 2.2,
            "bin_end": 2.4000000000000004,
            "count": 0
           },
           {
            "bin_start": 2.4000000000000004,
            "bin_end": 2.6,
            "count": 0
           },
           {
            "bin_start": 2.6,
            "bin_end": 2.8,
            "count": 0
           },
           {
            "bin_start": 2.8,
            "bin_end": 3,
            "count": 1
           }
          ]
         }
        },
        {
         "name": "amenities",
         "dtype": "object",
         "stats": {
          "unique_count": 5,
          "nan_count": 0,
          "categories": [
           {
            "name": "[\"Hot water\", \"Iron\", \"Children\\u2019s books and toys\", \"Refrigerator\", \"Kitchen\", \"Cable TV\", \"Fire extinguisher\", \"Oven\", \"Extra pillows and blankets\", \"Microwave\", \"Coffee maker\", \"Luggage dropoff allowed\", \"Pack \\u2019n play/Travel crib\", \"Free street parking\", \"Air conditioning\", \"Baby safety gates\", \"Lockbox\", \"Bed linens\", \"Free parking on premises\", \"Heating\", \"Carbon monoxide alarm\", \"Stove\", \"Bathtub\", \"TV with standard cable\", \"High chair\", \"Smoke alarm\", \"Hair dryer\", \"Shampoo\", \"Essentials\", \"Cooking basics\", \"Hangers\", \"Dedicated workspace\", \"Dishes and silverware\", \"Long term stays allowed\", \"Wifi\"]",
            "count": 1
           },
           {
            "name": "[\"Heating\", \"Air conditioning\", \"Long term stays allowed\", \"Wifi\", \"Kitchen\"]",
            "count": 1
           },
           {
            "name": "3 others",
            "count": 3
           }
          ]
         }
        },
        {
         "name": "price",
         "dtype": "float64",
         "stats": {
          "unique_count": 5,
          "nan_count": 0,
          "min": "60.0",
          "max": "275.0",
          "histogram": [
           {
            "bin_start": 60,
            "bin_end": 81.5,
            "count": 4
           },
           {
            "bin_start": 81.5,
            "bin_end": 103,
            "count": 0
           },
           {
            "bin_start": 103,
            "bin_end": 124.5,
            "count": 0
           },
           {
            "bin_start": 124.5,
            "bin_end": 146,
            "count": 0
           },
           {
            "bin_start": 146,
            "bin_end": 167.5,
            "count": 0
           },
           {
            "bin_start": 167.5,
            "bin_end": 189,
            "count": 0
           },
           {
            "bin_start": 189,
            "bin_end": 210.5,
            "count": 0
           },
           {
            "bin_start": 210.5,
            "bin_end": 232,
            "count": 0
           },
           {
            "bin_start": 232,
            "bin_end": 253.5,
            "count": 0
           },
           {
            "bin_start": 253.5,
            "bin_end": 275,
            "count": 1
           }
          ]
         }
        },
        {
         "name": "minimum_nights",
         "dtype": "int64",
         "stats": {
          "unique_count": 4,
          "nan_count": 0,
          "min": "1",
          "max": "30",
          "histogram": [
           {
            "bin_start": 1,
            "bin_end": 3.9,
            "count": 3
           },
           {
            "bin_start": 3.9,
            "bin_end": 6.8,
            "count": 1
           },
           {
            "bin_start": 6.8,
            "bin_end": 9.7,
            "count": 0
           },
           {
            "bin_start": 9.7,
            "bin_end": 12.6,
            "count": 0
           },
           {
            "bin_start": 12.6,
            "bin_end": 15.5,
            "count": 0
           },
           {
            "bin_start": 15.5,
            "bin_end": 18.4,
            "count": 0
           },
           {
            "bin_start": 18.4,
            "bin_end": 21.3,
            "count": 0
           },
           {
            "bin_start": 21.3,
            "bin_end": 24.2,
            "count": 0
           },
           {
            "bin_start": 24.2,
            "bin_end": 27.099999999999998,
            "count": 0
           },
           {
            "bin_start": 27.099999999999998,
            "bin_end": 30,
            "count": 1
           }
          ]
         }
        },
        {
         "name": "maximum_nights",
         "dtype": "int64",
         "stats": {
          "unique_count": 3,
          "nan_count": 0,
          "min": "14",
          "max": "1125",
          "histogram": [
           {
            "bin_start": 14,
            "bin_end": 125.1,
            "count": 2
           },
           {
            "bin_start": 125.1,
            "bin_end": 236.2,
            "count": 0
           },
           {
            "bin_start": 236.2,
            "bin_end": 347.29999999999995,
            "count": 0
           },
           {
            "bin_start": 347.29999999999995,
            "bin_end": 458.4,
            "count": 0
           },
           {
            "bin_start": 458.4,
            "bin_end": 569.5,
            "count": 0
           },
           {
            "bin_start": 569.5,
            "bin_end": 680.5999999999999,
            "count": 0
           },
           {
            "bin_start": 680.5999999999999,
            "bin_end": 791.6999999999999,
            "count": 2
           },
           {
            "bin_start": 791.6999999999999,
            "bin_end": 902.8,
            "count": 0
           },
           {
            "bin_start": 902.8,
            "bin_end": 1013.9,
            "count": 0
           },
           {
            "bin_start": 1013.9,
            "bin_end": 1125,
            "count": 1
           }
          ]
         }
        },
        {
         "name": "has_availability",
         "dtype": "object",
         "stats": {
          "unique_count": 1,
          "nan_count": 0,
          "categories": [
           {
            "name": "t",
            "count": 5
           }
          ]
         }
        },
        {
         "name": "availability_30",
         "dtype": "int64",
         "stats": {
          "unique_count": 4,
          "nan_count": 0,
          "min": "0",
          "max": "30",
          "histogram": [
           {
            "bin_start": 0,
            "bin_end": 3,
            "count": 2
           },
           {
            "bin_start": 3,
            "bin_end": 6,
            "count": 1
           },
           {
            "bin_start": 6,
            "bin_end": 9,
            "count": 0
           },
           {
            "bin_start": 9,
            "bin_end": 12,
            "count": 1
           },
           {
            "bin_start": 12,
            "bin_end": 15,
            "count": 0
           },
           {
            "bin_start": 15,
            "bin_end": 18,
            "count": 0
           },
           {
            "bin_start": 18,
            "bin_end": 21,
            "count": 0
           },
           {
            "bin_start": 21,
            "bin_end": 24,
            "count": 0
           },
           {
            "bin_start": 24,
            "bin_end": 27,
            "count": 0
           },
           {
            "bin_start": 27,
            "bin_end": 30,
            "count": 1
           }
          ]
         }
        },
        {
         "name": "availability_60",
         "dtype": "int64",
         "stats": {
          "unique_count": 5,
          "nan_count": 0,
          "min": "0",
          "max": "60",
          "histogram": [
           {
            "bin_start": 0,
            "bin_end": 6,
            "count": 1
           },
           {
            "bin_start": 6,
            "bin_end": 12,
            "count": 1
           },
           {
            "bin_start": 12,
            "bin_end": 18,
            "count": 1
           },
           {
            "bin_start": 18,
            "bin_end": 24,
            "count": 0
           },
           {
            "bin_start": 24,
            "bin_end": 30,
            "count": 1
           },
           {
            "bin_start": 30,
            "bin_end": 36,
            "count": 0
           },
           {
            "bin_start": 36,
            "bin_end": 42,
            "count": 0
           },
           {
            "bin_start": 42,
            "bin_end": 48,
            "count": 0
           },
           {
            "bin_start": 48,
            "bin_end": 54,
            "count": 0
           },
           {
            "bin_start": 54,
            "bin_end": 60,
            "count": 1
           }
          ]
         }
        },
        {
         "name": "availability_90",
         "dtype": "int64",
         "stats": {
          "unique_count": 5,
          "nan_count": 0,
          "min": "0",
          "max": "90",
          "histogram": [
           {
            "bin_start": 0,
            "bin_end": 9,
            "count": 1
           },
           {
            "bin_start": 9,
            "bin_end": 18,
            "count": 1
           },
           {
            "bin_start": 18,
            "bin_end": 27,
            "count": 1
           },
           {
            "bin_start": 27,
            "bin_end": 36,
            "count": 1
           },
           {
            "bin_start": 36,
            "bin_end": 45,
            "count": 0
           },
           {
            "bin_start": 45,
            "bin_end": 54,
            "count": 0
           },
           {
            "bin_start": 54,
            "bin_end": 63,
            "count": 0
           },
           {
            "bin_start": 63,
            "bin_end": 72,
            "count": 0
           },
           {
            "bin_start": 72,
            "bin_end": 81,
            "count": 0
           },
           {
            "bin_start": 81,
            "bin_end": 90,
            "count": 1
           }
          ]
         }
        },
        {
         "name": "availability_365",
         "dtype": "int64",
         "stats": {
          "unique_count": 5,
          "nan_count": 0,
          "min": "0",
          "max": "365",
          "histogram": [
           {
            "bin_start": 0,
            "bin_end": 36.5,
            "count": 1
           },
           {
            "bin_start": 36.5,
            "bin_end": 73,
            "count": 0
           },
           {
            "bin_start": 73,
            "bin_end": 109.5,
            "count": 0
           },
           {
            "bin_start": 109.5,
            "bin_end": 146,
            "count": 0
           },
           {
            "bin_start": 146,
            "bin_end": 182.5,
            "count": 1
           },
           {
            "bin_start": 182.5,
            "bin_end": 219,
            "count": 2
           },
           {
            "bin_start": 219,
            "bin_end": 255.5,
            "count": 0
           },
           {
            "bin_start": 255.5,
            "bin_end": 292,
            "count": 0
           },
           {
            "bin_start": 292,
            "bin_end": 328.5,
            "count": 0
           },
           {
            "bin_start": 328.5,
            "bin_end": 365,
            "count": 1
           }
          ]
         }
        },
        {
         "name": "number_of_reviews",
         "dtype": "int64",
         "stats": {
          "unique_count": 5,
          "nan_count": 0,
          "min": "2",
          "max": "514",
          "histogram": [
           {
            "bin_start": 2,
            "bin_end": 53.2,
            "count": 2
           },
           {
            "bin_start": 53.2,
            "bin_end": 104.4,
            "count": 0
           },
           {
            "bin_start": 104.4,
            "bin_end": 155.60000000000002,
            "count": 1
           },
           {
            "bin_start": 155.60000000000002,
            "bin_end": 206.8,
            "count": 0
           },
           {
            "bin_start": 206.8,
            "bin_end": 258,
            "count": 0
           },
           {
            "bin_start": 258,
            "bin_end": 309.20000000000005,
            "count": 0
           },
           {
            "bin_start": 309.20000000000005,
            "bin_end": 360.40000000000003,
            "count": 0
           },
           {
            "bin_start": 360.40000000000003,
            "bin_end": 411.6,
            "count": 1
           },
           {
            "bin_start": 411.6,
            "bin_end": 462.8,
            "count": 0
           },
           {
            "bin_start": 462.8,
            "bin_end": 514,
            "count": 1
           }
          ]
         }
        },
        {
         "name": "number_of_reviews_ltm",
         "dtype": "int64",
         "stats": {
          "unique_count": 4,
          "nan_count": 0,
          "min": "0",
          "max": "40",
          "histogram": [
           {
            "bin_start": 0,
            "bin_end": 4,
            "count": 3
           },
           {
            "bin_start": 4,
            "bin_end": 8,
            "count": 0
           },
           {
            "bin_start": 8,
            "bin_end": 12,
            "count": 0
           },
           {
            "bin_start": 12,
            "bin_end": 16,
            "count": 0
           },
           {
            "bin_start": 16,
            "bin_end": 20,
            "count": 0
           },
           {
            "bin_start": 20,
            "bin_end": 24,
            "count": 0
           },
           {
            "bin_start": 24,
            "bin_end": 28,
            "count": 1
           },
           {
            "bin_start": 28,
            "bin_end": 32,
            "count": 0
           },
           {
            "bin_start": 32,
            "bin_end": 36,
            "count": 0
           },
           {
            "bin_start": 36,
            "bin_end": 40,
            "count": 1
           }
          ]
         }
        },
        {
         "name": "number_of_reviews_l30d",
         "dtype": "int64",
         "stats": {
          "unique_count": 2,
          "nan_count": 0,
          "min": "0",
          "max": "4",
          "histogram": [
           {
            "bin_start": 0,
            "bin_end": 0.4,
            "count": 4
           },
           {
            "bin_start": 0.4,
            "bin_end": 0.8,
            "count": 0
           },
           {
            "bin_start": 0.8,
            "bin_end": 1.2000000000000002,
            "count": 0
           },
           {
            "bin_start": 1.2000000000000002,
            "bin_end": 1.6,
            "count": 0
           },
           {
            "bin_start": 1.6,
            "bin_end": 2,
            "count": 0
           },
           {
            "bin_start": 2,
            "bin_end": 2.4000000000000004,
            "count": 0
           },
           {
            "bin_start": 2.4000000000000004,
            "bin_end": 2.8000000000000003,
            "count": 0
           },
           {
            "bin_start": 2.8000000000000003,
            "bin_end": 3.2,
            "count": 0
           },
           {
            "bin_start": 3.2,
            "bin_end": 3.6,
            "count": 0
           },
           {
            "bin_start": 3.6,
            "bin_end": 4,
            "count": 1
           }
          ]
         }
        },
        {
         "name": "review_scores_rating",
         "dtype": "float64",
         "stats": {
          "unique_count": 5,
          "nan_count": 0,
          "min": "4.22",
          "max": "5.0",
          "histogram": [
           {
            "bin_start": 4.22,
            "bin_end": 4.298,
            "count": 1
           },
           {
            "bin_start": 4.298,
            "bin_end": 4.3759999999999994,
            "count": 0
           },
           {
            "bin_start": 4.3759999999999994,
            "bin_end": 4.454,
            "count": 1
           },
           {
            "bin_start": 4.454,
            "bin_end": 4.532,
            "count": 1
           },
           {
            "bin_start": 4.532,
            "bin_end": 4.609999999999999,
            "count": 0
           },
           {
            "bin_start": 4.609999999999999,
            "bin_end": 4.688,
            "count": 0
           },
           {
            "bin_start": 4.688,
            "bin_end": 4.766,
            "count": 0
           },
           {
            "bin_start": 4.766,
            "bin_end": 4.844,
            "count": 0
           },
           {
            "bin_start": 4.844,
            "bin_end": 4.922,
            "count": 1
           },
           {
            "bin_start": 4.922,
            "bin_end": 5,
            "count": 1
           }
          ]
         }
        },
        {
         "name": "review_scores_accuracy",
         "dtype": "float64",
         "stats": {
          "unique_count": 5,
          "nan_count": 0,
          "min": "4.21",
          "max": "5.0",
          "histogram": [
           {
            "bin_start": 4.21,
            "bin_end": 4.289,
            "count": 2
           },
           {
            "bin_start": 4.289,
            "bin_end": 4.368,
            "count": 0
           },
           {
            "bin_start": 4.368,
            "bin_end": 4.447,
            "count": 0
           },
           {
            "bin_start": 4.447,
            "bin_end": 4.526,
            "count": 0
           },
           {
            "bin_start": 4.526,
            "bin_end": 4.605,
            "count": 1
           },
           {
            "bin_start": 4.605,
            "bin_end": 4.684,
            "count": 0
           },
           {
            "bin_start": 4.684,
            "bin_end": 4.763,
            "count": 0
           },
           {
            "bin_start": 4.763,
            "bin_end": 4.842,
            "count": 1
           },
           {
            "bin_start": 4.842,
            "bin_end": 4.921,
            "count": 0
           },
           {
            "bin_start": 4.921,
            "bin_end": 5,
            "count": 1
           }
          ]
         }
        },
        {
         "name": "review_scores_cleanliness",
         "dtype": "float64",
         "stats": {
          "unique_count": 5,
          "nan_count": 0,
          "min": "3.73",
          "max": "5.0",
          "histogram": [
           {
            "bin_start": 3.73,
            "bin_end": 3.857,
            "count": 1
           },
           {
            "bin_start": 3.857,
            "bin_end": 3.984,
            "count": 0
           },
           {
            "bin_start": 3.984,
            "bin_end": 4.111,
            "count": 1
           },
           {
            "bin_start": 4.111,
            "bin_end": 4.2379999999999995,
            "count": 0
           },
           {
            "bin_start": 4.2379999999999995,
            "bin_end": 4.365,
            "count": 0
           },
           {
            "bin_start": 4.365,
            "bin_end": 4.492,
            "count": 1
           },
           {
            "bin_start": 4.492,
            "bin_end": 4.619,
            "count": 0
           },
           {
            "bin_start": 4.619,
            "bin_end": 4.746,
            "count": 0
           },
           {
            "bin_start": 4.746,
            "bin_end": 4.873,
            "count": 1
           },
           {
            "bin_start": 4.873,
            "bin_end": 5,
            "count": 1
           }
          ]
         }
        },
        {
         "name": "review_scores_checkin",
         "dtype": "float64",
         "stats": {
          "unique_count": 5,
          "nan_count": 0,
          "min": "4.66",
          "max": "5.0",
          "histogram": [
           {
            "bin_start": 4.66,
            "bin_end": 4.694,
            "count": 1
           },
           {
            "bin_start": 4.694,
            "bin_end": 4.728,
            "count": 0
           },
           {
            "bin_start": 4.728,
            "bin_end": 4.7620000000000005,
            "count": 0
           },
           {
            "bin_start": 4.7620000000000005,
            "bin_end": 4.796,
            "count": 1
           },
           {
            "bin_start": 4.796,
            "bin_end": 4.83,
            "count": 0
           },
           {
            "bin_start": 4.83,
            "bin_end": 4.864,
            "count": 0
           },
           {
            "bin_start": 4.864,
            "bin_end": 4.898,
            "count": 0
           },
           {
            "bin_start": 4.898,
            "bin_end": 4.932,
            "count": 1
           },
           {
            "bin_start": 4.932,
            "bin_end": 4.966,
            "count": 0
           },
           {
            "bin_start": 4.966,
            "bin_end": 5,
            "count": 2
           }
          ]
         }
        },
        {
         "name": "review_scores_communication",
         "dtype": "float64",
         "stats": {
          "unique_count": 5,
          "nan_count": 0,
          "min": "4.42",
          "max": "5.0",
          "histogram": [
           {
            "bin_start": 4.42,
            "bin_end": 4.478,
            "count": 1
           },
           {
            "bin_start": 4.478,
            "bin_end": 4.536,
            "count": 0
           },
           {
            "bin_start": 4.536,
            "bin_end": 4.594,
            "count": 0
           },
           {
            "bin_start": 4.594,
            "bin_end": 4.652,
            "count": 0
           },
           {
            "bin_start": 4.652,
            "bin_end": 4.71,
            "count": 0
           },
           {
            "bin_start": 4.71,
            "bin_end": 4.768,
            "count": 0
           },
           {
            "bin_start": 4.768,
            "bin_end": 4.826,
            "count": 1
           },
           {
            "bin_start": 4.826,
            "bin_end": 4.884,
            "count": 0
           },
           {
            "bin_start": 4.884,
            "bin_end": 4.942,
            "count": 1
           },
           {
            "bin_start": 4.942,
            "bin_end": 5,
            "count": 2
           }
          ]
         }
        },
        {
         "name": "review_scores_location",
         "dtype": "float64",
         "stats": {
          "unique_count": 5,
          "nan_count": 0,
          "min": "4.47",
          "max": "4.94",
          "histogram": [
           {
            "bin_start": 4.47,
            "bin_end": 4.5169999999999995,
            "count": 2
           },
           {
            "bin_start": 4.5169999999999995,
            "bin_end": 4.564,
            "count": 0
           },
           {
            "bin_start": 4.564,
            "bin_end": 4.611,
            "count": 0
           },
           {
            "bin_start": 4.611,
            "bin_end": 4.658,
            "count": 0
           },
           {
            "bin_start": 4.658,
            "bin_end": 4.705,
            "count": 0
           },
           {
            "bin_start": 4.705,
            "bin_end": 4.752,
            "count": 1
           },
           {
            "bin_start": 4.752,
            "bin_end": 4.799,
            "count": 0
           },
           {
            "bin_start": 4.799,
            "bin_end": 4.846,
            "count": 0
           },
           {
            "bin_start": 4.846,
            "bin_end": 4.893000000000001,
            "count": 1
           },
           {
            "bin_start": 4.893000000000001,
            "bin_end": 4.94,
            "count": 1
           }
          ]
         }
        },
        {
         "name": "review_scores_value",
         "dtype": "float64",
         "stats": {
          "unique_count": 5,
          "nan_count": 0,
          "min": "4.36",
          "max": "5.0",
          "histogram": [
           {
            "bin_start": 4.36,
            "bin_end": 4.424,
            "count": 1
           },
           {
            "bin_start": 4.424,
            "bin_end": 4.488,
            "count": 0
           },
           {
            "bin_start": 4.488,
            "bin_end": 4.5520000000000005,
            "count": 1
           },
           {
            "bin_start": 4.5520000000000005,
            "bin_end": 4.6160000000000005,
            "count": 0
           },
           {
            "bin_start": 4.6160000000000005,
            "bin_end": 4.68,
            "count": 1
           },
           {
            "bin_start": 4.68,
            "bin_end": 4.744,
            "count": 0
           },
           {
            "bin_start": 4.744,
            "bin_end": 4.808,
            "count": 0
           },
           {
            "bin_start": 4.808,
            "bin_end": 4.872,
            "count": 0
           },
           {
            "bin_start": 4.872,
            "bin_end": 4.936,
            "count": 1
           },
           {
            "bin_start": 4.936,
            "bin_end": 5,
            "count": 1
           }
          ]
         }
        },
        {
         "name": "instant_bookable",
         "dtype": "object",
         "stats": {
          "unique_count": 1,
          "nan_count": 0,
          "categories": [
           {
            "name": "f",
            "count": 5
           }
          ]
         }
        },
        {
         "name": "calculated_host_listings_count",
         "dtype": "int64",
         "stats": {
          "unique_count": 2,
          "nan_count": 0,
          "min": "1",
          "max": "2",
          "histogram": [
           {
            "bin_start": 1,
            "bin_end": 1.1,
            "count": 4
           },
           {
            "bin_start": 1.1,
            "bin_end": 1.2,
            "count": 0
           },
           {
            "bin_start": 1.2,
            "bin_end": 1.3,
            "count": 0
           },
           {
            "bin_start": 1.3,
            "bin_end": 1.4,
            "count": 0
           },
           {
            "bin_start": 1.4,
            "bin_end": 1.5,
            "count": 0
           },
           {
            "bin_start": 1.5,
            "bin_end": 1.6,
            "count": 0
           },
           {
            "bin_start": 1.6,
            "bin_end": 1.7000000000000002,
            "count": 0
           },
           {
            "bin_start": 1.7000000000000002,
            "bin_end": 1.8,
            "count": 0
           },
           {
            "bin_start": 1.8,
            "bin_end": 1.9,
            "count": 0
           },
           {
            "bin_start": 1.9,
            "bin_end": 2,
            "count": 1
           }
          ]
         }
        },
        {
         "name": "amenities_str",
         "dtype": "object",
         "stats": {
          "unique_count": 5,
          "nan_count": 0,
          "categories": [
           {
            "name": "\"Hot water\", \"Iron\", \"Children\\u2019s books and toys\", \"Refrigerator\", \"Kitchen\", \"Cable TV\", \"Fire extinguisher\", \"Oven\", \"Extra pillows and blankets\", \"Microwave\", \"Coffee maker\", \"Luggage dropoff allowed\", \"Pack \\u2019n play/Travel crib\", \"Free street parking\", \"Air conditioning\", \"Baby safety gates\", \"Lockbox\", \"Bed linens\", \"Free parking on premises\", \"Heating\", \"Carbon monoxide alarm\", \"Stove\", \"Bathtub\", \"TV with standard cable\", \"High chair\", \"Smoke alarm\", \"Hair dryer\", \"Shampoo\", \"Essentials\", \"Cooking basics\", \"Hangers\", \"Dedicated workspace\", \"Dishes and silverware\", \"Long term stays allowed\", \"Wifi\"",
            "count": 1
           },
           {
            "name": "\"Heating\", \"Air conditioning\", \"Long term stays allowed\", \"Wifi\", \"Kitchen\"",
            "count": 1
           },
           {
            "name": "3 others",
            "count": 3
           }
          ]
         }
        },
        {
         "name": "name_lang",
         "dtype": "object",
         "stats": {
          "unique_count": 2,
          "nan_count": 0,
          "categories": [
           {
            "name": "en",
            "count": 4
           },
           {
            "name": "ja",
            "count": 1
           }
          ]
         }
        },
        {
         "name": "description_lang",
         "dtype": "object",
         "stats": {
          "unique_count": 1,
          "nan_count": 0,
          "categories": [
           {
            "name": "en",
            "count": 5
           }
          ]
         }
        },
        {
         "name": "host_months",
         "dtype": "int64",
         "stats": {
          "unique_count": 2,
          "nan_count": 0,
          "min": "155",
          "max": "157",
          "histogram": [
           {
            "bin_start": 155,
            "bin_end": 155.2,
            "count": 4
           },
           {
            "bin_start": 155.2,
            "bin_end": 155.4,
            "count": 0
           },
           {
            "bin_start": 155.4,
            "bin_end": 155.6,
            "count": 0
           },
           {
            "bin_start": 155.6,
            "bin_end": 155.8,
            "count": 0
           },
           {
            "bin_start": 155.8,
            "bin_end": 156,
            "count": 0
           },
           {
            "bin_start": 156,
            "bin_end": 156.2,
            "count": 0
           },
           {
            "bin_start": 156.2,
            "bin_end": 156.4,
            "count": 0
           },
           {
            "bin_start": 156.4,
            "bin_end": 156.6,
            "count": 0
           },
           {
            "bin_start": 156.6,
            "bin_end": 156.8,
            "count": 0
           },
           {
            "bin_start": 156.8,
            "bin_end": 157,
            "count": 1
           }
          ]
         }
        },
        {
         "name": "dist_to_subway",
         "dtype": "float64",
         "stats": {
          "unique_count": 5,
          "nan_count": 0,
          "min": "0.0587757114041119",
          "max": "0.4645774623364079",
          "histogram": [
           {
            "bin_start": 0.0587757114041119,
            "bin_end": 0.0993558864973415,
            "count": 1
           },
           {
            "bin_start": 0.0993558864973415,
            "bin_end": 0.1399360615905711,
            "count": 0
           },
           {
            "bin_start": 0.1399360615905711,
            "bin_end": 0.1805162366838007,
            "count": 0
           },
           {
            "bin_start": 0.1805162366838007,
            "bin_end": 0.2210964117770303,
            "count": 1
           },
           {
            "bin_start": 0.2210964117770303,
            "bin_end": 0.2616765868702599,
            "count": 0
           },
           {
            "bin_start": 0.2616765868702599,
            "bin_end": 0.3022567619634895,
            "count": 0
           },
           {
            "bin_start": 0.3022567619634895,
            "bin_end": 0.34283693705671914,
            "count": 1
           },
           {
            "bin_start": 0.34283693705671914,
            "bin_end": 0.3834171121499487,
            "count": 0
           },
           {
            "bin_start": 0.3834171121499487,
            "bin_end": 0.4239972872431783,
            "count": 1
           },
           {
            "bin_start": 0.4239972872431783,
            "bin_end": 0.4645774623364079,
            "count": 1
           }
          ]
         }
        },
        {
         "name": "_deepnote_index_column",
         "dtype": "int64"
        }
       ],
       "rows": [
        {
         "id": 3831,
         "name": "Whole flr w/private bdrm, bath & kitchen(pls read)",
         "description": "Enjoy 500 s.f. top floor in 1899 brownstone, w/ wood & ceramic flooring throughout, roomy bdrm, & u…",
         "neighborhood_overview": "Just the right mix of urban center and local neighborhood; close to all but enough quiet for a calm…",
         "host_since": "2008-12-07T00:00:00.000000",
         "host_response_time": "a few days or more",
         "host_response_rate": 0,
         "host_acceptance_rate": 64,
         "host_is_superhost": "f",
         "host_listings_count": 1,
         "host_has_profile_pic": "t",
         "host_identity_verified": "t",
         "neighbourhood": "Brooklyn, New York, United States",
         "neighbourhood_cleansed": "Bedford-Stuyvesant",
         "neighbourhood_group_cleansed": "Brooklyn",
         "latitude": 40.68494,
         "longitude": -73.95765,
         "property_type": "Entire guest suite",
         "room_type": "Entire home/apt",
         "accommodates": 3,
         "bathrooms_text": "1 bath",
         "bedrooms": 1,
         "beds": 3,
         "amenities": "[\"Hot water\", \"Iron\", \"Children\\u2019s books and toys\", \"Refrigerator\", \"Kitchen\", \"Cable TV\", \"Fir…",
         "price": 73,
         "minimum_nights": 1,
         "maximum_nights": 730,
         "has_availability": "t",
         "availability_30": 3,
         "availability_60": 15,
         "availability_90": 26,
         "availability_365": 214,
         "number_of_reviews": 409,
         "number_of_reviews_ltm": 26,
         "number_of_reviews_l30d": 0,
         "review_scores_rating": 4.45,
         "review_scores_accuracy": 4.58,
         "review_scores_cleanliness": 4.49,
         "review_scores_checkin": 4.78,
         "review_scores_communication": 4.8,
         "review_scores_location": 4.71,
         "review_scores_value": 4.64,
         "instant_bookable": "f",
         "calculated_host_listings_count": 1,
         "amenities_str": "\"Hot water\", \"Iron\", \"Children\\u2019s books and toys\", \"Refrigerator\", \"Kitchen\", \"Cable TV\", \"Fire…",
         "name_lang": "en",
         "description_lang": "en",
         "host_months": 157,
         "dist_to_subway": 0.4013367708798816,
         "_deepnote_index_column": 0
        },
        {
         "id": 5121,
         "name": "BlissArtsSpace!",
         "description": " The space  HELLO EVERYONE AND THANKS FOR VISITING BLISS ART SPACE!   Thank you all for your suppor…",
         "neighborhood_overview": "No Data",
         "host_since": "2009-02-03T00:00:00.000000",
         "host_response_time": "within an hour",
         "host_response_rate": 100,
         "host_acceptance_rate": 100,
         "host_is_superhost": "f",
         "host_listings_count": 1,
         "host_has_profile_pic": "t",
         "host_identity_verified": "t",
         "neighbourhood": "No Data",
         "neighbourhood_cleansed": "Bedford-Stuyvesant",
         "neighbourhood_group_cleansed": "Brooklyn",
         "latitude": 40.68535,
         "longitude": -73.95512,
         "property_type": "Private room in rental unit",
         "room_type": "Private room",
         "accommodates": 2,
         "bathrooms_text": "No Data",
         "bedrooms": 1,
         "beds": 1,
         "amenities": "[\"Heating\", \"Air conditioning\", \"Long term stays allowed\", \"Wifi\", \"Kitchen\"]",
         "price": 60,
         "minimum_nights": 30,
         "maximum_nights": 730,
         "has_availability": "t",
         "availability_30": 30,
         "availability_60": 60,
         "availability_90": 90,
         "availability_365": 365,
         "number_of_reviews": 50,
         "number_of_reviews_ltm": 0,
         "number_of_reviews_l30d": 0,
         "review_scores_rating": 4.52,
         "review_scores_accuracy": 4.22,
         "review_scores_cleanliness": 4.09,
         "review_scores_checkin": 4.91,
         "review_scores_communication": 4.91,
         "review_scores_location": 4.47,
         "review_scores_value": 4.52,
         "instant_bookable": "f",
         "calculated_host_listings_count": 2,
         "amenities_str": "\"Heating\", \"Air conditioning\", \"Long term stays allowed\", \"Wifi\", \"Kitchen\"",
         "name_lang": "en",
         "description_lang": "en",
         "host_months": 155,
         "dist_to_subway": 0.4645774623364079,
         "_deepnote_index_column": 1
        },
        {
         "id": 5136,
         "name": "Spacious Brooklyn Duplex, Patio + Garden",
         "description": "We welcome you to stay in our lovely 2 br duplex in South Slope, Brooklyn.  Our home is a truly spa…",
         "neighborhood_overview": "No Data",
         "host_since": "2009-02-03T00:00:00.000000",
         "host_response_time": "No Data",
         "host_response_rate": "nan",
         "host_acceptance_rate": 25,
         "host_is_superhost": "f",
         "host_listings_count": 1,
         "host_has_profile_pic": "t",
         "host_identity_verified": "t",
         "neighbourhood": "No Data",
         "neighbourhood_cleansed": "Sunset Park",
         "neighbourhood_group_cleansed": "Brooklyn",
         "latitude": 40.66265,
         "longitude": -73.99454,
         "property_type": "Entire rental unit",
         "room_type": "Entire home/apt",
         "accommodates": 4,
         "bathrooms_text": "1.5 baths",
         "bedrooms": 2,
         "beds": 2,
         "amenities": "[\"Cable TV\", \"TV with standard cable\", \"Outdoor furniture\", \"Carbon monoxide alarm\", \"Smoke alarm\",…",
         "price": 275,
         "minimum_nights": 5,
         "maximum_nights": 1125,
         "has_availability": "t",
         "availability_30": 0,
         "availability_60": 9,
         "availability_90": 9,
         "availability_365": 152,
         "number_of_reviews": 2,
         "number_of_reviews_ltm": 1,
         "number_of_reviews_l30d": 0,
         "review_scores_rating": 5,
         "review_scores_accuracy": 5,
         "review_scores_cleanliness": 5,
         "review_scores_checkin": 5,
         "review_scores_communication": 5,
         "review_scores_location": 4.5,
         "review_scores_value": 5,
         "instant_bookable": "f",
         "calculated_host_listings_count": 1,
         "amenities_str": "\"Cable TV\", \"TV with standard cable\", \"Outdoor furniture\", \"Carbon monoxide alarm\", \"Smoke alarm\", …",
         "name_lang": "en",
         "description_lang": "en",
         "host_months": 155,
         "dist_to_subway": 0.3378012480192298,
         "_deepnote_index_column": 2
        },
        {
         "id": 5178,
         "name": "Large Furnished Room Near B'way　",
         "description": "Please don’t expect the luxury here just a basic room in the center of Manhattan.   The space  You …",
         "neighborhood_overview": "Theater district, many restaurants around here.",
         "host_since": "2009-03-03T00:00:00.000000",
         "host_response_time": "within a few hours",
         "host_response_rate": 100,
         "host_acceptance_rate": 100,
         "host_is_superhost": "f",
         "host_listings_count": 1,
         "host_has_profile_pic": "t",
         "host_identity_verified": "f",
         "neighbourhood": "New York, United States",
         "neighbourhood_cleansed": "Midtown",
         "neighbourhood_group_cleansed": "Manhattan",
         "latitude": 40.76457,
         "longitude": -73.98317,
         "property_type": "Private room in rental unit",
         "room_type": "Private room",
         "accommodates": 2,
         "bathrooms_text": "1 bath",
         "bedrooms": 1,
         "beds": 1,
         "amenities": "[\"Hot water\", \"Body soap\", \"Iron\", \"Lock on bedroom door\", \"Refrigerator\", \"Conditioner\", \"Laundrom…",
         "price": 68,
         "minimum_nights": 2,
         "maximum_nights": 14,
         "has_availability": "t",
         "availability_30": 9,
         "availability_60": 24,
         "availability_90": 34,
         "availability_365": 198,
         "number_of_reviews": 514,
         "number_of_reviews_ltm": 40,
         "number_of_reviews_l30d": 4,
         "review_scores_rating": 4.22,
         "review_scores_accuracy": 4.21,
         "review_scores_cleanliness": 3.73,
         "review_scores_checkin": 4.66,
         "review_scores_communication": 4.42,
         "review_scores_location": 4.87,
         "review_scores_value": 4.36,
         "instant_bookable": "f",
         "calculated_host_listings_count": 1,
         "amenities_str": "\"Hot water\", \"Body soap\", \"Iron\", \"Lock on bedroom door\", \"Refrigerator\", \"Conditioner\", \"Laundroma…",
         "name_lang": "ja",
         "description_lang": "en",
         "host_months": 155,
         "dist_to_subway": 0.2116828451243103,
         "_deepnote_index_column": 3
        },
        {
         "id": 5203,
         "name": "Cozy Clean Guest Room - Family Apt",
         "description": "Our best guests are seeking a safe, clean, spare room in a family apartment.  They are comfortable …",
         "neighborhood_overview": "Our neighborhood is full of restaurants and cafes.  There is plenty to do.",
         "host_since": "2009-02-05T00:00:00.000000",
         "host_response_time": "No Data",
         "host_response_rate": "nan",
         "host_acceptance_rate": "nan",
         "host_is_superhost": "f",
         "host_listings_count": 1,
         "host_has_profile_pic": "t",
         "host_identity_verified": "t",
         "neighbourhood": "New York, United States",
         "neighbourhood_cleansed": "Upper West Side",
         "neighbourhood_group_cleansed": "Manhattan",
         "latitude": 40.8038,
         "longitude": -73.96751,
         "property_type": "Private room in rental unit",
         "room_type": "Private room",
         "accommodates": 1,
         "bathrooms_text": "1 shared bath",
         "bedrooms": 1,
         "beds": 1,
         "amenities": "[\"Fire extinguisher\", \"Hot water\", \"Carbon monoxide alarm\", \"Smoke alarm\", \"Elevator\", \"Free street…",
         "price": 75,
         "minimum_nights": 2,
         "maximum_nights": 14,
         "has_availability": "t",
         "availability_30": 0,
         "availability_60": 0,
         "availability_90": 0,
         "availability_365": 0,
         "number_of_reviews": 118,
         "number_of_reviews_ltm": 0,
         "number_of_reviews_l30d": 0,
         "review_scores_rating": 4.91,
         "review_scores_accuracy": 4.83,
         "review_scores_cleanliness": 4.82,
         "review_scores_checkin": 4.97,
         "review_scores_communication": 4.95,
         "review_scores_location": 4.94,
         "review_scores_value": 4.92,
         "instant_bookable": "f",
         "calculated_host_listings_count": 1,
         "amenities_str": "\"Fire extinguisher\", \"Hot water\", \"Carbon monoxide alarm\", \"Smoke alarm\", \"Elevator\", \"Free street …",
         "name_lang": "en",
         "description_lang": "en",
         "host_months": 155,
         "dist_to_subway": 0.0587757114041119,
         "_deepnote_index_column": 4
        }
       ]
      },
      "text/plain": "     id                                               name  \\\n0  3831  Whole flr w/private bdrm, bath & kitchen(pls r...   \n1  5121                                    BlissArtsSpace!   \n2  5136           Spacious Brooklyn Duplex, Patio + Garden   \n3  5178                   Large Furnished Room Near B'way　   \n4  5203                 Cozy Clean Guest Room - Family Apt   \n\n                                         description  \\\n0  Enjoy 500 s.f. top floor in 1899 brownstone, w...   \n1   The space  HELLO EVERYONE AND THANKS FOR VISI...   \n2  We welcome you to stay in our lovely 2 br dupl...   \n3  Please don’t expect the luxury here just a bas...   \n4  Our best guests are seeking a safe, clean, spa...   \n\n                               neighborhood_overview host_since  \\\n0  Just the right mix of urban center and local n... 2008-12-07   \n1                                            No Data 2009-02-03   \n2                                            No Data 2009-02-03   \n3    Theater district, many restaurants around here. 2009-03-03   \n4  Our neighborhood is full of restaurants and ca... 2009-02-05   \n\n   host_response_time  host_response_rate  host_acceptance_rate  \\\n0  a few days or more                 0.0                  64.0   \n1      within an hour               100.0                 100.0   \n2             No Data                 NaN                  25.0   \n3  within a few hours               100.0                 100.0   \n4             No Data                 NaN                   NaN   \n\n  host_is_superhost  host_listings_count  ... review_scores_communication  \\\n0                 f                  1.0  ...                        4.80   \n1                 f                  1.0  ...                        4.91   \n2                 f                  1.0  ...                        5.00   \n3                 f                  1.0  ...                        4.42   \n4                 f                  1.0  ...                        4.95   \n\n  review_scores_location review_scores_value instant_bookable  \\\n0                   4.71                4.64                f   \n1                   4.47                4.52                f   \n2                   4.50                5.00                f   \n3                   4.87                4.36                f   \n4                   4.94                4.92                f   \n\n  calculated_host_listings_count  \\\n0                              1   \n1                              2   \n2                              1   \n3                              1   \n4                              1   \n\n                                       amenities_str  name_lang  \\\n0  \"Hot water\", \"Iron\", \"Children\\u2019s books an...         en   \n1  \"Heating\", \"Air conditioning\", \"Long term stay...         en   \n2  \"Cable TV\", \"TV with standard cable\", \"Outdoor...         en   \n3  \"Hot water\", \"Body soap\", \"Iron\", \"Lock on bed...         ja   \n4  \"Fire extinguisher\", \"Hot water\", \"Carbon mono...         en   \n\n  description_lang host_months  dist_to_subway  \n0               en         157        0.401337  \n1               en         155        0.464577  \n2               en         155        0.337801  \n3               en         155        0.211683  \n4               en         155        0.058776  \n\n[5 rows x 49 columns]",
      "text/html": "<div>\n<style scoped>\n    .dataframe tbody tr th:only-of-type {\n        vertical-align: middle;\n    }\n\n    .dataframe tbody tr th {\n        vertical-align: top;\n    }\n\n    .dataframe thead th {\n        text-align: right;\n    }\n</style>\n<table border=\"1\" class=\"dataframe\">\n  <thead>\n    <tr style=\"text-align: right;\">\n      <th></th>\n      <th>id</th>\n      <th>name</th>\n      <th>description</th>\n      <th>neighborhood_overview</th>\n      <th>host_since</th>\n      <th>host_response_time</th>\n      <th>host_response_rate</th>\n      <th>host_acceptance_rate</th>\n      <th>host_is_superhost</th>\n      <th>host_listings_count</th>\n      <th>...</th>\n      <th>review_scores_communication</th>\n      <th>review_scores_location</th>\n      <th>review_scores_value</th>\n      <th>instant_bookable</th>\n      <th>calculated_host_listings_count</th>\n      <th>amenities_str</th>\n      <th>name_lang</th>\n      <th>description_lang</th>\n      <th>host_months</th>\n      <th>dist_to_subway</th>\n    </tr>\n  </thead>\n  <tbody>\n    <tr>\n      <th>0</th>\n      <td>3831</td>\n      <td>Whole flr w/private bdrm, bath &amp; kitchen(pls r...</td>\n      <td>Enjoy 500 s.f. top floor in 1899 brownstone, w...</td>\n      <td>Just the right mix of urban center and local n...</td>\n      <td>2008-12-07</td>\n      <td>a few days or more</td>\n      <td>0.0</td>\n      <td>64.0</td>\n      <td>f</td>\n      <td>1.0</td>\n      <td>...</td>\n      <td>4.80</td>\n      <td>4.71</td>\n      <td>4.64</td>\n      <td>f</td>\n      <td>1</td>\n      <td>\"Hot water\", \"Iron\", \"Children\\u2019s books an...</td>\n      <td>en</td>\n      <td>en</td>\n      <td>157</td>\n      <td>0.401337</td>\n    </tr>\n    <tr>\n      <th>1</th>\n      <td>5121</td>\n      <td>BlissArtsSpace!</td>\n      <td>The space  HELLO EVERYONE AND THANKS FOR VISI...</td>\n      <td>No Data</td>\n      <td>2009-02-03</td>\n      <td>within an hour</td>\n      <td>100.0</td>\n      <td>100.0</td>\n      <td>f</td>\n      <td>1.0</td>\n      <td>...</td>\n      <td>4.91</td>\n      <td>4.47</td>\n      <td>4.52</td>\n      <td>f</td>\n      <td>2</td>\n      <td>\"Heating\", \"Air conditioning\", \"Long term stay...</td>\n      <td>en</td>\n      <td>en</td>\n      <td>155</td>\n      <td>0.464577</td>\n    </tr>\n    <tr>\n      <th>2</th>\n      <td>5136</td>\n      <td>Spacious Brooklyn Duplex, Patio + Garden</td>\n      <td>We welcome you to stay in our lovely 2 br dupl...</td>\n      <td>No Data</td>\n      <td>2009-02-03</td>\n      <td>No Data</td>\n      <td>NaN</td>\n      <td>25.0</td>\n      <td>f</td>\n      <td>1.0</td>\n      <td>...</td>\n      <td>5.00</td>\n      <td>4.50</td>\n      <td>5.00</td>\n      <td>f</td>\n      <td>1</td>\n      <td>\"Cable TV\", \"TV with standard cable\", \"Outdoor...</td>\n      <td>en</td>\n      <td>en</td>\n      <td>155</td>\n      <td>0.337801</td>\n    </tr>\n    <tr>\n      <th>3</th>\n      <td>5178</td>\n      <td>Large Furnished Room Near B'way</td>\n      <td>Please don’t expect the luxury here just a bas...</td>\n      <td>Theater district, many restaurants around here.</td>\n      <td>2009-03-03</td>\n      <td>within a few hours</td>\n      <td>100.0</td>\n      <td>100.0</td>\n      <td>f</td>\n      <td>1.0</td>\n      <td>...</td>\n      <td>4.42</td>\n      <td>4.87</td>\n      <td>4.36</td>\n      <td>f</td>\n      <td>1</td>\n      <td>\"Hot water\", \"Body soap\", \"Iron\", \"Lock on bed...</td>\n      <td>ja</td>\n      <td>en</td>\n      <td>155</td>\n      <td>0.211683</td>\n    </tr>\n    <tr>\n      <th>4</th>\n      <td>5203</td>\n      <td>Cozy Clean Guest Room - Family Apt</td>\n      <td>Our best guests are seeking a safe, clean, spa...</td>\n      <td>Our neighborhood is full of restaurants and ca...</td>\n      <td>2009-02-05</td>\n      <td>No Data</td>\n      <td>NaN</td>\n      <td>NaN</td>\n      <td>f</td>\n      <td>1.0</td>\n      <td>...</td>\n      <td>4.95</td>\n      <td>4.94</td>\n      <td>4.92</td>\n      <td>f</td>\n      <td>1</td>\n      <td>\"Fire extinguisher\", \"Hot water\", \"Carbon mono...</td>\n      <td>en</td>\n      <td>en</td>\n      <td>155</td>\n      <td>0.058776</td>\n    </tr>\n  </tbody>\n</table>\n<p>5 rows × 49 columns</p>\n</div>"
     },
     "metadata": {}
    }
   ]
  },
  {
   "cell_type": "code",
   "metadata": {
    "cell_id": "5c4873c8-2929-46b0-93c9-1ad743b73e9e",
    "tags": [],
    "deepnote_to_be_reexecuted": false,
    "source_hash": "eab62ed6",
    "execution_start": 1647055756415,
    "execution_millis": 10639,
    "deepnote_cell_type": "code",
    "deepnote_cell_height": 117
   },
   "source": "# Store processed listings and reviews as csv\nlistings.to_csv('processed_listings.csv', index=False)\nreviews.to_csv('processed_reviews.csv', index=False)",
   "execution_count": null,
   "outputs": []
  },
  {
   "cell_type": "markdown",
   "source": "## Combining Listings & Reviews",
   "metadata": {
    "cell_id": "07e64d0f-44f5-4ed8-b39a-3d2fe41daa28",
    "tags": [],
    "deepnote_cell_type": "markdown",
    "deepnote_cell_height": 70
   }
  },
  {
   "cell_type": "code",
   "metadata": {
    "cell_id": "88b8cdd5-d2ec-47d8-b1d6-9b5f96aa3f08",
    "tags": [],
    "deepnote_to_be_reexecuted": false,
    "source_hash": "4f5d474d",
    "execution_start": 1647055768263,
    "execution_millis": 5641,
    "deepnote_cell_type": "code",
    "deepnote_cell_height": 99
   },
   "source": "listings = pd.read_csv('processed_listings.csv')\nreviews = pd.read_csv('processed_reviews.csv', lineterminator='\\n')",
   "execution_count": null,
   "outputs": []
  },
  {
   "cell_type": "code",
   "metadata": {
    "cell_id": "2ba57437-d63f-419c-9024-ef007b95d33a",
    "tags": [],
    "deepnote_to_be_reexecuted": false,
    "source_hash": "a5e68d13",
    "execution_start": 1647055775478,
    "execution_millis": 3937,
    "deepnote_table_state": {
     "pageSize": 10,
     "pageIndex": 0,
     "filters": [],
     "sortBy": []
    },
    "deepnote_table_loading": false,
    "deepnote_cell_type": "code",
    "deepnote_cell_height": 760.65625
   },
   "source": "reviews.columns = ['id', 'comments', 'num_words', 'language']\n\ncombined = pd.merge(listings, reviews, on='id', how='left')\ncombined = combined.drop(['num_words', 'language'], axis=1)\ncombined_comments = combined.groupby('id')['comments'].apply(lambda x: list(x)).reset_index()\ncombined_comments['comments'] = combined_comments['comments'].apply(lambda x: [] if x[0] != x[0] else x)\ncombined = pd.merge(listings, combined_comments, on='id', how='left')\n\ncombined",
   "execution_count": null,
   "outputs": [
    {
     "output_type": "execute_result",
     "execution_count": 17,
     "data": {
      "application/vnd.deepnote.dataframe.v3+json": {
       "column_count": 50,
       "row_count": 32996,
       "columns": [
        {
         "name": "id",
         "dtype": "int64",
         "stats": {
          "unique_count": 32996,
          "nan_count": 0,
          "min": "3831",
          "max": "54161645",
          "histogram": [
           {
            "bin_start": 3831,
            "bin_end": 5419612.4,
            "count": 3714
           },
           {
            "bin_start": 5419612.4,
            "bin_end": 10835393.8,
            "count": 3443
           },
           {
            "bin_start": 10835393.8,
            "bin_end": 16251175.200000001,
            "count": 2631
           },
           {
            "bin_start": 16251175.200000001,
            "bin_end": 21666956.6,
            "count": 2725
           },
           {
            "bin_start": 21666956.6,
            "bin_end": 27082738,
            "count": 2365
           },
           {
            "bin_start": 27082738,
            "bin_end": 32498519.400000002,
            "count": 2404
           },
           {
            "bin_start": 32498519.400000002,
            "bin_end": 37914300.800000004,
            "count": 2352
           },
           {
            "bin_start": 37914300.800000004,
            "bin_end": 43330082.2,
            "count": 3067
           },
           {
            "bin_start": 43330082.2,
            "bin_end": 48745863.6,
            "count": 3404
           },
           {
            "bin_start": 48745863.6,
            "bin_end": 54161645,
            "count": 6891
           }
          ]
         }
        },
        {
         "name": "name",
         "dtype": "object",
         "stats": {
          "unique_count": 31897,
          "nan_count": 0,
          "categories": [
           {
            "name": "Water View King Bed Hotel Room",
            "count": 30
           },
           {
            "name": "Cozy room@Queens! Same area W/Target,Costco, IKEA",
            "count": 29
           },
           {
            "name": "31895 others",
            "count": 32937
           }
          ]
         }
        },
        {
         "name": "description",
         "dtype": "object",
         "stats": {
          "unique_count": 29710,
          "nan_count": 0,
          "categories": [
           {
            "name": "No Data",
            "count": 862
           },
           {
            "name": "Welcome to UNTITLED (Adj.) at 3 Freeman Alley!  Charming Studio's located in the heart of Lower East Side of Manhattan.  Building entrance located off a historic alley way that has many street art from street artists all around the world.  This location is the best place to relax and unwind after exploring and venturing out in the city.  @freemanalley3untitled   The space  Cozy studio that has been newly renovated and smartly furnished including a queen size bed.  Studio is equipped with all necessary amenities needed, shampoo/soap, conditioner, towels, linens, basic tableware, coffee, AC, heat, Bluetooth speaker, Smart TV for Android devices.  * Additional housekeeping service and for replenishing is available for scheduling and for a fee.  * We are doing light renovations throughout the building (Expect minor to no noise resulting from these renovations), please excuse our appearance. <br /",
            "count": 58
           },
           {
            "name": "29708 others",
            "count": 32076
           }
          ]
         }
        },
        {
         "name": "neighborhood_overview",
         "dtype": "object"
        },
        {
         "name": "host_since",
         "dtype": "object"
        },
        {
         "name": "host_response_time",
         "dtype": "object"
        },
        {
         "name": "host_response_rate",
         "dtype": "float64"
        },
        {
         "name": "host_acceptance_rate",
         "dtype": "float64"
        },
        {
         "name": "host_is_superhost",
         "dtype": "object"
        },
        {
         "name": "host_listings_count",
         "dtype": "float64"
        },
        {
         "name": "host_has_profile_pic",
         "dtype": "object"
        },
        {
         "name": "host_identity_verified",
         "dtype": "object"
        },
        {
         "name": "neighbourhood",
         "dtype": "object"
        },
        {
         "name": "neighbourhood_cleansed",
         "dtype": "object"
        },
        {
         "name": "neighbourhood_group_cleansed",
         "dtype": "object"
        },
        {
         "name": "latitude",
         "dtype": "float64"
        },
        {
         "name": "longitude",
         "dtype": "float64"
        },
        {
         "name": "property_type",
         "dtype": "object"
        },
        {
         "name": "room_type",
         "dtype": "object"
        },
        {
         "name": "accommodates",
         "dtype": "int64"
        },
        {
         "name": "bathrooms_text",
         "dtype": "object"
        },
        {
         "name": "bedrooms",
         "dtype": "int64"
        },
        {
         "name": "beds",
         "dtype": "int64"
        },
        {
         "name": "amenities",
         "dtype": "object"
        },
        {
         "name": "price",
         "dtype": "float64"
        },
        {
         "name": "minimum_nights",
         "dtype": "int64"
        },
        {
         "name": "maximum_nights",
         "dtype": "int64"
        },
        {
         "name": "has_availability",
         "dtype": "object"
        },
        {
         "name": "availability_30",
         "dtype": "int64"
        },
        {
         "name": "availability_60",
         "dtype": "int64"
        },
        {
         "name": "availability_90",
         "dtype": "int64"
        },
        {
         "name": "availability_365",
         "dtype": "int64"
        },
        {
         "name": "number_of_reviews",
         "dtype": "int64"
        },
        {
         "name": "number_of_reviews_ltm",
         "dtype": "int64"
        },
        {
         "name": "number_of_reviews_l30d",
         "dtype": "int64"
        },
        {
         "name": "review_scores_rating",
         "dtype": "float64"
        },
        {
         "name": "review_scores_accuracy",
         "dtype": "float64"
        },
        {
         "name": "review_scores_cleanliness",
         "dtype": "float64"
        },
        {
         "name": "review_scores_checkin",
         "dtype": "float64"
        },
        {
         "name": "review_scores_communication",
         "dtype": "float64"
        },
        {
         "name": "review_scores_location",
         "dtype": "float64"
        },
        {
         "name": "review_scores_value",
         "dtype": "float64"
        },
        {
         "name": "instant_bookable",
         "dtype": "object"
        },
        {
         "name": "calculated_host_listings_count",
         "dtype": "int64"
        },
        {
         "name": "amenities_str",
         "dtype": "object"
        },
        {
         "name": "name_lang",
         "dtype": "object"
        },
        {
         "name": "description_lang",
         "dtype": "object"
        },
        {
         "name": "host_months",
         "dtype": "int64"
        },
        {
         "name": "dist_to_subway",
         "dtype": "float64"
        },
        {
         "name": "comments",
         "dtype": "object"
        },
        {
         "name": "_deepnote_index_column",
         "dtype": "int64"
        }
       ],
       "rows": [
        {
         "id": 3831,
         "name": "Whole flr w/private bdrm, bath & kitchen(pls read)",
         "description": "Enjoy 500 s.f. top floor in 1899 brownstone, w/ wood & ceramic flooring throughout, roomy bdrm, & u…",
         "neighborhood_overview": "Just the right mix of urban center and local neighborhood; close to all but enough quiet for a calm…",
         "host_since": "2008-12-07",
         "host_response_time": "a few days or more",
         "host_response_rate": 0,
         "host_acceptance_rate": 64,
         "host_is_superhost": "f",
         "host_listings_count": 1,
         "host_has_profile_pic": "t",
         "host_identity_verified": "t",
         "neighbourhood": "Brooklyn, New York, United States",
         "neighbourhood_cleansed": "Bedford-Stuyvesant",
         "neighbourhood_group_cleansed": "Brooklyn",
         "latitude": 40.68494,
         "longitude": -73.95765,
         "property_type": "Entire guest suite",
         "room_type": "Entire home/apt",
         "accommodates": 3,
         "bathrooms_text": "1 bath",
         "bedrooms": 1,
         "beds": 3,
         "amenities": "[\"Hot water\", \"Iron\", \"Children\\u2019s books and toys\", \"Refrigerator\", \"Kitchen\", \"Cable TV\", \"Fir…",
         "price": 73,
         "minimum_nights": 1,
         "maximum_nights": 730,
         "has_availability": "t",
         "availability_30": 3,
         "availability_60": 15,
         "availability_90": 26,
         "availability_365": 214,
         "number_of_reviews": 409,
         "number_of_reviews_ltm": 26,
         "number_of_reviews_l30d": 0,
         "review_scores_rating": 4.45,
         "review_scores_accuracy": 4.58,
         "review_scores_cleanliness": 4.49,
         "review_scores_checkin": 4.78,
         "review_scores_communication": 4.8,
         "review_scores_location": 4.71,
         "review_scores_value": 4.64,
         "instant_bookable": "f",
         "calculated_host_listings_count": 1,
         "amenities_str": "\"Hot water\", \"Iron\", \"Children\\u2019s books and toys\", \"Refrigerator\", \"Kitchen\", \"Cable TV\", \"Fire…",
         "name_lang": "en",
         "description_lang": "en",
         "host_months": 157,
         "dist_to_subway": 0.4013367708798816,
         "comments": "['lisa is a wonderful, kind and thoughtful host.  the listing is 100% accurate -- there is an entir…",
         "_deepnote_index_column": 0
        },
        {
         "id": 5121,
         "name": "BlissArtsSpace!",
         "description": " The space  HELLO EVERYONE AND THANKS FOR VISITING BLISS ART SPACE!   Thank you all for your suppor…",
         "neighborhood_overview": "No Data",
         "host_since": "2009-02-03",
         "host_response_time": "within an hour",
         "host_response_rate": 100,
         "host_acceptance_rate": 100,
         "host_is_superhost": "f",
         "host_listings_count": 1,
         "host_has_profile_pic": "t",
         "host_identity_verified": "t",
         "neighbourhood": "No Data",
         "neighbourhood_cleansed": "Bedford-Stuyvesant",
         "neighbourhood_group_cleansed": "Brooklyn",
         "latitude": 40.68535,
         "longitude": -73.95512,
         "property_type": "Private room in rental unit",
         "room_type": "Private room",
         "accommodates": 2,
         "bathrooms_text": "No Data",
         "bedrooms": 1,
         "beds": 1,
         "amenities": "[\"Heating\", \"Air conditioning\", \"Long term stays allowed\", \"Wifi\", \"Kitchen\"]",
         "price": 60,
         "minimum_nights": 30,
         "maximum_nights": 730,
         "has_availability": "t",
         "availability_30": 30,
         "availability_60": 60,
         "availability_90": 90,
         "availability_365": 365,
         "number_of_reviews": 50,
         "number_of_reviews_ltm": 0,
         "number_of_reviews_l30d": 0,
         "review_scores_rating": 4.52,
         "review_scores_accuracy": 4.22,
         "review_scores_cleanliness": 4.09,
         "review_scores_checkin": 4.91,
         "review_scores_communication": 4.91,
         "review_scores_location": 4.47,
         "review_scores_value": 4.52,
         "instant_bookable": "f",
         "calculated_host_listings_count": 2,
         "amenities_str": "\"Heating\", \"Air conditioning\", \"Long term stays allowed\", \"Wifi\", \"Kitchen\"",
         "name_lang": "en",
         "description_lang": "en",
         "host_months": 155,
         "dist_to_subway": 0.4645774623364079,
         "comments": "['Simple place, super nice guy.', 'Great guy with a basic room. Clean sheets and towels. No hangs-u…",
         "_deepnote_index_column": 1
        },
        {
         "id": 5136,
         "name": "Spacious Brooklyn Duplex, Patio + Garden",
         "description": "We welcome you to stay in our lovely 2 br duplex in South Slope, Brooklyn.  Our home is a truly spa…",
         "neighborhood_overview": "No Data",
         "host_since": "2009-02-03",
         "host_response_time": "No Data",
         "host_response_rate": "nan",
         "host_acceptance_rate": 25,
         "host_is_superhost": "f",
         "host_listings_count": 1,
         "host_has_profile_pic": "t",
         "host_identity_verified": "t",
         "neighbourhood": "No Data",
         "neighbourhood_cleansed": "Sunset Park",
         "neighbourhood_group_cleansed": "Brooklyn",
         "latitude": 40.66265,
         "longitude": -73.99454,
         "property_type": "Entire rental unit",
         "room_type": "Entire home/apt",
         "accommodates": 4,
         "bathrooms_text": "1.5 baths",
         "bedrooms": 2,
         "beds": 2,
         "amenities": "[\"Cable TV\", \"TV with standard cable\", \"Outdoor furniture\", \"Carbon monoxide alarm\", \"Smoke alarm\",…",
         "price": 275,
         "minimum_nights": 5,
         "maximum_nights": 1125,
         "has_availability": "t",
         "availability_30": 0,
         "availability_60": 9,
         "availability_90": 9,
         "availability_365": 152,
         "number_of_reviews": 2,
         "number_of_reviews_ltm": 1,
         "number_of_reviews_l30d": 0,
         "review_scores_rating": 5,
         "review_scores_accuracy": 5,
         "review_scores_cleanliness": 5,
         "review_scores_checkin": 5,
         "review_scores_communication": 5,
         "review_scores_location": 4.5,
         "review_scores_value": 5,
         "instant_bookable": "f",
         "calculated_host_listings_count": 1,
         "amenities_str": "\"Cable TV\", \"TV with standard cable\", \"Outdoor furniture\", \"Carbon monoxide alarm\", \"Smoke alarm\", …",
         "name_lang": "en",
         "description_lang": "en",
         "host_months": 155,
         "dist_to_subway": 0.3378012480192298,
         "comments": "[\"My family had a wonderful stay at Rebecca and Henoch's beautiful home in Brooklyn over the holida…",
         "_deepnote_index_column": 2
        },
        {
         "id": 5178,
         "name": "Large Furnished Room Near B'way　",
         "description": "Please don’t expect the luxury here just a basic room in the center of Manhattan.   The space  You …",
         "neighborhood_overview": "Theater district, many restaurants around here.",
         "host_since": "2009-03-03",
         "host_response_time": "within a few hours",
         "host_response_rate": 100,
         "host_acceptance_rate": 100,
         "host_is_superhost": "f",
         "host_listings_count": 1,
         "host_has_profile_pic": "t",
         "host_identity_verified": "f",
         "neighbourhood": "New York, United States",
         "neighbourhood_cleansed": "Midtown",
         "neighbourhood_group_cleansed": "Manhattan",
         "latitude": 40.76457,
         "longitude": -73.98317,
         "property_type": "Private room in rental unit",
         "room_type": "Private room",
         "accommodates": 2,
         "bathrooms_text": "1 bath",
         "bedrooms": 1,
         "beds": 1,
         "amenities": "[\"Hot water\", \"Body soap\", \"Iron\", \"Lock on bedroom door\", \"Refrigerator\", \"Conditioner\", \"Laundrom…",
         "price": 68,
         "minimum_nights": 2,
         "maximum_nights": 14,
         "has_availability": "t",
         "availability_30": 9,
         "availability_60": 24,
         "availability_90": 34,
         "availability_365": 198,
         "number_of_reviews": 514,
         "number_of_reviews_ltm": 40,
         "number_of_reviews_l30d": 4,
         "review_scores_rating": 4.22,
         "review_scores_accuracy": 4.21,
         "review_scores_cleanliness": 3.73,
         "review_scores_checkin": 4.66,
         "review_scores_communication": 4.42,
         "review_scores_location": 4.87,
         "review_scores_value": 4.36,
         "instant_bookable": "f",
         "calculated_host_listings_count": 1,
         "amenities_str": "\"Hot water\", \"Body soap\", \"Iron\", \"Lock on bedroom door\", \"Refrigerator\", \"Conditioner\", \"Laundroma…",
         "name_lang": "ja",
         "description_lang": "en",
         "host_months": 155,
         "dist_to_subway": 0.2116828451243103,
         "comments": "['MR. Kasai was a grreat host , very helpful and hospitable , this room is really great value consi…",
         "_deepnote_index_column": 3
        },
        {
         "id": 5203,
         "name": "Cozy Clean Guest Room - Family Apt",
         "description": "Our best guests are seeking a safe, clean, spare room in a family apartment.  They are comfortable …",
         "neighborhood_overview": "Our neighborhood is full of restaurants and cafes.  There is plenty to do.",
         "host_since": "2009-02-05",
         "host_response_time": "No Data",
         "host_response_rate": "nan",
         "host_acceptance_rate": "nan",
         "host_is_superhost": "f",
         "host_listings_count": 1,
         "host_has_profile_pic": "t",
         "host_identity_verified": "t",
         "neighbourhood": "New York, United States",
         "neighbourhood_cleansed": "Upper West Side",
         "neighbourhood_group_cleansed": "Manhattan",
         "latitude": 40.8038,
         "longitude": -73.96751,
         "property_type": "Private room in rental unit",
         "room_type": "Private room",
         "accommodates": 1,
         "bathrooms_text": "1 shared bath",
         "bedrooms": 1,
         "beds": 1,
         "amenities": "[\"Fire extinguisher\", \"Hot water\", \"Carbon monoxide alarm\", \"Smoke alarm\", \"Elevator\", \"Free street…",
         "price": 75,
         "minimum_nights": 2,
         "maximum_nights": 14,
         "has_availability": "t",
         "availability_30": 0,
         "availability_60": 0,
         "availability_90": 0,
         "availability_365": 0,
         "number_of_reviews": 118,
         "number_of_reviews_ltm": 0,
         "number_of_reviews_l30d": 0,
         "review_scores_rating": 4.91,
         "review_scores_accuracy": 4.83,
         "review_scores_cleanliness": 4.82,
         "review_scores_checkin": 4.97,
         "review_scores_communication": 4.95,
         "review_scores_location": 4.94,
         "review_scores_value": 4.92,
         "instant_bookable": "f",
         "calculated_host_listings_count": 1,
         "amenities_str": "\"Fire extinguisher\", \"Hot water\", \"Carbon monoxide alarm\", \"Smoke alarm\", \"Elevator\", \"Free street …",
         "name_lang": "en",
         "description_lang": "en",
         "host_months": 155,
         "dist_to_subway": 0.0587757114041119,
         "comments": "['Emmie and her family are exceptional hosts. The room is very clean, comfortable, and private and …",
         "_deepnote_index_column": 4
        },
        {
         "id": 5803,
         "name": "Lovely Room 1 in BEST AREA; Legal Rental, Spotless",
         "description": "Beautiful house, gorgeous garden, large patio, cozy room,  helpful host!    Super safe and quiet in…",
         "neighborhood_overview": "Neighborhood is amazing! Best subways to Manhattan, Williamsburg, Lower East Side (20 mins); *  Exc…",
         "host_since": "2009-03-10",
         "host_response_time": "within a few hours",
         "host_response_rate": 100,
         "host_acceptance_rate": 100,
         "host_is_superhost": "t",
         "host_listings_count": 3,
         "host_has_profile_pic": "t",
         "host_identity_verified": "t",
         "neighbourhood": "Brooklyn, New York, United States",
         "neighbourhood_cleansed": "South Slope",
         "neighbourhood_group_cleansed": "Brooklyn",
         "latitude": 40.66801,
         "longitude": -73.98784,
         "property_type": "Private room in townhouse",
         "room_type": "Private room",
         "accommodates": 2,
         "bathrooms_text": "1.5 baths",
         "bedrooms": 1,
         "beds": 1,
         "amenities": "[\"Free washer \\u2013 In building\", \"Hot water\", \"Body soap\", \"Iron\", \"Pool\", \"Shower gel\", \"Conditi…",
         "price": 110,
         "minimum_nights": 4,
         "maximum_nights": 21,
         "has_availability": "t",
         "availability_30": 19,
         "availability_60": 49,
         "availability_90": 79,
         "availability_365": 354,
         "number_of_reviews": 205,
         "number_of_reviews_ltm": 24,
         "number_of_reviews_l30d": 1,
         "review_scores_rating": 4.7,
         "review_scores_accuracy": 4.7,
         "review_scores_cleanliness": 4.61,
         "review_scores_checkin": 4.79,
         "review_scores_communication": 4.82,
         "review_scores_location": 4.87,
         "review_scores_value": 4.73,
         "instant_bookable": "f",
         "calculated_host_listings_count": 3,
         "amenities_str": "\"Free washer \\u2013 In building\", \"Hot water\", \"Body soap\", \"Iron\", \"Pool\", \"Shower gel\", \"Conditio…",
         "name_lang": "en",
         "description_lang": "en",
         "host_months": 154,
         "dist_to_subway": 0.2998239605555483,
         "comments": "['Artwork, indeed! The walls are covered with drawings by Maurice Sendak, Steven Kellogg, among oth…",
         "_deepnote_index_column": 5
        },
        {
         "id": 6872,
         "name": "Uptown Sanctuary w/ Private Bath (Month to Month)",
         "description": "A charming month-to-month home away from home located in Historic Harlem, Uptown Sanctuary is ideal…",
         "neighborhood_overview": "This sweet Harlem sanctuary is a 10-20 minute ride from downtown Manhattan, a 20-25 minute ride fro…",
         "host_since": "2009-05-07",
         "host_response_time": "within a day",
         "host_response_rate": 100,
         "host_acceptance_rate": "nan",
         "host_is_superhost": "f",
         "host_listings_count": 0,
         "host_has_profile_pic": "t",
         "host_identity_verified": "t",
         "neighbourhood": "New York, United States",
         "neighbourhood_cleansed": "East Harlem",
         "neighbourhood_group_cleansed": "Manhattan",
         "latitude": 40.80107,
         "longitude": -73.94255,
         "property_type": "Private room in condominium (condo)",
         "room_type": "Private room",
         "accommodates": 1,
         "bathrooms_text": "1 shared bath",
         "bedrooms": 1,
         "beds": 1,
         "amenities": "[\"Fire extinguisher\", \"Hot water\", \"Carbon monoxide alarm\", \"Luggage dropoff allowed\", \"Smoke alarm…",
         "price": 65,
         "minimum_nights": 30,
         "maximum_nights": 180,
         "has_availability": "t",
         "availability_30": 30,
         "availability_60": 60,
         "availability_90": 90,
         "availability_365": 365,
         "number_of_reviews": 0,
         "number_of_reviews_ltm": 0,
         "number_of_reviews_l30d": 0,
         "review_scores_rating": 0,
         "review_scores_accuracy": 0,
         "review_scores_cleanliness": 0,
         "review_scores_checkin": 0,
         "review_scores_communication": 0,
         "review_scores_location": 0,
         "review_scores_value": 0,
         "instant_bookable": "f",
         "calculated_host_listings_count": 2,
         "amenities_str": "\"Fire extinguisher\", \"Hot water\", \"Carbon monoxide alarm\", \"Luggage dropoff allowed\", \"Smoke alarm\"…",
         "name_lang": "en",
         "description_lang": "en",
         "host_months": 152,
         "dist_to_subway": 0.2823826581548335,
         "comments": "[]",
         "_deepnote_index_column": 6
        },
        {
         "id": 6990,
         "name": "UES Beautiful Blue Room",
         "description": "Beautiful peaceful healthy home   The space  Home is fun healthy.  Your Night’s Sleep: 100% cotton …",
         "neighborhood_overview": "Location: Five minutes to Central Park, Museum Mile (Guggenheim Museum, Metropolitan Museum, Whitne…",
         "host_since": "2009-05-12",
         "host_response_time": "within an hour",
         "host_response_rate": 100,
         "host_acceptance_rate": 100,
         "host_is_superhost": "t",
         "host_listings_count": 3,
         "host_has_profile_pic": "t",
         "host_identity_verified": "t",
         "neighbourhood": "New York, United States",
         "neighbourhood_cleansed": "East Harlem",
         "neighbourhood_group_cleansed": "Manhattan",
         "latitude": 40.78778,
         "longitude": -73.94759,
         "property_type": "Private room in rental unit",
         "room_type": "Private room",
         "accommodates": 1,
         "bathrooms_text": "1 shared bath",
         "bedrooms": 1,
         "beds": 1,
         "amenities": "[\"Fire extinguisher\", \"Hot water\", \"Stove\", \"Carbon monoxide alarm\", \"Coffee maker\", \"Smoke alarm\",…",
         "price": 62,
         "minimum_nights": 30,
         "maximum_nights": 700,
         "has_availability": "t",
         "availability_30": 4,
         "availability_60": 6,
         "availability_90": 35,
         "availability_365": 308,
         "number_of_reviews": 235,
         "number_of_reviews_ltm": 2,
         "number_of_reviews_l30d": 1,
         "review_scores_rating": 4.88,
         "review_scores_accuracy": 4.82,
         "review_scores_cleanliness": 4.96,
         "review_scores_checkin": 4.96,
         "review_scores_communication": 4.95,
         "review_scores_location": 4.84,
         "review_scores_value": 4.84,
         "instant_bookable": "t",
         "calculated_host_listings_count": 1,
         "amenities_str": "\"Fire extinguisher\", \"Hot water\", \"Stove\", \"Carbon monoxide alarm\", \"Coffee maker\", \"Smoke alarm\", …",
         "name_lang": "en",
         "description_lang": "en",
         "host_months": 152,
         "dist_to_subway": 0.313514464112136,
         "comments": "['Cynthia is very warm and welcoming, she does all the best to make you feel at home and comfortabl…",
         "_deepnote_index_column": 7
        },
        {
         "id": 7064,
         "name": "Amazing location! Wburg. Large, bright & tranquil",
         "description": "Large, private loft-like room in a spacious 2-story apt in the heart of Williamsburg, Brooklyn. The…",
         "neighborhood_overview": "- One stop from the East Village, Lower East Side, and an easy ride to other parts of Brooklyn and …",
         "host_since": "2009-05-15",
         "host_response_time": "within a few hours",
         "host_response_rate": 100,
         "host_acceptance_rate": 0,
         "host_is_superhost": "f",
         "host_listings_count": 2,
         "host_has_profile_pic": "t",
         "host_identity_verified": "t",
         "neighbourhood": "Brooklyn, New York, United States",
         "neighbourhood_cleansed": "Williamsburg",
         "neighbourhood_group_cleansed": "Brooklyn",
         "latitude": 40.71248,
         "longitude": -73.95881,
         "property_type": "Private room in loft",
         "room_type": "Private room",
         "accommodates": 1,
         "bathrooms_text": "1 shared bath",
         "bedrooms": 1,
         "beds": 1,
         "amenities": "[\"Iron\", \"Smoke alarm\", \"Air conditioning\", \"Shampoo\", \"Essentials\", \"Hangers\", \"Dedicated workspac…",
         "price": 90,
         "minimum_nights": 27,
         "maximum_nights": 45,
         "has_availability": "t",
         "availability_30": 10,
         "availability_60": 23,
         "availability_90": 29,
         "availability_365": 304,
         "number_of_reviews": 9,
         "number_of_reviews_ltm": 0,
         "number_of_reviews_l30d": 0,
         "review_scores_rating": 4.86,
         "review_scores_accuracy": 5,
         "review_scores_cleanliness": 4.86,
         "review_scores_checkin": 5,
         "review_scores_communication": 5,
         "review_scores_location": 5,
         "review_scores_value": 5,
         "instant_bookable": "f",
         "calculated_host_listings_count": 2,
         "amenities_str": "\"Iron\", \"Smoke alarm\", \"Air conditioning\", \"Shampoo\", \"Essentials\", \"Hangers\", \"Dedicated workspace…",
         "name_lang": "en",
         "description_lang": "en",
         "host_months": 152,
         "dist_to_subway": 0.4664574979956045,
         "comments": "[\"What a great spot. The apartment is spacious and relaxing. The neighborhood has tons of great foo…",
         "_deepnote_index_column": 8
        },
        {
         "id": 7097,
         "name": "Perfect for Your Parents:  Privacy + Garden",
         "description": "Parents/grandparents coming to town, or are you just here for work or play? You'll love this Victor…",
         "neighborhood_overview": "Residential, village-like atmosphere. Lots of restaurants. They are unfortunately limited to outdoo…",
         "host_since": "2009-05-17",
         "host_response_time": "within an hour",
         "host_response_rate": 100,
         "host_acceptance_rate": 99,
         "host_is_superhost": "t",
         "host_listings_count": 1,
         "host_has_profile_pic": "t",
         "host_identity_verified": "t",
         "neighbourhood": "Brooklyn, New York, United States",
         "neighbourhood_cleansed": "Fort Greene",
         "neighbourhood_group_cleansed": "Brooklyn",
         "latitude": 40.69121,
         "longitude": -73.97277,
         "property_type": "Entire guest suite",
         "room_type": "Entire home/apt",
         "accommodates": 4,
         "bathrooms_text": "1 bath",
         "bedrooms": 1,
         "beds": 2,
         "amenities": "[\"Hot water\", \"Iron\", \"Shower gel\", \"Refrigerator\", \"Private patio or balcony\", \"Single level home\"…",
         "price": 199,
         "minimum_nights": 2,
         "maximum_nights": 1125,
         "has_availability": "t",
         "availability_30": 22,
         "availability_60": 52,
         "availability_90": 78,
         "availability_365": 353,
         "number_of_reviews": 284,
         "number_of_reviews_ltm": 44,
         "number_of_reviews_l30d": 4,
         "review_scores_rating": 4.88,
         "review_scores_accuracy": 4.89,
         "review_scores_cleanliness": 4.9,
         "review_scores_checkin": 4.96,
         "review_scores_communication": 4.92,
         "review_scores_location": 4.93,
         "review_scores_value": 4.79,
         "instant_bookable": "t",
         "calculated_host_listings_count": 2,
         "amenities_str": "\"Hot water\", \"Iron\", \"Shower gel\", \"Refrigerator\", \"Private patio or balcony\", \"Single level home\",…",
         "name_lang": "en",
         "description_lang": "en",
         "host_months": 152,
         "dist_to_subway": 0.5048302443480678,
         "comments": "['A great space for a fair price in one of Brooklyns best neighborhoods. Bed was comfortable and ha…",
         "_deepnote_index_column": 9
        }
       ]
      },
      "text/plain": "             id                                               name  \\\n0          3831  Whole flr w/private bdrm, bath & kitchen(pls r...   \n1          5121                                    BlissArtsSpace!   \n2          5136           Spacious Brooklyn Duplex, Patio + Garden   \n3          5178                   Large Furnished Room Near B'way　   \n4          5203                 Cozy Clean Guest Room - Family Apt   \n...         ...                                                ...   \n32991  54144941     *NEW* Private Room near Prospect Park Brooklyn   \n32992  54146235      Micro Hostel in The Heart of Chelsea New York   \n32993  54148518                   Time Square New York -Share Room   \n32994  54150715  Private PATIO in PRIVATE Room | 5mins to Manha...   \n32995  54161645  Escape to Haven in Manhattan-West 57th Street-...   \n\n                                             description  \\\n0      Enjoy 500 s.f. top floor in 1899 brownstone, w...   \n1       The space  HELLO EVERYONE AND THANKS FOR VISI...   \n2      We welcome you to stay in our lovely 2 br dupl...   \n3      Please don’t expect the luxury here just a bas...   \n4      Our best guests are seeking a safe, clean, spa...   \n...                                                  ...   \n32991  Take it easy at this unique and tranquil getaw...   \n32992  Everything you want to explore is right outsid...   \n32993  New York!!! The trendiest city in the world.  ...   \n32994                                            No Data   \n32995  Live your dream in the city that doesn't sleep...   \n\n                                   neighborhood_overview  host_since  \\\n0      Just the right mix of urban center and local n...  2008-12-07   \n1                                                No Data  2009-02-03   \n2                                                No Data  2009-02-03   \n3        Theater district, many restaurants around here.  2009-03-03   \n4      Our neighborhood is full of restaurants and ca...  2009-02-05   \n...                                                  ...         ...   \n32991                                            No Data  2021-10-28   \n32992                                            No Data  2017-10-20   \n32993  The center of Manhattan!  There are many uniqu...  2021-12-16   \n32994                                            No Data  2020-03-05   \n32995                                            No Data  2020-07-10   \n\n       host_response_time  host_response_rate  host_acceptance_rate  \\\n0      a few days or more                 0.0                  64.0   \n1          within an hour               100.0                 100.0   \n2                 No Data                 NaN                  25.0   \n3      within a few hours               100.0                 100.0   \n4                 No Data                 NaN                   NaN   \n...                   ...                 ...                   ...   \n32991      within an hour               100.0                 100.0   \n32992        within a day               100.0                 100.0   \n32993  within a few hours               100.0                 100.0   \n32994             No Data                 NaN                   NaN   \n32995      within an hour                99.0                  94.0   \n\n      host_is_superhost  host_listings_count  ... review_scores_location  \\\n0                     f                  1.0  ...                   4.71   \n1                     f                  1.0  ...                   4.47   \n2                     f                  1.0  ...                   4.50   \n3                     f                  1.0  ...                   4.87   \n4                     f                  1.0  ...                   4.94   \n...                 ...                  ...  ...                    ...   \n32991                 f                 10.0  ...                   0.00   \n32992                 f                  0.0  ...                   0.00   \n32993                 f                  1.0  ...                   0.00   \n32994                 f                 12.0  ...                   0.00   \n32995                 f                320.0  ...                   0.00   \n\n      review_scores_value instant_bookable calculated_host_listings_count  \\\n0                    4.64                f                              1   \n1                    4.52                f                              2   \n2                    5.00                f                              1   \n3                    4.36                f                              1   \n4                    4.92                f                              1   \n...                   ...              ...                            ...   \n32991                0.00                t                             13   \n32992                0.00                t                              4   \n32993                0.00                t                              2   \n32994                0.00                f                              1   \n32995                0.00                f                              4   \n\n                                           amenities_str  name_lang  \\\n0      \"Hot water\", \"Iron\", \"Children\\u2019s books an...         en   \n1      \"Heating\", \"Air conditioning\", \"Long term stay...         en   \n2      \"Cable TV\", \"TV with standard cable\", \"Outdoor...         en   \n3      \"Hot water\", \"Body soap\", \"Iron\", \"Lock on bed...         ja   \n4      \"Fire extinguisher\", \"Hot water\", \"Carbon mono...         en   \n...                                                  ...        ...   \n32991  \"Free parking on premises\", \"Lock on bedroom d...         en   \n32992  \"Wifi\", \"Building staff\", \"Long term stays all...         en   \n32993  \"Hot water\", \"Ceiling fan\", \"Shower gel\", \"Ref...         en   \n32994  \"Fire extinguisher\", \"Hot water\", \"Carbon mono...         en   \n32995  \"Cable TV\", \"Fire extinguisher\", \"Hot water\", ...         en   \n\n       description_lang host_months dist_to_subway  \\\n0                    en         157       0.401337   \n1                    en         155       0.464577   \n2                    en         155       0.337801   \n3                    en         155       0.211683   \n4                    en         155       0.058776   \n...                 ...         ...            ...   \n32991                en           3       0.857660   \n32992                en          51       0.218969   \n32993                en           1       0.230963   \n32994                en          22       0.436309   \n32995                en          18       0.064068   \n\n                                                comments  \n0      [lisa is a wonderful, kind and thoughtful host...  \n1      [Simple place, super nice guy., Great guy with...  \n2      [My family had a wonderful stay at Rebecca and...  \n3      [MR. Kasai was a grreat host , very helpful an...  \n4      [Emmie and her family are exceptional hosts. T...  \n...                                                  ...  \n32991                                                 []  \n32992                                                 []  \n32993                                                 []  \n32994                                                 []  \n32995                                                 []  \n\n[32996 rows x 50 columns]",
      "text/html": "<div>\n<style scoped>\n    .dataframe tbody tr th:only-of-type {\n        vertical-align: middle;\n    }\n\n    .dataframe tbody tr th {\n        vertical-align: top;\n    }\n\n    .dataframe thead th {\n        text-align: right;\n    }\n</style>\n<table border=\"1\" class=\"dataframe\">\n  <thead>\n    <tr style=\"text-align: right;\">\n      <th></th>\n      <th>id</th>\n      <th>name</th>\n      <th>description</th>\n      <th>neighborhood_overview</th>\n      <th>host_since</th>\n      <th>host_response_time</th>\n      <th>host_response_rate</th>\n      <th>host_acceptance_rate</th>\n      <th>host_is_superhost</th>\n      <th>host_listings_count</th>\n      <th>...</th>\n      <th>review_scores_location</th>\n      <th>review_scores_value</th>\n      <th>instant_bookable</th>\n      <th>calculated_host_listings_count</th>\n      <th>amenities_str</th>\n      <th>name_lang</th>\n      <th>description_lang</th>\n      <th>host_months</th>\n      <th>dist_to_subway</th>\n      <th>comments</th>\n    </tr>\n  </thead>\n  <tbody>\n    <tr>\n      <th>0</th>\n      <td>3831</td>\n      <td>Whole flr w/private bdrm, bath &amp; kitchen(pls r...</td>\n      <td>Enjoy 500 s.f. top floor in 1899 brownstone, w...</td>\n      <td>Just the right mix of urban center and local n...</td>\n      <td>2008-12-07</td>\n      <td>a few days or more</td>\n      <td>0.0</td>\n      <td>64.0</td>\n      <td>f</td>\n      <td>1.0</td>\n      <td>...</td>\n      <td>4.71</td>\n      <td>4.64</td>\n      <td>f</td>\n      <td>1</td>\n      <td>\"Hot water\", \"Iron\", \"Children\\u2019s books an...</td>\n      <td>en</td>\n      <td>en</td>\n      <td>157</td>\n      <td>0.401337</td>\n      <td>[lisa is a wonderful, kind and thoughtful host...</td>\n    </tr>\n    <tr>\n      <th>1</th>\n      <td>5121</td>\n      <td>BlissArtsSpace!</td>\n      <td>The space  HELLO EVERYONE AND THANKS FOR VISI...</td>\n      <td>No Data</td>\n      <td>2009-02-03</td>\n      <td>within an hour</td>\n      <td>100.0</td>\n      <td>100.0</td>\n      <td>f</td>\n      <td>1.0</td>\n      <td>...</td>\n      <td>4.47</td>\n      <td>4.52</td>\n      <td>f</td>\n      <td>2</td>\n      <td>\"Heating\", \"Air conditioning\", \"Long term stay...</td>\n      <td>en</td>\n      <td>en</td>\n      <td>155</td>\n      <td>0.464577</td>\n      <td>[Simple place, super nice guy., Great guy with...</td>\n    </tr>\n    <tr>\n      <th>2</th>\n      <td>5136</td>\n      <td>Spacious Brooklyn Duplex, Patio + Garden</td>\n      <td>We welcome you to stay in our lovely 2 br dupl...</td>\n      <td>No Data</td>\n      <td>2009-02-03</td>\n      <td>No Data</td>\n      <td>NaN</td>\n      <td>25.0</td>\n      <td>f</td>\n      <td>1.0</td>\n      <td>...</td>\n      <td>4.50</td>\n      <td>5.00</td>\n      <td>f</td>\n      <td>1</td>\n      <td>\"Cable TV\", \"TV with standard cable\", \"Outdoor...</td>\n      <td>en</td>\n      <td>en</td>\n      <td>155</td>\n      <td>0.337801</td>\n      <td>[My family had a wonderful stay at Rebecca and...</td>\n    </tr>\n    <tr>\n      <th>3</th>\n      <td>5178</td>\n      <td>Large Furnished Room Near B'way</td>\n      <td>Please don’t expect the luxury here just a bas...</td>\n      <td>Theater district, many restaurants around here.</td>\n      <td>2009-03-03</td>\n      <td>within a few hours</td>\n      <td>100.0</td>\n      <td>100.0</td>\n      <td>f</td>\n      <td>1.0</td>\n      <td>...</td>\n      <td>4.87</td>\n      <td>4.36</td>\n      <td>f</td>\n      <td>1</td>\n      <td>\"Hot water\", \"Body soap\", \"Iron\", \"Lock on bed...</td>\n      <td>ja</td>\n      <td>en</td>\n      <td>155</td>\n      <td>0.211683</td>\n      <td>[MR. Kasai was a grreat host , very helpful an...</td>\n    </tr>\n    <tr>\n      <th>4</th>\n      <td>5203</td>\n      <td>Cozy Clean Guest Room - Family Apt</td>\n      <td>Our best guests are seeking a safe, clean, spa...</td>\n      <td>Our neighborhood is full of restaurants and ca...</td>\n      <td>2009-02-05</td>\n      <td>No Data</td>\n      <td>NaN</td>\n      <td>NaN</td>\n      <td>f</td>\n      <td>1.0</td>\n      <td>...</td>\n      <td>4.94</td>\n      <td>4.92</td>\n      <td>f</td>\n      <td>1</td>\n      <td>\"Fire extinguisher\", \"Hot water\", \"Carbon mono...</td>\n      <td>en</td>\n      <td>en</td>\n      <td>155</td>\n      <td>0.058776</td>\n      <td>[Emmie and her family are exceptional hosts. T...</td>\n    </tr>\n    <tr>\n      <th>...</th>\n      <td>...</td>\n      <td>...</td>\n      <td>...</td>\n      <td>...</td>\n      <td>...</td>\n      <td>...</td>\n      <td>...</td>\n      <td>...</td>\n      <td>...</td>\n      <td>...</td>\n      <td>...</td>\n      <td>...</td>\n      <td>...</td>\n      <td>...</td>\n      <td>...</td>\n      <td>...</td>\n      <td>...</td>\n      <td>...</td>\n      <td>...</td>\n      <td>...</td>\n      <td>...</td>\n    </tr>\n    <tr>\n      <th>32991</th>\n      <td>54144941</td>\n      <td>*NEW* Private Room near Prospect Park Brooklyn</td>\n      <td>Take it easy at this unique and tranquil getaw...</td>\n      <td>No Data</td>\n      <td>2021-10-28</td>\n      <td>within an hour</td>\n      <td>100.0</td>\n      <td>100.0</td>\n      <td>f</td>\n      <td>10.0</td>\n      <td>...</td>\n      <td>0.00</td>\n      <td>0.00</td>\n      <td>t</td>\n      <td>13</td>\n      <td>\"Free parking on premises\", \"Lock on bedroom d...</td>\n      <td>en</td>\n      <td>en</td>\n      <td>3</td>\n      <td>0.857660</td>\n      <td>[]</td>\n    </tr>\n    <tr>\n      <th>32992</th>\n      <td>54146235</td>\n      <td>Micro Hostel in The Heart of Chelsea New York</td>\n      <td>Everything you want to explore is right outsid...</td>\n      <td>No Data</td>\n      <td>2017-10-20</td>\n      <td>within a day</td>\n      <td>100.0</td>\n      <td>100.0</td>\n      <td>f</td>\n      <td>0.0</td>\n      <td>...</td>\n      <td>0.00</td>\n      <td>0.00</td>\n      <td>t</td>\n      <td>4</td>\n      <td>\"Wifi\", \"Building staff\", \"Long term stays all...</td>\n      <td>en</td>\n      <td>en</td>\n      <td>51</td>\n      <td>0.218969</td>\n      <td>[]</td>\n    </tr>\n    <tr>\n      <th>32993</th>\n      <td>54148518</td>\n      <td>Time Square New York -Share Room</td>\n      <td>New York!!! The trendiest city in the world.  ...</td>\n      <td>The center of Manhattan!  There are many uniqu...</td>\n      <td>2021-12-16</td>\n      <td>within a few hours</td>\n      <td>100.0</td>\n      <td>100.0</td>\n      <td>f</td>\n      <td>1.0</td>\n      <td>...</td>\n      <td>0.00</td>\n      <td>0.00</td>\n      <td>t</td>\n      <td>2</td>\n      <td>\"Hot water\", \"Ceiling fan\", \"Shower gel\", \"Ref...</td>\n      <td>en</td>\n      <td>en</td>\n      <td>1</td>\n      <td>0.230963</td>\n      <td>[]</td>\n    </tr>\n    <tr>\n      <th>32994</th>\n      <td>54150715</td>\n      <td>Private PATIO in PRIVATE Room | 5mins to Manha...</td>\n      <td>No Data</td>\n      <td>No Data</td>\n      <td>2020-03-05</td>\n      <td>No Data</td>\n      <td>NaN</td>\n      <td>NaN</td>\n      <td>f</td>\n      <td>12.0</td>\n      <td>...</td>\n      <td>0.00</td>\n      <td>0.00</td>\n      <td>f</td>\n      <td>1</td>\n      <td>\"Fire extinguisher\", \"Hot water\", \"Carbon mono...</td>\n      <td>en</td>\n      <td>en</td>\n      <td>22</td>\n      <td>0.436309</td>\n      <td>[]</td>\n    </tr>\n    <tr>\n      <th>32995</th>\n      <td>54161645</td>\n      <td>Escape to Haven in Manhattan-West 57th Street-...</td>\n      <td>Live your dream in the city that doesn't sleep...</td>\n      <td>No Data</td>\n      <td>2020-07-10</td>\n      <td>within an hour</td>\n      <td>99.0</td>\n      <td>94.0</td>\n      <td>f</td>\n      <td>320.0</td>\n      <td>...</td>\n      <td>0.00</td>\n      <td>0.00</td>\n      <td>f</td>\n      <td>4</td>\n      <td>\"Cable TV\", \"Fire extinguisher\", \"Hot water\", ...</td>\n      <td>en</td>\n      <td>en</td>\n      <td>18</td>\n      <td>0.064068</td>\n      <td>[]</td>\n    </tr>\n  </tbody>\n</table>\n<p>32996 rows × 50 columns</p>\n</div>"
     },
     "metadata": {}
    }
   ]
  },
  {
   "cell_type": "code",
   "metadata": {
    "cell_id": "56b8da0d-f944-4643-a6b8-5a90c34b6458",
    "tags": [],
    "deepnote_to_be_reexecuted": false,
    "source_hash": "eeb4578f",
    "execution_start": 1647055782353,
    "execution_millis": 4,
    "deepnote_cell_type": "code",
    "deepnote_cell_height": 425.34375,
    "deepnote_output_heights": [
     328.359375
    ]
   },
   "source": "combined.columns",
   "execution_count": null,
   "outputs": [
    {
     "output_type": "execute_result",
     "execution_count": 18,
     "data": {
      "text/plain": "Index(['id', 'name', 'description', 'neighborhood_overview', 'host_since',\n       'host_response_time', 'host_response_rate', 'host_acceptance_rate',\n       'host_is_superhost', 'host_listings_count', 'host_has_profile_pic',\n       'host_identity_verified', 'neighbourhood', 'neighbourhood_cleansed',\n       'neighbourhood_group_cleansed', 'latitude', 'longitude',\n       'property_type', 'room_type', 'accommodates', 'bathrooms_text',\n       'bedrooms', 'beds', 'amenities', 'price', 'minimum_nights',\n       'maximum_nights', 'has_availability', 'availability_30',\n       'availability_60', 'availability_90', 'availability_365',\n       'number_of_reviews', 'number_of_reviews_ltm', 'number_of_reviews_l30d',\n       'review_scores_rating', 'review_scores_accuracy',\n       'review_scores_cleanliness', 'review_scores_checkin',\n       'review_scores_communication', 'review_scores_location',\n       'review_scores_value', 'instant_bookable',\n       'calculated_host_listings_count', 'amenities_str', 'name_lang',\n       'description_lang', 'host_months', 'dist_to_subway', 'comments'],\n      dtype='object')"
     },
     "metadata": {}
    }
   ]
  },
  {
   "cell_type": "markdown",
   "source": "# Further processing of cols",
   "metadata": {
    "cell_id": "35b11208-412d-4d29-a161-42b03a5da23f",
    "tags": [],
    "is_collapsed": false,
    "deepnote_cell_type": "text-cell-h1"
   }
  },
  {
   "cell_type": "code",
   "metadata": {
    "cell_id": "7b973cf7-7d07-415b-8ae0-b54bf007a087",
    "tags": [],
    "deepnote_to_be_reexecuted": false,
    "source_hash": "d231060a",
    "execution_start": 1647055790620,
    "execution_millis": 82,
    "deepnote_cell_type": "code",
    "deepnote_cell_height": 135
   },
   "source": "combined['availability_30'] = combined['availability_30'].apply(lambda x: float(x) / 30)\ncombined['availability_60'] = combined['availability_60'].apply(lambda x: float(x) / 60)\ncombined['availability_90'] = combined['availability_90'].apply(lambda x: float(x) / 90)\ncombined['availability_365'] = combined['availability_365'].apply(lambda x: float(x) / 365)",
   "execution_count": null,
   "outputs": []
  },
  {
   "cell_type": "code",
   "metadata": {
    "cell_id": "c9922557-90a3-4108-9748-db65f2cca924",
    "tags": [],
    "deepnote_to_be_reexecuted": false,
    "source_hash": "6b9b3ace",
    "execution_start": 1647055792624,
    "execution_millis": 8901,
    "deepnote_cell_type": "code",
    "deepnote_cell_height": 81
   },
   "source": "combined.to_csv('reviews_listings.csv', index=False)",
   "execution_count": null,
   "outputs": []
  },
  {
   "cell_type": "markdown",
   "source": "## Text Cleaning",
   "metadata": {
    "cell_id": "13f0c04d-0a27-4b31-86b6-4c2d5db2026f",
    "tags": [],
    "deepnote_cell_type": "markdown",
    "deepnote_cell_height": 70
   }
  },
  {
   "cell_type": "code",
   "metadata": {
    "cell_id": "0e39b007-33c4-48ac-8e64-8c0445d6e51e",
    "tags": [],
    "deepnote_to_be_reexecuted": false,
    "source_hash": "42c0dbf3",
    "execution_start": 1649592015344,
    "execution_millis": 7165,
    "deepnote_cell_type": "code",
    "deepnote_cell_height": 81
   },
   "source": "combined = pd.read_csv('reviews_listings.csv')",
   "execution_count": null,
   "outputs": []
  },
  {
   "cell_type": "code",
   "metadata": {
    "cell_id": "52e49e16-b778-4924-a2f0-99080ec9cfc7",
    "tags": [],
    "deepnote_to_be_reexecuted": false,
    "source_hash": "115b1ba1",
    "execution_start": 1649592440115,
    "execution_millis": 4,
    "deepnote_cell_type": "code",
    "deepnote_cell_height": 315
   },
   "source": "# from nltk.corpus import stopwords\nfrom nltk.stem import WordNetLemmatizer\nfrom nltk import word_tokenize\n\nlemmatizer = WordNetLemmatizer()\n# pattern = re.compile(r'\\b(' + r'|'.join(stopwords.words('english')) + r')\\b\\s*')\n# txt = pattern.sub('', txt)\ndef clean_text(txt):\n    txt = txt.translate(str.maketrans('', '', string.punctuation))\n    txt = re.sub(r'[^\\w\\s]','',txt)\n    # txt = txt.word_tokenize()\n    txt = nltk.word_tokenize(txt)\n    txt = ' '.join(lemmatizer.lemmatize(w) for w in txt) #remove stopwords later\n    return txt",
   "execution_count": null,
   "outputs": []
  },
  {
   "cell_type": "code",
   "metadata": {
    "cell_id": "2b69101a-3197-40e6-96b3-fba07f7b0c48",
    "tags": [],
    "deepnote_to_be_reexecuted": false,
    "source_hash": "b660e66a",
    "execution_start": 1649592441790,
    "execution_millis": 772439,
    "owner_user_id": "315afcd7-a118-46e5-87f7-a2d98fa8d565",
    "deepnote_cell_type": "code",
    "deepnote_cell_height": 171
   },
   "source": "combined['processed_name'] = combined['name'].apply(clean_text)\ncombined['processed_description'] = combined['description'].apply(clean_text)\ncombined['processed_neighborhood_overview'] = combined['neighborhood_overview'].apply(clean_text)\ncombined['comments'] = combined['comments'].apply(clean_text)\ncombined['combined_text'] = combined['processed_name'] + ' ' + combined['processed_description'] + ' ' + combined['processed_neighborhood_overview'] + \" \" + combined['comments']\n# combined['combined_text'] = combined['processed_name'] + ' ' + combined['processed_description'] + ' ' + combined['processed_neighborhood_overview']",
   "execution_count": null,
   "outputs": []
  },
  {
   "cell_type": "markdown",
   "source": "# Train Test Split",
   "metadata": {
    "cell_id": "b624cfb0-db0b-4309-a54e-ae5ca8110a77",
    "tags": [],
    "is_collapsed": false,
    "deepnote_cell_type": "text-cell-h1"
   }
  },
  {
   "cell_type": "code",
   "metadata": {
    "cell_id": "eb3c3906-514f-4d13-9698-acfd45d13eb8",
    "tags": [],
    "deepnote_to_be_reexecuted": false,
    "source_hash": "e363897",
    "execution_start": 1649344363598,
    "execution_millis": 201,
    "deepnote_cell_type": "code",
    "deepnote_cell_height": 201.859375
   },
   "source": "from sklearn.model_selection import train_test_split\n\ncombined_train, combined_test = train_test_split(combined, test_size = 0.3, random_state = 2022)\ncombined_val, combined_test = train_test_split(combined_test, test_size = 0.5, random_state = 2023)\n\nprint([combined_train.shape, combined_val.shape, combined_test.shape])",
   "execution_count": null,
   "outputs": [
    {
     "name": "stdout",
     "text": "[(23097, 50), (4949, 50), (4950, 50)]\n",
     "output_type": "stream"
    }
   ]
  },
  {
   "cell_type": "code",
   "metadata": {
    "cell_id": "153b23e8-3ce8-49ba-bfd3-fef4bb310559",
    "tags": [],
    "deepnote_to_be_reexecuted": false,
    "source_hash": "d1d5f50",
    "execution_start": 1647849023377,
    "execution_millis": 20465,
    "deepnote_cell_type": "code",
    "deepnote_cell_height": 117
   },
   "source": "combined_train.to_csv('combined_train.csv', index = False)\ncombined_val.to_csv('combined_val.csv', index = False)\ncombined_test.to_csv('combined_test.csv', index = False)",
   "execution_count": null,
   "outputs": []
  },
  {
   "cell_type": "markdown",
   "source": "# Transforming data to features",
   "metadata": {
    "cell_id": "a4b2eaab-51ee-41f5-890c-190c0e7b0e04",
    "tags": [],
    "is_collapsed": false,
    "deepnote_cell_type": "text-cell-h1"
   }
  },
  {
   "cell_type": "code",
   "metadata": {
    "cell_id": "59d0090c-38eb-4422-996e-3ba04184b2da",
    "tags": [],
    "deepnote_to_be_reexecuted": false,
    "source_hash": "6b348074",
    "execution_start": 1649345279099,
    "execution_millis": 11407,
    "deepnote_cell_type": "code",
    "deepnote_cell_height": 117
   },
   "source": "train = pd.read_csv('combined_train.csv')\nval = pd.read_csv('combined_val.csv')\ntest = pd.read_csv('combined_test.csv')",
   "execution_count": null,
   "outputs": []
  },
  {
   "cell_type": "code",
   "metadata": {
    "cell_id": "8651166b-7989-4d93-8974-cffefefb20a6",
    "tags": [],
    "deepnote_to_be_reexecuted": false,
    "source_hash": "5fa2c964",
    "execution_start": 1649345290543,
    "execution_millis": 243,
    "deepnote_cell_type": "code",
    "deepnote_cell_height": 225
   },
   "source": "def get_float(txt):\n    lst = re.findall(r\"[-+]?(?:\\d*\\.\\d+|\\d+)\", txt)\n    if len(lst) == 0:\n        return 'No Data'\n    return float(lst[0])\n\ntrain['bathrooms_text'] = train['bathrooms_text'].apply(get_float)\nval['bathrooms_text'] = val['bathrooms_text'].apply(get_float)\ntest['bathrooms_text'] = test['bathrooms_text'].apply(get_float)",
   "execution_count": null,
   "outputs": []
  },
  {
   "cell_type": "code",
   "metadata": {
    "cell_id": "87397d44-cc79-4bd4-a2ec-103bdcedc6f8",
    "tags": [],
    "deepnote_to_be_reexecuted": false,
    "source_hash": "cf25d9c2",
    "execution_start": 1645832530245,
    "execution_millis": 2963,
    "deepnote_cell_type": "code",
    "deepnote_cell_height": 661.640625,
    "deepnote_output_heights": [
     null,
     250
    ]
   },
   "source": "import seaborn as sns\n\nvals = train['accommodates'].values\n\nprint(sns.histplot(vals))\nprint(pd.Series(vals).describe())",
   "execution_count": null,
   "outputs": [
    {
     "name": "stdout",
     "text": "AxesSubplot(0.125,0.125;0.775x0.755)\ncount    23097.000000\nmean         2.856778\nstd          1.886802\nmin          1.000000\n25%          2.000000\n50%          2.000000\n75%          4.000000\nmax         16.000000\ndtype: float64\n",
     "output_type": "stream"
    },
    {
     "data": {
      "text/plain": "<Figure size 432x288 with 1 Axes>",
      "image/png": "[encoded data removed]"
     },
     "metadata": {
      "needs_background": "light",
      "image/png": {
       "width": 401,
       "height": 248
      }
     },
     "output_type": "display_data"
    }
   ]
  },
  {
   "cell_type": "code",
   "metadata": {
    "cell_id": "d405eb3b-03fa-4d8f-a994-c42cde89a3ad",
    "tags": [],
    "deepnote_to_be_reexecuted": false,
    "source_hash": "11cb1a0f",
    "execution_start": 1645832540052,
    "execution_millis": 51,
    "deepnote_cell_type": "code",
    "deepnote_cell_height": 588.59375
   },
   "source": "#based on domain knowledge & about the hist grouping (show the difference)\n#bins: 1-2, 3-4, 5-6, everything else\ndef get_bins_mean(df):\n    vals = df['accommodates'].values\n    bathrooms = df['bathrooms_text'].values\n    bins_dct = {'1-4':[], '5-6':[], 'else':[]}\n    for j in range(len(vals)):\n        i = vals[j]\n        currb = bathrooms[j]\n        if type(currb) != float or currb != currb:\n            continue\n        if i >= 1 and i <= 4:\n            bins_dct['1-4'].append(currb)\n        elif i >= 5 and i <= 6:\n            bins_dct['5-6'].append(currb)\n        else:\n            bins_dct['else'].append(currb)\n\n    for i in bins_dct:\n        bins_dct[i] = np.mean(bins_dct[i])\n\n    return bins_dct\n\nbathroom_bins_dct = get_bins_mean(train)\nbathroom_bins_dct",
   "execution_count": null,
   "outputs": [
    {
     "output_type": "execute_result",
     "execution_count": 5,
     "data": {
      "text/plain": "{'1-4': 1.111844416562108,\n '5-6': 1.3925638686131387,\n 'else': 1.9763736263736265}"
     },
     "metadata": {}
    }
   ]
  },
  {
   "cell_type": "code",
   "metadata": {
    "cell_id": "3bc5ac3a-4888-4d4b-8318-55fb0c7e6fe4",
    "tags": [],
    "deepnote_to_be_reexecuted": false,
    "source_hash": "c6987b5f",
    "execution_start": 1649345290793,
    "execution_millis": 1897,
    "deepnote_cell_type": "code",
    "deepnote_cell_height": 333
   },
   "source": "#fill up with corresponding means\ndef bin_bathrooms(row):\n    if type(row['bathrooms_text']) == float and row['bathrooms_text'] == row['bathrooms_text']:\n        return row['bathrooms_text']  \n    currac = row['accommodates']\n    if currac >= 1 and currac <= 4:\n        return 1\n    elif currac >= 5 and currac <= 6:\n        return 1.5\n    else:\n        return 2\n\ntrain['bathrooms_text'] = train.apply(bin_bathrooms, axis = 1)\nval['bathrooms_text'] = val.apply(bin_bathrooms, axis = 1)\ntest['bathrooms_text'] = test.apply(bin_bathrooms, axis = 1)",
   "execution_count": null,
   "outputs": []
  },
  {
   "cell_type": "code",
   "metadata": {
    "cell_id": "e55cd55a-47c9-48b2-8c8a-fb1d342893a7",
    "tags": [],
    "deepnote_to_be_reexecuted": false,
    "source_hash": "cdf02124",
    "execution_start": 1645756864206,
    "execution_millis": 211,
    "deepnote_cell_type": "code",
    "deepnote_cell_height": 523.578125,
    "deepnote_output_heights": [
     null,
     null,
     250
    ]
   },
   "source": "#to decide cut off value for price to remove extreme listings\nimport seaborn as sns\n\nsns.boxplot(train['price'].values)",
   "execution_count": null,
   "outputs": [
    {
     "name": "stderr",
     "text": "/shared-libs/python3.9/py/lib/python3.9/site-packages/seaborn/_decorators.py:36: FutureWarning: Pass the following variable as a keyword arg: x. From version 0.12, the only valid positional argument will be `data`, and passing other arguments without an explicit keyword will result in an error or misinterpretation.\n  warnings.warn(\n",
     "output_type": "stream"
    },
    {
     "output_type": "execute_result",
     "execution_count": 18,
     "data": {
      "text/plain": "<AxesSubplot:>"
     },
     "metadata": {}
    },
    {
     "data": {
      "text/plain": "<Figure size 432x288 with 1 Axes>",
      "image/png": "[encoded data removed]"
     },
     "metadata": {
      "needs_background": "light",
      "image/png": {
       "width": 353,
       "height": 248
      }
     },
     "output_type": "display_data"
    }
   ]
  },
  {
   "cell_type": "code",
   "metadata": {
    "cell_id": "ae484a26-24c1-478d-a92c-16e66ae11348",
    "tags": [],
    "deepnote_to_be_reexecuted": false,
    "source_hash": "f6d25a75",
    "execution_start": 1645756883642,
    "execution_millis": 6,
    "deepnote_cell_type": "code",
    "deepnote_cell_height": 271.78125
   },
   "source": "train['price'].describe()",
   "execution_count": null,
   "outputs": [
    {
     "output_type": "execute_result",
     "execution_count": 19,
     "data": {
      "text/plain": "count    23097.000000\nmean       159.636187\nstd        282.124481\nmin         10.000000\n25%         65.000000\n50%        107.000000\n75%        177.000000\nmax      10000.000000\nName: price, dtype: float64"
     },
     "metadata": {}
    }
   ]
  },
  {
   "cell_type": "code",
   "metadata": {
    "cell_id": "0ec4f632-1dcb-40dd-813d-c9811b14beae",
    "tags": [],
    "deepnote_to_be_reexecuted": false,
    "source_hash": "6c1cd971",
    "execution_start": 1645756914453,
    "execution_millis": 20,
    "deepnote_cell_type": "code",
    "deepnote_cell_height": 188.53125
   },
   "source": "from matplotlib.cbook import boxplot_stats  \n\noutliers = list(boxplot_stats(train['price'])[0]['fliers'])\noutliers.sort()\nprint(outliers)",
   "execution_count": null,
   "outputs": [
    {
     "name": "stdout",
     "text": "[346.0, 346.0, 346.0, 347.0, 347.0, 347.0, 347.0, 347.0, 347.0, 348.0, 348.0, 348.0, 348.0, 348.0, 348.0, 348.0, 349.0, 349.0, 349.0, 349.0, 349.0, 349.0, 349.0, 349.0, 349.0, 349.0, 349.0, 349.0, 349.0, 349.0, 349.0, 349.0, 349.0, 349.0, 349.0, 349.0, 349.0, 349.0, 349.0, 349.0, 349.0, 349.0, 349.0, 349.0, 349.0, 350.0, 350.0, 350.0, 350.0, 350.0, 350.0, 350.0, 350.0, 350.0, 350.0, 350.0, 350.0, 350.0, 350.0, 350.0, 350.0, 350.0, 350.0, 350.0, 350.0, 350.0, 350.0, 350.0, 350.0, 350.0, 350.0, 350.0, 350.0, 350.0, 350.0, 350.0, 350.0, 350.0, 350.0, 350.0, 350.0, 350.0, 350.0, 350.0, 350.0, 350.0, 350.0, 350.0, 350.0, 350.0, 350.0, 350.0, 350.0, 350.0, 350.0, 350.0, 350.0, 350.0, 350.0, 350.0, 350.0, 350.0, 350.0, 350.0, 350.0, 350.0, 350.0, 350.0, 350.0, 350.0, 350.0, 350.0, 350.0, 350.0, 350.0, 350.0, 350.0, 350.0, 350.0, 350.0, 350.0, 350.0, 350.0, 350.0, 350.0, 350.0, 350.0, 350.0, 350.0, 350.0, 350.0, 350.0, 350.0, 350.0, 350.0, 350.0, 350.0, 350.0, 350.0, 350.0, 350.0, 350.0, 350.0, 350.0, 350.0, 350.0, 350.0, 350.0, 350.0, 350.0, 350.0, 350.0, 350.0, 350.0, 350.0, 350.0, 350.0, 350.0, 350.0, 350.0, 350.0, 350.0, 350.0, 350.0, 350.0, 350.0, 350.0, 350.0, 350.0, 350.0, 350.0, 350.0, 350.0, 350.0, 350.0, 350.0, 350.0, 350.0, 350.0, 350.0, 350.0, 350.0, 350.0, 350.0, 350.0, 350.0, 350.0, 351.0, 351.0, 351.0, 351.0, 351.0, 352.0, 353.0, 353.0, 353.0, 353.0, 353.0, 353.0, 353.0, 353.0, 353.0, 353.0, 354.0, 354.0, 354.0, 355.0, 355.0, 355.0, 355.0, 355.0, 355.0, 355.0, 355.0, 355.0, 355.0, 356.0, 356.0, 356.0, 356.0, 356.0, 357.0, 357.0, 357.0, 357.0, 357.0, 357.0, 358.0, 358.0, 358.0, 359.0, 359.0, 359.0, 359.0, 359.0, 360.0, 360.0, 360.0, 360.0, 360.0, 360.0, 360.0, 361.0, 361.0, 362.0, 363.0, 363.0, 363.0, 363.0, 364.0, 364.0, 364.0, 364.0, 364.0, 364.0, 364.0, 364.0, 364.0, 364.0, 364.0, 364.0, 364.0, 364.0, 364.0, 364.0, 364.0, 364.0, 365.0, 365.0, 365.0, 366.0, 366.0, 366.0, 366.0, 368.0, 368.0, 368.0, 368.0, 368.0, 368.0, 368.0, 369.0, 369.0, 369.0, 369.0, 369.0, 369.0, 369.0, 369.0, 369.0, 369.0, 369.0, 369.0, 369.0, 370.0, 370.0, 370.0, 370.0, 370.0, 370.0, 371.0, 371.0, 371.0, 371.0, 372.0, 372.0, 372.0, 373.0, 374.0, 374.0, 374.0, 375.0, 375.0, 375.0, 375.0, 375.0, 375.0, 375.0, 375.0, 375.0, 375.0, 375.0, 375.0, 375.0, 375.0, 375.0, 375.0, 375.0, 375.0, 375.0, 375.0, 375.0, 375.0, 375.0, 375.0, 375.0, 375.0, 376.0, 376.0, 376.0, 377.0, 377.0, 378.0, 378.0, 378.0, 378.0, 379.0, 379.0, 379.0, 379.0, 379.0, 379.0, 379.0, 380.0, 380.0, 380.0, 380.0, 380.0, 380.0, 380.0, 380.0, 380.0, 381.0, 382.0, 382.0, 383.0, 383.0, 383.0, 383.0, 384.0, 385.0, 385.0, 385.0, 385.0, 385.0, 385.0, 385.0, 385.0, 385.0, 385.0, 385.0, 385.0, 385.0, 385.0, 386.0, 386.0, 386.0, 386.0, 387.0, 387.0, 388.0, 388.0, 388.0, 388.0, 389.0, 389.0, 389.0, 389.0, 389.0, 389.0, 389.0, 390.0, 390.0, 390.0, 390.0, 390.0, 390.0, 390.0, 390.0, 391.0, 391.0, 392.0, 392.0, 392.0, 393.0, 393.0, 393.0, 393.0, 394.0, 394.0, 394.0, 395.0, 395.0, 395.0, 395.0, 395.0, 395.0, 395.0, 395.0, 395.0, 395.0, 395.0, 395.0, 395.0, 395.0, 395.0, 395.0, 395.0, 395.0, 395.0, 395.0, 395.0, 396.0, 396.0, 396.0, 396.0, 396.0, 397.0, 397.0, 397.0, 398.0, 398.0, 398.0, 398.0, 398.0, 398.0, 398.0, 398.0, 399.0, 399.0, 399.0, 399.0, 399.0, 399.0, 399.0, 399.0, 399.0, 399.0, 399.0, 399.0, 399.0, 399.0, 399.0, 399.0, 399.0, 399.0, 399.0, 399.0, 399.0, 399.0, 399.0, 399.0, 399.0, 399.0, 399.0, 399.0, 399.0, 399.0, 399.0, 399.0, 400.0, 400.0, 400.0, 400.0, 400.0, 400.0, 400.0, 400.0, 400.0, 400.0, 400.0, 400.0, 400.0, 400.0, 400.0, 400.0, 400.0, 400.0, 400.0, 400.0, 400.0, 400.0, 400.0, 400.0, 400.0, 400.0, 400.0, 400.0, 400.0, 400.0, 400.0, 400.0, 400.0, 400.0, 400.0, 400.0, 400.0, 400.0, 400.0, 400.0, 400.0, 400.0, 400.0, 400.0, 400.0, 400.0, 400.0, 400.0, 400.0, 400.0, 400.0, 400.0, 400.0, 400.0, 400.0, 400.0, 400.0, 400.0, 400.0, 400.0, 400.0, 400.0, 400.0, 400.0, 400.0, 400.0, 400.0, 400.0, 400.0, 400.0, 400.0, 400.0, 400.0, 400.0, 400.0, 400.0, 400.0, 400.0, 400.0, 400.0, 400.0, 400.0, 400.0, 400.0, 400.0, 401.0, 401.0, 402.0, 403.0, 403.0, 403.0, 403.0, 403.0, 404.0, 405.0, 405.0, 405.0, 405.0, 406.0, 407.0, 407.0, 407.0, 407.0, 408.0, 408.0, 409.0, 409.0, 409.0, 409.0, 410.0, 410.0, 410.0, 410.0, 410.0, 410.0, 410.0, 413.0, 413.0, 413.0, 413.0, 414.0, 414.0, 414.0, 414.0, 414.0, 414.0, 414.0, 414.0, 414.0, 414.0, 415.0, 415.0, 416.0, 417.0, 418.0, 419.0, 419.0, 419.0, 420.0, 420.0, 420.0, 420.0, 420.0, 420.0, 420.0, 420.0, 420.0, 420.0, 421.0, 421.0, 421.0, 421.0, 423.0, 424.0, 424.0, 424.0, 425.0, 425.0, 425.0, 425.0, 425.0, 425.0, 425.0, 425.0, 425.0, 425.0, 425.0, 425.0, 425.0, 425.0, 425.0, 425.0, 425.0, 425.0, 425.0, 425.0, 426.0, 427.0, 427.0, 428.0, 428.0, 429.0, 429.0, 429.0, 429.0, 429.0, 429.0, 429.0, 429.0, 430.0, 430.0, 430.0, 431.0, 431.0, 432.0, 433.0, 433.0, 435.0, 436.0, 436.0, 438.0, 438.0, 439.0, 440.0, 440.0, 443.0, 445.0, 445.0, 445.0, 445.0, 445.0, 446.0, 449.0, 449.0, 449.0, 449.0, 449.0, 449.0, 449.0, 450.0, 450.0, 450.0, 450.0, 450.0, 450.0, 450.0, 450.0, 450.0, 450.0, 450.0, 450.0, 450.0, 450.0, 450.0, 450.0, 450.0, 450.0, 450.0, 450.0, 450.0, 450.0, 450.0, 450.0, 450.0, 450.0, 450.0, 450.0, 450.0, 450.0, 450.0, 450.0, 450.0, 450.0, 450.0, 450.0, 450.0, 450.0, 450.0, 450.0, 450.0, 450.0, 450.0, 450.0, 450.0, 450.0, 450.0, 450.0, 450.0, 450.0, 450.0, 450.0, 450.0, 450.0, 450.0, 450.0, 450.0, 450.0, 450.0, 450.0, 451.0, 453.0, 454.0, 455.0, 456.0, 457.0, 457.0, 457.0, 457.0, 457.0, 458.0, 458.0, 458.0, 458.0, 459.0, 459.0, 459.0, 460.0, 460.0, 460.0, 460.0, 460.0, 460.0, 461.0, 462.0, 464.0, 464.0, 465.0, 465.0, 466.0, 468.0, 468.0, 469.0, 471.0, 473.0, 473.0, 475.0, 475.0, 475.0, 475.0, 475.0, 475.0, 475.0, 475.0, 475.0, 476.0, 476.0, 477.0, 478.0, 479.0, 480.0, 480.0, 480.0, 480.0, 481.0, 481.0, 481.0, 482.0, 482.0, 482.0, 483.0, 484.0, 485.0, 485.0, 485.0, 486.0, 487.0, 490.0, 490.0, 490.0, 490.0, 490.0, 490.0, 491.0, 491.0, 491.0, 491.0, 491.0, 491.0, 492.0, 492.0, 495.0, 495.0, 495.0, 495.0, 495.0, 495.0, 495.0, 495.0, 495.0, 495.0, 496.0, 496.0, 497.0, 498.0, 498.0, 499.0, 499.0, 499.0, 499.0, 499.0, 499.0, 499.0, 499.0, 499.0, 499.0, 499.0, 499.0, 499.0, 499.0, 499.0, 499.0, 499.0, 500.0, 500.0, 500.0, 500.0, 500.0, 500.0, 500.0, 500.0, 500.0, 500.0, 500.0, 500.0, 500.0, 500.0, 500.0, 500.0, 500.0, 500.0, 500.0, 500.0, 500.0, 500.0, 500.0, 500.0, 500.0, 500.0, 500.0, 500.0, 500.0, 500.0, 500.0, 500.0, 500.0, 500.0, 500.0, 500.0, 500.0, 500.0, 500.0, 500.0, 500.0, 500.0, 500.0, 500.0, 500.0, 500.0, 500.0, 500.0, 500.0, 500.0, 500.0, 500.0, 500.0, 500.0, 500.0, 500.0, 500.0, 500.0, 500.0, 500.0, 500.0, 500.0, 500.0, 500.0, 500.0, 500.0, 500.0, 500.0, 500.0, 500.0, 500.0, 500.0, 500.0, 500.0, 500.0, 500.0, 503.0, 503.0, 503.0, 506.0, 506.0, 506.0, 506.0, 507.0, 507.0, 508.0, 508.0, 510.0, 510.0, 513.0, 513.0, 514.0, 515.0, 518.0, 520.0, 521.0, 523.0, 525.0, 525.0, 525.0, 526.0, 527.0, 528.0, 529.0, 530.0, 532.0, 540.0, 540.0, 542.0, 544.0, 546.0, 547.0, 547.0, 549.0, 549.0, 549.0, 549.0, 550.0, 550.0, 550.0, 550.0, 550.0, 550.0, 550.0, 550.0, 550.0, 550.0, 550.0, 550.0, 550.0, 550.0, 552.0, 556.0, 557.0, 557.0, 558.0, 559.0, 560.0, 560.0, 560.0, 566.0, 567.0, 567.0, 567.0, 569.0, 570.0, 572.0, 574.0, 575.0, 575.0, 579.0, 580.0, 581.0, 584.0, 585.0, 585.0, 586.0, 587.0, 588.0, 589.0, 589.0, 590.0, 590.0, 590.0, 590.0, 594.0, 594.0, 595.0, 595.0, 595.0, 595.0, 595.0, 595.0, 595.0, 599.0, 599.0, 599.0, 599.0, 599.0, 599.0, 599.0, 599.0, 599.0, 599.0, 599.0, 599.0, 599.0, 600.0, 600.0, 600.0, 600.0, 600.0, 600.0, 600.0, 600.0, 600.0, 600.0, 600.0, 600.0, 600.0, 600.0, 600.0, 600.0, 600.0, 600.0, 600.0, 600.0, 600.0, 600.0, 600.0, 600.0, 600.0, 600.0, 600.0, 600.0, 600.0, 600.0, 600.0, 600.0, 600.0, 600.0, 600.0, 600.0, 600.0, 600.0, 600.0, 600.0, 600.0, 600.0, 600.0, 600.0, 600.0, 607.0, 613.0, 614.0, 614.0, 616.0, 616.0, 617.0, 619.0, 621.0, 621.0, 622.0, 628.0, 628.0, 628.0, 633.0, 634.0, 635.0, 635.0, 635.0, 635.0, 639.0, 643.0, 643.0, 645.0, 646.0, 646.0, 647.0, 649.0, 649.0, 650.0, 650.0, 650.0, 650.0, 650.0, 650.0, 650.0, 650.0, 650.0, 650.0, 650.0, 650.0, 650.0, 650.0, 650.0, 650.0, 650.0, 650.0, 650.0, 650.0, 650.0, 650.0, 652.0, 654.0, 655.0, 658.0, 663.0, 664.0, 664.0, 665.0, 665.0, 668.0, 672.0, 675.0, 675.0, 675.0, 675.0, 675.0, 677.0, 678.0, 680.0, 682.0, 685.0, 685.0, 686.0, 687.0, 688.0, 690.0, 693.0, 695.0, 699.0, 699.0, 699.0, 700.0, 700.0, 700.0, 700.0, 700.0, 700.0, 700.0, 700.0, 700.0, 700.0, 700.0, 700.0, 700.0, 700.0, 700.0, 713.0, 713.0, 714.0, 716.0, 720.0, 724.0, 725.0, 725.0, 728.0, 729.0, 733.0, 739.0, 743.0, 748.0, 749.0, 749.0, 749.0, 750.0, 750.0, 750.0, 750.0, 750.0, 750.0, 750.0, 750.0, 750.0, 750.0, 750.0, 750.0, 750.0, 750.0, 750.0, 750.0, 750.0, 750.0, 755.0, 757.0, 758.0, 759.0, 765.0, 769.0, 771.0, 771.0, 775.0, 779.0, 785.0, 786.0, 786.0, 789.0, 790.0, 790.0, 791.0, 792.0, 792.0, 793.0, 794.0, 795.0, 795.0, 799.0, 799.0, 799.0, 799.0, 799.0, 800.0, 800.0, 800.0, 800.0, 800.0, 800.0, 800.0, 800.0, 800.0, 800.0, 800.0, 800.0, 800.0, 800.0, 800.0, 800.0, 800.0, 800.0, 800.0, 800.0, 800.0, 800.0, 800.0, 800.0, 800.0, 800.0, 800.0, 800.0, 800.0, 800.0, 800.0, 800.0, 800.0, 800.0, 800.0, 800.0, 800.0, 807.0, 808.0, 814.0, 818.0, 833.0, 833.0, 840.0, 840.0, 843.0, 850.0, 850.0, 850.0, 850.0, 850.0, 850.0, 850.0, 850.0, 850.0, 851.0, 861.0, 864.0, 868.0, 871.0, 875.0, 882.0, 893.0, 899.0, 899.0, 899.0, 900.0, 900.0, 900.0, 900.0, 900.0, 900.0, 900.0, 900.0, 900.0, 900.0, 900.0, 900.0, 900.0, 900.0, 900.0, 900.0, 900.0, 909.0, 914.0, 914.0, 924.0, 925.0, 928.0, 930.0, 935.0, 935.0, 940.0, 946.0, 950.0, 950.0, 950.0, 950.0, 950.0, 956.0, 957.0, 957.0, 968.0, 971.0, 980.0, 980.0, 980.0, 980.0, 986.0, 987.0, 989.0, 992.0, 995.0, 995.0, 995.0, 995.0, 998.0, 999.0, 999.0, 999.0, 999.0, 999.0, 999.0, 1000.0, 1000.0, 1000.0, 1000.0, 1000.0, 1000.0, 1000.0, 1000.0, 1000.0, 1000.0, 1000.0, 1000.0, 1000.0, 1000.0, 1000.0, 1000.0, 1000.0, 1000.0, 1000.0, 1000.0, 1000.0, 1000.0, 1000.0, 1000.0, 1000.0, 1000.0, 1000.0, 1000.0, 1000.0, 1011.0, 1016.0, 1025.0, 1025.0, 1057.0, 1057.0, 1074.0, 1085.0, 1099.0, 1100.0, 1100.0, 1100.0, 1100.0, 1100.0, 1100.0, 1100.0, 1113.0, 1115.0, 1120.0, 1137.0, 1138.0, 1138.0, 1199.0, 1199.0, 1200.0, 1200.0, 1200.0, 1200.0, 1200.0, 1200.0, 1200.0, 1200.0, 1200.0, 1200.0, 1204.0, 1225.0, 1225.0, 1245.0, 1250.0, 1250.0, 1250.0, 1250.0, 1250.0, 1250.0, 1250.0, 1250.0, 1270.0, 1280.0, 1290.0, 1295.0, 1296.0, 1299.0, 1300.0, 1300.0, 1300.0, 1300.0, 1312.0, 1328.0, 1342.0, 1350.0, 1351.0, 1355.0, 1357.0, 1386.0, 1393.0, 1399.0, 1400.0, 1400.0, 1400.0, 1400.0, 1413.0, 1430.0, 1474.0, 1495.0, 1500.0, 1500.0, 1500.0, 1500.0, 1500.0, 1500.0, 1500.0, 1500.0, 1500.0, 1500.0, 1500.0, 1500.0, 1500.0, 1500.0, 1500.0, 1500.0, 1500.0, 1529.0, 1550.0, 1575.0, 1600.0, 1600.0, 1600.0, 1635.0, 1653.0, 1654.0, 1742.0, 1750.0, 1763.0, 1847.0, 1852.0, 1856.0, 1871.0, 1871.0, 1899.0, 1950.0, 1995.0, 1999.0, 1999.0, 2000.0, 2000.0, 2000.0, 2000.0, 2000.0, 2000.0, 2000.0, 2000.0, 2000.0, 2000.0, 2015.0, 2046.0, 2100.0, 2100.0, 2160.0, 2249.0, 2299.0, 2350.0, 2371.0, 2499.0, 2500.0, 2500.0, 2500.0, 2500.0, 2500.0, 2500.0, 2500.0, 2500.0, 2600.0, 2600.0, 2614.0, 2614.0, 2666.0, 2695.0, 2714.0, 2750.0, 2750.0, 2850.0, 2850.0, 2850.0, 2914.0, 3200.0, 3500.0, 3500.0, 3750.0, 3974.0, 4000.0, 4000.0, 4929.0, 5000.0, 5000.0, 5250.0, 6500.0, 7000.0, 7314.0, 9990.0, 9999.0, 10000.0, 10000.0, 10000.0, 10000.0, 10000.0, 10000.0]\n",
     "output_type": "stream"
    }
   ]
  },
  {
   "cell_type": "code",
   "metadata": {
    "cell_id": "0de4c792-7447-4f68-9228-4550720310f2",
    "tags": [],
    "deepnote_to_be_reexecuted": false,
    "source_hash": "a626e3a1",
    "execution_start": 1649345292739,
    "execution_millis": 61,
    "deepnote_cell_type": "code",
    "deepnote_cell_height": 527.71875
   },
   "source": "threshold = 1000\ntrain_vals = train['price'].values\nval_vals = val['price'].values\ntest_vals = test['price'].values\ntrain_left = 0\nval_left = 0\ntest_left = 0\nfor i in train_vals:\n    if i < threshold:\n        train_left += 1\nfor i in val_vals:\n    if i < threshold:\n        val_left += 1\nfor i in test_vals:\n    if i < threshold:\n        test_left += 1\nprint([train_left, val_left, test_left])\n\ntrain = train[train['price'] < threshold]\nval = val[val['price'] < threshold]\ntest = test[test['price'] < threshold]\n\nprint([train.shape, val.shape, test.shape])",
   "execution_count": null,
   "outputs": [
    {
     "name": "stdout",
     "text": "[22892, 4912, 4906]\n[(22892, 54), (4912, 54), (4906, 54)]\n",
     "output_type": "stream"
    }
   ]
  },
  {
   "cell_type": "code",
   "metadata": {
    "cell_id": "5944a75c-4a1b-48ea-bf77-bef79d8e3e7e",
    "tags": [],
    "deepnote_to_be_reexecuted": false,
    "source_hash": "63ddd068",
    "execution_start": 1649345294266,
    "execution_millis": 8,
    "deepnote_cell_type": "code",
    "deepnote_cell_height": 315
   },
   "source": "# from nltk.corpus import stopwords\nfrom nltk.stem import WordNetLemmatizer\nfrom nltk import word_tokenize\n\nlemmatizer = WordNetLemmatizer()\n# pattern = re.compile(r'\\b(' + r'|'.join(stopwords.words('english')) + r')\\b\\s*')\n# txt = pattern.sub('', txt)\ndef clean_text(txt):\n    txt = txt.translate(str.maketrans('', '', string.punctuation))\n    txt = re.sub(r'[^\\w\\s]','',txt)\n    txt = txt.lower()\n    txt = nltk.word_tokenize(txt)\n    txt = ' '.join(lemmatizer.lemmatize(w) for w in txt) #remove stopwords later\n    return txt",
   "execution_count": null,
   "outputs": []
  },
  {
   "cell_type": "code",
   "metadata": {
    "cell_id": "a9fadd29-390f-4349-be0a-b9a3f058cb04",
    "tags": [],
    "deepnote_to_be_reexecuted": false,
    "source_hash": "ed870043",
    "execution_start": 1649345299066,
    "execution_millis": 75,
    "deepnote_cell_type": "code",
    "deepnote_cell_height": 603
   },
   "source": "#fill in missing values\n# def fill_mean(df, col_name):\n#     tot = 0\n#     for i in df[col_name]:\n#         if i != 'No Data' and i == i:\n#             tot += float(i)\n#     mean = float(tot) / df.shape[0]\n#     df[col_name] = df[col_name].apply(lambda x: mean if x == 'No Data' or x != x else float(x))\n#     return mean, df\n\n# def fill_mean_val_test(df, col_name, mean):\n#     df[col_name] = df[col_name].apply(lambda x: mean if x == 'No Data' or x != x else float(x))\n#     return df\n\n# mean, train = fill_mean(train, 'host_response_rate')\n# val = fill_mean_val_test(val, 'host_response_rate', mean)\n# test = fill_mean_val_test(test, 'host_response_rate', mean)\n# mean, train = fill_mean(train, 'host_acceptance_rate')\n# val = fill_mean_val_test(val, 'host_acceptance_rate', mean)\n# test = fill_mean_val_test(test, 'host_acceptance_rate', mean)\ndef fill_zeroes(df, col_name):\n    df[col_name] = df[col_name].apply(lambda x: 0 if x == 'No Data' or x != x else float(x))\n    return df\n\ntrain = fill_zeroes(train, 'host_response_rate')\nval = fill_zeroes(val, 'host_response_rate')\ntest = fill_zeroes(test, 'host_response_rate')\ntrain = fill_zeroes(train, 'host_acceptance_rate')\nval = fill_zeroes(val, 'host_acceptance_rate')\ntest = fill_zeroes(test, 'host_acceptance_rate')",
   "execution_count": null,
   "outputs": []
  },
  {
   "cell_type": "code",
   "metadata": {
    "cell_id": "c4f57015-f679-4f77-928b-9f1e8b62b732",
    "tags": [],
    "deepnote_to_be_reexecuted": false,
    "source_hash": "93d53b64",
    "execution_start": 1649345302735,
    "execution_millis": 1301,
    "deepnote_cell_type": "code",
    "deepnote_cell_height": 531
   },
   "source": "#Standardising the numerical columns\nmeans_sd_dict = {} #to recover the means and sd used to standardise each feature\ndef standardise_train(df, col_name):\n    mean = np.mean(df[col_name])\n    sd = np.std(df[col_name])\n    df[col_name] = df[col_name].apply(lambda x: (x - mean) / sd)\n    means_sd_dict[col_name] = [mean, sd]\n    return df\n\ndef standardise_val_test(df, col_name):\n    mean = means_sd_dict[col_name][0]\n    sd = means_sd_dict[col_name][1]\n    df[col_name] = df[col_name].apply(lambda x: (x - mean) / sd)\n    return df\n\nnumerical_features = ['host_months', 'host_response_rate', 'host_acceptance_rate', \n'host_listings_count', 'accommodates', 'bedrooms', 'beds', 'price', 'latitude', 'longitude',\n'minimum_nights', 'maximum_nights', 'availability_30', 'availability_60', 'availability_90', \n'availability_365', 'number_of_reviews', 'number_of_reviews_ltm', 'number_of_reviews_l30d', \n'review_scores_rating', 'review_scores_accuracy', 'review_scores_cleanliness', \n'review_scores_checkin', 'review_scores_communication', 'review_scores_location', \n'review_scores_value', 'calculated_host_listings_count', 'dist_to_subway']\nfor feat in numerical_features:\n    train = standardise_train(train, feat)\n    val = standardise_val_test(val, feat)\n    test = standardise_val_test(test, feat)",
   "execution_count": null,
   "outputs": []
  },
  {
   "cell_type": "code",
   "metadata": {
    "cell_id": "19dadfd9-df25-4775-bb11-7066f9592031",
    "tags": [],
    "deepnote_to_be_reexecuted": false,
    "source_hash": "4583f220",
    "execution_start": 1649345305795,
    "execution_millis": 89789,
    "deepnote_cell_type": "code",
    "deepnote_cell_height": 981
   },
   "source": "#One hot encoding the categorical columns\nfrom sklearn.preprocessing import OneHotEncoder\nohe_dict = {} #store the ohes to transform the val and test correctly\nfeat_train_dict = {} #store all sparse matrices from the ohe. Will do hstack later\nfeat_val_dict = {}\nfeat_test_dict = {}\ndef one_hot_train(df, col_name):\n    enc = OneHotEncoder(drop = 'first')\n    vals = df[col_name].values.reshape(-1, 1)\n    if 'no data' not in df[col_name].unique():\n        label_to_change = df[col_name].value_counts().index[-1]\n        for i in range(len(vals)):\n            if vals[i] == label_to_change:\n                vals[i] = 'no data'\n    trf = enc.fit_transform(vals)\n    feat_train_dict[col_name] = trf\n    ohe_dict[col_name] = enc\n    return\n\ndef one_hot_val(df, col_name):\n    enc = ohe_dict[col_name]\n    curr_cats = enc.categories_[0]\n    vals = df[col_name].values.reshape(-1, 1)\n    for i in range(len(vals)):\n        if vals[i] not in curr_cats:\n            vals[i] = 'no data'\n    trf = enc.transform(vals)\n    feat_val_dict[col_name] = trf\n    return\n\ndef one_hot_test(df, col_name):\n    enc = ohe_dict[col_name]\n    curr_cats = enc.categories_[0]\n    vals = df[col_name].values.reshape(-1, 1)\n    for i in range(len(vals)):\n        if vals[i] not in curr_cats:\n            vals[i] = 'no data'\n    trf = enc.transform(vals)\n    feat_test_dict[col_name] = trf\n    return \n\ncategorical_features = ['host_response_time', 'host_is_superhost', 'host_has_profile_pic', \n'host_identity_verified', 'neighbourhood', 'neighbourhood_cleansed', 'neighbourhood_group_cleansed', \n'property_type', 'room_type', 'has_availability', 'instant_bookable']\nfor feat in categorical_features:\n    train[feat] = train[feat].apply(clean_text)\n    one_hot_train(train, feat)\n    val[feat] = val[feat].apply(clean_text)\n    one_hot_val(val, feat)\n    test[feat] = test[feat].apply(clean_text)\n    one_hot_test(test, feat)",
   "execution_count": null,
   "outputs": []
  },
  {
   "cell_type": "code",
   "metadata": {
    "cell_id": "6e85e7a6-13bf-4b45-a492-f9c3370a0ba7",
    "tags": [],
    "deepnote_to_be_reexecuted": false,
    "source_hash": "d56b8a61",
    "execution_start": 1649345395585,
    "execution_millis": 20,
    "deepnote_cell_type": "code",
    "deepnote_cell_height": 316.1875
   },
   "source": "tot = 0\n\n#ohe_encs = list(ohe_dict.keys())\nfor i in feat_train_dict:\n    tot += feat_train_dict[i].shape[1]\n    #tot += len(ohe_dict[i].categories_[0])\n    # print(feat_train_dict[i].shape[1])\n    # print(len(ohe_dict[ohe_encs[0]].categories_[0]) - 1)\n    # print(ohe_dict[ohe_encs[0]].categories_)\n    # break\n\ntot",
   "execution_count": null,
   "outputs": [
    {
     "output_type": "execute_result",
     "execution_count": 35,
     "data": {
      "text/plain": "405"
     },
     "metadata": {}
    }
   ]
  },
  {
   "cell_type": "code",
   "metadata": {
    "cell_id": "836c84ee-e47e-48eb-8e2e-655d2e7684cd",
    "tags": [],
    "deepnote_to_be_reexecuted": false,
    "source_hash": "8e03e65b",
    "execution_start": 1649345395585,
    "execution_millis": 641,
    "deepnote_cell_type": "code",
    "deepnote_cell_height": 1269
   },
   "source": "#handle bathrooms_text (apply thermometer encoding)\ndef thermometer_encoding_train(df, col_name):\n    vals = df[col_name].values\n    unique = sorted(df[col_name].unique())\n    full = np.zeros((df.shape[0], len(unique)))\n    for i in range(len(vals)):\n        curr = vals[i]\n        idx = np.where(curr == unique)[0][0] + 1\n        full[i,:idx] = 1\n    full = full[:,1:]\n    full = sparse.csr_matrix(full)\n    feat_train_dict[col_name] = full\n    return unique\n\ndef thermometer_encoding_val(df, col_name, unique):\n    vals = df[col_name].values\n    full = np.zeros((df.shape[0], len(unique)))\n    for i in range(len(vals)):\n        curr = vals[i]\n        idx = np.where(curr == unique)[0][0] + 1\n        full[i,:idx] = 1\n    full = full[:,1:]\n    full = sparse.csr_matrix(full)\n    feat_val_dict[col_name] = full\n    return\n\ndef find_index(arr, num):\n    idx = 0\n    while idx < len(arr):\n        if arr[idx] > num:\n            return idx\n        idx += 1\n    idx -= 1\n    return idx\n\ndef thermometer_encoding_test(df, col_name, unique):\n    vals = df[col_name].values\n    full = np.zeros((df.shape[0], len(unique)))\n    for i in range(len(vals)):\n        curr = vals[i]\n        try:\n            idx = np.where(curr == unique)[0][0] + 1\n        except Exception: #unseen number, have to round up, cannot have 'Others' as a category\n            idx = find_index(unique, curr) + 1\n        full[i,:idx] = 1\n    full = full[:,1:]\n    full = sparse.csr_matrix(full)\n    feat_test_dict[col_name] = full\n    return\n\nunique = thermometer_encoding_train(train, 'bathrooms_text')\nthermometer_encoding_val(val, 'bathrooms_text', unique)\nthermometer_encoding_test(test, 'bathrooms_text', unique)\n\n# train['bathrooms_text'] = train['bathrooms_text'].apply(str)\n# val['bathrooms_text'] = val['bathrooms_text'].apply(str)\n# test['bathrooms_text'] = test['bathrooms_text'].apply(str)\n# one_hot_train(train, 'bathrooms_text')\n# one_hot_val(val, 'bathrooms_text')\n# one_hot_test(test, 'bathrooms_text')\n\n# mean, train = fill_mean(train, 'bathrooms_text')\n# val = fill_mean_val_test(val, 'bathrooms_text', mean)\n# test = fill_mean_val_test(test, 'bathrooms_text', mean)\n# train = standardise_train(train, 'bathrooms_text')\n# val = standardise_val_test(val, 'bathrooms_text')\n# test = standardise_val_test(test, 'bathrooms_text')",
   "execution_count": null,
   "outputs": []
  },
  {
   "cell_type": "code",
   "metadata": {
    "cell_id": "89b9e67e-6773-402f-82f8-a568cc35e71e",
    "tags": [],
    "deepnote_to_be_reexecuted": false,
    "source_hash": "3ea5283f",
    "execution_start": 1649345396236,
    "execution_millis": 38,
    "deepnote_cell_type": "code",
    "deepnote_cell_height": 118.1875
   },
   "source": "feat_train_dict['bathrooms_text'].shape",
   "execution_count": null,
   "outputs": [
    {
     "output_type": "execute_result",
     "execution_count": 37,
     "data": {
      "text/plain": "(22892, 14)"
     },
     "metadata": {}
    }
   ]
  },
  {
   "cell_type": "code",
   "metadata": {
    "cell_id": "60b16319-ea26-4b24-8c4d-22c6570b4f24",
    "tags": [],
    "deepnote_to_be_reexecuted": false,
    "source_hash": "1765285a",
    "execution_start": 1649345396286,
    "execution_millis": 14,
    "deepnote_cell_type": "code",
    "deepnote_cell_height": 207
   },
   "source": "#clean amenities_str first\ndef clean_amenities(txt):\n    if txt != txt:\n        return []\n    lst = []\n    for i in txt[1:-1].split(','):\n        lst.append(clean_text(i))\n    return lst",
   "execution_count": null,
   "outputs": []
  },
  {
   "cell_type": "code",
   "metadata": {
    "cell_id": "13095fe3-07c2-4ec1-9ccf-ec216a344d30",
    "tags": [],
    "deepnote_to_be_reexecuted": false,
    "source_hash": "5f90d7c5",
    "execution_start": 1649345396315,
    "execution_millis": 204581,
    "output_cleared": false,
    "deepnote_cell_type": "code",
    "deepnote_cell_height": 860.125
   },
   "source": "from sklearn.preprocessing import MultiLabelBinarizer\n#Multi hot encoded vector for amenities\nmhe_dict = {} #store the mhes to transform the val and test correctly\nmhe_train_dict = {} #store all sparse matrices from the mhe. Will do hstack later\nmhe_val_dict = {}\nmhe_test_dict = {}\n\ndef multi_hot_train(df, col_name):\n    mlb = MultiLabelBinarizer(sparse_output = True)\n    vals = df[col_name].values\n    for i in range(len(vals)):\n        # if type(vals[i]) != list:\n        vals[i] = clean_amenities(vals[i])\n    trf = mlb.fit_transform(vals)\n    mhe_dict[col_name] = mlb\n    mhe_train_dict[col_name] = trf\n    return\n\ndef multi_hot_val(df, col_name):\n    mlb = mhe_dict[col_name]\n    vals = df[col_name].values\n    for i in range(len(vals)):\n        vals[i] = clean_amenities(vals[i])\n    trf = mlb.transform(vals)\n    mhe_val_dict[col_name] = trf\n    return\n\ndef multi_hot_test(df, col_name):\n    mlb = mhe_dict[col_name]\n    vals = df[col_name].values\n    for i in range(len(vals)):\n        vals[i] = clean_amenities(vals[i])\n    trf = mlb.transform(vals)\n    mhe_test_dict[col_name] = trf\n    return\n\nmulti_hot_train(train, 'amenities_str')\nmulti_hot_val(val, 'amenities_str')\nmulti_hot_test(test, 'amenities_str')",
   "execution_count": null,
   "outputs": [
    {
     "name": "stderr",
     "text": "/shared-libs/python3.9/py/lib/python3.9/site-packages/sklearn/preprocessing/_label.py:875: UserWarning: unknown class(es) ['100 hdtv', '19 tv with amazon prime video', '24 hdtv with amazon prime video', '25 tv with netflix', '34 hdtv', '34 hdtv with premium cable', '35 tv with', '36 hdtv', '37 tv with amazon prime video', '40 tv with premium cable', '40 tv with roku', '46 hdtv with premium cable', '47 hdtv with premium cable', '49 hdtv', '54 tv with standard cable', '57 hdtv with amazon prime video', '60 tv with netflix', '65 hdtv with apple tv', '65 hdtv with premium cable', '75 hdtv with roku', 'a french brand made 100 with marseille soap body soap', 'amazon shampoo', 'americana refrigerator', 'and others on occassion conditioner', 'and xbox series x', 'antibacterial body soap', 'antibacterial conditioner', 'antibacterial shampoo', 'any body soap', 'assorted body soap', 'assorted shampoo', 'audioengine bluetooth sound system', 'bang olufsen google speaker sound system with bluetooth and aux', 'basic shampoo', 'bath bath body soap', 'bed head conditioner', 'bed head shampoo', 'bluetooth speaker sound system with bluetooth and aux', 'body wash and soap body soap', 'bos bluetooth sound system', 'breck essential conditioner', 'breck essential shampoo', 'build in speaker bluetooth sound system', 'burt bee body soap', 'condtilner conditioner', 'dedicated workspace monitor and desk', 'delonoghi oven', 'designer restaurant quality brand stainless steel induction stove', 'dial and breck essential body soap', 'dispenser in shower brand may vary shampoo', 'dispenser in shower brand varies body soap', 'dispenser in shower brand varies conditioner', 'dos bluetooth sound system', 'double door haier refrigerator', 'dove clean shampoo', 'dove olay body soap', 'dove soap body soap', 'dove unsented body soap', 'dr bronneru2019s purecastile soap body soap', 'dr bronzeru2019s body soap', 'drove body soap', 'dynaudio onkyo sound system with bluetooth and aux', 'echo show 8 bluetooth sound system', 'echo sound system', 'ecotouch electric cooktop induction stove', 'edifier bluetooth sound system', 'electric stove and oven oven', 'energy refrigerator', 'energy stainless steel oven', 'fast wifi u2013 183 mbps', 'fast wifi u2013 194 mbps', 'fast wifi u2013 226 mbps', 'fast wifi u2013 244 mbps', 'fast wifi u2013 281 mbps', 'fast wifi u2013 316 mbps', 'fast wifi u2013 320 mbps', 'fast wifi u2013 331 mbps', 'fast wifi u2013 340 mbps', 'fast wifi u2013 408 mbps', 'fast wifi u2013 413 mbps', 'fast wifi u2013 444 mbps', 'fast wifi u2013 461 mbps', 'fast wifi u2013 500 mbps', 'fast wifi u2013 52 mbps', 'fast wifi u2013 526 mbps', 'fast wifi u2013 618 mbps', 'fast wifi u2013 628 mbps', 'fast wifi u2013 64 mbps', 'fast wifi u2013 669 mbps', 'fast wifi u2013 692 mbps', 'fast wifi u2013 72 mbps', 'fast wifi u2013 85 mbps', 'fast wifi u2013 99 mbps', 'fisher and paykel refrigerator', 'for hair shampoo', 'freesens', 'frigdaire refrigerator', 'frigidaire conditioner', 'frigidaire with ice maker refrigerator', 'full size refrigerator', 'game console nintendo wii and xbox 360', 'game console nintendo wii u', 'game console ps4 and xbox one', 'gas stainless steel oven', 'general electric ge stainless steel gas stove', 'general electric ge stainless steel oven', 'generic electric stove', 'generic refrigerator', 'generic stainless steel oven', 'giovanni organic shampoo', 'google play bluetooth sound system', 'hair conditioner', 'hair shampoo', 'haire stainless steel electric stove', 'have the room letter you can use the space refrigerator', 'hotpoint electric stove', 'ikea stainless steel gas stove', 'iris spring body soap', 'irish spring or dove body bar body soap', 'ivory body soap body soap', 'ivory product conditioner', 'jbl small speaker bluetooth sound system', 'joico conditioner', 'joico shampoo', 'keep food cold refrigerator', 'kennmore stove', 'kiehlu2019s', 'kirkland conditioner', 'kirkland shampoo', 'kitchen ait oven', 'kitchen ait stove', 'kitchenaid refrigerator', 'kitchenaid stainless steel gas stove', 'lauriel conditioner', 'le remu00e8det conditioner', 'le remu00e8det shampoo', 'leibherr refrigerator', 'lg soundbar bluetooth sound system', 'lihljkhkljhklj shampoo', 'liquid soap body soap', 'many body soap', 'many brandu2019s available body soap', 'marshall speaker sound system with bluetooth and aux', 'matrix conditioner', 'mcintosh sound system with aux', 'miele gas stove', 'mielle conditioner', 'mielle shampoo', 'na gas stove', 'na oven', 'natural aloe and oatmeal body soap', 'no disclosed body soap', 'no disclosed conditioner', 'no disclosed gas stove', 'no disclosed oven', 'no disclosed shampoo', 'ocean body soap', 'ogm free and dove gel body soap', 'olay', 'olay ultra moisture plus body wash body soap', 'onkyo bluetooth sound system', 'organic 3 in 1 body soap', 'oven oven', 'palmolive conditioner', 'pantane all in one shampoo', 'pantene', 'pantene advanced care 5in1 conditioner conditioner', 'pantene advanced care 5in1 shampoo shampoo', 'please request room with oven stainless steel oven', 'power airfryer 360 stainless steel oven', 'product from eco science body soap', 'product from eco science conditioner', 'product from eco science shampoo', 'ps4', 'rosewood and soft rice scrub soap body soap', 'samsung stove', 'sauve', 'shampooconditioner combination conditioner', 'shea butter coconut conditioner', 'shea moisture body soap', 'shiseido super mild green conditioner conditioner', 'shiseido super mild hair shampoo shampoo', 'spirit bath soap body soap', 'steel fridigaire refrigerator', 'stovetop work oven doe not gas stove', 'suave professional 2 in 1 shampoo and conditioner conditioner', 'suave professional 2 in 1 shampoo and conditioner shampoo', 'surround sound bluetooth sound system', 'tbd body soap', 'tbd shampoo', 'tres somme conditioner', 'tres somme shampoo', 'tresemme body soap', 'trisemme shampoo', 'tropical island body soap', 'tropical island conditioner', 'tv have bluetooth audio to play music bluetooth sound system', 'u2026 body soap', 'u2026 conditioner', 'u2026 shampoo', 'unify bluetooth sound system', 'unknown gas stove', 'unsure gas stove', 'usb speaker bluetooth sound system', 'usually trader joeu2019s tea tree tingle body soap', 'v05', 'v05 and other variety shampoo', 'various brand for mean', 'various refrigerator', 'viking 6burner stainless steel gas stove', 'vizio 41 bluetooth sound system', 'vizio sound system with bluetooth and aux', 'whole food 360 body soap', 'whole food 360 shampoo', 'whole food 365 shampoo', 'wifi u2013 38 mbps', 'wifi u2013 41 mbps', 'wking bluetooth sound system', 'woman and child a packaged bar of soap is provided in each bathroom and liquid soap i also offer a variety of bubble bath bath body shop product meyers hand soap body soap', 'yamaha high end stereo system installed at your request sound system with aux', 'yamaha sound system with bluetooth and aux', 'your choice of branded soap just let u know body soap', 'your choice of shampooconditioner just let u know conditioner'] will be ignored\n  warnings.warn(\n/shared-libs/python3.9/py/lib/python3.9/site-packages/sklearn/preprocessing/_label.py:875: UserWarning: unknown class(es) ['120 hdtv with premium cable', '32 tv with hbo max', '36 hdtv with standard cable', '4 gas burner cook top stove', '40 hdtv with premium cable', '42 hdtv with hbo max', '48 hdtv', '51 hdtv', '54 hdtv with chromecast', '60 tv', '65 hdtv with premium cable', '65 tv with netflix', '75 hdtv with standard cable', '84 hdtv with netflix', '84 hdtv with standard cable', 'a varity of brand body soap', 'a varity of brand conditioner', 'a varity of brand shampoo', 'airfrier stainless steel oven', 'alexa echo device sound system', 'alexa sound system with bluetooth and aux', 'all fragrance body soap', 'all natural', 'also audiotechnica record player and speaker sound system with bluetooth and aux', 'amana refrigerator', 'amazon alexa echo dot bluetooth sound system', 'amazon echo play music with alexa sound system', 'american range gas stove', 'apple homepod apple device only and portable jbl bluetooth speaker bluetooth sound system', 'apple pod bluetooth sound system', 'arganatural coconut oil shampoo shampoo', 'avanti apartment size fridge refrigerator', 'awesome sound system with bluetooth and aux', 'babo botanical shampoo', 'bath and body work conditioner', 'beatbox and jbl sound system with bluetooth and aux', 'bed bath beyond body soap', 'bed bath beyond conditioner', 'bed bath beyond shampoo', 'bed head conditioner', 'bed head shampoo', 'belisso', 'berhinger c200 sound system with bluetooth and aux', 'bigelow body soap', 'bigelow conditioner', 'blind barber body soap', 'bose solo 5 soundbar bluetooth sound system', 'bose sound system sound system with bluetooth and aux', 'bose upstairs', 'brand body soap', 'brand conditioner', 'brand shampoo', 'convection microwave oven oven', 'cuisinart stainless steel oven', 'daikin inverter conditioner', 'dedicated workspace monitor and desk', 'dial', 'dial and aveeno body soap', 'diffrent brand body soap', 'dove o dial conditioner', 'dove sensitive bar soap body soap', 'dove sensitive skin body soap', 'doveolay body soap', 'doveovaypantene shampoo', 'dr brenneru2019s and dove body soap', 'dr bronners pure castille bar soap body soap', 'electric oven oven', 'fast wifi u2013 100 mbps', 'fast wifi u2013 122 mbps', 'fast wifi u2013 140 mbps', 'fast wifi u2013 152 mbps', 'fast wifi u2013 153 mbps', 'fast wifi u2013 189 mbps', 'fast wifi u2013 206 mbps', 'fast wifi u2013 226 mbps', 'fast wifi u2013 288 mbps', 'fast wifi u2013 292 mbps', 'fast wifi u2013 328 mbps', 'fast wifi u2013 337 mbps', 'fast wifi u2013 386 mbps', 'fast wifi u2013 397 mbps', 'fast wifi u2013 439 mbps', 'fast wifi u2013 442 mbps', 'fast wifi u2013 502 mbps', 'fast wifi u2013 534 mbps', 'fast wifi u2013 667 mbps', 'fast wifi u2013 686 mbps', 'fast wifi u2013 694 mbps', 'fast wifi u2013 78 mbps', 'fast wifi u2013 86 mbps', 'fast wifi u2013 92 mbps', 'for sensitive skin body soap', 'four burner gas range and oven oven', 'free carport on premise u2013 2 space', 'frigifaire refrigerator', 'game console ps4 and xbox 360', 'game console ps4 and xbox one', 'garnier shampoo', 'gas oven with stove oven', 'gasland chef gh60bf stainless steel gas stove', 'ge monogram refrigerator', 'general electric electric stove', 'general electric stove', 'giovanni shampoo', 'gugguennau oven', 'h shampoo', 'haier stainless steel electric stove', 'haier stainless steel oven', 'hamilton beach stainless steel oven', 'head and shoulder', 'highend conditioner in either rosemary mint vanilla or citrus lavender conditioner', 'highend shampoo in either rosemary mint vanilla or citrus lavender shampoo', 'home brand gas stove', 'home brand oven', 'home brand refrigerator', 'homedepot oven', 'hotpoint stainless steel electric stove', 'humankind plasticfree conditioner', 'humankind plasticfree shampoo', 'i have vintage 20 gear in several place in the apartment sound system with bluetooth and aux', 'ice and water dispenser from the door refrigerator', 'ihome sound system with bluetooth and aux', 'in bathroom inceiling system bluetooth sound system', 'jack black', 'jbl charge 4 speaker', 'jbl for anywhere else bluetooth sound system', 'jennair stainless steel gas stove', 'jennair stainless steel oven', 'ju00c4son conditioner', 'ju00c4son shampoo', 'kenmoore oven', 'kenmoore refrigerator', 'kenmoore stainless steel gas stove', 'kenmore', 'kenmore gas stainless steel oven', 'kenmore wall oven oven', 'kerastase conditioner', 'kerastase shampoo', 'khiels body soap', 'khiels conditioner', 'khiels shampoo', 'kiehlu2019s body soap', 'kiehlu2019s conditioner', 'kirkland signature natural body wash trader joes bodywash dr bronners organic castile soap body soap', 'kitchenaid stainless steel gas stove', 'known brand body soap', 'known brand conditioner', 'known brand shampoo', 'leibher refrigerator', 'leibherr refrigerator', 'love beauty planet coconut water mimosa refreshing body wash soap body soap', 'love beauty planet shampoo', 'lu2019ocittane body soap', 'maisonovo body soap', 'maisonovo conditioner', 'malingoetz body soap', 'marshal echo bluetooth sound system', 'marshal sound system with bluetooth and aux', 'marshall blue tooth speaker bluetooth sound system', 'marshall stanmore speaker bluetooth sound system', 'marshall stockwell portable bluetooth speaker bluetooth sound system', 'meile gas stove', 'miele stove', 'mini speaker sound system with aux', 'muxury body soap', 'my business give soap wwwigivesoapcom body soap', 'nexor conditioner', 'nexus conditioner', 'olaplex conditioner', 'olaplex shampoo', 'old style oven', 'one sunday body soap', 'organic lemongrass body soap', 'oven stainless steel oven', 'paid parking garage on premise u2013 20 space', 'paid parking lot on premise u2013 10 space', 'paid parking lot on premise u2013 3 space', 'pentinne shampoo', 'plaine body wash plaine is a zero waste refillable bottle all natural ingredient brand scent of either rosemary mint vanilla or citrus lavender body soap', 'plaine zero waste', 'plant based body soap', 'plant based conditioner', 'playa shampoo', 'private outdoor heated pool', 'random body soap', 'random conditioner', 'refrigdale refrigerator', 'refrigerator refrigerator', 'samsung double door fridge and freezer with water and ice dispenser refrigerator', 'samsung microwaveconvectionair fryer stainless steel oven', 'samsung stainless steel stove', 'samsung stove', 'samsung surround sound sound system', 'shiseido super mild green conditioner', 'shiseido super mild green shampoo', 'small apartment sized which you are welcome to share refrigerator', 'sonos wireless speaker bluetooth sound system', 'soundbox in living room', 'speaker sound system with aux', 'spotify amazon music sound system with bluetooth and aux', 'stove stainless steel gas stove', 'stove top cook plate stove', 'suave or similar conditioner', 'suave or similar shampoo', 'tivoli sound system with bluetooth and aux', 'tom body soap', 'ue boom bluetooth sound system', 'unisex premium brand body soap', 'unisex premium brand conditioner', 'unisex premium brand shampoo', 'unk oven', 'unk refrigerator', 'unknown body soap', 'unknown conditioner', 'uptown soap co body soap', 'usually dove body soap', 'vary body soap', 'vary conditioner', 'verb shampoo', 'vo5 pomegranate conditioner', 'vo5 pomegranate shampoo', 'welcome to use the gas fired stove gas stove', 'whatever is on sale body soap', 'whatever is on sale conditioner', 'wifi u2013 16 mbps', 'wifi u2013 37 mbps', 'wifi u2013 39 mbps', 'william roam body soap', 'william roam conditioner', 'william roam shampoo', 'with shampoo conditioner', 'work great gas powered oven', 'yamaha soundbar bluetooth sound system'] will be ignored\n  warnings.warn(\n",
     "output_type": "stream"
    }
   ]
  },
  {
   "cell_type": "code",
   "metadata": {
    "cell_id": "1f04dc69-8991-4cac-bfe4-cbc6fe60c970",
    "tags": [],
    "deepnote_to_be_reexecuted": false,
    "source_hash": "db4fa8e7",
    "execution_start": 1649345600952,
    "execution_millis": 3,
    "deepnote_cell_type": "code",
    "deepnote_cell_height": 118.1875
   },
   "source": "len(mhe_dict['amenities_str'].classes_)",
   "execution_count": null,
   "outputs": [
    {
     "output_type": "execute_result",
     "execution_count": 40,
     "data": {
      "text/plain": "1913"
     },
     "metadata": {}
    }
   ]
  },
  {
   "cell_type": "code",
   "metadata": {
    "cell_id": "964b5c10-779d-4a8f-938a-d6825468c3ce",
    "tags": [],
    "deepnote_to_be_reexecuted": false,
    "source_hash": "842ea4a7",
    "execution_start": 1649345601043,
    "execution_millis": 80293,
    "deepnote_cell_type": "code",
    "deepnote_cell_height": 189
   },
   "source": "#transform the text col\nfrom sklearn.feature_extraction.text import TfidfVectorizer\n\ntext_vec = TfidfVectorizer(max_df = 0.5, min_df = 0.005)\ntext_train = text_vec.fit_transform(train['combined_text'])\ntext_val = text_vec.transform(val['combined_text'])\ntext_test = text_vec.transform(test['combined_text'])",
   "execution_count": null,
   "outputs": []
  },
  {
   "cell_type": "code",
   "metadata": {
    "cell_id": "d9f87ff0-d5ce-4b4d-b0ab-df149d355385",
    "tags": [],
    "deepnote_to_be_reexecuted": false,
    "source_hash": "73f89838",
    "execution_start": 1649345681337,
    "execution_millis": 2,
    "deepnote_cell_type": "code",
    "deepnote_cell_height": 118.1875
   },
   "source": "len(text_vec.vocabulary_)",
   "execution_count": null,
   "outputs": [
    {
     "output_type": "execute_result",
     "execution_count": 42,
     "data": {
      "text/plain": "4402"
     },
     "metadata": {}
    }
   ]
  },
  {
   "cell_type": "code",
   "metadata": {
    "cell_id": "e369a724-8761-4d90-8e6e-40f337ff4812",
    "tags": [],
    "deepnote_to_be_reexecuted": false,
    "source_hash": "718d7de6",
    "execution_start": 1647858783607,
    "execution_millis": 41,
    "deepnote_cell_type": "code",
    "deepnote_cell_height": 711
   },
   "source": "import pickle\n\nall_features = list(text_vec.get_feature_names_out())\nall_features = list(map(lambda x: 'Word ' + str(x), all_features))\n# all_features = []\n\nfor i in numerical_features:\n    if i == 'price':\n        continue\n    all_features.append('Numerical ' + i)\n\nfor i in categorical_features:\n    num_cats = feat_train_dict[i].shape[1]\n    curr_ohe = ohe_dict[i].categories_[0][1:]\n    for j in range(num_cats):\n        curr = \"Categorical \" + i + \" \" + str(curr_ohe[j])\n        all_features.append(curr)\n\nnum_cats = feat_train_dict['bathrooms_text'].shape[1]\nunique = sorted(train['bathrooms_text'].unique())[1:]\nfor j in range(num_cats):\n    curr = 'Categorical bathrooms_text '+ str(unique[j])\n    all_features.append(curr)\n\nnum_cats = mhe_train_dict['amenities_str'].shape[1]\ncurr_mhe = mhe_dict['amenities_str'].classes_\nfor j in range(num_cats):\n    curr = 'Categorical amenities_str '+str(curr_mhe[j])\n    all_features.append(curr)\n\nfeatures_dict = {}\nfor i in range(len(all_features)):\n    features_dict[i] = all_features[i]\n\nwith open('NY_SG_no_review_ratings_feat_dict.pkl', 'wb') as f:\n    pickle.dump(features_dict, f)",
   "execution_count": null,
   "outputs": []
  },
  {
   "cell_type": "code",
   "metadata": {
    "cell_id": "a63980d7-6bef-4bfa-8d88-a34eeede209e",
    "tags": [],
    "deepnote_to_be_reexecuted": false,
    "source_hash": "f4bcea3b",
    "execution_start": 1649345681339,
    "execution_millis": 6837,
    "deepnote_cell_type": "code",
    "deepnote_cell_height": 949.828125
   },
   "source": "#stacking everything together\ndef get_X(text, df, feat_dict, mhe_dict):\n    X = text\n    # X = sparse.csr_matrix(np.array(df[numerical_features[0]]).reshape(df.shape[0], 1))\n    print(X.shape)\n    for i in numerical_features:\n        if i == 'price':\n            continue\n        X = sparse.hstack((X, np.array(df[i]).reshape(-1, 1)))\n    print(X.shape)\n    for i in categorical_features:\n        X = sparse.hstack((X, feat_dict[i]))\n    print(X.shape)\n    # X = sparse.hstack((X, np.array(df['bathrooms_text']).reshape(-1, 1)))\n    X = sparse.hstack((X, feat_dict['bathrooms_text']))\n    print(X.shape)\n    X = sparse.hstack((X, mhe_dict['amenities_str']))\n    print(X.shape)\n    return X\n\ndef get_Y(df):\n    return df['price']\n\nX_train = get_X(text_train, train, feat_train_dict, mhe_train_dict)\ny_train = get_Y(train)\nX_val = get_X(text_val, val, feat_val_dict, mhe_val_dict)\ny_val = get_Y(val)\nX_test = get_X(text_test, test, feat_test_dict, mhe_test_dict)\ny_test = get_Y(test)\n\nprint([X_train.shape, y_train.shape, X_val.shape, y_val.shape, X_test.shape, y_test.shape])",
   "execution_count": null,
   "outputs": [
    {
     "name": "stdout",
     "text": "(22892, 4402)\n(22892, 4429)\n(22892, 4834)\n(22892, 4848)\n(22892, 6761)\n(4912, 4402)\n(4912, 4429)\n(4912, 4834)\n(4912, 4848)\n(4912, 6761)\n(4906, 4402)\n(4906, 4429)\n(4906, 4834)\n(4906, 4848)\n(4906, 6761)\n[(22892, 6761), (22892,), (4912, 6761), (4912,), (4906, 6761), (4906,)]\n",
     "output_type": "stream"
    }
   ]
  },
  {
   "cell_type": "markdown",
   "source": "text = combined_text\n\nnumerical = host_months, host_response_rate, host_acceptance_rate, host_listings_count, latitude, longitude, accommodates, bedrooms, beds, price, minimum_nights, maximum_nights, availability_30, availability_60, availability_90, availability_365, number_of_reviews, number_of_reviews_ltm, number_of_reviews_l30d, review_scores_rating, review_scores_accuracy, review_scores_cleanliness, review_scores_checkin, review_scores_communication, review_scores_location, review_scores_value, calculated_host_listings_count\n\ncategorical = host_response_time, host_is_superhost, host_has_profile_pic, host_identity_verified, neighbourhood, neighbourhood_cleansed, neighbourhood_group_cleansed, property_type, room_type, has_availability, instant_bookable\n\nspecial treatment: bathrooms_text (fill in with mean), amenities_str (categorical, multi-hot vector)",
   "metadata": {
    "cell_id": "8afa7293-895a-4c67-ab1e-3123e334d0d8",
    "tags": [],
    "deepnote_cell_type": "markdown",
    "deepnote_cell_height": 318.34375
   }
  },
  {
   "cell_type": "code",
   "metadata": {
    "cell_id": "c1dcff03-3325-41b7-83ac-3c09398357f4",
    "tags": [],
    "deepnote_to_be_reexecuted": false,
    "source_hash": "238deaa7",
    "execution_start": 1647858859624,
    "execution_millis": 1323,
    "deepnote_cell_type": "code",
    "deepnote_cell_height": 405
   },
   "source": "import pickle\n\nwith open('NY_SG_no_review_ratings_x_train.pkl', 'wb') as f:\n    pickle.dump(X_train, f)\n\nwith open('NY_SG_no_review_ratings_y_train.pkl', 'wb') as f:\n    pickle.dump(y_train, f)\n\nwith open('NY_SG_no_review_ratings_x_val.pkl', 'wb') as f:\n    pickle.dump(X_val, f)\n\nwith open('NY_SG_no_review_ratings_y_val.pkl', 'wb') as f:\n    pickle.dump(y_val, f)\n\nwith open('NY_SG_no_review_ratings_x_test.pkl', 'wb') as f:\n    pickle.dump(X_test, f)\n\nwith open('NY_SG_no_review_ratings_y_test.pkl', 'wb') as f:\n    pickle.dump(y_test, f)",
   "execution_count": null,
   "outputs": []
  },
  {
   "cell_type": "code",
   "metadata": {
    "cell_id": "fb0c8791-1d2f-49ef-bcfc-b984eaf3747e",
    "tags": [],
    "deepnote_to_be_reexecuted": false,
    "source_hash": "1999ea77",
    "execution_start": 1647056825096,
    "execution_millis": 263,
    "deepnote_cell_type": "code",
    "deepnote_cell_height": 118.1875
   },
   "source": "means_sd_dict['price'] #to recover the predictions after modelling",
   "execution_count": null,
   "outputs": [
    {
     "output_type": "execute_result",
     "execution_count": 45,
     "data": {
      "text/plain": "[142.32670802026908, 120.8693951814902]"
     },
     "metadata": {}
    }
   ]
  },
  {
   "cell_type": "markdown",
   "source": "<a style='text-decoration:none;line-height:16px;display:flex;color:#5B5B62;padding:10px;justify-content:end;' href='https://deepnote.com?utm_source=created-in-deepnote-cell&projectId=2a92d0af-cecf-4cde-96f5-c3db3a7f88f1' target=\"_blank\">\n<img alt='Created in deepnote.com' style='display:inline;max-height:16px;margin:0px;margin-right:7.5px;' src='data:image/svg+xml;base64,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' > </img>\nCreated in <span style='font-weight:600;margin-left:4px;'>Deepnote</span></a>",
   "metadata": {
    "tags": [],
    "created_in_deepnote_cell": true,
    "deepnote_cell_type": "markdown"
   }
  }
 ],
 "nbformat": 4,
 "nbformat_minor": 2,
 "metadata": {
  "orig_nbformat": 2,
  "deepnote": {
   "is_reactive": false
  },
  "deepnote_notebook_id": "43356b9c-119c-42a8-9bbc-ea1301c33171",
  "deepnote_execution_queue": []
 }
}