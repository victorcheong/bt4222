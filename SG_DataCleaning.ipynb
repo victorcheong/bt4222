{
 "cells": [
  {
   "cell_type": "markdown",
   "source": "## Singapore Data",
   "metadata": {
    "cell_id": "9773f228-ed8e-479b-9174-b8eecaca68b0",
    "deepnote_cell_type": "markdown",
    "deepnote_cell_height": 70.171875
   }
  },
  {
   "cell_type": "markdown",
   "source": "## Import Libraries",
   "metadata": {
    "deepnote_app_coordinates": {
     "h": 5,
     "w": 12,
     "x": 0,
     "y": null
    },
    "tags": [],
    "cell_id": "00001-bccbba1d-0339-4cf0-8c8f-8fdb36035105",
    "deepnote_cell_type": "markdown",
    "deepnote_cell_height": 70.171875
   }
  },
  {
   "cell_type": "code",
   "metadata": {
    "deepnote_app_coordinates": {
     "h": 5,
     "w": 12,
     "x": 0,
     "y": 6
    },
    "deepnote_to_be_reexecuted": false,
    "execution_millis": 229912609,
    "execution_start": 1647321015661,
    "source_hash": "1b968743",
    "cell_id": "00002-3c7377af-94ca-40a8-94c5-8a81295a021b",
    "deepnote_cell_type": "code",
    "deepnote_cell_height": 117.15625
   },
   "source": "import re\nimport numpy as np\nimport pandas as pd",
   "outputs": [],
   "execution_count": null
  },
  {
   "cell_type": "markdown",
   "source": "##  Reviews Dataset",
   "metadata": {
    "deepnote_app_coordinates": {
     "h": 5,
     "w": 12,
     "x": 0,
     "y": 12
    },
    "tags": [],
    "cell_id": "00003-6e2f98f4-b664-4d32-9914-28be967d7eaa",
    "deepnote_cell_type": "markdown",
    "deepnote_cell_height": 70.171875
   }
  },
  {
   "cell_type": "code",
   "metadata": {
    "deepnote_app_coordinates": {
     "h": 5,
     "w": 12,
     "x": 0,
     "y": 18
    },
    "deepnote_to_be_reexecuted": false,
    "execution_millis": 477,
    "execution_start": 1647321015718,
    "source_hash": "2d35d69b",
    "cell_id": "00004-fa02d9fb-9b34-4dc2-866e-782e916a2262",
    "deepnote_cell_type": "code",
    "deepnote_cell_height": 419.625,
    "deepnote_output_heights": [
     177.671875
    ]
   },
   "source": "# Load Data - Reviews\nreviews = pd.read_csv('SG_reviews.csv', encoding='utf-8')\nreviews.head()",
   "outputs": [
    {
     "output_type": "execute_result",
     "execution_count": 2,
     "data": {
      "application/vnd.deepnote.dataframe.v3+json": {
       "column_count": 6,
       "row_count": 5,
       "columns": [
        {
         "name": "listing_id",
         "dtype": "int64",
         "stats": {
          "unique_count": 1,
          "nan_count": 0,
          "min": "50646",
          "max": "50646",
          "histogram": [
           {
            "bin_start": 50645.5,
            "bin_end": 50645.6,
            "count": 0
           },
           {
            "bin_start": 50645.6,
            "bin_end": 50645.7,
            "count": 0
           },
           {
            "bin_start": 50645.7,
            "bin_end": 50645.8,
            "count": 0
           },
           {
            "bin_start": 50645.8,
            "bin_end": 50645.9,
            "count": 0
           },
           {
            "bin_start": 50645.9,
            "bin_end": 50646,
            "count": 0
           },
           {
            "bin_start": 50646,
            "bin_end": 50646.1,
            "count": 5
           },
           {
            "bin_start": 50646.1,
            "bin_end": 50646.2,
            "count": 0
           },
           {
            "bin_start": 50646.2,
            "bin_end": 50646.3,
            "count": 0
           },
           {
            "bin_start": 50646.3,
            "bin_end": 50646.4,
            "count": 0
           },
           {
            "bin_start": 50646.4,
            "bin_end": 50646.5,
            "count": 0
           }
          ]
         }
        },
        {
         "name": "id",
         "dtype": "int64",
         "stats": {
          "unique_count": 5,
          "nan_count": 0,
          "min": "11909864",
          "max": "15552912",
          "histogram": [
           {
            "bin_start": 11909864,
            "bin_end": 12274168.8,
            "count": 1
           },
           {
            "bin_start": 12274168.8,
            "bin_end": 12638473.6,
            "count": 0
           },
           {
            "bin_start": 12638473.6,
            "bin_end": 13002778.4,
            "count": 0
           },
           {
            "bin_start": 13002778.4,
            "bin_end": 13367083.2,
            "count": 0
           },
           {
            "bin_start": 13367083.2,
            "bin_end": 13731388,
            "count": 0
           },
           {
            "bin_start": 13731388,
            "bin_end": 14095692.8,
            "count": 1
           },
           {
            "bin_start": 14095692.8,
            "bin_end": 14459997.6,
            "count": 0
           },
           {
            "bin_start": 14459997.6,
            "bin_end": 14824302.4,
            "count": 0
           },
           {
            "bin_start": 14824302.4,
            "bin_end": 15188607.2,
            "count": 1
           },
           {
            "bin_start": 15188607.2,
            "bin_end": 15552912,
            "count": 2
           }
          ]
         }
        },
        {
         "name": "date",
         "dtype": "object",
         "stats": {
          "unique_count": 5,
          "nan_count": 0,
          "categories": [
           {
            "name": "2014-04-18",
            "count": 1
           },
           {
            "name": "2014-06-05",
            "count": 1
           },
           {
            "name": "3 others",
            "count": 3
           }
          ]
         }
        },
        {
         "name": "reviewer_id",
         "dtype": "int64",
         "stats": {
          "unique_count": 5,
          "nan_count": 0,
          "min": "817532",
          "max": "15222393",
          "histogram": [
           {
            "bin_start": 817532,
            "bin_end": 2258018.1,
            "count": 2
           },
           {
            "bin_start": 2258018.1,
            "bin_end": 3698504.2,
            "count": 0
           },
           {
            "bin_start": 3698504.2,
            "bin_end": 5138990.300000001,
            "count": 0
           },
           {
            "bin_start": 5138990.300000001,
            "bin_end": 6579476.4,
            "count": 1
           },
           {
            "bin_start": 6579476.4,
            "bin_end": 8019962.5,
            "count": 0
           },
           {
            "bin_start": 8019962.5,
            "bin_end": 9460448.600000001,
            "count": 0
           },
           {
            "bin_start": 9460448.600000001,
            "bin_end": 10900934.700000001,
            "count": 0
           },
           {
            "bin_start": 10900934.700000001,
            "bin_end": 12341420.8,
            "count": 1
           },
           {
            "bin_start": 12341420.8,
            "bin_end": 13781906.9,
            "count": 0
           },
           {
            "bin_start": 13781906.9,
            "bin_end": 15222393,
            "count": 1
           }
          ]
         }
        },
        {
         "name": "reviewer_name",
         "dtype": "object",
         "stats": {
          "unique_count": 5,
          "nan_count": 0,
          "categories": [
           {
            "name": "James",
            "count": 1
           },
           {
            "name": "Welli",
            "count": 1
           },
           {
            "name": "3 others",
            "count": 3
           }
          ]
         }
        },
        {
         "name": "comments",
         "dtype": "object",
         "stats": {
          "unique_count": 5,
          "nan_count": 0,
          "categories": [
           {
            "name": "A comfortable room in a smart condo development. Everything was kept very clean and I had the use of my own bathroom. Sujatha and her husband are great hosts - very friendly and accommodating. I'll be staying here again.",
            "count": 1
           },
           {
            "name": "Stayed over at Sujatha's house for 3 good nights with my boyfriend. Sujatha and her husband are great hosts, very welcoming and friendly. The room is comfortable and clean. I'm happy to have my own bathroom as i'm particular with shared bathroom. \r<br/>The location is accessible. A few minutes walk from the house to nearest bus stop which can bring you to town.\r<br/>Good place, good hosts, good price.\r<br/>Highly recommended!",
            "count": 1
           },
           {
            "name": "3 others",
            "count": 3
           }
          ]
         }
        },
        {
         "name": "_deepnote_index_column",
         "dtype": "int64"
        }
       ],
       "rows": [
        {
         "listing_id": 50646,
         "id": 11909864,
         "date": "2014-04-18",
         "reviewer_id": 1356099,
         "reviewer_name": "James",
         "comments": "A comfortable room in a smart condo development. Everything was kept very clean and I had the use o…",
         "_deepnote_index_column": 0
        },
        {
         "listing_id": 50646,
         "id": 13823948,
         "date": "2014-06-05",
         "reviewer_id": 15222393,
         "reviewer_name": "Welli",
         "comments": "Stayed over at Sujatha's house for 3 good nights with my boyfriend. Sujatha and her husband are gre…",
         "_deepnote_index_column": 1
        },
        {
         "listing_id": 50646,
         "id": 15117222,
         "date": "2014-07-02",
         "reviewer_id": 5543172,
         "reviewer_name": "Cyril",
         "comments": "It's been a lovely stay at Sujatha's. The room is clean and the location is just perfect for a stop…",
         "_deepnote_index_column": 2
        },
        {
         "listing_id": 50646,
         "id": 15426462,
         "date": "2014-07-08",
         "reviewer_id": 817532,
         "reviewer_name": "Jake",
         "comments": "We had a great experience. A nice place, an amazing complex and easy access to public transit",
         "_deepnote_index_column": 3
        },
        {
         "listing_id": 50646,
         "id": 15552912,
         "date": "2014-07-11",
         "reviewer_id": 10942382,
         "reviewer_name": "Subba",
         "comments": "Quiet condo. Comfortable stay and good location.",
         "_deepnote_index_column": 4
        }
       ]
      },
      "text/plain": "   listing_id        id        date  reviewer_id reviewer_name  \\\n0       50646  11909864  2014-04-18      1356099         James   \n1       50646  13823948  2014-06-05     15222393         Welli   \n2       50646  15117222  2014-07-02      5543172         Cyril   \n3       50646  15426462  2014-07-08       817532          Jake   \n4       50646  15552912  2014-07-11     10942382         Subba   \n\n                                            comments  \n0  A comfortable room in a smart condo developmen...  \n1  Stayed over at Sujatha's house for 3 good nigh...  \n2  It's been a lovely stay at Sujatha's. The room...  \n3  We had a great experience. A nice place, an am...  \n4   Quiet condo. Comfortable stay and good location.  ",
      "text/html": "<div>\n<style scoped>\n    .dataframe tbody tr th:only-of-type {\n        vertical-align: middle;\n    }\n\n    .dataframe tbody tr th {\n        vertical-align: top;\n    }\n\n    .dataframe thead th {\n        text-align: right;\n    }\n</style>\n<table border=\"1\" class=\"dataframe\">\n  <thead>\n    <tr style=\"text-align: right;\">\n      <th></th>\n      <th>listing_id</th>\n      <th>id</th>\n      <th>date</th>\n      <th>reviewer_id</th>\n      <th>reviewer_name</th>\n      <th>comments</th>\n    </tr>\n  </thead>\n  <tbody>\n    <tr>\n      <th>0</th>\n      <td>50646</td>\n      <td>11909864</td>\n      <td>2014-04-18</td>\n      <td>1356099</td>\n      <td>James</td>\n      <td>A comfortable room in a smart condo developmen...</td>\n    </tr>\n    <tr>\n      <th>1</th>\n      <td>50646</td>\n      <td>13823948</td>\n      <td>2014-06-05</td>\n      <td>15222393</td>\n      <td>Welli</td>\n      <td>Stayed over at Sujatha's house for 3 good nigh...</td>\n    </tr>\n    <tr>\n      <th>2</th>\n      <td>50646</td>\n      <td>15117222</td>\n      <td>2014-07-02</td>\n      <td>5543172</td>\n      <td>Cyril</td>\n      <td>It's been a lovely stay at Sujatha's. The room...</td>\n    </tr>\n    <tr>\n      <th>3</th>\n      <td>50646</td>\n      <td>15426462</td>\n      <td>2014-07-08</td>\n      <td>817532</td>\n      <td>Jake</td>\n      <td>We had a great experience. A nice place, an am...</td>\n    </tr>\n    <tr>\n      <th>4</th>\n      <td>50646</td>\n      <td>15552912</td>\n      <td>2014-07-11</td>\n      <td>10942382</td>\n      <td>Subba</td>\n      <td>Quiet condo. Comfortable stay and good location.</td>\n    </tr>\n  </tbody>\n</table>\n</div>"
     },
     "metadata": {}
    }
   ],
   "execution_count": null
  },
  {
   "cell_type": "code",
   "metadata": {
    "deepnote_app_coordinates": {
     "h": 5,
     "w": 12,
     "x": 0,
     "y": 24
    },
    "deepnote_to_be_reexecuted": false,
    "execution_millis": 106,
    "execution_start": 1647321016281,
    "source_hash": "f972137e",
    "cell_id": "00005-dd5c6c9a-5802-4872-b7c0-05fa15369fe1",
    "deepnote_cell_type": "code",
    "deepnote_cell_height": 341.640625
   },
   "source": "reviews.info()",
   "outputs": [
    {
     "name": "stdout",
     "text": "<class 'pandas.core.frame.DataFrame'>\nRangeIndex: 43239 entries, 0 to 43238\nData columns (total 6 columns):\n #   Column         Non-Null Count  Dtype \n---  ------         --------------  ----- \n 0   listing_id     43239 non-null  int64 \n 1   id             43239 non-null  int64 \n 2   date           43239 non-null  object\n 3   reviewer_id    43239 non-null  int64 \n 4   reviewer_name  43239 non-null  object\n 5   comments       43143 non-null  object\ndtypes: int64(3), object(3)\nmemory usage: 2.0+ MB\n",
     "output_type": "stream"
    }
   ],
   "execution_count": null
  },
  {
   "cell_type": "markdown",
   "source": "### Drop Columns",
   "metadata": {
    "deepnote_app_coordinates": {
     "h": 5,
     "w": 12,
     "x": 0,
     "y": 30
    },
    "tags": [],
    "cell_id": "00006-e6c134e9-9a40-4da6-b517-8aa1ef73f8a0",
    "deepnote_cell_type": "markdown",
    "deepnote_cell_height": 62.15625
   }
  },
  {
   "cell_type": "code",
   "metadata": {
    "deepnote_app_coordinates": {
     "h": 5,
     "w": 12,
     "x": 0,
     "y": 36
    },
    "deepnote_to_be_reexecuted": false,
    "execution_millis": 1,
    "execution_start": 1647321016371,
    "source_hash": "ab1f0273",
    "cell_id": "00007-ce149b11-6574-4ab8-9609-cd830a343af6",
    "deepnote_cell_type": "code",
    "deepnote_cell_height": 99.15625
   },
   "source": "# Keep necessary columns - listing_id and comments\nreviews = reviews[['listing_id', 'comments']]",
   "outputs": [],
   "execution_count": null
  },
  {
   "cell_type": "markdown",
   "source": "### Remove Empty Reviews",
   "metadata": {
    "deepnote_app_coordinates": {
     "h": 5,
     "w": 12,
     "x": 0,
     "y": 42
    },
    "tags": [],
    "cell_id": "00008-3ac9568f-9721-4499-9191-0ac5de915375",
    "deepnote_cell_type": "markdown",
    "deepnote_cell_height": 62.15625
   }
  },
  {
   "cell_type": "code",
   "metadata": {
    "deepnote_app_coordinates": {
     "h": 5,
     "w": 12,
     "x": 0,
     "y": 48
    },
    "deepnote_to_be_reexecuted": false,
    "execution_millis": 0,
    "execution_start": 1647321016377,
    "source_hash": "543aac27",
    "cell_id": "00009-4361e30f-ff54-499d-a60a-1da2238e07c5",
    "deepnote_cell_type": "code",
    "deepnote_cell_height": 135.171875
   },
   "source": "# Count how many missing values there are in every column \ndef count_null_df(df):\n     check_nulls = df.isna().sum()\n     return check_nulls[check_nulls != 0]",
   "outputs": [],
   "execution_count": null
  },
  {
   "cell_type": "code",
   "metadata": {
    "deepnote_app_coordinates": {
     "h": 5,
     "w": 12,
     "x": 0,
     "y": 54
    },
    "deepnote_to_be_reexecuted": false,
    "execution_millis": 107,
    "execution_start": 1647321016378,
    "source_hash": "aa07e91f",
    "tags": [],
    "cell_id": "00010-32ba6b74-2c6d-44c2-bc77-3cd472676480",
    "deepnote_cell_type": "code",
    "deepnote_cell_height": 155.59375,
    "deepnote_output_heights": [
     40.34375
    ]
   },
   "source": "count_null_df(reviews)\n# There are 165 rows of missing comments, which will be removed",
   "outputs": [
    {
     "output_type": "execute_result",
     "execution_count": 6,
     "data": {
      "text/plain": "comments    96\ndtype: int64"
     },
     "metadata": {}
    }
   ],
   "execution_count": null
  },
  {
   "cell_type": "code",
   "metadata": {
    "deepnote_app_coordinates": {
     "h": 5,
     "w": 12,
     "x": 0,
     "y": 60
    },
    "deepnote_to_be_reexecuted": false,
    "execution_millis": 11,
    "execution_start": 1647321016477,
    "source_hash": "b5e351ea",
    "cell_id": "00011-aa189297-8664-457f-b65f-31fe1b78f24e",
    "deepnote_cell_type": "code",
    "deepnote_cell_height": 99.15625
   },
   "source": "# Drop null values\nreviews = reviews.dropna(axis=0, subset=['comments'])",
   "outputs": [],
   "execution_count": null
  },
  {
   "cell_type": "markdown",
   "source": "### Remove HTML Tags ",
   "metadata": {
    "deepnote_app_coordinates": {
     "h": 5,
     "w": 12,
     "x": 0,
     "y": 66
    },
    "tags": [],
    "cell_id": "00012-ab3c6ff3-6233-46e9-ab84-0954f31f9292",
    "deepnote_cell_type": "markdown",
    "deepnote_cell_height": 62.15625
   }
  },
  {
   "cell_type": "code",
   "metadata": {
    "deepnote_app_coordinates": {
     "h": 5,
     "w": 12,
     "x": 0,
     "y": 72
    },
    "deepnote_to_be_reexecuted": false,
    "execution_millis": 0,
    "execution_start": 1647321016489,
    "source_hash": "ed508fec",
    "tags": [],
    "cell_id": "00013-c570eec5-938e-4726-b375-37e6221ecf1f",
    "deepnote_cell_type": "code",
    "deepnote_cell_height": 135.171875
   },
   "source": "def remove_tags(df, col):\n    df[col] = df[col].str.replace(r'<[^<>]*>', ' ', regex=True)\n    df[col] = df[col].str.replace(u'\\xa0',' ')\n    return df",
   "outputs": [],
   "execution_count": null
  },
  {
   "cell_type": "code",
   "metadata": {
    "deepnote_app_coordinates": {
     "h": 5,
     "w": 12,
     "x": 0,
     "y": 78
    },
    "deepnote_to_be_reexecuted": false,
    "execution_millis": 256,
    "execution_start": 1647321016489,
    "source_hash": "52616ff5",
    "tags": [],
    "cell_id": "00014-e9602253-9182-43bb-b08a-059a1a083a3b",
    "deepnote_cell_type": "code",
    "deepnote_cell_height": 81.15625
   },
   "source": "reviews = remove_tags(reviews, 'comments')",
   "outputs": [],
   "execution_count": null
  },
  {
   "cell_type": "code",
   "metadata": {
    "deepnote_app_coordinates": {
     "h": 5,
     "w": 12,
     "x": 0,
     "y": 84
    },
    "deepnote_to_be_reexecuted": false,
    "execution_millis": 1199,
    "execution_start": 1647321016753,
    "source_hash": "b672d09",
    "tags": [],
    "cell_id": "00015-ac0b42dc-9798-42e1-a118-1984e40b3d0d",
    "deepnote_cell_type": "code",
    "deepnote_cell_height": 99.15625
   },
   "source": "# Cleaning completed\nreviews.to_csv('SG_cleaned_reviews.csv', index=False)",
   "outputs": [],
   "execution_count": null
  },
  {
   "cell_type": "markdown",
   "source": "## Listings Dataset",
   "metadata": {
    "deepnote_app_coordinates": {
     "h": 5,
     "w": 12,
     "x": 0,
     "y": 90
    },
    "cell_id": "00016-2bf9943c-0143-4c8f-aac4-bccd7257ab2b",
    "deepnote_cell_type": "markdown",
    "deepnote_cell_height": 70.171875
   }
  },
  {
   "cell_type": "code",
   "metadata": {
    "deepnote_app_coordinates": {
     "h": 5,
     "w": 12,
     "x": 0,
     "y": 96
    },
    "deepnote_to_be_reexecuted": false,
    "execution_millis": 927,
    "execution_start": 1647321017957,
    "source_hash": "7f8f5aef",
    "cell_id": "00017-258dc80f-7035-4687-8db3-849c60343ab7",
    "deepnote_cell_type": "code",
    "deepnote_cell_height": 438.515625,
    "deepnote_output_heights": [
     208.859375
    ]
   },
   "source": "# Load Data - Listings\nlistings = pd.read_csv('SG_listings.csv', encoding='utf-8')\nlistings.head()",
   "outputs": [
    {
     "output_type": "execute_result",
     "execution_count": 11,
     "data": {
      "application/vnd.deepnote.dataframe.v3+json": {
       "column_count": 74,
       "row_count": 5,
       "columns": [
        {
         "name": "id",
         "dtype": "int64",
         "stats": {
          "unique_count": 5,
          "nan_count": 0,
          "min": "50646",
          "max": "275343",
          "histogram": [
           {
            "bin_start": 50646,
            "bin_end": 73115.7,
            "count": 4
           },
           {
            "bin_start": 73115.7,
            "bin_end": 95585.4,
            "count": 0
           },
           {
            "bin_start": 95585.4,
            "bin_end": 118055.1,
            "count": 0
           },
           {
            "bin_start": 118055.1,
            "bin_end": 140524.8,
            "count": 0
           },
           {
            "bin_start": 140524.8,
            "bin_end": 162994.5,
            "count": 0
           },
           {
            "bin_start": 162994.5,
            "bin_end": 185464.2,
            "count": 0
           },
           {
            "bin_start": 185464.2,
            "bin_end": 207933.9,
            "count": 0
           },
           {
            "bin_start": 207933.9,
            "bin_end": 230403.6,
            "count": 0
           },
           {
            "bin_start": 230403.6,
            "bin_end": 252873.30000000002,
            "count": 0
           },
           {
            "bin_start": 252873.30000000002,
            "bin_end": 275343,
            "count": 1
           }
          ]
         }
        },
        {
         "name": "listing_url",
         "dtype": "object",
         "stats": {
          "unique_count": 5,
          "nan_count": 0,
          "categories": [
           {
            "name": "https://www.airbnb.com/rooms/50646",
            "count": 1
           },
           {
            "name": "https://www.airbnb.com/rooms/71609",
            "count": 1
           },
           {
            "name": "3 others",
            "count": 3
           }
          ]
         }
        },
        {
         "name": "scrape_id",
         "dtype": "int64",
         "stats": {
          "unique_count": 1,
          "nan_count": 0,
          "min": "20211226165704",
          "max": "20211226165704",
          "histogram": [
           {
            "bin_start": 20211226165703.5,
            "bin_end": 20211226165703.6,
            "count": 0
           },
           {
            "bin_start": 20211226165703.6,
            "bin_end": 20211226165703.7,
            "count": 0
           },
           {
            "bin_start": 20211226165703.7,
            "bin_end": 20211226165703.8,
            "count": 0
           },
           {
            "bin_start": 20211226165703.8,
            "bin_end": 20211226165703.9,
            "count": 0
           },
           {
            "bin_start": 20211226165703.9,
            "bin_end": 20211226165704,
            "count": 0
           },
           {
            "bin_start": 20211226165704,
            "bin_end": 20211226165704.1,
            "count": 5
           },
           {
            "bin_start": 20211226165704.1,
            "bin_end": 20211226165704.2,
            "count": 0
           },
           {
            "bin_start": 20211226165704.2,
            "bin_end": 20211226165704.3,
            "count": 0
           },
           {
            "bin_start": 20211226165704.3,
            "bin_end": 20211226165704.4,
            "count": 0
           },
           {
            "bin_start": 20211226165704.4,
            "bin_end": 20211226165704.5,
            "count": 0
           }
          ]
         }
        },
        {
         "name": "last_scraped",
         "dtype": "object",
         "stats": {
          "unique_count": 1,
          "nan_count": 0,
          "categories": [
           {
            "name": "2021-12-27",
            "count": 5
           }
          ]
         }
        },
        {
         "name": "name",
         "dtype": "object",
         "stats": {
          "unique_count": 5,
          "nan_count": 0,
          "categories": [
           {
            "name": "Pleasant Room along Bukit Timah",
            "count": 1
           },
           {
            "name": "Ensuite Room (Room 1 & 2) near EXPO",
            "count": 1
           },
           {
            "name": "3 others",
            "count": 3
           }
          ]
         }
        },
        {
         "name": "description",
         "dtype": "object",
         "stats": {
          "unique_count": 5,
          "nan_count": 0,
          "categories": [
           {
            "name": "Fully furnished bedroom with a nice view on the 10th floor of a newly built private condominium on one of the  most preferred residential estates in Singapore.<br /><br /><b>The space</b><br />Good Condition room, bright & windy. Comes with TV, Aircon, Bed, wardrobe. Can accommodate couples or 2 ladies or students for long-term rental only.<br /><br /><b>Guest access</b><br />Kitchen, washing facilities, gym, swimming pool, etc.<br /><br /><b>Other things to note</b><br />Accommodation has a queen size bed.  Suitable for Single, couples. The room cannot accommodate more than 2 adults.",
            "count": 1
           },
           {
            "name": "For 3 rooms.Book room 1&2 and room 4<br /><br /><b>The space</b><br />Landed Homestay Room for Rental. Between Simei and Expo Mrt. 2 bustop distance or 10-15min walking distant to Simei MRT.Bus n(phone number hidden).Clean and well maintain aircon room. We also provide Short and Long term room rental .Free 24 hrs Wireless Internet Access Available.<br />Rates are inclusive of utilities & wifi internet.<br />Both room can accomodate up to 6 max.<br />Complimentary:<br />Use of washer, iron with ironing board, hairdryer, towels, toiletries & change of bedding for extended stay. For use of Dryer additional charge of $10 will be imposed. Light cooking is allowed.Use of Gas<br />subject to cooking not for use of drying clothes or misuse will be charged at $10 per min<br /><br />Neighbourhood:<br />A residential area, with schools, shopping malls, sports facilities such as gym, basketball & badminton courts at Changi Simei CC.<br />Food Courts/Coffee Shop<br />At least 5 of them in the vicin",
            "count": 1
           },
           {
            "name": "3 others",
            "count": 3
           }
          ]
         }
        },
        {
         "name": "neighborhood_overview",
         "dtype": "object",
         "stats": {
          "unique_count": 2,
          "nan_count": 3,
          "categories": [
           {
            "name": "The serenity & quiet surrounding makes it an ideal place to come back to after work / play. Lovely birds chirping for a nice morning wake up (if you leave the windows open) are a pleasure to wake up to.  Located on the main road but at just a short walk in makes it an ideal neighbourhood with excellent transport facilities & food, supermarket, etc, all as required for a convenient living.",
            "count": 1
           },
           {
            "name": "Quiet and view of the playground with exercise tracks with access to neighbourhood Simwi Estate.",
            "count": 1
           },
           {
            "name": "Missing",
            "count": 3
           }
          ]
         }
        },
        {
         "name": "picture_url",
         "dtype": "object",
         "stats": {
          "unique_count": 5,
          "nan_count": 0,
          "categories": [
           {
            "name": "https://a0.muscache.com/pictures/36342984/670d98e1_original.jpg",
            "count": 1
           },
           {
            "name": "https://a0.muscache.com/pictures/24453191/35803acb_original.jpg",
            "count": 1
           },
           {
            "name": "3 others",
            "count": 3
           }
          ]
         }
        },
        {
         "name": "host_id",
         "dtype": "int64",
         "stats": {
          "unique_count": 3,
          "nan_count": 0,
          "min": "227796",
          "max": "1439258",
          "histogram": [
           {
            "bin_start": 227796,
            "bin_end": 348942.2,
            "count": 1
           },
           {
            "bin_start": 348942.2,
            "bin_end": 470088.4,
            "count": 3
           },
           {
            "bin_start": 470088.4,
            "bin_end": 591234.6,
            "count": 0
           },
           {
            "bin_start": 591234.6,
            "bin_end": 712380.8,
            "count": 0
           },
           {
            "bin_start": 712380.8,
            "bin_end": 833527,
            "count": 0
           },
           {
            "bin_start": 833527,
            "bin_end": 954673.2,
            "count": 0
           },
           {
            "bin_start": 954673.2,
            "bin_end": 1075819.4,
            "count": 0
           },
           {
            "bin_start": 1075819.4,
            "bin_end": 1196965.6,
            "count": 0
           },
           {
            "bin_start": 1196965.6,
            "bin_end": 1318111.8,
            "count": 0
           },
           {
            "bin_start": 1318111.8,
            "bin_end": 1439258,
            "count": 1
           }
          ]
         }
        },
        {
         "name": "host_url",
         "dtype": "object",
         "stats": {
          "unique_count": 3,
          "nan_count": 0,
          "categories": [
           {
            "name": "https://www.airbnb.com/users/show/367042",
            "count": 3
           },
           {
            "name": "https://www.airbnb.com/users/show/227796",
            "count": 1
           },
           {
            "name": "https://www.airbnb.com/users/show/1439258",
            "count": 1
           }
          ]
         }
        },
        {
         "name": "host_name",
         "dtype": "object",
         "stats": {
          "unique_count": 3,
          "nan_count": 0,
          "categories": [
           {
            "name": "Belinda",
            "count": 3
           },
           {
            "name": "Sujatha",
            "count": 1
           },
           {
            "name": "Joyce",
            "count": 1
           }
          ]
         }
        },
        {
         "name": "host_since",
         "dtype": "object",
         "stats": {
          "unique_count": 3,
          "nan_count": 0,
          "categories": [
           {
            "name": "2011-01-29",
            "count": 3
           },
           {
            "name": "2010-09-08",
            "count": 1
           },
           {
            "name": "2011-11-24",
            "count": 1
           }
          ]
         }
        },
        {
         "name": "host_location",
         "dtype": "object",
         "stats": {
          "unique_count": 2,
          "nan_count": 0,
          "categories": [
           {
            "name": "Singapore",
            "count": 3
           },
           {
            "name": "Singapore, Singapore",
            "count": 2
           }
          ]
         }
        },
        {
         "name": "host_about",
         "dtype": "object",
         "stats": {
          "unique_count": 3,
          "nan_count": 0,
          "categories": [
           {
            "name": "Hi My name is Belinda -Housekeeper \r\n\r\nI would like to welcome you to my \"Homestay Website\" \r\n\r\nIf you are looking for affordable,cosy and comfortable accomodation for a short term or holiday units ,this is the idea place where you cannot miss it. \r\n\r\nAccomodation for: \r\n\r\n- an extended stay for studies, min 6 months\r\n- business,\r\n- training \r\n- transitional period before settling in Singapore \r\n\r\nRoom rental are available for min 6 month.Room rental dependi on the choice of a common sharing room (family suite) ,a standard room,a deluxe room or a triplet room which varies in sizes. We hope to give you a warm home feeling here with sweet dreams. Please forgive us if we cannot meet your  high expectations.We will try our best to make your stay as comfortable as a homestay.\r\n\r\nRegards\r\nBelinda",
            "count": 3
           },
           {
            "name": "I am a working professional, living in Singapore with my husband & 2 daughters.  \r\n\r\n",
            "count": 1
           },
           {
            "name": "K2 Guesthouse is designed for guests who want a truly local experience with local people. Experience eating local food in a local home away from home! \n\nWe love meeting new people, exchanging cultures, food, language and most of all spending some time in the evening after work to relax with a glass of wine or a can of beer when the weather becomes unbearable!\n\nRead my reviews and when you get here, ask for the guest book, you will get to know heaps of great friends across the globe! \n\nAlso - Finally being an Airbnb host since 2011, we have obtained our Hotel License to legally operate in Singapore for short term stays!\n\nWe would like to take this opportunity to appreciate all our faithful long term guests who have stayed and support us during all these years.  Please come back to our the new K2 Guesthouse at South Buona Vista. \n\nWe'd love to have you with us :) \n\nJoyce & family (Woon) \n",
            "count": 1
           }
          ]
         }
        },
        {
         "name": "host_response_time",
         "dtype": "object",
         "stats": {
          "unique_count": 2,
          "nan_count": 1,
          "categories": [
           {
            "name": "within a day",
            "count": 3
           },
           {
            "name": "within a few hours",
            "count": 1
           },
           {
            "name": "Missing",
            "count": 1
           }
          ]
         }
        },
        {
         "name": "host_response_rate",
         "dtype": "object",
         "stats": {
          "unique_count": 2,
          "nan_count": 1,
          "categories": [
           {
            "name": "100%",
            "count": 3
           },
           {
            "name": "87%",
            "count": 1
           },
           {
            "name": "Missing",
            "count": 1
           }
          ]
         }
        },
        {
         "name": "host_acceptance_rate",
         "dtype": "object",
         "stats": {
          "unique_count": 1,
          "nan_count": 4,
          "categories": [
           {
            "name": "77%",
            "count": 1
           },
           {
            "name": "Missing",
            "count": 4
           }
          ]
         }
        },
        {
         "name": "host_is_superhost",
         "dtype": "object",
         "stats": {
          "unique_count": 1,
          "nan_count": 0,
          "categories": [
           {
            "name": "f",
            "count": 5
           }
          ]
         }
        },
        {
         "name": "host_thumbnail_url",
         "dtype": "object",
         "stats": {
          "unique_count": 3,
          "nan_count": 0,
          "categories": [
           {
            "name": "https://a0.muscache.com/im/users/367042/profile_pic/1382521511/original.jpg?aki_policy=profile_small",
            "count": 3
           },
           {
            "name": "https://a0.muscache.com/im/pictures/user/8fd2cddb-2795-40b8-8231-d3a34dc3a1e4.jpg?aki_policy=profile_small",
            "count": 1
           },
           {
            "name": "https://a0.muscache.com/im/pictures/user/dad356e6-7b61-46c6-943e-40742a748d99.jpg?aki_policy=profile_small",
            "count": 1
           }
          ]
         }
        },
        {
         "name": "host_picture_url",
         "dtype": "object",
         "stats": {
          "unique_count": 3,
          "nan_count": 0,
          "categories": [
           {
            "name": "https://a0.muscache.com/im/users/367042/profile_pic/1382521511/original.jpg?aki_policy=profile_x_medium",
            "count": 3
           },
           {
            "name": "https://a0.muscache.com/im/pictures/user/8fd2cddb-2795-40b8-8231-d3a34dc3a1e4.jpg?aki_policy=profile_x_medium",
            "count": 1
           },
           {
            "name": "https://a0.muscache.com/im/pictures/user/dad356e6-7b61-46c6-943e-40742a748d99.jpg?aki_policy=profile_x_medium",
            "count": 1
           }
          ]
         }
        },
        {
         "name": "host_neighbourhood",
         "dtype": "object",
         "stats": {
          "unique_count": 3,
          "nan_count": 0,
          "categories": [
           {
            "name": "Tampines",
            "count": 3
           },
           {
            "name": "Bukit Timah",
            "count": 1
           },
           {
            "name": "Bukit Merah",
            "count": 1
           }
          ]
         }
        },
        {
         "name": "host_listings_count",
         "dtype": "float64",
         "stats": {
          "unique_count": 3,
          "nan_count": 0,
          "min": "1.0",
          "max": "16.0",
          "histogram": [
           {
            "bin_start": 1,
            "bin_end": 2.5,
            "count": 1
           },
           {
            "bin_start": 2.5,
            "bin_end": 4,
            "count": 0
           },
           {
            "bin_start": 4,
            "bin_end": 5.5,
            "count": 0
           },
           {
            "bin_start": 5.5,
            "bin_end": 7,
            "count": 0
           },
           {
            "bin_start": 7,
            "bin_end": 8.5,
            "count": 3
           },
           {
            "bin_start": 8.5,
            "bin_end": 10,
            "count": 0
           },
           {
            "bin_start": 10,
            "bin_end": 11.5,
            "count": 0
           },
           {
            "bin_start": 11.5,
            "bin_end": 13,
            "count": 0
           },
           {
            "bin_start": 13,
            "bin_end": 14.5,
            "count": 0
           },
           {
            "bin_start": 14.5,
            "bin_end": 16,
            "count": 1
           }
          ]
         }
        },
        {
         "name": "host_total_listings_count",
         "dtype": "float64",
         "stats": {
          "unique_count": 3,
          "nan_count": 0,
          "min": "1.0",
          "max": "16.0",
          "histogram": [
           {
            "bin_start": 1,
            "bin_end": 2.5,
            "count": 1
           },
           {
            "bin_start": 2.5,
            "bin_end": 4,
            "count": 0
           },
           {
            "bin_start": 4,
            "bin_end": 5.5,
            "count": 0
           },
           {
            "bin_start": 5.5,
            "bin_end": 7,
            "count": 0
           },
           {
            "bin_start": 7,
            "bin_end": 8.5,
            "count": 3
           },
           {
            "bin_start": 8.5,
            "bin_end": 10,
            "count": 0
           },
           {
            "bin_start": 10,
            "bin_end": 11.5,
            "count": 0
           },
           {
            "bin_start": 11.5,
            "bin_end": 13,
            "count": 0
           },
           {
            "bin_start": 13,
            "bin_end": 14.5,
            "count": 0
           },
           {
            "bin_start": 14.5,
            "bin_end": 16,
            "count": 1
           }
          ]
         }
        },
        {
         "name": "host_verifications",
         "dtype": "object",
         "stats": {
          "unique_count": 3,
          "nan_count": 0,
          "categories": [
           {
            "name": "['email', 'phone', 'reviews', 'manual_offline', 'work_email']",
            "count": 3
           },
           {
            "name": "['email', 'phone', 'facebook', 'reviews', 'offline_government_id', 'selfie', 'government_id', 'work_email']",
            "count": 1
           },
           {
            "name": "['email', 'phone', 'reviews', 'jumio', 'offline_government_id', 'selfie', 'government_id', 'identity_manual']",
            "count": 1
           }
          ]
         }
        },
        {
         "name": "host_has_profile_pic",
         "dtype": "object",
         "stats": {
          "unique_count": 1,
          "nan_count": 0,
          "categories": [
           {
            "name": "t",
            "count": 5
           }
          ]
         }
        },
        {
         "name": "host_identity_verified",
         "dtype": "object",
         "stats": {
          "unique_count": 1,
          "nan_count": 0,
          "categories": [
           {
            "name": "t",
            "count": 5
           }
          ]
         }
        },
        {
         "name": "neighbourhood",
         "dtype": "object",
         "stats": {
          "unique_count": 1,
          "nan_count": 3,
          "categories": [
           {
            "name": "Singapore, Singapore",
            "count": 2
           },
           {
            "name": "Missing",
            "count": 3
           }
          ]
         }
        },
        {
         "name": "neighbourhood_cleansed",
         "dtype": "object",
         "stats": {
          "unique_count": 3,
          "nan_count": 0,
          "categories": [
           {
            "name": "Tampines",
            "count": 3
           },
           {
            "name": "Bukit Timah",
            "count": 1
           },
           {
            "name": "Bukit Merah",
            "count": 1
           }
          ]
         }
        },
        {
         "name": "neighbourhood_group_cleansed",
         "dtype": "object",
         "stats": {
          "unique_count": 2,
          "nan_count": 0,
          "categories": [
           {
            "name": "East Region",
            "count": 3
           },
           {
            "name": "Central Region",
            "count": 2
           }
          ]
         }
        },
        {
         "name": "latitude",
         "dtype": "float64",
         "stats": {
          "unique_count": 5,
          "nan_count": 0,
          "min": "1.29015",
          "max": "1.34754",
          "histogram": [
           {
            "bin_start": 1.29015,
            "bin_end": 1.2958889999999998,
            "count": 1
           },
           {
            "bin_start": 1.2958889999999998,
            "bin_end": 1.301628,
            "count": 0
           },
           {
            "bin_start": 1.301628,
            "bin_end": 1.307367,
            "count": 0
           },
           {
            "bin_start": 1.307367,
            "bin_end": 1.3131059999999999,
            "count": 0
           },
           {
            "bin_start": 1.3131059999999999,
            "bin_end": 1.318845,
            "count": 0
           },
           {
            "bin_start": 1.318845,
            "bin_end": 1.324584,
            "count": 0
           },
           {
            "bin_start": 1.324584,
            "bin_end": 1.330323,
            "count": 0
           },
           {
            "bin_start": 1.330323,
            "bin_end": 1.3360619999999999,
            "count": 1
           },
           {
            "bin_start": 1.3360619999999999,
            "bin_end": 1.341801,
            "count": 0
           },
           {
            "bin_start": 1.341801,
            "bin_end": 1.34754,
            "count": 3
           }
          ]
         }
        },
        {
         "name": "longitude",
         "dtype": "float64",
         "stats": {
          "unique_count": 5,
          "nan_count": 0,
          "min": "103.78521",
          "max": "103.961",
          "histogram": [
           {
            "bin_start": 103.78521,
            "bin_end": 103.802789,
            "count": 1
           },
           {
            "bin_start": 103.802789,
            "bin_end": 103.820368,
            "count": 1
           },
           {
            "bin_start": 103.820368,
            "bin_end": 103.837947,
            "count": 0
           },
           {
            "bin_start": 103.837947,
            "bin_end": 103.855526,
            "count": 0
           },
           {
            "bin_start": 103.855526,
            "bin_end": 103.87310500000001,
            "count": 0
           },
           {
            "bin_start": 103.87310500000001,
            "bin_end": 103.89068400000001,
            "count": 0
           },
           {
            "bin_start": 103.89068400000001,
            "bin_end": 103.908263,
            "count": 0
           },
           {
            "bin_start": 103.908263,
            "bin_end": 103.925842,
            "count": 0
           },
           {
            "bin_start": 103.925842,
            "bin_end": 103.943421,
            "count": 0
           },
           {
            "bin_start": 103.943421,
            "bin_end": 103.961,
            "count": 3
           }
          ]
         }
        },
        {
         "name": "property_type",
         "dtype": "object",
         "stats": {
          "unique_count": 3,
          "nan_count": 0,
          "categories": [
           {
            "name": "Private room in rental unit",
            "count": 2
           },
           {
            "name": "Private room in residential home",
            "count": 2
           },
           {
            "name": "Private room in villa",
            "count": 1
           }
          ]
         }
        },
        {
         "name": "room_type",
         "dtype": "object",
         "stats": {
          "unique_count": 1,
          "nan_count": 0,
          "categories": [
           {
            "name": "Private room",
            "count": 5
           }
          ]
         }
        },
        {
         "name": "accommodates",
         "dtype": "int64",
         "stats": {
          "unique_count": 4,
          "nan_count": 0,
          "min": "1",
          "max": "6",
          "histogram": [
           {
            "bin_start": 1,
            "bin_end": 1.5,
            "count": 1
           },
           {
            "bin_start": 1.5,
            "bin_end": 2,
            "count": 0
           },
           {
            "bin_start": 2,
            "bin_end": 2.5,
            "count": 1
           },
           {
            "bin_start": 2.5,
            "bin_end": 3,
            "count": 0
           },
           {
            "bin_start": 3,
            "bin_end": 3.5,
            "count": 2
           },
           {
            "bin_start": 3.5,
            "bin_end": 4,
            "count": 0
           },
           {
            "bin_start": 4,
            "bin_end": 4.5,
            "count": 0
           },
           {
            "bin_start": 4.5,
            "bin_end": 5,
            "count": 0
           },
           {
            "bin_start": 5,
            "bin_end": 5.5,
            "count": 0
           },
           {
            "bin_start": 5.5,
            "bin_end": 6,
            "count": 1
           }
          ]
         }
        },
        {
         "name": "bathrooms",
         "dtype": "float64",
         "stats": {
          "unique_count": 0,
          "nan_count": 5,
          "min": null,
          "max": null,
          "histogram": [
           {
            "bin_start": 0,
            "bin_end": 0.1,
            "count": 0
           },
           {
            "bin_start": 0.1,
            "bin_end": 0.2,
            "count": 0
           },
           {
            "bin_start": 0.2,
            "bin_end": 0.30000000000000004,
            "count": 0
           },
           {
            "bin_start": 0.30000000000000004,
            "bin_end": 0.4,
            "count": 0
           },
           {
            "bin_start": 0.4,
            "bin_end": 0.5,
            "count": 0
           },
           {
            "bin_start": 0.5,
            "bin_end": 0.6000000000000001,
            "count": 0
           },
           {
            "bin_start": 0.6000000000000001,
            "bin_end": 0.7000000000000001,
            "count": 0
           },
           {
            "bin_start": 0.7000000000000001,
            "bin_end": 0.8,
            "count": 0
           },
           {
            "bin_start": 0.8,
            "bin_end": 0.9,
            "count": 0
           },
           {
            "bin_start": 0.9,
            "bin_end": 1,
            "count": 0
           }
          ]
         }
        },
        {
         "name": "bathrooms_text",
         "dtype": "object",
         "stats": {
          "unique_count": 3,
          "nan_count": 1,
          "categories": [
           {
            "name": "Shared half-bath",
            "count": 2
           },
           {
            "name": "2 others",
            "count": 2
           },
           {
            "name": "Missing",
            "count": 1
           }
          ]
         }
        },
        {
         "name": "bedrooms",
         "dtype": "float64",
         "stats": {
          "unique_count": 2,
          "nan_count": 0,
          "min": "1.0",
          "max": "2.0",
          "histogram": [
           {
            "bin_start": 1,
            "bin_end": 1.1,
            "count": 4
           },
           {
            "bin_start": 1.1,
            "bin_end": 1.2,
            "count": 0
           },
           {
            "bin_start": 1.2,
            "bin_end": 1.3,
            "count": 0
           },
           {
            "bin_start": 1.3,
            "bin_end": 1.4,
            "count": 0
           },
           {
            "bin_start": 1.4,
            "bin_end": 1.5,
            "count": 0
           },
           {
            "bin_start": 1.5,
            "bin_end": 1.6,
            "count": 0
           },
           {
            "bin_start": 1.6,
            "bin_end": 1.7000000000000002,
            "count": 0
           },
           {
            "bin_start": 1.7000000000000002,
            "bin_end": 1.8,
            "count": 0
           },
           {
            "bin_start": 1.8,
            "bin_end": 1.9,
            "count": 0
           },
           {
            "bin_start": 1.9,
            "bin_end": 2,
            "count": 1
           }
          ]
         }
        },
        {
         "name": "beds",
         "dtype": "float64",
         "stats": {
          "unique_count": 3,
          "nan_count": 0,
          "min": "1.0",
          "max": "3.0",
          "histogram": [
           {
            "bin_start": 1,
            "bin_end": 1.2,
            "count": 3
           },
           {
            "bin_start": 1.2,
            "bin_end": 1.4,
            "count": 0
           },
           {
            "bin_start": 1.4,
            "bin_end": 1.6,
            "count": 0
           },
           {
            "bin_start": 1.6,
            "bin_end": 1.8,
            "count": 0
           },
           {
            "bin_start": 1.8,
            "bin_end": 2,
            "count": 0
           },
           {
            "bin_start": 2,
            "bin_end": 2.2,
            "count": 1
           },
           {
            "bin_start": 2.2,
            "bin_end": 2.4000000000000004,
            "count": 0
           },
           {
            "bin_start": 2.4000000000000004,
            "bin_end": 2.6,
            "count": 0
           },
           {
            "bin_start": 2.6,
            "bin_end": 2.8,
            "count": 0
           },
           {
            "bin_start": 2.8,
            "bin_end": 3,
            "count": 1
           }
          ]
         }
        },
        {
         "name": "amenities",
         "dtype": "object",
         "stats": {
          "unique_count": 5,
          "nan_count": 0,
          "categories": [
           {
            "name": "[\"Shampoo\", \"Essentials\", \"Kitchen\", \"Long term stays allowed\", \"Washer\", \"Cable TV\", \"Elevator\", \"Wifi\", \"Gym\", \"Air conditioning\", \"Pool\", \"TV with standard cable\"]",
            "count": 1
           },
           {
            "name": "[\"Hangers\", \"Cooking basics\", \"Washer\", \"Hair dryer\", \"Fire pit\", \"Shared hot tub\", \"Outdoor furniture\", \"TV\", \"Dedicated workspace\", \"Children\\u2019s books and toys\", \"Long term stays allowed\", \"Outdoor dining area\", \"Private entrance\", \"Lock on bedroom door\", \"Refrigerator\", \"Dryer\", \"Free street parking\", \"Wifi\", \"Smoke alarm\", \"Luggage dropoff allowed\", \"Shampoo\", \"Keypad\", \"Hot water\", \"BBQ grill\", \"Iron\", \"Essentials\", \"Kitchen\", \"Private fenced garden or backyard\", \"Air conditioning\", \"Fire extinguisher\"]",
            "count": 1
           },
           {
            "name": "3 others",
            "count": 3
           }
          ]
         }
        },
        {
         "name": "price",
         "dtype": "object",
         "stats": {
          "unique_count": 4,
          "nan_count": 0,
          "categories": [
           {
            "name": "$82.00",
            "count": 2
           },
           {
            "name": "$80.00",
            "count": 1
           },
           {
            "name": "2 others",
            "count": 2
           }
          ]
         }
        },
        {
         "name": "minimum_nights",
         "dtype": "int64",
         "stats": {
          "unique_count": 3,
          "nan_count": 0,
          "min": "14",
          "max": "92",
          "histogram": [
           {
            "bin_start": 14,
            "bin_end": 21.8,
            "count": 1
           },
           {
            "bin_start": 21.8,
            "bin_end": 29.6,
            "count": 0
           },
           {
            "bin_start": 29.6,
            "bin_end": 37.4,
            "count": 0
           },
           {
            "bin_start": 37.4,
            "bin_end": 45.2,
            "count": 0
           },
           {
            "bin_start": 45.2,
            "bin_end": 53,
            "count": 0
           },
           {
            "bin_start": 53,
            "bin_end": 60.8,
            "count": 0
           },
           {
            "bin_start": 60.8,
            "bin_end": 68.6,
            "count": 0
           },
           {
            "bin_start": 68.6,
            "bin_end": 76.4,
            "count": 0
           },
           {
            "bin_start": 76.4,
            "bin_end": 84.2,
            "count": 0
           },
           {
            "bin_start": 84.2,
            "bin_end": 92,
            "count": 4
           }
          ]
         }
        },
        {
         "name": "maximum_nights",
         "dtype": "int64",
         "stats": {
          "unique_count": 3,
          "nan_count": 0,
          "min": "730",
          "max": "1125",
          "histogram": [
           {
            "bin_start": 730,
            "bin_end": 769.5,
            "count": 1
           },
           {
            "bin_start": 769.5,
            "bin_end": 809,
            "count": 0
           },
           {
            "bin_start": 809,
            "bin_end": 848.5,
            "count": 0
           },
           {
            "bin_start": 848.5,
            "bin_end": 888,
            "count": 0
           },
           {
            "bin_start": 888,
            "bin_end": 927.5,
            "count": 0
           },
           {
            "bin_start": 927.5,
            "bin_end": 967,
            "count": 0
           },
           {
            "bin_start": 967,
            "bin_end": 1006.5,
            "count": 1
           },
           {
            "bin_start": 1006.5,
            "bin_end": 1046,
            "count": 0
           },
           {
            "bin_start": 1046,
            "bin_end": 1085.5,
            "count": 0
           },
           {
            "bin_start": 1085.5,
            "bin_end": 1125,
            "count": 3
           }
          ]
         }
        },
        {
         "name": "minimum_minimum_nights",
         "dtype": "float64",
         "stats": {
          "unique_count": 3,
          "nan_count": 0,
          "min": "14.0",
          "max": "92.0",
          "histogram": [
           {
            "bin_start": 14,
            "bin_end": 21.8,
            "count": 1
           },
           {
            "bin_start": 21.8,
            "bin_end": 29.6,
            "count": 0
           },
           {
            "bin_start": 29.6,
            "bin_end": 37.4,
            "count": 0
           },
           {
            "bin_start": 37.4,
            "bin_end": 45.2,
            "count": 0
           },
           {
            "bin_start": 45.2,
            "bin_end": 53,
            "count": 0
           },
           {
            "bin_start": 53,
            "bin_end": 60.8,
            "count": 0
           },
           {
            "bin_start": 60.8,
            "bin_end": 68.6,
            "count": 0
           },
           {
            "bin_start": 68.6,
            "bin_end": 76.4,
            "count": 0
           },
           {
            "bin_start": 76.4,
            "bin_end": 84.2,
            "count": 0
           },
           {
            "bin_start": 84.2,
            "bin_end": 92,
            "count": 4
           }
          ]
         }
        },
        {
         "name": "maximum_minimum_nights",
         "dtype": "float64",
         "stats": {
          "unique_count": 3,
          "nan_count": 0,
          "min": "14.0",
          "max": "92.0",
          "histogram": [
           {
            "bin_start": 14,
            "bin_end": 21.8,
            "count": 1
           },
           {
            "bin_start": 21.8,
            "bin_end": 29.6,
            "count": 0
           },
           {
            "bin_start": 29.6,
            "bin_end": 37.4,
            "count": 0
           },
           {
            "bin_start": 37.4,
            "bin_end": 45.2,
            "count": 0
           },
           {
            "bin_start": 45.2,
            "bin_end": 53,
            "count": 0
           },
           {
            "bin_start": 53,
            "bin_end": 60.8,
            "count": 0
           },
           {
            "bin_start": 60.8,
            "bin_end": 68.6,
            "count": 0
           },
           {
            "bin_start": 68.6,
            "bin_end": 76.4,
            "count": 0
           },
           {
            "bin_start": 76.4,
            "bin_end": 84.2,
            "count": 0
           },
           {
            "bin_start": 84.2,
            "bin_end": 92,
            "count": 4
           }
          ]
         }
        },
        {
         "name": "minimum_maximum_nights",
         "dtype": "float64",
         "stats": {
          "unique_count": 3,
          "nan_count": 0,
          "min": "730.0",
          "max": "1125.0",
          "histogram": [
           {
            "bin_start": 730,
            "bin_end": 769.5,
            "count": 1
           },
           {
            "bin_start": 769.5,
            "bin_end": 809,
            "count": 0
           },
           {
            "bin_start": 809,
            "bin_end": 848.5,
            "count": 0
           },
           {
            "bin_start": 848.5,
            "bin_end": 888,
            "count": 0
           },
           {
            "bin_start": 888,
            "bin_end": 927.5,
            "count": 0
           },
           {
            "bin_start": 927.5,
            "bin_end": 967,
            "count": 0
           },
           {
            "bin_start": 967,
            "bin_end": 1006.5,
            "count": 1
           },
           {
            "bin_start": 1006.5,
            "bin_end": 1046,
            "count": 0
           },
           {
            "bin_start": 1046,
            "bin_end": 1085.5,
            "count": 0
           },
           {
            "bin_start": 1085.5,
            "bin_end": 1125,
            "count": 3
           }
          ]
         }
        },
        {
         "name": "maximum_maximum_nights",
         "dtype": "float64",
         "stats": {
          "unique_count": 3,
          "nan_count": 0,
          "min": "730.0",
          "max": "1125.0",
          "histogram": [
           {
            "bin_start": 730,
            "bin_end": 769.5,
            "count": 1
           },
           {
            "bin_start": 769.5,
            "bin_end": 809,
            "count": 0
           },
           {
            "bin_start": 809,
            "bin_end": 848.5,
            "count": 0
           },
           {
            "bin_start": 848.5,
            "bin_end": 888,
            "count": 0
           },
           {
            "bin_start": 888,
            "bin_end": 927.5,
            "count": 0
           },
           {
            "bin_start": 927.5,
            "bin_end": 967,
            "count": 0
           },
           {
            "bin_start": 967,
            "bin_end": 1006.5,
            "count": 1
           },
           {
            "bin_start": 1006.5,
            "bin_end": 1046,
            "count": 0
           },
           {
            "bin_start": 1046,
            "bin_end": 1085.5,
            "count": 0
           },
           {
            "bin_start": 1085.5,
            "bin_end": 1125,
            "count": 3
           }
          ]
         }
        },
        {
         "name": "minimum_nights_avg_ntm",
         "dtype": "float64",
         "stats": {
          "unique_count": 3,
          "nan_count": 0,
          "min": "14.0",
          "max": "92.0",
          "histogram": [
           {
            "bin_start": 14,
            "bin_end": 21.8,
            "count": 1
           },
           {
            "bin_start": 21.8,
            "bin_end": 29.6,
            "count": 0
           },
           {
            "bin_start": 29.6,
            "bin_end": 37.4,
            "count": 0
           },
           {
            "bin_start": 37.4,
            "bin_end": 45.2,
            "count": 0
           },
           {
            "bin_start": 45.2,
            "bin_end": 53,
            "count": 0
           },
           {
            "bin_start": 53,
            "bin_end": 60.8,
            "count": 0
           },
           {
            "bin_start": 60.8,
            "bin_end": 68.6,
            "count": 0
           },
           {
            "bin_start": 68.6,
            "bin_end": 76.4,
            "count": 0
           },
           {
            "bin_start": 76.4,
            "bin_end": 84.2,
            "count": 0
           },
           {
            "bin_start": 84.2,
            "bin_end": 92,
            "count": 4
           }
          ]
         }
        },
        {
         "name": "maximum_nights_avg_ntm",
         "dtype": "float64",
         "stats": {
          "unique_count": 3,
          "nan_count": 0,
          "min": "730.0",
          "max": "1125.0",
          "histogram": [
           {
            "bin_start": 730,
            "bin_end": 769.5,
            "count": 1
           },
           {
            "bin_start": 769.5,
            "bin_end": 809,
            "count": 0
           },
           {
            "bin_start": 809,
            "bin_end": 848.5,
            "count": 0
           },
           {
            "bin_start": 848.5,
            "bin_end": 888,
            "count": 0
           },
           {
            "bin_start": 888,
            "bin_end": 927.5,
            "count": 0
           },
           {
            "bin_start": 927.5,
            "bin_end": 967,
            "count": 0
           },
           {
            "bin_start": 967,
            "bin_end": 1006.5,
            "count": 1
           },
           {
            "bin_start": 1006.5,
            "bin_end": 1046,
            "count": 0
           },
           {
            "bin_start": 1046,
            "bin_end": 1085.5,
            "count": 0
           },
           {
            "bin_start": 1085.5,
            "bin_end": 1125,
            "count": 3
           }
          ]
         }
        },
        {
         "name": "calendar_updated",
         "dtype": "float64",
         "stats": {
          "unique_count": 0,
          "nan_count": 5,
          "min": null,
          "max": null,
          "histogram": [
           {
            "bin_start": 0,
            "bin_end": 0.1,
            "count": 0
           },
           {
            "bin_start": 0.1,
            "bin_end": 0.2,
            "count": 0
           },
           {
            "bin_start": 0.2,
            "bin_end": 0.30000000000000004,
            "count": 0
           },
           {
            "bin_start": 0.30000000000000004,
            "bin_end": 0.4,
            "count": 0
           },
           {
            "bin_start": 0.4,
            "bin_end": 0.5,
            "count": 0
           },
           {
            "bin_start": 0.5,
            "bin_end": 0.6000000000000001,
            "count": 0
           },
           {
            "bin_start": 0.6000000000000001,
            "bin_end": 0.7000000000000001,
            "count": 0
           },
           {
            "bin_start": 0.7000000000000001,
            "bin_end": 0.8,
            "count": 0
           },
           {
            "bin_start": 0.8,
            "bin_end": 0.9,
            "count": 0
           },
           {
            "bin_start": 0.9,
            "bin_end": 1,
            "count": 0
           }
          ]
         }
        },
        {
         "name": "has_availability",
         "dtype": "object",
         "stats": {
          "unique_count": 1,
          "nan_count": 0,
          "categories": [
           {
            "name": "t",
            "count": 5
           }
          ]
         }
        },
        {
         "name": "availability_30",
         "dtype": "int64",
         "stats": {
          "unique_count": 2,
          "nan_count": 0,
          "min": "6",
          "max": "30",
          "histogram": [
           {
            "bin_start": 6,
            "bin_end": 8.4,
            "count": 1
           },
           {
            "bin_start": 8.4,
            "bin_end": 10.8,
            "count": 0
           },
           {
            "bin_start": 10.8,
            "bin_end": 13.2,
            "count": 0
           },
           {
            "bin_start": 13.2,
            "bin_end": 15.6,
            "count": 0
           },
           {
            "bin_start": 15.6,
            "bin_end": 18,
            "count": 0
           },
           {
            "bin_start": 18,
            "bin_end": 20.4,
            "count": 0
           },
           {
            "bin_start": 20.4,
            "bin_end": 22.8,
            "count": 0
           },
           {
            "bin_start": 22.8,
            "bin_end": 25.2,
            "count": 0
           },
           {
            "bin_start": 25.2,
            "bin_end": 27.599999999999998,
            "count": 0
           },
           {
            "bin_start": 27.599999999999998,
            "bin_end": 30,
            "count": 4
           }
          ]
         }
        },
        {
         "name": "availability_60",
         "dtype": "int64",
         "stats": {
          "unique_count": 2,
          "nan_count": 0,
          "min": "36",
          "max": "60",
          "histogram": [
           {
            "bin_start": 36,
            "bin_end": 38.4,
            "count": 1
           },
           {
            "bin_start": 38.4,
            "bin_end": 40.8,
            "count": 0
           },
           {
            "bin_start": 40.8,
            "bin_end": 43.2,
            "count": 0
           },
           {
            "bin_start": 43.2,
            "bin_end": 45.6,
            "count": 0
           },
           {
            "bin_start": 45.6,
            "bin_end": 48,
            "count": 0
           },
           {
            "bin_start": 48,
            "bin_end": 50.4,
            "count": 0
           },
           {
            "bin_start": 50.4,
            "bin_end": 52.8,
            "count": 0
           },
           {
            "bin_start": 52.8,
            "bin_end": 55.2,
            "count": 0
           },
           {
            "bin_start": 55.2,
            "bin_end": 57.599999999999994,
            "count": 0
           },
           {
            "bin_start": 57.599999999999994,
            "bin_end": 60,
            "count": 4
           }
          ]
         }
        },
        {
         "name": "availability_90",
         "dtype": "int64",
         "stats": {
          "unique_count": 2,
          "nan_count": 0,
          "min": "66",
          "max": "90",
          "histogram": [
           {
            "bin_start": 66,
            "bin_end": 68.4,
            "count": 1
           },
           {
            "bin_start": 68.4,
            "bin_end": 70.8,
            "count": 0
           },
           {
            "bin_start": 70.8,
            "bin_end": 73.2,
            "count": 0
           },
           {
            "bin_start": 73.2,
            "bin_end": 75.6,
            "count": 0
           },
           {
            "bin_start": 75.6,
            "bin_end": 78,
            "count": 0
           },
           {
            "bin_start": 78,
            "bin_end": 80.4,
            "count": 0
           },
           {
            "bin_start": 80.4,
            "bin_end": 82.8,
            "count": 0
           },
           {
            "bin_start": 82.8,
            "bin_end": 85.2,
            "count": 0
           },
           {
            "bin_start": 85.2,
            "bin_end": 87.6,
            "count": 0
           },
           {
            "bin_start": 87.6,
            "bin_end": 90,
            "count": 4
           }
          ]
         }
        },
        {
         "name": "availability_365",
         "dtype": "int64",
         "stats": {
          "unique_count": 2,
          "nan_count": 0,
          "min": "341",
          "max": "365",
          "histogram": [
           {
            "bin_start": 341,
            "bin_end": 343.4,
            "count": 1
           },
           {
            "bin_start": 343.4,
            "bin_end": 345.8,
            "count": 0
           },
           {
            "bin_start": 345.8,
            "bin_end": 348.2,
            "count": 0
           },
           {
            "bin_start": 348.2,
            "bin_end": 350.6,
            "count": 0
           },
           {
            "bin_start": 350.6,
            "bin_end": 353,
            "count": 0
           },
           {
            "bin_start": 353,
            "bin_end": 355.4,
            "count": 0
           },
           {
            "bin_start": 355.4,
            "bin_end": 357.8,
            "count": 0
           },
           {
            "bin_start": 357.8,
            "bin_end": 360.2,
            "count": 0
           },
           {
            "bin_start": 360.2,
            "bin_end": 362.6,
            "count": 0
           },
           {
            "bin_start": 362.6,
            "bin_end": 365,
            "count": 4
           }
          ]
         }
        },
        {
         "name": "calendar_last_scraped",
         "dtype": "object",
         "stats": {
          "unique_count": 1,
          "nan_count": 0,
          "categories": [
           {
            "name": "2021-12-27",
            "count": 5
           }
          ]
         }
        },
        {
         "name": "number_of_reviews",
         "dtype": "int64",
         "stats": {
          "unique_count": 4,
          "nan_count": 0,
          "min": "18",
          "max": "47",
          "histogram": [
           {
            "bin_start": 18,
            "bin_end": 20.9,
            "count": 3
           },
           {
            "bin_start": 20.9,
            "bin_end": 23.8,
            "count": 0
           },
           {
            "bin_start": 23.8,
            "bin_end": 26.7,
            "count": 1
           },
           {
            "bin_start": 26.7,
            "bin_end": 29.6,
            "count": 0
           },
           {
            "bin_start": 29.6,
            "bin_end": 32.5,
            "count": 0
           },
           {
            "bin_start": 32.5,
            "bin_end": 35.4,
            "count": 0
           },
           {
            "bin_start": 35.4,
            "bin_end": 38.3,
            "count": 0
           },
           {
            "bin_start": 38.3,
            "bin_end": 41.2,
            "count": 0
           },
           {
            "bin_start": 41.2,
            "bin_end": 44.099999999999994,
            "count": 0
           },
           {
            "bin_start": 44.099999999999994,
            "bin_end": 47,
            "count": 1
           }
          ]
         }
        },
        {
         "name": "number_of_reviews_ltm",
         "dtype": "int64",
         "stats": {
          "unique_count": 1,
          "nan_count": 0,
          "min": "0",
          "max": "0",
          "histogram": [
           {
            "bin_start": -0.5,
            "bin_end": -0.4,
            "count": 0
           },
           {
            "bin_start": -0.4,
            "bin_end": -0.3,
            "count": 0
           },
           {
            "bin_start": -0.3,
            "bin_end": -0.19999999999999996,
            "count": 0
           },
           {
            "bin_start": -0.19999999999999996,
            "bin_end": -0.09999999999999998,
            "count": 0
           },
           {
            "bin_start": -0.09999999999999998,
            "bin_end": 0,
            "count": 0
           },
           {
            "bin_start": 0,
            "bin_end": 0.10000000000000009,
            "count": 5
           },
           {
            "bin_start": 0.10000000000000009,
            "bin_end": 0.20000000000000007,
            "count": 0
           },
           {
            "bin_start": 0.20000000000000007,
            "bin_end": 0.30000000000000004,
            "count": 0
           },
           {
            "bin_start": 0.30000000000000004,
            "bin_end": 0.4,
            "count": 0
           },
           {
            "bin_start": 0.4,
            "bin_end": 0.5,
            "count": 0
           }
          ]
         }
        },
        {
         "name": "number_of_reviews_l30d",
         "dtype": "int64",
         "stats": {
          "unique_count": 1,
          "nan_count": 0,
          "min": "0",
          "max": "0",
          "histogram": [
           {
            "bin_start": -0.5,
            "bin_end": -0.4,
            "count": 0
           },
           {
            "bin_start": -0.4,
            "bin_end": -0.3,
            "count": 0
           },
           {
            "bin_start": -0.3,
            "bin_end": -0.19999999999999996,
            "count": 0
           },
           {
            "bin_start": -0.19999999999999996,
            "bin_end": -0.09999999999999998,
            "count": 0
           },
           {
            "bin_start": -0.09999999999999998,
            "bin_end": 0,
            "count": 0
           },
           {
            "bin_start": 0,
            "bin_end": 0.10000000000000009,
            "count": 5
           },
           {
            "bin_start": 0.10000000000000009,
            "bin_end": 0.20000000000000007,
            "count": 0
           },
           {
            "bin_start": 0.20000000000000007,
            "bin_end": 0.30000000000000004,
            "count": 0
           },
           {
            "bin_start": 0.30000000000000004,
            "bin_end": 0.4,
            "count": 0
           },
           {
            "bin_start": 0.4,
            "bin_end": 0.5,
            "count": 0
           }
          ]
         }
        },
        {
         "name": "first_review",
         "dtype": "object",
         "stats": {
          "unique_count": 5,
          "nan_count": 0,
          "categories": [
           {
            "name": "2014-04-18",
            "count": 1
           },
           {
            "name": "2011-12-19",
            "count": 1
           },
           {
            "name": "3 others",
            "count": 3
           }
          ]
         }
        },
        {
         "name": "last_review",
         "dtype": "object",
         "stats": {
          "unique_count": 5,
          "nan_count": 0,
          "categories": [
           {
            "name": "2014-12-26",
            "count": 1
           },
           {
            "name": "2020-01-17",
            "count": 1
           },
           {
            "name": "3 others",
            "count": 3
           }
          ]
         }
        },
        {
         "name": "review_scores_rating",
         "dtype": "float64",
         "stats": {
          "unique_count": 5,
          "nan_count": 0,
          "min": "4.16",
          "max": "4.56",
          "histogram": [
           {
            "bin_start": 4.16,
            "bin_end": 4.2,
            "count": 1
           },
           {
            "bin_start": 4.2,
            "bin_end": 4.24,
            "count": 0
           },
           {
            "bin_start": 4.24,
            "bin_end": 4.28,
            "count": 0
           },
           {
            "bin_start": 4.28,
            "bin_end": 4.32,
            "count": 0
           },
           {
            "bin_start": 4.32,
            "bin_end": 4.359999999999999,
            "count": 0
           },
           {
            "bin_start": 4.359999999999999,
            "bin_end": 4.3999999999999995,
            "count": 1
           },
           {
            "bin_start": 4.3999999999999995,
            "bin_end": 4.4399999999999995,
            "count": 1
           },
           {
            "bin_start": 4.4399999999999995,
            "bin_end": 4.4799999999999995,
            "count": 1
           },
           {
            "bin_start": 4.4799999999999995,
            "bin_end": 4.52,
            "count": 0
           },
           {
            "bin_start": 4.52,
            "bin_end": 4.56,
            "count": 1
           }
          ]
         }
        },
        {
         "name": "review_scores_accuracy",
         "dtype": "float64",
         "stats": {
          "unique_count": 5,
          "nan_count": 0,
          "min": "4.12",
          "max": "4.72",
          "histogram": [
           {
            "bin_start": 4.12,
            "bin_end": 4.18,
            "count": 1
           },
           {
            "bin_start": 4.18,
            "bin_end": 4.24,
            "count": 1
           },
           {
            "bin_start": 4.24,
            "bin_end": 4.3,
            "count": 0
           },
           {
            "bin_start": 4.3,
            "bin_end": 4.36,
            "count": 0
           },
           {
            "bin_start": 4.36,
            "bin_end": 4.42,
            "count": 2
           },
           {
            "bin_start": 4.42,
            "bin_end": 4.4799999999999995,
            "count": 0
           },
           {
            "bin_start": 4.4799999999999995,
            "bin_end": 4.54,
            "count": 0
           },
           {
            "bin_start": 4.54,
            "bin_end": 4.6,
            "count": 0
           },
           {
            "bin_start": 4.6,
            "bin_end": 4.66,
            "count": 0
           },
           {
            "bin_start": 4.66,
            "bin_end": 4.72,
            "count": 1
           }
          ]
         }
        },
        {
         "name": "review_scores_cleanliness",
         "dtype": "float64",
         "stats": {
          "unique_count": 5,
          "nan_count": 0,
          "min": "4.0",
          "max": "4.78",
          "histogram": [
           {
            "bin_start": 4,
            "bin_end": 4.078,
            "count": 1
           },
           {
            "bin_start": 4.078,
            "bin_end": 4.156,
            "count": 1
           },
           {
            "bin_start": 4.156,
            "bin_end": 4.234,
            "count": 0
           },
           {
            "bin_start": 4.234,
            "bin_end": 4.312,
            "count": 1
           },
           {
            "bin_start": 4.312,
            "bin_end": 4.390000000000001,
            "count": 0
           },
           {
            "bin_start": 4.390000000000001,
            "bin_end": 4.468,
            "count": 0
           },
           {
            "bin_start": 4.468,
            "bin_end": 4.546,
            "count": 1
           },
           {
            "bin_start": 4.546,
            "bin_end": 4.6240000000000006,
            "count": 0
           },
           {
            "bin_start": 4.6240000000000006,
            "bin_end": 4.702,
            "count": 0
           },
           {
            "bin_start": 4.702,
            "bin_end": 4.78,
            "count": 1
           }
          ]
         }
        },
        {
         "name": "review_scores_checkin",
         "dtype": "float64",
         "stats": {
          "unique_count": 4,
          "nan_count": 0,
          "min": "4.43",
          "max": "4.78",
          "histogram": [
           {
            "bin_start": 4.43,
            "bin_end": 4.465,
            "count": 1
           },
           {
            "bin_start": 4.465,
            "bin_end": 4.5,
            "count": 0
           },
           {
            "bin_start": 4.5,
            "bin_end": 4.535,
            "count": 1
           },
           {
            "bin_start": 4.535,
            "bin_end": 4.57,
            "count": 0
           },
           {
            "bin_start": 4.57,
            "bin_end": 4.605,
            "count": 0
           },
           {
            "bin_start": 4.605,
            "bin_end": 4.64,
            "count": 2
           },
           {
            "bin_start": 4.64,
            "bin_end": 4.675,
            "count": 0
           },
           {
            "bin_start": 4.675,
            "bin_end": 4.71,
            "count": 0
           },
           {
            "bin_start": 4.71,
            "bin_end": 4.745,
            "count": 0
           },
           {
            "bin_start": 4.745,
            "bin_end": 4.78,
            "count": 1
           }
          ]
         }
        },
        {
         "name": "review_scores_communication",
         "dtype": "float64",
         "stats": {
          "unique_count": 5,
          "nan_count": 0,
          "min": "4.43",
          "max": "4.94",
          "histogram": [
           {
            "bin_start": 4.43,
            "bin_end": 4.481,
            "count": 2
           },
           {
            "bin_start": 4.481,
            "bin_end": 4.532,
            "count": 0
           },
           {
            "bin_start": 4.532,
            "bin_end": 4.583,
            "count": 0
           },
           {
            "bin_start": 4.583,
            "bin_end": 4.634,
            "count": 0
           },
           {
            "bin_start": 4.634,
            "bin_end": 4.6850000000000005,
            "count": 1
           },
           {
            "bin_start": 4.6850000000000005,
            "bin_end": 4.736,
            "count": 0
           },
           {
            "bin_start": 4.736,
            "bin_end": 4.787,
            "count": 1
           },
           {
            "bin_start": 4.787,
            "bin_end": 4.838,
            "count": 0
           },
           {
            "bin_start": 4.838,
            "bin_end": 4.889,
            "count": 0
           },
           {
            "bin_start": 4.889,
            "bin_end": 4.94,
            "count": 1
           }
          ]
         }
        },
        {
         "name": "review_scores_location",
         "dtype": "float64",
         "stats": {
          "unique_count": 5,
          "nan_count": 0,
          "min": "4.17",
          "max": "4.72",
          "histogram": [
           {
            "bin_start": 4.17,
            "bin_end": 4.225,
            "count": 1
           },
           {
            "bin_start": 4.225,
            "bin_end": 4.28,
            "count": 1
           },
           {
            "bin_start": 4.28,
            "bin_end": 4.335,
            "count": 0
           },
           {
            "bin_start": 4.335,
            "bin_end": 4.39,
            "count": 0
           },
           {
            "bin_start": 4.39,
            "bin_end": 4.445,
            "count": 0
           },
           {
            "bin_start": 4.445,
            "bin_end": 4.5,
            "count": 0
           },
           {
            "bin_start": 4.5,
            "bin_end": 4.555,
            "count": 2
           },
           {
            "bin_start": 4.555,
            "bin_end": 4.609999999999999,
            "count": 0
           },
           {
            "bin_start": 4.609999999999999,
            "bin_end": 4.665,
            "count": 0
           },
           {
            "bin_start": 4.665,
            "bin_end": 4.72,
            "count": 1
           }
          ]
         }
        },
        {
         "name": "review_scores_value",
         "dtype": "float64",
         "stats": {
          "unique_count": 5,
          "nan_count": 0,
          "min": "4.04",
          "max": "4.59",
          "histogram": [
           {
            "bin_start": 4.04,
            "bin_end": 4.095,
            "count": 1
           },
           {
            "bin_start": 4.095,
            "bin_end": 4.15,
            "count": 0
           },
           {
            "bin_start": 4.15,
            "bin_end": 4.205,
            "count": 0
           },
           {
            "bin_start": 4.205,
            "bin_end": 4.26,
            "count": 0
           },
           {
            "bin_start": 4.26,
            "bin_end": 4.3149999999999995,
            "count": 0
           },
           {
            "bin_start": 4.3149999999999995,
            "bin_end": 4.37,
            "count": 2
           },
           {
            "bin_start": 4.37,
            "bin_end": 4.425,
            "count": 0
           },
           {
            "bin_start": 4.425,
            "bin_end": 4.4799999999999995,
            "count": 0
           },
           {
            "bin_start": 4.4799999999999995,
            "bin_end": 4.535,
            "count": 1
           },
           {
            "bin_start": 4.535,
            "bin_end": 4.59,
            "count": 1
           }
          ]
         }
        },
        {
         "name": "license",
         "dtype": "object",
         "stats": {
          "unique_count": 1,
          "nan_count": 4,
          "categories": [
           {
            "name": "S0399",
            "count": 1
           },
           {
            "name": "Missing",
            "count": 4
           }
          ]
         }
        },
        {
         "name": "instant_bookable",
         "dtype": "object",
         "stats": {
          "unique_count": 1,
          "nan_count": 0,
          "categories": [
           {
            "name": "f",
            "count": 5
           }
          ]
         }
        },
        {
         "name": "calculated_host_listings_count",
         "dtype": "int64",
         "stats": {
          "unique_count": 3,
          "nan_count": 0,
          "min": "1",
          "max": "16",
          "histogram": [
           {
            "bin_start": 1,
            "bin_end": 2.5,
            "count": 1
           },
           {
            "bin_start": 2.5,
            "bin_end": 4,
            "count": 0
           },
           {
            "bin_start": 4,
            "bin_end": 5.5,
            "count": 3
           },
           {
            "bin_start": 5.5,
            "bin_end": 7,
            "count": 0
           },
           {
            "bin_start": 7,
            "bin_end": 8.5,
            "count": 0
           },
           {
            "bin_start": 8.5,
            "bin_end": 10,
            "count": 0
           },
           {
            "bin_start": 10,
            "bin_end": 11.5,
            "count": 0
           },
           {
            "bin_start": 11.5,
            "bin_end": 13,
            "count": 0
           },
           {
            "bin_start": 13,
            "bin_end": 14.5,
            "count": 0
           },
           {
            "bin_start": 14.5,
            "bin_end": 16,
            "count": 1
           }
          ]
         }
        },
        {
         "name": "calculated_host_listings_count_entire_homes",
         "dtype": "int64",
         "stats": {
          "unique_count": 2,
          "nan_count": 0,
          "min": "0",
          "max": "1",
          "histogram": [
           {
            "bin_start": 0,
            "bin_end": 0.1,
            "count": 4
           },
           {
            "bin_start": 0.1,
            "bin_end": 0.2,
            "count": 0
           },
           {
            "bin_start": 0.2,
            "bin_end": 0.30000000000000004,
            "count": 0
           },
           {
            "bin_start": 0.30000000000000004,
            "bin_end": 0.4,
            "count": 0
           },
           {
            "bin_start": 0.4,
            "bin_end": 0.5,
            "count": 0
           },
           {
            "bin_start": 0.5,
            "bin_end": 0.6000000000000001,
            "count": 0
           },
           {
            "bin_start": 0.6000000000000001,
            "bin_end": 0.7000000000000001,
            "count": 0
           },
           {
            "bin_start": 0.7000000000000001,
            "bin_end": 0.8,
            "count": 0
           },
           {
            "bin_start": 0.8,
            "bin_end": 0.9,
            "count": 0
           },
           {
            "bin_start": 0.9,
            "bin_end": 1,
            "count": 1
           }
          ]
         }
        },
        {
         "name": "calculated_host_listings_count_private_rooms",
         "dtype": "int64",
         "stats": {
          "unique_count": 3,
          "nan_count": 0,
          "min": "1",
          "max": "15",
          "histogram": [
           {
            "bin_start": 1,
            "bin_end": 2.4,
            "count": 1
           },
           {
            "bin_start": 2.4,
            "bin_end": 3.8,
            "count": 0
           },
           {
            "bin_start": 3.8,
            "bin_end": 5.199999999999999,
            "count": 3
           },
           {
            "bin_start": 5.199999999999999,
            "bin_end": 6.6,
            "count": 0
           },
           {
            "bin_start": 6.6,
            "bin_end": 8,
            "count": 0
           },
           {
            "bin_start": 8,
            "bin_end": 9.399999999999999,
            "count": 0
           },
           {
            "bin_start": 9.399999999999999,
            "bin_end": 10.799999999999999,
            "count": 0
           },
           {
            "bin_start": 10.799999999999999,
            "bin_end": 12.2,
            "count": 0
           },
           {
            "bin_start": 12.2,
            "bin_end": 13.6,
            "count": 0
           },
           {
            "bin_start": 13.6,
            "bin_end": 15,
            "count": 1
           }
          ]
         }
        },
        {
         "name": "calculated_host_listings_count_shared_rooms",
         "dtype": "int64",
         "stats": {
          "unique_count": 1,
          "nan_count": 0,
          "min": "0",
          "max": "0",
          "histogram": [
           {
            "bin_start": -0.5,
            "bin_end": -0.4,
            "count": 0
           },
           {
            "bin_start": -0.4,
            "bin_end": -0.3,
            "count": 0
           },
           {
            "bin_start": -0.3,
            "bin_end": -0.19999999999999996,
            "count": 0
           },
           {
            "bin_start": -0.19999999999999996,
            "bin_end": -0.09999999999999998,
            "count": 0
           },
           {
            "bin_start": -0.09999999999999998,
            "bin_end": 0,
            "count": 0
           },
           {
            "bin_start": 0,
            "bin_end": 0.10000000000000009,
            "count": 5
           },
           {
            "bin_start": 0.10000000000000009,
            "bin_end": 0.20000000000000007,
            "count": 0
           },
           {
            "bin_start": 0.20000000000000007,
            "bin_end": 0.30000000000000004,
            "count": 0
           },
           {
            "bin_start": 0.30000000000000004,
            "bin_end": 0.4,
            "count": 0
           },
           {
            "bin_start": 0.4,
            "bin_end": 0.5,
            "count": 0
           }
          ]
         }
        },
        {
         "name": "reviews_per_month",
         "dtype": "float64",
         "stats": {
          "unique_count": 3,
          "nan_count": 0,
          "min": "0.16",
          "max": "0.36",
          "histogram": [
           {
            "bin_start": 0.16,
            "bin_end": 0.18,
            "count": 1
           },
           {
            "bin_start": 0.18,
            "bin_end": 0.2,
            "count": 3
           },
           {
            "bin_start": 0.2,
            "bin_end": 0.22,
            "count": 0
           },
           {
            "bin_start": 0.22,
            "bin_end": 0.24,
            "count": 0
           },
           {
            "bin_start": 0.24,
            "bin_end": 0.26,
            "count": 0
           },
           {
            "bin_start": 0.26,
            "bin_end": 0.27999999999999997,
            "count": 0
           },
           {
            "bin_start": 0.27999999999999997,
            "bin_end": 0.3,
            "count": 0
           },
           {
            "bin_start": 0.3,
            "bin_end": 0.31999999999999995,
            "count": 0
           },
           {
            "bin_start": 0.31999999999999995,
            "bin_end": 0.33999999999999997,
            "count": 0
           },
           {
            "bin_start": 0.33999999999999997,
            "bin_end": 0.36,
            "count": 1
           }
          ]
         }
        },
        {
         "name": "_deepnote_index_column",
         "dtype": "int64"
        }
       ],
       "rows": [
        {
         "id": 50646,
         "listing_url": "https://www.airbnb.com/rooms/50646",
         "scrape_id": 20211226165704,
         "last_scraped": "2021-12-27",
         "name": "Pleasant Room along Bukit Timah",
         "description": "Fully furnished bedroom with a nice view on the 10th floor of a newly built private condominium on …",
         "neighborhood_overview": "The serenity & quiet surrounding makes it an ideal place to come back to after work / play. Lovely …",
         "picture_url": "https://a0.muscache.com/pictures/36342984/670d98e1_original.jpg",
         "host_id": 227796,
         "host_url": "https://www.airbnb.com/users/show/227796",
         "host_name": "Sujatha",
         "host_since": "2010-09-08",
         "host_location": "Singapore, Singapore",
         "host_about": "I am a working professional, living in Singapore with my husband & 2 daughters.  \r\n\r\n",
         "host_response_time": "nan",
         "host_response_rate": "nan",
         "host_acceptance_rate": "nan",
         "host_is_superhost": "f",
         "host_thumbnail_url": "https://a0.muscache.com/im/pictures/user/8fd2cddb-2795-40b8-8231-d3a34dc3a1e4.jpg?aki_policy=profil…",
         "host_picture_url": "https://a0.muscache.com/im/pictures/user/8fd2cddb-2795-40b8-8231-d3a34dc3a1e4.jpg?aki_policy=profil…",
         "host_neighbourhood": "Bukit Timah",
         "host_listings_count": 1,
         "host_total_listings_count": 1,
         "host_verifications": "['email', 'phone', 'facebook', 'reviews', 'offline_government_id', 'selfie', 'government_id', 'work…",
         "host_has_profile_pic": "t",
         "host_identity_verified": "t",
         "neighbourhood": "Singapore, Singapore",
         "neighbourhood_cleansed": "Bukit Timah",
         "neighbourhood_group_cleansed": "Central Region",
         "latitude": 1.33432,
         "longitude": 103.78521,
         "property_type": "Private room in rental unit",
         "room_type": "Private room",
         "accommodates": 2,
         "bathrooms": "nan",
         "bathrooms_text": "1 bath",
         "bedrooms": 1,
         "beds": 1,
         "amenities": "[\"Shampoo\", \"Essentials\", \"Kitchen\", \"Long term stays allowed\", \"Washer\", \"Cable TV\", \"Elevator\", \"…",
         "price": "$80.00",
         "minimum_nights": 90,
         "maximum_nights": 730,
         "minimum_minimum_nights": 90,
         "maximum_minimum_nights": 90,
         "minimum_maximum_nights": 730,
         "maximum_maximum_nights": 730,
         "minimum_nights_avg_ntm": 90,
         "maximum_nights_avg_ntm": 730,
         "calendar_updated": "nan",
         "has_availability": "t",
         "availability_30": 30,
         "availability_60": 60,
         "availability_90": 90,
         "availability_365": 365,
         "calendar_last_scraped": "2021-12-27",
         "number_of_reviews": 18,
         "number_of_reviews_ltm": 0,
         "number_of_reviews_l30d": 0,
         "first_review": "2014-04-18",
         "last_review": "2014-12-26",
         "review_scores_rating": 4.56,
         "review_scores_accuracy": 4.72,
         "review_scores_cleanliness": 4.78,
         "review_scores_checkin": 4.78,
         "review_scores_communication": 4.94,
         "review_scores_location": 4.72,
         "review_scores_value": 4.5,
         "license": "nan",
         "instant_bookable": "f",
         "calculated_host_listings_count": 1,
         "calculated_host_listings_count_entire_homes": 0,
         "calculated_host_listings_count_private_rooms": 1,
         "calculated_host_listings_count_shared_rooms": 0,
         "reviews_per_month": 0.19,
         "_deepnote_index_column": 0
        },
        {
         "id": 71609,
         "listing_url": "https://www.airbnb.com/rooms/71609",
         "scrape_id": 20211226165704,
         "last_scraped": "2021-12-27",
         "name": "Ensuite Room (Room 1 & 2) near EXPO",
         "description": "For 3 rooms.Book room 1&2 and room 4<br /><br /><b>The space</b><br />Landed Homestay Room for Rent…",
         "neighborhood_overview": "nan",
         "picture_url": "https://a0.muscache.com/pictures/24453191/35803acb_original.jpg",
         "host_id": 367042,
         "host_url": "https://www.airbnb.com/users/show/367042",
         "host_name": "Belinda",
         "host_since": "2011-01-29",
         "host_location": "Singapore",
         "host_about": "Hi My name is Belinda -Housekeeper \r\n\r\nI would like to welcome you to my \"Homestay Website\" \r\n\r\nIf …",
         "host_response_time": "within a day",
         "host_response_rate": "100%",
         "host_acceptance_rate": "nan",
         "host_is_superhost": "f",
         "host_thumbnail_url": "https://a0.muscache.com/im/users/367042/profile_pic/1382521511/original.jpg?aki_policy=profile_small",
         "host_picture_url": "https://a0.muscache.com/im/users/367042/profile_pic/1382521511/original.jpg?aki_policy=profile_x_me…",
         "host_neighbourhood": "Tampines",
         "host_listings_count": 8,
         "host_total_listings_count": 8,
         "host_verifications": "['email', 'phone', 'reviews', 'manual_offline', 'work_email']",
         "host_has_profile_pic": "t",
         "host_identity_verified": "t",
         "neighbourhood": "nan",
         "neighbourhood_cleansed": "Tampines",
         "neighbourhood_group_cleansed": "East Region",
         "latitude": 1.34537,
         "longitude": 103.95887,
         "property_type": "Private room in villa",
         "room_type": "Private room",
         "accommodates": 6,
         "bathrooms": "nan",
         "bathrooms_text": "1 private bath",
         "bedrooms": 2,
         "beds": 3,
         "amenities": "[\"Hangers\", \"Cooking basics\", \"Washer\", \"Hair dryer\", \"Fire pit\", \"Shared hot tub\", \"Outdoor furnit…",
         "price": "$179.00",
         "minimum_nights": 92,
         "maximum_nights": 1125,
         "minimum_minimum_nights": 92,
         "maximum_minimum_nights": 92,
         "minimum_maximum_nights": 1125,
         "maximum_maximum_nights": 1125,
         "minimum_nights_avg_ntm": 92,
         "maximum_nights_avg_ntm": 1125,
         "calendar_updated": "nan",
         "has_availability": "t",
         "availability_30": 30,
         "availability_60": 60,
         "availability_90": 90,
         "availability_365": 365,
         "calendar_last_scraped": "2021-12-27",
         "number_of_reviews": 20,
         "number_of_reviews_ltm": 0,
         "number_of_reviews_l30d": 0,
         "first_review": "2011-12-19",
         "last_review": "2020-01-17",
         "review_scores_rating": 4.44,
         "review_scores_accuracy": 4.37,
         "review_scores_cleanliness": 4,
         "review_scores_checkin": 4.63,
         "review_scores_communication": 4.78,
         "review_scores_location": 4.26,
         "review_scores_value": 4.32,
         "license": "nan",
         "instant_bookable": "f",
         "calculated_host_listings_count": 5,
         "calculated_host_listings_count_entire_homes": 0,
         "calculated_host_listings_count_private_rooms": 5,
         "calculated_host_listings_count_shared_rooms": 0,
         "reviews_per_month": 0.16,
         "_deepnote_index_column": 1
        },
        {
         "id": 71896,
         "listing_url": "https://www.airbnb.com/rooms/71896",
         "scrape_id": 20211226165704,
         "last_scraped": "2021-12-27",
         "name": "B&B  Room 1 near Airport & EXPO",
         "description": "<b>The space</b><br />Vocational Stay Deluxe Bedroom in Singapore.(Near Airport) <br /> <br />Locat…",
         "neighborhood_overview": "nan",
         "picture_url": "https://a0.muscache.com/pictures/2440674/ac4f4442_original.jpg",
         "host_id": 367042,
         "host_url": "https://www.airbnb.com/users/show/367042",
         "host_name": "Belinda",
         "host_since": "2011-01-29",
         "host_location": "Singapore",
         "host_about": "Hi My name is Belinda -Housekeeper \r\n\r\nI would like to welcome you to my \"Homestay Website\" \r\n\r\nIf …",
         "host_response_time": "within a day",
         "host_response_rate": "100%",
         "host_acceptance_rate": "nan",
         "host_is_superhost": "f",
         "host_thumbnail_url": "https://a0.muscache.com/im/users/367042/profile_pic/1382521511/original.jpg?aki_policy=profile_small",
         "host_picture_url": "https://a0.muscache.com/im/users/367042/profile_pic/1382521511/original.jpg?aki_policy=profile_x_me…",
         "host_neighbourhood": "Tampines",
         "host_listings_count": 8,
         "host_total_listings_count": 8,
         "host_verifications": "['email', 'phone', 'reviews', 'manual_offline', 'work_email']",
         "host_has_profile_pic": "t",
         "host_identity_verified": "t",
         "neighbourhood": "nan",
         "neighbourhood_cleansed": "Tampines",
         "neighbourhood_group_cleansed": "East Region",
         "latitude": 1.34754,
         "longitude": 103.95958,
         "property_type": "Private room in residential home",
         "room_type": "Private room",
         "accommodates": 3,
         "bathrooms": "nan",
         "bathrooms_text": "Shared half-bath",
         "bedrooms": 1,
         "beds": 1,
         "amenities": "[\"Coffee maker\", \"Cooking basics\", \"Washer\", \"Hair dryer\", \"Fire pit\", \"Shared hot tub\", \"Outdoor f…",
         "price": "$82.00",
         "minimum_nights": 92,
         "maximum_nights": 1125,
         "minimum_minimum_nights": 92,
         "maximum_minimum_nights": 92,
         "minimum_maximum_nights": 1125,
         "maximum_maximum_nights": 1125,
         "minimum_nights_avg_ntm": 92,
         "maximum_nights_avg_ntm": 1125,
         "calendar_updated": "nan",
         "has_availability": "t",
         "availability_30": 30,
         "availability_60": 60,
         "availability_90": 90,
         "availability_365": 365,
         "calendar_last_scraped": "2021-12-27",
         "number_of_reviews": 24,
         "number_of_reviews_ltm": 0,
         "number_of_reviews_l30d": 0,
         "first_review": "2011-07-30",
         "last_review": "2019-10-13",
         "review_scores_rating": 4.16,
         "review_scores_accuracy": 4.22,
         "review_scores_cleanliness": 4.09,
         "review_scores_checkin": 4.43,
         "review_scores_communication": 4.43,
         "review_scores_location": 4.17,
         "review_scores_value": 4.04,
         "license": "nan",
         "instant_bookable": "f",
         "calculated_host_listings_count": 5,
         "calculated_host_listings_count_entire_homes": 0,
         "calculated_host_listings_count_private_rooms": 5,
         "calculated_host_listings_count_shared_rooms": 0,
         "reviews_per_month": 0.19,
         "_deepnote_index_column": 2
        },
        {
         "id": 71903,
         "listing_url": "https://www.airbnb.com/rooms/71903",
         "scrape_id": 20211226165704,
         "last_scraped": "2021-12-27",
         "name": "Room 2-near Airport & EXPO",
         "description": "Like your own home, 24hrs access.<br /><br /><b>The space</b><br />Vocational Stay Deluxe Bedroom i…",
         "neighborhood_overview": "Quiet and view of the playground with exercise tracks with access to neighbourhood Simwi Estate.",
         "picture_url": "https://a0.muscache.com/pictures/568743/7bc623e9_original.jpg",
         "host_id": 367042,
         "host_url": "https://www.airbnb.com/users/show/367042",
         "host_name": "Belinda",
         "host_since": "2011-01-29",
         "host_location": "Singapore",
         "host_about": "Hi My name is Belinda -Housekeeper \r\n\r\nI would like to welcome you to my \"Homestay Website\" \r\n\r\nIf …",
         "host_response_time": "within a day",
         "host_response_rate": "100%",
         "host_acceptance_rate": "nan",
         "host_is_superhost": "f",
         "host_thumbnail_url": "https://a0.muscache.com/im/users/367042/profile_pic/1382521511/original.jpg?aki_policy=profile_small",
         "host_picture_url": "https://a0.muscache.com/im/users/367042/profile_pic/1382521511/original.jpg?aki_policy=profile_x_me…",
         "host_neighbourhood": "Tampines",
         "host_listings_count": 8,
         "host_total_listings_count": 8,
         "host_verifications": "['email', 'phone', 'reviews', 'manual_offline', 'work_email']",
         "host_has_profile_pic": "t",
         "host_identity_verified": "t",
         "neighbourhood": "Singapore, Singapore",
         "neighbourhood_cleansed": "Tampines",
         "neighbourhood_group_cleansed": "East Region",
         "latitude": 1.34531,
         "longitude": 103.961,
         "property_type": "Private room in residential home",
         "room_type": "Private room",
         "accommodates": 3,
         "bathrooms": "nan",
         "bathrooms_text": "Shared half-bath",
         "bedrooms": 1,
         "beds": 2,
         "amenities": "[\"Coffee maker\", \"Cooking basics\", \"Washer\", \"Hair dryer\", \"Fire pit\", \"Shared hot tub\", \"Outdoor f…",
         "price": "$82.00",
         "minimum_nights": 92,
         "maximum_nights": 1125,
         "minimum_minimum_nights": 92,
         "maximum_minimum_nights": 92,
         "minimum_maximum_nights": 1125,
         "maximum_maximum_nights": 1125,
         "minimum_nights_avg_ntm": 92,
         "maximum_nights_avg_ntm": 1125,
         "calendar_updated": "nan",
         "has_availability": "t",
         "availability_30": 30,
         "availability_60": 60,
         "availability_90": 90,
         "availability_365": 365,
         "calendar_last_scraped": "2021-12-27",
         "number_of_reviews": 47,
         "number_of_reviews_ltm": 0,
         "number_of_reviews_l30d": 0,
         "first_review": "2011-05-04",
         "last_review": "2020-01-09",
         "review_scores_rating": 4.41,
         "review_scores_accuracy": 4.39,
         "review_scores_cleanliness": 4.52,
         "review_scores_checkin": 4.63,
         "review_scores_communication": 4.64,
         "review_scores_location": 4.5,
         "review_scores_value": 4.36,
         "license": "nan",
         "instant_bookable": "f",
         "calculated_host_listings_count": 5,
         "calculated_host_listings_count_entire_homes": 0,
         "calculated_host_listings_count_private_rooms": 5,
         "calculated_host_listings_count_shared_rooms": 0,
         "reviews_per_month": 0.36,
         "_deepnote_index_column": 3
        },
        {
         "id": 275343,
         "listing_url": "https://www.airbnb.com/rooms/275343",
         "scrape_id": 20211226165704,
         "last_scraped": "2021-12-27",
         "name": "Conveniently located City Room!(1,2,3,4,5,6,7,8)",
         "description": "Awesome location and host <br />Room near INSEAD, NTU, SMU, NUS<br /><br /><b>The space</b><br />Ce…",
         "neighborhood_overview": "nan",
         "picture_url": "https://a0.muscache.com/pictures/11979330/9bbd1bbe_original.jpg",
         "host_id": 1439258,
         "host_url": "https://www.airbnb.com/users/show/1439258",
         "host_name": "Joyce",
         "host_since": "2011-11-24",
         "host_location": "Singapore, Singapore",
         "host_about": "K2 Guesthouse is designed for guests who want a truly local experience with local people. Experienc…",
         "host_response_time": "within a few hours",
         "host_response_rate": "87%",
         "host_acceptance_rate": "77%",
         "host_is_superhost": "f",
         "host_thumbnail_url": "https://a0.muscache.com/im/pictures/user/dad356e6-7b61-46c6-943e-40742a748d99.jpg?aki_policy=profil…",
         "host_picture_url": "https://a0.muscache.com/im/pictures/user/dad356e6-7b61-46c6-943e-40742a748d99.jpg?aki_policy=profil…",
         "host_neighbourhood": "Bukit Merah",
         "host_listings_count": 16,
         "host_total_listings_count": 16,
         "host_verifications": "['email', 'phone', 'reviews', 'jumio', 'offline_government_id', 'selfie', 'government_id', 'identit…",
         "host_has_profile_pic": "t",
         "host_identity_verified": "t",
         "neighbourhood": "nan",
         "neighbourhood_cleansed": "Bukit Merah",
         "neighbourhood_group_cleansed": "Central Region",
         "latitude": 1.29015,
         "longitude": 103.80814,
         "property_type": "Private room in rental unit",
         "room_type": "Private room",
         "accommodates": 1,
         "bathrooms": "nan",
         "bathrooms_text": "nan",
         "bedrooms": 1,
         "beds": 1,
         "amenities": "[\"Shampoo\", \"Essentials\", \"Keypad\", \"Kitchen\", \"Long term stays allowed\", \"Washer\", \"Hair dryer\", \"…",
         "price": "$52.00",
         "minimum_nights": 14,
         "maximum_nights": 999,
         "minimum_minimum_nights": 14,
         "maximum_minimum_nights": 14,
         "minimum_maximum_nights": 999,
         "maximum_maximum_nights": 999,
         "minimum_nights_avg_ntm": 14,
         "maximum_nights_avg_ntm": 999,
         "calendar_updated": "nan",
         "has_availability": "t",
         "availability_30": 6,
         "availability_60": 36,
         "availability_90": 66,
         "availability_365": 341,
         "calendar_last_scraped": "2021-12-27",
         "number_of_reviews": 20,
         "number_of_reviews_ltm": 0,
         "number_of_reviews_l30d": 0,
         "first_review": "2013-04-20",
         "last_review": "2020-04-17",
         "review_scores_rating": 4.39,
         "review_scores_accuracy": 4.12,
         "review_scores_cleanliness": 4.24,
         "review_scores_checkin": 4.53,
         "review_scores_communication": 4.47,
         "review_scores_location": 4.53,
         "review_scores_value": 4.59,
         "license": "S0399",
         "instant_bookable": "f",
         "calculated_host_listings_count": 16,
         "calculated_host_listings_count_entire_homes": 1,
         "calculated_host_listings_count_private_rooms": 15,
         "calculated_host_listings_count_shared_rooms": 0,
         "reviews_per_month": 0.19,
         "_deepnote_index_column": 4
        }
       ]
      },
      "text/plain": "       id                          listing_url       scrape_id last_scraped  \\\n0   50646   https://www.airbnb.com/rooms/50646  20211226165704   2021-12-27   \n1   71609   https://www.airbnb.com/rooms/71609  20211226165704   2021-12-27   \n2   71896   https://www.airbnb.com/rooms/71896  20211226165704   2021-12-27   \n3   71903   https://www.airbnb.com/rooms/71903  20211226165704   2021-12-27   \n4  275343  https://www.airbnb.com/rooms/275343  20211226165704   2021-12-27   \n\n                                               name  \\\n0                   Pleasant Room along Bukit Timah   \n1               Ensuite Room (Room 1 & 2) near EXPO   \n2                   B&B  Room 1 near Airport & EXPO   \n3                        Room 2-near Airport & EXPO   \n4  Conveniently located City Room!(1,2,3,4,5,6,7,8)   \n\n                                         description  \\\n0  Fully furnished bedroom with a nice view on th...   \n1  For 3 rooms.Book room 1&2 and room 4<br /><br ...   \n2  <b>The space</b><br />Vocational Stay Deluxe B...   \n3  Like your own home, 24hrs access.<br /><br /><...   \n4  Awesome location and host <br />Room near INSE...   \n\n                               neighborhood_overview  \\\n0  The serenity & quiet surrounding makes it an i...   \n1                                                NaN   \n2                                                NaN   \n3  Quiet and view of the playground with exercise...   \n4                                                NaN   \n\n                                         picture_url  host_id  \\\n0  https://a0.muscache.com/pictures/36342984/670d...   227796   \n1  https://a0.muscache.com/pictures/24453191/3580...   367042   \n2  https://a0.muscache.com/pictures/2440674/ac4f4...   367042   \n3  https://a0.muscache.com/pictures/568743/7bc623...   367042   \n4  https://a0.muscache.com/pictures/11979330/9bbd...  1439258   \n\n                                    host_url  ... review_scores_communication  \\\n0   https://www.airbnb.com/users/show/227796  ...                        4.94   \n1   https://www.airbnb.com/users/show/367042  ...                        4.78   \n2   https://www.airbnb.com/users/show/367042  ...                        4.43   \n3   https://www.airbnb.com/users/show/367042  ...                        4.64   \n4  https://www.airbnb.com/users/show/1439258  ...                        4.47   \n\n  review_scores_location review_scores_value license instant_bookable  \\\n0                   4.72                4.50     NaN                f   \n1                   4.26                4.32     NaN                f   \n2                   4.17                4.04     NaN                f   \n3                   4.50                4.36     NaN                f   \n4                   4.53                4.59   S0399                f   \n\n  calculated_host_listings_count calculated_host_listings_count_entire_homes  \\\n0                              1                                           0   \n1                              5                                           0   \n2                              5                                           0   \n3                              5                                           0   \n4                             16                                           1   \n\n  calculated_host_listings_count_private_rooms  \\\n0                                            1   \n1                                            5   \n2                                            5   \n3                                            5   \n4                                           15   \n\n  calculated_host_listings_count_shared_rooms reviews_per_month  \n0                                           0              0.19  \n1                                           0              0.16  \n2                                           0              0.19  \n3                                           0              0.36  \n4                                           0              0.19  \n\n[5 rows x 74 columns]",
      "text/html": "<div>\n<style scoped>\n    .dataframe tbody tr th:only-of-type {\n        vertical-align: middle;\n    }\n\n    .dataframe tbody tr th {\n        vertical-align: top;\n    }\n\n    .dataframe thead th {\n        text-align: right;\n    }\n</style>\n<table border=\"1\" class=\"dataframe\">\n  <thead>\n    <tr style=\"text-align: right;\">\n      <th></th>\n      <th>id</th>\n      <th>listing_url</th>\n      <th>scrape_id</th>\n      <th>last_scraped</th>\n      <th>name</th>\n      <th>description</th>\n      <th>neighborhood_overview</th>\n      <th>picture_url</th>\n      <th>host_id</th>\n      <th>host_url</th>\n      <th>...</th>\n      <th>review_scores_communication</th>\n      <th>review_scores_location</th>\n      <th>review_scores_value</th>\n      <th>license</th>\n      <th>instant_bookable</th>\n      <th>calculated_host_listings_count</th>\n      <th>calculated_host_listings_count_entire_homes</th>\n      <th>calculated_host_listings_count_private_rooms</th>\n      <th>calculated_host_listings_count_shared_rooms</th>\n      <th>reviews_per_month</th>\n    </tr>\n  </thead>\n  <tbody>\n    <tr>\n      <th>0</th>\n      <td>50646</td>\n      <td>https://www.airbnb.com/rooms/50646</td>\n      <td>20211226165704</td>\n      <td>2021-12-27</td>\n      <td>Pleasant Room along Bukit Timah</td>\n      <td>Fully furnished bedroom with a nice view on th...</td>\n      <td>The serenity &amp; quiet surrounding makes it an i...</td>\n      <td>https://a0.muscache.com/pictures/36342984/670d...</td>\n      <td>227796</td>\n      <td>https://www.airbnb.com/users/show/227796</td>\n      <td>...</td>\n      <td>4.94</td>\n      <td>4.72</td>\n      <td>4.50</td>\n      <td>NaN</td>\n      <td>f</td>\n      <td>1</td>\n      <td>0</td>\n      <td>1</td>\n      <td>0</td>\n      <td>0.19</td>\n    </tr>\n    <tr>\n      <th>1</th>\n      <td>71609</td>\n      <td>https://www.airbnb.com/rooms/71609</td>\n      <td>20211226165704</td>\n      <td>2021-12-27</td>\n      <td>Ensuite Room (Room 1 &amp; 2) near EXPO</td>\n      <td>For 3 rooms.Book room 1&amp;2 and room 4&lt;br /&gt;&lt;br ...</td>\n      <td>NaN</td>\n      <td>https://a0.muscache.com/pictures/24453191/3580...</td>\n      <td>367042</td>\n      <td>https://www.airbnb.com/users/show/367042</td>\n      <td>...</td>\n      <td>4.78</td>\n      <td>4.26</td>\n      <td>4.32</td>\n      <td>NaN</td>\n      <td>f</td>\n      <td>5</td>\n      <td>0</td>\n      <td>5</td>\n      <td>0</td>\n      <td>0.16</td>\n    </tr>\n    <tr>\n      <th>2</th>\n      <td>71896</td>\n      <td>https://www.airbnb.com/rooms/71896</td>\n      <td>20211226165704</td>\n      <td>2021-12-27</td>\n      <td>B&amp;B  Room 1 near Airport &amp; EXPO</td>\n      <td>&lt;b&gt;The space&lt;/b&gt;&lt;br /&gt;Vocational Stay Deluxe B...</td>\n      <td>NaN</td>\n      <td>https://a0.muscache.com/pictures/2440674/ac4f4...</td>\n      <td>367042</td>\n      <td>https://www.airbnb.com/users/show/367042</td>\n      <td>...</td>\n      <td>4.43</td>\n      <td>4.17</td>\n      <td>4.04</td>\n      <td>NaN</td>\n      <td>f</td>\n      <td>5</td>\n      <td>0</td>\n      <td>5</td>\n      <td>0</td>\n      <td>0.19</td>\n    </tr>\n    <tr>\n      <th>3</th>\n      <td>71903</td>\n      <td>https://www.airbnb.com/rooms/71903</td>\n      <td>20211226165704</td>\n      <td>2021-12-27</td>\n      <td>Room 2-near Airport &amp; EXPO</td>\n      <td>Like your own home, 24hrs access.&lt;br /&gt;&lt;br /&gt;&lt;...</td>\n      <td>Quiet and view of the playground with exercise...</td>\n      <td>https://a0.muscache.com/pictures/568743/7bc623...</td>\n      <td>367042</td>\n      <td>https://www.airbnb.com/users/show/367042</td>\n      <td>...</td>\n      <td>4.64</td>\n      <td>4.50</td>\n      <td>4.36</td>\n      <td>NaN</td>\n      <td>f</td>\n      <td>5</td>\n      <td>0</td>\n      <td>5</td>\n      <td>0</td>\n      <td>0.36</td>\n    </tr>\n    <tr>\n      <th>4</th>\n      <td>275343</td>\n      <td>https://www.airbnb.com/rooms/275343</td>\n      <td>20211226165704</td>\n      <td>2021-12-27</td>\n      <td>Conveniently located City Room!(1,2,3,4,5,6,7,8)</td>\n      <td>Awesome location and host &lt;br /&gt;Room near INSE...</td>\n      <td>NaN</td>\n      <td>https://a0.muscache.com/pictures/11979330/9bbd...</td>\n      <td>1439258</td>\n      <td>https://www.airbnb.com/users/show/1439258</td>\n      <td>...</td>\n      <td>4.47</td>\n      <td>4.53</td>\n      <td>4.59</td>\n      <td>S0399</td>\n      <td>f</td>\n      <td>16</td>\n      <td>1</td>\n      <td>15</td>\n      <td>0</td>\n      <td>0.19</td>\n    </tr>\n  </tbody>\n</table>\n<p>5 rows × 74 columns</p>\n</div>"
     },
     "metadata": {}
    }
   ],
   "execution_count": null
  },
  {
   "cell_type": "code",
   "metadata": {
    "deepnote_app_coordinates": {
     "h": 5,
     "w": 12,
     "x": 0,
     "y": 102
    },
    "deepnote_to_be_reexecuted": false,
    "execution_millis": 124,
    "execution_start": 1647321018895,
    "source_hash": "8f1f2e51",
    "cell_id": "00018-7bf4e204-3473-4daf-94b3-5374ea0052d2",
    "deepnote_cell_type": "code",
    "deepnote_cell_height": 719.265625
   },
   "source": "listings.info()\n# There are 74 columns in listings dataset",
   "outputs": [
    {
     "name": "stdout",
     "text": "<class 'pandas.core.frame.DataFrame'>\nRangeIndex: 3672 entries, 0 to 3671\nData columns (total 74 columns):\n #   Column                                        Non-Null Count  Dtype  \n---  ------                                        --------------  -----  \n 0   id                                            3672 non-null   int64  \n 1   listing_url                                   3672 non-null   object \n 2   scrape_id                                     3672 non-null   int64  \n 3   last_scraped                                  3672 non-null   object \n 4   name                                          3672 non-null   object \n 5   description                                   3555 non-null   object \n 6   neighborhood_overview                         2373 non-null   object \n 7   picture_url                                   3672 non-null   object \n 8   host_id                                       3672 non-null   int64  \n 9   host_url                                      3672 non-null   object \n 10  host_name                                     3661 non-null   object \n 11  host_since                                    3661 non-null   object \n 12  host_location                                 3661 non-null   object \n 13  host_about                                    2450 non-null   object \n 14  host_response_time                            3218 non-null   object \n 15  host_response_rate                            3218 non-null   object \n 16  host_acceptance_rate                          2944 non-null   object \n 17  host_is_superhost                             3661 non-null   object \n 18  host_thumbnail_url                            3661 non-null   object \n 19  host_picture_url                              3661 non-null   object \n 20  host_neighbourhood                            3349 non-null   object \n 21  host_listings_count                           3661 non-null   float64\n 22  host_total_listings_count                     3661 non-null   float64\n 23  host_verifications                            3672 non-null   object \n 24  host_has_profile_pic                          3661 non-null   object \n 25  host_identity_verified                        3661 non-null   object \n 26  neighbourhood                                 2373 non-null   object \n 27  neighbourhood_cleansed                        3672 non-null   object \n 28  neighbourhood_group_cleansed                  3672 non-null   object \n 29  latitude                                      3672 non-null   float64\n 30  longitude                                     3672 non-null   float64\n 31  property_type                                 3672 non-null   object \n 32  room_type                                     3672 non-null   object \n 33  accommodates                                  3672 non-null   int64  \n 34  bathrooms                                     0 non-null      float64\n 35  bathrooms_text                                3643 non-null   object \n 36  bedrooms                                      3255 non-null   float64\n 37  beds                                          3542 non-null   float64\n 38  amenities                                     3672 non-null   object \n 39  price                                         3672 non-null   object \n 40  minimum_nights                                3672 non-null   int64  \n 41  maximum_nights                                3672 non-null   int64  \n 42  minimum_minimum_nights                        3671 non-null   float64\n 43  maximum_minimum_nights                        3671 non-null   float64\n 44  minimum_maximum_nights                        3671 non-null   float64\n 45  maximum_maximum_nights                        3671 non-null   float64\n 46  minimum_nights_avg_ntm                        3671 non-null   float64\n 47  maximum_nights_avg_ntm                        3671 non-null   float64\n 48  calendar_updated                              0 non-null      float64\n 49  has_availability                              3672 non-null   object \n 50  availability_30                               3672 non-null   int64  \n 51  availability_60                               3672 non-null   int64  \n 52  availability_90                               3672 non-null   int64  \n 53  availability_365                              3672 non-null   int64  \n 54  calendar_last_scraped                         3672 non-null   object \n 55  number_of_reviews                             3672 non-null   int64  \n 56  number_of_reviews_ltm                         3672 non-null   int64  \n 57  number_of_reviews_l30d                        3672 non-null   int64  \n 58  first_review                                  2044 non-null   object \n 59  last_review                                   2044 non-null   object \n 60  review_scores_rating                          2044 non-null   float64\n 61  review_scores_accuracy                        1988 non-null   float64\n 62  review_scores_cleanliness                     1989 non-null   float64\n 63  review_scores_checkin                         1988 non-null   float64\n 64  review_scores_communication                   1989 non-null   float64\n 65  review_scores_location                        1988 non-null   float64\n 66  review_scores_value                           1988 non-null   float64\n 67  license                                       653 non-null    object \n 68  instant_bookable                              3672 non-null   object \n 69  calculated_host_listings_count                3672 non-null   int64  \n 70  calculated_host_listings_count_entire_homes   3672 non-null   int64  \n 71  calculated_host_listings_count_private_rooms  3672 non-null   int64  \n 72  calculated_host_listings_count_shared_rooms   3672 non-null   int64  \n 73  reviews_per_month                             2044 non-null   float64\ndtypes: float64(22), int64(17), object(35)\nmemory usage: 2.1+ MB\n",
     "output_type": "stream"
    }
   ],
   "execution_count": null
  },
  {
   "cell_type": "markdown",
   "source": "### Drop Columns",
   "metadata": {
    "deepnote_app_coordinates": {
     "h": 5,
     "w": 12,
     "x": 0,
     "y": 108
    },
    "tags": [],
    "cell_id": "00019-a2a5f61a-f17b-4717-a041-f66bf90eaa9a",
    "deepnote_cell_type": "markdown",
    "deepnote_cell_height": 62.15625
   }
  },
  {
   "cell_type": "code",
   "metadata": {
    "deepnote_app_coordinates": {
     "h": 5,
     "w": 12,
     "x": 0,
     "y": 114
    },
    "deepnote_to_be_reexecuted": false,
    "execution_millis": 15,
    "execution_start": 1647321019018,
    "source_hash": "8bbab7b6",
    "cell_id": "00020-848b96a1-1678-4871-84ab-54432fd4abbd",
    "deepnote_cell_type": "code",
    "deepnote_cell_height": 351.15625
   },
   "source": "# Drop features that are duplicates or redundant \nremove_listing_rows =  ['scrape_id', 'last_scraped', 'picture_url' , 'host_id', \n                        'host_url', 'host_name', 'host_location', 'host_about', \n                        'host_thumbnail_url', 'host_picture_url', \n                        'host_neighbourhood', 'host_total_listings_count', \n                        'host_verifications', 'bathrooms', 'minimum_minimum_nights', \n                        'maximum_minimum_nights', 'minimum_maximum_nights', \n                        'maximum_maximum_nights', 'minimum_nights_avg_ntm', \n                        'maximum_nights_avg_ntm', 'calendar_updated', \n                        'calendar_last_scraped', 'first_review', 'last_review', \n                        'license', 'calculated_host_listings_count_entire_homes', \n                        'calculated_host_listings_count_private_rooms', \n                        'calculated_host_listings_count_shared_rooms', \n                        'reviews_per_month', 'listing_url']\n\nlistings = listings.drop(remove_listing_rows, axis=1)",
   "outputs": [],
   "execution_count": null
  },
  {
   "cell_type": "markdown",
   "source": "### Inspect Null Values",
   "metadata": {
    "deepnote_app_coordinates": {
     "h": 5,
     "w": 12,
     "x": 0,
     "y": 120
    },
    "tags": [],
    "cell_id": "00021-d25ae105-439c-48c5-902a-671e3fd8fe6c",
    "deepnote_cell_type": "markdown",
    "deepnote_cell_height": 62.15625
   }
  },
  {
   "cell_type": "code",
   "metadata": {
    "deepnote_app_coordinates": {
     "h": 5,
     "w": 12,
     "x": 0,
     "y": 126
    },
    "deepnote_to_be_reexecuted": false,
    "execution_millis": 102,
    "execution_start": 1647321019040,
    "source_hash": "2b46d64",
    "cell_id": "00022-3e2f8d1f-e051-4b7c-b045-e43e3899bffe",
    "deepnote_cell_type": "code",
    "deepnote_cell_height": 539.296875,
    "deepnote_output_heights": [
     424.03125
    ]
   },
   "source": "# Count how many missing values there are in every column \ncount_null_df(listings)",
   "outputs": [
    {
     "output_type": "execute_result",
     "execution_count": 14,
     "data": {
      "text/plain": "description                     117\nneighborhood_overview          1299\nhost_since                       11\nhost_response_time              454\nhost_response_rate              454\nhost_acceptance_rate            728\nhost_is_superhost                11\nhost_listings_count              11\nhost_has_profile_pic             11\nhost_identity_verified           11\nneighbourhood                  1299\nbathrooms_text                   29\nbedrooms                        417\nbeds                            130\nreview_scores_rating           1628\nreview_scores_accuracy         1684\nreview_scores_cleanliness      1683\nreview_scores_checkin          1684\nreview_scores_communication    1683\nreview_scores_location         1684\nreview_scores_value            1684\ndtype: int64"
     },
     "metadata": {}
    }
   ],
   "execution_count": null
  },
  {
   "cell_type": "code",
   "metadata": {
    "deepnote_app_coordinates": {
     "h": 5,
     "w": 12,
     "x": 0,
     "y": 132
    },
    "deepnote_to_be_reexecuted": false,
    "execution_millis": 17,
    "execution_start": 1647321019099,
    "source_hash": "fddc1b44",
    "tags": [],
    "cell_id": "00023-37cdfca5-6f93-4022-80ee-2eae948fee80",
    "deepnote_cell_type": "code",
    "deepnote_cell_height": 117.15625
   },
   "source": "def drop_variables(df, col):\n    df = df.dropna(how='all', subset=[col])\n    return df",
   "outputs": [],
   "execution_count": null
  },
  {
   "cell_type": "markdown",
   "source": "#### Hosts\n\nIt seems like hosts with null values for 'host_since' also have null values for other important features such as 'host_acceptance_rate', 'host_listings_count', 'host_response_rate'. Hence, we will remove the rows with null values for 'host_since'",
   "metadata": {
    "deepnote_app_coordinates": {
     "h": 5,
     "w": 12,
     "x": 0,
     "y": 138
    },
    "tags": [],
    "cell_id": "00024-1209316c-61ef-4a09-b709-419e47832664",
    "deepnote_cell_type": "markdown",
    "deepnote_cell_height": 133.125
   }
  },
  {
   "cell_type": "code",
   "metadata": {
    "deepnote_app_coordinates": {
     "h": 5,
     "w": 12,
     "x": 0,
     "y": 144
    },
    "deepnote_to_be_reexecuted": false,
    "execution_millis": 228,
    "execution_start": 1647321019118,
    "source_hash": "956dcca",
    "cell_id": "00025-c0bdb916-f2e2-4a7e-b006-735988dc1045",
    "deepnote_cell_type": "code",
    "deepnote_cell_height": 438.515625,
    "deepnote_output_heights": [
     208.859375
    ]
   },
   "source": "# Inspect 'host_since' with null values\ncheck_nulls_hosts = listings[listings['host_since'].isna()]\ncheck_nulls_hosts.head()",
   "outputs": [
    {
     "output_type": "execute_result",
     "execution_count": 16,
     "data": {
      "application/vnd.deepnote.dataframe.v3+json": {
       "column_count": 44,
       "row_count": 5,
       "columns": [
        {
         "name": "id",
         "dtype": "int64",
         "stats": {
          "unique_count": 5,
          "nan_count": 0,
          "min": "16936558",
          "max": "33050985",
          "histogram": [
           {
            "bin_start": 16936558,
            "bin_end": 18548000.7,
            "count": 1
           },
           {
            "bin_start": 18548000.7,
            "bin_end": 20159443.4,
            "count": 0
           },
           {
            "bin_start": 20159443.4,
            "bin_end": 21770886.1,
            "count": 0
           },
           {
            "bin_start": 21770886.1,
            "bin_end": 23382328.8,
            "count": 0
           },
           {
            "bin_start": 23382328.8,
            "bin_end": 24993771.5,
            "count": 0
           },
           {
            "bin_start": 24993771.5,
            "bin_end": 26605214.2,
            "count": 0
           },
           {
            "bin_start": 26605214.2,
            "bin_end": 28216656.9,
            "count": 0
           },
           {
            "bin_start": 28216656.9,
            "bin_end": 29828099.6,
            "count": 0
           },
           {
            "bin_start": 29828099.6,
            "bin_end": 31439542.299999997,
            "count": 0
           },
           {
            "bin_start": 31439542.299999997,
            "bin_end": 33050985,
            "count": 4
           }
          ]
         }
        },
        {
         "name": "name",
         "dtype": "object",
         "stats": {
          "unique_count": 5,
          "nan_count": 0,
          "categories": [
           {
            "name": "2BR Cosy Home @ River Valley",
            "count": 1
           },
           {
            "name": "H - BEAUTIFUL CHIC 3 BEDROOM APT",
            "count": 1
           },
           {
            "name": "3 others",
            "count": 3
           }
          ]
         }
        },
        {
         "name": "description",
         "dtype": "object",
         "stats": {
          "unique_count": 4,
          "nan_count": 0,
          "categories": [
           {
            "name": "Chic, nostalgic district of Tiong Bahru with the best cafés, local food, restaurants and galleries at your doorstep. Walking distance to Outram and Tiong Bahru MRT stations (subway). Secured by electronic lock self check-in available.<br /><br /><b>The space</b><br />A spacious 2nd level unit,  3 bedroom apartment with a total of 4 Queen size bed, well appointed bathroom.<br /><br />The kitchenette comes equipped with a Oven, microwave, fridge, cooker hob, kettle, as well as cutlery and crockery for cooking.<br /><br />It has a washing machine and a dryer rack for laundry.<br /><br /><b>Guest access</b><br />24 hour self check in<br />- Unlimited high speed wireless Internet<br />- Bedding, cotton linen and fresh towels <br />- Hairdryer, iron and iron board<br />- Global Universal sockets in the room <br />- Body wash and shampoo are provided in the bathroom<br /><br />All other amenities listed within the apartment and are for guest exclusive use. <br /><br />Our Guest do not need to",
            "count": 2
           },
           {
            "name": "Located in the heart of River Valley, this apartment is the ideal accommodation for families & friends. Close to restaurants, shops and the nightlife, you’ll love the convenience & comfort the apartment offers.<br /><br />The nearest MRT station is Somerset MRT Station which is in the heart of the Orchard Road shopping district. There are many bus stops within 1-2mins walk from the apartment. Private hires like Grab & GOJEK are available. Alternatively, you can easily flag down a taxi along any main road.<br /><br /><b>The space</b><br />This fully-furnished spacious apartment overlooks a great view of the city. With 2 bedrooms, 2 bathrooms & a fully equipped kitchen, it is a great place for family & friends traveling together to enjoy a home away from home.<br /><br />Layout:<br />• Living Room<br />• Dining Area<br />• Kitchen<br />• 1 Bedroom ( 1 Queen Bed)<br />• 1 Bedroom ( 1 Queen Bed )<br />• 2 Bathrooms<br />• 1 Balcony<br /><br /><b>Guest access</b><br />• Guests are allowed f",
            "count": 1
           },
           {
            "name": "2 others",
            "count": 2
           }
          ]
         }
        },
        {
         "name": "neighborhood_overview",
         "dtype": "object",
         "stats": {
          "unique_count": 3,
          "nan_count": 0,
          "categories": [
           {
            "name": "The apartment is nestled in 1930s Art Decor estate of Tiong Bahru is ideal for the traveller seeking an unique experience. <br /><br />From great local breakfast to late night supper (till 5am), delicate fruit tarts and hand made croissants with artisanal coffee, Tiong Bahru Estate with its 1930s  art decor architecture, has it all.<br /><br />You'd find indie bookstores, galleries and boutiques sprinkled around the estate and Tiong Bahru Market offers a fascinating look at local and regional produce whilst the food center on level 2 will titillate your taste buds with more than a hundred varieties of excellent local food at very easy prices.",
            "count": 3
           },
           {
            "name": "Central location allows easy access to a variety of shopping & dining options<br /><br />- 1 min drive / 5 min walk to Great World City (shopping centre with many shops & a supermarket)<br />- 5 min drive / 10-15 min walk to the Orchard Road shopping district<br />- 3 min drive from Robertson Quay",
            "count": 1
           },
           {
            "name": "Expect great restaurants, a plethora of the best local food and many interesting boutiques and indie shops. Tiong Bahru has an eclectic mix of things to see and do: From a true blue Singaporean breakfast to supper for the 2am hunger pangs, a trendy bar to long quiet afternoons in a bookstore. There's definitely something for everyone! Do keep a look out for the signboards around with nuggets of heritage and participate in the self-guided trail around the estate!",
            "count": 1
           }
          ]
         }
        },
        {
         "name": "host_since",
         "dtype": "object",
         "stats": {
          "unique_count": 0,
          "nan_count": 5,
          "categories": [
           {
            "name": "Missing",
            "count": 5
           }
          ]
         }
        },
        {
         "name": "host_response_time",
         "dtype": "object",
         "stats": {
          "unique_count": 0,
          "nan_count": 5,
          "categories": [
           {
            "name": "Missing",
            "count": 5
           }
          ]
         }
        },
        {
         "name": "host_response_rate",
         "dtype": "object",
         "stats": {
          "unique_count": 0,
          "nan_count": 5,
          "categories": [
           {
            "name": "Missing",
            "count": 5
           }
          ]
         }
        },
        {
         "name": "host_acceptance_rate",
         "dtype": "object",
         "stats": {
          "unique_count": 0,
          "nan_count": 5,
          "categories": [
           {
            "name": "Missing",
            "count": 5
           }
          ]
         }
        },
        {
         "name": "host_is_superhost",
         "dtype": "object",
         "stats": {
          "unique_count": 0,
          "nan_count": 5,
          "categories": [
           {
            "name": "Missing",
            "count": 5
           }
          ]
         }
        },
        {
         "name": "host_listings_count",
         "dtype": "float64",
         "stats": {
          "unique_count": 0,
          "nan_count": 5,
          "min": null,
          "max": null,
          "histogram": [
           {
            "bin_start": 0,
            "bin_end": 0.1,
            "count": 0
           },
           {
            "bin_start": 0.1,
            "bin_end": 0.2,
            "count": 0
           },
           {
            "bin_start": 0.2,
            "bin_end": 0.30000000000000004,
            "count": 0
           },
           {
            "bin_start": 0.30000000000000004,
            "bin_end": 0.4,
            "count": 0
           },
           {
            "bin_start": 0.4,
            "bin_end": 0.5,
            "count": 0
           },
           {
            "bin_start": 0.5,
            "bin_end": 0.6000000000000001,
            "count": 0
           },
           {
            "bin_start": 0.6000000000000001,
            "bin_end": 0.7000000000000001,
            "count": 0
           },
           {
            "bin_start": 0.7000000000000001,
            "bin_end": 0.8,
            "count": 0
           },
           {
            "bin_start": 0.8,
            "bin_end": 0.9,
            "count": 0
           },
           {
            "bin_start": 0.9,
            "bin_end": 1,
            "count": 0
           }
          ]
         }
        },
        {
         "name": "host_has_profile_pic",
         "dtype": "object",
         "stats": {
          "unique_count": 0,
          "nan_count": 5,
          "categories": [
           {
            "name": "Missing",
            "count": 5
           }
          ]
         }
        },
        {
         "name": "host_identity_verified",
         "dtype": "object",
         "stats": {
          "unique_count": 0,
          "nan_count": 5,
          "categories": [
           {
            "name": "Missing",
            "count": 5
           }
          ]
         }
        },
        {
         "name": "neighbourhood",
         "dtype": "object",
         "stats": {
          "unique_count": 1,
          "nan_count": 0,
          "categories": [
           {
            "name": "Singapore, Singapore",
            "count": 5
           }
          ]
         }
        },
        {
         "name": "neighbourhood_cleansed",
         "dtype": "object",
         "stats": {
          "unique_count": 2,
          "nan_count": 0,
          "categories": [
           {
            "name": "Bukit Merah",
            "count": 4
           },
           {
            "name": "River Valley",
            "count": 1
           }
          ]
         }
        },
        {
         "name": "neighbourhood_group_cleansed",
         "dtype": "object",
         "stats": {
          "unique_count": 1,
          "nan_count": 0,
          "categories": [
           {
            "name": "Central Region",
            "count": 5
           }
          ]
         }
        },
        {
         "name": "latitude",
         "dtype": "float64",
         "stats": {
          "unique_count": 5,
          "nan_count": 0,
          "min": "1.28153",
          "max": "1.29564",
          "histogram": [
           {
            "bin_start": 1.28153,
            "bin_end": 1.282941,
            "count": 3
           },
           {
            "bin_start": 1.282941,
            "bin_end": 1.284352,
            "count": 1
           },
           {
            "bin_start": 1.284352,
            "bin_end": 1.285763,
            "count": 0
           },
           {
            "bin_start": 1.285763,
            "bin_end": 1.287174,
            "count": 0
           },
           {
            "bin_start": 1.287174,
            "bin_end": 1.2885849999999999,
            "count": 0
           },
           {
            "bin_start": 1.2885849999999999,
            "bin_end": 1.289996,
            "count": 0
           },
           {
            "bin_start": 1.289996,
            "bin_end": 1.291407,
            "count": 0
           },
           {
            "bin_start": 1.291407,
            "bin_end": 1.292818,
            "count": 0
           },
           {
            "bin_start": 1.292818,
            "bin_end": 1.2942289999999999,
            "count": 0
           },
           {
            "bin_start": 1.2942289999999999,
            "bin_end": 1.29564,
            "count": 1
           }
          ]
         }
        },
        {
         "name": "longitude",
         "dtype": "float64",
         "stats": {
          "unique_count": 5,
          "nan_count": 0,
          "min": "103.83024",
          "max": "103.83434",
          "histogram": [
           {
            "bin_start": 103.83024,
            "bin_end": 103.83065,
            "count": 1
           },
           {
            "bin_start": 103.83065,
            "bin_end": 103.83106000000001,
            "count": 0
           },
           {
            "bin_start": 103.83106000000001,
            "bin_end": 103.83147,
            "count": 0
           },
           {
            "bin_start": 103.83147,
            "bin_end": 103.83188,
            "count": 0
           },
           {
            "bin_start": 103.83188,
            "bin_end": 103.83229,
            "count": 1
           },
           {
            "bin_start": 103.83229,
            "bin_end": 103.8327,
            "count": 0
           },
           {
            "bin_start": 103.8327,
            "bin_end": 103.83311,
            "count": 1
           },
           {
            "bin_start": 103.83311,
            "bin_end": 103.83352,
            "count": 0
           },
           {
            "bin_start": 103.83352,
            "bin_end": 103.83393,
            "count": 1
           },
           {
            "bin_start": 103.83393,
            "bin_end": 103.83434,
            "count": 1
           }
          ]
         }
        },
        {
         "name": "property_type",
         "dtype": "object",
         "stats": {
          "unique_count": 2,
          "nan_count": 0,
          "categories": [
           {
            "name": "Entire rental unit",
            "count": 4
           },
           {
            "name": "Entire condominium (condo)",
            "count": 1
           }
          ]
         }
        },
        {
         "name": "room_type",
         "dtype": "object",
         "stats": {
          "unique_count": 1,
          "nan_count": 0,
          "categories": [
           {
            "name": "Entire home/apt",
            "count": 5
           }
          ]
         }
        },
        {
         "name": "accommodates",
         "dtype": "int64",
         "stats": {
          "unique_count": 3,
          "nan_count": 0,
          "min": "2",
          "max": "6",
          "histogram": [
           {
            "bin_start": 2,
            "bin_end": 2.4,
            "count": 1
           },
           {
            "bin_start": 2.4,
            "bin_end": 2.8,
            "count": 0
           },
           {
            "bin_start": 2.8,
            "bin_end": 3.2,
            "count": 0
           },
           {
            "bin_start": 3.2,
            "bin_end": 3.6,
            "count": 0
           },
           {
            "bin_start": 3.6,
            "bin_end": 4,
            "count": 0
           },
           {
            "bin_start": 4,
            "bin_end": 4.4,
            "count": 2
           },
           {
            "bin_start": 4.4,
            "bin_end": 4.800000000000001,
            "count": 0
           },
           {
            "bin_start": 4.800000000000001,
            "bin_end": 5.2,
            "count": 0
           },
           {
            "bin_start": 5.2,
            "bin_end": 5.6,
            "count": 0
           },
           {
            "bin_start": 5.6,
            "bin_end": 6,
            "count": 2
           }
          ]
         }
        },
        {
         "name": "bathrooms_text",
         "dtype": "object",
         "stats": {
          "unique_count": 3,
          "nan_count": 0,
          "categories": [
           {
            "name": "1 bath",
            "count": 3
           },
           {
            "name": "2 baths",
            "count": 1
           },
           {
            "name": "1.5 baths",
            "count": 1
           }
          ]
         }
        },
        {
         "name": "bedrooms",
         "dtype": "float64",
         "stats": {
          "unique_count": 3,
          "nan_count": 0,
          "min": "1.0",
          "max": "3.0",
          "histogram": [
           {
            "bin_start": 1,
            "bin_end": 1.2,
            "count": 1
           },
           {
            "bin_start": 1.2,
            "bin_end": 1.4,
            "count": 0
           },
           {
            "bin_start": 1.4,
            "bin_end": 1.6,
            "count": 0
           },
           {
            "bin_start": 1.6,
            "bin_end": 1.8,
            "count": 0
           },
           {
            "bin_start": 1.8,
            "bin_end": 2,
            "count": 0
           },
           {
            "bin_start": 2,
            "bin_end": 2.2,
            "count": 2
           },
           {
            "bin_start": 2.2,
            "bin_end": 2.4000000000000004,
            "count": 0
           },
           {
            "bin_start": 2.4000000000000004,
            "bin_end": 2.6,
            "count": 0
           },
           {
            "bin_start": 2.6,
            "bin_end": 2.8,
            "count": 0
           },
           {
            "bin_start": 2.8,
            "bin_end": 3,
            "count": 2
           }
          ]
         }
        },
        {
         "name": "beds",
         "dtype": "float64",
         "stats": {
          "unique_count": 3,
          "nan_count": 0,
          "min": "1.0",
          "max": "3.0",
          "histogram": [
           {
            "bin_start": 1,
            "bin_end": 1.2,
            "count": 1
           },
           {
            "bin_start": 1.2,
            "bin_end": 1.4,
            "count": 0
           },
           {
            "bin_start": 1.4,
            "bin_end": 1.6,
            "count": 0
           },
           {
            "bin_start": 1.6,
            "bin_end": 1.8,
            "count": 0
           },
           {
            "bin_start": 1.8,
            "bin_end": 2,
            "count": 0
           },
           {
            "bin_start": 2,
            "bin_end": 2.2,
            "count": 1
           },
           {
            "bin_start": 2.2,
            "bin_end": 2.4000000000000004,
            "count": 0
           },
           {
            "bin_start": 2.4000000000000004,
            "bin_end": 2.6,
            "count": 0
           },
           {
            "bin_start": 2.6,
            "bin_end": 2.8,
            "count": 0
           },
           {
            "bin_start": 2.8,
            "bin_end": 3,
            "count": 3
           }
          ]
         }
        },
        {
         "name": "amenities",
         "dtype": "object",
         "stats": {
          "unique_count": 5,
          "nan_count": 0,
          "categories": [
           {
            "name": "[\"Hangers\", \"Cooking basics\", \"Washer\", \"Single level home\", \"Hair dryer\", \"Oven\", \"TV\", \"Free parking on premises\", \"Pool\", \"Long term stays allowed\", \"Elevator\", \"Patio or balcony\", \"Refrigerator\", \"Dryer\", \"Microwave\", \"Gym\", \"Wifi\", \"Smoke alarm\", \"Shampoo\", \"Keypad\", \"Hot water\", \"Stove\", \"Iron\", \"Essentials\", \"Kitchen\", \"Air conditioning\", \"Dishes and silverware\"]",
            "count": 1
           },
           {
            "name": "[\"Hangers\", \"Bed linens\", \"Coffee maker\", \"Cooking basics\", \"Washer\", \"Hair dryer\", \"TV\", \"Dedicated workspace\", \"Room-darkening shades\", \"Long term stays allowed\", \"Refrigerator\", \"Microwave\", \"Wifi\", \"Luggage dropoff allowed\", \"Shampoo\", \"Keypad\", \"Paid parking off premises\", \"Hot water\", \"Stove\", \"Iron\", \"Essentials\", \"Kitchen\", \"Air conditioning\", \"Dishes and silverware\"]",
            "count": 1
           },
           {
            "name": "3 others",
            "count": 3
           }
          ]
         }
        },
        {
         "name": "price",
         "dtype": "object",
         "stats": {
          "unique_count": 4,
          "nan_count": 0,
          "categories": [
           {
            "name": "$204.00",
            "count": 2
           },
           {
            "name": "$219.00",
            "count": 1
           },
           {
            "name": "2 others",
            "count": 2
           }
          ]
         }
        },
        {
         "name": "minimum_nights",
         "dtype": "int64",
         "stats": {
          "unique_count": 4,
          "nan_count": 0,
          "min": "5",
          "max": "90",
          "histogram": [
           {
            "bin_start": 5,
            "bin_end": 13.5,
            "count": 1
           },
           {
            "bin_start": 13.5,
            "bin_end": 22,
            "count": 0
           },
           {
            "bin_start": 22,
            "bin_end": 30.5,
            "count": 2
           },
           {
            "bin_start": 30.5,
            "bin_end": 39,
            "count": 0
           },
           {
            "bin_start": 39,
            "bin_end": 47.5,
            "count": 0
           },
           {
            "bin_start": 47.5,
            "bin_end": 56,
            "count": 0
           },
           {
            "bin_start": 56,
            "bin_end": 64.5,
            "count": 1
           },
           {
            "bin_start": 64.5,
            "bin_end": 73,
            "count": 0
           },
           {
            "bin_start": 73,
            "bin_end": 81.5,
            "count": 0
           },
           {
            "bin_start": 81.5,
            "bin_end": 90,
            "count": 1
           }
          ]
         }
        },
        {
         "name": "maximum_nights",
         "dtype": "int64",
         "stats": {
          "unique_count": 1,
          "nan_count": 0,
          "min": "1125",
          "max": "1125",
          "histogram": [
           {
            "bin_start": 1124.5,
            "bin_end": 1124.6,
            "count": 0
           },
           {
            "bin_start": 1124.6,
            "bin_end": 1124.7,
            "count": 0
           },
           {
            "bin_start": 1124.7,
            "bin_end": 1124.8,
            "count": 0
           },
           {
            "bin_start": 1124.8,
            "bin_end": 1124.9,
            "count": 0
           },
           {
            "bin_start": 1124.9,
            "bin_end": 1125,
            "count": 0
           },
           {
            "bin_start": 1125,
            "bin_end": 1125.1,
            "count": 5
           },
           {
            "bin_start": 1125.1,
            "bin_end": 1125.2,
            "count": 0
           },
           {
            "bin_start": 1125.2,
            "bin_end": 1125.3,
            "count": 0
           },
           {
            "bin_start": 1125.3,
            "bin_end": 1125.4,
            "count": 0
           },
           {
            "bin_start": 1125.4,
            "bin_end": 1125.5,
            "count": 0
           }
          ]
         }
        },
        {
         "name": "has_availability",
         "dtype": "object",
         "stats": {
          "unique_count": 1,
          "nan_count": 0,
          "categories": [
           {
            "name": "t",
            "count": 5
           }
          ]
         }
        },
        {
         "name": "availability_30",
         "dtype": "int64",
         "stats": {
          "unique_count": 2,
          "nan_count": 0,
          "min": "0",
          "max": "2",
          "histogram": [
           {
            "bin_start": 0,
            "bin_end": 0.2,
            "count": 4
           },
           {
            "bin_start": 0.2,
            "bin_end": 0.4,
            "count": 0
           },
           {
            "bin_start": 0.4,
            "bin_end": 0.6000000000000001,
            "count": 0
           },
           {
            "bin_start": 0.6000000000000001,
            "bin_end": 0.8,
            "count": 0
           },
           {
            "bin_start": 0.8,
            "bin_end": 1,
            "count": 0
           },
           {
            "bin_start": 1,
            "bin_end": 1.2000000000000002,
            "count": 0
           },
           {
            "bin_start": 1.2000000000000002,
            "bin_end": 1.4000000000000001,
            "count": 0
           },
           {
            "bin_start": 1.4000000000000001,
            "bin_end": 1.6,
            "count": 0
           },
           {
            "bin_start": 1.6,
            "bin_end": 1.8,
            "count": 0
           },
           {
            "bin_start": 1.8,
            "bin_end": 2,
            "count": 1
           }
          ]
         }
        },
        {
         "name": "availability_60",
         "dtype": "int64",
         "stats": {
          "unique_count": 2,
          "nan_count": 0,
          "min": "0",
          "max": "2",
          "histogram": [
           {
            "bin_start": 0,
            "bin_end": 0.2,
            "count": 4
           },
           {
            "bin_start": 0.2,
            "bin_end": 0.4,
            "count": 0
           },
           {
            "bin_start": 0.4,
            "bin_end": 0.6000000000000001,
            "count": 0
           },
           {
            "bin_start": 0.6000000000000001,
            "bin_end": 0.8,
            "count": 0
           },
           {
            "bin_start": 0.8,
            "bin_end": 1,
            "count": 0
           },
           {
            "bin_start": 1,
            "bin_end": 1.2000000000000002,
            "count": 0
           },
           {
            "bin_start": 1.2000000000000002,
            "bin_end": 1.4000000000000001,
            "count": 0
           },
           {
            "bin_start": 1.4000000000000001,
            "bin_end": 1.6,
            "count": 0
           },
           {
            "bin_start": 1.6,
            "bin_end": 1.8,
            "count": 0
           },
           {
            "bin_start": 1.8,
            "bin_end": 2,
            "count": 1
           }
          ]
         }
        },
        {
         "name": "availability_90",
         "dtype": "int64",
         "stats": {
          "unique_count": 2,
          "nan_count": 0,
          "min": "0",
          "max": "2",
          "histogram": [
           {
            "bin_start": 0,
            "bin_end": 0.2,
            "count": 4
           },
           {
            "bin_start": 0.2,
            "bin_end": 0.4,
            "count": 0
           },
           {
            "bin_start": 0.4,
            "bin_end": 0.6000000000000001,
            "count": 0
           },
           {
            "bin_start": 0.6000000000000001,
            "bin_end": 0.8,
            "count": 0
           },
           {
            "bin_start": 0.8,
            "bin_end": 1,
            "count": 0
           },
           {
            "bin_start": 1,
            "bin_end": 1.2000000000000002,
            "count": 0
           },
           {
            "bin_start": 1.2000000000000002,
            "bin_end": 1.4000000000000001,
            "count": 0
           },
           {
            "bin_start": 1.4000000000000001,
            "bin_end": 1.6,
            "count": 0
           },
           {
            "bin_start": 1.6,
            "bin_end": 1.8,
            "count": 0
           },
           {
            "bin_start": 1.8,
            "bin_end": 2,
            "count": 1
           }
          ]
         }
        },
        {
         "name": "availability_365",
         "dtype": "int64",
         "stats": {
          "unique_count": 2,
          "nan_count": 0,
          "min": "0",
          "max": "2",
          "histogram": [
           {
            "bin_start": 0,
            "bin_end": 0.2,
            "count": 4
           },
           {
            "bin_start": 0.2,
            "bin_end": 0.4,
            "count": 0
           },
           {
            "bin_start": 0.4,
            "bin_end": 0.6000000000000001,
            "count": 0
           },
           {
            "bin_start": 0.6000000000000001,
            "bin_end": 0.8,
            "count": 0
           },
           {
            "bin_start": 0.8,
            "bin_end": 1,
            "count": 0
           },
           {
            "bin_start": 1,
            "bin_end": 1.2000000000000002,
            "count": 0
           },
           {
            "bin_start": 1.2000000000000002,
            "bin_end": 1.4000000000000001,
            "count": 0
           },
           {
            "bin_start": 1.4000000000000001,
            "bin_end": 1.6,
            "count": 0
           },
           {
            "bin_start": 1.6,
            "bin_end": 1.8,
            "count": 0
           },
           {
            "bin_start": 1.8,
            "bin_end": 2,
            "count": 1
           }
          ]
         }
        },
        {
         "name": "number_of_reviews",
         "dtype": "int64",
         "stats": {
          "unique_count": 5,
          "nan_count": 0,
          "min": "1",
          "max": "89",
          "histogram": [
           {
            "bin_start": 1,
            "bin_end": 9.8,
            "count": 3
           },
           {
            "bin_start": 9.8,
            "bin_end": 18.6,
            "count": 0
           },
           {
            "bin_start": 18.6,
            "bin_end": 27.400000000000002,
            "count": 0
           },
           {
            "bin_start": 27.400000000000002,
            "bin_end": 36.2,
            "count": 0
           },
           {
            "bin_start": 36.2,
            "bin_end": 45,
            "count": 0
           },
           {
            "bin_start": 45,
            "bin_end": 53.800000000000004,
            "count": 1
           },
           {
            "bin_start": 53.800000000000004,
            "bin_end": 62.60000000000001,
            "count": 0
           },
           {
            "bin_start": 62.60000000000001,
            "bin_end": 71.4,
            "count": 0
           },
           {
            "bin_start": 71.4,
            "bin_end": 80.2,
            "count": 0
           },
           {
            "bin_start": 80.2,
            "bin_end": 89,
            "count": 1
           }
          ]
         }
        },
        {
         "name": "number_of_reviews_ltm",
         "dtype": "int64",
         "stats": {
          "unique_count": 2,
          "nan_count": 0,
          "min": "0",
          "max": "5",
          "histogram": [
           {
            "bin_start": 0,
            "bin_end": 0.5,
            "count": 4
           },
           {
            "bin_start": 0.5,
            "bin_end": 1,
            "count": 0
           },
           {
            "bin_start": 1,
            "bin_end": 1.5,
            "count": 0
           },
           {
            "bin_start": 1.5,
            "bin_end": 2,
            "count": 0
           },
           {
            "bin_start": 2,
            "bin_end": 2.5,
            "count": 0
           },
           {
            "bin_start": 2.5,
            "bin_end": 3,
            "count": 0
           },
           {
            "bin_start": 3,
            "bin_end": 3.5,
            "count": 0
           },
           {
            "bin_start": 3.5,
            "bin_end": 4,
            "count": 0
           },
           {
            "bin_start": 4,
            "bin_end": 4.5,
            "count": 0
           },
           {
            "bin_start": 4.5,
            "bin_end": 5,
            "count": 1
           }
          ]
         }
        },
        {
         "name": "number_of_reviews_l30d",
         "dtype": "int64",
         "stats": {
          "unique_count": 2,
          "nan_count": 0,
          "min": "0",
          "max": "1",
          "histogram": [
           {
            "bin_start": 0,
            "bin_end": 0.1,
            "count": 4
           },
           {
            "bin_start": 0.1,
            "bin_end": 0.2,
            "count": 0
           },
           {
            "bin_start": 0.2,
            "bin_end": 0.30000000000000004,
            "count": 0
           },
           {
            "bin_start": 0.30000000000000004,
            "bin_end": 0.4,
            "count": 0
           },
           {
            "bin_start": 0.4,
            "bin_end": 0.5,
            "count": 0
           },
           {
            "bin_start": 0.5,
            "bin_end": 0.6000000000000001,
            "count": 0
           },
           {
            "bin_start": 0.6000000000000001,
            "bin_end": 0.7000000000000001,
            "count": 0
           },
           {
            "bin_start": 0.7000000000000001,
            "bin_end": 0.8,
            "count": 0
           },
           {
            "bin_start": 0.8,
            "bin_end": 0.9,
            "count": 0
           },
           {
            "bin_start": 0.9,
            "bin_end": 1,
            "count": 1
           }
          ]
         }
        },
        {
         "name": "review_scores_rating",
         "dtype": "float64",
         "stats": {
          "unique_count": 4,
          "nan_count": 0,
          "min": "4.38",
          "max": "5.0",
          "histogram": [
           {
            "bin_start": 4.38,
            "bin_end": 4.442,
            "count": 1
           },
           {
            "bin_start": 4.442,
            "bin_end": 4.504,
            "count": 0
           },
           {
            "bin_start": 4.504,
            "bin_end": 4.566,
            "count": 1
           },
           {
            "bin_start": 4.566,
            "bin_end": 4.628,
            "count": 1
           },
           {
            "bin_start": 4.628,
            "bin_end": 4.6899999999999995,
            "count": 0
           },
           {
            "bin_start": 4.6899999999999995,
            "bin_end": 4.752,
            "count": 0
           },
           {
            "bin_start": 4.752,
            "bin_end": 4.814,
            "count": 0
           },
           {
            "bin_start": 4.814,
            "bin_end": 4.876,
            "count": 0
           },
           {
            "bin_start": 4.876,
            "bin_end": 4.938,
            "count": 0
           },
           {
            "bin_start": 4.938,
            "bin_end": 5,
            "count": 2
           }
          ]
         }
        },
        {
         "name": "review_scores_accuracy",
         "dtype": "float64",
         "stats": {
          "unique_count": 4,
          "nan_count": 0,
          "min": "4.6",
          "max": "5.0",
          "histogram": [
           {
            "bin_start": 4.6,
            "bin_end": 4.64,
            "count": 1
           },
           {
            "bin_start": 4.64,
            "bin_end": 4.68,
            "count": 0
           },
           {
            "bin_start": 4.68,
            "bin_end": 4.72,
            "count": 0
           },
           {
            "bin_start": 4.72,
            "bin_end": 4.76,
            "count": 0
           },
           {
            "bin_start": 4.76,
            "bin_end": 4.8,
            "count": 0
           },
           {
            "bin_start": 4.8,
            "bin_end": 4.84,
            "count": 1
           },
           {
            "bin_start": 4.84,
            "bin_end": 4.88,
            "count": 0
           },
           {
            "bin_start": 4.88,
            "bin_end": 4.92,
            "count": 1
           },
           {
            "bin_start": 4.92,
            "bin_end": 4.96,
            "count": 0
           },
           {
            "bin_start": 4.96,
            "bin_end": 5,
            "count": 2
           }
          ]
         }
        },
        {
         "name": "review_scores_cleanliness",
         "dtype": "float64",
         "stats": {
          "unique_count": 4,
          "nan_count": 0,
          "min": "4.0",
          "max": "5.0",
          "histogram": [
           {
            "bin_start": 4,
            "bin_end": 4.1,
            "count": 1
           },
           {
            "bin_start": 4.1,
            "bin_end": 4.2,
            "count": 0
           },
           {
            "bin_start": 4.2,
            "bin_end": 4.3,
            "count": 0
           },
           {
            "bin_start": 4.3,
            "bin_end": 4.4,
            "count": 0
           },
           {
            "bin_start": 4.4,
            "bin_end": 4.5,
            "count": 0
           },
           {
            "bin_start": 4.5,
            "bin_end": 4.6,
            "count": 0
           },
           {
            "bin_start": 4.6,
            "bin_end": 4.7,
            "count": 1
           },
           {
            "bin_start": 4.7,
            "bin_end": 4.8,
            "count": 2
           },
           {
            "bin_start": 4.8,
            "bin_end": 4.9,
            "count": 0
           },
           {
            "bin_start": 4.9,
            "bin_end": 5,
            "count": 1
           }
          ]
         }
        },
        {
         "name": "review_scores_checkin",
         "dtype": "float64",
         "stats": {
          "unique_count": 4,
          "nan_count": 0,
          "min": "4.51",
          "max": "5.0",
          "histogram": [
           {
            "bin_start": 4.51,
            "bin_end": 4.559,
            "count": 1
           },
           {
            "bin_start": 4.559,
            "bin_end": 4.608,
            "count": 0
           },
           {
            "bin_start": 4.608,
            "bin_end": 4.657,
            "count": 1
           },
           {
            "bin_start": 4.657,
            "bin_end": 4.7059999999999995,
            "count": 0
           },
           {
            "bin_start": 4.7059999999999995,
            "bin_end": 4.755,
            "count": 1
           },
           {
            "bin_start": 4.755,
            "bin_end": 4.804,
            "count": 0
           },
           {
            "bin_start": 4.804,
            "bin_end": 4.853,
            "count": 0
           },
           {
            "bin_start": 4.853,
            "bin_end": 4.902,
            "count": 0
           },
           {
            "bin_start": 4.902,
            "bin_end": 4.951,
            "count": 0
           },
           {
            "bin_start": 4.951,
            "bin_end": 5,
            "count": 2
           }
          ]
         }
        },
        {
         "name": "review_scores_communication",
         "dtype": "float64",
         "stats": {
          "unique_count": 4,
          "nan_count": 0,
          "min": "4.6",
          "max": "5.0",
          "histogram": [
           {
            "bin_start": 4.6,
            "bin_end": 4.64,
            "count": 2
           },
           {
            "bin_start": 4.64,
            "bin_end": 4.68,
            "count": 1
           },
           {
            "bin_start": 4.68,
            "bin_end": 4.72,
            "count": 0
           },
           {
            "bin_start": 4.72,
            "bin_end": 4.76,
            "count": 0
           },
           {
            "bin_start": 4.76,
            "bin_end": 4.8,
            "count": 0
           },
           {
            "bin_start": 4.8,
            "bin_end": 4.84,
            "count": 0
           },
           {
            "bin_start": 4.84,
            "bin_end": 4.88,
            "count": 0
           },
           {
            "bin_start": 4.88,
            "bin_end": 4.92,
            "count": 0
           },
           {
            "bin_start": 4.92,
            "bin_end": 4.96,
            "count": 0
           },
           {
            "bin_start": 4.96,
            "bin_end": 5,
            "count": 2
           }
          ]
         }
        },
        {
         "name": "review_scores_location",
         "dtype": "float64",
         "stats": {
          "unique_count": 4,
          "nan_count": 0,
          "min": "4.47",
          "max": "5.0",
          "histogram": [
           {
            "bin_start": 4.47,
            "bin_end": 4.523,
            "count": 1
           },
           {
            "bin_start": 4.523,
            "bin_end": 4.576,
            "count": 1
           },
           {
            "bin_start": 4.576,
            "bin_end": 4.629,
            "count": 0
           },
           {
            "bin_start": 4.629,
            "bin_end": 4.6819999999999995,
            "count": 0
           },
           {
            "bin_start": 4.6819999999999995,
            "bin_end": 4.734999999999999,
            "count": 0
           },
           {
            "bin_start": 4.734999999999999,
            "bin_end": 4.788,
            "count": 0
           },
           {
            "bin_start": 4.788,
            "bin_end": 4.841,
            "count": 0
           },
           {
            "bin_start": 4.841,
            "bin_end": 4.894,
            "count": 1
           },
           {
            "bin_start": 4.894,
            "bin_end": 4.947,
            "count": 0
           },
           {
            "bin_start": 4.947,
            "bin_end": 5,
            "count": 2
           }
          ]
         }
        },
        {
         "name": "review_scores_value",
         "dtype": "float64",
         "stats": {
          "unique_count": 5,
          "nan_count": 0,
          "min": "4.38",
          "max": "5.0",
          "histogram": [
           {
            "bin_start": 4.38,
            "bin_end": 4.442,
            "count": 1
           },
           {
            "bin_start": 4.442,
            "bin_end": 4.504,
            "count": 2
           },
           {
            "bin_start": 4.504,
            "bin_end": 4.566,
            "count": 0
           },
           {
            "bin_start": 4.566,
            "bin_end": 4.628,
            "count": 0
           },
           {
            "bin_start": 4.628,
            "bin_end": 4.6899999999999995,
            "count": 0
           },
           {
            "bin_start": 4.6899999999999995,
            "bin_end": 4.752,
            "count": 0
           },
           {
            "bin_start": 4.752,
            "bin_end": 4.814,
            "count": 0
           },
           {
            "bin_start": 4.814,
            "bin_end": 4.876,
            "count": 1
           },
           {
            "bin_start": 4.876,
            "bin_end": 4.938,
            "count": 0
           },
           {
            "bin_start": 4.938,
            "bin_end": 5,
            "count": 1
           }
          ]
         }
        },
        {
         "name": "instant_bookable",
         "dtype": "object",
         "stats": {
          "unique_count": 2,
          "nan_count": 0,
          "categories": [
           {
            "name": "f",
            "count": 4
           },
           {
            "name": "t",
            "count": 1
           }
          ]
         }
        },
        {
         "name": "calculated_host_listings_count",
         "dtype": "int64",
         "stats": {
          "unique_count": 3,
          "nan_count": 0,
          "min": "2",
          "max": "6",
          "histogram": [
           {
            "bin_start": 2,
            "bin_end": 2.4,
            "count": 1
           },
           {
            "bin_start": 2.4,
            "bin_end": 2.8,
            "count": 0
           },
           {
            "bin_start": 2.8,
            "bin_end": 3.2,
            "count": 1
           },
           {
            "bin_start": 3.2,
            "bin_end": 3.6,
            "count": 0
           },
           {
            "bin_start": 3.6,
            "bin_end": 4,
            "count": 0
           },
           {
            "bin_start": 4,
            "bin_end": 4.4,
            "count": 0
           },
           {
            "bin_start": 4.4,
            "bin_end": 4.800000000000001,
            "count": 0
           },
           {
            "bin_start": 4.800000000000001,
            "bin_end": 5.2,
            "count": 0
           },
           {
            "bin_start": 5.2,
            "bin_end": 5.6,
            "count": 0
           },
           {
            "bin_start": 5.6,
            "bin_end": 6,
            "count": 3
           }
          ]
         }
        },
        {
         "name": "_deepnote_index_column",
         "dtype": "int64"
        }
       ],
       "rows": [
        {
         "id": 16936558,
         "name": "2BR Cosy Home @ River Valley",
         "description": "Located in the heart of River Valley, this apartment is the ideal accommodation for families & frie…",
         "neighborhood_overview": "Central location allows easy access to a variety of shopping & dining options<br /><br />- 1 min dr…",
         "host_since": "nan",
         "host_response_time": "nan",
         "host_response_rate": "nan",
         "host_acceptance_rate": "nan",
         "host_is_superhost": "nan",
         "host_listings_count": "nan",
         "host_has_profile_pic": "nan",
         "host_identity_verified": "nan",
         "neighbourhood": "Singapore, Singapore",
         "neighbourhood_cleansed": "River Valley",
         "neighbourhood_group_cleansed": "Central Region",
         "latitude": 1.29564,
         "longitude": 103.8338,
         "property_type": "Entire condominium (condo)",
         "room_type": "Entire home/apt",
         "accommodates": 4,
         "bathrooms_text": "2 baths",
         "bedrooms": 2,
         "beds": 3,
         "amenities": "[\"Hangers\", \"Cooking basics\", \"Washer\", \"Single level home\", \"Hair dryer\", \"Oven\", \"TV\", \"Free park…",
         "price": "$219.00",
         "minimum_nights": 5,
         "maximum_nights": 1125,
         "has_availability": "t",
         "availability_30": 2,
         "availability_60": 2,
         "availability_90": 2,
         "availability_365": 2,
         "number_of_reviews": 89,
         "number_of_reviews_ltm": 5,
         "number_of_reviews_l30d": 1,
         "review_scores_rating": 4.6,
         "review_scores_accuracy": 4.83,
         "review_scores_cleanliness": 4.75,
         "review_scores_checkin": 4.63,
         "review_scores_communication": 4.67,
         "review_scores_location": 4.47,
         "review_scores_value": 4.38,
         "instant_bookable": "f",
         "calculated_host_listings_count": 3,
         "_deepnote_index_column": 772
        },
        {
         "id": 32317824,
         "name": "H - BEAUTIFUL CHIC 3 BEDROOM APT",
         "description": "Chic, nostalgic district of Tiong Bahru with the best cafés, local food, restaurants and galleries …",
         "neighborhood_overview": "The apartment is nestled in 1930s Art Decor estate of Tiong Bahru is ideal for the traveller seekin…",
         "host_since": "nan",
         "host_response_time": "nan",
         "host_response_rate": "nan",
         "host_acceptance_rate": "nan",
         "host_is_superhost": "nan",
         "host_listings_count": "nan",
         "host_has_profile_pic": "nan",
         "host_identity_verified": "nan",
         "neighbourhood": "Singapore, Singapore",
         "neighbourhood_cleansed": "Bukit Merah",
         "neighbourhood_group_cleansed": "Central Region",
         "latitude": 1.28427,
         "longitude": 103.83279,
         "property_type": "Entire rental unit",
         "room_type": "Entire home/apt",
         "accommodates": 6,
         "bathrooms_text": "1 bath",
         "bedrooms": 3,
         "beds": 3,
         "amenities": "[\"Hangers\", \"Bed linens\", \"Coffee maker\", \"Cooking basics\", \"Washer\", \"Hair dryer\", \"TV\", \"Dedicate…",
         "price": "$204.00",
         "minimum_nights": 30,
         "maximum_nights": 1125,
         "has_availability": "t",
         "availability_30": 0,
         "availability_60": 0,
         "availability_90": 0,
         "availability_365": 0,
         "number_of_reviews": 8,
         "number_of_reviews_ltm": 0,
         "number_of_reviews_l30d": 0,
         "review_scores_rating": 4.38,
         "review_scores_accuracy": 4.88,
         "review_scores_cleanliness": 4.75,
         "review_scores_checkin": 4.75,
         "review_scores_communication": 4.63,
         "review_scores_location": 4.88,
         "review_scores_value": 4.5,
         "instant_bookable": "f",
         "calculated_host_listings_count": 6,
         "_deepnote_index_column": 1725
        },
        {
         "id": 32318162,
         "name": "H - Fabulous Industrial-Chic Two Bedrooms APT",
         "description": "My place is close to art and culture and the city center. You’ll love my place because of the locat…",
         "neighborhood_overview": "The apartment is nestled in 1930s Art Decor estate of Tiong Bahru is ideal for the traveller seekin…",
         "host_since": "nan",
         "host_response_time": "nan",
         "host_response_rate": "nan",
         "host_acceptance_rate": "nan",
         "host_is_superhost": "nan",
         "host_listings_count": "nan",
         "host_has_profile_pic": "nan",
         "host_identity_verified": "nan",
         "neighbourhood": "Singapore, Singapore",
         "neighbourhood_cleansed": "Bukit Merah",
         "neighbourhood_group_cleansed": "Central Region",
         "latitude": 1.28153,
         "longitude": 103.83024,
         "property_type": "Entire rental unit",
         "room_type": "Entire home/apt",
         "accommodates": 4,
         "bathrooms_text": "1 bath",
         "bedrooms": 2,
         "beds": 2,
         "amenities": "[\"Hangers\", \"Bed linens\", \"Coffee maker\", \"Cooking basics\", \"Washer\", \"Carbon monoxide alarm\", \"Hai…",
         "price": "$191.00",
         "minimum_nights": 90,
         "maximum_nights": 1125,
         "has_availability": "t",
         "availability_30": 0,
         "availability_60": 0,
         "availability_90": 0,
         "availability_365": 0,
         "number_of_reviews": 1,
         "number_of_reviews_ltm": 0,
         "number_of_reviews_l30d": 0,
         "review_scores_rating": 5,
         "review_scores_accuracy": 5,
         "review_scores_cleanliness": 4,
         "review_scores_checkin": 5,
         "review_scores_communication": 5,
         "review_scores_location": 5,
         "review_scores_value": 5,
         "instant_bookable": "f",
         "calculated_host_listings_count": 6,
         "_deepnote_index_column": 1726
        },
        {
         "id": 32318920,
         "name": "H - Luxe Modern Spacious 1 Bedroom Suite",
         "description": "My place is close to art and culture and the city center. You’ll love my place because of the locat…",
         "neighborhood_overview": "Expect great restaurants, a plethora of the best local food and many interesting boutiques and indi…",
         "host_since": "nan",
         "host_response_time": "nan",
         "host_response_rate": "nan",
         "host_acceptance_rate": "nan",
         "host_is_superhost": "nan",
         "host_listings_count": "nan",
         "host_has_profile_pic": "nan",
         "host_identity_verified": "nan",
         "neighbourhood": "Singapore, Singapore",
         "neighbourhood_cleansed": "Bukit Merah",
         "neighbourhood_group_cleansed": "Central Region",
         "latitude": 1.28266,
         "longitude": 103.83434,
         "property_type": "Entire rental unit",
         "room_type": "Entire home/apt",
         "accommodates": 2,
         "bathrooms_text": "1.5 baths",
         "bedrooms": 1,
         "beds": 1,
         "amenities": "[\"Hangers\", \"Bed linens\", \"Cooking basics\", \"Washer\", \"Carbon monoxide alarm\", \"Hair dryer\", \"TV\", …",
         "price": "$150.00",
         "minimum_nights": 60,
         "maximum_nights": 1125,
         "has_availability": "t",
         "availability_30": 0,
         "availability_60": 0,
         "availability_90": 0,
         "availability_365": 0,
         "number_of_reviews": 47,
         "number_of_reviews_ltm": 0,
         "number_of_reviews_l30d": 0,
         "review_scores_rating": 4.51,
         "review_scores_accuracy": 4.6,
         "review_scores_cleanliness": 4.62,
         "review_scores_checkin": 4.51,
         "review_scores_communication": 4.6,
         "review_scores_location": 4.55,
         "review_scores_value": 4.49,
         "instant_bookable": "f",
         "calculated_host_listings_count": 6,
         "_deepnote_index_column": 1727
        },
        {
         "id": 33050985,
         "name": "S - BEAUTIFUL CHIC 3 BEDROOM APT",
         "description": "Chic, nostalgic district of Tiong Bahru with the best cafés, local food, restaurants and galleries …",
         "neighborhood_overview": "The apartment is nestled in 1930s Art Decor estate of Tiong Bahru is ideal for the traveller seekin…",
         "host_since": "nan",
         "host_response_time": "nan",
         "host_response_rate": "nan",
         "host_acceptance_rate": "nan",
         "host_is_superhost": "nan",
         "host_listings_count": "nan",
         "host_has_profile_pic": "nan",
         "host_identity_verified": "nan",
         "neighbourhood": "Singapore, Singapore",
         "neighbourhood_cleansed": "Bukit Merah",
         "neighbourhood_group_cleansed": "Central Region",
         "latitude": 1.28289,
         "longitude": 103.83225,
         "property_type": "Entire rental unit",
         "room_type": "Entire home/apt",
         "accommodates": 6,
         "bathrooms_text": "1 bath",
         "bedrooms": 3,
         "beds": 3,
         "amenities": "[\"Hangers\", \"Bed linens\", \"Coffee maker\", \"Cooking basics\", \"Washer\", \"Hair dryer\", \"TV\", \"Dedicate…",
         "price": "$204.00",
         "minimum_nights": 30,
         "maximum_nights": 1125,
         "has_availability": "t",
         "availability_30": 0,
         "availability_60": 0,
         "availability_90": 0,
         "availability_365": 0,
         "number_of_reviews": 6,
         "number_of_reviews_ltm": 0,
         "number_of_reviews_l30d": 0,
         "review_scores_rating": 5,
         "review_scores_accuracy": 5,
         "review_scores_cleanliness": 5,
         "review_scores_checkin": 5,
         "review_scores_communication": 5,
         "review_scores_location": 5,
         "review_scores_value": 4.83,
         "instant_bookable": "t",
         "calculated_host_listings_count": 2,
         "_deepnote_index_column": 1781
        }
       ]
      },
      "text/plain": "            id                                           name  \\\n772   16936558                   2BR Cosy Home @ River Valley   \n1725  32317824               H - BEAUTIFUL CHIC 3 BEDROOM APT   \n1726  32318162  H - Fabulous Industrial-Chic Two Bedrooms APT   \n1727  32318920       H - Luxe Modern Spacious 1 Bedroom Suite   \n1781  33050985               S - BEAUTIFUL CHIC 3 BEDROOM APT   \n\n                                            description  \\\n772   Located in the heart of River Valley, this apa...   \n1725  Chic, nostalgic district of Tiong Bahru with t...   \n1726  My place is close to art and culture and the c...   \n1727  My place is close to art and culture and the c...   \n1781  Chic, nostalgic district of Tiong Bahru with t...   \n\n                                  neighborhood_overview host_since  \\\n772   Central location allows easy access to a varie...        NaN   \n1725  The apartment is nestled in 1930s Art Decor es...        NaN   \n1726  The apartment is nestled in 1930s Art Decor es...        NaN   \n1727  Expect great restaurants, a plethora of the be...        NaN   \n1781  The apartment is nestled in 1930s Art Decor es...        NaN   \n\n     host_response_time host_response_rate host_acceptance_rate  \\\n772                 NaN                NaN                  NaN   \n1725                NaN                NaN                  NaN   \n1726                NaN                NaN                  NaN   \n1727                NaN                NaN                  NaN   \n1781                NaN                NaN                  NaN   \n\n     host_is_superhost  host_listings_count  ... number_of_reviews_l30d  \\\n772                NaN                  NaN  ...                      1   \n1725               NaN                  NaN  ...                      0   \n1726               NaN                  NaN  ...                      0   \n1727               NaN                  NaN  ...                      0   \n1781               NaN                  NaN  ...                      0   \n\n     review_scores_rating review_scores_accuracy review_scores_cleanliness  \\\n772                  4.60                   4.83                      4.75   \n1725                 4.38                   4.88                      4.75   \n1726                 5.00                   5.00                      4.00   \n1727                 4.51                   4.60                      4.62   \n1781                 5.00                   5.00                      5.00   \n\n     review_scores_checkin  review_scores_communication  \\\n772                   4.63                         4.67   \n1725                  4.75                         4.63   \n1726                  5.00                         5.00   \n1727                  4.51                         4.60   \n1781                  5.00                         5.00   \n\n      review_scores_location review_scores_value instant_bookable  \\\n772                     4.47                4.38                f   \n1725                    4.88                4.50                f   \n1726                    5.00                5.00                f   \n1727                    4.55                4.49                f   \n1781                    5.00                4.83                t   \n\n      calculated_host_listings_count  \n772                                3  \n1725                               6  \n1726                               6  \n1727                               6  \n1781                               2  \n\n[5 rows x 44 columns]",
      "text/html": "<div>\n<style scoped>\n    .dataframe tbody tr th:only-of-type {\n        vertical-align: middle;\n    }\n\n    .dataframe tbody tr th {\n        vertical-align: top;\n    }\n\n    .dataframe thead th {\n        text-align: right;\n    }\n</style>\n<table border=\"1\" class=\"dataframe\">\n  <thead>\n    <tr style=\"text-align: right;\">\n      <th></th>\n      <th>id</th>\n      <th>name</th>\n      <th>description</th>\n      <th>neighborhood_overview</th>\n      <th>host_since</th>\n      <th>host_response_time</th>\n      <th>host_response_rate</th>\n      <th>host_acceptance_rate</th>\n      <th>host_is_superhost</th>\n      <th>host_listings_count</th>\n      <th>...</th>\n      <th>number_of_reviews_l30d</th>\n      <th>review_scores_rating</th>\n      <th>review_scores_accuracy</th>\n      <th>review_scores_cleanliness</th>\n      <th>review_scores_checkin</th>\n      <th>review_scores_communication</th>\n      <th>review_scores_location</th>\n      <th>review_scores_value</th>\n      <th>instant_bookable</th>\n      <th>calculated_host_listings_count</th>\n    </tr>\n  </thead>\n  <tbody>\n    <tr>\n      <th>772</th>\n      <td>16936558</td>\n      <td>2BR Cosy Home @ River Valley</td>\n      <td>Located in the heart of River Valley, this apa...</td>\n      <td>Central location allows easy access to a varie...</td>\n      <td>NaN</td>\n      <td>NaN</td>\n      <td>NaN</td>\n      <td>NaN</td>\n      <td>NaN</td>\n      <td>NaN</td>\n      <td>...</td>\n      <td>1</td>\n      <td>4.60</td>\n      <td>4.83</td>\n      <td>4.75</td>\n      <td>4.63</td>\n      <td>4.67</td>\n      <td>4.47</td>\n      <td>4.38</td>\n      <td>f</td>\n      <td>3</td>\n    </tr>\n    <tr>\n      <th>1725</th>\n      <td>32317824</td>\n      <td>H - BEAUTIFUL CHIC 3 BEDROOM APT</td>\n      <td>Chic, nostalgic district of Tiong Bahru with t...</td>\n      <td>The apartment is nestled in 1930s Art Decor es...</td>\n      <td>NaN</td>\n      <td>NaN</td>\n      <td>NaN</td>\n      <td>NaN</td>\n      <td>NaN</td>\n      <td>NaN</td>\n      <td>...</td>\n      <td>0</td>\n      <td>4.38</td>\n      <td>4.88</td>\n      <td>4.75</td>\n      <td>4.75</td>\n      <td>4.63</td>\n      <td>4.88</td>\n      <td>4.50</td>\n      <td>f</td>\n      <td>6</td>\n    </tr>\n    <tr>\n      <th>1726</th>\n      <td>32318162</td>\n      <td>H - Fabulous Industrial-Chic Two Bedrooms APT</td>\n      <td>My place is close to art and culture and the c...</td>\n      <td>The apartment is nestled in 1930s Art Decor es...</td>\n      <td>NaN</td>\n      <td>NaN</td>\n      <td>NaN</td>\n      <td>NaN</td>\n      <td>NaN</td>\n      <td>NaN</td>\n      <td>...</td>\n      <td>0</td>\n      <td>5.00</td>\n      <td>5.00</td>\n      <td>4.00</td>\n      <td>5.00</td>\n      <td>5.00</td>\n      <td>5.00</td>\n      <td>5.00</td>\n      <td>f</td>\n      <td>6</td>\n    </tr>\n    <tr>\n      <th>1727</th>\n      <td>32318920</td>\n      <td>H - Luxe Modern Spacious 1 Bedroom Suite</td>\n      <td>My place is close to art and culture and the c...</td>\n      <td>Expect great restaurants, a plethora of the be...</td>\n      <td>NaN</td>\n      <td>NaN</td>\n      <td>NaN</td>\n      <td>NaN</td>\n      <td>NaN</td>\n      <td>NaN</td>\n      <td>...</td>\n      <td>0</td>\n      <td>4.51</td>\n      <td>4.60</td>\n      <td>4.62</td>\n      <td>4.51</td>\n      <td>4.60</td>\n      <td>4.55</td>\n      <td>4.49</td>\n      <td>f</td>\n      <td>6</td>\n    </tr>\n    <tr>\n      <th>1781</th>\n      <td>33050985</td>\n      <td>S - BEAUTIFUL CHIC 3 BEDROOM APT</td>\n      <td>Chic, nostalgic district of Tiong Bahru with t...</td>\n      <td>The apartment is nestled in 1930s Art Decor es...</td>\n      <td>NaN</td>\n      <td>NaN</td>\n      <td>NaN</td>\n      <td>NaN</td>\n      <td>NaN</td>\n      <td>NaN</td>\n      <td>...</td>\n      <td>0</td>\n      <td>5.00</td>\n      <td>5.00</td>\n      <td>5.00</td>\n      <td>5.00</td>\n      <td>5.00</td>\n      <td>5.00</td>\n      <td>4.83</td>\n      <td>t</td>\n      <td>2</td>\n    </tr>\n  </tbody>\n</table>\n<p>5 rows × 44 columns</p>\n</div>"
     },
     "metadata": {}
    }
   ],
   "execution_count": null
  },
  {
   "cell_type": "code",
   "metadata": {
    "deepnote_app_coordinates": {
     "h": 5,
     "w": 12,
     "x": 0,
     "y": 150
    },
    "deepnote_to_be_reexecuted": false,
    "execution_millis": 1,
    "execution_start": 1647321019392,
    "source_hash": "9731bfe6",
    "tags": [],
    "cell_id": "00026-48096b0a-c411-4d95-885a-0f1abc94201c",
    "deepnote_cell_type": "code",
    "deepnote_cell_height": 81.15625
   },
   "source": "listings = drop_variables(listings, 'host_since')",
   "outputs": [],
   "execution_count": null
  },
  {
   "cell_type": "markdown",
   "source": "#### Beds & Bedrooms\n\nBased on Airbnb listing form, the minimum number of beds and bedrooms is 1. Hence, listings with null values will be removed",
   "metadata": {
    "deepnote_app_coordinates": {
     "h": 5,
     "w": 12,
     "x": 0,
     "y": 156
    },
    "tags": [],
    "cell_id": "00027-e1e8d56b-30d9-485d-8a9c-9833e4d67066",
    "deepnote_cell_type": "markdown",
    "deepnote_cell_height": 110.71875
   }
  },
  {
   "cell_type": "code",
   "metadata": {
    "deepnote_app_coordinates": {
     "h": 5,
     "w": 12,
     "x": 0,
     "y": 162
    },
    "deepnote_to_be_reexecuted": false,
    "execution_millis": 1,
    "execution_start": 1647321019437,
    "source_hash": "9606bc99",
    "tags": [],
    "cell_id": "00028-34a29aef-1dc4-4e8a-8cfb-978aebf2f3ca",
    "deepnote_cell_type": "code",
    "deepnote_cell_height": 99.15625
   },
   "source": "listings = drop_variables(listings, 'bedrooms')\nlistings = drop_variables(listings, 'beds')",
   "outputs": [],
   "execution_count": null
  },
  {
   "cell_type": "markdown",
   "source": "#### Review Scores\n\nListings with null values for review scores suggest that no reviews have been made as of the scraped date. Hence, we will convert all the null values to 0",
   "metadata": {
    "deepnote_app_coordinates": {
     "h": 5,
     "w": 12,
     "x": 0,
     "y": 168
    },
    "tags": [],
    "cell_id": "00029-6aed6da3-de2d-41f6-98ea-79e4db15bb7a",
    "deepnote_cell_type": "markdown",
    "deepnote_cell_height": 110.78125
   }
  },
  {
   "cell_type": "code",
   "metadata": {
    "deepnote_app_coordinates": {
     "h": 5,
     "w": 12,
     "x": 0,
     "y": 174
    },
    "deepnote_to_be_reexecuted": false,
    "execution_millis": 0,
    "execution_start": 1647321019438,
    "source_hash": "2e91b777",
    "tags": [],
    "cell_id": "00030-5494dca3-0255-48a8-b49e-da96734e313f",
    "deepnote_cell_type": "code",
    "deepnote_cell_height": 207.15625
   },
   "source": "# Replace null values with 0 for review scores\nreview_scores_columns = ['review_scores_rating', 'review_scores_accuracy',\n                         'review_scores_cleanliness', 'review_scores_checkin', \n                         'review_scores_communication', 'review_scores_location', \n                         'review_scores_value']\n\nfor x in review_scores_columns: \n    listings[x] = listings[x].replace(np.nan, 0)",
   "outputs": [],
   "execution_count": null
  },
  {
   "cell_type": "markdown",
   "source": "#### Name\n\nThose listings without a name seem to be dirty listings as the listings lack many data. Hence, we will be removing them",
   "metadata": {
    "deepnote_app_coordinates": {
     "h": 5,
     "w": 12,
     "x": 0,
     "y": 180
    },
    "tags": [],
    "cell_id": "00031-2bac8fe4-530e-432c-8a39-61833a46cac8",
    "deepnote_cell_type": "markdown",
    "deepnote_cell_height": 88.53125
   }
  },
  {
   "cell_type": "code",
   "metadata": {
    "deepnote_app_coordinates": {
     "h": 5,
     "w": 12,
     "x": 0,
     "y": 186
    },
    "deepnote_to_be_reexecuted": false,
    "execution_millis": 629,
    "execution_start": 1647321019482,
    "source_hash": "ebb46eb2",
    "tags": [],
    "cell_id": "00032-b958bd81-2b66-47f1-a24a-d48ee6932152",
    "deepnote_cell_type": "code",
    "deepnote_cell_height": 233.5625,
    "deepnote_output_heights": [
     63.375
    ]
   },
   "source": "# Inspect 'name' with null values\ncheck_nulls_name = listings[listings['name'].isna()]\ncheck_nulls_name.head()",
   "outputs": [
    {
     "output_type": "execute_result",
     "execution_count": 20,
     "data": {
      "application/vnd.deepnote.dataframe.v3+json": {
       "column_count": 44,
       "row_count": 0,
       "columns": [
        {
         "name": "id",
         "dtype": "int64",
         "stats": {
          "unique_count": 0,
          "nan_count": 0,
          "min": null,
          "max": null,
          "histogram": [
           {
            "bin_start": 0,
            "bin_end": 0.1,
            "count": 0
           },
           {
            "bin_start": 0.1,
            "bin_end": 0.2,
            "count": 0
           },
           {
            "bin_start": 0.2,
            "bin_end": 0.30000000000000004,
            "count": 0
           },
           {
            "bin_start": 0.30000000000000004,
            "bin_end": 0.4,
            "count": 0
           },
           {
            "bin_start": 0.4,
            "bin_end": 0.5,
            "count": 0
           },
           {
            "bin_start": 0.5,
            "bin_end": 0.6000000000000001,
            "count": 0
           },
           {
            "bin_start": 0.6000000000000001,
            "bin_end": 0.7000000000000001,
            "count": 0
           },
           {
            "bin_start": 0.7000000000000001,
            "bin_end": 0.8,
            "count": 0
           },
           {
            "bin_start": 0.8,
            "bin_end": 0.9,
            "count": 0
           },
           {
            "bin_start": 0.9,
            "bin_end": 1,
            "count": 0
           }
          ]
         }
        },
        {
         "name": "name",
         "dtype": "object",
         "stats": {
          "unique_count": 0,
          "nan_count": 0,
          "categories": []
         }
        },
        {
         "name": "description",
         "dtype": "object",
         "stats": {
          "unique_count": 0,
          "nan_count": 0,
          "categories": []
         }
        },
        {
         "name": "neighborhood_overview",
         "dtype": "object",
         "stats": {
          "unique_count": 0,
          "nan_count": 0,
          "categories": []
         }
        },
        {
         "name": "host_since",
         "dtype": "object",
         "stats": {
          "unique_count": 0,
          "nan_count": 0,
          "categories": []
         }
        },
        {
         "name": "host_response_time",
         "dtype": "object",
         "stats": {
          "unique_count": 0,
          "nan_count": 0,
          "categories": []
         }
        },
        {
         "name": "host_response_rate",
         "dtype": "object",
         "stats": {
          "unique_count": 0,
          "nan_count": 0,
          "categories": []
         }
        },
        {
         "name": "host_acceptance_rate",
         "dtype": "object",
         "stats": {
          "unique_count": 0,
          "nan_count": 0,
          "categories": []
         }
        },
        {
         "name": "host_is_superhost",
         "dtype": "object",
         "stats": {
          "unique_count": 0,
          "nan_count": 0,
          "categories": []
         }
        },
        {
         "name": "host_listings_count",
         "dtype": "float64",
         "stats": {
          "unique_count": 0,
          "nan_count": 0,
          "min": null,
          "max": null,
          "histogram": [
           {
            "bin_start": 0,
            "bin_end": 0.1,
            "count": 0
           },
           {
            "bin_start": 0.1,
            "bin_end": 0.2,
            "count": 0
           },
           {
            "bin_start": 0.2,
            "bin_end": 0.30000000000000004,
            "count": 0
           },
           {
            "bin_start": 0.30000000000000004,
            "bin_end": 0.4,
            "count": 0
           },
           {
            "bin_start": 0.4,
            "bin_end": 0.5,
            "count": 0
           },
           {
            "bin_start": 0.5,
            "bin_end": 0.6000000000000001,
            "count": 0
           },
           {
            "bin_start": 0.6000000000000001,
            "bin_end": 0.7000000000000001,
            "count": 0
           },
           {
            "bin_start": 0.7000000000000001,
            "bin_end": 0.8,
            "count": 0
           },
           {
            "bin_start": 0.8,
            "bin_end": 0.9,
            "count": 0
           },
           {
            "bin_start": 0.9,
            "bin_end": 1,
            "count": 0
           }
          ]
         }
        },
        {
         "name": "host_has_profile_pic",
         "dtype": "object",
         "stats": {
          "unique_count": 0,
          "nan_count": 0,
          "categories": []
         }
        },
        {
         "name": "host_identity_verified",
         "dtype": "object",
         "stats": {
          "unique_count": 0,
          "nan_count": 0,
          "categories": []
         }
        },
        {
         "name": "neighbourhood",
         "dtype": "object",
         "stats": {
          "unique_count": 0,
          "nan_count": 0,
          "categories": []
         }
        },
        {
         "name": "neighbourhood_cleansed",
         "dtype": "object",
         "stats": {
          "unique_count": 0,
          "nan_count": 0,
          "categories": []
         }
        },
        {
         "name": "neighbourhood_group_cleansed",
         "dtype": "object",
         "stats": {
          "unique_count": 0,
          "nan_count": 0,
          "categories": []
         }
        },
        {
         "name": "latitude",
         "dtype": "float64",
         "stats": {
          "unique_count": 0,
          "nan_count": 0,
          "min": null,
          "max": null,
          "histogram": [
           {
            "bin_start": 0,
            "bin_end": 0.1,
            "count": 0
           },
           {
            "bin_start": 0.1,
            "bin_end": 0.2,
            "count": 0
           },
           {
            "bin_start": 0.2,
            "bin_end": 0.30000000000000004,
            "count": 0
           },
           {
            "bin_start": 0.30000000000000004,
            "bin_end": 0.4,
            "count": 0
           },
           {
            "bin_start": 0.4,
            "bin_end": 0.5,
            "count": 0
           },
           {
            "bin_start": 0.5,
            "bin_end": 0.6000000000000001,
            "count": 0
           },
           {
            "bin_start": 0.6000000000000001,
            "bin_end": 0.7000000000000001,
            "count": 0
           },
           {
            "bin_start": 0.7000000000000001,
            "bin_end": 0.8,
            "count": 0
           },
           {
            "bin_start": 0.8,
            "bin_end": 0.9,
            "count": 0
           },
           {
            "bin_start": 0.9,
            "bin_end": 1,
            "count": 0
           }
          ]
         }
        },
        {
         "name": "longitude",
         "dtype": "float64",
         "stats": {
          "unique_count": 0,
          "nan_count": 0,
          "min": null,
          "max": null,
          "histogram": [
           {
            "bin_start": 0,
            "bin_end": 0.1,
            "count": 0
           },
           {
            "bin_start": 0.1,
            "bin_end": 0.2,
            "count": 0
           },
           {
            "bin_start": 0.2,
            "bin_end": 0.30000000000000004,
            "count": 0
           },
           {
            "bin_start": 0.30000000000000004,
            "bin_end": 0.4,
            "count": 0
           },
           {
            "bin_start": 0.4,
            "bin_end": 0.5,
            "count": 0
           },
           {
            "bin_start": 0.5,
            "bin_end": 0.6000000000000001,
            "count": 0
           },
           {
            "bin_start": 0.6000000000000001,
            "bin_end": 0.7000000000000001,
            "count": 0
           },
           {
            "bin_start": 0.7000000000000001,
            "bin_end": 0.8,
            "count": 0
           },
           {
            "bin_start": 0.8,
            "bin_end": 0.9,
            "count": 0
           },
           {
            "bin_start": 0.9,
            "bin_end": 1,
            "count": 0
           }
          ]
         }
        },
        {
         "name": "property_type",
         "dtype": "object",
         "stats": {
          "unique_count": 0,
          "nan_count": 0,
          "categories": []
         }
        },
        {
         "name": "room_type",
         "dtype": "object",
         "stats": {
          "unique_count": 0,
          "nan_count": 0,
          "categories": []
         }
        },
        {
         "name": "accommodates",
         "dtype": "int64",
         "stats": {
          "unique_count": 0,
          "nan_count": 0,
          "min": null,
          "max": null,
          "histogram": [
           {
            "bin_start": 0,
            "bin_end": 0.1,
            "count": 0
           },
           {
            "bin_start": 0.1,
            "bin_end": 0.2,
            "count": 0
           },
           {
            "bin_start": 0.2,
            "bin_end": 0.30000000000000004,
            "count": 0
           },
           {
            "bin_start": 0.30000000000000004,
            "bin_end": 0.4,
            "count": 0
           },
           {
            "bin_start": 0.4,
            "bin_end": 0.5,
            "count": 0
           },
           {
            "bin_start": 0.5,
            "bin_end": 0.6000000000000001,
            "count": 0
           },
           {
            "bin_start": 0.6000000000000001,
            "bin_end": 0.7000000000000001,
            "count": 0
           },
           {
            "bin_start": 0.7000000000000001,
            "bin_end": 0.8,
            "count": 0
           },
           {
            "bin_start": 0.8,
            "bin_end": 0.9,
            "count": 0
           },
           {
            "bin_start": 0.9,
            "bin_end": 1,
            "count": 0
           }
          ]
         }
        },
        {
         "name": "bathrooms_text",
         "dtype": "object",
         "stats": {
          "unique_count": 0,
          "nan_count": 0,
          "categories": []
         }
        },
        {
         "name": "bedrooms",
         "dtype": "float64",
         "stats": {
          "unique_count": 0,
          "nan_count": 0,
          "min": null,
          "max": null,
          "histogram": [
           {
            "bin_start": 0,
            "bin_end": 0.1,
            "count": 0
           },
           {
            "bin_start": 0.1,
            "bin_end": 0.2,
            "count": 0
           },
           {
            "bin_start": 0.2,
            "bin_end": 0.30000000000000004,
            "count": 0
           },
           {
            "bin_start": 0.30000000000000004,
            "bin_end": 0.4,
            "count": 0
           },
           {
            "bin_start": 0.4,
            "bin_end": 0.5,
            "count": 0
           },
           {
            "bin_start": 0.5,
            "bin_end": 0.6000000000000001,
            "count": 0
           },
           {
            "bin_start": 0.6000000000000001,
            "bin_end": 0.7000000000000001,
            "count": 0
           },
           {
            "bin_start": 0.7000000000000001,
            "bin_end": 0.8,
            "count": 0
           },
           {
            "bin_start": 0.8,
            "bin_end": 0.9,
            "count": 0
           },
           {
            "bin_start": 0.9,
            "bin_end": 1,
            "count": 0
           }
          ]
         }
        },
        {
         "name": "beds",
         "dtype": "float64",
         "stats": {
          "unique_count": 0,
          "nan_count": 0,
          "min": null,
          "max": null,
          "histogram": [
           {
            "bin_start": 0,
            "bin_end": 0.1,
            "count": 0
           },
           {
            "bin_start": 0.1,
            "bin_end": 0.2,
            "count": 0
           },
           {
            "bin_start": 0.2,
            "bin_end": 0.30000000000000004,
            "count": 0
           },
           {
            "bin_start": 0.30000000000000004,
            "bin_end": 0.4,
            "count": 0
           },
           {
            "bin_start": 0.4,
            "bin_end": 0.5,
            "count": 0
           },
           {
            "bin_start": 0.5,
            "bin_end": 0.6000000000000001,
            "count": 0
           },
           {
            "bin_start": 0.6000000000000001,
            "bin_end": 0.7000000000000001,
            "count": 0
           },
           {
            "bin_start": 0.7000000000000001,
            "bin_end": 0.8,
            "count": 0
           },
           {
            "bin_start": 0.8,
            "bin_end": 0.9,
            "count": 0
           },
           {
            "bin_start": 0.9,
            "bin_end": 1,
            "count": 0
           }
          ]
         }
        },
        {
         "name": "amenities",
         "dtype": "object",
         "stats": {
          "unique_count": 0,
          "nan_count": 0,
          "categories": []
         }
        },
        {
         "name": "price",
         "dtype": "object",
         "stats": {
          "unique_count": 0,
          "nan_count": 0,
          "categories": []
         }
        },
        {
         "name": "minimum_nights",
         "dtype": "int64",
         "stats": {
          "unique_count": 0,
          "nan_count": 0,
          "min": null,
          "max": null,
          "histogram": [
           {
            "bin_start": 0,
            "bin_end": 0.1,
            "count": 0
           },
           {
            "bin_start": 0.1,
            "bin_end": 0.2,
            "count": 0
           },
           {
            "bin_start": 0.2,
            "bin_end": 0.30000000000000004,
            "count": 0
           },
           {
            "bin_start": 0.30000000000000004,
            "bin_end": 0.4,
            "count": 0
           },
           {
            "bin_start": 0.4,
            "bin_end": 0.5,
            "count": 0
           },
           {
            "bin_start": 0.5,
            "bin_end": 0.6000000000000001,
            "count": 0
           },
           {
            "bin_start": 0.6000000000000001,
            "bin_end": 0.7000000000000001,
            "count": 0
           },
           {
            "bin_start": 0.7000000000000001,
            "bin_end": 0.8,
            "count": 0
           },
           {
            "bin_start": 0.8,
            "bin_end": 0.9,
            "count": 0
           },
           {
            "bin_start": 0.9,
            "bin_end": 1,
            "count": 0
           }
          ]
         }
        },
        {
         "name": "maximum_nights",
         "dtype": "int64",
         "stats": {
          "unique_count": 0,
          "nan_count": 0,
          "min": null,
          "max": null,
          "histogram": [
           {
            "bin_start": 0,
            "bin_end": 0.1,
            "count": 0
           },
           {
            "bin_start": 0.1,
            "bin_end": 0.2,
            "count": 0
           },
           {
            "bin_start": 0.2,
            "bin_end": 0.30000000000000004,
            "count": 0
           },
           {
            "bin_start": 0.30000000000000004,
            "bin_end": 0.4,
            "count": 0
           },
           {
            "bin_start": 0.4,
            "bin_end": 0.5,
            "count": 0
           },
           {
            "bin_start": 0.5,
            "bin_end": 0.6000000000000001,
            "count": 0
           },
           {
            "bin_start": 0.6000000000000001,
            "bin_end": 0.7000000000000001,
            "count": 0
           },
           {
            "bin_start": 0.7000000000000001,
            "bin_end": 0.8,
            "count": 0
           },
           {
            "bin_start": 0.8,
            "bin_end": 0.9,
            "count": 0
           },
           {
            "bin_start": 0.9,
            "bin_end": 1,
            "count": 0
           }
          ]
         }
        },
        {
         "name": "has_availability",
         "dtype": "object",
         "stats": {
          "unique_count": 0,
          "nan_count": 0,
          "categories": []
         }
        },
        {
         "name": "availability_30",
         "dtype": "int64",
         "stats": {
          "unique_count": 0,
          "nan_count": 0,
          "min": null,
          "max": null,
          "histogram": [
           {
            "bin_start": 0,
            "bin_end": 0.1,
            "count": 0
           },
           {
            "bin_start": 0.1,
            "bin_end": 0.2,
            "count": 0
           },
           {
            "bin_start": 0.2,
            "bin_end": 0.30000000000000004,
            "count": 0
           },
           {
            "bin_start": 0.30000000000000004,
            "bin_end": 0.4,
            "count": 0
           },
           {
            "bin_start": 0.4,
            "bin_end": 0.5,
            "count": 0
           },
           {
            "bin_start": 0.5,
            "bin_end": 0.6000000000000001,
            "count": 0
           },
           {
            "bin_start": 0.6000000000000001,
            "bin_end": 0.7000000000000001,
            "count": 0
           },
           {
            "bin_start": 0.7000000000000001,
            "bin_end": 0.8,
            "count": 0
           },
           {
            "bin_start": 0.8,
            "bin_end": 0.9,
            "count": 0
           },
           {
            "bin_start": 0.9,
            "bin_end": 1,
            "count": 0
           }
          ]
         }
        },
        {
         "name": "availability_60",
         "dtype": "int64",
         "stats": {
          "unique_count": 0,
          "nan_count": 0,
          "min": null,
          "max": null,
          "histogram": [
           {
            "bin_start": 0,
            "bin_end": 0.1,
            "count": 0
           },
           {
            "bin_start": 0.1,
            "bin_end": 0.2,
            "count": 0
           },
           {
            "bin_start": 0.2,
            "bin_end": 0.30000000000000004,
            "count": 0
           },
           {
            "bin_start": 0.30000000000000004,
            "bin_end": 0.4,
            "count": 0
           },
           {
            "bin_start": 0.4,
            "bin_end": 0.5,
            "count": 0
           },
           {
            "bin_start": 0.5,
            "bin_end": 0.6000000000000001,
            "count": 0
           },
           {
            "bin_start": 0.6000000000000001,
            "bin_end": 0.7000000000000001,
            "count": 0
           },
           {
            "bin_start": 0.7000000000000001,
            "bin_end": 0.8,
            "count": 0
           },
           {
            "bin_start": 0.8,
            "bin_end": 0.9,
            "count": 0
           },
           {
            "bin_start": 0.9,
            "bin_end": 1,
            "count": 0
           }
          ]
         }
        },
        {
         "name": "availability_90",
         "dtype": "int64",
         "stats": {
          "unique_count": 0,
          "nan_count": 0,
          "min": null,
          "max": null,
          "histogram": [
           {
            "bin_start": 0,
            "bin_end": 0.1,
            "count": 0
           },
           {
            "bin_start": 0.1,
            "bin_end": 0.2,
            "count": 0
           },
           {
            "bin_start": 0.2,
            "bin_end": 0.30000000000000004,
            "count": 0
           },
           {
            "bin_start": 0.30000000000000004,
            "bin_end": 0.4,
            "count": 0
           },
           {
            "bin_start": 0.4,
            "bin_end": 0.5,
            "count": 0
           },
           {
            "bin_start": 0.5,
            "bin_end": 0.6000000000000001,
            "count": 0
           },
           {
            "bin_start": 0.6000000000000001,
            "bin_end": 0.7000000000000001,
            "count": 0
           },
           {
            "bin_start": 0.7000000000000001,
            "bin_end": 0.8,
            "count": 0
           },
           {
            "bin_start": 0.8,
            "bin_end": 0.9,
            "count": 0
           },
           {
            "bin_start": 0.9,
            "bin_end": 1,
            "count": 0
           }
          ]
         }
        },
        {
         "name": "availability_365",
         "dtype": "int64",
         "stats": {
          "unique_count": 0,
          "nan_count": 0,
          "min": null,
          "max": null,
          "histogram": [
           {
            "bin_start": 0,
            "bin_end": 0.1,
            "count": 0
           },
           {
            "bin_start": 0.1,
            "bin_end": 0.2,
            "count": 0
           },
           {
            "bin_start": 0.2,
            "bin_end": 0.30000000000000004,
            "count": 0
           },
           {
            "bin_start": 0.30000000000000004,
            "bin_end": 0.4,
            "count": 0
           },
           {
            "bin_start": 0.4,
            "bin_end": 0.5,
            "count": 0
           },
           {
            "bin_start": 0.5,
            "bin_end": 0.6000000000000001,
            "count": 0
           },
           {
            "bin_start": 0.6000000000000001,
            "bin_end": 0.7000000000000001,
            "count": 0
           },
           {
            "bin_start": 0.7000000000000001,
            "bin_end": 0.8,
            "count": 0
           },
           {
            "bin_start": 0.8,
            "bin_end": 0.9,
            "count": 0
           },
           {
            "bin_start": 0.9,
            "bin_end": 1,
            "count": 0
           }
          ]
         }
        },
        {
         "name": "number_of_reviews",
         "dtype": "int64",
         "stats": {
          "unique_count": 0,
          "nan_count": 0,
          "min": null,
          "max": null,
          "histogram": [
           {
            "bin_start": 0,
            "bin_end": 0.1,
            "count": 0
           },
           {
            "bin_start": 0.1,
            "bin_end": 0.2,
            "count": 0
           },
           {
            "bin_start": 0.2,
            "bin_end": 0.30000000000000004,
            "count": 0
           },
           {
            "bin_start": 0.30000000000000004,
            "bin_end": 0.4,
            "count": 0
           },
           {
            "bin_start": 0.4,
            "bin_end": 0.5,
            "count": 0
           },
           {
            "bin_start": 0.5,
            "bin_end": 0.6000000000000001,
            "count": 0
           },
           {
            "bin_start": 0.6000000000000001,
            "bin_end": 0.7000000000000001,
            "count": 0
           },
           {
            "bin_start": 0.7000000000000001,
            "bin_end": 0.8,
            "count": 0
           },
           {
            "bin_start": 0.8,
            "bin_end": 0.9,
            "count": 0
           },
           {
            "bin_start": 0.9,
            "bin_end": 1,
            "count": 0
           }
          ]
         }
        },
        {
         "name": "number_of_reviews_ltm",
         "dtype": "int64",
         "stats": {
          "unique_count": 0,
          "nan_count": 0,
          "min": null,
          "max": null,
          "histogram": [
           {
            "bin_start": 0,
            "bin_end": 0.1,
            "count": 0
           },
           {
            "bin_start": 0.1,
            "bin_end": 0.2,
            "count": 0
           },
           {
            "bin_start": 0.2,
            "bin_end": 0.30000000000000004,
            "count": 0
           },
           {
            "bin_start": 0.30000000000000004,
            "bin_end": 0.4,
            "count": 0
           },
           {
            "bin_start": 0.4,
            "bin_end": 0.5,
            "count": 0
           },
           {
            "bin_start": 0.5,
            "bin_end": 0.6000000000000001,
            "count": 0
           },
           {
            "bin_start": 0.6000000000000001,
            "bin_end": 0.7000000000000001,
            "count": 0
           },
           {
            "bin_start": 0.7000000000000001,
            "bin_end": 0.8,
            "count": 0
           },
           {
            "bin_start": 0.8,
            "bin_end": 0.9,
            "count": 0
           },
           {
            "bin_start": 0.9,
            "bin_end": 1,
            "count": 0
           }
          ]
         }
        },
        {
         "name": "number_of_reviews_l30d",
         "dtype": "int64",
         "stats": {
          "unique_count": 0,
          "nan_count": 0,
          "min": null,
          "max": null,
          "histogram": [
           {
            "bin_start": 0,
            "bin_end": 0.1,
            "count": 0
           },
           {
            "bin_start": 0.1,
            "bin_end": 0.2,
            "count": 0
           },
           {
            "bin_start": 0.2,
            "bin_end": 0.30000000000000004,
            "count": 0
           },
           {
            "bin_start": 0.30000000000000004,
            "bin_end": 0.4,
            "count": 0
           },
           {
            "bin_start": 0.4,
            "bin_end": 0.5,
            "count": 0
           },
           {
            "bin_start": 0.5,
            "bin_end": 0.6000000000000001,
            "count": 0
           },
           {
            "bin_start": 0.6000000000000001,
            "bin_end": 0.7000000000000001,
            "count": 0
           },
           {
            "bin_start": 0.7000000000000001,
            "bin_end": 0.8,
            "count": 0
           },
           {
            "bin_start": 0.8,
            "bin_end": 0.9,
            "count": 0
           },
           {
            "bin_start": 0.9,
            "bin_end": 1,
            "count": 0
           }
          ]
         }
        },
        {
         "name": "review_scores_rating",
         "dtype": "float64",
         "stats": {
          "unique_count": 0,
          "nan_count": 0,
          "min": null,
          "max": null,
          "histogram": [
           {
            "bin_start": 0,
            "bin_end": 0.1,
            "count": 0
           },
           {
            "bin_start": 0.1,
            "bin_end": 0.2,
            "count": 0
           },
           {
            "bin_start": 0.2,
            "bin_end": 0.30000000000000004,
            "count": 0
           },
           {
            "bin_start": 0.30000000000000004,
            "bin_end": 0.4,
            "count": 0
           },
           {
            "bin_start": 0.4,
            "bin_end": 0.5,
            "count": 0
           },
           {
            "bin_start": 0.5,
            "bin_end": 0.6000000000000001,
            "count": 0
           },
           {
            "bin_start": 0.6000000000000001,
            "bin_end": 0.7000000000000001,
            "count": 0
           },
           {
            "bin_start": 0.7000000000000001,
            "bin_end": 0.8,
            "count": 0
           },
           {
            "bin_start": 0.8,
            "bin_end": 0.9,
            "count": 0
           },
           {
            "bin_start": 0.9,
            "bin_end": 1,
            "count": 0
           }
          ]
         }
        },
        {
         "name": "review_scores_accuracy",
         "dtype": "float64",
         "stats": {
          "unique_count": 0,
          "nan_count": 0,
          "min": null,
          "max": null,
          "histogram": [
           {
            "bin_start": 0,
            "bin_end": 0.1,
            "count": 0
           },
           {
            "bin_start": 0.1,
            "bin_end": 0.2,
            "count": 0
           },
           {
            "bin_start": 0.2,
            "bin_end": 0.30000000000000004,
            "count": 0
           },
           {
            "bin_start": 0.30000000000000004,
            "bin_end": 0.4,
            "count": 0
           },
           {
            "bin_start": 0.4,
            "bin_end": 0.5,
            "count": 0
           },
           {
            "bin_start": 0.5,
            "bin_end": 0.6000000000000001,
            "count": 0
           },
           {
            "bin_start": 0.6000000000000001,
            "bin_end": 0.7000000000000001,
            "count": 0
           },
           {
            "bin_start": 0.7000000000000001,
            "bin_end": 0.8,
            "count": 0
           },
           {
            "bin_start": 0.8,
            "bin_end": 0.9,
            "count": 0
           },
           {
            "bin_start": 0.9,
            "bin_end": 1,
            "count": 0
           }
          ]
         }
        },
        {
         "name": "review_scores_cleanliness",
         "dtype": "float64",
         "stats": {
          "unique_count": 0,
          "nan_count": 0,
          "min": null,
          "max": null,
          "histogram": [
           {
            "bin_start": 0,
            "bin_end": 0.1,
            "count": 0
           },
           {
            "bin_start": 0.1,
            "bin_end": 0.2,
            "count": 0
           },
           {
            "bin_start": 0.2,
            "bin_end": 0.30000000000000004,
            "count": 0
           },
           {
            "bin_start": 0.30000000000000004,
            "bin_end": 0.4,
            "count": 0
           },
           {
            "bin_start": 0.4,
            "bin_end": 0.5,
            "count": 0
           },
           {
            "bin_start": 0.5,
            "bin_end": 0.6000000000000001,
            "count": 0
           },
           {
            "bin_start": 0.6000000000000001,
            "bin_end": 0.7000000000000001,
            "count": 0
           },
           {
            "bin_start": 0.7000000000000001,
            "bin_end": 0.8,
            "count": 0
           },
           {
            "bin_start": 0.8,
            "bin_end": 0.9,
            "count": 0
           },
           {
            "bin_start": 0.9,
            "bin_end": 1,
            "count": 0
           }
          ]
         }
        },
        {
         "name": "review_scores_checkin",
         "dtype": "float64",
         "stats": {
          "unique_count": 0,
          "nan_count": 0,
          "min": null,
          "max": null,
          "histogram": [
           {
            "bin_start": 0,
            "bin_end": 0.1,
            "count": 0
           },
           {
            "bin_start": 0.1,
            "bin_end": 0.2,
            "count": 0
           },
           {
            "bin_start": 0.2,
            "bin_end": 0.30000000000000004,
            "count": 0
           },
           {
            "bin_start": 0.30000000000000004,
            "bin_end": 0.4,
            "count": 0
           },
           {
            "bin_start": 0.4,
            "bin_end": 0.5,
            "count": 0
           },
           {
            "bin_start": 0.5,
            "bin_end": 0.6000000000000001,
            "count": 0
           },
           {
            "bin_start": 0.6000000000000001,
            "bin_end": 0.7000000000000001,
            "count": 0
           },
           {
            "bin_start": 0.7000000000000001,
            "bin_end": 0.8,
            "count": 0
           },
           {
            "bin_start": 0.8,
            "bin_end": 0.9,
            "count": 0
           },
           {
            "bin_start": 0.9,
            "bin_end": 1,
            "count": 0
           }
          ]
         }
        },
        {
         "name": "review_scores_communication",
         "dtype": "float64",
         "stats": {
          "unique_count": 0,
          "nan_count": 0,
          "min": null,
          "max": null,
          "histogram": [
           {
            "bin_start": 0,
            "bin_end": 0.1,
            "count": 0
           },
           {
            "bin_start": 0.1,
            "bin_end": 0.2,
            "count": 0
           },
           {
            "bin_start": 0.2,
            "bin_end": 0.30000000000000004,
            "count": 0
           },
           {
            "bin_start": 0.30000000000000004,
            "bin_end": 0.4,
            "count": 0
           },
           {
            "bin_start": 0.4,
            "bin_end": 0.5,
            "count": 0
           },
           {
            "bin_start": 0.5,
            "bin_end": 0.6000000000000001,
            "count": 0
           },
           {
            "bin_start": 0.6000000000000001,
            "bin_end": 0.7000000000000001,
            "count": 0
           },
           {
            "bin_start": 0.7000000000000001,
            "bin_end": 0.8,
            "count": 0
           },
           {
            "bin_start": 0.8,
            "bin_end": 0.9,
            "count": 0
           },
           {
            "bin_start": 0.9,
            "bin_end": 1,
            "count": 0
           }
          ]
         }
        },
        {
         "name": "review_scores_location",
         "dtype": "float64",
         "stats": {
          "unique_count": 0,
          "nan_count": 0,
          "min": null,
          "max": null,
          "histogram": [
           {
            "bin_start": 0,
            "bin_end": 0.1,
            "count": 0
           },
           {
            "bin_start": 0.1,
            "bin_end": 0.2,
            "count": 0
           },
           {
            "bin_start": 0.2,
            "bin_end": 0.30000000000000004,
            "count": 0
           },
           {
            "bin_start": 0.30000000000000004,
            "bin_end": 0.4,
            "count": 0
           },
           {
            "bin_start": 0.4,
            "bin_end": 0.5,
            "count": 0
           },
           {
            "bin_start": 0.5,
            "bin_end": 0.6000000000000001,
            "count": 0
           },
           {
            "bin_start": 0.6000000000000001,
            "bin_end": 0.7000000000000001,
            "count": 0
           },
           {
            "bin_start": 0.7000000000000001,
            "bin_end": 0.8,
            "count": 0
           },
           {
            "bin_start": 0.8,
            "bin_end": 0.9,
            "count": 0
           },
           {
            "bin_start": 0.9,
            "bin_end": 1,
            "count": 0
           }
          ]
         }
        },
        {
         "name": "review_scores_value",
         "dtype": "float64",
         "stats": {
          "unique_count": 0,
          "nan_count": 0,
          "min": null,
          "max": null,
          "histogram": [
           {
            "bin_start": 0,
            "bin_end": 0.1,
            "count": 0
           },
           {
            "bin_start": 0.1,
            "bin_end": 0.2,
            "count": 0
           },
           {
            "bin_start": 0.2,
            "bin_end": 0.30000000000000004,
            "count": 0
           },
           {
            "bin_start": 0.30000000000000004,
            "bin_end": 0.4,
            "count": 0
           },
           {
            "bin_start": 0.4,
            "bin_end": 0.5,
            "count": 0
           },
           {
            "bin_start": 0.5,
            "bin_end": 0.6000000000000001,
            "count": 0
           },
           {
            "bin_start": 0.6000000000000001,
            "bin_end": 0.7000000000000001,
            "count": 0
           },
           {
            "bin_start": 0.7000000000000001,
            "bin_end": 0.8,
            "count": 0
           },
           {
            "bin_start": 0.8,
            "bin_end": 0.9,
            "count": 0
           },
           {
            "bin_start": 0.9,
            "bin_end": 1,
            "count": 0
           }
          ]
         }
        },
        {
         "name": "instant_bookable",
         "dtype": "object",
         "stats": {
          "unique_count": 0,
          "nan_count": 0,
          "categories": []
         }
        },
        {
         "name": "calculated_host_listings_count",
         "dtype": "int64",
         "stats": {
          "unique_count": 0,
          "nan_count": 0,
          "min": null,
          "max": null,
          "histogram": [
           {
            "bin_start": 0,
            "bin_end": 0.1,
            "count": 0
           },
           {
            "bin_start": 0.1,
            "bin_end": 0.2,
            "count": 0
           },
           {
            "bin_start": 0.2,
            "bin_end": 0.30000000000000004,
            "count": 0
           },
           {
            "bin_start": 0.30000000000000004,
            "bin_end": 0.4,
            "count": 0
           },
           {
            "bin_start": 0.4,
            "bin_end": 0.5,
            "count": 0
           },
           {
            "bin_start": 0.5,
            "bin_end": 0.6000000000000001,
            "count": 0
           },
           {
            "bin_start": 0.6000000000000001,
            "bin_end": 0.7000000000000001,
            "count": 0
           },
           {
            "bin_start": 0.7000000000000001,
            "bin_end": 0.8,
            "count": 0
           },
           {
            "bin_start": 0.8,
            "bin_end": 0.9,
            "count": 0
           },
           {
            "bin_start": 0.9,
            "bin_end": 1,
            "count": 0
           }
          ]
         }
        },
        {
         "name": "_deepnote_index_column",
         "dtype": "int64"
        }
       ],
       "rows": []
      },
      "text/plain": "Empty DataFrame\nColumns: [id, name, description, neighborhood_overview, host_since, host_response_time, host_response_rate, host_acceptance_rate, host_is_superhost, host_listings_count, host_has_profile_pic, host_identity_verified, neighbourhood, neighbourhood_cleansed, neighbourhood_group_cleansed, latitude, longitude, property_type, room_type, accommodates, bathrooms_text, bedrooms, beds, amenities, price, minimum_nights, maximum_nights, has_availability, availability_30, availability_60, availability_90, availability_365, number_of_reviews, number_of_reviews_ltm, number_of_reviews_l30d, review_scores_rating, review_scores_accuracy, review_scores_cleanliness, review_scores_checkin, review_scores_communication, review_scores_location, review_scores_value, instant_bookable, calculated_host_listings_count]\nIndex: []\n\n[0 rows x 44 columns]",
      "text/html": "<div>\n<style scoped>\n    .dataframe tbody tr th:only-of-type {\n        vertical-align: middle;\n    }\n\n    .dataframe tbody tr th {\n        vertical-align: top;\n    }\n\n    .dataframe thead th {\n        text-align: right;\n    }\n</style>\n<table border=\"1\" class=\"dataframe\">\n  <thead>\n    <tr style=\"text-align: right;\">\n      <th></th>\n      <th>id</th>\n      <th>name</th>\n      <th>description</th>\n      <th>neighborhood_overview</th>\n      <th>host_since</th>\n      <th>host_response_time</th>\n      <th>host_response_rate</th>\n      <th>host_acceptance_rate</th>\n      <th>host_is_superhost</th>\n      <th>host_listings_count</th>\n      <th>...</th>\n      <th>number_of_reviews_l30d</th>\n      <th>review_scores_rating</th>\n      <th>review_scores_accuracy</th>\n      <th>review_scores_cleanliness</th>\n      <th>review_scores_checkin</th>\n      <th>review_scores_communication</th>\n      <th>review_scores_location</th>\n      <th>review_scores_value</th>\n      <th>instant_bookable</th>\n      <th>calculated_host_listings_count</th>\n    </tr>\n  </thead>\n  <tbody>\n  </tbody>\n</table>\n<p>0 rows × 44 columns</p>\n</div>"
     },
     "metadata": {}
    }
   ],
   "execution_count": null
  },
  {
   "cell_type": "code",
   "metadata": {
    "deepnote_app_coordinates": {
     "h": 5,
     "w": 12,
     "x": 0,
     "y": 192
    },
    "deepnote_to_be_reexecuted": false,
    "execution_millis": 0,
    "execution_start": 1647321020141,
    "source_hash": "248cbbcb",
    "tags": [],
    "cell_id": "00033-a11e8d7e-92b8-4319-a77d-a2c901b5305c",
    "deepnote_cell_type": "code",
    "deepnote_cell_height": 81.15625
   },
   "source": "listings = drop_variables(listings, 'name')",
   "outputs": [],
   "execution_count": null
  },
  {
   "cell_type": "markdown",
   "source": "### Convert Data Types",
   "metadata": {
    "deepnote_app_coordinates": {
     "h": 5,
     "w": 12,
     "x": 0,
     "y": 198
    },
    "tags": [],
    "cell_id": "00034-bade2700-3bb1-400b-9adb-0311aaa6f782",
    "deepnote_cell_type": "markdown",
    "deepnote_cell_height": 62.15625
   }
  },
  {
   "cell_type": "code",
   "metadata": {
    "deepnote_app_coordinates": {
     "h": 5,
     "w": 12,
     "x": 0,
     "y": 204
    },
    "deepnote_to_be_reexecuted": false,
    "execution_millis": 0,
    "execution_start": 1647321020142,
    "source_hash": "79c79eec",
    "tags": [],
    "cell_id": "00035-4ebb6ca4-9711-45bf-be1c-33c918a6cc69",
    "deepnote_cell_type": "code",
    "deepnote_cell_height": 117.15625
   },
   "source": "def remove_units(df,col):\n    df[col] = df[col].replace({'\\$': '', ',': '', '%':''}, regex=True)\n    return df",
   "outputs": [],
   "execution_count": null
  },
  {
   "cell_type": "code",
   "metadata": {
    "deepnote_app_coordinates": {
     "h": 5,
     "w": 12,
     "x": 0,
     "y": 210
    },
    "deepnote_to_be_reexecuted": false,
    "execution_millis": 93,
    "execution_start": 1647321020143,
    "source_hash": "1a8e9f28",
    "tags": [],
    "cell_id": "00036-85f53573-3b9f-4413-b19c-e5bec19bdf98",
    "deepnote_cell_type": "code",
    "deepnote_cell_height": 117.15625
   },
   "source": "listings = remove_units(listings, 'host_response_rate')\nlistings = remove_units(listings, 'host_acceptance_rate')\nlistings = remove_units(listings, 'price')",
   "outputs": [],
   "execution_count": null
  },
  {
   "cell_type": "code",
   "metadata": {
    "deepnote_app_coordinates": {
     "h": 5,
     "w": 12,
     "x": 0,
     "y": 216
    },
    "deepnote_to_be_reexecuted": false,
    "execution_millis": 0,
    "execution_start": 1647321020289,
    "source_hash": "7a9b6514",
    "tags": [],
    "cell_id": "00037-fc4ee808-4627-46b6-b5b2-d88a645680ea",
    "deepnote_cell_type": "code",
    "deepnote_cell_height": 99.15625
   },
   "source": "# Convert to datetime \nlistings['host_since'] = pd.to_datetime(listings['host_since'])",
   "outputs": [],
   "execution_count": null
  },
  {
   "cell_type": "code",
   "metadata": {
    "deepnote_app_coordinates": {
     "h": 5,
     "w": 12,
     "x": 0,
     "y": 222
    },
    "deepnote_to_be_reexecuted": false,
    "execution_millis": 42,
    "execution_start": 1647321020290,
    "source_hash": "2246c4dd",
    "tags": [],
    "cell_id": "00038-2b03b1d2-f26c-4c5d-bdae-244e98baea55",
    "deepnote_cell_type": "code",
    "deepnote_cell_height": 189.15625
   },
   "source": "# Convert to Int\nnumeric_int_variables = ['maximum_nights', 'minimum_nights', 'bedrooms', 'beds', \n                         'number_of_reviews', 'number_of_reviews_ltm', \n                         'number_of_reviews_l30d', 'calculated_host_listings_count']\n\nfor i_int in numeric_int_variables:\n    listings[i_int] = listings[i_int].astype(int)",
   "outputs": [],
   "execution_count": null
  },
  {
   "cell_type": "code",
   "metadata": {
    "deepnote_app_coordinates": {
     "h": 5,
     "w": 12,
     "x": 0,
     "y": 228
    },
    "deepnote_to_be_reexecuted": false,
    "execution_millis": 0,
    "execution_start": 1647321020333,
    "source_hash": "ab5cc9b9",
    "tags": [],
    "cell_id": "00039-244f9b39-ed1f-4213-a837-5de3e871fc52",
    "deepnote_cell_type": "code",
    "deepnote_cell_height": 225.171875
   },
   "source": "# Convert to Float\nnumeric_float_variables=['price', 'host_response_rate', 'host_acceptance_rate', \n                         'review_scores_rating', 'review_scores_accuracy', \n                         'review_scores_cleanliness', 'review_scores_checkin', \n                         'review_scores_communication',\n                         'review_scores_location', 'review_scores_value']\n\nfor i_float in numeric_float_variables:\n    listings[i_float] = listings[i_float].astype(float)",
   "outputs": [],
   "execution_count": null
  },
  {
   "cell_type": "code",
   "metadata": {
    "deepnote_app_coordinates": {
     "h": 5,
     "w": 12,
     "x": 0,
     "y": 234
    },
    "deepnote_to_be_reexecuted": false,
    "execution_millis": 293,
    "execution_start": 1647321020334,
    "source_hash": "58a34fcb",
    "tags": [],
    "cell_id": "00040-9a4eb06d-6ad8-495d-bbc8-53db2963cf80",
    "deepnote_cell_type": "code",
    "deepnote_cell_height": 334.15625
   },
   "source": "# Convert to String\nlistings['amenities_str'] = listings['amenities'].str[1:-1]\n\n# Remove any html tags\n# Fill 'nan' with 'No Data'\nstring_variables = ['name', 'description', 'neighborhood_overview', \n                    'host_response_time', 'neighbourhood', \n                    'neighbourhood_cleansed', 'neighbourhood_group_cleansed', \n                    'property_type', 'room_type', 'bathrooms_text', \n                    'amenities_str']\n\nfor i in string_variables:\n    listings[i] = listings[i].astype(str)\n    listings[i] = listings[i].apply(lambda x: 'No Data' if x == 'nan' else x)\n    listings = remove_tags(listings, i)",
   "outputs": [],
   "execution_count": null
  },
  {
   "cell_type": "code",
   "metadata": {
    "deepnote_app_coordinates": {
     "h": 5,
     "w": 12,
     "x": 0,
     "y": 240
    },
    "deepnote_to_be_reexecuted": false,
    "execution_millis": 725,
    "execution_start": 1647321020634,
    "source_hash": "7e3a17b8",
    "tags": [],
    "cell_id": "00041-a02b1a94-9e6a-4bd4-adde-44e664389152",
    "deepnote_cell_type": "code",
    "deepnote_cell_height": 99.15625
   },
   "source": "# Cleaning completed\nlistings.to_csv('SG_cleaned_listings.csv', index=False)",
   "outputs": [],
   "execution_count": null
  },
  {
   "cell_type": "code",
   "metadata": {
    "deepnote_app_coordinates": {
     "h": 5,
     "w": 12,
     "x": 0,
     "y": 0
    },
    "deepnote_to_be_reexecuted": false,
    "execution_millis": 863,
    "execution_start": 1647321021359,
    "source_hash": "f2b7b283",
    "tags": [],
    "cell_id": "00042-cfbd728d-4a83-4f96-9a84-f9ae91d8db0c",
    "deepnote_cell_type": "code",
    "deepnote_cell_height": 607.453125,
    "deepnote_output_heights": [
     383.4375
    ]
   },
   "source": "listings",
   "outputs": [
    {
     "output_type": "execute_result",
     "execution_count": 29,
     "data": {
      "application/vnd.deepnote.dataframe.v3+json": {
       "column_count": 45,
       "row_count": 3145,
       "columns": [
        {
         "name": "id",
         "dtype": "int64",
         "stats": {
          "unique_count": 3145,
          "nan_count": 0,
          "min": "50646",
          "max": "53927825",
          "histogram": [
           {
            "bin_start": 50646,
            "bin_end": 5438363.9,
            "count": 153
           },
           {
            "bin_start": 5438363.9,
            "bin_end": 10826081.8,
            "count": 257
           },
           {
            "bin_start": 10826081.8,
            "bin_end": 16213799.700000001,
            "count": 272
           },
           {
            "bin_start": 16213799.700000001,
            "bin_end": 21601517.6,
            "count": 268
           },
           {
            "bin_start": 21601517.6,
            "bin_end": 26989235.5,
            "count": 347
           },
           {
            "bin_start": 26989235.5,
            "bin_end": 32376953.400000002,
            "count": 280
           },
           {
            "bin_start": 32376953.400000002,
            "bin_end": 37764671.300000004,
            "count": 334
           },
           {
            "bin_start": 37764671.300000004,
            "bin_end": 43152389.2,
            "count": 551
           },
           {
            "bin_start": 43152389.2,
            "bin_end": 48540107.1,
            "count": 323
           },
           {
            "bin_start": 48540107.1,
            "bin_end": 53927825,
            "count": 360
           }
          ]
         }
        },
        {
         "name": "name",
         "dtype": "object",
         "stats": {
          "unique_count": 2879,
          "nan_count": 0,
          "categories": [
           {
            "name": "Novena_Serviced Apartment Premium OneBedroomStudio",
            "count": 10
           },
           {
            "name": "Single Capsule For 1",
            "count": 7
           },
           {
            "name": "2877 others",
            "count": 3128
           }
          ]
         }
        },
        {
         "name": "description",
         "dtype": "object",
         "stats": {
          "unique_count": 2422,
          "nan_count": 0,
          "categories": [
           {
            "name": "No Data",
            "count": 90
           },
           {
            "name": "A paradise that says you deserve the best in life. Located minutes from Singapore's city centre in a quiet suburb that is both convenient and charming. Surrounded by open spaces and greenery as well as top-notch medical centres, well-established schools and irresistible entertainment options, all just a short walk or ride away.   The space  A beautiful and spacious apartment equipped with the following room amenities:  - Designer bed frames with Queen Size Mattress and quality linens - Designer dining table with beautiful chairs - Kitchen with full cooking utensils, Rice Cooker, Gas/Induction Stove - Refrigerator and Freezer - Comprehensive Cooking Utensils & Cutlery - Hair Dryer - Iron and Ironing Board - Washing Machine cum Dryer - Air-Conditioning with Individual Controller   Guest access  Arrived SG please text us one hour in advance   - CHECK IN and CHECK OUT TIME Our chec",
            "count": 43
           },
           {
            "name": "2420 others",
            "count": 3012
           }
          ]
         }
        },
        {
         "name": "neighborhood_overview",
         "dtype": "object",
         "stats": {
          "unique_count": 1074,
          "nan_count": 0,
          "categories": [
           {
            "name": "No Data",
            "count": 1050
           },
           {
            "name": "- Apartment is within lavender neighbourhood (horne rd, king george's ave, penhas rd, hamilton rd, cavan rd, french rd), an area of pre-war historical buildings for residential. - Access to TWO MRT lines: 4-5 mins walk from Lavender MRT (green line), or 8-9 mins walk from farrer park MRT (purple line) - Good location! proximity to everything! 24-hours food & drinks outlets - 2 mins walk to Amenities (24-hr food centres / Supermarket such as Mustafa, etc) - 2 mins walk to Jalan Besar Public Swimming Pool, Olympic size. ($1/entry for all) & Gymnasium ($1/entry) - 4 mins walk to lavender MRT, 1-3 stations away from Bugis, City Hall, Raffles Place, Promenade, Dhoby Gaut. - 4 mins walk to major roads bus stops (lavender street, Victoria street, Jalan besar) - 10 to 15 mins bus ride to CBD areas for work, boat quay & clarke quay for night entertainments, etc.",
            "count": 87
           },
           {
            "name": "1072 others",
            "count": 2008
           }
          ]
         }
        },
        {
         "name": "host_since",
         "dtype": "datetime64[ns]",
         "stats": {
          "unique_count": 799,
          "nan_count": 0,
          "min": "2010-09-08 00:00:00",
          "max": "2021-12-13 00:00:00",
          "histogram": [
           {
            "bin_start": 1283904000000000000,
            "bin_end": 1319448960000000000,
            "count": 28
           },
           {
            "bin_start": 1319448960000000000,
            "bin_end": 1354993920000000000,
            "count": 166
           },
           {
            "bin_start": 1354993920000000000,
            "bin_end": 1390538880000000000,
            "count": 250
           },
           {
            "bin_start": 1390538880000000000,
            "bin_end": 1426083840000000000,
            "count": 363
           },
           {
            "bin_start": 1426083840000000000,
            "bin_end": 1461628800000000000,
            "count": 644
           },
           {
            "bin_start": 1461628800000000000,
            "bin_end": 1497173760000000000,
            "count": 434
           },
           {
            "bin_start": 1497173760000000000,
            "bin_end": 1532718720000000000,
            "count": 630
           },
           {
            "bin_start": 1532718720000000000,
            "bin_end": 1568263680000000000,
            "count": 367
           },
           {
            "bin_start": 1568263680000000000,
            "bin_end": 1603808640000000000,
            "count": 170
           },
           {
            "bin_start": 1603808640000000000,
            "bin_end": 1639353600000000000,
            "count": 93
           }
          ]
         }
        },
        {
         "name": "host_response_time",
         "dtype": "object",
         "stats": {
          "unique_count": 5,
          "nan_count": 0,
          "categories": [
           {
            "name": "within a few hours",
            "count": 1183
           },
           {
            "name": "within an hour",
            "count": 636
           },
           {
            "name": "3 others",
            "count": 1326
           }
          ]
         }
        },
        {
         "name": "host_response_rate",
         "dtype": "float64",
         "stats": {
          "unique_count": 65,
          "nan_count": 404,
          "min": "0.0",
          "max": "100.0",
          "histogram": [
           {
            "bin_start": 0,
            "bin_end": 10,
            "count": 327
           },
           {
            "bin_start": 10,
            "bin_end": 20,
            "count": 18
           },
           {
            "bin_start": 20,
            "bin_end": 30,
            "count": 40
           },
           {
            "bin_start": 30,
            "bin_end": 40,
            "count": 19
           },
           {
            "bin_start": 40,
            "bin_end": 50,
            "count": 126
           },
           {
            "bin_start": 50,
            "bin_end": 60,
            "count": 60
           },
           {
            "bin_start": 60,
            "bin_end": 70,
            "count": 38
           },
           {
            "bin_start": 70,
            "bin_end": 80,
            "count": 78
           },
           {
            "bin_start": 80,
            "bin_end": 90,
            "count": 302
           },
           {
            "bin_start": 90,
            "bin_end": 100,
            "count": 1733
           }
          ]
         }
        },
        {
         "name": "host_acceptance_rate",
         "dtype": "float64",
         "stats": {
          "unique_count": 72,
          "nan_count": 645,
          "min": "0.0",
          "max": "100.0",
          "histogram": [
           {
            "bin_start": 0,
            "bin_end": 10,
            "count": 321
           },
           {
            "bin_start": 10,
            "bin_end": 20,
            "count": 70
           },
           {
            "bin_start": 20,
            "bin_end": 30,
            "count": 61
           },
           {
            "bin_start": 30,
            "bin_end": 40,
            "count": 352
           },
           {
            "bin_start": 40,
            "bin_end": 50,
            "count": 206
           },
           {
            "bin_start": 50,
            "bin_end": 60,
            "count": 87
           },
           {
            "bin_start": 60,
            "bin_end": 70,
            "count": 70
           },
           {
            "bin_start": 70,
            "bin_end": 80,
            "count": 154
           },
           {
            "bin_start": 80,
            "bin_end": 90,
            "count": 347
           },
           {
            "bin_start": 90,
            "bin_end": 100,
            "count": 832
           }
          ]
         }
        },
        {
         "name": "host_is_superhost",
         "dtype": "object",
         "stats": {
          "unique_count": 2,
          "nan_count": 0,
          "categories": [
           {
            "name": "f",
            "count": 2498
           },
           {
            "name": "t",
            "count": 647
           }
          ]
         }
        },
        {
         "name": "host_listings_count",
         "dtype": "float64",
         "stats": {
          "unique_count": 52,
          "nan_count": 0,
          "min": "0.0",
          "max": "467.0",
          "histogram": [
           {
            "bin_start": 0,
            "bin_end": 46.7,
            "count": 2077
           },
           {
            "bin_start": 46.7,
            "bin_end": 93.4,
            "count": 425
           },
           {
            "bin_start": 93.4,
            "bin_end": 140.10000000000002,
            "count": 202
           },
           {
            "bin_start": 140.10000000000002,
            "bin_end": 186.8,
            "count": 7
           },
           {
            "bin_start": 186.8,
            "bin_end": 233.5,
            "count": 160
           },
           {
            "bin_start": 233.5,
            "bin_end": 280.20000000000005,
            "count": 96
           },
           {
            "bin_start": 280.20000000000005,
            "bin_end": 326.90000000000003,
            "count": 0
           },
           {
            "bin_start": 326.90000000000003,
            "bin_end": 373.6,
            "count": 0
           },
           {
            "bin_start": 373.6,
            "bin_end": 420.3,
            "count": 0
           },
           {
            "bin_start": 420.3,
            "bin_end": 467,
            "count": 178
           }
          ]
         }
        },
        {
         "name": "host_has_profile_pic",
         "dtype": "object",
         "stats": {
          "unique_count": 2,
          "nan_count": 0,
          "categories": [
           {
            "name": "t",
            "count": 3132
           },
           {
            "name": "f",
            "count": 13
           }
          ]
         }
        },
        {
         "name": "host_identity_verified",
         "dtype": "object",
         "stats": {
          "unique_count": 2,
          "nan_count": 0,
          "categories": [
           {
            "name": "t",
            "count": 2583
           },
           {
            "name": "f",
            "count": 562
           }
          ]
         }
        },
        {
         "name": "neighbourhood",
         "dtype": "object",
         "stats": {
          "unique_count": 52,
          "nan_count": 0,
          "categories": [
           {
            "name": "Singapore, Singapore",
            "count": 1967
           },
           {
            "name": "No Data",
            "count": 1050
           },
           {
            "name": "50 others",
            "count": 128
           }
          ]
         }
        },
        {
         "name": "neighbourhood_cleansed",
         "dtype": "object",
         "stats": {
          "unique_count": 43,
          "nan_count": 0,
          "categories": [
           {
            "name": "Kallang",
            "count": 375
           },
           {
            "name": "Geylang",
            "count": 321
           },
           {
            "name": "41 others",
            "count": 2449
           }
          ]
         }
        },
        {
         "name": "neighbourhood_group_cleansed",
         "dtype": "object",
         "stats": {
          "unique_count": 5,
          "nan_count": 0,
          "categories": [
           {
            "name": "Central Region",
            "count": 2444
           },
           {
            "name": "West Region",
            "count": 247
           },
           {
            "name": "3 others",
            "count": 454
           }
          ]
         }
        },
        {
         "name": "latitude",
         "dtype": "float64",
         "stats": {
          "unique_count": 2488,
          "nan_count": 0,
          "min": "1.24535",
          "max": "1.45328",
          "histogram": [
           {
            "bin_start": 1.24535,
            "bin_end": 1.266143,
            "count": 21
           },
           {
            "bin_start": 1.266143,
            "bin_end": 1.2869359999999999,
            "count": 570
           },
           {
            "bin_start": 1.2869359999999999,
            "bin_end": 1.307729,
            "count": 840
           },
           {
            "bin_start": 1.307729,
            "bin_end": 1.328522,
            "count": 1154
           },
           {
            "bin_start": 1.328522,
            "bin_end": 1.3493149999999998,
            "count": 225
           },
           {
            "bin_start": 1.3493149999999998,
            "bin_end": 1.3701079999999999,
            "count": 123
           },
           {
            "bin_start": 1.3701079999999999,
            "bin_end": 1.390901,
            "count": 89
           },
           {
            "bin_start": 1.390901,
            "bin_end": 1.411694,
            "count": 39
           },
           {
            "bin_start": 1.411694,
            "bin_end": 1.4324869999999998,
            "count": 34
           },
           {
            "bin_start": 1.4324869999999998,
            "bin_end": 1.45328,
            "count": 50
           }
          ]
         }
        },
        {
         "name": "longitude",
         "dtype": "float64",
         "stats": {
          "unique_count": 2588,
          "nan_count": 0,
          "min": "103.64828",
          "max": "103.96966",
          "histogram": [
           {
            "bin_start": 103.64828,
            "bin_end": 103.680418,
            "count": 2
           },
           {
            "bin_start": 103.680418,
            "bin_end": 103.712556,
            "count": 35
           },
           {
            "bin_start": 103.712556,
            "bin_end": 103.744694,
            "count": 88
           },
           {
            "bin_start": 103.744694,
            "bin_end": 103.776832,
            "count": 147
           },
           {
            "bin_start": 103.776832,
            "bin_end": 103.80897,
            "count": 196
           },
           {
            "bin_start": 103.80897,
            "bin_end": 103.841108,
            "count": 558
           },
           {
            "bin_start": 103.841108,
            "bin_end": 103.87324600000001,
            "count": 1415
           },
           {
            "bin_start": 103.87324600000001,
            "bin_end": 103.905384,
            "count": 463
           },
           {
            "bin_start": 103.905384,
            "bin_end": 103.937522,
            "count": 173
           },
           {
            "bin_start": 103.937522,
            "bin_end": 103.96966,
            "count": 68
           }
          ]
         }
        },
        {
         "name": "property_type",
         "dtype": "object",
         "stats": {
          "unique_count": 47,
          "nan_count": 0,
          "categories": [
           {
            "name": "Private room in rental unit",
            "count": 666
           },
           {
            "name": "Entire condominium (condo)",
            "count": 566
           },
           {
            "name": "45 others",
            "count": 1913
           }
          ]
         }
        },
        {
         "name": "room_type",
         "dtype": "object",
         "stats": {
          "unique_count": 4,
          "nan_count": 0,
          "categories": [
           {
            "name": "Private room",
            "count": 1467
           },
           {
            "name": "Entire home/apt",
            "count": 1394
           },
           {
            "name": "2 others",
            "count": 284
           }
          ]
         }
        },
        {
         "name": "accommodates",
         "dtype": "int64",
         "stats": {
          "unique_count": 15,
          "nan_count": 0,
          "min": "1",
          "max": "16",
          "histogram": [
           {
            "bin_start": 1,
            "bin_end": 2.5,
            "count": 1901
           },
           {
            "bin_start": 2.5,
            "bin_end": 4,
            "count": 278
           },
           {
            "bin_start": 4,
            "bin_end": 5.5,
            "count": 544
           },
           {
            "bin_start": 5.5,
            "bin_end": 7,
            "count": 237
           },
           {
            "bin_start": 7,
            "bin_end": 8.5,
            "count": 105
           },
           {
            "bin_start": 8.5,
            "bin_end": 10,
            "count": 13
           },
           {
            "bin_start": 10,
            "bin_end": 11.5,
            "count": 19
           },
           {
            "bin_start": 11.5,
            "bin_end": 13,
            "count": 13
           },
           {
            "bin_start": 13,
            "bin_end": 14.5,
            "count": 4
           },
           {
            "bin_start": 14.5,
            "bin_end": 16,
            "count": 31
           }
          ]
         }
        },
        {
         "name": "bathrooms_text",
         "dtype": "object",
         "stats": {
          "unique_count": 42,
          "nan_count": 0,
          "categories": [
           {
            "name": "1 bath",
            "count": 917
           },
           {
            "name": "1 private bath",
            "count": 563
           },
           {
            "name": "40 others",
            "count": 1665
           }
          ]
         }
        },
        {
         "name": "bedrooms",
         "dtype": "int64",
         "stats": {
          "unique_count": 7,
          "nan_count": 0,
          "min": "1",
          "max": "8",
          "histogram": [
           {
            "bin_start": 1,
            "bin_end": 1.7,
            "count": 2396
           },
           {
            "bin_start": 1.7,
            "bin_end": 2.4,
            "count": 479
           },
           {
            "bin_start": 2.4,
            "bin_end": 3.0999999999999996,
            "count": 236
           },
           {
            "bin_start": 3.0999999999999996,
            "bin_end": 3.8,
            "count": 0
           },
           {
            "bin_start": 3.8,
            "bin_end": 4.5,
            "count": 26
           },
           {
            "bin_start": 4.5,
            "bin_end": 5.199999999999999,
            "count": 5
           },
           {
            "bin_start": 5.199999999999999,
            "bin_end": 5.8999999999999995,
            "count": 0
           },
           {
            "bin_start": 5.8999999999999995,
            "bin_end": 6.6,
            "count": 2
           },
           {
            "bin_start": 6.6,
            "bin_end": 7.3,
            "count": 0
           },
           {
            "bin_start": 7.3,
            "bin_end": 8,
            "count": 1
           }
          ]
         }
        },
        {
         "name": "beds",
         "dtype": "int64",
         "stats": {
          "unique_count": 19,
          "nan_count": 0,
          "min": "1",
          "max": "46",
          "histogram": [
           {
            "bin_start": 1,
            "bin_end": 5.5,
            "count": 3018
           },
           {
            "bin_start": 5.5,
            "bin_end": 10,
            "count": 67
           },
           {
            "bin_start": 10,
            "bin_end": 14.5,
            "count": 36
           },
           {
            "bin_start": 14.5,
            "bin_end": 19,
            "count": 19
           },
           {
            "bin_start": 19,
            "bin_end": 23.5,
            "count": 1
           },
           {
            "bin_start": 23.5,
            "bin_end": 28,
            "count": 0
           },
           {
            "bin_start": 28,
            "bin_end": 32.5,
            "count": 2
           },
           {
            "bin_start": 32.5,
            "bin_end": 37,
            "count": 1
           },
           {
            "bin_start": 37,
            "bin_end": 41.5,
            "count": 0
           },
           {
            "bin_start": 41.5,
            "bin_end": 46,
            "count": 1
           }
          ]
         }
        },
        {
         "name": "amenities",
         "dtype": "object",
         "stats": {
          "unique_count": 2437,
          "nan_count": 0,
          "categories": [
           {
            "name": "[\"Hangers\", \"Bed linens\", \"Cooking basics\", \"Washer\", \"Single level home\", \"Oven\", \"Dedicated workspace\", \"Pool\", \"Long term stays allowed\", \"Private entrance\", \"Lock on bedroom door\", \"Refrigerator\", \"Dryer\", \"Microwave\", \"Free street parking\", \"Wifi\", \"Luggage dropoff allowed\", \"Extra pillows and blankets\", \"Keypad\", \"Heating\", \"Paid parking off premises\", \"Hot water\", \"Stove\", \"Iron\", \"Essentials\", \"Kitchen\", \"Air conditioning\", \"Dishes and silverware\"]",
            "count": 46
           },
           {
            "name": "[\"Long term stays allowed\"]",
            "count": 20
           },
           {
            "name": "2435 others",
            "count": 3079
           }
          ]
         }
        },
        {
         "name": "price",
         "dtype": "float64",
         "stats": {
          "unique_count": 521,
          "nan_count": 0,
          "min": "13.0",
          "max": "10286.0",
          "histogram": [
           {
            "bin_start": 13,
            "bin_end": 1040.3,
            "count": 3108
           },
           {
            "bin_start": 1040.3,
            "bin_end": 2067.6,
            "count": 21
           },
           {
            "bin_start": 2067.6,
            "bin_end": 3094.8999999999996,
            "count": 4
           },
           {
            "bin_start": 3094.8999999999996,
            "bin_end": 4122.2,
            "count": 6
           },
           {
            "bin_start": 4122.2,
            "bin_end": 5149.5,
            "count": 2
           },
           {
            "bin_start": 5149.5,
            "bin_end": 6176.799999999999,
            "count": 0
           },
           {
            "bin_start": 6176.799999999999,
            "bin_end": 7204.099999999999,
            "count": 1
           },
           {
            "bin_start": 7204.099999999999,
            "bin_end": 8231.4,
            "count": 1
           },
           {
            "bin_start": 8231.4,
            "bin_end": 9258.699999999999,
            "count": 1
           },
           {
            "bin_start": 9258.699999999999,
            "bin_end": 10286,
            "count": 1
           }
          ]
         }
        },
        {
         "name": "minimum_nights",
         "dtype": "int64",
         "stats": {
          "unique_count": 66,
          "nan_count": 0,
          "min": "1",
          "max": "1000",
          "histogram": [
           {
            "bin_start": 1,
            "bin_end": 100.9,
            "count": 2991
           },
           {
            "bin_start": 100.9,
            "bin_end": 200.8,
            "count": 120
           },
           {
            "bin_start": 200.8,
            "bin_end": 300.70000000000005,
            "count": 2
           },
           {
            "bin_start": 300.70000000000005,
            "bin_end": 400.6,
            "count": 28
           },
           {
            "bin_start": 400.6,
            "bin_end": 500.5,
            "count": 0
           },
           {
            "bin_start": 500.5,
            "bin_end": 600.4000000000001,
            "count": 0
           },
           {
            "bin_start": 600.4000000000001,
            "bin_end": 700.3000000000001,
            "count": 0
           },
           {
            "bin_start": 700.3000000000001,
            "bin_end": 800.2,
            "count": 0
           },
           {
            "bin_start": 800.2,
            "bin_end": 900.1,
            "count": 1
           },
           {
            "bin_start": 900.1,
            "bin_end": 1000,
            "count": 3
           }
          ]
         }
        },
        {
         "name": "maximum_nights",
         "dtype": "int64",
         "stats": {
          "unique_count": 74,
          "nan_count": 0,
          "min": "1",
          "max": "100000",
          "histogram": [
           {
            "bin_start": 1,
            "bin_end": 10000.9,
            "count": 3144
           },
           {
            "bin_start": 10000.9,
            "bin_end": 20000.8,
            "count": 0
           },
           {
            "bin_start": 20000.8,
            "bin_end": 30000.699999999997,
            "count": 0
           },
           {
            "bin_start": 30000.699999999997,
            "bin_end": 40000.6,
            "count": 0
           },
           {
            "bin_start": 40000.6,
            "bin_end": 50000.5,
            "count": 0
           },
           {
            "bin_start": 50000.5,
            "bin_end": 60000.399999999994,
            "count": 0
           },
           {
            "bin_start": 60000.399999999994,
            "bin_end": 70000.3,
            "count": 0
           },
           {
            "bin_start": 70000.3,
            "bin_end": 80000.2,
            "count": 0
           },
           {
            "bin_start": 80000.2,
            "bin_end": 90000.09999999999,
            "count": 0
           },
           {
            "bin_start": 90000.09999999999,
            "bin_end": 100000,
            "count": 1
           }
          ]
         }
        },
        {
         "name": "has_availability",
         "dtype": "object",
         "stats": {
          "unique_count": 2,
          "nan_count": 0,
          "categories": [
           {
            "name": "t",
            "count": 2998
           },
           {
            "name": "f",
            "count": 147
           }
          ]
         }
        },
        {
         "name": "availability_30",
         "dtype": "int64",
         "stats": {
          "unique_count": 31,
          "nan_count": 0,
          "min": "0",
          "max": "30",
          "histogram": [
           {
            "bin_start": 0,
            "bin_end": 3,
            "count": 1270
           },
           {
            "bin_start": 3,
            "bin_end": 6,
            "count": 87
           },
           {
            "bin_start": 6,
            "bin_end": 9,
            "count": 89
           },
           {
            "bin_start": 9,
            "bin_end": 12,
            "count": 91
           },
           {
            "bin_start": 12,
            "bin_end": 15,
            "count": 83
           },
           {
            "bin_start": 15,
            "bin_end": 18,
            "count": 67
           },
           {
            "bin_start": 18,
            "bin_end": 21,
            "count": 85
           },
           {
            "bin_start": 21,
            "bin_end": 24,
            "count": 169
           },
           {
            "bin_start": 24,
            "bin_end": 27,
            "count": 224
           },
           {
            "bin_start": 27,
            "bin_end": 30,
            "count": 980
           }
          ]
         }
        },
        {
         "name": "availability_60",
         "dtype": "int64",
         "stats": {
          "unique_count": 61,
          "nan_count": 0,
          "min": "0",
          "max": "60",
          "histogram": [
           {
            "bin_start": 0,
            "bin_end": 6,
            "count": 903
           },
           {
            "bin_start": 6,
            "bin_end": 12,
            "count": 64
           },
           {
            "bin_start": 12,
            "bin_end": 18,
            "count": 82
           },
           {
            "bin_start": 18,
            "bin_end": 24,
            "count": 227
           },
           {
            "bin_start": 24,
            "bin_end": 30,
            "count": 143
           },
           {
            "bin_start": 30,
            "bin_end": 36,
            "count": 75
           },
           {
            "bin_start": 36,
            "bin_end": 42,
            "count": 114
           },
           {
            "bin_start": 42,
            "bin_end": 48,
            "count": 119
           },
           {
            "bin_start": 48,
            "bin_end": 54,
            "count": 233
           },
           {
            "bin_start": 54,
            "bin_end": 60,
            "count": 1185
           }
          ]
         }
        },
        {
         "name": "availability_90",
         "dtype": "int64",
         "stats": {
          "unique_count": 91,
          "nan_count": 0,
          "min": "0",
          "max": "90",
          "histogram": [
           {
            "bin_start": 0,
            "bin_end": 9,
            "count": 801
           },
           {
            "bin_start": 9,
            "bin_end": 18,
            "count": 47
           },
           {
            "bin_start": 18,
            "bin_end": 27,
            "count": 102
           },
           {
            "bin_start": 27,
            "bin_end": 36,
            "count": 52
           },
           {
            "bin_start": 36,
            "bin_end": 45,
            "count": 71
           },
           {
            "bin_start": 45,
            "bin_end": 54,
            "count": 239
           },
           {
            "bin_start": 54,
            "bin_end": 63,
            "count": 171
           },
           {
            "bin_start": 63,
            "bin_end": 72,
            "count": 145
           },
           {
            "bin_start": 72,
            "bin_end": 81,
            "count": 184
           },
           {
            "bin_start": 81,
            "bin_end": 90,
            "count": 1333
           }
          ]
         }
        },
        {
         "name": "availability_365",
         "dtype": "int64"
        },
        {
         "name": "number_of_reviews",
         "dtype": "int64"
        },
        {
         "name": "number_of_reviews_ltm",
         "dtype": "int64"
        },
        {
         "name": "number_of_reviews_l30d",
         "dtype": "int64"
        },
        {
         "name": "review_scores_rating",
         "dtype": "float64"
        },
        {
         "name": "review_scores_accuracy",
         "dtype": "float64"
        },
        {
         "name": "review_scores_cleanliness",
         "dtype": "float64"
        },
        {
         "name": "review_scores_checkin",
         "dtype": "float64"
        },
        {
         "name": "review_scores_communication",
         "dtype": "float64"
        },
        {
         "name": "review_scores_location",
         "dtype": "float64"
        },
        {
         "name": "review_scores_value",
         "dtype": "float64"
        },
        {
         "name": "instant_bookable",
         "dtype": "object"
        },
        {
         "name": "calculated_host_listings_count",
         "dtype": "int64"
        },
        {
         "name": "amenities_str",
         "dtype": "object"
        },
        {
         "name": "_deepnote_index_column",
         "dtype": "int64"
        }
       ],
       "rows": [
        {
         "id": 50646,
         "name": "Pleasant Room along Bukit Timah",
         "description": "Fully furnished bedroom with a nice view on the 10th floor of a newly built private condominium on …",
         "neighborhood_overview": "The serenity & quiet surrounding makes it an ideal place to come back to after work / play. Lovely …",
         "host_since": "2010-09-08T00:00:00.000000",
         "host_response_time": "No Data",
         "host_response_rate": "nan",
         "host_acceptance_rate": "nan",
         "host_is_superhost": "f",
         "host_listings_count": 1,
         "host_has_profile_pic": "t",
         "host_identity_verified": "t",
         "neighbourhood": "Singapore, Singapore",
         "neighbourhood_cleansed": "Bukit Timah",
         "neighbourhood_group_cleansed": "Central Region",
         "latitude": 1.33432,
         "longitude": 103.78521,
         "property_type": "Private room in rental unit",
         "room_type": "Private room",
         "accommodates": 2,
         "bathrooms_text": "1 bath",
         "bedrooms": 1,
         "beds": 1,
         "amenities": "[\"Shampoo\", \"Essentials\", \"Kitchen\", \"Long term stays allowed\", \"Washer\", \"Cable TV\", \"Elevator\", \"…",
         "price": 80,
         "minimum_nights": 90,
         "maximum_nights": 730,
         "has_availability": "t",
         "availability_30": 30,
         "availability_60": 60,
         "availability_90": 90,
         "availability_365": 365,
         "number_of_reviews": 18,
         "number_of_reviews_ltm": 0,
         "number_of_reviews_l30d": 0,
         "review_scores_rating": 4.56,
         "review_scores_accuracy": 4.72,
         "review_scores_cleanliness": 4.78,
         "review_scores_checkin": 4.78,
         "review_scores_communication": 4.94,
         "review_scores_location": 4.72,
         "review_scores_value": 4.5,
         "instant_bookable": "f",
         "calculated_host_listings_count": 1,
         "amenities_str": "\"Shampoo\", \"Essentials\", \"Kitchen\", \"Long term stays allowed\", \"Washer\", \"Cable TV\", \"Elevator\", \"W…",
         "_deepnote_index_column": 0
        },
        {
         "id": 71609,
         "name": "Ensuite Room (Room 1 & 2) near EXPO",
         "description": "For 3 rooms.Book room 1&2 and room 4   The space  Landed Homestay Room for Rental. Between Simei an…",
         "neighborhood_overview": "No Data",
         "host_since": "2011-01-29T00:00:00.000000",
         "host_response_time": "within a day",
         "host_response_rate": 100,
         "host_acceptance_rate": "nan",
         "host_is_superhost": "f",
         "host_listings_count": 8,
         "host_has_profile_pic": "t",
         "host_identity_verified": "t",
         "neighbourhood": "No Data",
         "neighbourhood_cleansed": "Tampines",
         "neighbourhood_group_cleansed": "East Region",
         "latitude": 1.34537,
         "longitude": 103.95887,
         "property_type": "Private room in villa",
         "room_type": "Private room",
         "accommodates": 6,
         "bathrooms_text": "1 private bath",
         "bedrooms": 2,
         "beds": 3,
         "amenities": "[\"Hangers\", \"Cooking basics\", \"Washer\", \"Hair dryer\", \"Fire pit\", \"Shared hot tub\", \"Outdoor furnit…",
         "price": 179,
         "minimum_nights": 92,
         "maximum_nights": 1125,
         "has_availability": "t",
         "availability_30": 30,
         "availability_60": 60,
         "availability_90": 90,
         "availability_365": 365,
         "number_of_reviews": 20,
         "number_of_reviews_ltm": 0,
         "number_of_reviews_l30d": 0,
         "review_scores_rating": 4.44,
         "review_scores_accuracy": 4.37,
         "review_scores_cleanliness": 4,
         "review_scores_checkin": 4.63,
         "review_scores_communication": 4.78,
         "review_scores_location": 4.26,
         "review_scores_value": 4.32,
         "instant_bookable": "f",
         "calculated_host_listings_count": 5,
         "amenities_str": "\"Hangers\", \"Cooking basics\", \"Washer\", \"Hair dryer\", \"Fire pit\", \"Shared hot tub\", \"Outdoor furnitu…",
         "_deepnote_index_column": 1
        },
        {
         "id": 71896,
         "name": "B&B  Room 1 near Airport & EXPO",
         "description": " The space  Vocational Stay Deluxe Bedroom in Singapore.(Near Airport)    Located Between    - Sime…",
         "neighborhood_overview": "No Data",
         "host_since": "2011-01-29T00:00:00.000000",
         "host_response_time": "within a day",
         "host_response_rate": 100,
         "host_acceptance_rate": "nan",
         "host_is_superhost": "f",
         "host_listings_count": 8,
         "host_has_profile_pic": "t",
         "host_identity_verified": "t",
         "neighbourhood": "No Data",
         "neighbourhood_cleansed": "Tampines",
         "neighbourhood_group_cleansed": "East Region",
         "latitude": 1.34754,
         "longitude": 103.95958,
         "property_type": "Private room in residential home",
         "room_type": "Private room",
         "accommodates": 3,
         "bathrooms_text": "Shared half-bath",
         "bedrooms": 1,
         "beds": 1,
         "amenities": "[\"Coffee maker\", \"Cooking basics\", \"Washer\", \"Hair dryer\", \"Fire pit\", \"Shared hot tub\", \"Outdoor f…",
         "price": 82,
         "minimum_nights": 92,
         "maximum_nights": 1125,
         "has_availability": "t",
         "availability_30": 30,
         "availability_60": 60,
         "availability_90": 90,
         "availability_365": 365,
         "number_of_reviews": 24,
         "number_of_reviews_ltm": 0,
         "number_of_reviews_l30d": 0,
         "review_scores_rating": 4.16,
         "review_scores_accuracy": 4.22,
         "review_scores_cleanliness": 4.09,
         "review_scores_checkin": 4.43,
         "review_scores_communication": 4.43,
         "review_scores_location": 4.17,
         "review_scores_value": 4.04,
         "instant_bookable": "f",
         "calculated_host_listings_count": 5,
         "amenities_str": "\"Coffee maker\", \"Cooking basics\", \"Washer\", \"Hair dryer\", \"Fire pit\", \"Shared hot tub\", \"Outdoor fu…",
         "_deepnote_index_column": 2
        },
        {
         "id": 71903,
         "name": "Room 2-near Airport & EXPO",
         "description": "Like your own home, 24hrs access.   The space  Vocational Stay Deluxe Bedroom in Singapore.(Near Ai…",
         "neighborhood_overview": "Quiet and view of the playground with exercise tracks with access to neighbourhood Simwi Estate.",
         "host_since": "2011-01-29T00:00:00.000000",
         "host_response_time": "within a day",
         "host_response_rate": 100,
         "host_acceptance_rate": "nan",
         "host_is_superhost": "f",
         "host_listings_count": 8,
         "host_has_profile_pic": "t",
         "host_identity_verified": "t",
         "neighbourhood": "Singapore, Singapore",
         "neighbourhood_cleansed": "Tampines",
         "neighbourhood_group_cleansed": "East Region",
         "latitude": 1.34531,
         "longitude": 103.961,
         "property_type": "Private room in residential home",
         "room_type": "Private room",
         "accommodates": 3,
         "bathrooms_text": "Shared half-bath",
         "bedrooms": 1,
         "beds": 2,
         "amenities": "[\"Coffee maker\", \"Cooking basics\", \"Washer\", \"Hair dryer\", \"Fire pit\", \"Shared hot tub\", \"Outdoor f…",
         "price": 82,
         "minimum_nights": 92,
         "maximum_nights": 1125,
         "has_availability": "t",
         "availability_30": 30,
         "availability_60": 60,
         "availability_90": 90,
         "availability_365": 365,
         "number_of_reviews": 47,
         "number_of_reviews_ltm": 0,
         "number_of_reviews_l30d": 0,
         "review_scores_rating": 4.41,
         "review_scores_accuracy": 4.39,
         "review_scores_cleanliness": 4.52,
         "review_scores_checkin": 4.63,
         "review_scores_communication": 4.64,
         "review_scores_location": 4.5,
         "review_scores_value": 4.36,
         "instant_bookable": "f",
         "calculated_host_listings_count": 5,
         "amenities_str": "\"Coffee maker\", \"Cooking basics\", \"Washer\", \"Hair dryer\", \"Fire pit\", \"Shared hot tub\", \"Outdoor fu…",
         "_deepnote_index_column": 3
        },
        {
         "id": 275343,
         "name": "Conveniently located City Room!(1,2,3,4,5,6,7,8)",
         "description": "Awesome location and host  Room near INSEAD, NTU, SMU, NUS   The space  Centrally located between 2…",
         "neighborhood_overview": "No Data",
         "host_since": "2011-11-24T00:00:00.000000",
         "host_response_time": "within a few hours",
         "host_response_rate": 87,
         "host_acceptance_rate": 77,
         "host_is_superhost": "f",
         "host_listings_count": 16,
         "host_has_profile_pic": "t",
         "host_identity_verified": "t",
         "neighbourhood": "No Data",
         "neighbourhood_cleansed": "Bukit Merah",
         "neighbourhood_group_cleansed": "Central Region",
         "latitude": 1.29015,
         "longitude": 103.80814,
         "property_type": "Private room in rental unit",
         "room_type": "Private room",
         "accommodates": 1,
         "bathrooms_text": "No Data",
         "bedrooms": 1,
         "beds": 1,
         "amenities": "[\"Shampoo\", \"Essentials\", \"Keypad\", \"Kitchen\", \"Long term stays allowed\", \"Washer\", \"Hair dryer\", \"…",
         "price": 52,
         "minimum_nights": 14,
         "maximum_nights": 999,
         "has_availability": "t",
         "availability_30": 6,
         "availability_60": 36,
         "availability_90": 66,
         "availability_365": 341,
         "number_of_reviews": 20,
         "number_of_reviews_ltm": 0,
         "number_of_reviews_l30d": 0,
         "review_scores_rating": 4.39,
         "review_scores_accuracy": 4.12,
         "review_scores_cleanliness": 4.24,
         "review_scores_checkin": 4.53,
         "review_scores_communication": 4.47,
         "review_scores_location": 4.53,
         "review_scores_value": 4.59,
         "instant_bookable": "f",
         "calculated_host_listings_count": 16,
         "amenities_str": "\"Shampoo\", \"Essentials\", \"Keypad\", \"Kitchen\", \"Long term stays allowed\", \"Washer\", \"Hair dryer\", \"L…",
         "_deepnote_index_column": 4
        },
        {
         "id": 275344,
         "name": "15 mins to Outram MRT Single Room (B)",
         "description": "Lovely home for the special guest !   The space  Great Location, Great rooms, Great People!  Please…",
         "neighborhood_overview": "Bus stop  Food center  Supermarket",
         "host_since": "2011-11-24T00:00:00.000000",
         "host_response_time": "within a few hours",
         "host_response_rate": 87,
         "host_acceptance_rate": 77,
         "host_is_superhost": "f",
         "host_listings_count": 16,
         "host_has_profile_pic": "t",
         "host_identity_verified": "t",
         "neighbourhood": "Singapore, Singapore",
         "neighbourhood_cleansed": "Bukit Merah",
         "neighbourhood_group_cleansed": "Central Region",
         "latitude": 1.28836,
         "longitude": 103.81144,
         "property_type": "Private room in rental unit",
         "room_type": "Private room",
         "accommodates": 1,
         "bathrooms_text": "Shared half-bath",
         "bedrooms": 1,
         "beds": 1,
         "amenities": "[\"Shampoo\", \"Essentials\", \"Kitchen\", \"Long term stays allowed\", \"Washer\", \"Smart lock\", \"Hair dryer…",
         "price": 40,
         "minimum_nights": 14,
         "maximum_nights": 999,
         "has_availability": "t",
         "availability_30": 3,
         "availability_60": 19,
         "availability_90": 49,
         "availability_365": 324,
         "number_of_reviews": 13,
         "number_of_reviews_ltm": 1,
         "number_of_reviews_l30d": 0,
         "review_scores_rating": 4.55,
         "review_scores_accuracy": 4.67,
         "review_scores_cleanliness": 4.25,
         "review_scores_checkin": 4.67,
         "review_scores_communication": 4.58,
         "review_scores_location": 4.58,
         "review_scores_value": 4.5,
         "instant_bookable": "f",
         "calculated_host_listings_count": 16,
         "amenities_str": "\"Shampoo\", \"Essentials\", \"Kitchen\", \"Long term stays allowed\", \"Washer\", \"Smart lock\", \"Hair dryer\"…",
         "_deepnote_index_column": 5
        },
        {
         "id": 294281,
         "name": "5 mins walk from Newton subway",
         "description": "I have 3 bedrooms  in a charming British style townhouse for you and your family while you are visi…",
         "neighborhood_overview": "No Data",
         "host_since": "2011-12-20T00:00:00.000000",
         "host_response_time": "within a few hours",
         "host_response_rate": 95,
         "host_acceptance_rate": 0,
         "host_is_superhost": "f",
         "host_listings_count": 6,
         "host_has_profile_pic": "t",
         "host_identity_verified": "t",
         "neighbourhood": "No Data",
         "neighbourhood_cleansed": "Newton",
         "neighbourhood_group_cleansed": "Central Region",
         "latitude": 1.31142,
         "longitude": 103.83924,
         "property_type": "Private room in rental unit",
         "room_type": "Private room",
         "accommodates": 2,
         "bathrooms_text": "1 shared bath",
         "bedrooms": 1,
         "beds": 1,
         "amenities": "[\"Hangers\", \"Bed linens\", \"Cooking basics\", \"Washer\", \"Hair dryer\", \"Oven\", \"Dedicated workspace\", …",
         "price": 72,
         "minimum_nights": 90,
         "maximum_nights": 1125,
         "has_availability": "t",
         "availability_30": 30,
         "availability_60": 60,
         "availability_90": 90,
         "availability_365": 365,
         "number_of_reviews": 133,
         "number_of_reviews_ltm": 0,
         "number_of_reviews_l30d": 0,
         "review_scores_rating": 4.43,
         "review_scores_accuracy": 4.33,
         "review_scores_cleanliness": 4.16,
         "review_scores_checkin": 4.5,
         "review_scores_communication": 4.66,
         "review_scores_location": 4.52,
         "review_scores_value": 4.39,
         "instant_bookable": "f",
         "calculated_host_listings_count": 7,
         "amenities_str": "\"Hangers\", \"Bed linens\", \"Cooking basics\", \"Washer\", \"Hair dryer\", \"Oven\", \"Dedicated workspace\", \"…",
         "_deepnote_index_column": 6
        },
        {
         "id": 324945,
         "name": "20 Mins to Sentosa @ Hilltop ! (8)",
         "description": " The space  Great Location, Great people, Great Host .    The 3 greatest statement in our home.  My…",
         "neighborhood_overview": "No Data",
         "host_since": "2011-11-24T00:00:00.000000",
         "host_response_time": "within a few hours",
         "host_response_rate": 87,
         "host_acceptance_rate": 77,
         "host_is_superhost": "f",
         "host_listings_count": 16,
         "host_has_profile_pic": "t",
         "host_identity_verified": "t",
         "neighbourhood": "No Data",
         "neighbourhood_cleansed": "Bukit Merah",
         "neighbourhood_group_cleansed": "Central Region",
         "latitude": 1.28828,
         "longitude": 103.8102,
         "property_type": "Private room in rental unit",
         "room_type": "Private room",
         "accommodates": 1,
         "bathrooms_text": "0 baths",
         "bedrooms": 1,
         "beds": 1,
         "amenities": "[\"Shampoo\", \"Kitchen\", \"Long term stays allowed\", \"Washer\", \"Smart lock\", \"Hair dryer\", \"Dryer\", \"W…",
         "price": 49,
         "minimum_nights": 14,
         "maximum_nights": 999,
         "has_availability": "t",
         "availability_30": 20,
         "availability_60": 50,
         "availability_90": 80,
         "availability_365": 355,
         "number_of_reviews": 14,
         "number_of_reviews_ltm": 0,
         "number_of_reviews_l30d": 0,
         "review_scores_rating": 4.2,
         "review_scores_accuracy": 4.08,
         "review_scores_cleanliness": 4.46,
         "review_scores_checkin": 4.69,
         "review_scores_communication": 4.46,
         "review_scores_location": 4.15,
         "review_scores_value": 4.08,
         "instant_bookable": "f",
         "calculated_host_listings_count": 16,
         "amenities_str": "\"Shampoo\", \"Kitchen\", \"Long term stays allowed\", \"Washer\", \"Smart lock\", \"Hair dryer\", \"Dryer\", \"Wi…",
         "_deepnote_index_column": 7
        },
        {
         "id": 330095,
         "name": "10 mins to Redhill MRT @ Mini Orange Room(5)",
         "description": "Cosy, comfortable, well-renovated & fitted. Great guests, great environment and great host!  This i…",
         "neighborhood_overview": "Near IKEA Alexandra Singapore, Food markets and convenience stores",
         "host_since": "2011-11-24T00:00:00.000000",
         "host_response_time": "within a few hours",
         "host_response_rate": 87,
         "host_acceptance_rate": 77,
         "host_is_superhost": "f",
         "host_listings_count": 16,
         "host_has_profile_pic": "t",
         "host_identity_verified": "t",
         "neighbourhood": "Singapore, Singapore",
         "neighbourhood_cleansed": "Bukit Merah",
         "neighbourhood_group_cleansed": "Central Region",
         "latitude": 1.28636,
         "longitude": 103.81138,
         "property_type": "Private room in rental unit",
         "room_type": "Private room",
         "accommodates": 1,
         "bathrooms_text": "4 shared baths",
         "bedrooms": 1,
         "beds": 1,
         "amenities": "[\"Shampoo\", \"Essentials\", \"Hangers\", \"Kitchen\", \"Long term stays allowed\", \"Washer\", \"Carbon monoxi…",
         "price": 59,
         "minimum_nights": 60,
         "maximum_nights": 999,
         "has_availability": "t",
         "availability_30": 29,
         "availability_60": 59,
         "availability_90": 89,
         "availability_365": 364,
         "number_of_reviews": 3,
         "number_of_reviews_ltm": 0,
         "number_of_reviews_l30d": 0,
         "review_scores_rating": 5,
         "review_scores_accuracy": 5,
         "review_scores_cleanliness": 4.5,
         "review_scores_checkin": 5,
         "review_scores_communication": 5,
         "review_scores_location": 4.5,
         "review_scores_value": 5,
         "instant_bookable": "f",
         "calculated_host_listings_count": 16,
         "amenities_str": "\"Shampoo\", \"Essentials\", \"Hangers\", \"Kitchen\", \"Long term stays allowed\", \"Washer\", \"Carbon monoxid…",
         "_deepnote_index_column": 9
        },
        {
         "id": 344803,
         "name": "Budget short stay room near  EXPO",
         "description": "Direct bus 24 from airport to this place.Walking distance to expo,downtown line3 and east west line…",
         "neighborhood_overview": "A very quiet place .Very near to airport and cannot hear airplane sound",
         "host_since": "2011-01-29T00:00:00.000000",
         "host_response_time": "within a day",
         "host_response_rate": 100,
         "host_acceptance_rate": "nan",
         "host_is_superhost": "f",
         "host_listings_count": 8,
         "host_has_profile_pic": "t",
         "host_identity_verified": "t",
         "neighbourhood": "Singapore, Singapore",
         "neighbourhood_cleansed": "Tampines",
         "neighbourhood_group_cleansed": "East Region",
         "latitude": 1.34917,
         "longitude": 103.9609,
         "property_type": "Private room in residential home",
         "room_type": "Private room",
         "accommodates": 1,
         "bathrooms_text": "1.5 shared baths",
         "bedrooms": 1,
         "beds": 1,
         "amenities": "[\"Hangers\", \"Bed linens\", \"Coffee maker\", \"Cooking basics\", \"Washer\", \"Hair dryer\", \"Fire pit\", \"Ov…",
         "price": 48,
         "minimum_nights": 92,
         "maximum_nights": 365,
         "has_availability": "t",
         "availability_30": 30,
         "availability_60": 60,
         "availability_90": 90,
         "availability_365": 365,
         "number_of_reviews": 58,
         "number_of_reviews_ltm": 0,
         "number_of_reviews_l30d": 0,
         "review_scores_rating": 4.58,
         "review_scores_accuracy": 4.58,
         "review_scores_cleanliness": 4.44,
         "review_scores_checkin": 4.75,
         "review_scores_communication": 4.56,
         "review_scores_location": 4.65,
         "review_scores_value": 4.44,
         "instant_bookable": "f",
         "calculated_host_listings_count": 5,
         "amenities_str": "\"Hangers\", \"Bed linens\", \"Coffee maker\", \"Cooking basics\", \"Washer\", \"Hair dryer\", \"Fire pit\", \"Ove…",
         "_deepnote_index_column": 10
        }
       ]
      },
      "text/plain": "            id                                              name  \\\n0        50646                   Pleasant Room along Bukit Timah   \n1        71609               Ensuite Room (Room 1 & 2) near EXPO   \n2        71896                   B&B  Room 1 near Airport & EXPO   \n3        71903                        Room 2-near Airport & EXPO   \n4       275343  Conveniently located City Room!(1,2,3,4,5,6,7,8)   \n...        ...                                               ...   \n3667  53905492                                     Standard Twin   \n3668  53905653                           Standard Queen & Single   \n3669  53910005      Affordable Office for 8 Pax in Heart of East   \n3670  53910434                  Deluxe Class 2BR Near Marina Bay   \n3671  53927825      Spacious Private Room in Lovely Landed House   \n\n                                            description  \\\n0     Fully furnished bedroom with a nice view on th...   \n1     For 3 rooms.Book room 1&2 and room 4   The spa...   \n2      The space  Vocational Stay Deluxe Bedroom in ...   \n3     Like your own home, 24hrs access.   The space ...   \n4     Awesome location and host  Room near INSEAD, N...   \n...                                                 ...   \n3667   The space  Hotel accommodations have been car...   \n3668   The space  Hotel accommodations have been car...   \n3669  Convenient location in the heart of East Singa...   \n3670  Situated near the bustling neighborhood of Mar...   \n3671  Forget your worries in this spacious and seren...   \n\n                                  neighborhood_overview host_since  \\\n0     The serenity & quiet surrounding makes it an i... 2010-09-08   \n1                                               No Data 2011-01-29   \n2                                               No Data 2011-01-29   \n3     Quiet and view of the playground with exercise... 2011-01-29   \n4                                               No Data 2011-11-24   \n...                                                 ...        ...   \n3667                                            No Data 2021-12-06   \n3668                                            No Data 2021-12-06   \n3669                                            No Data 2017-04-04   \n3670  Located near the  CBD, enjoy a wide variety of... 2017-10-27   \n3671                                            No Data 2021-11-15   \n\n      host_response_time  host_response_rate  host_acceptance_rate  \\\n0                No Data                 NaN                   NaN   \n1           within a day               100.0                   NaN   \n2           within a day               100.0                   NaN   \n3           within a day               100.0                   NaN   \n4     within a few hours                87.0                  77.0   \n...                  ...                 ...                   ...   \n3667      within an hour               100.0                 100.0   \n3668      within an hour               100.0                 100.0   \n3669  a few days or more                 0.0                   NaN   \n3670  within a few hours                95.0                  30.0   \n3671  within a few hours               100.0                  67.0   \n\n     host_is_superhost  host_listings_count  ... review_scores_rating  \\\n0                    f                  1.0  ...                 4.56   \n1                    f                  8.0  ...                 4.44   \n2                    f                  8.0  ...                 4.16   \n3                    f                  8.0  ...                 4.41   \n4                    f                 16.0  ...                 4.39   \n...                ...                  ...  ...                  ...   \n3667                 f                  0.0  ...                 0.00   \n3668                 f                  0.0  ...                 0.00   \n3669                 f                  0.0  ...                 0.00   \n3670                 f                225.0  ...                 0.00   \n3671                 f                  2.0  ...                 0.00   \n\n     review_scores_accuracy review_scores_cleanliness review_scores_checkin  \\\n0                      4.72                      4.78                  4.78   \n1                      4.37                      4.00                  4.63   \n2                      4.22                      4.09                  4.43   \n3                      4.39                      4.52                  4.63   \n4                      4.12                      4.24                  4.53   \n...                     ...                       ...                   ...   \n3667                   0.00                      0.00                  0.00   \n3668                   0.00                      0.00                  0.00   \n3669                   0.00                      0.00                  0.00   \n3670                   0.00                      0.00                  0.00   \n3671                   0.00                      0.00                  0.00   \n\n     review_scores_communication  review_scores_location  review_scores_value  \\\n0                           4.94                    4.72                 4.50   \n1                           4.78                    4.26                 4.32   \n2                           4.43                    4.17                 4.04   \n3                           4.64                    4.50                 4.36   \n4                           4.47                    4.53                 4.59   \n...                          ...                     ...                  ...   \n3667                        0.00                    0.00                 0.00   \n3668                        0.00                    0.00                 0.00   \n3669                        0.00                    0.00                 0.00   \n3670                        0.00                    0.00                 0.00   \n3671                        0.00                    0.00                 0.00   \n\n     instant_bookable calculated_host_listings_count  \\\n0                   f                              1   \n1                   f                              5   \n2                   f                              5   \n3                   f                              5   \n4                   f                             16   \n...               ...                            ...   \n3667                t                              4   \n3668                t                              4   \n3669                t                              1   \n3670                f                            179   \n3671                f                              2   \n\n                                          amenities_str  \n0     \"Shampoo\", \"Essentials\", \"Kitchen\", \"Long term...  \n1     \"Hangers\", \"Cooking basics\", \"Washer\", \"Hair d...  \n2     \"Coffee maker\", \"Cooking basics\", \"Washer\", \"H...  \n3     \"Coffee maker\", \"Cooking basics\", \"Washer\", \"H...  \n4     \"Shampoo\", \"Essentials\", \"Keypad\", \"Kitchen\", ...  \n...                                                 ...  \n3667  \"Security cameras on property\", \"Hangers\", \"Lo...  \n3668  \"Security cameras on property\", \"Hangers\", \"Lo...  \n3669  \"Long term stays allowed\", \"Air conditioning\",...  \n3670  \"Cleaning before checkout\", \"Safe\", \"Hangers\",...  \n3671  \"Kitchen\", \"Long term stays allowed\", \"Washer\"...  \n\n[3145 rows x 45 columns]",
      "text/html": "<div>\n<style scoped>\n    .dataframe tbody tr th:only-of-type {\n        vertical-align: middle;\n    }\n\n    .dataframe tbody tr th {\n        vertical-align: top;\n    }\n\n    .dataframe thead th {\n        text-align: right;\n    }\n</style>\n<table border=\"1\" class=\"dataframe\">\n  <thead>\n    <tr style=\"text-align: right;\">\n      <th></th>\n      <th>id</th>\n      <th>name</th>\n      <th>description</th>\n      <th>neighborhood_overview</th>\n      <th>host_since</th>\n      <th>host_response_time</th>\n      <th>host_response_rate</th>\n      <th>host_acceptance_rate</th>\n      <th>host_is_superhost</th>\n      <th>host_listings_count</th>\n      <th>...</th>\n      <th>review_scores_rating</th>\n      <th>review_scores_accuracy</th>\n      <th>review_scores_cleanliness</th>\n      <th>review_scores_checkin</th>\n      <th>review_scores_communication</th>\n      <th>review_scores_location</th>\n      <th>review_scores_value</th>\n      <th>instant_bookable</th>\n      <th>calculated_host_listings_count</th>\n      <th>amenities_str</th>\n    </tr>\n  </thead>\n  <tbody>\n    <tr>\n      <th>0</th>\n      <td>50646</td>\n      <td>Pleasant Room along Bukit Timah</td>\n      <td>Fully furnished bedroom with a nice view on th...</td>\n      <td>The serenity &amp; quiet surrounding makes it an i...</td>\n      <td>2010-09-08</td>\n      <td>No Data</td>\n      <td>NaN</td>\n      <td>NaN</td>\n      <td>f</td>\n      <td>1.0</td>\n      <td>...</td>\n      <td>4.56</td>\n      <td>4.72</td>\n      <td>4.78</td>\n      <td>4.78</td>\n      <td>4.94</td>\n      <td>4.72</td>\n      <td>4.50</td>\n      <td>f</td>\n      <td>1</td>\n      <td>\"Shampoo\", \"Essentials\", \"Kitchen\", \"Long term...</td>\n    </tr>\n    <tr>\n      <th>1</th>\n      <td>71609</td>\n      <td>Ensuite Room (Room 1 &amp; 2) near EXPO</td>\n      <td>For 3 rooms.Book room 1&amp;2 and room 4   The spa...</td>\n      <td>No Data</td>\n      <td>2011-01-29</td>\n      <td>within a day</td>\n      <td>100.0</td>\n      <td>NaN</td>\n      <td>f</td>\n      <td>8.0</td>\n      <td>...</td>\n      <td>4.44</td>\n      <td>4.37</td>\n      <td>4.00</td>\n      <td>4.63</td>\n      <td>4.78</td>\n      <td>4.26</td>\n      <td>4.32</td>\n      <td>f</td>\n      <td>5</td>\n      <td>\"Hangers\", \"Cooking basics\", \"Washer\", \"Hair d...</td>\n    </tr>\n    <tr>\n      <th>2</th>\n      <td>71896</td>\n      <td>B&amp;B  Room 1 near Airport &amp; EXPO</td>\n      <td>The space  Vocational Stay Deluxe Bedroom in ...</td>\n      <td>No Data</td>\n      <td>2011-01-29</td>\n      <td>within a day</td>\n      <td>100.0</td>\n      <td>NaN</td>\n      <td>f</td>\n      <td>8.0</td>\n      <td>...</td>\n      <td>4.16</td>\n      <td>4.22</td>\n      <td>4.09</td>\n      <td>4.43</td>\n      <td>4.43</td>\n      <td>4.17</td>\n      <td>4.04</td>\n      <td>f</td>\n      <td>5</td>\n      <td>\"Coffee maker\", \"Cooking basics\", \"Washer\", \"H...</td>\n    </tr>\n    <tr>\n      <th>3</th>\n      <td>71903</td>\n      <td>Room 2-near Airport &amp; EXPO</td>\n      <td>Like your own home, 24hrs access.   The space ...</td>\n      <td>Quiet and view of the playground with exercise...</td>\n      <td>2011-01-29</td>\n      <td>within a day</td>\n      <td>100.0</td>\n      <td>NaN</td>\n      <td>f</td>\n      <td>8.0</td>\n      <td>...</td>\n      <td>4.41</td>\n      <td>4.39</td>\n      <td>4.52</td>\n      <td>4.63</td>\n      <td>4.64</td>\n      <td>4.50</td>\n      <td>4.36</td>\n      <td>f</td>\n      <td>5</td>\n      <td>\"Coffee maker\", \"Cooking basics\", \"Washer\", \"H...</td>\n    </tr>\n    <tr>\n      <th>4</th>\n      <td>275343</td>\n      <td>Conveniently located City Room!(1,2,3,4,5,6,7,8)</td>\n      <td>Awesome location and host  Room near INSEAD, N...</td>\n      <td>No Data</td>\n      <td>2011-11-24</td>\n      <td>within a few hours</td>\n      <td>87.0</td>\n      <td>77.0</td>\n      <td>f</td>\n      <td>16.0</td>\n      <td>...</td>\n      <td>4.39</td>\n      <td>4.12</td>\n      <td>4.24</td>\n      <td>4.53</td>\n      <td>4.47</td>\n      <td>4.53</td>\n      <td>4.59</td>\n      <td>f</td>\n      <td>16</td>\n      <td>\"Shampoo\", \"Essentials\", \"Keypad\", \"Kitchen\", ...</td>\n    </tr>\n    <tr>\n      <th>...</th>\n      <td>...</td>\n      <td>...</td>\n      <td>...</td>\n      <td>...</td>\n      <td>...</td>\n      <td>...</td>\n      <td>...</td>\n      <td>...</td>\n      <td>...</td>\n      <td>...</td>\n      <td>...</td>\n      <td>...</td>\n      <td>...</td>\n      <td>...</td>\n      <td>...</td>\n      <td>...</td>\n      <td>...</td>\n      <td>...</td>\n      <td>...</td>\n      <td>...</td>\n      <td>...</td>\n    </tr>\n    <tr>\n      <th>3667</th>\n      <td>53905492</td>\n      <td>Standard Twin</td>\n      <td>The space  Hotel accommodations have been car...</td>\n      <td>No Data</td>\n      <td>2021-12-06</td>\n      <td>within an hour</td>\n      <td>100.0</td>\n      <td>100.0</td>\n      <td>f</td>\n      <td>0.0</td>\n      <td>...</td>\n      <td>0.00</td>\n      <td>0.00</td>\n      <td>0.00</td>\n      <td>0.00</td>\n      <td>0.00</td>\n      <td>0.00</td>\n      <td>0.00</td>\n      <td>t</td>\n      <td>4</td>\n      <td>\"Security cameras on property\", \"Hangers\", \"Lo...</td>\n    </tr>\n    <tr>\n      <th>3668</th>\n      <td>53905653</td>\n      <td>Standard Queen &amp; Single</td>\n      <td>The space  Hotel accommodations have been car...</td>\n      <td>No Data</td>\n      <td>2021-12-06</td>\n      <td>within an hour</td>\n      <td>100.0</td>\n      <td>100.0</td>\n      <td>f</td>\n      <td>0.0</td>\n      <td>...</td>\n      <td>0.00</td>\n      <td>0.00</td>\n      <td>0.00</td>\n      <td>0.00</td>\n      <td>0.00</td>\n      <td>0.00</td>\n      <td>0.00</td>\n      <td>t</td>\n      <td>4</td>\n      <td>\"Security cameras on property\", \"Hangers\", \"Lo...</td>\n    </tr>\n    <tr>\n      <th>3669</th>\n      <td>53910005</td>\n      <td>Affordable Office for 8 Pax in Heart of East</td>\n      <td>Convenient location in the heart of East Singa...</td>\n      <td>No Data</td>\n      <td>2017-04-04</td>\n      <td>a few days or more</td>\n      <td>0.0</td>\n      <td>NaN</td>\n      <td>f</td>\n      <td>0.0</td>\n      <td>...</td>\n      <td>0.00</td>\n      <td>0.00</td>\n      <td>0.00</td>\n      <td>0.00</td>\n      <td>0.00</td>\n      <td>0.00</td>\n      <td>0.00</td>\n      <td>t</td>\n      <td>1</td>\n      <td>\"Long term stays allowed\", \"Air conditioning\",...</td>\n    </tr>\n    <tr>\n      <th>3670</th>\n      <td>53910434</td>\n      <td>Deluxe Class 2BR Near Marina Bay</td>\n      <td>Situated near the bustling neighborhood of Mar...</td>\n      <td>Located near the  CBD, enjoy a wide variety of...</td>\n      <td>2017-10-27</td>\n      <td>within a few hours</td>\n      <td>95.0</td>\n      <td>30.0</td>\n      <td>f</td>\n      <td>225.0</td>\n      <td>...</td>\n      <td>0.00</td>\n      <td>0.00</td>\n      <td>0.00</td>\n      <td>0.00</td>\n      <td>0.00</td>\n      <td>0.00</td>\n      <td>0.00</td>\n      <td>f</td>\n      <td>179</td>\n      <td>\"Cleaning before checkout\", \"Safe\", \"Hangers\",...</td>\n    </tr>\n    <tr>\n      <th>3671</th>\n      <td>53927825</td>\n      <td>Spacious Private Room in Lovely Landed House</td>\n      <td>Forget your worries in this spacious and seren...</td>\n      <td>No Data</td>\n      <td>2021-11-15</td>\n      <td>within a few hours</td>\n      <td>100.0</td>\n      <td>67.0</td>\n      <td>f</td>\n      <td>2.0</td>\n      <td>...</td>\n      <td>0.00</td>\n      <td>0.00</td>\n      <td>0.00</td>\n      <td>0.00</td>\n      <td>0.00</td>\n      <td>0.00</td>\n      <td>0.00</td>\n      <td>f</td>\n      <td>2</td>\n      <td>\"Kitchen\", \"Long term stays allowed\", \"Washer\"...</td>\n    </tr>\n  </tbody>\n</table>\n<p>3145 rows × 45 columns</p>\n</div>"
     },
     "metadata": {}
    }
   ],
   "execution_count": null
  },
  {
   "cell_type": "markdown",
   "source": "<a style='text-decoration:none;line-height:16px;display:flex;color:#5B5B62;padding:10px;justify-content:end;' href='https://deepnote.com?utm_source=created-in-deepnote-cell&projectId=2a92d0af-cecf-4cde-96f5-c3db3a7f88f1' target=\"_blank\">\n<img alt='Created in deepnote.com' style='display:inline;max-height:16px;margin:0px;margin-right:7.5px;' src='data:image/svg+xml;base64,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' > </img>\nCreated in <span style='font-weight:600;margin-left:4px;'>Deepnote</span></a>",
   "metadata": {
    "tags": [],
    "created_in_deepnote_cell": true,
    "deepnote_cell_type": "markdown"
   }
  }
 ],
 "nbformat": 4,
 "nbformat_minor": 5,
 "metadata": {
  "deepnote": {
   "is_reactive": false
  },
  "deepnote_app_layout": "article",
  "deepnote_execution_queue": [],
  "deepnote_notebook_id": "14da5194-3f60-4896-9768-77a38e5d83e9",
  "kernelspec": {
   "display_name": "Python 3 (ipykernel)",
   "language": "python",
   "name": "python3"
  },
  "language_info": {
   "codemirror_mode": {
    "name": "ipython",
    "version": 3
   },
   "file_extension": ".py",
   "mimetype": "text/x-python",
   "name": "python",
   "nbconvert_exporter": "python",
   "pygments_lexer": "ipython3",
   "version": "3.9.7"
  }
 }
}