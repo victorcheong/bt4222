{
 "cells": [
  {
   "cell_type": "code",
   "metadata": {
    "tags": [],
    "deepnote_to_be_reexecuted": false,
    "source_hash": "62755e0f",
    "execution_start": 1647387392235,
    "execution_millis": 1126,
    "cell_id": "00001-a05c743e-c6fa-47ce-ba44-3be378ef0275",
    "owner_user_id": "1f1d101d-e727-4110-b86f-42f255a8aee3",
    "deepnote_cell_type": "code",
    "deepnote_cell_height": 622.390625
   },
   "source": "import pickle\nimport numpy as np\nfrom sklearn.svm import SVR\nfrom sklearn.svm import LinearSVR\nfrom sklearn.model_selection import GridSearchCV\nfrom sklearn.metrics import make_scorer\nfrom sklearn.metrics import mean_squared_error\nimport joblib\nfrom sklearn import linear_model\nimport xgboost\nfrom xgboost import XGBRegressor\nfrom sklearn.model_selection import RandomizedSearchCV\n\nscorer = make_scorer(mean_squared_error, greater_is_better=False)\n\ndef calculate_rrmse(model, x_test, y_test, y_train):\n    preds = model.predict(x_test).ravel()\n    y_bar_train = np.mean(y_train)\n    naive_sse = sum((y_bar_train - y_test) ** 2)\n    model_sse = sum((preds - y_test) ** 2)\n    rrmse = 100 * np.sqrt(model_sse / naive_sse)\n    return rrmse\n\ndef get_results(model):\n    print(calculate_rrmse(model, X_train.tocsr(), y_train, y_train))\n    print(calculate_rrmse(model, X_val.tocsr(), y_val, y_train))\n    print(calculate_rrmse(model, X_test.tocsr(), y_test, y_train))\n    return",
   "execution_count": null,
   "outputs": [
    {
     "name": "stderr",
     "text": "/root/venv/lib/python3.9/site-packages/xgboost/compat.py:36: FutureWarning: pandas.Int64Index is deprecated and will be removed from pandas in a future version. Use pandas.Index with the appropriate dtype instead.\n  from pandas import MultiIndex, Int64Index\n",
     "output_type": "stream"
    }
   ]
  },
  {
   "cell_type": "code",
   "metadata": {
    "tags": [],
    "deepnote_to_be_reexecuted": false,
    "source_hash": "e5f355fd",
    "execution_start": 1647387398566,
    "execution_millis": 57,
    "cell_id": "00002-ada26128-0e6a-465b-acd2-4658ed0df8ad",
    "deepnote_cell_type": "code",
    "deepnote_cell_height": 513
   },
   "source": "with open('SG_x_train.pkl', 'rb') as f:\n    X_train = pickle.load(f)\n\nwith open('SG_y_train.pkl', 'rb') as f:\n    y_train = pickle.load(f)\n\nwith open('SG_x_val.pkl', 'rb') as f:\n    X_val = pickle.load(f)\n\nwith open('SG_y_val.pkl', 'rb') as f:\n    y_val = pickle.load(f)\n\nwith open('SG_x_test.pkl', 'rb') as f:\n    X_test = pickle.load(f)\n\nwith open('SG_y_test.pkl', 'rb') as f:\n    y_test = pickle.load(f)\n\n# with open('feat_dict.pkl', 'rb') as f:\n#     feat_dict = pickle.load(f)\n\n# with open('percent_dict.pkl', 'rb') as f:\n#     percent_dict = pickle.load(f)\n\n# reversed_feat_dict = {v: k for k, v in feat_dict.items()}",
   "execution_count": null,
   "outputs": []
  },
  {
   "cell_type": "code",
   "metadata": {
    "tags": [],
    "deepnote_to_be_reexecuted": false,
    "source_hash": "fbdc8db",
    "execution_start": 1647348295491,
    "execution_millis": 643,
    "cell_id": "00003-77eb6e22-1f81-4efa-8c9a-74eeddaa6366",
    "deepnote_cell_type": "code",
    "deepnote_cell_height": 369
   },
   "source": "with open('NY_x_train.pkl', 'rb') as f:\n    X_train = pickle.load(f)\n\nwith open('NY_y_train.pkl', 'rb') as f:\n    y_train = pickle.load(f)\n\nwith open('NY_x_val.pkl', 'rb') as f:\n    X_val = pickle.load(f)\n\nwith open('NY_y_val.pkl', 'rb') as f:\n    y_val = pickle.load(f)\n\nwith open('NY_x_test.pkl', 'rb') as f:\n    X_test = pickle.load(f)\n\nwith open('NY_y_test.pkl', 'rb') as f:\n    y_test = pickle.load(f)",
   "execution_count": null,
   "outputs": []
  },
  {
   "cell_type": "markdown",
   "source": "# Multilayer Perceptron (MLP)",
   "metadata": {
    "tags": [],
    "is_collapsed": false,
    "cell_id": "00004-f83cc08b-1646-438a-8167-d1700bb6e833",
    "deepnote_cell_type": "text-cell-h1"
   }
  },
  {
   "cell_type": "code",
   "metadata": {
    "tags": [],
    "deepnote_to_be_reexecuted": false,
    "source_hash": "a23e6820",
    "execution_start": 1646561601919,
    "execution_millis": 52439,
    "cell_id": "00005-a6a71e64-3d25-4f31-91a8-27672107a0a1",
    "deepnote_cell_type": "code",
    "deepnote_cell_height": 746
   },
   "source": "!pip install tensorflow",
   "execution_count": null,
   "outputs": [
    {
     "name": "stdout",
     "text": "Collecting tensorflow\n  Downloading tensorflow-2.8.0-cp39-cp39-manylinux2010_x86_64.whl (497.6 MB)\n\u001b[K     |████████████████████████████████| 497.6 MB 5.7 kB/s \n\u001b[?25hCollecting absl-py>=0.4.0\n  Downloading absl_py-1.0.0-py3-none-any.whl (126 kB)\n\u001b[K     |████████████████████████████████| 126 kB 49.5 MB/s \n\u001b[?25hCollecting flatbuffers>=1.12\n  Downloading flatbuffers-2.0-py2.py3-none-any.whl (26 kB)\nCollecting termcolor>=1.1.0\n  Downloading termcolor-1.1.0.tar.gz (3.9 kB)\nCollecting tensorboard<2.9,>=2.8\n  Downloading tensorboard-2.8.0-py3-none-any.whl (5.8 MB)\n\u001b[K     |████████████████████████████████| 5.8 MB 8.7 MB/s \n\u001b[?25hRequirement already satisfied: keras<2.9,>=2.8.0rc0 in /shared-libs/python3.9/py/lib/python3.9/site-packages (from tensorflow) (2.8.0)\nCollecting gast>=0.2.1\n  Downloading gast-0.5.3-py3-none-any.whl (19 kB)\nCollecting wrapt>=1.11.0\n  Downloading wrapt-1.13.3-cp39-cp39-manylinux_2_5_x86_64.manylinux1_x86_64.manylinux_2_12_x86_64.manylinux2010_x86_64.whl (81 kB)\n\u001b[K     |████████████████████████████████| 81 kB 15.2 MB/s \n\u001b[?25hCollecting libclang>=9.0.1\n  Downloading libclang-13.0.0-py2.py3-none-manylinux1_x86_64.whl (14.5 MB)\n\u001b[K     |████████████████████████████████| 14.5 MB 43.1 MB/s \n\u001b[?25hCollecting keras-preprocessing>=1.1.1\n  Downloading Keras_Preprocessing-1.1.2-py2.py3-none-any.whl (42 kB)\n\u001b[K     |████████████████████████████████| 42 kB 2.6 MB/s \n\u001b[?25hRequirement already satisfied: setuptools in /root/venv/lib/python3.9/site-packages (from tensorflow) (57.4.0)\nRequirement already satisfied: typing-extensions>=3.6.6 in /shared-libs/python3.9/py/lib/python3.9/site-packages (from tensorflow) (4.1.1)\nRequirement already satisfied: grpcio<2.0,>=1.24.3 in /shared-libs/python3.9/py/lib/python3.9/site-packages (from tensorflow) (1.43.0)\nCollecting h5py>=2.9.0\n  Downloading h5py-3.6.0-cp39-cp39-manylinux_2_12_x86_64.manylinux2010_x86_64.whl (4.5 MB)\n\u001b[K     |████████████████████████████████| 4.5 MB 32.5 MB/s \n\u001b[?25hCollecting opt-einsum>=2.3.2\n  Downloading opt_einsum-3.3.0-py3-none-any.whl (65 kB)\n\u001b[K     |████████████████████████████████| 65 kB 6.5 MB/s \n\u001b[?25hCollecting astunparse>=1.6.0\n  Downloading astunparse-1.6.3-py2.py3-none-any.whl (12 kB)\nRequirement already satisfied: six>=1.12.0 in /shared-libs/python3.9/py-core/lib/python3.9/site-packages (from tensorflow) (1.16.0)\nRequirement already satisfied: protobuf>=3.9.2 in /shared-libs/python3.9/py/lib/python3.9/site-packages (from tensorflow) (3.19.4)\nCollecting google-pasta>=0.1.1\n  Downloading google_pasta-0.2.0-py3-none-any.whl (57 kB)\n\u001b[K     |████████████████████████████████| 57 kB 5.1 MB/s \n\u001b[?25hRequirement already satisfied: numpy>=1.20 in /shared-libs/python3.9/py/lib/python3.9/site-packages (from tensorflow) (1.22.2)\nCollecting tensorflow-io-gcs-filesystem>=0.23.1\n  Downloading tensorflow_io_gcs_filesystem-0.24.0-cp39-cp39-manylinux_2_12_x86_64.manylinux2010_x86_64.whl (2.1 MB)\n\u001b[K     |████████████████████████████████| 2.1 MB 9.7 MB/s \n\u001b[?25hCollecting tf-estimator-nightly==2.8.0.dev2021122109\n  Downloading tf_estimator_nightly-2.8.0.dev2021122109-py2.py3-none-any.whl (462 kB)\n\u001b[K     |████████████████████████████████| 462 kB 14.9 MB/s \n\u001b[?25hRequirement already satisfied: wheel<1.0,>=0.23.0 in /usr/local/lib/python3.9/site-packages (from astunparse>=1.6.0->tensorflow) (0.37.0)\nRequirement already satisfied: google-auth<3,>=1.6.3 in /shared-libs/python3.9/py/lib/python3.9/site-packages (from tensorboard<2.9,>=2.8->tensorflow) (2.6.0)\nCollecting google-auth-oauthlib<0.5,>=0.4.1\n  Downloading google_auth_oauthlib-0.4.6-py2.py3-none-any.whl (18 kB)\nCollecting tensorboard-plugin-wit>=1.6.0\n  Downloading tensorboard_plugin_wit-1.8.1-py3-none-any.whl (781 kB)\n\u001b[K     |████████████████████████████████| 781 kB 26.8 MB/s \n\u001b[?25hCollecting werkzeug>=0.11.15\n  Downloading Werkzeug-2.0.3-py3-none-any.whl (289 kB)\n\u001b[K     |████████████████████████████████| 289 kB 25.6 MB/s \n\u001b[?25hCollecting tensorboard-data-server<0.7.0,>=0.6.0\n  Downloading tensorboard_data_server-0.6.1-py3-none-manylinux2010_x86_64.whl (4.9 MB)\n\u001b[K     |████████████████████████████████| 4.9 MB 4.6 MB/s \n\u001b[?25hCollecting markdown>=2.6.8\n  Downloading Markdown-3.3.6-py3-none-any.whl (97 kB)\n\u001b[K     |████████████████████████████████| 97 kB 9.7 MB/s \n\u001b[?25hRequirement already satisfied: requests<3,>=2.21.0 in /shared-libs/python3.9/py/lib/python3.9/site-packages (from tensorboard<2.9,>=2.8->tensorflow) (2.27.1)\nRequirement already satisfied: cachetools<6.0,>=2.0.0 in /shared-libs/python3.9/py/lib/python3.9/site-packages (from google-auth<3,>=1.6.3->tensorboard<2.9,>=2.8->tensorflow) (5.0.0)\nRequirement already satisfied: pyasn1-modules>=0.2.1 in /shared-libs/python3.9/py/lib/python3.9/site-packages (from google-auth<3,>=1.6.3->tensorboard<2.9,>=2.8->tensorflow) (0.2.8)\nRequirement already satisfied: rsa<5,>=3.1.4 in /shared-libs/python3.9/py/lib/python3.9/site-packages (from google-auth<3,>=1.6.3->tensorboard<2.9,>=2.8->tensorflow) (4.8)\nCollecting requests-oauthlib>=0.7.0\n  Downloading requests_oauthlib-1.3.1-py2.py3-none-any.whl (23 kB)\nRequirement already satisfied: importlib-metadata>=4.4 in /shared-libs/python3.9/py/lib/python3.9/site-packages (from markdown>=2.6.8->tensorboard<2.9,>=2.8->tensorflow) (4.11.0)\nRequirement already satisfied: zipp>=0.5 in /shared-libs/python3.9/py/lib/python3.9/site-packages (from importlib-metadata>=4.4->markdown>=2.6.8->tensorboard<2.9,>=2.8->tensorflow) (3.7.0)\nRequirement already satisfied: pyasn1<0.5.0,>=0.4.6 in /shared-libs/python3.9/py/lib/python3.9/site-packages (from pyasn1-modules>=0.2.1->google-auth<3,>=1.6.3->tensorboard<2.9,>=2.8->tensorflow) (0.4.8)\nRequirement already satisfied: charset-normalizer~=2.0.0 in /shared-libs/python3.9/py-core/lib/python3.9/site-packages (from requests<3,>=2.21.0->tensorboard<2.9,>=2.8->tensorflow) (2.0.12)\nRequirement already satisfied: idna<4,>=2.5 in /shared-libs/python3.9/py-core/lib/python3.9/site-packages (from requests<3,>=2.21.0->tensorboard<2.9,>=2.8->tensorflow) (3.3)\nRequirement already satisfied: urllib3<1.27,>=1.21.1 in /shared-libs/python3.9/py/lib/python3.9/site-packages (from requests<3,>=2.21.0->tensorboard<2.9,>=2.8->tensorflow) (1.26.8)\nRequirement already satisfied: certifi>=2017.4.17 in /shared-libs/python3.9/py/lib/python3.9/site-packages (from requests<3,>=2.21.0->tensorboard<2.9,>=2.8->tensorflow) (2021.10.8)\nCollecting oauthlib>=3.0.0\n  Downloading oauthlib-3.2.0-py3-none-any.whl (151 kB)\n\u001b[K     |████████████████████████████████| 151 kB 54.1 MB/s \n\u001b[?25hBuilding wheels for collected packages: termcolor\n  Building wheel for termcolor (setup.py) ... \u001b[?25ldone\n\u001b[?25h  Created wheel for termcolor: filename=termcolor-1.1.0-py3-none-any.whl size=4847 sha256=095a0fb6d39f51cb477da89017c90f354c12372bb680463eebf9b19e69ddd924\n  Stored in directory: /root/.cache/pip/wheels/b6/0d/90/0d1bbd99855f99cb2f6c2e5ff96f8023fad8ec367695f7d72d\nSuccessfully built termcolor\nInstalling collected packages: oauthlib, requests-oauthlib, werkzeug, tensorboard-plugin-wit, tensorboard-data-server, markdown, google-auth-oauthlib, absl-py, wrapt, tf-estimator-nightly, termcolor, tensorflow-io-gcs-filesystem, tensorboard, opt-einsum, libclang, keras-preprocessing, h5py, google-pasta, gast, flatbuffers, astunparse, tensorflow\nSuccessfully installed absl-py-1.0.0 astunparse-1.6.3 flatbuffers-2.0 gast-0.5.3 google-auth-oauthlib-0.4.6 google-pasta-0.2.0 h5py-3.6.0 keras-preprocessing-1.1.2 libclang-13.0.0 markdown-3.3.6 oauthlib-3.2.0 opt-einsum-3.3.0 requests-oauthlib-1.3.1 tensorboard-2.8.0 tensorboard-data-server-0.6.1 tensorboard-plugin-wit-1.8.1 tensorflow-2.8.0 tensorflow-io-gcs-filesystem-0.24.0 termcolor-1.1.0 tf-estimator-nightly-2.8.0.dev2021122109 werkzeug-2.0.3 wrapt-1.13.3\n\u001b[33mWARNING: You are using pip version 21.2.3; however, version 22.0.3 is available.\nYou should consider upgrading via the '/root/venv/bin/python -m pip install --upgrade pip' command.\u001b[0m\n",
     "output_type": "stream"
    }
   ]
  },
  {
   "cell_type": "code",
   "metadata": {
    "tags": [],
    "deepnote_to_be_reexecuted": false,
    "source_hash": "1f228010",
    "execution_start": 1647387409582,
    "execution_millis": 4288,
    "cell_id": "00006-f00118da-2d2a-4dc1-bacc-691721cf916e",
    "deepnote_cell_type": "code",
    "deepnote_cell_height": 207
   },
   "source": "from keras.models import Sequential\nfrom keras.layers import Dense, Dropout\nfrom keras.callbacks import ModelCheckpoint, EarlyStopping\nimport numpy as np\nimport tensorflow as tf\nfrom random import shuffle\nimport math\nimport matplotlib.pyplot as plt",
   "execution_count": null,
   "outputs": []
  },
  {
   "cell_type": "code",
   "metadata": {
    "tags": [],
    "deepnote_to_be_reexecuted": false,
    "source_hash": "4dbc6588",
    "execution_start": 1647387416888,
    "execution_millis": 151,
    "cell_id": "00007-385e2a0c-9096-4a08-95c8-05b9b95a7d6d",
    "deepnote_cell_type": "code",
    "deepnote_cell_height": 171
   },
   "source": "model = Sequential()\nmodel.add(Dense(128, input_shape=(X_train.shape[1],), activation='relu'))\nmodel.add(Dropout(0.5))\nmodel.add(Dense(16, activation = 'relu'))\nmodel.add(Dense(8, activation = 'relu'))\nmodel.add(Dense(1, activation='linear'))",
   "execution_count": null,
   "outputs": []
  },
  {
   "cell_type": "code",
   "metadata": {
    "tags": [],
    "deepnote_to_be_reexecuted": false,
    "source_hash": "6366e6a7",
    "execution_start": 1647387419183,
    "execution_millis": 7,
    "cell_id": "00008-36b4b1cb-3f7d-464b-bda7-9fa69a6a48ea",
    "deepnote_cell_type": "code",
    "deepnote_cell_height": 81
   },
   "source": "model.compile(loss='mean_squared_error', optimizer='adam')",
   "execution_count": null,
   "outputs": []
  },
  {
   "cell_type": "code",
   "metadata": {
    "tags": [],
    "deepnote_to_be_reexecuted": false,
    "source_hash": "f6af112e",
    "execution_start": 1647387421019,
    "execution_millis": 0,
    "cell_id": "00009-25683831-2362-4252-ac03-c6c8f0531eb9",
    "deepnote_cell_type": "code",
    "deepnote_cell_height": 117
   },
   "source": "cp = ModelCheckpoint('mlpcurr.h5', monitor='val_loss', \nmode = 'min', save_best_only = True)\nes = EarlyStopping(monitor='val_loss', patience=10, mode = 'min')",
   "execution_count": null,
   "outputs": []
  },
  {
   "cell_type": "code",
   "metadata": {
    "tags": [],
    "deepnote_to_be_reexecuted": false,
    "source_hash": "f38318b1",
    "execution_start": 1647387423626,
    "execution_millis": 214,
    "cell_id": "00010-4bf2a290-cdb4-4c3d-8301-782131f684a9",
    "deepnote_cell_type": "code",
    "deepnote_cell_height": 333
   },
   "source": "class SparseSequence(tf.keras.utils.Sequence):\n    def __init__(self, x_vals, y_vals, batch_size):\n        self.x_vals = x_vals\n        self.y_vals = y_vals\n        self.inds = list(range(x_vals.shape[0]))\n        shuffle(self.inds)\n        self.batch_size = batch_size\n    def __getitem__(self, item):\n        from_ind = self.batch_size * item\n        to_ind = self.batch_size * (item + 1)\n        return self.x_vals[self.inds[from_ind:to_ind], :].todense(), np.array(self.y_vals)[self.inds[from_ind:to_ind]]\n    def on_epoch_end(self):\n        shuffle(self.inds)\n    def __len__(self):\n        return math.ceil(self.x_vals.shape[0] / self.batch_size)",
   "execution_count": null,
   "outputs": []
  },
  {
   "cell_type": "code",
   "metadata": {
    "tags": [],
    "deepnote_to_be_reexecuted": false,
    "source_hash": "d3f6683d",
    "execution_start": 1647387426725,
    "execution_millis": 6945,
    "cell_id": "00011-eb133b81-62ad-4b94-b747-17dd083c3a81",
    "deepnote_cell_type": "code",
    "deepnote_cell_height": 684.203125
   },
   "source": "history = model.fit(SparseSequence(X_train.tocsr(), y_train, 32), epochs=1000,\n          validation_data=(SparseSequence(X_val.tocsr(), y_val, 32)), callbacks=[es, cp], \n          verbose = 1)",
   "execution_count": null,
   "outputs": [
    {
     "name": "stdout",
     "text": "Epoch 1/1000\n68/68 [==============================] - 1s 9ms/step - loss: 0.6765 - val_loss: 0.3602\nEpoch 2/1000\n68/68 [==============================] - 0s 7ms/step - loss: 0.4380 - val_loss: 0.3277\nEpoch 3/1000\n68/68 [==============================] - 0s 6ms/step - loss: 0.3626 - val_loss: 0.2759\nEpoch 4/1000\n68/68 [==============================] - 0s 6ms/step - loss: 0.3091 - val_loss: 0.2689\nEpoch 5/1000\n68/68 [==============================] - 0s 6ms/step - loss: 0.2609 - val_loss: 0.2737\nEpoch 6/1000\n68/68 [==============================] - 0s 5ms/step - loss: 0.2355 - val_loss: 0.2965\nEpoch 7/1000\n68/68 [==============================] - 0s 6ms/step - loss: 0.1926 - val_loss: 0.6391\nEpoch 8/1000\n68/68 [==============================] - 0s 6ms/step - loss: 0.1740 - val_loss: 0.7953\nEpoch 9/1000\n68/68 [==============================] - 0s 5ms/step - loss: 0.1731 - val_loss: 1.1639\nEpoch 10/1000\n68/68 [==============================] - 0s 5ms/step - loss: 0.1409 - val_loss: 1.3984\nEpoch 11/1000\n68/68 [==============================] - 0s 6ms/step - loss: 0.1440 - val_loss: 0.4297\nEpoch 12/1000\n68/68 [==============================] - 0s 5ms/step - loss: 0.1110 - val_loss: 1.2185\nEpoch 13/1000\n68/68 [==============================] - 0s 5ms/step - loss: 0.1132 - val_loss: 0.6100\nEpoch 14/1000\n68/68 [==============================] - 0s 5ms/step - loss: 0.1084 - val_loss: 1.0936\n",
     "output_type": "stream"
    }
   ]
  },
  {
   "cell_type": "code",
   "metadata": {
    "tags": [],
    "deepnote_to_be_reexecuted": false,
    "source_hash": "a33cde43",
    "execution_start": 1647387442517,
    "execution_millis": 219,
    "cell_id": "00012-c94377ed-4a35-4049-b41f-b3a518cba4e5",
    "deepnote_cell_type": "code",
    "deepnote_cell_height": 399.1875,
    "deepnote_output_heights": [
     21.1875,
     250
    ]
   },
   "source": "plt.plot(history.history['val_loss'])",
   "execution_count": null,
   "outputs": [
    {
     "output_type": "execute_result",
     "execution_count": 9,
     "data": {
      "text/plain": "[<matplotlib.lines.Line2D at 0x7f97bcf68df0>]"
     },
     "metadata": {}
    },
    {
     "data": {
      "text/plain": "<Figure size 432x288 with 1 Axes>",
      "image/png": "[encoded data removed]"
     },
     "metadata": {
      "needs_background": "light",
      "image/png": {
       "width": 372,
       "height": 248
      }
     },
     "output_type": "display_data"
    }
   ]
  },
  {
   "cell_type": "code",
   "metadata": {
    "tags": [],
    "deepnote_to_be_reexecuted": false,
    "source_hash": "64fc434a",
    "execution_start": 1647387452677,
    "execution_millis": 108,
    "cell_id": "00013-a20de594-5daa-4314-bf25-4fb73b4407af",
    "deepnote_cell_type": "code",
    "deepnote_cell_height": 117
   },
   "source": "from keras.models import load_model\n\nmodel = load_model('mlpcurr.h5')",
   "execution_count": null,
   "outputs": []
  },
  {
   "cell_type": "code",
   "metadata": {
    "tags": [],
    "deepnote_to_be_reexecuted": false,
    "source_hash": "7ecb817b",
    "execution_start": 1647387454911,
    "execution_millis": 170,
    "cell_id": "00014-0c6273a2-e2b1-435b-afa7-ac0a7e108fb6",
    "deepnote_cell_type": "code",
    "deepnote_cell_height": 164.046875
   },
   "source": "model.evaluate(SparseSequence(X_val.tocsr(), y_val, 32))",
   "execution_count": null,
   "outputs": [
    {
     "name": "stdout",
     "text": "15/15 [==============================] - 0s 2ms/step - loss: 0.2689\n",
     "output_type": "stream"
    },
    {
     "output_type": "execute_result",
     "execution_count": 11,
     "data": {
      "text/plain": "0.2688947319984436"
     },
     "metadata": {}
    }
   ]
  },
  {
   "cell_type": "code",
   "metadata": {
    "tags": [],
    "deepnote_to_be_reexecuted": false,
    "source_hash": "c189bca7",
    "execution_start": 1647387462714,
    "execution_millis": 0,
    "cell_id": "00015-ee4ec1d2-fe85-44e6-9765-db32c9595aff",
    "deepnote_cell_type": "code",
    "deepnote_cell_height": 189
   },
   "source": "def calculate_rrmse(model, x_test, y_test, y_train):\n    preds = model.predict(x_test).ravel()\n    y_bar_train = np.mean(y_train)\n    naive_sse = sum((y_bar_train - y_test) ** 2)\n    model_sse = sum((preds - y_test) ** 2)\n    rrmse = 100 * np.sqrt(model_sse / naive_sse)\n    return rrmse",
   "execution_count": null,
   "outputs": []
  },
  {
   "cell_type": "code",
   "metadata": {
    "tags": [],
    "deepnote_to_be_reexecuted": false,
    "source_hash": "91c4e3cd",
    "execution_start": 1647387464509,
    "execution_millis": 3,
    "cell_id": "00016-c03b9fc0-e329-494e-ada9-07f024f74c66",
    "deepnote_cell_type": "code",
    "deepnote_cell_height": 135
   },
   "source": "def convert_sparse_matrix_to_sparse_tensor(X):\n    coo = X.tocoo()\n    indices = np.mat([coo.row, coo.col]).transpose()\n    return tf.sparse.reorder(tf.SparseTensor(indices, coo.data, coo.shape))",
   "execution_count": null,
   "outputs": []
  },
  {
   "cell_type": "code",
   "metadata": {
    "tags": [],
    "deepnote_to_be_reexecuted": false,
    "source_hash": "48687bd",
    "execution_start": 1647387466418,
    "execution_millis": 501,
    "cell_id": "00017-b0b59c98-10f0-4040-97f4-c07924ff44dc",
    "deepnote_cell_type": "code",
    "deepnote_cell_height": 187.59375
   },
   "source": "print(calculate_rrmse(model, convert_sparse_matrix_to_sparse_tensor(X_train.tocsr()), y_train, y_train))\nprint(calculate_rrmse(model, convert_sparse_matrix_to_sparse_tensor(X_val.tocsr()), y_val, y_train))\nprint(calculate_rrmse(model, convert_sparse_matrix_to_sparse_tensor(X_test.tocsr()), y_test, y_train))",
   "execution_count": null,
   "outputs": [
    {
     "name": "stdout",
     "text": "47.09996798496231\n52.51265534661115\n56.32766682050849\n",
     "output_type": "stream"
    }
   ]
  },
  {
   "cell_type": "code",
   "metadata": {
    "tags": [],
    "deepnote_to_be_reexecuted": false,
    "source_hash": "e371d659",
    "execution_start": 1645666565548,
    "execution_millis": 702,
    "cell_id": "00018-b63bf22a-d2e0-494f-b439-aed0a465be8c",
    "deepnote_cell_type": "code",
    "deepnote_cell_height": 329.71875
   },
   "source": "X = X_train\ny = y_train\nidxs = list(range(X.shape[0]))\nshuffle(idxs)\npred = model.predict(SparseSequence(X.tocsr()[idxs[0]:idxs[0]+1], y[idxs[0]:idxs[0]+1], 1))[0][0]\ny_mean = 159.63618651772958\ny_sd = 282.11837343969637\npred = pred * y_sd + y_mean\nactual = y[idxs[0]:idxs[0]+1].values[0]\nactual = actual * y_sd + y_mean\nprint(\"Predicted: \" + str(pred))\nprint(\"Actual: \" + str(actual))",
   "execution_count": null,
   "outputs": [
    {
     "name": "stdout",
     "text": "Predicted: 31.41874443925539\nActual: 32.0\n",
     "output_type": "stream"
    }
   ]
  },
  {
   "cell_type": "markdown",
   "source": "## Feature Importance (based on Permutation Importance)",
   "metadata": {
    "tags": [],
    "is_collapsed": false,
    "cell_id": "00019-a26147c9-8d35-4d39-95e1-2bb94083a8bf",
    "deepnote_cell_type": "text-cell-h2"
   }
  },
  {
   "cell_type": "code",
   "metadata": {
    "tags": [],
    "deepnote_to_be_reexecuted": false,
    "source_hash": "95961e1e",
    "execution_start": 1647130004739,
    "execution_millis": 4371,
    "cell_id": "00020-3cd0db69-31ec-481e-a7d9-02a575c288c5",
    "deepnote_cell_type": "code",
    "deepnote_cell_height": 351
   },
   "source": "from scipy.sparse import csr_matrix\nfrom keras.models import load_model\n\ndef shuffle_feature(idx, x):\n    X_t = csr_matrix.transpose(x.tocsr())\n    row = X_t[idx,].toarray()[0]\n    shuffle(row)\n    row = csr_matrix(row)\n    X_t[idx, ] = row\n    X_t = csr_matrix.transpose(X_t.tocsr())\n    return X_t\n\ndef get_percent(model, x_val, y_val, y_train): #57.21454207110662 or 56.94156047649292\n    curr_val = calculate_rrmse(model, x_val.tocsr(), y_val, y_train)\n    percent = (curr_val - 56.94156047649292) / 56.94156047649292 * 100\n    return percent",
   "execution_count": null,
   "outputs": []
  },
  {
   "cell_type": "code",
   "metadata": {
    "tags": [],
    "deepnote_to_be_reexecuted": false,
    "source_hash": "d7003b95",
    "execution_start": 1646960148067,
    "execution_millis": 7077279,
    "cell_id": "00021-3bcffa22-e2c5-4fda-8e2f-c5d1c6694cb8",
    "deepnote_cell_type": "code",
    "deepnote_cell_height": 863
   },
   "source": "features = np.array(range(X_train.shape[1]))\n# shuffle(features)\npercent_dict = {}\nmodel = load_model('mlp.h5')\nfor i in features:\n    curr = feat_dict[i]\n    x_val = shuffle_feature(i, X_val)\n    percent = get_percent(model, x_val, y_val, y_train)\n    percent_dict[curr] = percent\n    print(f'Percent for {curr}: {percent}')",
   "execution_count": null,
   "outputs": [
    {
     "name": "stderr",
     "text": "Percent for Categorical amenities_str fridgerdaire stainless steel gas stove: 3.4834681155920184\nPercent for Categorical amenities_str fridgidaire refrigerator: 3.4834681155920184\nPercent for Categorical amenities_str fridgidaire stainless steel gas stove: 3.4834681155920184\nPercent for Categorical amenities_str fridgidaire stainless steel oven: 3.4834681155920184\nPercent for Categorical amenities_str fridgidale refrigerator: 3.4834681155920184\nPercent for Categorical amenities_str fridgidare stainless steel gas stove: 3.4834681155920184\nPercent for Categorical amenities_str fridgidare stainless steel oven: 3.4834681155920184\nPercent for Categorical amenities_str friedrich conditioner: 3.4834681155920184\nPercent for Categorical amenities_str friedrick conditioner: 3.4834681155920184\nPercent for Categorical amenities_str frigedare stainless steel oven: 3.4834681155920184\nPercent for Categorical amenities_str frigid aire refrigerator: 3.4834681155920184\nPercent for Categorical amenities_str frigidair stainless steel oven: 3.4834681155920184\nPercent for Categorical amenities_str frigidaire 2 door refrigerator: 3.4834681155920184\nPercent for Categorical amenities_str frigidaire electric stove: 3.485131137684425\nPercent for Categorical amenities_str frigidaire gallery refrigerator: 3.4834681155920184\nPercent for Categorical amenities_str frigidaire gas stove: 3.4834681155920184\nPercent for Categorical amenities_str frigidaire mini frige refrigerator: 3.4834681155920184\nPercent for Categorical amenities_str frigidaire oven: 3.483424357035197\nPercent for Categorical amenities_str frigidaire professional 5 burner stainless steel oven: 3.4834681155920184\nPercent for Categorical amenities_str frigidaire professional stainless steel gas stove: 3.4834681155920184\nPercent for Categorical amenities_str frigidaire refrigerator: 3.5224238222599467\nPercent for Categorical amenities_str frigidaire stainless steel gas stove: 3.483383673504111\nPercent for Categorical amenities_str frigidaire stainless steel oven: 3.4787625536007276\nPercent for Categorical amenities_str frigidaire stainless steel stove: 3.4834681155920184\nPercent for Categorical amenities_str frigidaire stove: 3.4834681155920184\nPercent for Categorical amenities_str frigidale refrigerator: 3.4834681155920184\nPercent for Categorical amenities_str frigidare stainless steel oven: 3.4834681155920184\nPercent for Categorical amenities_str frigidare stainless steel stove: 3.4834681155920184\nPercent for Categorical amenities_str fructis conditioner: 3.4834681155920184\nPercent for Categorical amenities_str fructis mask and more always change conditioner: 3.4834681155920184\nPercent for Categorical amenities_str fructis shampoo: 3.4834681155920184\nPercent for Categorical amenities_str full fridge with freezer refrigerator: 3.4834681155920184\nPercent for Categorical amenities_str full size: 3.4834681155920184\nPercent for Categorical amenities_str full size fridge refrigerator: 3.4834681155920184\nPercent for Categorical amenities_str full size gas stove with oven: 3.4834681155920184\nPercent for Categorical amenities_str full size oven and stove with 4 gas burner oven: 3.4834681155920184\nPercent for Categorical amenities_str full size stainless steel refrigerator refrigerator: 3.4834681155920184\nPercent for Categorical amenities_str full size stove and oven stainless steel oven: 3.4834681155920184\nPercent for Categorical amenities_str g and b body soap body soap: 3.4834681155920184\nPercent for Categorical amenities_str gaggenau stainless steel oven: 3.4834681155920184\nPercent for Categorical amenities_str galanz refrigerator: 3.4834681155920184\nPercent for Categorical amenities_str game console: 3.516070645308035\nPercent for Categorical amenities_str game console nintendo switch: 3.5095049121655286\nPercent for Categorical amenities_str game console nintendo switch and ps4: 3.483010493530508\nPercent for Categorical amenities_str game console nintendo switch and ps5: 3.4834681155920184\nPercent for Categorical amenities_str game console nintendo switch and xbox one: 3.4834681155920184\nPercent for Categorical amenities_str game console nintendo wii: 3.48348036327908\nPercent for Categorical amenities_str game console nintendo wii and ps4: 3.4834681155920184\nPercent for Categorical amenities_str game console ps2: 3.4834681155920184\nPercent for Categorical amenities_str game console ps3: 3.468342455629276\nPercent for Categorical amenities_str game console ps3 and ps4: 3.4835859543939813\nPercent for Categorical amenities_str game console ps3 and xbox 360: 3.4834681155920184\nPercent for Categorical amenities_str game console ps4: 3.451856823642003\nPercent for Categorical amenities_str game console ps4 and ps5: 3.4834681155920184\nPercent for Categorical amenities_str game console ps5: 3.4834681155920184\nPercent for Categorical amenities_str game console xbox 360: 3.4889962383969233\nPercent for Categorical amenities_str game console xbox 360 and xbox one: 3.4834681155920184\nPercent for Categorical amenities_str game console xbox one: 3.4928357957039093\nPercent for Categorical amenities_str game console xbox series x: 3.4834681155920184\nPercent for Categorical amenities_str garnier: 3.4834681155920184\nPercent for Categorical amenities_str garnier care product shampoo: 3.4834681155920184\nPercent for Categorical amenities_str garnier conditioner: 3.476385677461303\nPercent for Categorical amenities_str garnier fructis conditioner: 3.4854162678303795\nPercent for Categorical amenities_str garnier fructis shampoo: 3.4823454477559204\nPercent for Categorical amenities_str garnier frutis conditioner: 3.4834681155920184\nPercent for Categorical amenities_str garnier hair care conditioner: 3.4834681155920184\nPercent for Categorical amenities_str garnier honey milk moisturizing condtioner conditioner: 3.4834681155920184\nPercent for Categorical amenities_str gas oven: 3.4834681155920184\nPercent for Categorical amenities_str gas plus an infrared broiler: 3.4834681155920184\nPercent for Categorical amenities_str gas stainless steel stove: 3.4834681155920184\nPercent for Categorical amenities_str gas stove: 3.4835658527057745\nPercent for Categorical amenities_str gas stove and oven oven: 3.4834681155920184\nPercent for Categorical amenities_str gas stove oven: 3.4834681155920184\nPercent for Categorical amenities_str gas white stove gas stove: 3.4834681155920184\nPercent for Categorical amenities_str gasland chef electric stove: 3.4834681155920184\nPercent for Categorical amenities_str ge: 3.4834681155920184\nPercent for Categorical amenities_str ge cafe refrigerator: 3.4834681155920184\nPercent for Categorical amenities_str ge electric stove: 3.4834681155920184\nPercent for Categorical amenities_str ge full size refrigerator: 3.4834681155920184\nPercent for Categorical amenities_str ge gas stove: 3.483068513256382\nPercent for Categorical amenities_str ge induction stainless steel oven: 3.4834681155920184\nPercent for Categorical amenities_str ge newly replaced in 2020 oven: 3.4834681155920184\nPercent for Categorical amenities_str ge oven: 3.480285643335642\nPercent for Categorical amenities_str ge professional brand refrigerator: 3.4834681155920184\nPercent for Categorical amenities_str ge professional brand stainless steel gas stove: 3.4834681155920184\nPercent for Categorical amenities_str ge profile oven: 3.4834681155920184\nPercent for Categorical amenities_str ge profile refrigerator: 3.4834681155920184\nPercent for Categorical amenities_str ge refrigerator: 3.469161992514074\nPercent for Categorical amenities_str ge stainless steel electric stove: 3.4834681155920184\nPercent for Categorical amenities_str ge stainless steel gas stove: 3.485346303127268\nPercent for Categorical amenities_str ge stainless steel oven: 3.4745497429953547\nPercent for Categorical amenities_str ge stainless steel stove: 3.48584074623867\nPercent for Categorical amenities_str ge stove: 3.5000461391660775\nPercent for Categorical amenities_str gemini bluetooth sound system: 3.4834681155920184\nPercent for Categorical amenities_str general body soap: 3.4834681155920184\nPercent for Categorical amenities_str general conditioner: 3.4834681155920184\nPercent for Categorical amenities_str general electric gas stove: 3.4834681155920184\nPercent for Categorical amenities_str general electric oven: 3.4834681155920184\nPercent for Categorical amenities_str general electric refrigerator: 3.4828761432224984\nPercent for Categorical amenities_str general electric stainless steel electric stove: 3.4834681155920184\nPercent for Categorical amenities_str general electric stainless steel oven: 3.4831236355720283\nPercent for Categorical amenities_str general electric stainless steel stove: 3.4834681155920184\nPercent for Categorical amenities_str general shampoo: 3.4834681155920184\nPercent for Categorical amenities_str generic body soap: 3.484169192097724\nPercent for Categorical amenities_str generic brand body soap: 3.4834681155920184\nPercent for Categorical amenities_str generic conditioner: 3.483444534545025\nPercent for Categorical amenities_str generic shampoo: 3.480768884341543\nPercent for Categorical amenities_str gennar oven: 3.4834681155920184\nPercent for Categorical amenities_str gh body soap: 3.4834681155920184\nPercent for Categorical amenities_str ginger lily farm body soap: 3.4824648635053137\nPercent for Categorical amenities_str ginger lily farm botanical green tea lemongrass body soap: 3.4834681155920184\nPercent for Categorical amenities_str ginger lily farm botanical green tea lemongrass conditioner: 3.4834681155920184\nPercent for Categorical amenities_str ginger lily farm botanical green tea lemongrass shampoo: 3.4834681155920184\nPercent for Categorical amenities_str ginger lily farm botanical nourishing body wash: 3.4834681155920184\nPercent for Categorical amenities_str ginger lily farm botanical nourishing body wash body soap: 3.4834681155920184\nPercent for Categorical amenities_str ginger lily farm conditioner: 3.4834681155920184\nPercent for Categorical amenities_str ginger lily farm shampoo: 3.4834681155920184\nPercent for Categorical amenities_str glass plate electric cooktop: 3.4834681155920184\nPercent for Categorical amenities_str gm refrigerator: 3.4834681155920184\nPercent for Categorical amenities_str golez conditioner: 3.4834681155920184\nPercent for Categorical amenities_str good brand conditioner: 3.4834681155920184\nPercent for Categorical amenities_str google bluetooth sound system: 3.4834681155920184\nPercent for Categorical amenities_str google home bluetooth sound system: 3.4834681155920184\nPercent for Categorical amenities_str google home hub bluetooth sound system: 3.4834681155920184\nPercent for Categorical amenities_str google home plus bluetooth tv speaker bluetooth sound system: 3.4834681155920184\nPercent for Categorical amenities_str google nest home bluetooth sound system: 3.4834681155920184\nPercent for Categorical amenities_str google smart speaker bluetooth sound system: 3.4834681155920184\nPercent for Categorical amenities_str google sound system: 3.4834681155920184\nPercent for Categorical amenities_str grannyu2019s sugar natural product body soap: 3.4834681155920184\nPercent for Categorical amenities_str great digitally wired analog system play some vinyl if you wish sound system with bluetooth and aux: 3.4834681155920184\nPercent for Categorical amenities_str gree conditioner: 3.4834681155920184\nPercent for Categorical amenities_str green bar body soap: 3.4834681155920184\nPercent for Categorical amenities_str green color body soap: 3.4834681155920184\nPercent for Categorical amenities_str green tea lemongrass scent body soap: 3.4834681155920184\nPercent for Categorical amenities_str guest can keep drink in the fridge refrigerator: 3.4834681155920184\nPercent for Categorical amenities_str gym: 4.343486655242366\nPercent for Categorical amenities_str gym in building: 3.478848287445474\nPercent for Categorical amenities_str gym nearby: 3.479294192100503\nPercent for Categorical amenities_str h2o body soap: 3.4834681155920184\nPercent for Categorical amenities_str h2o conditioner: 3.4834681155920184\nPercent for Categorical amenities_str h2o shampoo: 3.4834681155920184\nPercent for Categorical amenities_str haier refrigerator: 3.4851739172566467\nPercent for Categorical amenities_str hair conditioner conditioner: 3.4834681155920184\nPercent for Categorical amenities_str hair dryer: 3.6924359235136732\nPercent for Categorical amenities_str hanger: 3.5329637914322087\nPercent for Categorical amenities_str hard wired bluetooth with synced sound in each room bluetooth sound system: 3.4834681155920184\nPercent for Categorical amenities_str harman kardon bluetooth sound system: 3.482492752417459\nPercent for Categorical amenities_str harmon kardin bluetooth sound system: 3.4834681155920184\nPercent for Categorical amenities_str harmon kardon bluetooth sound system: 3.4834681155920184\nPercent for Categorical amenities_str harryu2019s body soap: 3.4834681155920184\nPercent for Categorical amenities_str harryu2019s fig body soap: 3.4826398100332403\nPercent for Categorical amenities_str hbo max: 3.4380136947651123\nPercent for Categorical amenities_str hdtv: 3.4901942437100493\nPercent for Categorical amenities_str hdtv with: 3.482006518275723\nPercent for Categorical amenities_str hdtv with amazon prime video: 3.4867645933530893\nPercent for Categorical amenities_str hdtv with apple tv: 3.4952089418764847\nPercent for Categorical amenities_str hdtv with chromecast: 3.484513728672376\nPercent for Categorical amenities_str hdtv with hbo max: 3.487241331408078\nPercent for Categorical amenities_str hdtv with netflix: 3.479786633930297\nPercent for Categorical amenities_str hdtv with premium cable: 3.486579081152203\nPercent for Categorical amenities_str hdtv with roku: 3.473148779490102\nPercent for Categorical amenities_str hdtv with standard cable: 3.4834588728624847\nPercent for Categorical amenities_str head and shoulder 2 in 1 conditioner: 3.4834681155920184\nPercent for Categorical amenities_str head and shoulder body soap: 3.4834681155920184\nPercent for Categorical amenities_str head and shoulder conditioner: 3.4834681155920184\nPercent for Categorical amenities_str head and shoulder dandruff shampoo shampoo: 3.4834681155920184\nPercent for Categorical amenities_str head and shoulder shampoo: 3.4834681155920184\nPercent for Categorical amenities_str head n shoulder shampoo: 3.4834681155920184\nPercent for Categorical amenities_str head shoulder conditioner: 3.483410903508889\nPercent for Categorical amenities_str head shoulder shampoo: 3.483921742769451\nPercent for Categorical amenities_str headshoulder conditioner: 3.4834681155920184\nPercent for Categorical amenities_str headshoulder shampoo: 3.4834681155920184\nPercent for Categorical amenities_str heating: 3.4705537918571125\nPercent for Categorical amenities_str herbal essence conditioner: 3.4834681155920184\nPercent for Categorical amenities_str herbal essence shampoo: 3.4834681155920184\nPercent for Categorical amenities_str herbal or similar conditioner: 3.4834681155920184\nPercent for Categorical amenities_str herbal or similar shampoo: 3.4834681155920184\nPercent for Categorical amenities_str hifi sound sound system with bluetooth and aux: 3.4834681155920184\nPercent for Categorical amenities_str high chair: 3.6317164287979113\nPercent for Categorical amenities_str high end shampoo and conditioner conditioner: 3.4834681155920184\nPercent for Categorical amenities_str high end shampoo and conditioner shampoo: 3.4834681155920184\nPercent for Categorical amenities_str high end sound system with smart tv sound system: 3.4834681155920184\nPercent for Categorical amenities_str high quality soap: 3.4834681155920184\nPercent for Categorical amenities_str home made body soap: 3.4834681155920184\nPercent for Categorical amenities_str homepod bluetooth sound system: 3.4834681155920184\nPercent for Categorical amenities_str honest body soap: 3.4834681155920184\nPercent for Categorical amenities_str honest company body soap: 3.4834681155920184\nPercent for Categorical amenities_str hood stove: 3.4834681155920184\nPercent for Categorical amenities_str host greets you: 3.5299443424640113\nPercent for Categorical amenities_str hot plate induction stove: 3.4969636248858507\nPercent for Categorical amenities_str hot point refrigerator: 3.4834681155920184\nPercent for Categorical amenities_str hot tub: 3.5214902445345317\nPercent for Categorical amenities_str hot water: 3.5820130703118807\nPercent for Categorical amenities_str hot water kettle: 3.5483874327987697\nPercent for Categorical amenities_str hotel body soap: 3.4834681155920184\nPercent for Categorical amenities_str hotel brand body soap: 3.4834681155920184\nPercent for Categorical amenities_str hotel brand conditioner: 3.4834681155920184\nPercent for Categorical amenities_str hotel conditioner: 3.4834681155920184\nPercent for Categorical amenities_str hotel drand shampoo: 3.4834681155920184\nPercent for Categorical amenities_str hotel shampoo: 3.4834681155920184\nPercent for Categorical amenities_str hotel size: 3.4834681155920184\nPercent for Categorical amenities_str hotel size and liquid body wash body soap: 3.4834681155920184\nPercent for Categorical amenities_str hotpoint gas stove: 3.4834681155920184\nPercent for Categorical amenities_str hotpoint oven: 3.4834681155920184\nPercent for Categorical amenities_str hotpoint refrigerator: 3.4834681155920184\nPercent for Categorical amenities_str hotpointge refrigerator: 3.4834681155920184\nPercent for Categorical amenities_str humankind body soap: 3.4834681155920184\nPercent for Categorical amenities_str humankind conditioner: 3.4834681155920184\nPercent for Categorical amenities_str humankind shampoo: 3.4834681155920184\nPercent for Categorical amenities_str i store them in box conditioner: 3.4834681155920184\nPercent for Categorical amenities_str igloo refrigerator: 3.4834681155920184\nPercent for Categorical amenities_str ihome bluetooth sound system: 3.4834681155920184\nPercent for Categorical amenities_str ikea: 3.4834681155920184\nPercent for Categorical amenities_str ikea portable stovetop w one element induction stove: 3.4834681155920184\nPercent for Categorical amenities_str ikea under counter small refrigerator: 3.4834681155920184\nPercent for Categorical amenities_str immersive sound: 3.4865027808017377\nPercent for Categorical amenities_str imperfect food body soap: 3.4834681155920184\nPercent for Categorical amenities_str in living room: 3.4834681155920184\nPercent for Categorical amenities_str inc refrigerator: 3.4834681155920184\nPercent for Categorical amenities_str individual packed body soap: 3.4834681155920184\nPercent for Categorical amenities_str individual packed conditioner: 3.4834681155920184\nPercent for Categorical amenities_str indoor fireplace: 3.723099633468399\nPercent for Categorical amenities_str induction cook top stove: 3.4834681155920184\nPercent for Categorical amenities_str induction induction stove: 3.4834681155920184\nPercent for Categorical amenities_str induction stove: 3.505843929383094\nPercent for Categorical amenities_str inside the room and in the living room refrigerator: 3.4834681155920184\nPercent for Categorical amenities_str insignia refrigerator: 3.4834681155920184\nPercent for Categorical amenities_str insignia sound system with bluetooth and aux: 3.4834681155920184\nPercent for Categorical amenities_str insulin: 3.4834681155920184\nPercent for Categorical amenities_str ion blocker sound system with bluetooth and aux: 3.4834681155920184\nPercent for Categorical amenities_str ion bluetooth sound system: 3.4834681155920184\nPercent for Categorical amenities_str irish spring: 3.484417873986012\nPercent for Categorical amenities_str irish spring and dove body soap: 3.4834681155920184\nPercent for Categorical amenities_str irish spring body soap: 3.4825133487646904\nPercent for Categorical amenities_str irish spring conditioner: 3.4834681155920184\nPercent for Categorical amenities_str irish spring or dove body soap: 3.4834681155920184\nPercent for Categorical amenities_str iron: 3.665847743262322\nPercent for Categorical amenities_str island tranquility: 3.4834681155920184\nPercent for Categorical amenities_str it a hot plate stove: 3.4834681155920184\nPercent for Categorical amenities_str italian inspired acca kappa bath amenity body soap: 3.4834681155920184\nPercent for Categorical amenities_str italian inspired acca kappa bath amenity conditioner: 3.4834681155920184\nPercent for Categorical amenities_str italian inspired acca kappa bath amenity shampoo: 3.4834681155920184\nPercent for Categorical amenities_str ivory body soap: 3.4834681155920184\nPercent for Categorical amenities_str ivory liquid body soap body soap: 3.4834681155920184\nPercent for Categorical amenities_str jason all natural body soap: 3.4834681155920184\nPercent for Categorical amenities_str jason body soap: 3.4815622414760403\nPercent for Categorical amenities_str jason conditioner: 3.4834681155920184\nPercent for Categorical amenities_str jason old spice body soap: 3.4834681155920184\nPercent for Categorical amenities_str jbl: 3.4834681155920184\nPercent for Categorical amenities_str jbl bluetooth sound system: 3.485558109143974\nPercent for Categorical amenities_str jbl bluetooth speaker bluetooth sound system: 3.4834681155920184\nPercent for Categorical amenities_str jbl extreme bluetooth sound system: 3.4834681155920184\nPercent for Categorical amenities_str jbl flip bluetooth sound system: 3.4834681155920184\nPercent for Categorical amenities_str jbl sound system: 3.4834681155920184\nPercent for Categorical amenities_str jbl sound system with bluetooth and aux: 3.483451585161576\nPercent for Categorical amenities_str jergens body soap: 3.4834681155920184\nPercent for Categorical amenities_str jergens conditioner: 3.4834681155920184\nPercent for Categorical amenities_str jergens shampoo: 3.4834681155920184\nPercent for Categorical amenities_str john master conditioner: 3.4834681155920184\nPercent for Categorical amenities_str john master shampoo: 3.4834681155920184\nPercent for Categorical amenities_str johnson body soap: 3.4834681155920184\nPercent for Categorical amenities_str johnson conditioner: 3.4834681155920184\nPercent for Categorical amenities_str johnson shampoo: 3.4834681155920184\nPercent for Categorical amenities_str karinear induction stove: 3.4834681155920184\nPercent for Categorical amenities_str kayak: 3.4836869129062498\nPercent for Categorical amenities_str keenmore refrigerator: 3.4834681155920184\nPercent for Categorical amenities_str kef bluetooth sound system: 3.4834681155920184\nPercent for Categorical amenities_str kenmore gas stove: 3.4834681155920184\nPercent for Categorical amenities_str kenmore mini fridge refrigerator: 3.4834681155920184\nPercent for Categorical amenities_str kenmore newly replaced 4 burner and oven regular size gas stove: 3.4834681155920184\nPercent for Categorical amenities_str kenmore oven: 3.4834681155920184\nPercent for Categorical amenities_str kenmore refrigerator: 3.4857390481409958\nPercent for Categorical amenities_str kenmore stainless steel gas stove: 3.4834681155920184\nPercent for Categorical amenities_str kenmore stainless steel oven: 3.4834681155920184\nPercent for Categorical amenities_str kenmore stove: 3.481241728354856\nPercent for Categorical amenities_str kennmore refrigerator: 3.4845117942145225\nPercent for Categorical amenities_str kenwood gas stove: 3.4834681155920184\nPercent for Categorical amenities_str kenwood refrigerator: 3.4834681155920184\nPercent for Categorical amenities_str kenwood stainless steel oven: 3.4834681155920184\nPercent for Categorical amenities_str keurig coffee machine: 3.489703618286502\nPercent for Categorical amenities_str keypad: 3.4822229909108167\nPercent for Categorical amenities_str kiehls amino acid conditioner conditioner: 3.4834681155920184\nPercent for Categorical amenities_str kiehls amino acid shampoo shampoo: 3.4834681155920184\nPercent for Categorical amenities_str kiehls body soap: 3.4919715308521906\nPercent for Categorical amenities_str kiehls conditioner: 3.5495292787073778\nPercent for Categorical amenities_str kiehls shampoo: 3.5262571126203643\nPercent for Categorical amenities_str kielhs conditioner: 3.4834681155920184\nPercent for Categorical amenities_str kiels body soap: 3.4834681155920184\nPercent for Categorical amenities_str kielu2019s conditioner: 3.4834681155920184\nPercent for Categorical amenities_str kielu2019s shampoo: 3.4834681155920184\nPercent for Categorical amenities_str kirkland: 3.4834681155920184\nPercent for Categorical amenities_str kirkland body soap: 3.4836161960947174\nPercent for Categorical amenities_str kitchen: 3.39317827725921\nPercent for Categorical amenities_str kitchen aid refrigerator: 3.4834681155920184\nPercent for Categorical amenities_str kitchen aid stainless steel oven: 3.4834681155920184\nPercent for Categorical amenities_str kitchenaid stainless steel oven: 3.483458865138948\nPercent for Categorical amenities_str kitchenaid stove: 3.4834681155920184\nPercent for Categorical amenities_str kitchenaide refrigerator: 3.4834681155920184\nPercent for Categorical amenities_str kitchenaide stainless steel gas stove: 3.4834681155920184\nPercent for Categorical amenities_str kitchenware oven: 3.4834681155920184\nPercent for Categorical amenities_str klipsch bluetooth sound system: 3.4834681155920184\nPercent for Categorical amenities_str klipsch sound system with bluetooth and aux: 3.4834681155920184\nPercent for Categorical amenities_str klorane conditioner: 3.4834681155920184\nPercent for Categorical amenities_str klorane shampoo: 3.4834681155920184\nPercent for Categorical amenities_str korean body soap: 3.4834681155920184\nPercent for Categorical amenities_str kristin es conditioner: 3.4834681155920184\nPercent for Categorical amenities_str kristin es shampoo: 3.4834681155920184\nPercent for Categorical amenities_str lake access: 3.5108289464818325\nPercent for Categorical amenities_str large tresemmu00e9u00ae pump conditioner for our guest conditioner: 3.4834681155920184\nPercent for Categorical amenities_str large tresemmu00e9u00ae pump shampoo for our guest shampoo: 3.4834681155920184\nPercent for Categorical amenities_str laundromat nearby: 3.6419779011874627\nPercent for Categorical amenities_str lavendar body soap: 3.4834681155920184\nPercent for Categorical amenities_str le labo body soap: 3.4834681155920184\nPercent for Categorical amenities_str le labo conditioner: 3.4834681155920184\nPercent for Categorical amenities_str le labo shampoo: 3.4834681155920184\nPercent for Categorical amenities_str le scent conditioner: 3.4834681155920184\nPercent for Categorical amenities_str le scent shampoo: 3.4834681155920184\nPercent for Categorical amenities_str let me know if you need help using gas appliance i am happy to help stainless steel gas stove: 3.4834681155920184\nPercent for Categorical amenities_str level body soap: 3.4834681155920184\nPercent for Categorical amenities_str lg bluetooth sound system: 3.4834681155920184\nPercent for Categorical amenities_str lg electric stove: 3.4834681155920184\nPercent for Categorical amenities_str lg gas stove: 3.4834681155920184\nPercent for Categorical amenities_str lg oven: 3.4834681155920184\nPercent for Categorical amenities_str lg refrigerator: 3.4843122108776208\nPercent for Categorical amenities_str lg sh3ka1 bluetooth sound system: 3.4834681155920184\nPercent for Categorical amenities_str lg smart tech refrigerator: 3.4834681155920184\nPercent for Categorical amenities_str lg sound system with bluetooth and aux: 3.4834681155920184\nPercent for Categorical amenities_str lg stainless steel gas stove: 3.4834681155920184\nPercent for Categorical amenities_str lg stainless steel induction stove: 3.486009064015417\nPercent for Categorical amenities_str lg stainless steel oven: 3.4784349963432453\nPercent for Categorical amenities_str lg stainless steel refrigerator: 3.4834681155920184\nPercent for Categorical amenities_str lg stainless steel stove: 3.48115942649934\nPercent for Categorical amenities_str lg stove: 3.4834681155920184\nPercent for Categorical amenities_str lg stove stainless steel electric stove: 3.4834681155920184\nPercent for Categorical amenities_str lieber refrigerator: 3.4834681155920184\nPercent for Categorical amenities_str liebherr refrigerator: 3.4843592180884078\nPercent for Categorical amenities_str liquid bath soap various brand body soap: 3.4834681155920184\nPercent for Categorical amenities_str liquid body soap: 3.4834681155920184\nPercent for Categorical amenities_str liquid body soap body soap: 3.483577347543365\nPercent for Categorical amenities_str liquid conditioner: 3.4834681155920184\nPercent for Categorical amenities_str liquid whichever brand body soap: 3.4834681155920184\nPercent for Categorical amenities_str local body soap: 3.4834681155920184\nPercent for Categorical amenities_str local conditioner: 3.4834681155920184\nPercent for Categorical amenities_str local shampoo: 3.4834681155920184\nPercent for Categorical amenities_str lock on bedroom door: 4.410595547903371\nPercent for Categorical amenities_str lockbox: 3.541568648475276\nPercent for Categorical amenities_str logitech z407 bluetooth computer speaker with subwoofer and wireless control: 3.4842788439959307\nPercent for Categorical amenities_str long term stay allowed: 3.522085441283192\nPercent for Categorical amenities_str loreal conditioner: 3.4834681155920184\nPercent for Categorical amenities_str loreal shampoo: 3.4834681155920184\nPercent for Categorical amenities_str lu2019oru00e9al body soap: 3.4834681155920184\nPercent for Categorical amenities_str lu2019oru00e9al conditioner: 3.4834681155920184\nPercent for Categorical amenities_str lu2019oru00e9al shampoo: 3.4834681155920184\nPercent for Categorical amenities_str luggage dropoff allowed: 3.504581648451297\nPercent for Categorical amenities_str lumin shampoo: 3.4834681155920184\nPercent for Categorical amenities_str luxury body soap: 3.4834681155920184\nPercent for Categorical amenities_str luxury conditioner: 3.4834681155920184\nPercent for Categorical amenities_str luxury refrigerator: 3.4834681155920184\nPercent for Categorical amenities_str luxury shampoo: 3.4834681155920184\nPercent for Categorical amenities_str lv refrigerator: 3.4834681155920184\nPercent for Categorical amenities_str lv stove: 3.4834681155920184\nPercent for Categorical amenities_str magic chef refrigerator: 3.4834681155920184\nPercent for Categorical amenities_str magic chef stainless steel gas stove: 3.4834681155920184\nPercent for Categorical amenities_str malin and goetz body soap: 3.4834681155920184\nPercent for Categorical amenities_str malin and goetz conditioner: 3.4834681155920184\nPercent for Categorical amenities_str malin goetz body soap: 3.4834681155920184\nPercent for Categorical amenities_str malin goetz conditioner: 3.4834681155920184\nPercent for Categorical amenities_str malin goetz shampoo: 3.4834681155920184\nPercent for Categorical amenities_str mane and tail conditioner: 3.4834681155920184\nPercent for Categorical amenities_str mani for curl: 3.4834681155920184\nPercent for Categorical amenities_str marantz bluetooth sound system: 3.4834681155920184\nPercent for Categorical amenities_str marantz sound system with aux: 3.4834681155920184\nPercent for Categorical amenities_str marianna body soap: 3.4834681155920184\nPercent for Categorical amenities_str marshall bluetooth sound system: 3.4797699927868484\nPercent for Categorical amenities_str marshall sound system with bluetooth and aux: 3.493478441290095\nPercent for Categorical amenities_str may vary body soap: 3.4834681155920184\nPercent for Categorical amenities_str maytag refrigerator: 3.483982446705321\nPercent for Categorical amenities_str maytag stainless steel oven: 3.4834681155920184\nPercent for Categorical amenities_str maytag stainless steel stove: 3.4834681155920184\nPercent for Categorical amenities_str maytag stove: 3.4834681155920184\nPercent for Categorical amenities_str melaleuca conditioner: 3.4834681155920184\nPercent for Categorical amenities_str melaleuca shampoo: 3.4834681155920184\nPercent for Categorical amenities_str method body soap: 3.4834681155920184\nPercent for Categorical amenities_str method body wash body soap: 3.4834681155920184\nPercent for Categorical amenities_str meyers body soap: 3.4822185469666436\nPercent for Categorical amenities_str microwave: 3.504190974253634\nPercent for Categorical amenities_str miele induction stainless steel induction stove: 3.4834681155920184\nPercent for Categorical amenities_str miele oven: 3.4936515178895644\nPercent for Categorical amenities_str miele owen and microwave stainless steel oven: 3.4834681155920184\nPercent for Categorical amenities_str miele refrigerator: 3.511173439712124\nPercent for Categorical amenities_str miele stainless steel gas stove: 3.4834681155920184\nPercent for Categorical amenities_str miele stainless steel oven: 3.4834681155920184\nPercent for Categorical amenities_str miele stainless steel stove: 3.4834681155920184\nPercent for Categorical amenities_str mini fridge: 3.521100995968793\nPercent for Categorical amenities_str mini fridge in front room refrigerator: 3.4834681155920184\nPercent for Categorical amenities_str mini fridge refrigerator: 3.4834681155920184\nPercent for Categorical amenities_str mini refrigerator: 3.4834681155920184\nPercent for Categorical amenities_str mini refrigerator refrigerator: 3.4834681155920184\nPercent for Categorical amenities_str mini soap bar body soap: 3.4834681155920184\nPercent for Categorical amenities_str minifridge refrigerator: 3.4834681155920184\nPercent for Categorical amenities_str minnie fridge in the room refrigerator: 3.4834681155920184\nPercent for Categorical amenities_str miscellaneous brand body soap: 3.4834681155920184\nPercent for Categorical amenities_str miscellaneous brand conditioner: 3.4834681155920184\nPercent for Categorical amenities_str mixed conditioner: 3.4834681155920184\nPercent for Categorical amenities_str mixed shampoo: 3.4834681155920184\nPercent for Categorical amenities_str molton brown body soap: 3.4834681155920184\nPercent for Categorical amenities_str molton brown conditioner: 3.4834681155920184\nPercent for Categorical amenities_str molton brown shampoo: 3.4834681155920184\nPercent for Categorical amenities_str monitor: 3.4730251165881345\nPercent for Categorical amenities_str moroccan treatment conditioner: 3.4834681155920184\nPercent for Categorical amenities_str mosquito net: 3.4911177395590345\nPercent for Categorical amenities_str mountain escape body soap: 3.4834681155920184\nPercent for Categorical amenities_str mountain escape conditioner: 3.4834681155920184\nPercent for Categorical amenities_str mountain escape shampoo: 3.4834681155920184\nPercent for Categorical amenities_str mr meyers body soap: 3.4834681155920184\nPercent for Categorical amenities_str multiple body soap: 3.4834681155920184\nPercent for Categorical amenities_str multiple brand body soap: 3.4834681155920184\nPercent for Categorical amenities_str multiple brand conditioner: 3.4834681155920184\nPercent for Categorical amenities_str multiple brand shampoo: 3.4834681155920184\nPercent for Categorical amenities_str multiple conditioner: 3.4834681155920184\nPercent for Categorical amenities_str multiple hotelsize trial of highend brand body soap: 3.4834681155920184\nPercent for Categorical amenities_str multiple hotelsize trial of highend brand conditioner: 3.4834681155920184\nPercent for Categorical amenities_str multiple sonos downstairs: 3.4834681155920184\nPercent for Categorical amenities_str multiple type body soap: 3.4834681155920184\nPercent for Categorical amenities_str multiple type conditioner: 3.4834681155920184\nPercent for Categorical amenities_str na conditioner: 3.4834681155920184\nPercent for Categorical amenities_str na refrigerator: 3.4860295290704126\nPercent for Categorical amenities_str na shampoo: 3.4834681155920184\nPercent for Categorical amenities_str na stainless steel electric stove: 3.4834681155920184\nPercent for Categorical amenities_str na stainless steel oven: 3.4834681155920184\nPercent for Categorical amenities_str nad sound system with bluetooth and aux: 3.4834681155920184\nPercent for Categorical amenities_str name brand body soap: 3.4834681155920184\nPercent for Categorical amenities_str name brand or hotel product conditioner: 3.4834681155920184\nPercent for Categorical amenities_str native body soap: 3.4834681155920184\nPercent for Categorical amenities_str native sabon body soap: 3.4834681155920184\nPercent for Categorical amenities_str natural: 3.4827866393130957\nPercent for Categorical amenities_str natural body soap: 3.4834681155920184\nPercent for Categorical amenities_str natural brand shampoo: 3.4842159271971025\nPercent for Categorical amenities_str natural conditioner: 3.4834681155920184\nPercent for Categorical amenities_str natural liquid body wash body soap: 3.4834681155920184\nPercent for Categorical amenities_str natural product body soap: 3.4834681155920184\nPercent for Categorical amenities_str natural shampoo: 3.4834681155920184\nPercent for Categorical amenities_str natural soap body soap: 3.4834681155920184\nPercent for Categorical amenities_str nespresso machine: 3.4510088534956567\nPercent for Categorical amenities_str netflix: 3.581740801472049\nPercent for Categorical amenities_str neutrogena: 3.4834681155920184\nPercent for Categorical amenities_str neutrogena body soap: 3.4797983920834605\nPercent for Categorical amenities_str neutrogena rain bath best scent ever body soap: 3.4834681155920184\nPercent for Categorical amenities_str neutrogena rainbath shower gel body soap: 3.4834681155920184\nPercent for Categorical amenities_str new refrigerator: 3.4834681155920184\nPercent for Categorical amenities_str new stainless steel oven: 3.4834681155920184\nPercent for Categorical amenities_str new york biology conditioner: 3.4834681155920184\nPercent for Categorical amenities_str new york biology shampoo: 3.4834681155920184\nPercent for Categorical amenities_str nexxus conditioner: 3.4834681155920184\nPercent for Categorical amenities_str nexxus shampoo: 3.4834681155920184\nPercent for Categorical amenities_str ninja 9 in 1 non conventional stainless steel oven: 3.4834681155920184\nPercent for Categorical amenities_str ninja foodi: 3.4834681155920184\nPercent for Categorical amenities_str nivea body soap: 3.4834681155920184\nPercent for Categorical amenities_str no body soap: 3.4834681155920184\nPercent for Categorical amenities_str no conditioner: 3.4834681155920184\nPercent for Categorical amenities_str no name oven: 3.4834681155920184\nPercent for Categorical amenities_str no name refrigerator: 3.4834681155920184\nPercent for Categorical amenities_str no refrigerator: 3.4834681155920184\nPercent for Categorical amenities_str no shampoo: 3.4834681155920184\nPercent for Categorical amenities_str no stainless steel oven: 3.4834681155920184\nPercent for Categorical amenities_str non brand gas stove: 3.4834681155920184\nPercent for Categorical amenities_str non brand refrigerator: 3.4834681155920184\nPercent for Categorical amenities_str none specific body soap: 3.4834681155920184\nPercent for Categorical amenities_str none specific conditioner: 3.4834681155920184\nPercent for Categorical amenities_str none specific shampoo: 3.4834681155920184\nPercent for Categorical amenities_str nontoxic body soap: 3.48412978710185\nPercent for Categorical amenities_str nontoxic shampoo: 3.484638863304511\nPercent for Categorical amenities_str not bedroom sound system with aux: 3.4834681155920184\nPercent for Categorical amenities_str not specific body soap: 3.4834681155920184\nPercent for Categorical amenities_str not specific conditioner: 3.4834681155920184\nPercent for Categorical amenities_str not specific shampoo: 3.4834681155920184\nPercent for Categorical amenities_str not sure oven: 3.4834681155920184\nPercent for Categorical amenities_str nourish spa line body soap: 3.4834681155920184\nPercent for Categorical amenities_str nourish spa line shampoo: 3.4834681155920184\nPercent for Categorical amenities_str nubian heritage black soap body soap: 3.4834681155920184\nPercent for Categorical amenities_str nutragena body soap: 3.4834681155920184\nPercent for Categorical amenities_str office chair: 3.4780318670540753\nPercent for Categorical amenities_str ogx conditioner: 3.4840874795450776\nPercent for Categorical amenities_str ogx moroccan argan oil conditioner conditioner: 3.483626062324028\nPercent for Categorical amenities_str ogx moroccan argan oil shampoo shampoo: 3.4826597116726274\nPercent for Categorical amenities_str ogx shampoo: 3.4837407246523697\nPercent for Categorical amenities_str olaplex no 3 shampoo: 3.4834681155920184\nPercent for Categorical amenities_str olay and nivea body soap: 3.4834681155920184\nPercent for Categorical amenities_str olay body soap: 3.4834681155920184\nPercent for Categorical amenities_str olay or similar body soap: 3.4834681155920184\nPercent for Categorical amenities_str old spice body soap: 3.4834681155920184\nPercent for Categorical amenities_str old spice man: 3.4834681155920184\nPercent for Categorical amenities_str on non oven: 3.4834681155920184\nPercent for Categorical amenities_str on non refrigerator: 3.4834681155920184\nPercent for Categorical amenities_str on non stove: 3.4834681155920184\nPercent for Categorical amenities_str onkyo sound system: 3.4834681155920184\nPercent for Categorical amenities_str onkyo sound system with aux: 3.514310233520484\nPercent for Categorical amenities_str onkyo sound system with bluetooth and aux: 3.4834003999226857\nPercent for Categorical amenities_str only provide bath and body hand sosp body soap: 3.4834681155920184\nPercent for Categorical amenities_str open shampoo: 3.4834681155920184\nPercent for Categorical amenities_str or smaller bottle refrigerator: 3.4834681155920184\nPercent for Categorical amenities_str organic bar soap body soap: 3.4834681155920184\nPercent for Categorical amenities_str organic body soap: 3.4834681155920184\nPercent for Categorical amenities_str organic conditioner: 3.484086033557441\nPercent for Categorical amenities_str organic essential shampoo: 3.4834681155920184\nPercent for Categorical amenities_str organic raw body soap: 3.4834681155920184\nPercent for Categorical amenities_str organic shampoo: 3.4842608921965565\nPercent for Categorical amenities_str organic tea tree tingle body wash body soap: 3.4834681155920184\nPercent for Categorical amenities_str organo body soap: 3.4834681155920184\nPercent for Categorical amenities_str oribee shampoo: 3.4834681155920184\nPercent for Categorical amenities_str outdoor dining area: 3.4104713992613367\nPercent for Categorical amenities_str outdoor furniture: 3.7552758391952428\nPercent for Categorical amenities_str outdoor shower: 3.4853326596241065\nPercent for Categorical amenities_str outlet cover: 3.4084627063811928\nPercent for Categorical amenities_str oven: 3.655541810107103\nPercent for Categorical amenities_str oyster stainless steel oven: 3.4834681155920184\nPercent for Categorical amenities_str pack u2019n playtravel crib: 3.4563554797495377\nPercent for Categorical amenities_str paid dryer: 3.498246228449691\nPercent for Categorical amenities_str paid dryer u2013 in building: 3.5447457560762703\nPercent for Categorical amenities_str paid dryer u2013 in unit: 3.48413985338855\nPercent for Categorical amenities_str paid parking garage off premise: 3.581126636318138\nPercent for Categorical amenities_str paid parking garage on premise: 3.4399452585244106\nPercent for Categorical amenities_str paid parking garage on premise u2013 1 space: 3.4884935046933205\nPercent for Categorical amenities_str paid parking garage on premise u2013 2 space: 3.4834681155920184\nPercent for Categorical amenities_str paid parking garage on premise u2013 4 space: 3.4834681155920184\nPercent for Categorical amenities_str paid parking lot off premise: 3.4817238115496787\nPercent for Categorical amenities_str paid parking lot on premise: 3.4836800494031595\nPercent for Categorical amenities_str paid parking lot on premise u2013 1 space: 3.4817524489096945\nPercent for Categorical amenities_str paid parking lot on premise u2013 2 space: 3.4834681155920184\nPercent for Categorical amenities_str paid parking off premise: 3.5700746316240215\nPercent for Categorical amenities_str paid parking on premise: 3.6071277126970913\nPercent for Categorical amenities_str paid parking on premise u2013 1 space: 3.4865304083197537\nPercent for Categorical amenities_str paid parking on premise u2013 2 space: 3.4834681155920184\nPercent for Categorical amenities_str paid street parking off premise: 3.4850918789912733\nPercent for Categorical amenities_str paid valet parking on premise: 3.4764345091870834\nPercent for Categorical amenities_str paid valet parking on premise u2013 1 space: 3.4834681155920184\nPercent for Categorical amenities_str paid washer: 3.4945564818875936\nPercent for Categorical amenities_str paid washer u2013 in building: 3.493630064570664\nPercent for Categorical amenities_str paid washer u2013 in unit: 3.4893872843812783\nPercent for Categorical amenities_str panasonic sound system with bluetooth and aux: 3.4834681155920184\nPercent for Categorical amenities_str pantene and head shoulder shampoo: 3.4834681155920184\nPercent for Categorical amenities_str pantene body soap: 3.4834681155920184\nPercent for Categorical amenities_str pantene conditioner: 3.4840979972741195\nPercent for Categorical amenities_str pantene etc conditioner: 3.4834681155920184\nPercent for Categorical amenities_str pantene or dove shampoo: 3.4834681155920184\nPercent for Categorical amenities_str pantene pro v conditioner: 3.4834681155920184\nPercent for Categorical amenities_str pantene prov body soap: 3.4834681155920184\nPercent for Categorical amenities_str pantene prov conditioner: 3.4834681155920184\nPercent for Categorical amenities_str pantene prov shampoo: 3.4834681155920184\nPercent for Categorical amenities_str pantene provblends micellar conditioner conditioner: 3.4834681155920184\nPercent for Categorical amenities_str pantene shampoo: 3.48490691148142\nPercent for Categorical amenities_str pantine prov conditioner: 3.4834681155920184\nPercent for Categorical amenities_str pantinne conditioner: 3.4834681155920184\nPercent for Categorical amenities_str pantinne shampoo: 3.484399272543945\nPercent for Categorical amenities_str paradise body care coconut shampooconditioner conditioner: 3.4834681155920184\nPercent for Categorical amenities_str paradise body care coconut shampooconditioner shampoo: 3.4834681155920184\nPercent for Categorical amenities_str paradise body care face body bar body soap: 3.4834681155920184\nPercent for Categorical amenities_str patio or balcony: 3.6688439819378327\nPercent for Categorical amenities_str paul mitchell conditioner: 3.4834681155920184\nPercent for Categorical amenities_str paul mitchell shampoo: 3.4834681155920184\nPercent for Categorical amenities_str pear body soap: 3.4834681155920184\nPercent for Categorical amenities_str philip refrigerator: 3.4834681155920184\nPercent for Categorical amenities_str piano: 3.5250753443165395\nPercent for Categorical amenities_str pilot stainless steel gas stove: 3.4834681155920184\nPercent for Categorical amenities_str pilot stainless steel oven: 3.4834681155920184\nPercent for Categorical amenities_str ping pong table: 3.4974290025781785\nPercent for Categorical amenities_str pioneer sound system with bluetooth and aux: 3.4834681155920184\nPercent for Categorical amenities_str pioneersonyklipch sound system with bluetooth and aux: 3.4834681155920184\nPercent for Categorical amenities_str please contact me for more detail shampoo: 3.4834681155920184\nPercent for Categorical amenities_str please donu2019t you plastic in oven oven: 3.4834681155920184\nPercent for Categorical amenities_str pocket wifi: 3.4925249950707045\nPercent for Categorical amenities_str pool: 3.62612329771168\nPercent for Categorical amenities_str pool table: 3.469463414369424\nPercent for Categorical amenities_str popular brand conditioner: 3.4834681155920184\nPercent for Categorical amenities_str popular brand shampoo: 3.4834681155920184\nPercent for Categorical amenities_str portable air conditioning: 3.4957444072873356\nPercent for Categorical amenities_str portable countertop burner: 3.4834681155920184\nPercent for Categorical amenities_str portable fan: 3.5288100434202394\nPercent for Categorical amenities_str portable heater: 3.528268902080308\nPercent for Categorical amenities_str portable oven: 3.4834681155920184\nPercent for Categorical amenities_str portable speaker connection via bluetooth bluetooth sound system: 3.4834681155920184\nPercent for Categorical amenities_str potable stainless steel oven: 3.4834681155920184\nPercent for Categorical amenities_str pourover coffee: 3.4645097828449845\nPercent for Categorical amenities_str premium audio with multiple input: 3.4835947819179376\nPercent for Categorical amenities_str premium cable: 3.49006439490267\nPercent for Categorical amenities_str premium conditioner: 3.4834681155920184\nPercent for Categorical amenities_str private entrance: 3.480873734528119\nPercent for Categorical amenities_str private fenced garden or backyard: 3.5092945016956056\nPercent for Categorical amenities_str private garden or backyard: 3.475055541078812\nPercent for Categorical amenities_str private gym: 3.4786883853570045\nPercent for Categorical amenities_str private gym in building: 3.482742145517949\nPercent for Categorical amenities_str private gym nearby: 3.4836670190079966\nPercent for Categorical amenities_str private hot tub: 3.477760427506243\nPercent for Categorical amenities_str private outdoor pool: 3.4834681155920184\nPercent for Categorical amenities_str private patio or balcony: 3.64663571620949\nPercent for Categorical amenities_str private pool: 3.433586474937731\nPercent for Categorical amenities_str private rooftop pool: 3.4834681155920184\nPercent for Categorical amenities_str private sauna: 3.500444667328885\nPercent for Categorical amenities_str public good body soap: 3.4929710890954757\nPercent for Categorical amenities_str public good conditioner: 3.4860044213753163\nPercent for Categorical amenities_str public good shampoo: 3.4933255261440603\nPercent for Categorical amenities_str puracy body soap: 3.4834681155920184\nPercent for Categorical amenities_str puracy conditioner: 3.4834681155920184\nPercent for Categorical amenities_str puracy natural plant based body soap: 3.4834681155920184\nPercent for Categorical amenities_str puracy natural plant based conditioner: 3.4834681155920184\nPercent for Categorical amenities_str puracy or jr watkins body soap: 3.4834681155920184\nPercent for Categorical amenities_str puracy or jr watkins conditioner: 3.4834681155920184\nPercent for Categorical amenities_str puracy plant based and natural body soap: 3.4834681155920184\nPercent for Categorical amenities_str puracy plant based and natural conditioner: 3.4834681155920184\nPercent for Categorical amenities_str puracy plant based and naturaljr watkins body soap: 3.4834681155920184\nPercent for Categorical amenities_str puracy plant based body soap: 3.4834681155920184\nPercent for Categorical amenities_str puracy plant based conditioner: 3.4834681155920184\nPercent for Categorical amenities_str puracy plant based shampoo: 3.4834681155920184\nPercent for Categorical amenities_str puracy shampoo: 3.4834681155920184\nPercent for Categorical amenities_str pure castile soap eucalyptus body soap: 3.4834681155920184\nPercent for Categorical amenities_str pure castille gentle soap for bath: 3.4834681155920184\nPercent for Categorical amenities_str pure zero conditioner: 3.4834681155920184\nPercent for Categorical amenities_str pure zero shampoo: 3.4834681155920184\nPercent for Categorical amenities_str pureology and some organic brand conditioner: 3.4834681155920184\nPercent for Categorical amenities_str pyle sound system with bluetooth and aux: 3.4834681155920184\nPercent for Categorical amenities_str radiant heating: 3.4555549970189587\nPercent for Categorical amenities_str radio sound system: 3.4834681155920184\nPercent for Categorical amenities_str rco conditioner: 3.4834681155920184\nPercent for Categorical amenities_str rco shampoo: 3.4834681155920184\nPercent for Categorical amenities_str recommended you bring your own: 3.4834681155920184\nPercent for Categorical amenities_str record player: 3.490162738010495\nPercent for Categorical amenities_str refrigerator: 3.517924749609924\nPercent for Categorical amenities_str regular body soap: 3.4925818124449983\nPercent for Categorical amenities_str regular body soap body soap: 3.4834681155920184\nPercent for Categorical amenities_str regular conditioner: 3.4834681155920184\nPercent for Categorical amenities_str regular oven oven: 3.4834681155920184\nPercent for Categorical amenities_str regular refrigerator: 3.4834681155920184\nPercent for Categorical amenities_str regular shampoo: 3.4834681155920184\nPercent for Categorical amenities_str regular shampoo shampoo: 3.4834681155920184\nPercent for Categorical amenities_str rejuvenate shampoo: 3.4834681155920184\nPercent for Categorical amenities_str ren family sulfate free body wash personal bar soap is provided body soap: 3.4834681155920184\nPercent for Categorical amenities_str renpure original coconut cream nourishing conditioner conditioner: 3.4834681155920184\nPercent for Categorical amenities_str renpure original coconut cream nourishing shampoo shampoo: 3.4834681155920184\nPercent for Categorical amenities_str retrostyle refrigerator: 3.4834681155920184\nPercent for Categorical amenities_str rice maker: 3.555545374636656\nPercent for Categorical amenities_str rinse conditioner: 3.4834681155920184\nPercent for Categorical amenities_str rite aid body soap: 3.4834681155920184\nPercent for Categorical amenities_str ritual body soap: 3.4834681155920184\nPercent for Categorical amenities_str ritual shampoo: 3.4834681155920184\nPercent for Categorical amenities_str roku: 3.5176535965035782\nPercent for Categorical amenities_str roku bluetooth sound system: 3.4834681155920184\nPercent for Categorical amenities_str roku tv bluetooth sound system: 3.4834681155920184\nPercent for Categorical amenities_str roomdarkening shade: 3.751346605877706\nPercent for Categorical amenities_str sachajuan conditioner: 3.4834681155920184\nPercent for Categorical amenities_str safe: 3.469572583221016\nPercent for Categorical amenities_str salerm conditioner: 3.4834681155920184\nPercent for Categorical amenities_str salerm shampoo: 3.4834681155920184\nPercent for Categorical amenities_str sam sang refrigerator: 3.4834681155920184\nPercent for Categorical amenities_str sam sang stainless steel gas stove: 3.4834681155920184\nPercent for Categorical amenities_str samsung bluetooth sound system: 3.483984865829489\nPercent for Categorical amenities_str samsung gas stove: 3.4832026762372763\nPercent for Categorical amenities_str samsung oven: 3.4843163747269457\nPercent for Categorical amenities_str samsung refrigerator: 3.478246325300348\nPercent for Categorical amenities_str samsung smart tv sound system with aux: 3.4834681155920184\nPercent for Categorical amenities_str samsung sound bar bluetooth sound system: 3.4829307647444234\nPercent for Categorical amenities_str samsung sound bar subwoofer sound system with bluetooth and aux: 3.4834681155920184\nPercent for Categorical amenities_str samsung sound system: 3.4834681155920184\nPercent for Categorical amenities_str samsung soundbar bluetooth sound system: 3.4834681155920184\nPercent for Categorical amenities_str samsung soundbar sound system with bluetooth and aux: 3.485392903459772\nPercent for Categorical amenities_str samsung stainless steel gas stove: 3.4834681155920184\nPercent for Categorical amenities_str samsung stainless steel oven: 3.4836672197703455\nPercent for Categorical amenities_str sangean amfm radio: 3.4834681155920184\nPercent for Categorical amenities_str sanmsung refrigerator: 3.4834681155920184\nPercent for Categorical amenities_str sauna: 3.4831119584651247\nPercent for Categorical amenities_str sauve body soap: 3.4834681155920184\nPercent for Categorical amenities_str sauve conditioner: 3.4834681155920184\nPercent for Categorical amenities_str sauve shampoo: 3.4834681155920184\nPercent for Categorical amenities_str savon body soap: 3.4834681155920184\nPercent for Categorical amenities_str security camera on property: 3.5629214210512403\nPercent for Categorical amenities_str shampoo: 3.980481875122076\nPercent for Categorical amenities_str shampoo and conditioner body soap: 3.4834681155920184\nPercent for Categorical amenities_str shampoo and conditioner conditioner: 3.4834681155920184\nPercent for Categorical amenities_str shampoo are provided inside the bathroom: 3.4834681155920184\nPercent for Categorical amenities_str shampoo conditioner combo conditioner: 3.4834681155920184\nPercent for Categorical amenities_str shampoo shampoo: 3.4834771467415178\nPercent for Categorical amenities_str shampoocomditioner combo conditioner: 3.4834681155920184\nPercent for Categorical amenities_str shampooconditioner combo conditioner: 3.483208391137656\nPercent for Categorical amenities_str shampooconditioner combo shampoo: 3.485378701675977\nPercent for Categorical amenities_str share any of my bath product conditioner: 3.4834681155920184\nPercent for Categorical amenities_str shared fenced garden or backyard: 3.5278366750289774\nPercent for Categorical amenities_str shared garden or backyard: 3.4808346751017925\nPercent for Categorical amenities_str shared gym: 3.4834681155920184\nPercent for Categorical amenities_str shared gym in building: 3.470842763026653\nPercent for Categorical amenities_str shared gym nearby: 3.483994065653373\nPercent for Categorical amenities_str shared hot tub: 3.448501124142266\nPercent for Categorical amenities_str shared indoor heated lap pool: 3.4834681155920184\nPercent for Categorical amenities_str shared indoor heated pool: 3.4834681155920184\nPercent for Categorical amenities_str shared indoor lap pool: 3.4834681155920184\nPercent for Categorical amenities_str shared indoor pool: 3.4834681155920184\nPercent for Categorical amenities_str shared outdoor heated pool: 3.4834681155920184\nPercent for Categorical amenities_str shared outdoor olympicsized pool: 3.4834681155920184\nPercent for Categorical amenities_str shared outdoor pool: 3.482556353126639\nPercent for Categorical amenities_str shared patio or balcony: 3.474367286431876\nPercent for Categorical amenities_str shared pool: 3.4913084743567975\nPercent for Categorical amenities_str shared refrigerator refrigerator: 3.4834681155920184\nPercent for Categorical amenities_str shared sauna: 3.490925647391485\nPercent for Categorical amenities_str sharp refrigerator: 3.4834681155920184\nPercent for Categorical amenities_str sharp stainless steel oven: 3.4834681155920184\nPercent for Categorical amenities_str sharp stainless steel stove: 3.4834681155920184\nPercent for Categorical amenities_str shea cocoa butter body soap: 3.4834681155920184\nPercent for Categorical amenities_str shea moisture conditioner: 3.483489710889398\nPercent for Categorical amenities_str shea moisture shampoo: 3.4834681155920184\nPercent for Categorical amenities_str shikai conditioner: 3.4834681155920184\nPercent for Categorical amenities_str shikai natural plant based shampoo: 3.4834681155920184\nPercent for Categorical amenities_str shikai shampoo: 3.4834681155920184\nPercent for Categorical amenities_str shower gel: 3.5308256897398778\nPercent for Categorical amenities_str shower gel body soap: 3.4834681155920184\nPercent for Categorical amenities_str shower gel shampoo: 3.4834681155920184\nPercent for Categorical amenities_str side by side refrigerator: 3.4834681155920184\nPercent for Categorical amenities_str silkience body soap: 3.4834681155920184\nPercent for Categorical amenities_str silver: 3.4834681155920184\nPercent for Categorical amenities_str single level home: 3.3120412351387407\nPercent for Categorical amenities_str single pot electric burner for light cooking: 3.4834681155920184\nPercent for Categorical amenities_str skiinskiout: 3.4834681155920184\nPercent for Categorical amenities_str small bluetooth radio bluetooth sound system: 3.4834681155920184\nPercent for Categorical amenities_str small bose speaker sound system with bluetooth and aux: 3.4834681155920184\nPercent for Categorical amenities_str small electrical oven oven: 3.4834681155920184\nPercent for Categorical amenities_str small refrigerator: 3.4834681155920184\nPercent for Categorical amenities_str small sample to get you started conditioner: 3.4834681155920184\nPercent for Categorical amenities_str small sample to get your started body soap: 3.4834681155920184\nPercent for Categorical amenities_str small sample to get your started shampoo: 3.4834681155920184\nPercent for Categorical amenities_str small travel size body soap: 3.4834681155920184\nPercent for Categorical amenities_str small travel size conditioner: 3.4834681155920184\nPercent for Categorical amenities_str small travel size shampoo: 3.4834681155920184\nPercent for Categorical amenities_str small under counter refrigerator: 3.4834681155920184\nPercent for Categorical amenities_str small undercounter fridge refrigerator: 3.4834681155920184\nPercent for Categorical amenities_str smaller size refrigerator: 3.4834681155920184\nPercent for Categorical amenities_str smart lock: 3.4278254221479685\nPercent for Categorical amenities_str smeg refrigerator: 3.4833558811277956\nPercent for Categorical amenities_str smeg stainless steel oven: 3.460043830697604\nPercent for Categorical amenities_str smeg stainless steel stove: 3.4834681155920184\nPercent for Categorical amenities_str smoke alarm: 3.449186601493005\nPercent for Categorical amenities_str soap are provided in the box if needed body soap: 3.4834681155920184\nPercent for Categorical amenities_str soap body soap: 3.4834681155920184\nPercent for Categorical amenities_str soapcherie body soap: 3.4834681155920184\nPercent for Categorical amenities_str soft soap body soap: 3.4834681155920184\nPercent for Categorical amenities_str softsoap body soap: 3.4834681155920184\nPercent for Categorical amenities_str sonos: 3.4834681155920184\nPercent for Categorical amenities_str sonos bluetooth sound system: 3.5461651095635602\nPercent for Categorical amenities_str sonos in living room and google home in kitchen with bluetooth capacity sound system with bluetooth and aux: 3.4834681155920184\nPercent for Categorical amenities_str sonos sound system: 3.4822396602228447\nPercent for Categorical amenities_str sonos sound system with aux: 3.4834681155920184\nPercent for Categorical amenities_str sonos sound system with bluetooth and aux: 3.4591533166257555\nPercent for Categorical amenities_str sonos surround bluetooth sound system: 3.4834681155920184\nPercent for Categorical amenities_str sonos vizio bluetooth sound system: 3.4834681155920184\nPercent for Categorical amenities_str sonoshartley speaker bluetooth sound system: 3.4834681155920184\nPercent for Categorical amenities_str sonus and samsung sound bar with bass sound system with bluetooth and aux: 3.4834681155920184\nPercent for Categorical amenities_str sony bluetooth sound system: 3.4674696646835907\nPercent for Categorical amenities_str sony hu w bose speaker: 3.4834681155920184\nPercent for Categorical amenities_str sony sound system: 3.4834681155920184\nPercent for Categorical amenities_str sony sound system with aux: 3.4812673958409377\nPercent for Categorical amenities_str sony sound system with bluetooth and aux: 3.4834076967837637\nPercent for Categorical amenities_str sony technic sound system with aux: 3.4834681155920184\nPercent for Categorical amenities_str sound bar bluetooth sound system: 3.4834681155920184\nPercent for Categorical amenities_str sound bar lg bluetooth sound system: 3.4834681155920184\nPercent for Categorical amenities_str sound bar sound system with bluetooth and aux: 3.4834681155920184\nPercent for Categorical amenities_str sound system: 3.641516383293332\nPercent for Categorical amenities_str sound system with aux: 3.483241461929614\nPercent for Categorical amenities_str sound system with bluetooth and aux: 3.4981904376041513\nPercent for Categorical amenities_str space limited to small item only refrigerator: 3.4834681155920184\nPercent for Categorical amenities_str speaker bluetooth sound system: 3.483583541626039\nPercent for Categorical amenities_str spring body soap: 3.483432683778435\nPercent for Categorical amenities_str spring floral conditioner: 3.4834681155920184\nPercent for Categorical amenities_str st ives body soap: 3.4834681155920184\nPercent for Categorical amenities_str stainless steel electric stove: 3.48601824073091\nPercent for Categorical amenities_str stainless steel fridgedare refrigerator: 3.4834681155920184\nPercent for Categorical amenities_str stainless steel frigidaire refrigerator: 3.4834681155920184\nPercent for Categorical amenities_str stainless steel gas stove: 3.517765844865962\nPercent for Categorical amenities_str stainless steel induction stove: 3.4834681155920184\nPercent for Categorical amenities_str stainless steel oven: 3.4756897624886762\nPercent for Categorical amenities_str stainless steel refrigerator: 3.4655150428766555\nPercent for Categorical amenities_str stainless steel stove: 3.459498825890405\nPercent for Categorical amenities_str stainless steel with large freezer refrigerator: 3.4834681155920184\nPercent for Categorical amenities_str standard body soap: 3.4834681155920184\nPercent for Categorical amenities_str standard cable: 3.5143103017490414\nPercent for Categorical amenities_str standard conditioner: 3.4834681155920184\nPercent for Categorical amenities_str standard refrigerator: 3.4834681155920184\nPercent for Categorical amenities_str steal gas stove: 3.4834681155920184\nPercent for Categorical amenities_str store them in box shampoo: 3.4834681155920184\nPercent for Categorical amenities_str stored in box contact if needed conditioner: 3.4834681155920184\nPercent for Categorical amenities_str stored in box contact if needed shampoo: 3.4834681155920184\nPercent for Categorical amenities_str stove: 3.3513113134888264\nPercent for Categorical amenities_str stove top gas stove: 3.4834681155920184\nPercent for Categorical amenities_str suave: 3.4834681155920184\nPercent for Categorical amenities_str suave 2in1 conditioner: 3.4834681155920184\nPercent for Categorical amenities_str suave 2in1 shampoo: 3.4834681155920184\nPercent for Categorical amenities_str suave and vo5 shampoo: 3.4834681155920184\nPercent for Categorical amenities_str suave body soap: 3.4834681155920184\nPercent for Categorical amenities_str suave conditioner: 3.485044740662613\nPercent for Categorical amenities_str suave shampoo: 3.481886064220679\nPercent for Categorical amenities_str sub zero: 3.4834681155920184\nPercent for Categorical amenities_str sub zero refrigerator: 3.4834681155920184\nPercent for Categorical amenities_str subzero freezer company: 3.4834681155920184\nPercent for Categorical amenities_str subzero refrigerator: 3.4861719696458926\nPercent for Categorical amenities_str summit oven: 3.4834681155920184\nPercent for Categorical amenities_str summit refrigerator: 3.4834681155920184\nPercent for Categorical amenities_str summit stainless steel gas stove: 3.4832012805017256\nPercent for Categorical amenities_str summit stainless steel oven: 3.4834681155920184\nPercent for Categorical amenities_str summit stainless steel stove: 3.4834681155920184\nPercent for Categorical amenities_str sun bum conditioner: 3.4834681155920184\nPercent for Categorical amenities_str sun bum shampoo: 3.4834681155920184\nPercent for Categorical amenities_str swiveljbc bluetooth sound system: 3.4834681155920184\nPercent for Categorical amenities_str table: 3.471876897058448\nPercent for Categorical amenities_str table corner guard: 3.4813423674216164\nPercent for Categorical amenities_str tahiti body soap: 3.4834681155920184\nPercent for Categorical amenities_str the best body soap: 3.4834681155920184\nPercent for Categorical amenities_str the best conditioner: 3.4834681155920184\nPercent for Categorical amenities_str the best only body soap: 3.4834681155920184\nPercent for Categorical amenities_str the microwave can be used a an electric oven stainless steel oven: 3.4834681155920184\nPercent for Categorical amenities_str there is a celling fan an a portable ac in the bedroom conditioner: 3.4834681155920184\nPercent for Categorical amenities_str thermador stainless steel oven: 3.4834681155920184\nPercent for Categorical amenities_str toaster: 3.515537267466282\nPercent for Categorical amenities_str toaster oven oven: 3.4834681155920184\nPercent for Categorical amenities_str toaster oven stainless steel electric stove: 3.4834681155920184\nPercent for Categorical amenities_str tommy bahama conditioner: 3.4834681155920184\nPercent for Categorical amenities_str tommy bahama shampoo: 3.4834681155920184\nPercent for Categorical amenities_str trader joes body soap: 3.4834681155920184\nPercent for Categorical amenities_str trader joes conditioner: 3.4834681155920184\nPercent for Categorical amenities_str trader joes shampoo: 3.4834681155920184\nPercent for Categorical amenities_str trader joes soap body soap: 3.4834681155920184\nPercent for Categorical amenities_str trader joeu2019s body soap: 3.4834681155920184\nPercent for Categorical amenities_str trader joeu2019s conditioner: 3.4826753290668013\nPercent for Categorical amenities_str trader joeu2019s shampoo: 3.4835642492070074\nPercent for Categorical amenities_str trader joeu2019s teatree oil conditioner: 3.4834681155920184\nPercent for Categorical amenities_str trash compactor: 3.483444098096527\nPercent for Categorical amenities_str travel kit body soap: 3.4834681155920184\nPercent for Categorical amenities_str travel kit conditioner: 3.4834681155920184\nPercent for Categorical amenities_str treblab sound system with bluetooth and aux: 3.4834681155920184\nPercent for Categorical amenities_str tres seme shampoo: 3.4834681155920184\nPercent for Categorical amenities_str tres semme shampoo: 3.4834681155920184\nPercent for Categorical amenities_str tres semmeu2019 shampoo: 3.4834681155920184\nPercent for Categorical amenities_str tres su2019emme conditioner: 3.4834681155920184\nPercent for Categorical amenities_str tresem conditioner: 3.4834681155920184\nPercent for Categorical amenities_str treseme conditioner: 3.4834681155920184\nPercent for Categorical amenities_str treseme shampoo: 3.4834681155920184\nPercent for Categorical amenities_str tresemee conditioner: 3.4834681155920184\nPercent for Categorical amenities_str tresemee shampoo: 3.4834681155920184\nPercent for Categorical amenities_str tresemme 44 moisturizing conditioner conditioner: 3.4834681155920184\nPercent for Categorical amenities_str tresemme conditioner: 3.479105481304598\nPercent for Categorical amenities_str tresemme shampoo: 3.483391941639666\nPercent for Categorical amenities_str tresemmu00e9 body soap: 3.4834681155920184\nPercent for Categorical amenities_str tresemmu00e9 shampoo: 3.4834681155920184\nPercent for Categorical amenities_str treshman conditioner: 3.4834681155920184\nPercent for Categorical amenities_str tresime shampoo: 3.4834681155920184\nPercent for Categorical amenities_str tresimme conditioner: 3.4834681155920184\nPercent for Categorical amenities_str tresseme conditioner: 3.4834150301714515\nPercent for Categorical amenities_str tressemme conditioner: 3.4834681155920184\nPercent for Categorical amenities_str tressemme shampoo: 3.4834681155920184\nPercent for Categorical amenities_str tropical organic body soap: 3.4834681155920184\nPercent for Categorical amenities_str trsm conditioner: 3.4834681155920184\nPercent for Categorical amenities_str tv: 3.7348917731884645\nPercent for Categorical amenities_str tv with: 3.483555698895728\nPercent for Categorical amenities_str tv with amazon prime video: 3.4936866400000834\nPercent for Categorical amenities_str tv with apple tv: 3.496075818295437\nPercent for Categorical amenities_str tv with chromecast: 3.4828198583876495\nPercent for Categorical amenities_str tv with hbo max: 3.4827456388194427\nPercent for Categorical amenities_str tv with netflix: 3.5391229898907195\nPercent for Categorical amenities_str tv with premium cable: 3.489228462873278\nPercent for Categorical amenities_str tv with roku: 3.473767031106138\nPercent for Categorical amenities_str tv with standard cable: 3.8435509689539327\nPercent for Categorical amenities_str two burner electric cooktop electric stove: 3.4834681155920184\nPercent for Categorical amenities_str undercounter refrigerator: 3.4834681155920184\nPercent for Categorical amenities_str undercounter refrigerator refrigerator: 3.4834681155920184\nPercent for Categorical amenities_str unknown oven: 3.4847426666767\nPercent for Categorical amenities_str unknown refrigerator: 3.482530362802077\nPercent for Categorical amenities_str unknown stove: 3.4834681155920184\nPercent for Categorical amenities_str unknown travel size conditioner: 3.4834681155920184\nPercent for Categorical amenities_str unknown you can plug right into phone sound system with aux: 3.4834681155920184\nPercent for Categorical amenities_str unscented body soap: 3.4834681155920184\nPercent for Categorical amenities_str unsure shampoo: 3.4834681155920184\nPercent for Categorical amenities_str upup body soap: 3.4834681155920184\nPercent for Categorical amenities_str usb speaker u2022 bluetooth bluetooth sound system: 3.4834681155920184\nPercent for Categorical amenities_str usually general body soap: 3.4834681155920184\nPercent for Categorical amenities_str usually general conditioner: 3.4834681155920184\nPercent for Categorical amenities_str v05 conditioner: 3.483293582441331\nPercent for Categorical amenities_str v05 shampoo: 3.4834681155920184\nPercent for Categorical amenities_str variable usually oganic body soap: 3.4834681155920184\nPercent for Categorical amenities_str variable usually organic conditioner: 3.4834681155920184\nPercent for Categorical amenities_str variable usually organic shampoo: 3.4834681155920184\nPercent for Categorical amenities_str variation body soap: 3.4834681155920184\nPercent for Categorical amenities_str varied body soap: 3.4834681155920184\nPercent for Categorical amenities_str varied conditioner: 3.4834681155920184\nPercent for Categorical amenities_str varied shampoo: 3.4834681155920184\nPercent for Categorical amenities_str varies and may be fulfilled with a liquid version or body wash body soap: 3.4834681155920184\nPercent for Categorical amenities_str varies body soap: 3.4834681155920184\nPercent for Categorical amenities_str varies but tend to keep it a natural a possible body soap: 3.4834681155920184\nPercent for Categorical amenities_str varies conditioner: 3.4832318484991256\nPercent for Categorical amenities_str varies shampoo: 3.4834681155920184\nPercent for Categorical amenities_str variety body soap: 3.4834681155920184\nPercent for Categorical amenities_str variety conditioner: 3.4834681155920184\nPercent for Categorical amenities_str various body soap: 3.4817844188984775\nPercent for Categorical amenities_str various brand body soap: 3.4834681155920184\nPercent for Categorical amenities_str various brand conditioner: 3.4834681155920184\nPercent for Categorical amenities_str various brand name body bar body soap: 3.4834681155920184\nPercent for Categorical amenities_str various conditioner: 3.4834681155920184\nPercent for Categorical amenities_str various shampoo: 3.483820585877726\nPercent for Categorical amenities_str varity body soap: 3.4834681155920184\nPercent for Categorical amenities_str veilment korean coconut bar body soap: 3.4834681155920184\nPercent for Categorical amenities_str victrola bluetooth sound system: 3.4834681155920184\nPercent for Categorical amenities_str viking: 3.4834681155920184\nPercent for Categorical amenities_str viking gas stove: 3.4834681155920184\nPercent for Categorical amenities_str viking refrigerator: 3.4834681155920184\nPercent for Categorical amenities_str viking stainless steel gas stove: 3.4614927339043846\nPercent for Categorical amenities_str viking stainless steel oven: 3.4842296034017477\nPercent for Categorical amenities_str viking stainless steel stove: 3.4834681155920184\nPercent for Categorical amenities_str vintage yamaha sound system with aux: 3.4834681155920184\nPercent for Categorical amenities_str visio bluetooth sound system: 3.4834681155920184\nPercent for Categorical amenities_str vizio bluetooth sound system: 3.4834681155920184\nPercent for Categorical amenities_str vizio sound bar bluetooth sound system: 3.4834681155920184\nPercent for Categorical amenities_str vizio soundbar bluetooth sound system: 3.4834681155920184\nPercent for Categorical amenities_str vo 5 shampoo: 3.4834681155920184\nPercent for Categorical amenities_str vo5 and other brand shampoo: 3.4834681155920184\nPercent for Categorical amenities_str vo5 and others conditioner: 3.4834681155920184\nPercent for Categorical amenities_str vo5 and variety conditioner: 3.4834681155920184\nPercent for Categorical amenities_str vo5 body soap: 3.4834681155920184\nPercent for Categorical amenities_str vo5 conditioner: 3.4842791655494003\nPercent for Categorical amenities_str vo5 shampoo: 3.4834681155920184\nPercent for Categorical amenities_str walkin closet: 3.5388199188359386\nPercent for Categorical amenities_str wardrobe: 3.5199932903884434\nPercent for Categorical amenities_str washer: 4.4179580045602735\nPercent for Categorical amenities_str washer u2013u00a0in building: 3.4848472045648933\nPercent for Categorical amenities_str washer u2013u00a0in unit: 3.5002500738464044\nPercent for Categorical amenities_str waterfront: 3.4962805355394955\nPercent for Categorical amenities_str we provide a portable gas stove in our kitchenette gas stove: 3.4834681155920184\nPercent for Categorical amenities_str we will provide a sonos roam bluetooth speaker for your device bluetooth sound system: 3.4834681155920184\nPercent for Categorical amenities_str whatever im using at the moment body soap: 3.4834681155920184\nPercent for Categorical amenities_str whatever is available body soap: 3.4834681155920184\nPercent for Categorical amenities_str whichever i have conditioner: 3.4834681155920184\nPercent for Categorical amenities_str whichever i have shampoo: 3.4834681155920184\nPercent for Categorical amenities_str whirlpool conditioner: 3.4834681155920184\nPercent for Categorical amenities_str whirlpool electric stove: 3.4834681155920184\nPercent for Categorical amenities_str whirlpool gas stove: 3.4834681155920184\nPercent for Categorical amenities_str whirlpool oven: 3.4834681155920184\nPercent for Categorical amenities_str whirlpool refrigerator: 3.4880665968923537\nPercent for Categorical amenities_str whirlpool stainless steel gas stove: 3.4834681155920184\nPercent for Categorical amenities_str whirlpool stainless steel oven: 3.483603808184828\nPercent for Categorical amenities_str whirlpool stove: 3.4834681155920184\nPercent for Categorical amenities_str whirpool oven: 3.4834681155920184\nPercent for Categorical amenities_str whirpool refrigerator: 3.4834681155920184\nPercent for Categorical amenities_str white gas stove oven: 3.4834681155920184\nPercent for Categorical amenities_str white oven: 3.4834681155920184\nPercent for Categorical amenities_str white oven connected to stove oven: 3.4834681155920184\nPercent for Categorical amenities_str white rain conditioner: 3.4834681155920184\nPercent for Categorical amenities_str whole food: 3.4834681155920184\nPercent for Categorical amenities_str whole food 365 body soap: 3.4834912142948737\nPercent for Categorical amenities_str whole food 365 conditioner: 3.4834733323946003\nPercent for Categorical amenities_str whole food body soap: 3.4834681155920184\nPercent for Categorical amenities_str whole food conditioner: 3.4834681155920184\nPercent for Categorical amenities_str whole food or similar shampoo: 3.4834681155920184\nPercent for Categorical amenities_str wifi: 3.474949462670497\nPercent for Categorical amenities_str wifi speaker bluetooth sound system: 3.4834681155920184\nPercent for Categorical amenities_str wifi u2013 12 mbps: 3.4834681155920184\nPercent for Categorical amenities_str wifi u2013 13 mbps: 3.4834681155920184\nPercent for Categorical amenities_str wifi u2013 17 mbps: 3.4834681155920184\nPercent for Categorical amenities_str wifi u2013 20 mbps: 3.4834681155920184\nPercent for Categorical amenities_str wifi u2013 23 mbps: 3.4834681155920184\nPercent for Categorical amenities_str wifi u2013 24 mbps: 3.4834681155920184\nPercent for Categorical amenities_str wifi u2013 25 mbps: 3.4834681155920184\nPercent for Categorical amenities_str wifi u2013 28 mbps: 3.4834681155920184\nPercent for Categorical amenities_str wifi u2013 30 mbps: 3.4834681155920184\nPercent for Categorical amenities_str wifi u2013 32 mbps: 3.4834681155920184\nPercent for Categorical amenities_str wifi u2013 44 mbps: 3.4834681155920184\nPercent for Categorical amenities_str wifi u2013 47 mbps: 3.4834681155920184\nPercent for Categorical amenities_str wifi u2013 8 mbps: 3.4834681155920184\nPercent for Categorical amenities_str wifi u2013 9 mbps: 3.4834681155920184\nPercent for Categorical amenities_str wild planet conditioner: 3.4834681155920184\nPercent for Categorical amenities_str wild planet sulfate free shampoo: 3.4834681155920184\nPercent for Categorical amenities_str will supply both bar soap unused: 3.4834681155920184\nPercent for Categorical amenities_str window ac unit: 3.4985101208913134\nPercent for Categorical amenities_str window guard: 3.4066360348203553\nPercent for Categorical amenities_str wine glass: 3.5866880788434563\nPercent for Categorical amenities_str with freezer magic chef refrigerator: 3.4834681155920184\nPercent for Categorical amenities_str wolf gas stove: 3.4834681155920184\nPercent for Categorical amenities_str wolf induction stove: 3.4834681155920184\nPercent for Categorical amenities_str wolf stainless steel gas stove: 3.483206626102327\nPercent for Categorical amenities_str wolf stainless steel oven: 3.484020564167433\nPercent for Categorical amenities_str wolf stainless steel stove: 3.4834681155920184\nPercent for Categorical amenities_str wolf with grill stainless steel gas stove: 3.4834681155920184\nPercent for Categorical amenities_str wrapped: 3.4834681155920184\nPercent for Categorical amenities_str x body soap: 3.4834681155920184\nPercent for Categorical amenities_str x shampoo: 3.4834681155920184\nPercent for Categorical amenities_str yamaha and elac premium sound bluetooth sound system: 3.4834681155920184\nPercent for Categorical amenities_str yamaha bluetooth sound system: 3.4834681155920184\nPercent for Categorical amenities_str yamaha bose sound system with aux: 3.4834681155920184\nPercent for Categorical amenities_str yamaha h 8 sound system: 3.4834681155920184\nPercent for Categorical amenities_str yamaha soundbar: 3.4834681155920184\nPercent for Categorical amenities_str yamaha ys900 sound system with bluetooth and aux: 3.4834681155920184\nPercent for Categorical amenities_str yardley lavendar body soap: 3.483115207799634\nPercent for Categorical amenities_str yardley lavender soap bar body soap: 3.50226839541759\nPercent for Categorical amenities_str yardley london english lavender body soap: 3.4834681155920184\nPercent for Categorical amenities_str youre welcome to use whatever im using conditioner: 3.4834681155920184\nPercent for Categorical amenities_str zogics conditioner: 3.4834681155920184\nPercent for Categorical amenities_str zogics shampoo: 3.4834681155920184\nPercent for Categorical amenities_str zotos quantum daily cleansing shampoo shampoo: 3.4834681155920184\n",
     "output_type": "stream"
    }
   ]
  },
  {
   "cell_type": "code",
   "metadata": {
    "tags": [],
    "deepnote_to_be_reexecuted": false,
    "source_hash": "32631fc4",
    "execution_start": 1646967234172,
    "execution_millis": 27,
    "cell_id": "00022-dd273d1f-b28c-45b6-8997-43ce74fc77e2",
    "deepnote_cell_type": "code",
    "deepnote_cell_height": 99
   },
   "source": "with open('percent_dict.pkl', 'wb') as f:\n    pickle.dump(percent_dict, f)",
   "execution_count": null,
   "outputs": []
  },
  {
   "cell_type": "code",
   "metadata": {
    "tags": [],
    "deepnote_to_be_reexecuted": false,
    "source_hash": "3f6025ac",
    "execution_start": 1646971369684,
    "execution_millis": 1720,
    "deepnote_table_state": {
     "pageSize": 10,
     "pageIndex": 0,
     "filters": [],
     "sortBy": []
    },
    "deepnote_table_loading": false,
    "cell_id": "00023-128804f2-03f2-4f9d-9115-7714afa1fd6a",
    "deepnote_cell_type": "code",
    "deepnote_cell_height": 870
   },
   "source": "import pandas as pd\nimport matplotlib.pyplot as plt\n\npercents = list(percent_dict.items())\n# percents = list(map(lambda x: (feat_dict[x[0]], x[1]), percents)) #temporary mapping\n\npercents.sort(key = lambda x: x[1], reverse = True)\n\nvals = np.array(list(map(lambda x: x[1], percents)))\nstd = np.std(vals)\nmean = np.mean(vals)\n\npercents = np.array(percents)\ntop = pd.DataFrame(percents, columns = ('Feature', 'Strength'))\ntop.Strength = top.Strength.astype(float)\ntop",
   "execution_count": null,
   "outputs": [
    {
     "output_type": "execute_result",
     "execution_count": 6,
     "data": {
      "application/vnd.deepnote.dataframe.v3+json": {
       "column_count": 2,
       "row_count": 6760,
       "columns": [
        {
         "name": "Feature",
         "dtype": "object",
         "stats": {
          "unique_count": 6760,
          "nan_count": 0,
          "categories": [
           {
            "name": "Numerical accommodates",
            "count": 1
           },
           {
            "name": "Numerical bedrooms",
            "count": 1
           },
           {
            "name": "6758 others",
            "count": 6758
           }
          ]
         }
        },
        {
         "name": "Strength",
         "dtype": "float64",
         "stats": {
          "unique_count": 5232,
          "nan_count": 0,
          "min": "3.200241705545931",
          "max": "18.026284670771208",
          "histogram": [
           {
            "bin_start": 3.200241705545931,
            "bin_end": 4.682846002068459,
            "count": 6750
           },
           {
            "bin_start": 4.682846002068459,
            "bin_end": 6.1654502985909865,
            "count": 5
           },
           {
            "bin_start": 6.1654502985909865,
            "bin_end": 7.648054595113514,
            "count": 1
           },
           {
            "bin_start": 7.648054595113514,
            "bin_end": 9.130658891636042,
            "count": 2
           },
           {
            "bin_start": 9.130658891636042,
            "bin_end": 10.61326318815857,
            "count": 0
           },
           {
            "bin_start": 10.61326318815857,
            "bin_end": 12.095867484681097,
            "count": 1
           },
           {
            "bin_start": 12.095867484681097,
            "bin_end": 13.578471781203625,
            "count": 0
           },
           {
            "bin_start": 13.578471781203625,
            "bin_end": 15.061076077726153,
            "count": 0
           },
           {
            "bin_start": 15.061076077726153,
            "bin_end": 16.54368037424868,
            "count": 0
           },
           {
            "bin_start": 16.54368037424868,
            "bin_end": 18.026284670771208,
            "count": 1
           }
          ]
         }
        },
        {
         "name": "_deepnote_index_column",
         "dtype": "int64"
        }
       ],
       "rows": [
        {
         "Feature": "Numerical accommodates",
         "Strength": 18.026284670771208,
         "_deepnote_index_column": 0
        },
        {
         "Feature": "Numerical bedrooms",
         "Strength": 11.131668500450587,
         "_deepnote_index_column": 1
        },
        {
         "Feature": "Categorical room_type private room",
         "Strength": 7.828920461893962,
         "_deepnote_index_column": 2
        },
        {
         "Feature": "Numerical minimum_nights",
         "Strength": 7.798353892555719,
         "_deepnote_index_column": 3
        },
        {
         "Feature": "Numerical longitude",
         "Strength": 7.466580680929293,
         "_deepnote_index_column": 4
        },
        {
         "Feature": "Numerical availability_30",
         "Strength": 4.884125319050196,
         "_deepnote_index_column": 5
        },
        {
         "Feature": "Numerical calculated_host_listings_count",
         "Strength": 4.847407504457294,
         "_deepnote_index_column": 6
        },
        {
         "Feature": "Categorical neighbourhood_group_cleansed brooklyn",
         "Strength": 4.825304608924172,
         "_deepnote_index_column": 7
        },
        {
         "Feature": "Categorical neighbourhood_group_cleansed manhattan",
         "Strength": 4.794909849783519,
         "_deepnote_index_column": 8
        },
        {
         "Feature": "Categorical amenities_str dishwasher",
         "Strength": 4.6967464214280215,
         "_deepnote_index_column": 9
        }
       ]
      },
      "text/plain": "                                                Feature   Strength\n0                                Numerical accommodates  18.026285\n1                                    Numerical bedrooms  11.131669\n2                    Categorical room_type private room   7.828920\n3                              Numerical minimum_nights   7.798354\n4                                   Numerical longitude   7.466581\n...                                                 ...        ...\n6755       Categorical property_type entire rental unit   3.324560\n6756        Categorical amenities_str single level home   3.312041\n6757  Categorical property_type private room in serv...   3.285112\n6758                Categorical amenities_str bed linen   3.271207\n6759                                     Numerical beds   3.200242\n\n[6760 rows x 2 columns]",
      "text/html": "<div>\n<style scoped>\n    .dataframe tbody tr th:only-of-type {\n        vertical-align: middle;\n    }\n\n    .dataframe tbody tr th {\n        vertical-align: top;\n    }\n\n    .dataframe thead th {\n        text-align: right;\n    }\n</style>\n<table border=\"1\" class=\"dataframe\">\n  <thead>\n    <tr style=\"text-align: right;\">\n      <th></th>\n      <th>Feature</th>\n      <th>Strength</th>\n    </tr>\n  </thead>\n  <tbody>\n    <tr>\n      <th>0</th>\n      <td>Numerical accommodates</td>\n      <td>18.026285</td>\n    </tr>\n    <tr>\n      <th>1</th>\n      <td>Numerical bedrooms</td>\n      <td>11.131669</td>\n    </tr>\n    <tr>\n      <th>2</th>\n      <td>Categorical room_type private room</td>\n      <td>7.828920</td>\n    </tr>\n    <tr>\n      <th>3</th>\n      <td>Numerical minimum_nights</td>\n      <td>7.798354</td>\n    </tr>\n    <tr>\n      <th>4</th>\n      <td>Numerical longitude</td>\n      <td>7.466581</td>\n    </tr>\n    <tr>\n      <th>...</th>\n      <td>...</td>\n      <td>...</td>\n    </tr>\n    <tr>\n      <th>6755</th>\n      <td>Categorical property_type entire rental unit</td>\n      <td>3.324560</td>\n    </tr>\n    <tr>\n      <th>6756</th>\n      <td>Categorical amenities_str single level home</td>\n      <td>3.312041</td>\n    </tr>\n    <tr>\n      <th>6757</th>\n      <td>Categorical property_type private room in serv...</td>\n      <td>3.285112</td>\n    </tr>\n    <tr>\n      <th>6758</th>\n      <td>Categorical amenities_str bed linen</td>\n      <td>3.271207</td>\n    </tr>\n    <tr>\n      <th>6759</th>\n      <td>Numerical beds</td>\n      <td>3.200242</td>\n    </tr>\n  </tbody>\n</table>\n<p>6760 rows × 2 columns</p>\n</div>"
     },
     "metadata": {}
    }
   ]
  },
  {
   "cell_type": "code",
   "metadata": {
    "tags": [],
    "deepnote_to_be_reexecuted": false,
    "source_hash": "9c597274",
    "execution_start": 1646971376463,
    "execution_millis": 10,
    "cell_id": "00024-f24a9c86-5d17-4837-b762-e1c9f64a29ff",
    "deepnote_cell_type": "code",
    "deepnote_cell_height": 270.78125
   },
   "source": "print(pd.Series(vals).describe())",
   "execution_count": null,
   "outputs": [
    {
     "name": "stdout",
     "text": "count    6760.000000\nmean        3.495552\nstd         0.226443\nmin         3.200242\n25%         3.482530\n50%         3.483468\n75%         3.486342\nmax        18.026285\ndtype: float64\n",
     "output_type": "stream"
    }
   ]
  },
  {
   "cell_type": "code",
   "metadata": {
    "tags": [],
    "deepnote_to_be_reexecuted": false,
    "source_hash": "8179a5f7",
    "execution_start": 1647057212021,
    "execution_millis": 2373,
    "is_output_hidden": false,
    "output_cleared": false,
    "cell_id": "00025-b5095fd3-ef3c-49a1-81d0-3630c66dcf9d",
    "deepnote_cell_type": "code",
    "deepnote_cell_height": 216.1875
   },
   "source": "reversed_feat_dict = {v: k for k, v in feat_dict.items()}\nrem_features_idxs = []\nfor i in percents:\n    if float(i[1]) >= 4:\n        rem_features_idxs.append(reversed_feat_dict[i[0]])",
   "execution_count": null,
   "outputs": [
    {
     "output_type": "error",
     "ename": "NameError",
     "evalue": "name 'percents' is not defined",
     "traceback": [
      "\u001b[0;31m---------------------------------------------------------------------------\u001b[0m",
      "\u001b[0;31mNameError\u001b[0m                                 Traceback (most recent call last)",
      "\u001b[0;32m<ipython-input-17-a085e2a3b3c0>\u001b[0m in \u001b[0;36m<cell line: 3>\u001b[0;34m()\u001b[0m\n\u001b[1;32m      1\u001b[0m \u001b[0mreversed_feat_dict\u001b[0m \u001b[0;34m=\u001b[0m \u001b[0;34m{\u001b[0m\u001b[0mv\u001b[0m\u001b[0;34m:\u001b[0m \u001b[0mk\u001b[0m \u001b[0;32mfor\u001b[0m \u001b[0mk\u001b[0m\u001b[0;34m,\u001b[0m \u001b[0mv\u001b[0m \u001b[0;32min\u001b[0m \u001b[0mfeat_dict\u001b[0m\u001b[0;34m.\u001b[0m\u001b[0mitems\u001b[0m\u001b[0;34m(\u001b[0m\u001b[0;34m)\u001b[0m\u001b[0;34m}\u001b[0m\u001b[0;34m\u001b[0m\u001b[0;34m\u001b[0m\u001b[0m\n\u001b[1;32m      2\u001b[0m \u001b[0mrem_features_idxs\u001b[0m \u001b[0;34m=\u001b[0m \u001b[0;34m[\u001b[0m\u001b[0;34m]\u001b[0m\u001b[0;34m\u001b[0m\u001b[0;34m\u001b[0m\u001b[0m\n\u001b[0;32m----> 3\u001b[0;31m \u001b[0;32mfor\u001b[0m \u001b[0mi\u001b[0m \u001b[0;32min\u001b[0m \u001b[0mpercents\u001b[0m\u001b[0;34m:\u001b[0m\u001b[0;34m\u001b[0m\u001b[0;34m\u001b[0m\u001b[0m\n\u001b[0m\u001b[1;32m      4\u001b[0m     \u001b[0;32mif\u001b[0m \u001b[0mfloat\u001b[0m\u001b[0;34m(\u001b[0m\u001b[0mi\u001b[0m\u001b[0;34m[\u001b[0m\u001b[0;36m1\u001b[0m\u001b[0;34m]\u001b[0m\u001b[0;34m)\u001b[0m \u001b[0;34m>=\u001b[0m \u001b[0;36m4\u001b[0m\u001b[0;34m:\u001b[0m\u001b[0;34m\u001b[0m\u001b[0;34m\u001b[0m\u001b[0m\n\u001b[1;32m      5\u001b[0m         \u001b[0mrem_features_idxs\u001b[0m\u001b[0;34m.\u001b[0m\u001b[0mappend\u001b[0m\u001b[0;34m(\u001b[0m\u001b[0mreversed_feat_dict\u001b[0m\u001b[0;34m[\u001b[0m\u001b[0mi\u001b[0m\u001b[0;34m[\u001b[0m\u001b[0;36m0\u001b[0m\u001b[0;34m]\u001b[0m\u001b[0;34m]\u001b[0m\u001b[0;34m)\u001b[0m\u001b[0;34m\u001b[0m\u001b[0;34m\u001b[0m\u001b[0m\n",
      "\u001b[0;31mNameError\u001b[0m: name 'percents' is not defined"
     ]
    }
   ]
  },
  {
   "cell_type": "code",
   "metadata": {
    "tags": [],
    "deepnote_to_be_reexecuted": false,
    "source_hash": "4c743c33",
    "execution_start": 1646971870671,
    "execution_millis": 639,
    "cell_id": "00026-a7cbaf08-ec72-4616-bd1f-e87d8b61c866",
    "deepnote_cell_type": "code",
    "deepnote_cell_height": 117
   },
   "source": "X_train = csr_matrix(X_train.tocsr()[:,rem_features_idxs])\nX_val = csr_matrix(X_val.tocsr()[:,rem_features_idxs])\nX_test = csr_matrix(X_test.tocsr()[:,rem_features_idxs])",
   "execution_count": null,
   "outputs": []
  },
  {
   "cell_type": "markdown",
   "source": "## Testing Hypothesis",
   "metadata": {
    "tags": [],
    "is_collapsed": false,
    "cell_id": "00027-49d17d8f-7ee7-4156-8dff-831209d85f04",
    "deepnote_cell_type": "text-cell-h2"
   }
  },
  {
   "cell_type": "markdown",
   "source": "Superhost: val rrmse increase by 0.3, Reviews: val rrmse increase by 1.1, Overall Rating: val rrmse increase by 0.3",
   "metadata": {
    "tags": [],
    "is_collapsed": false,
    "cell_id": "00028-0be8cc0f-58f0-4780-9f37-5a64d17ed432",
    "deepnote_cell_type": "text-cell-p"
   }
  },
  {
   "cell_type": "code",
   "metadata": {
    "tags": [],
    "deepnote_to_be_reexecuted": false,
    "source_hash": "79a42ac",
    "execution_start": 1647130495182,
    "execution_millis": 588,
    "cell_id": "00029-ff73dd39-b2e0-4d23-b01a-7ec54ac5c85a",
    "deepnote_cell_type": "code",
    "deepnote_cell_height": 219.859375
   },
   "source": "cols_to_keep = list(range(X_train.shape[1]))\nidx = reversed_feat_dict['Categorical host_is_superhost no data'] #treat as F\ncols_to_keep.remove(idx)\nX_train = csr_matrix(X_train.tocsr()[:,cols_to_keep])\nX_val = csr_matrix(X_val.tocsr()[:,cols_to_keep])\nX_test = csr_matrix(X_test.tocsr()[:,cols_to_keep])\nprint(X_train.shape, X_val.shape, X_test.shape)",
   "execution_count": null,
   "outputs": [
    {
     "name": "stdout",
     "text": "(22892, 6760) (4912, 6760) (4906, 6760)\n",
     "output_type": "stream"
    }
   ]
  },
  {
   "cell_type": "code",
   "metadata": {
    "tags": [],
    "deepnote_to_be_reexecuted": false,
    "source_hash": "dfe1cec0",
    "execution_start": 1647130945636,
    "execution_millis": 592,
    "cell_id": "00030-8d518dd1-bda8-4b19-9db2-d4f20f023a2f",
    "owner_user_id": "68fe6acf-6104-4e2c-afe0-0dd65bc22222",
    "deepnote_cell_type": "code",
    "deepnote_cell_height": 219.859375
   },
   "source": "cols_to_keep = list(range(X_train.shape[1]))\nidx = reversed_feat_dict['Numerical review_scores_rating']\ncols_to_keep.remove(idx)\nX_train = csr_matrix(X_train.tocsr()[:,cols_to_keep])\nX_val = csr_matrix(X_val.tocsr()[:,cols_to_keep])\nX_test = csr_matrix(X_test.tocsr()[:,cols_to_keep])\nprint(X_train.shape, X_val.shape, X_test.shape)",
   "execution_count": null,
   "outputs": [
    {
     "name": "stdout",
     "text": "(22892, 6760) (4912, 6760) (4906, 6760)\n",
     "output_type": "stream"
    }
   ]
  },
  {
   "cell_type": "markdown",
   "source": "<a style='text-decoration:none;line-height:16px;display:flex;color:#5B5B62;padding:10px;justify-content:end;' href='https://deepnote.com?utm_source=created-in-deepnote-cell&projectId=2a92d0af-cecf-4cde-96f5-c3db3a7f88f1' target=\"_blank\">\n<img alt='Created in deepnote.com' style='display:inline;max-height:16px;margin:0px;margin-right:7.5px;' src='data:image/svg+xml;base64,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' > </img>\nCreated in <span style='font-weight:600;margin-left:4px;'>Deepnote</span></a>",
   "metadata": {
    "tags": [],
    "created_in_deepnote_cell": true,
    "deepnote_cell_type": "markdown"
   }
  }
 ],
 "nbformat": 4,
 "nbformat_minor": 2,
 "metadata": {
  "orig_nbformat": 2,
  "deepnote": {
   "is_reactive": false
  },
  "deepnote_notebook_id": "44795ff9-880b-41c1-8df6-bf2e204117e1",
  "deepnote_execution_queue": []
 }
}