{
 "cells": [
  {
   "cell_type": "code",
   "metadata": {
    "cell_id": "191d0d7c-5638-4567-b54c-b3a9cafd3271",
    "deepnote_to_be_reexecuted": false,
    "source_hash": "9571037e",
    "execution_start": 1647321078740,
    "execution_millis": 1412,
    "deepnote_cell_type": "code",
    "deepnote_cell_height": 154.15625
   },
   "source": "import numpy as np\nimport pandas as pd\nimport requests\nimport json\nfrom sklearn.neighbors import BallTree, DistanceMetric",
   "outputs": [],
   "execution_count": null
  },
  {
   "cell_type": "markdown",
   "source": "### Listings Data",
   "metadata": {
    "cell_id": "00001-e2da861c-aa72-41aa-930f-8f542d1a031e",
    "deepnote_cell_type": "markdown",
    "deepnote_cell_height": 62.15625
   }
  },
  {
   "cell_type": "code",
   "metadata": {
    "cell_id": "00002-9a9aed46-0fa4-432b-9f7a-a7bfe74e998c",
    "deepnote_to_be_reexecuted": false,
    "source_hash": "ee87e644",
    "execution_start": 1647321080166,
    "execution_millis": 1636,
    "deepnote_cell_type": "code",
    "deepnote_cell_height": 625.46875,
    "deepnote_output_heights": [
     383.4375
    ]
   },
   "source": "listings = pd.read_csv('SG_cleaned_listings.csv')\nlistings",
   "outputs": [
    {
     "output_type": "execute_result",
     "execution_count": 2,
     "data": {
      "application/vnd.deepnote.dataframe.v3+json": {
       "column_count": 45,
       "row_count": 3145,
       "columns": [
        {
         "name": "id",
         "dtype": "int64",
         "stats": {
          "unique_count": 3145,
          "nan_count": 0,
          "min": "50646",
          "max": "53927825",
          "histogram": [
           {
            "bin_start": 50646,
            "bin_end": 5438363.9,
            "count": 153
           },
           {
            "bin_start": 5438363.9,
            "bin_end": 10826081.8,
            "count": 257
           },
           {
            "bin_start": 10826081.8,
            "bin_end": 16213799.700000001,
            "count": 272
           },
           {
            "bin_start": 16213799.700000001,
            "bin_end": 21601517.6,
            "count": 268
           },
           {
            "bin_start": 21601517.6,
            "bin_end": 26989235.5,
            "count": 347
           },
           {
            "bin_start": 26989235.5,
            "bin_end": 32376953.400000002,
            "count": 280
           },
           {
            "bin_start": 32376953.400000002,
            "bin_end": 37764671.300000004,
            "count": 334
           },
           {
            "bin_start": 37764671.300000004,
            "bin_end": 43152389.2,
            "count": 551
           },
           {
            "bin_start": 43152389.2,
            "bin_end": 48540107.1,
            "count": 323
           },
           {
            "bin_start": 48540107.1,
            "bin_end": 53927825,
            "count": 360
           }
          ]
         }
        },
        {
         "name": "name",
         "dtype": "object",
         "stats": {
          "unique_count": 2879,
          "nan_count": 0,
          "categories": [
           {
            "name": "Novena_Serviced Apartment Premium OneBedroomStudio",
            "count": 10
           },
           {
            "name": "Single Capsule For 1",
            "count": 7
           },
           {
            "name": "2877 others",
            "count": 3128
           }
          ]
         }
        },
        {
         "name": "description",
         "dtype": "object",
         "stats": {
          "unique_count": 2422,
          "nan_count": 0,
          "categories": [
           {
            "name": "No Data",
            "count": 90
           },
           {
            "name": "A paradise that says you deserve the best in life. Located minutes from Singapore's city centre in a quiet suburb that is both convenient and charming. Surrounded by open spaces and greenery as well as top-notch medical centres, well-established schools and irresistible entertainment options, all just a short walk or ride away.   The space  A beautiful and spacious apartment equipped with the following room amenities:  - Designer bed frames with Queen Size Mattress and quality linens - Designer dining table with beautiful chairs - Kitchen with full cooking utensils, Rice Cooker, Gas/Induction Stove - Refrigerator and Freezer - Comprehensive Cooking Utensils & Cutlery - Hair Dryer - Iron and Ironing Board - Washing Machine cum Dryer - Air-Conditioning with Individual Controller   Guest access  Arrived SG please text us one hour in advance   - CHECK IN and CHECK OUT TIME Our chec",
            "count": 43
           },
           {
            "name": "2420 others",
            "count": 3012
           }
          ]
         }
        },
        {
         "name": "neighborhood_overview",
         "dtype": "object",
         "stats": {
          "unique_count": 1074,
          "nan_count": 0,
          "categories": [
           {
            "name": "No Data",
            "count": 1050
           },
           {
            "name": "- Apartment is within lavender neighbourhood (horne rd, king george's ave, penhas rd, hamilton rd, cavan rd, french rd), an area of pre-war historical buildings for residential. - Access to TWO MRT lines: 4-5 mins walk from Lavender MRT (green line), or 8-9 mins walk from farrer park MRT (purple line) - Good location! proximity to everything! 24-hours food & drinks outlets - 2 mins walk to Amenities (24-hr food centres / Supermarket such as Mustafa, etc) - 2 mins walk to Jalan Besar Public Swimming Pool, Olympic size. ($1/entry for all) & Gymnasium ($1/entry) - 4 mins walk to lavender MRT, 1-3 stations away from Bugis, City Hall, Raffles Place, Promenade, Dhoby Gaut. - 4 mins walk to major roads bus stops (lavender street, Victoria street, Jalan besar) - 10 to 15 mins bus ride to CBD areas for work, boat quay & clarke quay for night entertainments, etc.",
            "count": 87
           },
           {
            "name": "1072 others",
            "count": 2008
           }
          ]
         }
        },
        {
         "name": "host_since",
         "dtype": "object",
         "stats": {
          "unique_count": 799,
          "nan_count": 0,
          "categories": [
           {
            "name": "2017-07-05",
            "count": 179
           },
           {
            "name": "2017-10-27",
            "count": 160
           },
           {
            "name": "797 others",
            "count": 2806
           }
          ]
         }
        },
        {
         "name": "host_response_time",
         "dtype": "object",
         "stats": {
          "unique_count": 5,
          "nan_count": 0,
          "categories": [
           {
            "name": "within a few hours",
            "count": 1183
           },
           {
            "name": "within an hour",
            "count": 636
           },
           {
            "name": "3 others",
            "count": 1326
           }
          ]
         }
        },
        {
         "name": "host_response_rate",
         "dtype": "float64",
         "stats": {
          "unique_count": 65,
          "nan_count": 404,
          "min": "0.0",
          "max": "100.0",
          "histogram": [
           {
            "bin_start": 0,
            "bin_end": 10,
            "count": 327
           },
           {
            "bin_start": 10,
            "bin_end": 20,
            "count": 18
           },
           {
            "bin_start": 20,
            "bin_end": 30,
            "count": 40
           },
           {
            "bin_start": 30,
            "bin_end": 40,
            "count": 19
           },
           {
            "bin_start": 40,
            "bin_end": 50,
            "count": 126
           },
           {
            "bin_start": 50,
            "bin_end": 60,
            "count": 60
           },
           {
            "bin_start": 60,
            "bin_end": 70,
            "count": 38
           },
           {
            "bin_start": 70,
            "bin_end": 80,
            "count": 78
           },
           {
            "bin_start": 80,
            "bin_end": 90,
            "count": 302
           },
           {
            "bin_start": 90,
            "bin_end": 100,
            "count": 1733
           }
          ]
         }
        },
        {
         "name": "host_acceptance_rate",
         "dtype": "float64",
         "stats": {
          "unique_count": 72,
          "nan_count": 645,
          "min": "0.0",
          "max": "100.0",
          "histogram": [
           {
            "bin_start": 0,
            "bin_end": 10,
            "count": 321
           },
           {
            "bin_start": 10,
            "bin_end": 20,
            "count": 70
           },
           {
            "bin_start": 20,
            "bin_end": 30,
            "count": 61
           },
           {
            "bin_start": 30,
            "bin_end": 40,
            "count": 352
           },
           {
            "bin_start": 40,
            "bin_end": 50,
            "count": 206
           },
           {
            "bin_start": 50,
            "bin_end": 60,
            "count": 87
           },
           {
            "bin_start": 60,
            "bin_end": 70,
            "count": 70
           },
           {
            "bin_start": 70,
            "bin_end": 80,
            "count": 154
           },
           {
            "bin_start": 80,
            "bin_end": 90,
            "count": 347
           },
           {
            "bin_start": 90,
            "bin_end": 100,
            "count": 832
           }
          ]
         }
        },
        {
         "name": "host_is_superhost",
         "dtype": "object",
         "stats": {
          "unique_count": 2,
          "nan_count": 0,
          "categories": [
           {
            "name": "f",
            "count": 2498
           },
           {
            "name": "t",
            "count": 647
           }
          ]
         }
        },
        {
         "name": "host_listings_count",
         "dtype": "float64",
         "stats": {
          "unique_count": 52,
          "nan_count": 0,
          "min": "0.0",
          "max": "467.0",
          "histogram": [
           {
            "bin_start": 0,
            "bin_end": 46.7,
            "count": 2077
           },
           {
            "bin_start": 46.7,
            "bin_end": 93.4,
            "count": 425
           },
           {
            "bin_start": 93.4,
            "bin_end": 140.10000000000002,
            "count": 202
           },
           {
            "bin_start": 140.10000000000002,
            "bin_end": 186.8,
            "count": 7
           },
           {
            "bin_start": 186.8,
            "bin_end": 233.5,
            "count": 160
           },
           {
            "bin_start": 233.5,
            "bin_end": 280.20000000000005,
            "count": 96
           },
           {
            "bin_start": 280.20000000000005,
            "bin_end": 326.90000000000003,
            "count": 0
           },
           {
            "bin_start": 326.90000000000003,
            "bin_end": 373.6,
            "count": 0
           },
           {
            "bin_start": 373.6,
            "bin_end": 420.3,
            "count": 0
           },
           {
            "bin_start": 420.3,
            "bin_end": 467,
            "count": 178
           }
          ]
         }
        },
        {
         "name": "host_has_profile_pic",
         "dtype": "object",
         "stats": {
          "unique_count": 2,
          "nan_count": 0,
          "categories": [
           {
            "name": "t",
            "count": 3132
           },
           {
            "name": "f",
            "count": 13
           }
          ]
         }
        },
        {
         "name": "host_identity_verified",
         "dtype": "object",
         "stats": {
          "unique_count": 2,
          "nan_count": 0,
          "categories": [
           {
            "name": "t",
            "count": 2583
           },
           {
            "name": "f",
            "count": 562
           }
          ]
         }
        },
        {
         "name": "neighbourhood",
         "dtype": "object",
         "stats": {
          "unique_count": 52,
          "nan_count": 0,
          "categories": [
           {
            "name": "Singapore, Singapore",
            "count": 1967
           },
           {
            "name": "No Data",
            "count": 1050
           },
           {
            "name": "50 others",
            "count": 128
           }
          ]
         }
        },
        {
         "name": "neighbourhood_cleansed",
         "dtype": "object",
         "stats": {
          "unique_count": 43,
          "nan_count": 0,
          "categories": [
           {
            "name": "Kallang",
            "count": 375
           },
           {
            "name": "Geylang",
            "count": 321
           },
           {
            "name": "41 others",
            "count": 2449
           }
          ]
         }
        },
        {
         "name": "neighbourhood_group_cleansed",
         "dtype": "object",
         "stats": {
          "unique_count": 5,
          "nan_count": 0,
          "categories": [
           {
            "name": "Central Region",
            "count": 2444
           },
           {
            "name": "West Region",
            "count": 247
           },
           {
            "name": "3 others",
            "count": 454
           }
          ]
         }
        },
        {
         "name": "latitude",
         "dtype": "float64",
         "stats": {
          "unique_count": 2488,
          "nan_count": 0,
          "min": "1.24535",
          "max": "1.45328",
          "histogram": [
           {
            "bin_start": 1.24535,
            "bin_end": 1.266143,
            "count": 21
           },
           {
            "bin_start": 1.266143,
            "bin_end": 1.2869359999999999,
            "count": 570
           },
           {
            "bin_start": 1.2869359999999999,
            "bin_end": 1.307729,
            "count": 840
           },
           {
            "bin_start": 1.307729,
            "bin_end": 1.328522,
            "count": 1154
           },
           {
            "bin_start": 1.328522,
            "bin_end": 1.3493149999999998,
            "count": 225
           },
           {
            "bin_start": 1.3493149999999998,
            "bin_end": 1.3701079999999999,
            "count": 123
           },
           {
            "bin_start": 1.3701079999999999,
            "bin_end": 1.390901,
            "count": 89
           },
           {
            "bin_start": 1.390901,
            "bin_end": 1.411694,
            "count": 39
           },
           {
            "bin_start": 1.411694,
            "bin_end": 1.4324869999999998,
            "count": 34
           },
           {
            "bin_start": 1.4324869999999998,
            "bin_end": 1.45328,
            "count": 50
           }
          ]
         }
        },
        {
         "name": "longitude",
         "dtype": "float64",
         "stats": {
          "unique_count": 2588,
          "nan_count": 0,
          "min": "103.64828",
          "max": "103.96966",
          "histogram": [
           {
            "bin_start": 103.64828,
            "bin_end": 103.680418,
            "count": 2
           },
           {
            "bin_start": 103.680418,
            "bin_end": 103.712556,
            "count": 35
           },
           {
            "bin_start": 103.712556,
            "bin_end": 103.744694,
            "count": 88
           },
           {
            "bin_start": 103.744694,
            "bin_end": 103.776832,
            "count": 147
           },
           {
            "bin_start": 103.776832,
            "bin_end": 103.80897,
            "count": 196
           },
           {
            "bin_start": 103.80897,
            "bin_end": 103.841108,
            "count": 558
           },
           {
            "bin_start": 103.841108,
            "bin_end": 103.87324600000001,
            "count": 1415
           },
           {
            "bin_start": 103.87324600000001,
            "bin_end": 103.905384,
            "count": 463
           },
           {
            "bin_start": 103.905384,
            "bin_end": 103.937522,
            "count": 173
           },
           {
            "bin_start": 103.937522,
            "bin_end": 103.96966,
            "count": 68
           }
          ]
         }
        },
        {
         "name": "property_type",
         "dtype": "object",
         "stats": {
          "unique_count": 47,
          "nan_count": 0,
          "categories": [
           {
            "name": "Private room in rental unit",
            "count": 666
           },
           {
            "name": "Entire condominium (condo)",
            "count": 566
           },
           {
            "name": "45 others",
            "count": 1913
           }
          ]
         }
        },
        {
         "name": "room_type",
         "dtype": "object",
         "stats": {
          "unique_count": 4,
          "nan_count": 0,
          "categories": [
           {
            "name": "Private room",
            "count": 1467
           },
           {
            "name": "Entire home/apt",
            "count": 1394
           },
           {
            "name": "2 others",
            "count": 284
           }
          ]
         }
        },
        {
         "name": "accommodates",
         "dtype": "int64",
         "stats": {
          "unique_count": 15,
          "nan_count": 0,
          "min": "1",
          "max": "16",
          "histogram": [
           {
            "bin_start": 1,
            "bin_end": 2.5,
            "count": 1901
           },
           {
            "bin_start": 2.5,
            "bin_end": 4,
            "count": 278
           },
           {
            "bin_start": 4,
            "bin_end": 5.5,
            "count": 544
           },
           {
            "bin_start": 5.5,
            "bin_end": 7,
            "count": 237
           },
           {
            "bin_start": 7,
            "bin_end": 8.5,
            "count": 105
           },
           {
            "bin_start": 8.5,
            "bin_end": 10,
            "count": 13
           },
           {
            "bin_start": 10,
            "bin_end": 11.5,
            "count": 19
           },
           {
            "bin_start": 11.5,
            "bin_end": 13,
            "count": 13
           },
           {
            "bin_start": 13,
            "bin_end": 14.5,
            "count": 4
           },
           {
            "bin_start": 14.5,
            "bin_end": 16,
            "count": 31
           }
          ]
         }
        },
        {
         "name": "bathrooms_text",
         "dtype": "object",
         "stats": {
          "unique_count": 42,
          "nan_count": 0,
          "categories": [
           {
            "name": "1 bath",
            "count": 917
           },
           {
            "name": "1 private bath",
            "count": 563
           },
           {
            "name": "40 others",
            "count": 1665
           }
          ]
         }
        },
        {
         "name": "bedrooms",
         "dtype": "int64",
         "stats": {
          "unique_count": 7,
          "nan_count": 0,
          "min": "1",
          "max": "8",
          "histogram": [
           {
            "bin_start": 1,
            "bin_end": 1.7,
            "count": 2396
           },
           {
            "bin_start": 1.7,
            "bin_end": 2.4,
            "count": 479
           },
           {
            "bin_start": 2.4,
            "bin_end": 3.0999999999999996,
            "count": 236
           },
           {
            "bin_start": 3.0999999999999996,
            "bin_end": 3.8,
            "count": 0
           },
           {
            "bin_start": 3.8,
            "bin_end": 4.5,
            "count": 26
           },
           {
            "bin_start": 4.5,
            "bin_end": 5.199999999999999,
            "count": 5
           },
           {
            "bin_start": 5.199999999999999,
            "bin_end": 5.8999999999999995,
            "count": 0
           },
           {
            "bin_start": 5.8999999999999995,
            "bin_end": 6.6,
            "count": 2
           },
           {
            "bin_start": 6.6,
            "bin_end": 7.3,
            "count": 0
           },
           {
            "bin_start": 7.3,
            "bin_end": 8,
            "count": 1
           }
          ]
         }
        },
        {
         "name": "beds",
         "dtype": "int64",
         "stats": {
          "unique_count": 19,
          "nan_count": 0,
          "min": "1",
          "max": "46",
          "histogram": [
           {
            "bin_start": 1,
            "bin_end": 5.5,
            "count": 3018
           },
           {
            "bin_start": 5.5,
            "bin_end": 10,
            "count": 67
           },
           {
            "bin_start": 10,
            "bin_end": 14.5,
            "count": 36
           },
           {
            "bin_start": 14.5,
            "bin_end": 19,
            "count": 19
           },
           {
            "bin_start": 19,
            "bin_end": 23.5,
            "count": 1
           },
           {
            "bin_start": 23.5,
            "bin_end": 28,
            "count": 0
           },
           {
            "bin_start": 28,
            "bin_end": 32.5,
            "count": 2
           },
           {
            "bin_start": 32.5,
            "bin_end": 37,
            "count": 1
           },
           {
            "bin_start": 37,
            "bin_end": 41.5,
            "count": 0
           },
           {
            "bin_start": 41.5,
            "bin_end": 46,
            "count": 1
           }
          ]
         }
        },
        {
         "name": "amenities",
         "dtype": "object",
         "stats": {
          "unique_count": 2437,
          "nan_count": 0,
          "categories": [
           {
            "name": "[\"Hangers\", \"Bed linens\", \"Cooking basics\", \"Washer\", \"Single level home\", \"Oven\", \"Dedicated workspace\", \"Pool\", \"Long term stays allowed\", \"Private entrance\", \"Lock on bedroom door\", \"Refrigerator\", \"Dryer\", \"Microwave\", \"Free street parking\", \"Wifi\", \"Luggage dropoff allowed\", \"Extra pillows and blankets\", \"Keypad\", \"Heating\", \"Paid parking off premises\", \"Hot water\", \"Stove\", \"Iron\", \"Essentials\", \"Kitchen\", \"Air conditioning\", \"Dishes and silverware\"]",
            "count": 46
           },
           {
            "name": "[\"Long term stays allowed\"]",
            "count": 20
           },
           {
            "name": "2435 others",
            "count": 3079
           }
          ]
         }
        },
        {
         "name": "price",
         "dtype": "float64",
         "stats": {
          "unique_count": 521,
          "nan_count": 0,
          "min": "13.0",
          "max": "10286.0",
          "histogram": [
           {
            "bin_start": 13,
            "bin_end": 1040.3,
            "count": 3108
           },
           {
            "bin_start": 1040.3,
            "bin_end": 2067.6,
            "count": 21
           },
           {
            "bin_start": 2067.6,
            "bin_end": 3094.8999999999996,
            "count": 4
           },
           {
            "bin_start": 3094.8999999999996,
            "bin_end": 4122.2,
            "count": 6
           },
           {
            "bin_start": 4122.2,
            "bin_end": 5149.5,
            "count": 2
           },
           {
            "bin_start": 5149.5,
            "bin_end": 6176.799999999999,
            "count": 0
           },
           {
            "bin_start": 6176.799999999999,
            "bin_end": 7204.099999999999,
            "count": 1
           },
           {
            "bin_start": 7204.099999999999,
            "bin_end": 8231.4,
            "count": 1
           },
           {
            "bin_start": 8231.4,
            "bin_end": 9258.699999999999,
            "count": 1
           },
           {
            "bin_start": 9258.699999999999,
            "bin_end": 10286,
            "count": 1
           }
          ]
         }
        },
        {
         "name": "minimum_nights",
         "dtype": "int64",
         "stats": {
          "unique_count": 66,
          "nan_count": 0,
          "min": "1",
          "max": "1000",
          "histogram": [
           {
            "bin_start": 1,
            "bin_end": 100.9,
            "count": 2991
           },
           {
            "bin_start": 100.9,
            "bin_end": 200.8,
            "count": 120
           },
           {
            "bin_start": 200.8,
            "bin_end": 300.70000000000005,
            "count": 2
           },
           {
            "bin_start": 300.70000000000005,
            "bin_end": 400.6,
            "count": 28
           },
           {
            "bin_start": 400.6,
            "bin_end": 500.5,
            "count": 0
           },
           {
            "bin_start": 500.5,
            "bin_end": 600.4000000000001,
            "count": 0
           },
           {
            "bin_start": 600.4000000000001,
            "bin_end": 700.3000000000001,
            "count": 0
           },
           {
            "bin_start": 700.3000000000001,
            "bin_end": 800.2,
            "count": 0
           },
           {
            "bin_start": 800.2,
            "bin_end": 900.1,
            "count": 1
           },
           {
            "bin_start": 900.1,
            "bin_end": 1000,
            "count": 3
           }
          ]
         }
        },
        {
         "name": "maximum_nights",
         "dtype": "int64",
         "stats": {
          "unique_count": 74,
          "nan_count": 0,
          "min": "1",
          "max": "100000",
          "histogram": [
           {
            "bin_start": 1,
            "bin_end": 10000.9,
            "count": 3144
           },
           {
            "bin_start": 10000.9,
            "bin_end": 20000.8,
            "count": 0
           },
           {
            "bin_start": 20000.8,
            "bin_end": 30000.699999999997,
            "count": 0
           },
           {
            "bin_start": 30000.699999999997,
            "bin_end": 40000.6,
            "count": 0
           },
           {
            "bin_start": 40000.6,
            "bin_end": 50000.5,
            "count": 0
           },
           {
            "bin_start": 50000.5,
            "bin_end": 60000.399999999994,
            "count": 0
           },
           {
            "bin_start": 60000.399999999994,
            "bin_end": 70000.3,
            "count": 0
           },
           {
            "bin_start": 70000.3,
            "bin_end": 80000.2,
            "count": 0
           },
           {
            "bin_start": 80000.2,
            "bin_end": 90000.09999999999,
            "count": 0
           },
           {
            "bin_start": 90000.09999999999,
            "bin_end": 100000,
            "count": 1
           }
          ]
         }
        },
        {
         "name": "has_availability",
         "dtype": "object",
         "stats": {
          "unique_count": 2,
          "nan_count": 0,
          "categories": [
           {
            "name": "t",
            "count": 2998
           },
           {
            "name": "f",
            "count": 147
           }
          ]
         }
        },
        {
         "name": "availability_30",
         "dtype": "int64",
         "stats": {
          "unique_count": 31,
          "nan_count": 0,
          "min": "0",
          "max": "30",
          "histogram": [
           {
            "bin_start": 0,
            "bin_end": 3,
            "count": 1270
           },
           {
            "bin_start": 3,
            "bin_end": 6,
            "count": 87
           },
           {
            "bin_start": 6,
            "bin_end": 9,
            "count": 89
           },
           {
            "bin_start": 9,
            "bin_end": 12,
            "count": 91
           },
           {
            "bin_start": 12,
            "bin_end": 15,
            "count": 83
           },
           {
            "bin_start": 15,
            "bin_end": 18,
            "count": 67
           },
           {
            "bin_start": 18,
            "bin_end": 21,
            "count": 85
           },
           {
            "bin_start": 21,
            "bin_end": 24,
            "count": 169
           },
           {
            "bin_start": 24,
            "bin_end": 27,
            "count": 224
           },
           {
            "bin_start": 27,
            "bin_end": 30,
            "count": 980
           }
          ]
         }
        },
        {
         "name": "availability_60",
         "dtype": "int64",
         "stats": {
          "unique_count": 61,
          "nan_count": 0,
          "min": "0",
          "max": "60",
          "histogram": [
           {
            "bin_start": 0,
            "bin_end": 6,
            "count": 903
           },
           {
            "bin_start": 6,
            "bin_end": 12,
            "count": 64
           },
           {
            "bin_start": 12,
            "bin_end": 18,
            "count": 82
           },
           {
            "bin_start": 18,
            "bin_end": 24,
            "count": 227
           },
           {
            "bin_start": 24,
            "bin_end": 30,
            "count": 143
           },
           {
            "bin_start": 30,
            "bin_end": 36,
            "count": 75
           },
           {
            "bin_start": 36,
            "bin_end": 42,
            "count": 114
           },
           {
            "bin_start": 42,
            "bin_end": 48,
            "count": 119
           },
           {
            "bin_start": 48,
            "bin_end": 54,
            "count": 233
           },
           {
            "bin_start": 54,
            "bin_end": 60,
            "count": 1185
           }
          ]
         }
        },
        {
         "name": "availability_90",
         "dtype": "int64",
         "stats": {
          "unique_count": 91,
          "nan_count": 0,
          "min": "0",
          "max": "90",
          "histogram": [
           {
            "bin_start": 0,
            "bin_end": 9,
            "count": 801
           },
           {
            "bin_start": 9,
            "bin_end": 18,
            "count": 47
           },
           {
            "bin_start": 18,
            "bin_end": 27,
            "count": 102
           },
           {
            "bin_start": 27,
            "bin_end": 36,
            "count": 52
           },
           {
            "bin_start": 36,
            "bin_end": 45,
            "count": 71
           },
           {
            "bin_start": 45,
            "bin_end": 54,
            "count": 239
           },
           {
            "bin_start": 54,
            "bin_end": 63,
            "count": 171
           },
           {
            "bin_start": 63,
            "bin_end": 72,
            "count": 145
           },
           {
            "bin_start": 72,
            "bin_end": 81,
            "count": 184
           },
           {
            "bin_start": 81,
            "bin_end": 90,
            "count": 1333
           }
          ]
         }
        },
        {
         "name": "availability_365",
         "dtype": "int64"
        },
        {
         "name": "number_of_reviews",
         "dtype": "int64"
        },
        {
         "name": "number_of_reviews_ltm",
         "dtype": "int64"
        },
        {
         "name": "number_of_reviews_l30d",
         "dtype": "int64"
        },
        {
         "name": "review_scores_rating",
         "dtype": "float64"
        },
        {
         "name": "review_scores_accuracy",
         "dtype": "float64"
        },
        {
         "name": "review_scores_cleanliness",
         "dtype": "float64"
        },
        {
         "name": "review_scores_checkin",
         "dtype": "float64"
        },
        {
         "name": "review_scores_communication",
         "dtype": "float64"
        },
        {
         "name": "review_scores_location",
         "dtype": "float64"
        },
        {
         "name": "review_scores_value",
         "dtype": "float64"
        },
        {
         "name": "instant_bookable",
         "dtype": "object"
        },
        {
         "name": "calculated_host_listings_count",
         "dtype": "int64"
        },
        {
         "name": "amenities_str",
         "dtype": "object"
        },
        {
         "name": "_deepnote_index_column",
         "dtype": "int64"
        }
       ],
       "rows": [
        {
         "id": 50646,
         "name": "Pleasant Room along Bukit Timah",
         "description": "Fully furnished bedroom with a nice view on the 10th floor of a newly built private condominium on …",
         "neighborhood_overview": "The serenity & quiet surrounding makes it an ideal place to come back to after work / play. Lovely …",
         "host_since": "2010-09-08",
         "host_response_time": "No Data",
         "host_response_rate": "nan",
         "host_acceptance_rate": "nan",
         "host_is_superhost": "f",
         "host_listings_count": 1,
         "host_has_profile_pic": "t",
         "host_identity_verified": "t",
         "neighbourhood": "Singapore, Singapore",
         "neighbourhood_cleansed": "Bukit Timah",
         "neighbourhood_group_cleansed": "Central Region",
         "latitude": 1.33432,
         "longitude": 103.78521,
         "property_type": "Private room in rental unit",
         "room_type": "Private room",
         "accommodates": 2,
         "bathrooms_text": "1 bath",
         "bedrooms": 1,
         "beds": 1,
         "amenities": "[\"Shampoo\", \"Essentials\", \"Kitchen\", \"Long term stays allowed\", \"Washer\", \"Cable TV\", \"Elevator\", \"…",
         "price": 80,
         "minimum_nights": 90,
         "maximum_nights": 730,
         "has_availability": "t",
         "availability_30": 30,
         "availability_60": 60,
         "availability_90": 90,
         "availability_365": 365,
         "number_of_reviews": 18,
         "number_of_reviews_ltm": 0,
         "number_of_reviews_l30d": 0,
         "review_scores_rating": 4.56,
         "review_scores_accuracy": 4.72,
         "review_scores_cleanliness": 4.78,
         "review_scores_checkin": 4.78,
         "review_scores_communication": 4.94,
         "review_scores_location": 4.72,
         "review_scores_value": 4.5,
         "instant_bookable": "f",
         "calculated_host_listings_count": 1,
         "amenities_str": "\"Shampoo\", \"Essentials\", \"Kitchen\", \"Long term stays allowed\", \"Washer\", \"Cable TV\", \"Elevator\", \"W…",
         "_deepnote_index_column": 0
        },
        {
         "id": 71609,
         "name": "Ensuite Room (Room 1 & 2) near EXPO",
         "description": "For 3 rooms.Book room 1&2 and room 4   The space  Landed Homestay Room for Rental. Between Simei an…",
         "neighborhood_overview": "No Data",
         "host_since": "2011-01-29",
         "host_response_time": "within a day",
         "host_response_rate": 100,
         "host_acceptance_rate": "nan",
         "host_is_superhost": "f",
         "host_listings_count": 8,
         "host_has_profile_pic": "t",
         "host_identity_verified": "t",
         "neighbourhood": "No Data",
         "neighbourhood_cleansed": "Tampines",
         "neighbourhood_group_cleansed": "East Region",
         "latitude": 1.34537,
         "longitude": 103.95887,
         "property_type": "Private room in villa",
         "room_type": "Private room",
         "accommodates": 6,
         "bathrooms_text": "1 private bath",
         "bedrooms": 2,
         "beds": 3,
         "amenities": "[\"Hangers\", \"Cooking basics\", \"Washer\", \"Hair dryer\", \"Fire pit\", \"Shared hot tub\", \"Outdoor furnit…",
         "price": 179,
         "minimum_nights": 92,
         "maximum_nights": 1125,
         "has_availability": "t",
         "availability_30": 30,
         "availability_60": 60,
         "availability_90": 90,
         "availability_365": 365,
         "number_of_reviews": 20,
         "number_of_reviews_ltm": 0,
         "number_of_reviews_l30d": 0,
         "review_scores_rating": 4.44,
         "review_scores_accuracy": 4.37,
         "review_scores_cleanliness": 4,
         "review_scores_checkin": 4.63,
         "review_scores_communication": 4.78,
         "review_scores_location": 4.26,
         "review_scores_value": 4.32,
         "instant_bookable": "f",
         "calculated_host_listings_count": 5,
         "amenities_str": "\"Hangers\", \"Cooking basics\", \"Washer\", \"Hair dryer\", \"Fire pit\", \"Shared hot tub\", \"Outdoor furnitu…",
         "_deepnote_index_column": 1
        },
        {
         "id": 71896,
         "name": "B&B  Room 1 near Airport & EXPO",
         "description": " The space  Vocational Stay Deluxe Bedroom in Singapore.(Near Airport)    Located Between    - Sime…",
         "neighborhood_overview": "No Data",
         "host_since": "2011-01-29",
         "host_response_time": "within a day",
         "host_response_rate": 100,
         "host_acceptance_rate": "nan",
         "host_is_superhost": "f",
         "host_listings_count": 8,
         "host_has_profile_pic": "t",
         "host_identity_verified": "t",
         "neighbourhood": "No Data",
         "neighbourhood_cleansed": "Tampines",
         "neighbourhood_group_cleansed": "East Region",
         "latitude": 1.34754,
         "longitude": 103.95958,
         "property_type": "Private room in residential home",
         "room_type": "Private room",
         "accommodates": 3,
         "bathrooms_text": "Shared half-bath",
         "bedrooms": 1,
         "beds": 1,
         "amenities": "[\"Coffee maker\", \"Cooking basics\", \"Washer\", \"Hair dryer\", \"Fire pit\", \"Shared hot tub\", \"Outdoor f…",
         "price": 82,
         "minimum_nights": 92,
         "maximum_nights": 1125,
         "has_availability": "t",
         "availability_30": 30,
         "availability_60": 60,
         "availability_90": 90,
         "availability_365": 365,
         "number_of_reviews": 24,
         "number_of_reviews_ltm": 0,
         "number_of_reviews_l30d": 0,
         "review_scores_rating": 4.16,
         "review_scores_accuracy": 4.22,
         "review_scores_cleanliness": 4.09,
         "review_scores_checkin": 4.43,
         "review_scores_communication": 4.43,
         "review_scores_location": 4.17,
         "review_scores_value": 4.04,
         "instant_bookable": "f",
         "calculated_host_listings_count": 5,
         "amenities_str": "\"Coffee maker\", \"Cooking basics\", \"Washer\", \"Hair dryer\", \"Fire pit\", \"Shared hot tub\", \"Outdoor fu…",
         "_deepnote_index_column": 2
        },
        {
         "id": 71903,
         "name": "Room 2-near Airport & EXPO",
         "description": "Like your own home, 24hrs access.   The space  Vocational Stay Deluxe Bedroom in Singapore.(Near Ai…",
         "neighborhood_overview": "Quiet and view of the playground with exercise tracks with access to neighbourhood Simwi Estate.",
         "host_since": "2011-01-29",
         "host_response_time": "within a day",
         "host_response_rate": 100,
         "host_acceptance_rate": "nan",
         "host_is_superhost": "f",
         "host_listings_count": 8,
         "host_has_profile_pic": "t",
         "host_identity_verified": "t",
         "neighbourhood": "Singapore, Singapore",
         "neighbourhood_cleansed": "Tampines",
         "neighbourhood_group_cleansed": "East Region",
         "latitude": 1.34531,
         "longitude": 103.961,
         "property_type": "Private room in residential home",
         "room_type": "Private room",
         "accommodates": 3,
         "bathrooms_text": "Shared half-bath",
         "bedrooms": 1,
         "beds": 2,
         "amenities": "[\"Coffee maker\", \"Cooking basics\", \"Washer\", \"Hair dryer\", \"Fire pit\", \"Shared hot tub\", \"Outdoor f…",
         "price": 82,
         "minimum_nights": 92,
         "maximum_nights": 1125,
         "has_availability": "t",
         "availability_30": 30,
         "availability_60": 60,
         "availability_90": 90,
         "availability_365": 365,
         "number_of_reviews": 47,
         "number_of_reviews_ltm": 0,
         "number_of_reviews_l30d": 0,
         "review_scores_rating": 4.41,
         "review_scores_accuracy": 4.39,
         "review_scores_cleanliness": 4.52,
         "review_scores_checkin": 4.63,
         "review_scores_communication": 4.64,
         "review_scores_location": 4.5,
         "review_scores_value": 4.36,
         "instant_bookable": "f",
         "calculated_host_listings_count": 5,
         "amenities_str": "\"Coffee maker\", \"Cooking basics\", \"Washer\", \"Hair dryer\", \"Fire pit\", \"Shared hot tub\", \"Outdoor fu…",
         "_deepnote_index_column": 3
        },
        {
         "id": 275343,
         "name": "Conveniently located City Room!(1,2,3,4,5,6,7,8)",
         "description": "Awesome location and host  Room near INSEAD, NTU, SMU, NUS   The space  Centrally located between 2…",
         "neighborhood_overview": "No Data",
         "host_since": "2011-11-24",
         "host_response_time": "within a few hours",
         "host_response_rate": 87,
         "host_acceptance_rate": 77,
         "host_is_superhost": "f",
         "host_listings_count": 16,
         "host_has_profile_pic": "t",
         "host_identity_verified": "t",
         "neighbourhood": "No Data",
         "neighbourhood_cleansed": "Bukit Merah",
         "neighbourhood_group_cleansed": "Central Region",
         "latitude": 1.29015,
         "longitude": 103.80814,
         "property_type": "Private room in rental unit",
         "room_type": "Private room",
         "accommodates": 1,
         "bathrooms_text": "No Data",
         "bedrooms": 1,
         "beds": 1,
         "amenities": "[\"Shampoo\", \"Essentials\", \"Keypad\", \"Kitchen\", \"Long term stays allowed\", \"Washer\", \"Hair dryer\", \"…",
         "price": 52,
         "minimum_nights": 14,
         "maximum_nights": 999,
         "has_availability": "t",
         "availability_30": 6,
         "availability_60": 36,
         "availability_90": 66,
         "availability_365": 341,
         "number_of_reviews": 20,
         "number_of_reviews_ltm": 0,
         "number_of_reviews_l30d": 0,
         "review_scores_rating": 4.39,
         "review_scores_accuracy": 4.12,
         "review_scores_cleanliness": 4.24,
         "review_scores_checkin": 4.53,
         "review_scores_communication": 4.47,
         "review_scores_location": 4.53,
         "review_scores_value": 4.59,
         "instant_bookable": "f",
         "calculated_host_listings_count": 16,
         "amenities_str": "\"Shampoo\", \"Essentials\", \"Keypad\", \"Kitchen\", \"Long term stays allowed\", \"Washer\", \"Hair dryer\", \"L…",
         "_deepnote_index_column": 4
        },
        {
         "id": 275344,
         "name": "15 mins to Outram MRT Single Room (B)",
         "description": "Lovely home for the special guest !   The space  Great Location, Great rooms, Great People!  Please…",
         "neighborhood_overview": "Bus stop  Food center  Supermarket",
         "host_since": "2011-11-24",
         "host_response_time": "within a few hours",
         "host_response_rate": 87,
         "host_acceptance_rate": 77,
         "host_is_superhost": "f",
         "host_listings_count": 16,
         "host_has_profile_pic": "t",
         "host_identity_verified": "t",
         "neighbourhood": "Singapore, Singapore",
         "neighbourhood_cleansed": "Bukit Merah",
         "neighbourhood_group_cleansed": "Central Region",
         "latitude": 1.28836,
         "longitude": 103.81144,
         "property_type": "Private room in rental unit",
         "room_type": "Private room",
         "accommodates": 1,
         "bathrooms_text": "Shared half-bath",
         "bedrooms": 1,
         "beds": 1,
         "amenities": "[\"Shampoo\", \"Essentials\", \"Kitchen\", \"Long term stays allowed\", \"Washer\", \"Smart lock\", \"Hair dryer…",
         "price": 40,
         "minimum_nights": 14,
         "maximum_nights": 999,
         "has_availability": "t",
         "availability_30": 3,
         "availability_60": 19,
         "availability_90": 49,
         "availability_365": 324,
         "number_of_reviews": 13,
         "number_of_reviews_ltm": 1,
         "number_of_reviews_l30d": 0,
         "review_scores_rating": 4.55,
         "review_scores_accuracy": 4.67,
         "review_scores_cleanliness": 4.25,
         "review_scores_checkin": 4.67,
         "review_scores_communication": 4.58,
         "review_scores_location": 4.58,
         "review_scores_value": 4.5,
         "instant_bookable": "f",
         "calculated_host_listings_count": 16,
         "amenities_str": "\"Shampoo\", \"Essentials\", \"Kitchen\", \"Long term stays allowed\", \"Washer\", \"Smart lock\", \"Hair dryer\"…",
         "_deepnote_index_column": 5
        },
        {
         "id": 294281,
         "name": "5 mins walk from Newton subway",
         "description": "I have 3 bedrooms  in a charming British style townhouse for you and your family while you are visi…",
         "neighborhood_overview": "No Data",
         "host_since": "2011-12-20",
         "host_response_time": "within a few hours",
         "host_response_rate": 95,
         "host_acceptance_rate": 0,
         "host_is_superhost": "f",
         "host_listings_count": 6,
         "host_has_profile_pic": "t",
         "host_identity_verified": "t",
         "neighbourhood": "No Data",
         "neighbourhood_cleansed": "Newton",
         "neighbourhood_group_cleansed": "Central Region",
         "latitude": 1.31142,
         "longitude": 103.83924,
         "property_type": "Private room in rental unit",
         "room_type": "Private room",
         "accommodates": 2,
         "bathrooms_text": "1 shared bath",
         "bedrooms": 1,
         "beds": 1,
         "amenities": "[\"Hangers\", \"Bed linens\", \"Cooking basics\", \"Washer\", \"Hair dryer\", \"Oven\", \"Dedicated workspace\", …",
         "price": 72,
         "minimum_nights": 90,
         "maximum_nights": 1125,
         "has_availability": "t",
         "availability_30": 30,
         "availability_60": 60,
         "availability_90": 90,
         "availability_365": 365,
         "number_of_reviews": 133,
         "number_of_reviews_ltm": 0,
         "number_of_reviews_l30d": 0,
         "review_scores_rating": 4.43,
         "review_scores_accuracy": 4.33,
         "review_scores_cleanliness": 4.16,
         "review_scores_checkin": 4.5,
         "review_scores_communication": 4.66,
         "review_scores_location": 4.52,
         "review_scores_value": 4.39,
         "instant_bookable": "f",
         "calculated_host_listings_count": 7,
         "amenities_str": "\"Hangers\", \"Bed linens\", \"Cooking basics\", \"Washer\", \"Hair dryer\", \"Oven\", \"Dedicated workspace\", \"…",
         "_deepnote_index_column": 6
        },
        {
         "id": 324945,
         "name": "20 Mins to Sentosa @ Hilltop ! (8)",
         "description": " The space  Great Location, Great people, Great Host .    The 3 greatest statement in our home.  My…",
         "neighborhood_overview": "No Data",
         "host_since": "2011-11-24",
         "host_response_time": "within a few hours",
         "host_response_rate": 87,
         "host_acceptance_rate": 77,
         "host_is_superhost": "f",
         "host_listings_count": 16,
         "host_has_profile_pic": "t",
         "host_identity_verified": "t",
         "neighbourhood": "No Data",
         "neighbourhood_cleansed": "Bukit Merah",
         "neighbourhood_group_cleansed": "Central Region",
         "latitude": 1.28828,
         "longitude": 103.8102,
         "property_type": "Private room in rental unit",
         "room_type": "Private room",
         "accommodates": 1,
         "bathrooms_text": "0 baths",
         "bedrooms": 1,
         "beds": 1,
         "amenities": "[\"Shampoo\", \"Kitchen\", \"Long term stays allowed\", \"Washer\", \"Smart lock\", \"Hair dryer\", \"Dryer\", \"W…",
         "price": 49,
         "minimum_nights": 14,
         "maximum_nights": 999,
         "has_availability": "t",
         "availability_30": 20,
         "availability_60": 50,
         "availability_90": 80,
         "availability_365": 355,
         "number_of_reviews": 14,
         "number_of_reviews_ltm": 0,
         "number_of_reviews_l30d": 0,
         "review_scores_rating": 4.2,
         "review_scores_accuracy": 4.08,
         "review_scores_cleanliness": 4.46,
         "review_scores_checkin": 4.69,
         "review_scores_communication": 4.46,
         "review_scores_location": 4.15,
         "review_scores_value": 4.08,
         "instant_bookable": "f",
         "calculated_host_listings_count": 16,
         "amenities_str": "\"Shampoo\", \"Kitchen\", \"Long term stays allowed\", \"Washer\", \"Smart lock\", \"Hair dryer\", \"Dryer\", \"Wi…",
         "_deepnote_index_column": 7
        },
        {
         "id": 330095,
         "name": "10 mins to Redhill MRT @ Mini Orange Room(5)",
         "description": "Cosy, comfortable, well-renovated & fitted. Great guests, great environment and great host!  This i…",
         "neighborhood_overview": "Near IKEA Alexandra Singapore, Food markets and convenience stores",
         "host_since": "2011-11-24",
         "host_response_time": "within a few hours",
         "host_response_rate": 87,
         "host_acceptance_rate": 77,
         "host_is_superhost": "f",
         "host_listings_count": 16,
         "host_has_profile_pic": "t",
         "host_identity_verified": "t",
         "neighbourhood": "Singapore, Singapore",
         "neighbourhood_cleansed": "Bukit Merah",
         "neighbourhood_group_cleansed": "Central Region",
         "latitude": 1.28636,
         "longitude": 103.81138,
         "property_type": "Private room in rental unit",
         "room_type": "Private room",
         "accommodates": 1,
         "bathrooms_text": "4 shared baths",
         "bedrooms": 1,
         "beds": 1,
         "amenities": "[\"Shampoo\", \"Essentials\", \"Hangers\", \"Kitchen\", \"Long term stays allowed\", \"Washer\", \"Carbon monoxi…",
         "price": 59,
         "minimum_nights": 60,
         "maximum_nights": 999,
         "has_availability": "t",
         "availability_30": 29,
         "availability_60": 59,
         "availability_90": 89,
         "availability_365": 364,
         "number_of_reviews": 3,
         "number_of_reviews_ltm": 0,
         "number_of_reviews_l30d": 0,
         "review_scores_rating": 5,
         "review_scores_accuracy": 5,
         "review_scores_cleanliness": 4.5,
         "review_scores_checkin": 5,
         "review_scores_communication": 5,
         "review_scores_location": 4.5,
         "review_scores_value": 5,
         "instant_bookable": "f",
         "calculated_host_listings_count": 16,
         "amenities_str": "\"Shampoo\", \"Essentials\", \"Hangers\", \"Kitchen\", \"Long term stays allowed\", \"Washer\", \"Carbon monoxid…",
         "_deepnote_index_column": 8
        },
        {
         "id": 344803,
         "name": "Budget short stay room near  EXPO",
         "description": "Direct bus 24 from airport to this place.Walking distance to expo,downtown line3 and east west line…",
         "neighborhood_overview": "A very quiet place .Very near to airport and cannot hear airplane sound",
         "host_since": "2011-01-29",
         "host_response_time": "within a day",
         "host_response_rate": 100,
         "host_acceptance_rate": "nan",
         "host_is_superhost": "f",
         "host_listings_count": 8,
         "host_has_profile_pic": "t",
         "host_identity_verified": "t",
         "neighbourhood": "Singapore, Singapore",
         "neighbourhood_cleansed": "Tampines",
         "neighbourhood_group_cleansed": "East Region",
         "latitude": 1.34917,
         "longitude": 103.9609,
         "property_type": "Private room in residential home",
         "room_type": "Private room",
         "accommodates": 1,
         "bathrooms_text": "1.5 shared baths",
         "bedrooms": 1,
         "beds": 1,
         "amenities": "[\"Hangers\", \"Bed linens\", \"Coffee maker\", \"Cooking basics\", \"Washer\", \"Hair dryer\", \"Fire pit\", \"Ov…",
         "price": 48,
         "minimum_nights": 92,
         "maximum_nights": 365,
         "has_availability": "t",
         "availability_30": 30,
         "availability_60": 60,
         "availability_90": 90,
         "availability_365": 365,
         "number_of_reviews": 58,
         "number_of_reviews_ltm": 0,
         "number_of_reviews_l30d": 0,
         "review_scores_rating": 4.58,
         "review_scores_accuracy": 4.58,
         "review_scores_cleanliness": 4.44,
         "review_scores_checkin": 4.75,
         "review_scores_communication": 4.56,
         "review_scores_location": 4.65,
         "review_scores_value": 4.44,
         "instant_bookable": "f",
         "calculated_host_listings_count": 5,
         "amenities_str": "\"Hangers\", \"Bed linens\", \"Coffee maker\", \"Cooking basics\", \"Washer\", \"Hair dryer\", \"Fire pit\", \"Ove…",
         "_deepnote_index_column": 9
        }
       ]
      },
      "text/plain": "            id                                              name  \\\n0        50646                   Pleasant Room along Bukit Timah   \n1        71609               Ensuite Room (Room 1 & 2) near EXPO   \n2        71896                   B&B  Room 1 near Airport & EXPO   \n3        71903                        Room 2-near Airport & EXPO   \n4       275343  Conveniently located City Room!(1,2,3,4,5,6,7,8)   \n...        ...                                               ...   \n3140  53905492                                     Standard Twin   \n3141  53905653                           Standard Queen & Single   \n3142  53910005      Affordable Office for 8 Pax in Heart of East   \n3143  53910434                  Deluxe Class 2BR Near Marina Bay   \n3144  53927825      Spacious Private Room in Lovely Landed House   \n\n                                            description  \\\n0     Fully furnished bedroom with a nice view on th...   \n1     For 3 rooms.Book room 1&2 and room 4   The spa...   \n2      The space  Vocational Stay Deluxe Bedroom in ...   \n3     Like your own home, 24hrs access.   The space ...   \n4     Awesome location and host  Room near INSEAD, N...   \n...                                                 ...   \n3140   The space  Hotel accommodations have been car...   \n3141   The space  Hotel accommodations have been car...   \n3142  Convenient location in the heart of East Singa...   \n3143  Situated near the bustling neighborhood of Mar...   \n3144  Forget your worries in this spacious and seren...   \n\n                                  neighborhood_overview  host_since  \\\n0     The serenity & quiet surrounding makes it an i...  2010-09-08   \n1                                               No Data  2011-01-29   \n2                                               No Data  2011-01-29   \n3     Quiet and view of the playground with exercise...  2011-01-29   \n4                                               No Data  2011-11-24   \n...                                                 ...         ...   \n3140                                            No Data  2021-12-06   \n3141                                            No Data  2021-12-06   \n3142                                            No Data  2017-04-04   \n3143  Located near the  CBD, enjoy a wide variety of...  2017-10-27   \n3144                                            No Data  2021-11-15   \n\n      host_response_time  host_response_rate  host_acceptance_rate  \\\n0                No Data                 NaN                   NaN   \n1           within a day               100.0                   NaN   \n2           within a day               100.0                   NaN   \n3           within a day               100.0                   NaN   \n4     within a few hours                87.0                  77.0   \n...                  ...                 ...                   ...   \n3140      within an hour               100.0                 100.0   \n3141      within an hour               100.0                 100.0   \n3142  a few days or more                 0.0                   NaN   \n3143  within a few hours                95.0                  30.0   \n3144  within a few hours               100.0                  67.0   \n\n     host_is_superhost  host_listings_count  ... review_scores_rating  \\\n0                    f                  1.0  ...                 4.56   \n1                    f                  8.0  ...                 4.44   \n2                    f                  8.0  ...                 4.16   \n3                    f                  8.0  ...                 4.41   \n4                    f                 16.0  ...                 4.39   \n...                ...                  ...  ...                  ...   \n3140                 f                  0.0  ...                 0.00   \n3141                 f                  0.0  ...                 0.00   \n3142                 f                  0.0  ...                 0.00   \n3143                 f                225.0  ...                 0.00   \n3144                 f                  2.0  ...                 0.00   \n\n     review_scores_accuracy review_scores_cleanliness review_scores_checkin  \\\n0                      4.72                      4.78                  4.78   \n1                      4.37                      4.00                  4.63   \n2                      4.22                      4.09                  4.43   \n3                      4.39                      4.52                  4.63   \n4                      4.12                      4.24                  4.53   \n...                     ...                       ...                   ...   \n3140                   0.00                      0.00                  0.00   \n3141                   0.00                      0.00                  0.00   \n3142                   0.00                      0.00                  0.00   \n3143                   0.00                      0.00                  0.00   \n3144                   0.00                      0.00                  0.00   \n\n     review_scores_communication  review_scores_location  review_scores_value  \\\n0                           4.94                    4.72                 4.50   \n1                           4.78                    4.26                 4.32   \n2                           4.43                    4.17                 4.04   \n3                           4.64                    4.50                 4.36   \n4                           4.47                    4.53                 4.59   \n...                          ...                     ...                  ...   \n3140                        0.00                    0.00                 0.00   \n3141                        0.00                    0.00                 0.00   \n3142                        0.00                    0.00                 0.00   \n3143                        0.00                    0.00                 0.00   \n3144                        0.00                    0.00                 0.00   \n\n     instant_bookable calculated_host_listings_count  \\\n0                   f                              1   \n1                   f                              5   \n2                   f                              5   \n3                   f                              5   \n4                   f                             16   \n...               ...                            ...   \n3140                t                              4   \n3141                t                              4   \n3142                t                              1   \n3143                f                            179   \n3144                f                              2   \n\n                                          amenities_str  \n0     \"Shampoo\", \"Essentials\", \"Kitchen\", \"Long term...  \n1     \"Hangers\", \"Cooking basics\", \"Washer\", \"Hair d...  \n2     \"Coffee maker\", \"Cooking basics\", \"Washer\", \"H...  \n3     \"Coffee maker\", \"Cooking basics\", \"Washer\", \"H...  \n4     \"Shampoo\", \"Essentials\", \"Keypad\", \"Kitchen\", ...  \n...                                                 ...  \n3140  \"Security cameras on property\", \"Hangers\", \"Lo...  \n3141  \"Security cameras on property\", \"Hangers\", \"Lo...  \n3142  \"Long term stays allowed\", \"Air conditioning\",...  \n3143  \"Cleaning before checkout\", \"Safe\", \"Hangers\",...  \n3144  \"Kitchen\", \"Long term stays allowed\", \"Washer\"...  \n\n[3145 rows x 45 columns]",
      "text/html": "<div>\n<style scoped>\n    .dataframe tbody tr th:only-of-type {\n        vertical-align: middle;\n    }\n\n    .dataframe tbody tr th {\n        vertical-align: top;\n    }\n\n    .dataframe thead th {\n        text-align: right;\n    }\n</style>\n<table border=\"1\" class=\"dataframe\">\n  <thead>\n    <tr style=\"text-align: right;\">\n      <th></th>\n      <th>id</th>\n      <th>name</th>\n      <th>description</th>\n      <th>neighborhood_overview</th>\n      <th>host_since</th>\n      <th>host_response_time</th>\n      <th>host_response_rate</th>\n      <th>host_acceptance_rate</th>\n      <th>host_is_superhost</th>\n      <th>host_listings_count</th>\n      <th>...</th>\n      <th>review_scores_rating</th>\n      <th>review_scores_accuracy</th>\n      <th>review_scores_cleanliness</th>\n      <th>review_scores_checkin</th>\n      <th>review_scores_communication</th>\n      <th>review_scores_location</th>\n      <th>review_scores_value</th>\n      <th>instant_bookable</th>\n      <th>calculated_host_listings_count</th>\n      <th>amenities_str</th>\n    </tr>\n  </thead>\n  <tbody>\n    <tr>\n      <th>0</th>\n      <td>50646</td>\n      <td>Pleasant Room along Bukit Timah</td>\n      <td>Fully furnished bedroom with a nice view on th...</td>\n      <td>The serenity &amp; quiet surrounding makes it an i...</td>\n      <td>2010-09-08</td>\n      <td>No Data</td>\n      <td>NaN</td>\n      <td>NaN</td>\n      <td>f</td>\n      <td>1.0</td>\n      <td>...</td>\n      <td>4.56</td>\n      <td>4.72</td>\n      <td>4.78</td>\n      <td>4.78</td>\n      <td>4.94</td>\n      <td>4.72</td>\n      <td>4.50</td>\n      <td>f</td>\n      <td>1</td>\n      <td>\"Shampoo\", \"Essentials\", \"Kitchen\", \"Long term...</td>\n    </tr>\n    <tr>\n      <th>1</th>\n      <td>71609</td>\n      <td>Ensuite Room (Room 1 &amp; 2) near EXPO</td>\n      <td>For 3 rooms.Book room 1&amp;2 and room 4   The spa...</td>\n      <td>No Data</td>\n      <td>2011-01-29</td>\n      <td>within a day</td>\n      <td>100.0</td>\n      <td>NaN</td>\n      <td>f</td>\n      <td>8.0</td>\n      <td>...</td>\n      <td>4.44</td>\n      <td>4.37</td>\n      <td>4.00</td>\n      <td>4.63</td>\n      <td>4.78</td>\n      <td>4.26</td>\n      <td>4.32</td>\n      <td>f</td>\n      <td>5</td>\n      <td>\"Hangers\", \"Cooking basics\", \"Washer\", \"Hair d...</td>\n    </tr>\n    <tr>\n      <th>2</th>\n      <td>71896</td>\n      <td>B&amp;B  Room 1 near Airport &amp; EXPO</td>\n      <td>The space  Vocational Stay Deluxe Bedroom in ...</td>\n      <td>No Data</td>\n      <td>2011-01-29</td>\n      <td>within a day</td>\n      <td>100.0</td>\n      <td>NaN</td>\n      <td>f</td>\n      <td>8.0</td>\n      <td>...</td>\n      <td>4.16</td>\n      <td>4.22</td>\n      <td>4.09</td>\n      <td>4.43</td>\n      <td>4.43</td>\n      <td>4.17</td>\n      <td>4.04</td>\n      <td>f</td>\n      <td>5</td>\n      <td>\"Coffee maker\", \"Cooking basics\", \"Washer\", \"H...</td>\n    </tr>\n    <tr>\n      <th>3</th>\n      <td>71903</td>\n      <td>Room 2-near Airport &amp; EXPO</td>\n      <td>Like your own home, 24hrs access.   The space ...</td>\n      <td>Quiet and view of the playground with exercise...</td>\n      <td>2011-01-29</td>\n      <td>within a day</td>\n      <td>100.0</td>\n      <td>NaN</td>\n      <td>f</td>\n      <td>8.0</td>\n      <td>...</td>\n      <td>4.41</td>\n      <td>4.39</td>\n      <td>4.52</td>\n      <td>4.63</td>\n      <td>4.64</td>\n      <td>4.50</td>\n      <td>4.36</td>\n      <td>f</td>\n      <td>5</td>\n      <td>\"Coffee maker\", \"Cooking basics\", \"Washer\", \"H...</td>\n    </tr>\n    <tr>\n      <th>4</th>\n      <td>275343</td>\n      <td>Conveniently located City Room!(1,2,3,4,5,6,7,8)</td>\n      <td>Awesome location and host  Room near INSEAD, N...</td>\n      <td>No Data</td>\n      <td>2011-11-24</td>\n      <td>within a few hours</td>\n      <td>87.0</td>\n      <td>77.0</td>\n      <td>f</td>\n      <td>16.0</td>\n      <td>...</td>\n      <td>4.39</td>\n      <td>4.12</td>\n      <td>4.24</td>\n      <td>4.53</td>\n      <td>4.47</td>\n      <td>4.53</td>\n      <td>4.59</td>\n      <td>f</td>\n      <td>16</td>\n      <td>\"Shampoo\", \"Essentials\", \"Keypad\", \"Kitchen\", ...</td>\n    </tr>\n    <tr>\n      <th>...</th>\n      <td>...</td>\n      <td>...</td>\n      <td>...</td>\n      <td>...</td>\n      <td>...</td>\n      <td>...</td>\n      <td>...</td>\n      <td>...</td>\n      <td>...</td>\n      <td>...</td>\n      <td>...</td>\n      <td>...</td>\n      <td>...</td>\n      <td>...</td>\n      <td>...</td>\n      <td>...</td>\n      <td>...</td>\n      <td>...</td>\n      <td>...</td>\n      <td>...</td>\n      <td>...</td>\n    </tr>\n    <tr>\n      <th>3140</th>\n      <td>53905492</td>\n      <td>Standard Twin</td>\n      <td>The space  Hotel accommodations have been car...</td>\n      <td>No Data</td>\n      <td>2021-12-06</td>\n      <td>within an hour</td>\n      <td>100.0</td>\n      <td>100.0</td>\n      <td>f</td>\n      <td>0.0</td>\n      <td>...</td>\n      <td>0.00</td>\n      <td>0.00</td>\n      <td>0.00</td>\n      <td>0.00</td>\n      <td>0.00</td>\n      <td>0.00</td>\n      <td>0.00</td>\n      <td>t</td>\n      <td>4</td>\n      <td>\"Security cameras on property\", \"Hangers\", \"Lo...</td>\n    </tr>\n    <tr>\n      <th>3141</th>\n      <td>53905653</td>\n      <td>Standard Queen &amp; Single</td>\n      <td>The space  Hotel accommodations have been car...</td>\n      <td>No Data</td>\n      <td>2021-12-06</td>\n      <td>within an hour</td>\n      <td>100.0</td>\n      <td>100.0</td>\n      <td>f</td>\n      <td>0.0</td>\n      <td>...</td>\n      <td>0.00</td>\n      <td>0.00</td>\n      <td>0.00</td>\n      <td>0.00</td>\n      <td>0.00</td>\n      <td>0.00</td>\n      <td>0.00</td>\n      <td>t</td>\n      <td>4</td>\n      <td>\"Security cameras on property\", \"Hangers\", \"Lo...</td>\n    </tr>\n    <tr>\n      <th>3142</th>\n      <td>53910005</td>\n      <td>Affordable Office for 8 Pax in Heart of East</td>\n      <td>Convenient location in the heart of East Singa...</td>\n      <td>No Data</td>\n      <td>2017-04-04</td>\n      <td>a few days or more</td>\n      <td>0.0</td>\n      <td>NaN</td>\n      <td>f</td>\n      <td>0.0</td>\n      <td>...</td>\n      <td>0.00</td>\n      <td>0.00</td>\n      <td>0.00</td>\n      <td>0.00</td>\n      <td>0.00</td>\n      <td>0.00</td>\n      <td>0.00</td>\n      <td>t</td>\n      <td>1</td>\n      <td>\"Long term stays allowed\", \"Air conditioning\",...</td>\n    </tr>\n    <tr>\n      <th>3143</th>\n      <td>53910434</td>\n      <td>Deluxe Class 2BR Near Marina Bay</td>\n      <td>Situated near the bustling neighborhood of Mar...</td>\n      <td>Located near the  CBD, enjoy a wide variety of...</td>\n      <td>2017-10-27</td>\n      <td>within a few hours</td>\n      <td>95.0</td>\n      <td>30.0</td>\n      <td>f</td>\n      <td>225.0</td>\n      <td>...</td>\n      <td>0.00</td>\n      <td>0.00</td>\n      <td>0.00</td>\n      <td>0.00</td>\n      <td>0.00</td>\n      <td>0.00</td>\n      <td>0.00</td>\n      <td>f</td>\n      <td>179</td>\n      <td>\"Cleaning before checkout\", \"Safe\", \"Hangers\",...</td>\n    </tr>\n    <tr>\n      <th>3144</th>\n      <td>53927825</td>\n      <td>Spacious Private Room in Lovely Landed House</td>\n      <td>Forget your worries in this spacious and seren...</td>\n      <td>No Data</td>\n      <td>2021-11-15</td>\n      <td>within a few hours</td>\n      <td>100.0</td>\n      <td>67.0</td>\n      <td>f</td>\n      <td>2.0</td>\n      <td>...</td>\n      <td>0.00</td>\n      <td>0.00</td>\n      <td>0.00</td>\n      <td>0.00</td>\n      <td>0.00</td>\n      <td>0.00</td>\n      <td>0.00</td>\n      <td>f</td>\n      <td>2</td>\n      <td>\"Kitchen\", \"Long term stays allowed\", \"Washer\"...</td>\n    </tr>\n  </tbody>\n</table>\n<p>3145 rows × 45 columns</p>\n</div>"
     },
     "metadata": {}
    }
   ],
   "execution_count": null
  },
  {
   "cell_type": "markdown",
   "source": "### MRT Data",
   "metadata": {
    "cell_id": "00003-3b82951f-90bb-48cd-9d74-5c2f2114f1d0",
    "deepnote_cell_type": "markdown",
    "deepnote_cell_height": 62.15625
   }
  },
  {
   "cell_type": "code",
   "metadata": {
    "cell_id": "00004-9bdcf1f9-e0ea-49fb-a721-8650ae14c447",
    "deepnote_to_be_reexecuted": false,
    "source_hash": "eea4d21",
    "execution_start": 1647321081815,
    "execution_millis": 92,
    "deepnote_cell_type": "code",
    "deepnote_cell_height": 355.65625,
    "deepnote_output_heights": [
     119.484375
    ]
   },
   "source": "# Get list of MRTs in Singapore\n# Data is taken from: https://data.gov.sg/dataset/train-station-chinese-names - 2017\nMRT = pd.read_csv(\"SG_MRT_Stations.csv\")\nMRT.head(3)",
   "outputs": [
    {
     "output_type": "execute_result",
     "execution_count": 3,
     "data": {
      "application/vnd.deepnote.dataframe.v3+json": {
       "column_count": 5,
       "row_count": 3,
       "columns": [
        {
         "name": "stn_code",
         "dtype": "object",
         "stats": {
          "unique_count": 3,
          "nan_count": 0,
          "categories": [
           {
            "name": "NS1",
            "count": 1
           },
           {
            "name": "NS2",
            "count": 1
           },
           {
            "name": "NS3",
            "count": 1
           }
          ]
         }
        },
        {
         "name": "mrt_station_english",
         "dtype": "object",
         "stats": {
          "unique_count": 3,
          "nan_count": 0,
          "categories": [
           {
            "name": "Jurong East",
            "count": 1
           },
           {
            "name": "Bukit Batok",
            "count": 1
           },
           {
            "name": "Bukit Gombak",
            "count": 1
           }
          ]
         }
        },
        {
         "name": "mrt_station_chinese",
         "dtype": "object",
         "stats": {
          "unique_count": 3,
          "nan_count": 0,
          "categories": [
           {
            "name": "裕廊东",
            "count": 1
           },
           {
            "name": "武吉巴督",
            "count": 1
           },
           {
            "name": "武吉甘柏",
            "count": 1
           }
          ]
         }
        },
        {
         "name": "mrt_line_english",
         "dtype": "object",
         "stats": {
          "unique_count": 1,
          "nan_count": 0,
          "categories": [
           {
            "name": "North South Line",
            "count": 3
           }
          ]
         }
        },
        {
         "name": "mrt_line_chinese",
         "dtype": "object",
         "stats": {
          "unique_count": 1,
          "nan_count": 0,
          "categories": [
           {
            "name": "南北线",
            "count": 3
           }
          ]
         }
        },
        {
         "name": "_deepnote_index_column",
         "dtype": "int64"
        }
       ],
       "rows": [
        {
         "stn_code": "NS1",
         "mrt_station_english": "Jurong East",
         "mrt_station_chinese": "裕廊东",
         "mrt_line_english": "North South Line",
         "mrt_line_chinese": "南北线",
         "_deepnote_index_column": 0
        },
        {
         "stn_code": "NS2",
         "mrt_station_english": "Bukit Batok",
         "mrt_station_chinese": "武吉巴督",
         "mrt_line_english": "North South Line",
         "mrt_line_chinese": "南北线",
         "_deepnote_index_column": 1
        },
        {
         "stn_code": "NS3",
         "mrt_station_english": "Bukit Gombak",
         "mrt_station_chinese": "武吉甘柏",
         "mrt_line_english": "North South Line",
         "mrt_line_chinese": "南北线",
         "_deepnote_index_column": 2
        }
       ]
      },
      "text/plain": "  stn_code mrt_station_english mrt_station_chinese  mrt_line_english  \\\n0      NS1         Jurong East                 裕廊东  North South Line   \n1      NS2         Bukit Batok                武吉巴督  North South Line   \n2      NS3        Bukit Gombak                武吉甘柏  North South Line   \n\n  mrt_line_chinese  \n0              南北线  \n1              南北线  \n2              南北线  ",
      "text/html": "<div>\n<style scoped>\n    .dataframe tbody tr th:only-of-type {\n        vertical-align: middle;\n    }\n\n    .dataframe tbody tr th {\n        vertical-align: top;\n    }\n\n    .dataframe thead th {\n        text-align: right;\n    }\n</style>\n<table border=\"1\" class=\"dataframe\">\n  <thead>\n    <tr style=\"text-align: right;\">\n      <th></th>\n      <th>stn_code</th>\n      <th>mrt_station_english</th>\n      <th>mrt_station_chinese</th>\n      <th>mrt_line_english</th>\n      <th>mrt_line_chinese</th>\n    </tr>\n  </thead>\n  <tbody>\n    <tr>\n      <th>0</th>\n      <td>NS1</td>\n      <td>Jurong East</td>\n      <td>裕廊东</td>\n      <td>North South Line</td>\n      <td>南北线</td>\n    </tr>\n    <tr>\n      <th>1</th>\n      <td>NS2</td>\n      <td>Bukit Batok</td>\n      <td>武吉巴督</td>\n      <td>North South Line</td>\n      <td>南北线</td>\n    </tr>\n    <tr>\n      <th>2</th>\n      <td>NS3</td>\n      <td>Bukit Gombak</td>\n      <td>武吉甘柏</td>\n      <td>North South Line</td>\n      <td>南北线</td>\n    </tr>\n  </tbody>\n</table>\n</div>"
     },
     "metadata": {}
    }
   ],
   "execution_count": null
  },
  {
   "cell_type": "code",
   "metadata": {
    "cell_id": "00005-7eb13049-11f6-4dde-a496-254bb201462d",
    "deepnote_to_be_reexecuted": false,
    "source_hash": "5db50ec7",
    "execution_start": 1647321081973,
    "deepnote_cell_type": "code",
    "deepnote_cell_height": 81.15625
   },
   "source": "list_of_mrt = MRT[\"mrt_station_english\"].tolist()",
   "outputs": [],
   "execution_count": null
  },
  {
   "cell_type": "code",
   "metadata": {
    "cell_id": "00006-06f770f0-4528-4b05-ae04-1f354dbd2029",
    "deepnote_to_be_reexecuted": false,
    "source_hash": "f6b6bd37",
    "execution_start": 1647321082017,
    "deepnote_cell_type": "code",
    "deepnote_cell_height": 207.15625
   },
   "source": "# Add in new MRT Stations opened in 2020\nnew_mrt_stations = ['Woodlands North', 'Woodlands', 'Woodlands South', 'Springleaf', \n                       'Lentor','Bright Hill', 'Mayflower', 'Upper Thomson' , 'Caldecott']\nfor i in new_mrt_stations: \n    list_of_mrt.append(i)\n\n# Remove LRT that has been closed\nlist_of_mrt.remove(\"Ten Mile Junction\")",
   "outputs": [],
   "execution_count": null
  },
  {
   "cell_type": "code",
   "metadata": {
    "cell_id": "00007-ff4f980e-ed5c-454b-980c-a933a7001dfa",
    "deepnote_to_be_reexecuted": false,
    "source_hash": "11ee9afc",
    "execution_start": 1647321082018,
    "deepnote_cell_type": "code",
    "deepnote_cell_height": 111.4375
   },
   "source": "print(len(list_of_mrt))",
   "outputs": [
    {
     "name": "stdout",
     "text": "192\n",
     "output_type": "stream"
    }
   ],
   "execution_count": null
  },
  {
   "cell_type": "code",
   "metadata": {
    "cell_id": "00008-d8309136-9173-44de-a1f6-eb77907d12d6",
    "deepnote_to_be_reexecuted": false,
    "source_hash": "a02c36f4",
    "execution_start": 1647321082018,
    "execution_millis": 142997,
    "deepnote_cell_type": "code",
    "deepnote_cell_height": 935.265625
   },
   "source": "mrt_lat = []\nmrt_long = []\n\nfor i in range(0, len(list_of_mrt)):\n    query_address = list_of_mrt[i]\n    query_string = 'https://developers.onemap.sg/commonapi/search?searchVal='+str(query_address)+'&returnGeom=Y&getAddrDetails=Y'\n    resp = requests.get(query_string)\n\n    data_mrt=json.loads(resp.content)\n    \n    if data_mrt['found'] != 0:\n        mrt_lat.append(data_mrt[\"results\"][0][\"LATITUDE\"])\n        mrt_long.append(data_mrt[\"results\"][0][\"LONGITUDE\"])\n        print (str(query_address)+\",Lat: \"+data_mrt['results'][0]['LATITUDE'] +\" Long: \"+data_mrt['results'][0]['LONGITUDE'])",
   "outputs": [
    {
     "name": "stdout",
     "text": "Jurong East,Lat: 1.3468080909852 Long: 103.732570156371\nBukit Batok,Lat: 1.34971948024642 Long: 103.750968656542\nBukit Gombak,Lat: 1.36731012055308 Long: 103.752439780696\nChoa Chu Kang,Lat: 1.37698423514519 Long: 103.695087601092\nYew Tee,Lat: 1.39483312455963 Long: 103.744790526006\nKranji,Lat: 1.40413016625403 Long: 103.741615893274\nMarsiling,Lat: 1.44315121142693 Long: 103.775164777049\nWoodlands,Lat: 1.43357568988365 Long: 103.804329417963\nAdmiralty,Lat: 1.44062992421831 Long: 103.806198056529\nSembawang,Lat: 1.41961709618173 Long: 103.821095254872\nYishun,Lat: 1.43071857830265 Long: 103.836789569146\nKhatib,Lat: 1.42555616856012 Long: 103.840524922186\nYio Chu Kang,Lat: 1.37585358258553 Long: 103.872600261996\nAng Mo Kio,Lat: 1.36582089504381 Long: 103.842847772078\nBishan,Lat: 1.36517069591469 Long: 103.83629822663\nBraddell,Lat: 1.34173174251354 Long: 103.864688887374\nToa Payoh,Lat: 1.33372621378708 Long: 103.855718395843\nNovena,Lat: 1.32168260642724 Long: 103.84266424228\nNewton,Lat: 1.31429426375311 Long: 103.841150697585\nOrchard,Lat: 1.29906869032036 Long: 103.846647830444\nSomerset,Lat: 1.29937379615615 Long: 103.850356180598\nDhoby Ghaut,Lat: 1.29940239409636 Long: 103.845516022173\nCity Hall,Lat: 1.29298990700923 Long: 103.852542630339\nRaffles Place,Lat: 1.28393326234538 Long: 103.851463066212\nMarina Bay,Lat: 1.28541280453443 Long: 103.856515136527\nMarina South Pier,Lat: 1.27029077767613 Long: 103.863149073604\nPasir Ris,Lat: 1.38792722885382 Long: 103.941992893826\nTampines,Lat: 1.35214194752099 Long: 103.954010279015\nSimei,Lat: 1.33734798533611 Long: 103.951189143446\nTanah Merah,Lat: 1.36110330553861 Long: 103.973564740687\nBedok,Lat: 1.32449197461735 Long: 103.927900348438\nKembangan,Lat: 1.319622124356 Long: 103.912288714696\nEunos,Lat: 1.31934135455074 Long: 103.901892373523\nPaya Lebar,Lat: 1.32987112703735 Long: 103.890169293668\nAljunied,Lat: 1.35465808509334 Long: 103.889546232338\nKallang,Lat: 1.32192623597067 Long: 103.872800894771\nLavender,Lat: 1.3067382078485 Long: 103.860900611081\nBugis,Lat: 1.30075921013124 Long: 103.855204142122\nCity Hall,Lat: 1.29298990700923 Long: 103.852542630339\nRaffles Place,Lat: 1.28393326234538 Long: 103.851463066212\nTanjong Pagar,Lat: 1.27658360696843 Long: 103.845936303594\nOutram Park,Lat: 1.2802415328084 Long: 103.840052100136\nTiong Bahru,Lat: 1.28304916992283 Long: 103.832196506537\nRedhill,Lat: 1.28730751501552 Long: 103.818311195307\nQueenstown,Lat: 1.29711552733747 Long: 103.808494598008\nCommonwealth,Lat: 1.30164998775 Long: 103.796796430683\nBuona Vista,Lat: 1.30888211299307 Long: 103.792300992981\nDover,Lat: 1.33828303068105 Long: 103.737102099236\nClementi,Lat: 1.32355286918436 Long: 103.767515486547\nJurong East,Lat: 1.3468080909852 Long: 103.732570156371\nChinese Garden,Lat: 1.33890461457493 Long: 103.729060244019\nLakeside,Lat: 1.33415793802063 Long: 103.731219131213\nBoon Lay,Lat: 1.33931504059378 Long: 103.705350996191\nPioneer,Lat: 1.33273077379383 Long: 103.697537984728\nJoo Koon,Lat: 1.3271618610269 Long: 103.678279283036\nGul Circle,Lat: 1.3111209445473 Long: 103.675226205882\nTuas Crescent,Lat: 1.32102695598684 Long: 103.649078235627\nTuas West Road,Lat: 1.32998504653102 Long: 103.639616648771\nTuas Link,Lat: 1.34088242451105 Long: 103.636991425128\nExpo,Lat: 1.33454977824817 Long: 103.961548211018\nChangi Airport,Lat: 1.34580556425439 Long: 103.982913693484\nHarbourFront,Lat: 1.26396991176004 Long: 103.820243325181\nOutram Park,Lat: 1.2802415328084 Long: 103.840052100136\nChinatown,Lat: 1.2822749605271 Long: 103.843238518071\nClarke Quay,Lat: 1.28990269754749 Long: 103.845596773788\nDhoby Ghaut,Lat: 1.29940239409636 Long: 103.845516022173\nLittle India,Lat: 1.30971192399962 Long: 103.85343473875\nFarrer Park,Lat: 1.31039787857874 Long: 103.850140885888\nBoon Keng,Lat: 1.31599705667165 Long: 103.859810749789\nPotong Pasir,Lat: 1.33263381545601 Long: 103.867151673726\nWoodleigh,Lat: 1.34135946989774 Long: 103.872216426872\nSerangoon,Lat: 1.31120553385429 Long: 103.854623458775\nKovan,Lat: 1.3553167568821 Long: 103.878516661429\nHougang,Lat: 1.37571530699875 Long: 103.879472337592\nBuangkok,Lat: 1.38027215159943 Long: 103.904861482792\nSengkang,Lat: 1.39168782518022 Long: 103.896129776175\nPunggol,Lat: 1.39351971529878 Long: 103.913582341491\nDhoby Ghaut,Lat: 1.29940239409636 Long: 103.845516022173\nBras Basah,Lat: 1.30068760710961 Long: 103.856241188732\nEsplanade,Lat: 1.29020501088469 Long: 103.855566745359\nPromenade,Lat: 1.2884120422216 Long: 103.862357502783\nNicoll Highway,Lat: 1.29972730828727 Long: 103.862047820897\nStadium,Lat: 1.3028124684707 Long: 103.875337711089\nMountbatten,Lat: 1.30857815691629 Long: 103.880913892396\nDakota,Lat: 1.30950886274717 Long: 103.888129352423\nPaya Lebar,Lat: 1.32987112703735 Long: 103.890169293668\nMacPherson,Lat: 1.33130887604519 Long: 103.878171212838\nTai Seng,Lat: 1.33579982244774 Long: 103.886875022095\nBartley,Lat: 1.34088960796369 Long: 103.879139775745\nSerangoon,Lat: 1.31120553385429 Long: 103.854623458775\nLorong Chuan,Lat: 1.35153128621585 Long: 103.864812169514\nBishan,Lat: 1.36517069591469 Long: 103.83629822663\nMarymount,Lat: 1.3404276785035 Long: 103.857055779648\nCaldecott,Lat: 1.33760466044501 Long: 103.834571594837\nBotanic Gardens,Lat: 1.30816131561974 Long: 103.820189431467\nFarrer Road,Lat: 1.31743915158967 Long: 103.807379214161\nHolland Village,Lat: 1.31106356535272 Long: 103.795308986493\nBuona Vista,Lat: 1.30888211299307 Long: 103.792300992981\none-north,Lat: 1.3034460248358 Long: 103.789068096096\nKent Ridge,Lat: 1.29431697403511 Long: 103.769808690712\nHaw Par Villa,Lat: 1.28372419675801 Long: 103.782403678661\nPasir Panjang,Lat: 1.28282714478702 Long: 103.753555550115\nLabrador Park,Lat: 1.27236838626952 Long: 103.803416232089\nTelok Blangah,Lat: 1.27486265714118 Long: 103.807875425734\nHarbourFront,Lat: 1.26396991176004 Long: 103.820243325181\nBayfront,Lat: 1.28537030528984 Long: 103.860871154701\nMarina Bay,Lat: 1.28541280453443 Long: 103.856515136527\nBukit Panjang,Lat: 1.37189591657371 Long: 103.759265093202\nCashew,Lat: 1.37217517648597 Long: 103.769356680695\nHillview,Lat: 1.35707968895277 Long: 103.76116513308\nBeauty World,Lat: 1.34241264188642 Long: 103.776539385406\nKing Albert Park,Lat: 1.33336989681053 Long: 103.780489052828\nSixth Avenue,Lat: 1.33143049540259 Long: 103.79500253329\nTan Kah Kee,Lat: 1.32639224146351 Long: 103.806548201692\nBotanic Gardens,Lat: 1.30816131561974 Long: 103.820189431467\nStevens,Lat: 1.31732347719983 Long: 103.826839917034\nNewton,Lat: 1.31429426375311 Long: 103.841150697585\nLittle India,Lat: 1.30971192399962 Long: 103.85343473875\nRochor,Lat: 1.30602100353996 Long: 103.862318587314\nBugis,Lat: 1.30075921013124 Long: 103.855204142122\nPromenade,Lat: 1.2884120422216 Long: 103.862357502783\nBayfront,Lat: 1.28537030528984 Long: 103.860871154701\nDowntown,Lat: 1.37691412455433 Long: 103.955036748549\nTelok Ayer,Lat: 1.27847946011625 Long: 103.846988646939\nChinatown,Lat: 1.2822749605271 Long: 103.843238518071\nFort Canning,Lat: 1.29521577410778 Long: 103.846770332398\nBencoolen,Lat: 1.29884558580411 Long: 103.849843606852\nJalan Besar,Lat: 1.30797217320717 Long: 103.861804757225\nBendemeer,Lat: 1.31529613654892 Long: 103.861680421293\nGeylang Bahru,Lat: 1.32005980149776 Long: 103.871792121922\nMattar,Lat: 1.32687671501334 Long: 103.883247509542\nMacPherson,Lat: 1.33130887604519 Long: 103.878171212838\nUbi,Lat: 1.32488253615193 Long: 103.895530015199\nKaki Bukit,Lat: 1.33321993297265 Long: 103.930581522776\nBedok North,Lat: 1.33202760084577 Long: 103.920368957788\nBedok Reservoir,Lat: 1.34231030001046 Long: 103.925857758506\nTampines West,Lat: 1.34875950111412 Long: 103.935689637762\nTampines,Lat: 1.35214194752099 Long: 103.954010279015\nTampines East,Lat: 1.35335683374898 Long: 103.954620457783\nUpper Changi,Lat: 1.36166262713271 Long: 103.972903653336\nExpo,Lat: 1.33454977824817 Long: 103.961548211018\nChoa Chu Kang,Lat: 1.37698423514519 Long: 103.695087601092\nSouth View,Lat: 1.38029828742399 Long: 103.745291799824\nKeat Hong,Lat: 1.37498079671742 Long: 103.744550138051\nTeck Whye,Lat: 1.38292232427838 Long: 103.753939006148\nPhoenix,Lat: 1.37721493093381 Long: 103.758880388587\nBukit Panjang,Lat: 1.37189591657371 Long: 103.759265093202\nPetir,Lat: 1.37777204259082 Long: 103.766645782497\nPending,Lat: 1.37613574334988 Long: 103.771261175571\nBangkit,Lat: 1.38002223010088 Long: 103.772647370452\nFajar,Lat: 1.38133164210104 Long: 103.770298818046\nSegar,Lat: 1.38905201654532 Long: 103.773493873954\nJelapang,Lat: 1.38673926997961 Long: 103.76453408646\nSenja,Lat: 1.38512867383046 Long: 103.760410617887\nSengkang,Lat: 1.39168782518022 Long: 103.896129776175\nCompassvale,Lat: 1.38552386038122 Long: 103.89145546126\nRumbia,Lat: 1.39146849534132 Long: 103.90597359341\nBakau,Lat: 1.38799431054768 Long: 103.905415300171\nKangkar,Lat: 1.38395911688913 Long: 103.90222537044\nRanggung,Lat: 1.38423355918277 Long: 103.897194667804\nCheng Lim,Lat: 1.39627763344324 Long: 103.893797181731\nFarmway,Lat: 1.39717019591821 Long: 103.889304824196\nKupang,Lat: 1.39821283031379 Long: 103.881256222255\nThanggam,Lat: 1.39731815581938 Long: 103.875635154729\nFernvale,Lat: 1.38830065620985 Long: 103.871170360902\nLayar,Lat: 1.39207983659997 Long: 103.880029600546\nTongkang,Lat: 1.38934794658941 Long: 103.885844150116\nRenjong,Lat: 1.38670058991904 Long: 103.89062131608\nPunggol,Lat: 1.39351971529878 Long: 103.913582341491\nCove,Lat: 1.39928198837342 Long: 103.905961941214\nMeridian,Lat: 1.31030754275962 Long: 103.910857272453\nCoral Edge,Lat: 1.39390922863313 Long: 103.912580845515\nRiviera,Lat: 1.32816337851711 Long: 103.863446045125\nKadaloor,Lat: 1.39950910636258 Long: 103.916574974234\nOasis,Lat: 1.28774358639098 Long: 103.790369856119\nDamai,Lat: 1.40461003085618 Long: 103.908665597491\nSam Kee,Lat: 1.40961268528804 Long: 103.904831550608\nTeck Lee,Lat: 1.4127708937463 Long: 103.906577622768\nPunggol Point,Lat: 1.41705069091257 Long: 103.912693600693\nSamudera,Lat: 1.41590172160383 Long: 103.902156317163\nNibong,Lat: 1.28356284045577 Long: 103.86285788037\nSumang,Lat: 1.40845241943079 Long: 103.898558450395\nSoo Teck,Lat: 1.40532331860455 Long: 103.897290522033\nWoodlands North,Lat: 1.44829245259621 Long: 103.785692682441\nWoodlands,Lat: 1.43357568988365 Long: 103.804329417963\nWoodlands South,Lat: 1.42135821290741 Long: 103.771878600332\nSpringleaf,Lat: 1.40087927084758 Long: 103.822458537752\nLentor,Lat: 1.39387482221826 Long: 103.833779991585\nBright Hill,Lat: 1.36051993644731 Long: 103.836519069051\nMayflower,Lat: 1.3727240259156 Long: 103.839545318136\nUpper Thomson,Lat: 1.37550156413587 Long: 103.829112311287\nCaldecott,Lat: 1.33760466044501 Long: 103.834571594837\n",
     "output_type": "stream"
    }
   ],
   "execution_count": null
  },
  {
   "cell_type": "code",
   "metadata": {
    "cell_id": "00009-3566c184-9587-4b7e-93c5-b6460148eb48",
    "deepnote_to_be_reexecuted": false,
    "source_hash": "1aae2bc8",
    "execution_start": 1647321225005,
    "execution_millis": 11,
    "deepnote_cell_type": "code",
    "deepnote_cell_height": 203.8125
   },
   "source": "# Check number of values \nprint(len(list_of_mrt))\nprint(len(mrt_lat))\nprint(len(mrt_long))",
   "outputs": [
    {
     "name": "stdout",
     "text": "192\n192\n192\n",
     "output_type": "stream"
    }
   ],
   "execution_count": null
  },
  {
   "cell_type": "code",
   "metadata": {
    "cell_id": "00010-b92f9d92-b8c3-4d6a-a95e-d5c49d7fc381",
    "deepnote_to_be_reexecuted": false,
    "source_hash": "24183743",
    "execution_start": 1647321225015,
    "execution_millis": 44,
    "deepnote_cell_type": "code",
    "deepnote_cell_height": 491.625,
    "deepnote_output_heights": [
     177.671875
    ]
   },
   "source": "# Store this information in a dataframe\nmrt_long_lat = pd.DataFrame({\n    'MRT': list_of_mrt,\n    'latitude': mrt_lat,\n    'longitude': mrt_long\n})\nmrt_long_lat.head()",
   "outputs": [
    {
     "output_type": "execute_result",
     "execution_count": 9,
     "data": {
      "application/vnd.deepnote.dataframe.v3+json": {
       "column_count": 3,
       "row_count": 5,
       "columns": [
        {
         "name": "MRT",
         "dtype": "object",
         "stats": {
          "unique_count": 5,
          "nan_count": 0,
          "categories": [
           {
            "name": "Jurong East",
            "count": 1
           },
           {
            "name": "Bukit Batok",
            "count": 1
           },
           {
            "name": "3 others",
            "count": 3
           }
          ]
         }
        },
        {
         "name": "latitude",
         "dtype": "object",
         "stats": {
          "unique_count": 5,
          "nan_count": 0,
          "categories": [
           {
            "name": "1.3468080909852",
            "count": 1
           },
           {
            "name": "1.34971948024642",
            "count": 1
           },
           {
            "name": "3 others",
            "count": 3
           }
          ]
         }
        },
        {
         "name": "longitude",
         "dtype": "object",
         "stats": {
          "unique_count": 5,
          "nan_count": 0,
          "categories": [
           {
            "name": "103.732570156371",
            "count": 1
           },
           {
            "name": "103.750968656542",
            "count": 1
           },
           {
            "name": "3 others",
            "count": 3
           }
          ]
         }
        },
        {
         "name": "_deepnote_index_column",
         "dtype": "int64"
        }
       ],
       "rows": [
        {
         "MRT": "Jurong East",
         "latitude": "1.3468080909852",
         "longitude": "103.732570156371",
         "_deepnote_index_column": 0
        },
        {
         "MRT": "Bukit Batok",
         "latitude": "1.34971948024642",
         "longitude": "103.750968656542",
         "_deepnote_index_column": 1
        },
        {
         "MRT": "Bukit Gombak",
         "latitude": "1.36731012055308",
         "longitude": "103.752439780696",
         "_deepnote_index_column": 2
        },
        {
         "MRT": "Choa Chu Kang",
         "latitude": "1.37698423514519",
         "longitude": "103.695087601092",
         "_deepnote_index_column": 3
        },
        {
         "MRT": "Yew Tee",
         "latitude": "1.39483312455963",
         "longitude": "103.744790526006",
         "_deepnote_index_column": 4
        }
       ]
      },
      "text/plain": "             MRT          latitude         longitude\n0    Jurong East   1.3468080909852  103.732570156371\n1    Bukit Batok  1.34971948024642  103.750968656542\n2   Bukit Gombak  1.36731012055308  103.752439780696\n3  Choa Chu Kang  1.37698423514519  103.695087601092\n4        Yew Tee  1.39483312455963  103.744790526006",
      "text/html": "<div>\n<style scoped>\n    .dataframe tbody tr th:only-of-type {\n        vertical-align: middle;\n    }\n\n    .dataframe tbody tr th {\n        vertical-align: top;\n    }\n\n    .dataframe thead th {\n        text-align: right;\n    }\n</style>\n<table border=\"1\" class=\"dataframe\">\n  <thead>\n    <tr style=\"text-align: right;\">\n      <th></th>\n      <th>MRT</th>\n      <th>latitude</th>\n      <th>longitude</th>\n    </tr>\n  </thead>\n  <tbody>\n    <tr>\n      <th>0</th>\n      <td>Jurong East</td>\n      <td>1.3468080909852</td>\n      <td>103.732570156371</td>\n    </tr>\n    <tr>\n      <th>1</th>\n      <td>Bukit Batok</td>\n      <td>1.34971948024642</td>\n      <td>103.750968656542</td>\n    </tr>\n    <tr>\n      <th>2</th>\n      <td>Bukit Gombak</td>\n      <td>1.36731012055308</td>\n      <td>103.752439780696</td>\n    </tr>\n    <tr>\n      <th>3</th>\n      <td>Choa Chu Kang</td>\n      <td>1.37698423514519</td>\n      <td>103.695087601092</td>\n    </tr>\n    <tr>\n      <th>4</th>\n      <td>Yew Tee</td>\n      <td>1.39483312455963</td>\n      <td>103.744790526006</td>\n    </tr>\n  </tbody>\n</table>\n</div>"
     },
     "metadata": {}
    }
   ],
   "execution_count": null
  },
  {
   "cell_type": "code",
   "metadata": {
    "cell_id": "00011-aa2e1afe-abf6-4288-ba5f-f11498d45f54",
    "deepnote_to_be_reexecuted": false,
    "source_hash": "413eb11a",
    "execution_start": 1647321225056,
    "execution_millis": 0,
    "deepnote_cell_type": "code",
    "deepnote_cell_height": 99.15625
   },
   "source": "mrt_long_lat.latitude = mrt_long_lat.latitude.astype(float)\nmrt_long_lat.longitude = mrt_long_lat.longitude.astype(float)",
   "outputs": [],
   "execution_count": null
  },
  {
   "cell_type": "code",
   "metadata": {
    "cell_id": "00012-f506704c-c5d9-48c4-b955-3537727c9ef6",
    "deepnote_to_be_reexecuted": false,
    "source_hash": "57de4f9b",
    "execution_start": 1647321225062,
    "execution_millis": 43,
    "deepnote_cell_type": "code",
    "deepnote_cell_height": 189.078125
   },
   "source": "# Build k-d tree with haversine distance metric, which expects\n# (lat, lon) in radians and returns distances in radians\ndist = DistanceMetric.get_metric('haversine')\ntree = BallTree(np.radians(mrt_long_lat[['latitude', 'longitude']]), metric=dist)",
   "outputs": [
    {
     "name": "stderr",
     "text": "/shared-libs/python3.9/py/lib/python3.9/site-packages/sklearn/neighbors/_distance_metric.py:10: FutureWarning: sklearn.neighbors.DistanceMetric has been moved to sklearn.metrics.DistanceMetric in 1.0. This import path will be removed in 1.3\n  warnings.warn(\n",
     "output_type": "stream"
    }
   ],
   "execution_count": null
  },
  {
   "cell_type": "code",
   "metadata": {
    "cell_id": "00013-d860f4f0-0a4d-4239-9f4f-972fe1fbe163",
    "deepnote_to_be_reexecuted": false,
    "source_hash": "a07bc98f",
    "execution_start": 1647321225101,
    "execution_millis": 97,
    "deepnote_cell_type": "code",
    "deepnote_cell_height": 135.171875
   },
   "source": "coords = np.radians(listings[['latitude', 'longitude']])\ndists, ilocs = tree.query(coords)\n# dists is in rad; convert to km\nlistings['dist_to_subway'] = dists.flatten() * 6367",
   "outputs": [],
   "execution_count": null
  },
  {
   "cell_type": "code",
   "metadata": {
    "cell_id": "00014-4b43eba0-7a6f-42fc-b94c-1f7ea74696a9",
    "deepnote_to_be_reexecuted": false,
    "source_hash": "517c9733",
    "execution_start": 1647321225204,
    "execution_millis": 662,
    "deepnote_cell_type": "code",
    "deepnote_cell_height": 81.15625
   },
   "source": "listings.to_csv('SG_dist_cleaned_listings.csv', index = False)",
   "outputs": [],
   "execution_count": null
  },
  {
   "cell_type": "code",
   "metadata": {
    "cell_id": "00015-07331a74-b578-4abb-8651-533a542f35bc",
    "deepnote_to_be_reexecuted": false,
    "source_hash": "6de877ee",
    "execution_start": 1647321225927,
    "execution_millis": 550,
    "deepnote_cell_type": "code",
    "deepnote_cell_height": 338.53125,
    "deepnote_output_heights": [
     150.65625
    ]
   },
   "source": "SG_listings = pd.read_csv(\"SG_dist_cleaned_listings.csv\")\nSG_listings.head(3)",
   "outputs": [
    {
     "output_type": "execute_result",
     "execution_count": 14,
     "data": {
      "application/vnd.deepnote.dataframe.v3+json": {
       "column_count": 46,
       "row_count": 3,
       "columns": [
        {
         "name": "id",
         "dtype": "int64",
         "stats": {
          "unique_count": 3,
          "nan_count": 0,
          "min": "50646",
          "max": "71896",
          "histogram": [
           {
            "bin_start": 50646,
            "bin_end": 52771,
            "count": 1
           },
           {
            "bin_start": 52771,
            "bin_end": 54896,
            "count": 0
           },
           {
            "bin_start": 54896,
            "bin_end": 57021,
            "count": 0
           },
           {
            "bin_start": 57021,
            "bin_end": 59146,
            "count": 0
           },
           {
            "bin_start": 59146,
            "bin_end": 61271,
            "count": 0
           },
           {
            "bin_start": 61271,
            "bin_end": 63396,
            "count": 0
           },
           {
            "bin_start": 63396,
            "bin_end": 65521,
            "count": 0
           },
           {
            "bin_start": 65521,
            "bin_end": 67646,
            "count": 0
           },
           {
            "bin_start": 67646,
            "bin_end": 69771,
            "count": 0
           },
           {
            "bin_start": 69771,
            "bin_end": 71896,
            "count": 2
           }
          ]
         }
        },
        {
         "name": "name",
         "dtype": "object",
         "stats": {
          "unique_count": 3,
          "nan_count": 0,
          "categories": [
           {
            "name": "Pleasant Room along Bukit Timah",
            "count": 1
           },
           {
            "name": "Ensuite Room (Room 1 & 2) near EXPO",
            "count": 1
           },
           {
            "name": "B&B  Room 1 near Airport & EXPO",
            "count": 1
           }
          ]
         }
        },
        {
         "name": "description",
         "dtype": "object",
         "stats": {
          "unique_count": 3,
          "nan_count": 0,
          "categories": [
           {
            "name": "Fully furnished bedroom with a nice view on the 10th floor of a newly built private condominium on one of the  most preferred residential estates in Singapore.   The space  Good Condition room, bright & windy. Comes with TV, Aircon, Bed, wardrobe. Can accommodate couples or 2 ladies or students for long-term rental only.   Guest access  Kitchen, washing facilities, gym, swimming pool, etc.   Other things to note  Accommodation has a queen size bed.  Suitable for Single, couples. The room cannot accommodate more than 2 adults.",
            "count": 1
           },
           {
            "name": "For 3 rooms.Book room 1&2 and room 4   The space  Landed Homestay Room for Rental. Between Simei and Expo Mrt. 2 bustop distance or 10-15min walking distant to Simei MRT.Bus n(phone number hidden).Clean and well maintain aircon room. We also provide Short and Long term room rental .Free 24 hrs Wireless Internet Access Available. Rates are inclusive of utilities & wifi internet. Both room can accomodate up to 6 max. Complimentary: Use of washer, iron with ironing board, hairdryer, towels, toiletries & change of bedding for extended stay. For use of Dryer additional charge of $10 will be imposed. Light cooking is allowed.Use of Gas subject to cooking not for use of drying clothes or misuse will be charged at $10 per min  Neighbourhood: A residential area, with schools, shopping malls, sports facilities such as gym, basketball & badminton courts at Changi Simei CC. Food Courts/Coffee Shop At least 5 of them in the vicin",
            "count": 1
           },
           {
            "name": " The space  Vocational Stay Deluxe Bedroom in Singapore.(Near Airport)    Located Between    - Simei and Expo Mrt    - 2 bustop distance or 10-15min walking distant to Simei MRT.   - Bus no 2,5,9,12,24 38.    Services provided   - Daily Cleaning of Room   - Free Usage of Ironing and Washing Machine (Detergent is not provided)   - Laundry (Additional Charges)   - Dryer (Additional Charges)    - Change of towels, toiletries & change of bedding for extended stay.     Neighbourhood Consists of   -A residential area   -Neighbourhood Schools    -East Point Shopping Mall  -Changi City Point (Near Expo)   -Tampines Business & Shopping District (Tampines Mall, Tampines 1 & Century Square)   -Tampines Block 201, Housing Estate (Singaporean Cultural Spot)   -Changi Simei Community Centre     ~ Gym (S$3.50 per entry)     ~ Badminton Court (S$3 per hour)   -Neighbourhood",
            "count": 1
           }
          ]
         }
        },
        {
         "name": "neighborhood_overview",
         "dtype": "object",
         "stats": {
          "unique_count": 2,
          "nan_count": 0,
          "categories": [
           {
            "name": "No Data",
            "count": 2
           },
           {
            "name": "The serenity & quiet surrounding makes it an ideal place to come back to after work / play. Lovely birds chirping for a nice morning wake up (if you leave the windows open) are a pleasure to wake up to.  Located on the main road but at just a short walk in makes it an ideal neighbourhood with excellent transport facilities & food, supermarket, etc, all as required for a convenient living.",
            "count": 1
           }
          ]
         }
        },
        {
         "name": "host_since",
         "dtype": "object",
         "stats": {
          "unique_count": 2,
          "nan_count": 0,
          "categories": [
           {
            "name": "2011-01-29",
            "count": 2
           },
           {
            "name": "2010-09-08",
            "count": 1
           }
          ]
         }
        },
        {
         "name": "host_response_time",
         "dtype": "object",
         "stats": {
          "unique_count": 2,
          "nan_count": 0,
          "categories": [
           {
            "name": "within a day",
            "count": 2
           },
           {
            "name": "No Data",
            "count": 1
           }
          ]
         }
        },
        {
         "name": "host_response_rate",
         "dtype": "float64",
         "stats": {
          "unique_count": 1,
          "nan_count": 1,
          "min": "100.0",
          "max": "100.0",
          "histogram": [
           {
            "bin_start": 99.5,
            "bin_end": 99.6,
            "count": 0
           },
           {
            "bin_start": 99.6,
            "bin_end": 99.7,
            "count": 0
           },
           {
            "bin_start": 99.7,
            "bin_end": 99.8,
            "count": 0
           },
           {
            "bin_start": 99.8,
            "bin_end": 99.9,
            "count": 0
           },
           {
            "bin_start": 99.9,
            "bin_end": 100,
            "count": 0
           },
           {
            "bin_start": 100,
            "bin_end": 100.1,
            "count": 2
           },
           {
            "bin_start": 100.1,
            "bin_end": 100.2,
            "count": 0
           },
           {
            "bin_start": 100.2,
            "bin_end": 100.3,
            "count": 0
           },
           {
            "bin_start": 100.3,
            "bin_end": 100.4,
            "count": 0
           },
           {
            "bin_start": 100.4,
            "bin_end": 100.5,
            "count": 0
           }
          ]
         }
        },
        {
         "name": "host_acceptance_rate",
         "dtype": "float64",
         "stats": {
          "unique_count": 0,
          "nan_count": 3,
          "min": null,
          "max": null,
          "histogram": [
           {
            "bin_start": 0,
            "bin_end": 0.1,
            "count": 0
           },
           {
            "bin_start": 0.1,
            "bin_end": 0.2,
            "count": 0
           },
           {
            "bin_start": 0.2,
            "bin_end": 0.30000000000000004,
            "count": 0
           },
           {
            "bin_start": 0.30000000000000004,
            "bin_end": 0.4,
            "count": 0
           },
           {
            "bin_start": 0.4,
            "bin_end": 0.5,
            "count": 0
           },
           {
            "bin_start": 0.5,
            "bin_end": 0.6000000000000001,
            "count": 0
           },
           {
            "bin_start": 0.6000000000000001,
            "bin_end": 0.7000000000000001,
            "count": 0
           },
           {
            "bin_start": 0.7000000000000001,
            "bin_end": 0.8,
            "count": 0
           },
           {
            "bin_start": 0.8,
            "bin_end": 0.9,
            "count": 0
           },
           {
            "bin_start": 0.9,
            "bin_end": 1,
            "count": 0
           }
          ]
         }
        },
        {
         "name": "host_is_superhost",
         "dtype": "object",
         "stats": {
          "unique_count": 1,
          "nan_count": 0,
          "categories": [
           {
            "name": "f",
            "count": 3
           }
          ]
         }
        },
        {
         "name": "host_listings_count",
         "dtype": "float64",
         "stats": {
          "unique_count": 2,
          "nan_count": 0,
          "min": "1.0",
          "max": "8.0",
          "histogram": [
           {
            "bin_start": 1,
            "bin_end": 1.7,
            "count": 1
           },
           {
            "bin_start": 1.7,
            "bin_end": 2.4,
            "count": 0
           },
           {
            "bin_start": 2.4,
            "bin_end": 3.0999999999999996,
            "count": 0
           },
           {
            "bin_start": 3.0999999999999996,
            "bin_end": 3.8,
            "count": 0
           },
           {
            "bin_start": 3.8,
            "bin_end": 4.5,
            "count": 0
           },
           {
            "bin_start": 4.5,
            "bin_end": 5.199999999999999,
            "count": 0
           },
           {
            "bin_start": 5.199999999999999,
            "bin_end": 5.8999999999999995,
            "count": 0
           },
           {
            "bin_start": 5.8999999999999995,
            "bin_end": 6.6,
            "count": 0
           },
           {
            "bin_start": 6.6,
            "bin_end": 7.3,
            "count": 0
           },
           {
            "bin_start": 7.3,
            "bin_end": 8,
            "count": 2
           }
          ]
         }
        },
        {
         "name": "host_has_profile_pic",
         "dtype": "object",
         "stats": {
          "unique_count": 1,
          "nan_count": 0,
          "categories": [
           {
            "name": "t",
            "count": 3
           }
          ]
         }
        },
        {
         "name": "host_identity_verified",
         "dtype": "object",
         "stats": {
          "unique_count": 1,
          "nan_count": 0,
          "categories": [
           {
            "name": "t",
            "count": 3
           }
          ]
         }
        },
        {
         "name": "neighbourhood",
         "dtype": "object",
         "stats": {
          "unique_count": 2,
          "nan_count": 0,
          "categories": [
           {
            "name": "No Data",
            "count": 2
           },
           {
            "name": "Singapore, Singapore",
            "count": 1
           }
          ]
         }
        },
        {
         "name": "neighbourhood_cleansed",
         "dtype": "object",
         "stats": {
          "unique_count": 2,
          "nan_count": 0,
          "categories": [
           {
            "name": "Tampines",
            "count": 2
           },
           {
            "name": "Bukit Timah",
            "count": 1
           }
          ]
         }
        },
        {
         "name": "neighbourhood_group_cleansed",
         "dtype": "object",
         "stats": {
          "unique_count": 2,
          "nan_count": 0,
          "categories": [
           {
            "name": "East Region",
            "count": 2
           },
           {
            "name": "Central Region",
            "count": 1
           }
          ]
         }
        },
        {
         "name": "latitude",
         "dtype": "float64",
         "stats": {
          "unique_count": 3,
          "nan_count": 0,
          "min": "1.33432",
          "max": "1.34754",
          "histogram": [
           {
            "bin_start": 1.33432,
            "bin_end": 1.335642,
            "count": 1
           },
           {
            "bin_start": 1.335642,
            "bin_end": 1.336964,
            "count": 0
           },
           {
            "bin_start": 1.336964,
            "bin_end": 1.3382859999999999,
            "count": 0
           },
           {
            "bin_start": 1.3382859999999999,
            "bin_end": 1.339608,
            "count": 0
           },
           {
            "bin_start": 1.339608,
            "bin_end": 1.34093,
            "count": 0
           },
           {
            "bin_start": 1.34093,
            "bin_end": 1.342252,
            "count": 0
           },
           {
            "bin_start": 1.342252,
            "bin_end": 1.343574,
            "count": 0
           },
           {
            "bin_start": 1.343574,
            "bin_end": 1.3448959999999999,
            "count": 0
           },
           {
            "bin_start": 1.3448959999999999,
            "bin_end": 1.346218,
            "count": 1
           },
           {
            "bin_start": 1.346218,
            "bin_end": 1.34754,
            "count": 1
           }
          ]
         }
        },
        {
         "name": "longitude",
         "dtype": "float64",
         "stats": {
          "unique_count": 3,
          "nan_count": 0,
          "min": "103.78521",
          "max": "103.95958",
          "histogram": [
           {
            "bin_start": 103.78521,
            "bin_end": 103.80264700000001,
            "count": 1
           },
           {
            "bin_start": 103.80264700000001,
            "bin_end": 103.82008400000001,
            "count": 0
           },
           {
            "bin_start": 103.82008400000001,
            "bin_end": 103.83752100000001,
            "count": 0
           },
           {
            "bin_start": 103.83752100000001,
            "bin_end": 103.85495800000001,
            "count": 0
           },
           {
            "bin_start": 103.85495800000001,
            "bin_end": 103.87239500000001,
            "count": 0
           },
           {
            "bin_start": 103.87239500000001,
            "bin_end": 103.889832,
            "count": 0
           },
           {
            "bin_start": 103.889832,
            "bin_end": 103.907269,
            "count": 0
           },
           {
            "bin_start": 103.907269,
            "bin_end": 103.924706,
            "count": 0
           },
           {
            "bin_start": 103.924706,
            "bin_end": 103.942143,
            "count": 0
           },
           {
            "bin_start": 103.942143,
            "bin_end": 103.95958,
            "count": 2
           }
          ]
         }
        },
        {
         "name": "property_type",
         "dtype": "object",
         "stats": {
          "unique_count": 3,
          "nan_count": 0,
          "categories": [
           {
            "name": "Private room in rental unit",
            "count": 1
           },
           {
            "name": "Private room in villa",
            "count": 1
           },
           {
            "name": "Private room in residential home",
            "count": 1
           }
          ]
         }
        },
        {
         "name": "room_type",
         "dtype": "object",
         "stats": {
          "unique_count": 1,
          "nan_count": 0,
          "categories": [
           {
            "name": "Private room",
            "count": 3
           }
          ]
         }
        },
        {
         "name": "accommodates",
         "dtype": "int64",
         "stats": {
          "unique_count": 3,
          "nan_count": 0,
          "min": "2",
          "max": "6",
          "histogram": [
           {
            "bin_start": 2,
            "bin_end": 2.4,
            "count": 1
           },
           {
            "bin_start": 2.4,
            "bin_end": 2.8,
            "count": 0
           },
           {
            "bin_start": 2.8,
            "bin_end": 3.2,
            "count": 1
           },
           {
            "bin_start": 3.2,
            "bin_end": 3.6,
            "count": 0
           },
           {
            "bin_start": 3.6,
            "bin_end": 4,
            "count": 0
           },
           {
            "bin_start": 4,
            "bin_end": 4.4,
            "count": 0
           },
           {
            "bin_start": 4.4,
            "bin_end": 4.800000000000001,
            "count": 0
           },
           {
            "bin_start": 4.800000000000001,
            "bin_end": 5.2,
            "count": 0
           },
           {
            "bin_start": 5.2,
            "bin_end": 5.6,
            "count": 0
           },
           {
            "bin_start": 5.6,
            "bin_end": 6,
            "count": 1
           }
          ]
         }
        },
        {
         "name": "bathrooms_text",
         "dtype": "object",
         "stats": {
          "unique_count": 3,
          "nan_count": 0,
          "categories": [
           {
            "name": "1 bath",
            "count": 1
           },
           {
            "name": "1 private bath",
            "count": 1
           },
           {
            "name": "Shared half-bath",
            "count": 1
           }
          ]
         }
        },
        {
         "name": "bedrooms",
         "dtype": "int64",
         "stats": {
          "unique_count": 2,
          "nan_count": 0,
          "min": "1",
          "max": "2",
          "histogram": [
           {
            "bin_start": 1,
            "bin_end": 1.1,
            "count": 2
           },
           {
            "bin_start": 1.1,
            "bin_end": 1.2,
            "count": 0
           },
           {
            "bin_start": 1.2,
            "bin_end": 1.3,
            "count": 0
           },
           {
            "bin_start": 1.3,
            "bin_end": 1.4,
            "count": 0
           },
           {
            "bin_start": 1.4,
            "bin_end": 1.5,
            "count": 0
           },
           {
            "bin_start": 1.5,
            "bin_end": 1.6,
            "count": 0
           },
           {
            "bin_start": 1.6,
            "bin_end": 1.7000000000000002,
            "count": 0
           },
           {
            "bin_start": 1.7000000000000002,
            "bin_end": 1.8,
            "count": 0
           },
           {
            "bin_start": 1.8,
            "bin_end": 1.9,
            "count": 0
           },
           {
            "bin_start": 1.9,
            "bin_end": 2,
            "count": 1
           }
          ]
         }
        },
        {
         "name": "beds",
         "dtype": "int64",
         "stats": {
          "unique_count": 2,
          "nan_count": 0,
          "min": "1",
          "max": "3",
          "histogram": [
           {
            "bin_start": 1,
            "bin_end": 1.2,
            "count": 2
           },
           {
            "bin_start": 1.2,
            "bin_end": 1.4,
            "count": 0
           },
           {
            "bin_start": 1.4,
            "bin_end": 1.6,
            "count": 0
           },
           {
            "bin_start": 1.6,
            "bin_end": 1.8,
            "count": 0
           },
           {
            "bin_start": 1.8,
            "bin_end": 2,
            "count": 0
           },
           {
            "bin_start": 2,
            "bin_end": 2.2,
            "count": 0
           },
           {
            "bin_start": 2.2,
            "bin_end": 2.4000000000000004,
            "count": 0
           },
           {
            "bin_start": 2.4000000000000004,
            "bin_end": 2.6,
            "count": 0
           },
           {
            "bin_start": 2.6,
            "bin_end": 2.8,
            "count": 0
           },
           {
            "bin_start": 2.8,
            "bin_end": 3,
            "count": 1
           }
          ]
         }
        },
        {
         "name": "amenities",
         "dtype": "object",
         "stats": {
          "unique_count": 3,
          "nan_count": 0,
          "categories": [
           {
            "name": "[\"Shampoo\", \"Essentials\", \"Kitchen\", \"Long term stays allowed\", \"Washer\", \"Cable TV\", \"Elevator\", \"Wifi\", \"Gym\", \"Air conditioning\", \"Pool\", \"TV with standard cable\"]",
            "count": 1
           },
           {
            "name": "[\"Hangers\", \"Cooking basics\", \"Washer\", \"Hair dryer\", \"Fire pit\", \"Shared hot tub\", \"Outdoor furniture\", \"TV\", \"Dedicated workspace\", \"Children\\u2019s books and toys\", \"Long term stays allowed\", \"Outdoor dining area\", \"Private entrance\", \"Lock on bedroom door\", \"Refrigerator\", \"Dryer\", \"Free street parking\", \"Wifi\", \"Smoke alarm\", \"Luggage dropoff allowed\", \"Shampoo\", \"Keypad\", \"Hot water\", \"BBQ grill\", \"Iron\", \"Essentials\", \"Kitchen\", \"Private fenced garden or backyard\", \"Air conditioning\", \"Fire extinguisher\"]",
            "count": 1
           },
           {
            "name": "[\"Coffee maker\", \"Cooking basics\", \"Washer\", \"Hair dryer\", \"Fire pit\", \"Shared hot tub\", \"Outdoor furniture\", \"TV\", \"Paid parking on premises\", \"Long term stays allowed\", \"Outdoor dining area\", \"Private entrance\", \"Lock on bedroom door\", \"Refrigerator\", \"Dryer\", \"Free street parking\", \"Wifi\", \"Smoke alarm\", \"Shampoo\", \"Keypad\", \"Hot water\", \"BBQ grill\", \"Essentials\", \"Kitchen\", \"Private fenced garden or backyard\", \"Air conditioning\"]",
            "count": 1
           }
          ]
         }
        },
        {
         "name": "price",
         "dtype": "float64",
         "stats": {
          "unique_count": 3,
          "nan_count": 0,
          "min": "80.0",
          "max": "179.0",
          "histogram": [
           {
            "bin_start": 80,
            "bin_end": 89.9,
            "count": 2
           },
           {
            "bin_start": 89.9,
            "bin_end": 99.8,
            "count": 0
           },
           {
            "bin_start": 99.8,
            "bin_end": 109.7,
            "count": 0
           },
           {
            "bin_start": 109.7,
            "bin_end": 119.6,
            "count": 0
           },
           {
            "bin_start": 119.6,
            "bin_end": 129.5,
            "count": 0
           },
           {
            "bin_start": 129.5,
            "bin_end": 139.4,
            "count": 0
           },
           {
            "bin_start": 139.4,
            "bin_end": 149.3,
            "count": 0
           },
           {
            "bin_start": 149.3,
            "bin_end": 159.2,
            "count": 0
           },
           {
            "bin_start": 159.2,
            "bin_end": 169.10000000000002,
            "count": 0
           },
           {
            "bin_start": 169.10000000000002,
            "bin_end": 179,
            "count": 1
           }
          ]
         }
        },
        {
         "name": "minimum_nights",
         "dtype": "int64",
         "stats": {
          "unique_count": 2,
          "nan_count": 0,
          "min": "90",
          "max": "92",
          "histogram": [
           {
            "bin_start": 90,
            "bin_end": 90.2,
            "count": 1
           },
           {
            "bin_start": 90.2,
            "bin_end": 90.4,
            "count": 0
           },
           {
            "bin_start": 90.4,
            "bin_end": 90.6,
            "count": 0
           },
           {
            "bin_start": 90.6,
            "bin_end": 90.8,
            "count": 0
           },
           {
            "bin_start": 90.8,
            "bin_end": 91,
            "count": 0
           },
           {
            "bin_start": 91,
            "bin_end": 91.2,
            "count": 0
           },
           {
            "bin_start": 91.2,
            "bin_end": 91.4,
            "count": 0
           },
           {
            "bin_start": 91.4,
            "bin_end": 91.6,
            "count": 0
           },
           {
            "bin_start": 91.6,
            "bin_end": 91.8,
            "count": 0
           },
           {
            "bin_start": 91.8,
            "bin_end": 92,
            "count": 2
           }
          ]
         }
        },
        {
         "name": "maximum_nights",
         "dtype": "int64",
         "stats": {
          "unique_count": 2,
          "nan_count": 0,
          "min": "730",
          "max": "1125",
          "histogram": [
           {
            "bin_start": 730,
            "bin_end": 769.5,
            "count": 1
           },
           {
            "bin_start": 769.5,
            "bin_end": 809,
            "count": 0
           },
           {
            "bin_start": 809,
            "bin_end": 848.5,
            "count": 0
           },
           {
            "bin_start": 848.5,
            "bin_end": 888,
            "count": 0
           },
           {
            "bin_start": 888,
            "bin_end": 927.5,
            "count": 0
           },
           {
            "bin_start": 927.5,
            "bin_end": 967,
            "count": 0
           },
           {
            "bin_start": 967,
            "bin_end": 1006.5,
            "count": 0
           },
           {
            "bin_start": 1006.5,
            "bin_end": 1046,
            "count": 0
           },
           {
            "bin_start": 1046,
            "bin_end": 1085.5,
            "count": 0
           },
           {
            "bin_start": 1085.5,
            "bin_end": 1125,
            "count": 2
           }
          ]
         }
        },
        {
         "name": "has_availability",
         "dtype": "object",
         "stats": {
          "unique_count": 1,
          "nan_count": 0,
          "categories": [
           {
            "name": "t",
            "count": 3
           }
          ]
         }
        },
        {
         "name": "availability_30",
         "dtype": "int64",
         "stats": {
          "unique_count": 1,
          "nan_count": 0,
          "min": "30",
          "max": "30",
          "histogram": [
           {
            "bin_start": 29.5,
            "bin_end": 29.6,
            "count": 0
           },
           {
            "bin_start": 29.6,
            "bin_end": 29.7,
            "count": 0
           },
           {
            "bin_start": 29.7,
            "bin_end": 29.8,
            "count": 0
           },
           {
            "bin_start": 29.8,
            "bin_end": 29.9,
            "count": 0
           },
           {
            "bin_start": 29.9,
            "bin_end": 30,
            "count": 0
           },
           {
            "bin_start": 30,
            "bin_end": 30.1,
            "count": 3
           },
           {
            "bin_start": 30.1,
            "bin_end": 30.2,
            "count": 0
           },
           {
            "bin_start": 30.2,
            "bin_end": 30.3,
            "count": 0
           },
           {
            "bin_start": 30.3,
            "bin_end": 30.4,
            "count": 0
           },
           {
            "bin_start": 30.4,
            "bin_end": 30.5,
            "count": 0
           }
          ]
         }
        },
        {
         "name": "availability_60",
         "dtype": "int64",
         "stats": {
          "unique_count": 1,
          "nan_count": 0,
          "min": "60",
          "max": "60",
          "histogram": [
           {
            "bin_start": 59.5,
            "bin_end": 59.6,
            "count": 0
           },
           {
            "bin_start": 59.6,
            "bin_end": 59.7,
            "count": 0
           },
           {
            "bin_start": 59.7,
            "bin_end": 59.8,
            "count": 0
           },
           {
            "bin_start": 59.8,
            "bin_end": 59.9,
            "count": 0
           },
           {
            "bin_start": 59.9,
            "bin_end": 60,
            "count": 0
           },
           {
            "bin_start": 60,
            "bin_end": 60.1,
            "count": 3
           },
           {
            "bin_start": 60.1,
            "bin_end": 60.2,
            "count": 0
           },
           {
            "bin_start": 60.2,
            "bin_end": 60.3,
            "count": 0
           },
           {
            "bin_start": 60.3,
            "bin_end": 60.4,
            "count": 0
           },
           {
            "bin_start": 60.4,
            "bin_end": 60.5,
            "count": 0
           }
          ]
         }
        },
        {
         "name": "availability_90",
         "dtype": "int64",
         "stats": {
          "unique_count": 1,
          "nan_count": 0,
          "min": "90",
          "max": "90",
          "histogram": [
           {
            "bin_start": 89.5,
            "bin_end": 89.6,
            "count": 0
           },
           {
            "bin_start": 89.6,
            "bin_end": 89.7,
            "count": 0
           },
           {
            "bin_start": 89.7,
            "bin_end": 89.8,
            "count": 0
           },
           {
            "bin_start": 89.8,
            "bin_end": 89.9,
            "count": 0
           },
           {
            "bin_start": 89.9,
            "bin_end": 90,
            "count": 0
           },
           {
            "bin_start": 90,
            "bin_end": 90.1,
            "count": 3
           },
           {
            "bin_start": 90.1,
            "bin_end": 90.2,
            "count": 0
           },
           {
            "bin_start": 90.2,
            "bin_end": 90.3,
            "count": 0
           },
           {
            "bin_start": 90.3,
            "bin_end": 90.4,
            "count": 0
           },
           {
            "bin_start": 90.4,
            "bin_end": 90.5,
            "count": 0
           }
          ]
         }
        },
        {
         "name": "availability_365",
         "dtype": "int64",
         "stats": {
          "unique_count": 1,
          "nan_count": 0,
          "min": "365",
          "max": "365",
          "histogram": [
           {
            "bin_start": 364.5,
            "bin_end": 364.6,
            "count": 0
           },
           {
            "bin_start": 364.6,
            "bin_end": 364.7,
            "count": 0
           },
           {
            "bin_start": 364.7,
            "bin_end": 364.8,
            "count": 0
           },
           {
            "bin_start": 364.8,
            "bin_end": 364.9,
            "count": 0
           },
           {
            "bin_start": 364.9,
            "bin_end": 365,
            "count": 0
           },
           {
            "bin_start": 365,
            "bin_end": 365.1,
            "count": 3
           },
           {
            "bin_start": 365.1,
            "bin_end": 365.2,
            "count": 0
           },
           {
            "bin_start": 365.2,
            "bin_end": 365.3,
            "count": 0
           },
           {
            "bin_start": 365.3,
            "bin_end": 365.4,
            "count": 0
           },
           {
            "bin_start": 365.4,
            "bin_end": 365.5,
            "count": 0
           }
          ]
         }
        },
        {
         "name": "number_of_reviews",
         "dtype": "int64",
         "stats": {
          "unique_count": 3,
          "nan_count": 0,
          "min": "18",
          "max": "24",
          "histogram": [
           {
            "bin_start": 18,
            "bin_end": 18.6,
            "count": 1
           },
           {
            "bin_start": 18.6,
            "bin_end": 19.2,
            "count": 0
           },
           {
            "bin_start": 19.2,
            "bin_end": 19.8,
            "count": 0
           },
           {
            "bin_start": 19.8,
            "bin_end": 20.4,
            "count": 1
           },
           {
            "bin_start": 20.4,
            "bin_end": 21,
            "count": 0
           },
           {
            "bin_start": 21,
            "bin_end": 21.6,
            "count": 0
           },
           {
            "bin_start": 21.6,
            "bin_end": 22.2,
            "count": 0
           },
           {
            "bin_start": 22.2,
            "bin_end": 22.8,
            "count": 0
           },
           {
            "bin_start": 22.8,
            "bin_end": 23.4,
            "count": 0
           },
           {
            "bin_start": 23.4,
            "bin_end": 24,
            "count": 1
           }
          ]
         }
        },
        {
         "name": "number_of_reviews_ltm",
         "dtype": "int64",
         "stats": {
          "unique_count": 1,
          "nan_count": 0,
          "min": "0",
          "max": "0",
          "histogram": [
           {
            "bin_start": -0.5,
            "bin_end": -0.4,
            "count": 0
           },
           {
            "bin_start": -0.4,
            "bin_end": -0.3,
            "count": 0
           },
           {
            "bin_start": -0.3,
            "bin_end": -0.19999999999999996,
            "count": 0
           },
           {
            "bin_start": -0.19999999999999996,
            "bin_end": -0.09999999999999998,
            "count": 0
           },
           {
            "bin_start": -0.09999999999999998,
            "bin_end": 0,
            "count": 0
           },
           {
            "bin_start": 0,
            "bin_end": 0.10000000000000009,
            "count": 3
           },
           {
            "bin_start": 0.10000000000000009,
            "bin_end": 0.20000000000000007,
            "count": 0
           },
           {
            "bin_start": 0.20000000000000007,
            "bin_end": 0.30000000000000004,
            "count": 0
           },
           {
            "bin_start": 0.30000000000000004,
            "bin_end": 0.4,
            "count": 0
           },
           {
            "bin_start": 0.4,
            "bin_end": 0.5,
            "count": 0
           }
          ]
         }
        },
        {
         "name": "number_of_reviews_l30d",
         "dtype": "int64",
         "stats": {
          "unique_count": 1,
          "nan_count": 0,
          "min": "0",
          "max": "0",
          "histogram": [
           {
            "bin_start": -0.5,
            "bin_end": -0.4,
            "count": 0
           },
           {
            "bin_start": -0.4,
            "bin_end": -0.3,
            "count": 0
           },
           {
            "bin_start": -0.3,
            "bin_end": -0.19999999999999996,
            "count": 0
           },
           {
            "bin_start": -0.19999999999999996,
            "bin_end": -0.09999999999999998,
            "count": 0
           },
           {
            "bin_start": -0.09999999999999998,
            "bin_end": 0,
            "count": 0
           },
           {
            "bin_start": 0,
            "bin_end": 0.10000000000000009,
            "count": 3
           },
           {
            "bin_start": 0.10000000000000009,
            "bin_end": 0.20000000000000007,
            "count": 0
           },
           {
            "bin_start": 0.20000000000000007,
            "bin_end": 0.30000000000000004,
            "count": 0
           },
           {
            "bin_start": 0.30000000000000004,
            "bin_end": 0.4,
            "count": 0
           },
           {
            "bin_start": 0.4,
            "bin_end": 0.5,
            "count": 0
           }
          ]
         }
        },
        {
         "name": "review_scores_rating",
         "dtype": "float64",
         "stats": {
          "unique_count": 3,
          "nan_count": 0,
          "min": "4.16",
          "max": "4.56",
          "histogram": [
           {
            "bin_start": 4.16,
            "bin_end": 4.2,
            "count": 1
           },
           {
            "bin_start": 4.2,
            "bin_end": 4.24,
            "count": 0
           },
           {
            "bin_start": 4.24,
            "bin_end": 4.28,
            "count": 0
           },
           {
            "bin_start": 4.28,
            "bin_end": 4.32,
            "count": 0
           },
           {
            "bin_start": 4.32,
            "bin_end": 4.359999999999999,
            "count": 0
           },
           {
            "bin_start": 4.359999999999999,
            "bin_end": 4.3999999999999995,
            "count": 0
           },
           {
            "bin_start": 4.3999999999999995,
            "bin_end": 4.4399999999999995,
            "count": 0
           },
           {
            "bin_start": 4.4399999999999995,
            "bin_end": 4.4799999999999995,
            "count": 1
           },
           {
            "bin_start": 4.4799999999999995,
            "bin_end": 4.52,
            "count": 0
           },
           {
            "bin_start": 4.52,
            "bin_end": 4.56,
            "count": 1
           }
          ]
         }
        },
        {
         "name": "review_scores_accuracy",
         "dtype": "float64",
         "stats": {
          "unique_count": 3,
          "nan_count": 0,
          "min": "4.22",
          "max": "4.72",
          "histogram": [
           {
            "bin_start": 4.22,
            "bin_end": 4.27,
            "count": 1
           },
           {
            "bin_start": 4.27,
            "bin_end": 4.319999999999999,
            "count": 0
           },
           {
            "bin_start": 4.319999999999999,
            "bin_end": 4.37,
            "count": 0
           },
           {
            "bin_start": 4.37,
            "bin_end": 4.42,
            "count": 1
           },
           {
            "bin_start": 4.42,
            "bin_end": 4.47,
            "count": 0
           },
           {
            "bin_start": 4.47,
            "bin_end": 4.52,
            "count": 0
           },
           {
            "bin_start": 4.52,
            "bin_end": 4.569999999999999,
            "count": 0
           },
           {
            "bin_start": 4.569999999999999,
            "bin_end": 4.62,
            "count": 0
           },
           {
            "bin_start": 4.62,
            "bin_end": 4.67,
            "count": 0
           },
           {
            "bin_start": 4.67,
            "bin_end": 4.72,
            "count": 1
           }
          ]
         }
        },
        {
         "name": "review_scores_cleanliness",
         "dtype": "float64",
         "stats": {
          "unique_count": 3,
          "nan_count": 0,
          "min": "4.0",
          "max": "4.78",
          "histogram": [
           {
            "bin_start": 4,
            "bin_end": 4.078,
            "count": 1
           },
           {
            "bin_start": 4.078,
            "bin_end": 4.156,
            "count": 1
           },
           {
            "bin_start": 4.156,
            "bin_end": 4.234,
            "count": 0
           },
           {
            "bin_start": 4.234,
            "bin_end": 4.312,
            "count": 0
           },
           {
            "bin_start": 4.312,
            "bin_end": 4.390000000000001,
            "count": 0
           },
           {
            "bin_start": 4.390000000000001,
            "bin_end": 4.468,
            "count": 0
           },
           {
            "bin_start": 4.468,
            "bin_end": 4.546,
            "count": 0
           },
           {
            "bin_start": 4.546,
            "bin_end": 4.6240000000000006,
            "count": 0
           },
           {
            "bin_start": 4.6240000000000006,
            "bin_end": 4.702,
            "count": 0
           },
           {
            "bin_start": 4.702,
            "bin_end": 4.78,
            "count": 1
           }
          ]
         }
        },
        {
         "name": "review_scores_checkin",
         "dtype": "float64",
         "stats": {
          "unique_count": 3,
          "nan_count": 0,
          "min": "4.43",
          "max": "4.78",
          "histogram": [
           {
            "bin_start": 4.43,
            "bin_end": 4.465,
            "count": 1
           },
           {
            "bin_start": 4.465,
            "bin_end": 4.5,
            "count": 0
           },
           {
            "bin_start": 4.5,
            "bin_end": 4.535,
            "count": 0
           },
           {
            "bin_start": 4.535,
            "bin_end": 4.57,
            "count": 0
           },
           {
            "bin_start": 4.57,
            "bin_end": 4.605,
            "count": 0
           },
           {
            "bin_start": 4.605,
            "bin_end": 4.64,
            "count": 1
           },
           {
            "bin_start": 4.64,
            "bin_end": 4.675,
            "count": 0
           },
           {
            "bin_start": 4.675,
            "bin_end": 4.71,
            "count": 0
           },
           {
            "bin_start": 4.71,
            "bin_end": 4.745,
            "count": 0
           },
           {
            "bin_start": 4.745,
            "bin_end": 4.78,
            "count": 1
           }
          ]
         }
        },
        {
         "name": "review_scores_communication",
         "dtype": "float64",
         "stats": {
          "unique_count": 3,
          "nan_count": 0,
          "min": "4.43",
          "max": "4.94",
          "histogram": [
           {
            "bin_start": 4.43,
            "bin_end": 4.481,
            "count": 1
           },
           {
            "bin_start": 4.481,
            "bin_end": 4.532,
            "count": 0
           },
           {
            "bin_start": 4.532,
            "bin_end": 4.583,
            "count": 0
           },
           {
            "bin_start": 4.583,
            "bin_end": 4.634,
            "count": 0
           },
           {
            "bin_start": 4.634,
            "bin_end": 4.6850000000000005,
            "count": 0
           },
           {
            "bin_start": 4.6850000000000005,
            "bin_end": 4.736,
            "count": 0
           },
           {
            "bin_start": 4.736,
            "bin_end": 4.787,
            "count": 1
           },
           {
            "bin_start": 4.787,
            "bin_end": 4.838,
            "count": 0
           },
           {
            "bin_start": 4.838,
            "bin_end": 4.889,
            "count": 0
           },
           {
            "bin_start": 4.889,
            "bin_end": 4.94,
            "count": 1
           }
          ]
         }
        },
        {
         "name": "review_scores_location",
         "dtype": "float64",
         "stats": {
          "unique_count": 3,
          "nan_count": 0,
          "min": "4.17",
          "max": "4.72",
          "histogram": [
           {
            "bin_start": 4.17,
            "bin_end": 4.225,
            "count": 1
           },
           {
            "bin_start": 4.225,
            "bin_end": 4.28,
            "count": 1
           },
           {
            "bin_start": 4.28,
            "bin_end": 4.335,
            "count": 0
           },
           {
            "bin_start": 4.335,
            "bin_end": 4.39,
            "count": 0
           },
           {
            "bin_start": 4.39,
            "bin_end": 4.445,
            "count": 0
           },
           {
            "bin_start": 4.445,
            "bin_end": 4.5,
            "count": 0
           },
           {
            "bin_start": 4.5,
            "bin_end": 4.555,
            "count": 0
           },
           {
            "bin_start": 4.555,
            "bin_end": 4.609999999999999,
            "count": 0
           },
           {
            "bin_start": 4.609999999999999,
            "bin_end": 4.665,
            "count": 0
           },
           {
            "bin_start": 4.665,
            "bin_end": 4.72,
            "count": 1
           }
          ]
         }
        },
        {
         "name": "review_scores_value",
         "dtype": "float64",
         "stats": {
          "unique_count": 3,
          "nan_count": 0,
          "min": "4.04",
          "max": "4.5",
          "histogram": [
           {
            "bin_start": 4.04,
            "bin_end": 4.086,
            "count": 1
           },
           {
            "bin_start": 4.086,
            "bin_end": 4.132,
            "count": 0
           },
           {
            "bin_start": 4.132,
            "bin_end": 4.178,
            "count": 0
           },
           {
            "bin_start": 4.178,
            "bin_end": 4.224,
            "count": 0
           },
           {
            "bin_start": 4.224,
            "bin_end": 4.27,
            "count": 0
           },
           {
            "bin_start": 4.27,
            "bin_end": 4.316,
            "count": 0
           },
           {
            "bin_start": 4.316,
            "bin_end": 4.362,
            "count": 1
           },
           {
            "bin_start": 4.362,
            "bin_end": 4.408,
            "count": 0
           },
           {
            "bin_start": 4.408,
            "bin_end": 4.454,
            "count": 0
           },
           {
            "bin_start": 4.454,
            "bin_end": 4.5,
            "count": 1
           }
          ]
         }
        },
        {
         "name": "instant_bookable",
         "dtype": "object",
         "stats": {
          "unique_count": 1,
          "nan_count": 0,
          "categories": [
           {
            "name": "f",
            "count": 3
           }
          ]
         }
        },
        {
         "name": "calculated_host_listings_count",
         "dtype": "int64",
         "stats": {
          "unique_count": 2,
          "nan_count": 0,
          "min": "1",
          "max": "5",
          "histogram": [
           {
            "bin_start": 1,
            "bin_end": 1.4,
            "count": 1
           },
           {
            "bin_start": 1.4,
            "bin_end": 1.8,
            "count": 0
           },
           {
            "bin_start": 1.8,
            "bin_end": 2.2,
            "count": 0
           },
           {
            "bin_start": 2.2,
            "bin_end": 2.6,
            "count": 0
           },
           {
            "bin_start": 2.6,
            "bin_end": 3,
            "count": 0
           },
           {
            "bin_start": 3,
            "bin_end": 3.4000000000000004,
            "count": 0
           },
           {
            "bin_start": 3.4000000000000004,
            "bin_end": 3.8000000000000003,
            "count": 0
           },
           {
            "bin_start": 3.8000000000000003,
            "bin_end": 4.2,
            "count": 0
           },
           {
            "bin_start": 4.2,
            "bin_end": 4.6,
            "count": 0
           },
           {
            "bin_start": 4.6,
            "bin_end": 5,
            "count": 2
           }
          ]
         }
        },
        {
         "name": "amenities_str",
         "dtype": "object",
         "stats": {
          "unique_count": 3,
          "nan_count": 0,
          "categories": [
           {
            "name": "\"Shampoo\", \"Essentials\", \"Kitchen\", \"Long term stays allowed\", \"Washer\", \"Cable TV\", \"Elevator\", \"Wifi\", \"Gym\", \"Air conditioning\", \"Pool\", \"TV with standard cable\"",
            "count": 1
           },
           {
            "name": "\"Hangers\", \"Cooking basics\", \"Washer\", \"Hair dryer\", \"Fire pit\", \"Shared hot tub\", \"Outdoor furniture\", \"TV\", \"Dedicated workspace\", \"Children\\u2019s books and toys\", \"Long term stays allowed\", \"Outdoor dining area\", \"Private entrance\", \"Lock on bedroom door\", \"Refrigerator\", \"Dryer\", \"Free street parking\", \"Wifi\", \"Smoke alarm\", \"Luggage dropoff allowed\", \"Shampoo\", \"Keypad\", \"Hot water\", \"BBQ grill\", \"Iron\", \"Essentials\", \"Kitchen\", \"Private fenced garden or backyard\", \"Air conditioning\", \"Fire extinguisher\"",
            "count": 1
           },
           {
            "name": "\"Coffee maker\", \"Cooking basics\", \"Washer\", \"Hair dryer\", \"Fire pit\", \"Shared hot tub\", \"Outdoor furniture\", \"TV\", \"Paid parking on premises\", \"Long term stays allowed\", \"Outdoor dining area\", \"Private entrance\", \"Lock on bedroom door\", \"Refrigerator\", \"Dryer\", \"Free street parking\", \"Wifi\", \"Smoke alarm\", \"Shampoo\", \"Keypad\", \"Hot water\", \"BBQ grill\", \"Essentials\", \"Kitchen\", \"Private fenced garden or backyard\", \"Air conditioning\"",
            "count": 1
           }
          ]
         }
        },
        {
         "name": "dist_to_subway",
         "dtype": "float64",
         "stats": {
          "unique_count": 3,
          "nan_count": 0,
          "min": "0.5349951408052672",
          "max": "0.9261668336215994",
          "histogram": [
           {
            "bin_start": 0.5349951408052672,
            "bin_end": 0.5741123100869004,
            "count": 1
           },
           {
            "bin_start": 0.5741123100869004,
            "bin_end": 0.6132294793685337,
            "count": 0
           },
           {
            "bin_start": 0.6132294793685337,
            "bin_end": 0.6523466486501669,
            "count": 0
           },
           {
            "bin_start": 0.6523466486501669,
            "bin_end": 0.6914638179318,
            "count": 0
           },
           {
            "bin_start": 0.6914638179318,
            "bin_end": 0.7305809872134332,
            "count": 0
           },
           {
            "bin_start": 0.7305809872134332,
            "bin_end": 0.7696981564950665,
            "count": 0
           },
           {
            "bin_start": 0.7696981564950665,
            "bin_end": 0.8088153257766997,
            "count": 1
           },
           {
            "bin_start": 0.8088153257766997,
            "bin_end": 0.8479324950583329,
            "count": 0
           },
           {
            "bin_start": 0.8479324950583329,
            "bin_end": 0.8870496643399661,
            "count": 0
           },
           {
            "bin_start": 0.8870496643399661,
            "bin_end": 0.9261668336215994,
            "count": 1
           }
          ]
         }
        },
        {
         "name": "_deepnote_index_column",
         "dtype": "int64"
        }
       ],
       "rows": [
        {
         "id": 50646,
         "name": "Pleasant Room along Bukit Timah",
         "description": "Fully furnished bedroom with a nice view on the 10th floor of a newly built private condominium on …",
         "neighborhood_overview": "The serenity & quiet surrounding makes it an ideal place to come back to after work / play. Lovely …",
         "host_since": "2010-09-08",
         "host_response_time": "No Data",
         "host_response_rate": "nan",
         "host_acceptance_rate": "nan",
         "host_is_superhost": "f",
         "host_listings_count": 1,
         "host_has_profile_pic": "t",
         "host_identity_verified": "t",
         "neighbourhood": "Singapore, Singapore",
         "neighbourhood_cleansed": "Bukit Timah",
         "neighbourhood_group_cleansed": "Central Region",
         "latitude": 1.33432,
         "longitude": 103.78521,
         "property_type": "Private room in rental unit",
         "room_type": "Private room",
         "accommodates": 2,
         "bathrooms_text": "1 bath",
         "bedrooms": 1,
         "beds": 1,
         "amenities": "[\"Shampoo\", \"Essentials\", \"Kitchen\", \"Long term stays allowed\", \"Washer\", \"Cable TV\", \"Elevator\", \"…",
         "price": 80,
         "minimum_nights": 90,
         "maximum_nights": 730,
         "has_availability": "t",
         "availability_30": 30,
         "availability_60": 60,
         "availability_90": 90,
         "availability_365": 365,
         "number_of_reviews": 18,
         "number_of_reviews_ltm": 0,
         "number_of_reviews_l30d": 0,
         "review_scores_rating": 4.56,
         "review_scores_accuracy": 4.72,
         "review_scores_cleanliness": 4.78,
         "review_scores_checkin": 4.78,
         "review_scores_communication": 4.94,
         "review_scores_location": 4.72,
         "review_scores_value": 4.5,
         "instant_bookable": "f",
         "calculated_host_listings_count": 1,
         "amenities_str": "\"Shampoo\", \"Essentials\", \"Kitchen\", \"Long term stays allowed\", \"Washer\", \"Cable TV\", \"Elevator\", \"W…",
         "dist_to_subway": 0.5349951408052672,
         "_deepnote_index_column": 0
        },
        {
         "id": 71609,
         "name": "Ensuite Room (Room 1 & 2) near EXPO",
         "description": "For 3 rooms.Book room 1&2 and room 4   The space  Landed Homestay Room for Rental. Between Simei an…",
         "neighborhood_overview": "No Data",
         "host_since": "2011-01-29",
         "host_response_time": "within a day",
         "host_response_rate": 100,
         "host_acceptance_rate": "nan",
         "host_is_superhost": "f",
         "host_listings_count": 8,
         "host_has_profile_pic": "t",
         "host_identity_verified": "t",
         "neighbourhood": "No Data",
         "neighbourhood_cleansed": "Tampines",
         "neighbourhood_group_cleansed": "East Region",
         "latitude": 1.34537,
         "longitude": 103.95887,
         "property_type": "Private room in villa",
         "room_type": "Private room",
         "accommodates": 6,
         "bathrooms_text": "1 private bath",
         "bedrooms": 2,
         "beds": 3,
         "amenities": "[\"Hangers\", \"Cooking basics\", \"Washer\", \"Hair dryer\", \"Fire pit\", \"Shared hot tub\", \"Outdoor furnit…",
         "price": 179,
         "minimum_nights": 92,
         "maximum_nights": 1125,
         "has_availability": "t",
         "availability_30": 30,
         "availability_60": 60,
         "availability_90": 90,
         "availability_365": 365,
         "number_of_reviews": 20,
         "number_of_reviews_ltm": 0,
         "number_of_reviews_l30d": 0,
         "review_scores_rating": 4.44,
         "review_scores_accuracy": 4.37,
         "review_scores_cleanliness": 4,
         "review_scores_checkin": 4.63,
         "review_scores_communication": 4.78,
         "review_scores_location": 4.26,
         "review_scores_value": 4.32,
         "instant_bookable": "f",
         "calculated_host_listings_count": 5,
         "amenities_str": "\"Hangers\", \"Cooking basics\", \"Washer\", \"Hair dryer\", \"Fire pit\", \"Shared hot tub\", \"Outdoor furnitu…",
         "dist_to_subway": 0.9261668336215994,
         "_deepnote_index_column": 1
        },
        {
         "id": 71896,
         "name": "B&B  Room 1 near Airport & EXPO",
         "description": " The space  Vocational Stay Deluxe Bedroom in Singapore.(Near Airport)    Located Between    - Sime…",
         "neighborhood_overview": "No Data",
         "host_since": "2011-01-29",
         "host_response_time": "within a day",
         "host_response_rate": 100,
         "host_acceptance_rate": "nan",
         "host_is_superhost": "f",
         "host_listings_count": 8,
         "host_has_profile_pic": "t",
         "host_identity_verified": "t",
         "neighbourhood": "No Data",
         "neighbourhood_cleansed": "Tampines",
         "neighbourhood_group_cleansed": "East Region",
         "latitude": 1.34754,
         "longitude": 103.95958,
         "property_type": "Private room in residential home",
         "room_type": "Private room",
         "accommodates": 3,
         "bathrooms_text": "Shared half-bath",
         "bedrooms": 1,
         "beds": 1,
         "amenities": "[\"Coffee maker\", \"Cooking basics\", \"Washer\", \"Hair dryer\", \"Fire pit\", \"Shared hot tub\", \"Outdoor f…",
         "price": 82,
         "minimum_nights": 92,
         "maximum_nights": 1125,
         "has_availability": "t",
         "availability_30": 30,
         "availability_60": 60,
         "availability_90": 90,
         "availability_365": 365,
         "number_of_reviews": 24,
         "number_of_reviews_ltm": 0,
         "number_of_reviews_l30d": 0,
         "review_scores_rating": 4.16,
         "review_scores_accuracy": 4.22,
         "review_scores_cleanliness": 4.09,
         "review_scores_checkin": 4.43,
         "review_scores_communication": 4.43,
         "review_scores_location": 4.17,
         "review_scores_value": 4.04,
         "instant_bookable": "f",
         "calculated_host_listings_count": 5,
         "amenities_str": "\"Coffee maker\", \"Cooking basics\", \"Washer\", \"Hair dryer\", \"Fire pit\", \"Shared hot tub\", \"Outdoor fu…",
         "dist_to_subway": 0.8027395291146818,
         "_deepnote_index_column": 2
        }
       ]
      },
      "text/plain": "      id                                 name  \\\n0  50646      Pleasant Room along Bukit Timah   \n1  71609  Ensuite Room (Room 1 & 2) near EXPO   \n2  71896      B&B  Room 1 near Airport & EXPO   \n\n                                         description  \\\n0  Fully furnished bedroom with a nice view on th...   \n1  For 3 rooms.Book room 1&2 and room 4   The spa...   \n2   The space  Vocational Stay Deluxe Bedroom in ...   \n\n                               neighborhood_overview  host_since  \\\n0  The serenity & quiet surrounding makes it an i...  2010-09-08   \n1                                            No Data  2011-01-29   \n2                                            No Data  2011-01-29   \n\n  host_response_time  host_response_rate  host_acceptance_rate  \\\n0            No Data                 NaN                   NaN   \n1       within a day               100.0                   NaN   \n2       within a day               100.0                   NaN   \n\n  host_is_superhost  host_listings_count  ... review_scores_accuracy  \\\n0                 f                  1.0  ...                   4.72   \n1                 f                  8.0  ...                   4.37   \n2                 f                  8.0  ...                   4.22   \n\n  review_scores_cleanliness review_scores_checkin review_scores_communication  \\\n0                      4.78                  4.78                        4.94   \n1                      4.00                  4.63                        4.78   \n2                      4.09                  4.43                        4.43   \n\n  review_scores_location  review_scores_value  instant_bookable  \\\n0                   4.72                 4.50                 f   \n1                   4.26                 4.32                 f   \n2                   4.17                 4.04                 f   \n\n  calculated_host_listings_count  \\\n0                              1   \n1                              5   \n2                              5   \n\n                                       amenities_str  dist_to_subway  \n0  \"Shampoo\", \"Essentials\", \"Kitchen\", \"Long term...        0.534995  \n1  \"Hangers\", \"Cooking basics\", \"Washer\", \"Hair d...        0.926167  \n2  \"Coffee maker\", \"Cooking basics\", \"Washer\", \"H...        0.802740  \n\n[3 rows x 46 columns]",
      "text/html": "<div>\n<style scoped>\n    .dataframe tbody tr th:only-of-type {\n        vertical-align: middle;\n    }\n\n    .dataframe tbody tr th {\n        vertical-align: top;\n    }\n\n    .dataframe thead th {\n        text-align: right;\n    }\n</style>\n<table border=\"1\" class=\"dataframe\">\n  <thead>\n    <tr style=\"text-align: right;\">\n      <th></th>\n      <th>id</th>\n      <th>name</th>\n      <th>description</th>\n      <th>neighborhood_overview</th>\n      <th>host_since</th>\n      <th>host_response_time</th>\n      <th>host_response_rate</th>\n      <th>host_acceptance_rate</th>\n      <th>host_is_superhost</th>\n      <th>host_listings_count</th>\n      <th>...</th>\n      <th>review_scores_accuracy</th>\n      <th>review_scores_cleanliness</th>\n      <th>review_scores_checkin</th>\n      <th>review_scores_communication</th>\n      <th>review_scores_location</th>\n      <th>review_scores_value</th>\n      <th>instant_bookable</th>\n      <th>calculated_host_listings_count</th>\n      <th>amenities_str</th>\n      <th>dist_to_subway</th>\n    </tr>\n  </thead>\n  <tbody>\n    <tr>\n      <th>0</th>\n      <td>50646</td>\n      <td>Pleasant Room along Bukit Timah</td>\n      <td>Fully furnished bedroom with a nice view on th...</td>\n      <td>The serenity &amp; quiet surrounding makes it an i...</td>\n      <td>2010-09-08</td>\n      <td>No Data</td>\n      <td>NaN</td>\n      <td>NaN</td>\n      <td>f</td>\n      <td>1.0</td>\n      <td>...</td>\n      <td>4.72</td>\n      <td>4.78</td>\n      <td>4.78</td>\n      <td>4.94</td>\n      <td>4.72</td>\n      <td>4.50</td>\n      <td>f</td>\n      <td>1</td>\n      <td>\"Shampoo\", \"Essentials\", \"Kitchen\", \"Long term...</td>\n      <td>0.534995</td>\n    </tr>\n    <tr>\n      <th>1</th>\n      <td>71609</td>\n      <td>Ensuite Room (Room 1 &amp; 2) near EXPO</td>\n      <td>For 3 rooms.Book room 1&amp;2 and room 4   The spa...</td>\n      <td>No Data</td>\n      <td>2011-01-29</td>\n      <td>within a day</td>\n      <td>100.0</td>\n      <td>NaN</td>\n      <td>f</td>\n      <td>8.0</td>\n      <td>...</td>\n      <td>4.37</td>\n      <td>4.00</td>\n      <td>4.63</td>\n      <td>4.78</td>\n      <td>4.26</td>\n      <td>4.32</td>\n      <td>f</td>\n      <td>5</td>\n      <td>\"Hangers\", \"Cooking basics\", \"Washer\", \"Hair d...</td>\n      <td>0.926167</td>\n    </tr>\n    <tr>\n      <th>2</th>\n      <td>71896</td>\n      <td>B&amp;B  Room 1 near Airport &amp; EXPO</td>\n      <td>The space  Vocational Stay Deluxe Bedroom in ...</td>\n      <td>No Data</td>\n      <td>2011-01-29</td>\n      <td>within a day</td>\n      <td>100.0</td>\n      <td>NaN</td>\n      <td>f</td>\n      <td>8.0</td>\n      <td>...</td>\n      <td>4.22</td>\n      <td>4.09</td>\n      <td>4.43</td>\n      <td>4.43</td>\n      <td>4.17</td>\n      <td>4.04</td>\n      <td>f</td>\n      <td>5</td>\n      <td>\"Coffee maker\", \"Cooking basics\", \"Washer\", \"H...</td>\n      <td>0.802740</td>\n    </tr>\n  </tbody>\n</table>\n<p>3 rows × 46 columns</p>\n</div>"
     },
     "metadata": {}
    }
   ],
   "execution_count": null
  },
  {
   "cell_type": "markdown",
   "source": "<a style='text-decoration:none;line-height:16px;display:flex;color:#5B5B62;padding:10px;justify-content:end;' href='https://deepnote.com?utm_source=created-in-deepnote-cell&projectId=2a92d0af-cecf-4cde-96f5-c3db3a7f88f1' target=\"_blank\">\n<img alt='Created in deepnote.com' style='display:inline;max-height:16px;margin:0px;margin-right:7.5px;' src='data:image/svg+xml;base64,PD94bWwgdmVyc2lvbj0iMS4wIiBlbmNvZGluZz0iVVRGLTgiPz4KPHN2ZyB3aWR0aD0iODBweCIgaGVpZ2h0PSI4MHB4IiB2aWV3Qm94PSIwIDAgODAgODAiIHZlcnNpb249IjEuMSIgeG1sbnM9Imh0dHA6Ly93d3cudzMub3JnLzIwMDAvc3ZnIiB4bWxuczp4bGluaz0iaHR0cDovL3d3dy53My5vcmcvMTk5OS94bGluayI+CiAgICA8IS0tIEdlbmVyYXRvcjogU2tldGNoIDU0LjEgKDc2NDkwKSAtIGh0dHBzOi8vc2tldGNoYXBwLmNvbSAtLT4KICAgIDx0aXRsZT5Hcm91cCAzPC90aXRsZT4KICAgIDxkZXNjPkNyZWF0ZWQgd2l0aCBTa2V0Y2guPC9kZXNjPgogICAgPGcgaWQ9IkxhbmRpbmciIHN0cm9rZT0ibm9uZSIgc3Ryb2tlLXdpZHRoPSIxIiBmaWxsPSJub25lIiBmaWxsLXJ1bGU9ImV2ZW5vZGQiPgogICAgICAgIDxnIGlkPSJBcnRib2FyZCIgdHJhbnNmb3JtPSJ0cmFuc2xhdGUoLTEyMzUuMDAwMDAwLCAtNzkuMDAwMDAwKSI+CiAgICAgICAgICAgIDxnIGlkPSJHcm91cC0zIiB0cmFuc2Zvcm09InRyYW5zbGF0ZSgxMjM1LjAwMDAwMCwgNzkuMDAwMDAwKSI+CiAgICAgICAgICAgICAgICA8cG9seWdvbiBpZD0iUGF0aC0yMCIgZmlsbD0iIzAyNjVCNCIgcG9pbnRzPSIyLjM3NjIzNzYyIDgwIDM4LjA0NzY2NjcgODAgNTcuODIxNzgyMiA3My44MDU3NTkyIDU3LjgyMTc4MjIgMzIuNzU5MjczOSAzOS4xNDAyMjc4IDMxLjY4MzE2ODMiPjwvcG9seWdvbj4KICAgICAgICAgICAgICAgIDxwYXRoIGQ9Ik0zNS4wMDc3MTgsODAgQzQyLjkwNjIwMDcsNzYuNDU0OTM1OCA0Ny41NjQ5MTY3LDcxLjU0MjI2NzEgNDguOTgzODY2LDY1LjI2MTk5MzkgQzUxLjExMjI4OTksNTUuODQxNTg0MiA0MS42NzcxNzk1LDQ5LjIxMjIyODQgMjUuNjIzOTg0Niw0OS4yMTIyMjg0IEMyNS40ODQ5Mjg5LDQ5LjEyNjg0NDggMjkuODI2MTI5Niw0My4yODM4MjQ4IDM4LjY0NzU4NjksMzEuNjgzMTY4MyBMNzIuODcxMjg3MSwzMi41NTQ0MjUgTDY1LjI4MDk3Myw2Ny42NzYzNDIxIEw1MS4xMTIyODk5LDc3LjM3NjE0NCBMMzUuMDA3NzE4LDgwIFoiIGlkPSJQYXRoLTIyIiBmaWxsPSIjMDAyODY4Ij48L3BhdGg+CiAgICAgICAgICAgICAgICA8cGF0aCBkPSJNMCwzNy43MzA0NDA1IEwyNy4xMTQ1MzcsMC4yNTcxMTE0MzYgQzYyLjM3MTUxMjMsLTEuOTkwNzE3MDEgODAsMTAuNTAwMzkyNyA4MCwzNy43MzA0NDA1IEM4MCw2NC45NjA0ODgyIDY0Ljc3NjUwMzgsNzkuMDUwMzQxNCAzNC4zMjk1MTEzLDgwIEM0Ny4wNTUzNDg5LDc3LjU2NzA4MDggNTMuNDE4MjY3Nyw3MC4zMTM2MTAzIDUzLjQxODI2NzcsNTguMjM5NTg4NSBDNTMuNDE4MjY3Nyw0MC4xMjg1NTU3IDM2LjMwMzk1NDQsMzcuNzMwNDQwNSAyNS4yMjc0MTcsMzcuNzMwNDQwNSBDMTcuODQzMDU4NiwzNy43MzA0NDA1IDkuNDMzOTE5NjYsMzcuNzMwNDQwNSAwLDM3LjczMDQ0MDUgWiIgaWQ9IlBhdGgtMTkiIGZpbGw9IiMzNzkzRUYiPjwvcGF0aD4KICAgICAgICAgICAgPC9nPgogICAgICAgIDwvZz4KICAgIDwvZz4KPC9zdmc+' > </img>\nCreated in <span style='font-weight:600;margin-left:4px;'>Deepnote</span></a>",
   "metadata": {
    "tags": [],
    "created_in_deepnote_cell": true,
    "deepnote_cell_type": "markdown"
   }
  }
 ],
 "nbformat": 4,
 "nbformat_minor": 5,
 "metadata": {
  "kernelspec": {
   "display_name": "Python 3 (ipykernel)",
   "language": "python",
   "name": "python3"
  },
  "language_info": {
   "codemirror_mode": {
    "name": "ipython",
    "version": 3
   },
   "file_extension": ".py",
   "mimetype": "text/x-python",
   "name": "python",
   "nbconvert_exporter": "python",
   "pygments_lexer": "ipython3",
   "version": "3.9.7"
  },
  "deepnote_notebook_id": "b882aeaf-7272-45b7-9430-b02efc685279",
  "deepnote": {},
  "deepnote_execution_queue": []
 }
}