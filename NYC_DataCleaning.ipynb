{
 "cells": [
  {
   "cell_type": "markdown",
   "source": "## Import Libraries",
   "metadata": {
    "cell_id": "c88a56cf-add0-47a4-bcdd-2aa56e7ed228",
    "tags": [],
    "deepnote_app_coordinates": {
     "x": 0,
     "y": null,
     "w": 12,
     "h": 5
    },
    "deepnote_cell_type": "markdown",
    "deepnote_cell_height": 70
   }
  },
  {
   "cell_type": "code",
   "metadata": {
    "cell_id": "f2a482eb-906c-4b7e-927a-1a5074df902d",
    "deepnote_to_be_reexecuted": false,
    "source_hash": "1b968743",
    "execution_start": 1647320705748,
    "execution_millis": 229602658,
    "deepnote_app_coordinates": {
     "x": 0,
     "y": 6,
     "w": 12,
     "h": 5
    },
    "owner_user_id": "1f1d101d-e727-4110-b86f-42f255a8aee3",
    "deepnote_cell_type": "code",
    "deepnote_cell_height": 117
   },
   "source": "import re\nimport numpy as np\nimport pandas as pd",
   "execution_count": null,
   "outputs": []
  },
  {
   "cell_type": "markdown",
   "source": "##  Reviews Dataset",
   "metadata": {
    "cell_id": "7eefcc17-df46-4c1c-8c89-5b0eba4890e0",
    "tags": [],
    "deepnote_app_coordinates": {
     "x": 0,
     "y": 12,
     "w": 12,
     "h": 5
    },
    "deepnote_cell_type": "markdown",
    "deepnote_cell_height": 70
   }
  },
  {
   "cell_type": "code",
   "metadata": {
    "cell_id": "00001-6370270b-4326-4f28-bdc6-abe083947271",
    "deepnote_to_be_reexecuted": false,
    "source_hash": "ad241092",
    "execution_start": 1647320705749,
    "execution_millis": 15005,
    "deepnote_app_coordinates": {
     "x": 0,
     "y": 18,
     "w": 12,
     "h": 5
    },
    "deepnote_cell_type": "code",
    "deepnote_cell_height": 445.65625
   },
   "source": "# Load Data - Reviews\nreviews = pd.read_csv('./reviews.csv', encoding='utf-8')\nreviews.head()",
   "execution_count": null,
   "outputs": [
    {
     "output_type": "execute_result",
     "execution_count": 2,
     "data": {
      "application/vnd.deepnote.dataframe.v3+json": {
       "column_count": 6,
       "row_count": 5,
       "columns": [
        {
         "name": "listing_id",
         "dtype": "int64",
         "stats": {
          "unique_count": 1,
          "nan_count": 0,
          "min": "2595",
          "max": "2595",
          "histogram": [
           {
            "bin_start": 2594.5,
            "bin_end": 2594.6,
            "count": 0
           },
           {
            "bin_start": 2594.6,
            "bin_end": 2594.7,
            "count": 0
           },
           {
            "bin_start": 2594.7,
            "bin_end": 2594.8,
            "count": 0
           },
           {
            "bin_start": 2594.8,
            "bin_end": 2594.9,
            "count": 0
           },
           {
            "bin_start": 2594.9,
            "bin_end": 2595,
            "count": 0
           },
           {
            "bin_start": 2595,
            "bin_end": 2595.1,
            "count": 5
           },
           {
            "bin_start": 2595.1,
            "bin_end": 2595.2,
            "count": 0
           },
           {
            "bin_start": 2595.2,
            "bin_end": 2595.3,
            "count": 0
           },
           {
            "bin_start": 2595.3,
            "bin_end": 2595.4,
            "count": 0
           },
           {
            "bin_start": 2595.4,
            "bin_end": 2595.5,
            "count": 0
           }
          ]
         }
        },
        {
         "name": "id",
         "dtype": "int64",
         "stats": {
          "unique_count": 5,
          "nan_count": 0,
          "min": "17857",
          "max": "46312",
          "histogram": [
           {
            "bin_start": 17857,
            "bin_end": 20702.5,
            "count": 3
           },
           {
            "bin_start": 20702.5,
            "bin_end": 23548,
            "count": 0
           },
           {
            "bin_start": 23548,
            "bin_end": 26393.5,
            "count": 0
           },
           {
            "bin_start": 26393.5,
            "bin_end": 29239,
            "count": 0
           },
           {
            "bin_start": 29239,
            "bin_end": 32084.5,
            "count": 0
           },
           {
            "bin_start": 32084.5,
            "bin_end": 34930,
            "count": 1
           },
           {
            "bin_start": 34930,
            "bin_end": 37775.5,
            "count": 0
           },
           {
            "bin_start": 37775.5,
            "bin_end": 40621,
            "count": 0
           },
           {
            "bin_start": 40621,
            "bin_end": 43466.5,
            "count": 0
           },
           {
            "bin_start": 43466.5,
            "bin_end": 46312,
            "count": 1
           }
          ]
         }
        },
        {
         "name": "date",
         "dtype": "object",
         "stats": {
          "unique_count": 5,
          "nan_count": 0,
          "categories": [
           {
            "name": "2009-11-21",
            "count": 1
           },
           {
            "name": "2009-12-05",
            "count": 1
           },
           {
            "name": "3 others",
            "count": 3
           }
          ]
         }
        },
        {
         "name": "reviewer_id",
         "dtype": "int64",
         "stats": {
          "unique_count": 5,
          "nan_count": 0,
          "min": "38960",
          "max": "117113",
          "histogram": [
           {
            "bin_start": 38960,
            "bin_end": 46775.3,
            "count": 1
           },
           {
            "bin_start": 46775.3,
            "bin_end": 54590.6,
            "count": 2
           },
           {
            "bin_start": 54590.6,
            "bin_end": 62405.9,
            "count": 0
           },
           {
            "bin_start": 62405.9,
            "bin_end": 70221.2,
            "count": 0
           },
           {
            "bin_start": 70221.2,
            "bin_end": 78036.5,
            "count": 1
           },
           {
            "bin_start": 78036.5,
            "bin_end": 85851.8,
            "count": 0
           },
           {
            "bin_start": 85851.8,
            "bin_end": 93667.1,
            "count": 0
           },
           {
            "bin_start": 93667.1,
            "bin_end": 101482.4,
            "count": 0
           },
           {
            "bin_start": 101482.4,
            "bin_end": 109297.7,
            "count": 0
           },
           {
            "bin_start": 109297.7,
            "bin_end": 117113,
            "count": 1
           }
          ]
         }
        },
        {
         "name": "reviewer_name",
         "dtype": "object",
         "stats": {
          "unique_count": 5,
          "nan_count": 0,
          "categories": [
           {
            "name": "Jean",
            "count": 1
           },
           {
            "name": "Cate",
            "count": 1
           },
           {
            "name": "3 others",
            "count": 3
           }
          ]
         }
        },
        {
         "name": "comments",
         "dtype": "object",
         "stats": {
          "unique_count": 5,
          "nan_count": 0,
          "categories": [
           {
            "name": "Notre séjour de trois nuits.\r<br/>Nous avons apprécier L'appartement qui est très bien situé. Agréable, propre et bien soigné. C'est idéal pour une famille de 3 ou 4 personnes.\r<br/>Petits soucis en arrivant il y avait personne pour nous recevoir, et il manquait le savon pour la douche, le liquide vaisselle, nous les avons reçu de surlendemain. Il y a aussi le bruit du Métro de NY, donc une première nuit difficile si on est pas habitué. Jennifer est correcte le remboursement de la caution était très rapide.  A part ces petits détails notre court séjour c'est bien passé. \r<br/>Si j'ai la possibilité de revenir sur NY pour les vacances, je reprendrai à \"The Midtown Castle\"\r<br/>Jean\r<br/>Possession - Ile de La Réunion\r<br/>",
            "count": 1
           },
           {
            "name": "Great experience.",
            "count": 1
           },
           {
            "name": "3 others",
            "count": 3
           }
          ]
         }
        },
        {
         "name": "_deepnote_index_column",
         "dtype": "int64"
        }
       ],
       "rows": [
        {
         "listing_id": 2595,
         "id": 17857,
         "date": "2009-11-21",
         "reviewer_id": 50679,
         "reviewer_name": "Jean",
         "comments": "Notre séjour de trois nuits.\r<br/>Nous avons apprécier L'appartement qui est très bien situé. Agréa…",
         "_deepnote_index_column": 0
        },
        {
         "listing_id": 2595,
         "id": 19176,
         "date": "2009-12-05",
         "reviewer_id": 53267,
         "reviewer_name": "Cate",
         "comments": "Great experience.",
         "_deepnote_index_column": 1
        },
        {
         "listing_id": 2595,
         "id": 19760,
         "date": "2009-12-10",
         "reviewer_id": 38960,
         "reviewer_name": "Anita",
         "comments": "I've stayed with my friend at the Midtown Castle for six days and it was a lovely place to be. A bi…",
         "_deepnote_index_column": 2
        },
        {
         "listing_id": 2595,
         "id": 34320,
         "date": "2010-04-09",
         "reviewer_id": 71130,
         "reviewer_name": "Kai-Uwe",
         "comments": "We've been staying here for about 9 nights, enjoying to be in the center of the city, that never sl…",
         "_deepnote_index_column": 3
        },
        {
         "listing_id": 2595,
         "id": 46312,
         "date": "2010-05-25",
         "reviewer_id": 117113,
         "reviewer_name": "Alicia",
         "comments": "We had a wonderful stay at Jennifer's charming apartment! They were very organized and helpful; I w…",
         "_deepnote_index_column": 4
        }
       ]
      },
      "text/plain": "   listing_id     id        date  reviewer_id reviewer_name  \\\n0        2595  17857  2009-11-21        50679          Jean   \n1        2595  19176  2009-12-05        53267          Cate   \n2        2595  19760  2009-12-10        38960         Anita   \n3        2595  34320  2010-04-09        71130       Kai-Uwe   \n4        2595  46312  2010-05-25       117113        Alicia   \n\n                                            comments  \n0  Notre séjour de trois nuits.\\r<br/>Nous avons ...  \n1                                  Great experience.  \n2  I've stayed with my friend at the Midtown Cast...  \n3  We've been staying here for about 9 nights, en...  \n4  We had a wonderful stay at Jennifer's charming...  ",
      "text/html": "<div>\n<style scoped>\n    .dataframe tbody tr th:only-of-type {\n        vertical-align: middle;\n    }\n\n    .dataframe tbody tr th {\n        vertical-align: top;\n    }\n\n    .dataframe thead th {\n        text-align: right;\n    }\n</style>\n<table border=\"1\" class=\"dataframe\">\n  <thead>\n    <tr style=\"text-align: right;\">\n      <th></th>\n      <th>listing_id</th>\n      <th>id</th>\n      <th>date</th>\n      <th>reviewer_id</th>\n      <th>reviewer_name</th>\n      <th>comments</th>\n    </tr>\n  </thead>\n  <tbody>\n    <tr>\n      <th>0</th>\n      <td>2595</td>\n      <td>17857</td>\n      <td>2009-11-21</td>\n      <td>50679</td>\n      <td>Jean</td>\n      <td>Notre séjour de trois nuits.\\r&lt;br/&gt;Nous avons ...</td>\n    </tr>\n    <tr>\n      <th>1</th>\n      <td>2595</td>\n      <td>19176</td>\n      <td>2009-12-05</td>\n      <td>53267</td>\n      <td>Cate</td>\n      <td>Great experience.</td>\n    </tr>\n    <tr>\n      <th>2</th>\n      <td>2595</td>\n      <td>19760</td>\n      <td>2009-12-10</td>\n      <td>38960</td>\n      <td>Anita</td>\n      <td>I've stayed with my friend at the Midtown Cast...</td>\n    </tr>\n    <tr>\n      <th>3</th>\n      <td>2595</td>\n      <td>34320</td>\n      <td>2010-04-09</td>\n      <td>71130</td>\n      <td>Kai-Uwe</td>\n      <td>We've been staying here for about 9 nights, en...</td>\n    </tr>\n    <tr>\n      <th>4</th>\n      <td>2595</td>\n      <td>46312</td>\n      <td>2010-05-25</td>\n      <td>117113</td>\n      <td>Alicia</td>\n      <td>We had a wonderful stay at Jennifer's charming...</td>\n    </tr>\n  </tbody>\n</table>\n</div>"
     },
     "metadata": {}
    }
   ]
  },
  {
   "cell_type": "code",
   "metadata": {
    "cell_id": "00002-5d13f4e3-4f1a-4319-b0c6-d192b48b5bc9",
    "deepnote_to_be_reexecuted": false,
    "source_hash": "f972137e",
    "execution_start": 1647320720800,
    "execution_millis": 1531,
    "deepnote_app_coordinates": {
     "x": 0,
     "y": 24,
     "w": 12,
     "h": 5
    },
    "deepnote_cell_type": "code",
    "deepnote_cell_height": 350.234375
   },
   "source": "reviews.info()",
   "execution_count": null,
   "outputs": [
    {
     "name": "stdout",
     "text": "<class 'pandas.core.frame.DataFrame'>\nRangeIndex: 908803 entries, 0 to 908802\nData columns (total 6 columns):\n #   Column         Non-Null Count   Dtype \n---  ------         --------------   ----- \n 0   listing_id     908803 non-null  int64 \n 1   id             908803 non-null  int64 \n 2   date           908803 non-null  object\n 3   reviewer_id    908803 non-null  int64 \n 4   reviewer_name  908797 non-null  object\n 5   comments       908638 non-null  object\ndtypes: int64(3), object(3)\nmemory usage: 41.6+ MB\n",
     "output_type": "stream"
    }
   ]
  },
  {
   "cell_type": "markdown",
   "source": "### Drop Columns",
   "metadata": {
    "cell_id": "d9286d3d-edd6-402c-acc1-5ff36c9d80ea",
    "tags": [],
    "deepnote_app_coordinates": {
     "x": 0,
     "y": 30,
     "w": 12,
     "h": 5
    },
    "deepnote_cell_type": "markdown",
    "deepnote_cell_height": 62
   }
  },
  {
   "cell_type": "code",
   "metadata": {
    "cell_id": "00003-9dbc8636-b5c6-470f-b3c1-9fbf8fb4fe8b",
    "deepnote_to_be_reexecuted": false,
    "source_hash": "ab1f0273",
    "execution_start": 1647320721930,
    "execution_millis": 84,
    "deepnote_app_coordinates": {
     "x": 0,
     "y": 36,
     "w": 12,
     "h": 5
    },
    "deepnote_cell_type": "code",
    "deepnote_cell_height": 99
   },
   "source": "# Keep necessary columns - listing_id and comments\nreviews = reviews[['listing_id', 'comments']]",
   "execution_count": null,
   "outputs": []
  },
  {
   "cell_type": "markdown",
   "source": "### Remove Empty Reviews",
   "metadata": {
    "cell_id": "eab5d92d-9a72-431c-ab67-3c2962e27e87",
    "tags": [],
    "deepnote_app_coordinates": {
     "x": 0,
     "y": 42,
     "w": 12,
     "h": 5
    },
    "deepnote_cell_type": "markdown",
    "deepnote_cell_height": 62
   }
  },
  {
   "cell_type": "code",
   "metadata": {
    "cell_id": "00004-79f93dbf-8358-4d60-8841-d6c0f04b0e92",
    "deepnote_to_be_reexecuted": false,
    "source_hash": "543aac27",
    "execution_start": 1647320722017,
    "execution_millis": 10,
    "deepnote_app_coordinates": {
     "x": 0,
     "y": 48,
     "w": 12,
     "h": 5
    },
    "deepnote_cell_type": "code",
    "deepnote_cell_height": 135
   },
   "source": "# Count how many missing values there are in every column \ndef count_null_df(df):\n     check_nulls = df.isna().sum()\n     return check_nulls[check_nulls != 0]",
   "execution_count": null,
   "outputs": []
  },
  {
   "cell_type": "code",
   "metadata": {
    "cell_id": "bb1aaec6-a01b-43dc-ad27-fce13025cb9c",
    "tags": [],
    "deepnote_to_be_reexecuted": false,
    "source_hash": "aa07e91f",
    "execution_start": 1647320722028,
    "execution_millis": 461,
    "deepnote_app_coordinates": {
     "x": 0,
     "y": 54,
     "w": 12,
     "h": 5
    },
    "deepnote_cell_type": "code",
    "deepnote_cell_height": 155,
    "deepnote_output_heights": [
     40
    ]
   },
   "source": "count_null_df(reviews)\n# There are 165 rows of missing comments, which will be removed",
   "execution_count": null,
   "outputs": [
    {
     "output_type": "execute_result",
     "execution_count": 6,
     "data": {
      "text/plain": "comments    165\ndtype: int64"
     },
     "metadata": {}
    }
   ]
  },
  {
   "cell_type": "code",
   "metadata": {
    "cell_id": "00005-5730f8b0-6974-4a1d-9327-d78bbeda532c",
    "deepnote_to_be_reexecuted": false,
    "source_hash": "b5e351ea",
    "execution_start": 1647320722499,
    "execution_millis": 731,
    "deepnote_app_coordinates": {
     "x": 0,
     "y": 60,
     "w": 12,
     "h": 5
    },
    "deepnote_cell_type": "code",
    "deepnote_cell_height": 99
   },
   "source": "# Drop null values\nreviews = reviews.dropna(axis=0, subset=['comments'])",
   "execution_count": null,
   "outputs": []
  },
  {
   "cell_type": "markdown",
   "source": "### Remove HTML Tags ",
   "metadata": {
    "cell_id": "a570c47a-96d7-4ad9-b0a3-87d4d99cde16",
    "tags": [],
    "deepnote_app_coordinates": {
     "x": 0,
     "y": 66,
     "w": 12,
     "h": 5
    },
    "deepnote_cell_type": "markdown",
    "deepnote_cell_height": 62
   }
  },
  {
   "cell_type": "code",
   "metadata": {
    "cell_id": "452ea9b9-3d29-4596-853f-2d54d9c55bd0",
    "tags": [],
    "deepnote_to_be_reexecuted": false,
    "source_hash": "ed508fec",
    "execution_start": 1647320723230,
    "execution_millis": 5,
    "deepnote_app_coordinates": {
     "x": 0,
     "y": 72,
     "w": 12,
     "h": 5
    },
    "deepnote_cell_type": "code",
    "deepnote_cell_height": 135
   },
   "source": "def remove_tags(df, col):\n    df[col] = df[col].str.replace(r'<[^<>]*>', ' ', regex=True)\n    df[col] = df[col].str.replace(u'\\xa0',' ')\n    return df",
   "execution_count": null,
   "outputs": []
  },
  {
   "cell_type": "code",
   "metadata": {
    "cell_id": "d7555f38-7740-4bf3-a98d-19e7bce25cde",
    "tags": [],
    "deepnote_to_be_reexecuted": false,
    "source_hash": "52616ff5",
    "execution_start": 1647320723241,
    "execution_millis": 4786,
    "deepnote_app_coordinates": {
     "x": 0,
     "y": 78,
     "w": 12,
     "h": 5
    },
    "deepnote_cell_type": "code",
    "deepnote_cell_height": 81
   },
   "source": "reviews = remove_tags(reviews, 'comments')",
   "execution_count": null,
   "outputs": []
  },
  {
   "cell_type": "code",
   "metadata": {
    "cell_id": "827538f7-9ef6-498a-8d38-f1084bb71f0c",
    "tags": [],
    "deepnote_to_be_reexecuted": false,
    "source_hash": "df6eaf33",
    "execution_start": 1647320728030,
    "execution_millis": 30026,
    "deepnote_app_coordinates": {
     "x": 0,
     "y": 84,
     "w": 12,
     "h": 5
    },
    "deepnote_cell_type": "code",
    "deepnote_cell_height": 99
   },
   "source": "# Cleaning completed\nreviews.to_csv('cleaned_reviews.csv', index=False)",
   "execution_count": null,
   "outputs": []
  },
  {
   "cell_type": "markdown",
   "source": "## Listings Dataset",
   "metadata": {
    "cell_id": "00014-786e65db-9084-440f-9c14-7166b83ebce7",
    "deepnote_app_coordinates": {
     "x": 0,
     "y": 90,
     "w": 12,
     "h": 5
    },
    "deepnote_cell_type": "markdown",
    "deepnote_cell_height": 70
   }
  },
  {
   "cell_type": "code",
   "metadata": {
    "cell_id": "00015-3c47b13b-4f86-4a2e-a5a6-62183e2015a3",
    "deepnote_to_be_reexecuted": false,
    "source_hash": "ebfbe161",
    "execution_start": 1647320758056,
    "execution_millis": 5751,
    "deepnote_app_coordinates": {
     "x": 0,
     "y": 96,
     "w": 12,
     "h": 5
    },
    "deepnote_cell_type": "code",
    "deepnote_cell_height": 516.0625
   },
   "source": "# Load Data - Listings\nlistings = pd.read_csv('listings.csv', encoding='utf-8')\nlistings.head()",
   "execution_count": null,
   "outputs": [
    {
     "name": "stderr",
     "text": "<ipython-input-11-033c9ae58b5a>:2: DtypeWarning: Columns (67) have mixed types. Specify dtype option on import or set low_memory=False.\n  listings = pd.read_csv('listings.csv', encoding='utf-8')\n",
     "output_type": "stream"
    },
    {
     "output_type": "execute_result",
     "execution_count": 11,
     "data": {
      "application/vnd.deepnote.dataframe.v3+json": {
       "column_count": 74,
       "row_count": 5,
       "columns": [
        {
         "name": "id",
         "dtype": "int64",
         "stats": {
          "unique_count": 5,
          "nan_count": 0,
          "min": "2595",
          "max": "5178",
          "histogram": [
           {
            "bin_start": 2595,
            "bin_end": 2853.3,
            "count": 1
           },
           {
            "bin_start": 2853.3,
            "bin_end": 3111.6,
            "count": 0
           },
           {
            "bin_start": 3111.6,
            "bin_end": 3369.9,
            "count": 0
           },
           {
            "bin_start": 3369.9,
            "bin_end": 3628.2,
            "count": 0
           },
           {
            "bin_start": 3628.2,
            "bin_end": 3886.5,
            "count": 1
           },
           {
            "bin_start": 3886.5,
            "bin_end": 4144.8,
            "count": 0
           },
           {
            "bin_start": 4144.8,
            "bin_end": 4403.1,
            "count": 0
           },
           {
            "bin_start": 4403.1,
            "bin_end": 4661.4,
            "count": 0
           },
           {
            "bin_start": 4661.4,
            "bin_end": 4919.700000000001,
            "count": 0
           },
           {
            "bin_start": 4919.700000000001,
            "bin_end": 5178,
            "count": 3
           }
          ]
         }
        },
        {
         "name": "listing_url",
         "dtype": "object",
         "stats": {
          "unique_count": 5,
          "nan_count": 0,
          "categories": [
           {
            "name": "https://www.airbnb.com/rooms/2595",
            "count": 1
           },
           {
            "name": "https://www.airbnb.com/rooms/3831",
            "count": 1
           },
           {
            "name": "3 others",
            "count": 3
           }
          ]
         }
        },
        {
         "name": "scrape_id",
         "dtype": "int64",
         "stats": {
          "unique_count": 1,
          "nan_count": 0,
          "min": "20220106025017",
          "max": "20220106025017",
          "histogram": [
           {
            "bin_start": 20220106025016.5,
            "bin_end": 20220106025016.6,
            "count": 0
           },
           {
            "bin_start": 20220106025016.6,
            "bin_end": 20220106025016.7,
            "count": 0
           },
           {
            "bin_start": 20220106025016.7,
            "bin_end": 20220106025016.8,
            "count": 0
           },
           {
            "bin_start": 20220106025016.8,
            "bin_end": 20220106025016.9,
            "count": 0
           },
           {
            "bin_start": 20220106025016.9,
            "bin_end": 20220106025017,
            "count": 0
           },
           {
            "bin_start": 20220106025017,
            "bin_end": 20220106025017.1,
            "count": 5
           },
           {
            "bin_start": 20220106025017.1,
            "bin_end": 20220106025017.2,
            "count": 0
           },
           {
            "bin_start": 20220106025017.2,
            "bin_end": 20220106025017.3,
            "count": 0
           },
           {
            "bin_start": 20220106025017.3,
            "bin_end": 20220106025017.4,
            "count": 0
           },
           {
            "bin_start": 20220106025017.4,
            "bin_end": 20220106025017.5,
            "count": 0
           }
          ]
         }
        },
        {
         "name": "last_scraped",
         "dtype": "object",
         "stats": {
          "unique_count": 2,
          "nan_count": 0,
          "categories": [
           {
            "name": "2022-01-06",
            "count": 4
           },
           {
            "name": "2022-01-07",
            "count": 1
           }
          ]
         }
        },
        {
         "name": "name",
         "dtype": "object",
         "stats": {
          "unique_count": 5,
          "nan_count": 0,
          "categories": [
           {
            "name": "Skylit Midtown Castle",
            "count": 1
           },
           {
            "name": "Whole flr w/private bdrm, bath & kitchen(pls read)",
            "count": 1
           },
           {
            "name": "3 others",
            "count": 3
           }
          ]
         }
        },
        {
         "name": "description",
         "dtype": "object",
         "stats": {
          "unique_count": 5,
          "nan_count": 0,
          "categories": [
           {
            "name": "Beautiful, spacious skylit studio in the heart of Midtown, Manhattan. <br /><br />STUNNING SKYLIT STUDIO / 1 BED + SINGLE / FULL BATH / FULL KITCHEN / FIREPLACE / CENTRALLY LOCATED / WiFi + APPLE TV / SHEETS + TOWELS<br /><br /><b>The space</b><br />- Spacious (500+ft²), immaculate and nicely furnished & designed studio.<br />- Tuck yourself into the ultra comfortable bed under the skylight. Fall in love with a myriad of bright lights in the city night sky. <br />- Single-sized bed/convertible floor mattress with luxury bedding (available upon request).<br />- Gorgeous pyramid skylight with amazing diffused natural light, stunning architectural details, soaring high vaulted ceilings, exposed brick, wood burning fireplace, floor seating area with natural zafu cushions, modern style mixed with eclectic art & antique treasures, large full bath, newly renovated kitchen, air conditioning/heat, high speed WiFi Internet, and Apple TV.<br />- Centrally located in the heart of Midtown Manhattan",
            "count": 1
           },
           {
            "name": "Enjoy 500 s.f. top floor in 1899 brownstone, w/ wood & ceramic flooring throughout, roomy bdrm, & upgraded kitchen & bathroom.  This space is unique but one of the few legal AirBnbs with a totally private bedroom, private full bathroom and private eat-in kitchen, SO PLEASE READ \"THE SPACE\" CAREFULLY.  It's sunny & loaded with everything you need! Your floor, and the common staircase/hallway/entryway are cleaned/sanitized per Airbnb's Enhanced Cleaning Protocol.<br /><br /><b>The space</b><br />We host on the entire top floor of our double-duplex brownstone in Clinton Hill on Gates near Classon Avenue - (7 blocks to C train, 5 blocks to G train, minutes to downtown Brooklyn & lower Manhattan).  It is not an apartment in the traditional sense, it is more of an efficiency set-up and is TOTALLY LEGAL with all short-term rental laws. The top floor for our guests consists of a sizable bedroom, full bath and eat-in kitchen for your exclusive use - you get the amenities of a private apartment ",
            "count": 1
           },
           {
            "name": "3 others",
            "count": 3
           }
          ]
         }
        },
        {
         "name": "neighborhood_overview",
         "dtype": "object",
         "stats": {
          "unique_count": 3,
          "nan_count": 2,
          "categories": [
           {
            "name": "Centrally located in the heart of Manhattan just a few blocks from all subway connections in the very desirable Midtown location a few minutes walk to Times Square, the Theater District, Bryant Park and Herald Square.",
            "count": 1
           },
           {
            "name": "2 others",
            "count": 2
           },
           {
            "name": "Missing",
            "count": 2
           }
          ]
         }
        },
        {
         "name": "picture_url",
         "dtype": "object",
         "stats": {
          "unique_count": 5,
          "nan_count": 0,
          "categories": [
           {
            "name": "https://a0.muscache.com/pictures/f0813a11-40b2-489e-8217-89a2e1637830.jpg",
            "count": 1
           },
           {
            "name": "https://a0.muscache.com/pictures/e49999c2-9fd5-4ad5-b7cc-224deac989aa.jpg",
            "count": 1
           },
           {
            "name": "3 others",
            "count": 3
           }
          ]
         }
        },
        {
         "name": "host_id",
         "dtype": "int64",
         "stats": {
          "unique_count": 5,
          "nan_count": 0,
          "min": "2845",
          "max": "8967",
          "histogram": [
           {
            "bin_start": 2845,
            "bin_end": 3457.2,
            "count": 1
           },
           {
            "bin_start": 3457.2,
            "bin_end": 4069.4,
            "count": 0
           },
           {
            "bin_start": 4069.4,
            "bin_end": 4681.6,
            "count": 0
           },
           {
            "bin_start": 4681.6,
            "bin_end": 5293.8,
            "count": 1
           },
           {
            "bin_start": 5293.8,
            "bin_end": 5906,
            "count": 0
           },
           {
            "bin_start": 5906,
            "bin_end": 6518.200000000001,
            "count": 0
           },
           {
            "bin_start": 6518.200000000001,
            "bin_end": 7130.400000000001,
            "count": 0
           },
           {
            "bin_start": 7130.400000000001,
            "bin_end": 7742.6,
            "count": 2
           },
           {
            "bin_start": 7742.6,
            "bin_end": 8354.8,
            "count": 0
           },
           {
            "bin_start": 8354.8,
            "bin_end": 8967,
            "count": 1
           }
          ]
         }
        },
        {
         "name": "host_url",
         "dtype": "object",
         "stats": {
          "unique_count": 5,
          "nan_count": 0,
          "categories": [
           {
            "name": "https://www.airbnb.com/users/show/2845",
            "count": 1
           },
           {
            "name": "https://www.airbnb.com/users/show/4869",
            "count": 1
           },
           {
            "name": "3 others",
            "count": 3
           }
          ]
         }
        },
        {
         "name": "host_name",
         "dtype": "object",
         "stats": {
          "unique_count": 5,
          "nan_count": 0,
          "categories": [
           {
            "name": "Jennifer",
            "count": 1
           },
           {
            "name": "LisaRoxanne",
            "count": 1
           },
           {
            "name": "3 others",
            "count": 3
           }
          ]
         }
        },
        {
         "name": "host_since",
         "dtype": "object",
         "stats": {
          "unique_count": 4,
          "nan_count": 0,
          "categories": [
           {
            "name": "2009-02-03",
            "count": 2
           },
           {
            "name": "2008-09-09",
            "count": 1
           },
           {
            "name": "2 others",
            "count": 2
           }
          ]
         }
        },
        {
         "name": "host_location",
         "dtype": "object",
         "stats": {
          "unique_count": 2,
          "nan_count": 0,
          "categories": [
           {
            "name": "New York, New York, United States",
            "count": 4
           },
           {
            "name": "Brooklyn, New York, United States",
            "count": 1
           }
          ]
         }
        },
        {
         "name": "host_about",
         "dtype": "object",
         "stats": {
          "unique_count": 5,
          "nan_count": 0,
          "categories": [
           {
            "name": "A New Yorker since 2000! My passion is creating beautiful, unique spaces where unforgettable memories are made. It's my pleasure to host people from around the world and meet new faces. Welcome travelers! \r\n\r\nI am a Sound Therapy Practitioner and Kundalini Yoga & Meditation teacher. I work with energy and sound for relaxation and healing, using Symphonic gong, singing bowls, tuning forks, drums, voice and other instruments.",
            "count": 1
           },
           {
            "name": "Laid-back Native New Yorker (formerly bi-coastal) and AirBnb host of over 6 years and over 400 stays!  Besides being a long-time and attentive AirBnb host, I am an actor, attorney, professor and group fitness instructor.",
            "count": 1
           },
           {
            "name": "3 others",
            "count": 3
           }
          ]
         }
        },
        {
         "name": "host_response_time",
         "dtype": "object",
         "stats": {
          "unique_count": 4,
          "nan_count": 1,
          "categories": [
           {
            "name": "within a day",
            "count": 1
           },
           {
            "name": "3 others",
            "count": 3
           },
           {
            "name": "Missing",
            "count": 1
           }
          ]
         }
        },
        {
         "name": "host_response_rate",
         "dtype": "object",
         "stats": {
          "unique_count": 3,
          "nan_count": 1,
          "categories": [
           {
            "name": "100%",
            "count": 2
           },
           {
            "name": "2 others",
            "count": 2
           },
           {
            "name": "Missing",
            "count": 1
           }
          ]
         }
        },
        {
         "name": "host_acceptance_rate",
         "dtype": "object",
         "stats": {
          "unique_count": 4,
          "nan_count": 0,
          "categories": [
           {
            "name": "100%",
            "count": 2
           },
           {
            "name": "17%",
            "count": 1
           },
           {
            "name": "2 others",
            "count": 2
           }
          ]
         }
        },
        {
         "name": "host_is_superhost",
         "dtype": "object",
         "stats": {
          "unique_count": 1,
          "nan_count": 0,
          "categories": [
           {
            "name": "f",
            "count": 5
           }
          ]
         }
        },
        {
         "name": "host_thumbnail_url",
         "dtype": "object",
         "stats": {
          "unique_count": 5,
          "nan_count": 0,
          "categories": [
           {
            "name": "https://a0.muscache.com/im/pictures/user/50fc57af-a6a3-4e88-8f16-efd6cac7c9bc.jpg?aki_policy=profile_small",
            "count": 1
           },
           {
            "name": "https://a0.muscache.com/im/users/4869/profile_pic/1371927771/original.jpg?aki_policy=profile_small",
            "count": 1
           },
           {
            "name": "3 others",
            "count": 3
           }
          ]
         }
        },
        {
         "name": "host_picture_url",
         "dtype": "object",
         "stats": {
          "unique_count": 5,
          "nan_count": 0,
          "categories": [
           {
            "name": "https://a0.muscache.com/im/pictures/user/50fc57af-a6a3-4e88-8f16-efd6cac7c9bc.jpg?aki_policy=profile_x_medium",
            "count": 1
           },
           {
            "name": "https://a0.muscache.com/im/users/4869/profile_pic/1371927771/original.jpg?aki_policy=profile_x_medium",
            "count": 1
           },
           {
            "name": "3 others",
            "count": 3
           }
          ]
         }
        },
        {
         "name": "host_neighbourhood",
         "dtype": "object",
         "stats": {
          "unique_count": 5,
          "nan_count": 0,
          "categories": [
           {
            "name": "Midtown",
            "count": 1
           },
           {
            "name": "Clinton Hill",
            "count": 1
           },
           {
            "name": "3 others",
            "count": 3
           }
          ]
         }
        },
        {
         "name": "host_listings_count",
         "dtype": "float64",
         "stats": {
          "unique_count": 2,
          "nan_count": 0,
          "min": "1.0",
          "max": "8.0",
          "histogram": [
           {
            "bin_start": 1,
            "bin_end": 1.7,
            "count": 4
           },
           {
            "bin_start": 1.7,
            "bin_end": 2.4,
            "count": 0
           },
           {
            "bin_start": 2.4,
            "bin_end": 3.0999999999999996,
            "count": 0
           },
           {
            "bin_start": 3.0999999999999996,
            "bin_end": 3.8,
            "count": 0
           },
           {
            "bin_start": 3.8,
            "bin_end": 4.5,
            "count": 0
           },
           {
            "bin_start": 4.5,
            "bin_end": 5.199999999999999,
            "count": 0
           },
           {
            "bin_start": 5.199999999999999,
            "bin_end": 5.8999999999999995,
            "count": 0
           },
           {
            "bin_start": 5.8999999999999995,
            "bin_end": 6.6,
            "count": 0
           },
           {
            "bin_start": 6.6,
            "bin_end": 7.3,
            "count": 0
           },
           {
            "bin_start": 7.3,
            "bin_end": 8,
            "count": 1
           }
          ]
         }
        },
        {
         "name": "host_total_listings_count",
         "dtype": "float64",
         "stats": {
          "unique_count": 2,
          "nan_count": 0,
          "min": "1.0",
          "max": "8.0",
          "histogram": [
           {
            "bin_start": 1,
            "bin_end": 1.7,
            "count": 4
           },
           {
            "bin_start": 1.7,
            "bin_end": 2.4,
            "count": 0
           },
           {
            "bin_start": 2.4,
            "bin_end": 3.0999999999999996,
            "count": 0
           },
           {
            "bin_start": 3.0999999999999996,
            "bin_end": 3.8,
            "count": 0
           },
           {
            "bin_start": 3.8,
            "bin_end": 4.5,
            "count": 0
           },
           {
            "bin_start": 4.5,
            "bin_end": 5.199999999999999,
            "count": 0
           },
           {
            "bin_start": 5.199999999999999,
            "bin_end": 5.8999999999999995,
            "count": 0
           },
           {
            "bin_start": 5.8999999999999995,
            "bin_end": 6.6,
            "count": 0
           },
           {
            "bin_start": 6.6,
            "bin_end": 7.3,
            "count": 0
           },
           {
            "bin_start": 7.3,
            "bin_end": 8,
            "count": 1
           }
          ]
         }
        },
        {
         "name": "host_verifications",
         "dtype": "object",
         "stats": {
          "unique_count": 5,
          "nan_count": 0,
          "categories": [
           {
            "name": "['email', 'phone', 'reviews', 'offline_government_id', 'kba', 'selfie', 'government_id', 'identity_manual', 'work_email']",
            "count": 1
           },
           {
            "name": "['email', 'phone', 'reviews', 'offline_government_id', 'kba', 'government_id']",
            "count": 1
           },
           {
            "name": "3 others",
            "count": 3
           }
          ]
         }
        },
        {
         "name": "host_has_profile_pic",
         "dtype": "object",
         "stats": {
          "unique_count": 1,
          "nan_count": 0,
          "categories": [
           {
            "name": "t",
            "count": 5
           }
          ]
         }
        },
        {
         "name": "host_identity_verified",
         "dtype": "object",
         "stats": {
          "unique_count": 2,
          "nan_count": 0,
          "categories": [
           {
            "name": "t",
            "count": 4
           },
           {
            "name": "f",
            "count": 1
           }
          ]
         }
        },
        {
         "name": "neighbourhood",
         "dtype": "object",
         "stats": {
          "unique_count": 2,
          "nan_count": 2,
          "categories": [
           {
            "name": "New York, United States",
            "count": 2
           },
           {
            "name": "Brooklyn, New York, United States",
            "count": 1
           },
           {
            "name": "Missing",
            "count": 2
           }
          ]
         }
        },
        {
         "name": "neighbourhood_cleansed",
         "dtype": "object",
         "stats": {
          "unique_count": 3,
          "nan_count": 0,
          "categories": [
           {
            "name": "Midtown",
            "count": 2
           },
           {
            "name": "Bedford-Stuyvesant",
            "count": 2
           },
           {
            "name": "Sunset Park",
            "count": 1
           }
          ]
         }
        },
        {
         "name": "neighbourhood_group_cleansed",
         "dtype": "object",
         "stats": {
          "unique_count": 2,
          "nan_count": 0,
          "categories": [
           {
            "name": "Brooklyn",
            "count": 3
           },
           {
            "name": "Manhattan",
            "count": 2
           }
          ]
         }
        },
        {
         "name": "latitude",
         "dtype": "float64",
         "stats": {
          "unique_count": 5,
          "nan_count": 0,
          "min": "40.66265",
          "max": "40.76457",
          "histogram": [
           {
            "bin_start": 40.66265,
            "bin_end": 40.672842,
            "count": 1
           },
           {
            "bin_start": 40.672842,
            "bin_end": 40.683034,
            "count": 0
           },
           {
            "bin_start": 40.683034,
            "bin_end": 40.693225999999996,
            "count": 2
           },
           {
            "bin_start": 40.693225999999996,
            "bin_end": 40.703418,
            "count": 0
           },
           {
            "bin_start": 40.703418,
            "bin_end": 40.71361,
            "count": 0
           },
           {
            "bin_start": 40.71361,
            "bin_end": 40.723802,
            "count": 0
           },
           {
            "bin_start": 40.723802,
            "bin_end": 40.733993999999996,
            "count": 0
           },
           {
            "bin_start": 40.733993999999996,
            "bin_end": 40.744186,
            "count": 0
           },
           {
            "bin_start": 40.744186,
            "bin_end": 40.754378,
            "count": 1
           },
           {
            "bin_start": 40.754378,
            "bin_end": 40.76457,
            "count": 1
           }
          ]
         }
        },
        {
         "name": "longitude",
         "dtype": "float64",
         "stats": {
          "unique_count": 5,
          "nan_count": 0,
          "min": "-73.99454",
          "max": "-73.95512",
          "histogram": [
           {
            "bin_start": -73.99454,
            "bin_end": -73.990598,
            "count": 1
           },
           {
            "bin_start": -73.990598,
            "bin_end": -73.986656,
            "count": 0
           },
           {
            "bin_start": -73.986656,
            "bin_end": -73.982714,
            "count": 2
           },
           {
            "bin_start": -73.982714,
            "bin_end": -73.97877199999999,
            "count": 0
           },
           {
            "bin_start": -73.97877199999999,
            "bin_end": -73.97483,
            "count": 0
           },
           {
            "bin_start": -73.97483,
            "bin_end": -73.970888,
            "count": 0
           },
           {
            "bin_start": -73.970888,
            "bin_end": -73.966946,
            "count": 0
           },
           {
            "bin_start": -73.966946,
            "bin_end": -73.963004,
            "count": 0
           },
           {
            "bin_start": -73.963004,
            "bin_end": -73.95906199999999,
            "count": 0
           },
           {
            "bin_start": -73.95906199999999,
            "bin_end": -73.95512,
            "count": 2
           }
          ]
         }
        },
        {
         "name": "property_type",
         "dtype": "object",
         "stats": {
          "unique_count": 3,
          "nan_count": 0,
          "categories": [
           {
            "name": "Entire rental unit",
            "count": 2
           },
           {
            "name": "Private room in rental unit",
            "count": 2
           },
           {
            "name": "Entire guest suite",
            "count": 1
           }
          ]
         }
        },
        {
         "name": "room_type",
         "dtype": "object",
         "stats": {
          "unique_count": 2,
          "nan_count": 0,
          "categories": [
           {
            "name": "Entire home/apt",
            "count": 3
           },
           {
            "name": "Private room",
            "count": 2
           }
          ]
         }
        },
        {
         "name": "accommodates",
         "dtype": "int64",
         "stats": {
          "unique_count": 4,
          "nan_count": 0,
          "min": "1",
          "max": "4",
          "histogram": [
           {
            "bin_start": 1,
            "bin_end": 1.3,
            "count": 1
           },
           {
            "bin_start": 1.3,
            "bin_end": 1.6,
            "count": 0
           },
           {
            "bin_start": 1.6,
            "bin_end": 1.9,
            "count": 0
           },
           {
            "bin_start": 1.9,
            "bin_end": 2.2,
            "count": 2
           },
           {
            "bin_start": 2.2,
            "bin_end": 2.5,
            "count": 0
           },
           {
            "bin_start": 2.5,
            "bin_end": 2.8,
            "count": 0
           },
           {
            "bin_start": 2.8,
            "bin_end": 3.1,
            "count": 1
           },
           {
            "bin_start": 3.1,
            "bin_end": 3.4,
            "count": 0
           },
           {
            "bin_start": 3.4,
            "bin_end": 3.6999999999999997,
            "count": 0
           },
           {
            "bin_start": 3.6999999999999997,
            "bin_end": 4,
            "count": 1
           }
          ]
         }
        },
        {
         "name": "bathrooms",
         "dtype": "float64",
         "stats": {
          "unique_count": 0,
          "nan_count": 5,
          "min": null,
          "max": null,
          "histogram": [
           {
            "bin_start": 0,
            "bin_end": 0.1,
            "count": 0
           },
           {
            "bin_start": 0.1,
            "bin_end": 0.2,
            "count": 0
           },
           {
            "bin_start": 0.2,
            "bin_end": 0.30000000000000004,
            "count": 0
           },
           {
            "bin_start": 0.30000000000000004,
            "bin_end": 0.4,
            "count": 0
           },
           {
            "bin_start": 0.4,
            "bin_end": 0.5,
            "count": 0
           },
           {
            "bin_start": 0.5,
            "bin_end": 0.6000000000000001,
            "count": 0
           },
           {
            "bin_start": 0.6000000000000001,
            "bin_end": 0.7000000000000001,
            "count": 0
           },
           {
            "bin_start": 0.7000000000000001,
            "bin_end": 0.8,
            "count": 0
           },
           {
            "bin_start": 0.8,
            "bin_end": 0.9,
            "count": 0
           },
           {
            "bin_start": 0.9,
            "bin_end": 1,
            "count": 0
           }
          ]
         }
        },
        {
         "name": "bathrooms_text",
         "dtype": "object",
         "stats": {
          "unique_count": 2,
          "nan_count": 1,
          "categories": [
           {
            "name": "1 bath",
            "count": 3
           },
           {
            "name": "1.5 baths",
            "count": 1
           },
           {
            "name": "Missing",
            "count": 1
           }
          ]
         }
        },
        {
         "name": "bedrooms",
         "dtype": "float64",
         "stats": {
          "unique_count": 2,
          "nan_count": 1,
          "min": "1.0",
          "max": "2.0",
          "histogram": [
           {
            "bin_start": 1,
            "bin_end": 1.1,
            "count": 3
           },
           {
            "bin_start": 1.1,
            "bin_end": 1.2,
            "count": 0
           },
           {
            "bin_start": 1.2,
            "bin_end": 1.3,
            "count": 0
           },
           {
            "bin_start": 1.3,
            "bin_end": 1.4,
            "count": 0
           },
           {
            "bin_start": 1.4,
            "bin_end": 1.5,
            "count": 0
           },
           {
            "bin_start": 1.5,
            "bin_end": 1.6,
            "count": 0
           },
           {
            "bin_start": 1.6,
            "bin_end": 1.7000000000000002,
            "count": 0
           },
           {
            "bin_start": 1.7000000000000002,
            "bin_end": 1.8,
            "count": 0
           },
           {
            "bin_start": 1.8,
            "bin_end": 1.9,
            "count": 0
           },
           {
            "bin_start": 1.9,
            "bin_end": 2,
            "count": 1
           }
          ]
         }
        },
        {
         "name": "beds",
         "dtype": "float64",
         "stats": {
          "unique_count": 3,
          "nan_count": 0,
          "min": "1.0",
          "max": "3.0",
          "histogram": [
           {
            "bin_start": 1,
            "bin_end": 1.2,
            "count": 3
           },
           {
            "bin_start": 1.2,
            "bin_end": 1.4,
            "count": 0
           },
           {
            "bin_start": 1.4,
            "bin_end": 1.6,
            "count": 0
           },
           {
            "bin_start": 1.6,
            "bin_end": 1.8,
            "count": 0
           },
           {
            "bin_start": 1.8,
            "bin_end": 2,
            "count": 0
           },
           {
            "bin_start": 2,
            "bin_end": 2.2,
            "count": 1
           },
           {
            "bin_start": 2.2,
            "bin_end": 2.4000000000000004,
            "count": 0
           },
           {
            "bin_start": 2.4000000000000004,
            "bin_end": 2.6,
            "count": 0
           },
           {
            "bin_start": 2.6,
            "bin_end": 2.8,
            "count": 0
           },
           {
            "bin_start": 2.8,
            "bin_end": 3,
            "count": 1
           }
          ]
         }
        },
        {
         "name": "amenities",
         "dtype": "object",
         "stats": {
          "unique_count": 5,
          "nan_count": 0,
          "categories": [
           {
            "name": "[\"Hot water\", \"Iron\", \"Keypad\", \"Refrigerator\", \"Cleaning before checkout\", \"Kitchen\", \"Oven\", \"Fire extinguisher\", \"Extra pillows and blankets\", \"Coffee maker\", \"Luggage dropoff allowed\", \"Free street parking\", \"Baking sheet\", \"Air conditioning\", \"Bed linens\", \"Paid parking off premises\", \"Heating\", \"Carbon monoxide alarm\", \"Stove\", \"TV\", \"Bathtub\", \"Ethernet connection\", \"Smoke alarm\", \"Hair dryer\", \"Cooking basics\", \"Essentials\", \"Hangers\", \"Dedicated workspace\", \"Dishes and silverware\", \"Long term stays allowed\", \"Wifi\"]",
            "count": 1
           },
           {
            "name": "[\"Hot water\", \"Iron\", \"Children\\u2019s books and toys\", \"Refrigerator\", \"Kitchen\", \"Cable TV\", \"Fire extinguisher\", \"Oven\", \"Extra pillows and blankets\", \"Microwave\", \"Coffee maker\", \"Luggage dropoff allowed\", \"Pack \\u2019n play/Travel crib\", \"Free street parking\", \"Air conditioning\", \"Baby safety gates\", \"Lockbox\", \"Bed linens\", \"Free parking on premises\", \"Heating\", \"Carbon monoxide alarm\", \"Stove\", \"Bathtub\", \"TV with standard cable\", \"High chair\", \"Smoke alarm\", \"Hair dryer\", \"Shampoo\", \"Essentials\", \"Cooking basics\", \"Hangers\", \"Dedicated workspace\", \"Dishes and silverware\", \"Long term stays allowed\", \"Wifi\"]",
            "count": 1
           },
           {
            "name": "3 others",
            "count": 3
           }
          ]
         }
        },
        {
         "name": "price",
         "dtype": "object",
         "stats": {
          "unique_count": 5,
          "nan_count": 0,
          "categories": [
           {
            "name": "$150.00",
            "count": 1
           },
           {
            "name": "$73.00",
            "count": 1
           },
           {
            "name": "3 others",
            "count": 3
           }
          ]
         }
        },
        {
         "name": "minimum_nights",
         "dtype": "int64",
         "stats": {
          "unique_count": 4,
          "nan_count": 0,
          "min": "1",
          "max": "30",
          "histogram": [
           {
            "bin_start": 1,
            "bin_end": 3.9,
            "count": 2
           },
           {
            "bin_start": 3.9,
            "bin_end": 6.8,
            "count": 1
           },
           {
            "bin_start": 6.8,
            "bin_end": 9.7,
            "count": 0
           },
           {
            "bin_start": 9.7,
            "bin_end": 12.6,
            "count": 0
           },
           {
            "bin_start": 12.6,
            "bin_end": 15.5,
            "count": 0
           },
           {
            "bin_start": 15.5,
            "bin_end": 18.4,
            "count": 0
           },
           {
            "bin_start": 18.4,
            "bin_end": 21.3,
            "count": 0
           },
           {
            "bin_start": 21.3,
            "bin_end": 24.2,
            "count": 0
           },
           {
            "bin_start": 24.2,
            "bin_end": 27.099999999999998,
            "count": 0
           },
           {
            "bin_start": 27.099999999999998,
            "bin_end": 30,
            "count": 2
           }
          ]
         }
        },
        {
         "name": "maximum_nights",
         "dtype": "int64",
         "stats": {
          "unique_count": 3,
          "nan_count": 0,
          "min": "14",
          "max": "1125",
          "histogram": [
           {
            "bin_start": 14,
            "bin_end": 125.1,
            "count": 1
           },
           {
            "bin_start": 125.1,
            "bin_end": 236.2,
            "count": 0
           },
           {
            "bin_start": 236.2,
            "bin_end": 347.29999999999995,
            "count": 0
           },
           {
            "bin_start": 347.29999999999995,
            "bin_end": 458.4,
            "count": 0
           },
           {
            "bin_start": 458.4,
            "bin_end": 569.5,
            "count": 0
           },
           {
            "bin_start": 569.5,
            "bin_end": 680.5999999999999,
            "count": 0
           },
           {
            "bin_start": 680.5999999999999,
            "bin_end": 791.6999999999999,
            "count": 2
           },
           {
            "bin_start": 791.6999999999999,
            "bin_end": 902.8,
            "count": 0
           },
           {
            "bin_start": 902.8,
            "bin_end": 1013.9,
            "count": 0
           },
           {
            "bin_start": 1013.9,
            "bin_end": 1125,
            "count": 2
           }
          ]
         }
        },
        {
         "name": "minimum_minimum_nights",
         "dtype": "float64",
         "stats": {
          "unique_count": 4,
          "nan_count": 0,
          "min": "1.0",
          "max": "30.0",
          "histogram": [
           {
            "bin_start": 1,
            "bin_end": 3.9,
            "count": 2
           },
           {
            "bin_start": 3.9,
            "bin_end": 6.8,
            "count": 1
           },
           {
            "bin_start": 6.8,
            "bin_end": 9.7,
            "count": 0
           },
           {
            "bin_start": 9.7,
            "bin_end": 12.6,
            "count": 0
           },
           {
            "bin_start": 12.6,
            "bin_end": 15.5,
            "count": 0
           },
           {
            "bin_start": 15.5,
            "bin_end": 18.4,
            "count": 0
           },
           {
            "bin_start": 18.4,
            "bin_end": 21.3,
            "count": 0
           },
           {
            "bin_start": 21.3,
            "bin_end": 24.2,
            "count": 0
           },
           {
            "bin_start": 24.2,
            "bin_end": 27.099999999999998,
            "count": 0
           },
           {
            "bin_start": 27.099999999999998,
            "bin_end": 30,
            "count": 2
           }
          ]
         }
        },
        {
         "name": "maximum_minimum_nights",
         "dtype": "float64",
         "stats": {
          "unique_count": 4,
          "nan_count": 0,
          "min": "1.0",
          "max": "30.0",
          "histogram": [
           {
            "bin_start": 1,
            "bin_end": 3.9,
            "count": 2
           },
           {
            "bin_start": 3.9,
            "bin_end": 6.8,
            "count": 1
           },
           {
            "bin_start": 6.8,
            "bin_end": 9.7,
            "count": 0
           },
           {
            "bin_start": 9.7,
            "bin_end": 12.6,
            "count": 0
           },
           {
            "bin_start": 12.6,
            "bin_end": 15.5,
            "count": 0
           },
           {
            "bin_start": 15.5,
            "bin_end": 18.4,
            "count": 0
           },
           {
            "bin_start": 18.4,
            "bin_end": 21.3,
            "count": 0
           },
           {
            "bin_start": 21.3,
            "bin_end": 24.2,
            "count": 0
           },
           {
            "bin_start": 24.2,
            "bin_end": 27.099999999999998,
            "count": 0
           },
           {
            "bin_start": 27.099999999999998,
            "bin_end": 30,
            "count": 2
           }
          ]
         }
        },
        {
         "name": "minimum_maximum_nights",
         "dtype": "float64",
         "stats": {
          "unique_count": 3,
          "nan_count": 0,
          "min": "14.0",
          "max": "1125.0",
          "histogram": [
           {
            "bin_start": 14,
            "bin_end": 125.1,
            "count": 1
           },
           {
            "bin_start": 125.1,
            "bin_end": 236.2,
            "count": 0
           },
           {
            "bin_start": 236.2,
            "bin_end": 347.29999999999995,
            "count": 0
           },
           {
            "bin_start": 347.29999999999995,
            "bin_end": 458.4,
            "count": 0
           },
           {
            "bin_start": 458.4,
            "bin_end": 569.5,
            "count": 0
           },
           {
            "bin_start": 569.5,
            "bin_end": 680.5999999999999,
            "count": 0
           },
           {
            "bin_start": 680.5999999999999,
            "bin_end": 791.6999999999999,
            "count": 2
           },
           {
            "bin_start": 791.6999999999999,
            "bin_end": 902.8,
            "count": 0
           },
           {
            "bin_start": 902.8,
            "bin_end": 1013.9,
            "count": 0
           },
           {
            "bin_start": 1013.9,
            "bin_end": 1125,
            "count": 2
           }
          ]
         }
        },
        {
         "name": "maximum_maximum_nights",
         "dtype": "float64",
         "stats": {
          "unique_count": 3,
          "nan_count": 0,
          "min": "14.0",
          "max": "1125.0",
          "histogram": [
           {
            "bin_start": 14,
            "bin_end": 125.1,
            "count": 1
           },
           {
            "bin_start": 125.1,
            "bin_end": 236.2,
            "count": 0
           },
           {
            "bin_start": 236.2,
            "bin_end": 347.29999999999995,
            "count": 0
           },
           {
            "bin_start": 347.29999999999995,
            "bin_end": 458.4,
            "count": 0
           },
           {
            "bin_start": 458.4,
            "bin_end": 569.5,
            "count": 0
           },
           {
            "bin_start": 569.5,
            "bin_end": 680.5999999999999,
            "count": 0
           },
           {
            "bin_start": 680.5999999999999,
            "bin_end": 791.6999999999999,
            "count": 2
           },
           {
            "bin_start": 791.6999999999999,
            "bin_end": 902.8,
            "count": 0
           },
           {
            "bin_start": 902.8,
            "bin_end": 1013.9,
            "count": 0
           },
           {
            "bin_start": 1013.9,
            "bin_end": 1125,
            "count": 2
           }
          ]
         }
        },
        {
         "name": "minimum_nights_avg_ntm",
         "dtype": "float64",
         "stats": {
          "unique_count": 4,
          "nan_count": 0,
          "min": "1.0",
          "max": "30.0",
          "histogram": [
           {
            "bin_start": 1,
            "bin_end": 3.9,
            "count": 2
           },
           {
            "bin_start": 3.9,
            "bin_end": 6.8,
            "count": 1
           },
           {
            "bin_start": 6.8,
            "bin_end": 9.7,
            "count": 0
           },
           {
            "bin_start": 9.7,
            "bin_end": 12.6,
            "count": 0
           },
           {
            "bin_start": 12.6,
            "bin_end": 15.5,
            "count": 0
           },
           {
            "bin_start": 15.5,
            "bin_end": 18.4,
            "count": 0
           },
           {
            "bin_start": 18.4,
            "bin_end": 21.3,
            "count": 0
           },
           {
            "bin_start": 21.3,
            "bin_end": 24.2,
            "count": 0
           },
           {
            "bin_start": 24.2,
            "bin_end": 27.099999999999998,
            "count": 0
           },
           {
            "bin_start": 27.099999999999998,
            "bin_end": 30,
            "count": 2
           }
          ]
         }
        },
        {
         "name": "maximum_nights_avg_ntm",
         "dtype": "float64",
         "stats": {
          "unique_count": 3,
          "nan_count": 0,
          "min": "14.0",
          "max": "1125.0",
          "histogram": [
           {
            "bin_start": 14,
            "bin_end": 125.1,
            "count": 1
           },
           {
            "bin_start": 125.1,
            "bin_end": 236.2,
            "count": 0
           },
           {
            "bin_start": 236.2,
            "bin_end": 347.29999999999995,
            "count": 0
           },
           {
            "bin_start": 347.29999999999995,
            "bin_end": 458.4,
            "count": 0
           },
           {
            "bin_start": 458.4,
            "bin_end": 569.5,
            "count": 0
           },
           {
            "bin_start": 569.5,
            "bin_end": 680.5999999999999,
            "count": 0
           },
           {
            "bin_start": 680.5999999999999,
            "bin_end": 791.6999999999999,
            "count": 2
           },
           {
            "bin_start": 791.6999999999999,
            "bin_end": 902.8,
            "count": 0
           },
           {
            "bin_start": 902.8,
            "bin_end": 1013.9,
            "count": 0
           },
           {
            "bin_start": 1013.9,
            "bin_end": 1125,
            "count": 2
           }
          ]
         }
        },
        {
         "name": "calendar_updated",
         "dtype": "float64",
         "stats": {
          "unique_count": 0,
          "nan_count": 5,
          "min": null,
          "max": null,
          "histogram": [
           {
            "bin_start": 0,
            "bin_end": 0.1,
            "count": 0
           },
           {
            "bin_start": 0.1,
            "bin_end": 0.2,
            "count": 0
           },
           {
            "bin_start": 0.2,
            "bin_end": 0.30000000000000004,
            "count": 0
           },
           {
            "bin_start": 0.30000000000000004,
            "bin_end": 0.4,
            "count": 0
           },
           {
            "bin_start": 0.4,
            "bin_end": 0.5,
            "count": 0
           },
           {
            "bin_start": 0.5,
            "bin_end": 0.6000000000000001,
            "count": 0
           },
           {
            "bin_start": 0.6000000000000001,
            "bin_end": 0.7000000000000001,
            "count": 0
           },
           {
            "bin_start": 0.7000000000000001,
            "bin_end": 0.8,
            "count": 0
           },
           {
            "bin_start": 0.8,
            "bin_end": 0.9,
            "count": 0
           },
           {
            "bin_start": 0.9,
            "bin_end": 1,
            "count": 0
           }
          ]
         }
        },
        {
         "name": "has_availability",
         "dtype": "object",
         "stats": {
          "unique_count": 1,
          "nan_count": 0,
          "categories": [
           {
            "name": "t",
            "count": 5
           }
          ]
         }
        },
        {
         "name": "availability_30",
         "dtype": "int64",
         "stats": {
          "unique_count": 4,
          "nan_count": 0,
          "min": "0",
          "max": "30",
          "histogram": [
           {
            "bin_start": 0,
            "bin_end": 3,
            "count": 1
           },
           {
            "bin_start": 3,
            "bin_end": 6,
            "count": 1
           },
           {
            "bin_start": 6,
            "bin_end": 9,
            "count": 0
           },
           {
            "bin_start": 9,
            "bin_end": 12,
            "count": 1
           },
           {
            "bin_start": 12,
            "bin_end": 15,
            "count": 0
           },
           {
            "bin_start": 15,
            "bin_end": 18,
            "count": 0
           },
           {
            "bin_start": 18,
            "bin_end": 21,
            "count": 0
           },
           {
            "bin_start": 21,
            "bin_end": 24,
            "count": 0
           },
           {
            "bin_start": 24,
            "bin_end": 27,
            "count": 0
           },
           {
            "bin_start": 27,
            "bin_end": 30,
            "count": 2
           }
          ]
         }
        },
        {
         "name": "availability_60",
         "dtype": "int64",
         "stats": {
          "unique_count": 4,
          "nan_count": 0,
          "min": "9",
          "max": "60",
          "histogram": [
           {
            "bin_start": 9,
            "bin_end": 14.1,
            "count": 1
           },
           {
            "bin_start": 14.1,
            "bin_end": 19.2,
            "count": 1
           },
           {
            "bin_start": 19.2,
            "bin_end": 24.299999999999997,
            "count": 1
           },
           {
            "bin_start": 24.299999999999997,
            "bin_end": 29.4,
            "count": 0
           },
           {
            "bin_start": 29.4,
            "bin_end": 34.5,
            "count": 0
           },
           {
            "bin_start": 34.5,
            "bin_end": 39.599999999999994,
            "count": 0
           },
           {
            "bin_start": 39.599999999999994,
            "bin_end": 44.699999999999996,
            "count": 0
           },
           {
            "bin_start": 44.699999999999996,
            "bin_end": 49.8,
            "count": 0
           },
           {
            "bin_start": 49.8,
            "bin_end": 54.9,
            "count": 0
           },
           {
            "bin_start": 54.9,
            "bin_end": 60,
            "count": 2
           }
          ]
         }
        },
        {
         "name": "availability_90",
         "dtype": "int64",
         "stats": {
          "unique_count": 4,
          "nan_count": 0,
          "min": "9",
          "max": "90",
          "histogram": [
           {
            "bin_start": 9,
            "bin_end": 17.1,
            "count": 1
           },
           {
            "bin_start": 17.1,
            "bin_end": 25.2,
            "count": 0
           },
           {
            "bin_start": 25.2,
            "bin_end": 33.3,
            "count": 1
           },
           {
            "bin_start": 33.3,
            "bin_end": 41.4,
            "count": 1
           },
           {
            "bin_start": 41.4,
            "bin_end": 49.5,
            "count": 0
           },
           {
            "bin_start": 49.5,
            "bin_end": 57.599999999999994,
            "count": 0
           },
           {
            "bin_start": 57.599999999999994,
            "bin_end": 65.69999999999999,
            "count": 0
           },
           {
            "bin_start": 65.69999999999999,
            "bin_end": 73.8,
            "count": 0
           },
           {
            "bin_start": 73.8,
            "bin_end": 81.89999999999999,
            "count": 0
           },
           {
            "bin_start": 81.89999999999999,
            "bin_end": 90,
            "count": 2
           }
          ]
         }
        },
        {
         "name": "availability_365",
         "dtype": "int64",
         "stats": {
          "unique_count": 5,
          "nan_count": 0,
          "min": "152",
          "max": "365",
          "histogram": [
           {
            "bin_start": 152,
            "bin_end": 173.3,
            "count": 1
           },
           {
            "bin_start": 173.3,
            "bin_end": 194.6,
            "count": 0
           },
           {
            "bin_start": 194.6,
            "bin_end": 215.9,
            "count": 2
           },
           {
            "bin_start": 215.9,
            "bin_end": 237.2,
            "count": 0
           },
           {
            "bin_start": 237.2,
            "bin_end": 258.5,
            "count": 0
           },
           {
            "bin_start": 258.5,
            "bin_end": 279.8,
            "count": 0
           },
           {
            "bin_start": 279.8,
            "bin_end": 301.1,
            "count": 0
           },
           {
            "bin_start": 301.1,
            "bin_end": 322.4,
            "count": 0
           },
           {
            "bin_start": 322.4,
            "bin_end": 343.70000000000005,
            "count": 1
           },
           {
            "bin_start": 343.70000000000005,
            "bin_end": 365,
            "count": 1
           }
          ]
         }
        },
        {
         "name": "calendar_last_scraped",
         "dtype": "object",
         "stats": {
          "unique_count": 2,
          "nan_count": 0,
          "categories": [
           {
            "name": "2022-01-06",
            "count": 4
           },
           {
            "name": "2022-01-07",
            "count": 1
           }
          ]
         }
        },
        {
         "name": "number_of_reviews",
         "dtype": "int64",
         "stats": {
          "unique_count": 5,
          "nan_count": 0,
          "min": "2",
          "max": "514",
          "histogram": [
           {
            "bin_start": 2,
            "bin_end": 53.2,
            "count": 3
           },
           {
            "bin_start": 53.2,
            "bin_end": 104.4,
            "count": 0
           },
           {
            "bin_start": 104.4,
            "bin_end": 155.60000000000002,
            "count": 0
           },
           {
            "bin_start": 155.60000000000002,
            "bin_end": 206.8,
            "count": 0
           },
           {
            "bin_start": 206.8,
            "bin_end": 258,
            "count": 0
           },
           {
            "bin_start": 258,
            "bin_end": 309.20000000000005,
            "count": 0
           },
           {
            "bin_start": 309.20000000000005,
            "bin_end": 360.40000000000003,
            "count": 0
           },
           {
            "bin_start": 360.40000000000003,
            "bin_end": 411.6,
            "count": 1
           },
           {
            "bin_start": 411.6,
            "bin_end": 462.8,
            "count": 0
           },
           {
            "bin_start": 462.8,
            "bin_end": 514,
            "count": 1
           }
          ]
         }
        },
        {
         "name": "number_of_reviews_ltm",
         "dtype": "int64",
         "stats": {
          "unique_count": 4,
          "nan_count": 0,
          "min": "0",
          "max": "40",
          "histogram": [
           {
            "bin_start": 0,
            "bin_end": 4,
            "count": 3
           },
           {
            "bin_start": 4,
            "bin_end": 8,
            "count": 0
           },
           {
            "bin_start": 8,
            "bin_end": 12,
            "count": 0
           },
           {
            "bin_start": 12,
            "bin_end": 16,
            "count": 0
           },
           {
            "bin_start": 16,
            "bin_end": 20,
            "count": 0
           },
           {
            "bin_start": 20,
            "bin_end": 24,
            "count": 0
           },
           {
            "bin_start": 24,
            "bin_end": 28,
            "count": 1
           },
           {
            "bin_start": 28,
            "bin_end": 32,
            "count": 0
           },
           {
            "bin_start": 32,
            "bin_end": 36,
            "count": 0
           },
           {
            "bin_start": 36,
            "bin_end": 40,
            "count": 1
           }
          ]
         }
        },
        {
         "name": "number_of_reviews_l30d",
         "dtype": "int64",
         "stats": {
          "unique_count": 2,
          "nan_count": 0,
          "min": "0",
          "max": "4",
          "histogram": [
           {
            "bin_start": 0,
            "bin_end": 0.4,
            "count": 4
           },
           {
            "bin_start": 0.4,
            "bin_end": 0.8,
            "count": 0
           },
           {
            "bin_start": 0.8,
            "bin_end": 1.2000000000000002,
            "count": 0
           },
           {
            "bin_start": 1.2000000000000002,
            "bin_end": 1.6,
            "count": 0
           },
           {
            "bin_start": 1.6,
            "bin_end": 2,
            "count": 0
           },
           {
            "bin_start": 2,
            "bin_end": 2.4000000000000004,
            "count": 0
           },
           {
            "bin_start": 2.4000000000000004,
            "bin_end": 2.8000000000000003,
            "count": 0
           },
           {
            "bin_start": 2.8000000000000003,
            "bin_end": 3.2,
            "count": 0
           },
           {
            "bin_start": 3.2,
            "bin_end": 3.6,
            "count": 0
           },
           {
            "bin_start": 3.6,
            "bin_end": 4,
            "count": 1
           }
          ]
         }
        },
        {
         "name": "first_review",
         "dtype": "object",
         "stats": {
          "unique_count": 5,
          "nan_count": 0,
          "categories": [
           {
            "name": "2009-11-21",
            "count": 1
           },
           {
            "name": "2014-09-30",
            "count": 1
           },
           {
            "name": "3 others",
            "count": 3
           }
          ]
         }
        },
        {
         "name": "last_review",
         "dtype": "object",
         "stats": {
          "unique_count": 5,
          "nan_count": 0,
          "categories": [
           {
            "name": "2019-11-04",
            "count": 1
           },
           {
            "name": "2021-10-22",
            "count": 1
           },
           {
            "name": "3 others",
            "count": 3
           }
          ]
         }
        },
        {
         "name": "review_scores_rating",
         "dtype": "float64",
         "stats": {
          "unique_count": 5,
          "nan_count": 0,
          "min": "4.22",
          "max": "5.0",
          "histogram": [
           {
            "bin_start": 4.22,
            "bin_end": 4.298,
            "count": 1
           },
           {
            "bin_start": 4.298,
            "bin_end": 4.3759999999999994,
            "count": 0
           },
           {
            "bin_start": 4.3759999999999994,
            "bin_end": 4.454,
            "count": 1
           },
           {
            "bin_start": 4.454,
            "bin_end": 4.532,
            "count": 1
           },
           {
            "bin_start": 4.532,
            "bin_end": 4.609999999999999,
            "count": 0
           },
           {
            "bin_start": 4.609999999999999,
            "bin_end": 4.688,
            "count": 0
           },
           {
            "bin_start": 4.688,
            "bin_end": 4.766,
            "count": 1
           },
           {
            "bin_start": 4.766,
            "bin_end": 4.844,
            "count": 0
           },
           {
            "bin_start": 4.844,
            "bin_end": 4.922,
            "count": 0
           },
           {
            "bin_start": 4.922,
            "bin_end": 5,
            "count": 1
           }
          ]
         }
        },
        {
         "name": "review_scores_accuracy",
         "dtype": "float64",
         "stats": {
          "unique_count": 5,
          "nan_count": 0,
          "min": "4.21",
          "max": "5.0",
          "histogram": [
           {
            "bin_start": 4.21,
            "bin_end": 4.289,
            "count": 2
           },
           {
            "bin_start": 4.289,
            "bin_end": 4.368,
            "count": 0
           },
           {
            "bin_start": 4.368,
            "bin_end": 4.447,
            "count": 0
           },
           {
            "bin_start": 4.447,
            "bin_end": 4.526,
            "count": 0
           },
           {
            "bin_start": 4.526,
            "bin_end": 4.605,
            "count": 1
           },
           {
            "bin_start": 4.605,
            "bin_end": 4.684,
            "count": 0
           },
           {
            "bin_start": 4.684,
            "bin_end": 4.763,
            "count": 1
           },
           {
            "bin_start": 4.763,
            "bin_end": 4.842,
            "count": 0
           },
           {
            "bin_start": 4.842,
            "bin_end": 4.921,
            "count": 0
           },
           {
            "bin_start": 4.921,
            "bin_end": 5,
            "count": 1
           }
          ]
         }
        },
        {
         "name": "review_scores_cleanliness",
         "dtype": "float64",
         "stats": {
          "unique_count": 5,
          "nan_count": 0,
          "min": "3.73",
          "max": "5.0",
          "histogram": [
           {
            "bin_start": 3.73,
            "bin_end": 3.857,
            "count": 1
           },
           {
            "bin_start": 3.857,
            "bin_end": 3.984,
            "count": 0
           },
           {
            "bin_start": 3.984,
            "bin_end": 4.111,
            "count": 1
           },
           {
            "bin_start": 4.111,
            "bin_end": 4.2379999999999995,
            "count": 0
           },
           {
            "bin_start": 4.2379999999999995,
            "bin_end": 4.365,
            "count": 0
           },
           {
            "bin_start": 4.365,
            "bin_end": 4.492,
            "count": 1
           },
           {
            "bin_start": 4.492,
            "bin_end": 4.619,
            "count": 0
           },
           {
            "bin_start": 4.619,
            "bin_end": 4.746,
            "count": 1
           },
           {
            "bin_start": 4.746,
            "bin_end": 4.873,
            "count": 0
           },
           {
            "bin_start": 4.873,
            "bin_end": 5,
            "count": 1
           }
          ]
         }
        },
        {
         "name": "review_scores_checkin",
         "dtype": "float64",
         "stats": {
          "unique_count": 5,
          "nan_count": 0,
          "min": "4.66",
          "max": "5.0",
          "histogram": [
           {
            "bin_start": 4.66,
            "bin_end": 4.694,
            "count": 1
           },
           {
            "bin_start": 4.694,
            "bin_end": 4.728,
            "count": 0
           },
           {
            "bin_start": 4.728,
            "bin_end": 4.7620000000000005,
            "count": 1
           },
           {
            "bin_start": 4.7620000000000005,
            "bin_end": 4.796,
            "count": 1
           },
           {
            "bin_start": 4.796,
            "bin_end": 4.83,
            "count": 0
           },
           {
            "bin_start": 4.83,
            "bin_end": 4.864,
            "count": 0
           },
           {
            "bin_start": 4.864,
            "bin_end": 4.898,
            "count": 0
           },
           {
            "bin_start": 4.898,
            "bin_end": 4.932,
            "count": 1
           },
           {
            "bin_start": 4.932,
            "bin_end": 4.966,
            "count": 0
           },
           {
            "bin_start": 4.966,
            "bin_end": 5,
            "count": 1
           }
          ]
         }
        },
        {
         "name": "review_scores_communication",
         "dtype": "float64",
         "stats": {
          "unique_count": 5,
          "nan_count": 0,
          "min": "4.42",
          "max": "5.0",
          "histogram": [
           {
            "bin_start": 4.42,
            "bin_end": 4.478,
            "count": 1
           },
           {
            "bin_start": 4.478,
            "bin_end": 4.536,
            "count": 0
           },
           {
            "bin_start": 4.536,
            "bin_end": 4.594,
            "count": 0
           },
           {
            "bin_start": 4.594,
            "bin_end": 4.652,
            "count": 0
           },
           {
            "bin_start": 4.652,
            "bin_end": 4.71,
            "count": 0
           },
           {
            "bin_start": 4.71,
            "bin_end": 4.768,
            "count": 0
           },
           {
            "bin_start": 4.768,
            "bin_end": 4.826,
            "count": 2
           },
           {
            "bin_start": 4.826,
            "bin_end": 4.884,
            "count": 0
           },
           {
            "bin_start": 4.884,
            "bin_end": 4.942,
            "count": 1
           },
           {
            "bin_start": 4.942,
            "bin_end": 5,
            "count": 1
           }
          ]
         }
        },
        {
         "name": "review_scores_location",
         "dtype": "float64",
         "stats": {
          "unique_count": 5,
          "nan_count": 0,
          "min": "4.47",
          "max": "4.87",
          "histogram": [
           {
            "bin_start": 4.47,
            "bin_end": 4.51,
            "count": 2
           },
           {
            "bin_start": 4.51,
            "bin_end": 4.55,
            "count": 0
           },
           {
            "bin_start": 4.55,
            "bin_end": 4.59,
            "count": 0
           },
           {
            "bin_start": 4.59,
            "bin_end": 4.63,
            "count": 0
           },
           {
            "bin_start": 4.63,
            "bin_end": 4.67,
            "count": 0
           },
           {
            "bin_start": 4.67,
            "bin_end": 4.71,
            "count": 0
           },
           {
            "bin_start": 4.71,
            "bin_end": 4.75,
            "count": 1
           },
           {
            "bin_start": 4.75,
            "bin_end": 4.79,
            "count": 0
           },
           {
            "bin_start": 4.79,
            "bin_end": 4.83,
            "count": 0
           },
           {
            "bin_start": 4.83,
            "bin_end": 4.87,
            "count": 2
           }
          ]
         }
        },
        {
         "name": "review_scores_value",
         "dtype": "float64",
         "stats": {
          "unique_count": 5,
          "nan_count": 0,
          "min": "4.36",
          "max": "5.0",
          "histogram": [
           {
            "bin_start": 4.36,
            "bin_end": 4.424,
            "count": 2
           },
           {
            "bin_start": 4.424,
            "bin_end": 4.488,
            "count": 0
           },
           {
            "bin_start": 4.488,
            "bin_end": 4.5520000000000005,
            "count": 1
           },
           {
            "bin_start": 4.5520000000000005,
            "bin_end": 4.6160000000000005,
            "count": 0
           },
           {
            "bin_start": 4.6160000000000005,
            "bin_end": 4.68,
            "count": 1
           },
           {
            "bin_start": 4.68,
            "bin_end": 4.744,
            "count": 0
           },
           {
            "bin_start": 4.744,
            "bin_end": 4.808,
            "count": 0
           },
           {
            "bin_start": 4.808,
            "bin_end": 4.872,
            "count": 0
           },
           {
            "bin_start": 4.872,
            "bin_end": 4.936,
            "count": 0
           },
           {
            "bin_start": 4.936,
            "bin_end": 5,
            "count": 1
           }
          ]
         }
        },
        {
         "name": "license",
         "dtype": "object",
         "stats": {
          "unique_count": 0,
          "nan_count": 5,
          "categories": [
           {
            "name": "Missing",
            "count": 5
           }
          ]
         }
        },
        {
         "name": "instant_bookable",
         "dtype": "object",
         "stats": {
          "unique_count": 1,
          "nan_count": 0,
          "categories": [
           {
            "name": "f",
            "count": 5
           }
          ]
         }
        },
        {
         "name": "calculated_host_listings_count",
         "dtype": "int64",
         "stats": {
          "unique_count": 3,
          "nan_count": 0,
          "min": "1",
          "max": "3",
          "histogram": [
           {
            "bin_start": 1,
            "bin_end": 1.2,
            "count": 3
           },
           {
            "bin_start": 1.2,
            "bin_end": 1.4,
            "count": 0
           },
           {
            "bin_start": 1.4,
            "bin_end": 1.6,
            "count": 0
           },
           {
            "bin_start": 1.6,
            "bin_end": 1.8,
            "count": 0
           },
           {
            "bin_start": 1.8,
            "bin_end": 2,
            "count": 0
           },
           {
            "bin_start": 2,
            "bin_end": 2.2,
            "count": 1
           },
           {
            "bin_start": 2.2,
            "bin_end": 2.4000000000000004,
            "count": 0
           },
           {
            "bin_start": 2.4000000000000004,
            "bin_end": 2.6,
            "count": 0
           },
           {
            "bin_start": 2.6,
            "bin_end": 2.8,
            "count": 0
           },
           {
            "bin_start": 2.8,
            "bin_end": 3,
            "count": 1
           }
          ]
         }
        },
        {
         "name": "calculated_host_listings_count_entire_homes",
         "dtype": "int64",
         "stats": {
          "unique_count": 3,
          "nan_count": 0,
          "min": "0",
          "max": "3",
          "histogram": [
           {
            "bin_start": 0,
            "bin_end": 0.3,
            "count": 2
           },
           {
            "bin_start": 0.3,
            "bin_end": 0.6,
            "count": 0
           },
           {
            "bin_start": 0.6,
            "bin_end": 0.8999999999999999,
            "count": 0
           },
           {
            "bin_start": 0.8999999999999999,
            "bin_end": 1.2,
            "count": 2
           },
           {
            "bin_start": 1.2,
            "bin_end": 1.5,
            "count": 0
           },
           {
            "bin_start": 1.5,
            "bin_end": 1.7999999999999998,
            "count": 0
           },
           {
            "bin_start": 1.7999999999999998,
            "bin_end": 2.1,
            "count": 0
           },
           {
            "bin_start": 2.1,
            "bin_end": 2.4,
            "count": 0
           },
           {
            "bin_start": 2.4,
            "bin_end": 2.6999999999999997,
            "count": 0
           },
           {
            "bin_start": 2.6999999999999997,
            "bin_end": 3,
            "count": 1
           }
          ]
         }
        },
        {
         "name": "calculated_host_listings_count_private_rooms",
         "dtype": "int64",
         "stats": {
          "unique_count": 3,
          "nan_count": 0,
          "min": "0",
          "max": "2",
          "histogram": [
           {
            "bin_start": 0,
            "bin_end": 0.2,
            "count": 3
           },
           {
            "bin_start": 0.2,
            "bin_end": 0.4,
            "count": 0
           },
           {
            "bin_start": 0.4,
            "bin_end": 0.6000000000000001,
            "count": 0
           },
           {
            "bin_start": 0.6000000000000001,
            "bin_end": 0.8,
            "count": 0
           },
           {
            "bin_start": 0.8,
            "bin_end": 1,
            "count": 0
           },
           {
            "bin_start": 1,
            "bin_end": 1.2000000000000002,
            "count": 1
           },
           {
            "bin_start": 1.2000000000000002,
            "bin_end": 1.4000000000000001,
            "count": 0
           },
           {
            "bin_start": 1.4000000000000001,
            "bin_end": 1.6,
            "count": 0
           },
           {
            "bin_start": 1.6,
            "bin_end": 1.8,
            "count": 0
           },
           {
            "bin_start": 1.8,
            "bin_end": 2,
            "count": 1
           }
          ]
         }
        },
        {
         "name": "calculated_host_listings_count_shared_rooms",
         "dtype": "int64",
         "stats": {
          "unique_count": 1,
          "nan_count": 0,
          "min": "0",
          "max": "0",
          "histogram": [
           {
            "bin_start": -0.5,
            "bin_end": -0.4,
            "count": 0
           },
           {
            "bin_start": -0.4,
            "bin_end": -0.3,
            "count": 0
           },
           {
            "bin_start": -0.3,
            "bin_end": -0.19999999999999996,
            "count": 0
           },
           {
            "bin_start": -0.19999999999999996,
            "bin_end": -0.09999999999999998,
            "count": 0
           },
           {
            "bin_start": -0.09999999999999998,
            "bin_end": 0,
            "count": 0
           },
           {
            "bin_start": 0,
            "bin_end": 0.10000000000000009,
            "count": 5
           },
           {
            "bin_start": 0.10000000000000009,
            "bin_end": 0.20000000000000007,
            "count": 0
           },
           {
            "bin_start": 0.20000000000000007,
            "bin_end": 0.30000000000000004,
            "count": 0
           },
           {
            "bin_start": 0.30000000000000004,
            "bin_end": 0.4,
            "count": 0
           },
           {
            "bin_start": 0.4,
            "bin_end": 0.5,
            "count": 0
           }
          ]
         }
        },
        {
         "name": "reviews_per_month",
         "dtype": "float64",
         "stats": {
          "unique_count": 4,
          "nan_count": 0,
          "min": "0.02",
          "max": "4.62",
          "histogram": [
           {
            "bin_start": 0.02,
            "bin_end": 0.4800000000000001,
            "count": 3
           },
           {
            "bin_start": 0.4800000000000001,
            "bin_end": 0.9400000000000002,
            "count": 0
           },
           {
            "bin_start": 0.9400000000000002,
            "bin_end": 1.4000000000000004,
            "count": 0
           },
           {
            "bin_start": 1.4000000000000004,
            "bin_end": 1.8600000000000003,
            "count": 0
           },
           {
            "bin_start": 1.8600000000000003,
            "bin_end": 2.3200000000000003,
            "count": 0
           },
           {
            "bin_start": 2.3200000000000003,
            "bin_end": 2.7800000000000007,
            "count": 0
           },
           {
            "bin_start": 2.7800000000000007,
            "bin_end": 3.2400000000000007,
            "count": 0
           },
           {
            "bin_start": 3.2400000000000007,
            "bin_end": 3.7000000000000006,
            "count": 1
           },
           {
            "bin_start": 3.7000000000000006,
            "bin_end": 4.16,
            "count": 0
           },
           {
            "bin_start": 4.16,
            "bin_end": 4.62,
            "count": 1
           }
          ]
         }
        },
        {
         "name": "_deepnote_index_column",
         "dtype": "int64"
        }
       ],
       "rows": [
        {
         "id": 2595,
         "listing_url": "https://www.airbnb.com/rooms/2595",
         "scrape_id": 20220106025017,
         "last_scraped": "2022-01-06",
         "name": "Skylit Midtown Castle",
         "description": "Beautiful, spacious skylit studio in the heart of Midtown, Manhattan. <br /><br />STUNNING SKYLIT S…",
         "neighborhood_overview": "Centrally located in the heart of Manhattan just a few blocks from all subway connections in the ve…",
         "picture_url": "https://a0.muscache.com/pictures/f0813a11-40b2-489e-8217-89a2e1637830.jpg",
         "host_id": 2845,
         "host_url": "https://www.airbnb.com/users/show/2845",
         "host_name": "Jennifer",
         "host_since": "2008-09-09",
         "host_location": "New York, New York, United States",
         "host_about": "A New Yorker since 2000! My passion is creating beautiful, unique spaces where unforgettable memori…",
         "host_response_time": "within a day",
         "host_response_rate": "51%",
         "host_acceptance_rate": "17%",
         "host_is_superhost": "f",
         "host_thumbnail_url": "https://a0.muscache.com/im/pictures/user/50fc57af-a6a3-4e88-8f16-efd6cac7c9bc.jpg?aki_policy=profil…",
         "host_picture_url": "https://a0.muscache.com/im/pictures/user/50fc57af-a6a3-4e88-8f16-efd6cac7c9bc.jpg?aki_policy=profil…",
         "host_neighbourhood": "Midtown",
         "host_listings_count": 8,
         "host_total_listings_count": 8,
         "host_verifications": "['email', 'phone', 'reviews', 'offline_government_id', 'kba', 'selfie', 'government_id', 'identity_…",
         "host_has_profile_pic": "t",
         "host_identity_verified": "t",
         "neighbourhood": "New York, United States",
         "neighbourhood_cleansed": "Midtown",
         "neighbourhood_group_cleansed": "Manhattan",
         "latitude": 40.75356,
         "longitude": -73.98559,
         "property_type": "Entire rental unit",
         "room_type": "Entire home/apt",
         "accommodates": 1,
         "bathrooms": "nan",
         "bathrooms_text": "1 bath",
         "bedrooms": "nan",
         "beds": 1,
         "amenities": "[\"Hot water\", \"Iron\", \"Keypad\", \"Refrigerator\", \"Cleaning before checkout\", \"Kitchen\", \"Oven\", \"Fir…",
         "price": "$150.00",
         "minimum_nights": 30,
         "maximum_nights": 1125,
         "minimum_minimum_nights": 30,
         "maximum_minimum_nights": 30,
         "minimum_maximum_nights": 1125,
         "maximum_maximum_nights": 1125,
         "minimum_nights_avg_ntm": 30,
         "maximum_nights_avg_ntm": 1125,
         "calendar_updated": "nan",
         "has_availability": "t",
         "availability_30": 30,
         "availability_60": 60,
         "availability_90": 90,
         "availability_365": 334,
         "calendar_last_scraped": "2022-01-06",
         "number_of_reviews": 48,
         "number_of_reviews_ltm": 0,
         "number_of_reviews_l30d": 0,
         "first_review": "2009-11-21",
         "last_review": "2019-11-04",
         "review_scores_rating": 4.7,
         "review_scores_accuracy": 4.72,
         "review_scores_cleanliness": 4.62,
         "review_scores_checkin": 4.76,
         "review_scores_communication": 4.79,
         "review_scores_location": 4.86,
         "review_scores_value": 4.41,
         "license": "nan",
         "instant_bookable": "f",
         "calculated_host_listings_count": 3,
         "calculated_host_listings_count_entire_homes": 3,
         "calculated_host_listings_count_private_rooms": 0,
         "calculated_host_listings_count_shared_rooms": 0,
         "reviews_per_month": 0.33,
         "_deepnote_index_column": 0
        },
        {
         "id": 3831,
         "listing_url": "https://www.airbnb.com/rooms/3831",
         "scrape_id": 20220106025017,
         "last_scraped": "2022-01-06",
         "name": "Whole flr w/private bdrm, bath & kitchen(pls read)",
         "description": "Enjoy 500 s.f. top floor in 1899 brownstone, w/ wood & ceramic flooring throughout, roomy bdrm, & u…",
         "neighborhood_overview": "Just the right mix of urban center and local neighborhood; close to all but enough quiet for a calm…",
         "picture_url": "https://a0.muscache.com/pictures/e49999c2-9fd5-4ad5-b7cc-224deac989aa.jpg",
         "host_id": 4869,
         "host_url": "https://www.airbnb.com/users/show/4869",
         "host_name": "LisaRoxanne",
         "host_since": "2008-12-07",
         "host_location": "New York, New York, United States",
         "host_about": "Laid-back Native New Yorker (formerly bi-coastal) and AirBnb host of over 6 years and over 400 stay…",
         "host_response_time": "a few days or more",
         "host_response_rate": "0%",
         "host_acceptance_rate": "64%",
         "host_is_superhost": "f",
         "host_thumbnail_url": "https://a0.muscache.com/im/users/4869/profile_pic/1371927771/original.jpg?aki_policy=profile_small",
         "host_picture_url": "https://a0.muscache.com/im/users/4869/profile_pic/1371927771/original.jpg?aki_policy=profile_x_medi…",
         "host_neighbourhood": "Clinton Hill",
         "host_listings_count": 1,
         "host_total_listings_count": 1,
         "host_verifications": "['email', 'phone', 'reviews', 'offline_government_id', 'kba', 'government_id']",
         "host_has_profile_pic": "t",
         "host_identity_verified": "t",
         "neighbourhood": "Brooklyn, New York, United States",
         "neighbourhood_cleansed": "Bedford-Stuyvesant",
         "neighbourhood_group_cleansed": "Brooklyn",
         "latitude": 40.68494,
         "longitude": -73.95765,
         "property_type": "Entire guest suite",
         "room_type": "Entire home/apt",
         "accommodates": 3,
         "bathrooms": "nan",
         "bathrooms_text": "1 bath",
         "bedrooms": 1,
         "beds": 3,
         "amenities": "[\"Hot water\", \"Iron\", \"Children\\u2019s books and toys\", \"Refrigerator\", \"Kitchen\", \"Cable TV\", \"Fir…",
         "price": "$73.00",
         "minimum_nights": 1,
         "maximum_nights": 730,
         "minimum_minimum_nights": 1,
         "maximum_minimum_nights": 1,
         "minimum_maximum_nights": 730,
         "maximum_maximum_nights": 730,
         "minimum_nights_avg_ntm": 1,
         "maximum_nights_avg_ntm": 730,
         "calendar_updated": "nan",
         "has_availability": "t",
         "availability_30": 3,
         "availability_60": 15,
         "availability_90": 26,
         "availability_365": 214,
         "calendar_last_scraped": "2022-01-06",
         "number_of_reviews": 409,
         "number_of_reviews_ltm": 26,
         "number_of_reviews_l30d": 0,
         "first_review": "2014-09-30",
         "last_review": "2021-10-22",
         "review_scores_rating": 4.45,
         "review_scores_accuracy": 4.58,
         "review_scores_cleanliness": 4.49,
         "review_scores_checkin": 4.78,
         "review_scores_communication": 4.8,
         "review_scores_location": 4.71,
         "review_scores_value": 4.64,
         "license": "nan",
         "instant_bookable": "f",
         "calculated_host_listings_count": 1,
         "calculated_host_listings_count_entire_homes": 1,
         "calculated_host_listings_count_private_rooms": 0,
         "calculated_host_listings_count_shared_rooms": 0,
         "reviews_per_month": 4.62,
         "_deepnote_index_column": 1
        },
        {
         "id": 5121,
         "listing_url": "https://www.airbnb.com/rooms/5121",
         "scrape_id": 20220106025017,
         "last_scraped": "2022-01-06",
         "name": "BlissArtsSpace!",
         "description": "<b>The space</b><br />HELLO EVERYONE AND THANKS FOR VISITING BLISS ART SPACE! <br /><br />Thank you…",
         "neighborhood_overview": "nan",
         "picture_url": "https://a0.muscache.com/pictures/2090980c-b68e-4349-a874-4818402923e7.jpg",
         "host_id": 7356,
         "host_url": "https://www.airbnb.com/users/show/7356",
         "host_name": "Garon",
         "host_since": "2009-02-03",
         "host_location": "New York, New York, United States",
         "host_about": " I am an artist(painter, filmmaker) and curator who is working in the film industry while I'm build…",
         "host_response_time": "within an hour",
         "host_response_rate": "100%",
         "host_acceptance_rate": "100%",
         "host_is_superhost": "f",
         "host_thumbnail_url": "https://a0.muscache.com/im/pictures/user/72a61bea-cfb1-45b6-abbb-85bdbd790b32.jpg?aki_policy=profil…",
         "host_picture_url": "https://a0.muscache.com/im/pictures/user/72a61bea-cfb1-45b6-abbb-85bdbd790b32.jpg?aki_policy=profil…",
         "host_neighbourhood": "Bedford-Stuyvesant",
         "host_listings_count": 1,
         "host_total_listings_count": 1,
         "host_verifications": "['email', 'phone', 'facebook', 'reviews', 'offline_government_id', 'selfie', 'government_id', 'iden…",
         "host_has_profile_pic": "t",
         "host_identity_verified": "t",
         "neighbourhood": "nan",
         "neighbourhood_cleansed": "Bedford-Stuyvesant",
         "neighbourhood_group_cleansed": "Brooklyn",
         "latitude": 40.68535,
         "longitude": -73.95512,
         "property_type": "Private room in rental unit",
         "room_type": "Private room",
         "accommodates": 2,
         "bathrooms": "nan",
         "bathrooms_text": "nan",
         "bedrooms": 1,
         "beds": 1,
         "amenities": "[\"Heating\", \"Air conditioning\", \"Long term stays allowed\", \"Wifi\", \"Kitchen\"]",
         "price": "$60.00",
         "minimum_nights": 30,
         "maximum_nights": 730,
         "minimum_minimum_nights": 30,
         "maximum_minimum_nights": 30,
         "minimum_maximum_nights": 730,
         "maximum_maximum_nights": 730,
         "minimum_nights_avg_ntm": 30,
         "maximum_nights_avg_ntm": 730,
         "calendar_updated": "nan",
         "has_availability": "t",
         "availability_30": 30,
         "availability_60": 60,
         "availability_90": 90,
         "availability_365": 365,
         "calendar_last_scraped": "2022-01-06",
         "number_of_reviews": 50,
         "number_of_reviews_ltm": 0,
         "number_of_reviews_l30d": 0,
         "first_review": "2009-05-28",
         "last_review": "2019-12-02",
         "review_scores_rating": 4.52,
         "review_scores_accuracy": 4.22,
         "review_scores_cleanliness": 4.09,
         "review_scores_checkin": 4.91,
         "review_scores_communication": 4.91,
         "review_scores_location": 4.47,
         "review_scores_value": 4.52,
         "license": "nan",
         "instant_bookable": "f",
         "calculated_host_listings_count": 2,
         "calculated_host_listings_count_entire_homes": 0,
         "calculated_host_listings_count_private_rooms": 2,
         "calculated_host_listings_count_shared_rooms": 0,
         "reviews_per_month": 0.33,
         "_deepnote_index_column": 2
        },
        {
         "id": 5136,
         "listing_url": "https://www.airbnb.com/rooms/5136",
         "scrape_id": 20220106025017,
         "last_scraped": "2022-01-06",
         "name": "Spacious Brooklyn Duplex, Patio + Garden",
         "description": "We welcome you to stay in our lovely 2 br duplex in South Slope, Brooklyn.  Our home is a truly spa…",
         "neighborhood_overview": "nan",
         "picture_url": "https://a0.muscache.com/pictures/miso/Hosting-5136/original/adf1e231-7c60-4475-86c0-cee0cd16f538.jp…",
         "host_id": 7378,
         "host_url": "https://www.airbnb.com/users/show/7378",
         "host_name": "Rebecca",
         "host_since": "2009-02-03",
         "host_location": "Brooklyn, New York, United States",
         "host_about": "Rebecca is an artist/designer, and Henoch is in marketing/sales/event planning.  We have two boys- …",
         "host_response_time": "nan",
         "host_response_rate": "nan",
         "host_acceptance_rate": "25%",
         "host_is_superhost": "f",
         "host_thumbnail_url": "https://a0.muscache.com/im/users/7378/profile_pic/1259098621/original.jpg?aki_policy=profile_small",
         "host_picture_url": "https://a0.muscache.com/im/users/7378/profile_pic/1259098621/original.jpg?aki_policy=profile_x_medi…",
         "host_neighbourhood": "Greenwood Heights",
         "host_listings_count": 1,
         "host_total_listings_count": 1,
         "host_verifications": "['email', 'phone', 'reviews']",
         "host_has_profile_pic": "t",
         "host_identity_verified": "t",
         "neighbourhood": "nan",
         "neighbourhood_cleansed": "Sunset Park",
         "neighbourhood_group_cleansed": "Brooklyn",
         "latitude": 40.66265,
         "longitude": -73.99454,
         "property_type": "Entire rental unit",
         "room_type": "Entire home/apt",
         "accommodates": 4,
         "bathrooms": "nan",
         "bathrooms_text": "1.5 baths",
         "bedrooms": 2,
         "beds": 2,
         "amenities": "[\"Cable TV\", \"TV with standard cable\", \"Outdoor furniture\", \"Carbon monoxide alarm\", \"Smoke alarm\",…",
         "price": "$275.00",
         "minimum_nights": 5,
         "maximum_nights": 1125,
         "minimum_minimum_nights": 5,
         "maximum_minimum_nights": 5,
         "minimum_maximum_nights": 1125,
         "maximum_maximum_nights": 1125,
         "minimum_nights_avg_ntm": 5,
         "maximum_nights_avg_ntm": 1125,
         "calendar_updated": "nan",
         "has_availability": "t",
         "availability_30": 0,
         "availability_60": 9,
         "availability_90": 9,
         "availability_365": 152,
         "calendar_last_scraped": "2022-01-06",
         "number_of_reviews": 2,
         "number_of_reviews_ltm": 1,
         "number_of_reviews_l30d": 0,
         "first_review": "2014-01-02",
         "last_review": "2021-08-08",
         "review_scores_rating": 5,
         "review_scores_accuracy": 5,
         "review_scores_cleanliness": 5,
         "review_scores_checkin": 5,
         "review_scores_communication": 5,
         "review_scores_location": 4.5,
         "review_scores_value": 5,
         "license": "nan",
         "instant_bookable": "f",
         "calculated_host_listings_count": 1,
         "calculated_host_listings_count_entire_homes": 1,
         "calculated_host_listings_count_private_rooms": 0,
         "calculated_host_listings_count_shared_rooms": 0,
         "reviews_per_month": 0.02,
         "_deepnote_index_column": 3
        },
        {
         "id": 5178,
         "listing_url": "https://www.airbnb.com/rooms/5178",
         "scrape_id": 20220106025017,
         "last_scraped": "2022-01-07",
         "name": "Large Furnished Room Near B'way　",
         "description": "Please don’t expect the luxury here just a basic room in the center of Manhattan.<br /><br /><b>The…",
         "neighborhood_overview": "Theater district, many restaurants around here.",
         "picture_url": "https://a0.muscache.com/pictures/12065/f070997b_original.jpg",
         "host_id": 8967,
         "host_url": "https://www.airbnb.com/users/show/8967",
         "host_name": "Shunichi",
         "host_since": "2009-03-03",
         "host_location": "New York, New York, United States",
         "host_about": "I used to work for a financial industry but now I work at a Japanese food market as an assistant ma…",
         "host_response_time": "within a few hours",
         "host_response_rate": "100%",
         "host_acceptance_rate": "100%",
         "host_is_superhost": "f",
         "host_thumbnail_url": "https://a0.muscache.com/im/users/8967/profile_pic/1265419894/original.jpg?aki_policy=profile_small",
         "host_picture_url": "https://a0.muscache.com/im/users/8967/profile_pic/1265419894/original.jpg?aki_policy=profile_x_medi…",
         "host_neighbourhood": "Hell's Kitchen",
         "host_listings_count": 1,
         "host_total_listings_count": 1,
         "host_verifications": "['email', 'phone', 'facebook', 'reviews']",
         "host_has_profile_pic": "t",
         "host_identity_verified": "f",
         "neighbourhood": "New York, United States",
         "neighbourhood_cleansed": "Midtown",
         "neighbourhood_group_cleansed": "Manhattan",
         "latitude": 40.76457,
         "longitude": -73.98317,
         "property_type": "Private room in rental unit",
         "room_type": "Private room",
         "accommodates": 2,
         "bathrooms": "nan",
         "bathrooms_text": "1 bath",
         "bedrooms": 1,
         "beds": 1,
         "amenities": "[\"Hot water\", \"Body soap\", \"Iron\", \"Lock on bedroom door\", \"Refrigerator\", \"Conditioner\", \"Laundrom…",
         "price": "$68.00",
         "minimum_nights": 2,
         "maximum_nights": 14,
         "minimum_minimum_nights": 2,
         "maximum_minimum_nights": 2,
         "minimum_maximum_nights": 14,
         "maximum_maximum_nights": 14,
         "minimum_nights_avg_ntm": 2,
         "maximum_nights_avg_ntm": 14,
         "calendar_updated": "nan",
         "has_availability": "t",
         "availability_30": 9,
         "availability_60": 24,
         "availability_90": 34,
         "availability_365": 198,
         "calendar_last_scraped": "2022-01-07",
         "number_of_reviews": 514,
         "number_of_reviews_ltm": 40,
         "number_of_reviews_l30d": 4,
         "first_review": "2009-05-06",
         "last_review": "2021-12-21",
         "review_scores_rating": 4.22,
         "review_scores_accuracy": 4.21,
         "review_scores_cleanliness": 3.73,
         "review_scores_checkin": 4.66,
         "review_scores_communication": 4.42,
         "review_scores_location": 4.87,
         "review_scores_value": 4.36,
         "license": "nan",
         "instant_bookable": "f",
         "calculated_host_listings_count": 1,
         "calculated_host_listings_count_entire_homes": 0,
         "calculated_host_listings_count_private_rooms": 1,
         "calculated_host_listings_count_shared_rooms": 0,
         "reviews_per_month": 3.33,
         "_deepnote_index_column": 4
        }
       ]
      },
      "text/plain": "     id                        listing_url       scrape_id last_scraped  \\\n0  2595  https://www.airbnb.com/rooms/2595  20220106025017   2022-01-06   \n1  3831  https://www.airbnb.com/rooms/3831  20220106025017   2022-01-06   \n2  5121  https://www.airbnb.com/rooms/5121  20220106025017   2022-01-06   \n3  5136  https://www.airbnb.com/rooms/5136  20220106025017   2022-01-06   \n4  5178  https://www.airbnb.com/rooms/5178  20220106025017   2022-01-07   \n\n                                                name  \\\n0                              Skylit Midtown Castle   \n1  Whole flr w/private bdrm, bath & kitchen(pls r...   \n2                                    BlissArtsSpace!   \n3           Spacious Brooklyn Duplex, Patio + Garden   \n4                   Large Furnished Room Near B'way　   \n\n                                         description  \\\n0  Beautiful, spacious skylit studio in the heart...   \n1  Enjoy 500 s.f. top floor in 1899 brownstone, w...   \n2  <b>The space</b><br />HELLO EVERYONE AND THANK...   \n3  We welcome you to stay in our lovely 2 br dupl...   \n4  Please don’t expect the luxury here just a bas...   \n\n                               neighborhood_overview  \\\n0  Centrally located in the heart of Manhattan ju...   \n1  Just the right mix of urban center and local n...   \n2                                                NaN   \n3                                                NaN   \n4    Theater district, many restaurants around here.   \n\n                                         picture_url  host_id  \\\n0  https://a0.muscache.com/pictures/f0813a11-40b2...     2845   \n1  https://a0.muscache.com/pictures/e49999c2-9fd5...     4869   \n2  https://a0.muscache.com/pictures/2090980c-b68e...     7356   \n3  https://a0.muscache.com/pictures/miso/Hosting-...     7378   \n4  https://a0.muscache.com/pictures/12065/f070997...     8967   \n\n                                 host_url  ... review_scores_communication  \\\n0  https://www.airbnb.com/users/show/2845  ...                        4.79   \n1  https://www.airbnb.com/users/show/4869  ...                        4.80   \n2  https://www.airbnb.com/users/show/7356  ...                        4.91   \n3  https://www.airbnb.com/users/show/7378  ...                        5.00   \n4  https://www.airbnb.com/users/show/8967  ...                        4.42   \n\n  review_scores_location review_scores_value license instant_bookable  \\\n0                   4.86                4.41     NaN                f   \n1                   4.71                4.64     NaN                f   \n2                   4.47                4.52     NaN                f   \n3                   4.50                5.00     NaN                f   \n4                   4.87                4.36     NaN                f   \n\n  calculated_host_listings_count calculated_host_listings_count_entire_homes  \\\n0                              3                                           3   \n1                              1                                           1   \n2                              2                                           0   \n3                              1                                           1   \n4                              1                                           0   \n\n  calculated_host_listings_count_private_rooms  \\\n0                                            0   \n1                                            0   \n2                                            2   \n3                                            0   \n4                                            1   \n\n  calculated_host_listings_count_shared_rooms reviews_per_month  \n0                                           0              0.33  \n1                                           0              4.62  \n2                                           0              0.33  \n3                                           0              0.02  \n4                                           0              3.33  \n\n[5 rows x 74 columns]",
      "text/html": "<div>\n<style scoped>\n    .dataframe tbody tr th:only-of-type {\n        vertical-align: middle;\n    }\n\n    .dataframe tbody tr th {\n        vertical-align: top;\n    }\n\n    .dataframe thead th {\n        text-align: right;\n    }\n</style>\n<table border=\"1\" class=\"dataframe\">\n  <thead>\n    <tr style=\"text-align: right;\">\n      <th></th>\n      <th>id</th>\n      <th>listing_url</th>\n      <th>scrape_id</th>\n      <th>last_scraped</th>\n      <th>name</th>\n      <th>description</th>\n      <th>neighborhood_overview</th>\n      <th>picture_url</th>\n      <th>host_id</th>\n      <th>host_url</th>\n      <th>...</th>\n      <th>review_scores_communication</th>\n      <th>review_scores_location</th>\n      <th>review_scores_value</th>\n      <th>license</th>\n      <th>instant_bookable</th>\n      <th>calculated_host_listings_count</th>\n      <th>calculated_host_listings_count_entire_homes</th>\n      <th>calculated_host_listings_count_private_rooms</th>\n      <th>calculated_host_listings_count_shared_rooms</th>\n      <th>reviews_per_month</th>\n    </tr>\n  </thead>\n  <tbody>\n    <tr>\n      <th>0</th>\n      <td>2595</td>\n      <td>https://www.airbnb.com/rooms/2595</td>\n      <td>20220106025017</td>\n      <td>2022-01-06</td>\n      <td>Skylit Midtown Castle</td>\n      <td>Beautiful, spacious skylit studio in the heart...</td>\n      <td>Centrally located in the heart of Manhattan ju...</td>\n      <td>https://a0.muscache.com/pictures/f0813a11-40b2...</td>\n      <td>2845</td>\n      <td>https://www.airbnb.com/users/show/2845</td>\n      <td>...</td>\n      <td>4.79</td>\n      <td>4.86</td>\n      <td>4.41</td>\n      <td>NaN</td>\n      <td>f</td>\n      <td>3</td>\n      <td>3</td>\n      <td>0</td>\n      <td>0</td>\n      <td>0.33</td>\n    </tr>\n    <tr>\n      <th>1</th>\n      <td>3831</td>\n      <td>https://www.airbnb.com/rooms/3831</td>\n      <td>20220106025017</td>\n      <td>2022-01-06</td>\n      <td>Whole flr w/private bdrm, bath &amp; kitchen(pls r...</td>\n      <td>Enjoy 500 s.f. top floor in 1899 brownstone, w...</td>\n      <td>Just the right mix of urban center and local n...</td>\n      <td>https://a0.muscache.com/pictures/e49999c2-9fd5...</td>\n      <td>4869</td>\n      <td>https://www.airbnb.com/users/show/4869</td>\n      <td>...</td>\n      <td>4.80</td>\n      <td>4.71</td>\n      <td>4.64</td>\n      <td>NaN</td>\n      <td>f</td>\n      <td>1</td>\n      <td>1</td>\n      <td>0</td>\n      <td>0</td>\n      <td>4.62</td>\n    </tr>\n    <tr>\n      <th>2</th>\n      <td>5121</td>\n      <td>https://www.airbnb.com/rooms/5121</td>\n      <td>20220106025017</td>\n      <td>2022-01-06</td>\n      <td>BlissArtsSpace!</td>\n      <td>&lt;b&gt;The space&lt;/b&gt;&lt;br /&gt;HELLO EVERYONE AND THANK...</td>\n      <td>NaN</td>\n      <td>https://a0.muscache.com/pictures/2090980c-b68e...</td>\n      <td>7356</td>\n      <td>https://www.airbnb.com/users/show/7356</td>\n      <td>...</td>\n      <td>4.91</td>\n      <td>4.47</td>\n      <td>4.52</td>\n      <td>NaN</td>\n      <td>f</td>\n      <td>2</td>\n      <td>0</td>\n      <td>2</td>\n      <td>0</td>\n      <td>0.33</td>\n    </tr>\n    <tr>\n      <th>3</th>\n      <td>5136</td>\n      <td>https://www.airbnb.com/rooms/5136</td>\n      <td>20220106025017</td>\n      <td>2022-01-06</td>\n      <td>Spacious Brooklyn Duplex, Patio + Garden</td>\n      <td>We welcome you to stay in our lovely 2 br dupl...</td>\n      <td>NaN</td>\n      <td>https://a0.muscache.com/pictures/miso/Hosting-...</td>\n      <td>7378</td>\n      <td>https://www.airbnb.com/users/show/7378</td>\n      <td>...</td>\n      <td>5.00</td>\n      <td>4.50</td>\n      <td>5.00</td>\n      <td>NaN</td>\n      <td>f</td>\n      <td>1</td>\n      <td>1</td>\n      <td>0</td>\n      <td>0</td>\n      <td>0.02</td>\n    </tr>\n    <tr>\n      <th>4</th>\n      <td>5178</td>\n      <td>https://www.airbnb.com/rooms/5178</td>\n      <td>20220106025017</td>\n      <td>2022-01-07</td>\n      <td>Large Furnished Room Near B'way</td>\n      <td>Please don’t expect the luxury here just a bas...</td>\n      <td>Theater district, many restaurants around here.</td>\n      <td>https://a0.muscache.com/pictures/12065/f070997...</td>\n      <td>8967</td>\n      <td>https://www.airbnb.com/users/show/8967</td>\n      <td>...</td>\n      <td>4.42</td>\n      <td>4.87</td>\n      <td>4.36</td>\n      <td>NaN</td>\n      <td>f</td>\n      <td>1</td>\n      <td>0</td>\n      <td>1</td>\n      <td>0</td>\n      <td>3.33</td>\n    </tr>\n  </tbody>\n</table>\n<p>5 rows × 74 columns</p>\n</div>"
     },
     "metadata": {}
    }
   ]
  },
  {
   "cell_type": "code",
   "metadata": {
    "cell_id": "00017-f7bc697e-9583-4007-89dd-e74606056926",
    "deepnote_to_be_reexecuted": false,
    "source_hash": "8f1f2e51",
    "execution_start": 1647320763859,
    "execution_millis": 425,
    "deepnote_app_coordinates": {
     "x": 0,
     "y": 102,
     "w": 12,
     "h": 5
    },
    "deepnote_cell_type": "code",
    "deepnote_cell_height": 719
   },
   "source": "listings.info()\n# There are 74 columns in listings dataset",
   "execution_count": null,
   "outputs": [
    {
     "name": "stdout",
     "text": "<class 'pandas.core.frame.DataFrame'>\nRangeIndex: 38185 entries, 0 to 38184\nData columns (total 74 columns):\n #   Column                                        Non-Null Count  Dtype  \n---  ------                                        --------------  -----  \n 0   id                                            38185 non-null  int64  \n 1   listing_url                                   38185 non-null  object \n 2   scrape_id                                     38185 non-null  int64  \n 3   last_scraped                                  38185 non-null  object \n 4   name                                          38171 non-null  object \n 5   description                                   37077 non-null  object \n 6   neighborhood_overview                         22560 non-null  object \n 7   picture_url                                   38185 non-null  object \n 8   host_id                                       38185 non-null  int64  \n 9   host_url                                      38185 non-null  object \n 10  host_name                                     38138 non-null  object \n 11  host_since                                    38138 non-null  object \n 12  host_location                                 38036 non-null  object \n 13  host_about                                    21872 non-null  object \n 14  host_response_time                            23895 non-null  object \n 15  host_response_rate                            23895 non-null  object \n 16  host_acceptance_rate                          24875 non-null  object \n 17  host_is_superhost                             38138 non-null  object \n 18  host_thumbnail_url                            38138 non-null  object \n 19  host_picture_url                              38138 non-null  object \n 20  host_neighbourhood                            30761 non-null  object \n 21  host_listings_count                           38138 non-null  float64\n 22  host_total_listings_count                     38138 non-null  float64\n 23  host_verifications                            38185 non-null  object \n 24  host_has_profile_pic                          38138 non-null  object \n 25  host_identity_verified                        38138 non-null  object \n 26  neighbourhood                                 22561 non-null  object \n 27  neighbourhood_cleansed                        38185 non-null  object \n 28  neighbourhood_group_cleansed                  38185 non-null  object \n 29  latitude                                      38185 non-null  float64\n 30  longitude                                     38185 non-null  float64\n 31  property_type                                 38185 non-null  object \n 32  room_type                                     38185 non-null  object \n 33  accommodates                                  38185 non-null  int64  \n 34  bathrooms                                     0 non-null      float64\n 35  bathrooms_text                                38082 non-null  object \n 36  bedrooms                                      34296 non-null  float64\n 37  beds                                          36898 non-null  float64\n 38  amenities                                     38185 non-null  object \n 39  price                                         38185 non-null  object \n 40  minimum_nights                                38185 non-null  int64  \n 41  maximum_nights                                38185 non-null  int64  \n 42  minimum_minimum_nights                        38167 non-null  float64\n 43  maximum_minimum_nights                        38167 non-null  float64\n 44  minimum_maximum_nights                        38167 non-null  float64\n 45  maximum_maximum_nights                        38167 non-null  float64\n 46  minimum_nights_avg_ntm                        38167 non-null  float64\n 47  maximum_nights_avg_ntm                        38167 non-null  float64\n 48  calendar_updated                              0 non-null      float64\n 49  has_availability                              38185 non-null  object \n 50  availability_30                               38185 non-null  int64  \n 51  availability_60                               38185 non-null  int64  \n 52  availability_90                               38185 non-null  int64  \n 53  availability_365                              38185 non-null  int64  \n 54  calendar_last_scraped                         38185 non-null  object \n 55  number_of_reviews                             38185 non-null  int64  \n 56  number_of_reviews_ltm                         38185 non-null  int64  \n 57  number_of_reviews_l30d                        38185 non-null  int64  \n 58  first_review                                  29009 non-null  object \n 59  last_review                                   29009 non-null  object \n 60  review_scores_rating                          29009 non-null  float64\n 61  review_scores_accuracy                        28426 non-null  float64\n 62  review_scores_cleanliness                     28437 non-null  float64\n 63  review_scores_checkin                         28420 non-null  float64\n 64  review_scores_communication                   28430 non-null  float64\n 65  review_scores_location                        28417 non-null  float64\n 66  review_scores_value                           28416 non-null  float64\n 67  license                                       1 non-null      object \n 68  instant_bookable                              38185 non-null  object \n 69  calculated_host_listings_count                38185 non-null  int64  \n 70  calculated_host_listings_count_entire_homes   38185 non-null  int64  \n 71  calculated_host_listings_count_private_rooms  38185 non-null  int64  \n 72  calculated_host_listings_count_shared_rooms   38185 non-null  int64  \n 73  reviews_per_month                             29009 non-null  float64\ndtypes: float64(22), int64(17), object(35)\nmemory usage: 21.6+ MB\n",
     "output_type": "stream"
    }
   ]
  },
  {
   "cell_type": "markdown",
   "source": "### Drop Columns",
   "metadata": {
    "cell_id": "c180cc44-1bcf-4d8c-808c-bbd6f0526b16",
    "tags": [],
    "deepnote_app_coordinates": {
     "x": 0,
     "y": 108,
     "w": 12,
     "h": 5
    },
    "deepnote_cell_type": "markdown",
    "deepnote_cell_height": 62
   }
  },
  {
   "cell_type": "code",
   "metadata": {
    "cell_id": "00018-370a098b-5751-434b-b6d1-0973cce78ede",
    "deepnote_to_be_reexecuted": false,
    "source_hash": "8bbab7b6",
    "execution_start": 1647320764292,
    "execution_millis": 13,
    "deepnote_app_coordinates": {
     "x": 0,
     "y": 114,
     "w": 12,
     "h": 5
    },
    "deepnote_cell_type": "code",
    "deepnote_cell_height": 351
   },
   "source": "# Drop features that are duplicates or redundant \nremove_listing_rows =  ['scrape_id', 'last_scraped', 'picture_url' , 'host_id', \n                        'host_url', 'host_name', 'host_location', 'host_about', \n                        'host_thumbnail_url', 'host_picture_url', \n                        'host_neighbourhood', 'host_total_listings_count', \n                        'host_verifications', 'bathrooms', 'minimum_minimum_nights', \n                        'maximum_minimum_nights', 'minimum_maximum_nights', \n                        'maximum_maximum_nights', 'minimum_nights_avg_ntm', \n                        'maximum_nights_avg_ntm', 'calendar_updated', \n                        'calendar_last_scraped', 'first_review', 'last_review', \n                        'license', 'calculated_host_listings_count_entire_homes', \n                        'calculated_host_listings_count_private_rooms', \n                        'calculated_host_listings_count_shared_rooms', \n                        'reviews_per_month', 'listing_url']\n\nlistings = listings.drop(remove_listing_rows, axis=1)",
   "execution_count": null,
   "outputs": []
  },
  {
   "cell_type": "markdown",
   "source": "### Inspect Null Values",
   "metadata": {
    "cell_id": "0c407b8f-a1f4-43d5-90f6-3ef8d516aec5",
    "tags": [],
    "deepnote_app_coordinates": {
     "x": 0,
     "y": 120,
     "w": 12,
     "h": 5
    },
    "deepnote_cell_type": "markdown",
    "deepnote_cell_height": 62
   }
  },
  {
   "cell_type": "code",
   "metadata": {
    "cell_id": "00023-924301dd-b36f-4278-baf8-f615f4b613cd",
    "deepnote_to_be_reexecuted": false,
    "source_hash": "2b46d64",
    "execution_start": 1647320764317,
    "execution_millis": 401,
    "deepnote_app_coordinates": {
     "x": 0,
     "y": 126,
     "w": 12,
     "h": 5
    },
    "deepnote_cell_type": "code",
    "deepnote_cell_height": 559,
    "deepnote_output_heights": [
     444
    ]
   },
   "source": "# Count how many missing values there are in every column \ncount_null_df(listings)",
   "execution_count": null,
   "outputs": [
    {
     "output_type": "execute_result",
     "execution_count": 14,
     "data": {
      "text/plain": "name                              14\ndescription                     1108\nneighborhood_overview          15625\nhost_since                        47\nhost_response_time             14290\nhost_response_rate             14290\nhost_acceptance_rate           13310\nhost_is_superhost                 47\nhost_listings_count               47\nhost_has_profile_pic              47\nhost_identity_verified            47\nneighbourhood                  15624\nbathrooms_text                   103\nbedrooms                        3889\nbeds                            1287\nreview_scores_rating            9176\nreview_scores_accuracy          9759\nreview_scores_cleanliness       9748\nreview_scores_checkin           9765\nreview_scores_communication     9755\nreview_scores_location          9768\nreview_scores_value             9769\ndtype: int64"
     },
     "metadata": {}
    }
   ]
  },
  {
   "cell_type": "code",
   "metadata": {
    "cell_id": "d092ce76-877c-4a32-acb1-685254515d4e",
    "tags": [],
    "deepnote_to_be_reexecuted": false,
    "source_hash": "fddc1b44",
    "execution_start": 1647320764726,
    "execution_millis": 0,
    "deepnote_app_coordinates": {
     "x": 0,
     "y": 132,
     "w": 12,
     "h": 5
    },
    "deepnote_cell_type": "code",
    "deepnote_cell_height": 117
   },
   "source": "def drop_variables(df, col):\n    df = df.dropna(how='all', subset=[col])\n    return df",
   "execution_count": null,
   "outputs": []
  },
  {
   "cell_type": "markdown",
   "source": "#### Hosts\n\nIt seems like hosts with null values for 'host_since' also have null values for other important features such as 'host_acceptance_rate', 'host_listings_count', 'host_response_rate'. Hence, we will remove the rows with null values for 'host_since'.",
   "metadata": {
    "cell_id": "367c6691-533a-49ec-a274-279452ae7a85",
    "tags": [],
    "deepnote_app_coordinates": {
     "x": 0,
     "y": 138,
     "w": 12,
     "h": 5
    },
    "deepnote_cell_type": "markdown",
    "deepnote_cell_height": 133.1875
   }
  },
  {
   "cell_type": "code",
   "metadata": {
    "cell_id": "00025-ed54abba-df5b-4b2a-82ef-b249c76140c8",
    "deepnote_to_be_reexecuted": false,
    "source_hash": "956dcca",
    "execution_start": 1647320764740,
    "execution_millis": 314,
    "deepnote_app_coordinates": {
     "x": 0,
     "y": 144,
     "w": 12,
     "h": 5
    },
    "deepnote_cell_type": "code",
    "deepnote_cell_height": 445.65625
   },
   "source": "# Inspect 'host_since' with null values\ncheck_nulls_hosts = listings[listings['host_since'].isna()]\ncheck_nulls_hosts.head()",
   "execution_count": null,
   "outputs": [
    {
     "output_type": "execute_result",
     "execution_count": 16,
     "data": {
      "application/vnd.deepnote.dataframe.v3+json": {
       "column_count": 44,
       "row_count": 5,
       "columns": [
        {
         "name": "id",
         "dtype": "int64",
         "stats": {
          "unique_count": 5,
          "nan_count": 0,
          "min": "2835711",
          "max": "6360224",
          "histogram": [
           {
            "bin_start": 2835711,
            "bin_end": 3188162.3,
            "count": 1
           },
           {
            "bin_start": 3188162.3,
            "bin_end": 3540613.6,
            "count": 0
           },
           {
            "bin_start": 3540613.6,
            "bin_end": 3893064.9,
            "count": 0
           },
           {
            "bin_start": 3893064.9,
            "bin_end": 4245516.2,
            "count": 0
           },
           {
            "bin_start": 4245516.2,
            "bin_end": 4597967.5,
            "count": 1
           },
           {
            "bin_start": 4597967.5,
            "bin_end": 4950418.8,
            "count": 1
           },
           {
            "bin_start": 4950418.8,
            "bin_end": 5302870.1,
            "count": 0
           },
           {
            "bin_start": 5302870.1,
            "bin_end": 5655321.4,
            "count": 1
           },
           {
            "bin_start": 5655321.4,
            "bin_end": 6007772.699999999,
            "count": 0
           },
           {
            "bin_start": 6007772.699999999,
            "bin_end": 6360224,
            "count": 1
           }
          ]
         }
        },
        {
         "name": "name",
         "dtype": "object",
         "stats": {
          "unique_count": 5,
          "nan_count": 0,
          "categories": [
           {
            "name": "Sunny West Village Apartment on MacDougal Street",
            "count": 1
           },
           {
            "name": "Charming Room in Prospect Heights!",
            "count": 1
           },
           {
            "name": "3 others",
            "count": 3
           }
          ]
         }
        },
        {
         "name": "description",
         "dtype": "object",
         "stats": {
          "unique_count": 5,
          "nan_count": 0,
          "categories": [
           {
            "name": "NOW WITH HIGH-SPEED WI-FI<br /><br />This adorable, sun-drenched, one-bedroom has a fully stocked kitchen, comfortably sleeps up to 3 & is centrally located on happening, bustling MacDougal Street (apt is quiet). Just one block from Washington Square Park. Safe location,  *Walk up<br /><br /><b>Other things to note</b><br />The bathroom is in the hallway (private and only you have the key)",
            "count": 1
           },
           {
            "name": "Quiet room in three bedroom apt in Prospect Heights.<br /><br /><b>The space</b><br />Enjoy your stay in a clean and quiet bedroom in my large and sunny apartment in Prospect Heights.  <br /><br />Fit for two the bedroom has a comfortable, full size bed. The apt includes wireless internet, AppleTV with HBO, Netflix, and HuluPlus. <br /><br />This apartment houses two sweet, affectionate cats who love people, so cat lovers welcome! There are two roommates who live peacefully and often work late hours.<br /><br /><b>Guest access</b><br />Full access to kitchen stocked with coffee and tea.<br /><br />Clean linens and towels provided.<br /><br />Roof access.",
            "count": 1
           },
           {
            "name": "3 others",
            "count": 3
           }
          ]
         }
        },
        {
         "name": "neighborhood_overview",
         "dtype": "object",
         "stats": {
          "unique_count": 3,
          "nan_count": 2,
          "categories": [
           {
            "name": "West Village!",
            "count": 1
           },
           {
            "name": "2 others",
            "count": 2
           },
           {
            "name": "Missing",
            "count": 2
           }
          ]
         }
        },
        {
         "name": "host_since",
         "dtype": "object",
         "stats": {
          "unique_count": 0,
          "nan_count": 5,
          "categories": [
           {
            "name": "Missing",
            "count": 5
           }
          ]
         }
        },
        {
         "name": "host_response_time",
         "dtype": "object",
         "stats": {
          "unique_count": 0,
          "nan_count": 5,
          "categories": [
           {
            "name": "Missing",
            "count": 5
           }
          ]
         }
        },
        {
         "name": "host_response_rate",
         "dtype": "object",
         "stats": {
          "unique_count": 0,
          "nan_count": 5,
          "categories": [
           {
            "name": "Missing",
            "count": 5
           }
          ]
         }
        },
        {
         "name": "host_acceptance_rate",
         "dtype": "object",
         "stats": {
          "unique_count": 0,
          "nan_count": 5,
          "categories": [
           {
            "name": "Missing",
            "count": 5
           }
          ]
         }
        },
        {
         "name": "host_is_superhost",
         "dtype": "object",
         "stats": {
          "unique_count": 0,
          "nan_count": 5,
          "categories": [
           {
            "name": "Missing",
            "count": 5
           }
          ]
         }
        },
        {
         "name": "host_listings_count",
         "dtype": "float64",
         "stats": {
          "unique_count": 0,
          "nan_count": 5,
          "min": null,
          "max": null,
          "histogram": [
           {
            "bin_start": 0,
            "bin_end": 0.1,
            "count": 0
           },
           {
            "bin_start": 0.1,
            "bin_end": 0.2,
            "count": 0
           },
           {
            "bin_start": 0.2,
            "bin_end": 0.30000000000000004,
            "count": 0
           },
           {
            "bin_start": 0.30000000000000004,
            "bin_end": 0.4,
            "count": 0
           },
           {
            "bin_start": 0.4,
            "bin_end": 0.5,
            "count": 0
           },
           {
            "bin_start": 0.5,
            "bin_end": 0.6000000000000001,
            "count": 0
           },
           {
            "bin_start": 0.6000000000000001,
            "bin_end": 0.7000000000000001,
            "count": 0
           },
           {
            "bin_start": 0.7000000000000001,
            "bin_end": 0.8,
            "count": 0
           },
           {
            "bin_start": 0.8,
            "bin_end": 0.9,
            "count": 0
           },
           {
            "bin_start": 0.9,
            "bin_end": 1,
            "count": 0
           }
          ]
         }
        },
        {
         "name": "host_has_profile_pic",
         "dtype": "object",
         "stats": {
          "unique_count": 0,
          "nan_count": 5,
          "categories": [
           {
            "name": "Missing",
            "count": 5
           }
          ]
         }
        },
        {
         "name": "host_identity_verified",
         "dtype": "object",
         "stats": {
          "unique_count": 0,
          "nan_count": 5,
          "categories": [
           {
            "name": "Missing",
            "count": 5
           }
          ]
         }
        },
        {
         "name": "neighbourhood",
         "dtype": "object",
         "stats": {
          "unique_count": 2,
          "nan_count": 2,
          "categories": [
           {
            "name": "Brooklyn, New York, United States",
            "count": 2
           },
           {
            "name": "New York, United States",
            "count": 1
           },
           {
            "name": "Missing",
            "count": 2
           }
          ]
         }
        },
        {
         "name": "neighbourhood_cleansed",
         "dtype": "object",
         "stats": {
          "unique_count": 5,
          "nan_count": 0,
          "categories": [
           {
            "name": "Greenwich Village",
            "count": 1
           },
           {
            "name": "Crown Heights",
            "count": 1
           },
           {
            "name": "3 others",
            "count": 3
           }
          ]
         }
        },
        {
         "name": "neighbourhood_group_cleansed",
         "dtype": "object",
         "stats": {
          "unique_count": 2,
          "nan_count": 0,
          "categories": [
           {
            "name": "Brooklyn",
            "count": 3
           },
           {
            "name": "Manhattan",
            "count": 2
           }
          ]
         }
        },
        {
         "name": "latitude",
         "dtype": "float64",
         "stats": {
          "unique_count": 5,
          "nan_count": 0,
          "min": "40.67605",
          "max": "40.73722",
          "histogram": [
           {
            "bin_start": 40.67605,
            "bin_end": 40.682167,
            "count": 1
           },
           {
            "bin_start": 40.682167,
            "bin_end": 40.688283999999996,
            "count": 0
           },
           {
            "bin_start": 40.688283999999996,
            "bin_end": 40.694401,
            "count": 0
           },
           {
            "bin_start": 40.694401,
            "bin_end": 40.700517999999995,
            "count": 1
           },
           {
            "bin_start": 40.700517999999995,
            "bin_end": 40.706635,
            "count": 0
           },
           {
            "bin_start": 40.706635,
            "bin_end": 40.712752,
            "count": 0
           },
           {
            "bin_start": 40.712752,
            "bin_end": 40.718869,
            "count": 0
           },
           {
            "bin_start": 40.718869,
            "bin_end": 40.724986,
            "count": 1
           },
           {
            "bin_start": 40.724986,
            "bin_end": 40.731103,
            "count": 1
           },
           {
            "bin_start": 40.731103,
            "bin_end": 40.73722,
            "count": 1
           }
          ]
         }
        },
        {
         "name": "longitude",
         "dtype": "float64",
         "stats": {
          "unique_count": 5,
          "nan_count": 0,
          "min": "-74.0007",
          "max": "-73.92912",
          "histogram": [
           {
            "bin_start": -74.0007,
            "bin_end": -73.99354199999999,
            "count": 1
           },
           {
            "bin_start": -73.99354199999999,
            "bin_end": -73.986384,
            "count": 0
           },
           {
            "bin_start": -73.986384,
            "bin_end": -73.979226,
            "count": 1
           },
           {
            "bin_start": -73.979226,
            "bin_end": -73.972068,
            "count": 0
           },
           {
            "bin_start": -73.972068,
            "bin_end": -73.96491,
            "count": 0
           },
           {
            "bin_start": -73.96491,
            "bin_end": -73.957752,
            "count": 1
           },
           {
            "bin_start": -73.957752,
            "bin_end": -73.950594,
            "count": 1
           },
           {
            "bin_start": -73.950594,
            "bin_end": -73.94343599999999,
            "count": 0
           },
           {
            "bin_start": -73.94343599999999,
            "bin_end": -73.936278,
            "count": 0
           },
           {
            "bin_start": -73.936278,
            "bin_end": -73.92912,
            "count": 1
           }
          ]
         }
        },
        {
         "name": "property_type",
         "dtype": "object",
         "stats": {
          "unique_count": 2,
          "nan_count": 0,
          "categories": [
           {
            "name": "Entire rental unit",
            "count": 3
           },
           {
            "name": "Private room in rental unit",
            "count": 2
           }
          ]
         }
        },
        {
         "name": "room_type",
         "dtype": "object",
         "stats": {
          "unique_count": 2,
          "nan_count": 0,
          "categories": [
           {
            "name": "Entire home/apt",
            "count": 3
           },
           {
            "name": "Private room",
            "count": 2
           }
          ]
         }
        },
        {
         "name": "accommodates",
         "dtype": "int64",
         "stats": {
          "unique_count": 4,
          "nan_count": 0,
          "min": "1",
          "max": "4",
          "histogram": [
           {
            "bin_start": 1,
            "bin_end": 1.3,
            "count": 1
           },
           {
            "bin_start": 1.3,
            "bin_end": 1.6,
            "count": 0
           },
           {
            "bin_start": 1.6,
            "bin_end": 1.9,
            "count": 0
           },
           {
            "bin_start": 1.9,
            "bin_end": 2.2,
            "count": 2
           },
           {
            "bin_start": 2.2,
            "bin_end": 2.5,
            "count": 0
           },
           {
            "bin_start": 2.5,
            "bin_end": 2.8,
            "count": 0
           },
           {
            "bin_start": 2.8,
            "bin_end": 3.1,
            "count": 1
           },
           {
            "bin_start": 3.1,
            "bin_end": 3.4,
            "count": 0
           },
           {
            "bin_start": 3.4,
            "bin_end": 3.6999999999999997,
            "count": 0
           },
           {
            "bin_start": 3.6999999999999997,
            "bin_end": 4,
            "count": 1
           }
          ]
         }
        },
        {
         "name": "bathrooms_text",
         "dtype": "object",
         "stats": {
          "unique_count": 2,
          "nan_count": 0,
          "categories": [
           {
            "name": "1 bath",
            "count": 4
           },
           {
            "name": "0 baths",
            "count": 1
           }
          ]
         }
        },
        {
         "name": "bedrooms",
         "dtype": "float64",
         "stats": {
          "unique_count": 1,
          "nan_count": 0,
          "min": "1.0",
          "max": "1.0",
          "histogram": [
           {
            "bin_start": 0.5,
            "bin_end": 0.6,
            "count": 0
           },
           {
            "bin_start": 0.6,
            "bin_end": 0.7,
            "count": 0
           },
           {
            "bin_start": 0.7,
            "bin_end": 0.8,
            "count": 0
           },
           {
            "bin_start": 0.8,
            "bin_end": 0.9,
            "count": 0
           },
           {
            "bin_start": 0.9,
            "bin_end": 1,
            "count": 0
           },
           {
            "bin_start": 1,
            "bin_end": 1.1,
            "count": 5
           },
           {
            "bin_start": 1.1,
            "bin_end": 1.2000000000000002,
            "count": 0
           },
           {
            "bin_start": 1.2000000000000002,
            "bin_end": 1.3,
            "count": 0
           },
           {
            "bin_start": 1.3,
            "bin_end": 1.4,
            "count": 0
           },
           {
            "bin_start": 1.4,
            "bin_end": 1.5,
            "count": 0
           }
          ]
         }
        },
        {
         "name": "beds",
         "dtype": "float64",
         "stats": {
          "unique_count": 2,
          "nan_count": 0,
          "min": "1.0",
          "max": "2.0",
          "histogram": [
           {
            "bin_start": 1,
            "bin_end": 1.1,
            "count": 2
           },
           {
            "bin_start": 1.1,
            "bin_end": 1.2,
            "count": 0
           },
           {
            "bin_start": 1.2,
            "bin_end": 1.3,
            "count": 0
           },
           {
            "bin_start": 1.3,
            "bin_end": 1.4,
            "count": 0
           },
           {
            "bin_start": 1.4,
            "bin_end": 1.5,
            "count": 0
           },
           {
            "bin_start": 1.5,
            "bin_end": 1.6,
            "count": 0
           },
           {
            "bin_start": 1.6,
            "bin_end": 1.7000000000000002,
            "count": 0
           },
           {
            "bin_start": 1.7000000000000002,
            "bin_end": 1.8,
            "count": 0
           },
           {
            "bin_start": 1.8,
            "bin_end": 1.9,
            "count": 0
           },
           {
            "bin_start": 1.9,
            "bin_end": 2,
            "count": 3
           }
          ]
         }
        },
        {
         "name": "amenities",
         "dtype": "object",
         "stats": {
          "unique_count": 5,
          "nan_count": 0,
          "categories": [
           {
            "name": "[\"Hot water\", \"Microwave\", \"Stove\", \"Smoke alarm\", \"Refrigerator\", \"Air conditioning\", \"Hair dryer\", \"Shampoo\", \"Essentials\", \"Cooking basics\", \"Hangers\", \"Dedicated workspace\", \"Dishes and silverware\", \"Host greets you\", \"Long term stays allowed\", \"Wifi\", \"Heating\", \"Oven\", \"Kitchen\"]",
            "count": 1
           },
           {
            "name": "[\"Carbon monoxide alarm\", \"Smoke alarm\", \"Air conditioning\", \"TV\", \"Essentials\", \"Long term stays allowed\", \"Wifi\", \"Heating\", \"Kitchen\"]",
            "count": 1
           },
           {
            "name": "3 others",
            "count": 3
           }
          ]
         }
        },
        {
         "name": "price",
         "dtype": "object",
         "stats": {
          "unique_count": 5,
          "nan_count": 0,
          "categories": [
           {
            "name": "$105.00",
            "count": 1
           },
           {
            "name": "$50.00",
            "count": 1
           },
           {
            "name": "3 others",
            "count": 3
           }
          ]
         }
        },
        {
         "name": "minimum_nights",
         "dtype": "int64",
         "stats": {
          "unique_count": 1,
          "nan_count": 0,
          "min": "30",
          "max": "30",
          "histogram": [
           {
            "bin_start": 29.5,
            "bin_end": 29.6,
            "count": 0
           },
           {
            "bin_start": 29.6,
            "bin_end": 29.7,
            "count": 0
           },
           {
            "bin_start": 29.7,
            "bin_end": 29.8,
            "count": 0
           },
           {
            "bin_start": 29.8,
            "bin_end": 29.9,
            "count": 0
           },
           {
            "bin_start": 29.9,
            "bin_end": 30,
            "count": 0
           },
           {
            "bin_start": 30,
            "bin_end": 30.1,
            "count": 5
           },
           {
            "bin_start": 30.1,
            "bin_end": 30.2,
            "count": 0
           },
           {
            "bin_start": 30.2,
            "bin_end": 30.3,
            "count": 0
           },
           {
            "bin_start": 30.3,
            "bin_end": 30.4,
            "count": 0
           },
           {
            "bin_start": 30.4,
            "bin_end": 30.5,
            "count": 0
           }
          ]
         }
        },
        {
         "name": "maximum_nights",
         "dtype": "int64",
         "stats": {
          "unique_count": 1,
          "nan_count": 0,
          "min": "1125",
          "max": "1125",
          "histogram": [
           {
            "bin_start": 1124.5,
            "bin_end": 1124.6,
            "count": 0
           },
           {
            "bin_start": 1124.6,
            "bin_end": 1124.7,
            "count": 0
           },
           {
            "bin_start": 1124.7,
            "bin_end": 1124.8,
            "count": 0
           },
           {
            "bin_start": 1124.8,
            "bin_end": 1124.9,
            "count": 0
           },
           {
            "bin_start": 1124.9,
            "bin_end": 1125,
            "count": 0
           },
           {
            "bin_start": 1125,
            "bin_end": 1125.1,
            "count": 5
           },
           {
            "bin_start": 1125.1,
            "bin_end": 1125.2,
            "count": 0
           },
           {
            "bin_start": 1125.2,
            "bin_end": 1125.3,
            "count": 0
           },
           {
            "bin_start": 1125.3,
            "bin_end": 1125.4,
            "count": 0
           },
           {
            "bin_start": 1125.4,
            "bin_end": 1125.5,
            "count": 0
           }
          ]
         }
        },
        {
         "name": "has_availability",
         "dtype": "object",
         "stats": {
          "unique_count": 1,
          "nan_count": 0,
          "categories": [
           {
            "name": "t",
            "count": 5
           }
          ]
         }
        },
        {
         "name": "availability_30",
         "dtype": "int64",
         "stats": {
          "unique_count": 1,
          "nan_count": 0,
          "min": "0",
          "max": "0",
          "histogram": [
           {
            "bin_start": -0.5,
            "bin_end": -0.4,
            "count": 0
           },
           {
            "bin_start": -0.4,
            "bin_end": -0.3,
            "count": 0
           },
           {
            "bin_start": -0.3,
            "bin_end": -0.19999999999999996,
            "count": 0
           },
           {
            "bin_start": -0.19999999999999996,
            "bin_end": -0.09999999999999998,
            "count": 0
           },
           {
            "bin_start": -0.09999999999999998,
            "bin_end": 0,
            "count": 0
           },
           {
            "bin_start": 0,
            "bin_end": 0.10000000000000009,
            "count": 5
           },
           {
            "bin_start": 0.10000000000000009,
            "bin_end": 0.20000000000000007,
            "count": 0
           },
           {
            "bin_start": 0.20000000000000007,
            "bin_end": 0.30000000000000004,
            "count": 0
           },
           {
            "bin_start": 0.30000000000000004,
            "bin_end": 0.4,
            "count": 0
           },
           {
            "bin_start": 0.4,
            "bin_end": 0.5,
            "count": 0
           }
          ]
         }
        },
        {
         "name": "availability_60",
         "dtype": "int64",
         "stats": {
          "unique_count": 2,
          "nan_count": 0,
          "min": "0",
          "max": "12",
          "histogram": [
           {
            "bin_start": 0,
            "bin_end": 1.2,
            "count": 4
           },
           {
            "bin_start": 1.2,
            "bin_end": 2.4,
            "count": 0
           },
           {
            "bin_start": 2.4,
            "bin_end": 3.5999999999999996,
            "count": 0
           },
           {
            "bin_start": 3.5999999999999996,
            "bin_end": 4.8,
            "count": 0
           },
           {
            "bin_start": 4.8,
            "bin_end": 6,
            "count": 0
           },
           {
            "bin_start": 6,
            "bin_end": 7.199999999999999,
            "count": 0
           },
           {
            "bin_start": 7.199999999999999,
            "bin_end": 8.4,
            "count": 0
           },
           {
            "bin_start": 8.4,
            "bin_end": 9.6,
            "count": 0
           },
           {
            "bin_start": 9.6,
            "bin_end": 10.799999999999999,
            "count": 0
           },
           {
            "bin_start": 10.799999999999999,
            "bin_end": 12,
            "count": 1
           }
          ]
         }
        },
        {
         "name": "availability_90",
         "dtype": "int64",
         "stats": {
          "unique_count": 2,
          "nan_count": 0,
          "min": "0",
          "max": "23",
          "histogram": [
           {
            "bin_start": 0,
            "bin_end": 2.3,
            "count": 4
           },
           {
            "bin_start": 2.3,
            "bin_end": 4.6,
            "count": 0
           },
           {
            "bin_start": 4.6,
            "bin_end": 6.8999999999999995,
            "count": 0
           },
           {
            "bin_start": 6.8999999999999995,
            "bin_end": 9.2,
            "count": 0
           },
           {
            "bin_start": 9.2,
            "bin_end": 11.5,
            "count": 0
           },
           {
            "bin_start": 11.5,
            "bin_end": 13.799999999999999,
            "count": 0
           },
           {
            "bin_start": 13.799999999999999,
            "bin_end": 16.099999999999998,
            "count": 0
           },
           {
            "bin_start": 16.099999999999998,
            "bin_end": 18.4,
            "count": 0
           },
           {
            "bin_start": 18.4,
            "bin_end": 20.7,
            "count": 0
           },
           {
            "bin_start": 20.7,
            "bin_end": 23,
            "count": 1
           }
          ]
         }
        },
        {
         "name": "availability_365",
         "dtype": "int64",
         "stats": {
          "unique_count": 2,
          "nan_count": 0,
          "min": "0",
          "max": "152",
          "histogram": [
           {
            "bin_start": 0,
            "bin_end": 15.2,
            "count": 4
           },
           {
            "bin_start": 15.2,
            "bin_end": 30.4,
            "count": 0
           },
           {
            "bin_start": 30.4,
            "bin_end": 45.599999999999994,
            "count": 0
           },
           {
            "bin_start": 45.599999999999994,
            "bin_end": 60.8,
            "count": 0
           },
           {
            "bin_start": 60.8,
            "bin_end": 76,
            "count": 0
           },
           {
            "bin_start": 76,
            "bin_end": 91.19999999999999,
            "count": 0
           },
           {
            "bin_start": 91.19999999999999,
            "bin_end": 106.39999999999999,
            "count": 0
           },
           {
            "bin_start": 106.39999999999999,
            "bin_end": 121.6,
            "count": 0
           },
           {
            "bin_start": 121.6,
            "bin_end": 136.79999999999998,
            "count": 0
           },
           {
            "bin_start": 136.79999999999998,
            "bin_end": 152,
            "count": 1
           }
          ]
         }
        },
        {
         "name": "number_of_reviews",
         "dtype": "int64",
         "stats": {
          "unique_count": 4,
          "nan_count": 0,
          "min": "0",
          "max": "48",
          "histogram": [
           {
            "bin_start": 0,
            "bin_end": 4.8,
            "count": 3
           },
           {
            "bin_start": 4.8,
            "bin_end": 9.6,
            "count": 0
           },
           {
            "bin_start": 9.6,
            "bin_end": 14.399999999999999,
            "count": 0
           },
           {
            "bin_start": 14.399999999999999,
            "bin_end": 19.2,
            "count": 0
           },
           {
            "bin_start": 19.2,
            "bin_end": 24,
            "count": 0
           },
           {
            "bin_start": 24,
            "bin_end": 28.799999999999997,
            "count": 1
           },
           {
            "bin_start": 28.799999999999997,
            "bin_end": 33.6,
            "count": 0
           },
           {
            "bin_start": 33.6,
            "bin_end": 38.4,
            "count": 0
           },
           {
            "bin_start": 38.4,
            "bin_end": 43.199999999999996,
            "count": 0
           },
           {
            "bin_start": 43.199999999999996,
            "bin_end": 48,
            "count": 1
           }
          ]
         }
        },
        {
         "name": "number_of_reviews_ltm",
         "dtype": "int64",
         "stats": {
          "unique_count": 2,
          "nan_count": 0,
          "min": "0",
          "max": "2",
          "histogram": [
           {
            "bin_start": 0,
            "bin_end": 0.2,
            "count": 4
           },
           {
            "bin_start": 0.2,
            "bin_end": 0.4,
            "count": 0
           },
           {
            "bin_start": 0.4,
            "bin_end": 0.6000000000000001,
            "count": 0
           },
           {
            "bin_start": 0.6000000000000001,
            "bin_end": 0.8,
            "count": 0
           },
           {
            "bin_start": 0.8,
            "bin_end": 1,
            "count": 0
           },
           {
            "bin_start": 1,
            "bin_end": 1.2000000000000002,
            "count": 0
           },
           {
            "bin_start": 1.2000000000000002,
            "bin_end": 1.4000000000000001,
            "count": 0
           },
           {
            "bin_start": 1.4000000000000001,
            "bin_end": 1.6,
            "count": 0
           },
           {
            "bin_start": 1.6,
            "bin_end": 1.8,
            "count": 0
           },
           {
            "bin_start": 1.8,
            "bin_end": 2,
            "count": 1
           }
          ]
         }
        },
        {
         "name": "number_of_reviews_l30d",
         "dtype": "int64",
         "stats": {
          "unique_count": 1,
          "nan_count": 0,
          "min": "0",
          "max": "0",
          "histogram": [
           {
            "bin_start": -0.5,
            "bin_end": -0.4,
            "count": 0
           },
           {
            "bin_start": -0.4,
            "bin_end": -0.3,
            "count": 0
           },
           {
            "bin_start": -0.3,
            "bin_end": -0.19999999999999996,
            "count": 0
           },
           {
            "bin_start": -0.19999999999999996,
            "bin_end": -0.09999999999999998,
            "count": 0
           },
           {
            "bin_start": -0.09999999999999998,
            "bin_end": 0,
            "count": 0
           },
           {
            "bin_start": 0,
            "bin_end": 0.10000000000000009,
            "count": 5
           },
           {
            "bin_start": 0.10000000000000009,
            "bin_end": 0.20000000000000007,
            "count": 0
           },
           {
            "bin_start": 0.20000000000000007,
            "bin_end": 0.30000000000000004,
            "count": 0
           },
           {
            "bin_start": 0.30000000000000004,
            "bin_end": 0.4,
            "count": 0
           },
           {
            "bin_start": 0.4,
            "bin_end": 0.5,
            "count": 0
           }
          ]
         }
        },
        {
         "name": "review_scores_rating",
         "dtype": "float64",
         "stats": {
          "unique_count": 4,
          "nan_count": 1,
          "min": "0.0",
          "max": "4.83",
          "histogram": [
           {
            "bin_start": 0,
            "bin_end": 0.483,
            "count": 1
           },
           {
            "bin_start": 0.483,
            "bin_end": 0.966,
            "count": 0
           },
           {
            "bin_start": 0.966,
            "bin_end": 1.4489999999999998,
            "count": 0
           },
           {
            "bin_start": 1.4489999999999998,
            "bin_end": 1.932,
            "count": 0
           },
           {
            "bin_start": 1.932,
            "bin_end": 2.415,
            "count": 0
           },
           {
            "bin_start": 2.415,
            "bin_end": 2.8979999999999997,
            "count": 0
           },
           {
            "bin_start": 2.8979999999999997,
            "bin_end": 3.381,
            "count": 0
           },
           {
            "bin_start": 3.381,
            "bin_end": 3.864,
            "count": 0
           },
           {
            "bin_start": 3.864,
            "bin_end": 4.3469999999999995,
            "count": 1
           },
           {
            "bin_start": 4.3469999999999995,
            "bin_end": 4.83,
            "count": 2
           }
          ]
         }
        },
        {
         "name": "review_scores_accuracy",
         "dtype": "float64",
         "stats": {
          "unique_count": 3,
          "nan_count": 2,
          "min": "4.0",
          "max": "4.91",
          "histogram": [
           {
            "bin_start": 4,
            "bin_end": 4.091,
            "count": 1
           },
           {
            "bin_start": 4.091,
            "bin_end": 4.182,
            "count": 0
           },
           {
            "bin_start": 4.182,
            "bin_end": 4.273,
            "count": 0
           },
           {
            "bin_start": 4.273,
            "bin_end": 4.364,
            "count": 0
           },
           {
            "bin_start": 4.364,
            "bin_end": 4.455,
            "count": 0
           },
           {
            "bin_start": 4.455,
            "bin_end": 4.546,
            "count": 0
           },
           {
            "bin_start": 4.546,
            "bin_end": 4.6370000000000005,
            "count": 1
           },
           {
            "bin_start": 4.6370000000000005,
            "bin_end": 4.728,
            "count": 0
           },
           {
            "bin_start": 4.728,
            "bin_end": 4.819,
            "count": 0
           },
           {
            "bin_start": 4.819,
            "bin_end": 4.91,
            "count": 1
           }
          ]
         }
        },
        {
         "name": "review_scores_cleanliness",
         "dtype": "float64",
         "stats": {
          "unique_count": 3,
          "nan_count": 2,
          "min": "3.75",
          "max": "5.0",
          "histogram": [
           {
            "bin_start": 3.75,
            "bin_end": 3.875,
            "count": 1
           },
           {
            "bin_start": 3.875,
            "bin_end": 4,
            "count": 0
           },
           {
            "bin_start": 4,
            "bin_end": 4.125,
            "count": 0
           },
           {
            "bin_start": 4.125,
            "bin_end": 4.25,
            "count": 0
           },
           {
            "bin_start": 4.25,
            "bin_end": 4.375,
            "count": 0
           },
           {
            "bin_start": 4.375,
            "bin_end": 4.5,
            "count": 0
           },
           {
            "bin_start": 4.5,
            "bin_end": 4.625,
            "count": 0
           },
           {
            "bin_start": 4.625,
            "bin_end": 4.75,
            "count": 1
           },
           {
            "bin_start": 4.75,
            "bin_end": 4.875,
            "count": 0
           },
           {
            "bin_start": 4.875,
            "bin_end": 5,
            "count": 1
           }
          ]
         }
        },
        {
         "name": "review_scores_checkin",
         "dtype": "float64",
         "stats": {
          "unique_count": 3,
          "nan_count": 2,
          "min": "4.78",
          "max": "5.0",
          "histogram": [
           {
            "bin_start": 4.78,
            "bin_end": 4.8020000000000005,
            "count": 1
           },
           {
            "bin_start": 4.8020000000000005,
            "bin_end": 4.824,
            "count": 0
           },
           {
            "bin_start": 4.824,
            "bin_end": 4.846,
            "count": 0
           },
           {
            "bin_start": 4.846,
            "bin_end": 4.868,
            "count": 1
           },
           {
            "bin_start": 4.868,
            "bin_end": 4.890000000000001,
            "count": 0
           },
           {
            "bin_start": 4.890000000000001,
            "bin_end": 4.912,
            "count": 0
           },
           {
            "bin_start": 4.912,
            "bin_end": 4.934,
            "count": 0
           },
           {
            "bin_start": 4.934,
            "bin_end": 4.956,
            "count": 0
           },
           {
            "bin_start": 4.956,
            "bin_end": 4.978,
            "count": 0
           },
           {
            "bin_start": 4.978,
            "bin_end": 5,
            "count": 1
           }
          ]
         }
        },
        {
         "name": "review_scores_communication",
         "dtype": "float64",
         "stats": {
          "unique_count": 3,
          "nan_count": 2,
          "min": "4.0",
          "max": "4.92",
          "histogram": [
           {
            "bin_start": 4,
            "bin_end": 4.092,
            "count": 1
           },
           {
            "bin_start": 4.092,
            "bin_end": 4.184,
            "count": 0
           },
           {
            "bin_start": 4.184,
            "bin_end": 4.276,
            "count": 0
           },
           {
            "bin_start": 4.276,
            "bin_end": 4.368,
            "count": 0
           },
           {
            "bin_start": 4.368,
            "bin_end": 4.46,
            "count": 0
           },
           {
            "bin_start": 4.46,
            "bin_end": 4.552,
            "count": 0
           },
           {
            "bin_start": 4.552,
            "bin_end": 4.644,
            "count": 0
           },
           {
            "bin_start": 4.644,
            "bin_end": 4.736,
            "count": 0
           },
           {
            "bin_start": 4.736,
            "bin_end": 4.828,
            "count": 0
           },
           {
            "bin_start": 4.828,
            "bin_end": 4.92,
            "count": 2
           }
          ]
         }
        },
        {
         "name": "review_scores_location",
         "dtype": "float64",
         "stats": {
          "unique_count": 3,
          "nan_count": 2,
          "min": "4.92",
          "max": "5.0",
          "histogram": [
           {
            "bin_start": 4.92,
            "bin_end": 4.928,
            "count": 1
           },
           {
            "bin_start": 4.928,
            "bin_end": 4.936,
            "count": 0
           },
           {
            "bin_start": 4.936,
            "bin_end": 4.944,
            "count": 0
           },
           {
            "bin_start": 4.944,
            "bin_end": 4.952,
            "count": 0
           },
           {
            "bin_start": 4.952,
            "bin_end": 4.96,
            "count": 0
           },
           {
            "bin_start": 4.96,
            "bin_end": 4.968,
            "count": 1
           },
           {
            "bin_start": 4.968,
            "bin_end": 4.976,
            "count": 0
           },
           {
            "bin_start": 4.976,
            "bin_end": 4.984,
            "count": 0
           },
           {
            "bin_start": 4.984,
            "bin_end": 4.992,
            "count": 0
           },
           {
            "bin_start": 4.992,
            "bin_end": 5,
            "count": 1
           }
          ]
         }
        },
        {
         "name": "review_scores_value",
         "dtype": "float64",
         "stats": {
          "unique_count": 3,
          "nan_count": 2,
          "min": "4.0",
          "max": "4.87",
          "histogram": [
           {
            "bin_start": 4,
            "bin_end": 4.087,
            "count": 1
           },
           {
            "bin_start": 4.087,
            "bin_end": 4.174,
            "count": 0
           },
           {
            "bin_start": 4.174,
            "bin_end": 4.261,
            "count": 0
           },
           {
            "bin_start": 4.261,
            "bin_end": 4.348,
            "count": 0
           },
           {
            "bin_start": 4.348,
            "bin_end": 4.4350000000000005,
            "count": 0
           },
           {
            "bin_start": 4.4350000000000005,
            "bin_end": 4.522,
            "count": 1
           },
           {
            "bin_start": 4.522,
            "bin_end": 4.609,
            "count": 0
           },
           {
            "bin_start": 4.609,
            "bin_end": 4.696,
            "count": 0
           },
           {
            "bin_start": 4.696,
            "bin_end": 4.783,
            "count": 0
           },
           {
            "bin_start": 4.783,
            "bin_end": 4.87,
            "count": 1
           }
          ]
         }
        },
        {
         "name": "instant_bookable",
         "dtype": "object",
         "stats": {
          "unique_count": 1,
          "nan_count": 0,
          "categories": [
           {
            "name": "f",
            "count": 5
           }
          ]
         }
        },
        {
         "name": "calculated_host_listings_count",
         "dtype": "int64",
         "stats": {
          "unique_count": 1,
          "nan_count": 0,
          "min": "1",
          "max": "1",
          "histogram": [
           {
            "bin_start": 0.5,
            "bin_end": 0.6,
            "count": 0
           },
           {
            "bin_start": 0.6,
            "bin_end": 0.7,
            "count": 0
           },
           {
            "bin_start": 0.7,
            "bin_end": 0.8,
            "count": 0
           },
           {
            "bin_start": 0.8,
            "bin_end": 0.9,
            "count": 0
           },
           {
            "bin_start": 0.9,
            "bin_end": 1,
            "count": 0
           },
           {
            "bin_start": 1,
            "bin_end": 1.1,
            "count": 5
           },
           {
            "bin_start": 1.1,
            "bin_end": 1.2000000000000002,
            "count": 0
           },
           {
            "bin_start": 1.2000000000000002,
            "bin_end": 1.3,
            "count": 0
           },
           {
            "bin_start": 1.3,
            "bin_end": 1.4,
            "count": 0
           },
           {
            "bin_start": 1.4,
            "bin_end": 1.5,
            "count": 0
           }
          ]
         }
        },
        {
         "name": "_deepnote_index_column",
         "dtype": "int64"
        }
       ],
       "rows": [
        {
         "id": 2835711,
         "name": "Sunny West Village Apartment on MacDougal Street",
         "description": "NOW WITH HIGH-SPEED WI-FI<br /><br />This adorable, sun-drenched, one-bedroom has a fully stocked k…",
         "neighborhood_overview": "West Village!",
         "host_since": "nan",
         "host_response_time": "nan",
         "host_response_rate": "nan",
         "host_acceptance_rate": "nan",
         "host_is_superhost": "nan",
         "host_listings_count": "nan",
         "host_has_profile_pic": "nan",
         "host_identity_verified": "nan",
         "neighbourhood": "New York, United States",
         "neighbourhood_cleansed": "Greenwich Village",
         "neighbourhood_group_cleansed": "Manhattan",
         "latitude": 40.73058,
         "longitude": -74.0007,
         "property_type": "Entire rental unit",
         "room_type": "Entire home/apt",
         "accommodates": 3,
         "bathrooms_text": "1 bath",
         "bedrooms": 1,
         "beds": 2,
         "amenities": "[\"Hot water\", \"Microwave\", \"Stove\", \"Smoke alarm\", \"Refrigerator\", \"Air conditioning\", \"Hair dryer\"…",
         "price": "$105.00",
         "minimum_nights": 30,
         "maximum_nights": 1125,
         "has_availability": "t",
         "availability_30": 0,
         "availability_60": 12,
         "availability_90": 23,
         "availability_365": 152,
         "number_of_reviews": 48,
         "number_of_reviews_ltm": 2,
         "number_of_reviews_l30d": 0,
         "review_scores_rating": 4.46,
         "review_scores_accuracy": 4.63,
         "review_scores_cleanliness": 3.75,
         "review_scores_checkin": 4.85,
         "review_scores_communication": 4.92,
         "review_scores_location": 4.92,
         "review_scores_value": 4.52,
         "instant_bookable": "f",
         "calculated_host_listings_count": 1,
         "_deepnote_index_column": 2395
        },
        {
         "id": 4446862,
         "name": "Charming Room in Prospect Heights!",
         "description": "Quiet room in three bedroom apt in Prospect Heights.<br /><br /><b>The space</b><br />Enjoy your st…",
         "neighborhood_overview": "This charming Brooklyn neighborhood offers many great cafes, bars, and restaurants (which includes …",
         "host_since": "nan",
         "host_response_time": "nan",
         "host_response_rate": "nan",
         "host_acceptance_rate": "nan",
         "host_is_superhost": "nan",
         "host_listings_count": "nan",
         "host_has_profile_pic": "nan",
         "host_identity_verified": "nan",
         "neighbourhood": "Brooklyn, New York, United States",
         "neighbourhood_cleansed": "Crown Heights",
         "neighbourhood_group_cleansed": "Brooklyn",
         "latitude": 40.67605,
         "longitude": -73.95997,
         "property_type": "Private room in rental unit",
         "room_type": "Private room",
         "accommodates": 2,
         "bathrooms_text": "1 bath",
         "bedrooms": 1,
         "beds": 1,
         "amenities": "[\"Carbon monoxide alarm\", \"Smoke alarm\", \"Air conditioning\", \"TV\", \"Essentials\", \"Long term stays a…",
         "price": "$50.00",
         "minimum_nights": 30,
         "maximum_nights": 1125,
         "has_availability": "t",
         "availability_30": 0,
         "availability_60": 0,
         "availability_90": 0,
         "availability_365": 0,
         "number_of_reviews": 0,
         "number_of_reviews_ltm": 0,
         "number_of_reviews_l30d": 0,
         "review_scores_rating": "nan",
         "review_scores_accuracy": "nan",
         "review_scores_cleanliness": "nan",
         "review_scores_checkin": "nan",
         "review_scores_communication": "nan",
         "review_scores_location": "nan",
         "review_scores_value": "nan",
         "instant_bookable": "f",
         "calculated_host_listings_count": 1,
         "_deepnote_index_column": 3377
        },
        {
         "id": 4763327,
         "name": "Luxurious, best location, spa inc'l",
         "description": "Brand new luxurious boutique building, swimming pool, GYM, theater, facing a park, huge living room…",
         "neighborhood_overview": "Quoting from Time Out Magazine: \"Williamsburg is the epicenter of Brooklyn as a fashionable worldwi…",
         "host_since": "nan",
         "host_response_time": "nan",
         "host_response_rate": "nan",
         "host_acceptance_rate": "nan",
         "host_is_superhost": "nan",
         "host_listings_count": "nan",
         "host_has_profile_pic": "nan",
         "host_identity_verified": "nan",
         "neighbourhood": "Brooklyn, New York, United States",
         "neighbourhood_cleansed": "Greenpoint",
         "neighbourhood_group_cleansed": "Brooklyn",
         "latitude": 40.72119,
         "longitude": -73.95279,
         "property_type": "Entire rental unit",
         "room_type": "Entire home/apt",
         "accommodates": 4,
         "bathrooms_text": "1 bath",
         "bedrooms": 1,
         "beds": 2,
         "amenities": "[\"Cable TV\", \"TV with standard cable\", \"Pool\", \"Gym\", \"Smoke alarm\", \"Elevator\", \"Air conditioning\"…",
         "price": "$195.00",
         "minimum_nights": 30,
         "maximum_nights": 1125,
         "has_availability": "t",
         "availability_30": 0,
         "availability_60": 0,
         "availability_90": 0,
         "availability_365": 0,
         "number_of_reviews": 1,
         "number_of_reviews_ltm": 0,
         "number_of_reviews_l30d": 0,
         "review_scores_rating": 4,
         "review_scores_accuracy": 4,
         "review_scores_cleanliness": 5,
         "review_scores_checkin": 5,
         "review_scores_communication": 4,
         "review_scores_location": 5,
         "review_scores_value": 4,
         "instant_bookable": "f",
         "calculated_host_listings_count": 1,
         "_deepnote_index_column": 3666
        },
        {
         "id": 5319785,
         "name": "Charming 1-BR in Gramercy",
         "description": "Sunny, spacious, 1-bedroom apartment in great downtown location. Comfy 2nd floor apartment close to…",
         "neighborhood_overview": "nan",
         "host_since": "nan",
         "host_response_time": "nan",
         "host_response_rate": "nan",
         "host_acceptance_rate": "nan",
         "host_is_superhost": "nan",
         "host_listings_count": "nan",
         "host_has_profile_pic": "nan",
         "host_identity_verified": "nan",
         "neighbourhood": "nan",
         "neighbourhood_cleansed": "Gramercy",
         "neighbourhood_group_cleansed": "Manhattan",
         "latitude": 40.73722,
         "longitude": -73.98039,
         "property_type": "Entire rental unit",
         "room_type": "Entire home/apt",
         "accommodates": 2,
         "bathrooms_text": "1 bath",
         "bedrooms": 1,
         "beds": 2,
         "amenities": "[\"Hot water\", \"Iron\", \"Refrigerator\", \"Kitchen\", \"Cable TV\", \"Extra pillows and blankets\", \"Microwa…",
         "price": "$159.00",
         "minimum_nights": 30,
         "maximum_nights": 1125,
         "has_availability": "t",
         "availability_30": 0,
         "availability_60": 0,
         "availability_90": 0,
         "availability_365": 0,
         "number_of_reviews": 24,
         "number_of_reviews_ltm": 0,
         "number_of_reviews_l30d": 0,
         "review_scores_rating": 4.83,
         "review_scores_accuracy": 4.91,
         "review_scores_cleanliness": 4.74,
         "review_scores_checkin": 4.78,
         "review_scores_communication": 4.83,
         "review_scores_location": 4.96,
         "review_scores_value": 4.87,
         "instant_bookable": "f",
         "calculated_host_listings_count": 1,
         "_deepnote_index_column": 4040
        },
        {
         "id": 6360224,
         "name": "Sunny, Private room in Bushwick",
         "description": "Spacious room, lots of light. New, clean building with high ceilings, skylight, and roof access wit…",
         "neighborhood_overview": "nan",
         "host_since": "nan",
         "host_response_time": "nan",
         "host_response_rate": "nan",
         "host_acceptance_rate": "nan",
         "host_is_superhost": "nan",
         "host_listings_count": "nan",
         "host_has_profile_pic": "nan",
         "host_identity_verified": "nan",
         "neighbourhood": "nan",
         "neighbourhood_cleansed": "Bushwick",
         "neighbourhood_group_cleansed": "Brooklyn",
         "latitude": 40.69977,
         "longitude": -73.92912,
         "property_type": "Private room in rental unit",
         "room_type": "Private room",
         "accommodates": 1,
         "bathrooms_text": "0 baths",
         "bedrooms": 1,
         "beds": 1,
         "amenities": "[\"Carbon monoxide alarm\", \"Smoke alarm\", \"Air conditioning\", \"First aid kit\", \"Essentials\", \"Long t…",
         "price": "$37.00",
         "minimum_nights": 30,
         "maximum_nights": 1125,
         "has_availability": "t",
         "availability_30": 0,
         "availability_60": 0,
         "availability_90": 0,
         "availability_365": 0,
         "number_of_reviews": 1,
         "number_of_reviews_ltm": 0,
         "number_of_reviews_l30d": 0,
         "review_scores_rating": 0,
         "review_scores_accuracy": "nan",
         "review_scores_cleanliness": "nan",
         "review_scores_checkin": "nan",
         "review_scores_communication": "nan",
         "review_scores_location": "nan",
         "review_scores_value": "nan",
         "instant_bookable": "f",
         "calculated_host_listings_count": 1,
         "_deepnote_index_column": 4600
        }
       ]
      },
      "text/plain": "           id                                              name  \\\n2395  2835711  Sunny West Village Apartment on MacDougal Street   \n3377  4446862                Charming Room in Prospect Heights!   \n3666  4763327               Luxurious, best location, spa inc'l   \n4040  5319785                         Charming 1-BR in Gramercy   \n4600  6360224                   Sunny, Private room in Bushwick   \n\n                                            description  \\\n2395  NOW WITH HIGH-SPEED WI-FI<br /><br />This ador...   \n3377  Quiet room in three bedroom apt in Prospect He...   \n3666  Brand new luxurious boutique building, swimmin...   \n4040  Sunny, spacious, 1-bedroom apartment in great ...   \n4600  Spacious room, lots of light. New, clean build...   \n\n                                  neighborhood_overview host_since  \\\n2395                                      West Village!        NaN   \n3377  This charming Brooklyn neighborhood offers man...        NaN   \n3666  Quoting from Time Out Magazine: \"Williamsburg ...        NaN   \n4040                                                NaN        NaN   \n4600                                                NaN        NaN   \n\n     host_response_time host_response_rate host_acceptance_rate  \\\n2395                NaN                NaN                  NaN   \n3377                NaN                NaN                  NaN   \n3666                NaN                NaN                  NaN   \n4040                NaN                NaN                  NaN   \n4600                NaN                NaN                  NaN   \n\n     host_is_superhost  host_listings_count  ... number_of_reviews_l30d  \\\n2395               NaN                  NaN  ...                      0   \n3377               NaN                  NaN  ...                      0   \n3666               NaN                  NaN  ...                      0   \n4040               NaN                  NaN  ...                      0   \n4600               NaN                  NaN  ...                      0   \n\n     review_scores_rating review_scores_accuracy review_scores_cleanliness  \\\n2395                 4.46                   4.63                      3.75   \n3377                  NaN                    NaN                       NaN   \n3666                 4.00                   4.00                      5.00   \n4040                 4.83                   4.91                      4.74   \n4600                 0.00                    NaN                       NaN   \n\n     review_scores_checkin  review_scores_communication  \\\n2395                  4.85                         4.92   \n3377                   NaN                          NaN   \n3666                  5.00                         4.00   \n4040                  4.78                         4.83   \n4600                   NaN                          NaN   \n\n      review_scores_location review_scores_value instant_bookable  \\\n2395                    4.92                4.52                f   \n3377                     NaN                 NaN                f   \n3666                    5.00                4.00                f   \n4040                    4.96                4.87                f   \n4600                     NaN                 NaN                f   \n\n      calculated_host_listings_count  \n2395                               1  \n3377                               1  \n3666                               1  \n4040                               1  \n4600                               1  \n\n[5 rows x 44 columns]",
      "text/html": "<div>\n<style scoped>\n    .dataframe tbody tr th:only-of-type {\n        vertical-align: middle;\n    }\n\n    .dataframe tbody tr th {\n        vertical-align: top;\n    }\n\n    .dataframe thead th {\n        text-align: right;\n    }\n</style>\n<table border=\"1\" class=\"dataframe\">\n  <thead>\n    <tr style=\"text-align: right;\">\n      <th></th>\n      <th>id</th>\n      <th>name</th>\n      <th>description</th>\n      <th>neighborhood_overview</th>\n      <th>host_since</th>\n      <th>host_response_time</th>\n      <th>host_response_rate</th>\n      <th>host_acceptance_rate</th>\n      <th>host_is_superhost</th>\n      <th>host_listings_count</th>\n      <th>...</th>\n      <th>number_of_reviews_l30d</th>\n      <th>review_scores_rating</th>\n      <th>review_scores_accuracy</th>\n      <th>review_scores_cleanliness</th>\n      <th>review_scores_checkin</th>\n      <th>review_scores_communication</th>\n      <th>review_scores_location</th>\n      <th>review_scores_value</th>\n      <th>instant_bookable</th>\n      <th>calculated_host_listings_count</th>\n    </tr>\n  </thead>\n  <tbody>\n    <tr>\n      <th>2395</th>\n      <td>2835711</td>\n      <td>Sunny West Village Apartment on MacDougal Street</td>\n      <td>NOW WITH HIGH-SPEED WI-FI&lt;br /&gt;&lt;br /&gt;This ador...</td>\n      <td>West Village!</td>\n      <td>NaN</td>\n      <td>NaN</td>\n      <td>NaN</td>\n      <td>NaN</td>\n      <td>NaN</td>\n      <td>NaN</td>\n      <td>...</td>\n      <td>0</td>\n      <td>4.46</td>\n      <td>4.63</td>\n      <td>3.75</td>\n      <td>4.85</td>\n      <td>4.92</td>\n      <td>4.92</td>\n      <td>4.52</td>\n      <td>f</td>\n      <td>1</td>\n    </tr>\n    <tr>\n      <th>3377</th>\n      <td>4446862</td>\n      <td>Charming Room in Prospect Heights!</td>\n      <td>Quiet room in three bedroom apt in Prospect He...</td>\n      <td>This charming Brooklyn neighborhood offers man...</td>\n      <td>NaN</td>\n      <td>NaN</td>\n      <td>NaN</td>\n      <td>NaN</td>\n      <td>NaN</td>\n      <td>NaN</td>\n      <td>...</td>\n      <td>0</td>\n      <td>NaN</td>\n      <td>NaN</td>\n      <td>NaN</td>\n      <td>NaN</td>\n      <td>NaN</td>\n      <td>NaN</td>\n      <td>NaN</td>\n      <td>f</td>\n      <td>1</td>\n    </tr>\n    <tr>\n      <th>3666</th>\n      <td>4763327</td>\n      <td>Luxurious, best location, spa inc'l</td>\n      <td>Brand new luxurious boutique building, swimmin...</td>\n      <td>Quoting from Time Out Magazine: \"Williamsburg ...</td>\n      <td>NaN</td>\n      <td>NaN</td>\n      <td>NaN</td>\n      <td>NaN</td>\n      <td>NaN</td>\n      <td>NaN</td>\n      <td>...</td>\n      <td>0</td>\n      <td>4.00</td>\n      <td>4.00</td>\n      <td>5.00</td>\n      <td>5.00</td>\n      <td>4.00</td>\n      <td>5.00</td>\n      <td>4.00</td>\n      <td>f</td>\n      <td>1</td>\n    </tr>\n    <tr>\n      <th>4040</th>\n      <td>5319785</td>\n      <td>Charming 1-BR in Gramercy</td>\n      <td>Sunny, spacious, 1-bedroom apartment in great ...</td>\n      <td>NaN</td>\n      <td>NaN</td>\n      <td>NaN</td>\n      <td>NaN</td>\n      <td>NaN</td>\n      <td>NaN</td>\n      <td>NaN</td>\n      <td>...</td>\n      <td>0</td>\n      <td>4.83</td>\n      <td>4.91</td>\n      <td>4.74</td>\n      <td>4.78</td>\n      <td>4.83</td>\n      <td>4.96</td>\n      <td>4.87</td>\n      <td>f</td>\n      <td>1</td>\n    </tr>\n    <tr>\n      <th>4600</th>\n      <td>6360224</td>\n      <td>Sunny, Private room in Bushwick</td>\n      <td>Spacious room, lots of light. New, clean build...</td>\n      <td>NaN</td>\n      <td>NaN</td>\n      <td>NaN</td>\n      <td>NaN</td>\n      <td>NaN</td>\n      <td>NaN</td>\n      <td>NaN</td>\n      <td>...</td>\n      <td>0</td>\n      <td>0.00</td>\n      <td>NaN</td>\n      <td>NaN</td>\n      <td>NaN</td>\n      <td>NaN</td>\n      <td>NaN</td>\n      <td>NaN</td>\n      <td>f</td>\n      <td>1</td>\n    </tr>\n  </tbody>\n</table>\n<p>5 rows × 44 columns</p>\n</div>"
     },
     "metadata": {}
    }
   ]
  },
  {
   "cell_type": "code",
   "metadata": {
    "cell_id": "97b67753-5e28-412d-966f-13429038eea4",
    "tags": [],
    "deepnote_to_be_reexecuted": false,
    "source_hash": "9731bfe6",
    "execution_start": 1647320765093,
    "execution_millis": 37,
    "deepnote_app_coordinates": {
     "x": 0,
     "y": 150,
     "w": 12,
     "h": 5
    },
    "deepnote_cell_type": "code",
    "deepnote_cell_height": 81
   },
   "source": "listings = drop_variables(listings, 'host_since')",
   "execution_count": null,
   "outputs": []
  },
  {
   "cell_type": "markdown",
   "source": "#### Beds & Bedrooms\n\nBased on Airbnb listing form, the minimum number of beds and bedrooms is 1. Hence, listings with null values will be removed.",
   "metadata": {
    "cell_id": "4bb53436-5897-42b7-a167-5fb216845518",
    "tags": [],
    "deepnote_app_coordinates": {
     "x": 0,
     "y": 156,
     "w": 12,
     "h": 5
    },
    "deepnote_cell_type": "markdown",
    "deepnote_cell_height": 110.78125
   }
  },
  {
   "cell_type": "code",
   "metadata": {
    "cell_id": "f640ddb3-f2c7-44dd-8acf-1d8605aa99af",
    "tags": [],
    "deepnote_to_be_reexecuted": false,
    "source_hash": "9606bc99",
    "execution_start": 1647320765133,
    "execution_millis": 54,
    "deepnote_app_coordinates": {
     "x": 0,
     "y": 162,
     "w": 12,
     "h": 5
    },
    "deepnote_cell_type": "code",
    "deepnote_cell_height": 99
   },
   "source": "listings = drop_variables(listings, 'bedrooms')\nlistings = drop_variables(listings, 'beds')",
   "execution_count": null,
   "outputs": []
  },
  {
   "cell_type": "markdown",
   "source": "#### Review Scores\n\nListings with null values for review scores suggest that no reviews have been made as of the scraped date. Hence, we will convert all the null values to 0.",
   "metadata": {
    "cell_id": "e1b6d221-f62b-48b8-8900-0a5986404005",
    "tags": [],
    "deepnote_app_coordinates": {
     "x": 0,
     "y": 168,
     "w": 12,
     "h": 5
    },
    "deepnote_cell_type": "markdown",
    "deepnote_cell_height": 110.78125
   }
  },
  {
   "cell_type": "code",
   "metadata": {
    "cell_id": "ece6df42-bc6f-4046-bb74-01917a0b2b15",
    "tags": [],
    "deepnote_to_be_reexecuted": false,
    "source_hash": "2e91b777",
    "execution_start": 1647320765192,
    "execution_millis": 16,
    "deepnote_app_coordinates": {
     "x": 0,
     "y": 174,
     "w": 12,
     "h": 5
    },
    "deepnote_cell_type": "code",
    "deepnote_cell_height": 207
   },
   "source": "# Replace null values with 0 for review scores\nreview_scores_columns = ['review_scores_rating', 'review_scores_accuracy',\n                         'review_scores_cleanliness', 'review_scores_checkin', \n                         'review_scores_communication', 'review_scores_location', \n                         'review_scores_value']\n\nfor x in review_scores_columns: \n    listings[x] = listings[x].replace(np.nan, 0)",
   "execution_count": null,
   "outputs": []
  },
  {
   "cell_type": "markdown",
   "source": "#### Name\n\nThose listings without a name seem to be dirty listings as the listings lack many data. Hence, we will be removing them.",
   "metadata": {
    "cell_id": "3eac65c3-b1d7-4aac-b909-6dc8c38d1532",
    "tags": [],
    "deepnote_app_coordinates": {
     "x": 0,
     "y": 180,
     "w": 12,
     "h": 5
    },
    "deepnote_cell_type": "markdown",
    "deepnote_cell_height": 110.78125
   }
  },
  {
   "cell_type": "code",
   "metadata": {
    "cell_id": "5989580a-88e4-4c55-86e4-573b636449c0",
    "tags": [],
    "deepnote_to_be_reexecuted": false,
    "source_hash": "ebb46eb2",
    "execution_start": 1647320765217,
    "execution_millis": 269,
    "deepnote_app_coordinates": {
     "x": 0,
     "y": 186,
     "w": 12,
     "h": 5
    },
    "deepnote_cell_type": "code",
    "deepnote_cell_height": 445.65625
   },
   "source": "# Inspect 'name' with null values\ncheck_nulls_name = listings[listings['name'].isna()]\ncheck_nulls_name.head()",
   "execution_count": null,
   "outputs": [
    {
     "output_type": "execute_result",
     "execution_count": 20,
     "data": {
      "application/vnd.deepnote.dataframe.v3+json": {
       "column_count": 44,
       "row_count": 5,
       "columns": [
        {
         "name": "id",
         "dtype": "int64",
         "stats": {
          "unique_count": 5,
          "nan_count": 0,
          "min": "4209595",
          "max": "4774658",
          "histogram": [
           {
            "bin_start": 4209595,
            "bin_end": 4266101.3,
            "count": 1
           },
           {
            "bin_start": 4266101.3,
            "bin_end": 4322607.6,
            "count": 0
           },
           {
            "bin_start": 4322607.6,
            "bin_end": 4379113.9,
            "count": 1
           },
           {
            "bin_start": 4379113.9,
            "bin_end": 4435620.2,
            "count": 0
           },
           {
            "bin_start": 4435620.2,
            "bin_end": 4492126.5,
            "count": 0
           },
           {
            "bin_start": 4492126.5,
            "bin_end": 4548632.8,
            "count": 0
           },
           {
            "bin_start": 4548632.8,
            "bin_end": 4605139.1,
            "count": 1
           },
           {
            "bin_start": 4605139.1,
            "bin_end": 4661645.4,
            "count": 0
           },
           {
            "bin_start": 4661645.4,
            "bin_end": 4718151.7,
            "count": 0
           },
           {
            "bin_start": 4718151.7,
            "bin_end": 4774658,
            "count": 2
           }
          ]
         }
        },
        {
         "name": "name",
         "dtype": "object",
         "stats": {
          "unique_count": 0,
          "nan_count": 5,
          "categories": [
           {
            "name": "Missing",
            "count": 5
           }
          ]
         }
        },
        {
         "name": "description",
         "dtype": "object",
         "stats": {
          "unique_count": 3,
          "nan_count": 2,
          "categories": [
           {
            "name": "Beautiful 1BR apartment in the heart of Nolita. Great shopping, restaurants, bars and galleries nearby. New York street life and convenient transportation. Perfect to discover the city.",
            "count": 1
           },
           {
            "name": "2 others",
            "count": 2
           },
           {
            "name": "Missing",
            "count": 2
           }
          ]
         }
        },
        {
         "name": "neighborhood_overview",
         "dtype": "object",
         "stats": {
          "unique_count": 0,
          "nan_count": 5,
          "categories": [
           {
            "name": "Missing",
            "count": 5
           }
          ]
         }
        },
        {
         "name": "host_since",
         "dtype": "object",
         "stats": {
          "unique_count": 5,
          "nan_count": 0,
          "categories": [
           {
            "name": "2014-08-29",
            "count": 1
           },
           {
            "name": "2014-10-18",
            "count": 1
           },
           {
            "name": "3 others",
            "count": 3
           }
          ]
         }
        },
        {
         "name": "host_response_time",
         "dtype": "object",
         "stats": {
          "unique_count": 0,
          "nan_count": 5,
          "categories": [
           {
            "name": "Missing",
            "count": 5
           }
          ]
         }
        },
        {
         "name": "host_response_rate",
         "dtype": "object",
         "stats": {
          "unique_count": 0,
          "nan_count": 5,
          "categories": [
           {
            "name": "Missing",
            "count": 5
           }
          ]
         }
        },
        {
         "name": "host_acceptance_rate",
         "dtype": "object",
         "stats": {
          "unique_count": 0,
          "nan_count": 5,
          "categories": [
           {
            "name": "Missing",
            "count": 5
           }
          ]
         }
        },
        {
         "name": "host_is_superhost",
         "dtype": "object",
         "stats": {
          "unique_count": 1,
          "nan_count": 0,
          "categories": [
           {
            "name": "f",
            "count": 5
           }
          ]
         }
        },
        {
         "name": "host_listings_count",
         "dtype": "float64",
         "stats": {
          "unique_count": 1,
          "nan_count": 0,
          "min": "1.0",
          "max": "1.0",
          "histogram": [
           {
            "bin_start": 0.5,
            "bin_end": 0.6,
            "count": 0
           },
           {
            "bin_start": 0.6,
            "bin_end": 0.7,
            "count": 0
           },
           {
            "bin_start": 0.7,
            "bin_end": 0.8,
            "count": 0
           },
           {
            "bin_start": 0.8,
            "bin_end": 0.9,
            "count": 0
           },
           {
            "bin_start": 0.9,
            "bin_end": 1,
            "count": 0
           },
           {
            "bin_start": 1,
            "bin_end": 1.1,
            "count": 5
           },
           {
            "bin_start": 1.1,
            "bin_end": 1.2000000000000002,
            "count": 0
           },
           {
            "bin_start": 1.2000000000000002,
            "bin_end": 1.3,
            "count": 0
           },
           {
            "bin_start": 1.3,
            "bin_end": 1.4,
            "count": 0
           },
           {
            "bin_start": 1.4,
            "bin_end": 1.5,
            "count": 0
           }
          ]
         }
        },
        {
         "name": "host_has_profile_pic",
         "dtype": "object",
         "stats": {
          "unique_count": 1,
          "nan_count": 0,
          "categories": [
           {
            "name": "t",
            "count": 5
           }
          ]
         }
        },
        {
         "name": "host_identity_verified",
         "dtype": "object",
         "stats": {
          "unique_count": 2,
          "nan_count": 0,
          "categories": [
           {
            "name": "t",
            "count": 4
           },
           {
            "name": "f",
            "count": 1
           }
          ]
         }
        },
        {
         "name": "neighbourhood",
         "dtype": "object",
         "stats": {
          "unique_count": 0,
          "nan_count": 5,
          "categories": [
           {
            "name": "Missing",
            "count": 5
           }
          ]
         }
        },
        {
         "name": "neighbourhood_cleansed",
         "dtype": "object",
         "stats": {
          "unique_count": 5,
          "nan_count": 0,
          "categories": [
           {
            "name": "Greenwich Village",
            "count": 1
           },
           {
            "name": "Nolita",
            "count": 1
           },
           {
            "name": "3 others",
            "count": 3
           }
          ]
         }
        },
        {
         "name": "neighbourhood_group_cleansed",
         "dtype": "object",
         "stats": {
          "unique_count": 2,
          "nan_count": 0,
          "categories": [
           {
            "name": "Manhattan",
            "count": 3
           },
           {
            "name": "Brooklyn",
            "count": 2
           }
          ]
         }
        },
        {
         "name": "latitude",
         "dtype": "float64",
         "stats": {
          "unique_count": 5,
          "nan_count": 0,
          "min": "40.69869",
          "max": "40.85111",
          "histogram": [
           {
            "bin_start": 40.69869,
            "bin_end": 40.713932,
            "count": 2
           },
           {
            "bin_start": 40.713932,
            "bin_end": 40.729174,
            "count": 1
           },
           {
            "bin_start": 40.729174,
            "bin_end": 40.744416,
            "count": 1
           },
           {
            "bin_start": 40.744416,
            "bin_end": 40.759658,
            "count": 0
           },
           {
            "bin_start": 40.759658,
            "bin_end": 40.7749,
            "count": 0
           },
           {
            "bin_start": 40.7749,
            "bin_end": 40.790141999999996,
            "count": 0
           },
           {
            "bin_start": 40.790141999999996,
            "bin_end": 40.805384,
            "count": 0
           },
           {
            "bin_start": 40.805384,
            "bin_end": 40.820626,
            "count": 0
           },
           {
            "bin_start": 40.820626,
            "bin_end": 40.835868,
            "count": 0
           },
           {
            "bin_start": 40.835868,
            "bin_end": 40.85111,
            "count": 1
           }
          ]
         }
        },
        {
         "name": "longitude",
         "dtype": "float64",
         "stats": {
          "unique_count": 5,
          "nan_count": 0,
          "min": "-73.99536",
          "max": "-73.92852",
          "histogram": [
           {
            "bin_start": -73.99536,
            "bin_end": -73.988676,
            "count": 2
           },
           {
            "bin_start": -73.988676,
            "bin_end": -73.981992,
            "count": 0
           },
           {
            "bin_start": -73.981992,
            "bin_end": -73.97530800000001,
            "count": 0
           },
           {
            "bin_start": -73.97530800000001,
            "bin_end": -73.968624,
            "count": 0
           },
           {
            "bin_start": -73.968624,
            "bin_end": -73.96194,
            "count": 0
           },
           {
            "bin_start": -73.96194,
            "bin_end": -73.955256,
            "count": 0
           },
           {
            "bin_start": -73.955256,
            "bin_end": -73.94857200000001,
            "count": 0
           },
           {
            "bin_start": -73.94857200000001,
            "bin_end": -73.941888,
            "count": 1
           },
           {
            "bin_start": -73.941888,
            "bin_end": -73.935204,
            "count": 0
           },
           {
            "bin_start": -73.935204,
            "bin_end": -73.92852,
            "count": 2
           }
          ]
         }
        },
        {
         "name": "property_type",
         "dtype": "object",
         "stats": {
          "unique_count": 2,
          "nan_count": 0,
          "categories": [
           {
            "name": "Private room in rental unit",
            "count": 3
           },
           {
            "name": "Entire rental unit",
            "count": 2
           }
          ]
         }
        },
        {
         "name": "room_type",
         "dtype": "object",
         "stats": {
          "unique_count": 2,
          "nan_count": 0,
          "categories": [
           {
            "name": "Private room",
            "count": 3
           },
           {
            "name": "Entire home/apt",
            "count": 2
           }
          ]
         }
        },
        {
         "name": "accommodates",
         "dtype": "int64",
         "stats": {
          "unique_count": 3,
          "nan_count": 0,
          "min": "1",
          "max": "4",
          "histogram": [
           {
            "bin_start": 1,
            "bin_end": 1.3,
            "count": 3
           },
           {
            "bin_start": 1.3,
            "bin_end": 1.6,
            "count": 0
           },
           {
            "bin_start": 1.6,
            "bin_end": 1.9,
            "count": 0
           },
           {
            "bin_start": 1.9,
            "bin_end": 2.2,
            "count": 1
           },
           {
            "bin_start": 2.2,
            "bin_end": 2.5,
            "count": 0
           },
           {
            "bin_start": 2.5,
            "bin_end": 2.8,
            "count": 0
           },
           {
            "bin_start": 2.8,
            "bin_end": 3.1,
            "count": 0
           },
           {
            "bin_start": 3.1,
            "bin_end": 3.4,
            "count": 0
           },
           {
            "bin_start": 3.4,
            "bin_end": 3.6999999999999997,
            "count": 0
           },
           {
            "bin_start": 3.6999999999999997,
            "bin_end": 4,
            "count": 1
           }
          ]
         }
        },
        {
         "name": "bathrooms_text",
         "dtype": "object",
         "stats": {
          "unique_count": 2,
          "nan_count": 0,
          "categories": [
           {
            "name": "1 bath",
            "count": 3
           },
           {
            "name": "2 baths",
            "count": 2
           }
          ]
         }
        },
        {
         "name": "bedrooms",
         "dtype": "float64",
         "stats": {
          "unique_count": 1,
          "nan_count": 0,
          "min": "1.0",
          "max": "1.0",
          "histogram": [
           {
            "bin_start": 0.5,
            "bin_end": 0.6,
            "count": 0
           },
           {
            "bin_start": 0.6,
            "bin_end": 0.7,
            "count": 0
           },
           {
            "bin_start": 0.7,
            "bin_end": 0.8,
            "count": 0
           },
           {
            "bin_start": 0.8,
            "bin_end": 0.9,
            "count": 0
           },
           {
            "bin_start": 0.9,
            "bin_end": 1,
            "count": 0
           },
           {
            "bin_start": 1,
            "bin_end": 1.1,
            "count": 5
           },
           {
            "bin_start": 1.1,
            "bin_end": 1.2000000000000002,
            "count": 0
           },
           {
            "bin_start": 1.2000000000000002,
            "bin_end": 1.3,
            "count": 0
           },
           {
            "bin_start": 1.3,
            "bin_end": 1.4,
            "count": 0
           },
           {
            "bin_start": 1.4,
            "bin_end": 1.5,
            "count": 0
           }
          ]
         }
        },
        {
         "name": "beds",
         "dtype": "float64",
         "stats": {
          "unique_count": 1,
          "nan_count": 0,
          "min": "1.0",
          "max": "1.0",
          "histogram": [
           {
            "bin_start": 0.5,
            "bin_end": 0.6,
            "count": 0
           },
           {
            "bin_start": 0.6,
            "bin_end": 0.7,
            "count": 0
           },
           {
            "bin_start": 0.7,
            "bin_end": 0.8,
            "count": 0
           },
           {
            "bin_start": 0.8,
            "bin_end": 0.9,
            "count": 0
           },
           {
            "bin_start": 0.9,
            "bin_end": 1,
            "count": 0
           },
           {
            "bin_start": 1,
            "bin_end": 1.1,
            "count": 5
           },
           {
            "bin_start": 1.1,
            "bin_end": 1.2000000000000002,
            "count": 0
           },
           {
            "bin_start": 1.2000000000000002,
            "bin_end": 1.3,
            "count": 0
           },
           {
            "bin_start": 1.3,
            "bin_end": 1.4,
            "count": 0
           },
           {
            "bin_start": 1.4,
            "bin_end": 1.5,
            "count": 0
           }
          ]
         }
        },
        {
         "name": "amenities",
         "dtype": "object",
         "stats": {
          "unique_count": 5,
          "nan_count": 0,
          "categories": [
           {
            "name": "[\"Cable TV\", \"Fire extinguisher\", \"TV with standard cable\", \"Carbon monoxide alarm\", \"Smoke alarm\", \"Elevator\", \"Air conditioning\", \"First aid kit\", \"Essentials\", \"Long term stays allowed\", \"Wifi\", \"Heating\", \"Kitchen\"]",
            "count": 1
           },
           {
            "name": "[\"Carbon monoxide alarm\", \"Smoke alarm\", \"Air conditioning\", \"Essentials\", \"Long term stays allowed\", \"Wifi\", \"Heating\", \"Kitchen\"]",
            "count": 1
           },
           {
            "name": "3 others",
            "count": 3
           }
          ]
         }
        },
        {
         "name": "price",
         "dtype": "object",
         "stats": {
          "unique_count": 5,
          "nan_count": 0,
          "categories": [
           {
            "name": "$225.00",
            "count": 1
           },
           {
            "name": "$215.00",
            "count": 1
           },
           {
            "name": "3 others",
            "count": 3
           }
          ]
         }
        },
        {
         "name": "minimum_nights",
         "dtype": "int64",
         "stats": {
          "unique_count": 1,
          "nan_count": 0,
          "min": "30",
          "max": "30",
          "histogram": [
           {
            "bin_start": 29.5,
            "bin_end": 29.6,
            "count": 0
           },
           {
            "bin_start": 29.6,
            "bin_end": 29.7,
            "count": 0
           },
           {
            "bin_start": 29.7,
            "bin_end": 29.8,
            "count": 0
           },
           {
            "bin_start": 29.8,
            "bin_end": 29.9,
            "count": 0
           },
           {
            "bin_start": 29.9,
            "bin_end": 30,
            "count": 0
           },
           {
            "bin_start": 30,
            "bin_end": 30.1,
            "count": 5
           },
           {
            "bin_start": 30.1,
            "bin_end": 30.2,
            "count": 0
           },
           {
            "bin_start": 30.2,
            "bin_end": 30.3,
            "count": 0
           },
           {
            "bin_start": 30.3,
            "bin_end": 30.4,
            "count": 0
           },
           {
            "bin_start": 30.4,
            "bin_end": 30.5,
            "count": 0
           }
          ]
         }
        },
        {
         "name": "maximum_nights",
         "dtype": "int64",
         "stats": {
          "unique_count": 1,
          "nan_count": 0,
          "min": "1125",
          "max": "1125",
          "histogram": [
           {
            "bin_start": 1124.5,
            "bin_end": 1124.6,
            "count": 0
           },
           {
            "bin_start": 1124.6,
            "bin_end": 1124.7,
            "count": 0
           },
           {
            "bin_start": 1124.7,
            "bin_end": 1124.8,
            "count": 0
           },
           {
            "bin_start": 1124.8,
            "bin_end": 1124.9,
            "count": 0
           },
           {
            "bin_start": 1124.9,
            "bin_end": 1125,
            "count": 0
           },
           {
            "bin_start": 1125,
            "bin_end": 1125.1,
            "count": 5
           },
           {
            "bin_start": 1125.1,
            "bin_end": 1125.2,
            "count": 0
           },
           {
            "bin_start": 1125.2,
            "bin_end": 1125.3,
            "count": 0
           },
           {
            "bin_start": 1125.3,
            "bin_end": 1125.4,
            "count": 0
           },
           {
            "bin_start": 1125.4,
            "bin_end": 1125.5,
            "count": 0
           }
          ]
         }
        },
        {
         "name": "has_availability",
         "dtype": "object",
         "stats": {
          "unique_count": 2,
          "nan_count": 0,
          "categories": [
           {
            "name": "t",
            "count": 4
           },
           {
            "name": "f",
            "count": 1
           }
          ]
         }
        },
        {
         "name": "availability_30",
         "dtype": "int64",
         "stats": {
          "unique_count": 1,
          "nan_count": 0,
          "min": "0",
          "max": "0",
          "histogram": [
           {
            "bin_start": -0.5,
            "bin_end": -0.4,
            "count": 0
           },
           {
            "bin_start": -0.4,
            "bin_end": -0.3,
            "count": 0
           },
           {
            "bin_start": -0.3,
            "bin_end": -0.19999999999999996,
            "count": 0
           },
           {
            "bin_start": -0.19999999999999996,
            "bin_end": -0.09999999999999998,
            "count": 0
           },
           {
            "bin_start": -0.09999999999999998,
            "bin_end": 0,
            "count": 0
           },
           {
            "bin_start": 0,
            "bin_end": 0.10000000000000009,
            "count": 5
           },
           {
            "bin_start": 0.10000000000000009,
            "bin_end": 0.20000000000000007,
            "count": 0
           },
           {
            "bin_start": 0.20000000000000007,
            "bin_end": 0.30000000000000004,
            "count": 0
           },
           {
            "bin_start": 0.30000000000000004,
            "bin_end": 0.4,
            "count": 0
           },
           {
            "bin_start": 0.4,
            "bin_end": 0.5,
            "count": 0
           }
          ]
         }
        },
        {
         "name": "availability_60",
         "dtype": "int64",
         "stats": {
          "unique_count": 1,
          "nan_count": 0,
          "min": "0",
          "max": "0",
          "histogram": [
           {
            "bin_start": -0.5,
            "bin_end": -0.4,
            "count": 0
           },
           {
            "bin_start": -0.4,
            "bin_end": -0.3,
            "count": 0
           },
           {
            "bin_start": -0.3,
            "bin_end": -0.19999999999999996,
            "count": 0
           },
           {
            "bin_start": -0.19999999999999996,
            "bin_end": -0.09999999999999998,
            "count": 0
           },
           {
            "bin_start": -0.09999999999999998,
            "bin_end": 0,
            "count": 0
           },
           {
            "bin_start": 0,
            "bin_end": 0.10000000000000009,
            "count": 5
           },
           {
            "bin_start": 0.10000000000000009,
            "bin_end": 0.20000000000000007,
            "count": 0
           },
           {
            "bin_start": 0.20000000000000007,
            "bin_end": 0.30000000000000004,
            "count": 0
           },
           {
            "bin_start": 0.30000000000000004,
            "bin_end": 0.4,
            "count": 0
           },
           {
            "bin_start": 0.4,
            "bin_end": 0.5,
            "count": 0
           }
          ]
         }
        },
        {
         "name": "availability_90",
         "dtype": "int64",
         "stats": {
          "unique_count": 1,
          "nan_count": 0,
          "min": "0",
          "max": "0",
          "histogram": [
           {
            "bin_start": -0.5,
            "bin_end": -0.4,
            "count": 0
           },
           {
            "bin_start": -0.4,
            "bin_end": -0.3,
            "count": 0
           },
           {
            "bin_start": -0.3,
            "bin_end": -0.19999999999999996,
            "count": 0
           },
           {
            "bin_start": -0.19999999999999996,
            "bin_end": -0.09999999999999998,
            "count": 0
           },
           {
            "bin_start": -0.09999999999999998,
            "bin_end": 0,
            "count": 0
           },
           {
            "bin_start": 0,
            "bin_end": 0.10000000000000009,
            "count": 5
           },
           {
            "bin_start": 0.10000000000000009,
            "bin_end": 0.20000000000000007,
            "count": 0
           },
           {
            "bin_start": 0.20000000000000007,
            "bin_end": 0.30000000000000004,
            "count": 0
           },
           {
            "bin_start": 0.30000000000000004,
            "bin_end": 0.4,
            "count": 0
           },
           {
            "bin_start": 0.4,
            "bin_end": 0.5,
            "count": 0
           }
          ]
         }
        },
        {
         "name": "availability_365",
         "dtype": "int64",
         "stats": {
          "unique_count": 1,
          "nan_count": 0,
          "min": "0",
          "max": "0",
          "histogram": [
           {
            "bin_start": -0.5,
            "bin_end": -0.4,
            "count": 0
           },
           {
            "bin_start": -0.4,
            "bin_end": -0.3,
            "count": 0
           },
           {
            "bin_start": -0.3,
            "bin_end": -0.19999999999999996,
            "count": 0
           },
           {
            "bin_start": -0.19999999999999996,
            "bin_end": -0.09999999999999998,
            "count": 0
           },
           {
            "bin_start": -0.09999999999999998,
            "bin_end": 0,
            "count": 0
           },
           {
            "bin_start": 0,
            "bin_end": 0.10000000000000009,
            "count": 5
           },
           {
            "bin_start": 0.10000000000000009,
            "bin_end": 0.20000000000000007,
            "count": 0
           },
           {
            "bin_start": 0.20000000000000007,
            "bin_end": 0.30000000000000004,
            "count": 0
           },
           {
            "bin_start": 0.30000000000000004,
            "bin_end": 0.4,
            "count": 0
           },
           {
            "bin_start": 0.4,
            "bin_end": 0.5,
            "count": 0
           }
          ]
         }
        },
        {
         "name": "number_of_reviews",
         "dtype": "int64",
         "stats": {
          "unique_count": 3,
          "nan_count": 0,
          "min": "0",
          "max": "5",
          "histogram": [
           {
            "bin_start": 0,
            "bin_end": 0.5,
            "count": 3
           },
           {
            "bin_start": 0.5,
            "bin_end": 1,
            "count": 0
           },
           {
            "bin_start": 1,
            "bin_end": 1.5,
            "count": 1
           },
           {
            "bin_start": 1.5,
            "bin_end": 2,
            "count": 0
           },
           {
            "bin_start": 2,
            "bin_end": 2.5,
            "count": 0
           },
           {
            "bin_start": 2.5,
            "bin_end": 3,
            "count": 0
           },
           {
            "bin_start": 3,
            "bin_end": 3.5,
            "count": 0
           },
           {
            "bin_start": 3.5,
            "bin_end": 4,
            "count": 0
           },
           {
            "bin_start": 4,
            "bin_end": 4.5,
            "count": 0
           },
           {
            "bin_start": 4.5,
            "bin_end": 5,
            "count": 1
           }
          ]
         }
        },
        {
         "name": "number_of_reviews_ltm",
         "dtype": "int64",
         "stats": {
          "unique_count": 1,
          "nan_count": 0,
          "min": "0",
          "max": "0",
          "histogram": [
           {
            "bin_start": -0.5,
            "bin_end": -0.4,
            "count": 0
           },
           {
            "bin_start": -0.4,
            "bin_end": -0.3,
            "count": 0
           },
           {
            "bin_start": -0.3,
            "bin_end": -0.19999999999999996,
            "count": 0
           },
           {
            "bin_start": -0.19999999999999996,
            "bin_end": -0.09999999999999998,
            "count": 0
           },
           {
            "bin_start": -0.09999999999999998,
            "bin_end": 0,
            "count": 0
           },
           {
            "bin_start": 0,
            "bin_end": 0.10000000000000009,
            "count": 5
           },
           {
            "bin_start": 0.10000000000000009,
            "bin_end": 0.20000000000000007,
            "count": 0
           },
           {
            "bin_start": 0.20000000000000007,
            "bin_end": 0.30000000000000004,
            "count": 0
           },
           {
            "bin_start": 0.30000000000000004,
            "bin_end": 0.4,
            "count": 0
           },
           {
            "bin_start": 0.4,
            "bin_end": 0.5,
            "count": 0
           }
          ]
         }
        },
        {
         "name": "number_of_reviews_l30d",
         "dtype": "int64",
         "stats": {
          "unique_count": 1,
          "nan_count": 0,
          "min": "0",
          "max": "0",
          "histogram": [
           {
            "bin_start": -0.5,
            "bin_end": -0.4,
            "count": 0
           },
           {
            "bin_start": -0.4,
            "bin_end": -0.3,
            "count": 0
           },
           {
            "bin_start": -0.3,
            "bin_end": -0.19999999999999996,
            "count": 0
           },
           {
            "bin_start": -0.19999999999999996,
            "bin_end": -0.09999999999999998,
            "count": 0
           },
           {
            "bin_start": -0.09999999999999998,
            "bin_end": 0,
            "count": 0
           },
           {
            "bin_start": 0,
            "bin_end": 0.10000000000000009,
            "count": 5
           },
           {
            "bin_start": 0.10000000000000009,
            "bin_end": 0.20000000000000007,
            "count": 0
           },
           {
            "bin_start": 0.20000000000000007,
            "bin_end": 0.30000000000000004,
            "count": 0
           },
           {
            "bin_start": 0.30000000000000004,
            "bin_end": 0.4,
            "count": 0
           },
           {
            "bin_start": 0.4,
            "bin_end": 0.5,
            "count": 0
           }
          ]
         }
        },
        {
         "name": "review_scores_rating",
         "dtype": "float64",
         "stats": {
          "unique_count": 2,
          "nan_count": 0,
          "min": "0.0",
          "max": "5.0",
          "histogram": [
           {
            "bin_start": 0,
            "bin_end": 0.5,
            "count": 3
           },
           {
            "bin_start": 0.5,
            "bin_end": 1,
            "count": 0
           },
           {
            "bin_start": 1,
            "bin_end": 1.5,
            "count": 0
           },
           {
            "bin_start": 1.5,
            "bin_end": 2,
            "count": 0
           },
           {
            "bin_start": 2,
            "bin_end": 2.5,
            "count": 0
           },
           {
            "bin_start": 2.5,
            "bin_end": 3,
            "count": 0
           },
           {
            "bin_start": 3,
            "bin_end": 3.5,
            "count": 0
           },
           {
            "bin_start": 3.5,
            "bin_end": 4,
            "count": 0
           },
           {
            "bin_start": 4,
            "bin_end": 4.5,
            "count": 0
           },
           {
            "bin_start": 4.5,
            "bin_end": 5,
            "count": 2
           }
          ]
         }
        },
        {
         "name": "review_scores_accuracy",
         "dtype": "float64",
         "stats": {
          "unique_count": 2,
          "nan_count": 0,
          "min": "0.0",
          "max": "5.0",
          "histogram": [
           {
            "bin_start": 0,
            "bin_end": 0.5,
            "count": 3
           },
           {
            "bin_start": 0.5,
            "bin_end": 1,
            "count": 0
           },
           {
            "bin_start": 1,
            "bin_end": 1.5,
            "count": 0
           },
           {
            "bin_start": 1.5,
            "bin_end": 2,
            "count": 0
           },
           {
            "bin_start": 2,
            "bin_end": 2.5,
            "count": 0
           },
           {
            "bin_start": 2.5,
            "bin_end": 3,
            "count": 0
           },
           {
            "bin_start": 3,
            "bin_end": 3.5,
            "count": 0
           },
           {
            "bin_start": 3.5,
            "bin_end": 4,
            "count": 0
           },
           {
            "bin_start": 4,
            "bin_end": 4.5,
            "count": 0
           },
           {
            "bin_start": 4.5,
            "bin_end": 5,
            "count": 2
           }
          ]
         }
        },
        {
         "name": "review_scores_cleanliness",
         "dtype": "float64",
         "stats": {
          "unique_count": 3,
          "nan_count": 0,
          "min": "0.0",
          "max": "5.0",
          "histogram": [
           {
            "bin_start": 0,
            "bin_end": 0.5,
            "count": 3
           },
           {
            "bin_start": 0.5,
            "bin_end": 1,
            "count": 0
           },
           {
            "bin_start": 1,
            "bin_end": 1.5,
            "count": 0
           },
           {
            "bin_start": 1.5,
            "bin_end": 2,
            "count": 0
           },
           {
            "bin_start": 2,
            "bin_end": 2.5,
            "count": 0
           },
           {
            "bin_start": 2.5,
            "bin_end": 3,
            "count": 0
           },
           {
            "bin_start": 3,
            "bin_end": 3.5,
            "count": 0
           },
           {
            "bin_start": 3.5,
            "bin_end": 4,
            "count": 0
           },
           {
            "bin_start": 4,
            "bin_end": 4.5,
            "count": 0
           },
           {
            "bin_start": 4.5,
            "bin_end": 5,
            "count": 2
           }
          ]
         }
        },
        {
         "name": "review_scores_checkin",
         "dtype": "float64",
         "stats": {
          "unique_count": 2,
          "nan_count": 0,
          "min": "0.0",
          "max": "5.0",
          "histogram": [
           {
            "bin_start": 0,
            "bin_end": 0.5,
            "count": 3
           },
           {
            "bin_start": 0.5,
            "bin_end": 1,
            "count": 0
           },
           {
            "bin_start": 1,
            "bin_end": 1.5,
            "count": 0
           },
           {
            "bin_start": 1.5,
            "bin_end": 2,
            "count": 0
           },
           {
            "bin_start": 2,
            "bin_end": 2.5,
            "count": 0
           },
           {
            "bin_start": 2.5,
            "bin_end": 3,
            "count": 0
           },
           {
            "bin_start": 3,
            "bin_end": 3.5,
            "count": 0
           },
           {
            "bin_start": 3.5,
            "bin_end": 4,
            "count": 0
           },
           {
            "bin_start": 4,
            "bin_end": 4.5,
            "count": 0
           },
           {
            "bin_start": 4.5,
            "bin_end": 5,
            "count": 2
           }
          ]
         }
        },
        {
         "name": "review_scores_communication",
         "dtype": "float64",
         "stats": {
          "unique_count": 3,
          "nan_count": 0,
          "min": "0.0",
          "max": "5.0",
          "histogram": [
           {
            "bin_start": 0,
            "bin_end": 0.5,
            "count": 3
           },
           {
            "bin_start": 0.5,
            "bin_end": 1,
            "count": 0
           },
           {
            "bin_start": 1,
            "bin_end": 1.5,
            "count": 0
           },
           {
            "bin_start": 1.5,
            "bin_end": 2,
            "count": 0
           },
           {
            "bin_start": 2,
            "bin_end": 2.5,
            "count": 0
           },
           {
            "bin_start": 2.5,
            "bin_end": 3,
            "count": 0
           },
           {
            "bin_start": 3,
            "bin_end": 3.5,
            "count": 0
           },
           {
            "bin_start": 3.5,
            "bin_end": 4,
            "count": 0
           },
           {
            "bin_start": 4,
            "bin_end": 4.5,
            "count": 0
           },
           {
            "bin_start": 4.5,
            "bin_end": 5,
            "count": 2
           }
          ]
         }
        },
        {
         "name": "review_scores_location",
         "dtype": "float64",
         "stats": {
          "unique_count": 2,
          "nan_count": 0,
          "min": "0.0",
          "max": "5.0",
          "histogram": [
           {
            "bin_start": 0,
            "bin_end": 0.5,
            "count": 3
           },
           {
            "bin_start": 0.5,
            "bin_end": 1,
            "count": 0
           },
           {
            "bin_start": 1,
            "bin_end": 1.5,
            "count": 0
           },
           {
            "bin_start": 1.5,
            "bin_end": 2,
            "count": 0
           },
           {
            "bin_start": 2,
            "bin_end": 2.5,
            "count": 0
           },
           {
            "bin_start": 2.5,
            "bin_end": 3,
            "count": 0
           },
           {
            "bin_start": 3,
            "bin_end": 3.5,
            "count": 0
           },
           {
            "bin_start": 3.5,
            "bin_end": 4,
            "count": 0
           },
           {
            "bin_start": 4,
            "bin_end": 4.5,
            "count": 0
           },
           {
            "bin_start": 4.5,
            "bin_end": 5,
            "count": 2
           }
          ]
         }
        },
        {
         "name": "review_scores_value",
         "dtype": "float64",
         "stats": {
          "unique_count": 3,
          "nan_count": 0,
          "min": "0.0",
          "max": "5.0",
          "histogram": [
           {
            "bin_start": 0,
            "bin_end": 0.5,
            "count": 3
           },
           {
            "bin_start": 0.5,
            "bin_end": 1,
            "count": 0
           },
           {
            "bin_start": 1,
            "bin_end": 1.5,
            "count": 0
           },
           {
            "bin_start": 1.5,
            "bin_end": 2,
            "count": 0
           },
           {
            "bin_start": 2,
            "bin_end": 2.5,
            "count": 0
           },
           {
            "bin_start": 2.5,
            "bin_end": 3,
            "count": 0
           },
           {
            "bin_start": 3,
            "bin_end": 3.5,
            "count": 0
           },
           {
            "bin_start": 3.5,
            "bin_end": 4,
            "count": 0
           },
           {
            "bin_start": 4,
            "bin_end": 4.5,
            "count": 0
           },
           {
            "bin_start": 4.5,
            "bin_end": 5,
            "count": 2
           }
          ]
         }
        },
        {
         "name": "instant_bookable",
         "dtype": "object",
         "stats": {
          "unique_count": 1,
          "nan_count": 0,
          "categories": [
           {
            "name": "f",
            "count": 5
           }
          ]
         }
        },
        {
         "name": "calculated_host_listings_count",
         "dtype": "int64",
         "stats": {
          "unique_count": 1,
          "nan_count": 0,
          "min": "1",
          "max": "1",
          "histogram": [
           {
            "bin_start": 0.5,
            "bin_end": 0.6,
            "count": 0
           },
           {
            "bin_start": 0.6,
            "bin_end": 0.7,
            "count": 0
           },
           {
            "bin_start": 0.7,
            "bin_end": 0.8,
            "count": 0
           },
           {
            "bin_start": 0.8,
            "bin_end": 0.9,
            "count": 0
           },
           {
            "bin_start": 0.9,
            "bin_end": 1,
            "count": 0
           },
           {
            "bin_start": 1,
            "bin_end": 1.1,
            "count": 5
           },
           {
            "bin_start": 1.1,
            "bin_end": 1.2000000000000002,
            "count": 0
           },
           {
            "bin_start": 1.2000000000000002,
            "bin_end": 1.3,
            "count": 0
           },
           {
            "bin_start": 1.3,
            "bin_end": 1.4,
            "count": 0
           },
           {
            "bin_start": 1.4,
            "bin_end": 1.5,
            "count": 0
           }
          ]
         }
        },
        {
         "name": "_deepnote_index_column",
         "dtype": "int64"
        }
       ],
       "rows": [
        {
         "id": 4209595,
         "name": "nan",
         "description": "nan",
         "neighborhood_overview": "nan",
         "host_since": "2014-08-29",
         "host_response_time": "nan",
         "host_response_rate": "nan",
         "host_acceptance_rate": "nan",
         "host_is_superhost": "f",
         "host_listings_count": 1,
         "host_has_profile_pic": "t",
         "host_identity_verified": "t",
         "neighbourhood": "nan",
         "neighbourhood_cleansed": "Greenwich Village",
         "neighbourhood_group_cleansed": "Manhattan",
         "latitude": 40.73323,
         "longitude": -73.99294,
         "property_type": "Entire rental unit",
         "room_type": "Entire home/apt",
         "accommodates": 4,
         "bathrooms_text": "1 bath",
         "bedrooms": 1,
         "beds": 1,
         "amenities": "[\"Cable TV\", \"Fire extinguisher\", \"TV with standard cable\", \"Carbon monoxide alarm\", \"Smoke alarm\",…",
         "price": "$225.00",
         "minimum_nights": 30,
         "maximum_nights": 1125,
         "has_availability": "t",
         "availability_30": 0,
         "availability_60": 0,
         "availability_90": 0,
         "availability_365": 0,
         "number_of_reviews": 1,
         "number_of_reviews_ltm": 0,
         "number_of_reviews_l30d": 0,
         "review_scores_rating": 5,
         "review_scores_accuracy": 5,
         "review_scores_cleanliness": 5,
         "review_scores_checkin": 5,
         "review_scores_communication": 5,
         "review_scores_location": 5,
         "review_scores_value": 5,
         "instant_bookable": "f",
         "calculated_host_listings_count": 1,
         "_deepnote_index_column": 3214
        },
        {
         "id": 4370230,
         "name": "nan",
         "description": "Beautiful 1BR apartment in the heart of Nolita. Great shopping, restaurants, bars and galleries nea…",
         "neighborhood_overview": "nan",
         "host_since": "2014-10-18",
         "host_response_time": "nan",
         "host_response_rate": "nan",
         "host_acceptance_rate": "nan",
         "host_is_superhost": "f",
         "host_listings_count": 1,
         "host_has_profile_pic": "t",
         "host_identity_verified": "t",
         "neighbourhood": "nan",
         "neighbourhood_cleansed": "Nolita",
         "neighbourhood_group_cleansed": "Manhattan",
         "latitude": 40.721,
         "longitude": -73.99536,
         "property_type": "Entire rental unit",
         "room_type": "Entire home/apt",
         "accommodates": 2,
         "bathrooms_text": "1 bath",
         "bedrooms": 1,
         "beds": 1,
         "amenities": "[\"Carbon monoxide alarm\", \"Smoke alarm\", \"Air conditioning\", \"Essentials\", \"Long term stays allowed…",
         "price": "$215.00",
         "minimum_nights": 30,
         "maximum_nights": 1125,
         "has_availability": "t",
         "availability_30": 0,
         "availability_60": 0,
         "availability_90": 0,
         "availability_365": 0,
         "number_of_reviews": 5,
         "number_of_reviews_ltm": 0,
         "number_of_reviews_l30d": 0,
         "review_scores_rating": 5,
         "review_scores_accuracy": 5,
         "review_scores_cleanliness": 4.8,
         "review_scores_checkin": 5,
         "review_scores_communication": 4.8,
         "review_scores_location": 5,
         "review_scores_value": 4.8,
         "instant_bookable": "f",
         "calculated_host_listings_count": 1,
         "_deepnote_index_column": 3315
        },
        {
         "id": 4581788,
         "name": "nan",
         "description": "nan",
         "neighborhood_overview": "nan",
         "host_since": "2014-09-21",
         "host_response_time": "nan",
         "host_response_rate": "nan",
         "host_acceptance_rate": "nan",
         "host_is_superhost": "f",
         "host_listings_count": 1,
         "host_has_profile_pic": "t",
         "host_identity_verified": "t",
         "neighbourhood": "nan",
         "neighbourhood_cleansed": "Williamsburg",
         "neighbourhood_group_cleansed": "Brooklyn",
         "latitude": 40.7137,
         "longitude": -73.94378,
         "property_type": "Private room in rental unit",
         "room_type": "Private room",
         "accommodates": 1,
         "bathrooms_text": "2 baths",
         "bedrooms": 1,
         "beds": 1,
         "amenities": "[\"Heating\", \"Shampoo\", \"Long term stays allowed\", \"Wifi\", \"Kitchen\"]",
         "price": "$150.00",
         "minimum_nights": 30,
         "maximum_nights": 1125,
         "has_availability": "f",
         "availability_30": 0,
         "availability_60": 0,
         "availability_90": 0,
         "availability_365": 0,
         "number_of_reviews": 0,
         "number_of_reviews_ltm": 0,
         "number_of_reviews_l30d": 0,
         "review_scores_rating": 0,
         "review_scores_accuracy": 0,
         "review_scores_cleanliness": 0,
         "review_scores_checkin": 0,
         "review_scores_communication": 0,
         "review_scores_location": 0,
         "review_scores_value": 0,
         "instant_bookable": "f",
         "calculated_host_listings_count": 1,
         "_deepnote_index_column": 3482
        },
        {
         "id": 4756856,
         "name": "nan",
         "description": "Sunny bedroom in Castlebraid, Bushwick! I share the aprt. with 3 other roomates (2 in main room and…",
         "neighborhood_overview": "nan",
         "host_since": "2012-02-29",
         "host_response_time": "nan",
         "host_response_rate": "nan",
         "host_acceptance_rate": "nan",
         "host_is_superhost": "f",
         "host_listings_count": 1,
         "host_has_profile_pic": "t",
         "host_identity_verified": "t",
         "neighbourhood": "nan",
         "neighbourhood_cleansed": "Bushwick",
         "neighbourhood_group_cleansed": "Brooklyn",
         "latitude": 40.69869,
         "longitude": -73.92852,
         "property_type": "Private room in rental unit",
         "room_type": "Private room",
         "accommodates": 1,
         "bathrooms_text": "2 baths",
         "bedrooms": 1,
         "beds": 1,
         "amenities": "[\"Gym\", \"Heating\", \"Elevator\", \"Air conditioning\", \"Washer\", \"Long term stays allowed\", \"Wifi\", \"Ki…",
         "price": "$70.00",
         "minimum_nights": 30,
         "maximum_nights": 1125,
         "has_availability": "t",
         "availability_30": 0,
         "availability_60": 0,
         "availability_90": 0,
         "availability_365": 0,
         "number_of_reviews": 0,
         "number_of_reviews_ltm": 0,
         "number_of_reviews_l30d": 0,
         "review_scores_rating": 0,
         "review_scores_accuracy": 0,
         "review_scores_cleanliness": 0,
         "review_scores_checkin": 0,
         "review_scores_communication": 0,
         "review_scores_location": 0,
         "review_scores_value": 0,
         "instant_bookable": "f",
         "calculated_host_listings_count": 1,
         "_deepnote_index_column": 3658
        },
        {
         "id": 4774658,
         "name": "nan",
         "description": "Room available (sublet) Jan.<br />Price very negotiable.<br />My apartment has 2 bedrooms, a kitche…",
         "neighborhood_overview": "nan",
         "host_since": "2014-12-08",
         "host_response_time": "nan",
         "host_response_rate": "nan",
         "host_acceptance_rate": "nan",
         "host_is_superhost": "f",
         "host_listings_count": 1,
         "host_has_profile_pic": "t",
         "host_identity_verified": "f",
         "neighbourhood": "nan",
         "neighbourhood_cleansed": "Washington Heights",
         "neighbourhood_group_cleansed": "Manhattan",
         "latitude": 40.85111,
         "longitude": -73.93009,
         "property_type": "Private room in rental unit",
         "room_type": "Private room",
         "accommodates": 1,
         "bathrooms_text": "1 bath",
         "bedrooms": 1,
         "beds": 1,
         "amenities": "[\"Carbon monoxide alarm\", \"Smoke alarm\", \"Air conditioning\", \"Essentials\", \"Washer\", \"Dryer\", \"Long…",
         "price": "$40.00",
         "minimum_nights": 30,
         "maximum_nights": 1125,
         "has_availability": "t",
         "availability_30": 0,
         "availability_60": 0,
         "availability_90": 0,
         "availability_365": 0,
         "number_of_reviews": 0,
         "number_of_reviews_ltm": 0,
         "number_of_reviews_l30d": 0,
         "review_scores_rating": 0,
         "review_scores_accuracy": 0,
         "review_scores_cleanliness": 0,
         "review_scores_checkin": 0,
         "review_scores_communication": 0,
         "review_scores_location": 0,
         "review_scores_value": 0,
         "instant_bookable": "f",
         "calculated_host_listings_count": 1,
         "_deepnote_index_column": 3678
        }
       ]
      },
      "text/plain": "           id name                                        description  \\\n3214  4209595  NaN                                                NaN   \n3315  4370230  NaN  Beautiful 1BR apartment in the heart of Nolita...   \n3482  4581788  NaN                                                NaN   \n3658  4756856  NaN  Sunny bedroom in Castlebraid, Bushwick! I shar...   \n3678  4774658  NaN  Room available (sublet) Jan.<br />Price very n...   \n\n     neighborhood_overview  host_since host_response_time host_response_rate  \\\n3214                   NaN  2014-08-29                NaN                NaN   \n3315                   NaN  2014-10-18                NaN                NaN   \n3482                   NaN  2014-09-21                NaN                NaN   \n3658                   NaN  2012-02-29                NaN                NaN   \n3678                   NaN  2014-12-08                NaN                NaN   \n\n     host_acceptance_rate host_is_superhost  host_listings_count  ...  \\\n3214                  NaN                 f                  1.0  ...   \n3315                  NaN                 f                  1.0  ...   \n3482                  NaN                 f                  1.0  ...   \n3658                  NaN                 f                  1.0  ...   \n3678                  NaN                 f                  1.0  ...   \n\n     number_of_reviews_l30d review_scores_rating review_scores_accuracy  \\\n3214                      0                  5.0                    5.0   \n3315                      0                  5.0                    5.0   \n3482                      0                  0.0                    0.0   \n3658                      0                  0.0                    0.0   \n3678                      0                  0.0                    0.0   \n\n     review_scores_cleanliness review_scores_checkin  \\\n3214                       5.0                   5.0   \n3315                       4.8                   5.0   \n3482                       0.0                   0.0   \n3658                       0.0                   0.0   \n3678                       0.0                   0.0   \n\n      review_scores_communication  review_scores_location review_scores_value  \\\n3214                          5.0                     5.0                 5.0   \n3315                          4.8                     5.0                 4.8   \n3482                          0.0                     0.0                 0.0   \n3658                          0.0                     0.0                 0.0   \n3678                          0.0                     0.0                 0.0   \n\n     instant_bookable  calculated_host_listings_count  \n3214                f                               1  \n3315                f                               1  \n3482                f                               1  \n3658                f                               1  \n3678                f                               1  \n\n[5 rows x 44 columns]",
      "text/html": "<div>\n<style scoped>\n    .dataframe tbody tr th:only-of-type {\n        vertical-align: middle;\n    }\n\n    .dataframe tbody tr th {\n        vertical-align: top;\n    }\n\n    .dataframe thead th {\n        text-align: right;\n    }\n</style>\n<table border=\"1\" class=\"dataframe\">\n  <thead>\n    <tr style=\"text-align: right;\">\n      <th></th>\n      <th>id</th>\n      <th>name</th>\n      <th>description</th>\n      <th>neighborhood_overview</th>\n      <th>host_since</th>\n      <th>host_response_time</th>\n      <th>host_response_rate</th>\n      <th>host_acceptance_rate</th>\n      <th>host_is_superhost</th>\n      <th>host_listings_count</th>\n      <th>...</th>\n      <th>number_of_reviews_l30d</th>\n      <th>review_scores_rating</th>\n      <th>review_scores_accuracy</th>\n      <th>review_scores_cleanliness</th>\n      <th>review_scores_checkin</th>\n      <th>review_scores_communication</th>\n      <th>review_scores_location</th>\n      <th>review_scores_value</th>\n      <th>instant_bookable</th>\n      <th>calculated_host_listings_count</th>\n    </tr>\n  </thead>\n  <tbody>\n    <tr>\n      <th>3214</th>\n      <td>4209595</td>\n      <td>NaN</td>\n      <td>NaN</td>\n      <td>NaN</td>\n      <td>2014-08-29</td>\n      <td>NaN</td>\n      <td>NaN</td>\n      <td>NaN</td>\n      <td>f</td>\n      <td>1.0</td>\n      <td>...</td>\n      <td>0</td>\n      <td>5.0</td>\n      <td>5.0</td>\n      <td>5.0</td>\n      <td>5.0</td>\n      <td>5.0</td>\n      <td>5.0</td>\n      <td>5.0</td>\n      <td>f</td>\n      <td>1</td>\n    </tr>\n    <tr>\n      <th>3315</th>\n      <td>4370230</td>\n      <td>NaN</td>\n      <td>Beautiful 1BR apartment in the heart of Nolita...</td>\n      <td>NaN</td>\n      <td>2014-10-18</td>\n      <td>NaN</td>\n      <td>NaN</td>\n      <td>NaN</td>\n      <td>f</td>\n      <td>1.0</td>\n      <td>...</td>\n      <td>0</td>\n      <td>5.0</td>\n      <td>5.0</td>\n      <td>4.8</td>\n      <td>5.0</td>\n      <td>4.8</td>\n      <td>5.0</td>\n      <td>4.8</td>\n      <td>f</td>\n      <td>1</td>\n    </tr>\n    <tr>\n      <th>3482</th>\n      <td>4581788</td>\n      <td>NaN</td>\n      <td>NaN</td>\n      <td>NaN</td>\n      <td>2014-09-21</td>\n      <td>NaN</td>\n      <td>NaN</td>\n      <td>NaN</td>\n      <td>f</td>\n      <td>1.0</td>\n      <td>...</td>\n      <td>0</td>\n      <td>0.0</td>\n      <td>0.0</td>\n      <td>0.0</td>\n      <td>0.0</td>\n      <td>0.0</td>\n      <td>0.0</td>\n      <td>0.0</td>\n      <td>f</td>\n      <td>1</td>\n    </tr>\n    <tr>\n      <th>3658</th>\n      <td>4756856</td>\n      <td>NaN</td>\n      <td>Sunny bedroom in Castlebraid, Bushwick! I shar...</td>\n      <td>NaN</td>\n      <td>2012-02-29</td>\n      <td>NaN</td>\n      <td>NaN</td>\n      <td>NaN</td>\n      <td>f</td>\n      <td>1.0</td>\n      <td>...</td>\n      <td>0</td>\n      <td>0.0</td>\n      <td>0.0</td>\n      <td>0.0</td>\n      <td>0.0</td>\n      <td>0.0</td>\n      <td>0.0</td>\n      <td>0.0</td>\n      <td>f</td>\n      <td>1</td>\n    </tr>\n    <tr>\n      <th>3678</th>\n      <td>4774658</td>\n      <td>NaN</td>\n      <td>Room available (sublet) Jan.&lt;br /&gt;Price very n...</td>\n      <td>NaN</td>\n      <td>2014-12-08</td>\n      <td>NaN</td>\n      <td>NaN</td>\n      <td>NaN</td>\n      <td>f</td>\n      <td>1.0</td>\n      <td>...</td>\n      <td>0</td>\n      <td>0.0</td>\n      <td>0.0</td>\n      <td>0.0</td>\n      <td>0.0</td>\n      <td>0.0</td>\n      <td>0.0</td>\n      <td>0.0</td>\n      <td>f</td>\n      <td>1</td>\n    </tr>\n  </tbody>\n</table>\n<p>5 rows × 44 columns</p>\n</div>"
     },
     "metadata": {}
    }
   ]
  },
  {
   "cell_type": "code",
   "metadata": {
    "cell_id": "8cf883d3-c781-4510-af56-6e7143519763",
    "tags": [],
    "deepnote_to_be_reexecuted": false,
    "source_hash": "248cbbcb",
    "execution_start": 1647320765498,
    "execution_millis": 53,
    "deepnote_app_coordinates": {
     "x": 0,
     "y": 192,
     "w": 12,
     "h": 5
    },
    "deepnote_cell_type": "code",
    "deepnote_cell_height": 81
   },
   "source": "listings = drop_variables(listings, 'name')",
   "execution_count": null,
   "outputs": []
  },
  {
   "cell_type": "markdown",
   "source": "### Convert Data Types",
   "metadata": {
    "cell_id": "2ca89c1f-d627-46be-8706-74450663dc2e",
    "tags": [],
    "deepnote_app_coordinates": {
     "x": 0,
     "y": 198,
     "w": 12,
     "h": 5
    },
    "deepnote_cell_type": "markdown",
    "deepnote_cell_height": 62
   }
  },
  {
   "cell_type": "code",
   "metadata": {
    "cell_id": "89eef98f-a792-47fe-b9df-9bfc28ede730",
    "tags": [],
    "deepnote_to_be_reexecuted": false,
    "source_hash": "79c79eec",
    "execution_start": 1647320765556,
    "execution_millis": 39,
    "deepnote_app_coordinates": {
     "x": 0,
     "y": 204,
     "w": 12,
     "h": 5
    },
    "deepnote_cell_type": "code",
    "deepnote_cell_height": 117
   },
   "source": "def remove_units(df,col):\n    df[col] = df[col].replace({'\\$': '', ',': '', '%':''}, regex=True)\n    return df",
   "execution_count": null,
   "outputs": []
  },
  {
   "cell_type": "code",
   "metadata": {
    "cell_id": "1d96f539-a5b4-4e36-9aee-801f1194f410",
    "tags": [],
    "deepnote_to_be_reexecuted": false,
    "source_hash": "1a8e9f28",
    "execution_start": 1647320765600,
    "execution_millis": 825,
    "deepnote_app_coordinates": {
     "x": 0,
     "y": 210,
     "w": 12,
     "h": 5
    },
    "deepnote_cell_type": "code",
    "deepnote_cell_height": 117
   },
   "source": "listings = remove_units(listings, 'host_response_rate')\nlistings = remove_units(listings, 'host_acceptance_rate')\nlistings = remove_units(listings, 'price')",
   "execution_count": null,
   "outputs": []
  },
  {
   "cell_type": "code",
   "metadata": {
    "cell_id": "88f518c6-4962-422b-a715-62f0ac2eab60",
    "tags": [],
    "deepnote_to_be_reexecuted": false,
    "source_hash": "7a9b6514",
    "execution_start": 1647320766446,
    "execution_millis": 44,
    "deepnote_app_coordinates": {
     "x": 0,
     "y": 216,
     "w": 12,
     "h": 5
    },
    "deepnote_cell_type": "code",
    "deepnote_cell_height": 99
   },
   "source": "# Convert to datetime \nlistings['host_since'] = pd.to_datetime(listings['host_since'])",
   "execution_count": null,
   "outputs": []
  },
  {
   "cell_type": "code",
   "metadata": {
    "cell_id": "4b17c315-7c8e-437f-abdb-8eb18414ce6b",
    "tags": [],
    "deepnote_to_be_reexecuted": false,
    "source_hash": "2246c4dd",
    "execution_start": 1647320766494,
    "execution_millis": 34,
    "deepnote_app_coordinates": {
     "x": 0,
     "y": 222,
     "w": 12,
     "h": 5
    },
    "deepnote_cell_type": "code",
    "deepnote_cell_height": 189
   },
   "source": "# Convert to Int\nnumeric_int_variables = ['maximum_nights', 'minimum_nights', 'bedrooms', 'beds', \n                         'number_of_reviews', 'number_of_reviews_ltm', \n                         'number_of_reviews_l30d', 'calculated_host_listings_count']\n\nfor i_int in numeric_int_variables:\n    listings[i_int] = listings[i_int].astype(int)",
   "execution_count": null,
   "outputs": []
  },
  {
   "cell_type": "code",
   "metadata": {
    "cell_id": "9ce11c25-7fd6-4265-8ba1-18aa29ee7945",
    "tags": [],
    "deepnote_to_be_reexecuted": false,
    "source_hash": "ab5cc9b9",
    "execution_start": 1647320766550,
    "execution_millis": 37,
    "deepnote_app_coordinates": {
     "x": 0,
     "y": 228,
     "w": 12,
     "h": 5
    },
    "deepnote_cell_type": "code",
    "deepnote_cell_height": 225
   },
   "source": "# Convert to Float\nnumeric_float_variables=['price', 'host_response_rate', 'host_acceptance_rate', \n                         'review_scores_rating', 'review_scores_accuracy', \n                         'review_scores_cleanliness', 'review_scores_checkin', \n                         'review_scores_communication',\n                         'review_scores_location', 'review_scores_value']\n\nfor i_float in numeric_float_variables:\n    listings[i_float] = listings[i_float].astype(float)",
   "execution_count": null,
   "outputs": []
  },
  {
   "cell_type": "code",
   "metadata": {
    "cell_id": "34dc0796-edc8-4950-8b67-380854a2438e",
    "tags": [],
    "deepnote_to_be_reexecuted": false,
    "source_hash": "58a34fcb",
    "execution_start": 1647320766591,
    "execution_millis": 1290,
    "deepnote_app_coordinates": {
     "x": 0,
     "y": 234,
     "w": 12,
     "h": 5
    },
    "deepnote_cell_type": "code",
    "deepnote_cell_height": 333
   },
   "source": "# Convert to String\nlistings['amenities_str'] = listings['amenities'].str[1:-1]\n\n# Remove any html tags\n# Fill 'nan' with 'No Data'\nstring_variables = ['name', 'description', 'neighborhood_overview', \n                    'host_response_time', 'neighbourhood', \n                    'neighbourhood_cleansed', 'neighbourhood_group_cleansed', \n                    'property_type', 'room_type', 'bathrooms_text', \n                    'amenities_str']\n\nfor i in string_variables:\n    listings[i] = listings[i].astype(str)\n    listings[i] = listings[i].apply(lambda x: 'No Data' if x == 'nan' else x)\n    listings = remove_tags(listings, i)",
   "execution_count": null,
   "outputs": []
  },
  {
   "cell_type": "code",
   "metadata": {
    "cell_id": "03f5e5d8-90f4-4577-8497-58d6b8eeda61",
    "tags": [],
    "deepnote_to_be_reexecuted": false,
    "source_hash": "ae5c5269",
    "execution_start": 1647320767920,
    "execution_millis": 5763,
    "deepnote_app_coordinates": {
     "x": 0,
     "y": 240,
     "w": 12,
     "h": 5
    },
    "deepnote_cell_type": "code",
    "deepnote_cell_height": 99
   },
   "source": "# Cleaning completed\nlistings.to_csv('cleaned_listings.csv', index=False)",
   "execution_count": null,
   "outputs": []
  },
  {
   "cell_type": "code",
   "metadata": {
    "cell_id": "54822bf9-b08b-4fa8-90a3-45ee92d6117d",
    "tags": [],
    "deepnote_app_coordinates": {
     "x": 0,
     "y": 0,
     "w": 12,
     "h": 5
    },
    "deepnote_to_be_reexecuted": false,
    "source_hash": "f2b7b283",
    "execution_start": 1647320773696,
    "execution_millis": 781,
    "deepnote_cell_type": "code",
    "deepnote_cell_height": 614.65625
   },
   "source": "listings",
   "execution_count": null,
   "outputs": [
    {
     "output_type": "execute_result",
     "execution_count": 29,
     "data": {
      "application/vnd.deepnote.dataframe.v3+json": {
       "column_count": 45,
       "row_count": 33150,
       "columns": [
        {
         "name": "id",
         "dtype": "int64",
         "stats": {
          "unique_count": 33150,
          "nan_count": 0,
          "min": "3831",
          "max": "54161645",
          "histogram": [
           {
            "bin_start": 3831,
            "bin_end": 5419612.4,
            "count": 3719
           },
           {
            "bin_start": 5419612.4,
            "bin_end": 10835393.8,
            "count": 3457
           },
           {
            "bin_start": 10835393.8,
            "bin_end": 16251175.200000001,
            "count": 2645
           },
           {
            "bin_start": 16251175.200000001,
            "bin_end": 21666956.6,
            "count": 2735
           },
           {
            "bin_start": 21666956.6,
            "bin_end": 27082738,
            "count": 2384
           },
           {
            "bin_start": 27082738,
            "bin_end": 32498519.400000002,
            "count": 2415
           },
           {
            "bin_start": 32498519.400000002,
            "bin_end": 37914300.800000004,
            "count": 2364
           },
           {
            "bin_start": 37914300.800000004,
            "bin_end": 43330082.2,
            "count": 3085
           },
           {
            "bin_start": 43330082.2,
            "bin_end": 48745863.6,
            "count": 3414
           },
           {
            "bin_start": 48745863.6,
            "bin_end": 54161645,
            "count": 6932
           }
          ]
         }
        },
        {
         "name": "name",
         "dtype": "object",
         "stats": {
          "unique_count": 32051,
          "nan_count": 0,
          "categories": [
           {
            "name": "Water View King Bed Hotel Room",
            "count": 30
           },
           {
            "name": "Cozy room@Queens! Same area W/Target,Costco, IKEA",
            "count": 29
           },
           {
            "name": "32049 others",
            "count": 33091
           }
          ]
         }
        },
        {
         "name": "description",
         "dtype": "object",
         "stats": {
          "unique_count": 29859,
          "nan_count": 0,
          "categories": [
           {
            "name": "No Data",
            "count": 862
           },
           {
            "name": "Welcome to UNTITLED (Adj.) at 3 Freeman Alley!  Charming Studio's located in the heart of Lower East Side of Manhattan.  Building entrance located off a historic alley way that has many street art from street artists all around the world.  This location is the best place to relax and unwind after exploring and venturing out in the city.  @freemanalley3untitled   The space  Cozy studio that has been newly renovated and smartly furnished including a queen size bed.  Studio is equipped with all necessary amenities needed, shampoo/soap, conditioner, towels, linens, basic tableware, coffee, AC, heat, Bluetooth speaker, Smart TV for Android devices.  * Additional housekeeping service and for replenishing is available for scheduling and for a fee.  * We are doing light renovations throughout the building (Expect minor to no noise resulting from these renovations), please excuse our appearance. <br /",
            "count": 58
           },
           {
            "name": "29857 others",
            "count": 32230
           }
          ]
         }
        },
        {
         "name": "neighborhood_overview",
         "dtype": "object"
        },
        {
         "name": "host_since",
         "dtype": "datetime64[ns]"
        },
        {
         "name": "host_response_time",
         "dtype": "object"
        },
        {
         "name": "host_response_rate",
         "dtype": "float64"
        },
        {
         "name": "host_acceptance_rate",
         "dtype": "float64"
        },
        {
         "name": "host_is_superhost",
         "dtype": "object"
        },
        {
         "name": "host_listings_count",
         "dtype": "float64"
        },
        {
         "name": "host_has_profile_pic",
         "dtype": "object"
        },
        {
         "name": "host_identity_verified",
         "dtype": "object"
        },
        {
         "name": "neighbourhood",
         "dtype": "object"
        },
        {
         "name": "neighbourhood_cleansed",
         "dtype": "object"
        },
        {
         "name": "neighbourhood_group_cleansed",
         "dtype": "object"
        },
        {
         "name": "latitude",
         "dtype": "float64"
        },
        {
         "name": "longitude",
         "dtype": "float64"
        },
        {
         "name": "property_type",
         "dtype": "object"
        },
        {
         "name": "room_type",
         "dtype": "object"
        },
        {
         "name": "accommodates",
         "dtype": "int64"
        },
        {
         "name": "bathrooms_text",
         "dtype": "object"
        },
        {
         "name": "bedrooms",
         "dtype": "int64"
        },
        {
         "name": "beds",
         "dtype": "int64"
        },
        {
         "name": "amenities",
         "dtype": "object"
        },
        {
         "name": "price",
         "dtype": "float64"
        },
        {
         "name": "minimum_nights",
         "dtype": "int64"
        },
        {
         "name": "maximum_nights",
         "dtype": "int64"
        },
        {
         "name": "has_availability",
         "dtype": "object"
        },
        {
         "name": "availability_30",
         "dtype": "int64"
        },
        {
         "name": "availability_60",
         "dtype": "int64"
        },
        {
         "name": "availability_90",
         "dtype": "int64"
        },
        {
         "name": "availability_365",
         "dtype": "int64"
        },
        {
         "name": "number_of_reviews",
         "dtype": "int64"
        },
        {
         "name": "number_of_reviews_ltm",
         "dtype": "int64"
        },
        {
         "name": "number_of_reviews_l30d",
         "dtype": "int64"
        },
        {
         "name": "review_scores_rating",
         "dtype": "float64"
        },
        {
         "name": "review_scores_accuracy",
         "dtype": "float64"
        },
        {
         "name": "review_scores_cleanliness",
         "dtype": "float64"
        },
        {
         "name": "review_scores_checkin",
         "dtype": "float64"
        },
        {
         "name": "review_scores_communication",
         "dtype": "float64"
        },
        {
         "name": "review_scores_location",
         "dtype": "float64"
        },
        {
         "name": "review_scores_value",
         "dtype": "float64"
        },
        {
         "name": "instant_bookable",
         "dtype": "object"
        },
        {
         "name": "calculated_host_listings_count",
         "dtype": "int64"
        },
        {
         "name": "amenities_str",
         "dtype": "object"
        },
        {
         "name": "_deepnote_index_column",
         "dtype": "int64"
        }
       ],
       "rows": [
        {
         "id": 3831,
         "name": "Whole flr w/private bdrm, bath & kitchen(pls read)",
         "description": "Enjoy 500 s.f. top floor in 1899 brownstone, w/ wood & ceramic flooring throughout, roomy bdrm, & u…",
         "neighborhood_overview": "Just the right mix of urban center and local neighborhood; close to all but enough quiet for a calm…",
         "host_since": "2008-12-07T00:00:00.000000",
         "host_response_time": "a few days or more",
         "host_response_rate": 0,
         "host_acceptance_rate": 64,
         "host_is_superhost": "f",
         "host_listings_count": 1,
         "host_has_profile_pic": "t",
         "host_identity_verified": "t",
         "neighbourhood": "Brooklyn, New York, United States",
         "neighbourhood_cleansed": "Bedford-Stuyvesant",
         "neighbourhood_group_cleansed": "Brooklyn",
         "latitude": 40.68494,
         "longitude": -73.95765,
         "property_type": "Entire guest suite",
         "room_type": "Entire home/apt",
         "accommodates": 3,
         "bathrooms_text": "1 bath",
         "bedrooms": 1,
         "beds": 3,
         "amenities": "[\"Hot water\", \"Iron\", \"Children\\u2019s books and toys\", \"Refrigerator\", \"Kitchen\", \"Cable TV\", \"Fir…",
         "price": 73,
         "minimum_nights": 1,
         "maximum_nights": 730,
         "has_availability": "t",
         "availability_30": 3,
         "availability_60": 15,
         "availability_90": 26,
         "availability_365": 214,
         "number_of_reviews": 409,
         "number_of_reviews_ltm": 26,
         "number_of_reviews_l30d": 0,
         "review_scores_rating": 4.45,
         "review_scores_accuracy": 4.58,
         "review_scores_cleanliness": 4.49,
         "review_scores_checkin": 4.78,
         "review_scores_communication": 4.8,
         "review_scores_location": 4.71,
         "review_scores_value": 4.64,
         "instant_bookable": "f",
         "calculated_host_listings_count": 1,
         "amenities_str": "\"Hot water\", \"Iron\", \"Children\\u2019s books and toys\", \"Refrigerator\", \"Kitchen\", \"Cable TV\", \"Fire…",
         "_deepnote_index_column": 1
        },
        {
         "id": 5121,
         "name": "BlissArtsSpace!",
         "description": " The space  HELLO EVERYONE AND THANKS FOR VISITING BLISS ART SPACE!   Thank you all for your suppor…",
         "neighborhood_overview": "No Data",
         "host_since": "2009-02-03T00:00:00.000000",
         "host_response_time": "within an hour",
         "host_response_rate": 100,
         "host_acceptance_rate": 100,
         "host_is_superhost": "f",
         "host_listings_count": 1,
         "host_has_profile_pic": "t",
         "host_identity_verified": "t",
         "neighbourhood": "No Data",
         "neighbourhood_cleansed": "Bedford-Stuyvesant",
         "neighbourhood_group_cleansed": "Brooklyn",
         "latitude": 40.68535,
         "longitude": -73.95512,
         "property_type": "Private room in rental unit",
         "room_type": "Private room",
         "accommodates": 2,
         "bathrooms_text": "No Data",
         "bedrooms": 1,
         "beds": 1,
         "amenities": "[\"Heating\", \"Air conditioning\", \"Long term stays allowed\", \"Wifi\", \"Kitchen\"]",
         "price": 60,
         "minimum_nights": 30,
         "maximum_nights": 730,
         "has_availability": "t",
         "availability_30": 30,
         "availability_60": 60,
         "availability_90": 90,
         "availability_365": 365,
         "number_of_reviews": 50,
         "number_of_reviews_ltm": 0,
         "number_of_reviews_l30d": 0,
         "review_scores_rating": 4.52,
         "review_scores_accuracy": 4.22,
         "review_scores_cleanliness": 4.09,
         "review_scores_checkin": 4.91,
         "review_scores_communication": 4.91,
         "review_scores_location": 4.47,
         "review_scores_value": 4.52,
         "instant_bookable": "f",
         "calculated_host_listings_count": 2,
         "amenities_str": "\"Heating\", \"Air conditioning\", \"Long term stays allowed\", \"Wifi\", \"Kitchen\"",
         "_deepnote_index_column": 2
        },
        {
         "id": 5136,
         "name": "Spacious Brooklyn Duplex, Patio + Garden",
         "description": "We welcome you to stay in our lovely 2 br duplex in South Slope, Brooklyn.  Our home is a truly spa…",
         "neighborhood_overview": "No Data",
         "host_since": "2009-02-03T00:00:00.000000",
         "host_response_time": "No Data",
         "host_response_rate": "nan",
         "host_acceptance_rate": 25,
         "host_is_superhost": "f",
         "host_listings_count": 1,
         "host_has_profile_pic": "t",
         "host_identity_verified": "t",
         "neighbourhood": "No Data",
         "neighbourhood_cleansed": "Sunset Park",
         "neighbourhood_group_cleansed": "Brooklyn",
         "latitude": 40.66265,
         "longitude": -73.99454,
         "property_type": "Entire rental unit",
         "room_type": "Entire home/apt",
         "accommodates": 4,
         "bathrooms_text": "1.5 baths",
         "bedrooms": 2,
         "beds": 2,
         "amenities": "[\"Cable TV\", \"TV with standard cable\", \"Outdoor furniture\", \"Carbon monoxide alarm\", \"Smoke alarm\",…",
         "price": 275,
         "minimum_nights": 5,
         "maximum_nights": 1125,
         "has_availability": "t",
         "availability_30": 0,
         "availability_60": 9,
         "availability_90": 9,
         "availability_365": 152,
         "number_of_reviews": 2,
         "number_of_reviews_ltm": 1,
         "number_of_reviews_l30d": 0,
         "review_scores_rating": 5,
         "review_scores_accuracy": 5,
         "review_scores_cleanliness": 5,
         "review_scores_checkin": 5,
         "review_scores_communication": 5,
         "review_scores_location": 4.5,
         "review_scores_value": 5,
         "instant_bookable": "f",
         "calculated_host_listings_count": 1,
         "amenities_str": "\"Cable TV\", \"TV with standard cable\", \"Outdoor furniture\", \"Carbon monoxide alarm\", \"Smoke alarm\", …",
         "_deepnote_index_column": 3
        },
        {
         "id": 5178,
         "name": "Large Furnished Room Near B'way　",
         "description": "Please don’t expect the luxury here just a basic room in the center of Manhattan.   The space  You …",
         "neighborhood_overview": "Theater district, many restaurants around here.",
         "host_since": "2009-03-03T00:00:00.000000",
         "host_response_time": "within a few hours",
         "host_response_rate": 100,
         "host_acceptance_rate": 100,
         "host_is_superhost": "f",
         "host_listings_count": 1,
         "host_has_profile_pic": "t",
         "host_identity_verified": "f",
         "neighbourhood": "New York, United States",
         "neighbourhood_cleansed": "Midtown",
         "neighbourhood_group_cleansed": "Manhattan",
         "latitude": 40.76457,
         "longitude": -73.98317,
         "property_type": "Private room in rental unit",
         "room_type": "Private room",
         "accommodates": 2,
         "bathrooms_text": "1 bath",
         "bedrooms": 1,
         "beds": 1,
         "amenities": "[\"Hot water\", \"Body soap\", \"Iron\", \"Lock on bedroom door\", \"Refrigerator\", \"Conditioner\", \"Laundrom…",
         "price": 68,
         "minimum_nights": 2,
         "maximum_nights": 14,
         "has_availability": "t",
         "availability_30": 9,
         "availability_60": 24,
         "availability_90": 34,
         "availability_365": 198,
         "number_of_reviews": 514,
         "number_of_reviews_ltm": 40,
         "number_of_reviews_l30d": 4,
         "review_scores_rating": 4.22,
         "review_scores_accuracy": 4.21,
         "review_scores_cleanliness": 3.73,
         "review_scores_checkin": 4.66,
         "review_scores_communication": 4.42,
         "review_scores_location": 4.87,
         "review_scores_value": 4.36,
         "instant_bookable": "f",
         "calculated_host_listings_count": 1,
         "amenities_str": "\"Hot water\", \"Body soap\", \"Iron\", \"Lock on bedroom door\", \"Refrigerator\", \"Conditioner\", \"Laundroma…",
         "_deepnote_index_column": 4
        },
        {
         "id": 5203,
         "name": "Cozy Clean Guest Room - Family Apt",
         "description": "Our best guests are seeking a safe, clean, spare room in a family apartment.  They are comfortable …",
         "neighborhood_overview": "Our neighborhood is full of restaurants and cafes.  There is plenty to do.",
         "host_since": "2009-02-05T00:00:00.000000",
         "host_response_time": "No Data",
         "host_response_rate": "nan",
         "host_acceptance_rate": "nan",
         "host_is_superhost": "f",
         "host_listings_count": 1,
         "host_has_profile_pic": "t",
         "host_identity_verified": "t",
         "neighbourhood": "New York, United States",
         "neighbourhood_cleansed": "Upper West Side",
         "neighbourhood_group_cleansed": "Manhattan",
         "latitude": 40.8038,
         "longitude": -73.96751,
         "property_type": "Private room in rental unit",
         "room_type": "Private room",
         "accommodates": 1,
         "bathrooms_text": "1 shared bath",
         "bedrooms": 1,
         "beds": 1,
         "amenities": "[\"Fire extinguisher\", \"Hot water\", \"Carbon monoxide alarm\", \"Smoke alarm\", \"Elevator\", \"Free street…",
         "price": 75,
         "minimum_nights": 2,
         "maximum_nights": 14,
         "has_availability": "t",
         "availability_30": 0,
         "availability_60": 0,
         "availability_90": 0,
         "availability_365": 0,
         "number_of_reviews": 118,
         "number_of_reviews_ltm": 0,
         "number_of_reviews_l30d": 0,
         "review_scores_rating": 4.91,
         "review_scores_accuracy": 4.83,
         "review_scores_cleanliness": 4.82,
         "review_scores_checkin": 4.97,
         "review_scores_communication": 4.95,
         "review_scores_location": 4.94,
         "review_scores_value": 4.92,
         "instant_bookable": "f",
         "calculated_host_listings_count": 1,
         "amenities_str": "\"Fire extinguisher\", \"Hot water\", \"Carbon monoxide alarm\", \"Smoke alarm\", \"Elevator\", \"Free street …",
         "_deepnote_index_column": 5
        },
        {
         "id": 5803,
         "name": "Lovely Room 1 in BEST AREA; Legal Rental, Spotless",
         "description": "Beautiful house, gorgeous garden, large patio, cozy room,  helpful host!    Super safe and quiet in…",
         "neighborhood_overview": "Neighborhood is amazing! Best subways to Manhattan, Williamsburg, Lower East Side (20 mins); *  Exc…",
         "host_since": "2009-03-10T00:00:00.000000",
         "host_response_time": "within a few hours",
         "host_response_rate": 100,
         "host_acceptance_rate": 100,
         "host_is_superhost": "t",
         "host_listings_count": 3,
         "host_has_profile_pic": "t",
         "host_identity_verified": "t",
         "neighbourhood": "Brooklyn, New York, United States",
         "neighbourhood_cleansed": "South Slope",
         "neighbourhood_group_cleansed": "Brooklyn",
         "latitude": 40.66801,
         "longitude": -73.98784,
         "property_type": "Private room in townhouse",
         "room_type": "Private room",
         "accommodates": 2,
         "bathrooms_text": "1.5 baths",
         "bedrooms": 1,
         "beds": 1,
         "amenities": "[\"Free washer \\u2013 In building\", \"Hot water\", \"Body soap\", \"Iron\", \"Pool\", \"Shower gel\", \"Conditi…",
         "price": 110,
         "minimum_nights": 4,
         "maximum_nights": 21,
         "has_availability": "t",
         "availability_30": 19,
         "availability_60": 49,
         "availability_90": 79,
         "availability_365": 354,
         "number_of_reviews": 205,
         "number_of_reviews_ltm": 24,
         "number_of_reviews_l30d": 1,
         "review_scores_rating": 4.7,
         "review_scores_accuracy": 4.7,
         "review_scores_cleanliness": 4.61,
         "review_scores_checkin": 4.79,
         "review_scores_communication": 4.82,
         "review_scores_location": 4.87,
         "review_scores_value": 4.73,
         "instant_bookable": "f",
         "calculated_host_listings_count": 3,
         "amenities_str": "\"Free washer \\u2013 In building\", \"Hot water\", \"Body soap\", \"Iron\", \"Pool\", \"Shower gel\", \"Conditio…",
         "_deepnote_index_column": 6
        },
        {
         "id": 6872,
         "name": "Uptown Sanctuary w/ Private Bath (Month to Month)",
         "description": "A charming month-to-month home away from home located in Historic Harlem, Uptown Sanctuary is ideal…",
         "neighborhood_overview": "This sweet Harlem sanctuary is a 10-20 minute ride from downtown Manhattan, a 20-25 minute ride fro…",
         "host_since": "2009-05-07T00:00:00.000000",
         "host_response_time": "within a day",
         "host_response_rate": 100,
         "host_acceptance_rate": "nan",
         "host_is_superhost": "f",
         "host_listings_count": 0,
         "host_has_profile_pic": "t",
         "host_identity_verified": "t",
         "neighbourhood": "New York, United States",
         "neighbourhood_cleansed": "East Harlem",
         "neighbourhood_group_cleansed": "Manhattan",
         "latitude": 40.80107,
         "longitude": -73.94255,
         "property_type": "Private room in condominium (condo)",
         "room_type": "Private room",
         "accommodates": 1,
         "bathrooms_text": "1 shared bath",
         "bedrooms": 1,
         "beds": 1,
         "amenities": "[\"Fire extinguisher\", \"Hot water\", \"Carbon monoxide alarm\", \"Luggage dropoff allowed\", \"Smoke alarm…",
         "price": 65,
         "minimum_nights": 30,
         "maximum_nights": 180,
         "has_availability": "t",
         "availability_30": 30,
         "availability_60": 60,
         "availability_90": 90,
         "availability_365": 365,
         "number_of_reviews": 0,
         "number_of_reviews_ltm": 0,
         "number_of_reviews_l30d": 0,
         "review_scores_rating": 0,
         "review_scores_accuracy": 0,
         "review_scores_cleanliness": 0,
         "review_scores_checkin": 0,
         "review_scores_communication": 0,
         "review_scores_location": 0,
         "review_scores_value": 0,
         "instant_bookable": "f",
         "calculated_host_listings_count": 2,
         "amenities_str": "\"Fire extinguisher\", \"Hot water\", \"Carbon monoxide alarm\", \"Luggage dropoff allowed\", \"Smoke alarm\"…",
         "_deepnote_index_column": 8
        },
        {
         "id": 6990,
         "name": "UES Beautiful Blue Room",
         "description": "Beautiful peaceful healthy home   The space  Home is fun healthy.  Your Night’s Sleep: 100% cotton …",
         "neighborhood_overview": "Location: Five minutes to Central Park, Museum Mile (Guggenheim Museum, Metropolitan Museum, Whitne…",
         "host_since": "2009-05-12T00:00:00.000000",
         "host_response_time": "within an hour",
         "host_response_rate": 100,
         "host_acceptance_rate": 100,
         "host_is_superhost": "t",
         "host_listings_count": 3,
         "host_has_profile_pic": "t",
         "host_identity_verified": "t",
         "neighbourhood": "New York, United States",
         "neighbourhood_cleansed": "East Harlem",
         "neighbourhood_group_cleansed": "Manhattan",
         "latitude": 40.78778,
         "longitude": -73.94759,
         "property_type": "Private room in rental unit",
         "room_type": "Private room",
         "accommodates": 1,
         "bathrooms_text": "1 shared bath",
         "bedrooms": 1,
         "beds": 1,
         "amenities": "[\"Fire extinguisher\", \"Hot water\", \"Stove\", \"Carbon monoxide alarm\", \"Coffee maker\", \"Smoke alarm\",…",
         "price": 62,
         "minimum_nights": 30,
         "maximum_nights": 700,
         "has_availability": "t",
         "availability_30": 4,
         "availability_60": 6,
         "availability_90": 35,
         "availability_365": 308,
         "number_of_reviews": 235,
         "number_of_reviews_ltm": 2,
         "number_of_reviews_l30d": 1,
         "review_scores_rating": 4.88,
         "review_scores_accuracy": 4.82,
         "review_scores_cleanliness": 4.96,
         "review_scores_checkin": 4.96,
         "review_scores_communication": 4.95,
         "review_scores_location": 4.84,
         "review_scores_value": 4.84,
         "instant_bookable": "t",
         "calculated_host_listings_count": 1,
         "amenities_str": "\"Fire extinguisher\", \"Hot water\", \"Stove\", \"Carbon monoxide alarm\", \"Coffee maker\", \"Smoke alarm\", …",
         "_deepnote_index_column": 9
        },
        {
         "id": 7064,
         "name": "Amazing location! Wburg. Large, bright & tranquil",
         "description": "Large, private loft-like room in a spacious 2-story apt in the heart of Williamsburg, Brooklyn. The…",
         "neighborhood_overview": "- One stop from the East Village, Lower East Side, and an easy ride to other parts of Brooklyn and …",
         "host_since": "2009-05-15T00:00:00.000000",
         "host_response_time": "within a few hours",
         "host_response_rate": 100,
         "host_acceptance_rate": 0,
         "host_is_superhost": "f",
         "host_listings_count": 2,
         "host_has_profile_pic": "t",
         "host_identity_verified": "t",
         "neighbourhood": "Brooklyn, New York, United States",
         "neighbourhood_cleansed": "Williamsburg",
         "neighbourhood_group_cleansed": "Brooklyn",
         "latitude": 40.71248,
         "longitude": -73.95881,
         "property_type": "Private room in loft",
         "room_type": "Private room",
         "accommodates": 1,
         "bathrooms_text": "1 shared bath",
         "bedrooms": 1,
         "beds": 1,
         "amenities": "[\"Iron\", \"Smoke alarm\", \"Air conditioning\", \"Shampoo\", \"Essentials\", \"Hangers\", \"Dedicated workspac…",
         "price": 90,
         "minimum_nights": 27,
         "maximum_nights": 45,
         "has_availability": "t",
         "availability_30": 10,
         "availability_60": 23,
         "availability_90": 29,
         "availability_365": 304,
         "number_of_reviews": 9,
         "number_of_reviews_ltm": 0,
         "number_of_reviews_l30d": 0,
         "review_scores_rating": 4.86,
         "review_scores_accuracy": 5,
         "review_scores_cleanliness": 4.86,
         "review_scores_checkin": 5,
         "review_scores_communication": 5,
         "review_scores_location": 5,
         "review_scores_value": 5,
         "instant_bookable": "f",
         "calculated_host_listings_count": 2,
         "amenities_str": "\"Iron\", \"Smoke alarm\", \"Air conditioning\", \"Shampoo\", \"Essentials\", \"Hangers\", \"Dedicated workspace…",
         "_deepnote_index_column": 10
        },
        {
         "id": 7097,
         "name": "Perfect for Your Parents:  Privacy + Garden",
         "description": "Parents/grandparents coming to town, or are you just here for work or play? You'll love this Victor…",
         "neighborhood_overview": "Residential, village-like atmosphere. Lots of restaurants. They are unfortunately limited to outdoo…",
         "host_since": "2009-05-17T00:00:00.000000",
         "host_response_time": "within an hour",
         "host_response_rate": 100,
         "host_acceptance_rate": 99,
         "host_is_superhost": "t",
         "host_listings_count": 1,
         "host_has_profile_pic": "t",
         "host_identity_verified": "t",
         "neighbourhood": "Brooklyn, New York, United States",
         "neighbourhood_cleansed": "Fort Greene",
         "neighbourhood_group_cleansed": "Brooklyn",
         "latitude": 40.69121,
         "longitude": -73.97277,
         "property_type": "Entire guest suite",
         "room_type": "Entire home/apt",
         "accommodates": 4,
         "bathrooms_text": "1 bath",
         "bedrooms": 1,
         "beds": 2,
         "amenities": "[\"Hot water\", \"Iron\", \"Shower gel\", \"Refrigerator\", \"Private patio or balcony\", \"Single level home\"…",
         "price": 199,
         "minimum_nights": 2,
         "maximum_nights": 1125,
         "has_availability": "t",
         "availability_30": 22,
         "availability_60": 52,
         "availability_90": 78,
         "availability_365": 353,
         "number_of_reviews": 284,
         "number_of_reviews_ltm": 44,
         "number_of_reviews_l30d": 4,
         "review_scores_rating": 4.88,
         "review_scores_accuracy": 4.89,
         "review_scores_cleanliness": 4.9,
         "review_scores_checkin": 4.96,
         "review_scores_communication": 4.92,
         "review_scores_location": 4.93,
         "review_scores_value": 4.79,
         "instant_bookable": "t",
         "calculated_host_listings_count": 2,
         "amenities_str": "\"Hot water\", \"Iron\", \"Shower gel\", \"Refrigerator\", \"Private patio or balcony\", \"Single level home\",…",
         "_deepnote_index_column": 11
        }
       ]
      },
      "text/plain": "             id                                               name  \\\n1          3831  Whole flr w/private bdrm, bath & kitchen(pls r...   \n2          5121                                    BlissArtsSpace!   \n3          5136           Spacious Brooklyn Duplex, Patio + Garden   \n4          5178                   Large Furnished Room Near B'way　   \n5          5203                 Cozy Clean Guest Room - Family Apt   \n...         ...                                                ...   \n38178  54146235      Micro Hostel in The Heart of Chelsea New York   \n38180  54146364   Hermoso apartamento en el centro de williamsburg   \n38181  54148518                   Time Square New York -Share Room   \n38182  54150715  Private PATIO in PRIVATE Room | 5mins to Manha...   \n38184  54161645  Escape to Haven in Manhattan-West 57th Street-...   \n\n                                             description  \\\n1      Enjoy 500 s.f. top floor in 1899 brownstone, w...   \n2       The space  HELLO EVERYONE AND THANKS FOR VISI...   \n3      We welcome you to stay in our lovely 2 br dupl...   \n4      Please don’t expect the luxury here just a bas...   \n5      Our best guests are seeking a safe, clean, spa...   \n...                                                  ...   \n38178  Everything you want to explore is right outsid...   \n38180  Disfruta de la sencillez de este alojamiento t...   \n38181  New York!!! The trendiest city in the world.  ...   \n38182                                            No Data   \n38184  Live your dream in the city that doesn't sleep...   \n\n                                   neighborhood_overview host_since  \\\n1      Just the right mix of urban center and local n... 2008-12-07   \n2                                                No Data 2009-02-03   \n3                                                No Data 2009-02-03   \n4        Theater district, many restaurants around here. 2009-03-03   \n5      Our neighborhood is full of restaurants and ca... 2009-02-05   \n...                                                  ...        ...   \n38178                                            No Data 2017-10-20   \n38180                                            No Data 2018-12-12   \n38181  The center of Manhattan!  There are many uniqu... 2021-12-16   \n38182                                            No Data 2020-03-05   \n38184                                            No Data 2020-07-10   \n\n       host_response_time  host_response_rate  host_acceptance_rate  \\\n1      a few days or more                 0.0                  64.0   \n2          within an hour               100.0                 100.0   \n3                 No Data                 NaN                  25.0   \n4      within a few hours               100.0                 100.0   \n5                 No Data                 NaN                   NaN   \n...                   ...                 ...                   ...   \n38178        within a day               100.0                 100.0   \n38180  within a few hours               100.0                  72.0   \n38181  within a few hours               100.0                 100.0   \n38182             No Data                 NaN                   NaN   \n38184      within an hour                99.0                  94.0   \n\n      host_is_superhost  host_listings_count  ... review_scores_rating  \\\n1                     f                  1.0  ...                 4.45   \n2                     f                  1.0  ...                 4.52   \n3                     f                  1.0  ...                 5.00   \n4                     f                  1.0  ...                 4.22   \n5                     f                  1.0  ...                 4.91   \n...                 ...                  ...  ...                  ...   \n38178                 f                  0.0  ...                 0.00   \n38180                 f                  0.0  ...                 0.00   \n38181                 f                  1.0  ...                 0.00   \n38182                 f                 12.0  ...                 0.00   \n38184                 f                320.0  ...                 0.00   \n\n      review_scores_accuracy review_scores_cleanliness review_scores_checkin  \\\n1                       4.58                      4.49                  4.78   \n2                       4.22                      4.09                  4.91   \n3                       5.00                      5.00                  5.00   \n4                       4.21                      3.73                  4.66   \n5                       4.83                      4.82                  4.97   \n...                      ...                       ...                   ...   \n38178                   0.00                      0.00                  0.00   \n38180                   0.00                      0.00                  0.00   \n38181                   0.00                      0.00                  0.00   \n38182                   0.00                      0.00                  0.00   \n38184                   0.00                      0.00                  0.00   \n\n      review_scores_communication  review_scores_location  \\\n1                            4.80                    4.71   \n2                            4.91                    4.47   \n3                            5.00                    4.50   \n4                            4.42                    4.87   \n5                            4.95                    4.94   \n...                           ...                     ...   \n38178                        0.00                    0.00   \n38180                        0.00                    0.00   \n38181                        0.00                    0.00   \n38182                        0.00                    0.00   \n38184                        0.00                    0.00   \n\n       review_scores_value instant_bookable calculated_host_listings_count  \\\n1                     4.64                f                              1   \n2                     4.52                f                              2   \n3                     5.00                f                              1   \n4                     4.36                f                              1   \n5                     4.92                f                              1   \n...                    ...              ...                            ...   \n38178                 0.00                t                              4   \n38180                 0.00                f                              2   \n38181                 0.00                t                              2   \n38182                 0.00                f                              1   \n38184                 0.00                f                              4   \n\n                                           amenities_str  \n1      \"Hot water\", \"Iron\", \"Children\\u2019s books an...  \n2      \"Heating\", \"Air conditioning\", \"Long term stay...  \n3      \"Cable TV\", \"TV with standard cable\", \"Outdoor...  \n4      \"Hot water\", \"Body soap\", \"Iron\", \"Lock on bed...  \n5      \"Fire extinguisher\", \"Hot water\", \"Carbon mono...  \n...                                                  ...  \n38178  \"Wifi\", \"Building staff\", \"Long term stays all...  \n38180  \"Hot water\", \"Body soap\", \"Iron\", \"Window AC u...  \n38181  \"Hot water\", \"Ceiling fan\", \"Shower gel\", \"Ref...  \n38182  \"Fire extinguisher\", \"Hot water\", \"Carbon mono...  \n38184  \"Cable TV\", \"Fire extinguisher\", \"Hot water\", ...  \n\n[33150 rows x 45 columns]",
      "text/html": "<div>\n<style scoped>\n    .dataframe tbody tr th:only-of-type {\n        vertical-align: middle;\n    }\n\n    .dataframe tbody tr th {\n        vertical-align: top;\n    }\n\n    .dataframe thead th {\n        text-align: right;\n    }\n</style>\n<table border=\"1\" class=\"dataframe\">\n  <thead>\n    <tr style=\"text-align: right;\">\n      <th></th>\n      <th>id</th>\n      <th>name</th>\n      <th>description</th>\n      <th>neighborhood_overview</th>\n      <th>host_since</th>\n      <th>host_response_time</th>\n      <th>host_response_rate</th>\n      <th>host_acceptance_rate</th>\n      <th>host_is_superhost</th>\n      <th>host_listings_count</th>\n      <th>...</th>\n      <th>review_scores_rating</th>\n      <th>review_scores_accuracy</th>\n      <th>review_scores_cleanliness</th>\n      <th>review_scores_checkin</th>\n      <th>review_scores_communication</th>\n      <th>review_scores_location</th>\n      <th>review_scores_value</th>\n      <th>instant_bookable</th>\n      <th>calculated_host_listings_count</th>\n      <th>amenities_str</th>\n    </tr>\n  </thead>\n  <tbody>\n    <tr>\n      <th>1</th>\n      <td>3831</td>\n      <td>Whole flr w/private bdrm, bath &amp; kitchen(pls r...</td>\n      <td>Enjoy 500 s.f. top floor in 1899 brownstone, w...</td>\n      <td>Just the right mix of urban center and local n...</td>\n      <td>2008-12-07</td>\n      <td>a few days or more</td>\n      <td>0.0</td>\n      <td>64.0</td>\n      <td>f</td>\n      <td>1.0</td>\n      <td>...</td>\n      <td>4.45</td>\n      <td>4.58</td>\n      <td>4.49</td>\n      <td>4.78</td>\n      <td>4.80</td>\n      <td>4.71</td>\n      <td>4.64</td>\n      <td>f</td>\n      <td>1</td>\n      <td>\"Hot water\", \"Iron\", \"Children\\u2019s books an...</td>\n    </tr>\n    <tr>\n      <th>2</th>\n      <td>5121</td>\n      <td>BlissArtsSpace!</td>\n      <td>The space  HELLO EVERYONE AND THANKS FOR VISI...</td>\n      <td>No Data</td>\n      <td>2009-02-03</td>\n      <td>within an hour</td>\n      <td>100.0</td>\n      <td>100.0</td>\n      <td>f</td>\n      <td>1.0</td>\n      <td>...</td>\n      <td>4.52</td>\n      <td>4.22</td>\n      <td>4.09</td>\n      <td>4.91</td>\n      <td>4.91</td>\n      <td>4.47</td>\n      <td>4.52</td>\n      <td>f</td>\n      <td>2</td>\n      <td>\"Heating\", \"Air conditioning\", \"Long term stay...</td>\n    </tr>\n    <tr>\n      <th>3</th>\n      <td>5136</td>\n      <td>Spacious Brooklyn Duplex, Patio + Garden</td>\n      <td>We welcome you to stay in our lovely 2 br dupl...</td>\n      <td>No Data</td>\n      <td>2009-02-03</td>\n      <td>No Data</td>\n      <td>NaN</td>\n      <td>25.0</td>\n      <td>f</td>\n      <td>1.0</td>\n      <td>...</td>\n      <td>5.00</td>\n      <td>5.00</td>\n      <td>5.00</td>\n      <td>5.00</td>\n      <td>5.00</td>\n      <td>4.50</td>\n      <td>5.00</td>\n      <td>f</td>\n      <td>1</td>\n      <td>\"Cable TV\", \"TV with standard cable\", \"Outdoor...</td>\n    </tr>\n    <tr>\n      <th>4</th>\n      <td>5178</td>\n      <td>Large Furnished Room Near B'way</td>\n      <td>Please don’t expect the luxury here just a bas...</td>\n      <td>Theater district, many restaurants around here.</td>\n      <td>2009-03-03</td>\n      <td>within a few hours</td>\n      <td>100.0</td>\n      <td>100.0</td>\n      <td>f</td>\n      <td>1.0</td>\n      <td>...</td>\n      <td>4.22</td>\n      <td>4.21</td>\n      <td>3.73</td>\n      <td>4.66</td>\n      <td>4.42</td>\n      <td>4.87</td>\n      <td>4.36</td>\n      <td>f</td>\n      <td>1</td>\n      <td>\"Hot water\", \"Body soap\", \"Iron\", \"Lock on bed...</td>\n    </tr>\n    <tr>\n      <th>5</th>\n      <td>5203</td>\n      <td>Cozy Clean Guest Room - Family Apt</td>\n      <td>Our best guests are seeking a safe, clean, spa...</td>\n      <td>Our neighborhood is full of restaurants and ca...</td>\n      <td>2009-02-05</td>\n      <td>No Data</td>\n      <td>NaN</td>\n      <td>NaN</td>\n      <td>f</td>\n      <td>1.0</td>\n      <td>...</td>\n      <td>4.91</td>\n      <td>4.83</td>\n      <td>4.82</td>\n      <td>4.97</td>\n      <td>4.95</td>\n      <td>4.94</td>\n      <td>4.92</td>\n      <td>f</td>\n      <td>1</td>\n      <td>\"Fire extinguisher\", \"Hot water\", \"Carbon mono...</td>\n    </tr>\n    <tr>\n      <th>...</th>\n      <td>...</td>\n      <td>...</td>\n      <td>...</td>\n      <td>...</td>\n      <td>...</td>\n      <td>...</td>\n      <td>...</td>\n      <td>...</td>\n      <td>...</td>\n      <td>...</td>\n      <td>...</td>\n      <td>...</td>\n      <td>...</td>\n      <td>...</td>\n      <td>...</td>\n      <td>...</td>\n      <td>...</td>\n      <td>...</td>\n      <td>...</td>\n      <td>...</td>\n      <td>...</td>\n    </tr>\n    <tr>\n      <th>38178</th>\n      <td>54146235</td>\n      <td>Micro Hostel in The Heart of Chelsea New York</td>\n      <td>Everything you want to explore is right outsid...</td>\n      <td>No Data</td>\n      <td>2017-10-20</td>\n      <td>within a day</td>\n      <td>100.0</td>\n      <td>100.0</td>\n      <td>f</td>\n      <td>0.0</td>\n      <td>...</td>\n      <td>0.00</td>\n      <td>0.00</td>\n      <td>0.00</td>\n      <td>0.00</td>\n      <td>0.00</td>\n      <td>0.00</td>\n      <td>0.00</td>\n      <td>t</td>\n      <td>4</td>\n      <td>\"Wifi\", \"Building staff\", \"Long term stays all...</td>\n    </tr>\n    <tr>\n      <th>38180</th>\n      <td>54146364</td>\n      <td>Hermoso apartamento en el centro de williamsburg</td>\n      <td>Disfruta de la sencillez de este alojamiento t...</td>\n      <td>No Data</td>\n      <td>2018-12-12</td>\n      <td>within a few hours</td>\n      <td>100.0</td>\n      <td>72.0</td>\n      <td>f</td>\n      <td>0.0</td>\n      <td>...</td>\n      <td>0.00</td>\n      <td>0.00</td>\n      <td>0.00</td>\n      <td>0.00</td>\n      <td>0.00</td>\n      <td>0.00</td>\n      <td>0.00</td>\n      <td>f</td>\n      <td>2</td>\n      <td>\"Hot water\", \"Body soap\", \"Iron\", \"Window AC u...</td>\n    </tr>\n    <tr>\n      <th>38181</th>\n      <td>54148518</td>\n      <td>Time Square New York -Share Room</td>\n      <td>New York!!! The trendiest city in the world.  ...</td>\n      <td>The center of Manhattan!  There are many uniqu...</td>\n      <td>2021-12-16</td>\n      <td>within a few hours</td>\n      <td>100.0</td>\n      <td>100.0</td>\n      <td>f</td>\n      <td>1.0</td>\n      <td>...</td>\n      <td>0.00</td>\n      <td>0.00</td>\n      <td>0.00</td>\n      <td>0.00</td>\n      <td>0.00</td>\n      <td>0.00</td>\n      <td>0.00</td>\n      <td>t</td>\n      <td>2</td>\n      <td>\"Hot water\", \"Ceiling fan\", \"Shower gel\", \"Ref...</td>\n    </tr>\n    <tr>\n      <th>38182</th>\n      <td>54150715</td>\n      <td>Private PATIO in PRIVATE Room | 5mins to Manha...</td>\n      <td>No Data</td>\n      <td>No Data</td>\n      <td>2020-03-05</td>\n      <td>No Data</td>\n      <td>NaN</td>\n      <td>NaN</td>\n      <td>f</td>\n      <td>12.0</td>\n      <td>...</td>\n      <td>0.00</td>\n      <td>0.00</td>\n      <td>0.00</td>\n      <td>0.00</td>\n      <td>0.00</td>\n      <td>0.00</td>\n      <td>0.00</td>\n      <td>f</td>\n      <td>1</td>\n      <td>\"Fire extinguisher\", \"Hot water\", \"Carbon mono...</td>\n    </tr>\n    <tr>\n      <th>38184</th>\n      <td>54161645</td>\n      <td>Escape to Haven in Manhattan-West 57th Street-...</td>\n      <td>Live your dream in the city that doesn't sleep...</td>\n      <td>No Data</td>\n      <td>2020-07-10</td>\n      <td>within an hour</td>\n      <td>99.0</td>\n      <td>94.0</td>\n      <td>f</td>\n      <td>320.0</td>\n      <td>...</td>\n      <td>0.00</td>\n      <td>0.00</td>\n      <td>0.00</td>\n      <td>0.00</td>\n      <td>0.00</td>\n      <td>0.00</td>\n      <td>0.00</td>\n      <td>f</td>\n      <td>4</td>\n      <td>\"Cable TV\", \"Fire extinguisher\", \"Hot water\", ...</td>\n    </tr>\n  </tbody>\n</table>\n<p>33150 rows × 45 columns</p>\n</div>"
     },
     "metadata": {}
    }
   ]
  },
  {
   "cell_type": "code",
   "metadata": {
    "cell_id": "2488d097-4e50-4d92-ba57-1bc24b379cf6",
    "tags": [],
    "deepnote_app_coordinates": {
     "x": 0,
     "y": 0,
     "w": 12,
     "h": 5
    },
    "deepnote_to_be_reexecuted": false,
    "source_hash": "ca556b5e",
    "execution_start": 1647320810959,
    "execution_millis": 150,
    "deepnote_cell_type": "code",
    "deepnote_cell_height": 118,
    "deepnote_output_heights": [
     21
    ]
   },
   "source": "listings.shape",
   "execution_count": null,
   "outputs": [
    {
     "output_type": "execute_result",
     "execution_count": 32,
     "data": {
      "text/plain": "(33150, 45)"
     },
     "metadata": {}
    }
   ]
  },
  {
   "cell_type": "markdown",
   "source": "<a style='text-decoration:none;line-height:16px;display:flex;color:#5B5B62;padding:10px;justify-content:end;' href='https://deepnote.com?utm_source=created-in-deepnote-cell&projectId=2a92d0af-cecf-4cde-96f5-c3db3a7f88f1' target=\"_blank\">\n<img alt='Created in deepnote.com' style='display:inline;max-height:16px;margin:0px;margin-right:7.5px;' src='data:image/svg+xml;base64,PD94bWwgdmVyc2lvbj0iMS4wIiBlbmNvZGluZz0iVVRGLTgiPz4KPHN2ZyB3aWR0aD0iODBweCIgaGVpZ2h0PSI4MHB4IiB2aWV3Qm94PSIwIDAgODAgODAiIHZlcnNpb249IjEuMSIgeG1sbnM9Imh0dHA6Ly93d3cudzMub3JnLzIwMDAvc3ZnIiB4bWxuczp4bGluaz0iaHR0cDovL3d3dy53My5vcmcvMTk5OS94bGluayI+CiAgICA8IS0tIEdlbmVyYXRvcjogU2tldGNoIDU0LjEgKDc2NDkwKSAtIGh0dHBzOi8vc2tldGNoYXBwLmNvbSAtLT4KICAgIDx0aXRsZT5Hcm91cCAzPC90aXRsZT4KICAgIDxkZXNjPkNyZWF0ZWQgd2l0aCBTa2V0Y2guPC9kZXNjPgogICAgPGcgaWQ9IkxhbmRpbmciIHN0cm9rZT0ibm9uZSIgc3Ryb2tlLXdpZHRoPSIxIiBmaWxsPSJub25lIiBmaWxsLXJ1bGU9ImV2ZW5vZGQiPgogICAgICAgIDxnIGlkPSJBcnRib2FyZCIgdHJhbnNmb3JtPSJ0cmFuc2xhdGUoLTEyMzUuMDAwMDAwLCAtNzkuMDAwMDAwKSI+CiAgICAgICAgICAgIDxnIGlkPSJHcm91cC0zIiB0cmFuc2Zvcm09InRyYW5zbGF0ZSgxMjM1LjAwMDAwMCwgNzkuMDAwMDAwKSI+CiAgICAgICAgICAgICAgICA8cG9seWdvbiBpZD0iUGF0aC0yMCIgZmlsbD0iIzAyNjVCNCIgcG9pbnRzPSIyLjM3NjIzNzYyIDgwIDM4LjA0NzY2NjcgODAgNTcuODIxNzgyMiA3My44MDU3NTkyIDU3LjgyMTc4MjIgMzIuNzU5MjczOSAzOS4xNDAyMjc4IDMxLjY4MzE2ODMiPjwvcG9seWdvbj4KICAgICAgICAgICAgICAgIDxwYXRoIGQ9Ik0zNS4wMDc3MTgsODAgQzQyLjkwNjIwMDcsNzYuNDU0OTM1OCA0Ny41NjQ5MTY3LDcxLjU0MjI2NzEgNDguOTgzODY2LDY1LjI2MTk5MzkgQzUxLjExMjI4OTksNTUuODQxNTg0MiA0MS42NzcxNzk1LDQ5LjIxMjIyODQgMjUuNjIzOTg0Niw0OS4yMTIyMjg0IEMyNS40ODQ5Mjg5LDQ5LjEyNjg0NDggMjkuODI2MTI5Niw0My4yODM4MjQ4IDM4LjY0NzU4NjksMzEuNjgzMTY4MyBMNzIuODcxMjg3MSwzMi41NTQ0MjUgTDY1LjI4MDk3Myw2Ny42NzYzNDIxIEw1MS4xMTIyODk5LDc3LjM3NjE0NCBMMzUuMDA3NzE4LDgwIFoiIGlkPSJQYXRoLTIyIiBmaWxsPSIjMDAyODY4Ij48L3BhdGg+CiAgICAgICAgICAgICAgICA8cGF0aCBkPSJNMCwzNy43MzA0NDA1IEwyNy4xMTQ1MzcsMC4yNTcxMTE0MzYgQzYyLjM3MTUxMjMsLTEuOTkwNzE3MDEgODAsMTAuNTAwMzkyNyA4MCwzNy43MzA0NDA1IEM4MCw2NC45NjA0ODgyIDY0Ljc3NjUwMzgsNzkuMDUwMzQxNCAzNC4zMjk1MTEzLDgwIEM0Ny4wNTUzNDg5LDc3LjU2NzA4MDggNTMuNDE4MjY3Nyw3MC4zMTM2MTAzIDUzLjQxODI2NzcsNTguMjM5NTg4NSBDNTMuNDE4MjY3Nyw0MC4xMjg1NTU3IDM2LjMwMzk1NDQsMzcuNzMwNDQwNSAyNS4yMjc0MTcsMzcuNzMwNDQwNSBDMTcuODQzMDU4NiwzNy43MzA0NDA1IDkuNDMzOTE5NjYsMzcuNzMwNDQwNSAwLDM3LjczMDQ0MDUgWiIgaWQ9IlBhdGgtMTkiIGZpbGw9IiMzNzkzRUYiPjwvcGF0aD4KICAgICAgICAgICAgPC9nPgogICAgICAgIDwvZz4KICAgIDwvZz4KPC9zdmc+' > </img>\nCreated in <span style='font-weight:600;margin-left:4px;'>Deepnote</span></a>",
   "metadata": {
    "tags": [],
    "created_in_deepnote_cell": true,
    "deepnote_cell_type": "markdown"
   }
  }
 ],
 "nbformat": 4,
 "nbformat_minor": 5,
 "metadata": {
  "kernelspec": {
   "display_name": "Python 3 (ipykernel)",
   "language": "python",
   "name": "python3"
  },
  "language_info": {
   "codemirror_mode": {
    "name": "ipython",
    "version": 3
   },
   "file_extension": ".py",
   "mimetype": "text/x-python",
   "name": "python",
   "nbconvert_exporter": "python",
   "pygments_lexer": "ipython3",
   "version": "3.9.7"
  },
  "deepnote_notebook_id": "8e33fad4-1139-4764-b38a-f96a7afb28c6",
  "deepnote": {
   "is_reactive": false
  },
  "deepnote_execution_queue": [],
  "deepnote_app_layout": "article"
 }
}